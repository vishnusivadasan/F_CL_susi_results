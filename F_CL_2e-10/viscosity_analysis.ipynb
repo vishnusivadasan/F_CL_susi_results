{
 "cells": [
  {
   "cell_type": "code",
   "execution_count": 19,
   "metadata": {
    "collapsed": false
   },
   "outputs": [
    {
     "data": {
      "text/html": [
       "<script>\n",
       "code_show=false; \n",
       "function code_toggle() {\n",
       " if (code_show){\n",
       " $('div.input').show();\n",
       " } else {\n",
       " $('div.input').hide();\n",
       " }\n",
       " code_show = !code_show\n",
       "} \n",
       "$( document ).ready(code_toggle);\n",
       "</script>\n",
       "The raw code for this IPython notebook is by default hidden for easier reading.\n",
       "To toggle on/off the raw code, click <a href=\"javascript:code_toggle()\">here</a>."
      ],
      "text/plain": [
       "<IPython.core.display.HTML object>"
      ]
     },
     "execution_count": 19,
     "metadata": {},
     "output_type": "execute_result"
    }
   ],
   "source": [
    "from IPython.display import HTML\n",
    "\n",
    "HTML('''<script>\n",
    "code_show=false; \n",
    "function code_toggle() {\n",
    " if (code_show){\n",
    " $('div.input').show();\n",
    " } else {\n",
    " $('div.input').hide();\n",
    " }\n",
    " code_show = !code_show\n",
    "} \n",
    "$( document ).ready(code_toggle);\n",
    "</script>\n",
    "The raw code for this IPython notebook is by default hidden for easier reading.\n",
    "To toggle on/off the raw code, click <a href=\"javascript:code_toggle()\">here</a>.''')"
   ]
  },
  {
   "cell_type": "code",
   "execution_count": 20,
   "metadata": {
    "collapsed": false
   },
   "outputs": [],
   "source": [
    "import os\n",
    "import sys\n",
    "import numpy as np\n",
    "import pandas as pd\n",
    "import subprocess\n",
    "import matplotlib as mpl\n",
    "mpl.use('Agg')\n",
    "import matplotlib.pyplot as plt\n",
    "from matplotlib.legend_handler import HandlerLine2D\n",
    "import itertools\n",
    "from susipop import filter\n",
    "from susipop import reader\n",
    "from IPython.html.widgets import FloatProgress\n",
    "from IPython.display import display\n",
    "from ipywidgets import interactive\n",
    "import ipywidgets as widgets\n",
    "import scipy.stats as ss\n",
    "\n",
    "%matplotlib notebook\n",
    "\n",
    "import plotly\n",
    "import susipop as sp\n",
    "import pylab\n",
    "\n",
    "import warnings\n",
    "warnings.filterwarnings('ignore')"
   ]
  },
  {
   "cell_type": "code",
   "execution_count": 21,
   "metadata": {
    "collapsed": true
   },
   "outputs": [],
   "source": [
    "def get_folder_list():\n",
    "    f = next(os.walk('.'))[1]\n",
    "    return f\n",
    "def sort_data(x,y):\n",
    "    lists = sorted(itertools.izip(*[x, y]))\n",
    "    new_x, new_y = list(itertools.izip(*lists))\n",
    "    return new_x, new_y\n"
   ]
  },
  {
   "cell_type": "code",
   "execution_count": 22,
   "metadata": {
    "collapsed": true
   },
   "outputs": [],
   "source": [
    "# Comparison of time series data of viscosity"
   ]
  },
  {
   "cell_type": "code",
   "execution_count": 23,
   "metadata": {
    "collapsed": false
   },
   "outputs": [],
   "source": [
    "def plot_timeseries(phival,ydvals):\n",
    "    plt.style.use('seaborn-deep')\n",
    "    l = []\n",
    "    phival = \"phi\"+str(phival)\n",
    "    for f in get_folder_list():\n",
    "        try:\n",
    "            if f.split(\"_\")[1] == phival:\n",
    "                l.append(f)\n",
    "        except:\n",
    "            continue\n",
    "    nufiles = [f+\"/result/nu_t.dat\" for f in l]\n",
    "    plt.figure(figsize=[12,5])\n",
    "\n",
    "    minshear = 100000\n",
    "    for f in np.sort(nufiles):\n",
    "        try:\n",
    "            db = pd.read_csv(f)\n",
    "            nu = db[db.columns[2]]\n",
    "            nu_rel = db[db.columns[4]]\n",
    "            t = db[db.columns[1]]\n",
    "            shearrate = float(f.split(\"_\")[2].split(\"/\")[0].split(\"yd\")[1])\n",
    "            if shearrate in ydvals: \n",
    "                shear = t*shearrate\n",
    "                if minshear > shear.max(): minshear = shear.max()\n",
    "                plt.plot(shear,nu_rel,label=str(shearrate))\n",
    "        except:\n",
    "            continue\n",
    "    plt.legend(loc=\"best\")\n",
    "    plt.title(f.split(\"/\")[0].split(\"yd\")[0])\n",
    "    plt.yscale(\"log\")\n",
    "    plt.xlabel(\"strain\")\n",
    "    plt.ylabel(\"Relative viscosity\")\n",
    "\n",
    "#     plt.xlim([0,minshear])\n",
    "    name = \"comparison_viscosity_\" + str(phival)+ '_'.join([str(i) for i in ydvals])\n",
    "#     plt.savefig(name)\n",
    "\n",
    "plot_timeseries_widget = interactive(plot_timeseries, \\\n",
    "                phival = widgets.ToggleButtons(options=[40,45,50,54,55,56,58],value=56,disabled=False), \\\n",
    "                ydvals= widgets.SelectMultiple(options=[1,10,11,11.5,12,12.5,13,14,15,16,18,20,30,50,70,100,200,300,1000]),\\\n",
    "                __manual=False)\n",
    "\n",
    "# display(plot_timeseries_widget)"
   ]
  },
  {
   "cell_type": "code",
   "execution_count": 24,
   "metadata": {
    "collapsed": true
   },
   "outputs": [],
   "source": [
    "# Plot time series with viscosity histogram"
   ]
  },
  {
   "cell_type": "code",
   "execution_count": 25,
   "metadata": {
    "collapsed": false
   },
   "outputs": [],
   "source": [
    "from matplotlib import gridspec\n",
    "def compare_with_hist(phival,shearrate,bins = \"fd\",ylim=[0,5]):\n",
    "    f = \"rhor1_phi\"+str(phival)+\"_yd\"+str(float(shearrate))+\"/\"\n",
    "    if os.path.exists(f+\"/result/nu_t.dat\"):\n",
    "        fig = plt.figure(figsize=(12, 6)) \n",
    "        gs = gridspec.GridSpec(1, 2, width_ratios=[3, 1]) \n",
    "        ax0 = plt.subplot(gs[0])\n",
    "\n",
    "        minshear = 100000\n",
    "\n",
    "        db = pd.read_csv(f+'/result/nu_t.dat')\n",
    "        nu = db[db.columns[2]]\n",
    "        nu_rel = db[db.columns[4]]\n",
    "        t = db[db.columns[1]]\n",
    "        shearrate = float(f.split(\"_\")[2].split(\"/\")[0].split(\"yd\")[1])\n",
    "\n",
    "        shear = t*shearrate\n",
    "        if shear.max() > 2:\n",
    "            n = int(len(t)/float(shear.max()))\n",
    "        else:\n",
    "            n = -100\n",
    "        shear = shear[n:]\n",
    "        nu_rel = nu_rel[n:]\n",
    "        if minshear > shear.max(): minshear = shear.max()\n",
    "        ax0.plot(shear,np.log10(nu_rel),label=str(shearrate))\n",
    "\n",
    "\n",
    "        plt.legend(loc=\"best\")\n",
    "        plt.title(f)\n",
    "        plt.ylim(ylim)\n",
    "        plt.xlabel(\"strain\")\n",
    "        plt.ylabel(\"log10 Relative viscosity\")\n",
    "\n",
    "        ax1 = plt.subplot(gs[1])\n",
    "        ax1.hist(np.log10(nu_rel),bins,orientation=\"horizontal\")    \n",
    "        plt.tight_layout()\n",
    "        plt.ylim(ylim)\n",
    "    #     plt.xlim([0,minshear])\n",
    "        name = \"comparison_viscosity_\" + f.split('/')[0][:-2]\n",
    "    else:\n",
    "        print \"enter valid phi and shearrate values\"\n",
    "\n",
    "\n",
    "files = get_folder_list()\n",
    "compare_with_hist_widget = interactive(compare_with_hist, \\\n",
    "                phival = widgets.ToggleButtons(options=[40,45,50,54,55,56,58],value=56,disabled=False), \\\n",
    "                shearrate= widgets.ToggleButtons(options=[1,10,11,11.5,12,12.5,13,14,15,16,18,20,30,50,70,100,200,300,1000],value = 12),\\\n",
    "                ylim = widgets.FloatRangeSlider(min = 0,max = 20, value = [0,5]),\\\n",
    "                bins=(10,100), __manual=False)\n",
    "# compare(54,[20, 30, 50])\n",
    "# compare_with_hist(phival=56,shearrate=12,bins=100,ylim=[1,5])\n",
    "# compare_with_hist('rhor1_phi56_yd14.0/',bins=100,ylim=[1,5])\n",
    "\n",
    "# display(compare_with_hist_widget)"
   ]
  },
  {
   "cell_type": "code",
   "execution_count": 26,
   "metadata": {
    "collapsed": true
   },
   "outputs": [],
   "source": [
    "# Plot Viscosity Histograms"
   ]
  },
  {
   "cell_type": "code",
   "execution_count": 27,
   "metadata": {
    "collapsed": false
   },
   "outputs": [],
   "source": [
    "def plot_histogram_time_series(phival,shearrate,bins):\n",
    "    f = \"rhor1_phi\"+str(phival)+\"_yd\"+str(float(shearrate))+\"/result/nu_t.dat\"\n",
    "    if os.path.exists(f):\n",
    "        db =pd.read_csv(f)\n",
    "        nu = db[db.columns[2]]\n",
    "        nu_rel = db[db.columns[4]]\n",
    "        t = db[db.columns[1]]\n",
    "        shearrate = float(f.split(\"_\")[2].split(\"/\")[0].split(\"yd\")[1])\n",
    "        shear = t*shearrate\n",
    "        if shear.max() > 2:\n",
    "            n = int(len(t)/float(shear.max()))\n",
    "        else:\n",
    "            n = -50\n",
    "        print \"data from snapshot \",n, \"to \" ,len(t)\n",
    "        nu_rel=nu_rel[n:]\n",
    "        nu_rel = np.log10(nu_rel)\n",
    "        plt.figure()\n",
    "        plt.hist(nu_rel, bins)\n",
    "        plt.xlim([0,5])\n",
    "        plt.xlabel(\"log10 relative viscosity\")\n",
    "    else:\n",
    "        print \"enter valid phi and shearrate values\"\n",
    "    \n",
    "\n",
    "plot_histogram_time_series_widget = interactive(plot_histogram_time_series, \\\n",
    "                phival = widgets.ToggleButtons(options=[40,45,50,54,55,56,58],value=56,disabled=False), \\\n",
    "                shearrate= widgets.ToggleButtons(options=[1,10,11,11.5,12,12.5,13,14,15,16,18,20,30,50,70,100,200,300,1000],value = 12),\\\n",
    "                bins=(10,100,5), __manual=False)\n",
    "\n",
    "# display(plot_histogram_time_series_widget)"
   ]
  },
  {
   "cell_type": "code",
   "execution_count": 28,
   "metadata": {
    "collapsed": true
   },
   "outputs": [],
   "source": [
    "# Compare Viscosity time series histograms"
   ]
  },
  {
   "cell_type": "code",
   "execution_count": 29,
   "metadata": {
    "collapsed": false,
    "scrolled": false
   },
   "outputs": [],
   "source": [
    "def plot_hist(phival, ydvals,bin_num,xscale,yscale):\n",
    "    plt.figure(figsize=[13,6*(len(ydvals)/2+len(ydvals)%2)])\n",
    "    plt.title(\"phival = \"+str(phival))\n",
    "    j = len(ydvals)\n",
    "    for i,shearrate in enumerate(ydvals):\n",
    "#         plt.figure(figsize=[10,10]) # uncomment to plot each plot separately, not as subplots\n",
    "        try:\n",
    "            plt.subplot(int(j/2.0)+1,2,i+1)\n",
    "            exp = reader.DataSet(\"rhor1_phi\"+str(phival)+\"_yd\"+str(float(shearrate)))\n",
    "            exp.load_state(exp.tlist[-1])\n",
    "\n",
    "            max_strain = float(exp.t)*exp.shearrate*exp.dt\n",
    "            print max_strain\n",
    "            n = len(exp.tlist[1:])\n",
    "            if max_strain >= 1:\n",
    "                n_last_strain = int(float(n)/max_strain)\n",
    "                \n",
    "            else:\n",
    "                n_last_strain = -30\n",
    "\n",
    "#             n_last_strain = 50\n",
    "            f = \"rhor1_phi\"+str(phival)+\"_yd\"+str(float(shearrate))+\"/result/nu_t.dat\"\n",
    "            db = pd.read_csv(f)\n",
    "            nu = db[db.columns[2]][n_last_strain:]\n",
    "            nu_rel = db[db.columns[4]][n_last_strain:]\n",
    "            \n",
    "            #==============================================\n",
    "#             nu_rel = nu_rel/max(nu_rel) # normalize everything\n",
    "            #==============================================\n",
    "\n",
    "            hist, bin_edges = np.histogram(np.log10(nu_rel),bin_num, density=False)\n",
    "\n",
    "#             hist = ss.relfreq(nu_rel,numbins=bin_num)\n",
    "#             hist = hist.frequency*100.0\n",
    "            hist = hist/float(len(nu))*100\n",
    "            bin_centers = (bin_edges[:-1] + bin_edges[1:]) / 2.0\n",
    "            plt.step(bin_centers,hist,label=\"yd=\"+str(shearrate))\n",
    "            \"\"\"\n",
    "            x = []\n",
    "            for i in range(len(bin_edges)-1):\n",
    "                x.append((bin_edges[i]+bin_edges[i+1])/2.0)\n",
    "            x = np.log10(x)\n",
    "            poly_fit_hist = np.poly1d(np.polyfit(x, hist, 30))\n",
    "            \n",
    "            plt.plot(x,hist,'-g',label=\"yd=\"+str(shearrate)+\" histogram\")\n",
    "            plt.plot(x,poly_fit_hist(x),'r',label=\"yd=\"+str(shearrate)+\" polyfit\")\n",
    "            plt.hist(np.log10(nu_rel), bin_num,alpha=0.1,label=\"yd=\"+str(shearrate))\n",
    "            \"\"\"\n",
    "            plt.ylim(yscale)\n",
    "            plt.xlim(xscale)\n",
    "        except Exception as e:\n",
    "            print e\n",
    "            continue\n",
    "        \n",
    "#         plt.xlim([0,6000])\n",
    "        plt.title(\"$\\phi$ = \"+str(phival))\n",
    "#         plt.xlabel(\" relative viscosity\")\n",
    "        plt.xlabel(\"log10 relative viscosity\")\n",
    "        plt.ylabel(\"percentage of datapoints in time series\\nwith corresponding viscosity\")\n",
    "#         plt.xscale(\"log\")\n",
    "#         plt.yscale(\"log\")\n",
    "        plt.legend()\n",
    "\n",
    "plot_hist_widget = interactive(plot_hist, \\\n",
    "                phival = widgets.ToggleButtons(options=[40,45,50,54,55,56,58],value=56,disabled=False), \\\n",
    "                ydvals= widgets.SelectMultiple(options=[1,10,11,11.5,12,12.5,13,14,15,16,18,20,30,50,70,100,200,300,1000]),\\\n",
    "                xscale = widgets.IntRangeSlider(min = 0,max = 7, value = [0,5]),\n",
    "                yscale = widgets.IntRangeSlider(min = 0,max = 50, value = [0,20]),\n",
    "                bin_num = widgets.IntSlider(min =10,max = 100,step =5,value = 60),\n",
    "                __manual=True)\n",
    "\n",
    "# display(plot_hist_widget)"
   ]
  },
  {
   "cell_type": "code",
   "execution_count": 30,
   "metadata": {
    "collapsed": true
   },
   "outputs": [],
   "source": [
    "# Fourier Analysis"
   ]
  },
  {
   "cell_type": "code",
   "execution_count": 31,
   "metadata": {
    "collapsed": true
   },
   "outputs": [],
   "source": [
    "## Unverified Method"
   ]
  },
  {
   "cell_type": "code",
   "execution_count": 32,
   "metadata": {
    "collapsed": false
   },
   "outputs": [],
   "source": [
    "import numpy as np\n",
    "\n",
    "try:\n",
    "    # use scipy if available: it's faster\n",
    "    from scipy.fftpack import fft, ifft, fftshift, ifftshift\n",
    "except:\n",
    "    from numpy.fft import fft, ifft, fftshift, ifftshift\n",
    "\n",
    "\n",
    "def FT_continuous(t, h, axis=-1, method=1):\n",
    "    \"\"\"Approximate a continuous 1D Fourier Transform with sampled data.\n",
    "    This function uses the Fast Fourier Transform to approximate\n",
    "    the continuous fourier transform of a sampled function, using\n",
    "    the convention\n",
    "    .. math::\n",
    "       H(f) = \\int h(t) exp(-2 \\pi i f t) dt\n",
    "    It returns f and H, which approximate H(f).\n",
    "    Parameters\n",
    "    ----------\n",
    "    t : array_like\n",
    "        regularly sampled array of times\n",
    "        t is assumed to be regularly spaced, i.e.\n",
    "        t = t0 + Dt * np.arange(N)\n",
    "    h : array_like\n",
    "        real or complex signal at each time\n",
    "    axis : int\n",
    "        axis along which to perform fourier transform.\n",
    "        This axis must be the same length as t.\n",
    "    Returns\n",
    "    -------\n",
    "    f : ndarray\n",
    "        frequencies of result.  Units are the same as 1/t\n",
    "    H : ndarray\n",
    "        Fourier coefficients at each frequency.\n",
    "    \"\"\"\n",
    "    assert t.ndim == 1\n",
    "    assert h.shape[axis] == t.shape[0]\n",
    "    N = len(t)\n",
    "#     if N % 2 != 0:\n",
    "#         raise ValueError(\"number of samples must be even\")\n",
    "\n",
    "    Dt = t[1] - t[0]\n",
    "    Df = 1. / (N * Dt)\n",
    "    t0 = t[0]\n",
    "\n",
    "    f = Df * (np.arange(N) - N / 2)\n",
    "\n",
    "    shape = np.ones(h.ndim, dtype=int)\n",
    "    shape[axis] = N\n",
    "\n",
    "    phase = np.ones(N)\n",
    "    phase[1::2] = -1\n",
    "    phase = phase.reshape(shape)\n",
    "\n",
    "    if method == 1:\n",
    "        H = Dt * fft(h * phase, axis=axis)\n",
    "    else:\n",
    "        H = Dt * fftshift(fft(h, axis=axis), axes=axis)\n",
    "\n",
    "    H *= phase\n",
    "    H *= np.exp(-2j * np.pi * t0 * f.reshape(shape))\n",
    "    H *= np.exp(-1j * np.pi * N / 2)\n",
    "\n",
    "    return f, H\n",
    "\n",
    "def FT_continuous_(phival,ydval,real, imag):\n",
    "    path = 'rhor1_phi'+str(phival)+'_yd'+str(float(ydval))+'/result/nu_t.dat'\n",
    "    if os.path.exists(path):\n",
    "        data = pd.read_csv(path)\n",
    "        x, y = FT_continuous(data[data.columns[1]],data[data.columns[2]],method=1)\n",
    "        plt.figure()\n",
    "        plt.subplot(211)\n",
    "        plt.xlabel(\"freq\")\n",
    "        plt.ylabel(\"Amplitude\")\n",
    "        if real : plt.plot(x.real,y)\n",
    "        if imag : plt.plot(x.imag,y)\n",
    "        plt.subplot(212)\n",
    "        plt.xlabel(\"Shear\")\n",
    "        plt.ylabel(\"Viscosity Pa.s\")\n",
    "#         plt.yscale(\"log\")\n",
    "        plt.plot(data[data.columns[1]]*ydval,data[data.columns[2]])\n",
    "    else:\n",
    "        print \"no such file\"\n",
    "\n",
    "FT_continuous_widget = interactive(FT_continuous_, \\\n",
    "            phival = widgets.ToggleButtons(options=[40,45,50,54,55,56,58],value=56,disabled=False), \\\n",
    "            ydval= widgets.ToggleButtons(options=[1,10,11,11.5,12,12.5,13,14,15,16,18,20,30,50,70,100,200,300,1000]),\\\n",
    "            real = widgets.Checkbox(value=True), imag = widgets.Checkbox(value = False), \\\n",
    "            __manual=False)\n",
    "\n",
    "# display(FT_continuous_widget)\n"
   ]
  },
  {
   "cell_type": "code",
   "execution_count": 33,
   "metadata": {
    "collapsed": true
   },
   "outputs": [],
   "source": [
    "## Verified method"
   ]
  },
  {
   "cell_type": "code",
   "execution_count": 34,
   "metadata": {
    "collapsed": false,
    "scrolled": false
   },
   "outputs": [],
   "source": [
    "import cmath\n",
    "disp1 = widgets.Textarea(value = \"\")\n",
    "disp2 = widgets.Textarea(value = \"\")\n",
    "def FFT_plot(phival,ydval,real, imag,tot,phase,tr=0):\n",
    "    \n",
    "    path = 'rhor1_phi'+str(phival)+'_yd'+str(float(ydval))+'/result/nu_t.dat'\n",
    "    if os.path.exists(path):\n",
    "        data = pd.read_csv(path)\n",
    "        plt.figure(figsize=[9,9])\n",
    "        \n",
    "#         plt.subplot(411)\n",
    "\n",
    "        \n",
    "        plt.subplot(412)\n",
    "        nu=data[data.columns[2]]\n",
    "        \n",
    "        sp = np.fft.fft(nu)\n",
    "        freq = np.fft.fftfreq(nu.shape[-1])\n",
    "#         _freq = np.fft.fftfreq(nu.shape[-1])\n",
    "#         freq = [1.0/freqval for freqval in _freq]\n",
    "        if real :plt.plot(freq, sp.real)\n",
    "        if imag: plt.plot(freq, sp.imag)\n",
    "        if tot:  plt.plot(freq, abs(sp))\n",
    "      \n",
    "        \n",
    "        plt.ylabel(\"Transform\")\n",
    "        plt.subplot(411)\n",
    "        if phase: \n",
    "            plt.plot(freq, [cmath.phase(i) for i in sp])\n",
    "            print \"sum of phase = \",sum( [cmath.phase(i) for i in sp])\n",
    "        else:\n",
    "            x, y = FT_continuous(data[data.columns[1]],data[data.columns[2]],method=1)\n",
    "            if real: plt.plot(x,y.real)\n",
    "            if imag: plt.plot(x,y.imag)\n",
    "            if tot: plt.plot(x,abs(y))\n",
    "        plt.subplot(413)\n",
    "        plt.xlabel(\"Shear\")\n",
    "        plt.ylabel(\"Viscosity Pa.s\")\n",
    "        plt.yscale(\"log\")\n",
    "        _strain = data[data.columns[1]]*ydval\n",
    "        plt.plot(_strain,data[data.columns[2]])\n",
    "        print \"points per strain =\", np.ceil(len(_strain)/max(_strain))\n",
    "        plt.subplot(414)\n",
    "        disp1.value = str( abs(sp))\n",
    "        disp2.value = str(freq)\n",
    "        if tr != 0: \n",
    "            idx = []\n",
    "            for f in np.sort(freq)[-tr:]:\n",
    "                idx.append(np.where(freq == f)[0][0])\n",
    "            sp = np.delete(sp,idx)\n",
    "        else:\n",
    "            yi = np.fft.ifft(sp)\n",
    "            plt.plot(data[data.columns[1]]*ydval,yi)\n",
    "        plt.yscale(\"log\")\n",
    "        plt.xlabel(\"Shear\")\n",
    "        plt.ylabel(\"Reproduced \\nProfile\")\n",
    "    else:\n",
    "        print \"no such file\"\n",
    "FFT_plot_widget = interactive(FFT_plot, \\\n",
    "            phival = widgets.ToggleButtons(options=[40,45,50,54,55,56,58],value=56,disabled=False), \\\n",
    "            ydval= widgets.ToggleButtons(options=[1,10,11,11.5,12,12.5,13,14,15,16,18,20,30,50,70,100,200,300,1000]),\\\n",
    "            real = widgets.Checkbox(value=False), \\\n",
    "            imag = widgets.Checkbox(value = False), \\\n",
    "            tot= widgets.Checkbox(value = True), \\\n",
    "            phase= widgets.Checkbox(value = True), \\\n",
    "            tr = widgets.IntSlider(min =0, max=1000,value = 0),\\\n",
    "            __manual=False)\n",
    "\n",
    "# display(FFT_plot_widget)\n",
    "# widgets.HBox([disp1,disp2])"
   ]
  },
  {
   "cell_type": "code",
   "execution_count": 35,
   "metadata": {
    "collapsed": false,
    "scrolled": false
   },
   "outputs": [
    {
     "name": "stdout",
     "output_type": "stream",
     "text": [
      "enter valid phi and shearrate values\n"
     ]
    }
   ],
   "source": [
    "Tabs = widgets.Tab()\n",
    "container_list = []\n",
    "tab_items_input = [\n",
    "                  [compare_with_hist_widget,\"Compare viscosity time series with histogram\"], \n",
    "                  [plot_timeseries_widget,\"Compare viscosity time serieses for different shearrates\"],\n",
    "                  [plot_histogram_time_series_widget,\"plot viscosity histogram\"],\n",
    "                  [plot_hist_widget,\"compare viscosity histograms\"],\n",
    "                  [FFT_plot_widget, \"fourier transform of viscosity signal\"],\n",
    "                  [FT_continuous_widget, \"'spectral 'fft transform of viscosity signal(unverified)\"]\n",
    "                    ]\n",
    "tab_items =  [i[0] for i in tab_items_input]\n",
    "tab_name  =  [i[1] for i in tab_items_input]\n",
    "for i, item in enumerate(tab_items_input): \n",
    "    container_list.append(widgets.Box())\n",
    "    container_list[i].children = item[0].children\n",
    "Tabs.children = tab_items\n",
    "for i,name in enumerate(tab_name):\n",
    "    Tabs.set_title(i,name)\n",
    "        \n",
    "display(Tabs)"
   ]
  },
  {
   "cell_type": "code",
   "execution_count": null,
   "metadata": {
    "collapsed": false
   },
   "outputs": [],
   "source": []
  },
  {
   "cell_type": "code",
   "execution_count": null,
   "metadata": {
    "collapsed": true
   },
   "outputs": [],
   "source": []
  }
 ],
 "metadata": {
  "anaconda-cloud": {},
  "kernelspec": {
   "display_name": "Python [default]",
   "language": "python",
   "name": "python2"
  },
  "language_info": {
   "codemirror_mode": {
    "name": "ipython",
    "version": 2
   },
   "file_extension": ".py",
   "mimetype": "text/x-python",
   "name": "python",
   "nbconvert_exporter": "python",
   "pygments_lexer": "ipython2",
   "version": "2.7.13"
  },
  "widgets": {
   "state": {
    "e1c514219d4b4de38009f9044cfea09b": {
     "views": [
      {
       "cell_index": 16
      }
     ]
    }
   },
   "version": "1.2.0"
  }
 },
 "nbformat": 4,
 "nbformat_minor": 2
}
