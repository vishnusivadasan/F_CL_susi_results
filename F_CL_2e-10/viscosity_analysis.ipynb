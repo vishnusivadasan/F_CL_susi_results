{
 "cells": [
  {
   "cell_type": "code",
   "execution_count": 429,
   "metadata": {
    "collapsed": false
   },
   "outputs": [
    {
     "data": {
      "text/html": [
       "<script>\n",
       "code_show=false; \n",
       "function code_toggle() {\n",
       " if (code_show){\n",
       " $('div.input').show();\n",
       " } else {\n",
       " $('div.input').hide();\n",
       " }\n",
       " code_show = !code_show\n",
       "} \n",
       "$( document ).ready(code_toggle);\n",
       "</script>\n",
       "The raw code for this IPython notebook is by default hidden for easier reading.\n",
       "To toggle on/off the raw code, click <a href=\"javascript:code_toggle()\">here</a>."
      ],
      "text/plain": [
       "<IPython.core.display.HTML object>"
      ]
     },
     "execution_count": 429,
     "metadata": {},
     "output_type": "execute_result"
    }
   ],
   "source": [
    "from IPython.display import HTML\n",
    "\n",
    "HTML('''<script>\n",
    "code_show=false; \n",
    "function code_toggle() {\n",
    " if (code_show){\n",
    " $('div.input').show();\n",
    " } else {\n",
    " $('div.input').hide();\n",
    " }\n",
    " code_show = !code_show\n",
    "} \n",
    "$( document ).ready(code_toggle);\n",
    "</script>\n",
    "The raw code for this IPython notebook is by default hidden for easier reading.\n",
    "To toggle on/off the raw code, click <a href=\"javascript:code_toggle()\">here</a>.''')"
   ]
  },
  {
   "cell_type": "code",
   "execution_count": 430,
   "metadata": {
    "collapsed": false
   },
   "outputs": [],
   "source": [
    "import os\n",
    "import sys\n",
    "import numpy as np\n",
    "import pandas as pd\n",
    "import subprocess\n",
    "import matplotlib as mpl\n",
    "mpl.use('Agg')\n",
    "import matplotlib.pyplot as plt\n",
    "from matplotlib.legend_handler import HandlerLine2D\n",
    "import itertools\n",
    "from susipop import filter\n",
    "from susipop import reader\n",
    "from IPython.html.widgets import FloatProgress\n",
    "from IPython.display import display\n",
    "from ipywidgets import interactive\n",
    "import ipywidgets as widgets\n",
    "import scipy.stats as ss\n",
    "\n",
    "%matplotlib notebook\n",
    "\n",
    "import plotly\n",
    "import susipop as sp\n",
    "import pylab\n",
    "\n",
    "import warnings\n",
    "warnings.filterwarnings('ignore')"
   ]
  },
  {
   "cell_type": "code",
   "execution_count": 431,
   "metadata": {
    "collapsed": true
   },
   "outputs": [],
   "source": [
    "def get_folder_list():\n",
    "    f = next(os.walk('.'))[1]\n",
    "    return f\n",
    "def sort_data(x,y):\n",
    "    lists = sorted(itertools.izip(*[x, y]))\n",
    "    new_x, new_y = list(itertools.izip(*lists))\n",
    "    return new_x, new_y\n"
   ]
  },
  {
   "cell_type": "code",
   "execution_count": 432,
   "metadata": {
    "collapsed": true
   },
   "outputs": [],
   "source": [
    "# Comparison of time series data of viscosity"
   ]
  },
  {
   "cell_type": "code",
   "execution_count": 433,
   "metadata": {
    "collapsed": false
   },
   "outputs": [],
   "source": [
    "def plot_timeseries(phival,ydvals):\n",
    "    plt.style.use('seaborn-deep')\n",
    "    l = []\n",
    "    phival = \"phi\"+str(phival)\n",
    "    for f in get_folder_list():\n",
    "        try:\n",
    "            if f.split(\"_\")[1] == phival:\n",
    "                l.append(f)\n",
    "        except:\n",
    "            continue\n",
    "    nufiles = [f+\"/result/nu_t.dat\" for f in l]\n",
    "    plt.figure(figsize=[12,5])\n",
    "\n",
    "    minshear = 100000\n",
    "    for f in np.sort(nufiles):\n",
    "        try:\n",
    "            db = pd.read_csv(f)\n",
    "            nu = db[db.columns[2]]\n",
    "            nu_rel = db[db.columns[4]]\n",
    "            t = db[db.columns[1]]\n",
    "            shearrate = float(f.split(\"_\")[2].split(\"/\")[0].split(\"yd\")[1])\n",
    "            if shearrate in ydvals: \n",
    "                shear = t*shearrate\n",
    "                if minshear > shear.max(): minshear = shear.max()\n",
    "                plt.plot(shear,nu_rel,label=str(shearrate))\n",
    "        except:\n",
    "            continue\n",
    "    plt.legend(loc=\"best\")\n",
    "    plt.title(f.split(\"/\")[0].split(\"yd\")[0])\n",
    "    plt.yscale(\"log\")\n",
    "    plt.xlabel(\"strain\")\n",
    "    plt.ylabel(\"Relative viscosity\")\n",
    "\n",
    "#     plt.xlim([0,minshear])\n",
    "    name = \"comparison_viscosity_\" + str(phival)+ '_'.join([str(i) for i in ydvals])\n",
    "#     plt.savefig(name)\n",
    "\n",
    "plot_timeseries_widget = interactive(plot_timeseries, \\\n",
    "                phival = widgets.ToggleButtons(options=[40,45,50,54,55,56,58],value=56,disabled=False), \\\n",
    "                ydvals= widgets.SelectMultiple(options=[1,10,11,11.5,12,12.5,13,14,15,16,18,20,30,50,70,100,200,300,1000]),\\\n",
    "                __manual=False)\n",
    "\n",
    "# display(plot_timeseries_widget)"
   ]
  },
  {
   "cell_type": "code",
   "execution_count": 434,
   "metadata": {
    "collapsed": true
   },
   "outputs": [],
   "source": [
    "# Plot time series with viscosity histogram"
   ]
  },
  {
   "cell_type": "code",
   "execution_count": 435,
   "metadata": {
    "collapsed": false
   },
   "outputs": [],
   "source": [
    "from matplotlib import gridspec\n",
    "def compare_with_hist(phival,shearrate,bins = \"fd\",ylim=[0,5]):\n",
    "    f = \"rhor1_phi\"+str(phival)+\"_yd\"+str(float(shearrate))+\"/\"\n",
    "    if os.path.exists(f+\"/result/nu_t.dat\"):\n",
    "        fig = plt.figure(figsize=(12, 6)) \n",
    "        gs = gridspec.GridSpec(1, 2, width_ratios=[3, 1]) \n",
    "        ax0 = plt.subplot(gs[0])\n",
    "\n",
    "        minshear = 100000\n",
    "\n",
    "        db = pd.read_csv(f+'/result/nu_t.dat')\n",
    "        nu = db[db.columns[2]]\n",
    "        nu_rel = db[db.columns[4]]\n",
    "        t = db[db.columns[1]]\n",
    "        shearrate = float(f.split(\"_\")[2].split(\"/\")[0].split(\"yd\")[1])\n",
    "\n",
    "        shear = t*shearrate\n",
    "        if shear.max() > 2:\n",
    "            n = int(len(t)/float(shear.max()))\n",
    "        else:\n",
    "            n = -100\n",
    "        shear = shear[n:]\n",
    "        nu_rel = nu_rel[n:]\n",
    "        if minshear > shear.max(): minshear = shear.max()\n",
    "        ax0.plot(shear,np.log10(nu_rel),label=str(shearrate))\n",
    "\n",
    "\n",
    "        plt.legend(loc=\"best\")\n",
    "        plt.title(f)\n",
    "        plt.ylim(ylim)\n",
    "        plt.xlabel(\"strain\")\n",
    "        plt.ylabel(\"log10 Relative viscosity\")\n",
    "\n",
    "        ax1 = plt.subplot(gs[1])\n",
    "        ax1.hist(np.log10(nu_rel),bins,orientation=\"horizontal\")    \n",
    "        plt.tight_layout()\n",
    "        plt.ylim(ylim)\n",
    "    #     plt.xlim([0,minshear])\n",
    "        name = \"comparison_viscosity_\" + f.split('/')[0][:-2]\n",
    "    else:\n",
    "        print \"enter valid phi and shearrate values\"\n",
    "\n",
    "\n",
    "files = get_folder_list()\n",
    "compare_with_hist_widget = interactive(compare_with_hist, \\\n",
    "                phival = widgets.ToggleButtons(options=[40,45,50,54,55,56,58],value=56,disabled=False), \\\n",
    "                shearrate= widgets.ToggleButtons(options=[1,10,11,11.5,12,12.5,13,14,15,16,18,20,30,50,70,100,200,300,1000],value = 12),\\\n",
    "                ylim = widgets.FloatRangeSlider(min = 0,max = 20, value = [0,5]),\\\n",
    "                bins=(10,100), __manual=False)\n",
    "# compare(54,[20, 30, 50])\n",
    "# compare_with_hist(phival=56,shearrate=12,bins=100,ylim=[1,5])\n",
    "# compare_with_hist('rhor1_phi56_yd14.0/',bins=100,ylim=[1,5])\n",
    "\n",
    "# display(compare_with_hist_widget)"
   ]
  },
  {
   "cell_type": "code",
   "execution_count": 436,
   "metadata": {
    "collapsed": true
   },
   "outputs": [],
   "source": [
    "# Plot Viscosity Histograms"
   ]
  },
  {
   "cell_type": "code",
   "execution_count": 437,
   "metadata": {
    "collapsed": false
   },
   "outputs": [],
   "source": [
    "def plot_histogram_time_series(phival,shearrate,bins):\n",
    "    f = \"rhor1_phi\"+str(phival)+\"_yd\"+str(float(shearrate))+\"/result/nu_t.dat\"\n",
    "    if os.path.exists(f):\n",
    "        db =pd.read_csv(f)\n",
    "        nu = db[db.columns[2]]\n",
    "        nu_rel = db[db.columns[4]]\n",
    "        t = db[db.columns[1]]\n",
    "        shearrate = float(f.split(\"_\")[2].split(\"/\")[0].split(\"yd\")[1])\n",
    "        shear = t*shearrate\n",
    "        if shear.max() > 2:\n",
    "            n = int(len(t)/float(shear.max()))\n",
    "        else:\n",
    "            n = -50\n",
    "        print \"data from snapshot \",n, \"to \" ,len(t)\n",
    "        nu_rel=nu_rel[n:]\n",
    "        nu_rel = np.log10(nu_rel)\n",
    "        plt.figure()\n",
    "        plt.hist(nu_rel, bins)\n",
    "        plt.xlim([0,5])\n",
    "        plt.xlabel(\"log10 relative viscosity\")\n",
    "    else:\n",
    "        print \"enter valid phi and shearrate values\"\n",
    "    \n",
    "\n",
    "plot_histogram_time_series_widget = interactive(plot_histogram_time_series, \\\n",
    "                phival = widgets.ToggleButtons(options=[40,45,50,54,55,56,58],value=56,disabled=False), \\\n",
    "                shearrate= widgets.ToggleButtons(options=[1,10,11,11.5,12,12.5,13,14,15,16,18,20,30,50,70,100,200,300,1000],value = 12),\\\n",
    "                bins=(10,100,5), __manual=False)\n",
    "\n",
    "# display(plot_histogram_time_series_widget)"
   ]
  },
  {
   "cell_type": "code",
   "execution_count": 438,
   "metadata": {
    "collapsed": true
   },
   "outputs": [],
   "source": [
    "# Compare Viscosity time series histograms"
   ]
  },
  {
   "cell_type": "code",
   "execution_count": 439,
   "metadata": {
    "collapsed": false,
    "scrolled": false
   },
   "outputs": [],
   "source": [
    "def plot_hist(phival, ydvals,bin_num,xscale,yscale):\n",
    "    plt.figure(figsize=[13,6*(len(ydvals)/2+len(ydvals)%2)])\n",
    "    plt.title(\"phival = \"+str(phival))\n",
    "    j = len(ydvals)\n",
    "    for i,shearrate in enumerate(ydvals):\n",
    "#         plt.figure(figsize=[10,10]) # uncomment to plot each plot separately, not as subplots\n",
    "        try:\n",
    "            plt.subplot(int(j/2.0)+1,2,i+1)\n",
    "            exp = reader.DataSet(\"rhor1_phi\"+str(phival)+\"_yd\"+str(float(shearrate)))\n",
    "            exp.load_state(exp.tlist[-1])\n",
    "\n",
    "            max_strain = float(exp.t)*exp.shearrate*exp.dt\n",
    "            print max_strain\n",
    "            n = len(exp.tlist[1:])\n",
    "            if max_strain >= 1:\n",
    "                n_last_strain = int(float(n)/max_strain)\n",
    "                \n",
    "            else:\n",
    "                n_last_strain = -30\n",
    "\n",
    "#             n_last_strain = 50\n",
    "            f = \"rhor1_phi\"+str(phival)+\"_yd\"+str(float(shearrate))+\"/result/nu_t.dat\"\n",
    "            db = pd.read_csv(f)\n",
    "            nu = db[db.columns[2]][n_last_strain:]\n",
    "            nu_rel = db[db.columns[4]][n_last_strain:]\n",
    "            \n",
    "            #==============================================\n",
    "#             nu_rel = nu_rel/max(nu_rel) # normalize everything\n",
    "            #==============================================\n",
    "\n",
    "            hist, bin_edges = np.histogram(np.log10(nu_rel),bin_num, density=False)\n",
    "\n",
    "#             hist = ss.relfreq(nu_rel,numbins=bin_num)\n",
    "#             hist = hist.frequency*100.0\n",
    "            hist = hist/float(len(nu))*100\n",
    "            bin_centers = (bin_edges[:-1] + bin_edges[1:]) / 2.0\n",
    "            plt.step(bin_centers,hist,label=\"yd=\"+str(shearrate))\n",
    "            \"\"\"\n",
    "            x = []\n",
    "            for i in range(len(bin_edges)-1):\n",
    "                x.append((bin_edges[i]+bin_edges[i+1])/2.0)\n",
    "            x = np.log10(x)\n",
    "            poly_fit_hist = np.poly1d(np.polyfit(x, hist, 30))\n",
    "            \n",
    "            plt.plot(x,hist,'-g',label=\"yd=\"+str(shearrate)+\" histogram\")\n",
    "            plt.plot(x,poly_fit_hist(x),'r',label=\"yd=\"+str(shearrate)+\" polyfit\")\n",
    "            plt.hist(np.log10(nu_rel), bin_num,alpha=0.1,label=\"yd=\"+str(shearrate))\n",
    "            \"\"\"\n",
    "            plt.ylim(yscale)\n",
    "            plt.xlim(xscale)\n",
    "        except Exception as e:\n",
    "            print e\n",
    "            continue\n",
    "        \n",
    "#         plt.xlim([0,6000])\n",
    "        plt.title(\"$\\phi$ = \"+str(phival))\n",
    "#         plt.xlabel(\" relative viscosity\")\n",
    "        plt.xlabel(\"log10 relative viscosity\")\n",
    "        plt.ylabel(\"percentage of datapoints in time series\\nwith corresponding viscosity\")\n",
    "#         plt.xscale(\"log\")\n",
    "#         plt.yscale(\"log\")\n",
    "        plt.legend()\n",
    "\n",
    "plot_hist_widget = interactive(plot_hist, \\\n",
    "                phival = widgets.ToggleButtons(options=[40,45,50,54,55,56,58],value=56,disabled=False), \\\n",
    "                ydvals= widgets.SelectMultiple(options=[1,10,11,11.5,12,12.5,13,14,15,16,18,20,30,50,70,100,200,300,1000]),\\\n",
    "                xscale = widgets.IntRangeSlider(min = 0,max = 7, value = [0,5]),\n",
    "                yscale = widgets.IntRangeSlider(min = 0,max = 50, value = [0,20]),\n",
    "                bin_num = widgets.IntSlider(min =10,max = 100,step =5,value = 60),\n",
    "                __manual=True)\n",
    "\n",
    "# display(plot_hist_widget)"
   ]
  },
  {
   "cell_type": "code",
   "execution_count": 440,
   "metadata": {
    "collapsed": true
   },
   "outputs": [],
   "source": [
    "# Fourier Analysis"
   ]
  },
  {
   "cell_type": "code",
   "execution_count": 441,
   "metadata": {
    "collapsed": true
   },
   "outputs": [],
   "source": [
    "## Unverified Method"
   ]
  },
  {
   "cell_type": "code",
   "execution_count": 442,
   "metadata": {
    "collapsed": false
   },
   "outputs": [],
   "source": [
    "import numpy as np\n",
    "\n",
    "try:\n",
    "    # use scipy if available: it's faster\n",
    "    from scipy.fftpack import fft, ifft, fftshift, ifftshift\n",
    "except:\n",
    "    from numpy.fft import fft, ifft, fftshift, ifftshift\n",
    "\n",
    "\n",
    "def FT_continuous(t, h, axis=-1, method=1):\n",
    "    \"\"\"Approximate a continuous 1D Fourier Transform with sampled data.\n",
    "    This function uses the Fast Fourier Transform to approximate\n",
    "    the continuous fourier transform of a sampled function, using\n",
    "    the convention\n",
    "    .. math::\n",
    "       H(f) = \\int h(t) exp(-2 \\pi i f t) dt\n",
    "    It returns f and H, which approximate H(f).\n",
    "    Parameters\n",
    "    ----------\n",
    "    t : array_like\n",
    "        regularly sampled array of times\n",
    "        t is assumed to be regularly spaced, i.e.\n",
    "        t = t0 + Dt * np.arange(N)\n",
    "    h : array_like\n",
    "        real or complex signal at each time\n",
    "    axis : int\n",
    "        axis along which to perform fourier transform.\n",
    "        This axis must be the same length as t.\n",
    "    Returns\n",
    "    -------\n",
    "    f : ndarray\n",
    "        frequencies of result.  Units are the same as 1/t\n",
    "    H : ndarray\n",
    "        Fourier coefficients at each frequency.\n",
    "    \"\"\"\n",
    "    assert t.ndim == 1\n",
    "    assert h.shape[axis] == t.shape[0]\n",
    "    N = len(t)\n",
    "#     if N % 2 != 0:\n",
    "#         raise ValueError(\"number of samples must be even\")\n",
    "\n",
    "    Dt = t[1] - t[0]\n",
    "    Df = 1. / (N * Dt)\n",
    "    t0 = t[0]\n",
    "\n",
    "    f = Df * (np.arange(N) - N / 2)\n",
    "\n",
    "    shape = np.ones(h.ndim, dtype=int)\n",
    "    shape[axis] = N\n",
    "\n",
    "    phase = np.ones(N)\n",
    "    phase[1::2] = -1\n",
    "    phase = phase.reshape(shape)\n",
    "\n",
    "    if method == 1:\n",
    "        H = Dt * fft(h * phase, axis=axis)\n",
    "    else:\n",
    "        H = Dt * fftshift(fft(h, axis=axis), axes=axis)\n",
    "\n",
    "    H *= phase\n",
    "    H *= np.exp(-2j * np.pi * t0 * f.reshape(shape))\n",
    "    H *= np.exp(-1j * np.pi * N / 2)\n",
    "\n",
    "    return f, H\n",
    "\n",
    "def FT_continuous_(phival,ydval,real, imag):\n",
    "    path = 'rhor1_phi'+str(phival)+'_yd'+str(float(ydval))+'/result/nu_t.dat'\n",
    "    if os.path.exists(path):\n",
    "        data = pd.read_csv(path)\n",
    "        x, y = FT_continuous(data[data.columns[1]],data[data.columns[2]],method=1)\n",
    "        plt.figure()\n",
    "        plt.subplot(211)\n",
    "        plt.xlabel(\"freq\")\n",
    "        plt.ylabel(\"Amplitude\")\n",
    "        if real : plt.plot(x.real,y)\n",
    "        if imag : plt.plot(x.imag,y)\n",
    "        plt.subplot(212)\n",
    "        plt.xlabel(\"Shear\")\n",
    "        plt.ylabel(\"Viscosity Pa.s\")\n",
    "#         plt.yscale(\"log\")\n",
    "        plt.plot(data[data.columns[1]]*ydval,data[data.columns[2]])\n",
    "    else:\n",
    "        print \"no such file\"\n",
    "\n",
    "FT_continuous_widget = interactive(FT_continuous_, \\\n",
    "            phival = widgets.ToggleButtons(options=[40,45,50,54,55,56,58],value=56,disabled=False), \\\n",
    "            ydval= widgets.ToggleButtons(options=[1,10,11,11.5,12,12.5,13,14,15,16,18,20,30,50,70,100,200,300,1000]),\\\n",
    "            real = widgets.Checkbox(value=True), imag = widgets.Checkbox(value = False), \\\n",
    "            __manual=False)\n",
    "\n",
    "# display(FT_continuous_widget)\n"
   ]
  },
  {
   "cell_type": "code",
   "execution_count": 443,
   "metadata": {
    "collapsed": true
   },
   "outputs": [],
   "source": [
    "## Verified method"
   ]
  },
  {
   "cell_type": "code",
   "execution_count": 444,
   "metadata": {
    "collapsed": false,
    "scrolled": false
   },
   "outputs": [],
   "source": [
    "import cmath\n",
    "disp1 = widgets.Textarea(value = \"\")\n",
    "disp2 = widgets.Textarea(value = \"\")\n",
    "def FFT_plot(phival,ydval,real, imag,tot,phase,tr=0):\n",
    "    \n",
    "    path = 'rhor1_phi'+str(phival)+'_yd'+str(float(ydval))+'/result/nu_t.dat'\n",
    "    if os.path.exists(path):\n",
    "        data = pd.read_csv(path)\n",
    "        plt.figure(figsize=[9,9])\n",
    "        \n",
    "#         plt.subplot(411)\n",
    "\n",
    "        \n",
    "        plt.subplot(412)\n",
    "        nu=data[data.columns[2]]\n",
    "        \n",
    "        sp = np.fft.fft(nu)\n",
    "        freq = np.fft.fftfreq(nu.shape[-1])\n",
    "#         _freq = np.fft.fftfreq(nu.shape[-1])\n",
    "#         freq = [1.0/freqval for freqval in _freq]\n",
    "        if real :plt.plot(freq, sp.real)\n",
    "        if imag: plt.plot(freq, sp.imag)\n",
    "        if tot:  plt.plot(freq, abs(sp))\n",
    "      \n",
    "        \n",
    "        plt.ylabel(\"Transform\")\n",
    "        plt.subplot(411)\n",
    "        if phase: \n",
    "            plt.plot(freq, [cmath.phase(i) for i in sp])\n",
    "            print \"sum of phase = \",sum( [cmath.phase(i) for i in sp])\n",
    "        else:\n",
    "            x, y = FT_continuous(data[data.columns[1]],data[data.columns[2]],method=1)\n",
    "            if real: plt.plot(x,y.real)\n",
    "            if imag: plt.plot(x,y.imag)\n",
    "            if tot: plt.plot(x,abs(y))\n",
    "        plt.subplot(413)\n",
    "        plt.xlabel(\"Shear\")\n",
    "        plt.ylabel(\"Viscosity Pa.s\")\n",
    "        plt.yscale(\"log\")\n",
    "        _strain = data[data.columns[1]]*ydval\n",
    "        plt.plot(_strain,data[data.columns[2]])\n",
    "        print \"points per strain =\", np.ceil(len(_strain)/max(_strain))\n",
    "        plt.subplot(414)\n",
    "        disp1.value = str( abs(sp))\n",
    "        disp2.value = str(freq)\n",
    "        if tr != 0: \n",
    "            idx = []\n",
    "            for f in np.sort(freq)[-tr:]:\n",
    "                idx.append(np.where(freq == f)[0][0])\n",
    "            sp = np.delete(sp,idx)\n",
    "        else:\n",
    "            yi = np.fft.ifft(sp)\n",
    "            plt.plot(data[data.columns[1]]*ydval,yi)\n",
    "        plt.yscale(\"log\")\n",
    "        plt.xlabel(\"Shear\")\n",
    "        plt.ylabel(\"Reproduced \\nProfile\")\n",
    "    else:\n",
    "        print \"no such file\"\n",
    "FFT_plot_widget = interactive(FFT_plot, \\\n",
    "            phival = widgets.ToggleButtons(options=[40,45,50,54,55,56,58],value=56,disabled=False), \\\n",
    "            ydval= widgets.ToggleButtons(options=[1,10,11,11.5,12,12.5,13,14,15,16,18,20,30,50,70,100,200,300,1000]),\\\n",
    "            real = widgets.Checkbox(value=False), \\\n",
    "            imag = widgets.Checkbox(value = False), \\\n",
    "            tot= widgets.Checkbox(value = True), \\\n",
    "            phase= widgets.Checkbox(value = True), \\\n",
    "            tr = widgets.IntSlider(min =0, max=1000,value = 0),\\\n",
    "            __manual=False)\n",
    "\n",
    "# display(FFT_plot_widget)\n",
    "# widgets.HBox([disp1,disp2])"
   ]
  },
  {
   "cell_type": "code",
   "execution_count": 445,
   "metadata": {
    "collapsed": false,
    "scrolled": false
   },
   "outputs": [
    {
     "data": {
      "application/javascript": [
       "/* Put everything inside the global mpl namespace */\n",
       "window.mpl = {};\n",
       "\n",
       "mpl.get_websocket_type = function() {\n",
       "    if (typeof(WebSocket) !== 'undefined') {\n",
       "        return WebSocket;\n",
       "    } else if (typeof(MozWebSocket) !== 'undefined') {\n",
       "        return MozWebSocket;\n",
       "    } else {\n",
       "        alert('Your browser does not have WebSocket support.' +\n",
       "              'Please try Chrome, Safari or Firefox ≥ 6. ' +\n",
       "              'Firefox 4 and 5 are also supported but you ' +\n",
       "              'have to enable WebSockets in about:config.');\n",
       "    };\n",
       "}\n",
       "\n",
       "mpl.figure = function(figure_id, websocket, ondownload, parent_element) {\n",
       "    this.id = figure_id;\n",
       "\n",
       "    this.ws = websocket;\n",
       "\n",
       "    this.supports_binary = (this.ws.binaryType != undefined);\n",
       "\n",
       "    if (!this.supports_binary) {\n",
       "        var warnings = document.getElementById(\"mpl-warnings\");\n",
       "        if (warnings) {\n",
       "            warnings.style.display = 'block';\n",
       "            warnings.textContent = (\n",
       "                \"This browser does not support binary websocket messages. \" +\n",
       "                    \"Performance may be slow.\");\n",
       "        }\n",
       "    }\n",
       "\n",
       "    this.imageObj = new Image();\n",
       "\n",
       "    this.context = undefined;\n",
       "    this.message = undefined;\n",
       "    this.canvas = undefined;\n",
       "    this.rubberband_canvas = undefined;\n",
       "    this.rubberband_context = undefined;\n",
       "    this.format_dropdown = undefined;\n",
       "\n",
       "    this.image_mode = 'full';\n",
       "\n",
       "    this.root = $('<div/>');\n",
       "    this._root_extra_style(this.root)\n",
       "    this.root.attr('style', 'display: inline-block');\n",
       "\n",
       "    $(parent_element).append(this.root);\n",
       "\n",
       "    this._init_header(this);\n",
       "    this._init_canvas(this);\n",
       "    this._init_toolbar(this);\n",
       "\n",
       "    var fig = this;\n",
       "\n",
       "    this.waiting = false;\n",
       "\n",
       "    this.ws.onopen =  function () {\n",
       "            fig.send_message(\"supports_binary\", {value: fig.supports_binary});\n",
       "            fig.send_message(\"send_image_mode\", {});\n",
       "            fig.send_message(\"refresh\", {});\n",
       "        }\n",
       "\n",
       "    this.imageObj.onload = function() {\n",
       "            if (fig.image_mode == 'full') {\n",
       "                // Full images could contain transparency (where diff images\n",
       "                // almost always do), so we need to clear the canvas so that\n",
       "                // there is no ghosting.\n",
       "                fig.context.clearRect(0, 0, fig.canvas.width, fig.canvas.height);\n",
       "            }\n",
       "            fig.context.drawImage(fig.imageObj, 0, 0);\n",
       "        };\n",
       "\n",
       "    this.imageObj.onunload = function() {\n",
       "        this.ws.close();\n",
       "    }\n",
       "\n",
       "    this.ws.onmessage = this._make_on_message_function(this);\n",
       "\n",
       "    this.ondownload = ondownload;\n",
       "}\n",
       "\n",
       "mpl.figure.prototype._init_header = function() {\n",
       "    var titlebar = $(\n",
       "        '<div class=\"ui-dialog-titlebar ui-widget-header ui-corner-all ' +\n",
       "        'ui-helper-clearfix\"/>');\n",
       "    var titletext = $(\n",
       "        '<div class=\"ui-dialog-title\" style=\"width: 100%; ' +\n",
       "        'text-align: center; padding: 3px;\"/>');\n",
       "    titlebar.append(titletext)\n",
       "    this.root.append(titlebar);\n",
       "    this.header = titletext[0];\n",
       "}\n",
       "\n",
       "\n",
       "\n",
       "mpl.figure.prototype._canvas_extra_style = function(canvas_div) {\n",
       "\n",
       "}\n",
       "\n",
       "\n",
       "mpl.figure.prototype._root_extra_style = function(canvas_div) {\n",
       "\n",
       "}\n",
       "\n",
       "mpl.figure.prototype._init_canvas = function() {\n",
       "    var fig = this;\n",
       "\n",
       "    var canvas_div = $('<div/>');\n",
       "\n",
       "    canvas_div.attr('style', 'position: relative; clear: both; outline: 0');\n",
       "\n",
       "    function canvas_keyboard_event(event) {\n",
       "        return fig.key_event(event, event['data']);\n",
       "    }\n",
       "\n",
       "    canvas_div.keydown('key_press', canvas_keyboard_event);\n",
       "    canvas_div.keyup('key_release', canvas_keyboard_event);\n",
       "    this.canvas_div = canvas_div\n",
       "    this._canvas_extra_style(canvas_div)\n",
       "    this.root.append(canvas_div);\n",
       "\n",
       "    var canvas = $('<canvas/>');\n",
       "    canvas.addClass('mpl-canvas');\n",
       "    canvas.attr('style', \"left: 0; top: 0; z-index: 0; outline: 0\")\n",
       "\n",
       "    this.canvas = canvas[0];\n",
       "    this.context = canvas[0].getContext(\"2d\");\n",
       "\n",
       "    var rubberband = $('<canvas/>');\n",
       "    rubberband.attr('style', \"position: absolute; left: 0; top: 0; z-index: 1;\")\n",
       "\n",
       "    var pass_mouse_events = true;\n",
       "\n",
       "    canvas_div.resizable({\n",
       "        start: function(event, ui) {\n",
       "            pass_mouse_events = false;\n",
       "        },\n",
       "        resize: function(event, ui) {\n",
       "            fig.request_resize(ui.size.width, ui.size.height);\n",
       "        },\n",
       "        stop: function(event, ui) {\n",
       "            pass_mouse_events = true;\n",
       "            fig.request_resize(ui.size.width, ui.size.height);\n",
       "        },\n",
       "    });\n",
       "\n",
       "    function mouse_event_fn(event) {\n",
       "        if (pass_mouse_events)\n",
       "            return fig.mouse_event(event, event['data']);\n",
       "    }\n",
       "\n",
       "    rubberband.mousedown('button_press', mouse_event_fn);\n",
       "    rubberband.mouseup('button_release', mouse_event_fn);\n",
       "    // Throttle sequential mouse events to 1 every 20ms.\n",
       "    rubberband.mousemove('motion_notify', mouse_event_fn);\n",
       "\n",
       "    rubberband.mouseenter('figure_enter', mouse_event_fn);\n",
       "    rubberband.mouseleave('figure_leave', mouse_event_fn);\n",
       "\n",
       "    canvas_div.on(\"wheel\", function (event) {\n",
       "        event = event.originalEvent;\n",
       "        event['data'] = 'scroll'\n",
       "        if (event.deltaY < 0) {\n",
       "            event.step = 1;\n",
       "        } else {\n",
       "            event.step = -1;\n",
       "        }\n",
       "        mouse_event_fn(event);\n",
       "    });\n",
       "\n",
       "    canvas_div.append(canvas);\n",
       "    canvas_div.append(rubberband);\n",
       "\n",
       "    this.rubberband = rubberband;\n",
       "    this.rubberband_canvas = rubberband[0];\n",
       "    this.rubberband_context = rubberband[0].getContext(\"2d\");\n",
       "    this.rubberband_context.strokeStyle = \"#000000\";\n",
       "\n",
       "    this._resize_canvas = function(width, height) {\n",
       "        // Keep the size of the canvas, canvas container, and rubber band\n",
       "        // canvas in synch.\n",
       "        canvas_div.css('width', width)\n",
       "        canvas_div.css('height', height)\n",
       "\n",
       "        canvas.attr('width', width);\n",
       "        canvas.attr('height', height);\n",
       "\n",
       "        rubberband.attr('width', width);\n",
       "        rubberband.attr('height', height);\n",
       "    }\n",
       "\n",
       "    // Set the figure to an initial 600x600px, this will subsequently be updated\n",
       "    // upon first draw.\n",
       "    this._resize_canvas(600, 600);\n",
       "\n",
       "    // Disable right mouse context menu.\n",
       "    $(this.rubberband_canvas).bind(\"contextmenu\",function(e){\n",
       "        return false;\n",
       "    });\n",
       "\n",
       "    function set_focus () {\n",
       "        canvas.focus();\n",
       "        canvas_div.focus();\n",
       "    }\n",
       "\n",
       "    window.setTimeout(set_focus, 100);\n",
       "}\n",
       "\n",
       "mpl.figure.prototype._init_toolbar = function() {\n",
       "    var fig = this;\n",
       "\n",
       "    var nav_element = $('<div/>')\n",
       "    nav_element.attr('style', 'width: 100%');\n",
       "    this.root.append(nav_element);\n",
       "\n",
       "    // Define a callback function for later on.\n",
       "    function toolbar_event(event) {\n",
       "        return fig.toolbar_button_onclick(event['data']);\n",
       "    }\n",
       "    function toolbar_mouse_event(event) {\n",
       "        return fig.toolbar_button_onmouseover(event['data']);\n",
       "    }\n",
       "\n",
       "    for(var toolbar_ind in mpl.toolbar_items) {\n",
       "        var name = mpl.toolbar_items[toolbar_ind][0];\n",
       "        var tooltip = mpl.toolbar_items[toolbar_ind][1];\n",
       "        var image = mpl.toolbar_items[toolbar_ind][2];\n",
       "        var method_name = mpl.toolbar_items[toolbar_ind][3];\n",
       "\n",
       "        if (!name) {\n",
       "            // put a spacer in here.\n",
       "            continue;\n",
       "        }\n",
       "        var button = $('<button/>');\n",
       "        button.addClass('ui-button ui-widget ui-state-default ui-corner-all ' +\n",
       "                        'ui-button-icon-only');\n",
       "        button.attr('role', 'button');\n",
       "        button.attr('aria-disabled', 'false');\n",
       "        button.click(method_name, toolbar_event);\n",
       "        button.mouseover(tooltip, toolbar_mouse_event);\n",
       "\n",
       "        var icon_img = $('<span/>');\n",
       "        icon_img.addClass('ui-button-icon-primary ui-icon');\n",
       "        icon_img.addClass(image);\n",
       "        icon_img.addClass('ui-corner-all');\n",
       "\n",
       "        var tooltip_span = $('<span/>');\n",
       "        tooltip_span.addClass('ui-button-text');\n",
       "        tooltip_span.html(tooltip);\n",
       "\n",
       "        button.append(icon_img);\n",
       "        button.append(tooltip_span);\n",
       "\n",
       "        nav_element.append(button);\n",
       "    }\n",
       "\n",
       "    var fmt_picker_span = $('<span/>');\n",
       "\n",
       "    var fmt_picker = $('<select/>');\n",
       "    fmt_picker.addClass('mpl-toolbar-option ui-widget ui-widget-content');\n",
       "    fmt_picker_span.append(fmt_picker);\n",
       "    nav_element.append(fmt_picker_span);\n",
       "    this.format_dropdown = fmt_picker[0];\n",
       "\n",
       "    for (var ind in mpl.extensions) {\n",
       "        var fmt = mpl.extensions[ind];\n",
       "        var option = $(\n",
       "            '<option/>', {selected: fmt === mpl.default_extension}).html(fmt);\n",
       "        fmt_picker.append(option)\n",
       "    }\n",
       "\n",
       "    // Add hover states to the ui-buttons\n",
       "    $( \".ui-button\" ).hover(\n",
       "        function() { $(this).addClass(\"ui-state-hover\");},\n",
       "        function() { $(this).removeClass(\"ui-state-hover\");}\n",
       "    );\n",
       "\n",
       "    var status_bar = $('<span class=\"mpl-message\"/>');\n",
       "    nav_element.append(status_bar);\n",
       "    this.message = status_bar[0];\n",
       "}\n",
       "\n",
       "mpl.figure.prototype.request_resize = function(x_pixels, y_pixels) {\n",
       "    // Request matplotlib to resize the figure. Matplotlib will then trigger a resize in the client,\n",
       "    // which will in turn request a refresh of the image.\n",
       "    this.send_message('resize', {'width': x_pixels, 'height': y_pixels});\n",
       "}\n",
       "\n",
       "mpl.figure.prototype.send_message = function(type, properties) {\n",
       "    properties['type'] = type;\n",
       "    properties['figure_id'] = this.id;\n",
       "    this.ws.send(JSON.stringify(properties));\n",
       "}\n",
       "\n",
       "mpl.figure.prototype.send_draw_message = function() {\n",
       "    if (!this.waiting) {\n",
       "        this.waiting = true;\n",
       "        this.ws.send(JSON.stringify({type: \"draw\", figure_id: this.id}));\n",
       "    }\n",
       "}\n",
       "\n",
       "\n",
       "mpl.figure.prototype.handle_save = function(fig, msg) {\n",
       "    var format_dropdown = fig.format_dropdown;\n",
       "    var format = format_dropdown.options[format_dropdown.selectedIndex].value;\n",
       "    fig.ondownload(fig, format);\n",
       "}\n",
       "\n",
       "\n",
       "mpl.figure.prototype.handle_resize = function(fig, msg) {\n",
       "    var size = msg['size'];\n",
       "    if (size[0] != fig.canvas.width || size[1] != fig.canvas.height) {\n",
       "        fig._resize_canvas(size[0], size[1]);\n",
       "        fig.send_message(\"refresh\", {});\n",
       "    };\n",
       "}\n",
       "\n",
       "mpl.figure.prototype.handle_rubberband = function(fig, msg) {\n",
       "    var x0 = msg['x0'];\n",
       "    var y0 = fig.canvas.height - msg['y0'];\n",
       "    var x1 = msg['x1'];\n",
       "    var y1 = fig.canvas.height - msg['y1'];\n",
       "    x0 = Math.floor(x0) + 0.5;\n",
       "    y0 = Math.floor(y0) + 0.5;\n",
       "    x1 = Math.floor(x1) + 0.5;\n",
       "    y1 = Math.floor(y1) + 0.5;\n",
       "    var min_x = Math.min(x0, x1);\n",
       "    var min_y = Math.min(y0, y1);\n",
       "    var width = Math.abs(x1 - x0);\n",
       "    var height = Math.abs(y1 - y0);\n",
       "\n",
       "    fig.rubberband_context.clearRect(\n",
       "        0, 0, fig.canvas.width, fig.canvas.height);\n",
       "\n",
       "    fig.rubberband_context.strokeRect(min_x, min_y, width, height);\n",
       "}\n",
       "\n",
       "mpl.figure.prototype.handle_figure_label = function(fig, msg) {\n",
       "    // Updates the figure title.\n",
       "    fig.header.textContent = msg['label'];\n",
       "}\n",
       "\n",
       "mpl.figure.prototype.handle_cursor = function(fig, msg) {\n",
       "    var cursor = msg['cursor'];\n",
       "    switch(cursor)\n",
       "    {\n",
       "    case 0:\n",
       "        cursor = 'pointer';\n",
       "        break;\n",
       "    case 1:\n",
       "        cursor = 'default';\n",
       "        break;\n",
       "    case 2:\n",
       "        cursor = 'crosshair';\n",
       "        break;\n",
       "    case 3:\n",
       "        cursor = 'move';\n",
       "        break;\n",
       "    }\n",
       "    fig.rubberband_canvas.style.cursor = cursor;\n",
       "}\n",
       "\n",
       "mpl.figure.prototype.handle_message = function(fig, msg) {\n",
       "    fig.message.textContent = msg['message'];\n",
       "}\n",
       "\n",
       "mpl.figure.prototype.handle_draw = function(fig, msg) {\n",
       "    // Request the server to send over a new figure.\n",
       "    fig.send_draw_message();\n",
       "}\n",
       "\n",
       "mpl.figure.prototype.handle_image_mode = function(fig, msg) {\n",
       "    fig.image_mode = msg['mode'];\n",
       "}\n",
       "\n",
       "mpl.figure.prototype.updated_canvas_event = function() {\n",
       "    // Called whenever the canvas gets updated.\n",
       "    this.send_message(\"ack\", {});\n",
       "}\n",
       "\n",
       "// A function to construct a web socket function for onmessage handling.\n",
       "// Called in the figure constructor.\n",
       "mpl.figure.prototype._make_on_message_function = function(fig) {\n",
       "    return function socket_on_message(evt) {\n",
       "        if (evt.data instanceof Blob) {\n",
       "            /* FIXME: We get \"Resource interpreted as Image but\n",
       "             * transferred with MIME type text/plain:\" errors on\n",
       "             * Chrome.  But how to set the MIME type?  It doesn't seem\n",
       "             * to be part of the websocket stream */\n",
       "            evt.data.type = \"image/png\";\n",
       "\n",
       "            /* Free the memory for the previous frames */\n",
       "            if (fig.imageObj.src) {\n",
       "                (window.URL || window.webkitURL).revokeObjectURL(\n",
       "                    fig.imageObj.src);\n",
       "            }\n",
       "\n",
       "            fig.imageObj.src = (window.URL || window.webkitURL).createObjectURL(\n",
       "                evt.data);\n",
       "            fig.updated_canvas_event();\n",
       "            fig.waiting = false;\n",
       "            return;\n",
       "        }\n",
       "        else if (typeof evt.data === 'string' && evt.data.slice(0, 21) == \"data:image/png;base64\") {\n",
       "            fig.imageObj.src = evt.data;\n",
       "            fig.updated_canvas_event();\n",
       "            fig.waiting = false;\n",
       "            return;\n",
       "        }\n",
       "\n",
       "        var msg = JSON.parse(evt.data);\n",
       "        var msg_type = msg['type'];\n",
       "\n",
       "        // Call the  \"handle_{type}\" callback, which takes\n",
       "        // the figure and JSON message as its only arguments.\n",
       "        try {\n",
       "            var callback = fig[\"handle_\" + msg_type];\n",
       "        } catch (e) {\n",
       "            console.log(\"No handler for the '\" + msg_type + \"' message type: \", msg);\n",
       "            return;\n",
       "        }\n",
       "\n",
       "        if (callback) {\n",
       "            try {\n",
       "                // console.log(\"Handling '\" + msg_type + \"' message: \", msg);\n",
       "                callback(fig, msg);\n",
       "            } catch (e) {\n",
       "                console.log(\"Exception inside the 'handler_\" + msg_type + \"' callback:\", e, e.stack, msg);\n",
       "            }\n",
       "        }\n",
       "    };\n",
       "}\n",
       "\n",
       "// from http://stackoverflow.com/questions/1114465/getting-mouse-location-in-canvas\n",
       "mpl.findpos = function(e) {\n",
       "    //this section is from http://www.quirksmode.org/js/events_properties.html\n",
       "    var targ;\n",
       "    if (!e)\n",
       "        e = window.event;\n",
       "    if (e.target)\n",
       "        targ = e.target;\n",
       "    else if (e.srcElement)\n",
       "        targ = e.srcElement;\n",
       "    if (targ.nodeType == 3) // defeat Safari bug\n",
       "        targ = targ.parentNode;\n",
       "\n",
       "    // jQuery normalizes the pageX and pageY\n",
       "    // pageX,Y are the mouse positions relative to the document\n",
       "    // offset() returns the position of the element relative to the document\n",
       "    var x = e.pageX - $(targ).offset().left;\n",
       "    var y = e.pageY - $(targ).offset().top;\n",
       "\n",
       "    return {\"x\": x, \"y\": y};\n",
       "};\n",
       "\n",
       "/*\n",
       " * return a copy of an object with only non-object keys\n",
       " * we need this to avoid circular references\n",
       " * http://stackoverflow.com/a/24161582/3208463\n",
       " */\n",
       "function simpleKeys (original) {\n",
       "  return Object.keys(original).reduce(function (obj, key) {\n",
       "    if (typeof original[key] !== 'object')\n",
       "        obj[key] = original[key]\n",
       "    return obj;\n",
       "  }, {});\n",
       "}\n",
       "\n",
       "mpl.figure.prototype.mouse_event = function(event, name) {\n",
       "    var canvas_pos = mpl.findpos(event)\n",
       "\n",
       "    if (name === 'button_press')\n",
       "    {\n",
       "        this.canvas.focus();\n",
       "        this.canvas_div.focus();\n",
       "    }\n",
       "\n",
       "    var x = canvas_pos.x;\n",
       "    var y = canvas_pos.y;\n",
       "\n",
       "    this.send_message(name, {x: x, y: y, button: event.button,\n",
       "                             step: event.step,\n",
       "                             guiEvent: simpleKeys(event)});\n",
       "\n",
       "    /* This prevents the web browser from automatically changing to\n",
       "     * the text insertion cursor when the button is pressed.  We want\n",
       "     * to control all of the cursor setting manually through the\n",
       "     * 'cursor' event from matplotlib */\n",
       "    event.preventDefault();\n",
       "    return false;\n",
       "}\n",
       "\n",
       "mpl.figure.prototype._key_event_extra = function(event, name) {\n",
       "    // Handle any extra behaviour associated with a key event\n",
       "}\n",
       "\n",
       "mpl.figure.prototype.key_event = function(event, name) {\n",
       "\n",
       "    // Prevent repeat events\n",
       "    if (name == 'key_press')\n",
       "    {\n",
       "        if (event.which === this._key)\n",
       "            return;\n",
       "        else\n",
       "            this._key = event.which;\n",
       "    }\n",
       "    if (name == 'key_release')\n",
       "        this._key = null;\n",
       "\n",
       "    var value = '';\n",
       "    if (event.ctrlKey && event.which != 17)\n",
       "        value += \"ctrl+\";\n",
       "    if (event.altKey && event.which != 18)\n",
       "        value += \"alt+\";\n",
       "    if (event.shiftKey && event.which != 16)\n",
       "        value += \"shift+\";\n",
       "\n",
       "    value += 'k';\n",
       "    value += event.which.toString();\n",
       "\n",
       "    this._key_event_extra(event, name);\n",
       "\n",
       "    this.send_message(name, {key: value,\n",
       "                             guiEvent: simpleKeys(event)});\n",
       "    return false;\n",
       "}\n",
       "\n",
       "mpl.figure.prototype.toolbar_button_onclick = function(name) {\n",
       "    if (name == 'download') {\n",
       "        this.handle_save(this, null);\n",
       "    } else {\n",
       "        this.send_message(\"toolbar_button\", {name: name});\n",
       "    }\n",
       "};\n",
       "\n",
       "mpl.figure.prototype.toolbar_button_onmouseover = function(tooltip) {\n",
       "    this.message.textContent = tooltip;\n",
       "};\n",
       "mpl.toolbar_items = [[\"Home\", \"Reset original view\", \"fa fa-home icon-home\", \"home\"], [\"Back\", \"Back to  previous view\", \"fa fa-arrow-left icon-arrow-left\", \"back\"], [\"Forward\", \"Forward to next view\", \"fa fa-arrow-right icon-arrow-right\", \"forward\"], [\"\", \"\", \"\", \"\"], [\"Pan\", \"Pan axes with left mouse, zoom with right\", \"fa fa-arrows icon-move\", \"pan\"], [\"Zoom\", \"Zoom to rectangle\", \"fa fa-square-o icon-check-empty\", \"zoom\"], [\"\", \"\", \"\", \"\"], [\"Download\", \"Download plot\", \"fa fa-floppy-o icon-save\", \"download\"]];\n",
       "\n",
       "mpl.extensions = [\"eps\", \"jpeg\", \"pdf\", \"png\", \"ps\", \"raw\", \"svg\", \"tif\"];\n",
       "\n",
       "mpl.default_extension = \"png\";var comm_websocket_adapter = function(comm) {\n",
       "    // Create a \"websocket\"-like object which calls the given IPython comm\n",
       "    // object with the appropriate methods. Currently this is a non binary\n",
       "    // socket, so there is still some room for performance tuning.\n",
       "    var ws = {};\n",
       "\n",
       "    ws.close = function() {\n",
       "        comm.close()\n",
       "    };\n",
       "    ws.send = function(m) {\n",
       "        //console.log('sending', m);\n",
       "        comm.send(m);\n",
       "    };\n",
       "    // Register the callback with on_msg.\n",
       "    comm.on_msg(function(msg) {\n",
       "        //console.log('receiving', msg['content']['data'], msg);\n",
       "        // Pass the mpl event to the overriden (by mpl) onmessage function.\n",
       "        ws.onmessage(msg['content']['data'])\n",
       "    });\n",
       "    return ws;\n",
       "}\n",
       "\n",
       "mpl.mpl_figure_comm = function(comm, msg) {\n",
       "    // This is the function which gets called when the mpl process\n",
       "    // starts-up an IPython Comm through the \"matplotlib\" channel.\n",
       "\n",
       "    var id = msg.content.data.id;\n",
       "    // Get hold of the div created by the display call when the Comm\n",
       "    // socket was opened in Python.\n",
       "    var element = $(\"#\" + id);\n",
       "    var ws_proxy = comm_websocket_adapter(comm)\n",
       "\n",
       "    function ondownload(figure, format) {\n",
       "        window.open(figure.imageObj.src);\n",
       "    }\n",
       "\n",
       "    var fig = new mpl.figure(id, ws_proxy,\n",
       "                           ondownload,\n",
       "                           element.get(0));\n",
       "\n",
       "    // Call onopen now - mpl needs it, as it is assuming we've passed it a real\n",
       "    // web socket which is closed, not our websocket->open comm proxy.\n",
       "    ws_proxy.onopen();\n",
       "\n",
       "    fig.parent_element = element.get(0);\n",
       "    fig.cell_info = mpl.find_output_cell(\"<div id='\" + id + \"'></div>\");\n",
       "    if (!fig.cell_info) {\n",
       "        console.error(\"Failed to find cell for figure\", id, fig);\n",
       "        return;\n",
       "    }\n",
       "\n",
       "    var output_index = fig.cell_info[2]\n",
       "    var cell = fig.cell_info[0];\n",
       "\n",
       "};\n",
       "\n",
       "mpl.figure.prototype.handle_close = function(fig, msg) {\n",
       "    fig.root.unbind('remove')\n",
       "\n",
       "    // Update the output cell to use the data from the current canvas.\n",
       "    fig.push_to_output();\n",
       "    var dataURL = fig.canvas.toDataURL();\n",
       "    // Re-enable the keyboard manager in IPython - without this line, in FF,\n",
       "    // the notebook keyboard shortcuts fail.\n",
       "    IPython.keyboard_manager.enable()\n",
       "    $(fig.parent_element).html('<img src=\"' + dataURL + '\">');\n",
       "    fig.close_ws(fig, msg);\n",
       "}\n",
       "\n",
       "mpl.figure.prototype.close_ws = function(fig, msg){\n",
       "    fig.send_message('closing', msg);\n",
       "    // fig.ws.close()\n",
       "}\n",
       "\n",
       "mpl.figure.prototype.push_to_output = function(remove_interactive) {\n",
       "    // Turn the data on the canvas into data in the output cell.\n",
       "    var dataURL = this.canvas.toDataURL();\n",
       "    this.cell_info[1]['text/html'] = '<img src=\"' + dataURL + '\">';\n",
       "}\n",
       "\n",
       "mpl.figure.prototype.updated_canvas_event = function() {\n",
       "    // Tell IPython that the notebook contents must change.\n",
       "    IPython.notebook.set_dirty(true);\n",
       "    this.send_message(\"ack\", {});\n",
       "    var fig = this;\n",
       "    // Wait a second, then push the new image to the DOM so\n",
       "    // that it is saved nicely (might be nice to debounce this).\n",
       "    setTimeout(function () { fig.push_to_output() }, 1000);\n",
       "}\n",
       "\n",
       "mpl.figure.prototype._init_toolbar = function() {\n",
       "    var fig = this;\n",
       "\n",
       "    var nav_element = $('<div/>')\n",
       "    nav_element.attr('style', 'width: 100%');\n",
       "    this.root.append(nav_element);\n",
       "\n",
       "    // Define a callback function for later on.\n",
       "    function toolbar_event(event) {\n",
       "        return fig.toolbar_button_onclick(event['data']);\n",
       "    }\n",
       "    function toolbar_mouse_event(event) {\n",
       "        return fig.toolbar_button_onmouseover(event['data']);\n",
       "    }\n",
       "\n",
       "    for(var toolbar_ind in mpl.toolbar_items){\n",
       "        var name = mpl.toolbar_items[toolbar_ind][0];\n",
       "        var tooltip = mpl.toolbar_items[toolbar_ind][1];\n",
       "        var image = mpl.toolbar_items[toolbar_ind][2];\n",
       "        var method_name = mpl.toolbar_items[toolbar_ind][3];\n",
       "\n",
       "        if (!name) { continue; };\n",
       "\n",
       "        var button = $('<button class=\"btn btn-default\" href=\"#\" title=\"' + name + '\"><i class=\"fa ' + image + ' fa-lg\"></i></button>');\n",
       "        button.click(method_name, toolbar_event);\n",
       "        button.mouseover(tooltip, toolbar_mouse_event);\n",
       "        nav_element.append(button);\n",
       "    }\n",
       "\n",
       "    // Add the status bar.\n",
       "    var status_bar = $('<span class=\"mpl-message\" style=\"text-align:right; float: right;\"/>');\n",
       "    nav_element.append(status_bar);\n",
       "    this.message = status_bar[0];\n",
       "\n",
       "    // Add the close button to the window.\n",
       "    var buttongrp = $('<div class=\"btn-group inline pull-right\"></div>');\n",
       "    var button = $('<button class=\"btn btn-mini btn-primary\" href=\"#\" title=\"Stop Interaction\"><i class=\"fa fa-power-off icon-remove icon-large\"></i></button>');\n",
       "    button.click(function (evt) { fig.handle_close(fig, {}); } );\n",
       "    button.mouseover('Stop Interaction', toolbar_mouse_event);\n",
       "    buttongrp.append(button);\n",
       "    var titlebar = this.root.find($('.ui-dialog-titlebar'));\n",
       "    titlebar.prepend(buttongrp);\n",
       "}\n",
       "\n",
       "mpl.figure.prototype._root_extra_style = function(el){\n",
       "    var fig = this\n",
       "    el.on(\"remove\", function(){\n",
       "\tfig.close_ws(fig, {});\n",
       "    });\n",
       "}\n",
       "\n",
       "mpl.figure.prototype._canvas_extra_style = function(el){\n",
       "    // this is important to make the div 'focusable\n",
       "    el.attr('tabindex', 0)\n",
       "    // reach out to IPython and tell the keyboard manager to turn it's self\n",
       "    // off when our div gets focus\n",
       "\n",
       "    // location in version 3\n",
       "    if (IPython.notebook.keyboard_manager) {\n",
       "        IPython.notebook.keyboard_manager.register_events(el);\n",
       "    }\n",
       "    else {\n",
       "        // location in version 2\n",
       "        IPython.keyboard_manager.register_events(el);\n",
       "    }\n",
       "\n",
       "}\n",
       "\n",
       "mpl.figure.prototype._key_event_extra = function(event, name) {\n",
       "    var manager = IPython.notebook.keyboard_manager;\n",
       "    if (!manager)\n",
       "        manager = IPython.keyboard_manager;\n",
       "\n",
       "    // Check for shift+enter\n",
       "    if (event.shiftKey && event.which == 13) {\n",
       "        this.canvas_div.blur();\n",
       "        // select the cell after this one\n",
       "        var index = IPython.notebook.find_cell_index(this.cell_info[0]);\n",
       "        IPython.notebook.select(index + 1);\n",
       "    }\n",
       "}\n",
       "\n",
       "mpl.figure.prototype.handle_save = function(fig, msg) {\n",
       "    fig.ondownload(fig, null);\n",
       "}\n",
       "\n",
       "\n",
       "mpl.find_output_cell = function(html_output) {\n",
       "    // Return the cell and output element which can be found *uniquely* in the notebook.\n",
       "    // Note - this is a bit hacky, but it is done because the \"notebook_saving.Notebook\"\n",
       "    // IPython event is triggered only after the cells have been serialised, which for\n",
       "    // our purposes (turning an active figure into a static one), is too late.\n",
       "    var cells = IPython.notebook.get_cells();\n",
       "    var ncells = cells.length;\n",
       "    for (var i=0; i<ncells; i++) {\n",
       "        var cell = cells[i];\n",
       "        if (cell.cell_type === 'code'){\n",
       "            for (var j=0; j<cell.output_area.outputs.length; j++) {\n",
       "                var data = cell.output_area.outputs[j];\n",
       "                if (data.data) {\n",
       "                    // IPython >= 3 moved mimebundle to data attribute of output\n",
       "                    data = data.data;\n",
       "                }\n",
       "                if (data['text/html'] == html_output) {\n",
       "                    return [cell, data, j];\n",
       "                }\n",
       "            }\n",
       "        }\n",
       "    }\n",
       "}\n",
       "\n",
       "// Register the function which deals with the matplotlib target/channel.\n",
       "// The kernel may be null if the page has been refreshed.\n",
       "if (IPython.notebook.kernel != null) {\n",
       "    IPython.notebook.kernel.comm_manager.register_target('matplotlib', mpl.mpl_figure_comm);\n",
       "}\n"
      ],
      "text/plain": [
       "<IPython.core.display.Javascript object>"
      ]
     },
     "metadata": {},
     "output_type": "display_data"
    },
    {
     "data": {
      "text/html": [
       "<img src=\"data:image/png;base64,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\">"
      ],
      "text/plain": [
       "<IPython.core.display.HTML object>"
      ]
     },
     "metadata": {},
     "output_type": "display_data"
    }
   ],
   "source": [
    "Tabs = widgets.Tab()\n",
    "container_list = []\n",
    "tab_items_input = [\n",
    "                  [compare_with_hist_widget,\"Compare viscosity time series with histogram\"], \n",
    "                  [plot_timeseries_widget,\"Compare viscosity time serieses for different shearrates\"],\n",
    "                  [plot_histogram_time_series_widget,\"plot viscosity histogram\"],\n",
    "                  [plot_hist_widget,\"compare viscosity histograms\"],\n",
    "                  [FFT_plot_widget, \"fourier transform of viscosity signal\"],\n",
    "                  [FT_continuous_widget, \"'spectral 'fft transform of viscosity signal(unverified)\"]\n",
    "                    ]\n",
    "tab_items =  [i[0] for i in tab_items_input]\n",
    "tab_name  =  [i[1] for i in tab_items_input]\n",
    "for i, item in enumerate(tab_items_input): \n",
    "    container_list.append(widgets.Box())\n",
    "    container_list[i].children = item[0].children\n",
    "Tabs.children = tab_items\n",
    "for i,name in enumerate(tab_name):\n",
    "    Tabs.set_title(i,name)\n",
    "        \n",
    "display(Tabs)"
   ]
  },
  {
   "cell_type": "code",
   "execution_count": null,
   "metadata": {
    "collapsed": true
   },
   "outputs": [],
   "source": []
  }
 ],
 "metadata": {
  "anaconda-cloud": {},
  "kernelspec": {
   "display_name": "Python [default]",
   "language": "python",
   "name": "python2"
  },
  "language_info": {
   "codemirror_mode": {
    "name": "ipython",
    "version": 2
   },
   "file_extension": ".py",
   "mimetype": "text/x-python",
   "name": "python",
   "nbconvert_exporter": "python",
   "pygments_lexer": "ipython2",
   "version": "2.7.13"
  },
  "widgets": {
   "state": {
    "020af42859ed4b949b8664d9455fa899": {
     "views": [
      {
       "cell_index": 16
      }
     ]
    },
    "0a07ff271b964b9c8b6434f33d4bee6b": {
     "views": [
      {
       "cell_index": 16
      }
     ]
    },
    "1329a89c16924af78bccc7df109631fe": {
     "views": [
      {
       "cell_index": 16
      }
     ]
    },
    "1e4ef42f1f4746638d61d3d1d1fe3f95": {
     "views": [
      {
       "cell_index": 16
      }
     ]
    },
    "25dbf23c294843c4946ffde34e50a564": {
     "views": [
      {
       "cell_index": 16
      }
     ]
    },
    "28cdc16d35644cf4a1c97e18661042fb": {
     "views": [
      {
       "cell_index": 16
      }
     ]
    },
    "3161dcf5836f46f8b89fc48b865ab68c": {
     "views": [
      {
       "cell_index": 16
      }
     ]
    },
    "341eef86c3144e2992fde4260a4b1f00": {
     "views": [
      {
       "cell_index": 16
      }
     ]
    },
    "3443e4b9d014446a84f46cdc897f9e84": {
     "views": [
      {
       "cell_index": 16
      }
     ]
    },
    "405bfe43eb7b4b8caf279fce2e744f85": {
     "views": [
      {
       "cell_index": 16
      }
     ]
    },
    "4642d7c18b1643978e666d75fe786d4f": {
     "views": [
      {
       "cell_index": 16
      }
     ]
    },
    "4abd130b657d44ad89447d3893240b94": {
     "views": [
      {
       "cell_index": 16
      }
     ]
    },
    "5028a0b3b9944e68807ce3401b1f6394": {
     "views": [
      {
       "cell_index": 16
      }
     ]
    },
    "53e772a9e42f48e093df258ca01402c2": {
     "views": [
      {
       "cell_index": 16
      }
     ]
    },
    "576aabb6cc6b4650a57891a069ec0f54": {
     "views": [
      {
       "cell_index": 16
      }
     ]
    },
    "5b9e08eefb9047ae874f17b2fefefcb1": {
     "views": [
      {
       "cell_index": 16
      },
      {
       "cell_index": 16
      },
      {
       "cell_index": 16
      }
     ]
    },
    "5c98cd56241c40a890753a37209ef45b": {
     "views": [
      {
       "cell_index": 16
      }
     ]
    },
    "7900e30053c14d6db8b3c6d938ddcbb2": {
     "views": [
      {
       "cell_index": 16
      }
     ]
    },
    "79c90a07c8aa43ebb1c98995878b97a8": {
     "views": [
      {
       "cell_index": 16
      }
     ]
    },
    "7f3ca0ad65824ff1afbd1aeb8c53fc8a": {
     "views": [
      {
       "cell_index": 16
      }
     ]
    },
    "845d94a7fd914a22a243196037478978": {
     "views": [
      {
       "cell_index": 16
      }
     ]
    },
    "8adfbc5dde8644d5a9a84a7b8cf7ef3e": {
     "views": [
      {
       "cell_index": 16
      }
     ]
    },
    "8d52a6cf6e2349a79fdbbf385e36d959": {
     "views": [
      {
       "cell_index": 16
      }
     ]
    },
    "918aa75b07814d4982a469b074553594": {
     "views": [
      {
       "cell_index": 16
      }
     ]
    },
    "9226c7a5e9804e589657df5184fd0184": {
     "views": [
      {
       "cell_index": 16
      }
     ]
    },
    "981bd709c1274e63b5c4b96de4f2e944": {
     "views": [
      {
       "cell_index": 16
      }
     ]
    },
    "aa67d556619f4ab49c1b0dd657b2fee2": {
     "views": [
      {
       "cell_index": 16
      }
     ]
    },
    "b80cd6a9efef42fab5b69d6f9a693177": {
     "views": [
      {
       "cell_index": 16
      }
     ]
    },
    "bf88bcae6d544079accb054024b82aff": {
     "views": [
      {
       "cell_index": 16
      }
     ]
    },
    "c1c88104190243a6896280f870486c45": {
     "views": [
      {
       "cell_index": 16
      }
     ]
    },
    "c3f386d083b8427288c1007fc250a8fb": {
     "views": [
      {
       "cell_index": 16
      }
     ]
    },
    "c476a3bfa26f47318385633961dd6810": {
     "views": [
      {
       "cell_index": 16
      }
     ]
    },
    "df560d3ec30846f3a3356c10f7c3fba7": {
     "views": [
      {
       "cell_index": 16
      }
     ]
    },
    "fcb2706b8c9f4aa9bdc34d7ac6f21f7f": {
     "views": [
      {
       "cell_index": 16
      }
     ]
    }
   },
   "version": "1.2.0"
  }
 },
 "nbformat": 4,
 "nbformat_minor": 2
}
