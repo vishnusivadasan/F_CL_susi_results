{
 "cells": [
  {
   "cell_type": "code",
   "execution_count": 4,
   "metadata": {
    "collapsed": false
   },
   "outputs": [
    {
     "data": {
      "text/html": [
       "<script>\n",
       "code_show=false; \n",
       "function code_toggle() {\n",
       " if (code_show){\n",
       " $('div.input').show();\n",
       " } else {\n",
       " $('div.input').hide();\n",
       " }\n",
       " code_show = !code_show\n",
       "} \n",
       "$( document ).ready(code_toggle);\n",
       "</script>\n",
       "The raw code for\n",
       "this IPython notebook is by default hidden for easier reading.\n",
       "To toggle on/off the raw code, click <a href=\"javascript:code_toggle()\">here</a>."
      ],
      "text/plain": [
       "<IPython.core.display.HTML object>"
      ]
     },
     "execution_count": 4,
     "metadata": {},
     "output_type": "execute_result"
    }
   ],
   "source": [
    "from IPython.display import HTML\n",
    "\n",
    "HTML('''<script>\n",
    "code_show=false; \n",
    "function code_toggle() {\n",
    " if (code_show){\n",
    " $('div.input').show();\n",
    " } else {\n",
    " $('div.input').hide();\n",
    " }\n",
    " code_show = !code_show\n",
    "} \n",
    "$( document ).ready(code_toggle);\n",
    "</script>\n",
    "The raw code for\n",
    "this IPython notebook is by default hidden for easier reading.\n",
    "To toggle on/off the raw code, click <a href=\"javascript:code_toggle()\">here</a>.''')"
   ]
  },
  {
   "cell_type": "code",
   "execution_count": 5,
   "metadata": {
    "collapsed": false
   },
   "outputs": [],
   "source": [
    "import os\n",
    "import sys\n",
    "import numpy as np\n",
    "import pandas as pd\n",
    "import math\n",
    "import subprocess\n",
    "import matplotlib as mpl\n",
    "mpl.use('Agg')\n",
    "import matplotlib.pyplot as plt\n",
    "from matplotlib.legend_handler import HandlerLine2D\n",
    "import itertools\n",
    "from susipop import filter\n",
    "from susipop import reader\n",
    "from IPython.html.widgets import FloatProgress\n",
    "from IPython.display import display\n",
    "from ipywidgets import interactive, interact_manual\n",
    "import ipywidgets as widgets\n",
    "import scipy.stats as ss\n",
    "\n",
    "%matplotlib notebook\n",
    "\n",
    "import plotly\n",
    "import susipop as sp\n",
    "import pylab\n",
    "\n",
    "import warnings\n",
    "warnings.filterwarnings('ignore')"
   ]
  },
  {
   "cell_type": "code",
   "execution_count": 6,
   "metadata": {
    "collapsed": true
   },
   "outputs": [],
   "source": [
    "def get_folder_list(path=\".\"):\n",
    "    f = next(os.walk(path))[1]\n",
    "    return f\n",
    "def sort_data(x,y):\n",
    "    lists = sorted(itertools.izip(*[x, y]))\n",
    "    new_x, new_y = list(itertools.izip(*lists))\n",
    "    return new_x, new_y"
   ]
  },
  {
   "cell_type": "markdown",
   "metadata": {},
   "source": [
    "# Plot Normal Stress Differences as a function of phi"
   ]
  },
  {
   "cell_type": "code",
   "execution_count": 7,
   "metadata": {
    "collapsed": false,
    "scrolled": true
   },
   "outputs": [],
   "source": [
    "# #phivals = [float(i)/100.0 for i in sys.argv[1:]]\n",
    "\n",
    "# phivals = [40.,45.,50.,54.,55.,56.,58.]\n",
    "# #solid part\n",
    "# ialist = ['tot','hd','lub','rep','fric']\n",
    "\n",
    "# folders = get_folder_list()\n",
    "# db = dict()\n",
    "# for p in phivals:\n",
    "#     db[p] = dict()\n",
    "#     db[p]['shearrate'] = []\n",
    "#     db[p]['shearstress'] = []\n",
    "#     for ia in ialist:\n",
    "#         db[p][ia] = [[],[],[]]\n",
    "\n",
    "# def num_points(max_strain):\n",
    "#     if max_strain < 1.0: return -5\n",
    "#     elif (max_strain >= 1.0) and (max_strain <=2.0): return -10\n",
    "\n",
    "# f = FloatProgress(min=0, max=100)\n",
    "# display(f)\n",
    "# L = widgets.Label(\"\")\n",
    "# display(L)\n",
    "# progress = widgets.Label(\"\")\n",
    "# display(progress)\n",
    "\n",
    "\n",
    "# for num,folder in enumerate(np.sort(folders[:])):\n",
    "#     try:\n",
    "#         path = folder+\"/result/part_stress_norm_tot_t.dat\"\n",
    "#         if os.path.exists(path):\n",
    "#             exp = reader.DataSet(folder, fluid=False, particles=True)\n",
    "#             exp.load_state(exp.tlist[-1])\n",
    "            \n",
    "#             max_strain = float(exp.t)*exp.shearrate*exp.dt\n",
    "#             n = len(exp.tlist[1:])\n",
    "#             if max_strain >= 2:\n",
    "#                 n_last_strain = int(float(n)/max_strain*(max_strain - 1))\n",
    "#             else:\n",
    "#                 n_last_strain = -10\n",
    "                \n",
    "#             f.value = float(num+1)/len(folders[:])*100\n",
    "#             L.value = folder\n",
    "#             p = round(exp.phi*100)\n",
    "#             db_visc = pd.read_csv(folder+\"/result/nu_t.dat\")\n",
    "#             visc = db_visc[db_visc.columns[2]]\n",
    "#             time = db_visc[db_visc.columns[0]]\n",
    "#             shearstress = np.multiply(visc,exp.shearrate)\n",
    "            \n",
    "#             type = 'mean'  #type is 'mean' or 'all' or 'half' or 'laststrain'\n",
    "            \n",
    "#             if type == 'mean':\n",
    "#                 shearstress = np.mean(shearstress[n_last_strain:])\n",
    "#                 db[p]['shearstress'].append(shearstress)\n",
    "#                 db[p]['shearrate'].append(exp.shearrate)\n",
    "#             if type == 'last':\n",
    "#                 shearstress = shearstress[-20:]\n",
    "#                 db[p]['shearstress'].extend(list(shearstress))\n",
    "#                 db[p]['shearrate'].extend(list(np.ones_like(shearstress)*exp.shearrate))\n",
    "#             if type == 'half':\n",
    "#                 shearstress = shearstress[int(len(shearstress)/2):]\n",
    "#                 db[p]['shearstress'].extend(list(shearstress))\n",
    "#                 db[p]['shearrate'].extend(list(np.ones_like(shearstress)*exp.shearrate))\n",
    "#             if type == 'laststrain':\n",
    "#                 shearstress = shearstress[n_last_strain:]\n",
    "#                 db[p]['shearstress'].extend(list(shearstress))\n",
    "#                 db[p]['shearrate'].extend(list(np.ones_like(shearstress)*exp.shearrate))\n",
    "                \n",
    "#             for ia in ialist:\n",
    "#                 path = folder+\"/result/part_stress_norm_\"+ia+\"_t.dat\"\n",
    "#                 df = pd.read_csv(path)\n",
    "#                 s11 = np.asarray(df[df.columns[2]])\n",
    "#                 s22 = np.asarray(df[df.columns[3]])\n",
    "#                 s33 = np.asarray(df[df.columns[4]])\n",
    "#                 if type == 'last':\n",
    "#                     s11 = s11[-20:]\n",
    "#                     s22 = s22[-20:]\n",
    "#                     s33 = s33[-20:]\n",
    "#                     db[p][ia][0].extend(s11)\n",
    "#                     db[p][ia][1].extend(s22)\n",
    "#                     db[p][ia][2].extend(s33)\n",
    "#                 if type == 'laststrain':\n",
    "#                     s11 = s11[n_last_strain:]\n",
    "#                     s22 = s22[n_last_strain:]\n",
    "#                     s33 = s33[n_last_strain:]\n",
    "#                     db[p][ia][0].extend(s11)\n",
    "#                     db[p][ia][1].extend(s22)\n",
    "#                     db[p][ia][2].extend(s33)                \n",
    "#                 if type == 'half':\n",
    "#                     s11 = s11[int(len(s11)/2):]\n",
    "#                     s22 = s22[int(len(s22)/2):]\n",
    "#                     s33 = s33[int(len(s33)/2):]\n",
    "#                     db[p][ia][0].extend(s11)\n",
    "#                     db[p][ia][1].extend(s22)\n",
    "#                     db[p][ia][2].extend(s33)                    \n",
    "#                 if type == 'mean':\n",
    "#                     s11 = np.mean(s11[n_last_strain:])\n",
    "#                     s22 = np.mean(s22[n_last_strain:])\n",
    "#                     s33 = np.mean(s33[n_last_strain:])\n",
    "#                     db[p][ia][0].append(s11)\n",
    "#                     db[p][ia][1].append(s22)\n",
    "#                     db[p][ia][2].append(s33)\n",
    "\n",
    "#     except Exception as e: \n",
    "#         print folder,str(e)\n",
    "#         continue\n",
    "\n",
    "# for p in db.keys():\n",
    "#     for q in db[p].keys():\n",
    "#         db[p][q] = np.asarray(db[p][q])"
   ]
  },
  {
   "cell_type": "code",
   "execution_count": 8,
   "metadata": {
    "collapsed": false
   },
   "outputs": [],
   "source": [
    "# philist = [ 54.,55., 56.]\n",
    "# # for ia in ialist:\n",
    "# for ia in ['tot']:\n",
    "# #     plt.figure(figsize=[10,15])\n",
    "#     plt.subplot(211)\n",
    "#     plt.title(\"First Normal Stress Difference \"+ia)\n",
    "#     for p in philist:\n",
    "#         plt.xscale('log')\n",
    "        \n",
    "# #         plt.yscale('symlog')\n",
    "#         try:\n",
    "# #             X,Y = sort_data(db[p]['shearstress'], np.asarray(db[p][ia][0])- np.asarray(db[p][ia][2]))\n",
    "#             X,Y = sort_data(db[p]['shearrate'], np.asarray(db[p][ia][0])- np.asarray(db[p][ia][2]))\n",
    "# #             X,Y = sort_data(db[p]['shearstress'], np.asarray(db[p][ia][0])- np.asarray(db[p][ia][2]))\n",
    "# #             plt.plot(X,Y,'--o',label=\"phi=\"+str(p))\n",
    "#             plt.legend(loc=\"top left\")\n",
    "# #             plt.xlabel('Shear Stress (Pa)')\n",
    "#             plt.xlabel('Shear rate (1/s)')\n",
    "#             plt.ylabel('First Normal Stress Difference Sxx-Szz (Pa)')\n",
    "#             plt.show()\n",
    "#         except Exception as e: \n",
    "#             print str(e)\n",
    "#             continue\n",
    "#     plt.subplot(212)\n",
    "#     plt.title(\"Second Normal Stress Difference \"+ia)\n",
    "#     for p in philist:\n",
    "#         plt.xscale('log')\n",
    "# #         plt.yscale('symlog')\n",
    "#         try:\n",
    "# #             X, Y = sort_data(db[p]['shearstress'], np.asarray(db[p][ia][2])- np.asarray(db[p][ia][1]))\n",
    "#             X, Y = sort_data(db[p]['shearrate'], np.asarray(db[p][ia][2])- np.asarray(db[p][ia][1]))\n",
    "# #             plt.plot(X, Y ,'--o',label=\"phi=\"+str(p))\n",
    "#             plt.legend(loc=\"upper left\")\n",
    "# #             plt.xlabel('Shear Stress (Pa)')\n",
    "#             plt.xlabel('Shear rate (1/s)')\n",
    "#             plt.ylabel('Second Normal Stress Difference Szz - Syy (Pa)')\n",
    "# #             plt.show()\n",
    "#         except Exception as e: \n",
    "#             print str(e)\n",
    "#             continue\n",
    "#     plt.savefig('NormalStressDifference_vs_shearrate_'+ia+'.png')"
   ]
  },
  {
   "cell_type": "code",
   "execution_count": 9,
   "metadata": {
    "collapsed": false,
    "scrolled": false
   },
   "outputs": [],
   "source": [
    "#phivals = [float(i)/100.0 for i in sys.argv[1:]]\n",
    "f1 = FloatProgress(min=0, max=100)\n",
    "display(f1)\n",
    "L1 = widgets.Label(\"\")\n",
    "display(L1)\n",
    "progress1 = widgets.Label(\"\")\n",
    "display(progress1)\n",
    "\n",
    "\n",
    "def num_points(max_strain):\n",
    "    if max_strain < 1.0: return -5\n",
    "    elif (max_strain >= 1.0) and (max_strain <=2.0): return -10\n",
    "\n",
    "db = dict()\n",
    "def analyze_normal_stress_difference_vs_phi(path_addition,type): \n",
    "    phivals = [40.,45.,50.,54.,55.,56.]\n",
    "    #solid part\n",
    "    ialist = ['tot','hd','lub','rep','fric']\n",
    "\n",
    "    folders = get_folder_list(path_addition)\n",
    "#     db = dict()\n",
    "    for p in phivals:\n",
    "        db[p] = dict()\n",
    "        db[p]['shearrate'] = []\n",
    "        db[p]['shearstress'] = []\n",
    "        for ia in ialist:\n",
    "            db[p][ia] = [[],[],[]]\n",
    "\n",
    "    for num,folder in enumerate(np.sort(folders[:])):\n",
    "        try:\n",
    "            path = folder+\"/result/part_stress_norm_\"+ia+\"_t.dat\"\n",
    "            if os.path.exists(path):\n",
    "                exp = reader.DataSet(folder, fluid=False, particles=True)\n",
    "                exp.load_state(exp.tlist[-1])\n",
    "\n",
    "                max_strain = float(exp.t)*exp.shearrate*exp.dt\n",
    "                n = len(exp.tlist[1:])\n",
    "                if max_strain >= 2:\n",
    "                    n_last_strain = int(float(n)/max_strain*(max_strain - 1))\n",
    "                    n_first_strain = int(float(n)/max_strain)\n",
    "                else:\n",
    "                    n_last_strain = -10\n",
    "                    n_first_strain = -10\n",
    "\n",
    "                f1.value = float(num+1)/len(folders[:])*100\n",
    "                L1.value = folder\n",
    "                p = round(exp.phi*100)\n",
    "                db_visc = pd.read_csv(folder+\"/result/nu_t.dat\")\n",
    "                visc = db_visc[db_visc.columns[2]]\n",
    "                time = db_visc[db_visc.columns[0]]\n",
    "                shearstress = np.multiply(visc,exp.shearrate)\n",
    "\n",
    "                #type is 'mean' or 'all' or 'half' or 'laststrain'\n",
    "\n",
    "                if type == 'mean':\n",
    "                    shearstress = np.mean(shearstress[n_first_strain:])\n",
    "                    db[p]['shearstress'].append(shearstress)\n",
    "                    db[p]['shearrate'].append(exp.shearrate)\n",
    "                if type == 'last':\n",
    "                    shearstress = shearstress[-20:]\n",
    "                    db[p]['shearstress'].extend(list(shearstress))\n",
    "                    db[p]['shearrate'].extend(list(np.ones_like(shearstress)*exp.shearrate))\n",
    "                if type == 'half':\n",
    "                    shearstress = shearstress[int(len(shearstress)/2):]\n",
    "                    db[p]['shearstress'].extend(list(shearstress))\n",
    "                    db[p]['shearrate'].extend(list(np.ones_like(shearstress)*exp.shearrate))\n",
    "                if type == 'laststrain':\n",
    "                    shearstress = shearstress[n_last_strain:]\n",
    "                    db[p]['shearstress'].extend(list(shearstress))\n",
    "                    db[p]['shearrate'].extend(list(np.ones_like(shearstress)*exp.shearrate))\n",
    "\n",
    "                for ia in ialist:\n",
    "                    path = folder+\"/result/part_stress_norm_\"+ia+\"_t.dat\"\n",
    "                    df = pd.read_csv(path)\n",
    "                    s11 = np.asarray(df[df.columns[2]])\n",
    "                    s22 = np.asarray(df[df.columns[3]])\n",
    "                    s33 = np.asarray(df[df.columns[4]])\n",
    "                    if type == 'last20':\n",
    "                        s11 = s11[-20:]\n",
    "                        s22 = s22[-20:]\n",
    "                        s33 = s33[-20:]\n",
    "                        db[p][ia][0].extend(s11)\n",
    "                        db[p][ia][1].extend(s22)\n",
    "                        db[p][ia][2].extend(s33)\n",
    "                    if type == 'laststrain':\n",
    "                        s11 = s11[n_last_strain:]\n",
    "                        s22 = s22[n_last_strain:]\n",
    "                        s33 = s33[n_last_strain:]\n",
    "                        db[p][ia][0].extend(s11)\n",
    "                        db[p][ia][1].extend(s22)\n",
    "                        db[p][ia][2].extend(s33)                \n",
    "                    if type == 'half':\n",
    "                        s11 = s11[int(len(s11)/2):]\n",
    "                        s22 = s22[int(len(s22)/2):]\n",
    "                        s33 = s33[int(len(s33)/2):]\n",
    "                        db[p][ia][0].extend(s11)\n",
    "                        db[p][ia][1].extend(s22)\n",
    "                        db[p][ia][2].extend(s33)                    \n",
    "                    if type == 'mean':\n",
    "                        s11 = np.mean(s11[n_first_strain:])\n",
    "                        s22 = np.mean(s22[n_first_strain:])\n",
    "                        s33 = np.mean(s33[n_first_strain:])\n",
    "                        db[p][ia][0].append(s11)\n",
    "                        db[p][ia][1].append(s22)\n",
    "                        db[p][ia][2].append(s33)\n",
    "\n",
    "        except Exception as e: \n",
    "            print folder,str(e)\n",
    "            continue\n",
    "\n",
    "\n",
    "    \n",
    "\n",
    "\n",
    "\n",
    "def plot_N1N2(path_addition,analyze,phivals,ia,type,x_axis,marker,xlog,ylog,norm):\n",
    "    if analyze == \"True\":\n",
    "        analyze_normal_stress_difference_vs_phi(path_addition,type)\n",
    "    for p in db.keys():\n",
    "        for q in db[p].keys():\n",
    "            db[p][q] = np.asarray(db[p][q])\n",
    "    \n",
    "    philist = phivals\n",
    "    # for ia in ialist:\n",
    "\n",
    "    plt.figure(figsize=[15,5])\n",
    "    plt.subplot(131)\n",
    "    plt.title(\"First Normal Stress Difference \"+ia)\n",
    "    for p in philist:\n",
    "        if xlog:\n",
    "            plt.xscale('log')\n",
    "        if ylog:\n",
    "            plt.yscale('symlog')\n",
    "        try:\n",
    "            if x_axis == 'shearstress':\n",
    "                X,Y = sort_data(db[p]['shearstress'], np.asarray(db[p][ia][0])- np.asarray(db[p][ia][2]))\n",
    "#                 X,Y = sort_data(db[p]['shearstress'], np.asarray(db[p][ia][0])- 2*np.asarray(db[p][ia][2]))+ np.asarray(db[p][ia][1])\n",
    "                plt.plot(X,Y,marker,label=\"phi=\"+str(p))\n",
    "                plt.xlabel('Shear Stress (Pa)')\n",
    "            if x_axis == 'shearrate':\n",
    "                X,Y = sort_data(db[p]['shearrate'], np.asarray(db[p][ia][0])- np.asarray(db[p][ia][2]))\n",
    "#                 X,Y = sort_data(db[p]['shearstress'], np.asarray(db[p][ia][0])- 2*np.asarray(db[p][ia][2]))+ np.asarray(db[p][ia][1])\n",
    "                plt.plot(X,Y,marker,label=\"phi=\"+str(p))\n",
    "                plt.xlabel('Shear rate (1/s)')\n",
    "            plt.legend(loc=\"top left\")\n",
    "            plt.ylabel('N1 (Pa)')\n",
    "            plt.show()\n",
    "        except Exception as e: \n",
    "            print str(e)\n",
    "            continue\n",
    "    plt.subplot(132)\n",
    "    plt.title(\"N1-N2 \"+ia)\n",
    "    for p in philist:\n",
    "        if xlog:\n",
    "            plt.xscale('log')\n",
    "        if ylog:\n",
    "            plt.yscale('symlog')\n",
    "        try:\n",
    "            if x_axis == 'shearstress':\n",
    "#                 X,Y = sort_data(db[p]['shearstress'], np.asarray(db[p][ia][0])- np.asarray(db[p][ia][2]))\n",
    "                X,Y = sort_data(db[p]['shearstress'], np.asarray(db[p][ia][0])- 2*np.asarray(db[p][ia][2]))+ np.asarray(db[p][ia][1])\n",
    "                if norm: X, Y = np.abs(X),np.abs(Y)\n",
    "                plt.plot(X,Y,marker,label=\"phi=\"+str(p))\n",
    "                plt.xlabel('Shear Stress (Pa)')\n",
    "            if x_axis == 'shearrate':\n",
    "#                 X,Y = sort_data(db[p]['shearrate'], np.asarray(db[p][ia][0])- np.asarray(db[p][ia][2]))\n",
    "                X,Y = sort_data(db[p]['shearstress'], np.asarray(db[p][ia][0])- 2*np.asarray(db[p][ia][2]))+ np.asarray(db[p][ia][1])\n",
    "                plt.plot(X,Y,marker,label=\"phi=\"+str(p))\n",
    "                if norm: X, Y = np.abs(X),np.abs(Y)\n",
    "                plt.xlabel('Shear rate (1/s)')\n",
    "            plt.legend(loc=\"top left\")\n",
    "            plt.ylabel('N1-N2 (Pa)')\n",
    "            plt.show()\n",
    "        except Exception as e: \n",
    "            print str(e)\n",
    "            continue\n",
    "    plt.subplot(133)\n",
    "    plt.title(\"Second Normal Stress Difference \"+ia)\n",
    "    for p in philist:\n",
    "        if xlog:\n",
    "            plt.xscale('log')\n",
    "        if ylog:\n",
    "            plt.yscale('symlog')\n",
    "        try:\n",
    "#             X, Y = sort_data(db[p]['shearstress'], np.asarray(db[p][ia][2])- np.asarray(db[p][ia][1]))\n",
    "#             X, Y = sort_data(db[p]['shearrate'], np.asarray(db[p][ia][2])- np.asarray(db[p][ia][1]))\n",
    "#             plt.plot(X, Y ,'--o',label=\"phi=\"+str(p))\n",
    "            if x_axis == 'shearstress':\n",
    "                X,Y = sort_data(db[p]['shearstress'], np.asarray(db[p][ia][2])- np.asarray(db[p][ia][1]))\n",
    "                plt.plot(X,Y,marker,label=\"phi=\"+str(p))\n",
    "                plt.xlabel('Shear Stress (Pa)')\n",
    "            if x_axis == 'shearrate':\n",
    "                X,Y = sort_data(db[p]['shearrate'], np.asarray(db[p][ia][2])- np.asarray(db[p][ia][1]))\n",
    "                plt.plot(X,Y,marker,label=\"phi=\"+str(p))\n",
    "                plt.xlabel('Shear rate (1/s)')\n",
    "            plt.legend(loc=\"upper left\")\n",
    "#             plt.xlabel('Shear Stress (Pa)')\n",
    "#             plt.xlabel('Shear rate (1/s)')\n",
    "            plt.ylabel('N2 (Pa)')\n",
    "            plt.show()\n",
    "        except Exception as e: \n",
    "            print str(e)\n",
    "            continue\n",
    "    plt.savefig('NormalStressDifference_vs_shearrate_'+ia+'.png')\n",
    "\n",
    "\n",
    "v1 = interactive(plot_N1N2, \\\n",
    "                 path_addition = widgets.Text(value=\"./\"),\\\n",
    "                 analyze = widgets.ToggleButtons(options = [\"True\",\"False\"]),\\\n",
    "                 type = widgets.ToggleButtons(options = ['mean', 'last20','half','laststrain'], value = 'mean'),\\\n",
    "                phivals = widgets.SelectMultiple(options=[40,45,50,54,55,56,58],value=[56],disabled=False), \\\n",
    "                ia= widgets.ToggleButtons(options=['tot','lub','hd','rep','fric'], value= 'tot'),\\\n",
    "                x_axis = widgets.ToggleButtons(options = ['shearstress','shearrate']),\\\n",
    "                 marker = widgets.Text(value=\"o\"),\\\n",
    "                xlog = widgets.ToggleButtons(options = [\"True\",\"False\"]),\\\n",
    "                 ylog = widgets.ToggleButtons(options = [\"True\",\"False\"]),\\\n",
    "                  norm = widgets.ToggleButtons(description = \"use absolute value of stresses?\", options = [\"True\",\"False\"]),\\\n",
    "                __manual=True)\n",
    "\n",
    "display(v1)"
   ]
  },
  {
   "cell_type": "markdown",
   "metadata": {},
   "source": [
    "# Plotting the timeseries of viscosity, N, N2, Sxx, Syy, Szz "
   ]
  },
  {
   "cell_type": "code",
   "execution_count": 10,
   "metadata": {
    "collapsed": false
   },
   "outputs": [],
   "source": [
    "# max_n1 = widgets.Label(\"N1 Values are normalized by absolute value of :\")\n",
    "# display(max_n1)\n",
    "# max_n2 = widgets.Label(\"N2 Values are normalized by absolute value of :\")\n",
    "# display(max_n2)\n",
    "def plot_timeseries(path_addition,phival,ydval,ia,viscosity,n1,n2,s1,s2,s3,sN):\n",
    "\n",
    "    plt.style.use('seaborn-deep')\n",
    "    \n",
    "    path = path_addition+\"rhor1_phi\"+str(phival)+\"_yd\"+str(float(ydval))\n",
    "\n",
    "    nufile = path+\"/result/nu_t.dat\" \n",
    "    stressfile = path+\"/result/part_stress_norm_\"+ia+\"_t.dat\" \n",
    "    \n",
    "    \n",
    "    \n",
    "    if os.path.exists(nufile):\n",
    "        plt.figure(figsize=[12,5])\n",
    "\n",
    "        minshear = 100000\n",
    "        db = pd.read_csv(nufile)\n",
    "        nu = db[db.columns[2]]\n",
    "        nu_rel = db[db.columns[4]]\n",
    "        t = db[db.columns[1]]\n",
    "#         shearrate = float(nufile.split(\"_\")[2].split(\"/\")[0].split(\"yd\")[1])\n",
    "        shearrate = ydval\n",
    "        shear = t*shearrate\n",
    "        if minshear > shear.max(): minshear = shear.max()\n",
    "#         nu = nu_rel*1.002e-3\n",
    "        nu = nu_rel\n",
    "#         plt.plot(shear,np.log10(nu_rel),label=\"log10 Viscosity\")\n",
    "        if viscosity:\n",
    "            print \"Viscosity Values are normalized by absolute value of :\" + str(max(abs(nu[:len(shear)])))\n",
    "            plt.plot(shear[:len(shear)],nu[:len(shear)]/max(abs(nu[:len(shear)])),label=\"Normalized Viscosity\")\n",
    "        \n",
    "        df = pd.read_csv(stressfile)\n",
    "        s11 = np.asarray(df[df.columns[2]])\n",
    "        s22 = np.asarray(df[df.columns[3]])\n",
    "        s33 = np.asarray(df[df.columns[4]])\n",
    "        N1 = s11 - s33\n",
    "        N2 = s33 - s22\n",
    "\n",
    "        if s1: \n",
    "            print \"Sxx Values are normalized by absolute value of :\" + str(max(abs(s11[:len(shear)])))\n",
    "            plt.plot(shear,s11[:len(shear)]/max(abs(s11[:len(shear)])),label = \"Sxx\")\n",
    "        if s2: \n",
    "            print \"Syy Values are normalized by absolute value of :\" + str(max(abs(s22[:len(shear)])))\n",
    "            plt.plot(shear,s22[:len(shear)][:len(shear)]/max(abs(s22[:len(shear)])),label = \"Syy\")\n",
    "        if s3: \n",
    "            print \"Szz Values are normalized by absolute value of :\" + str(max(abs(s33[:len(shear)])))\n",
    "            plt.plot(shear,s33[:len(shear)]/max(abs(s33[:len(shear)])),label = \"Szz\")\n",
    "            \n",
    "        if n1:\n",
    "#             max_n1.value = \"N1 Values are normalized by absolute value of :\" + str(max(abs(N1[:len(shear)])))\n",
    "            print \"N1 Values are normalized by absolute value of :\" + str(max(abs(N1[:len(shear)])))\n",
    "            plt.plot(shear,N1[:len(shear)]/max(abs(N1[:len(shear)])),label=\"normalized N1\")\n",
    "            idx_min = np.where(N1 == N1.min())[0]\n",
    "            idx_max = np.where(N1 == N1.max())[0]\n",
    "            print \"min and max N1 at timesteps :\",idx_min, idx_max, \" or\", idx_min - len(N1)-2, idx_max- len(N1)-2, len(N1)\n",
    "        if n2:\n",
    "#             max_n2.value = \"N2 Values are normalized by absolute value of :\" + str(max(abs(N2[:len(shear)])))\n",
    "            print \"N2 Values are normalized by absolute value of :\" + str(max(abs(N2[:len(shear)])))\n",
    "            plt.plot(shear,N2[:len(shear)]/max(abs(N2[:len(shear)])),label=\"normalized N2\")\n",
    "        if sN:\n",
    "#             max_n2.value = \"N2 Values are normalized by absolute value of :\" + str(max(abs(N2[:len(shear)])))\n",
    "            print \"N1-N2 Values are normalized by absolute value of :\" + str(max(abs(N2[:len(shear)])))\n",
    "            plt.plot(shear,N2[:len(shear)]/max(abs(N2[:len(shear)]))-N1[:len(shear)]/max(abs(N2[:len(shear)])),label=\"normalized N1-N2\")\n",
    "        plt.legend(loc=\"best\")\n",
    "        plt.title(path)\n",
    "#         plt.yscale(\"symlog\")\n",
    "        plt.xlabel(\"strain\")\n",
    "#         plt.ylabel(\" viscosity Pa.s\")\n",
    "        plt.axhline(0,color = 'k',ls = '--')\n",
    "    #     plt.xlim([0,minshear])\n",
    "        name = \"comparison_viscosity_\" + str(phival)+ '_'+str(ydval)\n",
    "    #     plt.savefig(name)\n",
    "    else:\n",
    "        print \"no data found, check location\"\n",
    "v = interactive(plot_timeseries, \\\n",
    "                path_addition = widgets.Text(value=\"larger_system_size/from_cartesius/F_CL_2e-10/\"),\\\n",
    "                phival = widgets.ToggleButtons(options=[40,45,50,54,55,56,58],value=56,disabled=False), \\\n",
    "                ydval= widgets.ToggleButtons(options=[1,10,11,11.5,12,12.5,13,14,15,16,18,20,30,50,100,100,200,300,1000], value= 10),\\\n",
    "                ia = widgets.ToggleButtons(options = ['tot','fric','rep','lub'],value = 'tot'),\\\n",
    "                viscosity=widgets.widget_bool.Checkbox(value = True, description = \"Viscosity\"),\\\n",
    "                n1=widgets.widget_bool.Checkbox(value = True, description = \"N1\"),\\\n",
    "                n2=widgets.widget_bool.Checkbox(value = False,description = \"N2\"),\\\n",
    "                 s1=widgets.widget_bool.Checkbox(value = False,description = \"Sxx\"),\\\n",
    "                 s2=widgets.widget_bool.Checkbox(value = False,description = \"Syy\"),\\\n",
    "                 s3=widgets.widget_bool.Checkbox(value = False,description = \"Szz\"),\\\n",
    "                 sN=widgets.widget_bool.Checkbox(value = False,description = \"SN\"),\\\n",
    "                __manual=False)\n",
    "\n",
    "# display(v)\n",
    "display(widgets.VBox(v.children[:3]))\n",
    "display(widgets.HBox(v.children[3:8]))\n",
    "display(widgets.HBox(v.children[8:]))"
   ]
  },
  {
   "cell_type": "code",
   "execution_count": 11,
   "metadata": {
    "collapsed": true
   },
   "outputs": [],
   "source": [
    "# Normal Stress Measurements"
   ]
  },
  {
   "cell_type": "code",
   "execution_count": 12,
   "metadata": {
    "collapsed": false
   },
   "outputs": [],
   "source": [
    "#phivals = [float(i)/100.0 for i in sys.argv[1:]]\n",
    "f1 = FloatProgress(min=0, max=100)\n",
    "display(f1)\n",
    "L1 = widgets.Label(\"\")\n",
    "display(L1)\n",
    "progress1 = widgets.Label(\"\")\n",
    "display(progress1)\n",
    "\n",
    "\n",
    "def num_points(max_strain):\n",
    "    if max_strain < 1.0: return -5\n",
    "    elif (max_strain >= 1.0) and (max_strain <=2.0): return -10\n",
    "\n",
    "db = dict()\n",
    "def analyze_normal_stress_difference_vs_phi(path_addition,type): \n",
    "    phivals = [40.,45.,50.,54.,55.,56.]\n",
    "    #solid part\n",
    "    ialist = ['tot','hd','lub','rep','fric']\n",
    "\n",
    "    folders = get_folder_list(path_addition)\n",
    "#     db = dict()\n",
    "    for p in phivals:\n",
    "        db[p] = dict()\n",
    "        db[p]['shearrate'] = []\n",
    "        db[p]['shearstress'] = []\n",
    "        for ia in ialist:\n",
    "            db[p][ia] = [[],[],[]]\n",
    "\n",
    "    for num,folder in enumerate(np.sort(folders[:])):\n",
    "        try:\n",
    "            path = folder+\"/result/part_stress_norm_\"+ia+\"_t.dat\"\n",
    "            if os.path.exists(path):\n",
    "                exp = reader.DataSet(folder, fluid=False, particles=True)\n",
    "                exp.load_state(exp.tlist[-1])\n",
    "\n",
    "                max_strain = float(exp.t)*exp.shearrate*exp.dt\n",
    "                n = len(exp.tlist[1:])\n",
    "                if max_strain >= 2:\n",
    "                    n_last_strain = int(float(n)/max_strain*(max_strain - 1))\n",
    "                    n_first_strain = int(float(n)/max_strain)\n",
    "                else:\n",
    "                    n_last_strain = -10\n",
    "                    n_first_strain = -10\n",
    "\n",
    "                f1.value = float(num+1)/len(folders[:])*100\n",
    "                L1.value = folder\n",
    "                p = round(exp.phi*100)\n",
    "                db_visc = pd.read_csv(folder+\"/result/nu_t.dat\")\n",
    "                visc = db_visc[db_visc.columns[2]]\n",
    "                time = db_visc[db_visc.columns[0]]\n",
    "                shearstress = np.multiply(visc,exp.shearrate)\n",
    "\n",
    "                #type is 'mean' or 'all' or 'half' or 'laststrain'\n",
    "\n",
    "                if type == 'mean':\n",
    "                    shearstress = np.mean(shearstress[n_first_strain:])\n",
    "                    db[p]['shearstress'].append(shearstress)\n",
    "                    db[p]['shearrate'].append(exp.shearrate)\n",
    "                if type == 'last':\n",
    "                    shearstress = shearstress[-20:]\n",
    "                    db[p]['shearstress'].extend(list(shearstress))\n",
    "                    db[p]['shearrate'].extend(list(np.ones_like(shearstress)*exp.shearrate))\n",
    "                if type == 'half':\n",
    "                    shearstress = shearstress[int(len(shearstress)/2):]\n",
    "                    db[p]['shearstress'].extend(list(shearstress))\n",
    "                    db[p]['shearrate'].extend(list(np.ones_like(shearstress)*exp.shearrate))\n",
    "                if type == 'laststrain':\n",
    "                    shearstress = shearstress[n_last_strain:]\n",
    "                    db[p]['shearstress'].extend(list(shearstress))\n",
    "                    db[p]['shearrate'].extend(list(np.ones_like(shearstress)*exp.shearrate))\n",
    "\n",
    "                for ia in ialist:\n",
    "                    path = folder+\"/result/part_stress_norm_\"+ia+\"_t.dat\"\n",
    "                    df = pd.read_csv(path)\n",
    "                    s11 = np.asarray(df[df.columns[2]])\n",
    "                    s22 = np.asarray(df[df.columns[3]])\n",
    "                    s33 = np.asarray(df[df.columns[4]])\n",
    "                    if type == 'last20':\n",
    "                        s11 = s11[-20:]\n",
    "                        s22 = s22[-20:]\n",
    "                        s33 = s33[-20:]\n",
    "                        db[p][ia][0].extend(s11)\n",
    "                        db[p][ia][1].extend(s22)\n",
    "                        db[p][ia][2].extend(s33)\n",
    "                    if type == 'laststrain':\n",
    "                        s11 = s11[n_last_strain:]\n",
    "                        s22 = s22[n_last_strain:]\n",
    "                        s33 = s33[n_last_strain:]\n",
    "                        db[p][ia][0].extend(s11)\n",
    "                        db[p][ia][1].extend(s22)\n",
    "                        db[p][ia][2].extend(s33)                \n",
    "                    if type == 'half':\n",
    "                        s11 = s11[int(len(s11)/2):]\n",
    "                        s22 = s22[int(len(s22)/2):]\n",
    "                        s33 = s33[int(len(s33)/2):]\n",
    "                        db[p][ia][0].extend(s11)\n",
    "                        db[p][ia][1].extend(s22)\n",
    "                        db[p][ia][2].extend(s33)                    \n",
    "                    if type == 'mean':\n",
    "                        s11 = np.mean(s11[n_first_strain:])\n",
    "                        s22 = np.mean(s22[n_first_strain:])\n",
    "                        s33 = np.mean(s33[n_first_strain:])\n",
    "                        db[p][ia][0].append(s11)\n",
    "                        db[p][ia][1].append(s22)\n",
    "                        db[p][ia][2].append(s33)\n",
    "\n",
    "        except Exception as e: \n",
    "            print folder,str(e)\n",
    "            continue\n",
    "\n",
    "\n",
    "    \n",
    "\n",
    "\n",
    "\n",
    "def plot_N1N2(path_addition,analyze,phivals,ia,type,x_axis,marker,xlog,ylog,norm):\n",
    "    if analyze == \"True\":\n",
    "        analyze_normal_stress_difference_vs_phi(path_addition,type)\n",
    "    for p in db.keys():\n",
    "        for q in db[p].keys():\n",
    "            db[p][q] = np.asarray(db[p][q])\n",
    "    \n",
    "    philist = phivals\n",
    "    # for ia in ialist:\n",
    "\n",
    "    plt.figure(figsize=[15,5])\n",
    "    plt.subplot(131)\n",
    "    plt.title(\"First Normal Stress Difference \"+ia)\n",
    "    for p in philist:\n",
    "        if xlog:\n",
    "            plt.xscale('log')\n",
    "        if ylog:\n",
    "            plt.yscale('symlog')\n",
    "        try:\n",
    "            if x_axis == 'shearstress':\n",
    "                X,Y = sort_data(db[p]['shearstress'], np.asarray(db[p][ia][0])- np.asarray(db[p][ia][2]))\n",
    "#                 X,Y = sort_data(db[p]['shearstress'], np.asarray(db[p][ia][0])- 2*np.asarray(db[p][ia][2]))+ np.asarray(db[p][ia][1])\n",
    "                plt.plot(X,Y,marker,label=\"phi=\"+str(p))\n",
    "                plt.xlabel('Shear Stress (Pa)')\n",
    "            if x_axis == 'shearrate':\n",
    "                X,Y = sort_data(db[p]['shearrate'], np.asarray(db[p][ia][0])- np.asarray(db[p][ia][2]))\n",
    "#                 X,Y = sort_data(db[p]['shearstress'], np.asarray(db[p][ia][0])- 2*np.asarray(db[p][ia][2]))+ np.asarray(db[p][ia][1])\n",
    "                plt.plot(X,Y,marker,label=\"phi=\"+str(p))\n",
    "                plt.xlabel('Shear rate (1/s)')\n",
    "            plt.legend(loc=\"top left\")\n",
    "            plt.ylabel('N1 (Pa)')\n",
    "            plt.show()\n",
    "        except Exception as e: \n",
    "            print str(e)\n",
    "            continue\n",
    "    plt.subplot(132)\n",
    "    plt.title(\"N1-N2 \"+ia)\n",
    "    for p in philist:\n",
    "        if xlog:\n",
    "            plt.xscale('log')\n",
    "        if ylog:\n",
    "            plt.yscale('symlog')\n",
    "        try:\n",
    "            if x_axis == 'shearstress':\n",
    "#                 X,Y = sort_data(db[p]['shearstress'], np.asarray(db[p][ia][0])- np.asarray(db[p][ia][2]))\n",
    "                X,Y = sort_data(db[p]['shearstress'], np.asarray(db[p][ia][0])- 2*np.asarray(db[p][ia][2]))+ np.asarray(db[p][ia][1])\n",
    "                if norm: X, Y = np.abs(X),np.abs(Y)\n",
    "                plt.plot(X,Y,marker,label=\"phi=\"+str(p))\n",
    "                plt.xlabel('Shear Stress (Pa)')\n",
    "            if x_axis == 'shearrate':\n",
    "#                 X,Y = sort_data(db[p]['shearrate'], np.asarray(db[p][ia][0])- np.asarray(db[p][ia][2]))\n",
    "                X,Y = sort_data(db[p]['shearstress'], np.asarray(db[p][ia][0])- 2*np.asarray(db[p][ia][2]))+ np.asarray(db[p][ia][1])\n",
    "                plt.plot(X,Y,marker,label=\"phi=\"+str(p))\n",
    "                if norm: X, Y = np.abs(X),np.abs(Y)\n",
    "                plt.xlabel('Shear rate (1/s)')\n",
    "            plt.legend(loc=\"top left\")\n",
    "            plt.ylabel('N1-N2 (Pa)')\n",
    "            plt.show()\n",
    "        except Exception as e: \n",
    "            print str(e)\n",
    "            continue\n",
    "    plt.subplot(133)\n",
    "    plt.title(\"Second Normal Stress Difference \"+ia)\n",
    "    for p in philist:\n",
    "        if xlog:\n",
    "            plt.xscale('log')\n",
    "        if ylog:\n",
    "            plt.yscale('symlog')\n",
    "        try:\n",
    "#             X, Y = sort_data(db[p]['shearstress'], np.asarray(db[p][ia][2])- np.asarray(db[p][ia][1]))\n",
    "#             X, Y = sort_data(db[p]['shearrate'], np.asarray(db[p][ia][2])- np.asarray(db[p][ia][1]))\n",
    "#             plt.plot(X, Y ,'--o',label=\"phi=\"+str(p))\n",
    "            if x_axis == 'shearstress':\n",
    "                X,Y = sort_data(db[p]['shearstress'], np.asarray(db[p][ia][2])- np.asarray(db[p][ia][1]))\n",
    "                plt.plot(X,Y,marker,label=\"phi=\"+str(p))\n",
    "                plt.xlabel('Shear Stress (Pa)')\n",
    "            if x_axis == 'shearrate':\n",
    "                X,Y = sort_data(db[p]['shearrate'], np.asarray(db[p][ia][2])- np.asarray(db[p][ia][1]))\n",
    "                plt.plot(X,Y,marker,label=\"phi=\"+str(p))\n",
    "                plt.xlabel('Shear rate (1/s)')\n",
    "            plt.legend(loc=\"upper left\")\n",
    "#             plt.xlabel('Shear Stress (Pa)')\n",
    "#             plt.xlabel('Shear rate (1/s)')\n",
    "            plt.ylabel('N2 (Pa)')\n",
    "            plt.show()\n",
    "        except Exception as e: \n",
    "            print str(e)\n",
    "            continue\n",
    "    plt.savefig('NormalStressDifference_vs_shearrate_'+ia+'.png')\n",
    "\n",
    "\n",
    "v1 = interactive(plot_N1N2, \\\n",
    "                 path_addition = widgets.Text(value=\"./\"),\\\n",
    "                 analyze = widgets.ToggleButtons(options = [\"True\",\"False\"]),\\\n",
    "                 type = widgets.ToggleButtons(options = ['mean', 'last20','half','laststrain'], value = 'mean'),\\\n",
    "                phivals = widgets.SelectMultiple(options=[40,45,50,54,55,56,58],value=[56],disabled=False), \\\n",
    "                ia= widgets.ToggleButtons(options=['tot','lub','hd','rep','fric'], value= 'tot'),\\\n",
    "                x_axis = widgets.ToggleButtons(options = ['shearstress','shearrate']),\\\n",
    "                 marker = widgets.Text(value=\"o\"),\\\n",
    "                xlog = widgets.ToggleButtons(options = [\"True\",\"False\"]),\\\n",
    "                 ylog = widgets.ToggleButtons(options = [\"True\",\"False\"]),\\\n",
    "                  norm = widgets.ToggleButtons(description = \"use absolute value of stresses?\", options = [\"True\",\"False\"]),\\\n",
    "                __manual=True)\n",
    "\n",
    "display(v1)"
   ]
  },
  {
   "cell_type": "code",
   "execution_count": 46,
   "metadata": {
    "collapsed": false
   },
   "outputs": [
    {
     "name": "stdout",
     "output_type": "stream",
     "text": [
      "File ./rhor1_phi56_yd16.0/result/part_stress_norm_tot_t.dat does not exist\n",
      "File ./rhor1_phi56_yd30.0/result/part_stress_norm_tot_t.dat does not exist\n",
      "File ./rhor1_phi56_yd200.0/result/part_stress_norm_tot_t.dat does not exist\n",
      "File ./rhor1_phi56_yd1000.0/result/part_stress_norm_tot_t.dat does not exist\n"
     ]
    },
    {
     "data": {
      "application/javascript": [
       "/* Put everything inside the global mpl namespace */\n",
       "window.mpl = {};\n",
       "\n",
       "mpl.get_websocket_type = function() {\n",
       "    if (typeof(WebSocket) !== 'undefined') {\n",
       "        return WebSocket;\n",
       "    } else if (typeof(MozWebSocket) !== 'undefined') {\n",
       "        return MozWebSocket;\n",
       "    } else {\n",
       "        alert('Your browser does not have WebSocket support.' +\n",
       "              'Please try Chrome, Safari or Firefox ≥ 6. ' +\n",
       "              'Firefox 4 and 5 are also supported but you ' +\n",
       "              'have to enable WebSockets in about:config.');\n",
       "    };\n",
       "}\n",
       "\n",
       "mpl.figure = function(figure_id, websocket, ondownload, parent_element) {\n",
       "    this.id = figure_id;\n",
       "\n",
       "    this.ws = websocket;\n",
       "\n",
       "    this.supports_binary = (this.ws.binaryType != undefined);\n",
       "\n",
       "    if (!this.supports_binary) {\n",
       "        var warnings = document.getElementById(\"mpl-warnings\");\n",
       "        if (warnings) {\n",
       "            warnings.style.display = 'block';\n",
       "            warnings.textContent = (\n",
       "                \"This browser does not support binary websocket messages. \" +\n",
       "                    \"Performance may be slow.\");\n",
       "        }\n",
       "    }\n",
       "\n",
       "    this.imageObj = new Image();\n",
       "\n",
       "    this.context = undefined;\n",
       "    this.message = undefined;\n",
       "    this.canvas = undefined;\n",
       "    this.rubberband_canvas = undefined;\n",
       "    this.rubberband_context = undefined;\n",
       "    this.format_dropdown = undefined;\n",
       "\n",
       "    this.image_mode = 'full';\n",
       "\n",
       "    this.root = $('<div/>');\n",
       "    this._root_extra_style(this.root)\n",
       "    this.root.attr('style', 'display: inline-block');\n",
       "\n",
       "    $(parent_element).append(this.root);\n",
       "\n",
       "    this._init_header(this);\n",
       "    this._init_canvas(this);\n",
       "    this._init_toolbar(this);\n",
       "\n",
       "    var fig = this;\n",
       "\n",
       "    this.waiting = false;\n",
       "\n",
       "    this.ws.onopen =  function () {\n",
       "            fig.send_message(\"supports_binary\", {value: fig.supports_binary});\n",
       "            fig.send_message(\"send_image_mode\", {});\n",
       "            fig.send_message(\"refresh\", {});\n",
       "        }\n",
       "\n",
       "    this.imageObj.onload = function() {\n",
       "            if (fig.image_mode == 'full') {\n",
       "                // Full images could contain transparency (where diff images\n",
       "                // almost always do), so we need to clear the canvas so that\n",
       "                // there is no ghosting.\n",
       "                fig.context.clearRect(0, 0, fig.canvas.width, fig.canvas.height);\n",
       "            }\n",
       "            fig.context.drawImage(fig.imageObj, 0, 0);\n",
       "        };\n",
       "\n",
       "    this.imageObj.onunload = function() {\n",
       "        this.ws.close();\n",
       "    }\n",
       "\n",
       "    this.ws.onmessage = this._make_on_message_function(this);\n",
       "\n",
       "    this.ondownload = ondownload;\n",
       "}\n",
       "\n",
       "mpl.figure.prototype._init_header = function() {\n",
       "    var titlebar = $(\n",
       "        '<div class=\"ui-dialog-titlebar ui-widget-header ui-corner-all ' +\n",
       "        'ui-helper-clearfix\"/>');\n",
       "    var titletext = $(\n",
       "        '<div class=\"ui-dialog-title\" style=\"width: 100%; ' +\n",
       "        'text-align: center; padding: 3px;\"/>');\n",
       "    titlebar.append(titletext)\n",
       "    this.root.append(titlebar);\n",
       "    this.header = titletext[0];\n",
       "}\n",
       "\n",
       "\n",
       "\n",
       "mpl.figure.prototype._canvas_extra_style = function(canvas_div) {\n",
       "\n",
       "}\n",
       "\n",
       "\n",
       "mpl.figure.prototype._root_extra_style = function(canvas_div) {\n",
       "\n",
       "}\n",
       "\n",
       "mpl.figure.prototype._init_canvas = function() {\n",
       "    var fig = this;\n",
       "\n",
       "    var canvas_div = $('<div/>');\n",
       "\n",
       "    canvas_div.attr('style', 'position: relative; clear: both; outline: 0');\n",
       "\n",
       "    function canvas_keyboard_event(event) {\n",
       "        return fig.key_event(event, event['data']);\n",
       "    }\n",
       "\n",
       "    canvas_div.keydown('key_press', canvas_keyboard_event);\n",
       "    canvas_div.keyup('key_release', canvas_keyboard_event);\n",
       "    this.canvas_div = canvas_div\n",
       "    this._canvas_extra_style(canvas_div)\n",
       "    this.root.append(canvas_div);\n",
       "\n",
       "    var canvas = $('<canvas/>');\n",
       "    canvas.addClass('mpl-canvas');\n",
       "    canvas.attr('style', \"left: 0; top: 0; z-index: 0; outline: 0\")\n",
       "\n",
       "    this.canvas = canvas[0];\n",
       "    this.context = canvas[0].getContext(\"2d\");\n",
       "\n",
       "    var rubberband = $('<canvas/>');\n",
       "    rubberband.attr('style', \"position: absolute; left: 0; top: 0; z-index: 1;\")\n",
       "\n",
       "    var pass_mouse_events = true;\n",
       "\n",
       "    canvas_div.resizable({\n",
       "        start: function(event, ui) {\n",
       "            pass_mouse_events = false;\n",
       "        },\n",
       "        resize: function(event, ui) {\n",
       "            fig.request_resize(ui.size.width, ui.size.height);\n",
       "        },\n",
       "        stop: function(event, ui) {\n",
       "            pass_mouse_events = true;\n",
       "            fig.request_resize(ui.size.width, ui.size.height);\n",
       "        },\n",
       "    });\n",
       "\n",
       "    function mouse_event_fn(event) {\n",
       "        if (pass_mouse_events)\n",
       "            return fig.mouse_event(event, event['data']);\n",
       "    }\n",
       "\n",
       "    rubberband.mousedown('button_press', mouse_event_fn);\n",
       "    rubberband.mouseup('button_release', mouse_event_fn);\n",
       "    // Throttle sequential mouse events to 1 every 20ms.\n",
       "    rubberband.mousemove('motion_notify', mouse_event_fn);\n",
       "\n",
       "    rubberband.mouseenter('figure_enter', mouse_event_fn);\n",
       "    rubberband.mouseleave('figure_leave', mouse_event_fn);\n",
       "\n",
       "    canvas_div.on(\"wheel\", function (event) {\n",
       "        event = event.originalEvent;\n",
       "        event['data'] = 'scroll'\n",
       "        if (event.deltaY < 0) {\n",
       "            event.step = 1;\n",
       "        } else {\n",
       "            event.step = -1;\n",
       "        }\n",
       "        mouse_event_fn(event);\n",
       "    });\n",
       "\n",
       "    canvas_div.append(canvas);\n",
       "    canvas_div.append(rubberband);\n",
       "\n",
       "    this.rubberband = rubberband;\n",
       "    this.rubberband_canvas = rubberband[0];\n",
       "    this.rubberband_context = rubberband[0].getContext(\"2d\");\n",
       "    this.rubberband_context.strokeStyle = \"#000000\";\n",
       "\n",
       "    this._resize_canvas = function(width, height) {\n",
       "        // Keep the size of the canvas, canvas container, and rubber band\n",
       "        // canvas in synch.\n",
       "        canvas_div.css('width', width)\n",
       "        canvas_div.css('height', height)\n",
       "\n",
       "        canvas.attr('width', width);\n",
       "        canvas.attr('height', height);\n",
       "\n",
       "        rubberband.attr('width', width);\n",
       "        rubberband.attr('height', height);\n",
       "    }\n",
       "\n",
       "    // Set the figure to an initial 600x600px, this will subsequently be updated\n",
       "    // upon first draw.\n",
       "    this._resize_canvas(600, 600);\n",
       "\n",
       "    // Disable right mouse context menu.\n",
       "    $(this.rubberband_canvas).bind(\"contextmenu\",function(e){\n",
       "        return false;\n",
       "    });\n",
       "\n",
       "    function set_focus () {\n",
       "        canvas.focus();\n",
       "        canvas_div.focus();\n",
       "    }\n",
       "\n",
       "    window.setTimeout(set_focus, 100);\n",
       "}\n",
       "\n",
       "mpl.figure.prototype._init_toolbar = function() {\n",
       "    var fig = this;\n",
       "\n",
       "    var nav_element = $('<div/>')\n",
       "    nav_element.attr('style', 'width: 100%');\n",
       "    this.root.append(nav_element);\n",
       "\n",
       "    // Define a callback function for later on.\n",
       "    function toolbar_event(event) {\n",
       "        return fig.toolbar_button_onclick(event['data']);\n",
       "    }\n",
       "    function toolbar_mouse_event(event) {\n",
       "        return fig.toolbar_button_onmouseover(event['data']);\n",
       "    }\n",
       "\n",
       "    for(var toolbar_ind in mpl.toolbar_items) {\n",
       "        var name = mpl.toolbar_items[toolbar_ind][0];\n",
       "        var tooltip = mpl.toolbar_items[toolbar_ind][1];\n",
       "        var image = mpl.toolbar_items[toolbar_ind][2];\n",
       "        var method_name = mpl.toolbar_items[toolbar_ind][3];\n",
       "\n",
       "        if (!name) {\n",
       "            // put a spacer in here.\n",
       "            continue;\n",
       "        }\n",
       "        var button = $('<button/>');\n",
       "        button.addClass('ui-button ui-widget ui-state-default ui-corner-all ' +\n",
       "                        'ui-button-icon-only');\n",
       "        button.attr('role', 'button');\n",
       "        button.attr('aria-disabled', 'false');\n",
       "        button.click(method_name, toolbar_event);\n",
       "        button.mouseover(tooltip, toolbar_mouse_event);\n",
       "\n",
       "        var icon_img = $('<span/>');\n",
       "        icon_img.addClass('ui-button-icon-primary ui-icon');\n",
       "        icon_img.addClass(image);\n",
       "        icon_img.addClass('ui-corner-all');\n",
       "\n",
       "        var tooltip_span = $('<span/>');\n",
       "        tooltip_span.addClass('ui-button-text');\n",
       "        tooltip_span.html(tooltip);\n",
       "\n",
       "        button.append(icon_img);\n",
       "        button.append(tooltip_span);\n",
       "\n",
       "        nav_element.append(button);\n",
       "    }\n",
       "\n",
       "    var fmt_picker_span = $('<span/>');\n",
       "\n",
       "    var fmt_picker = $('<select/>');\n",
       "    fmt_picker.addClass('mpl-toolbar-option ui-widget ui-widget-content');\n",
       "    fmt_picker_span.append(fmt_picker);\n",
       "    nav_element.append(fmt_picker_span);\n",
       "    this.format_dropdown = fmt_picker[0];\n",
       "\n",
       "    for (var ind in mpl.extensions) {\n",
       "        var fmt = mpl.extensions[ind];\n",
       "        var option = $(\n",
       "            '<option/>', {selected: fmt === mpl.default_extension}).html(fmt);\n",
       "        fmt_picker.append(option)\n",
       "    }\n",
       "\n",
       "    // Add hover states to the ui-buttons\n",
       "    $( \".ui-button\" ).hover(\n",
       "        function() { $(this).addClass(\"ui-state-hover\");},\n",
       "        function() { $(this).removeClass(\"ui-state-hover\");}\n",
       "    );\n",
       "\n",
       "    var status_bar = $('<span class=\"mpl-message\"/>');\n",
       "    nav_element.append(status_bar);\n",
       "    this.message = status_bar[0];\n",
       "}\n",
       "\n",
       "mpl.figure.prototype.request_resize = function(x_pixels, y_pixels) {\n",
       "    // Request matplotlib to resize the figure. Matplotlib will then trigger a resize in the client,\n",
       "    // which will in turn request a refresh of the image.\n",
       "    this.send_message('resize', {'width': x_pixels, 'height': y_pixels});\n",
       "}\n",
       "\n",
       "mpl.figure.prototype.send_message = function(type, properties) {\n",
       "    properties['type'] = type;\n",
       "    properties['figure_id'] = this.id;\n",
       "    this.ws.send(JSON.stringify(properties));\n",
       "}\n",
       "\n",
       "mpl.figure.prototype.send_draw_message = function() {\n",
       "    if (!this.waiting) {\n",
       "        this.waiting = true;\n",
       "        this.ws.send(JSON.stringify({type: \"draw\", figure_id: this.id}));\n",
       "    }\n",
       "}\n",
       "\n",
       "\n",
       "mpl.figure.prototype.handle_save = function(fig, msg) {\n",
       "    var format_dropdown = fig.format_dropdown;\n",
       "    var format = format_dropdown.options[format_dropdown.selectedIndex].value;\n",
       "    fig.ondownload(fig, format);\n",
       "}\n",
       "\n",
       "\n",
       "mpl.figure.prototype.handle_resize = function(fig, msg) {\n",
       "    var size = msg['size'];\n",
       "    if (size[0] != fig.canvas.width || size[1] != fig.canvas.height) {\n",
       "        fig._resize_canvas(size[0], size[1]);\n",
       "        fig.send_message(\"refresh\", {});\n",
       "    };\n",
       "}\n",
       "\n",
       "mpl.figure.prototype.handle_rubberband = function(fig, msg) {\n",
       "    var x0 = msg['x0'];\n",
       "    var y0 = fig.canvas.height - msg['y0'];\n",
       "    var x1 = msg['x1'];\n",
       "    var y1 = fig.canvas.height - msg['y1'];\n",
       "    x0 = Math.floor(x0) + 0.5;\n",
       "    y0 = Math.floor(y0) + 0.5;\n",
       "    x1 = Math.floor(x1) + 0.5;\n",
       "    y1 = Math.floor(y1) + 0.5;\n",
       "    var min_x = Math.min(x0, x1);\n",
       "    var min_y = Math.min(y0, y1);\n",
       "    var width = Math.abs(x1 - x0);\n",
       "    var height = Math.abs(y1 - y0);\n",
       "\n",
       "    fig.rubberband_context.clearRect(\n",
       "        0, 0, fig.canvas.width, fig.canvas.height);\n",
       "\n",
       "    fig.rubberband_context.strokeRect(min_x, min_y, width, height);\n",
       "}\n",
       "\n",
       "mpl.figure.prototype.handle_figure_label = function(fig, msg) {\n",
       "    // Updates the figure title.\n",
       "    fig.header.textContent = msg['label'];\n",
       "}\n",
       "\n",
       "mpl.figure.prototype.handle_cursor = function(fig, msg) {\n",
       "    var cursor = msg['cursor'];\n",
       "    switch(cursor)\n",
       "    {\n",
       "    case 0:\n",
       "        cursor = 'pointer';\n",
       "        break;\n",
       "    case 1:\n",
       "        cursor = 'default';\n",
       "        break;\n",
       "    case 2:\n",
       "        cursor = 'crosshair';\n",
       "        break;\n",
       "    case 3:\n",
       "        cursor = 'move';\n",
       "        break;\n",
       "    }\n",
       "    fig.rubberband_canvas.style.cursor = cursor;\n",
       "}\n",
       "\n",
       "mpl.figure.prototype.handle_message = function(fig, msg) {\n",
       "    fig.message.textContent = msg['message'];\n",
       "}\n",
       "\n",
       "mpl.figure.prototype.handle_draw = function(fig, msg) {\n",
       "    // Request the server to send over a new figure.\n",
       "    fig.send_draw_message();\n",
       "}\n",
       "\n",
       "mpl.figure.prototype.handle_image_mode = function(fig, msg) {\n",
       "    fig.image_mode = msg['mode'];\n",
       "}\n",
       "\n",
       "mpl.figure.prototype.updated_canvas_event = function() {\n",
       "    // Called whenever the canvas gets updated.\n",
       "    this.send_message(\"ack\", {});\n",
       "}\n",
       "\n",
       "// A function to construct a web socket function for onmessage handling.\n",
       "// Called in the figure constructor.\n",
       "mpl.figure.prototype._make_on_message_function = function(fig) {\n",
       "    return function socket_on_message(evt) {\n",
       "        if (evt.data instanceof Blob) {\n",
       "            /* FIXME: We get \"Resource interpreted as Image but\n",
       "             * transferred with MIME type text/plain:\" errors on\n",
       "             * Chrome.  But how to set the MIME type?  It doesn't seem\n",
       "             * to be part of the websocket stream */\n",
       "            evt.data.type = \"image/png\";\n",
       "\n",
       "            /* Free the memory for the previous frames */\n",
       "            if (fig.imageObj.src) {\n",
       "                (window.URL || window.webkitURL).revokeObjectURL(\n",
       "                    fig.imageObj.src);\n",
       "            }\n",
       "\n",
       "            fig.imageObj.src = (window.URL || window.webkitURL).createObjectURL(\n",
       "                evt.data);\n",
       "            fig.updated_canvas_event();\n",
       "            fig.waiting = false;\n",
       "            return;\n",
       "        }\n",
       "        else if (typeof evt.data === 'string' && evt.data.slice(0, 21) == \"data:image/png;base64\") {\n",
       "            fig.imageObj.src = evt.data;\n",
       "            fig.updated_canvas_event();\n",
       "            fig.waiting = false;\n",
       "            return;\n",
       "        }\n",
       "\n",
       "        var msg = JSON.parse(evt.data);\n",
       "        var msg_type = msg['type'];\n",
       "\n",
       "        // Call the  \"handle_{type}\" callback, which takes\n",
       "        // the figure and JSON message as its only arguments.\n",
       "        try {\n",
       "            var callback = fig[\"handle_\" + msg_type];\n",
       "        } catch (e) {\n",
       "            console.log(\"No handler for the '\" + msg_type + \"' message type: \", msg);\n",
       "            return;\n",
       "        }\n",
       "\n",
       "        if (callback) {\n",
       "            try {\n",
       "                // console.log(\"Handling '\" + msg_type + \"' message: \", msg);\n",
       "                callback(fig, msg);\n",
       "            } catch (e) {\n",
       "                console.log(\"Exception inside the 'handler_\" + msg_type + \"' callback:\", e, e.stack, msg);\n",
       "            }\n",
       "        }\n",
       "    };\n",
       "}\n",
       "\n",
       "// from http://stackoverflow.com/questions/1114465/getting-mouse-location-in-canvas\n",
       "mpl.findpos = function(e) {\n",
       "    //this section is from http://www.quirksmode.org/js/events_properties.html\n",
       "    var targ;\n",
       "    if (!e)\n",
       "        e = window.event;\n",
       "    if (e.target)\n",
       "        targ = e.target;\n",
       "    else if (e.srcElement)\n",
       "        targ = e.srcElement;\n",
       "    if (targ.nodeType == 3) // defeat Safari bug\n",
       "        targ = targ.parentNode;\n",
       "\n",
       "    // jQuery normalizes the pageX and pageY\n",
       "    // pageX,Y are the mouse positions relative to the document\n",
       "    // offset() returns the position of the element relative to the document\n",
       "    var x = e.pageX - $(targ).offset().left;\n",
       "    var y = e.pageY - $(targ).offset().top;\n",
       "\n",
       "    return {\"x\": x, \"y\": y};\n",
       "};\n",
       "\n",
       "/*\n",
       " * return a copy of an object with only non-object keys\n",
       " * we need this to avoid circular references\n",
       " * http://stackoverflow.com/a/24161582/3208463\n",
       " */\n",
       "function simpleKeys (original) {\n",
       "  return Object.keys(original).reduce(function (obj, key) {\n",
       "    if (typeof original[key] !== 'object')\n",
       "        obj[key] = original[key]\n",
       "    return obj;\n",
       "  }, {});\n",
       "}\n",
       "\n",
       "mpl.figure.prototype.mouse_event = function(event, name) {\n",
       "    var canvas_pos = mpl.findpos(event)\n",
       "\n",
       "    if (name === 'button_press')\n",
       "    {\n",
       "        this.canvas.focus();\n",
       "        this.canvas_div.focus();\n",
       "    }\n",
       "\n",
       "    var x = canvas_pos.x;\n",
       "    var y = canvas_pos.y;\n",
       "\n",
       "    this.send_message(name, {x: x, y: y, button: event.button,\n",
       "                             step: event.step,\n",
       "                             guiEvent: simpleKeys(event)});\n",
       "\n",
       "    /* This prevents the web browser from automatically changing to\n",
       "     * the text insertion cursor when the button is pressed.  We want\n",
       "     * to control all of the cursor setting manually through the\n",
       "     * 'cursor' event from matplotlib */\n",
       "    event.preventDefault();\n",
       "    return false;\n",
       "}\n",
       "\n",
       "mpl.figure.prototype._key_event_extra = function(event, name) {\n",
       "    // Handle any extra behaviour associated with a key event\n",
       "}\n",
       "\n",
       "mpl.figure.prototype.key_event = function(event, name) {\n",
       "\n",
       "    // Prevent repeat events\n",
       "    if (name == 'key_press')\n",
       "    {\n",
       "        if (event.which === this._key)\n",
       "            return;\n",
       "        else\n",
       "            this._key = event.which;\n",
       "    }\n",
       "    if (name == 'key_release')\n",
       "        this._key = null;\n",
       "\n",
       "    var value = '';\n",
       "    if (event.ctrlKey && event.which != 17)\n",
       "        value += \"ctrl+\";\n",
       "    if (event.altKey && event.which != 18)\n",
       "        value += \"alt+\";\n",
       "    if (event.shiftKey && event.which != 16)\n",
       "        value += \"shift+\";\n",
       "\n",
       "    value += 'k';\n",
       "    value += event.which.toString();\n",
       "\n",
       "    this._key_event_extra(event, name);\n",
       "\n",
       "    this.send_message(name, {key: value,\n",
       "                             guiEvent: simpleKeys(event)});\n",
       "    return false;\n",
       "}\n",
       "\n",
       "mpl.figure.prototype.toolbar_button_onclick = function(name) {\n",
       "    if (name == 'download') {\n",
       "        this.handle_save(this, null);\n",
       "    } else {\n",
       "        this.send_message(\"toolbar_button\", {name: name});\n",
       "    }\n",
       "};\n",
       "\n",
       "mpl.figure.prototype.toolbar_button_onmouseover = function(tooltip) {\n",
       "    this.message.textContent = tooltip;\n",
       "};\n",
       "mpl.toolbar_items = [[\"Home\", \"Reset original view\", \"fa fa-home icon-home\", \"home\"], [\"Back\", \"Back to  previous view\", \"fa fa-arrow-left icon-arrow-left\", \"back\"], [\"Forward\", \"Forward to next view\", \"fa fa-arrow-right icon-arrow-right\", \"forward\"], [\"\", \"\", \"\", \"\"], [\"Pan\", \"Pan axes with left mouse, zoom with right\", \"fa fa-arrows icon-move\", \"pan\"], [\"Zoom\", \"Zoom to rectangle\", \"fa fa-square-o icon-check-empty\", \"zoom\"], [\"\", \"\", \"\", \"\"], [\"Download\", \"Download plot\", \"fa fa-floppy-o icon-save\", \"download\"]];\n",
       "\n",
       "mpl.extensions = [\"eps\", \"jpeg\", \"pdf\", \"png\", \"ps\", \"raw\", \"svg\", \"tif\"];\n",
       "\n",
       "mpl.default_extension = \"png\";var comm_websocket_adapter = function(comm) {\n",
       "    // Create a \"websocket\"-like object which calls the given IPython comm\n",
       "    // object with the appropriate methods. Currently this is a non binary\n",
       "    // socket, so there is still some room for performance tuning.\n",
       "    var ws = {};\n",
       "\n",
       "    ws.close = function() {\n",
       "        comm.close()\n",
       "    };\n",
       "    ws.send = function(m) {\n",
       "        //console.log('sending', m);\n",
       "        comm.send(m);\n",
       "    };\n",
       "    // Register the callback with on_msg.\n",
       "    comm.on_msg(function(msg) {\n",
       "        //console.log('receiving', msg['content']['data'], msg);\n",
       "        // Pass the mpl event to the overriden (by mpl) onmessage function.\n",
       "        ws.onmessage(msg['content']['data'])\n",
       "    });\n",
       "    return ws;\n",
       "}\n",
       "\n",
       "mpl.mpl_figure_comm = function(comm, msg) {\n",
       "    // This is the function which gets called when the mpl process\n",
       "    // starts-up an IPython Comm through the \"matplotlib\" channel.\n",
       "\n",
       "    var id = msg.content.data.id;\n",
       "    // Get hold of the div created by the display call when the Comm\n",
       "    // socket was opened in Python.\n",
       "    var element = $(\"#\" + id);\n",
       "    var ws_proxy = comm_websocket_adapter(comm)\n",
       "\n",
       "    function ondownload(figure, format) {\n",
       "        window.open(figure.imageObj.src);\n",
       "    }\n",
       "\n",
       "    var fig = new mpl.figure(id, ws_proxy,\n",
       "                           ondownload,\n",
       "                           element.get(0));\n",
       "\n",
       "    // Call onopen now - mpl needs it, as it is assuming we've passed it a real\n",
       "    // web socket which is closed, not our websocket->open comm proxy.\n",
       "    ws_proxy.onopen();\n",
       "\n",
       "    fig.parent_element = element.get(0);\n",
       "    fig.cell_info = mpl.find_output_cell(\"<div id='\" + id + \"'></div>\");\n",
       "    if (!fig.cell_info) {\n",
       "        console.error(\"Failed to find cell for figure\", id, fig);\n",
       "        return;\n",
       "    }\n",
       "\n",
       "    var output_index = fig.cell_info[2]\n",
       "    var cell = fig.cell_info[0];\n",
       "\n",
       "};\n",
       "\n",
       "mpl.figure.prototype.handle_close = function(fig, msg) {\n",
       "    fig.root.unbind('remove')\n",
       "\n",
       "    // Update the output cell to use the data from the current canvas.\n",
       "    fig.push_to_output();\n",
       "    var dataURL = fig.canvas.toDataURL();\n",
       "    // Re-enable the keyboard manager in IPython - without this line, in FF,\n",
       "    // the notebook keyboard shortcuts fail.\n",
       "    IPython.keyboard_manager.enable()\n",
       "    $(fig.parent_element).html('<img src=\"' + dataURL + '\">');\n",
       "    fig.close_ws(fig, msg);\n",
       "}\n",
       "\n",
       "mpl.figure.prototype.close_ws = function(fig, msg){\n",
       "    fig.send_message('closing', msg);\n",
       "    // fig.ws.close()\n",
       "}\n",
       "\n",
       "mpl.figure.prototype.push_to_output = function(remove_interactive) {\n",
       "    // Turn the data on the canvas into data in the output cell.\n",
       "    var dataURL = this.canvas.toDataURL();\n",
       "    this.cell_info[1]['text/html'] = '<img src=\"' + dataURL + '\">';\n",
       "}\n",
       "\n",
       "mpl.figure.prototype.updated_canvas_event = function() {\n",
       "    // Tell IPython that the notebook contents must change.\n",
       "    IPython.notebook.set_dirty(true);\n",
       "    this.send_message(\"ack\", {});\n",
       "    var fig = this;\n",
       "    // Wait a second, then push the new image to the DOM so\n",
       "    // that it is saved nicely (might be nice to debounce this).\n",
       "    setTimeout(function () { fig.push_to_output() }, 1000);\n",
       "}\n",
       "\n",
       "mpl.figure.prototype._init_toolbar = function() {\n",
       "    var fig = this;\n",
       "\n",
       "    var nav_element = $('<div/>')\n",
       "    nav_element.attr('style', 'width: 100%');\n",
       "    this.root.append(nav_element);\n",
       "\n",
       "    // Define a callback function for later on.\n",
       "    function toolbar_event(event) {\n",
       "        return fig.toolbar_button_onclick(event['data']);\n",
       "    }\n",
       "    function toolbar_mouse_event(event) {\n",
       "        return fig.toolbar_button_onmouseover(event['data']);\n",
       "    }\n",
       "\n",
       "    for(var toolbar_ind in mpl.toolbar_items){\n",
       "        var name = mpl.toolbar_items[toolbar_ind][0];\n",
       "        var tooltip = mpl.toolbar_items[toolbar_ind][1];\n",
       "        var image = mpl.toolbar_items[toolbar_ind][2];\n",
       "        var method_name = mpl.toolbar_items[toolbar_ind][3];\n",
       "\n",
       "        if (!name) { continue; };\n",
       "\n",
       "        var button = $('<button class=\"btn btn-default\" href=\"#\" title=\"' + name + '\"><i class=\"fa ' + image + ' fa-lg\"></i></button>');\n",
       "        button.click(method_name, toolbar_event);\n",
       "        button.mouseover(tooltip, toolbar_mouse_event);\n",
       "        nav_element.append(button);\n",
       "    }\n",
       "\n",
       "    // Add the status bar.\n",
       "    var status_bar = $('<span class=\"mpl-message\" style=\"text-align:right; float: right;\"/>');\n",
       "    nav_element.append(status_bar);\n",
       "    this.message = status_bar[0];\n",
       "\n",
       "    // Add the close button to the window.\n",
       "    var buttongrp = $('<div class=\"btn-group inline pull-right\"></div>');\n",
       "    var button = $('<button class=\"btn btn-mini btn-primary\" href=\"#\" title=\"Stop Interaction\"><i class=\"fa fa-power-off icon-remove icon-large\"></i></button>');\n",
       "    button.click(function (evt) { fig.handle_close(fig, {}); } );\n",
       "    button.mouseover('Stop Interaction', toolbar_mouse_event);\n",
       "    buttongrp.append(button);\n",
       "    var titlebar = this.root.find($('.ui-dialog-titlebar'));\n",
       "    titlebar.prepend(buttongrp);\n",
       "}\n",
       "\n",
       "mpl.figure.prototype._root_extra_style = function(el){\n",
       "    var fig = this\n",
       "    el.on(\"remove\", function(){\n",
       "\tfig.close_ws(fig, {});\n",
       "    });\n",
       "}\n",
       "\n",
       "mpl.figure.prototype._canvas_extra_style = function(el){\n",
       "    // this is important to make the div 'focusable\n",
       "    el.attr('tabindex', 0)\n",
       "    // reach out to IPython and tell the keyboard manager to turn it's self\n",
       "    // off when our div gets focus\n",
       "\n",
       "    // location in version 3\n",
       "    if (IPython.notebook.keyboard_manager) {\n",
       "        IPython.notebook.keyboard_manager.register_events(el);\n",
       "    }\n",
       "    else {\n",
       "        // location in version 2\n",
       "        IPython.keyboard_manager.register_events(el);\n",
       "    }\n",
       "\n",
       "}\n",
       "\n",
       "mpl.figure.prototype._key_event_extra = function(event, name) {\n",
       "    var manager = IPython.notebook.keyboard_manager;\n",
       "    if (!manager)\n",
       "        manager = IPython.keyboard_manager;\n",
       "\n",
       "    // Check for shift+enter\n",
       "    if (event.shiftKey && event.which == 13) {\n",
       "        this.canvas_div.blur();\n",
       "        // select the cell after this one\n",
       "        var index = IPython.notebook.find_cell_index(this.cell_info[0]);\n",
       "        IPython.notebook.select(index + 1);\n",
       "    }\n",
       "}\n",
       "\n",
       "mpl.figure.prototype.handle_save = function(fig, msg) {\n",
       "    fig.ondownload(fig, null);\n",
       "}\n",
       "\n",
       "\n",
       "mpl.find_output_cell = function(html_output) {\n",
       "    // Return the cell and output element which can be found *uniquely* in the notebook.\n",
       "    // Note - this is a bit hacky, but it is done because the \"notebook_saving.Notebook\"\n",
       "    // IPython event is triggered only after the cells have been serialised, which for\n",
       "    // our purposes (turning an active figure into a static one), is too late.\n",
       "    var cells = IPython.notebook.get_cells();\n",
       "    var ncells = cells.length;\n",
       "    for (var i=0; i<ncells; i++) {\n",
       "        var cell = cells[i];\n",
       "        if (cell.cell_type === 'code'){\n",
       "            for (var j=0; j<cell.output_area.outputs.length; j++) {\n",
       "                var data = cell.output_area.outputs[j];\n",
       "                if (data.data) {\n",
       "                    // IPython >= 3 moved mimebundle to data attribute of output\n",
       "                    data = data.data;\n",
       "                }\n",
       "                if (data['text/html'] == html_output) {\n",
       "                    return [cell, data, j];\n",
       "                }\n",
       "            }\n",
       "        }\n",
       "    }\n",
       "}\n",
       "\n",
       "// Register the function which deals with the matplotlib target/channel.\n",
       "// The kernel may be null if the page has been refreshed.\n",
       "if (IPython.notebook.kernel != null) {\n",
       "    IPython.notebook.kernel.comm_manager.register_target('matplotlib', mpl.mpl_figure_comm);\n",
       "}\n"
      ],
      "text/plain": [
       "<IPython.core.display.Javascript object>"
      ]
     },
     "metadata": {},
     "output_type": "display_data"
    },
    {
     "data": {
      "text/html": [
       "<img src=\"data:image/png;base64,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\">"
      ],
      "text/plain": [
       "<IPython.core.display.HTML object>"
      ]
     },
     "metadata": {},
     "output_type": "display_data"
    },
    {
     "name": "stdout",
     "output_type": "stream",
     "text": [
      "9717 9713 9713\n",
      "9717 9713 9713\n",
      "9717 9713 9713\n"
     ]
    }
   ],
   "source": [
    "f1 = FloatProgress(min=0, max=100)\n",
    "display(f1)\n",
    "L1 = widgets.Label(\"\")\n",
    "display(L1)\n",
    "progress1 = widgets.Label(\"\")\n",
    "display(progress1)\n",
    "\n",
    "def plot_(x,y,plot_all,interpolation_degree):\n",
    "    if \"all_data\" in plot_all: \n",
    "        plt.plot(x,y,'k.')\n",
    "    if \"fit\" in plot_all:\n",
    "        fit  = np.poly1d(np.polyfit(x, y, interpolation_degree))\n",
    "        plt.plot(x,fit(x),\"r.\")\n",
    "#     if \"fit+data\" in plot_all:\n",
    "#         plt.plot(x,y,'.')\n",
    "#         fit  = np.poly1d(np.polyfit(x, y, interpolation_degree))\n",
    "#         plt.plot(x,fit(x),\".\")\n",
    "    if \"average\" in plot_all:\n",
    "        N = interpolation_degree\n",
    "        new_y = [yi for (xi,yi) in sorted(zip(x,y))]\n",
    "#         new_x, new_y = zip(*sorted(zip(x,y), key=operator.itemgetter(0)))\n",
    "        y_mean = np.convolve(new_y, np.ones((N,))/N, mode='valid')\n",
    "        x_mean= np.linspace(min(x),max(x),len(y_mean))\n",
    "        print len(x),len(y_mean),len(x_mean)\n",
    "        plt.plot(x_mean,y_mean,'g',linewidth=0.1)\n",
    "        \n",
    "def get_normal_stress_differences(path_addition,phivals, ydvals,ia,scale,plot_all,interpolation_degree,dpi=80):\n",
    "    N1_list = []\n",
    "    N2_list = []\n",
    "    Ndiff_list = []\n",
    "    nu_list = []\n",
    "    shearstress_list = []\n",
    "    \n",
    "    for phival in phivals:\n",
    "        for ydval in ydvals:\n",
    "            try:\n",
    "                stress_path = path_addition+\"rhor1_phi\"+str(phival)+\"_yd\"+str(float(ydval))+\"/result/part_stress_norm_\"+ia+\"_t.dat\"\n",
    "                nu_path = path_addition+\"rhor1_phi\"+str(phival)+\"_yd\"+str(float(ydval))+\"/result/nu_t.dat\"\n",
    "                #define paths to datafile here\n",
    "                df_stress = pd.read_csv(stress_path)\n",
    "                s11 = np.asarray(df_stress[df_stress.columns[2]])[100:]\n",
    "                s22 = np.asarray(df_stress[df_stress.columns[3]])[100:]\n",
    "                s33 = np.asarray(df_stress[df_stress.columns[4]])[100:]\n",
    "                #calculate N1,N1,N1-N2 \n",
    "                N1 = s11-s33\n",
    "                N2 = s33-s22\n",
    "                Ndiff =  N1 - N2\n",
    "                #get viscosity and calculate shear stress from viscosity\n",
    "                nu = pd.read_csv(nu_path)\n",
    "                nu = nu[nu.columns[2]][100:]\n",
    "                shearstress = np.multiply(nu,ydval)\n",
    "                #appending the N1,N2 and shear stress vals to the the main lists\n",
    "                usable_idx = min(len(nu),len(N1))\n",
    "                N1_list.extend(N1[:usable_idx])\n",
    "                N2_list.extend(N2[:usable_idx])\n",
    "                Ndiff_list.extend(Ndiff[:usable_idx])\n",
    "                shearstress_list.extend(shearstress[:usable_idx])\n",
    "                \n",
    "            except Exception as e:\n",
    "                print e \n",
    "                continue\n",
    "                \n",
    "    plt.figure(figsize=[12,3.5],dpi=dpi)\n",
    "    plt.suptitle(\"$\\phi$ =\"+ str(phivals))\n",
    "    \n",
    "    plt.subplot(131)\n",
    "    plot_(shearstress_list,N1_list,plot_all,interpolation_degree)\n",
    "    plt.xscale(scale);plt.yscale(scale)\n",
    "    plt.xlabel(\"shear stress (Pa)\"); plt.ylabel(\"N1 (Pa)\")\n",
    "    \n",
    "    plt.subplot(132)\n",
    "    plot_(shearstress_list,N2_list,plot_all,interpolation_degree)\n",
    "    plt.xscale(scale);plt.yscale(scale)\n",
    "    plt.xlabel(\"shear stress (Pa)\"); plt.ylabel(\"N2 (Pa)\")\n",
    "    \n",
    "    plt.subplot(133)\n",
    "    plot_(shearstress_list,Ndiff_list,plot_all,interpolation_degree)\n",
    "    plt.xscale(scale);plt.yscale(scale)\n",
    "    plt.xlabel(\"shear stress (Pa)\"); plt.ylabel(\"N1-N2 (Pa)\")\n",
    "    \n",
    "    plt.tight_layout()\n",
    "    \n",
    "widget_get_normal_stress_differences = interactive(get_normal_stress_differences, \\\n",
    "    path_addition = widgets.Text(value=\"./\"),\\\n",
    "    phivals = widgets.SelectMultiple(options=[40,45,50,54,55,56,58],value=[56],disabled=False), \\\n",
    "    ydvals= widgets.SelectMultiple(options=[1,10,11,11.5,12,12.5,13,14,15,16,18,20,30,50,100,100,200,300,1000],\n",
    "                                   value=[1,10,11,11.5,12,12.5,13,14,15,16,18,20,30,50,100,100,200,300,1000]),\\\n",
    "\n",
    "    ia= widgets.ToggleButtons(options=['tot','lub','hd','rep','fric'], value= 'tot'),\\\n",
    "#     x_axis = widgets.ToggleButtons(options = ['shearstress','shearrate']),\\\n",
    "#      marker = widgets.Text(value=\"o\"),\\\n",
    "    scale = widgets.ToggleButtons(options = [\"log\",\"linear\",\"symlog\"], value= \"symlog\"),\\\n",
    "#       norm = widgets.ToggleButtons(description = \"use absolute value of stresses?\", options = [\"True\",\"False\"]),\\\n",
    "    plot_all = widgets.SelectMultiple(options= [\"fit\",\"all_data\",\"average\"], value = [\"all_data\"]),\\\n",
    "    interpolation_degree = widgets.IntText(value=5,max=30,min=1),\\\n",
    "    __manual=True)\n",
    "\n",
    "display(widgets.HBox(widget_get_normal_stress_differences.children[:3]))\n",
    "display(widgets.HBox(widget_get_normal_stress_differences.children[3:6]))\n",
    "display(widgets.HBox(widget_get_normal_stress_differences.children[6:]))"
   ]
  },
  {
   "cell_type": "code",
   "execution_count": null,
   "metadata": {
    "collapsed": true
   },
   "outputs": [],
   "source": []
  }
 ],
 "metadata": {
  "anaconda-cloud": {},
  "kernelspec": {
   "display_name": "Python [default]",
   "language": "python",
   "name": "python2"
  },
  "language_info": {
   "codemirror_mode": {
    "name": "ipython",
    "version": 2
   },
   "file_extension": ".py",
   "mimetype": "text/x-python",
   "name": "python",
   "nbconvert_exporter": "python",
   "pygments_lexer": "ipython2",
   "version": "2.7.13"
  },
  "widgets": {
   "state": {
    "0173a52ebbac45399382507483ff9b56": {
     "views": [
      {
       "cell_index": 11
      }
     ]
    },
    "08cce5840eef4526b2f10d2540ed2471": {
     "views": [
      {
       "cell_index": 11
      }
     ]
    },
    "0b9e74eddeb84d9ba1b6018a5d9f31e2": {
     "views": [
      {
       "cell_index": 11
      }
     ]
    },
    "11066a99f54246d2b1d061888b37a53a": {
     "views": [
      {
       "cell_index": 10
      }
     ]
    },
    "12ea15e1752b49ceaa4ff4bc5ab054be": {
     "views": [
      {
       "cell_index": 11
      }
     ]
    },
    "14cc77c0bcbf44f2807f7af5c8298a02": {
     "views": [
      {
       "cell_index": 11
      }
     ]
    },
    "1522615b607d49a3b23a2f7d4b99f5ed": {
     "views": [
      {
       "cell_index": 6
      }
     ]
    },
    "20cfa8e728e54e129640d2d32971c81d": {
     "views": [
      {
       "cell_index": 11
      }
     ]
    },
    "21202a8f31e54b92a945496ef9e543a3": {
     "views": [
      {
       "cell_index": 11
      }
     ]
    },
    "21bc9716674a4418a98b0fdb849ba552": {
     "views": [
      {
       "cell_index": 6
      }
     ]
    },
    "22032d193914494191f4e4162466c2e7": {
     "views": [
      {
       "cell_index": 11
      }
     ]
    },
    "313ff6a7284145aba2c0d4d4476b7626": {
     "views": [
      {
       "cell_index": 11
      }
     ]
    },
    "335db5eab6a448e2859306de1e297621": {
     "views": [
      {
       "cell_index": 11
      }
     ]
    },
    "349f001937b64785849424c5eb6f94b0": {
     "views": [
      {
       "cell_index": 11
      }
     ]
    },
    "35c4470c4120419c9f9f2e6fe8d6c6f6": {
     "views": [
      {
       "cell_index": 11
      }
     ]
    },
    "37f1ebaa55a441f395772c1c3239b3ef": {
     "views": [
      {
       "cell_index": 11
      }
     ]
    },
    "471c7497c8d5441d9d2fbfbe94f3cf17": {
     "views": [
      {
       "cell_index": 11
      }
     ]
    },
    "47a92137868f48168e65ed1aa521e462": {
     "views": [
      {
       "cell_index": 11
      }
     ]
    },
    "4997334f711b45b0851ee5e51d48a767": {
     "views": [
      {
       "cell_index": 11
      }
     ]
    },
    "4b34397fdedd46eea5bdefc1d62e041f": {
     "views": [
      {
       "cell_index": 11
      }
     ]
    },
    "4b5c202ac9e740068dba40f907e4d7a9": {
     "views": [
      {
       "cell_index": 11
      }
     ]
    },
    "4ed18f68bdff4d8ca1ee4f37633eba23": {
     "views": [
      {
       "cell_index": 11
      }
     ]
    },
    "507e37c7ecb64d44ba1aabaf43a425d7": {
     "views": [
      {
       "cell_index": 11
      }
     ]
    },
    "53a63d4f676b4040b58da7ab07078421": {
     "views": [
      {
       "cell_index": 11
      }
     ]
    },
    "570a35cb3b8b4fc59ab6e18a3a4f11ae": {
     "views": [
      {
       "cell_index": 11
      }
     ]
    },
    "5fd8321621b44dfe854dab08159d0b95": {
     "views": [
      {
       "cell_index": 11
      }
     ]
    },
    "616fe473be904a839e73417eb0e1130b": {
     "views": [
      {
       "cell_index": 11
      }
     ]
    },
    "6656e818547d4149843c2fe2455b76cf": {
     "views": [
      {
       "cell_index": 10
      }
     ]
    },
    "689931c23c8b4fa7b3b6b22685a7b4e8": {
     "views": [
      {
       "cell_index": 11
      }
     ]
    },
    "6a094402056f4228b74cf7d0022657a6": {
     "views": [
      {
       "cell_index": 11
      }
     ]
    },
    "6bf14a57dfce4533b38d3faf9f6fb715": {
     "views": [
      {
       "cell_index": 11
      }
     ]
    },
    "712a9dbd507b4a26a4791138ebed1255": {
     "views": [
      {
       "cell_index": 11
      }
     ]
    },
    "761db22f4c1248abad8ac7f3f2bab257": {
     "views": [
      {
       "cell_index": 11
      }
     ]
    },
    "76271b340bab449a992380f488d5941b": {
     "views": [
      {
       "cell_index": 11
      }
     ]
    },
    "78253272fd0840b6a8b76e148c944412": {
     "views": [
      {
       "cell_index": 11
      }
     ]
    },
    "7a729ea832fc41b1a853e99065977089": {
     "views": [
      {
       "cell_index": 11
      }
     ]
    },
    "7ce3fc6b510542759666db830e62c3ca": {
     "views": [
      {
       "cell_index": 11
      }
     ]
    },
    "7fa25a8af457447ab8b5fbb4978412bd": {
     "views": [
      {
       "cell_index": 11
      }
     ]
    },
    "800c7d7577c74415997c0517d8364f24": {
     "views": [
      {
       "cell_index": 11
      }
     ]
    },
    "84633c6584234898906f3c4f9903536e": {
     "views": [
      {
       "cell_index": 11
      }
     ]
    },
    "8640ab186c4748038df78ad8f1a43396": {
     "views": [
      {
       "cell_index": 11
      }
     ]
    },
    "87baca4f72d14d54aa7f340cd7c38fcd": {
     "views": [
      {
       "cell_index": 11
      }
     ]
    },
    "884e0c573cca42d891a675b36b3a8a78": {
     "views": [
      {
       "cell_index": 11
      }
     ]
    },
    "8963cc6f2565401eb7ee5e33db78427a": {
     "views": [
      {
       "cell_index": 11
      }
     ]
    },
    "8dd367c2eb4c4c6e975bc9bd42338755": {
     "views": [
      {
       "cell_index": 11
      }
     ]
    },
    "8f303c1da0dc402da996eb9494947de6": {
     "views": [
      {
       "cell_index": 11
      }
     ]
    },
    "8f54a1230c0e4d259d50e68b6d454d7e": {
     "views": [
      {
       "cell_index": 11
      }
     ]
    },
    "9a5fc54a33ca457787e76b237f2f7235": {
     "views": [
      {
       "cell_index": 11
      }
     ]
    },
    "9ffb1e9b0bd14ba1a582d4d385d23548": {
     "views": [
      {
       "cell_index": 11
      }
     ]
    },
    "a7b69f369d1846dca09cf4194997840c": {
     "views": [
      {
       "cell_index": 11
      }
     ]
    },
    "a82c2a23dc104a36b07787ecc0a82a54": {
     "views": [
      {
       "cell_index": 11
      }
     ]
    },
    "abf41ac2c5f04af597332a4c59a68a36": {
     "views": [
      {
       "cell_index": 6
      }
     ]
    },
    "ada86a0fc0834f0ab623d27bc20b73fe": {
     "views": [
      {
       "cell_index": 11
      }
     ]
    },
    "b13ceda998b44fce8fde1a07085d2e52": {
     "views": [
      {
       "cell_index": 11
      }
     ]
    },
    "b59c261864d441bc9ac8a82f5111a472": {
     "views": [
      {
       "cell_index": 11
      }
     ]
    },
    "b8bf5ed20a284883ad066fc8b198c1b7": {
     "views": [
      {
       "cell_index": 11
      }
     ]
    },
    "bd3fa4a48de34328a04b9e5b82f257fa": {
     "views": [
      {
       "cell_index": 11
      }
     ]
    },
    "be4d7ca92cbb4c8c8dae9535d7ede4e2": {
     "views": [
      {
       "cell_index": 11
      }
     ]
    },
    "be8d437dc9b84d7183cd8f876c2138b0": {
     "views": [
      {
       "cell_index": 11
      }
     ]
    },
    "c2ceccb5ddcf4281add7058545472cb5": {
     "views": [
      {
       "cell_index": 8
      }
     ]
    },
    "c9272f960d5d4aed9e9ae139afe10947": {
     "views": [
      {
       "cell_index": 10
      }
     ]
    },
    "ca3add3b7a944916a123bb162e7f5c07": {
     "views": [
      {
       "cell_index": 11
      }
     ]
    },
    "ca569ec5366847a5b7c7de8ed640a373": {
     "views": [
      {
       "cell_index": 11
      }
     ]
    },
    "cea7d436f4974c95acf690d7b6b5f183": {
     "views": [
      {
       "cell_index": 11
      }
     ]
    },
    "d22d72a20fd24d12b4cc56b0c8d42b1f": {
     "views": [
      {
       "cell_index": 11
      }
     ]
    },
    "d56f828cfd6340d987aca9036e0b22e4": {
     "views": [
      {
       "cell_index": 8
      }
     ]
    },
    "d75aea22eada44ba9d5e1697ed26d89a": {
     "views": [
      {
       "cell_index": 11
      }
     ]
    },
    "d90a92b29ac54bf294e73ccecbad3981": {
     "views": [
      {
       "cell_index": 11
      }
     ]
    },
    "db81ec93905f47e589f9049429318a30": {
     "views": [
      {
       "cell_index": 11
      }
     ]
    },
    "dcd61b7e837f43fcaacb44dc036c6a68": {
     "views": [
      {
       "cell_index": 11
      }
     ]
    },
    "df2544ae276541d0ae5ee90e9a1cd5cc": {
     "views": [
      {
       "cell_index": 11
      }
     ]
    },
    "e11abab21d14487e8b67672490ac8aa2": {
     "views": [
      {
       "cell_index": 8
      }
     ]
    },
    "e7f56f8badb648d5a87bf8acce83b001": {
     "views": [
      {
       "cell_index": 11
      }
     ]
    },
    "e8cc200a34724a8ca216386f49e934e2": {
     "views": [
      {
       "cell_index": 11
      }
     ]
    },
    "e93e9f0f5fbe42999a750b9d7b171aad": {
     "views": [
      {
       "cell_index": 11
      }
     ]
    },
    "ee3f702278224afba24bb679d7dcda95": {
     "views": [
      {
       "cell_index": 11
      }
     ]
    },
    "efa485dff57446519c174d38af1ce956": {
     "views": [
      {
       "cell_index": 11
      }
     ]
    },
    "f09316cad50244f8bcf48ce68ebc10f3": {
     "views": [
      {
       "cell_index": 11
      }
     ]
    },
    "f31bf8f778594632a927d018d20f1b42": {
     "views": [
      {
       "cell_index": 11
      }
     ]
    },
    "f3f8528090354a02aac0d287ac50402a": {
     "views": [
      {
       "cell_index": 10
      }
     ]
    },
    "f59d3762068d454389491bf97f8eb364": {
     "views": [
      {
       "cell_index": 11
      }
     ]
    },
    "f8f81564b77543f9a80c44e720fb198a": {
     "views": [
      {
       "cell_index": 11
      }
     ]
    },
    "fabfdbfd9b064d07862a881c23e4658b": {
     "views": [
      {
       "cell_index": 11
      }
     ]
    },
    "fe0fa18f1c1c423e9ad39879bed4d909": {
     "views": [
      {
       "cell_index": 6
      }
     ]
    },
    "ff85acdf5b824b00810d508008d1006b": {
     "views": [
      {
       "cell_index": 11
      }
     ]
    }
   },
   "version": "1.2.0"
  }
 },
 "nbformat": 4,
 "nbformat_minor": 2
}
