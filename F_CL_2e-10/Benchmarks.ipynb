{
 "cells": [
  {
   "cell_type": "code",
   "execution_count": 2,
   "metadata": {
    "collapsed": true
   },
   "outputs": [],
   "source": [
    "import numpy as np\n",
    "import pandas as pd\n",
    "import matplotlib.pyplot as plt"
   ]
  },
  {
   "cell_type": "markdown",
   "metadata": {},
   "source": [
    "# Torque benchmark"
   ]
  },
  {
   "cell_type": "code",
   "execution_count": 7,
   "metadata": {
    "collapsed": false
   },
   "outputs": [],
   "source": [
    "dx = 1e-6\n",
    "dlub = 0.9*dx\n",
    "radius = 8.0e-6\n",
    "omega = 1e2\n",
    "nu = 1.002e-6\n",
    "rho = 1.00e3\n",
    "mu = rho*nu\n",
    "\n",
    "# from the restence matric calculation\n",
    "a = radius\n",
    "b = radius\n",
    "beta = a/b\n",
    "\n",
    "pre = 8*np.pi*a\n",
    "co1 = 2*beta**2/(1+beta)**3\n",
    "#co2 = beta*(1+7*beta+beta**2)/5/(1+beta)**3\n",
    "co2 = 2*beta/5/(1+beta)"
   ]
  },
  {
   "cell_type": "code",
   "execution_count": 21,
   "metadata": {
    "collapsed": false
   },
   "outputs": [
    {
     "name": "stdout",
     "output_type": "stream",
     "text": [
      "0     0.000063\n",
      "1     0.000125\n",
      "2     0.000188\n",
      "3     0.000250\n",
      "4     0.000313\n",
      "5     0.000375\n",
      "6     0.000438\n",
      "7     0.000500\n",
      "8     0.000563\n",
      "9     0.000625\n",
      "10    0.000629\n",
      "Name: 0.0, dtype: float64 0     6.000000e-07\n",
      "1     6.000000e-07\n",
      "2     6.000000e-07\n",
      "3     6.000000e-07\n",
      "4     6.000000e-07\n",
      "5     6.000000e-07\n",
      "6     6.000000e-07\n",
      "7     6.000000e-07\n",
      "8     6.000000e-07\n",
      "9     6.000000e-07\n",
      "10    6.000000e-07\n",
      "Name: 6e-07, dtype: float64\n"
     ]
    },
    {
     "data": {
      "image/png": "[encoded data removed]",
      "text/plain": [
       "<matplotlib.figure.Figure at 0x2aaae2042c50>"
      ]
     },
     "metadata": {},
     "output_type": "display_data"
    }
   ],
   "source": [
    "def plot_file(filepath,col1,col2,label=None):\n",
    "    df = pd.read_csv(filepath,delim_whitespace=True)\n",
    "    x,y = df[df.columns[col1]],df[df.columns[col2]]\n",
    "    plt.plot(  x,y,'o' ,label = label)\n",
    "    print  x,y\n",
    "    plt.xscale(\"log\")\n",
    "plt.figure()\n",
    "plot_file(\"benchmarks/lubtorque/dx2.0_s0.0_gap6e-7_o1e2/result/torques_t.dat\",0,1)\n",
    "\n",
    "plt.xlim([0.8e-8,1e-4])\n",
    "plt.ylim([1e-15,6e-15])\n",
    "plt.show()"
   ]
  }
 ],
 "metadata": {
  "anaconda-cloud": {},
  "kernelspec": {
   "display_name": "Python [default]",
   "language": "python",
   "name": "python2"
  },
  "language_info": {
   "codemirror_mode": {
    "name": "ipython",
    "version": 2
   },
   "file_extension": ".py",
   "mimetype": "text/x-python",
   "name": "python",
   "nbconvert_exporter": "python",
   "pygments_lexer": "ipython2",
   "version": "2.7.13"
  }
 },
 "nbformat": 4,
 "nbformat_minor": 2
}
