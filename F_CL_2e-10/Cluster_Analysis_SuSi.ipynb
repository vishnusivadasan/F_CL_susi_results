{
 "cells": [
  {
   "cell_type": "code",
   "execution_count": 1,
   "metadata": {
    "collapsed": false
   },
   "outputs": [
    {
     "data": {
      "text/html": [
       "<script>\n",
       "code_show=false; \n",
       "function code_toggle() {\n",
       " if (code_show){\n",
       " $('div.input').show();\n",
       " } else {\n",
       " $('div.input').hide();\n",
       " }\n",
       " code_show = !code_show\n",
       "} \n",
       "$( document ).ready(code_toggle);\n",
       "</script>\n",
       "The raw code for this IPython notebook is by default hidden for easier reading.\n",
       "To toggle on/off the raw code, click <a href=\"javascript:code_toggle()\">here</a>."
      ],
      "text/plain": [
       "<IPython.core.display.HTML object>"
      ]
     },
     "execution_count": 1,
     "metadata": {},
     "output_type": "execute_result"
    }
   ],
   "source": [
    "from IPython.display import HTML\n",
    "\n",
    "HTML('''<script>\n",
    "code_show=false; \n",
    "function code_toggle() {\n",
    " if (code_show){\n",
    " $('div.input').show();\n",
    " } else {\n",
    " $('div.input').hide();\n",
    " }\n",
    " code_show = !code_show\n",
    "} \n",
    "$( document ).ready(code_toggle);\n",
    "</script>\n",
    "The raw code for this IPython notebook is by default hidden for easier reading.\n",
    "To toggle on/off the raw code, click <a href=\"javascript:code_toggle()\">here</a>.''')"
   ]
  },
  {
   "cell_type": "code",
   "execution_count": 2,
   "metadata": {
    "collapsed": false
   },
   "outputs": [
    {
     "name": "stderr",
     "output_type": "stream",
     "text": [
      "/home/vsivadas/.local/lib/python2.7/site-packages/matplotlib/font_manager.py:273: UserWarning: Matplotlib is building the font cache using fc-list. This may take a moment.\n",
      "  warnings.warn('Matplotlib is building the font cache using fc-list. This may take a moment.')\n",
      "/home/vsivadas/.local/lib/python2.7/site-packages/IPython/html.py:14: ShimWarning: The `IPython.html` package has been deprecated. You should import from `notebook` instead. `IPython.html.widgets` has moved to `ipywidgets`.\n",
      "  \"`IPython.html.widgets` has moved to `ipywidgets`.\", ShimWarning)\n"
     ]
    }
   ],
   "source": [
    "import os\n",
    "import sys\n",
    "import numpy as np\n",
    "import pandas as pd\n",
    "import subprocess\n",
    "import matplotlib as mpl\n",
    "mpl.use('Agg')\n",
    "import matplotlib.pyplot as plt\n",
    "from matplotlib.legend_handler import HandlerLine2D\n",
    "import itertools\n",
    "from susipop import filter\n",
    "from susipop import reader\n",
    "from IPython.html.widgets import FloatProgress\n",
    "from IPython.display import display\n",
    "from ipywidgets import interactive\n",
    "import ipywidgets as widgets\n",
    "%matplotlib notebook\n",
    "\n",
    "import plotly\n",
    "import susipop as sp\n",
    "\n",
    "from multiprocessing import Pool"
   ]
  },
  {
   "cell_type": "code",
   "execution_count": 3,
   "metadata": {
    "collapsed": true
   },
   "outputs": [],
   "source": [
    "def get_folder_list():\n",
    "    f = next(os.walk('.'))[1]\n",
    "    return f"
   ]
  },
  {
   "cell_type": "markdown",
   "metadata": {},
   "source": [
    "# Cluster Analysis in SuSi\n",
    "\n",
    "There are some important functions in susi for cluster analysis. "
   ]
  },
  {
   "cell_type": "raw",
   "metadata": {
    "collapsed": true
   },
   "source": [
    "# sim_chars.keys()"
   ]
  },
  {
   "cell_type": "markdown",
   "metadata": {},
   "source": [
    "## Radial Distribution function "
   ]
  },
  {
   "cell_type": "code",
   "execution_count": 4,
   "metadata": {
    "collapsed": false
   },
   "outputs": [
    {
     "data": {
      "application/javascript": [
       "/* Put everything inside the global mpl namespace */\n",
       "window.mpl = {};\n",
       "\n",
       "mpl.get_websocket_type = function() {\n",
       "    if (typeof(WebSocket) !== 'undefined') {\n",
       "        return WebSocket;\n",
       "    } else if (typeof(MozWebSocket) !== 'undefined') {\n",
       "        return MozWebSocket;\n",
       "    } else {\n",
       "        alert('Your browser does not have WebSocket support.' +\n",
       "              'Please try Chrome, Safari or Firefox ≥ 6. ' +\n",
       "              'Firefox 4 and 5 are also supported but you ' +\n",
       "              'have to enable WebSockets in about:config.');\n",
       "    };\n",
       "}\n",
       "\n",
       "mpl.figure = function(figure_id, websocket, ondownload, parent_element) {\n",
       "    this.id = figure_id;\n",
       "\n",
       "    this.ws = websocket;\n",
       "\n",
       "    this.supports_binary = (this.ws.binaryType != undefined);\n",
       "\n",
       "    if (!this.supports_binary) {\n",
       "        var warnings = document.getElementById(\"mpl-warnings\");\n",
       "        if (warnings) {\n",
       "            warnings.style.display = 'block';\n",
       "            warnings.textContent = (\n",
       "                \"This browser does not support binary websocket messages. \" +\n",
       "                    \"Performance may be slow.\");\n",
       "        }\n",
       "    }\n",
       "\n",
       "    this.imageObj = new Image();\n",
       "\n",
       "    this.context = undefined;\n",
       "    this.message = undefined;\n",
       "    this.canvas = undefined;\n",
       "    this.rubberband_canvas = undefined;\n",
       "    this.rubberband_context = undefined;\n",
       "    this.format_dropdown = undefined;\n",
       "\n",
       "    this.image_mode = 'full';\n",
       "\n",
       "    this.root = $('<div/>');\n",
       "    this._root_extra_style(this.root)\n",
       "    this.root.attr('style', 'display: inline-block');\n",
       "\n",
       "    $(parent_element).append(this.root);\n",
       "\n",
       "    this._init_header(this);\n",
       "    this._init_canvas(this);\n",
       "    this._init_toolbar(this);\n",
       "\n",
       "    var fig = this;\n",
       "\n",
       "    this.waiting = false;\n",
       "\n",
       "    this.ws.onopen =  function () {\n",
       "            fig.send_message(\"supports_binary\", {value: fig.supports_binary});\n",
       "            fig.send_message(\"send_image_mode\", {});\n",
       "            fig.send_message(\"refresh\", {});\n",
       "        }\n",
       "\n",
       "    this.imageObj.onload = function() {\n",
       "            if (fig.image_mode == 'full') {\n",
       "                // Full images could contain transparency (where diff images\n",
       "                // almost always do), so we need to clear the canvas so that\n",
       "                // there is no ghosting.\n",
       "                fig.context.clearRect(0, 0, fig.canvas.width, fig.canvas.height);\n",
       "            }\n",
       "            fig.context.drawImage(fig.imageObj, 0, 0);\n",
       "        };\n",
       "\n",
       "    this.imageObj.onunload = function() {\n",
       "        this.ws.close();\n",
       "    }\n",
       "\n",
       "    this.ws.onmessage = this._make_on_message_function(this);\n",
       "\n",
       "    this.ondownload = ondownload;\n",
       "}\n",
       "\n",
       "mpl.figure.prototype._init_header = function() {\n",
       "    var titlebar = $(\n",
       "        '<div class=\"ui-dialog-titlebar ui-widget-header ui-corner-all ' +\n",
       "        'ui-helper-clearfix\"/>');\n",
       "    var titletext = $(\n",
       "        '<div class=\"ui-dialog-title\" style=\"width: 100%; ' +\n",
       "        'text-align: center; padding: 3px;\"/>');\n",
       "    titlebar.append(titletext)\n",
       "    this.root.append(titlebar);\n",
       "    this.header = titletext[0];\n",
       "}\n",
       "\n",
       "\n",
       "\n",
       "mpl.figure.prototype._canvas_extra_style = function(canvas_div) {\n",
       "\n",
       "}\n",
       "\n",
       "\n",
       "mpl.figure.prototype._root_extra_style = function(canvas_div) {\n",
       "\n",
       "}\n",
       "\n",
       "mpl.figure.prototype._init_canvas = function() {\n",
       "    var fig = this;\n",
       "\n",
       "    var canvas_div = $('<div/>');\n",
       "\n",
       "    canvas_div.attr('style', 'position: relative; clear: both; outline: 0');\n",
       "\n",
       "    function canvas_keyboard_event(event) {\n",
       "        return fig.key_event(event, event['data']);\n",
       "    }\n",
       "\n",
       "    canvas_div.keydown('key_press', canvas_keyboard_event);\n",
       "    canvas_div.keyup('key_release', canvas_keyboard_event);\n",
       "    this.canvas_div = canvas_div\n",
       "    this._canvas_extra_style(canvas_div)\n",
       "    this.root.append(canvas_div);\n",
       "\n",
       "    var canvas = $('<canvas/>');\n",
       "    canvas.addClass('mpl-canvas');\n",
       "    canvas.attr('style', \"left: 0; top: 0; z-index: 0; outline: 0\")\n",
       "\n",
       "    this.canvas = canvas[0];\n",
       "    this.context = canvas[0].getContext(\"2d\");\n",
       "\n",
       "    var rubberband = $('<canvas/>');\n",
       "    rubberband.attr('style', \"position: absolute; left: 0; top: 0; z-index: 1;\")\n",
       "\n",
       "    var pass_mouse_events = true;\n",
       "\n",
       "    canvas_div.resizable({\n",
       "        start: function(event, ui) {\n",
       "            pass_mouse_events = false;\n",
       "        },\n",
       "        resize: function(event, ui) {\n",
       "            fig.request_resize(ui.size.width, ui.size.height);\n",
       "        },\n",
       "        stop: function(event, ui) {\n",
       "            pass_mouse_events = true;\n",
       "            fig.request_resize(ui.size.width, ui.size.height);\n",
       "        },\n",
       "    });\n",
       "\n",
       "    function mouse_event_fn(event) {\n",
       "        if (pass_mouse_events)\n",
       "            return fig.mouse_event(event, event['data']);\n",
       "    }\n",
       "\n",
       "    rubberband.mousedown('button_press', mouse_event_fn);\n",
       "    rubberband.mouseup('button_release', mouse_event_fn);\n",
       "    // Throttle sequential mouse events to 1 every 20ms.\n",
       "    rubberband.mousemove('motion_notify', mouse_event_fn);\n",
       "\n",
       "    rubberband.mouseenter('figure_enter', mouse_event_fn);\n",
       "    rubberband.mouseleave('figure_leave', mouse_event_fn);\n",
       "\n",
       "    canvas_div.on(\"wheel\", function (event) {\n",
       "        event = event.originalEvent;\n",
       "        event['data'] = 'scroll'\n",
       "        if (event.deltaY < 0) {\n",
       "            event.step = 1;\n",
       "        } else {\n",
       "            event.step = -1;\n",
       "        }\n",
       "        mouse_event_fn(event);\n",
       "    });\n",
       "\n",
       "    canvas_div.append(canvas);\n",
       "    canvas_div.append(rubberband);\n",
       "\n",
       "    this.rubberband = rubberband;\n",
       "    this.rubberband_canvas = rubberband[0];\n",
       "    this.rubberband_context = rubberband[0].getContext(\"2d\");\n",
       "    this.rubberband_context.strokeStyle = \"#000000\";\n",
       "\n",
       "    this._resize_canvas = function(width, height) {\n",
       "        // Keep the size of the canvas, canvas container, and rubber band\n",
       "        // canvas in synch.\n",
       "        canvas_div.css('width', width)\n",
       "        canvas_div.css('height', height)\n",
       "\n",
       "        canvas.attr('width', width);\n",
       "        canvas.attr('height', height);\n",
       "\n",
       "        rubberband.attr('width', width);\n",
       "        rubberband.attr('height', height);\n",
       "    }\n",
       "\n",
       "    // Set the figure to an initial 600x600px, this will subsequently be updated\n",
       "    // upon first draw.\n",
       "    this._resize_canvas(600, 600);\n",
       "\n",
       "    // Disable right mouse context menu.\n",
       "    $(this.rubberband_canvas).bind(\"contextmenu\",function(e){\n",
       "        return false;\n",
       "    });\n",
       "\n",
       "    function set_focus () {\n",
       "        canvas.focus();\n",
       "        canvas_div.focus();\n",
       "    }\n",
       "\n",
       "    window.setTimeout(set_focus, 100);\n",
       "}\n",
       "\n",
       "mpl.figure.prototype._init_toolbar = function() {\n",
       "    var fig = this;\n",
       "\n",
       "    var nav_element = $('<div/>')\n",
       "    nav_element.attr('style', 'width: 100%');\n",
       "    this.root.append(nav_element);\n",
       "\n",
       "    // Define a callback function for later on.\n",
       "    function toolbar_event(event) {\n",
       "        return fig.toolbar_button_onclick(event['data']);\n",
       "    }\n",
       "    function toolbar_mouse_event(event) {\n",
       "        return fig.toolbar_button_onmouseover(event['data']);\n",
       "    }\n",
       "\n",
       "    for(var toolbar_ind in mpl.toolbar_items) {\n",
       "        var name = mpl.toolbar_items[toolbar_ind][0];\n",
       "        var tooltip = mpl.toolbar_items[toolbar_ind][1];\n",
       "        var image = mpl.toolbar_items[toolbar_ind][2];\n",
       "        var method_name = mpl.toolbar_items[toolbar_ind][3];\n",
       "\n",
       "        if (!name) {\n",
       "            // put a spacer in here.\n",
       "            continue;\n",
       "        }\n",
       "        var button = $('<button/>');\n",
       "        button.addClass('ui-button ui-widget ui-state-default ui-corner-all ' +\n",
       "                        'ui-button-icon-only');\n",
       "        button.attr('role', 'button');\n",
       "        button.attr('aria-disabled', 'false');\n",
       "        button.click(method_name, toolbar_event);\n",
       "        button.mouseover(tooltip, toolbar_mouse_event);\n",
       "\n",
       "        var icon_img = $('<span/>');\n",
       "        icon_img.addClass('ui-button-icon-primary ui-icon');\n",
       "        icon_img.addClass(image);\n",
       "        icon_img.addClass('ui-corner-all');\n",
       "\n",
       "        var tooltip_span = $('<span/>');\n",
       "        tooltip_span.addClass('ui-button-text');\n",
       "        tooltip_span.html(tooltip);\n",
       "\n",
       "        button.append(icon_img);\n",
       "        button.append(tooltip_span);\n",
       "\n",
       "        nav_element.append(button);\n",
       "    }\n",
       "\n",
       "    var fmt_picker_span = $('<span/>');\n",
       "\n",
       "    var fmt_picker = $('<select/>');\n",
       "    fmt_picker.addClass('mpl-toolbar-option ui-widget ui-widget-content');\n",
       "    fmt_picker_span.append(fmt_picker);\n",
       "    nav_element.append(fmt_picker_span);\n",
       "    this.format_dropdown = fmt_picker[0];\n",
       "\n",
       "    for (var ind in mpl.extensions) {\n",
       "        var fmt = mpl.extensions[ind];\n",
       "        var option = $(\n",
       "            '<option/>', {selected: fmt === mpl.default_extension}).html(fmt);\n",
       "        fmt_picker.append(option)\n",
       "    }\n",
       "\n",
       "    // Add hover states to the ui-buttons\n",
       "    $( \".ui-button\" ).hover(\n",
       "        function() { $(this).addClass(\"ui-state-hover\");},\n",
       "        function() { $(this).removeClass(\"ui-state-hover\");}\n",
       "    );\n",
       "\n",
       "    var status_bar = $('<span class=\"mpl-message\"/>');\n",
       "    nav_element.append(status_bar);\n",
       "    this.message = status_bar[0];\n",
       "}\n",
       "\n",
       "mpl.figure.prototype.request_resize = function(x_pixels, y_pixels) {\n",
       "    // Request matplotlib to resize the figure. Matplotlib will then trigger a resize in the client,\n",
       "    // which will in turn request a refresh of the image.\n",
       "    this.send_message('resize', {'width': x_pixels, 'height': y_pixels});\n",
       "}\n",
       "\n",
       "mpl.figure.prototype.send_message = function(type, properties) {\n",
       "    properties['type'] = type;\n",
       "    properties['figure_id'] = this.id;\n",
       "    this.ws.send(JSON.stringify(properties));\n",
       "}\n",
       "\n",
       "mpl.figure.prototype.send_draw_message = function() {\n",
       "    if (!this.waiting) {\n",
       "        this.waiting = true;\n",
       "        this.ws.send(JSON.stringify({type: \"draw\", figure_id: this.id}));\n",
       "    }\n",
       "}\n",
       "\n",
       "\n",
       "mpl.figure.prototype.handle_save = function(fig, msg) {\n",
       "    var format_dropdown = fig.format_dropdown;\n",
       "    var format = format_dropdown.options[format_dropdown.selectedIndex].value;\n",
       "    fig.ondownload(fig, format);\n",
       "}\n",
       "\n",
       "\n",
       "mpl.figure.prototype.handle_resize = function(fig, msg) {\n",
       "    var size = msg['size'];\n",
       "    if (size[0] != fig.canvas.width || size[1] != fig.canvas.height) {\n",
       "        fig._resize_canvas(size[0], size[1]);\n",
       "        fig.send_message(\"refresh\", {});\n",
       "    };\n",
       "}\n",
       "\n",
       "mpl.figure.prototype.handle_rubberband = function(fig, msg) {\n",
       "    var x0 = msg['x0'];\n",
       "    var y0 = fig.canvas.height - msg['y0'];\n",
       "    var x1 = msg['x1'];\n",
       "    var y1 = fig.canvas.height - msg['y1'];\n",
       "    x0 = Math.floor(x0) + 0.5;\n",
       "    y0 = Math.floor(y0) + 0.5;\n",
       "    x1 = Math.floor(x1) + 0.5;\n",
       "    y1 = Math.floor(y1) + 0.5;\n",
       "    var min_x = Math.min(x0, x1);\n",
       "    var min_y = Math.min(y0, y1);\n",
       "    var width = Math.abs(x1 - x0);\n",
       "    var height = Math.abs(y1 - y0);\n",
       "\n",
       "    fig.rubberband_context.clearRect(\n",
       "        0, 0, fig.canvas.width, fig.canvas.height);\n",
       "\n",
       "    fig.rubberband_context.strokeRect(min_x, min_y, width, height);\n",
       "}\n",
       "\n",
       "mpl.figure.prototype.handle_figure_label = function(fig, msg) {\n",
       "    // Updates the figure title.\n",
       "    fig.header.textContent = msg['label'];\n",
       "}\n",
       "\n",
       "mpl.figure.prototype.handle_cursor = function(fig, msg) {\n",
       "    var cursor = msg['cursor'];\n",
       "    switch(cursor)\n",
       "    {\n",
       "    case 0:\n",
       "        cursor = 'pointer';\n",
       "        break;\n",
       "    case 1:\n",
       "        cursor = 'default';\n",
       "        break;\n",
       "    case 2:\n",
       "        cursor = 'crosshair';\n",
       "        break;\n",
       "    case 3:\n",
       "        cursor = 'move';\n",
       "        break;\n",
       "    }\n",
       "    fig.rubberband_canvas.style.cursor = cursor;\n",
       "}\n",
       "\n",
       "mpl.figure.prototype.handle_message = function(fig, msg) {\n",
       "    fig.message.textContent = msg['message'];\n",
       "}\n",
       "\n",
       "mpl.figure.prototype.handle_draw = function(fig, msg) {\n",
       "    // Request the server to send over a new figure.\n",
       "    fig.send_draw_message();\n",
       "}\n",
       "\n",
       "mpl.figure.prototype.handle_image_mode = function(fig, msg) {\n",
       "    fig.image_mode = msg['mode'];\n",
       "}\n",
       "\n",
       "mpl.figure.prototype.updated_canvas_event = function() {\n",
       "    // Called whenever the canvas gets updated.\n",
       "    this.send_message(\"ack\", {});\n",
       "}\n",
       "\n",
       "// A function to construct a web socket function for onmessage handling.\n",
       "// Called in the figure constructor.\n",
       "mpl.figure.prototype._make_on_message_function = function(fig) {\n",
       "    return function socket_on_message(evt) {\n",
       "        if (evt.data instanceof Blob) {\n",
       "            /* FIXME: We get \"Resource interpreted as Image but\n",
       "             * transferred with MIME type text/plain:\" errors on\n",
       "             * Chrome.  But how to set the MIME type?  It doesn't seem\n",
       "             * to be part of the websocket stream */\n",
       "            evt.data.type = \"image/png\";\n",
       "\n",
       "            /* Free the memory for the previous frames */\n",
       "            if (fig.imageObj.src) {\n",
       "                (window.URL || window.webkitURL).revokeObjectURL(\n",
       "                    fig.imageObj.src);\n",
       "            }\n",
       "\n",
       "            fig.imageObj.src = (window.URL || window.webkitURL).createObjectURL(\n",
       "                evt.data);\n",
       "            fig.updated_canvas_event();\n",
       "            fig.waiting = false;\n",
       "            return;\n",
       "        }\n",
       "        else if (typeof evt.data === 'string' && evt.data.slice(0, 21) == \"data:image/png;base64\") {\n",
       "            fig.imageObj.src = evt.data;\n",
       "            fig.updated_canvas_event();\n",
       "            fig.waiting = false;\n",
       "            return;\n",
       "        }\n",
       "\n",
       "        var msg = JSON.parse(evt.data);\n",
       "        var msg_type = msg['type'];\n",
       "\n",
       "        // Call the  \"handle_{type}\" callback, which takes\n",
       "        // the figure and JSON message as its only arguments.\n",
       "        try {\n",
       "            var callback = fig[\"handle_\" + msg_type];\n",
       "        } catch (e) {\n",
       "            console.log(\"No handler for the '\" + msg_type + \"' message type: \", msg);\n",
       "            return;\n",
       "        }\n",
       "\n",
       "        if (callback) {\n",
       "            try {\n",
       "                // console.log(\"Handling '\" + msg_type + \"' message: \", msg);\n",
       "                callback(fig, msg);\n",
       "            } catch (e) {\n",
       "                console.log(\"Exception inside the 'handler_\" + msg_type + \"' callback:\", e, e.stack, msg);\n",
       "            }\n",
       "        }\n",
       "    };\n",
       "}\n",
       "\n",
       "// from http://stackoverflow.com/questions/1114465/getting-mouse-location-in-canvas\n",
       "mpl.findpos = function(e) {\n",
       "    //this section is from http://www.quirksmode.org/js/events_properties.html\n",
       "    var targ;\n",
       "    if (!e)\n",
       "        e = window.event;\n",
       "    if (e.target)\n",
       "        targ = e.target;\n",
       "    else if (e.srcElement)\n",
       "        targ = e.srcElement;\n",
       "    if (targ.nodeType == 3) // defeat Safari bug\n",
       "        targ = targ.parentNode;\n",
       "\n",
       "    // jQuery normalizes the pageX and pageY\n",
       "    // pageX,Y are the mouse positions relative to the document\n",
       "    // offset() returns the position of the element relative to the document\n",
       "    var x = e.pageX - $(targ).offset().left;\n",
       "    var y = e.pageY - $(targ).offset().top;\n",
       "\n",
       "    return {\"x\": x, \"y\": y};\n",
       "};\n",
       "\n",
       "/*\n",
       " * return a copy of an object with only non-object keys\n",
       " * we need this to avoid circular references\n",
       " * http://stackoverflow.com/a/24161582/3208463\n",
       " */\n",
       "function simpleKeys (original) {\n",
       "  return Object.keys(original).reduce(function (obj, key) {\n",
       "    if (typeof original[key] !== 'object')\n",
       "        obj[key] = original[key]\n",
       "    return obj;\n",
       "  }, {});\n",
       "}\n",
       "\n",
       "mpl.figure.prototype.mouse_event = function(event, name) {\n",
       "    var canvas_pos = mpl.findpos(event)\n",
       "\n",
       "    if (name === 'button_press')\n",
       "    {\n",
       "        this.canvas.focus();\n",
       "        this.canvas_div.focus();\n",
       "    }\n",
       "\n",
       "    var x = canvas_pos.x;\n",
       "    var y = canvas_pos.y;\n",
       "\n",
       "    this.send_message(name, {x: x, y: y, button: event.button,\n",
       "                             step: event.step,\n",
       "                             guiEvent: simpleKeys(event)});\n",
       "\n",
       "    /* This prevents the web browser from automatically changing to\n",
       "     * the text insertion cursor when the button is pressed.  We want\n",
       "     * to control all of the cursor setting manually through the\n",
       "     * 'cursor' event from matplotlib */\n",
       "    event.preventDefault();\n",
       "    return false;\n",
       "}\n",
       "\n",
       "mpl.figure.prototype._key_event_extra = function(event, name) {\n",
       "    // Handle any extra behaviour associated with a key event\n",
       "}\n",
       "\n",
       "mpl.figure.prototype.key_event = function(event, name) {\n",
       "\n",
       "    // Prevent repeat events\n",
       "    if (name == 'key_press')\n",
       "    {\n",
       "        if (event.which === this._key)\n",
       "            return;\n",
       "        else\n",
       "            this._key = event.which;\n",
       "    }\n",
       "    if (name == 'key_release')\n",
       "        this._key = null;\n",
       "\n",
       "    var value = '';\n",
       "    if (event.ctrlKey && event.which != 17)\n",
       "        value += \"ctrl+\";\n",
       "    if (event.altKey && event.which != 18)\n",
       "        value += \"alt+\";\n",
       "    if (event.shiftKey && event.which != 16)\n",
       "        value += \"shift+\";\n",
       "\n",
       "    value += 'k';\n",
       "    value += event.which.toString();\n",
       "\n",
       "    this._key_event_extra(event, name);\n",
       "\n",
       "    this.send_message(name, {key: value,\n",
       "                             guiEvent: simpleKeys(event)});\n",
       "    return false;\n",
       "}\n",
       "\n",
       "mpl.figure.prototype.toolbar_button_onclick = function(name) {\n",
       "    if (name == 'download') {\n",
       "        this.handle_save(this, null);\n",
       "    } else {\n",
       "        this.send_message(\"toolbar_button\", {name: name});\n",
       "    }\n",
       "};\n",
       "\n",
       "mpl.figure.prototype.toolbar_button_onmouseover = function(tooltip) {\n",
       "    this.message.textContent = tooltip;\n",
       "};\n",
       "mpl.toolbar_items = [[\"Home\", \"Reset original view\", \"fa fa-home icon-home\", \"home\"], [\"Back\", \"Back to  previous view\", \"fa fa-arrow-left icon-arrow-left\", \"back\"], [\"Forward\", \"Forward to next view\", \"fa fa-arrow-right icon-arrow-right\", \"forward\"], [\"\", \"\", \"\", \"\"], [\"Pan\", \"Pan axes with left mouse, zoom with right\", \"fa fa-arrows icon-move\", \"pan\"], [\"Zoom\", \"Zoom to rectangle\", \"fa fa-square-o icon-check-empty\", \"zoom\"], [\"\", \"\", \"\", \"\"], [\"Download\", \"Download plot\", \"fa fa-floppy-o icon-save\", \"download\"]];\n",
       "\n",
       "mpl.extensions = [\"eps\", \"jpeg\", \"pdf\", \"png\", \"ps\", \"raw\", \"svg\", \"tif\"];\n",
       "\n",
       "mpl.default_extension = \"png\";var comm_websocket_adapter = function(comm) {\n",
       "    // Create a \"websocket\"-like object which calls the given IPython comm\n",
       "    // object with the appropriate methods. Currently this is a non binary\n",
       "    // socket, so there is still some room for performance tuning.\n",
       "    var ws = {};\n",
       "\n",
       "    ws.close = function() {\n",
       "        comm.close()\n",
       "    };\n",
       "    ws.send = function(m) {\n",
       "        //console.log('sending', m);\n",
       "        comm.send(m);\n",
       "    };\n",
       "    // Register the callback with on_msg.\n",
       "    comm.on_msg(function(msg) {\n",
       "        //console.log('receiving', msg['content']['data'], msg);\n",
       "        // Pass the mpl event to the overriden (by mpl) onmessage function.\n",
       "        ws.onmessage(msg['content']['data'])\n",
       "    });\n",
       "    return ws;\n",
       "}\n",
       "\n",
       "mpl.mpl_figure_comm = function(comm, msg) {\n",
       "    // This is the function which gets called when the mpl process\n",
       "    // starts-up an IPython Comm through the \"matplotlib\" channel.\n",
       "\n",
       "    var id = msg.content.data.id;\n",
       "    // Get hold of the div created by the display call when the Comm\n",
       "    // socket was opened in Python.\n",
       "    var element = $(\"#\" + id);\n",
       "    var ws_proxy = comm_websocket_adapter(comm)\n",
       "\n",
       "    function ondownload(figure, format) {\n",
       "        window.open(figure.imageObj.src);\n",
       "    }\n",
       "\n",
       "    var fig = new mpl.figure(id, ws_proxy,\n",
       "                           ondownload,\n",
       "                           element.get(0));\n",
       "\n",
       "    // Call onopen now - mpl needs it, as it is assuming we've passed it a real\n",
       "    // web socket which is closed, not our websocket->open comm proxy.\n",
       "    ws_proxy.onopen();\n",
       "\n",
       "    fig.parent_element = element.get(0);\n",
       "    fig.cell_info = mpl.find_output_cell(\"<div id='\" + id + \"'></div>\");\n",
       "    if (!fig.cell_info) {\n",
       "        console.error(\"Failed to find cell for figure\", id, fig);\n",
       "        return;\n",
       "    }\n",
       "\n",
       "    var output_index = fig.cell_info[2]\n",
       "    var cell = fig.cell_info[0];\n",
       "\n",
       "};\n",
       "\n",
       "mpl.figure.prototype.handle_close = function(fig, msg) {\n",
       "    fig.root.unbind('remove')\n",
       "\n",
       "    // Update the output cell to use the data from the current canvas.\n",
       "    fig.push_to_output();\n",
       "    var dataURL = fig.canvas.toDataURL();\n",
       "    // Re-enable the keyboard manager in IPython - without this line, in FF,\n",
       "    // the notebook keyboard shortcuts fail.\n",
       "    IPython.keyboard_manager.enable()\n",
       "    $(fig.parent_element).html('<img src=\"' + dataURL + '\">');\n",
       "    fig.close_ws(fig, msg);\n",
       "}\n",
       "\n",
       "mpl.figure.prototype.close_ws = function(fig, msg){\n",
       "    fig.send_message('closing', msg);\n",
       "    // fig.ws.close()\n",
       "}\n",
       "\n",
       "mpl.figure.prototype.push_to_output = function(remove_interactive) {\n",
       "    // Turn the data on the canvas into data in the output cell.\n",
       "    var dataURL = this.canvas.toDataURL();\n",
       "    this.cell_info[1]['text/html'] = '<img src=\"' + dataURL + '\">';\n",
       "}\n",
       "\n",
       "mpl.figure.prototype.updated_canvas_event = function() {\n",
       "    // Tell IPython that the notebook contents must change.\n",
       "    IPython.notebook.set_dirty(true);\n",
       "    this.send_message(\"ack\", {});\n",
       "    var fig = this;\n",
       "    // Wait a second, then push the new image to the DOM so\n",
       "    // that it is saved nicely (might be nice to debounce this).\n",
       "    setTimeout(function () { fig.push_to_output() }, 1000);\n",
       "}\n",
       "\n",
       "mpl.figure.prototype._init_toolbar = function() {\n",
       "    var fig = this;\n",
       "\n",
       "    var nav_element = $('<div/>')\n",
       "    nav_element.attr('style', 'width: 100%');\n",
       "    this.root.append(nav_element);\n",
       "\n",
       "    // Define a callback function for later on.\n",
       "    function toolbar_event(event) {\n",
       "        return fig.toolbar_button_onclick(event['data']);\n",
       "    }\n",
       "    function toolbar_mouse_event(event) {\n",
       "        return fig.toolbar_button_onmouseover(event['data']);\n",
       "    }\n",
       "\n",
       "    for(var toolbar_ind in mpl.toolbar_items){\n",
       "        var name = mpl.toolbar_items[toolbar_ind][0];\n",
       "        var tooltip = mpl.toolbar_items[toolbar_ind][1];\n",
       "        var image = mpl.toolbar_items[toolbar_ind][2];\n",
       "        var method_name = mpl.toolbar_items[toolbar_ind][3];\n",
       "\n",
       "        if (!name) { continue; };\n",
       "\n",
       "        var button = $('<button class=\"btn btn-default\" href=\"#\" title=\"' + name + '\"><i class=\"fa ' + image + ' fa-lg\"></i></button>');\n",
       "        button.click(method_name, toolbar_event);\n",
       "        button.mouseover(tooltip, toolbar_mouse_event);\n",
       "        nav_element.append(button);\n",
       "    }\n",
       "\n",
       "    // Add the status bar.\n",
       "    var status_bar = $('<span class=\"mpl-message\" style=\"text-align:right; float: right;\"/>');\n",
       "    nav_element.append(status_bar);\n",
       "    this.message = status_bar[0];\n",
       "\n",
       "    // Add the close button to the window.\n",
       "    var buttongrp = $('<div class=\"btn-group inline pull-right\"></div>');\n",
       "    var button = $('<button class=\"btn btn-mini btn-primary\" href=\"#\" title=\"Stop Interaction\"><i class=\"fa fa-power-off icon-remove icon-large\"></i></button>');\n",
       "    button.click(function (evt) { fig.handle_close(fig, {}); } );\n",
       "    button.mouseover('Stop Interaction', toolbar_mouse_event);\n",
       "    buttongrp.append(button);\n",
       "    var titlebar = this.root.find($('.ui-dialog-titlebar'));\n",
       "    titlebar.prepend(buttongrp);\n",
       "}\n",
       "\n",
       "mpl.figure.prototype._root_extra_style = function(el){\n",
       "    var fig = this\n",
       "    el.on(\"remove\", function(){\n",
       "\tfig.close_ws(fig, {});\n",
       "    });\n",
       "}\n",
       "\n",
       "mpl.figure.prototype._canvas_extra_style = function(el){\n",
       "    // this is important to make the div 'focusable\n",
       "    el.attr('tabindex', 0)\n",
       "    // reach out to IPython and tell the keyboard manager to turn it's self\n",
       "    // off when our div gets focus\n",
       "\n",
       "    // location in version 3\n",
       "    if (IPython.notebook.keyboard_manager) {\n",
       "        IPython.notebook.keyboard_manager.register_events(el);\n",
       "    }\n",
       "    else {\n",
       "        // location in version 2\n",
       "        IPython.keyboard_manager.register_events(el);\n",
       "    }\n",
       "\n",
       "}\n",
       "\n",
       "mpl.figure.prototype._key_event_extra = function(event, name) {\n",
       "    var manager = IPython.notebook.keyboard_manager;\n",
       "    if (!manager)\n",
       "        manager = IPython.keyboard_manager;\n",
       "\n",
       "    // Check for shift+enter\n",
       "    if (event.shiftKey && event.which == 13) {\n",
       "        this.canvas_div.blur();\n",
       "        // select the cell after this one\n",
       "        var index = IPython.notebook.find_cell_index(this.cell_info[0]);\n",
       "        IPython.notebook.select(index + 1);\n",
       "    }\n",
       "}\n",
       "\n",
       "mpl.figure.prototype.handle_save = function(fig, msg) {\n",
       "    fig.ondownload(fig, null);\n",
       "}\n",
       "\n",
       "\n",
       "mpl.find_output_cell = function(html_output) {\n",
       "    // Return the cell and output element which can be found *uniquely* in the notebook.\n",
       "    // Note - this is a bit hacky, but it is done because the \"notebook_saving.Notebook\"\n",
       "    // IPython event is triggered only after the cells have been serialised, which for\n",
       "    // our purposes (turning an active figure into a static one), is too late.\n",
       "    var cells = IPython.notebook.get_cells();\n",
       "    var ncells = cells.length;\n",
       "    for (var i=0; i<ncells; i++) {\n",
       "        var cell = cells[i];\n",
       "        if (cell.cell_type === 'code'){\n",
       "            for (var j=0; j<cell.output_area.outputs.length; j++) {\n",
       "                var data = cell.output_area.outputs[j];\n",
       "                if (data.data) {\n",
       "                    // IPython >= 3 moved mimebundle to data attribute of output\n",
       "                    data = data.data;\n",
       "                }\n",
       "                if (data['text/html'] == html_output) {\n",
       "                    return [cell, data, j];\n",
       "                }\n",
       "            }\n",
       "        }\n",
       "    }\n",
       "}\n",
       "\n",
       "// Register the function which deals with the matplotlib target/channel.\n",
       "// The kernel may be null if the page has been refreshed.\n",
       "if (IPython.notebook.kernel != null) {\n",
       "    IPython.notebook.kernel.comm_manager.register_target('matplotlib', mpl.mpl_figure_comm);\n",
       "}\n"
      ],
      "text/plain": [
       "<IPython.core.display.Javascript object>"
      ]
     },
     "metadata": {},
     "output_type": "display_data"
    },
    {
     "data": {
      "text/html": [
       "<img src=\"data:image/png;base64,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\">"
      ],
      "text/plain": [
       "<IPython.core.display.HTML object>"
      ]
     },
     "metadata": {},
     "output_type": "display_data"
    }
   ],
   "source": [
    "def rdf(phival, shearrate, bins):\n",
    "    path = \"rhor1_phi\"+str(phival)+\"_yd\"+str(float(shearrate))+\"/\"\n",
    "    dataset = sp.reader.DataSet(path,particles=True, fluid=True)\n",
    "    dataset.load_state(dataset.tlist[-10])\n",
    "\n",
    "    positions = dataset.particles.r\n",
    "    fluid_velocity = dataset.fluid.u\n",
    "    L = dataset.L # Domain size\n",
    "    LEs = dataset.LEs  # Lees-Edwards shift at time dataset.t\n",
    "    LEu = dataset.LEu  # Lees-Edwards velocity\n",
    "\n",
    "    sim_chars = sp.susi.extract_sim_characteristics(dataset)\n",
    "    sim_chars['histogram'] = {'bins': bins, 'range': (0, 2.8376564979553224e-05)}\n",
    "\n",
    "    rdf = sp.spatial.radial_distribution_function(positions,**sim_chars)\n",
    "    plt.figure(figsize=[10,10])\n",
    "    plt.plot(rdf[0]/(2*np.min(sim_chars['radius'])),rdf[1],\"g\",label=\"rdf\")\n",
    "    plt.bar(rdf[0]/np.min(2*np.min(sim_chars['radius'])),rdf[1],width = 1.0/sim_chars['histogram']['bins'])\n",
    "    plt.axhline(1.0,color=\"r\",label=\"probability 1\")\n",
    "\n",
    "    # s = sim_chars['radius'].min()\n",
    "    # b = sim_chars['radius'].max()\n",
    "\n",
    "    s = 4\n",
    "    b = 11.2/2\n",
    "    import inspect, re\n",
    "\n",
    "    def plot_vline(loc, text):\n",
    "        plt.axvline(loc/float(2*s),color=\"k\")\n",
    "        plt.text(loc/float(2*s),3,text, ha = 'right',rotation=90)\n",
    "\n",
    "    plot_vline(s+s,\"s+s\")\n",
    "    plot_vline(s+b,\"s+b\")\n",
    "    plot_vline(b+b,\"b+b\")\n",
    "\n",
    "    # plot_vline(s+s+s,\"s+s+s\")\n",
    "    # plot_vline(s+s+b,\"s+s+b\")\n",
    "    # plot_vline(s+b+b,\"s+b+b\")\n",
    "    # plot_vline(b+b+b,\"b+b+b\")\n",
    "\n",
    "    # plot_vline(s+s+s+s,\"s+s+s+s\")\n",
    "    # plot_vline(s+s+s+b,\"s+s+s+b\")\n",
    "    # plot_vline(s+s+b+b,\"s+s+b+b\")\n",
    "    # plot_vline(s+b+b+b,\"s+b+b+b\")\n",
    "    # plot_vline(b+b+b+b,\"b+b+b+b\")\n",
    "\n",
    "    plt.legend()\n",
    "    props = dict(boxstyle='round', facecolor='white', alpha=0.5)\n",
    "    plt.text(2.85, 2.5, \"s = small particle \\nb = big particle \\nvertical lines represent the expected \\npeaks in RDF due to intersection of \\nthe particles\"\n",
    "             , fontsize=8, verticalalignment='top', bbox=props, wrap=True)\n",
    "    plt.xlabel(\"2Rmin\")\n",
    "    plt.ylabel(\"g(r)\")\n",
    "    plt.title(path)\n",
    "    #plt.savefig(\"radial_distribution_function\")\n",
    "\n",
    "\n",
    "v = interactive(rdf, \\\n",
    "                phival = widgets.ToggleButtons(options=[40,45,50,54,55,56,58],value=56,disabled=False), \\\n",
    "                shearrate= widgets.ToggleButtons(options=[1,10,11,11.5,12,12.5,13,14,15,16,18,20,30,50,70,100,200,300,1000],value = 12),\\\n",
    "                bins=(10,100), __manual=False)\n",
    "\n",
    "display(v)"
   ]
  },
  {
   "cell_type": "markdown",
   "metadata": {},
   "source": [
    "---------------------------------------"
   ]
  },
  {
   "cell_type": "markdown",
   "metadata": {},
   "source": [
    "---------------------------------------\n"
   ]
  },
  {
   "cell_type": "code",
   "execution_count": 5,
   "metadata": {
    "collapsed": false
   },
   "outputs": [],
   "source": [
    "# dataset = sp.reader.DataSet(path,particles=True, fluid=True)\n",
    "# sim_chars = sp.susi.extract_sim_characteristics(dataset)\n",
    "# sim_chars['histogram'] = {'bins': 100, 'range': (0, 2.8376564979553224e-05)}\n",
    "# sim_chars['histogramdd']={\"bins\":(20, 20, 20)}\n",
    "# pdf = sp.spatial.pair_distribution_function(positions,**sim_chars)\n",
    "\n"
   ]
  },
  {
   "cell_type": "code",
   "execution_count": 6,
   "metadata": {
    "collapsed": false,
    "scrolled": true
   },
   "outputs": [],
   "source": [
    "from matplotlib.patches import Circle  # $matplotlib/patches.py\n",
    "\n",
    "def circle( xy, radius, color=\"lightsteelblue\", facecolor=\"none\", alpha=1, ax=None ):\n",
    "    \"\"\" add a circle to ax= or current axes\n",
    "    \"\"\"\n",
    "        # from .../pylab_examples/ellipse_demo.py\n",
    "    e = Circle( xy=xy, radius=radius )\n",
    "    if ax is None:\n",
    "        ax = plt.gca()  # ax = subplot( 1,1,1 )\n",
    "    ax.add_artist(e)\n",
    "    e.set_clip_box(ax.bbox)\n",
    "    e.set_edgecolor( color )\n",
    "    e.set_facecolor( facecolor )  # \"none\" not None\n",
    "    e.set_alpha( alpha )\n",
    "    \n",
    "def plot_pdf(path):\n",
    "    dataset = sp.reader.DataSet(path,particles=True, fluid=True)\n",
    "    dataset.load_state(dataset.tlist[-1])\n",
    "    sim_chars['histogramdd']={\"bins\":(30,30,30)}\n",
    "    pdf2d = filter.PairDistributionFunction2D(dataset,**sim_chars)\n",
    "    X = pdf2d[0]/1e-6\n",
    "    Y = pdf2d[1]/1e-6\n",
    "    Z = pdf2d[2]\n",
    "    plt.figure()\n",
    "    im = plt.imshow(Z, extent=(X.min(), X.max(), Y.max(), Y.min()),interpolation='bicubic')\n",
    "\n",
    "\n",
    "    plt.title(path)\n",
    "    plt.colorbar(im)\n",
    "\n",
    "# print np.sort(get_folder_list())\n",
    "# s = 4\n",
    "# b = 11.2/2\n",
    "# for path in np.sort(get_folder_list()[:]):\n",
    "#     try:\n",
    "#         plot_pdf(path)\n",
    "#     except Exception as e:\n",
    "#         print e\n",
    "#         continue"
   ]
  },
  {
   "cell_type": "markdown",
   "metadata": {
    "collapsed": false
   },
   "source": [
    "## Plot the radial distribution function g(r) as a function of distance\n"
   ]
  },
  {
   "cell_type": "code",
   "execution_count": 7,
   "metadata": {
    "collapsed": false
   },
   "outputs": [
    {
     "data": {
      "application/javascript": [
       "/* Put everything inside the global mpl namespace */\n",
       "window.mpl = {};\n",
       "\n",
       "mpl.get_websocket_type = function() {\n",
       "    if (typeof(WebSocket) !== 'undefined') {\n",
       "        return WebSocket;\n",
       "    } else if (typeof(MozWebSocket) !== 'undefined') {\n",
       "        return MozWebSocket;\n",
       "    } else {\n",
       "        alert('Your browser does not have WebSocket support.' +\n",
       "              'Please try Chrome, Safari or Firefox ≥ 6. ' +\n",
       "              'Firefox 4 and 5 are also supported but you ' +\n",
       "              'have to enable WebSockets in about:config.');\n",
       "    };\n",
       "}\n",
       "\n",
       "mpl.figure = function(figure_id, websocket, ondownload, parent_element) {\n",
       "    this.id = figure_id;\n",
       "\n",
       "    this.ws = websocket;\n",
       "\n",
       "    this.supports_binary = (this.ws.binaryType != undefined);\n",
       "\n",
       "    if (!this.supports_binary) {\n",
       "        var warnings = document.getElementById(\"mpl-warnings\");\n",
       "        if (warnings) {\n",
       "            warnings.style.display = 'block';\n",
       "            warnings.textContent = (\n",
       "                \"This browser does not support binary websocket messages. \" +\n",
       "                    \"Performance may be slow.\");\n",
       "        }\n",
       "    }\n",
       "\n",
       "    this.imageObj = new Image();\n",
       "\n",
       "    this.context = undefined;\n",
       "    this.message = undefined;\n",
       "    this.canvas = undefined;\n",
       "    this.rubberband_canvas = undefined;\n",
       "    this.rubberband_context = undefined;\n",
       "    this.format_dropdown = undefined;\n",
       "\n",
       "    this.image_mode = 'full';\n",
       "\n",
       "    this.root = $('<div/>');\n",
       "    this._root_extra_style(this.root)\n",
       "    this.root.attr('style', 'display: inline-block');\n",
       "\n",
       "    $(parent_element).append(this.root);\n",
       "\n",
       "    this._init_header(this);\n",
       "    this._init_canvas(this);\n",
       "    this._init_toolbar(this);\n",
       "\n",
       "    var fig = this;\n",
       "\n",
       "    this.waiting = false;\n",
       "\n",
       "    this.ws.onopen =  function () {\n",
       "            fig.send_message(\"supports_binary\", {value: fig.supports_binary});\n",
       "            fig.send_message(\"send_image_mode\", {});\n",
       "            fig.send_message(\"refresh\", {});\n",
       "        }\n",
       "\n",
       "    this.imageObj.onload = function() {\n",
       "            if (fig.image_mode == 'full') {\n",
       "                // Full images could contain transparency (where diff images\n",
       "                // almost always do), so we need to clear the canvas so that\n",
       "                // there is no ghosting.\n",
       "                fig.context.clearRect(0, 0, fig.canvas.width, fig.canvas.height);\n",
       "            }\n",
       "            fig.context.drawImage(fig.imageObj, 0, 0);\n",
       "        };\n",
       "\n",
       "    this.imageObj.onunload = function() {\n",
       "        this.ws.close();\n",
       "    }\n",
       "\n",
       "    this.ws.onmessage = this._make_on_message_function(this);\n",
       "\n",
       "    this.ondownload = ondownload;\n",
       "}\n",
       "\n",
       "mpl.figure.prototype._init_header = function() {\n",
       "    var titlebar = $(\n",
       "        '<div class=\"ui-dialog-titlebar ui-widget-header ui-corner-all ' +\n",
       "        'ui-helper-clearfix\"/>');\n",
       "    var titletext = $(\n",
       "        '<div class=\"ui-dialog-title\" style=\"width: 100%; ' +\n",
       "        'text-align: center; padding: 3px;\"/>');\n",
       "    titlebar.append(titletext)\n",
       "    this.root.append(titlebar);\n",
       "    this.header = titletext[0];\n",
       "}\n",
       "\n",
       "\n",
       "\n",
       "mpl.figure.prototype._canvas_extra_style = function(canvas_div) {\n",
       "\n",
       "}\n",
       "\n",
       "\n",
       "mpl.figure.prototype._root_extra_style = function(canvas_div) {\n",
       "\n",
       "}\n",
       "\n",
       "mpl.figure.prototype._init_canvas = function() {\n",
       "    var fig = this;\n",
       "\n",
       "    var canvas_div = $('<div/>');\n",
       "\n",
       "    canvas_div.attr('style', 'position: relative; clear: both; outline: 0');\n",
       "\n",
       "    function canvas_keyboard_event(event) {\n",
       "        return fig.key_event(event, event['data']);\n",
       "    }\n",
       "\n",
       "    canvas_div.keydown('key_press', canvas_keyboard_event);\n",
       "    canvas_div.keyup('key_release', canvas_keyboard_event);\n",
       "    this.canvas_div = canvas_div\n",
       "    this._canvas_extra_style(canvas_div)\n",
       "    this.root.append(canvas_div);\n",
       "\n",
       "    var canvas = $('<canvas/>');\n",
       "    canvas.addClass('mpl-canvas');\n",
       "    canvas.attr('style', \"left: 0; top: 0; z-index: 0; outline: 0\")\n",
       "\n",
       "    this.canvas = canvas[0];\n",
       "    this.context = canvas[0].getContext(\"2d\");\n",
       "\n",
       "    var rubberband = $('<canvas/>');\n",
       "    rubberband.attr('style', \"position: absolute; left: 0; top: 0; z-index: 1;\")\n",
       "\n",
       "    var pass_mouse_events = true;\n",
       "\n",
       "    canvas_div.resizable({\n",
       "        start: function(event, ui) {\n",
       "            pass_mouse_events = false;\n",
       "        },\n",
       "        resize: function(event, ui) {\n",
       "            fig.request_resize(ui.size.width, ui.size.height);\n",
       "        },\n",
       "        stop: function(event, ui) {\n",
       "            pass_mouse_events = true;\n",
       "            fig.request_resize(ui.size.width, ui.size.height);\n",
       "        },\n",
       "    });\n",
       "\n",
       "    function mouse_event_fn(event) {\n",
       "        if (pass_mouse_events)\n",
       "            return fig.mouse_event(event, event['data']);\n",
       "    }\n",
       "\n",
       "    rubberband.mousedown('button_press', mouse_event_fn);\n",
       "    rubberband.mouseup('button_release', mouse_event_fn);\n",
       "    // Throttle sequential mouse events to 1 every 20ms.\n",
       "    rubberband.mousemove('motion_notify', mouse_event_fn);\n",
       "\n",
       "    rubberband.mouseenter('figure_enter', mouse_event_fn);\n",
       "    rubberband.mouseleave('figure_leave', mouse_event_fn);\n",
       "\n",
       "    canvas_div.on(\"wheel\", function (event) {\n",
       "        event = event.originalEvent;\n",
       "        event['data'] = 'scroll'\n",
       "        if (event.deltaY < 0) {\n",
       "            event.step = 1;\n",
       "        } else {\n",
       "            event.step = -1;\n",
       "        }\n",
       "        mouse_event_fn(event);\n",
       "    });\n",
       "\n",
       "    canvas_div.append(canvas);\n",
       "    canvas_div.append(rubberband);\n",
       "\n",
       "    this.rubberband = rubberband;\n",
       "    this.rubberband_canvas = rubberband[0];\n",
       "    this.rubberband_context = rubberband[0].getContext(\"2d\");\n",
       "    this.rubberband_context.strokeStyle = \"#000000\";\n",
       "\n",
       "    this._resize_canvas = function(width, height) {\n",
       "        // Keep the size of the canvas, canvas container, and rubber band\n",
       "        // canvas in synch.\n",
       "        canvas_div.css('width', width)\n",
       "        canvas_div.css('height', height)\n",
       "\n",
       "        canvas.attr('width', width);\n",
       "        canvas.attr('height', height);\n",
       "\n",
       "        rubberband.attr('width', width);\n",
       "        rubberband.attr('height', height);\n",
       "    }\n",
       "\n",
       "    // Set the figure to an initial 600x600px, this will subsequently be updated\n",
       "    // upon first draw.\n",
       "    this._resize_canvas(600, 600);\n",
       "\n",
       "    // Disable right mouse context menu.\n",
       "    $(this.rubberband_canvas).bind(\"contextmenu\",function(e){\n",
       "        return false;\n",
       "    });\n",
       "\n",
       "    function set_focus () {\n",
       "        canvas.focus();\n",
       "        canvas_div.focus();\n",
       "    }\n",
       "\n",
       "    window.setTimeout(set_focus, 100);\n",
       "}\n",
       "\n",
       "mpl.figure.prototype._init_toolbar = function() {\n",
       "    var fig = this;\n",
       "\n",
       "    var nav_element = $('<div/>')\n",
       "    nav_element.attr('style', 'width: 100%');\n",
       "    this.root.append(nav_element);\n",
       "\n",
       "    // Define a callback function for later on.\n",
       "    function toolbar_event(event) {\n",
       "        return fig.toolbar_button_onclick(event['data']);\n",
       "    }\n",
       "    function toolbar_mouse_event(event) {\n",
       "        return fig.toolbar_button_onmouseover(event['data']);\n",
       "    }\n",
       "\n",
       "    for(var toolbar_ind in mpl.toolbar_items) {\n",
       "        var name = mpl.toolbar_items[toolbar_ind][0];\n",
       "        var tooltip = mpl.toolbar_items[toolbar_ind][1];\n",
       "        var image = mpl.toolbar_items[toolbar_ind][2];\n",
       "        var method_name = mpl.toolbar_items[toolbar_ind][3];\n",
       "\n",
       "        if (!name) {\n",
       "            // put a spacer in here.\n",
       "            continue;\n",
       "        }\n",
       "        var button = $('<button/>');\n",
       "        button.addClass('ui-button ui-widget ui-state-default ui-corner-all ' +\n",
       "                        'ui-button-icon-only');\n",
       "        button.attr('role', 'button');\n",
       "        button.attr('aria-disabled', 'false');\n",
       "        button.click(method_name, toolbar_event);\n",
       "        button.mouseover(tooltip, toolbar_mouse_event);\n",
       "\n",
       "        var icon_img = $('<span/>');\n",
       "        icon_img.addClass('ui-button-icon-primary ui-icon');\n",
       "        icon_img.addClass(image);\n",
       "        icon_img.addClass('ui-corner-all');\n",
       "\n",
       "        var tooltip_span = $('<span/>');\n",
       "        tooltip_span.addClass('ui-button-text');\n",
       "        tooltip_span.html(tooltip);\n",
       "\n",
       "        button.append(icon_img);\n",
       "        button.append(tooltip_span);\n",
       "\n",
       "        nav_element.append(button);\n",
       "    }\n",
       "\n",
       "    var fmt_picker_span = $('<span/>');\n",
       "\n",
       "    var fmt_picker = $('<select/>');\n",
       "    fmt_picker.addClass('mpl-toolbar-option ui-widget ui-widget-content');\n",
       "    fmt_picker_span.append(fmt_picker);\n",
       "    nav_element.append(fmt_picker_span);\n",
       "    this.format_dropdown = fmt_picker[0];\n",
       "\n",
       "    for (var ind in mpl.extensions) {\n",
       "        var fmt = mpl.extensions[ind];\n",
       "        var option = $(\n",
       "            '<option/>', {selected: fmt === mpl.default_extension}).html(fmt);\n",
       "        fmt_picker.append(option)\n",
       "    }\n",
       "\n",
       "    // Add hover states to the ui-buttons\n",
       "    $( \".ui-button\" ).hover(\n",
       "        function() { $(this).addClass(\"ui-state-hover\");},\n",
       "        function() { $(this).removeClass(\"ui-state-hover\");}\n",
       "    );\n",
       "\n",
       "    var status_bar = $('<span class=\"mpl-message\"/>');\n",
       "    nav_element.append(status_bar);\n",
       "    this.message = status_bar[0];\n",
       "}\n",
       "\n",
       "mpl.figure.prototype.request_resize = function(x_pixels, y_pixels) {\n",
       "    // Request matplotlib to resize the figure. Matplotlib will then trigger a resize in the client,\n",
       "    // which will in turn request a refresh of the image.\n",
       "    this.send_message('resize', {'width': x_pixels, 'height': y_pixels});\n",
       "}\n",
       "\n",
       "mpl.figure.prototype.send_message = function(type, properties) {\n",
       "    properties['type'] = type;\n",
       "    properties['figure_id'] = this.id;\n",
       "    this.ws.send(JSON.stringify(properties));\n",
       "}\n",
       "\n",
       "mpl.figure.prototype.send_draw_message = function() {\n",
       "    if (!this.waiting) {\n",
       "        this.waiting = true;\n",
       "        this.ws.send(JSON.stringify({type: \"draw\", figure_id: this.id}));\n",
       "    }\n",
       "}\n",
       "\n",
       "\n",
       "mpl.figure.prototype.handle_save = function(fig, msg) {\n",
       "    var format_dropdown = fig.format_dropdown;\n",
       "    var format = format_dropdown.options[format_dropdown.selectedIndex].value;\n",
       "    fig.ondownload(fig, format);\n",
       "}\n",
       "\n",
       "\n",
       "mpl.figure.prototype.handle_resize = function(fig, msg) {\n",
       "    var size = msg['size'];\n",
       "    if (size[0] != fig.canvas.width || size[1] != fig.canvas.height) {\n",
       "        fig._resize_canvas(size[0], size[1]);\n",
       "        fig.send_message(\"refresh\", {});\n",
       "    };\n",
       "}\n",
       "\n",
       "mpl.figure.prototype.handle_rubberband = function(fig, msg) {\n",
       "    var x0 = msg['x0'];\n",
       "    var y0 = fig.canvas.height - msg['y0'];\n",
       "    var x1 = msg['x1'];\n",
       "    var y1 = fig.canvas.height - msg['y1'];\n",
       "    x0 = Math.floor(x0) + 0.5;\n",
       "    y0 = Math.floor(y0) + 0.5;\n",
       "    x1 = Math.floor(x1) + 0.5;\n",
       "    y1 = Math.floor(y1) + 0.5;\n",
       "    var min_x = Math.min(x0, x1);\n",
       "    var min_y = Math.min(y0, y1);\n",
       "    var width = Math.abs(x1 - x0);\n",
       "    var height = Math.abs(y1 - y0);\n",
       "\n",
       "    fig.rubberband_context.clearRect(\n",
       "        0, 0, fig.canvas.width, fig.canvas.height);\n",
       "\n",
       "    fig.rubberband_context.strokeRect(min_x, min_y, width, height);\n",
       "}\n",
       "\n",
       "mpl.figure.prototype.handle_figure_label = function(fig, msg) {\n",
       "    // Updates the figure title.\n",
       "    fig.header.textContent = msg['label'];\n",
       "}\n",
       "\n",
       "mpl.figure.prototype.handle_cursor = function(fig, msg) {\n",
       "    var cursor = msg['cursor'];\n",
       "    switch(cursor)\n",
       "    {\n",
       "    case 0:\n",
       "        cursor = 'pointer';\n",
       "        break;\n",
       "    case 1:\n",
       "        cursor = 'default';\n",
       "        break;\n",
       "    case 2:\n",
       "        cursor = 'crosshair';\n",
       "        break;\n",
       "    case 3:\n",
       "        cursor = 'move';\n",
       "        break;\n",
       "    }\n",
       "    fig.rubberband_canvas.style.cursor = cursor;\n",
       "}\n",
       "\n",
       "mpl.figure.prototype.handle_message = function(fig, msg) {\n",
       "    fig.message.textContent = msg['message'];\n",
       "}\n",
       "\n",
       "mpl.figure.prototype.handle_draw = function(fig, msg) {\n",
       "    // Request the server to send over a new figure.\n",
       "    fig.send_draw_message();\n",
       "}\n",
       "\n",
       "mpl.figure.prototype.handle_image_mode = function(fig, msg) {\n",
       "    fig.image_mode = msg['mode'];\n",
       "}\n",
       "\n",
       "mpl.figure.prototype.updated_canvas_event = function() {\n",
       "    // Called whenever the canvas gets updated.\n",
       "    this.send_message(\"ack\", {});\n",
       "}\n",
       "\n",
       "// A function to construct a web socket function for onmessage handling.\n",
       "// Called in the figure constructor.\n",
       "mpl.figure.prototype._make_on_message_function = function(fig) {\n",
       "    return function socket_on_message(evt) {\n",
       "        if (evt.data instanceof Blob) {\n",
       "            /* FIXME: We get \"Resource interpreted as Image but\n",
       "             * transferred with MIME type text/plain:\" errors on\n",
       "             * Chrome.  But how to set the MIME type?  It doesn't seem\n",
       "             * to be part of the websocket stream */\n",
       "            evt.data.type = \"image/png\";\n",
       "\n",
       "            /* Free the memory for the previous frames */\n",
       "            if (fig.imageObj.src) {\n",
       "                (window.URL || window.webkitURL).revokeObjectURL(\n",
       "                    fig.imageObj.src);\n",
       "            }\n",
       "\n",
       "            fig.imageObj.src = (window.URL || window.webkitURL).createObjectURL(\n",
       "                evt.data);\n",
       "            fig.updated_canvas_event();\n",
       "            fig.waiting = false;\n",
       "            return;\n",
       "        }\n",
       "        else if (typeof evt.data === 'string' && evt.data.slice(0, 21) == \"data:image/png;base64\") {\n",
       "            fig.imageObj.src = evt.data;\n",
       "            fig.updated_canvas_event();\n",
       "            fig.waiting = false;\n",
       "            return;\n",
       "        }\n",
       "\n",
       "        var msg = JSON.parse(evt.data);\n",
       "        var msg_type = msg['type'];\n",
       "\n",
       "        // Call the  \"handle_{type}\" callback, which takes\n",
       "        // the figure and JSON message as its only arguments.\n",
       "        try {\n",
       "            var callback = fig[\"handle_\" + msg_type];\n",
       "        } catch (e) {\n",
       "            console.log(\"No handler for the '\" + msg_type + \"' message type: \", msg);\n",
       "            return;\n",
       "        }\n",
       "\n",
       "        if (callback) {\n",
       "            try {\n",
       "                // console.log(\"Handling '\" + msg_type + \"' message: \", msg);\n",
       "                callback(fig, msg);\n",
       "            } catch (e) {\n",
       "                console.log(\"Exception inside the 'handler_\" + msg_type + \"' callback:\", e, e.stack, msg);\n",
       "            }\n",
       "        }\n",
       "    };\n",
       "}\n",
       "\n",
       "// from http://stackoverflow.com/questions/1114465/getting-mouse-location-in-canvas\n",
       "mpl.findpos = function(e) {\n",
       "    //this section is from http://www.quirksmode.org/js/events_properties.html\n",
       "    var targ;\n",
       "    if (!e)\n",
       "        e = window.event;\n",
       "    if (e.target)\n",
       "        targ = e.target;\n",
       "    else if (e.srcElement)\n",
       "        targ = e.srcElement;\n",
       "    if (targ.nodeType == 3) // defeat Safari bug\n",
       "        targ = targ.parentNode;\n",
       "\n",
       "    // jQuery normalizes the pageX and pageY\n",
       "    // pageX,Y are the mouse positions relative to the document\n",
       "    // offset() returns the position of the element relative to the document\n",
       "    var x = e.pageX - $(targ).offset().left;\n",
       "    var y = e.pageY - $(targ).offset().top;\n",
       "\n",
       "    return {\"x\": x, \"y\": y};\n",
       "};\n",
       "\n",
       "/*\n",
       " * return a copy of an object with only non-object keys\n",
       " * we need this to avoid circular references\n",
       " * http://stackoverflow.com/a/24161582/3208463\n",
       " */\n",
       "function simpleKeys (original) {\n",
       "  return Object.keys(original).reduce(function (obj, key) {\n",
       "    if (typeof original[key] !== 'object')\n",
       "        obj[key] = original[key]\n",
       "    return obj;\n",
       "  }, {});\n",
       "}\n",
       "\n",
       "mpl.figure.prototype.mouse_event = function(event, name) {\n",
       "    var canvas_pos = mpl.findpos(event)\n",
       "\n",
       "    if (name === 'button_press')\n",
       "    {\n",
       "        this.canvas.focus();\n",
       "        this.canvas_div.focus();\n",
       "    }\n",
       "\n",
       "    var x = canvas_pos.x;\n",
       "    var y = canvas_pos.y;\n",
       "\n",
       "    this.send_message(name, {x: x, y: y, button: event.button,\n",
       "                             step: event.step,\n",
       "                             guiEvent: simpleKeys(event)});\n",
       "\n",
       "    /* This prevents the web browser from automatically changing to\n",
       "     * the text insertion cursor when the button is pressed.  We want\n",
       "     * to control all of the cursor setting manually through the\n",
       "     * 'cursor' event from matplotlib */\n",
       "    event.preventDefault();\n",
       "    return false;\n",
       "}\n",
       "\n",
       "mpl.figure.prototype._key_event_extra = function(event, name) {\n",
       "    // Handle any extra behaviour associated with a key event\n",
       "}\n",
       "\n",
       "mpl.figure.prototype.key_event = function(event, name) {\n",
       "\n",
       "    // Prevent repeat events\n",
       "    if (name == 'key_press')\n",
       "    {\n",
       "        if (event.which === this._key)\n",
       "            return;\n",
       "        else\n",
       "            this._key = event.which;\n",
       "    }\n",
       "    if (name == 'key_release')\n",
       "        this._key = null;\n",
       "\n",
       "    var value = '';\n",
       "    if (event.ctrlKey && event.which != 17)\n",
       "        value += \"ctrl+\";\n",
       "    if (event.altKey && event.which != 18)\n",
       "        value += \"alt+\";\n",
       "    if (event.shiftKey && event.which != 16)\n",
       "        value += \"shift+\";\n",
       "\n",
       "    value += 'k';\n",
       "    value += event.which.toString();\n",
       "\n",
       "    this._key_event_extra(event, name);\n",
       "\n",
       "    this.send_message(name, {key: value,\n",
       "                             guiEvent: simpleKeys(event)});\n",
       "    return false;\n",
       "}\n",
       "\n",
       "mpl.figure.prototype.toolbar_button_onclick = function(name) {\n",
       "    if (name == 'download') {\n",
       "        this.handle_save(this, null);\n",
       "    } else {\n",
       "        this.send_message(\"toolbar_button\", {name: name});\n",
       "    }\n",
       "};\n",
       "\n",
       "mpl.figure.prototype.toolbar_button_onmouseover = function(tooltip) {\n",
       "    this.message.textContent = tooltip;\n",
       "};\n",
       "mpl.toolbar_items = [[\"Home\", \"Reset original view\", \"fa fa-home icon-home\", \"home\"], [\"Back\", \"Back to  previous view\", \"fa fa-arrow-left icon-arrow-left\", \"back\"], [\"Forward\", \"Forward to next view\", \"fa fa-arrow-right icon-arrow-right\", \"forward\"], [\"\", \"\", \"\", \"\"], [\"Pan\", \"Pan axes with left mouse, zoom with right\", \"fa fa-arrows icon-move\", \"pan\"], [\"Zoom\", \"Zoom to rectangle\", \"fa fa-square-o icon-check-empty\", \"zoom\"], [\"\", \"\", \"\", \"\"], [\"Download\", \"Download plot\", \"fa fa-floppy-o icon-save\", \"download\"]];\n",
       "\n",
       "mpl.extensions = [\"eps\", \"jpeg\", \"pdf\", \"png\", \"ps\", \"raw\", \"svg\", \"tif\"];\n",
       "\n",
       "mpl.default_extension = \"png\";var comm_websocket_adapter = function(comm) {\n",
       "    // Create a \"websocket\"-like object which calls the given IPython comm\n",
       "    // object with the appropriate methods. Currently this is a non binary\n",
       "    // socket, so there is still some room for performance tuning.\n",
       "    var ws = {};\n",
       "\n",
       "    ws.close = function() {\n",
       "        comm.close()\n",
       "    };\n",
       "    ws.send = function(m) {\n",
       "        //console.log('sending', m);\n",
       "        comm.send(m);\n",
       "    };\n",
       "    // Register the callback with on_msg.\n",
       "    comm.on_msg(function(msg) {\n",
       "        //console.log('receiving', msg['content']['data'], msg);\n",
       "        // Pass the mpl event to the overriden (by mpl) onmessage function.\n",
       "        ws.onmessage(msg['content']['data'])\n",
       "    });\n",
       "    return ws;\n",
       "}\n",
       "\n",
       "mpl.mpl_figure_comm = function(comm, msg) {\n",
       "    // This is the function which gets called when the mpl process\n",
       "    // starts-up an IPython Comm through the \"matplotlib\" channel.\n",
       "\n",
       "    var id = msg.content.data.id;\n",
       "    // Get hold of the div created by the display call when the Comm\n",
       "    // socket was opened in Python.\n",
       "    var element = $(\"#\" + id);\n",
       "    var ws_proxy = comm_websocket_adapter(comm)\n",
       "\n",
       "    function ondownload(figure, format) {\n",
       "        window.open(figure.imageObj.src);\n",
       "    }\n",
       "\n",
       "    var fig = new mpl.figure(id, ws_proxy,\n",
       "                           ondownload,\n",
       "                           element.get(0));\n",
       "\n",
       "    // Call onopen now - mpl needs it, as it is assuming we've passed it a real\n",
       "    // web socket which is closed, not our websocket->open comm proxy.\n",
       "    ws_proxy.onopen();\n",
       "\n",
       "    fig.parent_element = element.get(0);\n",
       "    fig.cell_info = mpl.find_output_cell(\"<div id='\" + id + \"'></div>\");\n",
       "    if (!fig.cell_info) {\n",
       "        console.error(\"Failed to find cell for figure\", id, fig);\n",
       "        return;\n",
       "    }\n",
       "\n",
       "    var output_index = fig.cell_info[2]\n",
       "    var cell = fig.cell_info[0];\n",
       "\n",
       "};\n",
       "\n",
       "mpl.figure.prototype.handle_close = function(fig, msg) {\n",
       "    fig.root.unbind('remove')\n",
       "\n",
       "    // Update the output cell to use the data from the current canvas.\n",
       "    fig.push_to_output();\n",
       "    var dataURL = fig.canvas.toDataURL();\n",
       "    // Re-enable the keyboard manager in IPython - without this line, in FF,\n",
       "    // the notebook keyboard shortcuts fail.\n",
       "    IPython.keyboard_manager.enable()\n",
       "    $(fig.parent_element).html('<img src=\"' + dataURL + '\">');\n",
       "    fig.close_ws(fig, msg);\n",
       "}\n",
       "\n",
       "mpl.figure.prototype.close_ws = function(fig, msg){\n",
       "    fig.send_message('closing', msg);\n",
       "    // fig.ws.close()\n",
       "}\n",
       "\n",
       "mpl.figure.prototype.push_to_output = function(remove_interactive) {\n",
       "    // Turn the data on the canvas into data in the output cell.\n",
       "    var dataURL = this.canvas.toDataURL();\n",
       "    this.cell_info[1]['text/html'] = '<img src=\"' + dataURL + '\">';\n",
       "}\n",
       "\n",
       "mpl.figure.prototype.updated_canvas_event = function() {\n",
       "    // Tell IPython that the notebook contents must change.\n",
       "    IPython.notebook.set_dirty(true);\n",
       "    this.send_message(\"ack\", {});\n",
       "    var fig = this;\n",
       "    // Wait a second, then push the new image to the DOM so\n",
       "    // that it is saved nicely (might be nice to debounce this).\n",
       "    setTimeout(function () { fig.push_to_output() }, 1000);\n",
       "}\n",
       "\n",
       "mpl.figure.prototype._init_toolbar = function() {\n",
       "    var fig = this;\n",
       "\n",
       "    var nav_element = $('<div/>')\n",
       "    nav_element.attr('style', 'width: 100%');\n",
       "    this.root.append(nav_element);\n",
       "\n",
       "    // Define a callback function for later on.\n",
       "    function toolbar_event(event) {\n",
       "        return fig.toolbar_button_onclick(event['data']);\n",
       "    }\n",
       "    function toolbar_mouse_event(event) {\n",
       "        return fig.toolbar_button_onmouseover(event['data']);\n",
       "    }\n",
       "\n",
       "    for(var toolbar_ind in mpl.toolbar_items){\n",
       "        var name = mpl.toolbar_items[toolbar_ind][0];\n",
       "        var tooltip = mpl.toolbar_items[toolbar_ind][1];\n",
       "        var image = mpl.toolbar_items[toolbar_ind][2];\n",
       "        var method_name = mpl.toolbar_items[toolbar_ind][3];\n",
       "\n",
       "        if (!name) { continue; };\n",
       "\n",
       "        var button = $('<button class=\"btn btn-default\" href=\"#\" title=\"' + name + '\"><i class=\"fa ' + image + ' fa-lg\"></i></button>');\n",
       "        button.click(method_name, toolbar_event);\n",
       "        button.mouseover(tooltip, toolbar_mouse_event);\n",
       "        nav_element.append(button);\n",
       "    }\n",
       "\n",
       "    // Add the status bar.\n",
       "    var status_bar = $('<span class=\"mpl-message\" style=\"text-align:right; float: right;\"/>');\n",
       "    nav_element.append(status_bar);\n",
       "    this.message = status_bar[0];\n",
       "\n",
       "    // Add the close button to the window.\n",
       "    var buttongrp = $('<div class=\"btn-group inline pull-right\"></div>');\n",
       "    var button = $('<button class=\"btn btn-mini btn-primary\" href=\"#\" title=\"Stop Interaction\"><i class=\"fa fa-power-off icon-remove icon-large\"></i></button>');\n",
       "    button.click(function (evt) { fig.handle_close(fig, {}); } );\n",
       "    button.mouseover('Stop Interaction', toolbar_mouse_event);\n",
       "    buttongrp.append(button);\n",
       "    var titlebar = this.root.find($('.ui-dialog-titlebar'));\n",
       "    titlebar.prepend(buttongrp);\n",
       "}\n",
       "\n",
       "mpl.figure.prototype._root_extra_style = function(el){\n",
       "    var fig = this\n",
       "    el.on(\"remove\", function(){\n",
       "\tfig.close_ws(fig, {});\n",
       "    });\n",
       "}\n",
       "\n",
       "mpl.figure.prototype._canvas_extra_style = function(el){\n",
       "    // this is important to make the div 'focusable\n",
       "    el.attr('tabindex', 0)\n",
       "    // reach out to IPython and tell the keyboard manager to turn it's self\n",
       "    // off when our div gets focus\n",
       "\n",
       "    // location in version 3\n",
       "    if (IPython.notebook.keyboard_manager) {\n",
       "        IPython.notebook.keyboard_manager.register_events(el);\n",
       "    }\n",
       "    else {\n",
       "        // location in version 2\n",
       "        IPython.keyboard_manager.register_events(el);\n",
       "    }\n",
       "\n",
       "}\n",
       "\n",
       "mpl.figure.prototype._key_event_extra = function(event, name) {\n",
       "    var manager = IPython.notebook.keyboard_manager;\n",
       "    if (!manager)\n",
       "        manager = IPython.keyboard_manager;\n",
       "\n",
       "    // Check for shift+enter\n",
       "    if (event.shiftKey && event.which == 13) {\n",
       "        this.canvas_div.blur();\n",
       "        // select the cell after this one\n",
       "        var index = IPython.notebook.find_cell_index(this.cell_info[0]);\n",
       "        IPython.notebook.select(index + 1);\n",
       "    }\n",
       "}\n",
       "\n",
       "mpl.figure.prototype.handle_save = function(fig, msg) {\n",
       "    fig.ondownload(fig, null);\n",
       "}\n",
       "\n",
       "\n",
       "mpl.find_output_cell = function(html_output) {\n",
       "    // Return the cell and output element which can be found *uniquely* in the notebook.\n",
       "    // Note - this is a bit hacky, but it is done because the \"notebook_saving.Notebook\"\n",
       "    // IPython event is triggered only after the cells have been serialised, which for\n",
       "    // our purposes (turning an active figure into a static one), is too late.\n",
       "    var cells = IPython.notebook.get_cells();\n",
       "    var ncells = cells.length;\n",
       "    for (var i=0; i<ncells; i++) {\n",
       "        var cell = cells[i];\n",
       "        if (cell.cell_type === 'code'){\n",
       "            for (var j=0; j<cell.output_area.outputs.length; j++) {\n",
       "                var data = cell.output_area.outputs[j];\n",
       "                if (data.data) {\n",
       "                    // IPython >= 3 moved mimebundle to data attribute of output\n",
       "                    data = data.data;\n",
       "                }\n",
       "                if (data['text/html'] == html_output) {\n",
       "                    return [cell, data, j];\n",
       "                }\n",
       "            }\n",
       "        }\n",
       "    }\n",
       "}\n",
       "\n",
       "// Register the function which deals with the matplotlib target/channel.\n",
       "// The kernel may be null if the page has been refreshed.\n",
       "if (IPython.notebook.kernel != null) {\n",
       "    IPython.notebook.kernel.comm_manager.register_target('matplotlib', mpl.mpl_figure_comm);\n",
       "}\n"
      ],
      "text/plain": [
       "<IPython.core.display.Javascript object>"
      ]
     },
     "metadata": {},
     "output_type": "display_data"
    },
    {
     "data": {
      "text/html": [
       "<img src=\"data:image/png;base64,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\">"
      ],
      "text/plain": [
       "<IPython.core.display.HTML object>"
      ]
     },
     "metadata": {},
     "output_type": "display_data"
    }
   ],
   "source": [
    "path = 'rhor1_phi56_yd12.0/'\n",
    "dataset = sp.reader.DataSet(path,particles=True, fluid=True)\n",
    "dataset.load_state(dataset.tlist[-10])\n",
    "\n",
    "\n",
    "exp = dataset\n",
    "plt.figure();\n",
    "# print exp.keys()\n",
    "# sim_chars = sp.susi.extract_sim_characteristics(exp)\n",
    "# sim_chars['histogram'] = {'bins': 1000, 'range': (0, 2.8376564979553224e-05)}\n",
    "# exp['histogram'] = sim_chars['histogram']\n",
    "# exp['bin'] = 1000\n",
    "# print exp['bins']\n",
    "\n",
    "distance, rdf = exp['radial_distribution_function']\n",
    "plt.plot(distance * 1e6, rdf);\n",
    "plt.xlabel('Distance $\\mu{m}$',fontsize=15);\n",
    "plt.ylabel('g(r)', fontsize=15);\n",
    "plt.title('Radial Distribution Function', fontsize=20);"
   ]
  },
  {
   "cell_type": "markdown",
   "metadata": {},
   "source": [
    "---------------------------------------\n"
   ]
  },
  {
   "cell_type": "markdown",
   "metadata": {},
   "source": [
    "## Lampros standard code for PDF (pair distribution function) at one time step"
   ]
  },
  {
   "cell_type": "code",
   "execution_count": 8,
   "metadata": {
    "collapsed": false
   },
   "outputs": [],
   "source": [
    "def lampros_pdf(phival, shearrate, t):\n",
    "    path = \"rhor1_phi\"+str(phival)+\"_yd\"+str(float(shearrate))+\"/\"\n",
    "    dataset = sp.reader.DataSet(path,particles=True, fluid=True)\n",
    "    dataset.load_state(dataset.tlist[t])\n",
    "    exp = dataset\n",
    "\n",
    "    plt.figure();\n",
    "    distance, pdf = exp['pair_distribution_function']\n",
    "\n",
    "    XX, ZZ = np.meshgrid(distance[0], distance[2])\n",
    "    pdf = pdf[:, pdf.shape[1] / 2, :]\n",
    "\n",
    "    plt.pcolor(XX.T * 1e6, ZZ.T * 1e6, pdf)\n",
    "    plt.colorbar()\n",
    "    y_mum = 1e6 * distance[1][pdf.shape[1] / 2]\n",
    "\n",
    "    plt.xlabel('$\\Delta{x}$ $(\\mu{m})$', fontsize=15);\n",
    "    plt.ylabel('$\\Delta{z}$ $(\\mu{m})$', fontsize=15);\n",
    "    plt.title('PDF at t = '+str(t)+'$y={:.1f} \\mu{{m}}$'.format(y_mum), fontsize=20);\n",
    "\n",
    "v = interactive(lampros_pdf, \\\n",
    "                phival = widgets.ToggleButtons(options=[40,45,50,54,55,56,58],value=56,disabled=False), \\\n",
    "                shearrate= widgets.ToggleButtons(options=[1,10,11,11.5,12,12.5,13,14,15,16,18,20,30,50,70,100,200,300,1000],value = 12),\\\n",
    "                t=(-1000,-1,1), __manual=True)\n",
    "\n",
    "display(v)"
   ]
  },
  {
   "cell_type": "markdown",
   "metadata": {},
   "source": [
    "---------------------------------------\n"
   ]
  },
  {
   "cell_type": "markdown",
   "metadata": {},
   "source": [
    "# Lampros code averged over time range"
   ]
  },
  {
   "cell_type": "code",
   "execution_count": 9,
   "metadata": {
    "collapsed": false,
    "scrolled": false
   },
   "outputs": [],
   "source": [
    "f = FloatProgress(min=0, max=100)\n",
    "display(f)\n",
    "L = widgets.Label(\"\")\n",
    "display(L)\n",
    "def lampros_pdf(phival, shearrate, trange):\n",
    "    path = \"rhor1_phi\"+str(phival)+\"_yd\"+str(float(shearrate))+\"/\"\n",
    "    dataset = sp.reader.DataSet(path,particles=True, fluid=True)\n",
    "    dataset.load_state(dataset.tlist[-1])\n",
    "    exp = dataset\n",
    "    distance, pdf = exp['pair_distribution_function']\n",
    "    XX, ZZ = np.meshgrid(distance[0], distance[2])\n",
    "    pdf = pdf[:, pdf.shape[1] / 2, :]    \n",
    "    XX_tot, ZZ_tot, pdf_tot = np.zeros_like(XX),np.zeros_like(ZZ), np.zeros_like(pdf)\n",
    "    n = 0.0\n",
    "    for i,t in enumerate(range(trange[1],trange[0],-1)):\n",
    "        n+= 1.0\n",
    "        f.value = float(i+1)/len(range(trange[1],trange[0],-1))*100\n",
    "        L.value = \"snapshot at t =\"+str(dataset.tlist[t])\n",
    "        dataset.load_state(dataset.tlist[t])\n",
    "        exp = dataset\n",
    " \n",
    "        distance, pdf = exp['pair_distribution_function']\n",
    "        XX, ZZ = np.meshgrid(distance[0], distance[2])\n",
    "        pdf = pdf[:, pdf.shape[1] / 2, :]\n",
    "        XX_tot += XX\n",
    "        ZZ_tot += ZZ\n",
    "        pdf_tot += pdf\n",
    "    plt.figure();\n",
    "    XX_tot, ZZ_tot, pdf_tot = XX_tot/n, ZZ_tot/n, pdf_tot/n\n",
    "    plt.pcolor(XX_tot.T * 1e6, ZZ_tot.T * 1e6, pdf_tot)\n",
    "    plt.colorbar()\n",
    "    y_mum = 1e6 * distance[1][pdf_tot.shape[1] / 2]\n",
    "\n",
    "    plt.xlabel('$\\Delta{x}$ $(\\mu{m})$', fontsize=15);\n",
    "    plt.ylabel('$\\Delta{z}$ $(\\mu{m})$', fontsize=15);\n",
    "    plt.title('PDF at $y={:.1f} \\mu{{m}}$'.format(y_mum), fontsize=20);\n",
    "\n",
    "v = interactive(lampros_pdf, \\\n",
    "                phival = widgets.ToggleButtons(options=[40,45,50,54,55,56,58],value=56,disabled=False), \\\n",
    "                shearrate= widgets.ToggleButtons(options=[1,10,11,11.5,12,12.5,13,14,15,16,18,20,30,50,70,100,200,300,1000],value = 12),\\\n",
    "                trange=widgets.IntRangeSlider(value=[-10, -1], max=-1, min=-1000.0),__manual=True)\n",
    "                \n",
    "display(v)"
   ]
  },
  {
   "cell_type": "markdown",
   "metadata": {
    "collapsed": false
   },
   "source": [
    "---------------------------------------\n"
   ]
  },
  {
   "cell_type": "markdown",
   "metadata": {},
   "source": [
    "## Eric Code for PDF at one time step"
   ]
  },
  {
   "cell_type": "code",
   "execution_count": 10,
   "metadata": {
    "collapsed": false,
    "scrolled": false
   },
   "outputs": [],
   "source": [
    "# Eric's code for a PDF with higher resolution\n",
    "from matplotlib.colors import LogNorm\n",
    "\n",
    "path = 'rhor1_phi56_yd1.0/'\n",
    "type = \"xy\"\n",
    "\n",
    "def plot_pdf_one_timestep(phi,shearrate,time,bins):\n",
    "    try:\n",
    "        time = int(time)\n",
    "        path = \"rhor1_phi\"+str(phi)+\"_yd\"+str(float(shearrate))\n",
    "        dataset = sp.reader.DataSet(path,particles=True, fluid=True)\n",
    "        dataset.load_state(dataset.tlist[time])\n",
    "        exp = dataset\n",
    "\n",
    "        #Create the size of the area that you want to bin the distances in\n",
    "        limit = 5 * exp.particles.radius.max()\n",
    "#         print (exp.particles.radius.max())\n",
    "#         print (limit)\n",
    "    #     bins = 41\n",
    "        global edges\n",
    "        global pair_df\n",
    "        (edges, pair_df) = sp.spatial.correlations.pair_distribution_function(exp.particles.r,\n",
    "             L=exp.L, LEs=exp.LEs, histogramdd={\"bins\":(bins, bins, bins),\"range\":((-limit,limit),(-limit,limit),(-limit,limit))})\n",
    "    except:\n",
    "        print \"Unexpected error:\", sys.exc_info()[0]\n",
    "        raise\n",
    "\n",
    "\n",
    "def plot_plot_pdf_one_timestep(phi,shearrate,time ,xz_vmax,xy_vmax,yz_vmax,bins,analyze_,size,show=True):\n",
    "    if show:\n",
    "        plt.ion()\n",
    "    else:\n",
    "        plt.ioff()\n",
    "        \n",
    "    if analyze_:\n",
    "        plot_pdf_one_timestep(phi,shearrate,time,bins)\n",
    "\n",
    "    #Calculate the distances and bin them\n",
    "\n",
    "    #Plot them in a color mesh\n",
    "    #pcolor plots have a tendency to leave out one row/column of \"pixels\". It will not immediately plot the entire\n",
    "    #range. To compensate, the defined meshgrid needs to be 1 \"pont\" bigger  than the image that you want.\n",
    "\n",
    "    #Add a value to \"edges\" by first determining bin stepsize and then appending one step to edges\n",
    "\n",
    "    max=edges[0][bins-1]+(edges[0][1]-edges[0][0])\n",
    "    new0=np.append(edges[0],max)\n",
    "    new1=np.append(edges[1],max)\n",
    "    new2=np.append(edges[2],max)\n",
    "\n",
    "    # X-Z PLANE\n",
    "    #Create the mesh grid, but shift by half a bin to correctly center the image\n",
    "#     plt.figure(figsize=[17,5])\n",
    "#     plt.figure(figsize=[3.4*size,1*size])\n",
    "    plt.figure(figsize=[3*size,3*size])\n",
    "    plt.subplot(221)\n",
    "    XX, ZZ = np.meshgrid(new0-7.31208644e-07/2, new2-7.31208644e-07/2)\n",
    "    pairdf = pair_df[:, pair_df.shape[1] / 2, :]\n",
    "\n",
    "    plt.pcolor(XX.T * 1e6, ZZ.T * 1e6, pairdf,vmin=0,vmax = xz_vmax)#, vmin=0, vmax=10\n",
    "#     plt.pcolor(XX.T * 1e6, ZZ.T * 1e6, pairdf,norm=LogNorm(vmin=0.01,vmax = xz_vmax))#, vmin=0, vmax=10\n",
    "    plt.colorbar()\n",
    "#         y_mum = 1e6 * edges[1][pair_df.shape[1] / 2]\n",
    "    y_mum =  1e6 * ( edges[1][1] -edges[1][0] )    \n",
    "\n",
    "    plt.axis([-16,16,-16,16])\n",
    "    plt.xlabel('$\\Delta{x}$ $(\\mu{m})$');\n",
    "    plt.ylabel('$\\Delta{z}$ $(\\mu{m})$');\n",
    "    plt.title('PDF at t='+str(time)+'$y={:.2f} \\mu{{m}}$ for phi='.format(y_mum)+str(phi)+\" yd=\"+str(shearrate).format(y_mum));\n",
    "#     print \"ymum=\"+str(y_mum)\n",
    "\n",
    "#X-Y PLANE\n",
    "\n",
    "    plt.subplot(222)\n",
    "    XX, YY = np.meshgrid(new0-7.31208644e-07/2, new1-7.31208644e-07/2)\n",
    "    pairdf = pair_df[:,:, pair_df.shape[2] / 2]\n",
    "\n",
    "    plt.pcolor(XX.T * 1e6, YY.T * 1e6, pairdf,vmin=0,vmax = xy_vmax)\n",
    "    plt.colorbar()\n",
    "    z_mum = 1e6 * ( edges[2][1] -edges[2][0] )    \n",
    "\n",
    "    plt.axis([-16,16,-16,16])\n",
    "    plt.xlabel('$\\Delta{x}$ $(\\mu{m})$');\n",
    "    plt.ylabel('$\\Delta{y}$ $(\\mu{m})$');\n",
    "#         plt.title('PDF at t='+str(time)+'$z={:.2f} \\mu{{m}}$'.format(z_mum));\n",
    "    plt.title('PDF at t='+str(time)+'$z={:.2f} \\mu{{m}}$ for phi='.format(z_mum)+str(phi)+\" yd=\"+str(shearrate).format(z_mum));\n",
    "#Y-Z PLANE\n",
    "\n",
    "    plt.subplot(223)\n",
    "    YY, ZZ = np.meshgrid(new1-7.31208644e-07/2, new2-7.31208644e-07/2)\n",
    "    pairdf = pair_df[pair_df.shape[0] / 2,:,:]\n",
    "\n",
    "    plt.pcolor(YY.T * 1e6, ZZ.T * 1e6, pairdf,vmin=0,vmax = yz_vmax)\n",
    "    plt.colorbar()\n",
    "#         x_mum = 1e6 * edges[0][pair_df.shape[0] / 2]\n",
    "    x_mum = 1e6 * ( edges[0][1] -edges[0][0] )  \n",
    "    plt.axis([-16,16,-16,16])\n",
    "    plt.xlabel('$\\Delta{y}$ $(\\mu{m})$');\n",
    "    plt.ylabel('$\\Delta{z}$ $(\\mu{m})$');\n",
    "    plt.tight_layout()\n",
    "#         plt.title('PDF at t='+str(time)+'$x={:.2f} \\mu{{m}}$'.format(x_mum));\n",
    "    plt.title('PDF at t='+str(time)+'$x={:.2f} \\mu{{m}}$ for phi='.format(x_mum)+str(phi)+\" yd=\"+str(shearrate).format(x_mum));\n",
    "    \n",
    "    plt.subplot(224)\n",
    "    nufilepath = \"rhor1_phi\"+str(phi)+\"_yd\"+str(float(shearrate))+\"/result/nu_t.dat\"\n",
    "    db = pd.read_csv(nufilepath)\n",
    "    plt.plot(db[db.columns[2]])\n",
    "    plt.axvline(time)\n",
    "    plt.xlabel(\"timestep\")\n",
    "    plt.ylabel(\"Viscosity Pa.s\")\n",
    "    plt.yscale(\"log\")\n",
    "    \n",
    "    name = \"plots/cluster_analysis_phi\"+str(phi)+\"_yd\"+str(shearrate).replace('.','_')+\"_t\"+str(int(time))\n",
    "#     print name \n",
    "    plt.savefig(name)\n",
    "\n",
    "\n",
    "v = interactive(plot_plot_pdf_one_timestep, \\\n",
    "                phi = widgets.ToggleButtons(options=[40,45,50,54,55,56,58],value=56,disabled=False), \\\n",
    "                shearrate= widgets.ToggleButtons(options=[1,10,11,11.5,12,12.5,13,14,15,16,18,20,30,50,70,100,200,300,1000],\\\n",
    "                                                 value = 12),\\\n",
    "                #time = widgets.IntSlider(min= -1000, max= -1,value = -1, step = -1,orientation = \"vertical\"),\\\n",
    "                #time = widgets.IntSlider(max= 1000, min= 1,value = 1, step = 1,orientation = \"vertical\"),\\\n",
    "                time = widgets.FloatText(value=1),\\\n",
    "                bins = widgets.IntSlider(min = 11,max = 101,value = 31, step = 1,orientation = \"vertical\"),\\\n",
    "                size = widgets.FloatSlider(min = 1,max = 10,value = 3.75, step = 0.25,orientation = \"vertical\"),\\\n",
    "                xz_vmax = widgets.FloatSlider(min= 0, max= 15,value = 6, step = 0.25,orientation = \"vertical\",description = \"xz colorbax max\"),\\\n",
    "                xy_vmax = widgets.FloatSlider(min= 0, max= 15,value = 6, step = 0.25,orientation = \"vertical\",description = \"xy colorbax max\"),\\\n",
    "                yz_vmax = widgets.FloatSlider(min= 0, max= 15,value = 6, step = 0.25,orientation = \"vertical\",description = \"yz colorbax max\"),\\\n",
    "                analyze_ = widgets.widget_bool.Checkbox(value=True,description= \"Analyze?\"),\\\n",
    "                __manual=True)\n",
    "display(widgets.VBox(v.children[:2]))\n",
    "display(widgets.HBox(v.children[2:-1]))\n",
    "display(widgets.HBox(v.children[-1:]))\n",
    "display(widgets.Label(value = \"Run analyze every time you change the dataset. No need to analyze when changing plot charecteristics\"))"
   ]
  },
  {
   "cell_type": "markdown",
   "metadata": {},
   "source": [
    "## plot pdf of a range of snaphots and animate "
   ]
  },
  {
   "cell_type": "code",
   "execution_count": 11,
   "metadata": {
    "collapsed": false,
    "scrolled": true
   },
   "outputs": [],
   "source": [
    "progress = widgets.IntProgress(value=0)\n",
    "def plot_time_frames(phi,shearrate,tmin, tmax ,xz_vmax,xy_vmax,yz_vmax,bins,analyze_,size,show):\n",
    "    for plot_time_frames_progress,time in enumerate(range(tmin, tmax)):\n",
    "        progress.value = float(plot_time_frames_progress)/len(range(tmin, tmax))*100\n",
    "        plot_plot_pdf_one_timestep(phi,shearrate,time,xz_vmax,xy_vmax,yz_vmax,bins,analyze_,size,show)\n",
    "        \n",
    "\n",
    "v_plot_time_frames = interactive(plot_time_frames, \\\n",
    "                phi = widgets.ToggleButtons(options=[40,45,50,54,55,56,58],value=56,disabled=False), \\\n",
    "                shearrate= widgets.ToggleButtons(options=[1,10,11,11.5,12,12.5,13,14,15,16,18,20,30,50,70,100,200,300,1000],\\\n",
    "                                                 value = 12.5),\\\n",
    "                #time = widgets.IntSlider(min= -1000, max= -1,value = -1, step = -1,orientation = \"vertical\"),\\\n",
    "                #time = widgets.IntSlider(max= 1000, min= 1,value = 1, step = 1,orientation = \"vertical\"),\\\n",
    "                tmin = widgets.widget_int.BoundedIntText(value=730,min=1,max=10000),\\\n",
    "                tmax = widgets.widget_int.BoundedIntText(value=735, min=1,max=10000),\\\n",
    "                bins = widgets.IntSlider(min = 11,max = 101,value = 31, step = 1,orientation = \"vertical\"),\\\n",
    "                size = widgets.FloatSlider(min = 1,max = 10,value = 3.75, step = 0.25,orientation = \"vertical\"),\\\n",
    "                xz_vmax = widgets.FloatSlider(min= 0, max= 15,value = 6, step = 0.25,orientation = \"vertical\",description = \"xz colorbax max\"),\\\n",
    "                xy_vmax = widgets.FloatSlider(min= 0, max= 15,value = 6, step = 0.25,orientation = \"vertical\",description = \"xy colorbax max\"),\\\n",
    "                yz_vmax = widgets.FloatSlider(min= 0, max= 15,value = 6, step = 0.25,orientation = \"vertical\",description = \"yz colorbax max\"),\\\n",
    "                analyze_ = widgets.widget_bool.Checkbox(value=True,description= \"Analyze?\"),\\\n",
    "                show=widgets.Checkbox(value=False),\\\n",
    "                __manual=True)\n",
    "display(widgets.VBox(v_plot_time_frames.children[:2]))\n",
    "display(widgets.HBox(v_plot_time_frames.children[4:-1]))\n",
    "display(widgets.HBox(v_plot_time_frames.children[2:4]))\n",
    "display(widgets.HBox(v_plot_time_frames.children[-1:]))\n",
    "display(progress)\n",
    "display(widgets.Label(value = \"Run analyze every time you change the dataset. \\\n",
    "                            No need to analyze when changing plot charecteristics\"))\n",
    "play = widgets.Play(disabled=False)\n",
    "slider = widgets.IntSlider(min=v_plot_time_frames.children[2].value, max = v_plot_time_frames.children[3].value)\n",
    "widgets.jslink((play, 'value'), (slider, 'value'))\n",
    "widgets.jslink((slider, 'min'), (play, 'min'))\n",
    "widgets.jslink((slider, 'max'), (play, 'max'))\n",
    "display(widgets.HBox([play, slider]))\n",
    "\n",
    "link3 = widgets.jslink((v_plot_time_frames.children[3], 'value'), (v_plot_time_frames.children[2], 'max'))\n",
    "link4 = widgets.jslink((v_plot_time_frames.children[2], 'value'), (v_plot_time_frames.children[3], 'min'))\n",
    "link1 = widgets.jslink((v_plot_time_frames.children[2], 'value'), (slider, 'min'))\n",
    "link2 = widgets.jslink((v_plot_time_frames.children[3], 'value'), (slider, 'max'))\n",
    "\n",
    "\n",
    "philabel = widgets.Label(value = \"\")\n",
    "ydlabel = widgets.Label(value = \"\")\n",
    "tminlabel = widgets.Label(value = \"\")\n",
    "tmaxlabel = widgets.Label(value = \"\")\n",
    "tlabel = widgets.Label(value = \"\")\n",
    "\n",
    "# link5 = widgets.jslink((v.children[0], 'value'), (philabel, 'value'))\n",
    "# link6 = widgets.jslink((v.children[1], 'value'), (ydlabel, 'value'))\n",
    "# link7 = widgets.jslink((v.children[2], 'value'), (tminlabel, 'value'))\n",
    "# link8 = widgets.jslink((v.children[3], 'value'), (tmaxlabel, 'value'))\n",
    "# link9 = widgets.jslink((slider, 'value'), (tlabel, 'value'))\n",
    "# display(philabel,ydlabel,tminlabel,tmaxlabel,tlabel)\n",
    "\n",
    "\n",
    "\n",
    "filename = widgets.Label(value=\"\")\n",
    "def handle_data_change(change):\n",
    "    filename.value =  \"plots/cluster_analysis_phi\"+str(v_plot_time_frames.children[0].value)+\"_yd\"+\\\n",
    "                    str(v_plot_time_frames.children[1].value).replace('.','_')+\"_t\"+str(slider.value)+\".png\"\n",
    "for i in v_plot_time_frames.children:\n",
    "    i.observe(handle_data_change, names='value')\n",
    "    \n",
    "slider.observe(handle_data_change,names='value')\n",
    "display(filename)\n",
    "\n",
    "from IPython.display import Image\n",
    "# def handle_image_change(change):\n",
    "#     if os.path.exists(filename.value):\n",
    "#         pdf_figure = Image(filename.value)\n",
    "# display(pdf_figure)\n",
    "# slider.observe(handle_image_change,'value')\n",
    "\n",
    "image = widgets.Image(value = \"\",width=800, height=800)\n",
    "imagesize = widgets.IntText(value =400, description=\"image size\")\n",
    "widgets.jslink((imagesize,'value'),(image,'width'))\n",
    "widgets.jslink((imagesize,'value'),(image,'height'))\n",
    "display(imagesize)\n",
    "display(image)\n",
    "def handle_image_change(change):\n",
    "    if os.path.exists(filename.value):\n",
    "        image.value = open(filename.value).read()\n",
    "        \n",
    "slider.observe(handle_image_change,'value')"
   ]
  },
  {
   "cell_type": "markdown",
   "metadata": {},
   "source": [
    "---------------------------------------\n"
   ]
  },
  {
   "cell_type": "markdown",
   "metadata": {},
   "source": [
    "# Eric Code for average PDF over time"
   ]
  },
  {
   "cell_type": "markdown",
   "metadata": {},
   "source": [
    "## TimeSeries Information Between snapshots"
   ]
  },
  {
   "cell_type": "code",
   "execution_count": 12,
   "metadata": {
    "collapsed": false
   },
   "outputs": [
    {
     "data": {
      "application/javascript": [
       "/* Put everything inside the global mpl namespace */\n",
       "window.mpl = {};\n",
       "\n",
       "mpl.get_websocket_type = function() {\n",
       "    if (typeof(WebSocket) !== 'undefined') {\n",
       "        return WebSocket;\n",
       "    } else if (typeof(MozWebSocket) !== 'undefined') {\n",
       "        return MozWebSocket;\n",
       "    } else {\n",
       "        alert('Your browser does not have WebSocket support.' +\n",
       "              'Please try Chrome, Safari or Firefox ≥ 6. ' +\n",
       "              'Firefox 4 and 5 are also supported but you ' +\n",
       "              'have to enable WebSockets in about:config.');\n",
       "    };\n",
       "}\n",
       "\n",
       "mpl.figure = function(figure_id, websocket, ondownload, parent_element) {\n",
       "    this.id = figure_id;\n",
       "\n",
       "    this.ws = websocket;\n",
       "\n",
       "    this.supports_binary = (this.ws.binaryType != undefined);\n",
       "\n",
       "    if (!this.supports_binary) {\n",
       "        var warnings = document.getElementById(\"mpl-warnings\");\n",
       "        if (warnings) {\n",
       "            warnings.style.display = 'block';\n",
       "            warnings.textContent = (\n",
       "                \"This browser does not support binary websocket messages. \" +\n",
       "                    \"Performance may be slow.\");\n",
       "        }\n",
       "    }\n",
       "\n",
       "    this.imageObj = new Image();\n",
       "\n",
       "    this.context = undefined;\n",
       "    this.message = undefined;\n",
       "    this.canvas = undefined;\n",
       "    this.rubberband_canvas = undefined;\n",
       "    this.rubberband_context = undefined;\n",
       "    this.format_dropdown = undefined;\n",
       "\n",
       "    this.image_mode = 'full';\n",
       "\n",
       "    this.root = $('<div/>');\n",
       "    this._root_extra_style(this.root)\n",
       "    this.root.attr('style', 'display: inline-block');\n",
       "\n",
       "    $(parent_element).append(this.root);\n",
       "\n",
       "    this._init_header(this);\n",
       "    this._init_canvas(this);\n",
       "    this._init_toolbar(this);\n",
       "\n",
       "    var fig = this;\n",
       "\n",
       "    this.waiting = false;\n",
       "\n",
       "    this.ws.onopen =  function () {\n",
       "            fig.send_message(\"supports_binary\", {value: fig.supports_binary});\n",
       "            fig.send_message(\"send_image_mode\", {});\n",
       "            fig.send_message(\"refresh\", {});\n",
       "        }\n",
       "\n",
       "    this.imageObj.onload = function() {\n",
       "            if (fig.image_mode == 'full') {\n",
       "                // Full images could contain transparency (where diff images\n",
       "                // almost always do), so we need to clear the canvas so that\n",
       "                // there is no ghosting.\n",
       "                fig.context.clearRect(0, 0, fig.canvas.width, fig.canvas.height);\n",
       "            }\n",
       "            fig.context.drawImage(fig.imageObj, 0, 0);\n",
       "        };\n",
       "\n",
       "    this.imageObj.onunload = function() {\n",
       "        this.ws.close();\n",
       "    }\n",
       "\n",
       "    this.ws.onmessage = this._make_on_message_function(this);\n",
       "\n",
       "    this.ondownload = ondownload;\n",
       "}\n",
       "\n",
       "mpl.figure.prototype._init_header = function() {\n",
       "    var titlebar = $(\n",
       "        '<div class=\"ui-dialog-titlebar ui-widget-header ui-corner-all ' +\n",
       "        'ui-helper-clearfix\"/>');\n",
       "    var titletext = $(\n",
       "        '<div class=\"ui-dialog-title\" style=\"width: 100%; ' +\n",
       "        'text-align: center; padding: 3px;\"/>');\n",
       "    titlebar.append(titletext)\n",
       "    this.root.append(titlebar);\n",
       "    this.header = titletext[0];\n",
       "}\n",
       "\n",
       "\n",
       "\n",
       "mpl.figure.prototype._canvas_extra_style = function(canvas_div) {\n",
       "\n",
       "}\n",
       "\n",
       "\n",
       "mpl.figure.prototype._root_extra_style = function(canvas_div) {\n",
       "\n",
       "}\n",
       "\n",
       "mpl.figure.prototype._init_canvas = function() {\n",
       "    var fig = this;\n",
       "\n",
       "    var canvas_div = $('<div/>');\n",
       "\n",
       "    canvas_div.attr('style', 'position: relative; clear: both; outline: 0');\n",
       "\n",
       "    function canvas_keyboard_event(event) {\n",
       "        return fig.key_event(event, event['data']);\n",
       "    }\n",
       "\n",
       "    canvas_div.keydown('key_press', canvas_keyboard_event);\n",
       "    canvas_div.keyup('key_release', canvas_keyboard_event);\n",
       "    this.canvas_div = canvas_div\n",
       "    this._canvas_extra_style(canvas_div)\n",
       "    this.root.append(canvas_div);\n",
       "\n",
       "    var canvas = $('<canvas/>');\n",
       "    canvas.addClass('mpl-canvas');\n",
       "    canvas.attr('style', \"left: 0; top: 0; z-index: 0; outline: 0\")\n",
       "\n",
       "    this.canvas = canvas[0];\n",
       "    this.context = canvas[0].getContext(\"2d\");\n",
       "\n",
       "    var rubberband = $('<canvas/>');\n",
       "    rubberband.attr('style', \"position: absolute; left: 0; top: 0; z-index: 1;\")\n",
       "\n",
       "    var pass_mouse_events = true;\n",
       "\n",
       "    canvas_div.resizable({\n",
       "        start: function(event, ui) {\n",
       "            pass_mouse_events = false;\n",
       "        },\n",
       "        resize: function(event, ui) {\n",
       "            fig.request_resize(ui.size.width, ui.size.height);\n",
       "        },\n",
       "        stop: function(event, ui) {\n",
       "            pass_mouse_events = true;\n",
       "            fig.request_resize(ui.size.width, ui.size.height);\n",
       "        },\n",
       "    });\n",
       "\n",
       "    function mouse_event_fn(event) {\n",
       "        if (pass_mouse_events)\n",
       "            return fig.mouse_event(event, event['data']);\n",
       "    }\n",
       "\n",
       "    rubberband.mousedown('button_press', mouse_event_fn);\n",
       "    rubberband.mouseup('button_release', mouse_event_fn);\n",
       "    // Throttle sequential mouse events to 1 every 20ms.\n",
       "    rubberband.mousemove('motion_notify', mouse_event_fn);\n",
       "\n",
       "    rubberband.mouseenter('figure_enter', mouse_event_fn);\n",
       "    rubberband.mouseleave('figure_leave', mouse_event_fn);\n",
       "\n",
       "    canvas_div.on(\"wheel\", function (event) {\n",
       "        event = event.originalEvent;\n",
       "        event['data'] = 'scroll'\n",
       "        if (event.deltaY < 0) {\n",
       "            event.step = 1;\n",
       "        } else {\n",
       "            event.step = -1;\n",
       "        }\n",
       "        mouse_event_fn(event);\n",
       "    });\n",
       "\n",
       "    canvas_div.append(canvas);\n",
       "    canvas_div.append(rubberband);\n",
       "\n",
       "    this.rubberband = rubberband;\n",
       "    this.rubberband_canvas = rubberband[0];\n",
       "    this.rubberband_context = rubberband[0].getContext(\"2d\");\n",
       "    this.rubberband_context.strokeStyle = \"#000000\";\n",
       "\n",
       "    this._resize_canvas = function(width, height) {\n",
       "        // Keep the size of the canvas, canvas container, and rubber band\n",
       "        // canvas in synch.\n",
       "        canvas_div.css('width', width)\n",
       "        canvas_div.css('height', height)\n",
       "\n",
       "        canvas.attr('width', width);\n",
       "        canvas.attr('height', height);\n",
       "\n",
       "        rubberband.attr('width', width);\n",
       "        rubberband.attr('height', height);\n",
       "    }\n",
       "\n",
       "    // Set the figure to an initial 600x600px, this will subsequently be updated\n",
       "    // upon first draw.\n",
       "    this._resize_canvas(600, 600);\n",
       "\n",
       "    // Disable right mouse context menu.\n",
       "    $(this.rubberband_canvas).bind(\"contextmenu\",function(e){\n",
       "        return false;\n",
       "    });\n",
       "\n",
       "    function set_focus () {\n",
       "        canvas.focus();\n",
       "        canvas_div.focus();\n",
       "    }\n",
       "\n",
       "    window.setTimeout(set_focus, 100);\n",
       "}\n",
       "\n",
       "mpl.figure.prototype._init_toolbar = function() {\n",
       "    var fig = this;\n",
       "\n",
       "    var nav_element = $('<div/>')\n",
       "    nav_element.attr('style', 'width: 100%');\n",
       "    this.root.append(nav_element);\n",
       "\n",
       "    // Define a callback function for later on.\n",
       "    function toolbar_event(event) {\n",
       "        return fig.toolbar_button_onclick(event['data']);\n",
       "    }\n",
       "    function toolbar_mouse_event(event) {\n",
       "        return fig.toolbar_button_onmouseover(event['data']);\n",
       "    }\n",
       "\n",
       "    for(var toolbar_ind in mpl.toolbar_items) {\n",
       "        var name = mpl.toolbar_items[toolbar_ind][0];\n",
       "        var tooltip = mpl.toolbar_items[toolbar_ind][1];\n",
       "        var image = mpl.toolbar_items[toolbar_ind][2];\n",
       "        var method_name = mpl.toolbar_items[toolbar_ind][3];\n",
       "\n",
       "        if (!name) {\n",
       "            // put a spacer in here.\n",
       "            continue;\n",
       "        }\n",
       "        var button = $('<button/>');\n",
       "        button.addClass('ui-button ui-widget ui-state-default ui-corner-all ' +\n",
       "                        'ui-button-icon-only');\n",
       "        button.attr('role', 'button');\n",
       "        button.attr('aria-disabled', 'false');\n",
       "        button.click(method_name, toolbar_event);\n",
       "        button.mouseover(tooltip, toolbar_mouse_event);\n",
       "\n",
       "        var icon_img = $('<span/>');\n",
       "        icon_img.addClass('ui-button-icon-primary ui-icon');\n",
       "        icon_img.addClass(image);\n",
       "        icon_img.addClass('ui-corner-all');\n",
       "\n",
       "        var tooltip_span = $('<span/>');\n",
       "        tooltip_span.addClass('ui-button-text');\n",
       "        tooltip_span.html(tooltip);\n",
       "\n",
       "        button.append(icon_img);\n",
       "        button.append(tooltip_span);\n",
       "\n",
       "        nav_element.append(button);\n",
       "    }\n",
       "\n",
       "    var fmt_picker_span = $('<span/>');\n",
       "\n",
       "    var fmt_picker = $('<select/>');\n",
       "    fmt_picker.addClass('mpl-toolbar-option ui-widget ui-widget-content');\n",
       "    fmt_picker_span.append(fmt_picker);\n",
       "    nav_element.append(fmt_picker_span);\n",
       "    this.format_dropdown = fmt_picker[0];\n",
       "\n",
       "    for (var ind in mpl.extensions) {\n",
       "        var fmt = mpl.extensions[ind];\n",
       "        var option = $(\n",
       "            '<option/>', {selected: fmt === mpl.default_extension}).html(fmt);\n",
       "        fmt_picker.append(option)\n",
       "    }\n",
       "\n",
       "    // Add hover states to the ui-buttons\n",
       "    $( \".ui-button\" ).hover(\n",
       "        function() { $(this).addClass(\"ui-state-hover\");},\n",
       "        function() { $(this).removeClass(\"ui-state-hover\");}\n",
       "    );\n",
       "\n",
       "    var status_bar = $('<span class=\"mpl-message\"/>');\n",
       "    nav_element.append(status_bar);\n",
       "    this.message = status_bar[0];\n",
       "}\n",
       "\n",
       "mpl.figure.prototype.request_resize = function(x_pixels, y_pixels) {\n",
       "    // Request matplotlib to resize the figure. Matplotlib will then trigger a resize in the client,\n",
       "    // which will in turn request a refresh of the image.\n",
       "    this.send_message('resize', {'width': x_pixels, 'height': y_pixels});\n",
       "}\n",
       "\n",
       "mpl.figure.prototype.send_message = function(type, properties) {\n",
       "    properties['type'] = type;\n",
       "    properties['figure_id'] = this.id;\n",
       "    this.ws.send(JSON.stringify(properties));\n",
       "}\n",
       "\n",
       "mpl.figure.prototype.send_draw_message = function() {\n",
       "    if (!this.waiting) {\n",
       "        this.waiting = true;\n",
       "        this.ws.send(JSON.stringify({type: \"draw\", figure_id: this.id}));\n",
       "    }\n",
       "}\n",
       "\n",
       "\n",
       "mpl.figure.prototype.handle_save = function(fig, msg) {\n",
       "    var format_dropdown = fig.format_dropdown;\n",
       "    var format = format_dropdown.options[format_dropdown.selectedIndex].value;\n",
       "    fig.ondownload(fig, format);\n",
       "}\n",
       "\n",
       "\n",
       "mpl.figure.prototype.handle_resize = function(fig, msg) {\n",
       "    var size = msg['size'];\n",
       "    if (size[0] != fig.canvas.width || size[1] != fig.canvas.height) {\n",
       "        fig._resize_canvas(size[0], size[1]);\n",
       "        fig.send_message(\"refresh\", {});\n",
       "    };\n",
       "}\n",
       "\n",
       "mpl.figure.prototype.handle_rubberband = function(fig, msg) {\n",
       "    var x0 = msg['x0'];\n",
       "    var y0 = fig.canvas.height - msg['y0'];\n",
       "    var x1 = msg['x1'];\n",
       "    var y1 = fig.canvas.height - msg['y1'];\n",
       "    x0 = Math.floor(x0) + 0.5;\n",
       "    y0 = Math.floor(y0) + 0.5;\n",
       "    x1 = Math.floor(x1) + 0.5;\n",
       "    y1 = Math.floor(y1) + 0.5;\n",
       "    var min_x = Math.min(x0, x1);\n",
       "    var min_y = Math.min(y0, y1);\n",
       "    var width = Math.abs(x1 - x0);\n",
       "    var height = Math.abs(y1 - y0);\n",
       "\n",
       "    fig.rubberband_context.clearRect(\n",
       "        0, 0, fig.canvas.width, fig.canvas.height);\n",
       "\n",
       "    fig.rubberband_context.strokeRect(min_x, min_y, width, height);\n",
       "}\n",
       "\n",
       "mpl.figure.prototype.handle_figure_label = function(fig, msg) {\n",
       "    // Updates the figure title.\n",
       "    fig.header.textContent = msg['label'];\n",
       "}\n",
       "\n",
       "mpl.figure.prototype.handle_cursor = function(fig, msg) {\n",
       "    var cursor = msg['cursor'];\n",
       "    switch(cursor)\n",
       "    {\n",
       "    case 0:\n",
       "        cursor = 'pointer';\n",
       "        break;\n",
       "    case 1:\n",
       "        cursor = 'default';\n",
       "        break;\n",
       "    case 2:\n",
       "        cursor = 'crosshair';\n",
       "        break;\n",
       "    case 3:\n",
       "        cursor = 'move';\n",
       "        break;\n",
       "    }\n",
       "    fig.rubberband_canvas.style.cursor = cursor;\n",
       "}\n",
       "\n",
       "mpl.figure.prototype.handle_message = function(fig, msg) {\n",
       "    fig.message.textContent = msg['message'];\n",
       "}\n",
       "\n",
       "mpl.figure.prototype.handle_draw = function(fig, msg) {\n",
       "    // Request the server to send over a new figure.\n",
       "    fig.send_draw_message();\n",
       "}\n",
       "\n",
       "mpl.figure.prototype.handle_image_mode = function(fig, msg) {\n",
       "    fig.image_mode = msg['mode'];\n",
       "}\n",
       "\n",
       "mpl.figure.prototype.updated_canvas_event = function() {\n",
       "    // Called whenever the canvas gets updated.\n",
       "    this.send_message(\"ack\", {});\n",
       "}\n",
       "\n",
       "// A function to construct a web socket function for onmessage handling.\n",
       "// Called in the figure constructor.\n",
       "mpl.figure.prototype._make_on_message_function = function(fig) {\n",
       "    return function socket_on_message(evt) {\n",
       "        if (evt.data instanceof Blob) {\n",
       "            /* FIXME: We get \"Resource interpreted as Image but\n",
       "             * transferred with MIME type text/plain:\" errors on\n",
       "             * Chrome.  But how to set the MIME type?  It doesn't seem\n",
       "             * to be part of the websocket stream */\n",
       "            evt.data.type = \"image/png\";\n",
       "\n",
       "            /* Free the memory for the previous frames */\n",
       "            if (fig.imageObj.src) {\n",
       "                (window.URL || window.webkitURL).revokeObjectURL(\n",
       "                    fig.imageObj.src);\n",
       "            }\n",
       "\n",
       "            fig.imageObj.src = (window.URL || window.webkitURL).createObjectURL(\n",
       "                evt.data);\n",
       "            fig.updated_canvas_event();\n",
       "            fig.waiting = false;\n",
       "            return;\n",
       "        }\n",
       "        else if (typeof evt.data === 'string' && evt.data.slice(0, 21) == \"data:image/png;base64\") {\n",
       "            fig.imageObj.src = evt.data;\n",
       "            fig.updated_canvas_event();\n",
       "            fig.waiting = false;\n",
       "            return;\n",
       "        }\n",
       "\n",
       "        var msg = JSON.parse(evt.data);\n",
       "        var msg_type = msg['type'];\n",
       "\n",
       "        // Call the  \"handle_{type}\" callback, which takes\n",
       "        // the figure and JSON message as its only arguments.\n",
       "        try {\n",
       "            var callback = fig[\"handle_\" + msg_type];\n",
       "        } catch (e) {\n",
       "            console.log(\"No handler for the '\" + msg_type + \"' message type: \", msg);\n",
       "            return;\n",
       "        }\n",
       "\n",
       "        if (callback) {\n",
       "            try {\n",
       "                // console.log(\"Handling '\" + msg_type + \"' message: \", msg);\n",
       "                callback(fig, msg);\n",
       "            } catch (e) {\n",
       "                console.log(\"Exception inside the 'handler_\" + msg_type + \"' callback:\", e, e.stack, msg);\n",
       "            }\n",
       "        }\n",
       "    };\n",
       "}\n",
       "\n",
       "// from http://stackoverflow.com/questions/1114465/getting-mouse-location-in-canvas\n",
       "mpl.findpos = function(e) {\n",
       "    //this section is from http://www.quirksmode.org/js/events_properties.html\n",
       "    var targ;\n",
       "    if (!e)\n",
       "        e = window.event;\n",
       "    if (e.target)\n",
       "        targ = e.target;\n",
       "    else if (e.srcElement)\n",
       "        targ = e.srcElement;\n",
       "    if (targ.nodeType == 3) // defeat Safari bug\n",
       "        targ = targ.parentNode;\n",
       "\n",
       "    // jQuery normalizes the pageX and pageY\n",
       "    // pageX,Y are the mouse positions relative to the document\n",
       "    // offset() returns the position of the element relative to the document\n",
       "    var x = e.pageX - $(targ).offset().left;\n",
       "    var y = e.pageY - $(targ).offset().top;\n",
       "\n",
       "    return {\"x\": x, \"y\": y};\n",
       "};\n",
       "\n",
       "/*\n",
       " * return a copy of an object with only non-object keys\n",
       " * we need this to avoid circular references\n",
       " * http://stackoverflow.com/a/24161582/3208463\n",
       " */\n",
       "function simpleKeys (original) {\n",
       "  return Object.keys(original).reduce(function (obj, key) {\n",
       "    if (typeof original[key] !== 'object')\n",
       "        obj[key] = original[key]\n",
       "    return obj;\n",
       "  }, {});\n",
       "}\n",
       "\n",
       "mpl.figure.prototype.mouse_event = function(event, name) {\n",
       "    var canvas_pos = mpl.findpos(event)\n",
       "\n",
       "    if (name === 'button_press')\n",
       "    {\n",
       "        this.canvas.focus();\n",
       "        this.canvas_div.focus();\n",
       "    }\n",
       "\n",
       "    var x = canvas_pos.x;\n",
       "    var y = canvas_pos.y;\n",
       "\n",
       "    this.send_message(name, {x: x, y: y, button: event.button,\n",
       "                             step: event.step,\n",
       "                             guiEvent: simpleKeys(event)});\n",
       "\n",
       "    /* This prevents the web browser from automatically changing to\n",
       "     * the text insertion cursor when the button is pressed.  We want\n",
       "     * to control all of the cursor setting manually through the\n",
       "     * 'cursor' event from matplotlib */\n",
       "    event.preventDefault();\n",
       "    return false;\n",
       "}\n",
       "\n",
       "mpl.figure.prototype._key_event_extra = function(event, name) {\n",
       "    // Handle any extra behaviour associated with a key event\n",
       "}\n",
       "\n",
       "mpl.figure.prototype.key_event = function(event, name) {\n",
       "\n",
       "    // Prevent repeat events\n",
       "    if (name == 'key_press')\n",
       "    {\n",
       "        if (event.which === this._key)\n",
       "            return;\n",
       "        else\n",
       "            this._key = event.which;\n",
       "    }\n",
       "    if (name == 'key_release')\n",
       "        this._key = null;\n",
       "\n",
       "    var value = '';\n",
       "    if (event.ctrlKey && event.which != 17)\n",
       "        value += \"ctrl+\";\n",
       "    if (event.altKey && event.which != 18)\n",
       "        value += \"alt+\";\n",
       "    if (event.shiftKey && event.which != 16)\n",
       "        value += \"shift+\";\n",
       "\n",
       "    value += 'k';\n",
       "    value += event.which.toString();\n",
       "\n",
       "    this._key_event_extra(event, name);\n",
       "\n",
       "    this.send_message(name, {key: value,\n",
       "                             guiEvent: simpleKeys(event)});\n",
       "    return false;\n",
       "}\n",
       "\n",
       "mpl.figure.prototype.toolbar_button_onclick = function(name) {\n",
       "    if (name == 'download') {\n",
       "        this.handle_save(this, null);\n",
       "    } else {\n",
       "        this.send_message(\"toolbar_button\", {name: name});\n",
       "    }\n",
       "};\n",
       "\n",
       "mpl.figure.prototype.toolbar_button_onmouseover = function(tooltip) {\n",
       "    this.message.textContent = tooltip;\n",
       "};\n",
       "mpl.toolbar_items = [[\"Home\", \"Reset original view\", \"fa fa-home icon-home\", \"home\"], [\"Back\", \"Back to  previous view\", \"fa fa-arrow-left icon-arrow-left\", \"back\"], [\"Forward\", \"Forward to next view\", \"fa fa-arrow-right icon-arrow-right\", \"forward\"], [\"\", \"\", \"\", \"\"], [\"Pan\", \"Pan axes with left mouse, zoom with right\", \"fa fa-arrows icon-move\", \"pan\"], [\"Zoom\", \"Zoom to rectangle\", \"fa fa-square-o icon-check-empty\", \"zoom\"], [\"\", \"\", \"\", \"\"], [\"Download\", \"Download plot\", \"fa fa-floppy-o icon-save\", \"download\"]];\n",
       "\n",
       "mpl.extensions = [\"eps\", \"jpeg\", \"pdf\", \"png\", \"ps\", \"raw\", \"svg\", \"tif\"];\n",
       "\n",
       "mpl.default_extension = \"png\";var comm_websocket_adapter = function(comm) {\n",
       "    // Create a \"websocket\"-like object which calls the given IPython comm\n",
       "    // object with the appropriate methods. Currently this is a non binary\n",
       "    // socket, so there is still some room for performance tuning.\n",
       "    var ws = {};\n",
       "\n",
       "    ws.close = function() {\n",
       "        comm.close()\n",
       "    };\n",
       "    ws.send = function(m) {\n",
       "        //console.log('sending', m);\n",
       "        comm.send(m);\n",
       "    };\n",
       "    // Register the callback with on_msg.\n",
       "    comm.on_msg(function(msg) {\n",
       "        //console.log('receiving', msg['content']['data'], msg);\n",
       "        // Pass the mpl event to the overriden (by mpl) onmessage function.\n",
       "        ws.onmessage(msg['content']['data'])\n",
       "    });\n",
       "    return ws;\n",
       "}\n",
       "\n",
       "mpl.mpl_figure_comm = function(comm, msg) {\n",
       "    // This is the function which gets called when the mpl process\n",
       "    // starts-up an IPython Comm through the \"matplotlib\" channel.\n",
       "\n",
       "    var id = msg.content.data.id;\n",
       "    // Get hold of the div created by the display call when the Comm\n",
       "    // socket was opened in Python.\n",
       "    var element = $(\"#\" + id);\n",
       "    var ws_proxy = comm_websocket_adapter(comm)\n",
       "\n",
       "    function ondownload(figure, format) {\n",
       "        window.open(figure.imageObj.src);\n",
       "    }\n",
       "\n",
       "    var fig = new mpl.figure(id, ws_proxy,\n",
       "                           ondownload,\n",
       "                           element.get(0));\n",
       "\n",
       "    // Call onopen now - mpl needs it, as it is assuming we've passed it a real\n",
       "    // web socket which is closed, not our websocket->open comm proxy.\n",
       "    ws_proxy.onopen();\n",
       "\n",
       "    fig.parent_element = element.get(0);\n",
       "    fig.cell_info = mpl.find_output_cell(\"<div id='\" + id + \"'></div>\");\n",
       "    if (!fig.cell_info) {\n",
       "        console.error(\"Failed to find cell for figure\", id, fig);\n",
       "        return;\n",
       "    }\n",
       "\n",
       "    var output_index = fig.cell_info[2]\n",
       "    var cell = fig.cell_info[0];\n",
       "\n",
       "};\n",
       "\n",
       "mpl.figure.prototype.handle_close = function(fig, msg) {\n",
       "    fig.root.unbind('remove')\n",
       "\n",
       "    // Update the output cell to use the data from the current canvas.\n",
       "    fig.push_to_output();\n",
       "    var dataURL = fig.canvas.toDataURL();\n",
       "    // Re-enable the keyboard manager in IPython - without this line, in FF,\n",
       "    // the notebook keyboard shortcuts fail.\n",
       "    IPython.keyboard_manager.enable()\n",
       "    $(fig.parent_element).html('<img src=\"' + dataURL + '\">');\n",
       "    fig.close_ws(fig, msg);\n",
       "}\n",
       "\n",
       "mpl.figure.prototype.close_ws = function(fig, msg){\n",
       "    fig.send_message('closing', msg);\n",
       "    // fig.ws.close()\n",
       "}\n",
       "\n",
       "mpl.figure.prototype.push_to_output = function(remove_interactive) {\n",
       "    // Turn the data on the canvas into data in the output cell.\n",
       "    var dataURL = this.canvas.toDataURL();\n",
       "    this.cell_info[1]['text/html'] = '<img src=\"' + dataURL + '\">';\n",
       "}\n",
       "\n",
       "mpl.figure.prototype.updated_canvas_event = function() {\n",
       "    // Tell IPython that the notebook contents must change.\n",
       "    IPython.notebook.set_dirty(true);\n",
       "    this.send_message(\"ack\", {});\n",
       "    var fig = this;\n",
       "    // Wait a second, then push the new image to the DOM so\n",
       "    // that it is saved nicely (might be nice to debounce this).\n",
       "    setTimeout(function () { fig.push_to_output() }, 1000);\n",
       "}\n",
       "\n",
       "mpl.figure.prototype._init_toolbar = function() {\n",
       "    var fig = this;\n",
       "\n",
       "    var nav_element = $('<div/>')\n",
       "    nav_element.attr('style', 'width: 100%');\n",
       "    this.root.append(nav_element);\n",
       "\n",
       "    // Define a callback function for later on.\n",
       "    function toolbar_event(event) {\n",
       "        return fig.toolbar_button_onclick(event['data']);\n",
       "    }\n",
       "    function toolbar_mouse_event(event) {\n",
       "        return fig.toolbar_button_onmouseover(event['data']);\n",
       "    }\n",
       "\n",
       "    for(var toolbar_ind in mpl.toolbar_items){\n",
       "        var name = mpl.toolbar_items[toolbar_ind][0];\n",
       "        var tooltip = mpl.toolbar_items[toolbar_ind][1];\n",
       "        var image = mpl.toolbar_items[toolbar_ind][2];\n",
       "        var method_name = mpl.toolbar_items[toolbar_ind][3];\n",
       "\n",
       "        if (!name) { continue; };\n",
       "\n",
       "        var button = $('<button class=\"btn btn-default\" href=\"#\" title=\"' + name + '\"><i class=\"fa ' + image + ' fa-lg\"></i></button>');\n",
       "        button.click(method_name, toolbar_event);\n",
       "        button.mouseover(tooltip, toolbar_mouse_event);\n",
       "        nav_element.append(button);\n",
       "    }\n",
       "\n",
       "    // Add the status bar.\n",
       "    var status_bar = $('<span class=\"mpl-message\" style=\"text-align:right; float: right;\"/>');\n",
       "    nav_element.append(status_bar);\n",
       "    this.message = status_bar[0];\n",
       "\n",
       "    // Add the close button to the window.\n",
       "    var buttongrp = $('<div class=\"btn-group inline pull-right\"></div>');\n",
       "    var button = $('<button class=\"btn btn-mini btn-primary\" href=\"#\" title=\"Stop Interaction\"><i class=\"fa fa-power-off icon-remove icon-large\"></i></button>');\n",
       "    button.click(function (evt) { fig.handle_close(fig, {}); } );\n",
       "    button.mouseover('Stop Interaction', toolbar_mouse_event);\n",
       "    buttongrp.append(button);\n",
       "    var titlebar = this.root.find($('.ui-dialog-titlebar'));\n",
       "    titlebar.prepend(buttongrp);\n",
       "}\n",
       "\n",
       "mpl.figure.prototype._root_extra_style = function(el){\n",
       "    var fig = this\n",
       "    el.on(\"remove\", function(){\n",
       "\tfig.close_ws(fig, {});\n",
       "    });\n",
       "}\n",
       "\n",
       "mpl.figure.prototype._canvas_extra_style = function(el){\n",
       "    // this is important to make the div 'focusable\n",
       "    el.attr('tabindex', 0)\n",
       "    // reach out to IPython and tell the keyboard manager to turn it's self\n",
       "    // off when our div gets focus\n",
       "\n",
       "    // location in version 3\n",
       "    if (IPython.notebook.keyboard_manager) {\n",
       "        IPython.notebook.keyboard_manager.register_events(el);\n",
       "    }\n",
       "    else {\n",
       "        // location in version 2\n",
       "        IPython.keyboard_manager.register_events(el);\n",
       "    }\n",
       "\n",
       "}\n",
       "\n",
       "mpl.figure.prototype._key_event_extra = function(event, name) {\n",
       "    var manager = IPython.notebook.keyboard_manager;\n",
       "    if (!manager)\n",
       "        manager = IPython.keyboard_manager;\n",
       "\n",
       "    // Check for shift+enter\n",
       "    if (event.shiftKey && event.which == 13) {\n",
       "        this.canvas_div.blur();\n",
       "        // select the cell after this one\n",
       "        var index = IPython.notebook.find_cell_index(this.cell_info[0]);\n",
       "        IPython.notebook.select(index + 1);\n",
       "    }\n",
       "}\n",
       "\n",
       "mpl.figure.prototype.handle_save = function(fig, msg) {\n",
       "    fig.ondownload(fig, null);\n",
       "}\n",
       "\n",
       "\n",
       "mpl.find_output_cell = function(html_output) {\n",
       "    // Return the cell and output element which can be found *uniquely* in the notebook.\n",
       "    // Note - this is a bit hacky, but it is done because the \"notebook_saving.Notebook\"\n",
       "    // IPython event is triggered only after the cells have been serialised, which for\n",
       "    // our purposes (turning an active figure into a static one), is too late.\n",
       "    var cells = IPython.notebook.get_cells();\n",
       "    var ncells = cells.length;\n",
       "    for (var i=0; i<ncells; i++) {\n",
       "        var cell = cells[i];\n",
       "        if (cell.cell_type === 'code'){\n",
       "            for (var j=0; j<cell.output_area.outputs.length; j++) {\n",
       "                var data = cell.output_area.outputs[j];\n",
       "                if (data.data) {\n",
       "                    // IPython >= 3 moved mimebundle to data attribute of output\n",
       "                    data = data.data;\n",
       "                }\n",
       "                if (data['text/html'] == html_output) {\n",
       "                    return [cell, data, j];\n",
       "                }\n",
       "            }\n",
       "        }\n",
       "    }\n",
       "}\n",
       "\n",
       "// Register the function which deals with the matplotlib target/channel.\n",
       "// The kernel may be null if the page has been refreshed.\n",
       "if (IPython.notebook.kernel != null) {\n",
       "    IPython.notebook.kernel.comm_manager.register_target('matplotlib', mpl.mpl_figure_comm);\n",
       "}\n"
      ],
      "text/plain": [
       "<IPython.core.display.Javascript object>"
      ]
     },
     "metadata": {},
     "output_type": "display_data"
    },
    {
     "data": {
      "text/html": [
       "<img src=\"data:image/png;base64,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\">"
      ],
      "text/plain": [
       "<IPython.core.display.HTML object>"
      ]
     },
     "metadata": {},
     "output_type": "display_data"
    },
    {
     "name": "stdout",
     "output_type": "stream",
     "text": [
      "Total timesteps :894\n",
      "Available timesteps :794\n"
     ]
    }
   ],
   "source": [
    "\n",
    "def plot_timeseries(phival,ydvals,vrange):\n",
    "    plt.style.use('seaborn-deep')\n",
    "    l = []\n",
    "    phival = \"phi\"+str(phival)\n",
    "    for f in get_folder_list():\n",
    "        try:\n",
    "            if f.split(\"_\")[1] == phival:\n",
    "                l.append(f)\n",
    "        except:\n",
    "            continue\n",
    "    nufiles = [f+\"/result/nu_t.dat\" for f in l]\n",
    "    plt.figure(figsize=[12,5])\n",
    "    minshear = 100000\n",
    "    for f in np.sort(nufiles):\n",
    "        try:\n",
    "            db = pd.read_csv(f)\n",
    "            nu = db[db.columns[2]]\n",
    "            nu_rel = db[db.columns[4]]\n",
    "            t = db[db.columns[1]]\n",
    "            shearrate = float(f.split(\"_\")[2].split(\"/\")[0].split(\"yd\")[1])\n",
    "            if shearrate in ydvals: \n",
    "                shear = t*shearrate\n",
    "                if minshear > shear.max(): minshear = shear.max()\n",
    "                plt.plot(shear[vrange[0]: vrange[1]],nu_rel[vrange[0]: vrange[1]],label=\"yd=\"+str(shearrate))\n",
    "#                 print vrange[0]\n",
    "#                 plt.plot(shear,nu_rel,label=\"yd=\"+str(shearrate))\n",
    "                print \"Total timesteps :\"+str(len(shear))\n",
    "                print \"Available timesteps :\"+str(int(len(shear) - len(shear)/float(shear.max())))\n",
    "        except:\n",
    "            continue\n",
    "    plt.legend(loc=\"best\")\n",
    "    plt.title(\"$\\phi=$\"+str(phival))\n",
    "    plt.yscale(\"log\")\n",
    "    plt.xlabel(\"strain\")\n",
    "    plt.ylabel(\"Relative viscosity Pa.s\")\n",
    "\n",
    "#     plt.xlim([0,minshear])\n",
    "    name = \"comparison_viscosity_\" + str(phival)+ '_'.join([str(i) for i in ydvals])\n",
    "#     plt.savefig(name)\n",
    "\n",
    "time_series = interactive(plot_timeseries, \\\n",
    "                vrange = widgets.IntRangeSlider(min = 0, max = 1500,value = [0,1000]),\\\n",
    "                phival = widgets.ToggleButtons(options=[40,45,50,54,55,56,58],value=56,disabled=False), \\\n",
    "                ydvals= widgets.SelectMultiple(options=[1,10,11,11.5,12,12.5,13,14,15,16,18,20,30,50,70,100,200,300,1000],value=[12.0]),\\\n",
    "                __manual=False)\n",
    "\n",
    "display(time_series)"
   ]
  },
  {
   "cell_type": "markdown",
   "metadata": {},
   "source": [
    "## Plot averaged PDF"
   ]
  },
  {
   "cell_type": "markdown",
   "metadata": {},
   "source": [
    "### PDF averaged over a over a time range "
   ]
  },
  {
   "cell_type": "markdown",
   "metadata": {},
   "source": [
    "Averaged PDF over a specified time range is plotted here."
   ]
  },
  {
   "cell_type": "code",
   "execution_count": 13,
   "metadata": {
    "collapsed": false
   },
   "outputs": [],
   "source": [
    "# Eric's code for a PDF with higher resolution\n",
    "from susipop.susi.cache import SusiCache as cache\n",
    "\n",
    "\n",
    "f = FloatProgress(min=0, max=100)\n",
    "\n",
    "L = widgets.Label(\"\")\n",
    "\n",
    "display_cache_status = widgets.Label(\"\")\n",
    "\n",
    "\n",
    "def _plot_pdf_timerange(phi,time ,shearrate,bins = 41):\n",
    "    cachefilename = \"./cache/\" + \"phi_\"+str(phi)+\"_shearrate_\"+str(float(shearrate)).replace(\".\",\"_\")+\".h5\"\n",
    "    pdfcache = cache(cachefile=cachefilename)\n",
    "    path = \"rhor1_phi\"+str(phi)+\"_yd\"+str(float(shearrate))\n",
    "    dataset = sp.reader.DataSet(path,particles=True, fluid=True)\n",
    "    tmin, tmax = time[0], time[1]\n",
    "    if tmax > len(dataset.tlist):\n",
    "        tmax = len(dataset.tlist)\n",
    "    step = 1.0\n",
    "    global edges\n",
    "    global pair_df\n",
    "    \n",
    "    for t in range(tmin,tmax,1):\n",
    "        if not pdfcache.has_data(t,\"edges\") and not pdfcache.has_data(t,\"pair_df\"):\n",
    "            dataset.load_state(dataset.tlist[t])\n",
    "            exp = dataset\n",
    "            #Create the size of the area that you want to bin the distances in\n",
    "            limit = 5 * exp.particles.radius.max()\n",
    "    #         cachename = \"pdf_phi_\"+str(phi)+\"_shearrate_\"+str(shearrate).replace(\".\",\"_\")+\"_time\"+str(t)\n",
    "            #Calculate the distances and bin them\n",
    "            (edges, pair_df) = sp.spatial.correlations.pair_distribution_function(exp.particles.r,\n",
    "                 L=exp.L, LEs=exp.LEs, histogramdd={\"bins\":(bins, bins, bins),\"range\":((-limit,limit),(-limit,limit),(-limit,limit))})\n",
    "            datadict= dict()\n",
    "            datadict[\"edges\"] = edges\n",
    "            datadict[\"pair_df\"] = pair_df\n",
    "            pdfcache.save_data(t,{\"edges\":edges, \"pair_df\":pair_df})\n",
    "            display_cache_status.value =\"saving data to cache: \"+cachefilename+\" for timestep :\"+ str(t)\n",
    "        else:\n",
    "            edges = pdfcache.load_data(t,\"edges\")\n",
    "            pair_df = pdfcache.load_data(t,\"pair_df\")\n",
    "            display_cache_status.value = \" loading from cache :\"+cachefilename+\" for timestep\"+ str(t)\n",
    "        if step == 1: edges_tot, pair_df_tot = np.zeros_like(edges), np.zeros_like(pair_df)\n",
    "        edges_tot += edges\n",
    "        pair_df_tot += pair_df\n",
    "        step += 1.0\n",
    "        f.value = step/int(tmax-tmin+1)*100\n",
    "        L.value = str(int(step/int(tmax-tmin+1)*100))+\"% completed\"\n",
    "\n",
    "    edges = edges_tot/step\n",
    "    pair_df = pair_df_tot/step\n",
    "\n",
    "\n",
    "def plot_pdf_timerange(phi,time ,shearrate,bins, xz_vmax,xy_vmax,yz_vmax,analyze_,autorange,save_fig):\n",
    "    if analyze_:\n",
    "        _plot_pdf_timerange(phi,time ,shearrate,bins)\n",
    "    #Plot them in a color mesh\n",
    "    #pcolor plots have a tendency to leave out one row/column of \"pixels\". It will not immediately plot the entire\n",
    "    #range. To compensate, the defined meshgrid needs to be 1 \"pont\" bigger  than the image that you want.\n",
    "\n",
    "    #Add a value to \"edges\" by first determining bin stepsize and then appending one step to edges\n",
    "    max=edges[0][bins-1]+(edges[0][1]-edges[0][0])\n",
    "    new0=np.append(edges[0],max)\n",
    "    new1=np.append(edges[1],max)\n",
    "    new2=np.append(edges[2],max)\n",
    "\n",
    "    # X-Z PLANE\n",
    "    #Create the mesh grid, but shift by half a bin to correctly center the image\n",
    "    plt.figure(figsize=[10,10])\n",
    "\n",
    "    plt.subplot(221)\n",
    "    XX, ZZ = np.meshgrid(new0-7.31208644e-07/2, new2-7.31208644e-07/2)\n",
    "    pairdf = pair_df[:, pair_df.shape[1] / 2, :]\n",
    "\n",
    "    if autorange == True: plt.pcolor(XX.T * 1e6, ZZ.T * 1e6, pairdf,vmin=0,vmax=xz_vmax)\n",
    "    else: plt.pcolor(XX.T * 1e6, ZZ.T * 1e6, pairdf)\n",
    "        \n",
    "    plt.colorbar()\n",
    "#         y_mum = 1e6 * edges[1][pair_df.shape[1] / 2]\n",
    "    y_mum =  1e6 * ( edges[1][1] -edges[1][0] )    \n",
    "\n",
    "    plt.axis([-16,16,-16,16])\n",
    "    plt.xlabel('$\\Delta{x}$ $(\\mu{m})$', fontsize=15);\n",
    "    plt.ylabel('$\\Delta{z}$ $(\\mu{m})$', fontsize=15);\n",
    "    plt.title('PDF at $y={:.2f} \\mu{{m}}$ for phi='.format(y_mum)+str(phi)+\" yd=\"+str(shearrate).format(y_mum), fontsize=15);\n",
    "    print \"ymum=\"+str(y_mum)\n",
    "\n",
    "    #X-Y PLANE\n",
    "    plt.subplot(222)\n",
    "    XX, YY = np.meshgrid(new0-7.31208644e-07/2, new1-7.31208644e-07/2)\n",
    "    pairdf = pair_df[:,:, pair_df.shape[2] / 2]\n",
    "\n",
    "    if autorange== True: plt.pcolor(XX.T * 1e6, YY.T * 1e6, pairdf,vmin=0,vmax=xy_vmax)\n",
    "    else: plt.pcolor(XX.T * 1e6, YY.T * 1e6, pairdf)\n",
    "        \n",
    "    plt.colorbar()\n",
    "    z_mum = 1e6 * ( edges[2][1] -edges[2][0] )    \n",
    "\n",
    "    plt.axis([-16,16,-16,16])\n",
    "    plt.xlabel('$\\Delta{x}$ $(\\mu{m})$', fontsize=15);\n",
    "    plt.ylabel('$\\Delta{y}$ $(\\mu{m})$', fontsize=15);\n",
    "    plt.title('PDF at $z={:.2f} \\mu{{m}}$ for phi='.format(z_mum)+str(phi)+\" yd=\"+str(shearrate).format(z_mum), fontsize=15);\n",
    "\n",
    "    #Y-Z PLANE\n",
    "    plt.subplot(223)\n",
    "    YY, ZZ = np.meshgrid(new1-7.31208644e-07/2, new2-7.31208644e-07/2)\n",
    "    pairdf = pair_df[pair_df.shape[0] / 2,:,:]\n",
    "\n",
    "    if autorange== True: plt.pcolor(YY.T * 1e6, ZZ.T * 1e6, pairdf,vmin=0,vmax=yz_vmax)\n",
    "    else: plt.pcolor(YY.T * 1e6, ZZ.T * 1e6, pairdf)\n",
    "    plt.colorbar()\n",
    "    x_mum = 1e6 *( edges[0][1] -edges[0][0] )    \n",
    "\n",
    "    plt.axis([-16,16,-16,16])\n",
    "    plt.xlabel('$\\Delta{y}$ $(\\mu{m})$', fontsize=15);\n",
    "    plt.ylabel('$\\Delta{z}$ $(\\mu{m})$', fontsize=15);\n",
    "    plt.title('PDF at $x={:.2f} \\mu{{m}}$ for phi='.format(x_mum)+str(phi)+\" yd=\"+str(shearrate).format(x_mum), fontsize=15);\n",
    "    \n",
    "    plt.subplot(224)\n",
    "    tmin, tmax = time[0], time[1]\n",
    "    path = \"rhor1_phi\"+str(phi)+\"_yd\"+str(float(shearrate))\n",
    "    nupath = path + \"/result/nu_t.dat\"\n",
    "    db = pd.read_csv(nupath)\n",
    "    nu = db[db.columns[2]]\n",
    "    nu_rel = db[db.columns[4]]\n",
    "    t = db[db.columns[1]]\n",
    "#     dt = abs(t[2]-t[1])\n",
    "    shear = t*shearrate\n",
    "    shear_tmin = t[tmin-1]*shearrate\n",
    "    try:\n",
    "        shear_tmax =  t[tmax-1]*shearrate\n",
    "    except:\n",
    "        shear_tmax =  t[len(t)-1]*shearrate\n",
    "    print shear_tmin, shear_tmax\n",
    "    plt.plot(shear, nu)\n",
    "    \n",
    "    plt.axvline(shear_tmin)\n",
    "    plt.axvline(shear_tmax)\n",
    "    plt.yscale(\"log\")\n",
    "    plt.ylabel(\"viscosity\")\n",
    "    plt.xlabel(\"strain\")\n",
    "    if save_fig:\n",
    "        plt.savefig(\"pdf_phi_\"+str(phi)+\"_shearrate_\"+str(shearrate).replace(\".\",\"_\")+\"_trange\"+str(tmin)+\"_\"+str(tmax))\n",
    "        \n",
    "\n",
    "\n",
    "\n",
    "pdf_average_timerange = interactive(plot_pdf_timerange, \\\n",
    "                phi = widgets.ToggleButtons(options=[40,45,50,54,55,56,58],value=56,disabled=False), \\\n",
    "                shearrate= widgets.ToggleButtons(options=[1,10,11,11.5,12,12.5,13,14,15,16,18,20,30,50,70,100,200,300,1000],\\\n",
    "                                                 value = 12),\\\n",
    "                xz_vmax = widgets.FloatSlider(min= 0, max= 15,value = 3, step = 0.25,orientation = \"vertical\",description = \"xz colorbax max\"),\\\n",
    "                xy_vmax = widgets.FloatSlider(min= 0, max= 15,value = 3, step = 0.25,orientation = \"vertical\",description = \"xy colorbax max\"),\\\n",
    "                yz_vmax = widgets.FloatSlider(min= 0, max= 15,value = 3, step = 0.25,orientation = \"vertical\",description = \"yz colorbax max\"),\\\n",
    "                analyze_ = widgets.ToggleButtons(options=[True,False],value = True,description= \"Analyze?\"),\\\n",
    "                save_fig = widgets.ToggleButtons(options=[True,False],value = False,description=\"Save figure?\"),\\\n",
    "                autorange = widgets.ToggleButtons(options=[True,False],value = True,description=\"Manual color range?\"),\\\n",
    "                time = widgets.IntRangeSlider(min= 1, max= 1500,value = [0,1000], step = 1),\\\n",
    "                bins = widgets.IntSlider(options = [11,101],value = 41, step = 2,orientation = \"vertical\"),__manual=True)\n",
    "display(widgets.VBox(pdf_average_timerange.children[0:3]))\n",
    "display(widgets.HBox(pdf_average_timerange.children[3:-1]))\n",
    "# display(widgets.HBox(pdf_average_timerange.children[7:-1]))\n",
    "display(f)\n",
    "display(L)\n",
    "display(display_cache_status)\n",
    "display(pdf_average_timerange.children[-1])\n",
    "\n"
   ]
  },
  {
   "cell_type": "markdown",
   "metadata": {},
   "source": [
    "## PDF averaged over a timesteps with a specific viscosity range "
   ]
  },
  {
   "cell_type": "markdown",
   "metadata": {},
   "source": [
    "PDF is calculated over all the timesteps that have a viscosity in a specific range  "
   ]
  },
  {
   "cell_type": "code",
   "execution_count": 14,
   "metadata": {
    "collapsed": false
   },
   "outputs": [],
   "source": [
    "# Eric's code for a PDF with higher resolution\n",
    "from susipop.susi.cache import SusiCache as cache\n",
    "\n",
    "\n",
    "f = FloatProgress(min=0, max=100)\n",
    "L = widgets.Label(\"\")\n",
    "\n",
    "\n",
    "def _plot_pdf_timerange(phi,viscosity_range ,shearrate,bins = 41):\n",
    "    cachefilename = \"./cache/\" + \"phi_\"+str(phi)+\"_shearrate_\"+str(float(shearrate)).replace(\".\",\"_\")+\".h5\"\n",
    "    print cachefilename\n",
    "    pdfcache = cache(cachefile=cachefilename)\n",
    "    path = \"rhor1_phi\"+str(phi)+\"_yd\"+str(float(shearrate))\n",
    "    dataset = sp.reader.DataSet(path,particles=True, fluid=True)\n",
    "\n",
    "    min_viscosity = viscosity_range[0]\n",
    "    max_viscosity = viscosity_range[1]\n",
    "    \n",
    "    \n",
    "    nudata = pd.read_csv(path+\"/result/nu_t.dat\",names=[\"t\",\"time\", \"nu\",\"nu_var\",\"nur\",\"nur_var)\"])\n",
    "    idx_list = np.where((nudata[\"nur\"] < max_viscosity) & (nudata[\"nur\"] > min_viscosity) )[0]\n",
    "    t_list = nudata[\"t\"][idx_list]\n",
    "#     print t_list\n",
    "    \n",
    "    global edges\n",
    "    global pair_df\n",
    "    step = 1 \n",
    "    \n",
    "    for t in idx_list:\n",
    "        if not pdfcache.has_data(t,\"edges\") and not pdfcache.has_data(t,\"pair_df\"):\n",
    "            dataset.load_state(dataset.tlist[t])\n",
    "            exp = dataset\n",
    "            #Create the size of the area that you want to bin the distances in\n",
    "            limit = 5 * exp.particles.radius.max()\n",
    "    #         cachename = \"pdf_phi_\"+str(phi)+\"_shearrate_\"+str(shearrate).replace(\".\",\"_\")+\"_time\"+str(t)\n",
    "            #Calculate the distances and bin them\n",
    "            (edges, pair_df) = sp.spatial.correlations.pair_distribution_function(exp.particles.r,\n",
    "                 L=exp.L, LEs=exp.LEs, histogramdd={\"bins\":(bins, bins, bins),\"range\":((-limit,limit),(-limit,limit),(-limit,limit))})\n",
    "            datadict= dict()\n",
    "            datadict[\"edges\"] = edges\n",
    "            datadict[\"pair_df\"] = pair_df\n",
    "            pdfcache.save_data(t,{\"edges\":edges, \"pair_df\":pair_df})\n",
    "            display_cache_status.value =\"saving data to cache: \"+cachefilename+\" for timestep :\"+ str(t)\n",
    "        else:\n",
    "            edges = pdfcache.load_data(t,\"edges\")\n",
    "            pair_df = pdfcache.load_data(t,\"pair_df\")\n",
    "            display_cache_status.value = \" loading from cache :\"+cachefilename+\" for timestep\"+ str(t)\n",
    "        if step == 1: edges_tot, pair_df_tot = np.zeros_like(edges), np.zeros_like(pair_df)\n",
    "        edges_tot += edges\n",
    "        pair_df_tot += pair_df\n",
    "        step += 1.0\n",
    "        f.value = step/len(t_list)*100\n",
    "        L.value = str(int(step/len(t_list)*100))+\"% completed\"\n",
    "\n",
    "    edges = edges_tot/step\n",
    "    pair_df = pair_df_tot/step\n",
    "\n",
    "\n",
    "def plot_pdf_timerange(phi,viscosity_range ,shearrate,bins, xz_vmax,xy_vmax,yz_vmax,analyze_,autorange, save_fig):\n",
    "    \n",
    "    if analyze_:\n",
    "        _plot_pdf_timerange(phi,viscosity_range ,shearrate,bins)\n",
    "    #Plot them in a color mesh\n",
    "    #pcolor plots have a tendency to leave out one row/column of \"pixels\". It will not immediately plot the entire\n",
    "    #range. To compensate, the defined meshgrid needs to be 1 \"pont\" bigger  than the image that you want.\n",
    "\n",
    "    #Add a value to \"edges\" by first determining bin stepsize and then appending one step to edges\n",
    "    max=edges[0][bins-1]+(edges[0][1]-edges[0][0])\n",
    "    new0=np.append(edges[0],max)\n",
    "    new1=np.append(edges[1],max)\n",
    "    new2=np.append(edges[2],max)\n",
    "\n",
    "    # X-Z PLANE\n",
    "    #Create the mesh grid, but shift by half a bin to correctly center the image\n",
    "    plt.figure(figsize=[10,10])\n",
    "\n",
    "    plt.subplot(221)\n",
    "    XX, ZZ = np.meshgrid(new0-7.31208644e-07/2, new2-7.31208644e-07/2)\n",
    "    pairdf = pair_df[:, pair_df.shape[1] / 2, :]\n",
    "\n",
    "#     plt.pcolor(XX.T * 1e6, ZZ.T * 1e6, pairdf,vmin=0,vmax=xz_vmax)\n",
    "    if autorange == True: plt.pcolor(XX.T * 1e6, ZZ.T * 1e6, pairdf,vmin=0,vmax=xz_vmax)\n",
    "    else: plt.pcolor(XX.T * 1e6, ZZ.T * 1e6, pairdf)\n",
    "    plt.colorbar()\n",
    "#         y_mum = 1e6 * edges[1][pair_df.shape[1] / 2]\n",
    "    y_mum =  1e6 * ( edges[1][1] -edges[1][0] )    \n",
    "\n",
    "    plt.axis([-16,16,-16,16])\n",
    "    plt.xlabel('$\\Delta{x}$ $(\\mu{m})$', fontsize=15);\n",
    "    plt.ylabel('$\\Delta{z}$ $(\\mu{m})$', fontsize=15);\n",
    "    plt.title('PDF at $y={:.2f} \\mu{{m}}$ for phi='.format(y_mum)+str(phi)+\" yd=\"+str(shearrate).format(y_mum), fontsize=15);\n",
    "    print \"ymum=\"+str(y_mum)\n",
    "\n",
    "    #X-Y PLANE\n",
    "    plt.subplot(222)\n",
    "    XX, YY = np.meshgrid(new0-7.31208644e-07/2, new1-7.31208644e-07/2)\n",
    "    pairdf = pair_df[:,:, pair_df.shape[2] / 2]\n",
    "\n",
    "#     plt.pcolor(XX.T * 1e6, YY.T * 1e6, pairdf,vmin=0,vmax=xy_vmax)\n",
    "    if autorange == True: plt.pcolor(XX.T * 1e6, YY.T * 1e6, pairdf,vmin=0,vmax=xy_vmax)\n",
    "    else: plt.pcolor(XX.T * 1e6, YY.T * 1e6, pairdf)\n",
    "        \n",
    "    plt.colorbar()\n",
    "    z_mum = 1e6 * ( edges[2][1] -edges[2][0] )    \n",
    "\n",
    "    plt.axis([-16,16,-16,16])\n",
    "    plt.xlabel('$\\Delta{x}$ $(\\mu{m})$', fontsize=15);\n",
    "    plt.ylabel('$\\Delta{y}$ $(\\mu{m})$', fontsize=15);\n",
    "    plt.title('PDF at $z={:.2f} \\mu{{m}}$ for phi='.format(z_mum)+str(phi)+\" yd=\"+str(shearrate).format(z_mum), fontsize=15);\n",
    "\n",
    "    #Y-Z PLANE\n",
    "    plt.subplot(223)\n",
    "    YY, ZZ = np.meshgrid(new1-7.31208644e-07/2, new2-7.31208644e-07/2)\n",
    "    pairdf = pair_df[pair_df.shape[0] / 2,:,:]\n",
    "\n",
    "#     plt.pcolor(YY.T * 1e6, ZZ.T * 1e6, pairdf,vmin=0,vmax=yz_vmax)\n",
    "    if autorange == True: plt.pcolor(YY.T * 1e6, ZZ.T * 1e6, pairdf,vmin=0,vmax=yz_vmax)\n",
    "    else: plt.pcolor(YY.T * 1e6, ZZ.T * 1e6, pairdf)\n",
    "    plt.colorbar()\n",
    "    x_mum = 1e6 *( edges[0][1] -edges[0][0] )    \n",
    "\n",
    "    plt.axis([-16,16,-16,16])\n",
    "    plt.xlabel('$\\Delta{y}$ $(\\mu{m})$', fontsize=15);\n",
    "    plt.ylabel('$\\Delta{z}$ $(\\mu{m})$', fontsize=15);\n",
    "    plt.title('PDF at $x={:.2f} \\mu{{m}}$ for phi='.format(x_mum)+str(phi)+\" yd=\"+str(shearrate).format(x_mum), fontsize=15);\n",
    "    \n",
    "    plt.subplot(224)\n",
    "#     tmin, tmax = time[0], time[1]\n",
    "    min_viscosity = viscosity_range[0]\n",
    "    max_viscosity = viscosity_range[1]\n",
    "\n",
    "\n",
    "    path = \"rhor1_phi\"+str(phi)+\"_yd\"+str(float(shearrate))\n",
    "    nupath = path + \"/result/nu_t.dat\"\n",
    "    db = pd.read_csv(nupath,names=[\"t\",\"time\", \"nu\",\"nu_var\",\"nur\",\"nur_var)\"])\n",
    "    nu = db[\"nu\"]\n",
    "    nu_rel = db[\"nur\"]\n",
    "    t = db[\"time\"]\n",
    "    idx_list_valid = np.where((db[\"nur\"] < max_viscosity) & (db[\"nur\"] > min_viscosity) )[0]\n",
    "    idx_list_invalid = np.where((db[\"nur\"] > max_viscosity) | (db[\"nur\"] < min_viscosity) )[0]\n",
    "\n",
    "    \n",
    "    #     dt = abs(t[2]-t[1])\n",
    "    shear = t*shearrate\n",
    "#     shear_tmin = t[tmin-1]*shearrate\n",
    "    \n",
    "    plt.plot(shear[idx_list_valid], nu_rel[idx_list_valid],'r.',label=\"data points used \")\n",
    "    plt.plot(shear[idx_list_invalid], nu_rel[idx_list_invalid],'b.',label=\"data points not used\")\n",
    "    plt.legend(loc = 'best',prop={'size':8})\n",
    "#     try:\n",
    "#         shear_tmax =  t[tmax-1]*shearrate\n",
    "#     except:\n",
    "#         shear_tmax =  t[len(t)-1]*shearrate\n",
    "        \n",
    "#     print shear_tmin, shear_tmax\n",
    "#     plt.plot(shear, nu)\n",
    "    plt.yscale(\"log\")\n",
    "    plt.ylabel(\"relative viscosity\")\n",
    "    plt.xlabel(\"strain\")\n",
    "    if save_fig:\n",
    "        plt.savefig(\"pdf_phi_\"+str(phi)+\"_shearrate_\"+str(shearrate).replace(\".\",\"_\")+\"_viscosity_range\"+str(min_viscosity)+\"_\"+str(max_viscosity))\n",
    "        \n",
    "\n",
    "\n",
    "\n",
    "pdf_average_viscosity = interactive(plot_pdf_timerange, \\\n",
    "                phi = widgets.ToggleButtons(options=[40,45,50,54,55,56,58],value=56,disabled=False), \\\n",
    "                shearrate= widgets.ToggleButtons(options=[1,10,11,11.5,12,12.5,13,14,15,16,18,20,30,50,70,100,200,300,1000],\\\n",
    "                                                 value = 12),\\\n",
    "                xz_vmax = widgets.FloatSlider(min= 0, max= 15,value = 2.75, step = 0.05,orientation = \"vertical\",description = \"xz colorbax max\"),\\\n",
    "                xy_vmax = widgets.FloatSlider(min= 0, max= 15,value = 2.75, step = 0.05,orientation = \"vertical\",description = \"xy colorbax max\"),\\\n",
    "                yz_vmax = widgets.FloatSlider(min= 0, max= 15,value = 2.75, step = 0.05,orientation = \"vertical\",description = \"yz colorbax max\"),\\\n",
    "                analyze_ = widgets.ToggleButtons(options=[True,False],value = True,description= \"Analyze?\"),\\\n",
    "                save_fig = widgets.ToggleButtons(options=[True,False],value = False,description=\"Save figure?\"),\\\n",
    "                autorange = widgets.ToggleButtons(options=[True,False],value = True,description=\"Manual color range?\"),\\\n",
    "                viscosity_range = widgets.IntRangeSlider(min= 1, max= 1e5,value = [1,1000], step = 1, description= \"relative viscosity range\"),\\\n",
    "                bins = widgets.IntSlider(options = [11,101],value = 41, step = 2,orientation = \"vertical\"),__manual=True)\n",
    "display(widgets.VBox(pdf_average_viscosity.children[0:3]))\n",
    "display(widgets.HBox(pdf_average_viscosity.children[3:-1]))\n",
    "# display(widgets.HBox(pdf_average_viscosity.children[7:-1]))\n",
    "display(f)\n",
    "display(L)\n",
    "display(display_cache_status)\n",
    "display(pdf_average_viscosity.children[-1])"
   ]
  },
  {
   "cell_type": "markdown",
   "metadata": {
    "collapsed": false
   },
   "source": [
    "## PDF averaged over timesteps with a specific 1st normal stress difference range"
   ]
  },
  {
   "cell_type": "code",
   "execution_count": 15,
   "metadata": {
    "collapsed": false
   },
   "outputs": [],
   "source": [
    "\n",
    "# Eric's code for a PDF with higher resolution\n",
    "from susipop.susi.cache import SusiCache as cache\n",
    "\n",
    "\n",
    "f = FloatProgress(min=0, max=100)\n",
    "L = widgets.Label(\"\")\n",
    "display_cache_status = widgets.Label(\"\")\n",
    "\n",
    "def _plot_pdf_timerange(phi,N1_range ,shearrate,invert_range, bins = 41):\n",
    "    cachefilename = \"./cache/\" + \"phi_\"+str(phi)+\"_shearrate_\"+str(float(shearrate)).replace(\".\",\"_\")+\".h5\"\n",
    "    pdfcache = cache(cachefile=cachefilename)\n",
    "    path = \"rhor1_phi\"+str(phi)+\"_yd\"+str(float(shearrate))\n",
    "    dataset = sp.reader.DataSet(path,particles=True, fluid=True)\n",
    "\n",
    "    min_N1 = N1_range[0]\n",
    "    max_N1 = N1_range[1]\n",
    "    \n",
    "    \n",
    "    n1data = pd.read_csv(path+\"/result/part_stress_norm_tot_t.dat\")\n",
    "    s11 = np.asarray(n1data[n1data.columns[2]])\n",
    "    s22 = np.asarray(n1data[n1data.columns[3]])\n",
    "    s33 = np.asarray(n1data[n1data.columns[4]])\n",
    "    N1 = s11 - s33\n",
    "    N2 = s33 - s22\n",
    "    \n",
    "    if not invert_range: idx_list = np.where((N1 < max_N1) & (N1 > min_N1) )[0]\n",
    "    else: idx_list = np.where((N1 > max_N1) | (N1 < min_N1) )[0]\n",
    "#     print idx_list\n",
    "    global edges\n",
    "    global pair_df\n",
    "    step = 1 \n",
    "    \n",
    "    for t in idx_list:\n",
    "        if not pdfcache.has_data(t,\"edges\") and not pdfcache.has_data(t,\"pair_df\"):\n",
    "            dataset.load_state(dataset.tlist[t])\n",
    "            exp = dataset\n",
    "            #Create the size of the area that you want to bin the distances in\n",
    "            limit = 5 * exp.particles.radius.max()\n",
    "\n",
    "            (edges, pair_df) = sp.spatial.correlations.pair_distribution_function(exp.particles.r,\n",
    "                 L=exp.L, LEs=exp.LEs, histogramdd={\"bins\":(bins, bins, bins),\"range\":((-limit,limit),(-limit,limit),(-limit,limit))})\n",
    "            datadict= dict()\n",
    "            datadict[\"edges\"] = edges\n",
    "            datadict[\"pair_df\"] = pair_df\n",
    "            pdfcache.save_data(t,{\"edges\":edges, \"pair_df\":pair_df})\n",
    "            display_cache_status.value =\"saving data to cache: \"+cachefilename+\" for timestep :\"+ str(t)\n",
    "        else:\n",
    "            edges = pdfcache.load_data(t,\"edges\")\n",
    "            pair_df = pdfcache.load_data(t,\"pair_df\")\n",
    "            display_cache_status.value = \" loading from cache :\"+cachefilename+\" for timestep\"+ str(t)\n",
    "        if step == 1: edges_tot, pair_df_tot = np.zeros_like(edges), np.zeros_like(pair_df)\n",
    "        edges_tot += edges\n",
    "        pair_df_tot += pair_df\n",
    "        step += 1.0\n",
    "        f.value = step/len(idx_list)*100\n",
    "        L.value = str(int(step/len(idx_list)*100))+\"% completed\"\n",
    "\n",
    "    edges = edges_tot/step\n",
    "    pair_df = pair_df_tot/step\n",
    "\n",
    "\n",
    "def plot_pdf_timerange(phi,N1_range ,shearrate,bins, xz_vmax,xy_vmax,yz_vmax,analyze_,autorange, save_fig,invert_range):\n",
    "    \n",
    "    if analyze_:\n",
    "        _plot_pdf_timerange(phi,N1_range ,shearrate,invert_range,bins)\n",
    "    #Plot them in a color mesh\n",
    "    #pcolor plots have a tendency to leave out one row/column of \"pixels\". It will not immediately plot the entire\n",
    "    #range. To compensate, the defined meshgrid needs to be 1 \"pont\" bigger  than the image that you want.\n",
    "\n",
    "    #Add a value to \"edges\" by first determining bin stepsize and then appending one step to edges\n",
    "    max=edges[0][bins-1]+(edges[0][1]-edges[0][0])\n",
    "    new0=np.append(edges[0],max)\n",
    "    new1=np.append(edges[1],max)\n",
    "    new2=np.append(edges[2],max)\n",
    "\n",
    "    # X-Z PLANE\n",
    "    #Create the mesh grid, but shift by half a bin to correctly center the image\n",
    "    plt.figure(figsize=[10,10])\n",
    "\n",
    "    plt.subplot(221)\n",
    "    XX, ZZ = np.meshgrid(new0-7.31208644e-07/2, new2-7.31208644e-07/2)\n",
    "    pairdf = pair_df[:, pair_df.shape[1] / 2, :]\n",
    "\n",
    "    if autorange == True: plt.pcolor(XX.T * 1e6, ZZ.T * 1e6, pairdf,vmin=0,vmax=xz_vmax)\n",
    "    else: plt.pcolor(XX.T * 1e6, ZZ.T * 1e6, pairdf)\n",
    "    plt.colorbar()\n",
    "#         y_mum = 1e6 * edges[1][pair_df.shape[1] / 2]\n",
    "    y_mum =  1e6 * ( edges[1][1] -edges[1][0] )    \n",
    "\n",
    "    plt.axis([-16,16,-16,16])\n",
    "#     plt.axis([-26,26,-26,26])\n",
    "    plt.xlabel('$\\Delta{x}$ $(\\mu{m})$', fontsize=15,labelpad=-5);\n",
    "    plt.ylabel('$\\Delta{z}$ $(\\mu{m})$', fontsize=15,labelpad=-10);\n",
    "    plt.title('PDF at $y={:.2f} \\mu{{m}}$ for phi='.format(y_mum)+str(phi)+\" yd=\"+str(shearrate).format(y_mum), fontsize=15);\n",
    "    print \"ymum=\"+str(y_mum)\n",
    "\n",
    "    #X-Y PLANE\n",
    "    plt.subplot(222)\n",
    "    XX, YY = np.meshgrid(new0-7.31208644e-07/2, new1-7.31208644e-07/2)\n",
    "    pairdf = pair_df[:,:, pair_df.shape[2] / 2]\n",
    "\n",
    "    if autorange == True: plt.pcolor(XX.T * 1e6, YY.T * 1e6, pairdf,vmin=0,vmax=xy_vmax)\n",
    "    else: plt.pcolor(XX.T * 1e6, YY.T * 1e6, pairdf)\n",
    "        \n",
    "    plt.colorbar()\n",
    "    z_mum = 1e6 * ( edges[2][1] -edges[2][0] )    \n",
    "\n",
    "    plt.axis([-16,16,-16,16])\n",
    "#     plt.axis([-26,26,-26,26])\n",
    "    plt.xlabel('$\\Delta{x}$ $(\\mu{m})$', fontsize=15,labelpad=-5);\n",
    "    plt.ylabel('$\\Delta{y}$ $(\\mu{m})$', fontsize=15,labelpad=-10);\n",
    "    plt.title('PDF at $z={:.2f} \\mu{{m}}$ for phi='.format(z_mum)+str(phi)+\" yd=\"+str(shearrate).format(z_mum), fontsize=15);\n",
    "\n",
    "    #Y-Z PLANE\n",
    "    plt.subplot(223)\n",
    "    YY, ZZ = np.meshgrid(new1-7.31208644e-07/2, new2-7.31208644e-07/2)\n",
    "    pairdf = pair_df[pair_df.shape[0] / 2,:,:]\n",
    "\n",
    "    if autorange == True: plt.pcolor(YY.T * 1e6, ZZ.T * 1e6, pairdf,vmin=0,vmax=yz_vmax)\n",
    "    else: plt.pcolor(YY.T * 1e6, ZZ.T * 1e6, pairdf)\n",
    "    plt.colorbar()\n",
    "    x_mum = 1e6 *( edges[0][1] -edges[0][0] )    \n",
    "\n",
    "    plt.axis([-16,16,-16,16])\n",
    "#     plt.axis([-26,26,-26,26])\n",
    "    plt.xlabel('$\\Delta{y}$ $(\\mu{m})$', fontsize=15,labelpad=-5);\n",
    "    plt.ylabel('$\\Delta{z}$ $(\\mu{m})$', fontsize=15,labelpad=-10);\n",
    "    plt.title('PDF at $x={:.2f} \\mu{{m}}$ for phi='.format(x_mum)+str(phi)+\" yd=\"+str(shearrate).format(x_mum), fontsize=15);\n",
    "    \n",
    "    plt.subplot(224)\n",
    "\n",
    "    min_N1 = N1_range[0]\n",
    "    max_N1 = N1_range[1]\n",
    "    \n",
    "    path = \"rhor1_phi\"+str(phi)+\"_yd\"+str(float(shearrate))\n",
    "    n1data = pd.read_csv(path+\"/result/part_stress_norm_tot_t.dat\")\n",
    "    s11 = np.asarray(n1data[n1data.columns[2]])\n",
    "    s22 = np.asarray(n1data[n1data.columns[3]])\n",
    "    s33 = np.asarray(n1data[n1data.columns[4]])\n",
    "    t   = np.asarray(n1data[n1data.columns[1]])\n",
    "    shear = t*shearrate\n",
    "    N1 = s11 - s33\n",
    "    N2 = s33 - s22\n",
    "    plt.plot(shear,N1)\n",
    "    if not invert_range:\n",
    "        idx_list_valid = np.where((N1 < max_N1) & (N1 > min_N1) )[0]\n",
    "        idx_list_invalid = np.where((N1 > max_N1) | (N1 < min_N1) )[0]\n",
    "    else:\n",
    "        idx_list_valid = np.where((N1 > max_N1) | (N1 < min_N1) )[0]\n",
    "        idx_list_invalid = np.where((N1 < max_N1) & (N1 > min_N1) )[0]\n",
    "        \n",
    "    print len(N1)\n",
    "    print len(s11)\n",
    "    plt.ion()\n",
    "    plt.plot(shear[idx_list_valid],N1[idx_list_valid],'r.', label = \"data points used \")\n",
    "    plt.plot(shear[idx_list_invalid],N1[idx_list_invalid],'b.', label = \"data points not used \")\n",
    "    plt.legend(loc = 'best', prop={'size':8} )\n",
    "    plt.ylabel(\"N1(Pa)\",labelpad=-10)\n",
    "    plt.xlabel(\"strain\",labelpad=-5)\n",
    "    \n",
    "    if save_fig:\n",
    "        plt.savefig(\"pdf_phi_\"+str(phi)+\"_shearrate_\"+str(shearrate).replace(\".\",\"_\")+\"_N1_range\"+str(min_N1).replace(\".\",\"_\")+\"to\"+str(max_N1).replace(\".\",\"_\"))\n",
    "        \n",
    "\n",
    "\n",
    "\n",
    "pdf_average_N1 = interactive(plot_pdf_timerange, \\\n",
    "                phi = widgets.ToggleButtons(options=[40,45,50,54,55,56,58],value=56,disabled=False), \\\n",
    "                shearrate= widgets.ToggleButtons(options=[1,10,11,11.5,12,12.5,13,14,15,16,18,20,30,50,70,100,200,300,1000],\\\n",
    "                                                 value = 12),\\\n",
    "                xz_vmax = widgets.FloatSlider(min= 0, max= 15,value = 2.75, step = 0.25,orientation = \"vertical\",description = \"xz colorbax max\"),\\\n",
    "                xy_vmax = widgets.FloatSlider(min= 0, max= 15,value = 2.75, step = 0.25,orientation = \"vertical\",description = \"xy colorbax max\"),\\\n",
    "                yz_vmax = widgets.FloatSlider(min= 0, max= 15,value = 2.75, step = 0.25,orientation = \"vertical\",description = \"yz colorbax max\"),\\\n",
    "                analyze_ = widgets.ToggleButtons(options=[True,False],value = True,description= \"Analyze?\"),\\\n",
    "                save_fig = widgets.ToggleButtons(options=[True,False],value = False,description=\"Save figure?\"),\\\n",
    "                autorange = widgets.ToggleButtons(options=[True,False],value = True,description=\"Manual color range?\"),\\\n",
    "                invert_range = widgets.ToggleButtons(options=[True,False],value = False,description=\"Search inverse value range?\"),\\\n",
    "                N1_range = widgets.FloatRangeSlider(min= -1e5, max= 1e5,value = [-10000.00,-1.00],  description= \"N1 range\"),\\\n",
    "                bins = widgets.IntSlider(options = [11,101],value = 41, step = 2,orientation = \"vertical\"),__manual=True)\n",
    "#display(pdf_average )\n",
    "# for i,item in enumerate(pdf_average.children):\n",
    "#     print i, item.description \n",
    "display(widgets.VBox(pdf_average_N1.children[0:3]))\n",
    "display(widgets.HBox(pdf_average_N1.children[3:]))\n",
    "# display(widgets.HBox(pdf_average_N1.children[7:-1]))\n",
    "display(f)\n",
    "display(L)\n",
    "display(display_cache_status)\n",
    "# display(pdf_average_N1.children[-1])"
   ]
  },
  {
   "cell_type": "markdown",
   "metadata": {},
   "source": [
    "## Velocity autocorrelations"
   ]
  },
  {
   "cell_type": "code",
   "execution_count": 16,
   "metadata": {
    "collapsed": false
   },
   "outputs": [],
   "source": [
    "import matplotlib.cm as cmx\n",
    "from mpl_toolkits.mplot3d import Axes3D\n",
    "# def scatter3d(x,y,z, cs, colorsMap='jet'):\n",
    "#     cm = plt.get_cmap(colorsMap)\n",
    "#     cNorm = mpl.colors.Normalize(vmin=min(cs), vmax=max(cs))\n",
    "#     scalarMap = cmx.ScalarMappable(norm=cNorm, cmap=cm)\n",
    "#     fig = plt.figure()\n",
    "#     ax = Axes3D(fig)\n",
    "#     ax.scatter(x, y, z, c=scalarMap.to_rgba(cs))\n",
    "#     scalarMap.set_array(cs)\n",
    "#     fig.colorbar(scalarMap)\n",
    "#     plt.show()\n",
    "from scipy.interpolate import griddata\n",
    "def intp(x,y,z,bins):\n",
    "    H, xedges, yedges = np.histogram2d(x, y,bins=bins, weights=z)\n",
    "    H = H.T  # Let each row list bins with common y range.\n",
    "#     fig = plt.figure()\n",
    "#     ax = fig.add_subplot(131, title='imshow: square bins')\n",
    "    plt.imshow(H, interpolation='nearest', origin='low', extent = (min(x), max(x), min(y), max(y)))\n",
    "#     plt.xlim([40,60])\n",
    "#     plt.ylim([40,60])\n",
    "    \n",
    "f = FloatProgress(min=0, max=100)\n",
    "L = widgets.Label(\"\")\n",
    "def _plot_vaf(phi,shearrate,timerange,bins):\n",
    "    #cachefilename = \"./cache/\" + \"phi_\"+str(phi)+\"_shearrate_\"+str(float(shearrate)).replace(\".\",\"_\")+\".h5\"\n",
    "    #pdfcache = cache(cachefile=cachefilename)\n",
    "    path = \"rhor1_phi\"+str(phi)+\"_yd\"+str(float(shearrate))\n",
    "    dataset = sp.reader.DataSet(path,particles=True, fluid=True)\n",
    "    dataset.load_state(dataset.tlist[1])\n",
    "    positions = dataset.particles.r\n",
    "    velocities = dataset.particles.newton_velocity\n",
    "#     print positions\n",
    "#     print velocities\n",
    "    vaf_pos = []\n",
    "    vaf_val = []\n",
    "#     timerange = np.asarray(timerange)\n",
    "    timerange = list(timerange)\n",
    "    print timerange\n",
    "    tlist = dataset.tlist[timerange[0]:timerange[1]]\n",
    "        \n",
    "    for idx,t in enumerate(tlist):\n",
    "        dataset.load_state(t)\n",
    "        f.value = float(idx)/len(tlist)*100.0\n",
    "        L.value = str(float(idx)/len(tlist)*100.0)\n",
    "        for i,vi in enumerate(velocities):\n",
    "            for j,vj in enumerate(velocities):\n",
    "                if j!=i:\n",
    "                    if np.linalg.norm(positions[j] - positions[i]) < 30e-6:\n",
    "                        vaf_val.append(np.multiply(vi,vj))\n",
    "                        vaf_pos.append(positions[j] - positions[i])\n",
    "    vaf_pos = np.asanyarray(vaf_pos)\n",
    "    vaf_val = np.asanyarray(vaf_val)\n",
    "#     print vaf_pos.shape\n",
    "#     print vaf_val.shape\n",
    "    x = [i[0]*1e6 for i in vaf_pos]\n",
    "    y = [i[1]*1e6 for i in vaf_pos]\n",
    "    z = [i[2]*1e6 for i in vaf_pos]\n",
    "    val_norm = [np.linalg.norm(i) for i in vaf_val]\n",
    "    val_x = [i[0] for i in vaf_val]\n",
    "    val_y = [i[1] for i in vaf_val]\n",
    "    val_z = [i[2] for i in vaf_val]\n",
    "    #scatter3d(x,y,z,val)\n",
    "    plt.figure(figsize=[15,5])\n",
    "    plt.subplot(1,3,1)\n",
    "    intp(x,y,val_norm,bins)\n",
    "#     plt.scatter(x,y, c = val_z ,alpha=0.03)\n",
    "    plt.subplot(1,3,2)\n",
    "    intp(x,z,val_norm,bins)\n",
    "#     plt.scatter(x,z, c = val_y,alpha=0.03)\n",
    "    plt.subplot(1,3,3)\n",
    "    intp(y,z,val_norm,bins)\n",
    "#     plt.scatter(y,z, c = val_x,alpha=0.03)\n",
    "    plt.show()\n",
    "vaf_average = interactive(_plot_vaf, \\\n",
    "    phi = widgets.ToggleButtons(options=[40,45,50,54,55,56,58],value=56,disabled=False), \\\n",
    "    shearrate= widgets.ToggleButtons(options=[1,10,11,11.5,12,12.5,13,14,15,16,18,20,30,50,70,100,200,300,1000],\\\n",
    "                                 value = 12),\\\n",
    "    timerange = widgets.IntRangeSlider(value = [1,3], min = 1, max = 1500,step = 1),\\\n",
    "    bins = widgets.IntSlider(min=1,max=300,value=100),\\\n",
    "    __manual = True)\n",
    "\n",
    "#display(pdf_average )\n",
    "# for i,item in enumerate(pdf_average.children):\n",
    "#     print i, item.description \n",
    "display(vaf_average)\n",
    "display(f)\n",
    "display(L)\n",
    "\n"
   ]
  },
  {
   "cell_type": "markdown",
   "metadata": {
    "collapsed": false
   },
   "source": [
    "# Susi cluster analysis"
   ]
  },
  {
   "cell_type": "code",
   "execution_count": 17,
   "metadata": {
    "collapsed": false
   },
   "outputs": [],
   "source": [
    "import matplotlib.cm as cmx\n",
    "from mpl_toolkits.mplot3d import Axes3D\n",
    "\n",
    "from mpl_toolkits.mplot3d import *\n",
    "import matplotlib.pyplot as plt\n",
    "import numpy as np\n",
    "from random import random, seed\n",
    "from matplotlib import cm\n",
    "\n",
    "\n",
    "def scatter3d(fig, x,y,z,cs):\n",
    "#     cm = plt.get_cmap(colorsMap)\n",
    "#     cNorm = mpl.colors.Normalize(vmin=min(cs), vmax=max(cs))\n",
    "#     scalarMap = cmx.ScalarMappable(norm=cNorm, cmap=cm)\n",
    "#     fig = plt.figure()\n",
    "#     ax = Axes3D(fig)\n",
    "#     ax.scatter(x, y, z, color = cs)\n",
    "#     scalarMap.set_array(cs)\n",
    "#     fig.colorbar(scalarMap)\n",
    "#     plt.show()\n",
    "    ax = fig.gca(projection='3d')               # to work in 3d\n",
    "    plt.hold(True)\n",
    "    ax.scatter( x,y,z,color = cs)\n",
    "\n",
    "f = widgets.FloatProgress(min=0,max=100)\n",
    "progress_stat = widgets.Label(value = \"\")\n",
    "\n",
    "\n",
    "def susi_cluster_analysis(phi,shearrate,gap):\n",
    "    #cachefilename = \"./cache/\" + \"phi_\"+str(phi)+\"_shearrate_\"+str(float(shearrate)).replace(\".\",\"_\")+\".h5\"\n",
    "    #pdfcache = cache(cachefile=cachefilename)\n",
    "    path = \"rhor1_phi\"+str(phi)+\"_yd\"+str(float(shearrate))\n",
    "    cachefilename = \"./cache/\" + \"phi_\"+str(phi)+\"_shearrate_\"+str(float(shearrate)).replace(\".\",\"_\")+\".h5\"\n",
    "    clustercache = cache(cachefile=cachefilename)\n",
    "    dataset = sp.reader.DataSet(path,particles=True, fluid=True,cachefile=cachefilename)\n",
    "#     timerange[1] = min(len(dataset.tlist)-2, timerange[1])\n",
    "    viscosity_file = pd.read_csv(path+\"/result/nu_t.dat\")\n",
    "    strain = np.asarray(viscosity_file[viscosity_file.columns[1]][1:])*shearrate\n",
    "    viscosity = np.asarray(viscosity_file[viscosity_file.columns[4]][1:])\n",
    "    single_particle_percent = []\n",
    "    print \"max timestep =\", len(dataset.tlist)-2\n",
    "    for i,time_idx in enumerate(range(1, len(dataset.tlist))):\n",
    "        f.value = float(i)/len((range(1, len(dataset.tlist))))*100\n",
    "        progress_stat.value = str(float(i)/len((range(1, len(dataset.tlist))))*100)\n",
    "        try:\n",
    "            if not clustercache.has_data(dataset.tlist[time_idx],\"single_particle_percent_gap_\"+str(gap)):\n",
    "                dataset.load_state(dataset.tlist[time_idx])\n",
    "#                 sim_chars = sp.susi.extract_sim_characteristics(dataset)\n",
    "#                 sim_chars = sp.susi.extract_sim_characteristics(dataset, **sim_chars)\n",
    "#                 positions = dataset.particles.r\n",
    "#                 clusters = sp.spatial.create_cluster(positions, **sim_chars)\n",
    "#                 sim_chars[\"gap\"] = gap\n",
    "#                 clusters = sp.spatial.create_cluster(positions, **sim_chars)\n",
    "#                 cluster_d = sp.spatial.cluster_size_distribution(positions,**sim_chars)\n",
    "#                 particle_cluster_ids = sp.spatial.particleId_to_clusterId(positions, clusters=clusters)\n",
    "            #     print clusters\n",
    "        #         print map(len,clusters)\n",
    "#                 spp = sp.spatial.single_particle_percentage(positions, cluster_distribution=cluster_d)\n",
    "                spp = dataset.get_quantity(\"single_particle_percentage\",update=True, gap=gap)\n",
    "                single_particle_percent.append(spp)\n",
    "                clustercache.save_data(dataset.tlist[time_idx],{\"single_particle_percent_gap_\"+str(gap):spp})\n",
    "            else:\n",
    "                single_particle_percent.append(clustercache.load_data(dataset.tlist[time_idx],\"single_particle_percent_gap_\"+str(gap)))\n",
    "        except:\n",
    "            continue\n",
    "    min_size = min(len(viscosity),len(single_particle_percent))\n",
    "    print \"correlation between viscosity and percent single particles: \", np.corrcoef(single_particle_percent[:min_size], viscosity[:min_size])[0, 1]\n",
    "    plt.figure()\n",
    "    plt.plot(strain[:min_size],single_particle_percent[:min_size],label = \"single particle percent\")\n",
    "    plt.plot(strain[:min_size],viscosity[:min_size], label = \"viscosity\")\n",
    "    plt.legend()\n",
    "    plt.yscale(\"log\")\n",
    "    plt.xlabel(\"strain\")\n",
    "    plt.ylabel(\"viscosity Pa.s / Percent single particles\")\n",
    "    plt.title(\"Viscosity & single particle percent for min_gap = \" + str(gap*1e6) + \"$\\mu$m\" )\n",
    "#         cluster_size_distribution = sp.spatial.cluster_size_distribution( positions,clusters=clusters, **sim_chars)\n",
    "#     fig = plt.figure()\n",
    "#     plt.hold(True)\n",
    "#     for i in range(len(clusters)):\n",
    "# #         print i\n",
    "#         x = positions[list(clusters[i])].T[0]\n",
    "#         y = positions[list(clusters[i])].T[1]\n",
    "#         z = positions[list(clusters[i])].T[2]\n",
    "# #         print x,y,z\n",
    "#         if len(clusters[i]) == 1:\n",
    "#             scatter3d(fig,[x],[y],[z], 'g')\n",
    "#         else:\n",
    "#             scatter3d(fig,x,y,z,'r')\n",
    "\n",
    "    \n",
    "    \n",
    "    #positions[list(clusters[-1])].T[0]\n",
    "    #plt.plot(positions[list(clusters[-1])].T[0], positions[list(clusters[-1])].T[2],'r.')\n",
    "    #print cluster_size_distribution\n",
    "    \n",
    "    \n",
    "susi_cluster_analysis_widget = interactive(susi_cluster_analysis, \\\n",
    "    phi = widgets.ToggleButtons(options=[40,45,50,54,55,56,58],value=56,disabled=False), \\\n",
    "    shearrate= widgets.ToggleButtons(options=[1,10,11,11.5,12,12.5,13,14,15,16,18,20,30,50,70,100,200,300,1000],\\\n",
    "                                 value = 12),\\\n",
    "    timerange = widgets.IntRangeSlider(value = [100,800],min = 1, max =1000 ),\\\n",
    "    gap = widgets.FloatText(value=9e-8),\\\n",
    "    __manual = True)\n",
    "\n",
    "#display(pdf_average )\n",
    "# for i,item in enumerate(pdf_average.children):\n",
    "#     print i, item.description \n",
    "# display(susi_cluster_analysis_widget)\n",
    "# display(f)\n",
    "# display(progress_stat)"
   ]
  },
  {
   "cell_type": "code",
   "execution_count": 18,
   "metadata": {
    "collapsed": false
   },
   "outputs": [],
   "source": [
    "\n",
    "# dataset = reader.DataSet(\"rhor1_phi56_yd12.0/\", particles=True, fluid=True)\n",
    "# dataset.load_state(dataset.tlist[500])\n",
    "\n",
    "# cluster_size_distribution = dataset.get_quantity(\"cluster_size_distribution\",update=True, gap=2.5e-8)\n",
    "# particle_cluster_ids = dataset.get_quantity(\"particle_cluster_ids\",gap= 2e-8)\n",
    "# clusters = dataset.get_quantity(\"clusters\",gap= 2e-8)\n",
    "\n",
    "# print \"clusters\\n\" ,clusters\n",
    "# print \"cluster_size_distribution\\n\", cluster_size_distribution\n",
    "# print \"particle_cluster_ids\\n\",particle_cluster_ids, len(particle_cluster_ids)\n",
    "\n",
    "# fig = plt.figure()\n",
    "# ax = fig.add_subplot(111, projection='3d')\n",
    "# clrs = np.random.random((len(exp['clusters']), 3))\n",
    "# c = clrs[exp['particle_cluster_ids'], :]\n",
    "# pos = exp['positions'] * 1e6\n",
    "# x, y, z = pos[:, 0], pos[:, 1], pos[:, 2]\n",
    "# ax.scatter(x, y, z, c=c)\n",
    "\n",
    "# plt.title (\"Particles colored by cluster\",fontsize=20);\n",
    "# ax.set_xlabel('X ($\\mu m$)',fontsize=15);\n",
    "# ax.set_ylabel('Y ($\\mu m$)',fontsize=15);\n",
    "# ax.set_zlabel('Z ($\\mu m$)',fontsize=15);\n",
    "\n",
    "# ax.set_xlim(-(((exp.L[2]*1000000)/2)-((exp.L[0]*1000000)/2)),(((exp.L[2]*1000000)/2)+((exp.L[0]*1000000)/2)));\n",
    "# ax.set_ylim(-(((exp.L[2]*1000000)/2)-((exp.L[1]*1000000)/2)),(((exp.L[2]*1000000)/2)+((exp.L[1]*1000000)/2)));\n",
    "# ax.set_zlim(0, exp.L[2]*1000000);\n",
    "\n",
    "# print ('Cluster Analysis Gap: ', exp['gap'])\n",
    "# print ('Cluster Size Distribution: ', exp['cluster_size_distribution'])\n",
    "# print ('Mean Cluster Size: ', exp['mean_cluster_size'])\n",
    "# import plotly.plotly"
   ]
  },
  {
   "cell_type": "code",
   "execution_count": 19,
   "metadata": {
    "collapsed": false,
    "scrolled": false
   },
   "outputs": [
    {
     "data": {
      "text/html": [
       "<script>requirejs.config({paths: { 'plotly': ['https://cdn.plot.ly/plotly-latest.min']},});if(!window.Plotly) {{require(['plotly'],function(plotly) {window.Plotly=plotly;});}}</script>"
      ],
      "text/plain": [
       "<IPython.core.display.HTML object>"
      ]
     },
     "metadata": {},
     "output_type": "display_data"
    }
   ],
   "source": [
    "from plotly.offline import download_plotlyjs, init_notebook_mode, iplot\n",
    "from plotly.graph_objs import *\n",
    "import warnings\n",
    "init_notebook_mode(connected=True)\n",
    "\n",
    "# import plotly.plotly as py\n",
    "# import plotly.graph_objs as go\n",
    "\n",
    "def cluster_size_distribution_plotly(phi,shearrate,time,min_viscosity_state,max_viscosity_state, gap,minsize):\n",
    "    path = \"rhor1_phi\"+str(phi)+\"_yd\"+str(float(shearrate))\n",
    "    dataset = sp.reader.DataSet(path,particles=True, fluid=True)\n",
    "    viscosity_file = pd.read_csv(path+\"/result/nu_t.dat\")\n",
    "    viscosity = np.asarray(viscosity_file[viscosity_file.columns[4]][1:])\n",
    "    min_visc_time= np.where(viscosity == min(viscosity[50:]))[0][0] \n",
    "    max_visc_time = np.where(viscosity == max(viscosity[50:]))[0][0] \n",
    "    if min_viscosity_state: \n",
    "        time = min_visc_time\n",
    "    if max_viscosity_state:\n",
    "        time = max_visc_time\n",
    "    print \"time =\",time\n",
    "    dataset.load_state(dataset.tlist[time])\n",
    "#     gap = 4e-8\n",
    "    clusters = dataset.get_quantity(\"clusters\", gap = gap)\n",
    "    s,ns = dataset.get_quantity(\"cluster_size_distribution\",update=True, gap=gap)\n",
    "    pos = dataset['positions'] * 1e6\n",
    "    print len(dataset.tlist), \"steps available\"\n",
    "    data = []\n",
    "    for i in range(len(s)):\n",
    "        if ns[i] != 0:\n",
    "            print \"size=\",s[i],  \"clusters=\",ns[i]\n",
    "    if ns[-1] == dataset.npart: \n",
    "        print \"all individual particles\"\n",
    "    else:\n",
    "        import random\n",
    "        r = lambda: str(random.randint(0,255))\n",
    "    #     plt.figure()\n",
    "        col = []\n",
    "        for i in range(dataset.npart):\n",
    "            col.append(\"rgb(\" + r()+\",\"+r()+\",\"+r()+\")\")\n",
    "\n",
    "        for cluster in clusters:\n",
    "            if len(cluster) >= minsize:\n",
    "                x, y, z = pos[cluster, 0], pos[cluster, 1], pos[cluster, 2]\n",
    "                trace = Scatter3d(\n",
    "                    x=x, y=y, z=z,\n",
    "                    marker=dict(\n",
    "                        size=10,\n",
    "                        color=col[len(cluster)],\n",
    "                        colorscale='Viridis',\n",
    "                    ),\n",
    "                    line=dict(\n",
    "                        color=col[len(cluster)],\n",
    "                        width=0\n",
    "                    ),\n",
    "                    name = \"cluster size = \"+str(len(cluster))\n",
    "                )\n",
    "                data.append(trace)\n",
    "        # data = [trace]\n",
    "        try:\n",
    "            layout = dict(\n",
    "                width=800,\n",
    "                height=700,\n",
    "                autosize=True,\n",
    "            #     title='Iris dataset',\n",
    "                scene=dict(\n",
    "                    xaxis=dict(\n",
    "                        gridcolor='rgb(255, 255, 255)',\n",
    "                        zerolinecolor='rgb(255, 255, 255)',\n",
    "                        showbackground=True,\n",
    "                        backgroundcolor='rgb(230, 230,230)'\n",
    "                    ),\n",
    "                    yaxis=dict(\n",
    "                        gridcolor='rgb(255, 255, 255)',\n",
    "                        zerolinecolor='rgb(255, 255, 255)',\n",
    "                        showbackground=True,\n",
    "                        backgroundcolor='rgb(230, 230,230)'\n",
    "                    ),\n",
    "                    zaxis=dict(\n",
    "                        gridcolor='rgb(255, 255, 255)',\n",
    "                        zerolinecolor='rgb(255, 255, 255)',\n",
    "                        showbackground=True,\n",
    "                        backgroundcolor='rgb(230, 230,230)'\n",
    "                    ),\n",
    "                    camera=dict(\n",
    "                        up=dict(\n",
    "                            x=0,\n",
    "                            y=0,\n",
    "                            z=1\n",
    "                        ),\n",
    "                        eye=dict(\n",
    "                            x=-1.7428,\n",
    "                            y=1.0707,\n",
    "                            z=0.7100,\n",
    "                        )\n",
    "                    ),\n",
    "        #             aspectratio = dict( x=1, y=1, z=0.7 ),\n",
    "                    aspectmode = 'manual'\n",
    "                ),\n",
    "            )\n",
    "\n",
    "            fig = dict(data=data)\n",
    "\n",
    "            iplot(fig)\n",
    "        except Exception as e:\n",
    "            \n",
    "            print e\n",
    "\n",
    "widget_cluster_size_distribution_plotly = interactive(cluster_size_distribution_plotly, \\\n",
    "    phi = widgets.ToggleButtons(options=[40,45,50,54,55,56,58],value=56,disabled=False), \\\n",
    "    shearrate= widgets.ToggleButtons(options=[1,10,11,11.5,12,12.5,13,14,15,16,18,20,30,50,70,100,200,300,1000],\\\n",
    "                                 value = 12),\\\n",
    "    time = widgets.IntText(value = 100 ,min = 1, max =1000 ),\\\n",
    "    gap = widgets.FloatText(value=9e-8),\\\n",
    "    minsize = widgets.IntText(value = 3),\\\n",
    "    max_viscosity_state = widgets.ToggleButton(value= False),\\\n",
    "    min_viscosity_state = widgets.ToggleButton(value= False),\\\n",
    "    __manual = True)\n",
    "\n",
    "#display(pdf_average )\n",
    "# for i,item in enumerate(pdf_average.children):\n",
    "#     print i, item.description \n",
    "# display(widget_cluster_size_distribution_plotly)\n",
    "# display(widgets.HBox(cluster_size_distribution.children[4:]))"
   ]
  },
  {
   "cell_type": "code",
   "execution_count": 20,
   "metadata": {
    "collapsed": false
   },
   "outputs": [
    {
     "name": "stdout",
     "output_type": "stream",
     "text": [
      "1.12.9\n"
     ]
    }
   ],
   "source": [
    "# import plotly\n",
    "# import plotly.plotly as py\n",
    "# import plotly.graph_objs as go\n",
    "# plotly.tools.set_credentials_file(username='vishnusivadasan7', api_key='ZLBPHF6HXSroNtji8tec')\n",
    "# py.iplot([Scatter(x=[1,2,3], y=[5,8,9])])\n",
    "\n",
    "from plotly import __version__\n",
    "from plotly.offline import download_plotlyjs, init_notebook_mode, plot, iplot\n",
    "from plotly.graph_objs import Scatter, Figure, Layout\n",
    "\n",
    "from plotly.graph_objs import *\n",
    "import pandas as pd\n",
    "\n",
    "print plotly.__version__"
   ]
  },
  {
   "cell_type": "code",
   "execution_count": 21,
   "metadata": {
    "collapsed": false,
    "scrolled": false
   },
   "outputs": [],
   "source": [
    "def cluster_size_distribution_matplotlib(phi,shearrate,time,min_viscosity_state,max_viscosity_state, gap,minsize, connect):\n",
    "    path = \"rhor1_phi\"+str(phi)+\"_yd\"+str(float(shearrate))\n",
    "    dataset = sp.reader.DataSet(path,particles=True, fluid=True)\n",
    "    print len(dataset.tlist), \"steps available\"\n",
    "    viscosity_file = pd.read_csv(path+\"/result/nu_t.dat\")\n",
    "    viscosity = np.asarray(viscosity_file[viscosity_file.columns[4]][1:])\n",
    "    min_visc_time= np.where(viscosity == min(viscosity[50:]))[0][0] \n",
    "    max_visc_time = np.where(viscosity == max(viscosity[50:]))[0][0] \n",
    "    if min_viscosity_state: \n",
    "        time = min_visc_time\n",
    "        print \"viscosity = \",viscosity[min_visc_time]\n",
    "    if max_viscosity_state:\n",
    "        time = max_visc_time\n",
    "        print \"viscosity = \", viscosity[max_visc_time]\n",
    "    print \"time =\",time\n",
    "    print dataset.npart, \"particles used\"\n",
    "    dataset.load_state(dataset.tlist[time])\n",
    "#     gap = 4e-8\n",
    "    clusters = dataset.get_quantity(\"clusters\", gap = gap)\n",
    "    s,ns = dataset.get_quantity(\"cluster_size_distribution\",update=True, gap=gap)\n",
    "    pos = dataset['positions'] * 1e6\n",
    "    data = []\n",
    "    \n",
    "    for i in range(len(s)):\n",
    "        if ns[i] != 0:\n",
    "            print \"size=\",s[i],  \"clusters=\",ns[i]\n",
    "    print (1-ns[0]/float(dataset.npart))*100, \"% particles in cluster\"\n",
    "    if ns[-1] == dataset.npart: \n",
    "        print \"all individual particles\"\n",
    "    else:\n",
    "        fig = plt.figure(figsize=[10,10])\n",
    "        ax = fig.add_subplot(111, projection='3d')\n",
    "        import random\n",
    "        import matplotlib.cm as cm\n",
    "#          r = lambda: random.randint(0,255)\n",
    "    #     plt.figure()\n",
    "#         col = []\n",
    "#         for i in range(dataset.npart*2):\n",
    "#         color = cm.rainbow(np.linspace(0, 1, dataset.npart))\n",
    "        color = [np.random.rand(1,3) for i in range(dataset.npart)]\n",
    "#         color = random.shuffle(color)\n",
    "        for cluster in clusters:\n",
    "            if len(cluster) >= minsize:\n",
    "                x, y, z = pos[cluster, 0], pos[cluster, 1], pos[cluster, 2]\n",
    "                col = color[len(cluster)][0]\n",
    "                print col\n",
    "                ax.scatter(x, y, z, s = 400, c=col,depthshade=True)\n",
    "#                 ax.scatter(x, y, z, s = 400, c=[str(len(cluster)) for i in  x] ,depthshade=True)\n",
    "                if connect: ax.plot3D(x, y, z)\n",
    "                plt.xlabel('x axis $\\mu m $')\n",
    "                plt.ylabel('y axis $\\mu m $')\n",
    "                ax.set_zlabel('z axis $\\mu m $')\n",
    "                ax.view_init(azim=-90, elev=0)\n",
    "widget_cluster_size_distribution_matplotlib = interactive(cluster_size_distribution_matplotlib, \\\n",
    "    phi = widgets.ToggleButtons(options=[40,45,50,54,55,56,58],value=56,disabled=False), \\\n",
    "    shearrate= widgets.ToggleButtons(options=[1,10,11,11.5,12,12.5,13,14,15,16,18,20,30,50,70,100,200,300,1000],\\\n",
    "                                 value = 12),\\\n",
    "    time = widgets.IntText(value = 100 ,min = 1, max =1000 ),\\\n",
    "    gap = widgets.FloatText(value=9e-8),\\\n",
    "    minsize = widgets.IntText(value = 3),\\\n",
    "    max_viscosity_state = widgets.ToggleButton(value= False),\\\n",
    "    min_viscosity_state = widgets.ToggleButton(value= False),\\\n",
    "    connect = widgets.Checkbox(value= False, description = \"connect points?\"),\\\n",
    "    __manual = True)\n",
    "\n",
    "#display(pdf_average )\n",
    "# for i,item in enumerate(pdf_average.children):\n",
    "#     print i, item.description \n",
    "# display(widget_cluster_size_distribution_matplotlib)\n",
    "# display(widgets.HBox(cluster_size_distribution.children[4:]))"
   ]
  },
  {
   "cell_type": "code",
   "execution_count": 22,
   "metadata": {
    "collapsed": false,
    "scrolled": false
   },
   "outputs": [],
   "source": [
    "\n",
    "# def cluster_size_distribution(phi,shearrate,time, gap, single_particles_visibility, clusters_visibility):\n",
    "#     #cachefilename = \"./cache/\" + \"phi_\"+str(phi)+\"_shearrate_\"+str(float(shearrate)).replace(\".\",\"_\")+\".h5\"\n",
    "#     #pdfcache = cache(cachefile=cachefilename)\n",
    "#     path = \"rhor1_phi\"+str(phi)+\"_yd\"+str(float(shearrate))\n",
    "#     dataset = sp.reader.DataSet(path,particles=True, fluid=True)\n",
    "# #     timerange[1] = min(len(dataset.tlist)-2, timerange[1])\n",
    "#     dataset.load_state(dataset.tlist[time])\n",
    "#     s,ns = dataset.get_quantity(\"cluster_size_distribution\",update=True, gap=gap)\n",
    "# #     plt.subplot(122)\n",
    "\n",
    "#     fig = plt.figure(figsize=[12,6])\n",
    "#     ax = fig.add_subplot(121, projection='3d')\n",
    "#     clusters = dataset.get_quantity(\"clusters\",gap= gap)\n",
    "#     cluster_ids = dataset.get_quantity(\"particle_cluster_ids\",gap= gap)\n",
    "#     cluster_dbn = dataset.get_quantity(\"cluster_size_distribution\",update=False, gap=gap)\n",
    "#     clusters_meansize = dataset.get_quantity(\"mean_cluster_size\",update=True, gap=gap)\n",
    "    \n",
    "#     clrs = np.random.random((len(clusters), 3))\n",
    "#     c = clrs[cluster_ids, :]\n",
    "#     pos = dataset['positions'] * 1e6\n",
    "#     for cluster in clusters:\n",
    "#         if len(cluster) > 1 and clusters_visibility:\n",
    "#             x, y, z = pos[cluster, 0], pos[cluster, 1], pos[cluster, 2]\n",
    "#             col =np.random.random((1, 3))\n",
    "#             ax.scatter(x, y, z, c=col,depthshade=True)\n",
    "#             ax.plot3D(x, y, z)\n",
    "#         elif len(cluster) == 1 and single_particles_visibility:\n",
    "#             x, y, z = pos[cluster, 0], pos[cluster, 1], pos[cluster, 2]\n",
    "#             ax.scatter(x, y, z, c='k',depthshade=True)\n",
    "# #             ax.plot(x,y,z, '-b')\n",
    "#         else:\n",
    "#             continue\n",
    "# #     ax.plot(x, y, z)\n",
    "    \n",
    "#     plt.title (\"Particles colored by cluster\",fontsize=20);\n",
    "#     ax.set_xlabel('X ($\\mu m$)',fontsize=15);\n",
    "#     ax.set_ylabel('Y ($\\mu m$)',fontsize=15);\n",
    "#     ax.set_zlabel('Z ($\\mu m$)',fontsize=15);\n",
    "\n",
    "#     ax.set_xlim(-(((exp.L[2]*1000000)/2)-((exp.L[0]*1000000)/2)),(((exp.L[2]*1000000)/2)+((exp.L[0]*1000000)/2)));\n",
    "#     ax.set_ylim(-(((exp.L[2]*1000000)/2)-((exp.L[1]*1000000)/2)),(((exp.L[2]*1000000)/2)+((exp.L[1]*1000000)/2)));\n",
    "#     ax.set_zlim(0, exp.L[2]*1000000);\n",
    "    \n",
    "#     for i in range(len(s)):\n",
    "#         if ns[i] != 0:\n",
    "#             print \"size=\",s[i],  \"clusters=\",ns[i]\n",
    "#     print ('Cluster Analysis Gap: ', exp['gap'])\n",
    "# #     print ('Cluster Size Distribution: ', cluster_dbn)\n",
    "#     print ('Mean Cluster Size: ', clusters_meansize)\n",
    "    \n",
    "# #     plt.figure()\n",
    "#     ax = fig.add_subplot(122)\n",
    "#     plt.plot(s, ns, 'o-');\n",
    "#     plt.xlabel('size $s$ of cluster', fontsize=15);\n",
    "#     plt.ylabel('Frequency $n(s)$', fontsize=15);\n",
    "#     plt.title('Cluster size distribution', fontsize=15);\n",
    "\n",
    "    \n",
    "# cluster_size_distribution_widget = interactive(cluster_size_distribution, \\\n",
    "#     phi = widgets.ToggleButtons(options=[40,45,50,54,55,56,58],value=56,disabled=False), \\\n",
    "#     shearrate= widgets.ToggleButtons(options=[1,10,11,11.5,12,12.5,13,14,15,16,18,20,30,50,70,100,200,300,1000],\\\n",
    "#                                  value = 12),\\\n",
    "#     time = widgets.IntText(value = 100 ,min = 1, max =1000 ),\\\n",
    "#     gap = widgets.FloatText(value=6.8e-8),\\\n",
    "#     single_particles_visibility = widgets.ToggleButton(value= True),\\\n",
    "#     clusters_visibility = widgets.ToggleButton(value=True),\\\n",
    "#     __manual = True)\n",
    "\n",
    "# #display(pdf_average )\n",
    "# # for i,item in enumerate(pdf_average.children):\n",
    "# #     print i, item.description \n",
    "# map(display, cluster_size_distribution_widget.children[:4])\n",
    "# display(widgets.HBox(cluster_size_distribution_widget.children[4:]))"
   ]
  },
  {
   "cell_type": "code",
   "execution_count": 23,
   "metadata": {
    "collapsed": false,
    "scrolled": false
   },
   "outputs": [],
   "source": [
    "def cluster_size_distribution_pathinput_matplotlib(path,time,min_viscosity_state,max_viscosity_state, gap,minsize, connect,show_viscosity_timeseries):\n",
    "    path = path\n",
    "    dataset = sp.reader.DataSet(path,particles=True, fluid=True)\n",
    "    print len(dataset.tlist), \"steps available\"\n",
    "    print dataset.npart, \"particles used\"\n",
    "    viscosity_file = pd.read_csv(path+\"/result/nu_t.dat\")\n",
    "    viscosity = np.asarray(viscosity_file[viscosity_file.columns[4]][1:])\n",
    "    min_visc_time= np.where(viscosity == min(viscosity[50:]))[0][0] \n",
    "    max_visc_time = np.where(viscosity == max(viscosity[50:]))[0][0] \n",
    "    if min_viscosity_state: \n",
    "        time = min_visc_time\n",
    "        print \"viscosity = \",viscosity[min_visc_time]\n",
    "    if max_viscosity_state:\n",
    "        time = max_visc_time\n",
    "        print \"viscosity = \", viscosity[max_visc_time]\n",
    "    print \"time =\",time\n",
    "    dataset.load_state(dataset.tlist[time])\n",
    "#     gap = 4e-8\n",
    "    clusters = dataset.get_quantity(\"clusters\", gap = gap)\n",
    "    s,ns = dataset.get_quantity(\"cluster_size_distribution\",update=True, gap=gap)\n",
    "    pos = dataset['positions'] * 1e6\n",
    "    data = []\n",
    "    \n",
    "    for i in range(len(s)):\n",
    "        if ns[i] != 0:\n",
    "            print \"size=\",s[i],  \"clusters=\",ns[i]\n",
    "    print (1-ns[0]/float(dataset.npart))*100, \"% particles in cluster\"\n",
    "    if show_viscosity_timeseries:\n",
    "        plt.figure(figsize=[10,5])\n",
    "        plt.plot(viscosity)\n",
    "        plt.plot(time,viscosity[time],'ro')\n",
    "    if ns[-1] == dataset.npart: \n",
    "        print \"all individual particles\"\n",
    "    else:\n",
    "        fig = plt.figure(figsize=[10,10])\n",
    "        ax = fig.add_subplot(111, projection='3d')\n",
    "        import random\n",
    "        import matplotlib.cm as cm\n",
    "#         r = lambda: random.randint(0,255)\n",
    "    #     plt.figure()\n",
    "#         col = []\n",
    "#         for i in range(dataset.npart*2):\n",
    "#         color = cm.rainbow(np.linspace(0, 1, dataset.npart))\n",
    "        color = [np.random.rand(1,3) for i in range(dataset.npart)]\n",
    "#         color = random.shuffle(color)\n",
    "        for cluster in clusters:\n",
    "            if len(cluster) >= minsize:\n",
    "                x, y, z = pos[cluster, 0], pos[cluster, 1], pos[cluster, 2]\n",
    "                col = color[len(cluster)][0]\n",
    "#                 print col\n",
    "                ax.scatter(x, y, z, s = 400, c=col,depthshade=True)\n",
    "#                 ax.scatter(x, y, z, s = 400, c=[str(len(cluster)) for i in  x] ,depthshade=True)\n",
    "                if connect: ax.plot3D(x, y, z)\n",
    "                plt.xlabel('x axis $\\mu m $')\n",
    "                plt.ylabel('y axis $\\mu m $')\n",
    "                ax.set_zlabel('z axis $\\mu m $')\n",
    "                ax.view_init(azim=-90, elev=0)\n",
    "widget_cluster_size_distribution_pathinput_matplotlib = interactive(cluster_size_distribution_pathinput_matplotlib, \\\n",
    "    path = widgets.Text(value=\"larger_system_size/rhor1_phi56_yd12.0\"),\\\n",
    "    time = widgets.IntText(value = 100 ,min = 1, max =1000 ),\\\n",
    "    gap = widgets.FloatText(value=9e-8),\\\n",
    "    minsize = widgets.IntText(value = 3),\\\n",
    "    max_viscosity_state = widgets.ToggleButton(value= False),\\\n",
    "    min_viscosity_state = widgets.ToggleButton(value= False),\\\n",
    "    connect = widgets.Checkbox(value= False, description = \"connect points?\"),\\\n",
    "    show_viscosity_timeseries = widgets.Checkbox(value= True, description = \"show viscosity timeseries?\"),\\\n",
    "    __manual = True)\n",
    "\n",
    "#display(pdf_average )\n",
    "# for i,item in enumerate(pdf_average.children):\n",
    "#     print i, item.description \n",
    "# display(widget_cluster_size_distribution_pathinput_matplotlib)\n",
    "# display(widgets.HBox(cluster_size_distribution.children[4:]))"
   ]
  },
  {
   "cell_type": "code",
   "execution_count": 24,
   "metadata": {
    "collapsed": false
   },
   "outputs": [],
   "source": [
    "Tabs = widgets.Tab()\n",
    "container_list = []\n",
    "tab_items_input = [\n",
    "                  [susi_cluster_analysis_widget,\"single particle percent and viscosity vs time \"], \n",
    "                  [widget_cluster_size_distribution_plotly,\"custers at a timestep using plotly\"],\n",
    "                  [widget_cluster_size_distribution_matplotlib,\"custers at a timestep using matplotlib\"],\n",
    "                  [widget_cluster_size_distribution_pathinput_matplotlib,\"manual path input for custers at a timestep using matplotlib\" ]\n",
    "                    ]\n",
    "tab_items =  [i[0] for i in tab_items_input]\n",
    "tab_name  =  [i[1] for i in tab_items_input]\n",
    "for i, item in enumerate(tab_items_input): \n",
    "    container_list.append(widgets.Box())\n",
    "    container_list[i].children = item[0].children\n",
    "Tabs.children = tab_items\n",
    "for i,name in enumerate(tab_name):\n",
    "    Tabs.set_title(i,name)\n",
    "        \n",
    "display(Tabs)\n",
    "display(f)\n",
    "display(progress_stat)"
   ]
  },
  {
   "cell_type": "markdown",
   "metadata": {},
   "source": [
    "# Min Gap Calculations"
   ]
  },
  {
   "cell_type": "code",
   "execution_count": 25,
   "metadata": {
    "collapsed": false
   },
   "outputs": [
    {
     "name": "stdout",
     "output_type": "stream",
     "text": [
      "2.00000049022e-10 9.56267456267e-08\n"
     ]
    }
   ],
   "source": [
    "\n",
    "def f(gap):\n",
    "    gap = gap/1e-6\n",
    "    dmax = 1e-7\n",
    "    c0 = 1e-4\n",
    "    dm = 1e-15\n",
    "    dx = 1e-6\n",
    "    dt = 1.6633e-7\n",
    "    drep = dmax/dx\n",
    "    crep = c0/dm*dt**2/drep**2\n",
    "    force_lu =  crep/drep**2*(gap-drep)**2/gap\n",
    "    force = force_lu*dm*dx/dt**2\n",
    "    return force\n",
    "for x in np.linspace(1e-7,9e-8,1000000):\n",
    "    if f(x) > 2e-10:\n",
    "        print f(x), x\n",
    "        break"
   ]
  },
  {
   "cell_type": "markdown",
   "metadata": {
    "collapsed": false,
    "scrolled": false
   },
   "source": [
    "dataset = reader.DataSet(\"rhor1_phi54_yd10.0/\", particles=True, fluid=True)\n",
    "gap_data_list = []\n",
    "\n",
    "prog = widgets.FloatProgress()\n",
    "display(prog)\n",
    "\n",
    "for j,t in enumerate(dataset.tlist[1:10]):\n",
    "    prog.value = float(j)/len(dataset.tlist[1:])*100\n",
    "    try:\n",
    "        dataset.load_state(t)\n",
    "        dist = dataset.get_quantity(\"particle_particle_pair_distances\",update=False)\n",
    "        i = np.where(dist[1] == min(dist[1]))[0][0]\n",
    "        #i = np.where(dist[1] < 9e-8)[0][0]\n",
    "        #print i\n",
    "        idx_r1 = dist[2][i][0]\n",
    "        idx_r2 = dist[2][i][1]\n",
    "        r1 = dataset.particles.radius[idx_r1]\n",
    "        r2 = dataset.particles.radius[idx_r2]\n",
    "        rij = dist[1][i]\n",
    "        mingap = rij - r1 -r2\n",
    "        force_fric_1 = np.linalg.norm(dataset.particles.force_fric[idx_r1])\n",
    "        force_fric_2 = np.linalg.norm(dataset.particles.force_fric[idx_r2])\n",
    "        shear_fric_1 = np.linalg.norm(dataset.particles.sshear_fric[idx_r1])\n",
    "        shear_fric_2 = np.linalg.norm(dataset.particles.sshear_fric[idx_r2])\n",
    "        loc_part1 = dataset.particles.r[idx_r1]\n",
    "        loc_part2 = dataset.particles.r[idx_r2]\n",
    "        print j,t,idx_r1,idx_r2,loc_part1, loc_part2, mingap, force_fric_1, force_fric_2,shear_fric_1, shear_fric_2\n",
    "                \n",
    "        gap_data_list.append([loc_part1, loc_part2, mingap, force_fric_1, force_fric_2,shear_fric_1, shear_fric_2,idx_r1,idx_r2,t,j])\n",
    "    except Exception as e:\n",
    "        print e\n",
    "        continue"
   ]
  },
  {
   "cell_type": "markdown",
   "metadata": {},
   "source": [
    "dataset = reader.DataSet(\"rhor1_phi54_yd10.0/\", particles=True, fluid=True)\n",
    "dataset.load_state(dataset.tlist[-1])\n",
    "dataset[\"clusters\"]"
   ]
  },
  {
   "cell_type": "markdown",
   "metadata": {
    "collapsed": false,
    "scrolled": false
   },
   "source": [
    "gap_data_list_ = []\n",
    "len(gap_data_list_)\n",
    "for i in gap_data_list:\n",
    "    if sum(i[3:6]) == 0 :  \n",
    "        if i[2] < 9e-8:\n",
    "            gap_data_list_.append(i)\n",
    "\n",
    "plt.figure()\n",
    "x = range(len(gap_data_list_))\n",
    "t = [i[10] for i in gap_data_list_]\n",
    "timestep = [i[9] for i in gap_data_list_]\n",
    "x1 = [i[0][0] for i in gap_data_list_]\n",
    "x2 = [i[1][0] for i in gap_data_list_]\n",
    "z1 = [i[0][2] for i in gap_data_list_]\n",
    "z2 = [i[1][2] for i in gap_data_list_]\n",
    "B1 = [i[7] for i in gap_data_list_]\n",
    "B2 = [i[8] for i in gap_data_list_]\n",
    "print len(B1)\n",
    "print np.unique([B1])\n",
    "print np.unique([B2])\n",
    "cs1 = plt.scatter(x1,z1, c=B1,cmap=cm.jet,vmin=0.,vmax=dataset.npart)\n",
    "cs2 = plt.scatter(x2,z2, c=B2,cmap=cm.jet,vmin=0.,vmax=2.)\n",
    "plt.colorbar(cs1)\n",
    "plt.ylabel(\"z coord\")\n",
    "plt.ylim([0,6e-5])\n",
    "plt.xlim([0,10e-5])\n",
    "plt.ticklabel_format(style='sci', axis='y', scilimits=(0,0))\n",
    "plt.ticklabel_format(style='sci', axis='x', scilimits=(0,0))\n",
    "plt.xlabel(\"cases without friction with gap < 9e-8\")\n",
    "plt.xlabel(\"x coord\")\n",
    "plt.xlabel(\"timestep\")\n",
    "plt.show()"
   ]
  },
  {
   "cell_type": "code",
   "execution_count": null,
   "metadata": {
    "collapsed": false
   },
   "outputs": [],
   "source": []
  },
  {
   "cell_type": "markdown",
   "metadata": {},
   "source": [
    "Plotting the force vs friction using a manually created function,"
   ]
  },
  {
   "cell_type": "markdown",
   "metadata": {
    "collapsed": false
   },
   "source": [
    "def r(ri, rj, rad1, rad2):\n",
    "    return np.linalg.norm(ri - rj) - (rad1+rad2)\n",
    "dataset = reader.DataSet(\"rhor1_phi54_yd10.0/\", particles=True, fluid=True)\n",
    "\n",
    "particle_pairs = []\n",
    "gap_data_temp = []\n",
    "\n",
    "prog = widgets.FloatProgress()\n",
    "display(prog)\n",
    "for k,t in enumerate(dataset.tlist[1:]):\n",
    "    dataset.load_state(t)\n",
    "    prog.value = float(k)/len(dataset.tlist)*100\n",
    "    for i in range(dataset.npart):\n",
    "        for j in range(dataset.npart):\n",
    "            if j > 1:\n",
    "                particle_pairs.append([i,j])\n",
    "                ri = dataset.particles.r[i]\n",
    "                rj = dataset.particles.r[j]\n",
    "                rad1 = dataset.particles.radius[i]\n",
    "                rad2 = dataset.particles.radius[j]\n",
    "                F_fric = np.linalg.norm(dataset.particles.force_fric[i])\n",
    "                Shear_fric = np.linalg.norm(dataset.particles.sshear_fric[i])\n",
    "                gap_data_temp.append([t,i,j,ri,rj,r(ri, rj, rad1, rad2),F_fric, Shear_fric])"
   ]
  },
  {
   "cell_type": "markdown",
   "metadata": {
    "collapsed": false,
    "scrolled": false
   },
   "source": [
    "gap_data_1 = np.asarray([[i[0], i[1],i[2],i[5],i[6],i[7]] for i in gap_data_temp]  )\n",
    "gap_data_2 = np.asarray([[i[3][0],i[3][1],i[3][2],i[4][0],i[4][1],i[4][2]] for i in gap_data_temp])"
   ]
  },
  {
   "cell_type": "markdown",
   "metadata": {
    "collapsed": false
   },
   "source": [
    "neg_id = np.where(gap_data_1.T[3] < 0)[0]\n",
    "large_gap_id = np.where(gap_data_1.T[3] > 9e-8)[0]\n",
    "friction_id1 = np.where(gap_data_1.T[4] !=0)[0]\n",
    "friction_id2 = np.where(gap_data_1.T[5] !=0)[0]\n",
    "del_id = np.concatenate([neg_id,large_gap_id,friction_id1,friction_id2])\n",
    "del_id = np.unique(del_id)\n",
    "gap_data_1_corr = np.delete(gap_data_1 , (del_id),axis=0)\n",
    "gap_data_2_corr = np.delete(gap_data_2 , (del_id),axis=0)"
   ]
  },
  {
   "cell_type": "markdown",
   "metadata": {
    "collapsed": false
   },
   "source": [
    "plt.figure()\n",
    "plt.plot(gap_data_1_corr[:,3],gap_data_1_corr[:,4],'k.')\n",
    "plt.axvline(9e-8,label=\"friction cutoff\")\n",
    "plt.xscale(\"log\")\n",
    "plt.legend(loc=\"best\")\n",
    "plt.xlabel(\"gap\")\n",
    "plt.ylabel(\"Force\")\n",
    "plt.suptitle(\"gap vs force in particle pairs\")"
   ]
  },
  {
   "cell_type": "markdown",
   "metadata": {
    "collapsed": true
   },
   "source": [
    "dataset = reader.DataSet(\"rhor1_phi54_yd10.0/\", particles=True, fluid=True)\n",
    "gap_data_list = []\n",
    "\n",
    "prog = widgets.FloatProgress()\n",
    "display(prog)\n",
    "\n",
    "for j,t in enumerate(dataset.tlist[1:]):\n",
    "    prog.value = float(j)/len(dataset.tlist[1:])*100\n",
    "    try:\n",
    "        dataset.load_state(t)\n",
    "        dist = dataset.get_quantity(\"particle_particle_pair_distances\",update=True)\n",
    "        i = np.where(dist[1] == min(dist[1]))[0][0]\n",
    "#         i = np.where(dist[1] < 9e-8)[0][0]\n",
    "        #print i\n",
    "        idx_r1 = dist[2][i][0]\n",
    "        idx_r2 = dist[2][i][1]\n",
    "        r1 = dataset.particles.radius[idx_r1]\n",
    "        r2 = dataset.particles.radius[idx_r2]\n",
    "        rij = dist[1][i]\n",
    "        mingap = rij - r1 -r2\n",
    "        force_fric_1 = np.linalg.norm(dataset.particles.force_fric[idx_r1])\n",
    "        force_fric_2 = np.linalg.norm(dataset.particles.force_fric[idx_r2])\n",
    "        shear_fric_1 = np.linalg.norm(dataset.particles.sshear_fric[idx_r1])\n",
    "        shear_fric_2 = np.linalg.norm(dataset.particles.sshear_fric[idx_r2])\n",
    "        loc_part1 = dataset.particles.r[idx_r1]\n",
    "        loc_part2 = dataset.particles.r[idx_r2]\n",
    "        print j,t,idx_r1,idx_r2,loc_part1, loc_part2, mingap, force_fric_1, force_fric_2,shear_fric_1, shear_fric_2\n",
    "                \n",
    "        gap_data_list.append([loc_part1, loc_part2, mingap, force_fric_1, force_fric_2,shear_fric_1, shear_fric_2,idx_r1,idx_r2,t,j])\n",
    "    except Exception as e:\n",
    "        print e\n",
    "        continue"
   ]
  },
  {
   "cell_type": "markdown",
   "metadata": {},
   "source": [
    "# Cluster size vs number of clusters plot"
   ]
  },
  {
   "cell_type": "markdown",
   "metadata": {
    "collapsed": false,
    "scrolled": false
   },
   "source": [
    "label1 = widgets.Label(\"\")\n",
    "label_cache = widgets.Label(value = \"\")\n",
    "progress1 = widgets.IntProgress(min = 0, max = 100, value = 0)\n",
    "\n",
    "def cluster_size_vs_cluster_probability_matplotlib(phi,shearrate,time,plot_for_all_data,gap,alpha,viscosity_limits):\n",
    "    path = \"rhor1_phi\"+str(phi)+\"_yd\"+str(float(shearrate))\n",
    "    dataset = sp.reader.DataSet(path,particles=True, fluid=True)\n",
    "    print len(dataset.tlist), \"steps available\"\n",
    "    s_data = np.asarray([])\n",
    "    ns_data = np.asarray([])\n",
    "    cache_file = cache(cachefile=dataset.cachefile)\n",
    "    \n",
    "    viscosity_file = pd.read_csv(path+\"/result/nu_t.dat\")\n",
    "    viscosity = np.array(viscosity_file[viscosity_file.columns[4]][1:])\n",
    "    viscosity_limits_idx = np.where((viscosity<viscosity_limits[1]) & (viscosity>viscosity_limits[0]))[0]\n",
    "    time = viscosity_limits_idx \n",
    "    if plot_for_all_data : \n",
    "        time = np.asarray(range(1,len(dataset.tlist[1:])))\n",
    "        viscosity_text = \" for all timesteps\"\n",
    "    else:\n",
    "        viscosity_text = \" relative viscosity range=\"+ str(viscosity_limits)\n",
    "#     print time\n",
    "    for i,t in enumerate([dataset.tlist[i] for i in time]):\n",
    "        progress1.value = int(float(i)/len(time)*100)\n",
    "        try:\n",
    "            if cache_file.has_data(t,\"cluster_size_distribution_gap_\"+str(gap)):\n",
    "                label_cache.value = \"loading data for t=\"+str(t)\n",
    "                s, ns = cache_file.load_data(t,\"cluster_size_distribution_gap_\"+str(gap))\n",
    "                idx = np.where(ns != 0)[0]\n",
    "                s_data = np.concatenate([s_data , s[idx]])\n",
    "                ns_data = np.concatenate([ns_data , ns[idx]])\n",
    "                label1.value = str(s[idx])\n",
    "            else:\n",
    "                dataset.load_state(t)\n",
    "                s, ns = dataset.get_quantity(\"cluster_size_distribution\", gap = gap, update=True)\n",
    "                cache_file.save_data(t,{\"cluster_size_distribution_gap_\"+str(gap):[s, ns]})\n",
    "                idx = np.where(ns != 0)[0]\n",
    "                s_data = np.concatenate([s_data , s[idx]])\n",
    "                ns_data = np.concatenate([ns_data , ns[idx]])\n",
    "                label1.value = str(s[idx])\n",
    "        except Exception as e:\n",
    "            print e\n",
    "    uniq_sizes = np.unique(s_data)\n",
    "    ns_data_cumulative = np.zeros_like(uniq_sizes)\n",
    "    for i, item in enumerate(uniq_sizes):\n",
    "        idx_uniq = np.where(s_data == item)[0]\n",
    "        ns_data_cumulative[i] = sum(ns_data[idx_uniq])\n",
    "    x,y = uniq_sizes, ns_data_cumulative\n",
    "#     x_new = np.linspace(x[0], x[-1], num=len(x)*10)\n",
    "#     import numpy.polynomial.polynomial as poly\n",
    "#     coefs = poly.polyfit(x, y, 20)\n",
    "#     ffit = poly.polyval(x_new, coefs)\n",
    "    def zipfs(k,s,N):\n",
    "        denom = sum([1.0/i**s for i in range(1,int(N+1))])\n",
    "        num = 1.0/k**s\n",
    "        return num/denom\n",
    "    \n",
    "    plt.figure(figsize=[12,5])\n",
    "    plt.subplot(1,2,1)\n",
    "    plt.loglog(x,  y/float(max(y)),'k')\n",
    "    plt.loglog(x,  y/float(max(y)),'rx')\n",
    "    #uncomment to enable zipf's law visualization\n",
    "#     plt.loglog(range(1,int(max(x))),  [zipfs(i,alpha,max(x)) for i in range(1,int(max(x)))],label= \"zipfs law\")\n",
    "#     plt.plot(x_new, ffit, 'r')\n",
    "    plt.legend()\n",
    "    plt.xlim([0,1e3])\n",
    "    plt.ylim([1e-7,2])\n",
    "    plt.xlabel(\"N\")\n",
    "    plt.ylabel(\"P(N)\")\n",
    "    plt.suptitle(path+\" gap=\"+str(gap)+viscosity_text)\n",
    "    \n",
    "    plt.subplot(1,2,2)\n",
    "    plt.plot(range(len(viscosity)), viscosity, 'b.')\n",
    "    plt.plot(viscosity_limits_idx, viscosity[viscosity_limits_idx],'r.', label=\"used data points\")\n",
    "    plt.legend()\n",
    "    plt.xlabel(\"timesteps\")\n",
    "    plt.ylabel(\"relative viscosity\")\n",
    "    plt.yscale(\"log\")\n",
    "    \n",
    "    print uniq_sizes, ns_data_cumulative\n",
    "    \n",
    "widget_cluster_size_vs_cluster_probability_matplotlib = interactive(cluster_size_vs_cluster_probability_matplotlib, \\\n",
    "    phi = widgets.ToggleButtons(options=[40,45,50,54,55,56,58],value=56,disabled=False), \\\n",
    "    shearrate= widgets.ToggleButtons(options=[1,10,11,11.5,12,12.5,13,14,15,16,18,20,30,50,70,100,200,300,1000], value = 12),\\\n",
    "    time = widgets.IntRangeSlider(value = [1,1000] ,min = 1, max =1000 ),\\\n",
    "    plot_for_all_data = widgets.ToggleButtons(options = [True,False], value=False),\\\n",
    "    gap = widgets.ToggleButtons(options=[9e-8,6.7e-8,4e-8,1e-8], value = 9e-8),\\\n",
    "    alpha = widgets.FloatText(value = 2.5),\\\n",
    "    viscosity_limits = widgets.IntRangeSlider(value=[0,100], min = 0, max = 1000000),\\\n",
    "    __manual = True)\n",
    "display(widget_cluster_size_vs_cluster_probability_matplotlib)\n",
    "display(label1)\n",
    "display(progress1)\n",
    "display(label_cache)\n",
    "# for i,item in enumerate(pdf_average.children):\n",
    "#     print i, item.description \n",
    "# display(widget_cluster_size_distribution_matplotlib)\n",
    "# display(widgets.HBox(cluster_size_distribution.children[4:]))"
   ]
  },
  {
   "cell_type": "code",
   "execution_count": 28,
   "metadata": {
    "collapsed": false,
    "scrolled": false
   },
   "outputs": [
    {
     "name": "stdout",
     "output_type": "stream",
     "text": [
      "902 steps available\n"
     ]
    },
    {
     "data": {
      "application/javascript": [
       "/* Put everything inside the global mpl namespace */\n",
       "window.mpl = {};\n",
       "\n",
       "mpl.get_websocket_type = function() {\n",
       "    if (typeof(WebSocket) !== 'undefined') {\n",
       "        return WebSocket;\n",
       "    } else if (typeof(MozWebSocket) !== 'undefined') {\n",
       "        return MozWebSocket;\n",
       "    } else {\n",
       "        alert('Your browser does not have WebSocket support.' +\n",
       "              'Please try Chrome, Safari or Firefox ≥ 6. ' +\n",
       "              'Firefox 4 and 5 are also supported but you ' +\n",
       "              'have to enable WebSockets in about:config.');\n",
       "    };\n",
       "}\n",
       "\n",
       "mpl.figure = function(figure_id, websocket, ondownload, parent_element) {\n",
       "    this.id = figure_id;\n",
       "\n",
       "    this.ws = websocket;\n",
       "\n",
       "    this.supports_binary = (this.ws.binaryType != undefined);\n",
       "\n",
       "    if (!this.supports_binary) {\n",
       "        var warnings = document.getElementById(\"mpl-warnings\");\n",
       "        if (warnings) {\n",
       "            warnings.style.display = 'block';\n",
       "            warnings.textContent = (\n",
       "                \"This browser does not support binary websocket messages. \" +\n",
       "                    \"Performance may be slow.\");\n",
       "        }\n",
       "    }\n",
       "\n",
       "    this.imageObj = new Image();\n",
       "\n",
       "    this.context = undefined;\n",
       "    this.message = undefined;\n",
       "    this.canvas = undefined;\n",
       "    this.rubberband_canvas = undefined;\n",
       "    this.rubberband_context = undefined;\n",
       "    this.format_dropdown = undefined;\n",
       "\n",
       "    this.image_mode = 'full';\n",
       "\n",
       "    this.root = $('<div/>');\n",
       "    this._root_extra_style(this.root)\n",
       "    this.root.attr('style', 'display: inline-block');\n",
       "\n",
       "    $(parent_element).append(this.root);\n",
       "\n",
       "    this._init_header(this);\n",
       "    this._init_canvas(this);\n",
       "    this._init_toolbar(this);\n",
       "\n",
       "    var fig = this;\n",
       "\n",
       "    this.waiting = false;\n",
       "\n",
       "    this.ws.onopen =  function () {\n",
       "            fig.send_message(\"supports_binary\", {value: fig.supports_binary});\n",
       "            fig.send_message(\"send_image_mode\", {});\n",
       "            fig.send_message(\"refresh\", {});\n",
       "        }\n",
       "\n",
       "    this.imageObj.onload = function() {\n",
       "            if (fig.image_mode == 'full') {\n",
       "                // Full images could contain transparency (where diff images\n",
       "                // almost always do), so we need to clear the canvas so that\n",
       "                // there is no ghosting.\n",
       "                fig.context.clearRect(0, 0, fig.canvas.width, fig.canvas.height);\n",
       "            }\n",
       "            fig.context.drawImage(fig.imageObj, 0, 0);\n",
       "        };\n",
       "\n",
       "    this.imageObj.onunload = function() {\n",
       "        this.ws.close();\n",
       "    }\n",
       "\n",
       "    this.ws.onmessage = this._make_on_message_function(this);\n",
       "\n",
       "    this.ondownload = ondownload;\n",
       "}\n",
       "\n",
       "mpl.figure.prototype._init_header = function() {\n",
       "    var titlebar = $(\n",
       "        '<div class=\"ui-dialog-titlebar ui-widget-header ui-corner-all ' +\n",
       "        'ui-helper-clearfix\"/>');\n",
       "    var titletext = $(\n",
       "        '<div class=\"ui-dialog-title\" style=\"width: 100%; ' +\n",
       "        'text-align: center; padding: 3px;\"/>');\n",
       "    titlebar.append(titletext)\n",
       "    this.root.append(titlebar);\n",
       "    this.header = titletext[0];\n",
       "}\n",
       "\n",
       "\n",
       "\n",
       "mpl.figure.prototype._canvas_extra_style = function(canvas_div) {\n",
       "\n",
       "}\n",
       "\n",
       "\n",
       "mpl.figure.prototype._root_extra_style = function(canvas_div) {\n",
       "\n",
       "}\n",
       "\n",
       "mpl.figure.prototype._init_canvas = function() {\n",
       "    var fig = this;\n",
       "\n",
       "    var canvas_div = $('<div/>');\n",
       "\n",
       "    canvas_div.attr('style', 'position: relative; clear: both; outline: 0');\n",
       "\n",
       "    function canvas_keyboard_event(event) {\n",
       "        return fig.key_event(event, event['data']);\n",
       "    }\n",
       "\n",
       "    canvas_div.keydown('key_press', canvas_keyboard_event);\n",
       "    canvas_div.keyup('key_release', canvas_keyboard_event);\n",
       "    this.canvas_div = canvas_div\n",
       "    this._canvas_extra_style(canvas_div)\n",
       "    this.root.append(canvas_div);\n",
       "\n",
       "    var canvas = $('<canvas/>');\n",
       "    canvas.addClass('mpl-canvas');\n",
       "    canvas.attr('style', \"left: 0; top: 0; z-index: 0; outline: 0\")\n",
       "\n",
       "    this.canvas = canvas[0];\n",
       "    this.context = canvas[0].getContext(\"2d\");\n",
       "\n",
       "    var rubberband = $('<canvas/>');\n",
       "    rubberband.attr('style', \"position: absolute; left: 0; top: 0; z-index: 1;\")\n",
       "\n",
       "    var pass_mouse_events = true;\n",
       "\n",
       "    canvas_div.resizable({\n",
       "        start: function(event, ui) {\n",
       "            pass_mouse_events = false;\n",
       "        },\n",
       "        resize: function(event, ui) {\n",
       "            fig.request_resize(ui.size.width, ui.size.height);\n",
       "        },\n",
       "        stop: function(event, ui) {\n",
       "            pass_mouse_events = true;\n",
       "            fig.request_resize(ui.size.width, ui.size.height);\n",
       "        },\n",
       "    });\n",
       "\n",
       "    function mouse_event_fn(event) {\n",
       "        if (pass_mouse_events)\n",
       "            return fig.mouse_event(event, event['data']);\n",
       "    }\n",
       "\n",
       "    rubberband.mousedown('button_press', mouse_event_fn);\n",
       "    rubberband.mouseup('button_release', mouse_event_fn);\n",
       "    // Throttle sequential mouse events to 1 every 20ms.\n",
       "    rubberband.mousemove('motion_notify', mouse_event_fn);\n",
       "\n",
       "    rubberband.mouseenter('figure_enter', mouse_event_fn);\n",
       "    rubberband.mouseleave('figure_leave', mouse_event_fn);\n",
       "\n",
       "    canvas_div.on(\"wheel\", function (event) {\n",
       "        event = event.originalEvent;\n",
       "        event['data'] = 'scroll'\n",
       "        if (event.deltaY < 0) {\n",
       "            event.step = 1;\n",
       "        } else {\n",
       "            event.step = -1;\n",
       "        }\n",
       "        mouse_event_fn(event);\n",
       "    });\n",
       "\n",
       "    canvas_div.append(canvas);\n",
       "    canvas_div.append(rubberband);\n",
       "\n",
       "    this.rubberband = rubberband;\n",
       "    this.rubberband_canvas = rubberband[0];\n",
       "    this.rubberband_context = rubberband[0].getContext(\"2d\");\n",
       "    this.rubberband_context.strokeStyle = \"#000000\";\n",
       "\n",
       "    this._resize_canvas = function(width, height) {\n",
       "        // Keep the size of the canvas, canvas container, and rubber band\n",
       "        // canvas in synch.\n",
       "        canvas_div.css('width', width)\n",
       "        canvas_div.css('height', height)\n",
       "\n",
       "        canvas.attr('width', width);\n",
       "        canvas.attr('height', height);\n",
       "\n",
       "        rubberband.attr('width', width);\n",
       "        rubberband.attr('height', height);\n",
       "    }\n",
       "\n",
       "    // Set the figure to an initial 600x600px, this will subsequently be updated\n",
       "    // upon first draw.\n",
       "    this._resize_canvas(600, 600);\n",
       "\n",
       "    // Disable right mouse context menu.\n",
       "    $(this.rubberband_canvas).bind(\"contextmenu\",function(e){\n",
       "        return false;\n",
       "    });\n",
       "\n",
       "    function set_focus () {\n",
       "        canvas.focus();\n",
       "        canvas_div.focus();\n",
       "    }\n",
       "\n",
       "    window.setTimeout(set_focus, 100);\n",
       "}\n",
       "\n",
       "mpl.figure.prototype._init_toolbar = function() {\n",
       "    var fig = this;\n",
       "\n",
       "    var nav_element = $('<div/>')\n",
       "    nav_element.attr('style', 'width: 100%');\n",
       "    this.root.append(nav_element);\n",
       "\n",
       "    // Define a callback function for later on.\n",
       "    function toolbar_event(event) {\n",
       "        return fig.toolbar_button_onclick(event['data']);\n",
       "    }\n",
       "    function toolbar_mouse_event(event) {\n",
       "        return fig.toolbar_button_onmouseover(event['data']);\n",
       "    }\n",
       "\n",
       "    for(var toolbar_ind in mpl.toolbar_items) {\n",
       "        var name = mpl.toolbar_items[toolbar_ind][0];\n",
       "        var tooltip = mpl.toolbar_items[toolbar_ind][1];\n",
       "        var image = mpl.toolbar_items[toolbar_ind][2];\n",
       "        var method_name = mpl.toolbar_items[toolbar_ind][3];\n",
       "\n",
       "        if (!name) {\n",
       "            // put a spacer in here.\n",
       "            continue;\n",
       "        }\n",
       "        var button = $('<button/>');\n",
       "        button.addClass('ui-button ui-widget ui-state-default ui-corner-all ' +\n",
       "                        'ui-button-icon-only');\n",
       "        button.attr('role', 'button');\n",
       "        button.attr('aria-disabled', 'false');\n",
       "        button.click(method_name, toolbar_event);\n",
       "        button.mouseover(tooltip, toolbar_mouse_event);\n",
       "\n",
       "        var icon_img = $('<span/>');\n",
       "        icon_img.addClass('ui-button-icon-primary ui-icon');\n",
       "        icon_img.addClass(image);\n",
       "        icon_img.addClass('ui-corner-all');\n",
       "\n",
       "        var tooltip_span = $('<span/>');\n",
       "        tooltip_span.addClass('ui-button-text');\n",
       "        tooltip_span.html(tooltip);\n",
       "\n",
       "        button.append(icon_img);\n",
       "        button.append(tooltip_span);\n",
       "\n",
       "        nav_element.append(button);\n",
       "    }\n",
       "\n",
       "    var fmt_picker_span = $('<span/>');\n",
       "\n",
       "    var fmt_picker = $('<select/>');\n",
       "    fmt_picker.addClass('mpl-toolbar-option ui-widget ui-widget-content');\n",
       "    fmt_picker_span.append(fmt_picker);\n",
       "    nav_element.append(fmt_picker_span);\n",
       "    this.format_dropdown = fmt_picker[0];\n",
       "\n",
       "    for (var ind in mpl.extensions) {\n",
       "        var fmt = mpl.extensions[ind];\n",
       "        var option = $(\n",
       "            '<option/>', {selected: fmt === mpl.default_extension}).html(fmt);\n",
       "        fmt_picker.append(option)\n",
       "    }\n",
       "\n",
       "    // Add hover states to the ui-buttons\n",
       "    $( \".ui-button\" ).hover(\n",
       "        function() { $(this).addClass(\"ui-state-hover\");},\n",
       "        function() { $(this).removeClass(\"ui-state-hover\");}\n",
       "    );\n",
       "\n",
       "    var status_bar = $('<span class=\"mpl-message\"/>');\n",
       "    nav_element.append(status_bar);\n",
       "    this.message = status_bar[0];\n",
       "}\n",
       "\n",
       "mpl.figure.prototype.request_resize = function(x_pixels, y_pixels) {\n",
       "    // Request matplotlib to resize the figure. Matplotlib will then trigger a resize in the client,\n",
       "    // which will in turn request a refresh of the image.\n",
       "    this.send_message('resize', {'width': x_pixels, 'height': y_pixels});\n",
       "}\n",
       "\n",
       "mpl.figure.prototype.send_message = function(type, properties) {\n",
       "    properties['type'] = type;\n",
       "    properties['figure_id'] = this.id;\n",
       "    this.ws.send(JSON.stringify(properties));\n",
       "}\n",
       "\n",
       "mpl.figure.prototype.send_draw_message = function() {\n",
       "    if (!this.waiting) {\n",
       "        this.waiting = true;\n",
       "        this.ws.send(JSON.stringify({type: \"draw\", figure_id: this.id}));\n",
       "    }\n",
       "}\n",
       "\n",
       "\n",
       "mpl.figure.prototype.handle_save = function(fig, msg) {\n",
       "    var format_dropdown = fig.format_dropdown;\n",
       "    var format = format_dropdown.options[format_dropdown.selectedIndex].value;\n",
       "    fig.ondownload(fig, format);\n",
       "}\n",
       "\n",
       "\n",
       "mpl.figure.prototype.handle_resize = function(fig, msg) {\n",
       "    var size = msg['size'];\n",
       "    if (size[0] != fig.canvas.width || size[1] != fig.canvas.height) {\n",
       "        fig._resize_canvas(size[0], size[1]);\n",
       "        fig.send_message(\"refresh\", {});\n",
       "    };\n",
       "}\n",
       "\n",
       "mpl.figure.prototype.handle_rubberband = function(fig, msg) {\n",
       "    var x0 = msg['x0'];\n",
       "    var y0 = fig.canvas.height - msg['y0'];\n",
       "    var x1 = msg['x1'];\n",
       "    var y1 = fig.canvas.height - msg['y1'];\n",
       "    x0 = Math.floor(x0) + 0.5;\n",
       "    y0 = Math.floor(y0) + 0.5;\n",
       "    x1 = Math.floor(x1) + 0.5;\n",
       "    y1 = Math.floor(y1) + 0.5;\n",
       "    var min_x = Math.min(x0, x1);\n",
       "    var min_y = Math.min(y0, y1);\n",
       "    var width = Math.abs(x1 - x0);\n",
       "    var height = Math.abs(y1 - y0);\n",
       "\n",
       "    fig.rubberband_context.clearRect(\n",
       "        0, 0, fig.canvas.width, fig.canvas.height);\n",
       "\n",
       "    fig.rubberband_context.strokeRect(min_x, min_y, width, height);\n",
       "}\n",
       "\n",
       "mpl.figure.prototype.handle_figure_label = function(fig, msg) {\n",
       "    // Updates the figure title.\n",
       "    fig.header.textContent = msg['label'];\n",
       "}\n",
       "\n",
       "mpl.figure.prototype.handle_cursor = function(fig, msg) {\n",
       "    var cursor = msg['cursor'];\n",
       "    switch(cursor)\n",
       "    {\n",
       "    case 0:\n",
       "        cursor = 'pointer';\n",
       "        break;\n",
       "    case 1:\n",
       "        cursor = 'default';\n",
       "        break;\n",
       "    case 2:\n",
       "        cursor = 'crosshair';\n",
       "        break;\n",
       "    case 3:\n",
       "        cursor = 'move';\n",
       "        break;\n",
       "    }\n",
       "    fig.rubberband_canvas.style.cursor = cursor;\n",
       "}\n",
       "\n",
       "mpl.figure.prototype.handle_message = function(fig, msg) {\n",
       "    fig.message.textContent = msg['message'];\n",
       "}\n",
       "\n",
       "mpl.figure.prototype.handle_draw = function(fig, msg) {\n",
       "    // Request the server to send over a new figure.\n",
       "    fig.send_draw_message();\n",
       "}\n",
       "\n",
       "mpl.figure.prototype.handle_image_mode = function(fig, msg) {\n",
       "    fig.image_mode = msg['mode'];\n",
       "}\n",
       "\n",
       "mpl.figure.prototype.updated_canvas_event = function() {\n",
       "    // Called whenever the canvas gets updated.\n",
       "    this.send_message(\"ack\", {});\n",
       "}\n",
       "\n",
       "// A function to construct a web socket function for onmessage handling.\n",
       "// Called in the figure constructor.\n",
       "mpl.figure.prototype._make_on_message_function = function(fig) {\n",
       "    return function socket_on_message(evt) {\n",
       "        if (evt.data instanceof Blob) {\n",
       "            /* FIXME: We get \"Resource interpreted as Image but\n",
       "             * transferred with MIME type text/plain:\" errors on\n",
       "             * Chrome.  But how to set the MIME type?  It doesn't seem\n",
       "             * to be part of the websocket stream */\n",
       "            evt.data.type = \"image/png\";\n",
       "\n",
       "            /* Free the memory for the previous frames */\n",
       "            if (fig.imageObj.src) {\n",
       "                (window.URL || window.webkitURL).revokeObjectURL(\n",
       "                    fig.imageObj.src);\n",
       "            }\n",
       "\n",
       "            fig.imageObj.src = (window.URL || window.webkitURL).createObjectURL(\n",
       "                evt.data);\n",
       "            fig.updated_canvas_event();\n",
       "            fig.waiting = false;\n",
       "            return;\n",
       "        }\n",
       "        else if (typeof evt.data === 'string' && evt.data.slice(0, 21) == \"data:image/png;base64\") {\n",
       "            fig.imageObj.src = evt.data;\n",
       "            fig.updated_canvas_event();\n",
       "            fig.waiting = false;\n",
       "            return;\n",
       "        }\n",
       "\n",
       "        var msg = JSON.parse(evt.data);\n",
       "        var msg_type = msg['type'];\n",
       "\n",
       "        // Call the  \"handle_{type}\" callback, which takes\n",
       "        // the figure and JSON message as its only arguments.\n",
       "        try {\n",
       "            var callback = fig[\"handle_\" + msg_type];\n",
       "        } catch (e) {\n",
       "            console.log(\"No handler for the '\" + msg_type + \"' message type: \", msg);\n",
       "            return;\n",
       "        }\n",
       "\n",
       "        if (callback) {\n",
       "            try {\n",
       "                // console.log(\"Handling '\" + msg_type + \"' message: \", msg);\n",
       "                callback(fig, msg);\n",
       "            } catch (e) {\n",
       "                console.log(\"Exception inside the 'handler_\" + msg_type + \"' callback:\", e, e.stack, msg);\n",
       "            }\n",
       "        }\n",
       "    };\n",
       "}\n",
       "\n",
       "// from http://stackoverflow.com/questions/1114465/getting-mouse-location-in-canvas\n",
       "mpl.findpos = function(e) {\n",
       "    //this section is from http://www.quirksmode.org/js/events_properties.html\n",
       "    var targ;\n",
       "    if (!e)\n",
       "        e = window.event;\n",
       "    if (e.target)\n",
       "        targ = e.target;\n",
       "    else if (e.srcElement)\n",
       "        targ = e.srcElement;\n",
       "    if (targ.nodeType == 3) // defeat Safari bug\n",
       "        targ = targ.parentNode;\n",
       "\n",
       "    // jQuery normalizes the pageX and pageY\n",
       "    // pageX,Y are the mouse positions relative to the document\n",
       "    // offset() returns the position of the element relative to the document\n",
       "    var x = e.pageX - $(targ).offset().left;\n",
       "    var y = e.pageY - $(targ).offset().top;\n",
       "\n",
       "    return {\"x\": x, \"y\": y};\n",
       "};\n",
       "\n",
       "/*\n",
       " * return a copy of an object with only non-object keys\n",
       " * we need this to avoid circular references\n",
       " * http://stackoverflow.com/a/24161582/3208463\n",
       " */\n",
       "function simpleKeys (original) {\n",
       "  return Object.keys(original).reduce(function (obj, key) {\n",
       "    if (typeof original[key] !== 'object')\n",
       "        obj[key] = original[key]\n",
       "    return obj;\n",
       "  }, {});\n",
       "}\n",
       "\n",
       "mpl.figure.prototype.mouse_event = function(event, name) {\n",
       "    var canvas_pos = mpl.findpos(event)\n",
       "\n",
       "    if (name === 'button_press')\n",
       "    {\n",
       "        this.canvas.focus();\n",
       "        this.canvas_div.focus();\n",
       "    }\n",
       "\n",
       "    var x = canvas_pos.x;\n",
       "    var y = canvas_pos.y;\n",
       "\n",
       "    this.send_message(name, {x: x, y: y, button: event.button,\n",
       "                             step: event.step,\n",
       "                             guiEvent: simpleKeys(event)});\n",
       "\n",
       "    /* This prevents the web browser from automatically changing to\n",
       "     * the text insertion cursor when the button is pressed.  We want\n",
       "     * to control all of the cursor setting manually through the\n",
       "     * 'cursor' event from matplotlib */\n",
       "    event.preventDefault();\n",
       "    return false;\n",
       "}\n",
       "\n",
       "mpl.figure.prototype._key_event_extra = function(event, name) {\n",
       "    // Handle any extra behaviour associated with a key event\n",
       "}\n",
       "\n",
       "mpl.figure.prototype.key_event = function(event, name) {\n",
       "\n",
       "    // Prevent repeat events\n",
       "    if (name == 'key_press')\n",
       "    {\n",
       "        if (event.which === this._key)\n",
       "            return;\n",
       "        else\n",
       "            this._key = event.which;\n",
       "    }\n",
       "    if (name == 'key_release')\n",
       "        this._key = null;\n",
       "\n",
       "    var value = '';\n",
       "    if (event.ctrlKey && event.which != 17)\n",
       "        value += \"ctrl+\";\n",
       "    if (event.altKey && event.which != 18)\n",
       "        value += \"alt+\";\n",
       "    if (event.shiftKey && event.which != 16)\n",
       "        value += \"shift+\";\n",
       "\n",
       "    value += 'k';\n",
       "    value += event.which.toString();\n",
       "\n",
       "    this._key_event_extra(event, name);\n",
       "\n",
       "    this.send_message(name, {key: value,\n",
       "                             guiEvent: simpleKeys(event)});\n",
       "    return false;\n",
       "}\n",
       "\n",
       "mpl.figure.prototype.toolbar_button_onclick = function(name) {\n",
       "    if (name == 'download') {\n",
       "        this.handle_save(this, null);\n",
       "    } else {\n",
       "        this.send_message(\"toolbar_button\", {name: name});\n",
       "    }\n",
       "};\n",
       "\n",
       "mpl.figure.prototype.toolbar_button_onmouseover = function(tooltip) {\n",
       "    this.message.textContent = tooltip;\n",
       "};\n",
       "mpl.toolbar_items = [[\"Home\", \"Reset original view\", \"fa fa-home icon-home\", \"home\"], [\"Back\", \"Back to  previous view\", \"fa fa-arrow-left icon-arrow-left\", \"back\"], [\"Forward\", \"Forward to next view\", \"fa fa-arrow-right icon-arrow-right\", \"forward\"], [\"\", \"\", \"\", \"\"], [\"Pan\", \"Pan axes with left mouse, zoom with right\", \"fa fa-arrows icon-move\", \"pan\"], [\"Zoom\", \"Zoom to rectangle\", \"fa fa-square-o icon-check-empty\", \"zoom\"], [\"\", \"\", \"\", \"\"], [\"Download\", \"Download plot\", \"fa fa-floppy-o icon-save\", \"download\"]];\n",
       "\n",
       "mpl.extensions = [\"eps\", \"jpeg\", \"pdf\", \"png\", \"ps\", \"raw\", \"svg\", \"tif\"];\n",
       "\n",
       "mpl.default_extension = \"png\";var comm_websocket_adapter = function(comm) {\n",
       "    // Create a \"websocket\"-like object which calls the given IPython comm\n",
       "    // object with the appropriate methods. Currently this is a non binary\n",
       "    // socket, so there is still some room for performance tuning.\n",
       "    var ws = {};\n",
       "\n",
       "    ws.close = function() {\n",
       "        comm.close()\n",
       "    };\n",
       "    ws.send = function(m) {\n",
       "        //console.log('sending', m);\n",
       "        comm.send(m);\n",
       "    };\n",
       "    // Register the callback with on_msg.\n",
       "    comm.on_msg(function(msg) {\n",
       "        //console.log('receiving', msg['content']['data'], msg);\n",
       "        // Pass the mpl event to the overriden (by mpl) onmessage function.\n",
       "        ws.onmessage(msg['content']['data'])\n",
       "    });\n",
       "    return ws;\n",
       "}\n",
       "\n",
       "mpl.mpl_figure_comm = function(comm, msg) {\n",
       "    // This is the function which gets called when the mpl process\n",
       "    // starts-up an IPython Comm through the \"matplotlib\" channel.\n",
       "\n",
       "    var id = msg.content.data.id;\n",
       "    // Get hold of the div created by the display call when the Comm\n",
       "    // socket was opened in Python.\n",
       "    var element = $(\"#\" + id);\n",
       "    var ws_proxy = comm_websocket_adapter(comm)\n",
       "\n",
       "    function ondownload(figure, format) {\n",
       "        window.open(figure.imageObj.src);\n",
       "    }\n",
       "\n",
       "    var fig = new mpl.figure(id, ws_proxy,\n",
       "                           ondownload,\n",
       "                           element.get(0));\n",
       "\n",
       "    // Call onopen now - mpl needs it, as it is assuming we've passed it a real\n",
       "    // web socket which is closed, not our websocket->open comm proxy.\n",
       "    ws_proxy.onopen();\n",
       "\n",
       "    fig.parent_element = element.get(0);\n",
       "    fig.cell_info = mpl.find_output_cell(\"<div id='\" + id + \"'></div>\");\n",
       "    if (!fig.cell_info) {\n",
       "        console.error(\"Failed to find cell for figure\", id, fig);\n",
       "        return;\n",
       "    }\n",
       "\n",
       "    var output_index = fig.cell_info[2]\n",
       "    var cell = fig.cell_info[0];\n",
       "\n",
       "};\n",
       "\n",
       "mpl.figure.prototype.handle_close = function(fig, msg) {\n",
       "    fig.root.unbind('remove')\n",
       "\n",
       "    // Update the output cell to use the data from the current canvas.\n",
       "    fig.push_to_output();\n",
       "    var dataURL = fig.canvas.toDataURL();\n",
       "    // Re-enable the keyboard manager in IPython - without this line, in FF,\n",
       "    // the notebook keyboard shortcuts fail.\n",
       "    IPython.keyboard_manager.enable()\n",
       "    $(fig.parent_element).html('<img src=\"' + dataURL + '\">');\n",
       "    fig.close_ws(fig, msg);\n",
       "}\n",
       "\n",
       "mpl.figure.prototype.close_ws = function(fig, msg){\n",
       "    fig.send_message('closing', msg);\n",
       "    // fig.ws.close()\n",
       "}\n",
       "\n",
       "mpl.figure.prototype.push_to_output = function(remove_interactive) {\n",
       "    // Turn the data on the canvas into data in the output cell.\n",
       "    var dataURL = this.canvas.toDataURL();\n",
       "    this.cell_info[1]['text/html'] = '<img src=\"' + dataURL + '\">';\n",
       "}\n",
       "\n",
       "mpl.figure.prototype.updated_canvas_event = function() {\n",
       "    // Tell IPython that the notebook contents must change.\n",
       "    IPython.notebook.set_dirty(true);\n",
       "    this.send_message(\"ack\", {});\n",
       "    var fig = this;\n",
       "    // Wait a second, then push the new image to the DOM so\n",
       "    // that it is saved nicely (might be nice to debounce this).\n",
       "    setTimeout(function () { fig.push_to_output() }, 1000);\n",
       "}\n",
       "\n",
       "mpl.figure.prototype._init_toolbar = function() {\n",
       "    var fig = this;\n",
       "\n",
       "    var nav_element = $('<div/>')\n",
       "    nav_element.attr('style', 'width: 100%');\n",
       "    this.root.append(nav_element);\n",
       "\n",
       "    // Define a callback function for later on.\n",
       "    function toolbar_event(event) {\n",
       "        return fig.toolbar_button_onclick(event['data']);\n",
       "    }\n",
       "    function toolbar_mouse_event(event) {\n",
       "        return fig.toolbar_button_onmouseover(event['data']);\n",
       "    }\n",
       "\n",
       "    for(var toolbar_ind in mpl.toolbar_items){\n",
       "        var name = mpl.toolbar_items[toolbar_ind][0];\n",
       "        var tooltip = mpl.toolbar_items[toolbar_ind][1];\n",
       "        var image = mpl.toolbar_items[toolbar_ind][2];\n",
       "        var method_name = mpl.toolbar_items[toolbar_ind][3];\n",
       "\n",
       "        if (!name) { continue; };\n",
       "\n",
       "        var button = $('<button class=\"btn btn-default\" href=\"#\" title=\"' + name + '\"><i class=\"fa ' + image + ' fa-lg\"></i></button>');\n",
       "        button.click(method_name, toolbar_event);\n",
       "        button.mouseover(tooltip, toolbar_mouse_event);\n",
       "        nav_element.append(button);\n",
       "    }\n",
       "\n",
       "    // Add the status bar.\n",
       "    var status_bar = $('<span class=\"mpl-message\" style=\"text-align:right; float: right;\"/>');\n",
       "    nav_element.append(status_bar);\n",
       "    this.message = status_bar[0];\n",
       "\n",
       "    // Add the close button to the window.\n",
       "    var buttongrp = $('<div class=\"btn-group inline pull-right\"></div>');\n",
       "    var button = $('<button class=\"btn btn-mini btn-primary\" href=\"#\" title=\"Stop Interaction\"><i class=\"fa fa-power-off icon-remove icon-large\"></i></button>');\n",
       "    button.click(function (evt) { fig.handle_close(fig, {}); } );\n",
       "    button.mouseover('Stop Interaction', toolbar_mouse_event);\n",
       "    buttongrp.append(button);\n",
       "    var titlebar = this.root.find($('.ui-dialog-titlebar'));\n",
       "    titlebar.prepend(buttongrp);\n",
       "}\n",
       "\n",
       "mpl.figure.prototype._root_extra_style = function(el){\n",
       "    var fig = this\n",
       "    el.on(\"remove\", function(){\n",
       "\tfig.close_ws(fig, {});\n",
       "    });\n",
       "}\n",
       "\n",
       "mpl.figure.prototype._canvas_extra_style = function(el){\n",
       "    // this is important to make the div 'focusable\n",
       "    el.attr('tabindex', 0)\n",
       "    // reach out to IPython and tell the keyboard manager to turn it's self\n",
       "    // off when our div gets focus\n",
       "\n",
       "    // location in version 3\n",
       "    if (IPython.notebook.keyboard_manager) {\n",
       "        IPython.notebook.keyboard_manager.register_events(el);\n",
       "    }\n",
       "    else {\n",
       "        // location in version 2\n",
       "        IPython.keyboard_manager.register_events(el);\n",
       "    }\n",
       "\n",
       "}\n",
       "\n",
       "mpl.figure.prototype._key_event_extra = function(event, name) {\n",
       "    var manager = IPython.notebook.keyboard_manager;\n",
       "    if (!manager)\n",
       "        manager = IPython.keyboard_manager;\n",
       "\n",
       "    // Check for shift+enter\n",
       "    if (event.shiftKey && event.which == 13) {\n",
       "        this.canvas_div.blur();\n",
       "        // select the cell after this one\n",
       "        var index = IPython.notebook.find_cell_index(this.cell_info[0]);\n",
       "        IPython.notebook.select(index + 1);\n",
       "    }\n",
       "}\n",
       "\n",
       "mpl.figure.prototype.handle_save = function(fig, msg) {\n",
       "    fig.ondownload(fig, null);\n",
       "}\n",
       "\n",
       "\n",
       "mpl.find_output_cell = function(html_output) {\n",
       "    // Return the cell and output element which can be found *uniquely* in the notebook.\n",
       "    // Note - this is a bit hacky, but it is done because the \"notebook_saving.Notebook\"\n",
       "    // IPython event is triggered only after the cells have been serialised, which for\n",
       "    // our purposes (turning an active figure into a static one), is too late.\n",
       "    var cells = IPython.notebook.get_cells();\n",
       "    var ncells = cells.length;\n",
       "    for (var i=0; i<ncells; i++) {\n",
       "        var cell = cells[i];\n",
       "        if (cell.cell_type === 'code'){\n",
       "            for (var j=0; j<cell.output_area.outputs.length; j++) {\n",
       "                var data = cell.output_area.outputs[j];\n",
       "                if (data.data) {\n",
       "                    // IPython >= 3 moved mimebundle to data attribute of output\n",
       "                    data = data.data;\n",
       "                }\n",
       "                if (data['text/html'] == html_output) {\n",
       "                    return [cell, data, j];\n",
       "                }\n",
       "            }\n",
       "        }\n",
       "    }\n",
       "}\n",
       "\n",
       "// Register the function which deals with the matplotlib target/channel.\n",
       "// The kernel may be null if the page has been refreshed.\n",
       "if (IPython.notebook.kernel != null) {\n",
       "    IPython.notebook.kernel.comm_manager.register_target('matplotlib', mpl.mpl_figure_comm);\n",
       "}\n"
      ],
      "text/plain": [
       "<IPython.core.display.Javascript object>"
      ]
     },
     "metadata": {},
     "output_type": "display_data"
    },
    {
     "data": {
      "text/html": [
       "<img src=\"data:image/png;base64,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\">"
      ],
      "text/plain": [
       "<IPython.core.display.HTML object>"
      ]
     },
     "metadata": {},
     "output_type": "display_data"
    },
    {
     "name": "stdout",
     "output_type": "stream",
     "text": [
      "[   1.    2.    3.    4.    5.    6.    7.    8.    9.   10.   11.   12.\n",
      "   13.   14.   15.   16.   17.   18.   20.   21.   22.   23.   24.   25.\n",
      "   26.   27.   28.   29.   31.   32.   33.   35.   37.   38.   39.   41.\n",
      "   42.   43.   45.   46.   47.   49.   50.   51.   52.   53.   54.   55.\n",
      "   57.   58.   59.   60.   61.   65.   66.   67.   68.   69.   70.   72.\n",
      "   75.   76.   77.   79.   80.   81.   82.   87.   88.   89.   90.   91.\n",
      "   94.   95.   96.   99.  100.  101.  102.  103.  105.  106.  107.  108.\n",
      "  110.  111.  112.  113.  114.  115.  118.  120.  121.  122.  123.  124.\n",
      "  125.  126.  127.  128.  129.  130.  131.  132.  134.  136.  138.  139.\n",
      "  140.  141.  142.  143.  144.  145.  146.  147.  150.  151.  152.  153.\n",
      "  154.  155.  156.  162.  163.  164.  165.  166.  172.  175.  176.] [  3.06350000e+04   3.13000000e+02   1.39000000e+02   3.10000000e+01\n",
      "   2.00000000e+01   1.50000000e+01   1.30000000e+01   5.00000000e+00\n",
      "   8.00000000e+00   3.00000000e+00   6.00000000e+00   6.00000000e+00\n",
      "   2.00000000e+00   4.00000000e+00   1.00000000e+00   3.00000000e+00\n",
      "   1.00000000e+00   2.00000000e+00   4.00000000e+00   2.00000000e+00\n",
      "   2.00000000e+00   2.00000000e+00   2.00000000e+00   1.00000000e+00\n",
      "   2.00000000e+00   1.00000000e+00   3.00000000e+00   1.00000000e+00\n",
      "   1.00000000e+00   1.00000000e+00   1.00000000e+00   1.00000000e+00\n",
      "   3.00000000e+00   1.00000000e+00   2.00000000e+00   1.00000000e+00\n",
      "   1.00000000e+00   1.00000000e+00   1.00000000e+00   1.00000000e+00\n",
      "   2.00000000e+00   1.00000000e+00   1.00000000e+00   2.00000000e+00\n",
      "   3.00000000e+00   5.00000000e+00   2.00000000e+00   1.00000000e+00\n",
      "   1.00000000e+00   1.00000000e+00   1.00000000e+00   1.00000000e+00\n",
      "   2.00000000e+00   1.00000000e+00   2.00000000e+00   2.00000000e+00\n",
      "   1.00000000e+00   1.00000000e+00   1.00000000e+00   1.00000000e+00\n",
      "   1.00000000e+00   2.00000000e+00   1.00000000e+00   1.00000000e+00\n",
      "   1.00000000e+00   1.00000000e+00   1.00000000e+00   1.00000000e+00\n",
      "   2.00000000e+00   2.00000000e+00   3.00000000e+00   1.00000000e+00\n",
      "   2.00000000e+00   1.00000000e+00   2.00000000e+00   1.00000000e+00\n",
      "   4.00000000e+00   2.00000000e+00   3.00000000e+00   5.00000000e+00\n",
      "   4.00000000e+00   6.00000000e+00   5.00000000e+00   3.00000000e+00\n",
      "   2.00000000e+00   2.00000000e+00   1.00000000e+00   1.00000000e+00\n",
      "   2.00000000e+00   3.00000000e+00   2.00000000e+00   1.00000000e+00\n",
      "   5.00000000e+00   1.00000000e+00   1.00000000e+00   1.00000000e+00\n",
      "   2.00000000e+00   2.00000000e+00   1.00000000e+00   2.00000000e+00\n",
      "   5.00000000e+00   2.00000000e+00   4.00000000e+00   1.00000000e+00\n",
      "   1.00000000e+00   3.00000000e+00   1.00000000e+00   1.00000000e+00\n",
      "   2.00000000e+00   1.00000000e+00   1.00000000e+00   1.00000000e+00\n",
      "   3.00000000e+00   1.00000000e+00   3.00000000e+00   7.00000000e+00\n",
      "   2.00000000e+00   2.00000000e+00   2.00000000e+00   1.00000000e+00\n",
      "   1.00000000e+00   1.00000000e+00   3.00000000e+00   2.00000000e+00\n",
      "   1.00000000e+00   1.00000000e+00   1.00000000e+00   1.00000000e+00\n",
      "   1.00000000e+00   2.00000000e+00   1.00000000e+00]\n"
     ]
    }
   ],
   "source": [
    "label1 = widgets.Label(\"\")\n",
    "label_cache = widgets.Label(value = \"\")\n",
    "progress_1 = widgets.IntProgress(min = 0, max = 100, value = 0)\n",
    "\n",
    "def cluster_size_vs_cluster_probability_matplotlib(path_text_input,phi,shearrate,time,plot_for_all_data,gaps,alpha,viscosity_limits):\n",
    "    if len(path_text_input.strip())== 0:\n",
    "        path = \"rhor1_phi\"+str(phi)+\"_yd\"+str(float(shearrate))\n",
    "    else:\n",
    "        path = str(path_text_input)\n",
    "    dataset = sp.reader.DataSet(path,particles=True, fluid=True)\n",
    "    print len(dataset.tlist), \"steps available\"\n",
    "\n",
    "    cache_file = cache(cachefile=dataset.cachefile)\n",
    "    \n",
    "    viscosity_file = pd.read_csv(path+\"/result/nu_t.dat\")\n",
    "    friction_file = pd.read_csv(path+\"/result/part_stress_fric_t.dat\")\n",
    "    viscosity = np.array(viscosity_file[viscosity_file.columns[4]][1:])\n",
    "    friction = np.array(friction_file[friction_file.columns[2]][1:])\n",
    "    viscosity_limits_idx = np.where((viscosity<viscosity_limits[1]) & (viscosity>viscosity_limits[0]))[0]\n",
    "    time = viscosity_limits_idx \n",
    "    if plot_for_all_data : \n",
    "        time = np.asarray(range(1,len(dataset.tlist[1:])))\n",
    "        viscosity_text = \" for all timesteps\"\n",
    "    else:\n",
    "        viscosity_text = \" relative viscosity range=\"+ str(viscosity_limits)\n",
    "#     print time\n",
    "    plt.style.use(\"ggplot\")\n",
    "    plt.figure(figsize=[10,12])\n",
    "    for gap in gaps:\n",
    "        s_data = np.asarray([])\n",
    "        ns_data = np.asarray([])\n",
    "        for i,t in enumerate([dataset.tlist[i] for i in time]):\n",
    "            progress_1.value = int(float(i)/len(time)*100)\n",
    "            try:\n",
    "                if cache_file.has_data(t,\"cluster_size_distribution_gap_\"+str(gap)):\n",
    "                    label_cache.value = \"loading data for t=\"+str(t)\n",
    "                    s, ns = cache_file.load_data(t,\"cluster_size_distribution_gap_\"+str(gap))\n",
    "                    idx = np.where(ns != 0)[0]\n",
    "                    s_data = np.concatenate([s_data , s[idx]])\n",
    "                    ns_data = np.concatenate([ns_data , ns[idx]])\n",
    "                    label1.value = str(s[idx])\n",
    "                else:\n",
    "                    dataset.load_state(t)\n",
    "                    s, ns = dataset.get_quantity(\"cluster_size_distribution\", gap = gap, update=True)\n",
    "                    cache_file.save_data(t,{\"cluster_size_distribution_gap_\"+str(gap):[s, ns]})\n",
    "                    idx = np.where(ns != 0)[0]\n",
    "                    s_data = np.concatenate([s_data , s[idx]])\n",
    "                    ns_data = np.concatenate([ns_data , ns[idx]])\n",
    "                    label1.value = str(s[idx])\n",
    "            except Exception as e:\n",
    "                print e\n",
    "        uniq_sizes = np.unique(s_data)\n",
    "        ns_data_cumulative = np.zeros_like(uniq_sizes)\n",
    "        for i, item in enumerate(uniq_sizes):\n",
    "            idx_uniq = np.where(s_data == item)[0]\n",
    "            ns_data_cumulative[i] = sum(ns_data[idx_uniq])\n",
    "            \n",
    "        x,y = uniq_sizes, ns_data_cumulative\n",
    "    #     x_new = np.linspace(x[0], x[-1], num=len(x)*10)\n",
    "    #     import numpy.polynomial.polynomial as poly\n",
    "    #     coefs = poly.polyfit(x, y, 20)\n",
    "    #     ffit = poly.polyval(x_new, coefs)\n",
    "        def zipfs(k,s,N):\n",
    "            denom = sum([1.0/i**s for i in range(1,int(N+1))])\n",
    "            num = 1.0/k**s\n",
    "            return num/denom\n",
    "\n",
    "        \n",
    "        plt.subplot(3,1,1)\n",
    "        plt.loglog(x,  y/float(max(y)),'x')\n",
    "        plt.loglog(x,  y/float(max(y)), linewidth=1.0,label=\"gap=\"+str(gap))\n",
    "        #uncomment to enable zipf's law visualization\n",
    "    #     plt.loglog(range(1,int(max(x))),  [zipfs(i,alpha,max(x)) for i in range(1,int(max(x)))],label= \"zipfs law\")\n",
    "    #     plt.plot(x_new, ffit, 'r')\n",
    "        plt.legend(loc=\"best\")\n",
    "        plt.xlim([0,1e3])\n",
    "        plt.ylim([1e-5,2])\n",
    "        plt.xlabel(\"N\")\n",
    "        plt.ylabel(\"P(N)\")\n",
    "        plt.suptitle(path+\" gap=\"+str(gaps)+viscosity_text)\n",
    "    \n",
    "    plt.subplot(3,1,2)\n",
    "    plt.plot(range(len(viscosity)), viscosity, 'b')\n",
    "    if not plot_for_all_data:\n",
    "        plt.plot(viscosity_limits_idx, viscosity[viscosity_limits_idx],'rx', label=\"used data points\")\n",
    "    else:\n",
    "        plt.plot(range(len(viscosity)), viscosity,'rx', label=\"used data points\")\n",
    "    plt.legend(loc=\"best\")\n",
    "    plt.xlabel(\"timesteps\")\n",
    "    plt.ylabel(\"relative viscosity\")\n",
    "    plt.yscale(\"log\")\n",
    "    \n",
    "    plt.subplot(3,1,3)\n",
    "    plt.plot(range(len(friction)), friction, 'b')\n",
    "    plt.legend(loc=\"best\")\n",
    "    plt.xlabel(\"timesteps\")\n",
    "    plt.ylabel(\"frictional stress\")\n",
    "    plt.yscale(\"linear\")\n",
    "    \n",
    "    print uniq_sizes, ns_data_cumulative\n",
    "    \n",
    "widget_cluster_size_vs_cluster_probability_matplotlib = interactive(cluster_size_vs_cluster_probability_matplotlib, \\\n",
    "    path_text_input = widgets.Text(value=\"\"),\\\n",
    "    phi = widgets.ToggleButtons(options=[40,45,50,54,55,56,58],value=56,disabled=False), \\\n",
    "    shearrate= widgets.ToggleButtons(options=[1,10,11,11.5,12,12.5,13,14,15,16,18,20,30,50,70,100,200,300,1000], value = 12),\\\n",
    "    time = widgets.IntRangeSlider(value = [1,1000] ,min = 1, max =1000 ),\\\n",
    "    plot_for_all_data = widgets.ToggleButtons(options = [True,False], value=False),\\\n",
    "    gaps = widgets.SelectMultiple(options=[9e-8,6.7e-8,4e-8,1e-8], value = [9e-8,6.7e-8]),\\\n",
    "    alpha = widgets.FloatText(value = 2.5),\\\n",
    "    viscosity_limits = widgets.IntRangeSlider(value=[0,100], min = 0, max = 1000000),\\\n",
    "    __manual = True)\n",
    "display(widget_cluster_size_vs_cluster_probability_matplotlib)\n",
    "display(label1)\n",
    "display(progress_1)\n",
    "display(label_cache)\n",
    "# for i,item in enumerate(pdf_average.children):\n",
    "#     print i, item.description \n",
    "# display(widget_cluster_size_distribution_matplotlib)\n",
    "# display(widgets.HBox(cluster_size_distribution.children[4:]))"
   ]
  },
  {
   "cell_type": "code",
   "execution_count": 27,
   "metadata": {
    "collapsed": false,
    "scrolled": false
   },
   "outputs": [],
   "source": [
    "label1 = widgets.Label(\"\")\n",
    "label_cache = widgets.Label(value = \"\")\n",
    "progress1 = widgets.IntProgress(min = 0, max = 100, value = 0)\n",
    "\n",
    "def cluster_size_vs_cluster_probability_all_matplotlib(phi,shearrates,gap,alpha):\n",
    "    s_data = np.asarray([])\n",
    "    ns_data = np.asarray([])\n",
    "    for shearrate in shearrates:\n",
    "        try:\n",
    "            path = \"rhor1_phi\"+str(phi)+\"_yd\"+str(float(shearrate))\n",
    "            dataset = sp.reader.DataSet(path,particles=True, fluid=True)\n",
    "            print path\n",
    "            cache_file = cache(cachefile=dataset.cachefile)\n",
    "            for i,t in enumerate(dataset.tlist[1:]):\n",
    "                progress1.value = int(float(i)/len(dataset.tlist[1:])*100)\n",
    "                try:\n",
    "                    if cache_file.has_data(t,\"cluster_size_distribution_gap_\"+str(gap)):\n",
    "                        label_cache.value = \"loading data for t=\"+str(t)\n",
    "                        s, ns = cache_file.load_data(t,\"cluster_size_distribution_gap_\"+str(gap))\n",
    "                        idx = np.where(ns != 0)[0]\n",
    "                        s_data = np.concatenate([s_data , s[idx]])\n",
    "                        ns_data = np.concatenate([ns_data , ns[idx]])\n",
    "                        label1.value = path+\" \"+str(s[idx])\n",
    "                    else:\n",
    "                        dataset.load_state(t)\n",
    "                        label_cache.value = \"creating and saving data for t=\"+str(t)\n",
    "                        s, ns = dataset.get_quantity(\"cluster_size_distribution\", gap = gap, update=True)\n",
    "                        cache_file.save_data(t,{\"cluster_size_distribution_gap_\"+str(gap):[s, ns]})\n",
    "                        idx = np.where(ns != 0)[0]\n",
    "                        s_data = np.concatenate([s_data , s[idx]])\n",
    "                        ns_data = np.concatenate([ns_data , ns[idx]])\n",
    "                        label1.value = str(s[idx])\n",
    "                except Exception as e:\n",
    "                    print e\n",
    "        except Exception as e:\n",
    "            print e\n",
    "    \n",
    "    uniq_sizes = np.unique(s_data)\n",
    "    ns_data_cumulative = np.zeros_like(uniq_sizes)\n",
    "    for i, item in enumerate(uniq_sizes):\n",
    "        idx_uniq = np.where(s_data == item)[0]\n",
    "        ns_data_cumulative[i] = sum(ns_data[idx_uniq])\n",
    "\n",
    "    x,y = uniq_sizes, ns_data_cumulative\n",
    "#     x_new = np.linspace(x[0], x[-1], num=len(x)*10)\n",
    "#     import numpy.polynomial.polynomial as poly\n",
    "#     coefs = poly.polyfit(x, y, 20)\n",
    "#     ffit = poly.polyval(x_new, coefs)\n",
    "#     def zipfs(k,s,N):\n",
    "#         denom = sum([1.0/i**s for i in range(1,int(N+1))])\n",
    "#         num = 1.0/k**s\n",
    "#         return num/denom\n",
    "\n",
    "\n",
    "#     plt.subplot(3,1,1)\n",
    "    plt.style.use(\"ggplot\")\n",
    "    plt.figure()\n",
    "    plt.loglog(x,  y/float(max(y)),'x')\n",
    "    plt.loglog(x,  y/float(max(y)), linewidth=1.0,label=\"gap=\"+str(gap))\n",
    "    #uncomment to enable zipf's law visualization\n",
    "#     plt.loglog(range(1,int(max(x))),  [zipfs(i,alpha,max(x)) for i in range(1,int(max(x)))],label= \"zipfs law\")\n",
    "#     plt.plot(x_new, ffit, 'r')\n",
    "    plt.legend(loc=\"best\")\n",
    "    plt.xlim([0,1e3])\n",
    "    plt.ylim([1e-6,2])\n",
    "    plt.xlabel(\"N\")\n",
    "    plt.ylabel(\"P(N)\")\n",
    "    name = \"phi\"+str(phi)+\"_yd_\"\n",
    "    for j in shearrates: name += str(j).replace('.','_')+\"_\"\n",
    "    plt.suptitle(name+\"_gap=\"+str(gap))\n",
    "#     plt.savefig(name+str(gap))\n",
    "#     plt.suptitle(path+\" gap=\"+str(gap))\n",
    "    print uniq_sizes, ns_data_cumulative\n",
    "    \n",
    "widget_cluster_size_vs_cluster_probability_all_matplotlib = interactive(cluster_size_vs_cluster_probability_all_matplotlib, \\\n",
    "    phi = widgets.ToggleButtons(options=[40,45,50,54,55,56,58],value=56,disabled=False), \\\n",
    "    shearrates= widgets.SelectMultiple(options=[1,10,11,11.5,12,12.5,13,14,15,16,18,20,30,50,70,100,200,300,1000]),\\\n",
    "    time = widgets.IntRangeSlider(value = [1,1000] ,min = 1, max =1000 ),\\\n",
    "    plot_for_all_data = widgets.ToggleButtons(options = [True,False], value=False),\\\n",
    "    gap = widgets.RadioButtons(options=[9e-8,6.7e-8,4e-8,1e-8], value = 9e-8),\\\n",
    "    alpha = widgets.FloatText(value = 2.5),\\\n",
    "    viscosity_limits = widgets.IntRangeSlider(value=[0,100], min = 0, max = 1000000),\\\n",
    "    __manual = True)\n",
    "display(widget_cluster_size_vs_cluster_probability_all_matplotlib)\n",
    "display(label1)\n",
    "display(progress1)\n",
    "display(label_cache)\n",
    "# for i,item in enumerate(pdf_average.children):\n",
    "#     print i, item.description \n",
    "# display(widget_cluster_size_distribution_matplotlib)\n",
    "# display(widgets.HBox(cluster_size_distribution.children[4:]))"
   ]
  },
  {
   "cell_type": "code",
   "execution_count": 48,
   "metadata": {
    "collapsed": false,
    "scrolled": false
   },
   "outputs": [
    {
     "name": "stdout",
     "output_type": "stream",
     "text": [
      "325 steps available\n"
     ]
    },
    {
     "data": {
      "application/javascript": [
       "/* Put everything inside the global mpl namespace */\n",
       "window.mpl = {};\n",
       "\n",
       "mpl.get_websocket_type = function() {\n",
       "    if (typeof(WebSocket) !== 'undefined') {\n",
       "        return WebSocket;\n",
       "    } else if (typeof(MozWebSocket) !== 'undefined') {\n",
       "        return MozWebSocket;\n",
       "    } else {\n",
       "        alert('Your browser does not have WebSocket support.' +\n",
       "              'Please try Chrome, Safari or Firefox ≥ 6. ' +\n",
       "              'Firefox 4 and 5 are also supported but you ' +\n",
       "              'have to enable WebSockets in about:config.');\n",
       "    };\n",
       "}\n",
       "\n",
       "mpl.figure = function(figure_id, websocket, ondownload, parent_element) {\n",
       "    this.id = figure_id;\n",
       "\n",
       "    this.ws = websocket;\n",
       "\n",
       "    this.supports_binary = (this.ws.binaryType != undefined);\n",
       "\n",
       "    if (!this.supports_binary) {\n",
       "        var warnings = document.getElementById(\"mpl-warnings\");\n",
       "        if (warnings) {\n",
       "            warnings.style.display = 'block';\n",
       "            warnings.textContent = (\n",
       "                \"This browser does not support binary websocket messages. \" +\n",
       "                    \"Performance may be slow.\");\n",
       "        }\n",
       "    }\n",
       "\n",
       "    this.imageObj = new Image();\n",
       "\n",
       "    this.context = undefined;\n",
       "    this.message = undefined;\n",
       "    this.canvas = undefined;\n",
       "    this.rubberband_canvas = undefined;\n",
       "    this.rubberband_context = undefined;\n",
       "    this.format_dropdown = undefined;\n",
       "\n",
       "    this.image_mode = 'full';\n",
       "\n",
       "    this.root = $('<div/>');\n",
       "    this._root_extra_style(this.root)\n",
       "    this.root.attr('style', 'display: inline-block');\n",
       "\n",
       "    $(parent_element).append(this.root);\n",
       "\n",
       "    this._init_header(this);\n",
       "    this._init_canvas(this);\n",
       "    this._init_toolbar(this);\n",
       "\n",
       "    var fig = this;\n",
       "\n",
       "    this.waiting = false;\n",
       "\n",
       "    this.ws.onopen =  function () {\n",
       "            fig.send_message(\"supports_binary\", {value: fig.supports_binary});\n",
       "            fig.send_message(\"send_image_mode\", {});\n",
       "            fig.send_message(\"refresh\", {});\n",
       "        }\n",
       "\n",
       "    this.imageObj.onload = function() {\n",
       "            if (fig.image_mode == 'full') {\n",
       "                // Full images could contain transparency (where diff images\n",
       "                // almost always do), so we need to clear the canvas so that\n",
       "                // there is no ghosting.\n",
       "                fig.context.clearRect(0, 0, fig.canvas.width, fig.canvas.height);\n",
       "            }\n",
       "            fig.context.drawImage(fig.imageObj, 0, 0);\n",
       "        };\n",
       "\n",
       "    this.imageObj.onunload = function() {\n",
       "        this.ws.close();\n",
       "    }\n",
       "\n",
       "    this.ws.onmessage = this._make_on_message_function(this);\n",
       "\n",
       "    this.ondownload = ondownload;\n",
       "}\n",
       "\n",
       "mpl.figure.prototype._init_header = function() {\n",
       "    var titlebar = $(\n",
       "        '<div class=\"ui-dialog-titlebar ui-widget-header ui-corner-all ' +\n",
       "        'ui-helper-clearfix\"/>');\n",
       "    var titletext = $(\n",
       "        '<div class=\"ui-dialog-title\" style=\"width: 100%; ' +\n",
       "        'text-align: center; padding: 3px;\"/>');\n",
       "    titlebar.append(titletext)\n",
       "    this.root.append(titlebar);\n",
       "    this.header = titletext[0];\n",
       "}\n",
       "\n",
       "\n",
       "\n",
       "mpl.figure.prototype._canvas_extra_style = function(canvas_div) {\n",
       "\n",
       "}\n",
       "\n",
       "\n",
       "mpl.figure.prototype._root_extra_style = function(canvas_div) {\n",
       "\n",
       "}\n",
       "\n",
       "mpl.figure.prototype._init_canvas = function() {\n",
       "    var fig = this;\n",
       "\n",
       "    var canvas_div = $('<div/>');\n",
       "\n",
       "    canvas_div.attr('style', 'position: relative; clear: both; outline: 0');\n",
       "\n",
       "    function canvas_keyboard_event(event) {\n",
       "        return fig.key_event(event, event['data']);\n",
       "    }\n",
       "\n",
       "    canvas_div.keydown('key_press', canvas_keyboard_event);\n",
       "    canvas_div.keyup('key_release', canvas_keyboard_event);\n",
       "    this.canvas_div = canvas_div\n",
       "    this._canvas_extra_style(canvas_div)\n",
       "    this.root.append(canvas_div);\n",
       "\n",
       "    var canvas = $('<canvas/>');\n",
       "    canvas.addClass('mpl-canvas');\n",
       "    canvas.attr('style', \"left: 0; top: 0; z-index: 0; outline: 0\")\n",
       "\n",
       "    this.canvas = canvas[0];\n",
       "    this.context = canvas[0].getContext(\"2d\");\n",
       "\n",
       "    var rubberband = $('<canvas/>');\n",
       "    rubberband.attr('style', \"position: absolute; left: 0; top: 0; z-index: 1;\")\n",
       "\n",
       "    var pass_mouse_events = true;\n",
       "\n",
       "    canvas_div.resizable({\n",
       "        start: function(event, ui) {\n",
       "            pass_mouse_events = false;\n",
       "        },\n",
       "        resize: function(event, ui) {\n",
       "            fig.request_resize(ui.size.width, ui.size.height);\n",
       "        },\n",
       "        stop: function(event, ui) {\n",
       "            pass_mouse_events = true;\n",
       "            fig.request_resize(ui.size.width, ui.size.height);\n",
       "        },\n",
       "    });\n",
       "\n",
       "    function mouse_event_fn(event) {\n",
       "        if (pass_mouse_events)\n",
       "            return fig.mouse_event(event, event['data']);\n",
       "    }\n",
       "\n",
       "    rubberband.mousedown('button_press', mouse_event_fn);\n",
       "    rubberband.mouseup('button_release', mouse_event_fn);\n",
       "    // Throttle sequential mouse events to 1 every 20ms.\n",
       "    rubberband.mousemove('motion_notify', mouse_event_fn);\n",
       "\n",
       "    rubberband.mouseenter('figure_enter', mouse_event_fn);\n",
       "    rubberband.mouseleave('figure_leave', mouse_event_fn);\n",
       "\n",
       "    canvas_div.on(\"wheel\", function (event) {\n",
       "        event = event.originalEvent;\n",
       "        event['data'] = 'scroll'\n",
       "        if (event.deltaY < 0) {\n",
       "            event.step = 1;\n",
       "        } else {\n",
       "            event.step = -1;\n",
       "        }\n",
       "        mouse_event_fn(event);\n",
       "    });\n",
       "\n",
       "    canvas_div.append(canvas);\n",
       "    canvas_div.append(rubberband);\n",
       "\n",
       "    this.rubberband = rubberband;\n",
       "    this.rubberband_canvas = rubberband[0];\n",
       "    this.rubberband_context = rubberband[0].getContext(\"2d\");\n",
       "    this.rubberband_context.strokeStyle = \"#000000\";\n",
       "\n",
       "    this._resize_canvas = function(width, height) {\n",
       "        // Keep the size of the canvas, canvas container, and rubber band\n",
       "        // canvas in synch.\n",
       "        canvas_div.css('width', width)\n",
       "        canvas_div.css('height', height)\n",
       "\n",
       "        canvas.attr('width', width);\n",
       "        canvas.attr('height', height);\n",
       "\n",
       "        rubberband.attr('width', width);\n",
       "        rubberband.attr('height', height);\n",
       "    }\n",
       "\n",
       "    // Set the figure to an initial 600x600px, this will subsequently be updated\n",
       "    // upon first draw.\n",
       "    this._resize_canvas(600, 600);\n",
       "\n",
       "    // Disable right mouse context menu.\n",
       "    $(this.rubberband_canvas).bind(\"contextmenu\",function(e){\n",
       "        return false;\n",
       "    });\n",
       "\n",
       "    function set_focus () {\n",
       "        canvas.focus();\n",
       "        canvas_div.focus();\n",
       "    }\n",
       "\n",
       "    window.setTimeout(set_focus, 100);\n",
       "}\n",
       "\n",
       "mpl.figure.prototype._init_toolbar = function() {\n",
       "    var fig = this;\n",
       "\n",
       "    var nav_element = $('<div/>')\n",
       "    nav_element.attr('style', 'width: 100%');\n",
       "    this.root.append(nav_element);\n",
       "\n",
       "    // Define a callback function for later on.\n",
       "    function toolbar_event(event) {\n",
       "        return fig.toolbar_button_onclick(event['data']);\n",
       "    }\n",
       "    function toolbar_mouse_event(event) {\n",
       "        return fig.toolbar_button_onmouseover(event['data']);\n",
       "    }\n",
       "\n",
       "    for(var toolbar_ind in mpl.toolbar_items) {\n",
       "        var name = mpl.toolbar_items[toolbar_ind][0];\n",
       "        var tooltip = mpl.toolbar_items[toolbar_ind][1];\n",
       "        var image = mpl.toolbar_items[toolbar_ind][2];\n",
       "        var method_name = mpl.toolbar_items[toolbar_ind][3];\n",
       "\n",
       "        if (!name) {\n",
       "            // put a spacer in here.\n",
       "            continue;\n",
       "        }\n",
       "        var button = $('<button/>');\n",
       "        button.addClass('ui-button ui-widget ui-state-default ui-corner-all ' +\n",
       "                        'ui-button-icon-only');\n",
       "        button.attr('role', 'button');\n",
       "        button.attr('aria-disabled', 'false');\n",
       "        button.click(method_name, toolbar_event);\n",
       "        button.mouseover(tooltip, toolbar_mouse_event);\n",
       "\n",
       "        var icon_img = $('<span/>');\n",
       "        icon_img.addClass('ui-button-icon-primary ui-icon');\n",
       "        icon_img.addClass(image);\n",
       "        icon_img.addClass('ui-corner-all');\n",
       "\n",
       "        var tooltip_span = $('<span/>');\n",
       "        tooltip_span.addClass('ui-button-text');\n",
       "        tooltip_span.html(tooltip);\n",
       "\n",
       "        button.append(icon_img);\n",
       "        button.append(tooltip_span);\n",
       "\n",
       "        nav_element.append(button);\n",
       "    }\n",
       "\n",
       "    var fmt_picker_span = $('<span/>');\n",
       "\n",
       "    var fmt_picker = $('<select/>');\n",
       "    fmt_picker.addClass('mpl-toolbar-option ui-widget ui-widget-content');\n",
       "    fmt_picker_span.append(fmt_picker);\n",
       "    nav_element.append(fmt_picker_span);\n",
       "    this.format_dropdown = fmt_picker[0];\n",
       "\n",
       "    for (var ind in mpl.extensions) {\n",
       "        var fmt = mpl.extensions[ind];\n",
       "        var option = $(\n",
       "            '<option/>', {selected: fmt === mpl.default_extension}).html(fmt);\n",
       "        fmt_picker.append(option)\n",
       "    }\n",
       "\n",
       "    // Add hover states to the ui-buttons\n",
       "    $( \".ui-button\" ).hover(\n",
       "        function() { $(this).addClass(\"ui-state-hover\");},\n",
       "        function() { $(this).removeClass(\"ui-state-hover\");}\n",
       "    );\n",
       "\n",
       "    var status_bar = $('<span class=\"mpl-message\"/>');\n",
       "    nav_element.append(status_bar);\n",
       "    this.message = status_bar[0];\n",
       "}\n",
       "\n",
       "mpl.figure.prototype.request_resize = function(x_pixels, y_pixels) {\n",
       "    // Request matplotlib to resize the figure. Matplotlib will then trigger a resize in the client,\n",
       "    // which will in turn request a refresh of the image.\n",
       "    this.send_message('resize', {'width': x_pixels, 'height': y_pixels});\n",
       "}\n",
       "\n",
       "mpl.figure.prototype.send_message = function(type, properties) {\n",
       "    properties['type'] = type;\n",
       "    properties['figure_id'] = this.id;\n",
       "    this.ws.send(JSON.stringify(properties));\n",
       "}\n",
       "\n",
       "mpl.figure.prototype.send_draw_message = function() {\n",
       "    if (!this.waiting) {\n",
       "        this.waiting = true;\n",
       "        this.ws.send(JSON.stringify({type: \"draw\", figure_id: this.id}));\n",
       "    }\n",
       "}\n",
       "\n",
       "\n",
       "mpl.figure.prototype.handle_save = function(fig, msg) {\n",
       "    var format_dropdown = fig.format_dropdown;\n",
       "    var format = format_dropdown.options[format_dropdown.selectedIndex].value;\n",
       "    fig.ondownload(fig, format);\n",
       "}\n",
       "\n",
       "\n",
       "mpl.figure.prototype.handle_resize = function(fig, msg) {\n",
       "    var size = msg['size'];\n",
       "    if (size[0] != fig.canvas.width || size[1] != fig.canvas.height) {\n",
       "        fig._resize_canvas(size[0], size[1]);\n",
       "        fig.send_message(\"refresh\", {});\n",
       "    };\n",
       "}\n",
       "\n",
       "mpl.figure.prototype.handle_rubberband = function(fig, msg) {\n",
       "    var x0 = msg['x0'];\n",
       "    var y0 = fig.canvas.height - msg['y0'];\n",
       "    var x1 = msg['x1'];\n",
       "    var y1 = fig.canvas.height - msg['y1'];\n",
       "    x0 = Math.floor(x0) + 0.5;\n",
       "    y0 = Math.floor(y0) + 0.5;\n",
       "    x1 = Math.floor(x1) + 0.5;\n",
       "    y1 = Math.floor(y1) + 0.5;\n",
       "    var min_x = Math.min(x0, x1);\n",
       "    var min_y = Math.min(y0, y1);\n",
       "    var width = Math.abs(x1 - x0);\n",
       "    var height = Math.abs(y1 - y0);\n",
       "\n",
       "    fig.rubberband_context.clearRect(\n",
       "        0, 0, fig.canvas.width, fig.canvas.height);\n",
       "\n",
       "    fig.rubberband_context.strokeRect(min_x, min_y, width, height);\n",
       "}\n",
       "\n",
       "mpl.figure.prototype.handle_figure_label = function(fig, msg) {\n",
       "    // Updates the figure title.\n",
       "    fig.header.textContent = msg['label'];\n",
       "}\n",
       "\n",
       "mpl.figure.prototype.handle_cursor = function(fig, msg) {\n",
       "    var cursor = msg['cursor'];\n",
       "    switch(cursor)\n",
       "    {\n",
       "    case 0:\n",
       "        cursor = 'pointer';\n",
       "        break;\n",
       "    case 1:\n",
       "        cursor = 'default';\n",
       "        break;\n",
       "    case 2:\n",
       "        cursor = 'crosshair';\n",
       "        break;\n",
       "    case 3:\n",
       "        cursor = 'move';\n",
       "        break;\n",
       "    }\n",
       "    fig.rubberband_canvas.style.cursor = cursor;\n",
       "}\n",
       "\n",
       "mpl.figure.prototype.handle_message = function(fig, msg) {\n",
       "    fig.message.textContent = msg['message'];\n",
       "}\n",
       "\n",
       "mpl.figure.prototype.handle_draw = function(fig, msg) {\n",
       "    // Request the server to send over a new figure.\n",
       "    fig.send_draw_message();\n",
       "}\n",
       "\n",
       "mpl.figure.prototype.handle_image_mode = function(fig, msg) {\n",
       "    fig.image_mode = msg['mode'];\n",
       "}\n",
       "\n",
       "mpl.figure.prototype.updated_canvas_event = function() {\n",
       "    // Called whenever the canvas gets updated.\n",
       "    this.send_message(\"ack\", {});\n",
       "}\n",
       "\n",
       "// A function to construct a web socket function for onmessage handling.\n",
       "// Called in the figure constructor.\n",
       "mpl.figure.prototype._make_on_message_function = function(fig) {\n",
       "    return function socket_on_message(evt) {\n",
       "        if (evt.data instanceof Blob) {\n",
       "            /* FIXME: We get \"Resource interpreted as Image but\n",
       "             * transferred with MIME type text/plain:\" errors on\n",
       "             * Chrome.  But how to set the MIME type?  It doesn't seem\n",
       "             * to be part of the websocket stream */\n",
       "            evt.data.type = \"image/png\";\n",
       "\n",
       "            /* Free the memory for the previous frames */\n",
       "            if (fig.imageObj.src) {\n",
       "                (window.URL || window.webkitURL).revokeObjectURL(\n",
       "                    fig.imageObj.src);\n",
       "            }\n",
       "\n",
       "            fig.imageObj.src = (window.URL || window.webkitURL).createObjectURL(\n",
       "                evt.data);\n",
       "            fig.updated_canvas_event();\n",
       "            fig.waiting = false;\n",
       "            return;\n",
       "        }\n",
       "        else if (typeof evt.data === 'string' && evt.data.slice(0, 21) == \"data:image/png;base64\") {\n",
       "            fig.imageObj.src = evt.data;\n",
       "            fig.updated_canvas_event();\n",
       "            fig.waiting = false;\n",
       "            return;\n",
       "        }\n",
       "\n",
       "        var msg = JSON.parse(evt.data);\n",
       "        var msg_type = msg['type'];\n",
       "\n",
       "        // Call the  \"handle_{type}\" callback, which takes\n",
       "        // the figure and JSON message as its only arguments.\n",
       "        try {\n",
       "            var callback = fig[\"handle_\" + msg_type];\n",
       "        } catch (e) {\n",
       "            console.log(\"No handler for the '\" + msg_type + \"' message type: \", msg);\n",
       "            return;\n",
       "        }\n",
       "\n",
       "        if (callback) {\n",
       "            try {\n",
       "                // console.log(\"Handling '\" + msg_type + \"' message: \", msg);\n",
       "                callback(fig, msg);\n",
       "            } catch (e) {\n",
       "                console.log(\"Exception inside the 'handler_\" + msg_type + \"' callback:\", e, e.stack, msg);\n",
       "            }\n",
       "        }\n",
       "    };\n",
       "}\n",
       "\n",
       "// from http://stackoverflow.com/questions/1114465/getting-mouse-location-in-canvas\n",
       "mpl.findpos = function(e) {\n",
       "    //this section is from http://www.quirksmode.org/js/events_properties.html\n",
       "    var targ;\n",
       "    if (!e)\n",
       "        e = window.event;\n",
       "    if (e.target)\n",
       "        targ = e.target;\n",
       "    else if (e.srcElement)\n",
       "        targ = e.srcElement;\n",
       "    if (targ.nodeType == 3) // defeat Safari bug\n",
       "        targ = targ.parentNode;\n",
       "\n",
       "    // jQuery normalizes the pageX and pageY\n",
       "    // pageX,Y are the mouse positions relative to the document\n",
       "    // offset() returns the position of the element relative to the document\n",
       "    var x = e.pageX - $(targ).offset().left;\n",
       "    var y = e.pageY - $(targ).offset().top;\n",
       "\n",
       "    return {\"x\": x, \"y\": y};\n",
       "};\n",
       "\n",
       "/*\n",
       " * return a copy of an object with only non-object keys\n",
       " * we need this to avoid circular references\n",
       " * http://stackoverflow.com/a/24161582/3208463\n",
       " */\n",
       "function simpleKeys (original) {\n",
       "  return Object.keys(original).reduce(function (obj, key) {\n",
       "    if (typeof original[key] !== 'object')\n",
       "        obj[key] = original[key]\n",
       "    return obj;\n",
       "  }, {});\n",
       "}\n",
       "\n",
       "mpl.figure.prototype.mouse_event = function(event, name) {\n",
       "    var canvas_pos = mpl.findpos(event)\n",
       "\n",
       "    if (name === 'button_press')\n",
       "    {\n",
       "        this.canvas.focus();\n",
       "        this.canvas_div.focus();\n",
       "    }\n",
       "\n",
       "    var x = canvas_pos.x;\n",
       "    var y = canvas_pos.y;\n",
       "\n",
       "    this.send_message(name, {x: x, y: y, button: event.button,\n",
       "                             step: event.step,\n",
       "                             guiEvent: simpleKeys(event)});\n",
       "\n",
       "    /* This prevents the web browser from automatically changing to\n",
       "     * the text insertion cursor when the button is pressed.  We want\n",
       "     * to control all of the cursor setting manually through the\n",
       "     * 'cursor' event from matplotlib */\n",
       "    event.preventDefault();\n",
       "    return false;\n",
       "}\n",
       "\n",
       "mpl.figure.prototype._key_event_extra = function(event, name) {\n",
       "    // Handle any extra behaviour associated with a key event\n",
       "}\n",
       "\n",
       "mpl.figure.prototype.key_event = function(event, name) {\n",
       "\n",
       "    // Prevent repeat events\n",
       "    if (name == 'key_press')\n",
       "    {\n",
       "        if (event.which === this._key)\n",
       "            return;\n",
       "        else\n",
       "            this._key = event.which;\n",
       "    }\n",
       "    if (name == 'key_release')\n",
       "        this._key = null;\n",
       "\n",
       "    var value = '';\n",
       "    if (event.ctrlKey && event.which != 17)\n",
       "        value += \"ctrl+\";\n",
       "    if (event.altKey && event.which != 18)\n",
       "        value += \"alt+\";\n",
       "    if (event.shiftKey && event.which != 16)\n",
       "        value += \"shift+\";\n",
       "\n",
       "    value += 'k';\n",
       "    value += event.which.toString();\n",
       "\n",
       "    this._key_event_extra(event, name);\n",
       "\n",
       "    this.send_message(name, {key: value,\n",
       "                             guiEvent: simpleKeys(event)});\n",
       "    return false;\n",
       "}\n",
       "\n",
       "mpl.figure.prototype.toolbar_button_onclick = function(name) {\n",
       "    if (name == 'download') {\n",
       "        this.handle_save(this, null);\n",
       "    } else {\n",
       "        this.send_message(\"toolbar_button\", {name: name});\n",
       "    }\n",
       "};\n",
       "\n",
       "mpl.figure.prototype.toolbar_button_onmouseover = function(tooltip) {\n",
       "    this.message.textContent = tooltip;\n",
       "};\n",
       "mpl.toolbar_items = [[\"Home\", \"Reset original view\", \"fa fa-home icon-home\", \"home\"], [\"Back\", \"Back to  previous view\", \"fa fa-arrow-left icon-arrow-left\", \"back\"], [\"Forward\", \"Forward to next view\", \"fa fa-arrow-right icon-arrow-right\", \"forward\"], [\"\", \"\", \"\", \"\"], [\"Pan\", \"Pan axes with left mouse, zoom with right\", \"fa fa-arrows icon-move\", \"pan\"], [\"Zoom\", \"Zoom to rectangle\", \"fa fa-square-o icon-check-empty\", \"zoom\"], [\"\", \"\", \"\", \"\"], [\"Download\", \"Download plot\", \"fa fa-floppy-o icon-save\", \"download\"]];\n",
       "\n",
       "mpl.extensions = [\"eps\", \"jpeg\", \"pdf\", \"png\", \"ps\", \"raw\", \"svg\", \"tif\"];\n",
       "\n",
       "mpl.default_extension = \"png\";var comm_websocket_adapter = function(comm) {\n",
       "    // Create a \"websocket\"-like object which calls the given IPython comm\n",
       "    // object with the appropriate methods. Currently this is a non binary\n",
       "    // socket, so there is still some room for performance tuning.\n",
       "    var ws = {};\n",
       "\n",
       "    ws.close = function() {\n",
       "        comm.close()\n",
       "    };\n",
       "    ws.send = function(m) {\n",
       "        //console.log('sending', m);\n",
       "        comm.send(m);\n",
       "    };\n",
       "    // Register the callback with on_msg.\n",
       "    comm.on_msg(function(msg) {\n",
       "        //console.log('receiving', msg['content']['data'], msg);\n",
       "        // Pass the mpl event to the overriden (by mpl) onmessage function.\n",
       "        ws.onmessage(msg['content']['data'])\n",
       "    });\n",
       "    return ws;\n",
       "}\n",
       "\n",
       "mpl.mpl_figure_comm = function(comm, msg) {\n",
       "    // This is the function which gets called when the mpl process\n",
       "    // starts-up an IPython Comm through the \"matplotlib\" channel.\n",
       "\n",
       "    var id = msg.content.data.id;\n",
       "    // Get hold of the div created by the display call when the Comm\n",
       "    // socket was opened in Python.\n",
       "    var element = $(\"#\" + id);\n",
       "    var ws_proxy = comm_websocket_adapter(comm)\n",
       "\n",
       "    function ondownload(figure, format) {\n",
       "        window.open(figure.imageObj.src);\n",
       "    }\n",
       "\n",
       "    var fig = new mpl.figure(id, ws_proxy,\n",
       "                           ondownload,\n",
       "                           element.get(0));\n",
       "\n",
       "    // Call onopen now - mpl needs it, as it is assuming we've passed it a real\n",
       "    // web socket which is closed, not our websocket->open comm proxy.\n",
       "    ws_proxy.onopen();\n",
       "\n",
       "    fig.parent_element = element.get(0);\n",
       "    fig.cell_info = mpl.find_output_cell(\"<div id='\" + id + \"'></div>\");\n",
       "    if (!fig.cell_info) {\n",
       "        console.error(\"Failed to find cell for figure\", id, fig);\n",
       "        return;\n",
       "    }\n",
       "\n",
       "    var output_index = fig.cell_info[2]\n",
       "    var cell = fig.cell_info[0];\n",
       "\n",
       "};\n",
       "\n",
       "mpl.figure.prototype.handle_close = function(fig, msg) {\n",
       "    fig.root.unbind('remove')\n",
       "\n",
       "    // Update the output cell to use the data from the current canvas.\n",
       "    fig.push_to_output();\n",
       "    var dataURL = fig.canvas.toDataURL();\n",
       "    // Re-enable the keyboard manager in IPython - without this line, in FF,\n",
       "    // the notebook keyboard shortcuts fail.\n",
       "    IPython.keyboard_manager.enable()\n",
       "    $(fig.parent_element).html('<img src=\"' + dataURL + '\">');\n",
       "    fig.close_ws(fig, msg);\n",
       "}\n",
       "\n",
       "mpl.figure.prototype.close_ws = function(fig, msg){\n",
       "    fig.send_message('closing', msg);\n",
       "    // fig.ws.close()\n",
       "}\n",
       "\n",
       "mpl.figure.prototype.push_to_output = function(remove_interactive) {\n",
       "    // Turn the data on the canvas into data in the output cell.\n",
       "    var dataURL = this.canvas.toDataURL();\n",
       "    this.cell_info[1]['text/html'] = '<img src=\"' + dataURL + '\">';\n",
       "}\n",
       "\n",
       "mpl.figure.prototype.updated_canvas_event = function() {\n",
       "    // Tell IPython that the notebook contents must change.\n",
       "    IPython.notebook.set_dirty(true);\n",
       "    this.send_message(\"ack\", {});\n",
       "    var fig = this;\n",
       "    // Wait a second, then push the new image to the DOM so\n",
       "    // that it is saved nicely (might be nice to debounce this).\n",
       "    setTimeout(function () { fig.push_to_output() }, 1000);\n",
       "}\n",
       "\n",
       "mpl.figure.prototype._init_toolbar = function() {\n",
       "    var fig = this;\n",
       "\n",
       "    var nav_element = $('<div/>')\n",
       "    nav_element.attr('style', 'width: 100%');\n",
       "    this.root.append(nav_element);\n",
       "\n",
       "    // Define a callback function for later on.\n",
       "    function toolbar_event(event) {\n",
       "        return fig.toolbar_button_onclick(event['data']);\n",
       "    }\n",
       "    function toolbar_mouse_event(event) {\n",
       "        return fig.toolbar_button_onmouseover(event['data']);\n",
       "    }\n",
       "\n",
       "    for(var toolbar_ind in mpl.toolbar_items){\n",
       "        var name = mpl.toolbar_items[toolbar_ind][0];\n",
       "        var tooltip = mpl.toolbar_items[toolbar_ind][1];\n",
       "        var image = mpl.toolbar_items[toolbar_ind][2];\n",
       "        var method_name = mpl.toolbar_items[toolbar_ind][3];\n",
       "\n",
       "        if (!name) { continue; };\n",
       "\n",
       "        var button = $('<button class=\"btn btn-default\" href=\"#\" title=\"' + name + '\"><i class=\"fa ' + image + ' fa-lg\"></i></button>');\n",
       "        button.click(method_name, toolbar_event);\n",
       "        button.mouseover(tooltip, toolbar_mouse_event);\n",
       "        nav_element.append(button);\n",
       "    }\n",
       "\n",
       "    // Add the status bar.\n",
       "    var status_bar = $('<span class=\"mpl-message\" style=\"text-align:right; float: right;\"/>');\n",
       "    nav_element.append(status_bar);\n",
       "    this.message = status_bar[0];\n",
       "\n",
       "    // Add the close button to the window.\n",
       "    var buttongrp = $('<div class=\"btn-group inline pull-right\"></div>');\n",
       "    var button = $('<button class=\"btn btn-mini btn-primary\" href=\"#\" title=\"Stop Interaction\"><i class=\"fa fa-power-off icon-remove icon-large\"></i></button>');\n",
       "    button.click(function (evt) { fig.handle_close(fig, {}); } );\n",
       "    button.mouseover('Stop Interaction', toolbar_mouse_event);\n",
       "    buttongrp.append(button);\n",
       "    var titlebar = this.root.find($('.ui-dialog-titlebar'));\n",
       "    titlebar.prepend(buttongrp);\n",
       "}\n",
       "\n",
       "mpl.figure.prototype._root_extra_style = function(el){\n",
       "    var fig = this\n",
       "    el.on(\"remove\", function(){\n",
       "\tfig.close_ws(fig, {});\n",
       "    });\n",
       "}\n",
       "\n",
       "mpl.figure.prototype._canvas_extra_style = function(el){\n",
       "    // this is important to make the div 'focusable\n",
       "    el.attr('tabindex', 0)\n",
       "    // reach out to IPython and tell the keyboard manager to turn it's self\n",
       "    // off when our div gets focus\n",
       "\n",
       "    // location in version 3\n",
       "    if (IPython.notebook.keyboard_manager) {\n",
       "        IPython.notebook.keyboard_manager.register_events(el);\n",
       "    }\n",
       "    else {\n",
       "        // location in version 2\n",
       "        IPython.keyboard_manager.register_events(el);\n",
       "    }\n",
       "\n",
       "}\n",
       "\n",
       "mpl.figure.prototype._key_event_extra = function(event, name) {\n",
       "    var manager = IPython.notebook.keyboard_manager;\n",
       "    if (!manager)\n",
       "        manager = IPython.keyboard_manager;\n",
       "\n",
       "    // Check for shift+enter\n",
       "    if (event.shiftKey && event.which == 13) {\n",
       "        this.canvas_div.blur();\n",
       "        // select the cell after this one\n",
       "        var index = IPython.notebook.find_cell_index(this.cell_info[0]);\n",
       "        IPython.notebook.select(index + 1);\n",
       "    }\n",
       "}\n",
       "\n",
       "mpl.figure.prototype.handle_save = function(fig, msg) {\n",
       "    fig.ondownload(fig, null);\n",
       "}\n",
       "\n",
       "\n",
       "mpl.find_output_cell = function(html_output) {\n",
       "    // Return the cell and output element which can be found *uniquely* in the notebook.\n",
       "    // Note - this is a bit hacky, but it is done because the \"notebook_saving.Notebook\"\n",
       "    // IPython event is triggered only after the cells have been serialised, which for\n",
       "    // our purposes (turning an active figure into a static one), is too late.\n",
       "    var cells = IPython.notebook.get_cells();\n",
       "    var ncells = cells.length;\n",
       "    for (var i=0; i<ncells; i++) {\n",
       "        var cell = cells[i];\n",
       "        if (cell.cell_type === 'code'){\n",
       "            for (var j=0; j<cell.output_area.outputs.length; j++) {\n",
       "                var data = cell.output_area.outputs[j];\n",
       "                if (data.data) {\n",
       "                    // IPython >= 3 moved mimebundle to data attribute of output\n",
       "                    data = data.data;\n",
       "                }\n",
       "                if (data['text/html'] == html_output) {\n",
       "                    return [cell, data, j];\n",
       "                }\n",
       "            }\n",
       "        }\n",
       "    }\n",
       "}\n",
       "\n",
       "// Register the function which deals with the matplotlib target/channel.\n",
       "// The kernel may be null if the page has been refreshed.\n",
       "if (IPython.notebook.kernel != null) {\n",
       "    IPython.notebook.kernel.comm_manager.register_target('matplotlib', mpl.mpl_figure_comm);\n",
       "}\n"
      ],
      "text/plain": [
       "<IPython.core.display.Javascript object>"
      ]
     },
     "metadata": {},
     "output_type": "display_data"
    },
    {
     "data": {
      "text/html": [
       "<img src=\"data:image/png;base64,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\">"
      ],
      "text/plain": [
       "<IPython.core.display.HTML object>"
      ]
     },
     "metadata": {},
     "output_type": "display_data"
    },
    {
     "ename": "ValueError",
     "evalue": "max() arg is an empty sequence",
     "output_type": "error",
     "traceback": [
      "\u001b[0;31m---------------------------------------------------------------------------\u001b[0m",
      "\u001b[0;31mValueError\u001b[0m                                Traceback (most recent call last)",
      "\u001b[0;32m<ipython-input-48-2eb30b31e70b>\u001b[0m in \u001b[0;36mcluster_size_vs_viscosity_matplotlib\u001b[0;34m(path_text_input, phi, shearrate, gaps)\u001b[0m\n\u001b[1;32m     53\u001b[0m \u001b[0;31m#         x,y = uniq_sizes, ns_data_cumulative\u001b[0m\u001b[0;34m\u001b[0m\u001b[0;34m\u001b[0m\u001b[0m\n\u001b[1;32m     54\u001b[0m         \u001b[0mx\u001b[0m\u001b[0;34m,\u001b[0m\u001b[0my\u001b[0m \u001b[0;34m=\u001b[0m \u001b[0mN_typical\u001b[0m\u001b[0;34m,\u001b[0m \u001b[0mviscosity_temp\u001b[0m\u001b[0;34m\u001b[0m\u001b[0m\n\u001b[0;32m---> 55\u001b[0;31m         \u001b[0mplt\u001b[0m\u001b[0;34m.\u001b[0m\u001b[0mplot\u001b[0m\u001b[0;34m(\u001b[0m\u001b[0mx\u001b[0m\u001b[0;34m,\u001b[0m  \u001b[0my\u001b[0m\u001b[0;34m/\u001b[0m\u001b[0mfloat\u001b[0m\u001b[0;34m(\u001b[0m\u001b[0mmax\u001b[0m\u001b[0;34m(\u001b[0m\u001b[0my\u001b[0m\u001b[0;34m)\u001b[0m\u001b[0;34m)\u001b[0m\u001b[0;34m,\u001b[0m\u001b[0;34m'.'\u001b[0m\u001b[0;34m,\u001b[0m\u001b[0mlabel\u001b[0m\u001b[0;34m=\u001b[0m\u001b[0;34m\"gap=\"\u001b[0m\u001b[0;34m+\u001b[0m\u001b[0mstr\u001b[0m\u001b[0;34m(\u001b[0m\u001b[0mgap\u001b[0m\u001b[0;34m)\u001b[0m\u001b[0;34m)\u001b[0m\u001b[0;34m\u001b[0m\u001b[0m\n\u001b[0m\u001b[1;32m     56\u001b[0m \u001b[0;34m\u001b[0m\u001b[0m\n\u001b[1;32m     57\u001b[0m \u001b[0;31m#         plt.loglog(x,  y/float(max(y)), linewidth=1.0,label=\"gap=\"+str(gap))\u001b[0m\u001b[0;34m\u001b[0m\u001b[0;34m\u001b[0m\u001b[0m\n",
      "\u001b[0;31mValueError\u001b[0m: max() arg is an empty sequence"
     ]
    }
   ],
   "source": [
    "label1 = widgets.Label(\"\")\n",
    "label_cache = widgets.Label(value = \"\")\n",
    "progress_1 = widgets.IntProgress(min = 0, max = 100, value = 0)\n",
    "\n",
    "def cluster_size_vs_viscosity_matplotlib(path_text_input,phi,shearrate,gaps):\n",
    "    if len(path_text_input.strip())== 0:\n",
    "        path = \"rhor1_phi\"+str(phi)+\"_yd\"+str(float(shearrate))\n",
    "    else:\n",
    "        path = str(path_text_input)\n",
    "    dataset = sp.reader.DataSet(path,particles=True, fluid=True)\n",
    "    print len(dataset.tlist), \"steps available\"\n",
    "\n",
    "    cache_file = cache(cachefile=dataset.cachefile)\n",
    "    viscosity_file = pd.read_csv(path+\"/result/nu_t.dat\")\n",
    "    viscosity = np.array(viscosity_file[viscosity_file.columns[4]][1:])\n",
    "    \n",
    "    plt.style.use(\"ggplot\")\n",
    "    plt.figure()\n",
    "    for gap in gaps:\n",
    "        s_data = np.asarray([])\n",
    "        ns_data = np.asarray([])\n",
    "        viscosity_temp = np.asarray([])\n",
    "        N_typical = np.asarray([])\n",
    "        for i,t in enumerate(dataset.tlist[1:len(viscosity)]):\n",
    "            progress_1.value = int(float(i)/len(dataset.tlist[1:len(viscosity)])*100)\n",
    "            try:\n",
    "                if cache_file.has_data(t,\"cluster_size_distribution_gap_\"+str(gap)):\n",
    "                    label_cache.value = \"loading data for t=\"+str(t)\n",
    "                    s, ns = cache_file.load_data(t,\"cluster_size_distribution_gap_\"+str(gap))\n",
    "                    idx = np.where(ns != 0)[0]\n",
    "                    s_data = np.concatenate([s_data , s[idx]])\n",
    "                    ns_data = np.concatenate([ns_data , ns[idx]])\n",
    "                    N_typical_temp = np.asarray([sum(np.multiply(s,ns))/float(sum(ns))])\n",
    "                    N_typical = np.concatenate([N_typical, N_typical_temp]) \n",
    "                    viscosity_temp = np.concatenate([viscosity_temp, [viscosity[i]]])\n",
    "                    label1.value = str(s[idx])\n",
    "                else:\n",
    "                    dataset.load_state(t)\n",
    "                    s, ns = dataset.get_quantity(\"cluster_size_distribution\", gap = gap, update=True)\n",
    "                    cache_file.save_data(t,{\"cluster_size_distribution_gap_\"+str(gap):[s, ns]})\n",
    "                    idx = np.where(ns != 0)[0]\n",
    "                    s_data = np.concatenate([s_data , s[idx]])\n",
    "                    ns_data = np.concatenate([ns_data , ns[idx]])\n",
    "                    label1.value = str(s[idx])\n",
    "            except Exception as e:\n",
    "                print e\n",
    "#         uniq_sizes = np.unique(s_data)\n",
    "#         ns_data_cumulative = np.zeros_like(uniq_sizes)\n",
    "#         for i, item in enumerate(uniq_sizes):\n",
    "#             idx_uniq = np.where(s_data == item)[0]\n",
    "#             ns_data_cumulative[i] = sum(ns_data[idx_uniq])\n",
    "            \n",
    "#         x,y = uniq_sizes, ns_data_cumulative\n",
    "        x,y = N_typical, viscosity_temp\n",
    "        plt.plot(x,  y/float(max(y)),'.',label=\"gap=\"+str(gap))\n",
    "        \n",
    "#         plt.loglog(x,  y/float(max(y)), linewidth=1.0,label=\"gap=\"+str(gap))\n",
    "        plt.legend(loc=\"best\")\n",
    "#         plt.xlim([0,1e3])\n",
    "#         plt.ylim([1e-5,2])\n",
    "        plt.xlabel(\"N_typical\")\n",
    "        plt.ylabel(\"relative viscosity\")\n",
    "        plt.suptitle(\"cluster size vs rel. viscosity for \"+path+\" gap=\"+str(gaps))\n",
    "    \n",
    "    \n",
    "widget_cluster_size_vs_viscosity_matplotlib = interactive(cluster_size_vs_viscosity_matplotlib, \\\n",
    "    path_text_input = widgets.Text(value=\"\"),\\\n",
    "    phi = widgets.ToggleButtons(options=[40,45,50,54,55,56,58],value=56,disabled=False), \\\n",
    "    shearrate= widgets.ToggleButtons(options=[1,10,11,11.5,12,12.5,13,14,15,16,18,20,30,50,70,100,200,300,1000], value = 12),\\\n",
    "    gaps = widgets.SelectMultiple(options=[9e-8,6.7e-8,4e-8,1e-8], value = [9e-8,6.7e-8,4e-8,1e-8]),\\\n",
    "    __manual = True)\n",
    "display(widget_cluster_size_vs_viscosity_matplotlib)\n",
    "display(label1)\n",
    "display(progress_1)\n",
    "display(label_cache)\n",
    "# for i,item in enumerate(pdf_average.children):\n",
    "#     print i, item.description \n",
    "# display(widget_cluster_size_distribution_matplotlib)\n",
    "# display(widgets.HBox(cluster_size_distribution.children[4:]))"
   ]
  }
 ],
 "metadata": {
  "anaconda-cloud": {},
  "kernelspec": {
   "display_name": "Python [default]",
   "language": "python",
   "name": "python2"
  },
  "language_info": {
   "codemirror_mode": {
    "name": "ipython",
    "version": 2
   },
   "file_extension": ".py",
   "mimetype": "text/x-python",
   "name": "python",
   "nbconvert_exporter": "python",
   "pygments_lexer": "ipython2",
   "version": "2.7.13"
  },
  "widgets": {
   "state": {
    "00a0fa6a7ce846de93f9bdc668ca79db": {
     "views": [
      {
       "cell_index": 62
      }
     ]
    },
    "00cc674e9c1047c3bac69716c5e48ef4": {
     "views": [
      {
       "cell_index": 36
      }
     ]
    },
    "00d46d04b5264399a8fa3d2998896dd7": {
     "views": [
      {
       "cell_index": 61
      }
     ]
    },
    "0107d7dec01546bdafc4883fa8377fda": {
     "views": [
      {
       "cell_index": 63
      }
     ]
    },
    "02216d88dc86422b9f06b90e7344e26d": {
     "views": [
      {
       "cell_index": 61
      }
     ]
    },
    "027cb6993d3248798d5c7cdff33315cd": {
     "views": [
      {
       "cell_index": 34
      }
     ]
    },
    "02b2beab04f048a2bd895a78a7c8eda8": {
     "views": [
      {
       "cell_index": 61
      }
     ]
    },
    "02d434fa08284cceb0e302716adf650d": {
     "views": [
      {
       "cell_index": 62
      }
     ]
    },
    "040902cd2472420bb6cec8ed6d1cf269": {
     "views": [
      {
       "cell_index": 61
      }
     ]
    },
    "0473a90d60824cd7b5d4e12e9e3ccb90": {
     "views": [
      {
       "cell_index": 23
      }
     ]
    },
    "049a457faf1a426197201c3330009f43": {
     "views": [
      {
       "cell_index": 62
      }
     ]
    },
    "04cfb5905b3e4038986940c5097af77b": {
     "views": [
      {
       "cell_index": 23
      }
     ]
    },
    "065f2701b88a4e22ab94f64b556372c5": {
     "views": [
      {
       "cell_index": 62
      }
     ]
    },
    "06eb32d749a74bc18a4ae452d2d916cb": {
     "views": [
      {
       "cell_index": 64
      }
     ]
    },
    "0732cc6b0b974b1fa43925f9d38e24b9": {
     "views": [
      {
       "cell_index": 23
      }
     ]
    },
    "074d19d54d8b4250bf2b8144bddfa769": {
     "views": [
      {
       "cell_index": 34
      }
     ]
    },
    "090e625202c849e790b7c23a3667fdee": {
     "views": [
      {
       "cell_index": 61
      }
     ]
    },
    "0970471ae0c845719e36553cecd55240": {
     "views": [
      {
       "cell_index": 18
      }
     ]
    },
    "09e3bb4e58d041aaadc028b4c83566fa": {
     "views": [
      {
       "cell_index": 18
      }
     ]
    },
    "0a4748bb92b34584aefc6841e6fb7bea": {
     "views": [
      {
       "cell_index": 23
      }
     ]
    },
    "0b176ae538a3496d85f5af55158b0ec1": {
     "views": [
      {
       "cell_index": 31
      }
     ]
    },
    "0b8cbb25a228454c848cdc7858966e53": {
     "views": [
      {
       "cell_index": 62
      }
     ]
    },
    "0bb4cf4847b9487c8fcac2096b704f0b": {
     "views": [
      {
       "cell_index": 21
      }
     ]
    },
    "0bb96bd7c1ee49989195712b86f68366": {
     "views": [
      {
       "cell_index": 61
      }
     ]
    },
    "0c16ef900fcf41489330991d5e8f3213": {
     "views": [
      {
       "cell_index": 61
      }
     ]
    },
    "0d5412cc09604868b2f34d3cca8403f6": {
     "views": [
      {
       "cell_index": 61
      }
     ]
    },
    "0e2e3b8d66534222920682f70db38f9f": {
     "views": [
      {
       "cell_index": 31
      }
     ]
    },
    "0e3d65f5db1e4a189f486c0c471dccda": {
     "views": [
      {
       "cell_index": 34
      }
     ]
    },
    "0e720afb218f416f9c8375d8fcb8d214": {
     "views": [
      {
       "cell_index": 61
      }
     ]
    },
    "0eb089e1492c4465b8f733b352697a3a": {
     "views": [
      {
       "cell_index": 23
      }
     ]
    },
    "0f3c6a67593541639244514bc9fed2b7": {
     "views": [
      {
       "cell_index": 61
      }
     ]
    },
    "0f409399fd4b41d2aec7041936fa60a6": {
     "views": [
      {
       "cell_index": 31
      },
      {
       "cell_index": 34
      }
     ]
    },
    "0f85b3d7bd4244bdb7cbb3fb17601070": {
     "views": [
      {
       "cell_index": 21
      }
     ]
    },
    "116c8cfe7b8b46f7941c156314b512cd": {
     "views": [
      {
       "cell_index": 61
      }
     ]
    },
    "128104d2408f4407ba07ee37f1b2221e": {
     "views": [
      {
       "cell_index": 47
      }
     ]
    },
    "153c9b15d45a461dbe5038b372c58e89": {
     "views": [
      {
       "cell_index": 64
      }
     ]
    },
    "154ca2b6470a49248767a30884451def": {
     "views": [
      {
       "cell_index": 61
      }
     ]
    },
    "15706af7238441a780d63e485a32f8ad": {
     "views": [
      {
       "cell_index": 34
      }
     ]
    },
    "157c30263d6b4e5d948ff1725eb2125f": {
     "views": [
      {
       "cell_index": 47
      }
     ]
    },
    "158a6f0f49994305979ff37d5e4cbb5c": {
     "views": [
      {
       "cell_index": 23
      }
     ]
    },
    "185d666b23f4434d8eb490bb9c1e9c8a": {
     "views": [
      {
       "cell_index": 31
      }
     ]
    },
    "18b374c9b56d48a5b84d44ed1754638f": {
     "views": [
      {
       "cell_index": 62
      }
     ]
    },
    "19047c40e8c04dce9825bac29088d751": {
     "views": [
      {
       "cell_index": 63
      }
     ]
    },
    "19453249fa144ee5a43f3a747a9cae3f": {
     "views": [
      {
       "cell_index": 61
      }
     ]
    },
    "1994bc5ca4334d27b399320842e77d2d": {
     "views": [
      {
       "cell_index": 62
      }
     ]
    },
    "1ae2733e30314465b823f0e6b36f3fec": {
     "views": [
      {
       "cell_index": 34
      }
     ]
    },
    "1ae568e762db4fb28002be72df38aa6a": {
     "views": [
      {
       "cell_index": 21
      }
     ]
    },
    "1b91bbf0267e4d1d80ced48e62039f04": {
     "views": [
      {
       "cell_index": 31
      }
     ]
    },
    "1bd8db65884a4e5183b1cd196b3e3682": {
     "views": [
      {
       "cell_index": 61
      }
     ]
    },
    "1c00a9c05ad74b19bbbbcf219c4b151c": {
     "views": [
      {
       "cell_index": 62
      }
     ]
    },
    "1c83d93aa22a4228bacc0bcd7e578911": {
     "views": [
      {
       "cell_index": 61
      }
     ]
    },
    "1de2a3cf9385428791021b905fe614b9": {
     "views": [
      {
       "cell_index": 61
      }
     ]
    },
    "1eee212a192a49deae059d1fe57928fb": {
     "views": [
      {
       "cell_index": 62
      }
     ]
    },
    "1f390e93251140c58f6067677e03f386": {
     "views": [
      {
       "cell_index": 21
      }
     ]
    },
    "1fd34d4094634c6ab67488204647672c": {
     "views": [
      {
       "cell_index": 34
      }
     ]
    },
    "1fe883013938405aacf0efd68332ffd0": {
     "views": [
      {
       "cell_index": 34
      }
     ]
    },
    "21efc753fa6d4219ac31c83a4c16fe25": {
     "views": [
      {
       "cell_index": 61
      }
     ]
    },
    "229d22d6e53549cc80b2495880fb9de2": {
     "views": [
      {
       "cell_index": 23
      }
     ]
    },
    "24ed737bbb344c6889aef1d21da5c332": {
     "views": [
      {
       "cell_index": 62
      }
     ]
    },
    "26685aa790bf44c58686772d8e4c15f4": {
     "views": [
      {
       "cell_index": 47
      }
     ]
    },
    "28b28afafcf2452f801ce9e8f08f3f35": {
     "views": [
      {
       "cell_index": 34
      }
     ]
    },
    "2a87a425702a4de784b72038ea994ec5": {
     "views": [
      {
       "cell_index": 62
      }
     ]
    },
    "2a8ca70901cc417fa220bd8aea05825a": {
     "views": [
      {
       "cell_index": 63
      }
     ]
    },
    "2b5e695ef2674fceaf8c94a83fc91444": {
     "views": [
      {
       "cell_index": 61
      }
     ]
    },
    "2b962ffe23314865b2763f6d7fd62aa7": {
     "views": [
      {
       "cell_index": 62
      }
     ]
    },
    "2c5577f0fb354fdc822bc0fa3d857180": {
     "views": [
      {
       "cell_index": 64
      }
     ]
    },
    "2c696220651a46f49aa3ec6efb57e684": {
     "views": [
      {
       "cell_index": 18
      }
     ]
    },
    "2d52c4d9cf2d491caf6570274cd7863c": {
     "views": [
      {
       "cell_index": 62
      }
     ]
    },
    "2d5461181af644d6a83279ccbe202e4b": {
     "views": [
      {
       "cell_index": 62
      }
     ]
    },
    "2f187489f1f04dad9ee9ecb07bad5a7f": {
     "views": [
      {
       "cell_index": 63
      }
     ]
    },
    "2f48b03dff8941afa5d27e0827d7dab7": {
     "views": [
      {
       "cell_index": 62
      }
     ]
    },
    "2fff0ce85d6742e9abca5b0266a5aab6": {
     "views": [
      {
       "cell_index": 62
      }
     ]
    },
    "3063ea13755f4a86a7f62373abb100a9": {
     "views": [
      {
       "cell_index": 23
      }
     ]
    },
    "30ad7b8393664790af5bfa6120301c1a": {
     "views": [
      {
       "cell_index": 64
      }
     ]
    },
    "30d206202ba04c44a255db5be1f7dc26": {
     "views": [
      {
       "cell_index": 62
      }
     ]
    },
    "313b4e156ff9498fa33f2e50752f5ed9": {
     "views": [
      {
       "cell_index": 23
      }
     ]
    },
    "320c337d574f4b43b565b20ab7edbf71": {
     "views": [
      {
       "cell_index": 21
      }
     ]
    },
    "3237bffd4a44493784cfa2ded9728e9a": {
     "views": [
      {
       "cell_index": 23
      }
     ]
    },
    "327569345c344b39984b341ea5f7677e": {
     "views": [
      {
       "cell_index": 62
      }
     ]
    },
    "3441aa078be5407a868106841cb2c306": {
     "views": [
      {
       "cell_index": 63
      }
     ]
    },
    "345f2919533f4707890ab3fc6f84d75d": {
     "views": [
      {
       "cell_index": 38
      }
     ]
    },
    "348508e1cb4c4dd69fbd71db6e4c4bda": {
     "views": [
      {
       "cell_index": 62
      }
     ]
    },
    "3504a989734b40e7b19bf1123349d696": {
     "views": [
      {
       "cell_index": 62
      }
     ]
    },
    "362bd09bcacd4dbd8d67621d8932563e": {
     "views": [
      {
       "cell_index": 47
      }
     ]
    },
    "365826de42db4f22a1f9a06c61fe26d2": {
     "views": [
      {
       "cell_index": 31
      }
     ]
    },
    "3773f17df6a8455b8331a1abf2c1aa3c": {
     "views": [
      {
       "cell_index": 63
      }
     ]
    },
    "378d2fa6196e4836858605801a853216": {
     "views": [
      {
       "cell_index": 61
      }
     ]
    },
    "397d2270929c45ce99e1abe775a65934": {
     "views": [
      {
       "cell_index": 64
      }
     ]
    },
    "39cc45eed719456299fbb8f15657e993": {
     "views": [
      {
       "cell_index": 23
      }
     ]
    },
    "39e2db448a024c788f59514f4a87f926": {
     "views": [
      {
       "cell_index": 62
      }
     ]
    },
    "3a5f5f75479d4008948b92a103530efe": {
     "views": [
      {
       "cell_index": 61
      }
     ]
    },
    "3aec50d5bf58498ea3f88c0e90f60adc": {
     "views": [
      {
       "cell_index": 62
      }
     ]
    },
    "3b37a47162984d3284d6187faed8d8e4": {
     "views": [
      {
       "cell_index": 47
      }
     ]
    },
    "3be8d28167cb4f30822f053319411a26": {
     "views": [
      {
       "cell_index": 64
      }
     ]
    },
    "3d8743cd3678405d92a714e33edd0ba4": {
     "views": [
      {
       "cell_index": 31
      }
     ]
    },
    "3d998d3056954287aeaddff39c7bacd0": {
     "views": [
      {
       "cell_index": 27
      }
     ]
    },
    "3e1e18ede3d1414294f22707d4c993ed": {
     "views": [
      {
       "cell_index": 34
      }
     ]
    },
    "3f5c2d7a7a5c45f7b7f602634349b5b4": {
     "views": [
      {
       "cell_index": 61
      }
     ]
    },
    "41b12f2988b54d7c843bd923929c4fe2": {
     "views": [
      {
       "cell_index": 23
      }
     ]
    },
    "4256b7f244f14c80b58235e929967a41": {
     "views": [
      {
       "cell_index": 64
      }
     ]
    },
    "432c3c2232534193acde44073f471ed5": {
     "views": [
      {
       "cell_index": 62
      }
     ]
    },
    "4379ee429f2a427eb9a8421a5b6db19b": {
     "views": [
      {
       "cell_index": 23
      }
     ]
    },
    "469a752790114366b33bb4e96f61de65": {
     "views": [
      {
       "cell_index": 63
      }
     ]
    },
    "46abf1f1fa9440faa023d65fbf711318": {
     "views": [
      {
       "cell_index": 63
      }
     ]
    },
    "46afbaac41a84f5fba5316d47c1d6e50": {
     "views": [
      {
       "cell_index": 38
      }
     ]
    },
    "4736ef87dc2748cea8164c083a9333d4": {
     "views": [
      {
       "cell_index": 62
      }
     ]
    },
    "47795d99e2af442f9131ef394bf762e1": {
     "views": [
      {
       "cell_index": 64
      }
     ]
    },
    "47bda1d7f431471b867eec404ff7d6e5": {
     "views": [
      {
       "cell_index": 61
      }
     ]
    },
    "47c65016a3844be69f0a5db88b1e6c46": {
     "views": [
      {
       "cell_index": 62
      }
     ]
    },
    "4823b13d49894f2daf445208bfd4e293": {
     "views": [
      {
       "cell_index": 61
      }
     ]
    },
    "49b1de5cac834f3999e9c42d95e52386": {
     "views": [
      {
       "cell_index": 23
      }
     ]
    },
    "4a27940c5f0b41feae921dc5c788b422": {
     "views": [
      {
       "cell_index": 23
      }
     ]
    },
    "4aef1f0ad86a4c1a958843bd436dd1b6": {
     "views": [
      {
       "cell_index": 63
      }
     ]
    },
    "4bac9ee00fb6452fa1ed06f7c5825200": {
     "views": [
      {
       "cell_index": 62
      }
     ]
    },
    "4bd692fcadca40138a32736a2007221a": {
     "views": [
      {
       "cell_index": 47
      }
     ]
    },
    "4cb91c0c31b548fb9d65ddec84644a63": {
     "views": [
      {
       "cell_index": 62
      }
     ]
    },
    "4ccd35b36b4d43c99d8f1755a57fb391": {
     "views": [
      {
       "cell_index": 61
      }
     ]
    },
    "4db41b7d794c4798ae8537a2956858e8": {
     "views": [
      {
       "cell_index": 31
      }
     ]
    },
    "4df6a90a5cab43a5818d2c9b9eaee1df": {
     "views": [
      {
       "cell_index": 62
      }
     ]
    },
    "4e6b392839384942ab9dedabe4c41315": {
     "views": [
      {
       "cell_index": 62
      }
     ]
    },
    "4ee7d1b2b9a141ac97aa12e445e439b5": {
     "views": [
      {
       "cell_index": 62
      }
     ]
    },
    "4f0908dc38cd4ac7954e5bdf4a0794a5": {
     "views": [
      {
       "cell_index": 6
      }
     ]
    },
    "4f2f989380a24ea6a7a5885d37419047": {
     "views": [
      {
       "cell_index": 61
      }
     ]
    },
    "515bdbc61000424f9b8969cc773122cf": {
     "views": [
      {
       "cell_index": 61
      }
     ]
    },
    "52d9742ffdff442e8b01f41c5239685a": {
     "views": [
      {
       "cell_index": 31
      }
     ]
    },
    "532f5e337ab144778684504a1d7dad83": {
     "views": [
      {
       "cell_index": 62
      }
     ]
    },
    "5378386f5b604b2dbc976e0173d4c4d5": {
     "views": [
      {
       "cell_index": 63
      }
     ]
    },
    "54b1f51a3bf74bea88380c4e5f290882": {
     "views": [
      {
       "cell_index": 61
      }
     ]
    },
    "555135ed16bc4779ae988b265d6c037e": {
     "views": [
      {
       "cell_index": 23
      }
     ]
    },
    "5553d5bd3aaa4b97b8e18f4ad8eeea96": {
     "views": [
      {
       "cell_index": 61
      }
     ]
    },
    "5639c42098a84e7bb8e06c80331d77ce": {
     "views": [
      {
       "cell_index": 62
      }
     ]
    },
    "5649d9318c484affa50790ea5dc25b0d": {
     "views": [
      {
       "cell_index": 64
      }
     ]
    },
    "5665d688eeaf401e8b13cc80b1449db2": {
     "views": [
      {
       "cell_index": 61
      }
     ]
    },
    "56c1f6d469384f678e214f46c0b6733d": {
     "views": [
      {
       "cell_index": 31
      }
     ]
    },
    "574eb8a83664410981aeb76df9180f47": {
     "views": [
      {
       "cell_index": 62
      }
     ]
    },
    "57e8d1859ba649749076fa03b5ef550f": {
     "views": [
      {
       "cell_index": 23
      }
     ]
    },
    "5a004cf6b79b4d299f9bd1d24fc753af": {
     "views": [
      {
       "cell_index": 64
      }
     ]
    },
    "5a2706fde7a94c1199f3fb56f4fbc9f1": {
     "views": [
      {
       "cell_index": 62
      }
     ]
    },
    "5a4a4911686b454eaa5c913787650bdc": {
     "views": [
      {
       "cell_index": 62
      }
     ]
    },
    "5a6763feb55948b6926aba9840404169": {
     "views": [
      {
       "cell_index": 61
      }
     ]
    },
    "5d455e6e11934824a7c79231e2d35c0d": {
     "views": [
      {
       "cell_index": 31
      }
     ]
    },
    "5dce738eec07457586e3a02cd82eacf3": {
     "views": [
      {
       "cell_index": 61
      }
     ]
    },
    "5dd31037f4944ee7ae23e5c218d1f493": {
     "views": [
      {
       "cell_index": 64
      }
     ]
    },
    "5eee93e07640434abf30412077197c1f": {
     "views": [
      {
       "cell_index": 36
      }
     ]
    },
    "5f3a0adce7624f028c946cf6c89a81ba": {
     "views": [
      {
       "cell_index": 62
      }
     ]
    },
    "5f5bc230867e4eab928757bdaf6fb3b0": {
     "views": [
      {
       "cell_index": 64
      }
     ]
    },
    "5fbcbed7323e4f40909945327cbae0f8": {
     "views": [
      {
       "cell_index": 62
      }
     ]
    },
    "6087d1bf36544359accc4cd446d96763": {
     "views": [
      {
       "cell_index": 62
      }
     ]
    },
    "60d15425d88f4507a270c9861797aae3": {
     "views": [
      {
       "cell_index": 61
      }
     ]
    },
    "614da343eb2245b598be3031ba885ff0": {
     "views": [
      {
       "cell_index": 62
      }
     ]
    },
    "61d72d1ead6f46159417c15e5b1741d3": {
     "views": [
      {
       "cell_index": 23
      }
     ]
    },
    "6203d791fdf940efb74fae63da9afd02": {
     "views": [
      {
       "cell_index": 61
      }
     ]
    },
    "624a814104e0490f98ec5d0967f1c7c7": {
     "views": [
      {
       "cell_index": 62
      }
     ]
    },
    "62cd43330ff64a0ba6845f1ae7ae83c9": {
     "views": [
      {
       "cell_index": 63
      }
     ]
    },
    "62f5b9e618db498ba1ea54ab1dafe664": {
     "views": [
      {
       "cell_index": 62
      }
     ]
    },
    "632e6807ec82420e8a4f7c4fc7c35ac3": {
     "views": [
      {
       "cell_index": 34
      }
     ]
    },
    "64cdde4bf51c48c6b7f5489b47b6fe9f": {
     "views": [
      {
       "cell_index": 61
      }
     ]
    },
    "64eb03b2b86143d0bc46dc41de7d5f5a": {
     "views": [
      {
       "cell_index": 64
      }
     ]
    },
    "656079e4f09a4d1b8915acf7e51f9dbd": {
     "views": [
      {
       "cell_index": 21
      }
     ]
    },
    "65e00726026048bda939cc0f483bb3bc": {
     "views": [
      {
       "cell_index": 61
      }
     ]
    },
    "65ea5518505143c8abf41014ea8cdf6a": {
     "views": [
      {
       "cell_index": 62
      }
     ]
    },
    "67cbb58a81ba436f8431c71af209036e": {
     "views": [
      {
       "cell_index": 31
      }
     ]
    },
    "684e0cbc0c6d49f3a475d1322cb99cba": {
     "views": [
      {
       "cell_index": 62
      }
     ]
    },
    "685d735e6e1c48b989f4087ba0494f11": {
     "views": [
      {
       "cell_index": 61
      }
     ]
    },
    "68d1ee3a68854a9d9eb18f1796288c76": {
     "views": [
      {
       "cell_index": 62
      }
     ]
    },
    "69aebd4c5aca4818b1f2c8e157f8a183": {
     "views": [
      {
       "cell_index": 23
      }
     ]
    },
    "6a4b5ef930a445038bb066654baf9b25": {
     "views": [
      {
       "cell_index": 36
      }
     ]
    },
    "6b10dc9712f14de38b790a6fddf6114d": {
     "views": [
      {
       "cell_index": 62
      }
     ]
    },
    "6b7a3fc38a7d46ffa224128c011cf43c": {
     "views": [
      {
       "cell_index": 61
      }
     ]
    },
    "6ba2f4490e2f4ef9993f12173eb25d70": {
     "views": [
      {
       "cell_index": 31
      }
     ]
    },
    "6db5aaaa71434ba68974f6bb8d51e9d8": {
     "views": [
      {
       "cell_index": 62
      }
     ]
    },
    "6dcba60615a845568f2fafba2a5d0dcb": {
     "views": [
      {
       "cell_index": 64
      }
     ]
    },
    "6ee320623a4c44588f3d4fefd9ffb0bf": {
     "views": [
      {
       "cell_index": 23
      }
     ]
    },
    "70650ba7d4894c6088dcaa96738e60e7": {
     "views": [
      {
       "cell_index": 21
      }
     ]
    },
    "71092e6f671d4cde8239c70cb67ba4f0": {
     "views": [
      {
       "cell_index": 36
      }
     ]
    },
    "7430418ee0e947a28b33d1a3774f7790": {
     "views": [
      {
       "cell_index": 23
      }
     ]
    },
    "74920e5f6aed43d0adcb90b42117f93b": {
     "views": [
      {
       "cell_index": 62
      }
     ]
    },
    "74e28b7294c0476aa752c2806188dd20": {
     "views": [
      {
       "cell_index": 36
      }
     ]
    },
    "74f7f192aaf04effb8e522bbbd803aab": {
     "views": [
      {
       "cell_index": 62
      }
     ]
    },
    "7555859e663f4ed9a7c4ae01e58b5191": {
     "views": [
      {
       "cell_index": 62
      }
     ]
    },
    "76d438e58a994e48adb59061f78de9f7": {
     "views": [
      {
       "cell_index": 61
      }
     ]
    },
    "7739f517603e4c2cb5a551b6126ea1b1": {
     "views": [
      {
       "cell_index": 62
      }
     ]
    },
    "777c0eb4d1d84f4f902550915b2d85e7": {
     "views": [
      {
       "cell_index": 64
      }
     ]
    },
    "7785f9d2b50445f784f6dcbc153705bb": {
     "views": [
      {
       "cell_index": 64
      }
     ]
    },
    "7897e9b64ab343afaf02d88f53a3b4c4": {
     "views": [
      {
       "cell_index": 61
      }
     ]
    },
    "78ad4ab4cd2c45f2b81fd35239ed8102": {
     "views": [
      {
       "cell_index": 63
      }
     ]
    },
    "78e355c29a264f9e9a4587626a96ef46": {
     "views": [
      {
       "cell_index": 61
      }
     ]
    },
    "791c8b5943d848bdae5469c0be845308": {
     "views": [
      {
       "cell_index": 64
      }
     ]
    },
    "7950a50ae9284031aee51fb078301d59": {
     "views": [
      {
       "cell_index": 21
      }
     ]
    },
    "797f079faaec4e24aa88c0b24ef2bb01": {
     "views": [
      {
       "cell_index": 21
      }
     ]
    },
    "7b833b5510aa468e88fd7d009b471d7f": {
     "views": [
      {
       "cell_index": 23
      }
     ]
    },
    "7d8275b3a8bd4e039d9dc60310cb7a55": {
     "views": [
      {
       "cell_index": 62
      }
     ]
    },
    "7dc5860e324649278fad14e8b64b56d5": {
     "views": [
      {
       "cell_index": 31
      }
     ]
    },
    "7e361cd015b949daa01537fa8253b4e5": {
     "views": [
      {
       "cell_index": 61
      }
     ]
    },
    "7e6db8d5560442c39c804bb949678756": {
     "views": [
      {
       "cell_index": 62
      }
     ]
    },
    "7ef2d42f61cb48568c30b59c503e393b": {
     "views": [
      {
       "cell_index": 18
      }
     ]
    },
    "7f1a6013d7de4a28a900ef0880ddcaca": {
     "views": [
      {
       "cell_index": 62
      }
     ]
    },
    "80822634edb148278dcc6551950b9e7f": {
     "views": [
      {
       "cell_index": 36
      }
     ]
    },
    "8092d8ceff644dd196c1fce9f1671315": {
     "views": [
      {
       "cell_index": 62
      }
     ]
    },
    "8108d1b31bd84513bcc36361034b1f77": {
     "views": [
      {
       "cell_index": 64
      }
     ]
    },
    "815f3d56044647cd9d2c7e4725405337": {
     "views": [
      {
       "cell_index": 61
      }
     ]
    },
    "816306c46c4a4caf9c8fc96c0e77ed26": {
     "views": [
      {
       "cell_index": 61
      }
     ]
    },
    "81a9d688f925405487ad50776264e44e": {
     "views": [
      {
       "cell_index": 36
      }
     ]
    },
    "8236a2fa9dab40cfbb3ed6750e6808cb": {
     "views": [
      {
       "cell_index": 31
      },
      {
       "cell_index": 34
      }
     ]
    },
    "823baa5cb89a4c0f9b60a69c6b759037": {
     "views": [
      {
       "cell_index": 64
      }
     ]
    },
    "82d066e9454942e393190af182477fd1": {
     "views": [
      {
       "cell_index": 63
      }
     ]
    },
    "845e24db3a1142b3b07857f34dcf9b04": {
     "views": [
      {
       "cell_index": 62
      }
     ]
    },
    "8473f9660788469490f47d494cadebf8": {
     "views": [
      {
       "cell_index": 62
      }
     ]
    },
    "84e3d522add14e6b93477600b6eb86ad": {
     "views": [
      {
       "cell_index": 23
      }
     ]
    },
    "84eb61aa81a741b6b10abd589954734b": {
     "views": [
      {
       "cell_index": 38
      }
     ]
    },
    "865ada4ef68e43df9778632cbd8c290f": {
     "views": [
      {
       "cell_index": 63
      }
     ]
    },
    "878db54d013f4a949255a6d801293437": {
     "views": [
      {
       "cell_index": 61
      }
     ]
    },
    "88135d8107d74158b967ed83991f77e1": {
     "views": [
      {
       "cell_index": 34
      }
     ]
    },
    "883fb00ecfb94e469036e2639b572f42": {
     "views": [
      {
       "cell_index": 61
      }
     ]
    },
    "895049c55f5c49d4bffcbd0e5d0e3ee4": {
     "views": [
      {
       "cell_index": 63
      }
     ]
    },
    "89e9d4cab0a14b3b8d9a4451f72544b2": {
     "views": [
      {
       "cell_index": 34
      }
     ]
    },
    "89fa10b863164f52bc9ab274553b23fe": {
     "views": [
      {
       "cell_index": 61
      }
     ]
    },
    "8a6103aef1f141fa894329d18c229959": {
     "views": [
      {
       "cell_index": 62
      }
     ]
    },
    "8abaf91cb42b420194cbfe7c6e4403bd": {
     "views": [
      {
       "cell_index": 38
      }
     ]
    },
    "8ae36ffe2a7342138df2c947aea4a5de": {
     "views": [
      {
       "cell_index": 62
      }
     ]
    },
    "8b10589b602b4e118dbbc31155a81113": {
     "views": [
      {
       "cell_index": 61
      }
     ]
    },
    "8b3995523b654b0bbc98470fdf8faec0": {
     "views": [
      {
       "cell_index": 62
      }
     ]
    },
    "8b945a40b88941e59f8014f584de4b1a": {
     "views": [
      {
       "cell_index": 62
      }
     ]
    },
    "8c09703361db4252be9b3f2c26fb658b": {
     "views": [
      {
       "cell_index": 36
      }
     ]
    },
    "8c325e16db5e416797456b73b5d4cdc0": {
     "views": [
      {
       "cell_index": 61
      }
     ]
    },
    "8c63004c42bd4975bdb25db3973adbe1": {
     "views": [
      {
       "cell_index": 61
      }
     ]
    },
    "8d1dd4996d294c64a6a034f5e8079224": {
     "views": [
      {
       "cell_index": 38
      }
     ]
    },
    "8d3d3b1bddef4e09b413cb1c51e50290": {
     "views": [
      {
       "cell_index": 62
      }
     ]
    },
    "8d51d3f45e7e47a48c67d032fbc27975": {
     "views": [
      {
       "cell_index": 23
      }
     ]
    },
    "8d702c3e64ed4a24867e6c5b99748833": {
     "views": [
      {
       "cell_index": 47
      }
     ]
    },
    "8deebe41ad304b99b7b6a18edd6dc5d5": {
     "views": [
      {
       "cell_index": 62
      }
     ]
    },
    "8e2715f6a6104a5a9709347fa5789a15": {
     "views": [
      {
       "cell_index": 18
      }
     ]
    },
    "8e2a9a4b20f54a85ae9379b77f11d418": {
     "views": [
      {
       "cell_index": 21
      }
     ]
    },
    "8e79096615fb479c959b907d14cd53cd": {
     "views": [
      {
       "cell_index": 62
      }
     ]
    },
    "8f86e41bd5c04b8d812efa620f58be5d": {
     "views": [
      {
       "cell_index": 23
      }
     ]
    },
    "8f920d7d98de408cb94ae047bea4c3f6": {
     "views": [
      {
       "cell_index": 47
      }
     ]
    },
    "8fe8d16707894584b1708a54ae8b980b": {
     "views": [
      {
       "cell_index": 62
      }
     ]
    },
    "8ff9268523164623a393a309bbbe2ef3": {
     "views": [
      {
       "cell_index": 61
      }
     ]
    },
    "906872d82f04429aac024a03a1636b9a": {
     "views": [
      {
       "cell_index": 61
      }
     ]
    },
    "9082dc8ab4514b9abf5c1d698953d6b1": {
     "views": [
      {
       "cell_index": 64
      }
     ]
    },
    "908c049294b049719bf4b8d2cb63c894": {
     "views": [
      {
       "cell_index": 62
      }
     ]
    },
    "9284cc3e7be54328843b6638480e3220": {
     "views": [
      {
       "cell_index": 63
      }
     ]
    },
    "93a13bfd46f242409cf16aed8bd960fd": {
     "views": [
      {
       "cell_index": 31
      }
     ]
    },
    "93d9b0bf5f6a43ec9dd0cf4de36e292f": {
     "views": [
      {
       "cell_index": 62
      }
     ]
    },
    "940c137eddb1499598510ed22eb11267": {
     "views": [
      {
       "cell_index": 61
      }
     ]
    },
    "9468df4ba2d44ca18a9364f39fc24d36": {
     "views": [
      {
       "cell_index": 23
      }
     ]
    },
    "948b126e141f44719469e6242fee0714": {
     "views": [
      {
       "cell_index": 62
      }
     ]
    },
    "968a88fd4cd447b79e39f5f30f218f05": {
     "views": [
      {
       "cell_index": 64
      }
     ]
    },
    "97395334184f47539904800b6833fb61": {
     "views": [
      {
       "cell_index": 61
      }
     ]
    },
    "974b6f9959754ad487653a275f11bb2e": {
     "views": [
      {
       "cell_index": 31
      }
     ]
    },
    "980485bacd294d689de1910370893052": {
     "views": [
      {
       "cell_index": 31
      }
     ]
    },
    "9820b03cda264e17824f7ee3c5467a87": {
     "views": [
      {
       "cell_index": 31
      }
     ]
    },
    "98e20ea0665442b382acd7187068b054": {
     "views": [
      {
       "cell_index": 34
      }
     ]
    },
    "98e9c0a5a6e642e1a20ed6e1255059a7": {
     "views": [
      {
       "cell_index": 61
      }
     ]
    },
    "992ebff82ea34fb1b21d663b4447e094": {
     "views": [
      {
       "cell_index": 38
      }
     ]
    },
    "99c77ac54ef04e34a03b8b1b07f80305": {
     "views": [
      {
       "cell_index": 63
      }
     ]
    },
    "99e87e0a69c4451f99964c873b8a2ece": {
     "views": [
      {
       "cell_index": 63
      }
     ]
    },
    "9adda659b4c649e8b7466ce7b6d1023e": {
     "views": [
      {
       "cell_index": 23
      }
     ]
    },
    "9af1e88c49224f2a854bd61bc44a61fe": {
     "views": [
      {
       "cell_index": 18
      }
     ]
    },
    "9afff8e05f8d4071ae35a1edbecba65b": {
     "views": [
      {
       "cell_index": 18
      }
     ]
    },
    "9b1ce1ea94c749f1869d61a564710874": {
     "views": [
      {
       "cell_index": 64
      }
     ]
    },
    "9b573ddd28b24fcf8f2c6db43e98807f": {
     "views": [
      {
       "cell_index": 64
      }
     ]
    },
    "9c381a3181714a84843396f8fa8abe4e": {
     "views": [
      {
       "cell_index": 21
      }
     ]
    },
    "9c4292f6496a41fa9d9c058e12a3cb5b": {
     "views": [
      {
       "cell_index": 36
      }
     ]
    },
    "9ce3307c79ff429ba2daf0f2f177db9e": {
     "views": [
      {
       "cell_index": 62
      }
     ]
    },
    "9d56a5ffccb246fd9d5d15d868831c67": {
     "views": [
      {
       "cell_index": 63
      }
     ]
    },
    "9da958c58aec46d88d25cdacb7d27ca1": {
     "views": [
      {
       "cell_index": 62
      }
     ]
    },
    "9dc2368e637048b298c84e6877f3c083": {
     "views": [
      {
       "cell_index": 61
      }
     ]
    },
    "9de16c178c864b55936bfcf409eb0c2a": {
     "views": [
      {
       "cell_index": 36
      }
     ]
    },
    "9e880c9ccd5140ea95659810f48f4de4": {
     "views": [
      {
       "cell_index": 21
      }
     ]
    },
    "9f140032c795440bb937d8ebc000186e": {
     "views": [
      {
       "cell_index": 64
      }
     ]
    },
    "9fb79b0e13494b0aa9981505162bc456": {
     "views": [
      {
       "cell_index": 23
      }
     ]
    },
    "a0832cbb8aab4ae8803e05612e3a4239": {
     "views": [
      {
       "cell_index": 63
      }
     ]
    },
    "a0b135f31a7b45df8ece587a72a6fd32": {
     "views": [
      {
       "cell_index": 63
      }
     ]
    },
    "a283f973a8a2437abcd64f7787488b45": {
     "views": [
      {
       "cell_index": 64
      }
     ]
    },
    "a399594059fb4308bde03a126329ea0c": {
     "views": [
      {
       "cell_index": 34
      }
     ]
    },
    "a3fefb3ad5d142e0bb9e1fc7ebe8bd3d": {
     "views": [
      {
       "cell_index": 61
      }
     ]
    },
    "a42dabca7d4d4eaa9dc87b8b12489bac": {
     "views": [
      {
       "cell_index": 34
      }
     ]
    },
    "a4676f3fd28047e0b6bf6a1a82155b38": {
     "views": [
      {
       "cell_index": 63
      }
     ]
    },
    "a4dcbfaa37f9415c87262b966b8bd38b": {
     "views": [
      {
       "cell_index": 61
      }
     ]
    },
    "a4e5daefbba043ae9d2a35c67e3aead2": {
     "views": [
      {
       "cell_index": 63
      }
     ]
    },
    "a5aa5cf9b3804984b65e4f163388408c": {
     "views": [
      {
       "cell_index": 61
      }
     ]
    },
    "a61da038eee04e9295880144b07e40e8": {
     "views": [
      {
       "cell_index": 23
      }
     ]
    },
    "a68a4fa683fa4f41b2f2bb0f337ad7cc": {
     "views": [
      {
       "cell_index": 63
      }
     ]
    },
    "a822091da4b447659e53d402b2cc7df2": {
     "views": [
      {
       "cell_index": 61
      }
     ]
    },
    "a927f8a37a42481c829ef5711d985249": {
     "views": [
      {
       "cell_index": 21
      }
     ]
    },
    "a9fde2bd9d334a7da5fec92b9fb2c4e3": {
     "views": [
      {
       "cell_index": 21
      }
     ]
    },
    "aa464bac32bb440bad40cabcdfd08a4b": {
     "views": [
      {
       "cell_index": 61
      }
     ]
    },
    "ac23a6f482624eca9de680f80e5a10d9": {
     "views": [
      {
       "cell_index": 63
      }
     ]
    },
    "ac7e0a0380984c82948ff813eec8e130": {
     "views": [
      {
       "cell_index": 61
      }
     ]
    },
    "ad8c4a102d22434fb82750e39c76e5fe": {
     "views": [
      {
       "cell_index": 62
      }
     ]
    },
    "adbe6655331d4a7b8abecac8dae71e3e": {
     "views": [
      {
       "cell_index": 62
      }
     ]
    },
    "add6a57e9aa643239e75b3632bd2798d": {
     "views": [
      {
       "cell_index": 34
      }
     ]
    },
    "aead2a2e31fa437ab931e8c927580799": {
     "views": [
      {
       "cell_index": 31
      }
     ]
    },
    "aef83e6d8df7474ea6ebf7c0be285a59": {
     "views": [
      {
       "cell_index": 62
      }
     ]
    },
    "b0e1c6bcd87c4eab89238c60a88438e7": {
     "views": [
      {
       "cell_index": 18
      }
     ]
    },
    "b1402ce0e4a34e38a1ed07ee5cc7fb8c": {
     "views": [
      {
       "cell_index": 23
      }
     ]
    },
    "b1dd87e170454a689a1869c408bc3d48": {
     "views": [
      {
       "cell_index": 34
      }
     ]
    },
    "b2fcd764d80945888f31dbbf7745122a": {
     "views": [
      {
       "cell_index": 31
      }
     ]
    },
    "b32a2b5bcc0743fbaf999d606b750287": {
     "views": [
      {
       "cell_index": 47
      }
     ]
    },
    "b42c47699f9942708f0e04407b08fa5b": {
     "views": [
      {
       "cell_index": 18
      }
     ]
    },
    "b4ca0c444e3745768018c1868a41fe70": {
     "views": [
      {
       "cell_index": 62
      }
     ]
    },
    "b598b5a953f34a0a8fab8e1b71694c38": {
     "views": [
      {
       "cell_index": 61
      }
     ]
    },
    "b5b5807bb680468a92be7f109eba993b": {
     "views": [
      {
       "cell_index": 36
      }
     ]
    },
    "b62a317e279d4ba6b42a8e10d75f5930": {
     "views": [
      {
       "cell_index": 34
      }
     ]
    },
    "b63a140631ef4f3f96fb91ee3a9d0638": {
     "views": [
      {
       "cell_index": 62
      }
     ]
    },
    "b69a67d5ad6f489a8ce904187ab21531": {
     "views": [
      {
       "cell_index": 23
      }
     ]
    },
    "b731281990ba4858bad2198d406badee": {
     "views": [
      {
       "cell_index": 23
      }
     ]
    },
    "b83366210c2c416e8b2fb6751de9b130": {
     "views": [
      {
       "cell_index": 36
      }
     ]
    },
    "b92e092f31304f8f98e17f54e5d38b48": {
     "views": [
      {
       "cell_index": 62
      }
     ]
    },
    "b9f8560976814bca87e5a856de8a29e0": {
     "views": [
      {
       "cell_index": 34
      }
     ]
    },
    "bc09fed1fbda45a1b1e1b6b8fa55f99a": {
     "views": [
      {
       "cell_index": 63
      }
     ]
    },
    "be1247a2968c4dfe8bb00fddae464870": {
     "views": [
      {
       "cell_index": 62
      }
     ]
    },
    "bf95e06470ce449f933232dbbcd9f5a2": {
     "views": [
      {
       "cell_index": 64
      }
     ]
    },
    "bfa5076cb4f4498ba9ee18d80fe283b8": {
     "views": [
      {
       "cell_index": 23
      }
     ]
    },
    "c039d45aca8242b4829f6ef8473c202d": {
     "views": [
      {
       "cell_index": 62
      }
     ]
    },
    "c0af43e629b44e5e85fa857e58dd4cbf": {
     "views": [
      {
       "cell_index": 61
      }
     ]
    },
    "c1749ae14c4248e1a6260d5ae108b6f7": {
     "views": [
      {
       "cell_index": 47
      }
     ]
    },
    "c1bd1c73add242bbbaa788cf2784baeb": {
     "views": [
      {
       "cell_index": 23
      }
     ]
    },
    "c277cc312a72444fb6344d76fa7f3e54": {
     "views": [
      {
       "cell_index": 62
      }
     ]
    },
    "c4515c3c64084b708f35e6e8079d7118": {
     "views": [
      {
       "cell_index": 64
      }
     ]
    },
    "c4866fc81b0c4740ad4098c16b5a3bb9": {
     "views": [
      {
       "cell_index": 15
      }
     ]
    },
    "c5b0ccfb8f594d50bff58650120bbbe4": {
     "views": [
      {
       "cell_index": 36
      }
     ]
    },
    "c6516973681e482a8716a9711f7c322f": {
     "views": [
      {
       "cell_index": 36
      }
     ]
    },
    "c6c543c738894afaa04ad1dfbf8492c7": {
     "views": [
      {
       "cell_index": 34
      }
     ]
    },
    "c7b59c7b529849aeb9d2383407a55506": {
     "views": [
      {
       "cell_index": 31
      }
     ]
    },
    "c7f47782a32b4acb9e23d5f2f71e6097": {
     "views": [
      {
       "cell_index": 62
      }
     ]
    },
    "c80252aab20b4ca594fc8aefbbcf32ca": {
     "views": [
      {
       "cell_index": 63
      }
     ]
    },
    "c963730cbead492eb5acd18cc51a98bf": {
     "views": [
      {
       "cell_index": 64
      }
     ]
    },
    "c9b9b7a1417b43e59eb7c82959a201fd": {
     "views": [
      {
       "cell_index": 21
      }
     ]
    },
    "cb163049405642458908ad3b4c38d50a": {
     "views": [
      {
       "cell_index": 31
      }
     ]
    },
    "cbfd12cdfad3422489a29f3132d33d68": {
     "views": [
      {
       "cell_index": 62
      }
     ]
    },
    "ce392ab384474c08998b20d2865aef15": {
     "views": [
      {
       "cell_index": 61
      }
     ]
    },
    "d0541f36c1af45a3921f8b581a224f99": {
     "views": [
      {
       "cell_index": 62
      }
     ]
    },
    "d07e0f984a134fb09ebac525c9697277": {
     "views": [
      {
       "cell_index": 23
      }
     ]
    },
    "d0bcc58399c449bf921f43a35e709dab": {
     "views": [
      {
       "cell_index": 61
      }
     ]
    },
    "d0d4f2375fe94a17afe8763d0a95e8df": {
     "views": [
      {
       "cell_index": 23
      }
     ]
    },
    "d155e42e4d8c42b19a490ea7f6ebb75d": {
     "views": [
      {
       "cell_index": 23
      }
     ]
    },
    "d17725c6212a41d181200091c3dfbbdb": {
     "views": [
      {
       "cell_index": 31
      }
     ]
    },
    "d3d9444510be41b6a4813b56b71720d0": {
     "views": [
      {
       "cell_index": 61
      }
     ]
    },
    "d612a343e3624e1ca84dc1b276fce7af": {
     "views": [
      {
       "cell_index": 34
      }
     ]
    },
    "d6143c4ddd404bff9be51c80ddd5fa24": {
     "views": [
      {
       "cell_index": 64
      }
     ]
    },
    "d6dd158644e7491e8f8d8a29f003b67a": {
     "views": [
      {
       "cell_index": 23
      }
     ]
    },
    "d7086ea7eaa6421bb175e87312337eaa": {
     "views": [
      {
       "cell_index": 31
      }
     ]
    },
    "d74ff25583e64372a54cc2741afcde6d": {
     "views": [
      {
       "cell_index": 36
      }
     ]
    },
    "d75e6ef91a1140ab8ce1ff2056a29a9c": {
     "views": [
      {
       "cell_index": 61
      }
     ]
    },
    "d7b09850b9a64f8481d4567fca9e1fdf": {
     "views": [
      {
       "cell_index": 64
      }
     ]
    },
    "d834c13b48ad40f7a810495cbf670189": {
     "views": [
      {
       "cell_index": 23
      }
     ]
    },
    "d97a6702596040e5abe381f9583d18c0": {
     "views": [
      {
       "cell_index": 23
      }
     ]
    },
    "da2ff89fa05840f797f97170fede6b21": {
     "views": [
      {
       "cell_index": 38
      }
     ]
    },
    "da7fec42366e46ae801067f0b6acc277": {
     "views": [
      {
       "cell_index": 63
      }
     ]
    },
    "db842e9eeb9946b98155179b0b152756": {
     "views": [
      {
       "cell_index": 61
      }
     ]
    },
    "dc252936a0364df4a23c9e628e69bc3a": {
     "views": [
      {
       "cell_index": 61
      }
     ]
    },
    "ded9ccecc8b84751892d5c3f5cf4f523": {
     "views": [
      {
       "cell_index": 36
      }
     ]
    },
    "deddc0d87c194b9698d25ea7654a9ef9": {
     "views": [
      {
       "cell_index": 64
      }
     ]
    },
    "def67c0f316640c9a88ee8d4a302c671": {
     "views": [
      {
       "cell_index": 21
      }
     ]
    },
    "df6bfb80ead04ade89ca2ec4990d52da": {
     "views": [
      {
       "cell_index": 62
      }
     ]
    },
    "dfc66dde3d9345958c37f7256e80466a": {
     "views": [
      {
       "cell_index": 38
      }
     ]
    },
    "e0953427aa6b4d8e83c01d5d9cad80e9": {
     "views": [
      {
       "cell_index": 64
      }
     ]
    },
    "e4c471ab7e23400586aa19bf0c83e402": {
     "views": [
      {
       "cell_index": 61
      }
     ]
    },
    "e525c5e9f9eb4144b8c6e5fdc72c8676": {
     "views": [
      {
       "cell_index": 61
      }
     ]
    },
    "e58d3dc522d74d3dbd97c18d98be7244": {
     "views": [
      {
       "cell_index": 38
      }
     ]
    },
    "e760f7f0f3384f02891041ef6655ffc4": {
     "views": [
      {
       "cell_index": 62
      }
     ]
    },
    "e84cb37835fd4e89b415fa4c8f2fe745": {
     "views": [
      {
       "cell_index": 31
      }
     ]
    },
    "e86cc26c4f0147a1b50aa500f1ca7e88": {
     "views": [
      {
       "cell_index": 62
      }
     ]
    },
    "e9009d1031114cc99bce2c240c1c3223": {
     "views": [
      {
       "cell_index": 64
      }
     ]
    },
    "ea59b913d17f41718f640ac65fa8aa8e": {
     "views": [
      {
       "cell_index": 62
      }
     ]
    },
    "ea5baf6278c94cd784a21507e24b8f41": {
     "views": [
      {
       "cell_index": 64
      }
     ]
    },
    "eae50e9bf1514eea8881a0932f4a2ed7": {
     "views": [
      {
       "cell_index": 23
      }
     ]
    },
    "eb3500de06e844048b1fe749c36c02b8": {
     "views": [
      {
       "cell_index": 36
      }
     ]
    },
    "eb545bd25c044b62a3d9e820c92fea33": {
     "views": [
      {
       "cell_index": 64
      }
     ]
    },
    "ebb7ac1617d74c62be43269315289410": {
     "views": [
      {
       "cell_index": 63
      }
     ]
    },
    "eca0da5a06d345a7a042584d389bbf65": {
     "views": [
      {
       "cell_index": 34
      }
     ]
    },
    "ed03184ae4b341a6aa271de310aef19c": {
     "views": [
      {
       "cell_index": 63
      }
     ]
    },
    "ed626b7f393246abaa7ab4caef597f1f": {
     "views": [
      {
       "cell_index": 36
      }
     ]
    },
    "ee905599bcf24f33a2f62d20dd837890": {
     "views": [
      {
       "cell_index": 64
      }
     ]
    },
    "eeabb35adae9484fab3da6de09a3ae5b": {
     "views": [
      {
       "cell_index": 62
      }
     ]
    },
    "ef1417bdef394d68b183bc28cf7ce7d9": {
     "views": [
      {
       "cell_index": 62
      }
     ]
    },
    "f2331cc7c0164a0ba871d312eed6606a": {
     "views": [
      {
       "cell_index": 23
      }
     ]
    },
    "f36ea5ce252042a1b96ad2ffbf1bfb48": {
     "views": [
      {
       "cell_index": 64
      }
     ]
    },
    "f4197cf19e1147ed873519e4d7909e61": {
     "views": [
      {
       "cell_index": 21
      }
     ]
    },
    "f422dab2b5f641b8ac26d20d21c748af": {
     "views": [
      {
       "cell_index": 38
      }
     ]
    },
    "f42fd00abe46455ba0c786aa738fbfed": {
     "views": [
      {
       "cell_index": 61
      }
     ]
    },
    "f43f269679f54b9da4da790528da15d8": {
     "views": [
      {
       "cell_index": 62
      }
     ]
    },
    "f64627376cc64999bad2cff8fb10e3ac": {
     "views": [
      {
       "cell_index": 34
      }
     ]
    },
    "f6761563817145b383f3543d3b0656e3": {
     "views": [
      {
       "cell_index": 18
      }
     ]
    },
    "f69f419b49914ab59ae2095732bc0447": {
     "views": [
      {
       "cell_index": 36
      }
     ]
    },
    "f6d0580a654b4dea9a1af959a2514ce9": {
     "views": [
      {
       "cell_index": 34
      }
     ]
    },
    "f700c8c4f5ac4bc79fa3605771b19f36": {
     "views": [
      {
       "cell_index": 64
      }
     ]
    },
    "f7d2f30fdc804747b7ddaf96a0a632db": {
     "views": [
      {
       "cell_index": 61
      }
     ]
    },
    "f846c24598c249dd8ce8a5f4f43c9057": {
     "views": [
      {
       "cell_index": 62
      }
     ]
    },
    "f9dbfc27a5854ba8b9ffcd41fffad184": {
     "views": [
      {
       "cell_index": 62
      }
     ]
    },
    "fb9523d202234804935309d65529fe43": {
     "views": [
      {
       "cell_index": 34
      }
     ]
    },
    "fbc4dab143a349b798aa64d418fd8c5f": {
     "views": [
      {
       "cell_index": 31
      }
     ]
    },
    "fc1609128c734e26939ec94ce5508a73": {
     "views": [
      {
       "cell_index": 21
      }
     ]
    },
    "fc2c75fa960d4521aa29a00a16cd40cb": {
     "views": [
      {
       "cell_index": 23
      }
     ]
    },
    "fe4354612759413fa3743df9b57c3a81": {
     "views": [
      {
       "cell_index": 61
      }
     ]
    },
    "fe947b76db5741e0bc2546304b0be3a8": {
     "views": [
      {
       "cell_index": 23
      }
     ]
    },
    "fed91545c79e4e81b07d96d0e54d683f": {
     "views": [
      {
       "cell_index": 23
      }
     ]
    }
   },
   "version": "1.2.0"
  }
 },
 "nbformat": 4,
 "nbformat_minor": 2
}
