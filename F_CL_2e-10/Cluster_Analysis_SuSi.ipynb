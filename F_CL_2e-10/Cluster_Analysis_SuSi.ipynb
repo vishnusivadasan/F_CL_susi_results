{
 "cells": [
  {
   "cell_type": "code",
   "execution_count": 1,
   "metadata": {
    "collapsed": false
   },
   "outputs": [
    {
     "data": {
      "text/html": [
       "<script>\n",
       "code_show=false; \n",
       "function code_toggle() {\n",
       " if (code_show){\n",
       " $('div.input').show();\n",
       " } else {\n",
       " $('div.input').hide();\n",
       " }\n",
       " code_show = !code_show\n",
       "} \n",
       "$( document ).ready(code_toggle);\n",
       "</script>\n",
       "The raw code for this IPython notebook is by default hidden for easier reading.\n",
       "To toggle on/off the raw code, click <a href=\"javascript:code_toggle()\">here</a>."
      ],
      "text/plain": [
       "<IPython.core.display.HTML object>"
      ]
     },
     "execution_count": 1,
     "metadata": {},
     "output_type": "execute_result"
    }
   ],
   "source": [
    "from IPython.display import HTML\n",
    "\n",
    "HTML('''<script>\n",
    "code_show=false; \n",
    "function code_toggle() {\n",
    " if (code_show){\n",
    " $('div.input').show();\n",
    " } else {\n",
    " $('div.input').hide();\n",
    " }\n",
    " code_show = !code_show\n",
    "} \n",
    "$( document ).ready(code_toggle);\n",
    "</script>\n",
    "The raw code for this IPython notebook is by default hidden for easier reading.\n",
    "To toggle on/off the raw code, click <a href=\"javascript:code_toggle()\">here</a>.''')"
   ]
  },
  {
   "cell_type": "code",
   "execution_count": 2,
   "metadata": {
    "collapsed": false
   },
   "outputs": [
    {
     "name": "stderr",
     "output_type": "stream",
     "text": [
      "/home/vsivadas/.local/lib/python2.7/site-packages/IPython/html.py:14: ShimWarning: The `IPython.html` package has been deprecated. You should import from `notebook` instead. `IPython.html.widgets` has moved to `ipywidgets`.\n",
      "  \"`IPython.html.widgets` has moved to `ipywidgets`.\", ShimWarning)\n"
     ]
    }
   ],
   "source": [
    "import os\n",
    "import sys\n",
    "import numpy as np\n",
    "import pandas as pd\n",
    "import subprocess\n",
    "import matplotlib as mpl\n",
    "mpl.use('Agg')\n",
    "import matplotlib.pyplot as plt\n",
    "from matplotlib.legend_handler import HandlerLine2D\n",
    "import itertools\n",
    "from susipop import filter\n",
    "from susipop import reader\n",
    "from IPython.html.widgets import FloatProgress\n",
    "from IPython.display import display\n",
    "from ipywidgets import interactive\n",
    "import ipywidgets as widgets\n",
    "%matplotlib notebook\n",
    "\n",
    "import plotly\n",
    "import susipop as sp\n",
    "\n",
    "from multiprocessing import Pool"
   ]
  },
  {
   "cell_type": "code",
   "execution_count": 3,
   "metadata": {
    "collapsed": true
   },
   "outputs": [],
   "source": [
    "def get_folder_list():\n",
    "    f = next(os.walk('.'))[1]\n",
    "    return f"
   ]
  },
  {
   "cell_type": "markdown",
   "metadata": {},
   "source": [
    "# Cluster Analysis in SuSi\n",
    "\n",
    "There are some important functions in susi for cluster analysis. "
   ]
  },
  {
   "cell_type": "raw",
   "metadata": {
    "collapsed": true
   },
   "source": [
    "# sim_chars.keys()"
   ]
  },
  {
   "cell_type": "markdown",
   "metadata": {},
   "source": [
    "## Radial Distribution function "
   ]
  },
  {
   "cell_type": "code",
   "execution_count": 4,
   "metadata": {
    "collapsed": false
   },
   "outputs": [
    {
     "data": {
      "application/javascript": [
       "/* Put everything inside the global mpl namespace */\n",
       "window.mpl = {};\n",
       "\n",
       "mpl.get_websocket_type = function() {\n",
       "    if (typeof(WebSocket) !== 'undefined') {\n",
       "        return WebSocket;\n",
       "    } else if (typeof(MozWebSocket) !== 'undefined') {\n",
       "        return MozWebSocket;\n",
       "    } else {\n",
       "        alert('Your browser does not have WebSocket support.' +\n",
       "              'Please try Chrome, Safari or Firefox ≥ 6. ' +\n",
       "              'Firefox 4 and 5 are also supported but you ' +\n",
       "              'have to enable WebSockets in about:config.');\n",
       "    };\n",
       "}\n",
       "\n",
       "mpl.figure = function(figure_id, websocket, ondownload, parent_element) {\n",
       "    this.id = figure_id;\n",
       "\n",
       "    this.ws = websocket;\n",
       "\n",
       "    this.supports_binary = (this.ws.binaryType != undefined);\n",
       "\n",
       "    if (!this.supports_binary) {\n",
       "        var warnings = document.getElementById(\"mpl-warnings\");\n",
       "        if (warnings) {\n",
       "            warnings.style.display = 'block';\n",
       "            warnings.textContent = (\n",
       "                \"This browser does not support binary websocket messages. \" +\n",
       "                    \"Performance may be slow.\");\n",
       "        }\n",
       "    }\n",
       "\n",
       "    this.imageObj = new Image();\n",
       "\n",
       "    this.context = undefined;\n",
       "    this.message = undefined;\n",
       "    this.canvas = undefined;\n",
       "    this.rubberband_canvas = undefined;\n",
       "    this.rubberband_context = undefined;\n",
       "    this.format_dropdown = undefined;\n",
       "\n",
       "    this.image_mode = 'full';\n",
       "\n",
       "    this.root = $('<div/>');\n",
       "    this._root_extra_style(this.root)\n",
       "    this.root.attr('style', 'display: inline-block');\n",
       "\n",
       "    $(parent_element).append(this.root);\n",
       "\n",
       "    this._init_header(this);\n",
       "    this._init_canvas(this);\n",
       "    this._init_toolbar(this);\n",
       "\n",
       "    var fig = this;\n",
       "\n",
       "    this.waiting = false;\n",
       "\n",
       "    this.ws.onopen =  function () {\n",
       "            fig.send_message(\"supports_binary\", {value: fig.supports_binary});\n",
       "            fig.send_message(\"send_image_mode\", {});\n",
       "            fig.send_message(\"refresh\", {});\n",
       "        }\n",
       "\n",
       "    this.imageObj.onload = function() {\n",
       "            if (fig.image_mode == 'full') {\n",
       "                // Full images could contain transparency (where diff images\n",
       "                // almost always do), so we need to clear the canvas so that\n",
       "                // there is no ghosting.\n",
       "                fig.context.clearRect(0, 0, fig.canvas.width, fig.canvas.height);\n",
       "            }\n",
       "            fig.context.drawImage(fig.imageObj, 0, 0);\n",
       "        };\n",
       "\n",
       "    this.imageObj.onunload = function() {\n",
       "        this.ws.close();\n",
       "    }\n",
       "\n",
       "    this.ws.onmessage = this._make_on_message_function(this);\n",
       "\n",
       "    this.ondownload = ondownload;\n",
       "}\n",
       "\n",
       "mpl.figure.prototype._init_header = function() {\n",
       "    var titlebar = $(\n",
       "        '<div class=\"ui-dialog-titlebar ui-widget-header ui-corner-all ' +\n",
       "        'ui-helper-clearfix\"/>');\n",
       "    var titletext = $(\n",
       "        '<div class=\"ui-dialog-title\" style=\"width: 100%; ' +\n",
       "        'text-align: center; padding: 3px;\"/>');\n",
       "    titlebar.append(titletext)\n",
       "    this.root.append(titlebar);\n",
       "    this.header = titletext[0];\n",
       "}\n",
       "\n",
       "\n",
       "\n",
       "mpl.figure.prototype._canvas_extra_style = function(canvas_div) {\n",
       "\n",
       "}\n",
       "\n",
       "\n",
       "mpl.figure.prototype._root_extra_style = function(canvas_div) {\n",
       "\n",
       "}\n",
       "\n",
       "mpl.figure.prototype._init_canvas = function() {\n",
       "    var fig = this;\n",
       "\n",
       "    var canvas_div = $('<div/>');\n",
       "\n",
       "    canvas_div.attr('style', 'position: relative; clear: both; outline: 0');\n",
       "\n",
       "    function canvas_keyboard_event(event) {\n",
       "        return fig.key_event(event, event['data']);\n",
       "    }\n",
       "\n",
       "    canvas_div.keydown('key_press', canvas_keyboard_event);\n",
       "    canvas_div.keyup('key_release', canvas_keyboard_event);\n",
       "    this.canvas_div = canvas_div\n",
       "    this._canvas_extra_style(canvas_div)\n",
       "    this.root.append(canvas_div);\n",
       "\n",
       "    var canvas = $('<canvas/>');\n",
       "    canvas.addClass('mpl-canvas');\n",
       "    canvas.attr('style', \"left: 0; top: 0; z-index: 0; outline: 0\")\n",
       "\n",
       "    this.canvas = canvas[0];\n",
       "    this.context = canvas[0].getContext(\"2d\");\n",
       "\n",
       "    var rubberband = $('<canvas/>');\n",
       "    rubberband.attr('style', \"position: absolute; left: 0; top: 0; z-index: 1;\")\n",
       "\n",
       "    var pass_mouse_events = true;\n",
       "\n",
       "    canvas_div.resizable({\n",
       "        start: function(event, ui) {\n",
       "            pass_mouse_events = false;\n",
       "        },\n",
       "        resize: function(event, ui) {\n",
       "            fig.request_resize(ui.size.width, ui.size.height);\n",
       "        },\n",
       "        stop: function(event, ui) {\n",
       "            pass_mouse_events = true;\n",
       "            fig.request_resize(ui.size.width, ui.size.height);\n",
       "        },\n",
       "    });\n",
       "\n",
       "    function mouse_event_fn(event) {\n",
       "        if (pass_mouse_events)\n",
       "            return fig.mouse_event(event, event['data']);\n",
       "    }\n",
       "\n",
       "    rubberband.mousedown('button_press', mouse_event_fn);\n",
       "    rubberband.mouseup('button_release', mouse_event_fn);\n",
       "    // Throttle sequential mouse events to 1 every 20ms.\n",
       "    rubberband.mousemove('motion_notify', mouse_event_fn);\n",
       "\n",
       "    rubberband.mouseenter('figure_enter', mouse_event_fn);\n",
       "    rubberband.mouseleave('figure_leave', mouse_event_fn);\n",
       "\n",
       "    canvas_div.on(\"wheel\", function (event) {\n",
       "        event = event.originalEvent;\n",
       "        event['data'] = 'scroll'\n",
       "        if (event.deltaY < 0) {\n",
       "            event.step = 1;\n",
       "        } else {\n",
       "            event.step = -1;\n",
       "        }\n",
       "        mouse_event_fn(event);\n",
       "    });\n",
       "\n",
       "    canvas_div.append(canvas);\n",
       "    canvas_div.append(rubberband);\n",
       "\n",
       "    this.rubberband = rubberband;\n",
       "    this.rubberband_canvas = rubberband[0];\n",
       "    this.rubberband_context = rubberband[0].getContext(\"2d\");\n",
       "    this.rubberband_context.strokeStyle = \"#000000\";\n",
       "\n",
       "    this._resize_canvas = function(width, height) {\n",
       "        // Keep the size of the canvas, canvas container, and rubber band\n",
       "        // canvas in synch.\n",
       "        canvas_div.css('width', width)\n",
       "        canvas_div.css('height', height)\n",
       "\n",
       "        canvas.attr('width', width);\n",
       "        canvas.attr('height', height);\n",
       "\n",
       "        rubberband.attr('width', width);\n",
       "        rubberband.attr('height', height);\n",
       "    }\n",
       "\n",
       "    // Set the figure to an initial 600x600px, this will subsequently be updated\n",
       "    // upon first draw.\n",
       "    this._resize_canvas(600, 600);\n",
       "\n",
       "    // Disable right mouse context menu.\n",
       "    $(this.rubberband_canvas).bind(\"contextmenu\",function(e){\n",
       "        return false;\n",
       "    });\n",
       "\n",
       "    function set_focus () {\n",
       "        canvas.focus();\n",
       "        canvas_div.focus();\n",
       "    }\n",
       "\n",
       "    window.setTimeout(set_focus, 100);\n",
       "}\n",
       "\n",
       "mpl.figure.prototype._init_toolbar = function() {\n",
       "    var fig = this;\n",
       "\n",
       "    var nav_element = $('<div/>')\n",
       "    nav_element.attr('style', 'width: 100%');\n",
       "    this.root.append(nav_element);\n",
       "\n",
       "    // Define a callback function for later on.\n",
       "    function toolbar_event(event) {\n",
       "        return fig.toolbar_button_onclick(event['data']);\n",
       "    }\n",
       "    function toolbar_mouse_event(event) {\n",
       "        return fig.toolbar_button_onmouseover(event['data']);\n",
       "    }\n",
       "\n",
       "    for(var toolbar_ind in mpl.toolbar_items) {\n",
       "        var name = mpl.toolbar_items[toolbar_ind][0];\n",
       "        var tooltip = mpl.toolbar_items[toolbar_ind][1];\n",
       "        var image = mpl.toolbar_items[toolbar_ind][2];\n",
       "        var method_name = mpl.toolbar_items[toolbar_ind][3];\n",
       "\n",
       "        if (!name) {\n",
       "            // put a spacer in here.\n",
       "            continue;\n",
       "        }\n",
       "        var button = $('<button/>');\n",
       "        button.addClass('ui-button ui-widget ui-state-default ui-corner-all ' +\n",
       "                        'ui-button-icon-only');\n",
       "        button.attr('role', 'button');\n",
       "        button.attr('aria-disabled', 'false');\n",
       "        button.click(method_name, toolbar_event);\n",
       "        button.mouseover(tooltip, toolbar_mouse_event);\n",
       "\n",
       "        var icon_img = $('<span/>');\n",
       "        icon_img.addClass('ui-button-icon-primary ui-icon');\n",
       "        icon_img.addClass(image);\n",
       "        icon_img.addClass('ui-corner-all');\n",
       "\n",
       "        var tooltip_span = $('<span/>');\n",
       "        tooltip_span.addClass('ui-button-text');\n",
       "        tooltip_span.html(tooltip);\n",
       "\n",
       "        button.append(icon_img);\n",
       "        button.append(tooltip_span);\n",
       "\n",
       "        nav_element.append(button);\n",
       "    }\n",
       "\n",
       "    var fmt_picker_span = $('<span/>');\n",
       "\n",
       "    var fmt_picker = $('<select/>');\n",
       "    fmt_picker.addClass('mpl-toolbar-option ui-widget ui-widget-content');\n",
       "    fmt_picker_span.append(fmt_picker);\n",
       "    nav_element.append(fmt_picker_span);\n",
       "    this.format_dropdown = fmt_picker[0];\n",
       "\n",
       "    for (var ind in mpl.extensions) {\n",
       "        var fmt = mpl.extensions[ind];\n",
       "        var option = $(\n",
       "            '<option/>', {selected: fmt === mpl.default_extension}).html(fmt);\n",
       "        fmt_picker.append(option)\n",
       "    }\n",
       "\n",
       "    // Add hover states to the ui-buttons\n",
       "    $( \".ui-button\" ).hover(\n",
       "        function() { $(this).addClass(\"ui-state-hover\");},\n",
       "        function() { $(this).removeClass(\"ui-state-hover\");}\n",
       "    );\n",
       "\n",
       "    var status_bar = $('<span class=\"mpl-message\"/>');\n",
       "    nav_element.append(status_bar);\n",
       "    this.message = status_bar[0];\n",
       "}\n",
       "\n",
       "mpl.figure.prototype.request_resize = function(x_pixels, y_pixels) {\n",
       "    // Request matplotlib to resize the figure. Matplotlib will then trigger a resize in the client,\n",
       "    // which will in turn request a refresh of the image.\n",
       "    this.send_message('resize', {'width': x_pixels, 'height': y_pixels});\n",
       "}\n",
       "\n",
       "mpl.figure.prototype.send_message = function(type, properties) {\n",
       "    properties['type'] = type;\n",
       "    properties['figure_id'] = this.id;\n",
       "    this.ws.send(JSON.stringify(properties));\n",
       "}\n",
       "\n",
       "mpl.figure.prototype.send_draw_message = function() {\n",
       "    if (!this.waiting) {\n",
       "        this.waiting = true;\n",
       "        this.ws.send(JSON.stringify({type: \"draw\", figure_id: this.id}));\n",
       "    }\n",
       "}\n",
       "\n",
       "\n",
       "mpl.figure.prototype.handle_save = function(fig, msg) {\n",
       "    var format_dropdown = fig.format_dropdown;\n",
       "    var format = format_dropdown.options[format_dropdown.selectedIndex].value;\n",
       "    fig.ondownload(fig, format);\n",
       "}\n",
       "\n",
       "\n",
       "mpl.figure.prototype.handle_resize = function(fig, msg) {\n",
       "    var size = msg['size'];\n",
       "    if (size[0] != fig.canvas.width || size[1] != fig.canvas.height) {\n",
       "        fig._resize_canvas(size[0], size[1]);\n",
       "        fig.send_message(\"refresh\", {});\n",
       "    };\n",
       "}\n",
       "\n",
       "mpl.figure.prototype.handle_rubberband = function(fig, msg) {\n",
       "    var x0 = msg['x0'];\n",
       "    var y0 = fig.canvas.height - msg['y0'];\n",
       "    var x1 = msg['x1'];\n",
       "    var y1 = fig.canvas.height - msg['y1'];\n",
       "    x0 = Math.floor(x0) + 0.5;\n",
       "    y0 = Math.floor(y0) + 0.5;\n",
       "    x1 = Math.floor(x1) + 0.5;\n",
       "    y1 = Math.floor(y1) + 0.5;\n",
       "    var min_x = Math.min(x0, x1);\n",
       "    var min_y = Math.min(y0, y1);\n",
       "    var width = Math.abs(x1 - x0);\n",
       "    var height = Math.abs(y1 - y0);\n",
       "\n",
       "    fig.rubberband_context.clearRect(\n",
       "        0, 0, fig.canvas.width, fig.canvas.height);\n",
       "\n",
       "    fig.rubberband_context.strokeRect(min_x, min_y, width, height);\n",
       "}\n",
       "\n",
       "mpl.figure.prototype.handle_figure_label = function(fig, msg) {\n",
       "    // Updates the figure title.\n",
       "    fig.header.textContent = msg['label'];\n",
       "}\n",
       "\n",
       "mpl.figure.prototype.handle_cursor = function(fig, msg) {\n",
       "    var cursor = msg['cursor'];\n",
       "    switch(cursor)\n",
       "    {\n",
       "    case 0:\n",
       "        cursor = 'pointer';\n",
       "        break;\n",
       "    case 1:\n",
       "        cursor = 'default';\n",
       "        break;\n",
       "    case 2:\n",
       "        cursor = 'crosshair';\n",
       "        break;\n",
       "    case 3:\n",
       "        cursor = 'move';\n",
       "        break;\n",
       "    }\n",
       "    fig.rubberband_canvas.style.cursor = cursor;\n",
       "}\n",
       "\n",
       "mpl.figure.prototype.handle_message = function(fig, msg) {\n",
       "    fig.message.textContent = msg['message'];\n",
       "}\n",
       "\n",
       "mpl.figure.prototype.handle_draw = function(fig, msg) {\n",
       "    // Request the server to send over a new figure.\n",
       "    fig.send_draw_message();\n",
       "}\n",
       "\n",
       "mpl.figure.prototype.handle_image_mode = function(fig, msg) {\n",
       "    fig.image_mode = msg['mode'];\n",
       "}\n",
       "\n",
       "mpl.figure.prototype.updated_canvas_event = function() {\n",
       "    // Called whenever the canvas gets updated.\n",
       "    this.send_message(\"ack\", {});\n",
       "}\n",
       "\n",
       "// A function to construct a web socket function for onmessage handling.\n",
       "// Called in the figure constructor.\n",
       "mpl.figure.prototype._make_on_message_function = function(fig) {\n",
       "    return function socket_on_message(evt) {\n",
       "        if (evt.data instanceof Blob) {\n",
       "            /* FIXME: We get \"Resource interpreted as Image but\n",
       "             * transferred with MIME type text/plain:\" errors on\n",
       "             * Chrome.  But how to set the MIME type?  It doesn't seem\n",
       "             * to be part of the websocket stream */\n",
       "            evt.data.type = \"image/png\";\n",
       "\n",
       "            /* Free the memory for the previous frames */\n",
       "            if (fig.imageObj.src) {\n",
       "                (window.URL || window.webkitURL).revokeObjectURL(\n",
       "                    fig.imageObj.src);\n",
       "            }\n",
       "\n",
       "            fig.imageObj.src = (window.URL || window.webkitURL).createObjectURL(\n",
       "                evt.data);\n",
       "            fig.updated_canvas_event();\n",
       "            fig.waiting = false;\n",
       "            return;\n",
       "        }\n",
       "        else if (typeof evt.data === 'string' && evt.data.slice(0, 21) == \"data:image/png;base64\") {\n",
       "            fig.imageObj.src = evt.data;\n",
       "            fig.updated_canvas_event();\n",
       "            fig.waiting = false;\n",
       "            return;\n",
       "        }\n",
       "\n",
       "        var msg = JSON.parse(evt.data);\n",
       "        var msg_type = msg['type'];\n",
       "\n",
       "        // Call the  \"handle_{type}\" callback, which takes\n",
       "        // the figure and JSON message as its only arguments.\n",
       "        try {\n",
       "            var callback = fig[\"handle_\" + msg_type];\n",
       "        } catch (e) {\n",
       "            console.log(\"No handler for the '\" + msg_type + \"' message type: \", msg);\n",
       "            return;\n",
       "        }\n",
       "\n",
       "        if (callback) {\n",
       "            try {\n",
       "                // console.log(\"Handling '\" + msg_type + \"' message: \", msg);\n",
       "                callback(fig, msg);\n",
       "            } catch (e) {\n",
       "                console.log(\"Exception inside the 'handler_\" + msg_type + \"' callback:\", e, e.stack, msg);\n",
       "            }\n",
       "        }\n",
       "    };\n",
       "}\n",
       "\n",
       "// from http://stackoverflow.com/questions/1114465/getting-mouse-location-in-canvas\n",
       "mpl.findpos = function(e) {\n",
       "    //this section is from http://www.quirksmode.org/js/events_properties.html\n",
       "    var targ;\n",
       "    if (!e)\n",
       "        e = window.event;\n",
       "    if (e.target)\n",
       "        targ = e.target;\n",
       "    else if (e.srcElement)\n",
       "        targ = e.srcElement;\n",
       "    if (targ.nodeType == 3) // defeat Safari bug\n",
       "        targ = targ.parentNode;\n",
       "\n",
       "    // jQuery normalizes the pageX and pageY\n",
       "    // pageX,Y are the mouse positions relative to the document\n",
       "    // offset() returns the position of the element relative to the document\n",
       "    var x = e.pageX - $(targ).offset().left;\n",
       "    var y = e.pageY - $(targ).offset().top;\n",
       "\n",
       "    return {\"x\": x, \"y\": y};\n",
       "};\n",
       "\n",
       "/*\n",
       " * return a copy of an object with only non-object keys\n",
       " * we need this to avoid circular references\n",
       " * http://stackoverflow.com/a/24161582/3208463\n",
       " */\n",
       "function simpleKeys (original) {\n",
       "  return Object.keys(original).reduce(function (obj, key) {\n",
       "    if (typeof original[key] !== 'object')\n",
       "        obj[key] = original[key]\n",
       "    return obj;\n",
       "  }, {});\n",
       "}\n",
       "\n",
       "mpl.figure.prototype.mouse_event = function(event, name) {\n",
       "    var canvas_pos = mpl.findpos(event)\n",
       "\n",
       "    if (name === 'button_press')\n",
       "    {\n",
       "        this.canvas.focus();\n",
       "        this.canvas_div.focus();\n",
       "    }\n",
       "\n",
       "    var x = canvas_pos.x;\n",
       "    var y = canvas_pos.y;\n",
       "\n",
       "    this.send_message(name, {x: x, y: y, button: event.button,\n",
       "                             step: event.step,\n",
       "                             guiEvent: simpleKeys(event)});\n",
       "\n",
       "    /* This prevents the web browser from automatically changing to\n",
       "     * the text insertion cursor when the button is pressed.  We want\n",
       "     * to control all of the cursor setting manually through the\n",
       "     * 'cursor' event from matplotlib */\n",
       "    event.preventDefault();\n",
       "    return false;\n",
       "}\n",
       "\n",
       "mpl.figure.prototype._key_event_extra = function(event, name) {\n",
       "    // Handle any extra behaviour associated with a key event\n",
       "}\n",
       "\n",
       "mpl.figure.prototype.key_event = function(event, name) {\n",
       "\n",
       "    // Prevent repeat events\n",
       "    if (name == 'key_press')\n",
       "    {\n",
       "        if (event.which === this._key)\n",
       "            return;\n",
       "        else\n",
       "            this._key = event.which;\n",
       "    }\n",
       "    if (name == 'key_release')\n",
       "        this._key = null;\n",
       "\n",
       "    var value = '';\n",
       "    if (event.ctrlKey && event.which != 17)\n",
       "        value += \"ctrl+\";\n",
       "    if (event.altKey && event.which != 18)\n",
       "        value += \"alt+\";\n",
       "    if (event.shiftKey && event.which != 16)\n",
       "        value += \"shift+\";\n",
       "\n",
       "    value += 'k';\n",
       "    value += event.which.toString();\n",
       "\n",
       "    this._key_event_extra(event, name);\n",
       "\n",
       "    this.send_message(name, {key: value,\n",
       "                             guiEvent: simpleKeys(event)});\n",
       "    return false;\n",
       "}\n",
       "\n",
       "mpl.figure.prototype.toolbar_button_onclick = function(name) {\n",
       "    if (name == 'download') {\n",
       "        this.handle_save(this, null);\n",
       "    } else {\n",
       "        this.send_message(\"toolbar_button\", {name: name});\n",
       "    }\n",
       "};\n",
       "\n",
       "mpl.figure.prototype.toolbar_button_onmouseover = function(tooltip) {\n",
       "    this.message.textContent = tooltip;\n",
       "};\n",
       "mpl.toolbar_items = [[\"Home\", \"Reset original view\", \"fa fa-home icon-home\", \"home\"], [\"Back\", \"Back to  previous view\", \"fa fa-arrow-left icon-arrow-left\", \"back\"], [\"Forward\", \"Forward to next view\", \"fa fa-arrow-right icon-arrow-right\", \"forward\"], [\"\", \"\", \"\", \"\"], [\"Pan\", \"Pan axes with left mouse, zoom with right\", \"fa fa-arrows icon-move\", \"pan\"], [\"Zoom\", \"Zoom to rectangle\", \"fa fa-square-o icon-check-empty\", \"zoom\"], [\"\", \"\", \"\", \"\"], [\"Download\", \"Download plot\", \"fa fa-floppy-o icon-save\", \"download\"]];\n",
       "\n",
       "mpl.extensions = [\"eps\", \"jpeg\", \"pdf\", \"png\", \"ps\", \"raw\", \"svg\", \"tif\"];\n",
       "\n",
       "mpl.default_extension = \"png\";var comm_websocket_adapter = function(comm) {\n",
       "    // Create a \"websocket\"-like object which calls the given IPython comm\n",
       "    // object with the appropriate methods. Currently this is a non binary\n",
       "    // socket, so there is still some room for performance tuning.\n",
       "    var ws = {};\n",
       "\n",
       "    ws.close = function() {\n",
       "        comm.close()\n",
       "    };\n",
       "    ws.send = function(m) {\n",
       "        //console.log('sending', m);\n",
       "        comm.send(m);\n",
       "    };\n",
       "    // Register the callback with on_msg.\n",
       "    comm.on_msg(function(msg) {\n",
       "        //console.log('receiving', msg['content']['data'], msg);\n",
       "        // Pass the mpl event to the overriden (by mpl) onmessage function.\n",
       "        ws.onmessage(msg['content']['data'])\n",
       "    });\n",
       "    return ws;\n",
       "}\n",
       "\n",
       "mpl.mpl_figure_comm = function(comm, msg) {\n",
       "    // This is the function which gets called when the mpl process\n",
       "    // starts-up an IPython Comm through the \"matplotlib\" channel.\n",
       "\n",
       "    var id = msg.content.data.id;\n",
       "    // Get hold of the div created by the display call when the Comm\n",
       "    // socket was opened in Python.\n",
       "    var element = $(\"#\" + id);\n",
       "    var ws_proxy = comm_websocket_adapter(comm)\n",
       "\n",
       "    function ondownload(figure, format) {\n",
       "        window.open(figure.imageObj.src);\n",
       "    }\n",
       "\n",
       "    var fig = new mpl.figure(id, ws_proxy,\n",
       "                           ondownload,\n",
       "                           element.get(0));\n",
       "\n",
       "    // Call onopen now - mpl needs it, as it is assuming we've passed it a real\n",
       "    // web socket which is closed, not our websocket->open comm proxy.\n",
       "    ws_proxy.onopen();\n",
       "\n",
       "    fig.parent_element = element.get(0);\n",
       "    fig.cell_info = mpl.find_output_cell(\"<div id='\" + id + \"'></div>\");\n",
       "    if (!fig.cell_info) {\n",
       "        console.error(\"Failed to find cell for figure\", id, fig);\n",
       "        return;\n",
       "    }\n",
       "\n",
       "    var output_index = fig.cell_info[2]\n",
       "    var cell = fig.cell_info[0];\n",
       "\n",
       "};\n",
       "\n",
       "mpl.figure.prototype.handle_close = function(fig, msg) {\n",
       "    fig.root.unbind('remove')\n",
       "\n",
       "    // Update the output cell to use the data from the current canvas.\n",
       "    fig.push_to_output();\n",
       "    var dataURL = fig.canvas.toDataURL();\n",
       "    // Re-enable the keyboard manager in IPython - without this line, in FF,\n",
       "    // the notebook keyboard shortcuts fail.\n",
       "    IPython.keyboard_manager.enable()\n",
       "    $(fig.parent_element).html('<img src=\"' + dataURL + '\">');\n",
       "    fig.close_ws(fig, msg);\n",
       "}\n",
       "\n",
       "mpl.figure.prototype.close_ws = function(fig, msg){\n",
       "    fig.send_message('closing', msg);\n",
       "    // fig.ws.close()\n",
       "}\n",
       "\n",
       "mpl.figure.prototype.push_to_output = function(remove_interactive) {\n",
       "    // Turn the data on the canvas into data in the output cell.\n",
       "    var dataURL = this.canvas.toDataURL();\n",
       "    this.cell_info[1]['text/html'] = '<img src=\"' + dataURL + '\">';\n",
       "}\n",
       "\n",
       "mpl.figure.prototype.updated_canvas_event = function() {\n",
       "    // Tell IPython that the notebook contents must change.\n",
       "    IPython.notebook.set_dirty(true);\n",
       "    this.send_message(\"ack\", {});\n",
       "    var fig = this;\n",
       "    // Wait a second, then push the new image to the DOM so\n",
       "    // that it is saved nicely (might be nice to debounce this).\n",
       "    setTimeout(function () { fig.push_to_output() }, 1000);\n",
       "}\n",
       "\n",
       "mpl.figure.prototype._init_toolbar = function() {\n",
       "    var fig = this;\n",
       "\n",
       "    var nav_element = $('<div/>')\n",
       "    nav_element.attr('style', 'width: 100%');\n",
       "    this.root.append(nav_element);\n",
       "\n",
       "    // Define a callback function for later on.\n",
       "    function toolbar_event(event) {\n",
       "        return fig.toolbar_button_onclick(event['data']);\n",
       "    }\n",
       "    function toolbar_mouse_event(event) {\n",
       "        return fig.toolbar_button_onmouseover(event['data']);\n",
       "    }\n",
       "\n",
       "    for(var toolbar_ind in mpl.toolbar_items){\n",
       "        var name = mpl.toolbar_items[toolbar_ind][0];\n",
       "        var tooltip = mpl.toolbar_items[toolbar_ind][1];\n",
       "        var image = mpl.toolbar_items[toolbar_ind][2];\n",
       "        var method_name = mpl.toolbar_items[toolbar_ind][3];\n",
       "\n",
       "        if (!name) { continue; };\n",
       "\n",
       "        var button = $('<button class=\"btn btn-default\" href=\"#\" title=\"' + name + '\"><i class=\"fa ' + image + ' fa-lg\"></i></button>');\n",
       "        button.click(method_name, toolbar_event);\n",
       "        button.mouseover(tooltip, toolbar_mouse_event);\n",
       "        nav_element.append(button);\n",
       "    }\n",
       "\n",
       "    // Add the status bar.\n",
       "    var status_bar = $('<span class=\"mpl-message\" style=\"text-align:right; float: right;\"/>');\n",
       "    nav_element.append(status_bar);\n",
       "    this.message = status_bar[0];\n",
       "\n",
       "    // Add the close button to the window.\n",
       "    var buttongrp = $('<div class=\"btn-group inline pull-right\"></div>');\n",
       "    var button = $('<button class=\"btn btn-mini btn-primary\" href=\"#\" title=\"Stop Interaction\"><i class=\"fa fa-power-off icon-remove icon-large\"></i></button>');\n",
       "    button.click(function (evt) { fig.handle_close(fig, {}); } );\n",
       "    button.mouseover('Stop Interaction', toolbar_mouse_event);\n",
       "    buttongrp.append(button);\n",
       "    var titlebar = this.root.find($('.ui-dialog-titlebar'));\n",
       "    titlebar.prepend(buttongrp);\n",
       "}\n",
       "\n",
       "mpl.figure.prototype._root_extra_style = function(el){\n",
       "    var fig = this\n",
       "    el.on(\"remove\", function(){\n",
       "\tfig.close_ws(fig, {});\n",
       "    });\n",
       "}\n",
       "\n",
       "mpl.figure.prototype._canvas_extra_style = function(el){\n",
       "    // this is important to make the div 'focusable\n",
       "    el.attr('tabindex', 0)\n",
       "    // reach out to IPython and tell the keyboard manager to turn it's self\n",
       "    // off when our div gets focus\n",
       "\n",
       "    // location in version 3\n",
       "    if (IPython.notebook.keyboard_manager) {\n",
       "        IPython.notebook.keyboard_manager.register_events(el);\n",
       "    }\n",
       "    else {\n",
       "        // location in version 2\n",
       "        IPython.keyboard_manager.register_events(el);\n",
       "    }\n",
       "\n",
       "}\n",
       "\n",
       "mpl.figure.prototype._key_event_extra = function(event, name) {\n",
       "    var manager = IPython.notebook.keyboard_manager;\n",
       "    if (!manager)\n",
       "        manager = IPython.keyboard_manager;\n",
       "\n",
       "    // Check for shift+enter\n",
       "    if (event.shiftKey && event.which == 13) {\n",
       "        this.canvas_div.blur();\n",
       "        // select the cell after this one\n",
       "        var index = IPython.notebook.find_cell_index(this.cell_info[0]);\n",
       "        IPython.notebook.select(index + 1);\n",
       "    }\n",
       "}\n",
       "\n",
       "mpl.figure.prototype.handle_save = function(fig, msg) {\n",
       "    fig.ondownload(fig, null);\n",
       "}\n",
       "\n",
       "\n",
       "mpl.find_output_cell = function(html_output) {\n",
       "    // Return the cell and output element which can be found *uniquely* in the notebook.\n",
       "    // Note - this is a bit hacky, but it is done because the \"notebook_saving.Notebook\"\n",
       "    // IPython event is triggered only after the cells have been serialised, which for\n",
       "    // our purposes (turning an active figure into a static one), is too late.\n",
       "    var cells = IPython.notebook.get_cells();\n",
       "    var ncells = cells.length;\n",
       "    for (var i=0; i<ncells; i++) {\n",
       "        var cell = cells[i];\n",
       "        if (cell.cell_type === 'code'){\n",
       "            for (var j=0; j<cell.output_area.outputs.length; j++) {\n",
       "                var data = cell.output_area.outputs[j];\n",
       "                if (data.data) {\n",
       "                    // IPython >= 3 moved mimebundle to data attribute of output\n",
       "                    data = data.data;\n",
       "                }\n",
       "                if (data['text/html'] == html_output) {\n",
       "                    return [cell, data, j];\n",
       "                }\n",
       "            }\n",
       "        }\n",
       "    }\n",
       "}\n",
       "\n",
       "// Register the function which deals with the matplotlib target/channel.\n",
       "// The kernel may be null if the page has been refreshed.\n",
       "if (IPython.notebook.kernel != null) {\n",
       "    IPython.notebook.kernel.comm_manager.register_target('matplotlib', mpl.mpl_figure_comm);\n",
       "}\n"
      ],
      "text/plain": [
       "<IPython.core.display.Javascript object>"
      ]
     },
     "metadata": {},
     "output_type": "display_data"
    },
    {
     "data": {
      "text/html": [
       "<img src=\"data:image/png;base64,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\">"
      ],
      "text/plain": [
       "<IPython.core.display.HTML object>"
      ]
     },
     "metadata": {},
     "output_type": "display_data"
    }
   ],
   "source": [
    "def rdf(phival, shearrate, bins):\n",
    "    path = \"rhor1_phi\"+str(phival)+\"_yd\"+str(float(shearrate))+\"/\"\n",
    "    dataset = sp.reader.DataSet(path,particles=True, fluid=True)\n",
    "    dataset.load_state(dataset.tlist[-10])\n",
    "\n",
    "    positions = dataset.particles.r\n",
    "    fluid_velocity = dataset.fluid.u\n",
    "    L = dataset.L # Domain size\n",
    "    LEs = dataset.LEs  # Lees-Edwards shift at time dataset.t\n",
    "    LEu = dataset.LEu  # Lees-Edwards velocity\n",
    "\n",
    "    sim_chars = sp.susi.extract_sim_characteristics(dataset)\n",
    "    sim_chars['histogram'] = {'bins': bins, 'range': (0, 2.8376564979553224e-05)}\n",
    "\n",
    "    rdf = sp.spatial.radial_distribution_function(positions,**sim_chars)\n",
    "    plt.figure(figsize=[10,10])\n",
    "    plt.plot(rdf[0]/(2*np.min(sim_chars['radius'])),rdf[1],\"g\",label=\"rdf\")\n",
    "    plt.bar(rdf[0]/np.min(2*np.min(sim_chars['radius'])),rdf[1],width = 1.0/sim_chars['histogram']['bins'])\n",
    "    plt.axhline(1.0,color=\"r\",label=\"probability 1\")\n",
    "\n",
    "    # s = sim_chars['radius'].min()\n",
    "    # b = sim_chars['radius'].max()\n",
    "\n",
    "    s = 4\n",
    "    b = 11.2/2\n",
    "    import inspect, re\n",
    "\n",
    "    def plot_vline(loc, text):\n",
    "        plt.axvline(loc/float(2*s),color=\"k\")\n",
    "        plt.text(loc/float(2*s),3,text, ha = 'right',rotation=90)\n",
    "\n",
    "    plot_vline(s+s,\"s+s\")\n",
    "    plot_vline(s+b,\"s+b\")\n",
    "    plot_vline(b+b,\"b+b\")\n",
    "\n",
    "    # plot_vline(s+s+s,\"s+s+s\")\n",
    "    # plot_vline(s+s+b,\"s+s+b\")\n",
    "    # plot_vline(s+b+b,\"s+b+b\")\n",
    "    # plot_vline(b+b+b,\"b+b+b\")\n",
    "\n",
    "    # plot_vline(s+s+s+s,\"s+s+s+s\")\n",
    "    # plot_vline(s+s+s+b,\"s+s+s+b\")\n",
    "    # plot_vline(s+s+b+b,\"s+s+b+b\")\n",
    "    # plot_vline(s+b+b+b,\"s+b+b+b\")\n",
    "    # plot_vline(b+b+b+b,\"b+b+b+b\")\n",
    "\n",
    "    plt.legend()\n",
    "    props = dict(boxstyle='round', facecolor='white', alpha=0.5)\n",
    "    plt.text(2.85, 2.5, \"s = small particle \\nb = big particle \\nvertical lines represent the expected \\npeaks in RDF due to intersection of \\nthe particles\"\n",
    "             , fontsize=8, verticalalignment='top', bbox=props, wrap=True)\n",
    "    plt.xlabel(\"2Rmin\")\n",
    "    plt.ylabel(\"g(r)\")\n",
    "    plt.title(path)\n",
    "    #plt.savefig(\"radial_distribution_function\")\n",
    "\n",
    "\n",
    "v = interactive(rdf, \\\n",
    "                phival = widgets.ToggleButtons(options=[40,45,50,54,55,56,58],value=56,disabled=False), \\\n",
    "                shearrate= widgets.ToggleButtons(options=[1,10,11,11.5,12,12.5,13,14,15,16,18,20,30,50,70,100,200,300,1000],value = 12),\\\n",
    "                bins=(10,100), __manual=False)\n",
    "\n",
    "display(v)"
   ]
  },
  {
   "cell_type": "markdown",
   "metadata": {},
   "source": [
    "---------------------------------------"
   ]
  },
  {
   "cell_type": "markdown",
   "metadata": {},
   "source": [
    "---------------------------------------\n"
   ]
  },
  {
   "cell_type": "code",
   "execution_count": 5,
   "metadata": {
    "collapsed": false
   },
   "outputs": [],
   "source": [
    "# dataset = sp.reader.DataSet(path,particles=True, fluid=True)\n",
    "# sim_chars = sp.susi.extract_sim_characteristics(dataset)\n",
    "# sim_chars['histogram'] = {'bins': 100, 'range': (0, 2.8376564979553224e-05)}\n",
    "# sim_chars['histogramdd']={\"bins\":(20, 20, 20)}\n",
    "# pdf = sp.spatial.pair_distribution_function(positions,**sim_chars)\n",
    "\n"
   ]
  },
  {
   "cell_type": "code",
   "execution_count": 6,
   "metadata": {
    "collapsed": false,
    "scrolled": true
   },
   "outputs": [],
   "source": [
    "from matplotlib.patches import Circle  # $matplotlib/patches.py\n",
    "\n",
    "def circle( xy, radius, color=\"lightsteelblue\", facecolor=\"none\", alpha=1, ax=None ):\n",
    "    \"\"\" add a circle to ax= or current axes\n",
    "    \"\"\"\n",
    "        # from .../pylab_examples/ellipse_demo.py\n",
    "    e = Circle( xy=xy, radius=radius )\n",
    "    if ax is None:\n",
    "        ax = plt.gca()  # ax = subplot( 1,1,1 )\n",
    "    ax.add_artist(e)\n",
    "    e.set_clip_box(ax.bbox)\n",
    "    e.set_edgecolor( color )\n",
    "    e.set_facecolor( facecolor )  # \"none\" not None\n",
    "    e.set_alpha( alpha )\n",
    "    \n",
    "def plot_pdf(path):\n",
    "    dataset = sp.reader.DataSet(path,particles=True, fluid=True)\n",
    "    dataset.load_state(dataset.tlist[-1])\n",
    "    sim_chars['histogramdd']={\"bins\":(30,30,30)}\n",
    "    pdf2d = filter.PairDistributionFunction2D(dataset,**sim_chars)\n",
    "    X = pdf2d[0]/1e-6\n",
    "    Y = pdf2d[1]/1e-6\n",
    "    Z = pdf2d[2]\n",
    "    plt.figure()\n",
    "    im = plt.imshow(Z, extent=(X.min(), X.max(), Y.max(), Y.min()),interpolation='bicubic')\n",
    "\n",
    "\n",
    "    plt.title(path)\n",
    "    plt.colorbar(im)\n",
    "\n",
    "# print np.sort(get_folder_list())\n",
    "# s = 4\n",
    "# b = 11.2/2\n",
    "# for path in np.sort(get_folder_list()[:]):\n",
    "#     try:\n",
    "#         plot_pdf(path)\n",
    "#     except Exception as e:\n",
    "#         print e\n",
    "#         continue"
   ]
  },
  {
   "cell_type": "markdown",
   "metadata": {
    "collapsed": false
   },
   "source": [
    "## Plot the radial distribution function g(r) as a function of distance\n"
   ]
  },
  {
   "cell_type": "code",
   "execution_count": 7,
   "metadata": {
    "collapsed": false
   },
   "outputs": [
    {
     "data": {
      "application/javascript": [
       "/* Put everything inside the global mpl namespace */\n",
       "window.mpl = {};\n",
       "\n",
       "mpl.get_websocket_type = function() {\n",
       "    if (typeof(WebSocket) !== 'undefined') {\n",
       "        return WebSocket;\n",
       "    } else if (typeof(MozWebSocket) !== 'undefined') {\n",
       "        return MozWebSocket;\n",
       "    } else {\n",
       "        alert('Your browser does not have WebSocket support.' +\n",
       "              'Please try Chrome, Safari or Firefox ≥ 6. ' +\n",
       "              'Firefox 4 and 5 are also supported but you ' +\n",
       "              'have to enable WebSockets in about:config.');\n",
       "    };\n",
       "}\n",
       "\n",
       "mpl.figure = function(figure_id, websocket, ondownload, parent_element) {\n",
       "    this.id = figure_id;\n",
       "\n",
       "    this.ws = websocket;\n",
       "\n",
       "    this.supports_binary = (this.ws.binaryType != undefined);\n",
       "\n",
       "    if (!this.supports_binary) {\n",
       "        var warnings = document.getElementById(\"mpl-warnings\");\n",
       "        if (warnings) {\n",
       "            warnings.style.display = 'block';\n",
       "            warnings.textContent = (\n",
       "                \"This browser does not support binary websocket messages. \" +\n",
       "                    \"Performance may be slow.\");\n",
       "        }\n",
       "    }\n",
       "\n",
       "    this.imageObj = new Image();\n",
       "\n",
       "    this.context = undefined;\n",
       "    this.message = undefined;\n",
       "    this.canvas = undefined;\n",
       "    this.rubberband_canvas = undefined;\n",
       "    this.rubberband_context = undefined;\n",
       "    this.format_dropdown = undefined;\n",
       "\n",
       "    this.image_mode = 'full';\n",
       "\n",
       "    this.root = $('<div/>');\n",
       "    this._root_extra_style(this.root)\n",
       "    this.root.attr('style', 'display: inline-block');\n",
       "\n",
       "    $(parent_element).append(this.root);\n",
       "\n",
       "    this._init_header(this);\n",
       "    this._init_canvas(this);\n",
       "    this._init_toolbar(this);\n",
       "\n",
       "    var fig = this;\n",
       "\n",
       "    this.waiting = false;\n",
       "\n",
       "    this.ws.onopen =  function () {\n",
       "            fig.send_message(\"supports_binary\", {value: fig.supports_binary});\n",
       "            fig.send_message(\"send_image_mode\", {});\n",
       "            fig.send_message(\"refresh\", {});\n",
       "        }\n",
       "\n",
       "    this.imageObj.onload = function() {\n",
       "            if (fig.image_mode == 'full') {\n",
       "                // Full images could contain transparency (where diff images\n",
       "                // almost always do), so we need to clear the canvas so that\n",
       "                // there is no ghosting.\n",
       "                fig.context.clearRect(0, 0, fig.canvas.width, fig.canvas.height);\n",
       "            }\n",
       "            fig.context.drawImage(fig.imageObj, 0, 0);\n",
       "        };\n",
       "\n",
       "    this.imageObj.onunload = function() {\n",
       "        this.ws.close();\n",
       "    }\n",
       "\n",
       "    this.ws.onmessage = this._make_on_message_function(this);\n",
       "\n",
       "    this.ondownload = ondownload;\n",
       "}\n",
       "\n",
       "mpl.figure.prototype._init_header = function() {\n",
       "    var titlebar = $(\n",
       "        '<div class=\"ui-dialog-titlebar ui-widget-header ui-corner-all ' +\n",
       "        'ui-helper-clearfix\"/>');\n",
       "    var titletext = $(\n",
       "        '<div class=\"ui-dialog-title\" style=\"width: 100%; ' +\n",
       "        'text-align: center; padding: 3px;\"/>');\n",
       "    titlebar.append(titletext)\n",
       "    this.root.append(titlebar);\n",
       "    this.header = titletext[0];\n",
       "}\n",
       "\n",
       "\n",
       "\n",
       "mpl.figure.prototype._canvas_extra_style = function(canvas_div) {\n",
       "\n",
       "}\n",
       "\n",
       "\n",
       "mpl.figure.prototype._root_extra_style = function(canvas_div) {\n",
       "\n",
       "}\n",
       "\n",
       "mpl.figure.prototype._init_canvas = function() {\n",
       "    var fig = this;\n",
       "\n",
       "    var canvas_div = $('<div/>');\n",
       "\n",
       "    canvas_div.attr('style', 'position: relative; clear: both; outline: 0');\n",
       "\n",
       "    function canvas_keyboard_event(event) {\n",
       "        return fig.key_event(event, event['data']);\n",
       "    }\n",
       "\n",
       "    canvas_div.keydown('key_press', canvas_keyboard_event);\n",
       "    canvas_div.keyup('key_release', canvas_keyboard_event);\n",
       "    this.canvas_div = canvas_div\n",
       "    this._canvas_extra_style(canvas_div)\n",
       "    this.root.append(canvas_div);\n",
       "\n",
       "    var canvas = $('<canvas/>');\n",
       "    canvas.addClass('mpl-canvas');\n",
       "    canvas.attr('style', \"left: 0; top: 0; z-index: 0; outline: 0\")\n",
       "\n",
       "    this.canvas = canvas[0];\n",
       "    this.context = canvas[0].getContext(\"2d\");\n",
       "\n",
       "    var rubberband = $('<canvas/>');\n",
       "    rubberband.attr('style', \"position: absolute; left: 0; top: 0; z-index: 1;\")\n",
       "\n",
       "    var pass_mouse_events = true;\n",
       "\n",
       "    canvas_div.resizable({\n",
       "        start: function(event, ui) {\n",
       "            pass_mouse_events = false;\n",
       "        },\n",
       "        resize: function(event, ui) {\n",
       "            fig.request_resize(ui.size.width, ui.size.height);\n",
       "        },\n",
       "        stop: function(event, ui) {\n",
       "            pass_mouse_events = true;\n",
       "            fig.request_resize(ui.size.width, ui.size.height);\n",
       "        },\n",
       "    });\n",
       "\n",
       "    function mouse_event_fn(event) {\n",
       "        if (pass_mouse_events)\n",
       "            return fig.mouse_event(event, event['data']);\n",
       "    }\n",
       "\n",
       "    rubberband.mousedown('button_press', mouse_event_fn);\n",
       "    rubberband.mouseup('button_release', mouse_event_fn);\n",
       "    // Throttle sequential mouse events to 1 every 20ms.\n",
       "    rubberband.mousemove('motion_notify', mouse_event_fn);\n",
       "\n",
       "    rubberband.mouseenter('figure_enter', mouse_event_fn);\n",
       "    rubberband.mouseleave('figure_leave', mouse_event_fn);\n",
       "\n",
       "    canvas_div.on(\"wheel\", function (event) {\n",
       "        event = event.originalEvent;\n",
       "        event['data'] = 'scroll'\n",
       "        if (event.deltaY < 0) {\n",
       "            event.step = 1;\n",
       "        } else {\n",
       "            event.step = -1;\n",
       "        }\n",
       "        mouse_event_fn(event);\n",
       "    });\n",
       "\n",
       "    canvas_div.append(canvas);\n",
       "    canvas_div.append(rubberband);\n",
       "\n",
       "    this.rubberband = rubberband;\n",
       "    this.rubberband_canvas = rubberband[0];\n",
       "    this.rubberband_context = rubberband[0].getContext(\"2d\");\n",
       "    this.rubberband_context.strokeStyle = \"#000000\";\n",
       "\n",
       "    this._resize_canvas = function(width, height) {\n",
       "        // Keep the size of the canvas, canvas container, and rubber band\n",
       "        // canvas in synch.\n",
       "        canvas_div.css('width', width)\n",
       "        canvas_div.css('height', height)\n",
       "\n",
       "        canvas.attr('width', width);\n",
       "        canvas.attr('height', height);\n",
       "\n",
       "        rubberband.attr('width', width);\n",
       "        rubberband.attr('height', height);\n",
       "    }\n",
       "\n",
       "    // Set the figure to an initial 600x600px, this will subsequently be updated\n",
       "    // upon first draw.\n",
       "    this._resize_canvas(600, 600);\n",
       "\n",
       "    // Disable right mouse context menu.\n",
       "    $(this.rubberband_canvas).bind(\"contextmenu\",function(e){\n",
       "        return false;\n",
       "    });\n",
       "\n",
       "    function set_focus () {\n",
       "        canvas.focus();\n",
       "        canvas_div.focus();\n",
       "    }\n",
       "\n",
       "    window.setTimeout(set_focus, 100);\n",
       "}\n",
       "\n",
       "mpl.figure.prototype._init_toolbar = function() {\n",
       "    var fig = this;\n",
       "\n",
       "    var nav_element = $('<div/>')\n",
       "    nav_element.attr('style', 'width: 100%');\n",
       "    this.root.append(nav_element);\n",
       "\n",
       "    // Define a callback function for later on.\n",
       "    function toolbar_event(event) {\n",
       "        return fig.toolbar_button_onclick(event['data']);\n",
       "    }\n",
       "    function toolbar_mouse_event(event) {\n",
       "        return fig.toolbar_button_onmouseover(event['data']);\n",
       "    }\n",
       "\n",
       "    for(var toolbar_ind in mpl.toolbar_items) {\n",
       "        var name = mpl.toolbar_items[toolbar_ind][0];\n",
       "        var tooltip = mpl.toolbar_items[toolbar_ind][1];\n",
       "        var image = mpl.toolbar_items[toolbar_ind][2];\n",
       "        var method_name = mpl.toolbar_items[toolbar_ind][3];\n",
       "\n",
       "        if (!name) {\n",
       "            // put a spacer in here.\n",
       "            continue;\n",
       "        }\n",
       "        var button = $('<button/>');\n",
       "        button.addClass('ui-button ui-widget ui-state-default ui-corner-all ' +\n",
       "                        'ui-button-icon-only');\n",
       "        button.attr('role', 'button');\n",
       "        button.attr('aria-disabled', 'false');\n",
       "        button.click(method_name, toolbar_event);\n",
       "        button.mouseover(tooltip, toolbar_mouse_event);\n",
       "\n",
       "        var icon_img = $('<span/>');\n",
       "        icon_img.addClass('ui-button-icon-primary ui-icon');\n",
       "        icon_img.addClass(image);\n",
       "        icon_img.addClass('ui-corner-all');\n",
       "\n",
       "        var tooltip_span = $('<span/>');\n",
       "        tooltip_span.addClass('ui-button-text');\n",
       "        tooltip_span.html(tooltip);\n",
       "\n",
       "        button.append(icon_img);\n",
       "        button.append(tooltip_span);\n",
       "\n",
       "        nav_element.append(button);\n",
       "    }\n",
       "\n",
       "    var fmt_picker_span = $('<span/>');\n",
       "\n",
       "    var fmt_picker = $('<select/>');\n",
       "    fmt_picker.addClass('mpl-toolbar-option ui-widget ui-widget-content');\n",
       "    fmt_picker_span.append(fmt_picker);\n",
       "    nav_element.append(fmt_picker_span);\n",
       "    this.format_dropdown = fmt_picker[0];\n",
       "\n",
       "    for (var ind in mpl.extensions) {\n",
       "        var fmt = mpl.extensions[ind];\n",
       "        var option = $(\n",
       "            '<option/>', {selected: fmt === mpl.default_extension}).html(fmt);\n",
       "        fmt_picker.append(option)\n",
       "    }\n",
       "\n",
       "    // Add hover states to the ui-buttons\n",
       "    $( \".ui-button\" ).hover(\n",
       "        function() { $(this).addClass(\"ui-state-hover\");},\n",
       "        function() { $(this).removeClass(\"ui-state-hover\");}\n",
       "    );\n",
       "\n",
       "    var status_bar = $('<span class=\"mpl-message\"/>');\n",
       "    nav_element.append(status_bar);\n",
       "    this.message = status_bar[0];\n",
       "}\n",
       "\n",
       "mpl.figure.prototype.request_resize = function(x_pixels, y_pixels) {\n",
       "    // Request matplotlib to resize the figure. Matplotlib will then trigger a resize in the client,\n",
       "    // which will in turn request a refresh of the image.\n",
       "    this.send_message('resize', {'width': x_pixels, 'height': y_pixels});\n",
       "}\n",
       "\n",
       "mpl.figure.prototype.send_message = function(type, properties) {\n",
       "    properties['type'] = type;\n",
       "    properties['figure_id'] = this.id;\n",
       "    this.ws.send(JSON.stringify(properties));\n",
       "}\n",
       "\n",
       "mpl.figure.prototype.send_draw_message = function() {\n",
       "    if (!this.waiting) {\n",
       "        this.waiting = true;\n",
       "        this.ws.send(JSON.stringify({type: \"draw\", figure_id: this.id}));\n",
       "    }\n",
       "}\n",
       "\n",
       "\n",
       "mpl.figure.prototype.handle_save = function(fig, msg) {\n",
       "    var format_dropdown = fig.format_dropdown;\n",
       "    var format = format_dropdown.options[format_dropdown.selectedIndex].value;\n",
       "    fig.ondownload(fig, format);\n",
       "}\n",
       "\n",
       "\n",
       "mpl.figure.prototype.handle_resize = function(fig, msg) {\n",
       "    var size = msg['size'];\n",
       "    if (size[0] != fig.canvas.width || size[1] != fig.canvas.height) {\n",
       "        fig._resize_canvas(size[0], size[1]);\n",
       "        fig.send_message(\"refresh\", {});\n",
       "    };\n",
       "}\n",
       "\n",
       "mpl.figure.prototype.handle_rubberband = function(fig, msg) {\n",
       "    var x0 = msg['x0'];\n",
       "    var y0 = fig.canvas.height - msg['y0'];\n",
       "    var x1 = msg['x1'];\n",
       "    var y1 = fig.canvas.height - msg['y1'];\n",
       "    x0 = Math.floor(x0) + 0.5;\n",
       "    y0 = Math.floor(y0) + 0.5;\n",
       "    x1 = Math.floor(x1) + 0.5;\n",
       "    y1 = Math.floor(y1) + 0.5;\n",
       "    var min_x = Math.min(x0, x1);\n",
       "    var min_y = Math.min(y0, y1);\n",
       "    var width = Math.abs(x1 - x0);\n",
       "    var height = Math.abs(y1 - y0);\n",
       "\n",
       "    fig.rubberband_context.clearRect(\n",
       "        0, 0, fig.canvas.width, fig.canvas.height);\n",
       "\n",
       "    fig.rubberband_context.strokeRect(min_x, min_y, width, height);\n",
       "}\n",
       "\n",
       "mpl.figure.prototype.handle_figure_label = function(fig, msg) {\n",
       "    // Updates the figure title.\n",
       "    fig.header.textContent = msg['label'];\n",
       "}\n",
       "\n",
       "mpl.figure.prototype.handle_cursor = function(fig, msg) {\n",
       "    var cursor = msg['cursor'];\n",
       "    switch(cursor)\n",
       "    {\n",
       "    case 0:\n",
       "        cursor = 'pointer';\n",
       "        break;\n",
       "    case 1:\n",
       "        cursor = 'default';\n",
       "        break;\n",
       "    case 2:\n",
       "        cursor = 'crosshair';\n",
       "        break;\n",
       "    case 3:\n",
       "        cursor = 'move';\n",
       "        break;\n",
       "    }\n",
       "    fig.rubberband_canvas.style.cursor = cursor;\n",
       "}\n",
       "\n",
       "mpl.figure.prototype.handle_message = function(fig, msg) {\n",
       "    fig.message.textContent = msg['message'];\n",
       "}\n",
       "\n",
       "mpl.figure.prototype.handle_draw = function(fig, msg) {\n",
       "    // Request the server to send over a new figure.\n",
       "    fig.send_draw_message();\n",
       "}\n",
       "\n",
       "mpl.figure.prototype.handle_image_mode = function(fig, msg) {\n",
       "    fig.image_mode = msg['mode'];\n",
       "}\n",
       "\n",
       "mpl.figure.prototype.updated_canvas_event = function() {\n",
       "    // Called whenever the canvas gets updated.\n",
       "    this.send_message(\"ack\", {});\n",
       "}\n",
       "\n",
       "// A function to construct a web socket function for onmessage handling.\n",
       "// Called in the figure constructor.\n",
       "mpl.figure.prototype._make_on_message_function = function(fig) {\n",
       "    return function socket_on_message(evt) {\n",
       "        if (evt.data instanceof Blob) {\n",
       "            /* FIXME: We get \"Resource interpreted as Image but\n",
       "             * transferred with MIME type text/plain:\" errors on\n",
       "             * Chrome.  But how to set the MIME type?  It doesn't seem\n",
       "             * to be part of the websocket stream */\n",
       "            evt.data.type = \"image/png\";\n",
       "\n",
       "            /* Free the memory for the previous frames */\n",
       "            if (fig.imageObj.src) {\n",
       "                (window.URL || window.webkitURL).revokeObjectURL(\n",
       "                    fig.imageObj.src);\n",
       "            }\n",
       "\n",
       "            fig.imageObj.src = (window.URL || window.webkitURL).createObjectURL(\n",
       "                evt.data);\n",
       "            fig.updated_canvas_event();\n",
       "            fig.waiting = false;\n",
       "            return;\n",
       "        }\n",
       "        else if (typeof evt.data === 'string' && evt.data.slice(0, 21) == \"data:image/png;base64\") {\n",
       "            fig.imageObj.src = evt.data;\n",
       "            fig.updated_canvas_event();\n",
       "            fig.waiting = false;\n",
       "            return;\n",
       "        }\n",
       "\n",
       "        var msg = JSON.parse(evt.data);\n",
       "        var msg_type = msg['type'];\n",
       "\n",
       "        // Call the  \"handle_{type}\" callback, which takes\n",
       "        // the figure and JSON message as its only arguments.\n",
       "        try {\n",
       "            var callback = fig[\"handle_\" + msg_type];\n",
       "        } catch (e) {\n",
       "            console.log(\"No handler for the '\" + msg_type + \"' message type: \", msg);\n",
       "            return;\n",
       "        }\n",
       "\n",
       "        if (callback) {\n",
       "            try {\n",
       "                // console.log(\"Handling '\" + msg_type + \"' message: \", msg);\n",
       "                callback(fig, msg);\n",
       "            } catch (e) {\n",
       "                console.log(\"Exception inside the 'handler_\" + msg_type + \"' callback:\", e, e.stack, msg);\n",
       "            }\n",
       "        }\n",
       "    };\n",
       "}\n",
       "\n",
       "// from http://stackoverflow.com/questions/1114465/getting-mouse-location-in-canvas\n",
       "mpl.findpos = function(e) {\n",
       "    //this section is from http://www.quirksmode.org/js/events_properties.html\n",
       "    var targ;\n",
       "    if (!e)\n",
       "        e = window.event;\n",
       "    if (e.target)\n",
       "        targ = e.target;\n",
       "    else if (e.srcElement)\n",
       "        targ = e.srcElement;\n",
       "    if (targ.nodeType == 3) // defeat Safari bug\n",
       "        targ = targ.parentNode;\n",
       "\n",
       "    // jQuery normalizes the pageX and pageY\n",
       "    // pageX,Y are the mouse positions relative to the document\n",
       "    // offset() returns the position of the element relative to the document\n",
       "    var x = e.pageX - $(targ).offset().left;\n",
       "    var y = e.pageY - $(targ).offset().top;\n",
       "\n",
       "    return {\"x\": x, \"y\": y};\n",
       "};\n",
       "\n",
       "/*\n",
       " * return a copy of an object with only non-object keys\n",
       " * we need this to avoid circular references\n",
       " * http://stackoverflow.com/a/24161582/3208463\n",
       " */\n",
       "function simpleKeys (original) {\n",
       "  return Object.keys(original).reduce(function (obj, key) {\n",
       "    if (typeof original[key] !== 'object')\n",
       "        obj[key] = original[key]\n",
       "    return obj;\n",
       "  }, {});\n",
       "}\n",
       "\n",
       "mpl.figure.prototype.mouse_event = function(event, name) {\n",
       "    var canvas_pos = mpl.findpos(event)\n",
       "\n",
       "    if (name === 'button_press')\n",
       "    {\n",
       "        this.canvas.focus();\n",
       "        this.canvas_div.focus();\n",
       "    }\n",
       "\n",
       "    var x = canvas_pos.x;\n",
       "    var y = canvas_pos.y;\n",
       "\n",
       "    this.send_message(name, {x: x, y: y, button: event.button,\n",
       "                             step: event.step,\n",
       "                             guiEvent: simpleKeys(event)});\n",
       "\n",
       "    /* This prevents the web browser from automatically changing to\n",
       "     * the text insertion cursor when the button is pressed.  We want\n",
       "     * to control all of the cursor setting manually through the\n",
       "     * 'cursor' event from matplotlib */\n",
       "    event.preventDefault();\n",
       "    return false;\n",
       "}\n",
       "\n",
       "mpl.figure.prototype._key_event_extra = function(event, name) {\n",
       "    // Handle any extra behaviour associated with a key event\n",
       "}\n",
       "\n",
       "mpl.figure.prototype.key_event = function(event, name) {\n",
       "\n",
       "    // Prevent repeat events\n",
       "    if (name == 'key_press')\n",
       "    {\n",
       "        if (event.which === this._key)\n",
       "            return;\n",
       "        else\n",
       "            this._key = event.which;\n",
       "    }\n",
       "    if (name == 'key_release')\n",
       "        this._key = null;\n",
       "\n",
       "    var value = '';\n",
       "    if (event.ctrlKey && event.which != 17)\n",
       "        value += \"ctrl+\";\n",
       "    if (event.altKey && event.which != 18)\n",
       "        value += \"alt+\";\n",
       "    if (event.shiftKey && event.which != 16)\n",
       "        value += \"shift+\";\n",
       "\n",
       "    value += 'k';\n",
       "    value += event.which.toString();\n",
       "\n",
       "    this._key_event_extra(event, name);\n",
       "\n",
       "    this.send_message(name, {key: value,\n",
       "                             guiEvent: simpleKeys(event)});\n",
       "    return false;\n",
       "}\n",
       "\n",
       "mpl.figure.prototype.toolbar_button_onclick = function(name) {\n",
       "    if (name == 'download') {\n",
       "        this.handle_save(this, null);\n",
       "    } else {\n",
       "        this.send_message(\"toolbar_button\", {name: name});\n",
       "    }\n",
       "};\n",
       "\n",
       "mpl.figure.prototype.toolbar_button_onmouseover = function(tooltip) {\n",
       "    this.message.textContent = tooltip;\n",
       "};\n",
       "mpl.toolbar_items = [[\"Home\", \"Reset original view\", \"fa fa-home icon-home\", \"home\"], [\"Back\", \"Back to  previous view\", \"fa fa-arrow-left icon-arrow-left\", \"back\"], [\"Forward\", \"Forward to next view\", \"fa fa-arrow-right icon-arrow-right\", \"forward\"], [\"\", \"\", \"\", \"\"], [\"Pan\", \"Pan axes with left mouse, zoom with right\", \"fa fa-arrows icon-move\", \"pan\"], [\"Zoom\", \"Zoom to rectangle\", \"fa fa-square-o icon-check-empty\", \"zoom\"], [\"\", \"\", \"\", \"\"], [\"Download\", \"Download plot\", \"fa fa-floppy-o icon-save\", \"download\"]];\n",
       "\n",
       "mpl.extensions = [\"eps\", \"jpeg\", \"pdf\", \"png\", \"ps\", \"raw\", \"svg\", \"tif\"];\n",
       "\n",
       "mpl.default_extension = \"png\";var comm_websocket_adapter = function(comm) {\n",
       "    // Create a \"websocket\"-like object which calls the given IPython comm\n",
       "    // object with the appropriate methods. Currently this is a non binary\n",
       "    // socket, so there is still some room for performance tuning.\n",
       "    var ws = {};\n",
       "\n",
       "    ws.close = function() {\n",
       "        comm.close()\n",
       "    };\n",
       "    ws.send = function(m) {\n",
       "        //console.log('sending', m);\n",
       "        comm.send(m);\n",
       "    };\n",
       "    // Register the callback with on_msg.\n",
       "    comm.on_msg(function(msg) {\n",
       "        //console.log('receiving', msg['content']['data'], msg);\n",
       "        // Pass the mpl event to the overriden (by mpl) onmessage function.\n",
       "        ws.onmessage(msg['content']['data'])\n",
       "    });\n",
       "    return ws;\n",
       "}\n",
       "\n",
       "mpl.mpl_figure_comm = function(comm, msg) {\n",
       "    // This is the function which gets called when the mpl process\n",
       "    // starts-up an IPython Comm through the \"matplotlib\" channel.\n",
       "\n",
       "    var id = msg.content.data.id;\n",
       "    // Get hold of the div created by the display call when the Comm\n",
       "    // socket was opened in Python.\n",
       "    var element = $(\"#\" + id);\n",
       "    var ws_proxy = comm_websocket_adapter(comm)\n",
       "\n",
       "    function ondownload(figure, format) {\n",
       "        window.open(figure.imageObj.src);\n",
       "    }\n",
       "\n",
       "    var fig = new mpl.figure(id, ws_proxy,\n",
       "                           ondownload,\n",
       "                           element.get(0));\n",
       "\n",
       "    // Call onopen now - mpl needs it, as it is assuming we've passed it a real\n",
       "    // web socket which is closed, not our websocket->open comm proxy.\n",
       "    ws_proxy.onopen();\n",
       "\n",
       "    fig.parent_element = element.get(0);\n",
       "    fig.cell_info = mpl.find_output_cell(\"<div id='\" + id + \"'></div>\");\n",
       "    if (!fig.cell_info) {\n",
       "        console.error(\"Failed to find cell for figure\", id, fig);\n",
       "        return;\n",
       "    }\n",
       "\n",
       "    var output_index = fig.cell_info[2]\n",
       "    var cell = fig.cell_info[0];\n",
       "\n",
       "};\n",
       "\n",
       "mpl.figure.prototype.handle_close = function(fig, msg) {\n",
       "    fig.root.unbind('remove')\n",
       "\n",
       "    // Update the output cell to use the data from the current canvas.\n",
       "    fig.push_to_output();\n",
       "    var dataURL = fig.canvas.toDataURL();\n",
       "    // Re-enable the keyboard manager in IPython - without this line, in FF,\n",
       "    // the notebook keyboard shortcuts fail.\n",
       "    IPython.keyboard_manager.enable()\n",
       "    $(fig.parent_element).html('<img src=\"' + dataURL + '\">');\n",
       "    fig.close_ws(fig, msg);\n",
       "}\n",
       "\n",
       "mpl.figure.prototype.close_ws = function(fig, msg){\n",
       "    fig.send_message('closing', msg);\n",
       "    // fig.ws.close()\n",
       "}\n",
       "\n",
       "mpl.figure.prototype.push_to_output = function(remove_interactive) {\n",
       "    // Turn the data on the canvas into data in the output cell.\n",
       "    var dataURL = this.canvas.toDataURL();\n",
       "    this.cell_info[1]['text/html'] = '<img src=\"' + dataURL + '\">';\n",
       "}\n",
       "\n",
       "mpl.figure.prototype.updated_canvas_event = function() {\n",
       "    // Tell IPython that the notebook contents must change.\n",
       "    IPython.notebook.set_dirty(true);\n",
       "    this.send_message(\"ack\", {});\n",
       "    var fig = this;\n",
       "    // Wait a second, then push the new image to the DOM so\n",
       "    // that it is saved nicely (might be nice to debounce this).\n",
       "    setTimeout(function () { fig.push_to_output() }, 1000);\n",
       "}\n",
       "\n",
       "mpl.figure.prototype._init_toolbar = function() {\n",
       "    var fig = this;\n",
       "\n",
       "    var nav_element = $('<div/>')\n",
       "    nav_element.attr('style', 'width: 100%');\n",
       "    this.root.append(nav_element);\n",
       "\n",
       "    // Define a callback function for later on.\n",
       "    function toolbar_event(event) {\n",
       "        return fig.toolbar_button_onclick(event['data']);\n",
       "    }\n",
       "    function toolbar_mouse_event(event) {\n",
       "        return fig.toolbar_button_onmouseover(event['data']);\n",
       "    }\n",
       "\n",
       "    for(var toolbar_ind in mpl.toolbar_items){\n",
       "        var name = mpl.toolbar_items[toolbar_ind][0];\n",
       "        var tooltip = mpl.toolbar_items[toolbar_ind][1];\n",
       "        var image = mpl.toolbar_items[toolbar_ind][2];\n",
       "        var method_name = mpl.toolbar_items[toolbar_ind][3];\n",
       "\n",
       "        if (!name) { continue; };\n",
       "\n",
       "        var button = $('<button class=\"btn btn-default\" href=\"#\" title=\"' + name + '\"><i class=\"fa ' + image + ' fa-lg\"></i></button>');\n",
       "        button.click(method_name, toolbar_event);\n",
       "        button.mouseover(tooltip, toolbar_mouse_event);\n",
       "        nav_element.append(button);\n",
       "    }\n",
       "\n",
       "    // Add the status bar.\n",
       "    var status_bar = $('<span class=\"mpl-message\" style=\"text-align:right; float: right;\"/>');\n",
       "    nav_element.append(status_bar);\n",
       "    this.message = status_bar[0];\n",
       "\n",
       "    // Add the close button to the window.\n",
       "    var buttongrp = $('<div class=\"btn-group inline pull-right\"></div>');\n",
       "    var button = $('<button class=\"btn btn-mini btn-primary\" href=\"#\" title=\"Stop Interaction\"><i class=\"fa fa-power-off icon-remove icon-large\"></i></button>');\n",
       "    button.click(function (evt) { fig.handle_close(fig, {}); } );\n",
       "    button.mouseover('Stop Interaction', toolbar_mouse_event);\n",
       "    buttongrp.append(button);\n",
       "    var titlebar = this.root.find($('.ui-dialog-titlebar'));\n",
       "    titlebar.prepend(buttongrp);\n",
       "}\n",
       "\n",
       "mpl.figure.prototype._root_extra_style = function(el){\n",
       "    var fig = this\n",
       "    el.on(\"remove\", function(){\n",
       "\tfig.close_ws(fig, {});\n",
       "    });\n",
       "}\n",
       "\n",
       "mpl.figure.prototype._canvas_extra_style = function(el){\n",
       "    // this is important to make the div 'focusable\n",
       "    el.attr('tabindex', 0)\n",
       "    // reach out to IPython and tell the keyboard manager to turn it's self\n",
       "    // off when our div gets focus\n",
       "\n",
       "    // location in version 3\n",
       "    if (IPython.notebook.keyboard_manager) {\n",
       "        IPython.notebook.keyboard_manager.register_events(el);\n",
       "    }\n",
       "    else {\n",
       "        // location in version 2\n",
       "        IPython.keyboard_manager.register_events(el);\n",
       "    }\n",
       "\n",
       "}\n",
       "\n",
       "mpl.figure.prototype._key_event_extra = function(event, name) {\n",
       "    var manager = IPython.notebook.keyboard_manager;\n",
       "    if (!manager)\n",
       "        manager = IPython.keyboard_manager;\n",
       "\n",
       "    // Check for shift+enter\n",
       "    if (event.shiftKey && event.which == 13) {\n",
       "        this.canvas_div.blur();\n",
       "        // select the cell after this one\n",
       "        var index = IPython.notebook.find_cell_index(this.cell_info[0]);\n",
       "        IPython.notebook.select(index + 1);\n",
       "    }\n",
       "}\n",
       "\n",
       "mpl.figure.prototype.handle_save = function(fig, msg) {\n",
       "    fig.ondownload(fig, null);\n",
       "}\n",
       "\n",
       "\n",
       "mpl.find_output_cell = function(html_output) {\n",
       "    // Return the cell and output element which can be found *uniquely* in the notebook.\n",
       "    // Note - this is a bit hacky, but it is done because the \"notebook_saving.Notebook\"\n",
       "    // IPython event is triggered only after the cells have been serialised, which for\n",
       "    // our purposes (turning an active figure into a static one), is too late.\n",
       "    var cells = IPython.notebook.get_cells();\n",
       "    var ncells = cells.length;\n",
       "    for (var i=0; i<ncells; i++) {\n",
       "        var cell = cells[i];\n",
       "        if (cell.cell_type === 'code'){\n",
       "            for (var j=0; j<cell.output_area.outputs.length; j++) {\n",
       "                var data = cell.output_area.outputs[j];\n",
       "                if (data.data) {\n",
       "                    // IPython >= 3 moved mimebundle to data attribute of output\n",
       "                    data = data.data;\n",
       "                }\n",
       "                if (data['text/html'] == html_output) {\n",
       "                    return [cell, data, j];\n",
       "                }\n",
       "            }\n",
       "        }\n",
       "    }\n",
       "}\n",
       "\n",
       "// Register the function which deals with the matplotlib target/channel.\n",
       "// The kernel may be null if the page has been refreshed.\n",
       "if (IPython.notebook.kernel != null) {\n",
       "    IPython.notebook.kernel.comm_manager.register_target('matplotlib', mpl.mpl_figure_comm);\n",
       "}\n"
      ],
      "text/plain": [
       "<IPython.core.display.Javascript object>"
      ]
     },
     "metadata": {},
     "output_type": "display_data"
    },
    {
     "data": {
      "text/html": [
       "<img src=\"data:image/png;base64,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\">"
      ],
      "text/plain": [
       "<IPython.core.display.HTML object>"
      ]
     },
     "metadata": {},
     "output_type": "display_data"
    }
   ],
   "source": [
    "path = 'rhor1_phi56_yd12.0/'\n",
    "dataset = sp.reader.DataSet(path,particles=True, fluid=True)\n",
    "dataset.load_state(dataset.tlist[-10])\n",
    "\n",
    "\n",
    "exp = dataset\n",
    "plt.figure();\n",
    "# print exp.keys()\n",
    "# sim_chars = sp.susi.extract_sim_characteristics(exp)\n",
    "# sim_chars['histogram'] = {'bins': 1000, 'range': (0, 2.8376564979553224e-05)}\n",
    "# exp['histogram'] = sim_chars['histogram']\n",
    "# exp['bin'] = 1000\n",
    "# print exp['bins']\n",
    "\n",
    "distance, rdf = exp['radial_distribution_function']\n",
    "plt.plot(distance * 1e6, rdf);\n",
    "plt.xlabel('Distance $\\mu{m}$',fontsize=15);\n",
    "plt.ylabel('g(r)', fontsize=15);\n",
    "plt.title('Radial Distribution Function', fontsize=20);"
   ]
  },
  {
   "cell_type": "markdown",
   "metadata": {},
   "source": [
    "---------------------------------------\n"
   ]
  },
  {
   "cell_type": "markdown",
   "metadata": {},
   "source": [
    "## Lampros standard code for PDF (pair distribution function) at one time step"
   ]
  },
  {
   "cell_type": "code",
   "execution_count": 8,
   "metadata": {
    "collapsed": false
   },
   "outputs": [],
   "source": [
    "def lampros_pdf(phival, shearrate, t):\n",
    "    path = \"rhor1_phi\"+str(phival)+\"_yd\"+str(float(shearrate))+\"/\"\n",
    "    dataset = sp.reader.DataSet(path,particles=True, fluid=True)\n",
    "    dataset.load_state(dataset.tlist[t])\n",
    "    exp = dataset\n",
    "\n",
    "    plt.figure();\n",
    "    distance, pdf = exp['pair_distribution_function']\n",
    "\n",
    "    XX, ZZ = np.meshgrid(distance[0], distance[2])\n",
    "    pdf = pdf[:, pdf.shape[1] / 2, :]\n",
    "\n",
    "    plt.pcolor(XX.T * 1e6, ZZ.T * 1e6, pdf)\n",
    "    plt.colorbar()\n",
    "    y_mum = 1e6 * distance[1][pdf.shape[1] / 2]\n",
    "\n",
    "    plt.xlabel('$\\Delta{x}$ $(\\mu{m})$', fontsize=15);\n",
    "    plt.ylabel('$\\Delta{z}$ $(\\mu{m})$', fontsize=15);\n",
    "    plt.title('PDF at t = '+str(t)+'$y={:.1f} \\mu{{m}}$'.format(y_mum), fontsize=20);\n",
    "\n",
    "v = interactive(lampros_pdf, \\\n",
    "                phival = widgets.ToggleButtons(options=[40,45,50,54,55,56,58],value=56,disabled=False), \\\n",
    "                shearrate= widgets.ToggleButtons(options=[1,10,11,11.5,12,12.5,13,14,15,16,18,20,30,50,70,100,200,300,1000],value = 12),\\\n",
    "                t=(-1000,-1,1), __manual=True)\n",
    "\n",
    "display(v)"
   ]
  },
  {
   "cell_type": "markdown",
   "metadata": {},
   "source": [
    "---------------------------------------\n"
   ]
  },
  {
   "cell_type": "markdown",
   "metadata": {},
   "source": [
    "# Lampros code averged over time range"
   ]
  },
  {
   "cell_type": "code",
   "execution_count": 9,
   "metadata": {
    "collapsed": false,
    "scrolled": false
   },
   "outputs": [],
   "source": [
    "f = FloatProgress(min=0, max=100)\n",
    "display(f)\n",
    "L = widgets.Label(\"\")\n",
    "display(L)\n",
    "def lampros_pdf(phival, shearrate, trange):\n",
    "    path = \"rhor1_phi\"+str(phival)+\"_yd\"+str(float(shearrate))+\"/\"\n",
    "    dataset = sp.reader.DataSet(path,particles=True, fluid=True)\n",
    "    dataset.load_state(dataset.tlist[-1])\n",
    "    exp = dataset\n",
    "    distance, pdf = exp['pair_distribution_function']\n",
    "    XX, ZZ = np.meshgrid(distance[0], distance[2])\n",
    "    pdf = pdf[:, pdf.shape[1] / 2, :]    \n",
    "    XX_tot, ZZ_tot, pdf_tot = np.zeros_like(XX),np.zeros_like(ZZ), np.zeros_like(pdf)\n",
    "    n = 0.0\n",
    "    for i,t in enumerate(range(trange[1],trange[0],-1)):\n",
    "        n+= 1.0\n",
    "        f.value = float(i+1)/len(range(trange[1],trange[0],-1))*100\n",
    "        L.value = \"snapshot at t =\"+str(dataset.tlist[t])\n",
    "        dataset.load_state(dataset.tlist[t])\n",
    "        exp = dataset\n",
    " \n",
    "        distance, pdf = exp['pair_distribution_function']\n",
    "        XX, ZZ = np.meshgrid(distance[0], distance[2])\n",
    "        pdf = pdf[:, pdf.shape[1] / 2, :]\n",
    "        XX_tot += XX\n",
    "        ZZ_tot += ZZ\n",
    "        pdf_tot += pdf\n",
    "    plt.figure();\n",
    "    XX_tot, ZZ_tot, pdf_tot = XX_tot/n, ZZ_tot/n, pdf_tot/n\n",
    "    plt.pcolor(XX_tot.T * 1e6, ZZ_tot.T * 1e6, pdf_tot)\n",
    "    plt.colorbar()\n",
    "    y_mum = 1e6 * distance[1][pdf_tot.shape[1] / 2]\n",
    "\n",
    "    plt.xlabel('$\\Delta{x}$ $(\\mu{m})$', fontsize=15);\n",
    "    plt.ylabel('$\\Delta{z}$ $(\\mu{m})$', fontsize=15);\n",
    "    plt.title('PDF at $y={:.1f} \\mu{{m}}$'.format(y_mum), fontsize=20);\n",
    "\n",
    "v = interactive(lampros_pdf, \\\n",
    "                phival = widgets.ToggleButtons(options=[40,45,50,54,55,56,58],value=56,disabled=False), \\\n",
    "                shearrate= widgets.ToggleButtons(options=[1,10,11,11.5,12,12.5,13,14,15,16,18,20,30,50,70,100,200,300,1000],value = 12),\\\n",
    "                trange=widgets.IntRangeSlider(value=[-10, -1], max=-1, min=-1000.0),__manual=True)\n",
    "                \n",
    "display(v)"
   ]
  },
  {
   "cell_type": "markdown",
   "metadata": {
    "collapsed": false
   },
   "source": [
    "---------------------------------------\n"
   ]
  },
  {
   "cell_type": "markdown",
   "metadata": {},
   "source": [
    "## Eric Code for PDF at one time step"
   ]
  },
  {
   "cell_type": "code",
   "execution_count": 10,
   "metadata": {
    "collapsed": false,
    "scrolled": false
   },
   "outputs": [],
   "source": [
    "# Eric's code for a PDF with higher resolution\n",
    "from matplotlib.colors import LogNorm\n",
    "\n",
    "path = 'rhor1_phi56_yd1.0/'\n",
    "type = \"xy\"\n",
    "\n",
    "def plot_pdf_one_timestep(phi,shearrate,time,bins):\n",
    "    try:\n",
    "        time = int(time)\n",
    "        path = \"rhor1_phi\"+str(phi)+\"_yd\"+str(float(shearrate))\n",
    "        dataset = sp.reader.DataSet(path,particles=True, fluid=True)\n",
    "        dataset.load_state(dataset.tlist[time])\n",
    "        exp = dataset\n",
    "\n",
    "        #Create the size of the area that you want to bin the distances in\n",
    "        limit = 5 * exp.particles.radius.max()\n",
    "#         print (exp.particles.radius.max())\n",
    "#         print (limit)\n",
    "    #     bins = 41\n",
    "        global edges\n",
    "        global pair_df\n",
    "        (edges, pair_df) = sp.spatial.correlations.pair_distribution_function(exp.particles.r,\n",
    "             L=exp.L, LEs=exp.LEs, histogramdd={\"bins\":(bins, bins, bins),\"range\":((-limit,limit),(-limit,limit),(-limit,limit))})\n",
    "    except:\n",
    "        print \"Unexpected error:\", sys.exc_info()[0]\n",
    "        raise\n",
    "\n",
    "\n",
    "def plot_plot_pdf_one_timestep(phi,shearrate,time ,xz_vmax,xy_vmax,yz_vmax,bins,analyze_,size,show=True):\n",
    "    if show:\n",
    "        plt.ion()\n",
    "    else:\n",
    "        plt.ioff()\n",
    "        \n",
    "    if analyze_:\n",
    "        plot_pdf_one_timestep(phi,shearrate,time,bins)\n",
    "\n",
    "    #Calculate the distances and bin them\n",
    "\n",
    "    #Plot them in a color mesh\n",
    "    #pcolor plots have a tendency to leave out one row/column of \"pixels\". It will not immediately plot the entire\n",
    "    #range. To compensate, the defined meshgrid needs to be 1 \"pont\" bigger  than the image that you want.\n",
    "\n",
    "    #Add a value to \"edges\" by first determining bin stepsize and then appending one step to edges\n",
    "\n",
    "    max=edges[0][bins-1]+(edges[0][1]-edges[0][0])\n",
    "    new0=np.append(edges[0],max)\n",
    "    new1=np.append(edges[1],max)\n",
    "    new2=np.append(edges[2],max)\n",
    "\n",
    "    # X-Z PLANE\n",
    "    #Create the mesh grid, but shift by half a bin to correctly center the image\n",
    "#     plt.figure(figsize=[17,5])\n",
    "#     plt.figure(figsize=[3.4*size,1*size])\n",
    "    plt.figure(figsize=[3*size,3*size])\n",
    "    plt.subplot(221)\n",
    "    XX, ZZ = np.meshgrid(new0-7.31208644e-07/2, new2-7.31208644e-07/2)\n",
    "    pairdf = pair_df[:, pair_df.shape[1] / 2, :]\n",
    "\n",
    "    plt.pcolor(XX.T * 1e6, ZZ.T * 1e6, pairdf,vmin=0,vmax = xz_vmax)#, vmin=0, vmax=10\n",
    "#     plt.pcolor(XX.T * 1e6, ZZ.T * 1e6, pairdf,norm=LogNorm(vmin=0.01,vmax = xz_vmax))#, vmin=0, vmax=10\n",
    "    plt.colorbar()\n",
    "#         y_mum = 1e6 * edges[1][pair_df.shape[1] / 2]\n",
    "    y_mum =  1e6 * ( edges[1][1] -edges[1][0] )    \n",
    "\n",
    "    plt.axis([-16,16,-16,16])\n",
    "    plt.xlabel('$\\Delta{x}$ $(\\mu{m})$');\n",
    "    plt.ylabel('$\\Delta{z}$ $(\\mu{m})$');\n",
    "    plt.title('PDF at t='+str(time)+'$y={:.2f} \\mu{{m}}$ for phi='.format(y_mum)+str(phi)+\" yd=\"+str(shearrate).format(y_mum));\n",
    "#     print \"ymum=\"+str(y_mum)\n",
    "\n",
    "#X-Y PLANE\n",
    "\n",
    "    plt.subplot(222)\n",
    "    XX, YY = np.meshgrid(new0-7.31208644e-07/2, new1-7.31208644e-07/2)\n",
    "    pairdf = pair_df[:,:, pair_df.shape[2] / 2]\n",
    "\n",
    "    plt.pcolor(XX.T * 1e6, YY.T * 1e6, pairdf,vmin=0,vmax = xy_vmax)\n",
    "    plt.colorbar()\n",
    "    z_mum = 1e6 * ( edges[2][1] -edges[2][0] )    \n",
    "\n",
    "    plt.axis([-16,16,-16,16])\n",
    "    plt.xlabel('$\\Delta{x}$ $(\\mu{m})$');\n",
    "    plt.ylabel('$\\Delta{y}$ $(\\mu{m})$');\n",
    "#         plt.title('PDF at t='+str(time)+'$z={:.2f} \\mu{{m}}$'.format(z_mum));\n",
    "    plt.title('PDF at t='+str(time)+'$z={:.2f} \\mu{{m}}$ for phi='.format(z_mum)+str(phi)+\" yd=\"+str(shearrate).format(z_mum));\n",
    "#Y-Z PLANE\n",
    "\n",
    "    plt.subplot(223)\n",
    "    YY, ZZ = np.meshgrid(new1-7.31208644e-07/2, new2-7.31208644e-07/2)\n",
    "    pairdf = pair_df[pair_df.shape[0] / 2,:,:]\n",
    "\n",
    "    plt.pcolor(YY.T * 1e6, ZZ.T * 1e6, pairdf,vmin=0,vmax = yz_vmax)\n",
    "    plt.colorbar()\n",
    "#         x_mum = 1e6 * edges[0][pair_df.shape[0] / 2]\n",
    "    x_mum = 1e6 * ( edges[0][1] -edges[0][0] )  \n",
    "    plt.axis([-16,16,-16,16])\n",
    "    plt.xlabel('$\\Delta{y}$ $(\\mu{m})$');\n",
    "    plt.ylabel('$\\Delta{z}$ $(\\mu{m})$');\n",
    "    plt.tight_layout()\n",
    "#         plt.title('PDF at t='+str(time)+'$x={:.2f} \\mu{{m}}$'.format(x_mum));\n",
    "    plt.title('PDF at t='+str(time)+'$x={:.2f} \\mu{{m}}$ for phi='.format(x_mum)+str(phi)+\" yd=\"+str(shearrate).format(x_mum));\n",
    "    \n",
    "    plt.subplot(224)\n",
    "    nufilepath = \"rhor1_phi\"+str(phi)+\"_yd\"+str(float(shearrate))+\"/result/nu_t.dat\"\n",
    "    db = pd.read_csv(nufilepath)\n",
    "    plt.plot(db[db.columns[2]])\n",
    "    plt.axvline(time)\n",
    "    plt.xlabel(\"timestep\")\n",
    "    plt.ylabel(\"Viscosity Pa.s\")\n",
    "    plt.yscale(\"log\")\n",
    "    \n",
    "    name = \"plots/cluster_analysis_phi\"+str(phi)+\"_yd\"+str(shearrate).replace('.','_')+\"_t\"+str(int(time))\n",
    "#     print name \n",
    "    plt.savefig(name)\n",
    "\n",
    "\n",
    "v = interactive(plot_plot_pdf_one_timestep, \\\n",
    "                phi = widgets.ToggleButtons(options=[40,45,50,54,55,56,58],value=56,disabled=False), \\\n",
    "                shearrate= widgets.ToggleButtons(options=[1,10,11,11.5,12,12.5,13,14,15,16,18,20,30,50,70,100,200,300,1000],\\\n",
    "                                                 value = 12),\\\n",
    "                #time = widgets.IntSlider(min= -1000, max= -1,value = -1, step = -1,orientation = \"vertical\"),\\\n",
    "                #time = widgets.IntSlider(max= 1000, min= 1,value = 1, step = 1,orientation = \"vertical\"),\\\n",
    "                time = widgets.FloatText(value=1),\\\n",
    "                bins = widgets.IntSlider(min = 11,max = 101,value = 31, step = 1,orientation = \"vertical\"),\\\n",
    "                size = widgets.FloatSlider(min = 1,max = 10,value = 3.75, step = 0.25,orientation = \"vertical\"),\\\n",
    "                xz_vmax = widgets.FloatSlider(min= 0, max= 15,value = 6, step = 0.25,orientation = \"vertical\",description = \"xz colorbax max\"),\\\n",
    "                xy_vmax = widgets.FloatSlider(min= 0, max= 15,value = 6, step = 0.25,orientation = \"vertical\",description = \"xy colorbax max\"),\\\n",
    "                yz_vmax = widgets.FloatSlider(min= 0, max= 15,value = 6, step = 0.25,orientation = \"vertical\",description = \"yz colorbax max\"),\\\n",
    "                analyze_ = widgets.widget_bool.Checkbox(value=True,description= \"Analyze?\"),\\\n",
    "                __manual=True)\n",
    "display(widgets.VBox(v.children[:2]))\n",
    "display(widgets.HBox(v.children[2:-1]))\n",
    "display(widgets.HBox(v.children[-1:]))\n",
    "display(widgets.Label(value = \"Run analyze every time you change the dataset. No need to analyze when changing plot charecteristics\"))"
   ]
  },
  {
   "cell_type": "markdown",
   "metadata": {},
   "source": [
    "## plot pdf of a range of snaphots and animate "
   ]
  },
  {
   "cell_type": "code",
   "execution_count": 11,
   "metadata": {
    "collapsed": false,
    "scrolled": true
   },
   "outputs": [],
   "source": [
    "progress = widgets.IntProgress(value=0)\n",
    "def plot_time_frames(phi,shearrate,tmin, tmax ,xz_vmax,xy_vmax,yz_vmax,bins,analyze_,size,show):\n",
    "    for plot_time_frames_progress,time in enumerate(range(tmin, tmax)):\n",
    "        progress.value = float(plot_time_frames_progress)/len(range(tmin, tmax))*100\n",
    "        plot_plot_pdf_one_timestep(phi,shearrate,time,xz_vmax,xy_vmax,yz_vmax,bins,analyze_,size,show)\n",
    "        \n",
    "\n",
    "v_plot_time_frames = interactive(plot_time_frames, \\\n",
    "                phi = widgets.ToggleButtons(options=[40,45,50,54,55,56,58],value=56,disabled=False), \\\n",
    "                shearrate= widgets.ToggleButtons(options=[1,10,11,11.5,12,12.5,13,14,15,16,18,20,30,50,70,100,200,300,1000],\\\n",
    "                                                 value = 12.5),\\\n",
    "                #time = widgets.IntSlider(min= -1000, max= -1,value = -1, step = -1,orientation = \"vertical\"),\\\n",
    "                #time = widgets.IntSlider(max= 1000, min= 1,value = 1, step = 1,orientation = \"vertical\"),\\\n",
    "                tmin = widgets.widget_int.BoundedIntText(value=730,min=1,max=10000),\\\n",
    "                tmax = widgets.widget_int.BoundedIntText(value=735, min=1,max=10000),\\\n",
    "                bins = widgets.IntSlider(min = 11,max = 101,value = 31, step = 1,orientation = \"vertical\"),\\\n",
    "                size = widgets.FloatSlider(min = 1,max = 10,value = 3.75, step = 0.25,orientation = \"vertical\"),\\\n",
    "                xz_vmax = widgets.FloatSlider(min= 0, max= 15,value = 6, step = 0.25,orientation = \"vertical\",description = \"xz colorbax max\"),\\\n",
    "                xy_vmax = widgets.FloatSlider(min= 0, max= 15,value = 6, step = 0.25,orientation = \"vertical\",description = \"xy colorbax max\"),\\\n",
    "                yz_vmax = widgets.FloatSlider(min= 0, max= 15,value = 6, step = 0.25,orientation = \"vertical\",description = \"yz colorbax max\"),\\\n",
    "                analyze_ = widgets.widget_bool.Checkbox(value=True,description= \"Analyze?\"),\\\n",
    "                show=widgets.Checkbox(value=False),\\\n",
    "                __manual=True)\n",
    "display(widgets.VBox(v_plot_time_frames.children[:2]))\n",
    "display(widgets.HBox(v_plot_time_frames.children[4:-1]))\n",
    "display(widgets.HBox(v_plot_time_frames.children[2:4]))\n",
    "display(widgets.HBox(v_plot_time_frames.children[-1:]))\n",
    "display(progress)\n",
    "display(widgets.Label(value = \"Run analyze every time you change the dataset. \\\n",
    "                            No need to analyze when changing plot charecteristics\"))\n",
    "play = widgets.Play(disabled=False)\n",
    "slider = widgets.IntSlider(min=v_plot_time_frames.children[2].value, max = v_plot_time_frames.children[3].value)\n",
    "widgets.jslink((play, 'value'), (slider, 'value'))\n",
    "widgets.jslink((slider, 'min'), (play, 'min'))\n",
    "widgets.jslink((slider, 'max'), (play, 'max'))\n",
    "display(widgets.HBox([play, slider]))\n",
    "\n",
    "link3 = widgets.jslink((v_plot_time_frames.children[3], 'value'), (v_plot_time_frames.children[2], 'max'))\n",
    "link4 = widgets.jslink((v_plot_time_frames.children[2], 'value'), (v_plot_time_frames.children[3], 'min'))\n",
    "link1 = widgets.jslink((v_plot_time_frames.children[2], 'value'), (slider, 'min'))\n",
    "link2 = widgets.jslink((v_plot_time_frames.children[3], 'value'), (slider, 'max'))\n",
    "\n",
    "\n",
    "philabel = widgets.Label(value = \"\")\n",
    "ydlabel = widgets.Label(value = \"\")\n",
    "tminlabel = widgets.Label(value = \"\")\n",
    "tmaxlabel = widgets.Label(value = \"\")\n",
    "tlabel = widgets.Label(value = \"\")\n",
    "\n",
    "# link5 = widgets.jslink((v.children[0], 'value'), (philabel, 'value'))\n",
    "# link6 = widgets.jslink((v.children[1], 'value'), (ydlabel, 'value'))\n",
    "# link7 = widgets.jslink((v.children[2], 'value'), (tminlabel, 'value'))\n",
    "# link8 = widgets.jslink((v.children[3], 'value'), (tmaxlabel, 'value'))\n",
    "# link9 = widgets.jslink((slider, 'value'), (tlabel, 'value'))\n",
    "# display(philabel,ydlabel,tminlabel,tmaxlabel,tlabel)\n",
    "\n",
    "\n",
    "\n",
    "filename = widgets.Label(value=\"\")\n",
    "def handle_data_change(change):\n",
    "    filename.value =  \"plots/cluster_analysis_phi\"+str(v_plot_time_frames.children[0].value)+\"_yd\"+\\\n",
    "                    str(v_plot_time_frames.children[1].value).replace('.','_')+\"_t\"+str(slider.value)+\".png\"\n",
    "for i in v_plot_time_frames.children:\n",
    "    i.observe(handle_data_change, names='value')\n",
    "    \n",
    "slider.observe(handle_data_change,names='value')\n",
    "display(filename)\n",
    "\n",
    "from IPython.display import Image\n",
    "# def handle_image_change(change):\n",
    "#     if os.path.exists(filename.value):\n",
    "#         pdf_figure = Image(filename.value)\n",
    "# display(pdf_figure)\n",
    "# slider.observe(handle_image_change,'value')\n",
    "\n",
    "image = widgets.Image(value = \"\",width=800, height=800)\n",
    "imagesize = widgets.IntText(value =400, description=\"image size\")\n",
    "widgets.jslink((imagesize,'value'),(image,'width'))\n",
    "widgets.jslink((imagesize,'value'),(image,'height'))\n",
    "display(imagesize)\n",
    "display(image)\n",
    "def handle_image_change(change):\n",
    "    if os.path.exists(filename.value):\n",
    "        image.value = open(filename.value).read()\n",
    "        \n",
    "slider.observe(handle_image_change,'value')"
   ]
  },
  {
   "cell_type": "markdown",
   "metadata": {},
   "source": [
    "---------------------------------------\n"
   ]
  },
  {
   "cell_type": "markdown",
   "metadata": {},
   "source": [
    "# Eric Code for average PDF over time"
   ]
  },
  {
   "cell_type": "markdown",
   "metadata": {},
   "source": [
    "## TimeSeries Information Between snapshots"
   ]
  },
  {
   "cell_type": "code",
   "execution_count": 12,
   "metadata": {
    "collapsed": false
   },
   "outputs": [
    {
     "data": {
      "application/javascript": [
       "/* Put everything inside the global mpl namespace */\n",
       "window.mpl = {};\n",
       "\n",
       "mpl.get_websocket_type = function() {\n",
       "    if (typeof(WebSocket) !== 'undefined') {\n",
       "        return WebSocket;\n",
       "    } else if (typeof(MozWebSocket) !== 'undefined') {\n",
       "        return MozWebSocket;\n",
       "    } else {\n",
       "        alert('Your browser does not have WebSocket support.' +\n",
       "              'Please try Chrome, Safari or Firefox ≥ 6. ' +\n",
       "              'Firefox 4 and 5 are also supported but you ' +\n",
       "              'have to enable WebSockets in about:config.');\n",
       "    };\n",
       "}\n",
       "\n",
       "mpl.figure = function(figure_id, websocket, ondownload, parent_element) {\n",
       "    this.id = figure_id;\n",
       "\n",
       "    this.ws = websocket;\n",
       "\n",
       "    this.supports_binary = (this.ws.binaryType != undefined);\n",
       "\n",
       "    if (!this.supports_binary) {\n",
       "        var warnings = document.getElementById(\"mpl-warnings\");\n",
       "        if (warnings) {\n",
       "            warnings.style.display = 'block';\n",
       "            warnings.textContent = (\n",
       "                \"This browser does not support binary websocket messages. \" +\n",
       "                    \"Performance may be slow.\");\n",
       "        }\n",
       "    }\n",
       "\n",
       "    this.imageObj = new Image();\n",
       "\n",
       "    this.context = undefined;\n",
       "    this.message = undefined;\n",
       "    this.canvas = undefined;\n",
       "    this.rubberband_canvas = undefined;\n",
       "    this.rubberband_context = undefined;\n",
       "    this.format_dropdown = undefined;\n",
       "\n",
       "    this.image_mode = 'full';\n",
       "\n",
       "    this.root = $('<div/>');\n",
       "    this._root_extra_style(this.root)\n",
       "    this.root.attr('style', 'display: inline-block');\n",
       "\n",
       "    $(parent_element).append(this.root);\n",
       "\n",
       "    this._init_header(this);\n",
       "    this._init_canvas(this);\n",
       "    this._init_toolbar(this);\n",
       "\n",
       "    var fig = this;\n",
       "\n",
       "    this.waiting = false;\n",
       "\n",
       "    this.ws.onopen =  function () {\n",
       "            fig.send_message(\"supports_binary\", {value: fig.supports_binary});\n",
       "            fig.send_message(\"send_image_mode\", {});\n",
       "            fig.send_message(\"refresh\", {});\n",
       "        }\n",
       "\n",
       "    this.imageObj.onload = function() {\n",
       "            if (fig.image_mode == 'full') {\n",
       "                // Full images could contain transparency (where diff images\n",
       "                // almost always do), so we need to clear the canvas so that\n",
       "                // there is no ghosting.\n",
       "                fig.context.clearRect(0, 0, fig.canvas.width, fig.canvas.height);\n",
       "            }\n",
       "            fig.context.drawImage(fig.imageObj, 0, 0);\n",
       "        };\n",
       "\n",
       "    this.imageObj.onunload = function() {\n",
       "        this.ws.close();\n",
       "    }\n",
       "\n",
       "    this.ws.onmessage = this._make_on_message_function(this);\n",
       "\n",
       "    this.ondownload = ondownload;\n",
       "}\n",
       "\n",
       "mpl.figure.prototype._init_header = function() {\n",
       "    var titlebar = $(\n",
       "        '<div class=\"ui-dialog-titlebar ui-widget-header ui-corner-all ' +\n",
       "        'ui-helper-clearfix\"/>');\n",
       "    var titletext = $(\n",
       "        '<div class=\"ui-dialog-title\" style=\"width: 100%; ' +\n",
       "        'text-align: center; padding: 3px;\"/>');\n",
       "    titlebar.append(titletext)\n",
       "    this.root.append(titlebar);\n",
       "    this.header = titletext[0];\n",
       "}\n",
       "\n",
       "\n",
       "\n",
       "mpl.figure.prototype._canvas_extra_style = function(canvas_div) {\n",
       "\n",
       "}\n",
       "\n",
       "\n",
       "mpl.figure.prototype._root_extra_style = function(canvas_div) {\n",
       "\n",
       "}\n",
       "\n",
       "mpl.figure.prototype._init_canvas = function() {\n",
       "    var fig = this;\n",
       "\n",
       "    var canvas_div = $('<div/>');\n",
       "\n",
       "    canvas_div.attr('style', 'position: relative; clear: both; outline: 0');\n",
       "\n",
       "    function canvas_keyboard_event(event) {\n",
       "        return fig.key_event(event, event['data']);\n",
       "    }\n",
       "\n",
       "    canvas_div.keydown('key_press', canvas_keyboard_event);\n",
       "    canvas_div.keyup('key_release', canvas_keyboard_event);\n",
       "    this.canvas_div = canvas_div\n",
       "    this._canvas_extra_style(canvas_div)\n",
       "    this.root.append(canvas_div);\n",
       "\n",
       "    var canvas = $('<canvas/>');\n",
       "    canvas.addClass('mpl-canvas');\n",
       "    canvas.attr('style', \"left: 0; top: 0; z-index: 0; outline: 0\")\n",
       "\n",
       "    this.canvas = canvas[0];\n",
       "    this.context = canvas[0].getContext(\"2d\");\n",
       "\n",
       "    var rubberband = $('<canvas/>');\n",
       "    rubberband.attr('style', \"position: absolute; left: 0; top: 0; z-index: 1;\")\n",
       "\n",
       "    var pass_mouse_events = true;\n",
       "\n",
       "    canvas_div.resizable({\n",
       "        start: function(event, ui) {\n",
       "            pass_mouse_events = false;\n",
       "        },\n",
       "        resize: function(event, ui) {\n",
       "            fig.request_resize(ui.size.width, ui.size.height);\n",
       "        },\n",
       "        stop: function(event, ui) {\n",
       "            pass_mouse_events = true;\n",
       "            fig.request_resize(ui.size.width, ui.size.height);\n",
       "        },\n",
       "    });\n",
       "\n",
       "    function mouse_event_fn(event) {\n",
       "        if (pass_mouse_events)\n",
       "            return fig.mouse_event(event, event['data']);\n",
       "    }\n",
       "\n",
       "    rubberband.mousedown('button_press', mouse_event_fn);\n",
       "    rubberband.mouseup('button_release', mouse_event_fn);\n",
       "    // Throttle sequential mouse events to 1 every 20ms.\n",
       "    rubberband.mousemove('motion_notify', mouse_event_fn);\n",
       "\n",
       "    rubberband.mouseenter('figure_enter', mouse_event_fn);\n",
       "    rubberband.mouseleave('figure_leave', mouse_event_fn);\n",
       "\n",
       "    canvas_div.on(\"wheel\", function (event) {\n",
       "        event = event.originalEvent;\n",
       "        event['data'] = 'scroll'\n",
       "        if (event.deltaY < 0) {\n",
       "            event.step = 1;\n",
       "        } else {\n",
       "            event.step = -1;\n",
       "        }\n",
       "        mouse_event_fn(event);\n",
       "    });\n",
       "\n",
       "    canvas_div.append(canvas);\n",
       "    canvas_div.append(rubberband);\n",
       "\n",
       "    this.rubberband = rubberband;\n",
       "    this.rubberband_canvas = rubberband[0];\n",
       "    this.rubberband_context = rubberband[0].getContext(\"2d\");\n",
       "    this.rubberband_context.strokeStyle = \"#000000\";\n",
       "\n",
       "    this._resize_canvas = function(width, height) {\n",
       "        // Keep the size of the canvas, canvas container, and rubber band\n",
       "        // canvas in synch.\n",
       "        canvas_div.css('width', width)\n",
       "        canvas_div.css('height', height)\n",
       "\n",
       "        canvas.attr('width', width);\n",
       "        canvas.attr('height', height);\n",
       "\n",
       "        rubberband.attr('width', width);\n",
       "        rubberband.attr('height', height);\n",
       "    }\n",
       "\n",
       "    // Set the figure to an initial 600x600px, this will subsequently be updated\n",
       "    // upon first draw.\n",
       "    this._resize_canvas(600, 600);\n",
       "\n",
       "    // Disable right mouse context menu.\n",
       "    $(this.rubberband_canvas).bind(\"contextmenu\",function(e){\n",
       "        return false;\n",
       "    });\n",
       "\n",
       "    function set_focus () {\n",
       "        canvas.focus();\n",
       "        canvas_div.focus();\n",
       "    }\n",
       "\n",
       "    window.setTimeout(set_focus, 100);\n",
       "}\n",
       "\n",
       "mpl.figure.prototype._init_toolbar = function() {\n",
       "    var fig = this;\n",
       "\n",
       "    var nav_element = $('<div/>')\n",
       "    nav_element.attr('style', 'width: 100%');\n",
       "    this.root.append(nav_element);\n",
       "\n",
       "    // Define a callback function for later on.\n",
       "    function toolbar_event(event) {\n",
       "        return fig.toolbar_button_onclick(event['data']);\n",
       "    }\n",
       "    function toolbar_mouse_event(event) {\n",
       "        return fig.toolbar_button_onmouseover(event['data']);\n",
       "    }\n",
       "\n",
       "    for(var toolbar_ind in mpl.toolbar_items) {\n",
       "        var name = mpl.toolbar_items[toolbar_ind][0];\n",
       "        var tooltip = mpl.toolbar_items[toolbar_ind][1];\n",
       "        var image = mpl.toolbar_items[toolbar_ind][2];\n",
       "        var method_name = mpl.toolbar_items[toolbar_ind][3];\n",
       "\n",
       "        if (!name) {\n",
       "            // put a spacer in here.\n",
       "            continue;\n",
       "        }\n",
       "        var button = $('<button/>');\n",
       "        button.addClass('ui-button ui-widget ui-state-default ui-corner-all ' +\n",
       "                        'ui-button-icon-only');\n",
       "        button.attr('role', 'button');\n",
       "        button.attr('aria-disabled', 'false');\n",
       "        button.click(method_name, toolbar_event);\n",
       "        button.mouseover(tooltip, toolbar_mouse_event);\n",
       "\n",
       "        var icon_img = $('<span/>');\n",
       "        icon_img.addClass('ui-button-icon-primary ui-icon');\n",
       "        icon_img.addClass(image);\n",
       "        icon_img.addClass('ui-corner-all');\n",
       "\n",
       "        var tooltip_span = $('<span/>');\n",
       "        tooltip_span.addClass('ui-button-text');\n",
       "        tooltip_span.html(tooltip);\n",
       "\n",
       "        button.append(icon_img);\n",
       "        button.append(tooltip_span);\n",
       "\n",
       "        nav_element.append(button);\n",
       "    }\n",
       "\n",
       "    var fmt_picker_span = $('<span/>');\n",
       "\n",
       "    var fmt_picker = $('<select/>');\n",
       "    fmt_picker.addClass('mpl-toolbar-option ui-widget ui-widget-content');\n",
       "    fmt_picker_span.append(fmt_picker);\n",
       "    nav_element.append(fmt_picker_span);\n",
       "    this.format_dropdown = fmt_picker[0];\n",
       "\n",
       "    for (var ind in mpl.extensions) {\n",
       "        var fmt = mpl.extensions[ind];\n",
       "        var option = $(\n",
       "            '<option/>', {selected: fmt === mpl.default_extension}).html(fmt);\n",
       "        fmt_picker.append(option)\n",
       "    }\n",
       "\n",
       "    // Add hover states to the ui-buttons\n",
       "    $( \".ui-button\" ).hover(\n",
       "        function() { $(this).addClass(\"ui-state-hover\");},\n",
       "        function() { $(this).removeClass(\"ui-state-hover\");}\n",
       "    );\n",
       "\n",
       "    var status_bar = $('<span class=\"mpl-message\"/>');\n",
       "    nav_element.append(status_bar);\n",
       "    this.message = status_bar[0];\n",
       "}\n",
       "\n",
       "mpl.figure.prototype.request_resize = function(x_pixels, y_pixels) {\n",
       "    // Request matplotlib to resize the figure. Matplotlib will then trigger a resize in the client,\n",
       "    // which will in turn request a refresh of the image.\n",
       "    this.send_message('resize', {'width': x_pixels, 'height': y_pixels});\n",
       "}\n",
       "\n",
       "mpl.figure.prototype.send_message = function(type, properties) {\n",
       "    properties['type'] = type;\n",
       "    properties['figure_id'] = this.id;\n",
       "    this.ws.send(JSON.stringify(properties));\n",
       "}\n",
       "\n",
       "mpl.figure.prototype.send_draw_message = function() {\n",
       "    if (!this.waiting) {\n",
       "        this.waiting = true;\n",
       "        this.ws.send(JSON.stringify({type: \"draw\", figure_id: this.id}));\n",
       "    }\n",
       "}\n",
       "\n",
       "\n",
       "mpl.figure.prototype.handle_save = function(fig, msg) {\n",
       "    var format_dropdown = fig.format_dropdown;\n",
       "    var format = format_dropdown.options[format_dropdown.selectedIndex].value;\n",
       "    fig.ondownload(fig, format);\n",
       "}\n",
       "\n",
       "\n",
       "mpl.figure.prototype.handle_resize = function(fig, msg) {\n",
       "    var size = msg['size'];\n",
       "    if (size[0] != fig.canvas.width || size[1] != fig.canvas.height) {\n",
       "        fig._resize_canvas(size[0], size[1]);\n",
       "        fig.send_message(\"refresh\", {});\n",
       "    };\n",
       "}\n",
       "\n",
       "mpl.figure.prototype.handle_rubberband = function(fig, msg) {\n",
       "    var x0 = msg['x0'];\n",
       "    var y0 = fig.canvas.height - msg['y0'];\n",
       "    var x1 = msg['x1'];\n",
       "    var y1 = fig.canvas.height - msg['y1'];\n",
       "    x0 = Math.floor(x0) + 0.5;\n",
       "    y0 = Math.floor(y0) + 0.5;\n",
       "    x1 = Math.floor(x1) + 0.5;\n",
       "    y1 = Math.floor(y1) + 0.5;\n",
       "    var min_x = Math.min(x0, x1);\n",
       "    var min_y = Math.min(y0, y1);\n",
       "    var width = Math.abs(x1 - x0);\n",
       "    var height = Math.abs(y1 - y0);\n",
       "\n",
       "    fig.rubberband_context.clearRect(\n",
       "        0, 0, fig.canvas.width, fig.canvas.height);\n",
       "\n",
       "    fig.rubberband_context.strokeRect(min_x, min_y, width, height);\n",
       "}\n",
       "\n",
       "mpl.figure.prototype.handle_figure_label = function(fig, msg) {\n",
       "    // Updates the figure title.\n",
       "    fig.header.textContent = msg['label'];\n",
       "}\n",
       "\n",
       "mpl.figure.prototype.handle_cursor = function(fig, msg) {\n",
       "    var cursor = msg['cursor'];\n",
       "    switch(cursor)\n",
       "    {\n",
       "    case 0:\n",
       "        cursor = 'pointer';\n",
       "        break;\n",
       "    case 1:\n",
       "        cursor = 'default';\n",
       "        break;\n",
       "    case 2:\n",
       "        cursor = 'crosshair';\n",
       "        break;\n",
       "    case 3:\n",
       "        cursor = 'move';\n",
       "        break;\n",
       "    }\n",
       "    fig.rubberband_canvas.style.cursor = cursor;\n",
       "}\n",
       "\n",
       "mpl.figure.prototype.handle_message = function(fig, msg) {\n",
       "    fig.message.textContent = msg['message'];\n",
       "}\n",
       "\n",
       "mpl.figure.prototype.handle_draw = function(fig, msg) {\n",
       "    // Request the server to send over a new figure.\n",
       "    fig.send_draw_message();\n",
       "}\n",
       "\n",
       "mpl.figure.prototype.handle_image_mode = function(fig, msg) {\n",
       "    fig.image_mode = msg['mode'];\n",
       "}\n",
       "\n",
       "mpl.figure.prototype.updated_canvas_event = function() {\n",
       "    // Called whenever the canvas gets updated.\n",
       "    this.send_message(\"ack\", {});\n",
       "}\n",
       "\n",
       "// A function to construct a web socket function for onmessage handling.\n",
       "// Called in the figure constructor.\n",
       "mpl.figure.prototype._make_on_message_function = function(fig) {\n",
       "    return function socket_on_message(evt) {\n",
       "        if (evt.data instanceof Blob) {\n",
       "            /* FIXME: We get \"Resource interpreted as Image but\n",
       "             * transferred with MIME type text/plain:\" errors on\n",
       "             * Chrome.  But how to set the MIME type?  It doesn't seem\n",
       "             * to be part of the websocket stream */\n",
       "            evt.data.type = \"image/png\";\n",
       "\n",
       "            /* Free the memory for the previous frames */\n",
       "            if (fig.imageObj.src) {\n",
       "                (window.URL || window.webkitURL).revokeObjectURL(\n",
       "                    fig.imageObj.src);\n",
       "            }\n",
       "\n",
       "            fig.imageObj.src = (window.URL || window.webkitURL).createObjectURL(\n",
       "                evt.data);\n",
       "            fig.updated_canvas_event();\n",
       "            fig.waiting = false;\n",
       "            return;\n",
       "        }\n",
       "        else if (typeof evt.data === 'string' && evt.data.slice(0, 21) == \"data:image/png;base64\") {\n",
       "            fig.imageObj.src = evt.data;\n",
       "            fig.updated_canvas_event();\n",
       "            fig.waiting = false;\n",
       "            return;\n",
       "        }\n",
       "\n",
       "        var msg = JSON.parse(evt.data);\n",
       "        var msg_type = msg['type'];\n",
       "\n",
       "        // Call the  \"handle_{type}\" callback, which takes\n",
       "        // the figure and JSON message as its only arguments.\n",
       "        try {\n",
       "            var callback = fig[\"handle_\" + msg_type];\n",
       "        } catch (e) {\n",
       "            console.log(\"No handler for the '\" + msg_type + \"' message type: \", msg);\n",
       "            return;\n",
       "        }\n",
       "\n",
       "        if (callback) {\n",
       "            try {\n",
       "                // console.log(\"Handling '\" + msg_type + \"' message: \", msg);\n",
       "                callback(fig, msg);\n",
       "            } catch (e) {\n",
       "                console.log(\"Exception inside the 'handler_\" + msg_type + \"' callback:\", e, e.stack, msg);\n",
       "            }\n",
       "        }\n",
       "    };\n",
       "}\n",
       "\n",
       "// from http://stackoverflow.com/questions/1114465/getting-mouse-location-in-canvas\n",
       "mpl.findpos = function(e) {\n",
       "    //this section is from http://www.quirksmode.org/js/events_properties.html\n",
       "    var targ;\n",
       "    if (!e)\n",
       "        e = window.event;\n",
       "    if (e.target)\n",
       "        targ = e.target;\n",
       "    else if (e.srcElement)\n",
       "        targ = e.srcElement;\n",
       "    if (targ.nodeType == 3) // defeat Safari bug\n",
       "        targ = targ.parentNode;\n",
       "\n",
       "    // jQuery normalizes the pageX and pageY\n",
       "    // pageX,Y are the mouse positions relative to the document\n",
       "    // offset() returns the position of the element relative to the document\n",
       "    var x = e.pageX - $(targ).offset().left;\n",
       "    var y = e.pageY - $(targ).offset().top;\n",
       "\n",
       "    return {\"x\": x, \"y\": y};\n",
       "};\n",
       "\n",
       "/*\n",
       " * return a copy of an object with only non-object keys\n",
       " * we need this to avoid circular references\n",
       " * http://stackoverflow.com/a/24161582/3208463\n",
       " */\n",
       "function simpleKeys (original) {\n",
       "  return Object.keys(original).reduce(function (obj, key) {\n",
       "    if (typeof original[key] !== 'object')\n",
       "        obj[key] = original[key]\n",
       "    return obj;\n",
       "  }, {});\n",
       "}\n",
       "\n",
       "mpl.figure.prototype.mouse_event = function(event, name) {\n",
       "    var canvas_pos = mpl.findpos(event)\n",
       "\n",
       "    if (name === 'button_press')\n",
       "    {\n",
       "        this.canvas.focus();\n",
       "        this.canvas_div.focus();\n",
       "    }\n",
       "\n",
       "    var x = canvas_pos.x;\n",
       "    var y = canvas_pos.y;\n",
       "\n",
       "    this.send_message(name, {x: x, y: y, button: event.button,\n",
       "                             step: event.step,\n",
       "                             guiEvent: simpleKeys(event)});\n",
       "\n",
       "    /* This prevents the web browser from automatically changing to\n",
       "     * the text insertion cursor when the button is pressed.  We want\n",
       "     * to control all of the cursor setting manually through the\n",
       "     * 'cursor' event from matplotlib */\n",
       "    event.preventDefault();\n",
       "    return false;\n",
       "}\n",
       "\n",
       "mpl.figure.prototype._key_event_extra = function(event, name) {\n",
       "    // Handle any extra behaviour associated with a key event\n",
       "}\n",
       "\n",
       "mpl.figure.prototype.key_event = function(event, name) {\n",
       "\n",
       "    // Prevent repeat events\n",
       "    if (name == 'key_press')\n",
       "    {\n",
       "        if (event.which === this._key)\n",
       "            return;\n",
       "        else\n",
       "            this._key = event.which;\n",
       "    }\n",
       "    if (name == 'key_release')\n",
       "        this._key = null;\n",
       "\n",
       "    var value = '';\n",
       "    if (event.ctrlKey && event.which != 17)\n",
       "        value += \"ctrl+\";\n",
       "    if (event.altKey && event.which != 18)\n",
       "        value += \"alt+\";\n",
       "    if (event.shiftKey && event.which != 16)\n",
       "        value += \"shift+\";\n",
       "\n",
       "    value += 'k';\n",
       "    value += event.which.toString();\n",
       "\n",
       "    this._key_event_extra(event, name);\n",
       "\n",
       "    this.send_message(name, {key: value,\n",
       "                             guiEvent: simpleKeys(event)});\n",
       "    return false;\n",
       "}\n",
       "\n",
       "mpl.figure.prototype.toolbar_button_onclick = function(name) {\n",
       "    if (name == 'download') {\n",
       "        this.handle_save(this, null);\n",
       "    } else {\n",
       "        this.send_message(\"toolbar_button\", {name: name});\n",
       "    }\n",
       "};\n",
       "\n",
       "mpl.figure.prototype.toolbar_button_onmouseover = function(tooltip) {\n",
       "    this.message.textContent = tooltip;\n",
       "};\n",
       "mpl.toolbar_items = [[\"Home\", \"Reset original view\", \"fa fa-home icon-home\", \"home\"], [\"Back\", \"Back to  previous view\", \"fa fa-arrow-left icon-arrow-left\", \"back\"], [\"Forward\", \"Forward to next view\", \"fa fa-arrow-right icon-arrow-right\", \"forward\"], [\"\", \"\", \"\", \"\"], [\"Pan\", \"Pan axes with left mouse, zoom with right\", \"fa fa-arrows icon-move\", \"pan\"], [\"Zoom\", \"Zoom to rectangle\", \"fa fa-square-o icon-check-empty\", \"zoom\"], [\"\", \"\", \"\", \"\"], [\"Download\", \"Download plot\", \"fa fa-floppy-o icon-save\", \"download\"]];\n",
       "\n",
       "mpl.extensions = [\"eps\", \"jpeg\", \"pdf\", \"png\", \"ps\", \"raw\", \"svg\", \"tif\"];\n",
       "\n",
       "mpl.default_extension = \"png\";var comm_websocket_adapter = function(comm) {\n",
       "    // Create a \"websocket\"-like object which calls the given IPython comm\n",
       "    // object with the appropriate methods. Currently this is a non binary\n",
       "    // socket, so there is still some room for performance tuning.\n",
       "    var ws = {};\n",
       "\n",
       "    ws.close = function() {\n",
       "        comm.close()\n",
       "    };\n",
       "    ws.send = function(m) {\n",
       "        //console.log('sending', m);\n",
       "        comm.send(m);\n",
       "    };\n",
       "    // Register the callback with on_msg.\n",
       "    comm.on_msg(function(msg) {\n",
       "        //console.log('receiving', msg['content']['data'], msg);\n",
       "        // Pass the mpl event to the overriden (by mpl) onmessage function.\n",
       "        ws.onmessage(msg['content']['data'])\n",
       "    });\n",
       "    return ws;\n",
       "}\n",
       "\n",
       "mpl.mpl_figure_comm = function(comm, msg) {\n",
       "    // This is the function which gets called when the mpl process\n",
       "    // starts-up an IPython Comm through the \"matplotlib\" channel.\n",
       "\n",
       "    var id = msg.content.data.id;\n",
       "    // Get hold of the div created by the display call when the Comm\n",
       "    // socket was opened in Python.\n",
       "    var element = $(\"#\" + id);\n",
       "    var ws_proxy = comm_websocket_adapter(comm)\n",
       "\n",
       "    function ondownload(figure, format) {\n",
       "        window.open(figure.imageObj.src);\n",
       "    }\n",
       "\n",
       "    var fig = new mpl.figure(id, ws_proxy,\n",
       "                           ondownload,\n",
       "                           element.get(0));\n",
       "\n",
       "    // Call onopen now - mpl needs it, as it is assuming we've passed it a real\n",
       "    // web socket which is closed, not our websocket->open comm proxy.\n",
       "    ws_proxy.onopen();\n",
       "\n",
       "    fig.parent_element = element.get(0);\n",
       "    fig.cell_info = mpl.find_output_cell(\"<div id='\" + id + \"'></div>\");\n",
       "    if (!fig.cell_info) {\n",
       "        console.error(\"Failed to find cell for figure\", id, fig);\n",
       "        return;\n",
       "    }\n",
       "\n",
       "    var output_index = fig.cell_info[2]\n",
       "    var cell = fig.cell_info[0];\n",
       "\n",
       "};\n",
       "\n",
       "mpl.figure.prototype.handle_close = function(fig, msg) {\n",
       "    fig.root.unbind('remove')\n",
       "\n",
       "    // Update the output cell to use the data from the current canvas.\n",
       "    fig.push_to_output();\n",
       "    var dataURL = fig.canvas.toDataURL();\n",
       "    // Re-enable the keyboard manager in IPython - without this line, in FF,\n",
       "    // the notebook keyboard shortcuts fail.\n",
       "    IPython.keyboard_manager.enable()\n",
       "    $(fig.parent_element).html('<img src=\"' + dataURL + '\">');\n",
       "    fig.close_ws(fig, msg);\n",
       "}\n",
       "\n",
       "mpl.figure.prototype.close_ws = function(fig, msg){\n",
       "    fig.send_message('closing', msg);\n",
       "    // fig.ws.close()\n",
       "}\n",
       "\n",
       "mpl.figure.prototype.push_to_output = function(remove_interactive) {\n",
       "    // Turn the data on the canvas into data in the output cell.\n",
       "    var dataURL = this.canvas.toDataURL();\n",
       "    this.cell_info[1]['text/html'] = '<img src=\"' + dataURL + '\">';\n",
       "}\n",
       "\n",
       "mpl.figure.prototype.updated_canvas_event = function() {\n",
       "    // Tell IPython that the notebook contents must change.\n",
       "    IPython.notebook.set_dirty(true);\n",
       "    this.send_message(\"ack\", {});\n",
       "    var fig = this;\n",
       "    // Wait a second, then push the new image to the DOM so\n",
       "    // that it is saved nicely (might be nice to debounce this).\n",
       "    setTimeout(function () { fig.push_to_output() }, 1000);\n",
       "}\n",
       "\n",
       "mpl.figure.prototype._init_toolbar = function() {\n",
       "    var fig = this;\n",
       "\n",
       "    var nav_element = $('<div/>')\n",
       "    nav_element.attr('style', 'width: 100%');\n",
       "    this.root.append(nav_element);\n",
       "\n",
       "    // Define a callback function for later on.\n",
       "    function toolbar_event(event) {\n",
       "        return fig.toolbar_button_onclick(event['data']);\n",
       "    }\n",
       "    function toolbar_mouse_event(event) {\n",
       "        return fig.toolbar_button_onmouseover(event['data']);\n",
       "    }\n",
       "\n",
       "    for(var toolbar_ind in mpl.toolbar_items){\n",
       "        var name = mpl.toolbar_items[toolbar_ind][0];\n",
       "        var tooltip = mpl.toolbar_items[toolbar_ind][1];\n",
       "        var image = mpl.toolbar_items[toolbar_ind][2];\n",
       "        var method_name = mpl.toolbar_items[toolbar_ind][3];\n",
       "\n",
       "        if (!name) { continue; };\n",
       "\n",
       "        var button = $('<button class=\"btn btn-default\" href=\"#\" title=\"' + name + '\"><i class=\"fa ' + image + ' fa-lg\"></i></button>');\n",
       "        button.click(method_name, toolbar_event);\n",
       "        button.mouseover(tooltip, toolbar_mouse_event);\n",
       "        nav_element.append(button);\n",
       "    }\n",
       "\n",
       "    // Add the status bar.\n",
       "    var status_bar = $('<span class=\"mpl-message\" style=\"text-align:right; float: right;\"/>');\n",
       "    nav_element.append(status_bar);\n",
       "    this.message = status_bar[0];\n",
       "\n",
       "    // Add the close button to the window.\n",
       "    var buttongrp = $('<div class=\"btn-group inline pull-right\"></div>');\n",
       "    var button = $('<button class=\"btn btn-mini btn-primary\" href=\"#\" title=\"Stop Interaction\"><i class=\"fa fa-power-off icon-remove icon-large\"></i></button>');\n",
       "    button.click(function (evt) { fig.handle_close(fig, {}); } );\n",
       "    button.mouseover('Stop Interaction', toolbar_mouse_event);\n",
       "    buttongrp.append(button);\n",
       "    var titlebar = this.root.find($('.ui-dialog-titlebar'));\n",
       "    titlebar.prepend(buttongrp);\n",
       "}\n",
       "\n",
       "mpl.figure.prototype._root_extra_style = function(el){\n",
       "    var fig = this\n",
       "    el.on(\"remove\", function(){\n",
       "\tfig.close_ws(fig, {});\n",
       "    });\n",
       "}\n",
       "\n",
       "mpl.figure.prototype._canvas_extra_style = function(el){\n",
       "    // this is important to make the div 'focusable\n",
       "    el.attr('tabindex', 0)\n",
       "    // reach out to IPython and tell the keyboard manager to turn it's self\n",
       "    // off when our div gets focus\n",
       "\n",
       "    // location in version 3\n",
       "    if (IPython.notebook.keyboard_manager) {\n",
       "        IPython.notebook.keyboard_manager.register_events(el);\n",
       "    }\n",
       "    else {\n",
       "        // location in version 2\n",
       "        IPython.keyboard_manager.register_events(el);\n",
       "    }\n",
       "\n",
       "}\n",
       "\n",
       "mpl.figure.prototype._key_event_extra = function(event, name) {\n",
       "    var manager = IPython.notebook.keyboard_manager;\n",
       "    if (!manager)\n",
       "        manager = IPython.keyboard_manager;\n",
       "\n",
       "    // Check for shift+enter\n",
       "    if (event.shiftKey && event.which == 13) {\n",
       "        this.canvas_div.blur();\n",
       "        // select the cell after this one\n",
       "        var index = IPython.notebook.find_cell_index(this.cell_info[0]);\n",
       "        IPython.notebook.select(index + 1);\n",
       "    }\n",
       "}\n",
       "\n",
       "mpl.figure.prototype.handle_save = function(fig, msg) {\n",
       "    fig.ondownload(fig, null);\n",
       "}\n",
       "\n",
       "\n",
       "mpl.find_output_cell = function(html_output) {\n",
       "    // Return the cell and output element which can be found *uniquely* in the notebook.\n",
       "    // Note - this is a bit hacky, but it is done because the \"notebook_saving.Notebook\"\n",
       "    // IPython event is triggered only after the cells have been serialised, which for\n",
       "    // our purposes (turning an active figure into a static one), is too late.\n",
       "    var cells = IPython.notebook.get_cells();\n",
       "    var ncells = cells.length;\n",
       "    for (var i=0; i<ncells; i++) {\n",
       "        var cell = cells[i];\n",
       "        if (cell.cell_type === 'code'){\n",
       "            for (var j=0; j<cell.output_area.outputs.length; j++) {\n",
       "                var data = cell.output_area.outputs[j];\n",
       "                if (data.data) {\n",
       "                    // IPython >= 3 moved mimebundle to data attribute of output\n",
       "                    data = data.data;\n",
       "                }\n",
       "                if (data['text/html'] == html_output) {\n",
       "                    return [cell, data, j];\n",
       "                }\n",
       "            }\n",
       "        }\n",
       "    }\n",
       "}\n",
       "\n",
       "// Register the function which deals with the matplotlib target/channel.\n",
       "// The kernel may be null if the page has been refreshed.\n",
       "if (IPython.notebook.kernel != null) {\n",
       "    IPython.notebook.kernel.comm_manager.register_target('matplotlib', mpl.mpl_figure_comm);\n",
       "}\n"
      ],
      "text/plain": [
       "<IPython.core.display.Javascript object>"
      ]
     },
     "metadata": {},
     "output_type": "display_data"
    },
    {
     "data": {
      "text/html": [
       "<img src=\"data:image/png;base64,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\">"
      ],
      "text/plain": [
       "<IPython.core.display.HTML object>"
      ]
     },
     "metadata": {},
     "output_type": "display_data"
    },
    {
     "name": "stdout",
     "output_type": "stream",
     "text": [
      "Total timesteps :894\n",
      "Available timesteps :794\n"
     ]
    }
   ],
   "source": [
    "\n",
    "def plot_timeseries(phival,ydvals,vrange):\n",
    "    plt.style.use('seaborn-deep')\n",
    "    l = []\n",
    "    phival = \"phi\"+str(phival)\n",
    "    for f in get_folder_list():\n",
    "        try:\n",
    "            if f.split(\"_\")[1] == phival:\n",
    "                l.append(f)\n",
    "        except:\n",
    "            continue\n",
    "    nufiles = [f+\"/result/nu_t.dat\" for f in l]\n",
    "    plt.figure(figsize=[12,5])\n",
    "    minshear = 100000\n",
    "    for f in np.sort(nufiles):\n",
    "        try:\n",
    "            db = pd.read_csv(f)\n",
    "            nu = db[db.columns[2]]\n",
    "            nu_rel = db[db.columns[4]]\n",
    "            t = db[db.columns[1]]\n",
    "            shearrate = float(f.split(\"_\")[2].split(\"/\")[0].split(\"yd\")[1])\n",
    "            if shearrate in ydvals: \n",
    "                shear = t*shearrate\n",
    "                if minshear > shear.max(): minshear = shear.max()\n",
    "                plt.plot(shear[vrange[0]: vrange[1]],nu_rel[vrange[0]: vrange[1]],label=\"yd=\"+str(shearrate))\n",
    "#                 print vrange[0]\n",
    "#                 plt.plot(shear,nu_rel,label=\"yd=\"+str(shearrate))\n",
    "                print \"Total timesteps :\"+str(len(shear))\n",
    "                print \"Available timesteps :\"+str(int(len(shear) - len(shear)/float(shear.max())))\n",
    "        except:\n",
    "            continue\n",
    "    plt.legend(loc=\"best\")\n",
    "    plt.title(\"$\\phi=$\"+str(phival))\n",
    "    plt.yscale(\"log\")\n",
    "    plt.xlabel(\"strain\")\n",
    "    plt.ylabel(\"Relative viscosity Pa.s\")\n",
    "\n",
    "#     plt.xlim([0,minshear])\n",
    "    name = \"comparison_viscosity_\" + str(phival)+ '_'.join([str(i) for i in ydvals])\n",
    "#     plt.savefig(name)\n",
    "\n",
    "time_series = interactive(plot_timeseries, \\\n",
    "                vrange = widgets.IntRangeSlider(min = 0, max = 1500,value = [0,1000]),\\\n",
    "                phival = widgets.ToggleButtons(options=[40,45,50,54,55,56,58],value=56,disabled=False), \\\n",
    "                ydvals= widgets.SelectMultiple(options=[1,10,11,11.5,12,12.5,13,14,15,16,18,20,30,50,70,100,200,300,1000],value=[12.0]),\\\n",
    "                __manual=False)\n",
    "\n",
    "display(time_series)"
   ]
  },
  {
   "cell_type": "markdown",
   "metadata": {},
   "source": [
    "## Plot averaged PDF"
   ]
  },
  {
   "cell_type": "markdown",
   "metadata": {},
   "source": [
    "### PDF averaged over a over a time range "
   ]
  },
  {
   "cell_type": "markdown",
   "metadata": {},
   "source": [
    "Averaged PDF over a specified time range is plotted here."
   ]
  },
  {
   "cell_type": "code",
   "execution_count": 29,
   "metadata": {
    "collapsed": false
   },
   "outputs": [
    {
     "data": {
      "application/javascript": [
       "/* Put everything inside the global mpl namespace */\n",
       "window.mpl = {};\n",
       "\n",
       "mpl.get_websocket_type = function() {\n",
       "    if (typeof(WebSocket) !== 'undefined') {\n",
       "        return WebSocket;\n",
       "    } else if (typeof(MozWebSocket) !== 'undefined') {\n",
       "        return MozWebSocket;\n",
       "    } else {\n",
       "        alert('Your browser does not have WebSocket support.' +\n",
       "              'Please try Chrome, Safari or Firefox ≥ 6. ' +\n",
       "              'Firefox 4 and 5 are also supported but you ' +\n",
       "              'have to enable WebSockets in about:config.');\n",
       "    };\n",
       "}\n",
       "\n",
       "mpl.figure = function(figure_id, websocket, ondownload, parent_element) {\n",
       "    this.id = figure_id;\n",
       "\n",
       "    this.ws = websocket;\n",
       "\n",
       "    this.supports_binary = (this.ws.binaryType != undefined);\n",
       "\n",
       "    if (!this.supports_binary) {\n",
       "        var warnings = document.getElementById(\"mpl-warnings\");\n",
       "        if (warnings) {\n",
       "            warnings.style.display = 'block';\n",
       "            warnings.textContent = (\n",
       "                \"This browser does not support binary websocket messages. \" +\n",
       "                    \"Performance may be slow.\");\n",
       "        }\n",
       "    }\n",
       "\n",
       "    this.imageObj = new Image();\n",
       "\n",
       "    this.context = undefined;\n",
       "    this.message = undefined;\n",
       "    this.canvas = undefined;\n",
       "    this.rubberband_canvas = undefined;\n",
       "    this.rubberband_context = undefined;\n",
       "    this.format_dropdown = undefined;\n",
       "\n",
       "    this.image_mode = 'full';\n",
       "\n",
       "    this.root = $('<div/>');\n",
       "    this._root_extra_style(this.root)\n",
       "    this.root.attr('style', 'display: inline-block');\n",
       "\n",
       "    $(parent_element).append(this.root);\n",
       "\n",
       "    this._init_header(this);\n",
       "    this._init_canvas(this);\n",
       "    this._init_toolbar(this);\n",
       "\n",
       "    var fig = this;\n",
       "\n",
       "    this.waiting = false;\n",
       "\n",
       "    this.ws.onopen =  function () {\n",
       "            fig.send_message(\"supports_binary\", {value: fig.supports_binary});\n",
       "            fig.send_message(\"send_image_mode\", {});\n",
       "            fig.send_message(\"refresh\", {});\n",
       "        }\n",
       "\n",
       "    this.imageObj.onload = function() {\n",
       "            if (fig.image_mode == 'full') {\n",
       "                // Full images could contain transparency (where diff images\n",
       "                // almost always do), so we need to clear the canvas so that\n",
       "                // there is no ghosting.\n",
       "                fig.context.clearRect(0, 0, fig.canvas.width, fig.canvas.height);\n",
       "            }\n",
       "            fig.context.drawImage(fig.imageObj, 0, 0);\n",
       "        };\n",
       "\n",
       "    this.imageObj.onunload = function() {\n",
       "        this.ws.close();\n",
       "    }\n",
       "\n",
       "    this.ws.onmessage = this._make_on_message_function(this);\n",
       "\n",
       "    this.ondownload = ondownload;\n",
       "}\n",
       "\n",
       "mpl.figure.prototype._init_header = function() {\n",
       "    var titlebar = $(\n",
       "        '<div class=\"ui-dialog-titlebar ui-widget-header ui-corner-all ' +\n",
       "        'ui-helper-clearfix\"/>');\n",
       "    var titletext = $(\n",
       "        '<div class=\"ui-dialog-title\" style=\"width: 100%; ' +\n",
       "        'text-align: center; padding: 3px;\"/>');\n",
       "    titlebar.append(titletext)\n",
       "    this.root.append(titlebar);\n",
       "    this.header = titletext[0];\n",
       "}\n",
       "\n",
       "\n",
       "\n",
       "mpl.figure.prototype._canvas_extra_style = function(canvas_div) {\n",
       "\n",
       "}\n",
       "\n",
       "\n",
       "mpl.figure.prototype._root_extra_style = function(canvas_div) {\n",
       "\n",
       "}\n",
       "\n",
       "mpl.figure.prototype._init_canvas = function() {\n",
       "    var fig = this;\n",
       "\n",
       "    var canvas_div = $('<div/>');\n",
       "\n",
       "    canvas_div.attr('style', 'position: relative; clear: both; outline: 0');\n",
       "\n",
       "    function canvas_keyboard_event(event) {\n",
       "        return fig.key_event(event, event['data']);\n",
       "    }\n",
       "\n",
       "    canvas_div.keydown('key_press', canvas_keyboard_event);\n",
       "    canvas_div.keyup('key_release', canvas_keyboard_event);\n",
       "    this.canvas_div = canvas_div\n",
       "    this._canvas_extra_style(canvas_div)\n",
       "    this.root.append(canvas_div);\n",
       "\n",
       "    var canvas = $('<canvas/>');\n",
       "    canvas.addClass('mpl-canvas');\n",
       "    canvas.attr('style', \"left: 0; top: 0; z-index: 0; outline: 0\")\n",
       "\n",
       "    this.canvas = canvas[0];\n",
       "    this.context = canvas[0].getContext(\"2d\");\n",
       "\n",
       "    var rubberband = $('<canvas/>');\n",
       "    rubberband.attr('style', \"position: absolute; left: 0; top: 0; z-index: 1;\")\n",
       "\n",
       "    var pass_mouse_events = true;\n",
       "\n",
       "    canvas_div.resizable({\n",
       "        start: function(event, ui) {\n",
       "            pass_mouse_events = false;\n",
       "        },\n",
       "        resize: function(event, ui) {\n",
       "            fig.request_resize(ui.size.width, ui.size.height);\n",
       "        },\n",
       "        stop: function(event, ui) {\n",
       "            pass_mouse_events = true;\n",
       "            fig.request_resize(ui.size.width, ui.size.height);\n",
       "        },\n",
       "    });\n",
       "\n",
       "    function mouse_event_fn(event) {\n",
       "        if (pass_mouse_events)\n",
       "            return fig.mouse_event(event, event['data']);\n",
       "    }\n",
       "\n",
       "    rubberband.mousedown('button_press', mouse_event_fn);\n",
       "    rubberband.mouseup('button_release', mouse_event_fn);\n",
       "    // Throttle sequential mouse events to 1 every 20ms.\n",
       "    rubberband.mousemove('motion_notify', mouse_event_fn);\n",
       "\n",
       "    rubberband.mouseenter('figure_enter', mouse_event_fn);\n",
       "    rubberband.mouseleave('figure_leave', mouse_event_fn);\n",
       "\n",
       "    canvas_div.on(\"wheel\", function (event) {\n",
       "        event = event.originalEvent;\n",
       "        event['data'] = 'scroll'\n",
       "        if (event.deltaY < 0) {\n",
       "            event.step = 1;\n",
       "        } else {\n",
       "            event.step = -1;\n",
       "        }\n",
       "        mouse_event_fn(event);\n",
       "    });\n",
       "\n",
       "    canvas_div.append(canvas);\n",
       "    canvas_div.append(rubberband);\n",
       "\n",
       "    this.rubberband = rubberband;\n",
       "    this.rubberband_canvas = rubberband[0];\n",
       "    this.rubberband_context = rubberband[0].getContext(\"2d\");\n",
       "    this.rubberband_context.strokeStyle = \"#000000\";\n",
       "\n",
       "    this._resize_canvas = function(width, height) {\n",
       "        // Keep the size of the canvas, canvas container, and rubber band\n",
       "        // canvas in synch.\n",
       "        canvas_div.css('width', width)\n",
       "        canvas_div.css('height', height)\n",
       "\n",
       "        canvas.attr('width', width);\n",
       "        canvas.attr('height', height);\n",
       "\n",
       "        rubberband.attr('width', width);\n",
       "        rubberband.attr('height', height);\n",
       "    }\n",
       "\n",
       "    // Set the figure to an initial 600x600px, this will subsequently be updated\n",
       "    // upon first draw.\n",
       "    this._resize_canvas(600, 600);\n",
       "\n",
       "    // Disable right mouse context menu.\n",
       "    $(this.rubberband_canvas).bind(\"contextmenu\",function(e){\n",
       "        return false;\n",
       "    });\n",
       "\n",
       "    function set_focus () {\n",
       "        canvas.focus();\n",
       "        canvas_div.focus();\n",
       "    }\n",
       "\n",
       "    window.setTimeout(set_focus, 100);\n",
       "}\n",
       "\n",
       "mpl.figure.prototype._init_toolbar = function() {\n",
       "    var fig = this;\n",
       "\n",
       "    var nav_element = $('<div/>')\n",
       "    nav_element.attr('style', 'width: 100%');\n",
       "    this.root.append(nav_element);\n",
       "\n",
       "    // Define a callback function for later on.\n",
       "    function toolbar_event(event) {\n",
       "        return fig.toolbar_button_onclick(event['data']);\n",
       "    }\n",
       "    function toolbar_mouse_event(event) {\n",
       "        return fig.toolbar_button_onmouseover(event['data']);\n",
       "    }\n",
       "\n",
       "    for(var toolbar_ind in mpl.toolbar_items) {\n",
       "        var name = mpl.toolbar_items[toolbar_ind][0];\n",
       "        var tooltip = mpl.toolbar_items[toolbar_ind][1];\n",
       "        var image = mpl.toolbar_items[toolbar_ind][2];\n",
       "        var method_name = mpl.toolbar_items[toolbar_ind][3];\n",
       "\n",
       "        if (!name) {\n",
       "            // put a spacer in here.\n",
       "            continue;\n",
       "        }\n",
       "        var button = $('<button/>');\n",
       "        button.addClass('ui-button ui-widget ui-state-default ui-corner-all ' +\n",
       "                        'ui-button-icon-only');\n",
       "        button.attr('role', 'button');\n",
       "        button.attr('aria-disabled', 'false');\n",
       "        button.click(method_name, toolbar_event);\n",
       "        button.mouseover(tooltip, toolbar_mouse_event);\n",
       "\n",
       "        var icon_img = $('<span/>');\n",
       "        icon_img.addClass('ui-button-icon-primary ui-icon');\n",
       "        icon_img.addClass(image);\n",
       "        icon_img.addClass('ui-corner-all');\n",
       "\n",
       "        var tooltip_span = $('<span/>');\n",
       "        tooltip_span.addClass('ui-button-text');\n",
       "        tooltip_span.html(tooltip);\n",
       "\n",
       "        button.append(icon_img);\n",
       "        button.append(tooltip_span);\n",
       "\n",
       "        nav_element.append(button);\n",
       "    }\n",
       "\n",
       "    var fmt_picker_span = $('<span/>');\n",
       "\n",
       "    var fmt_picker = $('<select/>');\n",
       "    fmt_picker.addClass('mpl-toolbar-option ui-widget ui-widget-content');\n",
       "    fmt_picker_span.append(fmt_picker);\n",
       "    nav_element.append(fmt_picker_span);\n",
       "    this.format_dropdown = fmt_picker[0];\n",
       "\n",
       "    for (var ind in mpl.extensions) {\n",
       "        var fmt = mpl.extensions[ind];\n",
       "        var option = $(\n",
       "            '<option/>', {selected: fmt === mpl.default_extension}).html(fmt);\n",
       "        fmt_picker.append(option)\n",
       "    }\n",
       "\n",
       "    // Add hover states to the ui-buttons\n",
       "    $( \".ui-button\" ).hover(\n",
       "        function() { $(this).addClass(\"ui-state-hover\");},\n",
       "        function() { $(this).removeClass(\"ui-state-hover\");}\n",
       "    );\n",
       "\n",
       "    var status_bar = $('<span class=\"mpl-message\"/>');\n",
       "    nav_element.append(status_bar);\n",
       "    this.message = status_bar[0];\n",
       "}\n",
       "\n",
       "mpl.figure.prototype.request_resize = function(x_pixels, y_pixels) {\n",
       "    // Request matplotlib to resize the figure. Matplotlib will then trigger a resize in the client,\n",
       "    // which will in turn request a refresh of the image.\n",
       "    this.send_message('resize', {'width': x_pixels, 'height': y_pixels});\n",
       "}\n",
       "\n",
       "mpl.figure.prototype.send_message = function(type, properties) {\n",
       "    properties['type'] = type;\n",
       "    properties['figure_id'] = this.id;\n",
       "    this.ws.send(JSON.stringify(properties));\n",
       "}\n",
       "\n",
       "mpl.figure.prototype.send_draw_message = function() {\n",
       "    if (!this.waiting) {\n",
       "        this.waiting = true;\n",
       "        this.ws.send(JSON.stringify({type: \"draw\", figure_id: this.id}));\n",
       "    }\n",
       "}\n",
       "\n",
       "\n",
       "mpl.figure.prototype.handle_save = function(fig, msg) {\n",
       "    var format_dropdown = fig.format_dropdown;\n",
       "    var format = format_dropdown.options[format_dropdown.selectedIndex].value;\n",
       "    fig.ondownload(fig, format);\n",
       "}\n",
       "\n",
       "\n",
       "mpl.figure.prototype.handle_resize = function(fig, msg) {\n",
       "    var size = msg['size'];\n",
       "    if (size[0] != fig.canvas.width || size[1] != fig.canvas.height) {\n",
       "        fig._resize_canvas(size[0], size[1]);\n",
       "        fig.send_message(\"refresh\", {});\n",
       "    };\n",
       "}\n",
       "\n",
       "mpl.figure.prototype.handle_rubberband = function(fig, msg) {\n",
       "    var x0 = msg['x0'];\n",
       "    var y0 = fig.canvas.height - msg['y0'];\n",
       "    var x1 = msg['x1'];\n",
       "    var y1 = fig.canvas.height - msg['y1'];\n",
       "    x0 = Math.floor(x0) + 0.5;\n",
       "    y0 = Math.floor(y0) + 0.5;\n",
       "    x1 = Math.floor(x1) + 0.5;\n",
       "    y1 = Math.floor(y1) + 0.5;\n",
       "    var min_x = Math.min(x0, x1);\n",
       "    var min_y = Math.min(y0, y1);\n",
       "    var width = Math.abs(x1 - x0);\n",
       "    var height = Math.abs(y1 - y0);\n",
       "\n",
       "    fig.rubberband_context.clearRect(\n",
       "        0, 0, fig.canvas.width, fig.canvas.height);\n",
       "\n",
       "    fig.rubberband_context.strokeRect(min_x, min_y, width, height);\n",
       "}\n",
       "\n",
       "mpl.figure.prototype.handle_figure_label = function(fig, msg) {\n",
       "    // Updates the figure title.\n",
       "    fig.header.textContent = msg['label'];\n",
       "}\n",
       "\n",
       "mpl.figure.prototype.handle_cursor = function(fig, msg) {\n",
       "    var cursor = msg['cursor'];\n",
       "    switch(cursor)\n",
       "    {\n",
       "    case 0:\n",
       "        cursor = 'pointer';\n",
       "        break;\n",
       "    case 1:\n",
       "        cursor = 'default';\n",
       "        break;\n",
       "    case 2:\n",
       "        cursor = 'crosshair';\n",
       "        break;\n",
       "    case 3:\n",
       "        cursor = 'move';\n",
       "        break;\n",
       "    }\n",
       "    fig.rubberband_canvas.style.cursor = cursor;\n",
       "}\n",
       "\n",
       "mpl.figure.prototype.handle_message = function(fig, msg) {\n",
       "    fig.message.textContent = msg['message'];\n",
       "}\n",
       "\n",
       "mpl.figure.prototype.handle_draw = function(fig, msg) {\n",
       "    // Request the server to send over a new figure.\n",
       "    fig.send_draw_message();\n",
       "}\n",
       "\n",
       "mpl.figure.prototype.handle_image_mode = function(fig, msg) {\n",
       "    fig.image_mode = msg['mode'];\n",
       "}\n",
       "\n",
       "mpl.figure.prototype.updated_canvas_event = function() {\n",
       "    // Called whenever the canvas gets updated.\n",
       "    this.send_message(\"ack\", {});\n",
       "}\n",
       "\n",
       "// A function to construct a web socket function for onmessage handling.\n",
       "// Called in the figure constructor.\n",
       "mpl.figure.prototype._make_on_message_function = function(fig) {\n",
       "    return function socket_on_message(evt) {\n",
       "        if (evt.data instanceof Blob) {\n",
       "            /* FIXME: We get \"Resource interpreted as Image but\n",
       "             * transferred with MIME type text/plain:\" errors on\n",
       "             * Chrome.  But how to set the MIME type?  It doesn't seem\n",
       "             * to be part of the websocket stream */\n",
       "            evt.data.type = \"image/png\";\n",
       "\n",
       "            /* Free the memory for the previous frames */\n",
       "            if (fig.imageObj.src) {\n",
       "                (window.URL || window.webkitURL).revokeObjectURL(\n",
       "                    fig.imageObj.src);\n",
       "            }\n",
       "\n",
       "            fig.imageObj.src = (window.URL || window.webkitURL).createObjectURL(\n",
       "                evt.data);\n",
       "            fig.updated_canvas_event();\n",
       "            fig.waiting = false;\n",
       "            return;\n",
       "        }\n",
       "        else if (typeof evt.data === 'string' && evt.data.slice(0, 21) == \"data:image/png;base64\") {\n",
       "            fig.imageObj.src = evt.data;\n",
       "            fig.updated_canvas_event();\n",
       "            fig.waiting = false;\n",
       "            return;\n",
       "        }\n",
       "\n",
       "        var msg = JSON.parse(evt.data);\n",
       "        var msg_type = msg['type'];\n",
       "\n",
       "        // Call the  \"handle_{type}\" callback, which takes\n",
       "        // the figure and JSON message as its only arguments.\n",
       "        try {\n",
       "            var callback = fig[\"handle_\" + msg_type];\n",
       "        } catch (e) {\n",
       "            console.log(\"No handler for the '\" + msg_type + \"' message type: \", msg);\n",
       "            return;\n",
       "        }\n",
       "\n",
       "        if (callback) {\n",
       "            try {\n",
       "                // console.log(\"Handling '\" + msg_type + \"' message: \", msg);\n",
       "                callback(fig, msg);\n",
       "            } catch (e) {\n",
       "                console.log(\"Exception inside the 'handler_\" + msg_type + \"' callback:\", e, e.stack, msg);\n",
       "            }\n",
       "        }\n",
       "    };\n",
       "}\n",
       "\n",
       "// from http://stackoverflow.com/questions/1114465/getting-mouse-location-in-canvas\n",
       "mpl.findpos = function(e) {\n",
       "    //this section is from http://www.quirksmode.org/js/events_properties.html\n",
       "    var targ;\n",
       "    if (!e)\n",
       "        e = window.event;\n",
       "    if (e.target)\n",
       "        targ = e.target;\n",
       "    else if (e.srcElement)\n",
       "        targ = e.srcElement;\n",
       "    if (targ.nodeType == 3) // defeat Safari bug\n",
       "        targ = targ.parentNode;\n",
       "\n",
       "    // jQuery normalizes the pageX and pageY\n",
       "    // pageX,Y are the mouse positions relative to the document\n",
       "    // offset() returns the position of the element relative to the document\n",
       "    var x = e.pageX - $(targ).offset().left;\n",
       "    var y = e.pageY - $(targ).offset().top;\n",
       "\n",
       "    return {\"x\": x, \"y\": y};\n",
       "};\n",
       "\n",
       "/*\n",
       " * return a copy of an object with only non-object keys\n",
       " * we need this to avoid circular references\n",
       " * http://stackoverflow.com/a/24161582/3208463\n",
       " */\n",
       "function simpleKeys (original) {\n",
       "  return Object.keys(original).reduce(function (obj, key) {\n",
       "    if (typeof original[key] !== 'object')\n",
       "        obj[key] = original[key]\n",
       "    return obj;\n",
       "  }, {});\n",
       "}\n",
       "\n",
       "mpl.figure.prototype.mouse_event = function(event, name) {\n",
       "    var canvas_pos = mpl.findpos(event)\n",
       "\n",
       "    if (name === 'button_press')\n",
       "    {\n",
       "        this.canvas.focus();\n",
       "        this.canvas_div.focus();\n",
       "    }\n",
       "\n",
       "    var x = canvas_pos.x;\n",
       "    var y = canvas_pos.y;\n",
       "\n",
       "    this.send_message(name, {x: x, y: y, button: event.button,\n",
       "                             step: event.step,\n",
       "                             guiEvent: simpleKeys(event)});\n",
       "\n",
       "    /* This prevents the web browser from automatically changing to\n",
       "     * the text insertion cursor when the button is pressed.  We want\n",
       "     * to control all of the cursor setting manually through the\n",
       "     * 'cursor' event from matplotlib */\n",
       "    event.preventDefault();\n",
       "    return false;\n",
       "}\n",
       "\n",
       "mpl.figure.prototype._key_event_extra = function(event, name) {\n",
       "    // Handle any extra behaviour associated with a key event\n",
       "}\n",
       "\n",
       "mpl.figure.prototype.key_event = function(event, name) {\n",
       "\n",
       "    // Prevent repeat events\n",
       "    if (name == 'key_press')\n",
       "    {\n",
       "        if (event.which === this._key)\n",
       "            return;\n",
       "        else\n",
       "            this._key = event.which;\n",
       "    }\n",
       "    if (name == 'key_release')\n",
       "        this._key = null;\n",
       "\n",
       "    var value = '';\n",
       "    if (event.ctrlKey && event.which != 17)\n",
       "        value += \"ctrl+\";\n",
       "    if (event.altKey && event.which != 18)\n",
       "        value += \"alt+\";\n",
       "    if (event.shiftKey && event.which != 16)\n",
       "        value += \"shift+\";\n",
       "\n",
       "    value += 'k';\n",
       "    value += event.which.toString();\n",
       "\n",
       "    this._key_event_extra(event, name);\n",
       "\n",
       "    this.send_message(name, {key: value,\n",
       "                             guiEvent: simpleKeys(event)});\n",
       "    return false;\n",
       "}\n",
       "\n",
       "mpl.figure.prototype.toolbar_button_onclick = function(name) {\n",
       "    if (name == 'download') {\n",
       "        this.handle_save(this, null);\n",
       "    } else {\n",
       "        this.send_message(\"toolbar_button\", {name: name});\n",
       "    }\n",
       "};\n",
       "\n",
       "mpl.figure.prototype.toolbar_button_onmouseover = function(tooltip) {\n",
       "    this.message.textContent = tooltip;\n",
       "};\n",
       "mpl.toolbar_items = [[\"Home\", \"Reset original view\", \"fa fa-home icon-home\", \"home\"], [\"Back\", \"Back to  previous view\", \"fa fa-arrow-left icon-arrow-left\", \"back\"], [\"Forward\", \"Forward to next view\", \"fa fa-arrow-right icon-arrow-right\", \"forward\"], [\"\", \"\", \"\", \"\"], [\"Pan\", \"Pan axes with left mouse, zoom with right\", \"fa fa-arrows icon-move\", \"pan\"], [\"Zoom\", \"Zoom to rectangle\", \"fa fa-square-o icon-check-empty\", \"zoom\"], [\"\", \"\", \"\", \"\"], [\"Download\", \"Download plot\", \"fa fa-floppy-o icon-save\", \"download\"]];\n",
       "\n",
       "mpl.extensions = [\"eps\", \"jpeg\", \"pdf\", \"png\", \"ps\", \"raw\", \"svg\", \"tif\"];\n",
       "\n",
       "mpl.default_extension = \"png\";var comm_websocket_adapter = function(comm) {\n",
       "    // Create a \"websocket\"-like object which calls the given IPython comm\n",
       "    // object with the appropriate methods. Currently this is a non binary\n",
       "    // socket, so there is still some room for performance tuning.\n",
       "    var ws = {};\n",
       "\n",
       "    ws.close = function() {\n",
       "        comm.close()\n",
       "    };\n",
       "    ws.send = function(m) {\n",
       "        //console.log('sending', m);\n",
       "        comm.send(m);\n",
       "    };\n",
       "    // Register the callback with on_msg.\n",
       "    comm.on_msg(function(msg) {\n",
       "        //console.log('receiving', msg['content']['data'], msg);\n",
       "        // Pass the mpl event to the overriden (by mpl) onmessage function.\n",
       "        ws.onmessage(msg['content']['data'])\n",
       "    });\n",
       "    return ws;\n",
       "}\n",
       "\n",
       "mpl.mpl_figure_comm = function(comm, msg) {\n",
       "    // This is the function which gets called when the mpl process\n",
       "    // starts-up an IPython Comm through the \"matplotlib\" channel.\n",
       "\n",
       "    var id = msg.content.data.id;\n",
       "    // Get hold of the div created by the display call when the Comm\n",
       "    // socket was opened in Python.\n",
       "    var element = $(\"#\" + id);\n",
       "    var ws_proxy = comm_websocket_adapter(comm)\n",
       "\n",
       "    function ondownload(figure, format) {\n",
       "        window.open(figure.imageObj.src);\n",
       "    }\n",
       "\n",
       "    var fig = new mpl.figure(id, ws_proxy,\n",
       "                           ondownload,\n",
       "                           element.get(0));\n",
       "\n",
       "    // Call onopen now - mpl needs it, as it is assuming we've passed it a real\n",
       "    // web socket which is closed, not our websocket->open comm proxy.\n",
       "    ws_proxy.onopen();\n",
       "\n",
       "    fig.parent_element = element.get(0);\n",
       "    fig.cell_info = mpl.find_output_cell(\"<div id='\" + id + \"'></div>\");\n",
       "    if (!fig.cell_info) {\n",
       "        console.error(\"Failed to find cell for figure\", id, fig);\n",
       "        return;\n",
       "    }\n",
       "\n",
       "    var output_index = fig.cell_info[2]\n",
       "    var cell = fig.cell_info[0];\n",
       "\n",
       "};\n",
       "\n",
       "mpl.figure.prototype.handle_close = function(fig, msg) {\n",
       "    fig.root.unbind('remove')\n",
       "\n",
       "    // Update the output cell to use the data from the current canvas.\n",
       "    fig.push_to_output();\n",
       "    var dataURL = fig.canvas.toDataURL();\n",
       "    // Re-enable the keyboard manager in IPython - without this line, in FF,\n",
       "    // the notebook keyboard shortcuts fail.\n",
       "    IPython.keyboard_manager.enable()\n",
       "    $(fig.parent_element).html('<img src=\"' + dataURL + '\">');\n",
       "    fig.close_ws(fig, msg);\n",
       "}\n",
       "\n",
       "mpl.figure.prototype.close_ws = function(fig, msg){\n",
       "    fig.send_message('closing', msg);\n",
       "    // fig.ws.close()\n",
       "}\n",
       "\n",
       "mpl.figure.prototype.push_to_output = function(remove_interactive) {\n",
       "    // Turn the data on the canvas into data in the output cell.\n",
       "    var dataURL = this.canvas.toDataURL();\n",
       "    this.cell_info[1]['text/html'] = '<img src=\"' + dataURL + '\">';\n",
       "}\n",
       "\n",
       "mpl.figure.prototype.updated_canvas_event = function() {\n",
       "    // Tell IPython that the notebook contents must change.\n",
       "    IPython.notebook.set_dirty(true);\n",
       "    this.send_message(\"ack\", {});\n",
       "    var fig = this;\n",
       "    // Wait a second, then push the new image to the DOM so\n",
       "    // that it is saved nicely (might be nice to debounce this).\n",
       "    setTimeout(function () { fig.push_to_output() }, 1000);\n",
       "}\n",
       "\n",
       "mpl.figure.prototype._init_toolbar = function() {\n",
       "    var fig = this;\n",
       "\n",
       "    var nav_element = $('<div/>')\n",
       "    nav_element.attr('style', 'width: 100%');\n",
       "    this.root.append(nav_element);\n",
       "\n",
       "    // Define a callback function for later on.\n",
       "    function toolbar_event(event) {\n",
       "        return fig.toolbar_button_onclick(event['data']);\n",
       "    }\n",
       "    function toolbar_mouse_event(event) {\n",
       "        return fig.toolbar_button_onmouseover(event['data']);\n",
       "    }\n",
       "\n",
       "    for(var toolbar_ind in mpl.toolbar_items){\n",
       "        var name = mpl.toolbar_items[toolbar_ind][0];\n",
       "        var tooltip = mpl.toolbar_items[toolbar_ind][1];\n",
       "        var image = mpl.toolbar_items[toolbar_ind][2];\n",
       "        var method_name = mpl.toolbar_items[toolbar_ind][3];\n",
       "\n",
       "        if (!name) { continue; };\n",
       "\n",
       "        var button = $('<button class=\"btn btn-default\" href=\"#\" title=\"' + name + '\"><i class=\"fa ' + image + ' fa-lg\"></i></button>');\n",
       "        button.click(method_name, toolbar_event);\n",
       "        button.mouseover(tooltip, toolbar_mouse_event);\n",
       "        nav_element.append(button);\n",
       "    }\n",
       "\n",
       "    // Add the status bar.\n",
       "    var status_bar = $('<span class=\"mpl-message\" style=\"text-align:right; float: right;\"/>');\n",
       "    nav_element.append(status_bar);\n",
       "    this.message = status_bar[0];\n",
       "\n",
       "    // Add the close button to the window.\n",
       "    var buttongrp = $('<div class=\"btn-group inline pull-right\"></div>');\n",
       "    var button = $('<button class=\"btn btn-mini btn-primary\" href=\"#\" title=\"Stop Interaction\"><i class=\"fa fa-power-off icon-remove icon-large\"></i></button>');\n",
       "    button.click(function (evt) { fig.handle_close(fig, {}); } );\n",
       "    button.mouseover('Stop Interaction', toolbar_mouse_event);\n",
       "    buttongrp.append(button);\n",
       "    var titlebar = this.root.find($('.ui-dialog-titlebar'));\n",
       "    titlebar.prepend(buttongrp);\n",
       "}\n",
       "\n",
       "mpl.figure.prototype._root_extra_style = function(el){\n",
       "    var fig = this\n",
       "    el.on(\"remove\", function(){\n",
       "\tfig.close_ws(fig, {});\n",
       "    });\n",
       "}\n",
       "\n",
       "mpl.figure.prototype._canvas_extra_style = function(el){\n",
       "    // this is important to make the div 'focusable\n",
       "    el.attr('tabindex', 0)\n",
       "    // reach out to IPython and tell the keyboard manager to turn it's self\n",
       "    // off when our div gets focus\n",
       "\n",
       "    // location in version 3\n",
       "    if (IPython.notebook.keyboard_manager) {\n",
       "        IPython.notebook.keyboard_manager.register_events(el);\n",
       "    }\n",
       "    else {\n",
       "        // location in version 2\n",
       "        IPython.keyboard_manager.register_events(el);\n",
       "    }\n",
       "\n",
       "}\n",
       "\n",
       "mpl.figure.prototype._key_event_extra = function(event, name) {\n",
       "    var manager = IPython.notebook.keyboard_manager;\n",
       "    if (!manager)\n",
       "        manager = IPython.keyboard_manager;\n",
       "\n",
       "    // Check for shift+enter\n",
       "    if (event.shiftKey && event.which == 13) {\n",
       "        this.canvas_div.blur();\n",
       "        // select the cell after this one\n",
       "        var index = IPython.notebook.find_cell_index(this.cell_info[0]);\n",
       "        IPython.notebook.select(index + 1);\n",
       "    }\n",
       "}\n",
       "\n",
       "mpl.figure.prototype.handle_save = function(fig, msg) {\n",
       "    fig.ondownload(fig, null);\n",
       "}\n",
       "\n",
       "\n",
       "mpl.find_output_cell = function(html_output) {\n",
       "    // Return the cell and output element which can be found *uniquely* in the notebook.\n",
       "    // Note - this is a bit hacky, but it is done because the \"notebook_saving.Notebook\"\n",
       "    // IPython event is triggered only after the cells have been serialised, which for\n",
       "    // our purposes (turning an active figure into a static one), is too late.\n",
       "    var cells = IPython.notebook.get_cells();\n",
       "    var ncells = cells.length;\n",
       "    for (var i=0; i<ncells; i++) {\n",
       "        var cell = cells[i];\n",
       "        if (cell.cell_type === 'code'){\n",
       "            for (var j=0; j<cell.output_area.outputs.length; j++) {\n",
       "                var data = cell.output_area.outputs[j];\n",
       "                if (data.data) {\n",
       "                    // IPython >= 3 moved mimebundle to data attribute of output\n",
       "                    data = data.data;\n",
       "                }\n",
       "                if (data['text/html'] == html_output) {\n",
       "                    return [cell, data, j];\n",
       "                }\n",
       "            }\n",
       "        }\n",
       "    }\n",
       "}\n",
       "\n",
       "// Register the function which deals with the matplotlib target/channel.\n",
       "// The kernel may be null if the page has been refreshed.\n",
       "if (IPython.notebook.kernel != null) {\n",
       "    IPython.notebook.kernel.comm_manager.register_target('matplotlib', mpl.mpl_figure_comm);\n",
       "}\n"
      ],
      "text/plain": [
       "<IPython.core.display.Javascript object>"
      ]
     },
     "metadata": {},
     "output_type": "display_data"
    },
    {
     "data": {
      "text/html": [
       "<img src=\"data:image/png;base64,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\">"
      ],
      "text/plain": [
       "<IPython.core.display.HTML object>"
      ]
     },
     "metadata": {},
     "output_type": "display_data"
    },
    {
     "name": "stdout",
     "output_type": "stream",
     "text": [
      "ymum=1.38268806698\n",
      "0.02 8.95\n"
     ]
    }
   ],
   "source": [
    "# Eric's code for a PDF with higher resolution\n",
    "from susipop.susi.cache import SusiCache as cache\n",
    "\n",
    "\n",
    "f = FloatProgress(min=0, max=100)\n",
    "display(f)\n",
    "L = widgets.Label(\"\")\n",
    "display(L)\n",
    "display_cache_status = widgets.Label(\"\")\n",
    "display(display_cache_status)\n",
    "\n",
    "def _plot_pdf_timerange(phi,time ,shearrate,bins = 41):\n",
    "    cachefilename = \"./cache/\" + \"phi_\"+str(phi)+\"_shearrate_\"+str(float(shearrate)).replace(\".\",\"_\")+\".h5\"\n",
    "    pdfcache = cache(cachefile=cachefilename)\n",
    "    path = \"rhor1_phi\"+str(phi)+\"_yd\"+str(float(shearrate))\n",
    "    dataset = sp.reader.DataSet(path,particles=True, fluid=True)\n",
    "    tmin, tmax = time[0], time[1]\n",
    "    if tmax > len(dataset.tlist):\n",
    "        tmax = len(dataset.tlist)\n",
    "    step = 1.0\n",
    "    global edges\n",
    "    global pair_df\n",
    "    \n",
    "    for t in range(tmin,tmax,1):\n",
    "        if not pdfcache.has_data(t,\"edges\") and not pdfcache.has_data(t,\"pair_df\"):\n",
    "            dataset.load_state(dataset.tlist[t])\n",
    "            exp = dataset\n",
    "            #Create the size of the area that you want to bin the distances in\n",
    "            limit = 5 * exp.particles.radius.max()\n",
    "    #         cachename = \"pdf_phi_\"+str(phi)+\"_shearrate_\"+str(shearrate).replace(\".\",\"_\")+\"_time\"+str(t)\n",
    "            #Calculate the distances and bin them\n",
    "            (edges, pair_df) = sp.spatial.correlations.pair_distribution_function(exp.particles.r,\n",
    "                 L=exp.L, LEs=exp.LEs, histogramdd={\"bins\":(bins, bins, bins),\"range\":((-limit,limit),(-limit,limit),(-limit,limit))})\n",
    "            datadict= dict()\n",
    "            datadict[\"edges\"] = edges\n",
    "            datadict[\"pair_df\"] = pair_df\n",
    "            pdfcache.save_data(t,{\"edges\":edges, \"pair_df\":pair_df})\n",
    "            display_cache_status.value =\"saving data to cache: \"+cachefilename+\" for timestep :\"+ str(t)\n",
    "        else:\n",
    "            edges = pdfcache.load_data(t,\"edges\")\n",
    "            pair_df = pdfcache.load_data(t,\"pair_df\")\n",
    "            display_cache_status.value = \" loading from cache :\"+cachefilename+\" for timestep\"+ str(t)\n",
    "        if step == 1: edges_tot, pair_df_tot = np.zeros_like(edges), np.zeros_like(pair_df)\n",
    "        edges_tot += edges\n",
    "        pair_df_tot += pair_df\n",
    "        step += 1.0\n",
    "        f.value = step/int(tmax-tmin+1)*100\n",
    "        L.value = str(int(step/int(tmax-tmin+1)*100))+\"% completed\"\n",
    "\n",
    "    edges = edges_tot/step\n",
    "    pair_df = pair_df_tot/step\n",
    "\n",
    "\n",
    "def plot_pdf_timerange(phi,time ,shearrate,bins, xz_vmax,xy_vmax,yz_vmax,analyze_,autorange,save_fig):\n",
    "    if analyze_:\n",
    "        _plot_pdf_timerange(phi,time ,shearrate,bins)\n",
    "    #Plot them in a color mesh\n",
    "    #pcolor plots have a tendency to leave out one row/column of \"pixels\". It will not immediately plot the entire\n",
    "    #range. To compensate, the defined meshgrid needs to be 1 \"pont\" bigger  than the image that you want.\n",
    "\n",
    "    #Add a value to \"edges\" by first determining bin stepsize and then appending one step to edges\n",
    "    max=edges[0][bins-1]+(edges[0][1]-edges[0][0])\n",
    "    new0=np.append(edges[0],max)\n",
    "    new1=np.append(edges[1],max)\n",
    "    new2=np.append(edges[2],max)\n",
    "\n",
    "    # X-Z PLANE\n",
    "    #Create the mesh grid, but shift by half a bin to correctly center the image\n",
    "    plt.figure(figsize=[10,10])\n",
    "\n",
    "    plt.subplot(221)\n",
    "    XX, ZZ = np.meshgrid(new0-7.31208644e-07/2, new2-7.31208644e-07/2)\n",
    "    pairdf = pair_df[:, pair_df.shape[1] / 2, :]\n",
    "\n",
    "    if autorange == True: plt.pcolor(XX.T * 1e6, ZZ.T * 1e6, pairdf,vmin=0,vmax=xz_vmax)\n",
    "    else: plt.pcolor(XX.T * 1e6, ZZ.T * 1e6, pairdf)\n",
    "        \n",
    "    plt.colorbar()\n",
    "#         y_mum = 1e6 * edges[1][pair_df.shape[1] / 2]\n",
    "    y_mum =  1e6 * ( edges[1][1] -edges[1][0] )    \n",
    "\n",
    "    plt.axis([-16,16,-16,16])\n",
    "    plt.xlabel('$\\Delta{x}$ $(\\mu{m})$', fontsize=15);\n",
    "    plt.ylabel('$\\Delta{z}$ $(\\mu{m})$', fontsize=15);\n",
    "    plt.title('PDF at $y={:.2f} \\mu{{m}}$ for phi='.format(y_mum)+str(phi)+\" yd=\"+str(shearrate).format(y_mum), fontsize=15);\n",
    "    print \"ymum=\"+str(y_mum)\n",
    "\n",
    "    #X-Y PLANE\n",
    "    plt.subplot(222)\n",
    "    XX, YY = np.meshgrid(new0-7.31208644e-07/2, new1-7.31208644e-07/2)\n",
    "    pairdf = pair_df[:,:, pair_df.shape[2] / 2]\n",
    "\n",
    "    if autorange== True: plt.pcolor(XX.T * 1e6, YY.T * 1e6, pairdf,vmin=0,vmax=xy_vmax)\n",
    "    else: plt.pcolor(XX.T * 1e6, YY.T * 1e6, pairdf)\n",
    "        \n",
    "    plt.colorbar()\n",
    "    z_mum = 1e6 * ( edges[2][1] -edges[2][0] )    \n",
    "\n",
    "    plt.axis([-16,16,-16,16])\n",
    "    plt.xlabel('$\\Delta{x}$ $(\\mu{m})$', fontsize=15);\n",
    "    plt.ylabel('$\\Delta{y}$ $(\\mu{m})$', fontsize=15);\n",
    "    plt.title('PDF at $z={:.2f} \\mu{{m}}$ for phi='.format(z_mum)+str(phi)+\" yd=\"+str(shearrate).format(z_mum), fontsize=15);\n",
    "\n",
    "    #Y-Z PLANE\n",
    "    plt.subplot(223)\n",
    "    YY, ZZ = np.meshgrid(new1-7.31208644e-07/2, new2-7.31208644e-07/2)\n",
    "    pairdf = pair_df[pair_df.shape[0] / 2,:,:]\n",
    "\n",
    "    if autorange== True: plt.pcolor(YY.T * 1e6, ZZ.T * 1e6, pairdf,vmin=0,vmax=yz_vmax)\n",
    "    else: plt.pcolor(YY.T * 1e6, ZZ.T * 1e6, pairdf)\n",
    "    plt.colorbar()\n",
    "    x_mum = 1e6 *( edges[0][1] -edges[0][0] )    \n",
    "\n",
    "    plt.axis([-16,16,-16,16])\n",
    "    plt.xlabel('$\\Delta{y}$ $(\\mu{m})$', fontsize=15);\n",
    "    plt.ylabel('$\\Delta{z}$ $(\\mu{m})$', fontsize=15);\n",
    "    plt.title('PDF at $x={:.2f} \\mu{{m}}$ for phi='.format(x_mum)+str(phi)+\" yd=\"+str(shearrate).format(x_mum), fontsize=15);\n",
    "    \n",
    "    plt.subplot(224)\n",
    "    tmin, tmax = time[0], time[1]\n",
    "    path = \"rhor1_phi\"+str(phi)+\"_yd\"+str(float(shearrate))\n",
    "    nupath = path + \"/result/nu_t.dat\"\n",
    "    db = pd.read_csv(nupath)\n",
    "    nu = db[db.columns[2]]\n",
    "    nu_rel = db[db.columns[4]]\n",
    "    t = db[db.columns[1]]\n",
    "#     dt = abs(t[2]-t[1])\n",
    "    shear = t*shearrate\n",
    "    shear_tmin = t[tmin-1]*shearrate\n",
    "    try:\n",
    "        shear_tmax =  t[tmax-1]*shearrate\n",
    "    except:\n",
    "        shear_tmax =  t[len(t)-1]*shearrate\n",
    "    print shear_tmin, shear_tmax\n",
    "    plt.plot(shear, nu)\n",
    "    \n",
    "    plt.axvline(shear_tmin)\n",
    "    plt.axvline(shear_tmax)\n",
    "    plt.yscale(\"log\")\n",
    "    plt.ylabel(\"viscosity\")\n",
    "    plt.xlabel(\"strain\")\n",
    "    if save_fig:\n",
    "        plt.savefig(\"pdf_phi_\"+str(phi)+\"_shearrate_\"+str(shearrate).replace(\".\",\"_\")+\"_trange\"+str(tmin)+\"_\"+str(tmax))\n",
    "        \n",
    "\n",
    "\n",
    "\n",
    "pdf_average = interactive(plot_pdf_timerange, \\\n",
    "                phi = widgets.ToggleButtons(options=[40,45,50,54,55,56,58],value=56,disabled=False), \\\n",
    "                shearrate= widgets.ToggleButtons(options=[1,10,11,11.5,12,12.5,13,14,15,16,18,20,30,50,70,100,200,300,1000],\\\n",
    "                                                 value = 12),\\\n",
    "                xz_vmax = widgets.FloatSlider(min= 0, max= 15,value = 3, step = 0.25,orientation = \"horizontal\",description = \"xz colorbax max\"),\\\n",
    "                xy_vmax = widgets.FloatSlider(min= 0, max= 15,value = 3, step = 0.25,orientation = \"horizontal\",description = \"xy colorbax max\"),\\\n",
    "                yz_vmax = widgets.FloatSlider(min= 0, max= 15,value = 3, step = 0.25,orientation = \"horizontal\",description = \"yz colorbax max\"),\\\n",
    "                analyze_ = widgets.ToggleButtons(options=[True,False],value = True,description= \"Analyze?\"),\\\n",
    "                save_fig = widgets.ToggleButtons(options=[True,False],value = False,description=\"Save figure?\"),\\\n",
    "                autorange = widgets.ToggleButtons(options=[True,False],value = True,description=\"Automatic color range?\"),\\\n",
    "                time = widgets.IntRangeSlider(min= 1, max= 1500,value = [0,1000], step = 1),\\\n",
    "                bins = widgets.IntSlider(options = [11,101],value = 41, step = 2),__manual=True)\n",
    "display(pdf_average )\n",
    "\n"
   ]
  },
  {
   "cell_type": "markdown",
   "metadata": {},
   "source": [
    "## PDF averaged over a timesteps with a specific viscosity range "
   ]
  },
  {
   "cell_type": "markdown",
   "metadata": {},
   "source": [
    "PDF is calculated over all the timesteps that have a viscosity in a specific range  "
   ]
  },
  {
   "cell_type": "code",
   "execution_count": 97,
   "metadata": {
    "collapsed": false
   },
   "outputs": [
    {
     "name": "stdout",
     "output_type": "stream",
     "text": [
      "./cache/phi_56_shearrate_13_0.h5\n"
     ]
    },
    {
     "data": {
      "application/javascript": [
       "/* Put everything inside the global mpl namespace */\n",
       "window.mpl = {};\n",
       "\n",
       "mpl.get_websocket_type = function() {\n",
       "    if (typeof(WebSocket) !== 'undefined') {\n",
       "        return WebSocket;\n",
       "    } else if (typeof(MozWebSocket) !== 'undefined') {\n",
       "        return MozWebSocket;\n",
       "    } else {\n",
       "        alert('Your browser does not have WebSocket support.' +\n",
       "              'Please try Chrome, Safari or Firefox ≥ 6. ' +\n",
       "              'Firefox 4 and 5 are also supported but you ' +\n",
       "              'have to enable WebSockets in about:config.');\n",
       "    };\n",
       "}\n",
       "\n",
       "mpl.figure = function(figure_id, websocket, ondownload, parent_element) {\n",
       "    this.id = figure_id;\n",
       "\n",
       "    this.ws = websocket;\n",
       "\n",
       "    this.supports_binary = (this.ws.binaryType != undefined);\n",
       "\n",
       "    if (!this.supports_binary) {\n",
       "        var warnings = document.getElementById(\"mpl-warnings\");\n",
       "        if (warnings) {\n",
       "            warnings.style.display = 'block';\n",
       "            warnings.textContent = (\n",
       "                \"This browser does not support binary websocket messages. \" +\n",
       "                    \"Performance may be slow.\");\n",
       "        }\n",
       "    }\n",
       "\n",
       "    this.imageObj = new Image();\n",
       "\n",
       "    this.context = undefined;\n",
       "    this.message = undefined;\n",
       "    this.canvas = undefined;\n",
       "    this.rubberband_canvas = undefined;\n",
       "    this.rubberband_context = undefined;\n",
       "    this.format_dropdown = undefined;\n",
       "\n",
       "    this.image_mode = 'full';\n",
       "\n",
       "    this.root = $('<div/>');\n",
       "    this._root_extra_style(this.root)\n",
       "    this.root.attr('style', 'display: inline-block');\n",
       "\n",
       "    $(parent_element).append(this.root);\n",
       "\n",
       "    this._init_header(this);\n",
       "    this._init_canvas(this);\n",
       "    this._init_toolbar(this);\n",
       "\n",
       "    var fig = this;\n",
       "\n",
       "    this.waiting = false;\n",
       "\n",
       "    this.ws.onopen =  function () {\n",
       "            fig.send_message(\"supports_binary\", {value: fig.supports_binary});\n",
       "            fig.send_message(\"send_image_mode\", {});\n",
       "            fig.send_message(\"refresh\", {});\n",
       "        }\n",
       "\n",
       "    this.imageObj.onload = function() {\n",
       "            if (fig.image_mode == 'full') {\n",
       "                // Full images could contain transparency (where diff images\n",
       "                // almost always do), so we need to clear the canvas so that\n",
       "                // there is no ghosting.\n",
       "                fig.context.clearRect(0, 0, fig.canvas.width, fig.canvas.height);\n",
       "            }\n",
       "            fig.context.drawImage(fig.imageObj, 0, 0);\n",
       "        };\n",
       "\n",
       "    this.imageObj.onunload = function() {\n",
       "        this.ws.close();\n",
       "    }\n",
       "\n",
       "    this.ws.onmessage = this._make_on_message_function(this);\n",
       "\n",
       "    this.ondownload = ondownload;\n",
       "}\n",
       "\n",
       "mpl.figure.prototype._init_header = function() {\n",
       "    var titlebar = $(\n",
       "        '<div class=\"ui-dialog-titlebar ui-widget-header ui-corner-all ' +\n",
       "        'ui-helper-clearfix\"/>');\n",
       "    var titletext = $(\n",
       "        '<div class=\"ui-dialog-title\" style=\"width: 100%; ' +\n",
       "        'text-align: center; padding: 3px;\"/>');\n",
       "    titlebar.append(titletext)\n",
       "    this.root.append(titlebar);\n",
       "    this.header = titletext[0];\n",
       "}\n",
       "\n",
       "\n",
       "\n",
       "mpl.figure.prototype._canvas_extra_style = function(canvas_div) {\n",
       "\n",
       "}\n",
       "\n",
       "\n",
       "mpl.figure.prototype._root_extra_style = function(canvas_div) {\n",
       "\n",
       "}\n",
       "\n",
       "mpl.figure.prototype._init_canvas = function() {\n",
       "    var fig = this;\n",
       "\n",
       "    var canvas_div = $('<div/>');\n",
       "\n",
       "    canvas_div.attr('style', 'position: relative; clear: both; outline: 0');\n",
       "\n",
       "    function canvas_keyboard_event(event) {\n",
       "        return fig.key_event(event, event['data']);\n",
       "    }\n",
       "\n",
       "    canvas_div.keydown('key_press', canvas_keyboard_event);\n",
       "    canvas_div.keyup('key_release', canvas_keyboard_event);\n",
       "    this.canvas_div = canvas_div\n",
       "    this._canvas_extra_style(canvas_div)\n",
       "    this.root.append(canvas_div);\n",
       "\n",
       "    var canvas = $('<canvas/>');\n",
       "    canvas.addClass('mpl-canvas');\n",
       "    canvas.attr('style', \"left: 0; top: 0; z-index: 0; outline: 0\")\n",
       "\n",
       "    this.canvas = canvas[0];\n",
       "    this.context = canvas[0].getContext(\"2d\");\n",
       "\n",
       "    var rubberband = $('<canvas/>');\n",
       "    rubberband.attr('style', \"position: absolute; left: 0; top: 0; z-index: 1;\")\n",
       "\n",
       "    var pass_mouse_events = true;\n",
       "\n",
       "    canvas_div.resizable({\n",
       "        start: function(event, ui) {\n",
       "            pass_mouse_events = false;\n",
       "        },\n",
       "        resize: function(event, ui) {\n",
       "            fig.request_resize(ui.size.width, ui.size.height);\n",
       "        },\n",
       "        stop: function(event, ui) {\n",
       "            pass_mouse_events = true;\n",
       "            fig.request_resize(ui.size.width, ui.size.height);\n",
       "        },\n",
       "    });\n",
       "\n",
       "    function mouse_event_fn(event) {\n",
       "        if (pass_mouse_events)\n",
       "            return fig.mouse_event(event, event['data']);\n",
       "    }\n",
       "\n",
       "    rubberband.mousedown('button_press', mouse_event_fn);\n",
       "    rubberband.mouseup('button_release', mouse_event_fn);\n",
       "    // Throttle sequential mouse events to 1 every 20ms.\n",
       "    rubberband.mousemove('motion_notify', mouse_event_fn);\n",
       "\n",
       "    rubberband.mouseenter('figure_enter', mouse_event_fn);\n",
       "    rubberband.mouseleave('figure_leave', mouse_event_fn);\n",
       "\n",
       "    canvas_div.on(\"wheel\", function (event) {\n",
       "        event = event.originalEvent;\n",
       "        event['data'] = 'scroll'\n",
       "        if (event.deltaY < 0) {\n",
       "            event.step = 1;\n",
       "        } else {\n",
       "            event.step = -1;\n",
       "        }\n",
       "        mouse_event_fn(event);\n",
       "    });\n",
       "\n",
       "    canvas_div.append(canvas);\n",
       "    canvas_div.append(rubberband);\n",
       "\n",
       "    this.rubberband = rubberband;\n",
       "    this.rubberband_canvas = rubberband[0];\n",
       "    this.rubberband_context = rubberband[0].getContext(\"2d\");\n",
       "    this.rubberband_context.strokeStyle = \"#000000\";\n",
       "\n",
       "    this._resize_canvas = function(width, height) {\n",
       "        // Keep the size of the canvas, canvas container, and rubber band\n",
       "        // canvas in synch.\n",
       "        canvas_div.css('width', width)\n",
       "        canvas_div.css('height', height)\n",
       "\n",
       "        canvas.attr('width', width);\n",
       "        canvas.attr('height', height);\n",
       "\n",
       "        rubberband.attr('width', width);\n",
       "        rubberband.attr('height', height);\n",
       "    }\n",
       "\n",
       "    // Set the figure to an initial 600x600px, this will subsequently be updated\n",
       "    // upon first draw.\n",
       "    this._resize_canvas(600, 600);\n",
       "\n",
       "    // Disable right mouse context menu.\n",
       "    $(this.rubberband_canvas).bind(\"contextmenu\",function(e){\n",
       "        return false;\n",
       "    });\n",
       "\n",
       "    function set_focus () {\n",
       "        canvas.focus();\n",
       "        canvas_div.focus();\n",
       "    }\n",
       "\n",
       "    window.setTimeout(set_focus, 100);\n",
       "}\n",
       "\n",
       "mpl.figure.prototype._init_toolbar = function() {\n",
       "    var fig = this;\n",
       "\n",
       "    var nav_element = $('<div/>')\n",
       "    nav_element.attr('style', 'width: 100%');\n",
       "    this.root.append(nav_element);\n",
       "\n",
       "    // Define a callback function for later on.\n",
       "    function toolbar_event(event) {\n",
       "        return fig.toolbar_button_onclick(event['data']);\n",
       "    }\n",
       "    function toolbar_mouse_event(event) {\n",
       "        return fig.toolbar_button_onmouseover(event['data']);\n",
       "    }\n",
       "\n",
       "    for(var toolbar_ind in mpl.toolbar_items) {\n",
       "        var name = mpl.toolbar_items[toolbar_ind][0];\n",
       "        var tooltip = mpl.toolbar_items[toolbar_ind][1];\n",
       "        var image = mpl.toolbar_items[toolbar_ind][2];\n",
       "        var method_name = mpl.toolbar_items[toolbar_ind][3];\n",
       "\n",
       "        if (!name) {\n",
       "            // put a spacer in here.\n",
       "            continue;\n",
       "        }\n",
       "        var button = $('<button/>');\n",
       "        button.addClass('ui-button ui-widget ui-state-default ui-corner-all ' +\n",
       "                        'ui-button-icon-only');\n",
       "        button.attr('role', 'button');\n",
       "        button.attr('aria-disabled', 'false');\n",
       "        button.click(method_name, toolbar_event);\n",
       "        button.mouseover(tooltip, toolbar_mouse_event);\n",
       "\n",
       "        var icon_img = $('<span/>');\n",
       "        icon_img.addClass('ui-button-icon-primary ui-icon');\n",
       "        icon_img.addClass(image);\n",
       "        icon_img.addClass('ui-corner-all');\n",
       "\n",
       "        var tooltip_span = $('<span/>');\n",
       "        tooltip_span.addClass('ui-button-text');\n",
       "        tooltip_span.html(tooltip);\n",
       "\n",
       "        button.append(icon_img);\n",
       "        button.append(tooltip_span);\n",
       "\n",
       "        nav_element.append(button);\n",
       "    }\n",
       "\n",
       "    var fmt_picker_span = $('<span/>');\n",
       "\n",
       "    var fmt_picker = $('<select/>');\n",
       "    fmt_picker.addClass('mpl-toolbar-option ui-widget ui-widget-content');\n",
       "    fmt_picker_span.append(fmt_picker);\n",
       "    nav_element.append(fmt_picker_span);\n",
       "    this.format_dropdown = fmt_picker[0];\n",
       "\n",
       "    for (var ind in mpl.extensions) {\n",
       "        var fmt = mpl.extensions[ind];\n",
       "        var option = $(\n",
       "            '<option/>', {selected: fmt === mpl.default_extension}).html(fmt);\n",
       "        fmt_picker.append(option)\n",
       "    }\n",
       "\n",
       "    // Add hover states to the ui-buttons\n",
       "    $( \".ui-button\" ).hover(\n",
       "        function() { $(this).addClass(\"ui-state-hover\");},\n",
       "        function() { $(this).removeClass(\"ui-state-hover\");}\n",
       "    );\n",
       "\n",
       "    var status_bar = $('<span class=\"mpl-message\"/>');\n",
       "    nav_element.append(status_bar);\n",
       "    this.message = status_bar[0];\n",
       "}\n",
       "\n",
       "mpl.figure.prototype.request_resize = function(x_pixels, y_pixels) {\n",
       "    // Request matplotlib to resize the figure. Matplotlib will then trigger a resize in the client,\n",
       "    // which will in turn request a refresh of the image.\n",
       "    this.send_message('resize', {'width': x_pixels, 'height': y_pixels});\n",
       "}\n",
       "\n",
       "mpl.figure.prototype.send_message = function(type, properties) {\n",
       "    properties['type'] = type;\n",
       "    properties['figure_id'] = this.id;\n",
       "    this.ws.send(JSON.stringify(properties));\n",
       "}\n",
       "\n",
       "mpl.figure.prototype.send_draw_message = function() {\n",
       "    if (!this.waiting) {\n",
       "        this.waiting = true;\n",
       "        this.ws.send(JSON.stringify({type: \"draw\", figure_id: this.id}));\n",
       "    }\n",
       "}\n",
       "\n",
       "\n",
       "mpl.figure.prototype.handle_save = function(fig, msg) {\n",
       "    var format_dropdown = fig.format_dropdown;\n",
       "    var format = format_dropdown.options[format_dropdown.selectedIndex].value;\n",
       "    fig.ondownload(fig, format);\n",
       "}\n",
       "\n",
       "\n",
       "mpl.figure.prototype.handle_resize = function(fig, msg) {\n",
       "    var size = msg['size'];\n",
       "    if (size[0] != fig.canvas.width || size[1] != fig.canvas.height) {\n",
       "        fig._resize_canvas(size[0], size[1]);\n",
       "        fig.send_message(\"refresh\", {});\n",
       "    };\n",
       "}\n",
       "\n",
       "mpl.figure.prototype.handle_rubberband = function(fig, msg) {\n",
       "    var x0 = msg['x0'];\n",
       "    var y0 = fig.canvas.height - msg['y0'];\n",
       "    var x1 = msg['x1'];\n",
       "    var y1 = fig.canvas.height - msg['y1'];\n",
       "    x0 = Math.floor(x0) + 0.5;\n",
       "    y0 = Math.floor(y0) + 0.5;\n",
       "    x1 = Math.floor(x1) + 0.5;\n",
       "    y1 = Math.floor(y1) + 0.5;\n",
       "    var min_x = Math.min(x0, x1);\n",
       "    var min_y = Math.min(y0, y1);\n",
       "    var width = Math.abs(x1 - x0);\n",
       "    var height = Math.abs(y1 - y0);\n",
       "\n",
       "    fig.rubberband_context.clearRect(\n",
       "        0, 0, fig.canvas.width, fig.canvas.height);\n",
       "\n",
       "    fig.rubberband_context.strokeRect(min_x, min_y, width, height);\n",
       "}\n",
       "\n",
       "mpl.figure.prototype.handle_figure_label = function(fig, msg) {\n",
       "    // Updates the figure title.\n",
       "    fig.header.textContent = msg['label'];\n",
       "}\n",
       "\n",
       "mpl.figure.prototype.handle_cursor = function(fig, msg) {\n",
       "    var cursor = msg['cursor'];\n",
       "    switch(cursor)\n",
       "    {\n",
       "    case 0:\n",
       "        cursor = 'pointer';\n",
       "        break;\n",
       "    case 1:\n",
       "        cursor = 'default';\n",
       "        break;\n",
       "    case 2:\n",
       "        cursor = 'crosshair';\n",
       "        break;\n",
       "    case 3:\n",
       "        cursor = 'move';\n",
       "        break;\n",
       "    }\n",
       "    fig.rubberband_canvas.style.cursor = cursor;\n",
       "}\n",
       "\n",
       "mpl.figure.prototype.handle_message = function(fig, msg) {\n",
       "    fig.message.textContent = msg['message'];\n",
       "}\n",
       "\n",
       "mpl.figure.prototype.handle_draw = function(fig, msg) {\n",
       "    // Request the server to send over a new figure.\n",
       "    fig.send_draw_message();\n",
       "}\n",
       "\n",
       "mpl.figure.prototype.handle_image_mode = function(fig, msg) {\n",
       "    fig.image_mode = msg['mode'];\n",
       "}\n",
       "\n",
       "mpl.figure.prototype.updated_canvas_event = function() {\n",
       "    // Called whenever the canvas gets updated.\n",
       "    this.send_message(\"ack\", {});\n",
       "}\n",
       "\n",
       "// A function to construct a web socket function for onmessage handling.\n",
       "// Called in the figure constructor.\n",
       "mpl.figure.prototype._make_on_message_function = function(fig) {\n",
       "    return function socket_on_message(evt) {\n",
       "        if (evt.data instanceof Blob) {\n",
       "            /* FIXME: We get \"Resource interpreted as Image but\n",
       "             * transferred with MIME type text/plain:\" errors on\n",
       "             * Chrome.  But how to set the MIME type?  It doesn't seem\n",
       "             * to be part of the websocket stream */\n",
       "            evt.data.type = \"image/png\";\n",
       "\n",
       "            /* Free the memory for the previous frames */\n",
       "            if (fig.imageObj.src) {\n",
       "                (window.URL || window.webkitURL).revokeObjectURL(\n",
       "                    fig.imageObj.src);\n",
       "            }\n",
       "\n",
       "            fig.imageObj.src = (window.URL || window.webkitURL).createObjectURL(\n",
       "                evt.data);\n",
       "            fig.updated_canvas_event();\n",
       "            fig.waiting = false;\n",
       "            return;\n",
       "        }\n",
       "        else if (typeof evt.data === 'string' && evt.data.slice(0, 21) == \"data:image/png;base64\") {\n",
       "            fig.imageObj.src = evt.data;\n",
       "            fig.updated_canvas_event();\n",
       "            fig.waiting = false;\n",
       "            return;\n",
       "        }\n",
       "\n",
       "        var msg = JSON.parse(evt.data);\n",
       "        var msg_type = msg['type'];\n",
       "\n",
       "        // Call the  \"handle_{type}\" callback, which takes\n",
       "        // the figure and JSON message as its only arguments.\n",
       "        try {\n",
       "            var callback = fig[\"handle_\" + msg_type];\n",
       "        } catch (e) {\n",
       "            console.log(\"No handler for the '\" + msg_type + \"' message type: \", msg);\n",
       "            return;\n",
       "        }\n",
       "\n",
       "        if (callback) {\n",
       "            try {\n",
       "                // console.log(\"Handling '\" + msg_type + \"' message: \", msg);\n",
       "                callback(fig, msg);\n",
       "            } catch (e) {\n",
       "                console.log(\"Exception inside the 'handler_\" + msg_type + \"' callback:\", e, e.stack, msg);\n",
       "            }\n",
       "        }\n",
       "    };\n",
       "}\n",
       "\n",
       "// from http://stackoverflow.com/questions/1114465/getting-mouse-location-in-canvas\n",
       "mpl.findpos = function(e) {\n",
       "    //this section is from http://www.quirksmode.org/js/events_properties.html\n",
       "    var targ;\n",
       "    if (!e)\n",
       "        e = window.event;\n",
       "    if (e.target)\n",
       "        targ = e.target;\n",
       "    else if (e.srcElement)\n",
       "        targ = e.srcElement;\n",
       "    if (targ.nodeType == 3) // defeat Safari bug\n",
       "        targ = targ.parentNode;\n",
       "\n",
       "    // jQuery normalizes the pageX and pageY\n",
       "    // pageX,Y are the mouse positions relative to the document\n",
       "    // offset() returns the position of the element relative to the document\n",
       "    var x = e.pageX - $(targ).offset().left;\n",
       "    var y = e.pageY - $(targ).offset().top;\n",
       "\n",
       "    return {\"x\": x, \"y\": y};\n",
       "};\n",
       "\n",
       "/*\n",
       " * return a copy of an object with only non-object keys\n",
       " * we need this to avoid circular references\n",
       " * http://stackoverflow.com/a/24161582/3208463\n",
       " */\n",
       "function simpleKeys (original) {\n",
       "  return Object.keys(original).reduce(function (obj, key) {\n",
       "    if (typeof original[key] !== 'object')\n",
       "        obj[key] = original[key]\n",
       "    return obj;\n",
       "  }, {});\n",
       "}\n",
       "\n",
       "mpl.figure.prototype.mouse_event = function(event, name) {\n",
       "    var canvas_pos = mpl.findpos(event)\n",
       "\n",
       "    if (name === 'button_press')\n",
       "    {\n",
       "        this.canvas.focus();\n",
       "        this.canvas_div.focus();\n",
       "    }\n",
       "\n",
       "    var x = canvas_pos.x;\n",
       "    var y = canvas_pos.y;\n",
       "\n",
       "    this.send_message(name, {x: x, y: y, button: event.button,\n",
       "                             step: event.step,\n",
       "                             guiEvent: simpleKeys(event)});\n",
       "\n",
       "    /* This prevents the web browser from automatically changing to\n",
       "     * the text insertion cursor when the button is pressed.  We want\n",
       "     * to control all of the cursor setting manually through the\n",
       "     * 'cursor' event from matplotlib */\n",
       "    event.preventDefault();\n",
       "    return false;\n",
       "}\n",
       "\n",
       "mpl.figure.prototype._key_event_extra = function(event, name) {\n",
       "    // Handle any extra behaviour associated with a key event\n",
       "}\n",
       "\n",
       "mpl.figure.prototype.key_event = function(event, name) {\n",
       "\n",
       "    // Prevent repeat events\n",
       "    if (name == 'key_press')\n",
       "    {\n",
       "        if (event.which === this._key)\n",
       "            return;\n",
       "        else\n",
       "            this._key = event.which;\n",
       "    }\n",
       "    if (name == 'key_release')\n",
       "        this._key = null;\n",
       "\n",
       "    var value = '';\n",
       "    if (event.ctrlKey && event.which != 17)\n",
       "        value += \"ctrl+\";\n",
       "    if (event.altKey && event.which != 18)\n",
       "        value += \"alt+\";\n",
       "    if (event.shiftKey && event.which != 16)\n",
       "        value += \"shift+\";\n",
       "\n",
       "    value += 'k';\n",
       "    value += event.which.toString();\n",
       "\n",
       "    this._key_event_extra(event, name);\n",
       "\n",
       "    this.send_message(name, {key: value,\n",
       "                             guiEvent: simpleKeys(event)});\n",
       "    return false;\n",
       "}\n",
       "\n",
       "mpl.figure.prototype.toolbar_button_onclick = function(name) {\n",
       "    if (name == 'download') {\n",
       "        this.handle_save(this, null);\n",
       "    } else {\n",
       "        this.send_message(\"toolbar_button\", {name: name});\n",
       "    }\n",
       "};\n",
       "\n",
       "mpl.figure.prototype.toolbar_button_onmouseover = function(tooltip) {\n",
       "    this.message.textContent = tooltip;\n",
       "};\n",
       "mpl.toolbar_items = [[\"Home\", \"Reset original view\", \"fa fa-home icon-home\", \"home\"], [\"Back\", \"Back to  previous view\", \"fa fa-arrow-left icon-arrow-left\", \"back\"], [\"Forward\", \"Forward to next view\", \"fa fa-arrow-right icon-arrow-right\", \"forward\"], [\"\", \"\", \"\", \"\"], [\"Pan\", \"Pan axes with left mouse, zoom with right\", \"fa fa-arrows icon-move\", \"pan\"], [\"Zoom\", \"Zoom to rectangle\", \"fa fa-square-o icon-check-empty\", \"zoom\"], [\"\", \"\", \"\", \"\"], [\"Download\", \"Download plot\", \"fa fa-floppy-o icon-save\", \"download\"]];\n",
       "\n",
       "mpl.extensions = [\"eps\", \"jpeg\", \"pdf\", \"png\", \"ps\", \"raw\", \"svg\", \"tif\"];\n",
       "\n",
       "mpl.default_extension = \"png\";var comm_websocket_adapter = function(comm) {\n",
       "    // Create a \"websocket\"-like object which calls the given IPython comm\n",
       "    // object with the appropriate methods. Currently this is a non binary\n",
       "    // socket, so there is still some room for performance tuning.\n",
       "    var ws = {};\n",
       "\n",
       "    ws.close = function() {\n",
       "        comm.close()\n",
       "    };\n",
       "    ws.send = function(m) {\n",
       "        //console.log('sending', m);\n",
       "        comm.send(m);\n",
       "    };\n",
       "    // Register the callback with on_msg.\n",
       "    comm.on_msg(function(msg) {\n",
       "        //console.log('receiving', msg['content']['data'], msg);\n",
       "        // Pass the mpl event to the overriden (by mpl) onmessage function.\n",
       "        ws.onmessage(msg['content']['data'])\n",
       "    });\n",
       "    return ws;\n",
       "}\n",
       "\n",
       "mpl.mpl_figure_comm = function(comm, msg) {\n",
       "    // This is the function which gets called when the mpl process\n",
       "    // starts-up an IPython Comm through the \"matplotlib\" channel.\n",
       "\n",
       "    var id = msg.content.data.id;\n",
       "    // Get hold of the div created by the display call when the Comm\n",
       "    // socket was opened in Python.\n",
       "    var element = $(\"#\" + id);\n",
       "    var ws_proxy = comm_websocket_adapter(comm)\n",
       "\n",
       "    function ondownload(figure, format) {\n",
       "        window.open(figure.imageObj.src);\n",
       "    }\n",
       "\n",
       "    var fig = new mpl.figure(id, ws_proxy,\n",
       "                           ondownload,\n",
       "                           element.get(0));\n",
       "\n",
       "    // Call onopen now - mpl needs it, as it is assuming we've passed it a real\n",
       "    // web socket which is closed, not our websocket->open comm proxy.\n",
       "    ws_proxy.onopen();\n",
       "\n",
       "    fig.parent_element = element.get(0);\n",
       "    fig.cell_info = mpl.find_output_cell(\"<div id='\" + id + \"'></div>\");\n",
       "    if (!fig.cell_info) {\n",
       "        console.error(\"Failed to find cell for figure\", id, fig);\n",
       "        return;\n",
       "    }\n",
       "\n",
       "    var output_index = fig.cell_info[2]\n",
       "    var cell = fig.cell_info[0];\n",
       "\n",
       "};\n",
       "\n",
       "mpl.figure.prototype.handle_close = function(fig, msg) {\n",
       "    fig.root.unbind('remove')\n",
       "\n",
       "    // Update the output cell to use the data from the current canvas.\n",
       "    fig.push_to_output();\n",
       "    var dataURL = fig.canvas.toDataURL();\n",
       "    // Re-enable the keyboard manager in IPython - without this line, in FF,\n",
       "    // the notebook keyboard shortcuts fail.\n",
       "    IPython.keyboard_manager.enable()\n",
       "    $(fig.parent_element).html('<img src=\"' + dataURL + '\">');\n",
       "    fig.close_ws(fig, msg);\n",
       "}\n",
       "\n",
       "mpl.figure.prototype.close_ws = function(fig, msg){\n",
       "    fig.send_message('closing', msg);\n",
       "    // fig.ws.close()\n",
       "}\n",
       "\n",
       "mpl.figure.prototype.push_to_output = function(remove_interactive) {\n",
       "    // Turn the data on the canvas into data in the output cell.\n",
       "    var dataURL = this.canvas.toDataURL();\n",
       "    this.cell_info[1]['text/html'] = '<img src=\"' + dataURL + '\">';\n",
       "}\n",
       "\n",
       "mpl.figure.prototype.updated_canvas_event = function() {\n",
       "    // Tell IPython that the notebook contents must change.\n",
       "    IPython.notebook.set_dirty(true);\n",
       "    this.send_message(\"ack\", {});\n",
       "    var fig = this;\n",
       "    // Wait a second, then push the new image to the DOM so\n",
       "    // that it is saved nicely (might be nice to debounce this).\n",
       "    setTimeout(function () { fig.push_to_output() }, 1000);\n",
       "}\n",
       "\n",
       "mpl.figure.prototype._init_toolbar = function() {\n",
       "    var fig = this;\n",
       "\n",
       "    var nav_element = $('<div/>')\n",
       "    nav_element.attr('style', 'width: 100%');\n",
       "    this.root.append(nav_element);\n",
       "\n",
       "    // Define a callback function for later on.\n",
       "    function toolbar_event(event) {\n",
       "        return fig.toolbar_button_onclick(event['data']);\n",
       "    }\n",
       "    function toolbar_mouse_event(event) {\n",
       "        return fig.toolbar_button_onmouseover(event['data']);\n",
       "    }\n",
       "\n",
       "    for(var toolbar_ind in mpl.toolbar_items){\n",
       "        var name = mpl.toolbar_items[toolbar_ind][0];\n",
       "        var tooltip = mpl.toolbar_items[toolbar_ind][1];\n",
       "        var image = mpl.toolbar_items[toolbar_ind][2];\n",
       "        var method_name = mpl.toolbar_items[toolbar_ind][3];\n",
       "\n",
       "        if (!name) { continue; };\n",
       "\n",
       "        var button = $('<button class=\"btn btn-default\" href=\"#\" title=\"' + name + '\"><i class=\"fa ' + image + ' fa-lg\"></i></button>');\n",
       "        button.click(method_name, toolbar_event);\n",
       "        button.mouseover(tooltip, toolbar_mouse_event);\n",
       "        nav_element.append(button);\n",
       "    }\n",
       "\n",
       "    // Add the status bar.\n",
       "    var status_bar = $('<span class=\"mpl-message\" style=\"text-align:right; float: right;\"/>');\n",
       "    nav_element.append(status_bar);\n",
       "    this.message = status_bar[0];\n",
       "\n",
       "    // Add the close button to the window.\n",
       "    var buttongrp = $('<div class=\"btn-group inline pull-right\"></div>');\n",
       "    var button = $('<button class=\"btn btn-mini btn-primary\" href=\"#\" title=\"Stop Interaction\"><i class=\"fa fa-power-off icon-remove icon-large\"></i></button>');\n",
       "    button.click(function (evt) { fig.handle_close(fig, {}); } );\n",
       "    button.mouseover('Stop Interaction', toolbar_mouse_event);\n",
       "    buttongrp.append(button);\n",
       "    var titlebar = this.root.find($('.ui-dialog-titlebar'));\n",
       "    titlebar.prepend(buttongrp);\n",
       "}\n",
       "\n",
       "mpl.figure.prototype._root_extra_style = function(el){\n",
       "    var fig = this\n",
       "    el.on(\"remove\", function(){\n",
       "\tfig.close_ws(fig, {});\n",
       "    });\n",
       "}\n",
       "\n",
       "mpl.figure.prototype._canvas_extra_style = function(el){\n",
       "    // this is important to make the div 'focusable\n",
       "    el.attr('tabindex', 0)\n",
       "    // reach out to IPython and tell the keyboard manager to turn it's self\n",
       "    // off when our div gets focus\n",
       "\n",
       "    // location in version 3\n",
       "    if (IPython.notebook.keyboard_manager) {\n",
       "        IPython.notebook.keyboard_manager.register_events(el);\n",
       "    }\n",
       "    else {\n",
       "        // location in version 2\n",
       "        IPython.keyboard_manager.register_events(el);\n",
       "    }\n",
       "\n",
       "}\n",
       "\n",
       "mpl.figure.prototype._key_event_extra = function(event, name) {\n",
       "    var manager = IPython.notebook.keyboard_manager;\n",
       "    if (!manager)\n",
       "        manager = IPython.keyboard_manager;\n",
       "\n",
       "    // Check for shift+enter\n",
       "    if (event.shiftKey && event.which == 13) {\n",
       "        this.canvas_div.blur();\n",
       "        // select the cell after this one\n",
       "        var index = IPython.notebook.find_cell_index(this.cell_info[0]);\n",
       "        IPython.notebook.select(index + 1);\n",
       "    }\n",
       "}\n",
       "\n",
       "mpl.figure.prototype.handle_save = function(fig, msg) {\n",
       "    fig.ondownload(fig, null);\n",
       "}\n",
       "\n",
       "\n",
       "mpl.find_output_cell = function(html_output) {\n",
       "    // Return the cell and output element which can be found *uniquely* in the notebook.\n",
       "    // Note - this is a bit hacky, but it is done because the \"notebook_saving.Notebook\"\n",
       "    // IPython event is triggered only after the cells have been serialised, which for\n",
       "    // our purposes (turning an active figure into a static one), is too late.\n",
       "    var cells = IPython.notebook.get_cells();\n",
       "    var ncells = cells.length;\n",
       "    for (var i=0; i<ncells; i++) {\n",
       "        var cell = cells[i];\n",
       "        if (cell.cell_type === 'code'){\n",
       "            for (var j=0; j<cell.output_area.outputs.length; j++) {\n",
       "                var data = cell.output_area.outputs[j];\n",
       "                if (data.data) {\n",
       "                    // IPython >= 3 moved mimebundle to data attribute of output\n",
       "                    data = data.data;\n",
       "                }\n",
       "                if (data['text/html'] == html_output) {\n",
       "                    return [cell, data, j];\n",
       "                }\n",
       "            }\n",
       "        }\n",
       "    }\n",
       "}\n",
       "\n",
       "// Register the function which deals with the matplotlib target/channel.\n",
       "// The kernel may be null if the page has been refreshed.\n",
       "if (IPython.notebook.kernel != null) {\n",
       "    IPython.notebook.kernel.comm_manager.register_target('matplotlib', mpl.mpl_figure_comm);\n",
       "}\n"
      ],
      "text/plain": [
       "<IPython.core.display.Javascript object>"
      ]
     },
     "metadata": {},
     "output_type": "display_data"
    },
    {
     "data": {
      "text/html": [
       "<img src=\"data:image/png;base64,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\">"
      ],
      "text/plain": [
       "<IPython.core.display.HTML object>"
      ]
     },
     "metadata": {},
     "output_type": "display_data"
    },
    {
     "name": "stdout",
     "output_type": "stream",
     "text": [
      "ymum=1.38143752563\n"
     ]
    }
   ],
   "source": [
    "# Eric's code for a PDF with higher resolution\n",
    "from susipop.susi.cache import SusiCache as cache\n",
    "\n",
    "\n",
    "f = FloatProgress(min=0, max=100)\n",
    "L = widgets.Label(\"\")\n",
    "\n",
    "\n",
    "def _plot_pdf_timerange(phi,viscosity_range ,shearrate,bins = 41):\n",
    "    cachefilename = \"./cache/\" + \"phi_\"+str(phi)+\"_shearrate_\"+str(float(shearrate)).replace(\".\",\"_\")+\".h5\"\n",
    "    print cachefilename\n",
    "    pdfcache = cache(cachefile=cachefilename)\n",
    "    path = \"rhor1_phi\"+str(phi)+\"_yd\"+str(float(shearrate))\n",
    "    dataset = sp.reader.DataSet(path,particles=True, fluid=True)\n",
    "\n",
    "    min_viscosity = viscosity_range[0]\n",
    "    max_viscosity = viscosity_range[1]\n",
    "    \n",
    "    \n",
    "    nudata = pd.read_csv(path+\"/result/nu_t.dat\",names=[\"t\",\"time\", \"nu\",\"nu_var\",\"nur\",\"nur_var)\"])\n",
    "    idx_list = np.where((nudata[\"nur\"] < max_viscosity) & (nudata[\"nur\"] > min_viscosity) )[0]\n",
    "    t_list = nudata[\"t\"][idx_list]\n",
    "#     print t_list\n",
    "    \n",
    "    global edges\n",
    "    global pair_df\n",
    "    step = 1 \n",
    "    \n",
    "    for t in idx_list:\n",
    "        if not pdfcache.has_data(t,\"edges\") and not pdfcache.has_data(t,\"pair_df\"):\n",
    "            dataset.load_state(dataset.tlist[t])\n",
    "            exp = dataset\n",
    "            #Create the size of the area that you want to bin the distances in\n",
    "            limit = 5 * exp.particles.radius.max()\n",
    "    #         cachename = \"pdf_phi_\"+str(phi)+\"_shearrate_\"+str(shearrate).replace(\".\",\"_\")+\"_time\"+str(t)\n",
    "            #Calculate the distances and bin them\n",
    "            (edges, pair_df) = sp.spatial.correlations.pair_distribution_function(exp.particles.r,\n",
    "                 L=exp.L, LEs=exp.LEs, histogramdd={\"bins\":(bins, bins, bins),\"range\":((-limit,limit),(-limit,limit),(-limit,limit))})\n",
    "            datadict= dict()\n",
    "            datadict[\"edges\"] = edges\n",
    "            datadict[\"pair_df\"] = pair_df\n",
    "            pdfcache.save_data(t,{\"edges\":edges, \"pair_df\":pair_df})\n",
    "            display_cache_status.value =\"saving data to cache: \"+cachefilename+\" for timestep :\"+ str(t)\n",
    "        else:\n",
    "            edges = pdfcache.load_data(t,\"edges\")\n",
    "            pair_df = pdfcache.load_data(t,\"pair_df\")\n",
    "            display_cache_status.value = \" loading from cache :\"+cachefilename+\" for timestep\"+ str(t)\n",
    "        if step == 1: edges_tot, pair_df_tot = np.zeros_like(edges), np.zeros_like(pair_df)\n",
    "        edges_tot += edges\n",
    "        pair_df_tot += pair_df\n",
    "        step += 1.0\n",
    "        f.value = step/len(t_list)*100\n",
    "        L.value = str(int(step/len(t_list)*100))+\"% completed\"\n",
    "\n",
    "    edges = edges_tot/step\n",
    "    pair_df = pair_df_tot/step\n",
    "\n",
    "\n",
    "def plot_pdf_timerange(phi,viscosity_range ,shearrate,bins, xz_vmax,xy_vmax,yz_vmax,analyze_,autorange, save_fig):\n",
    "    \n",
    "    if analyze_:\n",
    "        _plot_pdf_timerange(phi,viscosity_range ,shearrate,bins)\n",
    "    #Plot them in a color mesh\n",
    "    #pcolor plots have a tendency to leave out one row/column of \"pixels\". It will not immediately plot the entire\n",
    "    #range. To compensate, the defined meshgrid needs to be 1 \"pont\" bigger  than the image that you want.\n",
    "\n",
    "    #Add a value to \"edges\" by first determining bin stepsize and then appending one step to edges\n",
    "    max=edges[0][bins-1]+(edges[0][1]-edges[0][0])\n",
    "    new0=np.append(edges[0],max)\n",
    "    new1=np.append(edges[1],max)\n",
    "    new2=np.append(edges[2],max)\n",
    "\n",
    "    # X-Z PLANE\n",
    "    #Create the mesh grid, but shift by half a bin to correctly center the image\n",
    "    plt.figure(figsize=[10,10])\n",
    "\n",
    "    plt.subplot(221)\n",
    "    XX, ZZ = np.meshgrid(new0-7.31208644e-07/2, new2-7.31208644e-07/2)\n",
    "    pairdf = pair_df[:, pair_df.shape[1] / 2, :]\n",
    "\n",
    "#     plt.pcolor(XX.T * 1e6, ZZ.T * 1e6, pairdf,vmin=0,vmax=xz_vmax)\n",
    "    if autorange == True: plt.pcolor(XX.T * 1e6, ZZ.T * 1e6, pairdf,vmin=0,vmax=xz_vmax)\n",
    "    else: plt.pcolor(XX.T * 1e6, ZZ.T * 1e6, pairdf)\n",
    "    plt.colorbar()\n",
    "#         y_mum = 1e6 * edges[1][pair_df.shape[1] / 2]\n",
    "    y_mum =  1e6 * ( edges[1][1] -edges[1][0] )    \n",
    "\n",
    "    plt.axis([-16,16,-16,16])\n",
    "    plt.xlabel('$\\Delta{x}$ $(\\mu{m})$', fontsize=15);\n",
    "    plt.ylabel('$\\Delta{z}$ $(\\mu{m})$', fontsize=15);\n",
    "    plt.title('PDF at $y={:.2f} \\mu{{m}}$ for phi='.format(y_mum)+str(phi)+\" yd=\"+str(shearrate).format(y_mum), fontsize=15);\n",
    "    print \"ymum=\"+str(y_mum)\n",
    "\n",
    "    #X-Y PLANE\n",
    "    plt.subplot(222)\n",
    "    XX, YY = np.meshgrid(new0-7.31208644e-07/2, new1-7.31208644e-07/2)\n",
    "    pairdf = pair_df[:,:, pair_df.shape[2] / 2]\n",
    "\n",
    "#     plt.pcolor(XX.T * 1e6, YY.T * 1e6, pairdf,vmin=0,vmax=xy_vmax)\n",
    "    if autorange == True: plt.pcolor(XX.T * 1e6, YY.T * 1e6, pairdf,vmin=0,vmax=xy_vmax)\n",
    "    else: plt.pcolor(XX.T * 1e6, YY.T * 1e6, pairdf)\n",
    "        \n",
    "    plt.colorbar()\n",
    "    z_mum = 1e6 * ( edges[2][1] -edges[2][0] )    \n",
    "\n",
    "    plt.axis([-16,16,-16,16])\n",
    "    plt.xlabel('$\\Delta{x}$ $(\\mu{m})$', fontsize=15);\n",
    "    plt.ylabel('$\\Delta{y}$ $(\\mu{m})$', fontsize=15);\n",
    "    plt.title('PDF at $z={:.2f} \\mu{{m}}$ for phi='.format(z_mum)+str(phi)+\" yd=\"+str(shearrate).format(z_mum), fontsize=15);\n",
    "\n",
    "    #Y-Z PLANE\n",
    "    plt.subplot(223)\n",
    "    YY, ZZ = np.meshgrid(new1-7.31208644e-07/2, new2-7.31208644e-07/2)\n",
    "    pairdf = pair_df[pair_df.shape[0] / 2,:,:]\n",
    "\n",
    "#     plt.pcolor(YY.T * 1e6, ZZ.T * 1e6, pairdf,vmin=0,vmax=yz_vmax)\n",
    "    if autorange == True: plt.pcolor(YY.T * 1e6, ZZ.T * 1e6, pairdf,vmin=0,vmax=yz_vmax)\n",
    "    else: plt.pcolor(YY.T * 1e6, ZZ.T * 1e6, pairdf)\n",
    "    plt.colorbar()\n",
    "    x_mum = 1e6 *( edges[0][1] -edges[0][0] )    \n",
    "\n",
    "    plt.axis([-16,16,-16,16])\n",
    "    plt.xlabel('$\\Delta{y}$ $(\\mu{m})$', fontsize=15);\n",
    "    plt.ylabel('$\\Delta{z}$ $(\\mu{m})$', fontsize=15);\n",
    "    plt.title('PDF at $x={:.2f} \\mu{{m}}$ for phi='.format(x_mum)+str(phi)+\" yd=\"+str(shearrate).format(x_mum), fontsize=15);\n",
    "    \n",
    "    plt.subplot(224)\n",
    "#     tmin, tmax = time[0], time[1]\n",
    "    min_viscosity = viscosity_range[0]\n",
    "    max_viscosity = viscosity_range[1]\n",
    "\n",
    "\n",
    "    path = \"rhor1_phi\"+str(phi)+\"_yd\"+str(float(shearrate))\n",
    "    nupath = path + \"/result/nu_t.dat\"\n",
    "    db = pd.read_csv(nupath,names=[\"t\",\"time\", \"nu\",\"nu_var\",\"nur\",\"nur_var)\"])\n",
    "    nu = db[\"nu\"]\n",
    "    nu_rel = db[\"nur\"]\n",
    "    t = db[\"time\"]\n",
    "    idx_list_valid = np.where((db[\"nur\"] < max_viscosity) & (db[\"nur\"] > min_viscosity) )[0]\n",
    "    idx_list_invalid = np.where((db[\"nur\"] > max_viscosity) | (db[\"nur\"] < min_viscosity) )[0]\n",
    "\n",
    "    \n",
    "    #     dt = abs(t[2]-t[1])\n",
    "    shear = t*shearrate\n",
    "#     shear_tmin = t[tmin-1]*shearrate\n",
    "    \n",
    "    plt.plot(shear[idx_list_valid], nu_rel[idx_list_valid],'r.',label=\"data points used \")\n",
    "    plt.plot(shear[idx_list_invalid], nu_rel[idx_list_invalid],'b.',label=\"data points not used\")\n",
    "    plt.legend(loc = 'best',prop={'size':8})\n",
    "#     try:\n",
    "#         shear_tmax =  t[tmax-1]*shearrate\n",
    "#     except:\n",
    "#         shear_tmax =  t[len(t)-1]*shearrate\n",
    "        \n",
    "#     print shear_tmin, shear_tmax\n",
    "#     plt.plot(shear, nu)\n",
    "    plt.yscale(\"log\")\n",
    "    plt.ylabel(\"relative viscosity\")\n",
    "    plt.xlabel(\"strain\")\n",
    "    if save_fig:\n",
    "        plt.savefig(\"pdf_phi_\"+str(phi)+\"_shearrate_\"+str(shearrate).replace(\".\",\"_\")+\"_viscosity_range\"+str(min_viscosity)+\"_\"+str(max_viscosity))\n",
    "        \n",
    "\n",
    "\n",
    "\n",
    "pdf_average = interactive(plot_pdf_timerange, \\\n",
    "                phi = widgets.ToggleButtons(options=[40,45,50,54,55,56,58],value=56,disabled=False), \\\n",
    "                shearrate= widgets.ToggleButtons(options=[1,10,11,11.5,12,12.5,13,14,15,16,18,20,30,50,70,100,200,300,1000],\\\n",
    "                                                 value = 12),\\\n",
    "                xz_vmax = widgets.FloatSlider(min= 0, max= 15,value = 2.75, step = 0.05,orientation = \"horizontal\",description = \"xz colorbax max\"),\\\n",
    "                xy_vmax = widgets.FloatSlider(min= 0, max= 15,value = 2.75, step = 0.05,orientation = \"horizontal\",description = \"xy colorbax max\"),\\\n",
    "                yz_vmax = widgets.FloatSlider(min= 0, max= 15,value = 2.75, step = 0.05,orientation = \"horizontal\",description = \"yz colorbax max\"),\\\n",
    "                analyze_ = widgets.ToggleButtons(options=[True,False],value = True,description= \"Analyze?\"),\\\n",
    "                save_fig = widgets.ToggleButtons(options=[True,False],value = False,description=\"Save figure?\"),\\\n",
    "                autorange = widgets.ToggleButtons(options=[True,False],value = True,description=\"Manual color range?\"),\\\n",
    "                viscosity_range = widgets.IntRangeSlider(min= 1, max= 1e5,value = [1,1000], step = 1, description= \"relative viscosity range\"),\\\n",
    "                bins = widgets.IntSlider(options = [11,101],value = 41, step = 2),__manual=True)\n",
    "display(pdf_average )\n",
    "display(f)\n",
    "display(L)\n",
    "display_cache_status = widgets.Label(\"\")\n",
    "display(display_cache_status)\n"
   ]
  },
  {
   "cell_type": "markdown",
   "metadata": {
    "collapsed": false
   },
   "source": [
    "## PDF averaged over timesteps with a specific 1st normal stress difference range"
   ]
  },
  {
   "cell_type": "code",
   "execution_count": 96,
   "metadata": {
    "collapsed": false
   },
   "outputs": [],
   "source": [
    "\n",
    "# Eric's code for a PDF with higher resolution\n",
    "from susipop.susi.cache import SusiCache as cache\n",
    "\n",
    "\n",
    "f = FloatProgress(min=0, max=100)\n",
    "L = widgets.Label(\"\")\n",
    "display_cache_status = widgets.Label(\"\")\n",
    "\n",
    "def _plot_pdf_timerange(phi,N1_range ,shearrate,invert_range, bins = 41):\n",
    "    cachefilename = \"./cache/\" + \"phi_\"+str(phi)+\"_shearrate_\"+str(float(shearrate)).replace(\".\",\"_\")+\".h5\"\n",
    "    pdfcache = cache(cachefile=cachefilename)\n",
    "    path = \"rhor1_phi\"+str(phi)+\"_yd\"+str(float(shearrate))\n",
    "    dataset = sp.reader.DataSet(path,particles=True, fluid=True)\n",
    "\n",
    "    min_N1 = N1_range[0]\n",
    "    max_N1 = N1_range[1]\n",
    "    \n",
    "    \n",
    "    n1data = pd.read_csv(path+\"/result/part_stress_norm_tot_t.dat\")\n",
    "    s11 = np.asarray(n1data[n1data.columns[2]])\n",
    "    s22 = np.asarray(n1data[n1data.columns[3]])\n",
    "    s33 = np.asarray(n1data[n1data.columns[4]])\n",
    "    N1 = s11 - s33\n",
    "    N2 = s33 - s22\n",
    "    \n",
    "    if not invert_range: idx_list = np.where((N1 < max_N1) & (N1 > min_N1) )[0]\n",
    "    else: idx_list = np.where((N1 > max_N1) | (N1 < min_N1) )[0]\n",
    "#     print idx_list\n",
    "    global edges\n",
    "    global pair_df\n",
    "    step = 1 \n",
    "    \n",
    "    for t in idx_list:\n",
    "        if not pdfcache.has_data(t,\"edges\") and not pdfcache.has_data(t,\"pair_df\"):\n",
    "            dataset.load_state(dataset.tlist[t])\n",
    "            exp = dataset\n",
    "            #Create the size of the area that you want to bin the distances in\n",
    "            limit = 5 * exp.particles.radius.max()\n",
    "\n",
    "            (edges, pair_df) = sp.spatial.correlations.pair_distribution_function(exp.particles.r,\n",
    "                 L=exp.L, LEs=exp.LEs, histogramdd={\"bins\":(bins, bins, bins),\"range\":((-limit,limit),(-limit,limit),(-limit,limit))})\n",
    "            datadict= dict()\n",
    "            datadict[\"edges\"] = edges\n",
    "            datadict[\"pair_df\"] = pair_df\n",
    "            pdfcache.save_data(t,{\"edges\":edges, \"pair_df\":pair_df})\n",
    "            display_cache_status.value =\"saving data to cache: \"+cachefilename+\" for timestep :\"+ str(t)\n",
    "        else:\n",
    "            edges = pdfcache.load_data(t,\"edges\")\n",
    "            pair_df = pdfcache.load_data(t,\"pair_df\")\n",
    "            display_cache_status.value = \" loading from cache :\"+cachefilename+\" for timestep\"+ str(t)\n",
    "        if step == 1: edges_tot, pair_df_tot = np.zeros_like(edges), np.zeros_like(pair_df)\n",
    "        edges_tot += edges\n",
    "        pair_df_tot += pair_df\n",
    "        step += 1.0\n",
    "        f.value = step/len(idx_list)*100\n",
    "        L.value = str(int(step/len(idx_list)*100))+\"% completed\"\n",
    "\n",
    "    edges = edges_tot/step\n",
    "    pair_df = pair_df_tot/step\n",
    "\n",
    "\n",
    "def plot_pdf_timerange(phi,N1_range ,shearrate,bins, xz_vmax,xy_vmax,yz_vmax,analyze_,autorange, save_fig,invert_range):\n",
    "    \n",
    "    if analyze_:\n",
    "        _plot_pdf_timerange(phi,N1_range ,shearrate,invert_range,bins)\n",
    "    #Plot them in a color mesh\n",
    "    #pcolor plots have a tendency to leave out one row/column of \"pixels\". It will not immediately plot the entire\n",
    "    #range. To compensate, the defined meshgrid needs to be 1 \"pont\" bigger  than the image that you want.\n",
    "\n",
    "    #Add a value to \"edges\" by first determining bin stepsize and then appending one step to edges\n",
    "    max=edges[0][bins-1]+(edges[0][1]-edges[0][0])\n",
    "    new0=np.append(edges[0],max)\n",
    "    new1=np.append(edges[1],max)\n",
    "    new2=np.append(edges[2],max)\n",
    "\n",
    "    # X-Z PLANE\n",
    "    #Create the mesh grid, but shift by half a bin to correctly center the image\n",
    "    plt.figure(figsize=[10,10])\n",
    "\n",
    "    plt.subplot(221)\n",
    "    XX, ZZ = np.meshgrid(new0-7.31208644e-07/2, new2-7.31208644e-07/2)\n",
    "    pairdf = pair_df[:, pair_df.shape[1] / 2, :]\n",
    "\n",
    "    if autorange == True: plt.pcolor(XX.T * 1e6, ZZ.T * 1e6, pairdf,vmin=0,vmax=xz_vmax)\n",
    "    else: plt.pcolor(XX.T * 1e6, ZZ.T * 1e6, pairdf)\n",
    "    plt.colorbar()\n",
    "#         y_mum = 1e6 * edges[1][pair_df.shape[1] / 2]\n",
    "    y_mum =  1e6 * ( edges[1][1] -edges[1][0] )    \n",
    "\n",
    "    plt.axis([-16,16,-16,16])\n",
    "    plt.xlabel('$\\Delta{x}$ $(\\mu{m})$', fontsize=15,labelpad=-5);\n",
    "    plt.ylabel('$\\Delta{z}$ $(\\mu{m})$', fontsize=15,labelpad=-10);\n",
    "    plt.title('PDF at $y={:.2f} \\mu{{m}}$ for phi='.format(y_mum)+str(phi)+\" yd=\"+str(shearrate).format(y_mum), fontsize=15);\n",
    "    print \"ymum=\"+str(y_mum)\n",
    "\n",
    "    #X-Y PLANE\n",
    "    plt.subplot(222)\n",
    "    XX, YY = np.meshgrid(new0-7.31208644e-07/2, new1-7.31208644e-07/2)\n",
    "    pairdf = pair_df[:,:, pair_df.shape[2] / 2]\n",
    "\n",
    "    if autorange == True: plt.pcolor(XX.T * 1e6, YY.T * 1e6, pairdf,vmin=0,vmax=xy_vmax)\n",
    "    else: plt.pcolor(XX.T * 1e6, YY.T * 1e6, pairdf)\n",
    "        \n",
    "    plt.colorbar()\n",
    "    z_mum = 1e6 * ( edges[2][1] -edges[2][0] )    \n",
    "\n",
    "    plt.axis([-16,16,-16,16])\n",
    "    plt.xlabel('$\\Delta{x}$ $(\\mu{m})$', fontsize=15,labelpad=-5);\n",
    "    plt.ylabel('$\\Delta{y}$ $(\\mu{m})$', fontsize=15,labelpad=-10);\n",
    "    plt.title('PDF at $z={:.2f} \\mu{{m}}$ for phi='.format(z_mum)+str(phi)+\" yd=\"+str(shearrate).format(z_mum), fontsize=15);\n",
    "\n",
    "    #Y-Z PLANE\n",
    "    plt.subplot(223)\n",
    "    YY, ZZ = np.meshgrid(new1-7.31208644e-07/2, new2-7.31208644e-07/2)\n",
    "    pairdf = pair_df[pair_df.shape[0] / 2,:,:]\n",
    "\n",
    "    if autorange == True: plt.pcolor(YY.T * 1e6, ZZ.T * 1e6, pairdf,vmin=0,vmax=yz_vmax)\n",
    "    else: plt.pcolor(YY.T * 1e6, ZZ.T * 1e6, pairdf)\n",
    "    plt.colorbar()\n",
    "    x_mum = 1e6 *( edges[0][1] -edges[0][0] )    \n",
    "\n",
    "    plt.axis([-16,16,-16,16])\n",
    "    plt.xlabel('$\\Delta{y}$ $(\\mu{m})$', fontsize=15,labelpad=-5);\n",
    "    plt.ylabel('$\\Delta{z}$ $(\\mu{m})$', fontsize=15,labelpad=-10);\n",
    "    plt.title('PDF at $x={:.2f} \\mu{{m}}$ for phi='.format(x_mum)+str(phi)+\" yd=\"+str(shearrate).format(x_mum), fontsize=15);\n",
    "    \n",
    "    plt.subplot(224)\n",
    "\n",
    "    min_N1 = N1_range[0]\n",
    "    max_N1 = N1_range[1]\n",
    "    \n",
    "    path = \"rhor1_phi\"+str(phi)+\"_yd\"+str(float(shearrate))\n",
    "    n1data = pd.read_csv(path+\"/result/part_stress_norm_tot_t.dat\")\n",
    "    s11 = np.asarray(n1data[n1data.columns[2]])\n",
    "    s22 = np.asarray(n1data[n1data.columns[3]])\n",
    "    s33 = np.asarray(n1data[n1data.columns[4]])\n",
    "    t   = np.asarray(n1data[n1data.columns[1]])\n",
    "    shear = t*shearrate\n",
    "    N1 = s11 - s33\n",
    "    N2 = s33 - s22\n",
    "    plt.plot(shear,N1)\n",
    "    if not invert_range:\n",
    "        idx_list_valid = np.where((N1 < max_N1) & (N1 > min_N1) )[0]\n",
    "        idx_list_invalid = np.where((N1 > max_N1) | (N1 < min_N1) )[0]\n",
    "    else:\n",
    "        idx_list_valid = np.where((N1 > max_N1) | (N1 < min_N1) )[0]\n",
    "        idx_list_invalid = np.where((N1 < max_N1) & (N1 > min_N1) )[0]\n",
    "        \n",
    "    print len(N1)\n",
    "    print len(s11)\n",
    "    plt.plot(shear[idx_list_valid],N1[idx_list_valid],'r.', label = \"data points used \")\n",
    "    plt.plot(shear[idx_list_invalid],N1[idx_list_invalid],'b.', label = \"data points not used \")\n",
    "    plt.legend(loc = 'best', prop={'size':8} )\n",
    "    plt.ylabel(\"N1(Pa)\",labelpad=-10)\n",
    "    plt.xlabel(\"strain\",labelpad=-5)\n",
    "    \n",
    "    if save_fig:\n",
    "        plt.savefig(\"pdf_phi_\"+str(phi)+\"_shearrate_\"+str(shearrate).replace(\".\",\"_\")+\"_N1_range\"+str(min_N1)+\"_\"+str(max_N1))\n",
    "        \n",
    "\n",
    "\n",
    "\n",
    "pdf_average = interactive(plot_pdf_timerange, \\\n",
    "                phi = widgets.ToggleButtons(options=[40,45,50,54,55,56,58],value=56,disabled=False), \\\n",
    "                shearrate= widgets.ToggleButtons(options=[1,10,11,11.5,12,12.5,13,14,15,16,18,20,30,50,70,100,200,300,1000],\\\n",
    "                                                 value = 12),\\\n",
    "                xz_vmax = widgets.FloatSlider(min= 0, max= 15,value = 2.75, step = 0.25,orientation = \"vertical\",description = \"xz colorbax max\"),\\\n",
    "                xy_vmax = widgets.FloatSlider(min= 0, max= 15,value = 2.75, step = 0.25,orientation = \"vertical\",description = \"xy colorbax max\"),\\\n",
    "                yz_vmax = widgets.FloatSlider(min= 0, max= 15,value = 2.75, step = 0.25,orientation = \"vertical\",description = \"yz colorbax max\"),\\\n",
    "                analyze_ = widgets.ToggleButtons(options=[True,False],value = True,description= \"Analyze?\"),\\\n",
    "                save_fig = widgets.ToggleButtons(options=[True,False],value = False,description=\"Save figure?\"),\\\n",
    "                autorange = widgets.ToggleButtons(options=[True,False],value = True,description=\"Manual color range?\"),\\\n",
    "                invert_range = widgets.ToggleButtons(options=[True,False],value = False,description=\"Search inverse value range?\"),\\\n",
    "                N1_range = widgets.FloatRangeSlider(min= -1e5, max= 1e5,value = [0,1000],  description= \"N1 range\"),\\\n",
    "                bins = widgets.IntSlider(options = [11,101],value = 41, step = 2,orientation = \"vertical\"),__manual=True)\n",
    "#display(pdf_average )\n",
    "# for i,item in enumerate(pdf_average.children):\n",
    "#     print i, item.description \n",
    "display(widgets.VBox(pdf_average.children[0:3]))\n",
    "display(widgets.HBox(pdf_average.children[3:7]))\n",
    "display(widgets.HBox(pdf_average.children[7:-1]))\n",
    "display(f)\n",
    "display(L)\n",
    "display(display_cache_status)\n",
    "display(pdf_average.children[-1])"
   ]
  }
 ],
 "metadata": {
  "anaconda-cloud": {},
  "kernelspec": {
   "display_name": "Python [default]",
   "language": "python",
   "name": "python2"
  },
  "language_info": {
   "codemirror_mode": {
    "name": "ipython",
    "version": 2
   },
   "file_extension": ".py",
   "mimetype": "text/x-python",
   "name": "python",
   "nbconvert_exporter": "python",
   "pygments_lexer": "ipython2",
   "version": "2.7.13"
  },
  "widgets": {
   "state": {
    "01011811b00d4eeda488680ebf563d8e": {
     "views": [
      {
       "cell_index": 29
      }
     ]
    },
    "015d6760322146cda9318abc16ffde52": {
     "views": [
      {
       "cell_index": 34
      }
     ]
    },
    "0305b38e2f8140f498323670aceb6b57": {
     "views": [
      {
       "cell_index": 36
      }
     ]
    },
    "030842f5420d4dee817a6974caab1c81": {
     "views": [
      {
       "cell_index": 36
      }
     ]
    },
    "03ce46cb720e428db41b29af4dbb9ea0": {
     "views": [
      {
       "cell_index": 23
      }
     ]
    },
    "0450ce31ea154bdabda929a4f9474cc3": {
     "views": [
      {
       "cell_index": 34
      }
     ]
    },
    "057763b465894a34a34ead3193031e79": {
     "views": [
      {
       "cell_index": 23
      }
     ]
    },
    "05a4586569bd4906ae61e306041070fe": {
     "views": [
      {
       "cell_index": 23
      }
     ]
    },
    "0635eab42b424adeb400aa62c8238a10": {
     "views": [
      {
       "cell_index": 15
      }
     ]
    },
    "066a08f992f24dd783ce2c253ae92c64": {
     "views": [
      {
       "cell_index": 36
      }
     ]
    },
    "07aef6f87f17458d861c0a0a4ee72f9e": {
     "views": [
      {
       "cell_index": 6
      }
     ]
    },
    "08c5867bb6ce4acb8b7fa5d574a53ff3": {
     "views": [
      {
       "cell_index": 34
      }
     ]
    },
    "092f9f683663453490423c62a02d61b0": {
     "views": [
      {
       "cell_index": 36
      }
     ]
    },
    "093bc3c67b474b169bf4ad6f72073c79": {
     "views": [
      {
       "cell_index": 23
      }
     ]
    },
    "0ad8cebb111742ebad219c65f1132538": {
     "views": [
      {
       "cell_index": 36
      }
     ]
    },
    "0b0109ad00fd4453a674154c0da8ef04": {
     "views": [
      {
       "cell_index": 23
      }
     ]
    },
    "0b3f6621e76b48d19a4d7d475a18e61c": {
     "views": [
      {
       "cell_index": 36
      }
     ]
    },
    "0c03a327495846d5aa5881692bcbe987": {
     "views": [
      {
       "cell_index": 36
      }
     ]
    },
    "0cd9e669ecd1469b9352b9929dd3a380": {
     "views": [
      {
       "cell_index": 23
      }
     ]
    },
    "0f259c7c5550439a8a0511c1ac7055a5": {
     "views": [
      {
       "cell_index": 30
      }
     ]
    },
    "117a3bfe1a304a7ab4dca8e56f0f27ff": {
     "views": [
      {
       "cell_index": 29
      }
     ]
    },
    "11b713b200bd4bbe94ba53bd282893a3": {
     "views": [
      {
       "cell_index": 36
      }
     ]
    },
    "131464a1a56a4c569355ea0451f9dff9": {
     "views": [
      {
       "cell_index": 36
      }
     ]
    },
    "1576e154edc7424e8bbc114aa62876a7": {
     "views": [
      {
       "cell_index": 34
      }
     ]
    },
    "175351eb11e9458aa772cec80e8b53fe": {
     "views": [
      {
       "cell_index": 34
      }
     ]
    },
    "1759b25da3c44ea49e59e77dc4d7846b": {
     "views": [
      {
       "cell_index": 29
      }
     ]
    },
    "184e524fa3da4102a581c21529b10106": {
     "views": [
      {
       "cell_index": 29
      }
     ]
    },
    "185da001ceb34b0e9271a32926f13db2": {
     "views": [
      {
       "cell_index": 36
      }
     ]
    },
    "18c697e6bc214efb8ff0712f5d690e78": {
     "views": [
      {
       "cell_index": 21
      }
     ]
    },
    "1ae771e70bff433fbe9be5fb1bd4e786": {
     "views": [
      {
       "cell_index": 34
      }
     ]
    },
    "1bc3558887314123905c79cab28db063": {
     "views": [
      {
       "cell_index": 36
      }
     ]
    },
    "1ef881d3a4ce4688b1e34c766f66804e": {
     "views": [
      {
       "cell_index": 23
      }
     ]
    },
    "1fad169170014da3acc536cab085beea": {
     "views": [
      {
       "cell_index": 36
      }
     ]
    },
    "201ea16d8b444db29694af130e95bf48": {
     "views": [
      {
       "cell_index": 34
      }
     ]
    },
    "204391f9365a41f0b6410b57b32f9545": {
     "views": [
      {
       "cell_index": 23
      }
     ]
    },
    "2172a188cc7440589641d52546eee4f2": {
     "views": [
      {
       "cell_index": 29
      }
     ]
    },
    "21ec2263f13344f7abe558f11649d99f": {
     "views": [
      {
       "cell_index": 36
      }
     ]
    },
    "2246b6bbbd1e4abbbb36988b9436bf0d": {
     "views": [
      {
       "cell_index": 21
      }
     ]
    },
    "2286f999d5474c8e9cf6aa7500526a17": {
     "views": [
      {
       "cell_index": 36
      }
     ]
    },
    "22ae34343074467bbab7b64e19d8665e": {
     "views": [
      {
       "cell_index": 31
      }
     ]
    },
    "23b35ddaa1aa438b9d96cc59b2cbe5e0": {
     "views": [
      {
       "cell_index": 36
      }
     ]
    },
    "2406957142fc4e51b71353fe69323b06": {
     "views": [
      {
       "cell_index": 36
      }
     ]
    },
    "2475ef7a77084dc5bb3cbfeb6f72e8a2": {
     "views": [
      {
       "cell_index": 21
      }
     ]
    },
    "25e6d5cd1bc641ec8c7982a427e7bd0d": {
     "views": [
      {
       "cell_index": 36
      }
     ]
    },
    "27060ac6b5c54aea914aa14597e4ca97": {
     "views": [
      {
       "cell_index": 23
      }
     ]
    },
    "2850f891aaee498fa6015efd000ad982": {
     "views": [
      {
       "cell_index": 36
      }
     ]
    },
    "2a5b14998ba848bbb3bd4586fc0174a5": {
     "views": [
      {
       "cell_index": 34
      }
     ]
    },
    "2abf40edd6ea441ca1a01035ea59e22c": {
     "views": [
      {
       "cell_index": 36
      }
     ]
    },
    "2adf06a6ecfc4a27a5be2bcc04bbb383": {
     "views": [
      {
       "cell_index": 36
      }
     ]
    },
    "2d1ac08eabdd4e19bd53ff1bc50b9ca2": {
     "views": [
      {
       "cell_index": 36
      }
     ]
    },
    "2d273da17688408cb165a5a73b043e0a": {
     "views": [
      {
       "cell_index": 36
      }
     ]
    },
    "2dbdcd8a425940d0a8717837ac2662dd": {
     "views": [
      {
       "cell_index": 36
      }
     ]
    },
    "32988184c457464d87cd9acb3df539d8": {
     "views": [
      {
       "cell_index": 36
      }
     ]
    },
    "329bf5edf862463c81eff012547ff603": {
     "views": [
      {
       "cell_index": 23
      }
     ]
    },
    "339485c0cea74ac4bca4298d271daf1b": {
     "views": [
      {
       "cell_index": 23
      }
     ]
    },
    "35cd1345b72e47dd99ddd079ff8a4ea4": {
     "views": [
      {
       "cell_index": 36
      }
     ]
    },
    "3620cb94dd544386903b5f39546bb99a": {
     "views": [
      {
       "cell_index": 29
      }
     ]
    },
    "3766ae5416304adfb830db7a8e15c788": {
     "views": [
      {
       "cell_index": 21
      }
     ]
    },
    "37a765cb76064dbbaf2f46450057e596": {
     "views": [
      {
       "cell_index": 34
      }
     ]
    },
    "37f7b5241d2e4b288ecd515901af5e7b": {
     "views": [
      {
       "cell_index": 30
      }
     ]
    },
    "3885b77a6e5244428088b50cfa4f36dc": {
     "views": [
      {
       "cell_index": 36
      }
     ]
    },
    "38b139fa40994266adbffb0cdad799fb": {
     "views": [
      {
       "cell_index": 34
      }
     ]
    },
    "39cbba7889f44e7f9f0af6da09b3924a": {
     "views": [
      {
       "cell_index": 29
      }
     ]
    },
    "3aa896b384c34d9fba972f8a146abf0d": {
     "views": [
      {
       "cell_index": 29
      }
     ]
    },
    "3aaddf05f0a74c2287096a51b34e10f7": {
     "views": [
      {
       "cell_index": 29
      }
     ]
    },
    "3c93d30d3b384dc09fc87b2185bcf903": {
     "views": [
      {
       "cell_index": 23
      }
     ]
    },
    "3ccc25fb3594498cbe10524b893930e5": {
     "views": [
      {
       "cell_index": 36
      }
     ]
    },
    "3d934dfe6e054ee4a44dd2e5dea729b2": {
     "views": [
      {
       "cell_index": 23
      }
     ]
    },
    "3e9ba59c3a9947aa9ad7c7415b5f593e": {
     "views": [
      {
       "cell_index": 29
      }
     ]
    },
    "3f6e51c4f6eb4602b58ebf5622f9d846": {
     "views": [
      {
       "cell_index": 18
      }
     ]
    },
    "3f8f8aeea7964360832d06ecddb4e20d": {
     "views": [
      {
       "cell_index": 29
      }
     ]
    },
    "3fb3660b9d014190b8bcf6df68614822": {
     "views": [
      {
       "cell_index": 34
      }
     ]
    },
    "40888c8d4cc7476ab98fde29e9ef1f46": {
     "views": [
      {
       "cell_index": 36
      }
     ]
    },
    "41945ac2821a462f8099497cc870d7da": {
     "views": [
      {
       "cell_index": 29
      }
     ]
    },
    "41b687b728be4b3bb3620ae4279f97dc": {
     "views": [
      {
       "cell_index": 34
      }
     ]
    },
    "41d3af81c9d14707a6269f963faaddcd": {
     "views": [
      {
       "cell_index": 36
      }
     ]
    },
    "4225eb1a1e2d4616b7c45685051ce74b": {
     "views": [
      {
       "cell_index": 34
      }
     ]
    },
    "4248207e494d4ccf8c5d304a0ca703b9": {
     "views": [
      {
       "cell_index": 34
      }
     ]
    },
    "42646ced277741d78825520144e27868": {
     "views": [
      {
       "cell_index": 29
      }
     ]
    },
    "436b03c8e5b54a1f965c509575263516": {
     "views": [
      {
       "cell_index": 29
      }
     ]
    },
    "44a9f3c1efff4d61bcaa6567cf48ea65": {
     "views": [
      {
       "cell_index": 36
      }
     ]
    },
    "457b1464fe244ecc89adf92578ef3e9f": {
     "views": [
      {
       "cell_index": 29
      }
     ]
    },
    "4655264009344dfdbffed0418ebc4576": {
     "views": [
      {
       "cell_index": 36
      }
     ]
    },
    "467936bbbc294464b1fcf713b3f5c2e9": {
     "views": [
      {
       "cell_index": 18
      }
     ]
    },
    "4838a355b33f437ca3038cdbb5ec76b8": {
     "views": [
      {
       "cell_index": 29
      }
     ]
    },
    "485f4e423ba547679139f2207ce9dd5d": {
     "views": [
      {
       "cell_index": 34
      }
     ]
    },
    "4876f63ab7be4c5480b96849269dbfe3": {
     "views": [
      {
       "cell_index": 31
      }
     ]
    },
    "48c5e1254ee84b6986695aa6f227fdfa": {
     "views": [
      {
       "cell_index": 29
      }
     ]
    },
    "48e9b09fa3ba4455bb7393a31f7442d9": {
     "views": [
      {
       "cell_index": 29
      }
     ]
    },
    "4a5a58f742fa424586b3543a07cdac2a": {
     "views": [
      {
       "cell_index": 31
      }
     ]
    },
    "4ad704811649464794b733277841e083": {
     "views": [
      {
       "cell_index": 29
      }
     ]
    },
    "4b2bff84dd62400e92a599fbfa9a676f": {
     "views": [
      {
       "cell_index": 36
      }
     ]
    },
    "4b37967ac8414effb99ab414d37c4e79": {
     "views": [
      {
       "cell_index": 34
      }
     ]
    },
    "4b90c9e1cb7142c5826431520acdfed8": {
     "views": [
      {
       "cell_index": 36
      }
     ]
    },
    "4bed4b1ae23648f8993c6b81aec20bb4": {
     "views": [
      {
       "cell_index": 18
      }
     ]
    },
    "4cae9a271fb64f438889b27b7e211ee1": {
     "views": [
      {
       "cell_index": 36
      }
     ]
    },
    "4cbfbdb8337e4fabaab0b536efb46794": {
     "views": [
      {
       "cell_index": 36
      }
     ]
    },
    "50234fed302d415f9647cdacb34402b5": {
     "views": [
      {
       "cell_index": 36
      }
     ]
    },
    "503570ba8ba54eb9b9852f16e9dcefc3": {
     "views": [
      {
       "cell_index": 29
      }
     ]
    },
    "505b50b7e87c4682a7c6b0f61c93f07d": {
     "views": [
      {
       "cell_index": 29
      }
     ]
    },
    "507bad3c996d402c8bea9318f3acffde": {
     "views": [
      {
       "cell_index": 36
      }
     ]
    },
    "509a76a11f57428cb213859cd0689e4e": {
     "views": [
      {
       "cell_index": 29
      }
     ]
    },
    "50d5344627d7498c9e1fb2972bbc88a8": {
     "views": [
      {
       "cell_index": 23
      }
     ]
    },
    "51b7790508c44ce1b7ac9651b95097f7": {
     "views": [
      {
       "cell_index": 34
      }
     ]
    },
    "52292ef9397f4050ba0047a368b7c2ca": {
     "views": [
      {
       "cell_index": 29
      }
     ]
    },
    "52b3236ff6dc4e32b5772e24e22004a2": {
     "views": [
      {
       "cell_index": 29
      }
     ]
    },
    "53ff1765cc2145a4a9643956af1cc111": {
     "views": [
      {
       "cell_index": 30
      }
     ]
    },
    "54b70553f97c4ece94d31f9fc27341b2": {
     "views": [
      {
       "cell_index": 36
      }
     ]
    },
    "54e07bc0e8ec4c22970138646cf7085c": {
     "views": [
      {
       "cell_index": 34
      }
     ]
    },
    "54e90129a6d34000a2cfc3bfb0fc07ff": {
     "views": [
      {
       "cell_index": 34
      }
     ]
    },
    "554b5707f1294b67a1f15ce9d8f34277": {
     "views": [
      {
       "cell_index": 36
      }
     ]
    },
    "55721ec219cf4c4cba057a55cec58111": {
     "views": [
      {
       "cell_index": 29
      }
     ]
    },
    "567bd06d5e034d8390ea996347b3908b": {
     "views": [
      {
       "cell_index": 36
      }
     ]
    },
    "57160ef1f1a24029b23f2150e96a1225": {
     "views": [
      {
       "cell_index": 36
      }
     ]
    },
    "5753193d7e7d42f9af1e0fa8763590db": {
     "views": [
      {
       "cell_index": 36
      }
     ]
    },
    "57d2a514d12b4926910c73e02aaaaafd": {
     "views": [
      {
       "cell_index": 36
      }
     ]
    },
    "57f5677e4ad146b3a08107d4da7cf6d1": {
     "views": [
      {
       "cell_index": 23
      }
     ]
    },
    "592f224f6e68415a953e7e591bd83262": {
     "views": [
      {
       "cell_index": 34
      }
     ]
    },
    "5b8bda30c53848b8ba1ac10c66e21fb5": {
     "views": [
      {
       "cell_index": 21
      }
     ]
    },
    "5b9f12e98beb44b791a59ab8dc8f625e": {
     "views": [
      {
       "cell_index": 34
      }
     ]
    },
    "5cdb36edc61b488eb14c717d25754cf3": {
     "views": [
      {
       "cell_index": 29
      }
     ]
    },
    "5d16a2f718584054bb087e3ccb7636dd": {
     "views": [
      {
       "cell_index": 36
      }
     ]
    },
    "5ea0eb0c04a04bf3b17915d30e005727": {
     "views": [
      {
       "cell_index": 21
      }
     ]
    },
    "5ece33c96b2b4a11a5307b02c0b729b4": {
     "views": [
      {
       "cell_index": 29
      }
     ]
    },
    "5f52cd4ff37f4a93b29db3de7bcafc50": {
     "views": [
      {
       "cell_index": 30
      }
     ]
    },
    "5f693b3292b64fcbb5f94ae871213164": {
     "views": [
      {
       "cell_index": 36
      }
     ]
    },
    "5fec1164eab04021b75b74e2627c5bb3": {
     "views": [
      {
       "cell_index": 36
      }
     ]
    },
    "63723ba6e6564604bf1f8a30427bc975": {
     "views": [
      {
       "cell_index": 34
      }
     ]
    },
    "63cdd7ac44ee4dee8b731b60eeef8890": {
     "views": [
      {
       "cell_index": 29
      }
     ]
    },
    "6439c2c0ecfb4c1d9dacc64ec851d1cc": {
     "views": [
      {
       "cell_index": 34
      }
     ]
    },
    "659baaced7a74095b0e7587975df5459": {
     "views": [
      {
       "cell_index": 21
      }
     ]
    },
    "662c91af60b247d4a074de28d0ee3f26": {
     "views": [
      {
       "cell_index": 29
      }
     ]
    },
    "666350edf00648dfbf1c11f85e7de1ab": {
     "views": [
      {
       "cell_index": 36
      }
     ]
    },
    "67c7b0009b5e454295a3edf5b5bf3607": {
     "views": [
      {
       "cell_index": 21
      }
     ]
    },
    "67fe1ce0e25b43c9ac100d6e7b7aa815": {
     "views": [
      {
       "cell_index": 36
      }
     ]
    },
    "685edf3a808541d585c3048413560fe2": {
     "views": [
      {
       "cell_index": 34
      }
     ]
    },
    "68b86641cf1b462ba56850c90920c846": {
     "views": [
      {
       "cell_index": 29
      }
     ]
    },
    "68f6e64ed7eb4f098fbaa45daaddf672": {
     "views": [
      {
       "cell_index": 34
      }
     ]
    },
    "6b90fef7a35149d3b874d9c01f9cf654": {
     "views": [
      {
       "cell_index": 36
      }
     ]
    },
    "6e076aec011d4d378d59554d58969d8e": {
     "views": [
      {
       "cell_index": 31
      }
     ]
    },
    "701d446019dc47dd9fb787f4156a9fa2": {
     "views": [
      {
       "cell_index": 34
      }
     ]
    },
    "70a791b8edaa47d09d0bd892f987129e": {
     "views": [
      {
       "cell_index": 29
      }
     ]
    },
    "7241ab2327d04f599c19c2d82746e0e4": {
     "views": [
      {
       "cell_index": 34
      }
     ]
    },
    "737c4885e813453e9de74f72713325e3": {
     "views": [
      {
       "cell_index": 18
      }
     ]
    },
    "737fefab09d44e27b0082b7b4f708a4c": {
     "views": [
      {
       "cell_index": 34
      }
     ]
    },
    "73a8b352b6304aa0bf24af6a6eaeb1db": {
     "views": [
      {
       "cell_index": 29
      }
     ]
    },
    "74289797a74c4717839c393e04eb44c1": {
     "views": [
      {
       "cell_index": 23
      }
     ]
    },
    "74e0ffa0ed434c7ab5b20a8930688f5b": {
     "views": [
      {
       "cell_index": 18
      }
     ]
    },
    "751dda17d5114dfc9e63570710a68229": {
     "views": [
      {
       "cell_index": 34
      }
     ]
    },
    "75a4d3e516cd404597f0d1d482497b1b": {
     "views": [
      {
       "cell_index": 36
      }
     ]
    },
    "75d053f8e5504919a4e58fac4febc0e8": {
     "views": [
      {
       "cell_index": 29
      }
     ]
    },
    "766471190edd43239b24a8fdbd4bdbcc": {
     "views": [
      {
       "cell_index": 36
      }
     ]
    },
    "76f8117ac801413286782a7a251e788c": {
     "views": [
      {
       "cell_index": 18
      }
     ]
    },
    "772661d06e274ce79d31d8c800b05288": {
     "views": [
      {
       "cell_index": 27
      }
     ]
    },
    "779bcab5b5c44b87bce9e85533f0cbbf": {
     "views": [
      {
       "cell_index": 18
      }
     ]
    },
    "77c84a97b7484029afa8724a41e89c72": {
     "views": [
      {
       "cell_index": 23
      }
     ]
    },
    "78d80b1f1a88481e9a2eb43c47f38cb4": {
     "views": [
      {
       "cell_index": 31
      }
     ]
    },
    "7901a3501b78493c902b8201ef807992": {
     "views": [
      {
       "cell_index": 36
      }
     ]
    },
    "79544037796f4b398962a648bced25a2": {
     "views": [
      {
       "cell_index": 34
      }
     ]
    },
    "7998ff2f6d6842de80e24f088a18009c": {
     "views": [
      {
       "cell_index": 23
      }
     ]
    },
    "79bffb3d6f9b43de84800aa623789475": {
     "views": [
      {
       "cell_index": 23
      }
     ]
    },
    "79d5da988c6c4a6eab783299734e93a4": {
     "views": [
      {
       "cell_index": 34
      }
     ]
    },
    "7e098415cdf0413682ad1329b67fa0f0": {
     "views": [
      {
       "cell_index": 36
      }
     ]
    },
    "7f047beb8f48499895c915b500950a10": {
     "views": [
      {
       "cell_index": 34
      }
     ]
    },
    "7f2cede766b34102bd6a8319cf2a7fb9": {
     "views": [
      {
       "cell_index": 34
      }
     ]
    },
    "803b7e827f66432a90329373363d6790": {
     "views": [
      {
       "cell_index": 36
      }
     ]
    },
    "80f87d800aa94e42ad451e8812bca256": {
     "views": [
      {
       "cell_index": 29
      }
     ]
    },
    "8122810aeaa74ac48bfc2b17c407a697": {
     "views": [
      {
       "cell_index": 23
      }
     ]
    },
    "81e2aa583e4a4580b6d87e1680b9adc1": {
     "views": [
      {
       "cell_index": 36
      }
     ]
    },
    "82799a75f1cf4710aac5f1661a4cb541": {
     "views": [
      {
       "cell_index": 36
      }
     ]
    },
    "828a586577d14e01a2266afe48085d30": {
     "views": [
      {
       "cell_index": 29
      }
     ]
    },
    "832b186ada0841988e3967826254aa5e": {
     "views": [
      {
       "cell_index": 36
      }
     ]
    },
    "8434d4ffce03404187f22c32e0dc315f": {
     "views": [
      {
       "cell_index": 23
      }
     ]
    },
    "84c0df8641c5420cb436bde80afb5f40": {
     "views": [
      {
       "cell_index": 23
      }
     ]
    },
    "8576b63269fe47569b19f2a1bc39fffe": {
     "views": [
      {
       "cell_index": 36
      }
     ]
    },
    "85a876b82e97473596a5a1a025faaf10": {
     "views": [
      {
       "cell_index": 29
      }
     ]
    },
    "894515ddb1574cfaa754a9697b97d531": {
     "views": [
      {
       "cell_index": 29
      }
     ]
    },
    "89dc6ca22d824a899c4ecb24a9d1bd55": {
     "views": [
      {
       "cell_index": 29
      }
     ]
    },
    "8a8480a42b514ccea9dda8505a0da831": {
     "views": [
      {
       "cell_index": 36
      }
     ]
    },
    "8b01e52d09c340e4a18ea0b713f65aeb": {
     "views": [
      {
       "cell_index": 34
      }
     ]
    },
    "8b1f3e0102304fbfbc721b975f6e1873": {
     "views": [
      {
       "cell_index": 29
      }
     ]
    },
    "8b7cafdc014242e69744b55de20da1e5": {
     "views": [
      {
       "cell_index": 36
      }
     ]
    },
    "8bb11455ea6b4f70a2f3f8b3523dd228": {
     "views": [
      {
       "cell_index": 36
      }
     ]
    },
    "8beda563f2b245c69d2e73a41be41635": {
     "views": [
      {
       "cell_index": 36
      }
     ]
    },
    "8c064fe000834daeabff6b74ad05b438": {
     "views": [
      {
       "cell_index": 36
      }
     ]
    },
    "8c2ea49217284f128832b5103d2645c4": {
     "views": [
      {
       "cell_index": 29
      }
     ]
    },
    "8d09cff9957b46659c6802bf5bf8a1fc": {
     "views": [
      {
       "cell_index": 29
      }
     ]
    },
    "8d11d00cec46414cbb7763001e43bce8": {
     "views": [
      {
       "cell_index": 34
      }
     ]
    },
    "8f1219720cd046978c18c605496a39e7": {
     "views": [
      {
       "cell_index": 34
      }
     ]
    },
    "90358cb75bfe448fab4550479fa9fb79": {
     "views": [
      {
       "cell_index": 36
      }
     ]
    },
    "91002916648044cf9eeec7f0b6511aaa": {
     "views": [
      {
       "cell_index": 34
      }
     ]
    },
    "91b82b0212e34afcbcbca36e31db3e6a": {
     "views": [
      {
       "cell_index": 34
      }
     ]
    },
    "91c647a3de4c4e0884eb21497fa3e8d3": {
     "views": [
      {
       "cell_index": 34
      }
     ]
    },
    "92142e1f009649b9a4dbf343c7bb13a5": {
     "views": [
      {
       "cell_index": 36
      }
     ]
    },
    "952661a08e6445d198a6cedb82b3c8af": {
     "views": [
      {
       "cell_index": 36
      }
     ]
    },
    "954e7fd7395d4022be90cebfb002562d": {
     "views": [
      {
       "cell_index": 36
      }
     ]
    },
    "95b4f5f5473c4cf281f9e5ddec2d468a": {
     "views": [
      {
       "cell_index": 34
      }
     ]
    },
    "96b66aaf6c3b497cb12aaa2a4cfffa3a": {
     "views": [
      {
       "cell_index": 34
      }
     ]
    },
    "96e6c87401374536bff10c5251c27b3b": {
     "views": [
      {
       "cell_index": 36
      }
     ]
    },
    "9707f236a7ad462fad2cf2ace3ce1bf3": {
     "views": [
      {
       "cell_index": 34
      }
     ]
    },
    "973026b104f941e8b75a72e223c3c248": {
     "views": [
      {
       "cell_index": 23
      }
     ]
    },
    "98dbddd994234006bfb4849f5ef30bce": {
     "views": [
      {
       "cell_index": 34
      }
     ]
    },
    "9950bba531c44528a7e0f32b15f686c2": {
     "views": [
      {
       "cell_index": 34
      }
     ]
    },
    "995bcd84170d4f32bc0db380325e38e7": {
     "views": [
      {
       "cell_index": 29
      }
     ]
    },
    "99a68f4c9cb845bb9eccb8120770b7bd": {
     "views": [
      {
       "cell_index": 34
      }
     ]
    },
    "9b6a301ef6cf47d0b7975bad73ad9b2e": {
     "views": [
      {
       "cell_index": 29
      }
     ]
    },
    "9d2d126073f24b79966b7c422baeb2e7": {
     "views": [
      {
       "cell_index": 34
      }
     ]
    },
    "9d3dbd5171034fe4b4d690218fd6a37c": {
     "views": [
      {
       "cell_index": 36
      }
     ]
    },
    "9e6abf03dfd94ac7bb465ebcc554e021": {
     "views": [
      {
       "cell_index": 23
      }
     ]
    },
    "9fa432b890194a6e897e69f78d12fb2b": {
     "views": [
      {
       "cell_index": 36
      }
     ]
    },
    "a0a0f1eb7b43433a92dce8da71167fdb": {
     "views": [
      {
       "cell_index": 36
      }
     ]
    },
    "a3840e1997ec466fabc24bba2150042b": {
     "views": [
      {
       "cell_index": 34
      }
     ]
    },
    "a501420ccad44b57a9ef9599861c9c0d": {
     "views": [
      {
       "cell_index": 34
      }
     ]
    },
    "a5b796ad7150448da4731dbe32d2661c": {
     "views": [
      {
       "cell_index": 36
      }
     ]
    },
    "a5f9d3a7f34f4422871e6555f732fd6b": {
     "views": [
      {
       "cell_index": 34
      }
     ]
    },
    "a751ed985780424697398ec0924addeb": {
     "views": [
      {
       "cell_index": 29
      }
     ]
    },
    "a787a9dc70c24b9badd0e55ab47ce06f": {
     "views": [
      {
       "cell_index": 36
      }
     ]
    },
    "a7e8f1962030477287ff1f8c5f24dd0b": {
     "views": [
      {
       "cell_index": 36
      }
     ]
    },
    "a9a2e084816a4f6f918e91ac1e53adfa": {
     "views": [
      {
       "cell_index": 34
      }
     ]
    },
    "ab3547c7827548d4a8e13a06cb07171f": {
     "views": [
      {
       "cell_index": 29
      }
     ]
    },
    "abc56cb46e9f4988acd16779eed5e949": {
     "views": [
      {
       "cell_index": 36
      }
     ]
    },
    "ac30f919be304be988eb24017a57ce82": {
     "views": [
      {
       "cell_index": 23
      }
     ]
    },
    "ac57228dd53d4e329a8e8aa1dc33165f": {
     "views": [
      {
       "cell_index": 29
      }
     ]
    },
    "acf4ed5ce6704fd9ad7ce4a8c518c629": {
     "views": [
      {
       "cell_index": 21
      }
     ]
    },
    "ae22d974282343bc9299a80870333357": {
     "views": [
      {
       "cell_index": 36
      }
     ]
    },
    "ae42595c003b4daa816f5a2eeb344c7d": {
     "views": [
      {
       "cell_index": 23
      }
     ]
    },
    "ae5e327fa7fc468988cb3d8e07ca80c8": {
     "views": [
      {
       "cell_index": 31
      }
     ]
    },
    "ae8bcfc7f0ae4cfab71a259cefcc5d94": {
     "views": [
      {
       "cell_index": 36
      }
     ]
    },
    "af21f88730d8471b8d71934217f5c10e": {
     "views": [
      {
       "cell_index": 29
      }
     ]
    },
    "af9d17b37dd946faad73be976041f1f4": {
     "views": [
      {
       "cell_index": 29
      }
     ]
    },
    "b00e6c79172c4574b94e070785b191af": {
     "views": [
      {
       "cell_index": 36
      }
     ]
    },
    "b0acbeb3cd244893a035699484d9a6af": {
     "views": [
      {
       "cell_index": 36
      }
     ]
    },
    "b18f9debbc4141bbb7bfede85083a4ed": {
     "views": [
      {
       "cell_index": 23
      }
     ]
    },
    "b5191f4e579e4add9953c178915c0463": {
     "views": [
      {
       "cell_index": 30
      }
     ]
    },
    "b5cae34054a4480e8ddf623fffac0f0e": {
     "views": [
      {
       "cell_index": 34
      }
     ]
    },
    "b5eec588ad1c46d3883aaaabc7383743": {
     "views": [
      {
       "cell_index": 18
      }
     ]
    },
    "b6c71aa2c0b140ad851f133ab4b27c99": {
     "views": [
      {
       "cell_index": 34
      }
     ]
    },
    "b6feb193bb834f6b85e0b896baeaad3b": {
     "views": [
      {
       "cell_index": 23
      }
     ]
    },
    "b7ba2fb3eb6240d5b6d73a90106be50e": {
     "views": [
      {
       "cell_index": 36
      }
     ]
    },
    "b85e8a0bae644a628bd4faae5ec77039": {
     "views": [
      {
       "cell_index": 23
      }
     ]
    },
    "b880e08467cb4359ab47fc1ee8045219": {
     "views": [
      {
       "cell_index": 29
      }
     ]
    },
    "b9ca4c582b5145999c6bc6166da172d3": {
     "views": [
      {
       "cell_index": 34
      }
     ]
    },
    "b9ea745a9e564ec191084cc8683e9cd3": {
     "views": [
      {
       "cell_index": 34
      }
     ]
    },
    "ba11e136e6584b34aca4b55a9a98a96b": {
     "views": [
      {
       "cell_index": 23
      }
     ]
    },
    "bc92b58b24094a9489c0d23a94520696": {
     "views": [
      {
       "cell_index": 36
      }
     ]
    },
    "bd026f6e72b24ae4a2b4dcdee965a9a7": {
     "views": [
      {
       "cell_index": 36
      }
     ]
    },
    "bd9963e4e6d5435fb7360ac8b2769705": {
     "views": [
      {
       "cell_index": 29
      }
     ]
    },
    "bdadc1c81ed34eada3892a8d6f9119e3": {
     "views": [
      {
       "cell_index": 36
      }
     ]
    },
    "bddc88b20ca14afe9abeab99fb939f79": {
     "views": [
      {
       "cell_index": 21
      }
     ]
    },
    "be08390e34b6423c86d99d891a130454": {
     "views": [
      {
       "cell_index": 21
      }
     ]
    },
    "be87f155bca844dcaeefda2b37e497c7": {
     "views": [
      {
       "cell_index": 34
      }
     ]
    },
    "bf42cce243c14132b84b70409a58ee94": {
     "views": [
      {
       "cell_index": 29
      }
     ]
    },
    "c0b26a7ad35a413792c306d44113dd9f": {
     "views": [
      {
       "cell_index": 29
      }
     ]
    },
    "c26708004413424ea96bd19e2d055151": {
     "views": [
      {
       "cell_index": 23
      }
     ]
    },
    "c273158071f24caab13568cbdddcd268": {
     "views": [
      {
       "cell_index": 23
      }
     ]
    },
    "c32fd874143b4a2a856f9cf2cac7043e": {
     "views": [
      {
       "cell_index": 31
      }
     ]
    },
    "c34a6757814c48c58403c2eba79a571d": {
     "views": [
      {
       "cell_index": 34
      }
     ]
    },
    "c46096641de44e3aa207a6b7dde0087a": {
     "views": [
      {
       "cell_index": 23
      }
     ]
    },
    "c4854fb081b94e75b02cdf66c1cebd8e": {
     "views": [
      {
       "cell_index": 36
      }
     ]
    },
    "c4947a48e6ba4289b352e5085bc24ac7": {
     "views": [
      {
       "cell_index": 31
      }
     ]
    },
    "c553e84bddb8405ba0b1f202d7e42914": {
     "views": [
      {
       "cell_index": 31
      }
     ]
    },
    "c655049c0eb64545892a3b52d8f39817": {
     "views": [
      {
       "cell_index": 36
      }
     ]
    },
    "c662f790f3d64a2d82a4fd5ecd99b777": {
     "views": [
      {
       "cell_index": 29
      }
     ]
    },
    "c6818d3427874110b1d68162a65f68ca": {
     "views": [
      {
       "cell_index": 29
      }
     ]
    },
    "c684fb60dee94497ac90e3a3303c31ba": {
     "views": [
      {
       "cell_index": 34
      }
     ]
    },
    "c7b5b16370d649d7aa52ea023361975f": {
     "views": [
      {
       "cell_index": 29
      }
     ]
    },
    "c85db7f3f1914248b264ade31a1ff214": {
     "views": [
      {
       "cell_index": 36
      }
     ]
    },
    "c871f69a7c37469caa0f700473f4a533": {
     "views": [
      {
       "cell_index": 23
      }
     ]
    },
    "c9112c11f8ae42f9ac44acd966d251a2": {
     "views": [
      {
       "cell_index": 34
      }
     ]
    },
    "cb0f7c552e32483e9746057b826e9d90": {
     "views": [
      {
       "cell_index": 31
      }
     ]
    },
    "cb40f6d2de8d452ea6f6f40e984548b8": {
     "views": [
      {
       "cell_index": 36
      }
     ]
    },
    "cb593aee92b241d2ba3a7dbae72aeb96": {
     "views": [
      {
       "cell_index": 29
      }
     ]
    },
    "cb93f6b6c1004c64b19c0d1e1a751560": {
     "views": [
      {
       "cell_index": 36
      }
     ]
    },
    "cd5f8afe165e4aa9a72d70af8b9c5c23": {
     "views": [
      {
       "cell_index": 36
      }
     ]
    },
    "cd651f2ccad042fbafeba015b76a3d66": {
     "views": [
      {
       "cell_index": 36
      }
     ]
    },
    "cddbbd4749474e9b8a5aacb4526d39b9": {
     "views": [
      {
       "cell_index": 23
      }
     ]
    },
    "cdeb781c32a94fd48f54b6946c8a084e": {
     "views": [
      {
       "cell_index": 36
      }
     ]
    },
    "ce9ed490b5884cd69ac33f3d14438860": {
     "views": [
      {
       "cell_index": 36
      }
     ]
    },
    "ced4dd7409c948df8ac0f2c1b876e6e0": {
     "views": [
      {
       "cell_index": 21
      }
     ]
    },
    "cfee257afe424ecbb7f82a7036819af9": {
     "views": [
      {
       "cell_index": 21
      }
     ]
    },
    "d03b1831e9e941f4b18bfbd33c287a5e": {
     "views": [
      {
       "cell_index": 31
      }
     ]
    },
    "d1eaa2212b0f44f29b06c7aca4f5ae4b": {
     "views": [
      {
       "cell_index": 29
      }
     ]
    },
    "d26857539d86468d9b787b52aed38fbe": {
     "views": [
      {
       "cell_index": 36
      }
     ]
    },
    "d2e38e75b2444b839546e394c258321d": {
     "views": [
      {
       "cell_index": 36
      }
     ]
    },
    "d3546cdba9064130bb54930f8a10cd74": {
     "views": [
      {
       "cell_index": 34
      }
     ]
    },
    "d43242723e9a41c7920fadd0c5dee0ee": {
     "views": [
      {
       "cell_index": 21
      }
     ]
    },
    "d45d5443be1e4df99522eaa19a223038": {
     "views": [
      {
       "cell_index": 34
      }
     ]
    },
    "d4bf23da9a424a3db1e846c7fda47019": {
     "views": [
      {
       "cell_index": 21
      }
     ]
    },
    "d5401bc4e32340e5b1e2e3e6af8b2fd4": {
     "views": [
      {
       "cell_index": 23
      }
     ]
    },
    "d5ca0e8267704c998386ba13ded48afe": {
     "views": [
      {
       "cell_index": 36
      }
     ]
    },
    "d61582afeca54ad489549d1aa0defec6": {
     "views": [
      {
       "cell_index": 36
      }
     ]
    },
    "d6b9bc0cbe6349d3a9e39f6625a6a425": {
     "views": [
      {
       "cell_index": 36
      }
     ]
    },
    "d70f154bc02148ae80d72060cddbaec9": {
     "views": [
      {
       "cell_index": 36
      }
     ]
    },
    "d8aaa46daffb48619d081bc38699d934": {
     "views": [
      {
       "cell_index": 34
      }
     ]
    },
    "d938f9b30f7741938cefc754ac8d81b9": {
     "views": [
      {
       "cell_index": 36
      }
     ]
    },
    "d9aeb336cf3344b69575744cbfa5ba05": {
     "views": [
      {
       "cell_index": 34
      }
     ]
    },
    "da3f34611cca4c7e85ab1d586fb43154": {
     "views": [
      {
       "cell_index": 23
      }
     ]
    },
    "da5c8091121c4b01b1d0411be0dc91d6": {
     "views": [
      {
       "cell_index": 36
      }
     ]
    },
    "db42c48860fb4db4956a73058a769501": {
     "views": [
      {
       "cell_index": 34
      }
     ]
    },
    "dc2f0d3ecb094b4dbef9fa88a2920bb0": {
     "views": [
      {
       "cell_index": 34
      }
     ]
    },
    "dc6794b7e6524b86aa5fd8d063e1009e": {
     "views": [
      {
       "cell_index": 23
      }
     ]
    },
    "dd0426f37c6e421db470bbc8f288ac3d": {
     "views": [
      {
       "cell_index": 34
      }
     ]
    },
    "dd2fd9ef01374d65bb2ed17205af06cc": {
     "views": [
      {
       "cell_index": 29
      }
     ]
    },
    "de1a70de4f284fada6d67b5b5f2faa41": {
     "views": [
      {
       "cell_index": 29
      }
     ]
    },
    "dee42e275ae74e9483f3af3a8a2398d4": {
     "views": [
      {
       "cell_index": 34
      }
     ]
    },
    "e00e075bb4fb4c05b8c3223f7305e0a9": {
     "views": [
      {
       "cell_index": 29
      }
     ]
    },
    "e0bc609d575245e69c13415b2eb7805d": {
     "views": [
      {
       "cell_index": 30
      }
     ]
    },
    "e121d88349044dd6ad08a9845c296d2f": {
     "views": [
      {
       "cell_index": 29
      }
     ]
    },
    "e2f41015db6648658061cd7f6d154ea3": {
     "views": [
      {
       "cell_index": 21
      }
     ]
    },
    "e35f4b22b8494781b43dde1d42cf71b1": {
     "views": [
      {
       "cell_index": 36
      }
     ]
    },
    "e47c39c4d27e40d8941c731854a494f6": {
     "views": [
      {
       "cell_index": 34
      }
     ]
    },
    "e4d85e3b41534c7b976e4c24d1a1dc43": {
     "views": [
      {
       "cell_index": 29
      }
     ]
    },
    "e4f892dc60e54e51804662a59eb75b7c": {
     "views": [
      {
       "cell_index": 29
      }
     ]
    },
    "e6c4a21d7a4c4ac1b30a15fc314d0ae0": {
     "views": [
      {
       "cell_index": 30
      }
     ]
    },
    "e71f485977354fbf8c5b4a7d9028f941": {
     "views": [
      {
       "cell_index": 36
      }
     ]
    },
    "e7571a50639342d296b1c5cc2dfc64cb": {
     "views": [
      {
       "cell_index": 34
      }
     ]
    },
    "e7d879de07f746a7aec1a87e53c863f1": {
     "views": [
      {
       "cell_index": 36
      }
     ]
    },
    "e7f24699b4cd455d8001dee7b7eb5ac9": {
     "views": [
      {
       "cell_index": 36
      }
     ]
    },
    "ebbb9f6051d2441092f2dca74bab64c8": {
     "views": [
      {
       "cell_index": 29
      }
     ]
    },
    "ebf1414e90304b80bbe5094ca54ec6b9": {
     "views": [
      {
       "cell_index": 34
      }
     ]
    },
    "ebf7ee1c6be04e93b9c8f58e95a16893": {
     "views": [
      {
       "cell_index": 36
      }
     ]
    },
    "ecefbbc11cb64c31ad9803582e21405d": {
     "views": [
      {
       "cell_index": 36
      }
     ]
    },
    "eda4306a831042f6b854be85042595e1": {
     "views": [
      {
       "cell_index": 36
      }
     ]
    },
    "ee8c3e8554f742528a19c6d319cd1878": {
     "views": [
      {
       "cell_index": 36
      }
     ]
    },
    "eec2818454264e6da0377f44ba9fc128": {
     "views": [
      {
       "cell_index": 36
      }
     ]
    },
    "ef903410231f4abd9e36786d6b3faff2": {
     "views": [
      {
       "cell_index": 18
      }
     ]
    },
    "f0626c54e99a4631be34fcaeaeba7669": {
     "views": [
      {
       "cell_index": 34
      }
     ]
    },
    "f105063415d54270a7c2083fd26dfc85": {
     "views": [
      {
       "cell_index": 34
      }
     ]
    },
    "f22d5220617f4369ac35c46648e4bd71": {
     "views": [
      {
       "cell_index": 36
      }
     ]
    },
    "f388af71d0a24213b693aec9b67164a8": {
     "views": [
      {
       "cell_index": 36
      }
     ]
    },
    "f6e2097c07544dc991f1d151d33b467a": {
     "views": [
      {
       "cell_index": 23
      }
     ]
    },
    "f7f110c9babf4d03bf7c2be1deab1ce0": {
     "views": [
      {
       "cell_index": 36
      }
     ]
    },
    "f8ab311ec0644df1bd4e6080ca1939ca": {
     "views": [
      {
       "cell_index": 36
      }
     ]
    },
    "f9a6a4d9e1c44cdf89f43b251be78033": {
     "views": [
      {
       "cell_index": 29
      }
     ]
    },
    "fa822c4b4b0c4f06b4de18a535e4e4eb": {
     "views": [
      {
       "cell_index": 36
      }
     ]
    },
    "fbed553405ad427191fb481b4197e53c": {
     "views": [
      {
       "cell_index": 36
      }
     ]
    },
    "fc4532d35d804be4acc002974e44d184": {
     "views": [
      {
       "cell_index": 23
      }
     ]
    },
    "fc654444c8bf4f618c948f50b2bb5213": {
     "views": [
      {
       "cell_index": 29
      }
     ]
    },
    "fcb4e1eb801e4acd9d108f1320295cac": {
     "views": [
      {
       "cell_index": 29
      }
     ]
    },
    "fea8f64cc0ca4d74b87e6c100e908763": {
     "views": [
      {
       "cell_index": 36
      }
     ]
    },
    "ff86d68644564f0db7e22d70f42528b9": {
     "views": [
      {
       "cell_index": 31
      }
     ]
    },
    "ffe3df67f25c49b896e0f4f16e4d17de": {
     "views": [
      {
       "cell_index": 36
      }
     ]
    }
   },
   "version": "1.2.0"
  }
 },
 "nbformat": 4,
 "nbformat_minor": 2
}
