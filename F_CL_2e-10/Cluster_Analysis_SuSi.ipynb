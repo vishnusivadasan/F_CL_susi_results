{
 "cells": [
  {
   "cell_type": "code",
   "execution_count": 1,
   "metadata": {
    "collapsed": false
   },
   "outputs": [
    {
     "data": {
      "text/html": [
       "<script>\n",
       "code_show=false; \n",
       "function code_toggle() {\n",
       " if (code_show){\n",
       " $('div.input').show();\n",
       " } else {\n",
       " $('div.input').hide();\n",
       " }\n",
       " code_show = !code_show\n",
       "} \n",
       "$( document ).ready(code_toggle);\n",
       "</script>\n",
       "The raw code for this IPython notebook is by default hidden for easier reading.\n",
       "To toggle on/off the raw code, click <a href=\"javascript:code_toggle()\">here</a>."
      ],
      "text/plain": [
       "<IPython.core.display.HTML object>"
      ]
     },
     "execution_count": 1,
     "metadata": {},
     "output_type": "execute_result"
    }
   ],
   "source": [
    "from IPython.display import HTML\n",
    "\n",
    "HTML('''<script>\n",
    "code_show=false; \n",
    "function code_toggle() {\n",
    " if (code_show){\n",
    " $('div.input').show();\n",
    " } else {\n",
    " $('div.input').hide();\n",
    " }\n",
    " code_show = !code_show\n",
    "} \n",
    "$( document ).ready(code_toggle);\n",
    "</script>\n",
    "The raw code for this IPython notebook is by default hidden for easier reading.\n",
    "To toggle on/off the raw code, click <a href=\"javascript:code_toggle()\">here</a>.''')"
   ]
  },
  {
   "cell_type": "code",
   "execution_count": 2,
   "metadata": {
    "collapsed": false
   },
   "outputs": [
    {
     "name": "stderr",
     "output_type": "stream",
     "text": [
      "/home/vsivadas/.local/lib/python2.7/site-packages/IPython/html.py:14: ShimWarning: The `IPython.html` package has been deprecated. You should import from `notebook` instead. `IPython.html.widgets` has moved to `ipywidgets`.\n",
      "  \"`IPython.html.widgets` has moved to `ipywidgets`.\", ShimWarning)\n"
     ]
    }
   ],
   "source": [
    "import os\n",
    "import sys\n",
    "import numpy as np\n",
    "import pandas as pd\n",
    "import subprocess\n",
    "import matplotlib as mpl\n",
    "mpl.use('Agg')\n",
    "import matplotlib.pyplot as plt\n",
    "from matplotlib.legend_handler import HandlerLine2D\n",
    "import itertools\n",
    "from susipop import filter\n",
    "from susipop import reader\n",
    "from IPython.html.widgets import FloatProgress\n",
    "from IPython.display import display\n",
    "from ipywidgets import interactive\n",
    "import ipywidgets as widgets\n",
    "%matplotlib notebook\n",
    "\n",
    "import plotly\n",
    "import susipop as sp\n",
    "\n",
    "from multiprocessing import Pool"
   ]
  },
  {
   "cell_type": "code",
   "execution_count": 3,
   "metadata": {
    "collapsed": true
   },
   "outputs": [],
   "source": [
    "def get_folder_list():\n",
    "    f = next(os.walk('.'))[1]\n",
    "    return f"
   ]
  },
  {
   "cell_type": "markdown",
   "metadata": {},
   "source": [
    "# Cluster Analysis in SuSi\n",
    "\n",
    "There are some important functions in susi for cluster analysis. "
   ]
  },
  {
   "cell_type": "raw",
   "metadata": {
    "collapsed": true
   },
   "source": [
    "# sim_chars.keys()"
   ]
  },
  {
   "cell_type": "markdown",
   "metadata": {},
   "source": [
    "## Radial Distribution function "
   ]
  },
  {
   "cell_type": "code",
   "execution_count": 4,
   "metadata": {
    "collapsed": false
   },
   "outputs": [
    {
     "data": {
      "application/javascript": [
       "/* Put everything inside the global mpl namespace */\n",
       "window.mpl = {};\n",
       "\n",
       "mpl.get_websocket_type = function() {\n",
       "    if (typeof(WebSocket) !== 'undefined') {\n",
       "        return WebSocket;\n",
       "    } else if (typeof(MozWebSocket) !== 'undefined') {\n",
       "        return MozWebSocket;\n",
       "    } else {\n",
       "        alert('Your browser does not have WebSocket support.' +\n",
       "              'Please try Chrome, Safari or Firefox ≥ 6. ' +\n",
       "              'Firefox 4 and 5 are also supported but you ' +\n",
       "              'have to enable WebSockets in about:config.');\n",
       "    };\n",
       "}\n",
       "\n",
       "mpl.figure = function(figure_id, websocket, ondownload, parent_element) {\n",
       "    this.id = figure_id;\n",
       "\n",
       "    this.ws = websocket;\n",
       "\n",
       "    this.supports_binary = (this.ws.binaryType != undefined);\n",
       "\n",
       "    if (!this.supports_binary) {\n",
       "        var warnings = document.getElementById(\"mpl-warnings\");\n",
       "        if (warnings) {\n",
       "            warnings.style.display = 'block';\n",
       "            warnings.textContent = (\n",
       "                \"This browser does not support binary websocket messages. \" +\n",
       "                    \"Performance may be slow.\");\n",
       "        }\n",
       "    }\n",
       "\n",
       "    this.imageObj = new Image();\n",
       "\n",
       "    this.context = undefined;\n",
       "    this.message = undefined;\n",
       "    this.canvas = undefined;\n",
       "    this.rubberband_canvas = undefined;\n",
       "    this.rubberband_context = undefined;\n",
       "    this.format_dropdown = undefined;\n",
       "\n",
       "    this.image_mode = 'full';\n",
       "\n",
       "    this.root = $('<div/>');\n",
       "    this._root_extra_style(this.root)\n",
       "    this.root.attr('style', 'display: inline-block');\n",
       "\n",
       "    $(parent_element).append(this.root);\n",
       "\n",
       "    this._init_header(this);\n",
       "    this._init_canvas(this);\n",
       "    this._init_toolbar(this);\n",
       "\n",
       "    var fig = this;\n",
       "\n",
       "    this.waiting = false;\n",
       "\n",
       "    this.ws.onopen =  function () {\n",
       "            fig.send_message(\"supports_binary\", {value: fig.supports_binary});\n",
       "            fig.send_message(\"send_image_mode\", {});\n",
       "            fig.send_message(\"refresh\", {});\n",
       "        }\n",
       "\n",
       "    this.imageObj.onload = function() {\n",
       "            if (fig.image_mode == 'full') {\n",
       "                // Full images could contain transparency (where diff images\n",
       "                // almost always do), so we need to clear the canvas so that\n",
       "                // there is no ghosting.\n",
       "                fig.context.clearRect(0, 0, fig.canvas.width, fig.canvas.height);\n",
       "            }\n",
       "            fig.context.drawImage(fig.imageObj, 0, 0);\n",
       "        };\n",
       "\n",
       "    this.imageObj.onunload = function() {\n",
       "        this.ws.close();\n",
       "    }\n",
       "\n",
       "    this.ws.onmessage = this._make_on_message_function(this);\n",
       "\n",
       "    this.ondownload = ondownload;\n",
       "}\n",
       "\n",
       "mpl.figure.prototype._init_header = function() {\n",
       "    var titlebar = $(\n",
       "        '<div class=\"ui-dialog-titlebar ui-widget-header ui-corner-all ' +\n",
       "        'ui-helper-clearfix\"/>');\n",
       "    var titletext = $(\n",
       "        '<div class=\"ui-dialog-title\" style=\"width: 100%; ' +\n",
       "        'text-align: center; padding: 3px;\"/>');\n",
       "    titlebar.append(titletext)\n",
       "    this.root.append(titlebar);\n",
       "    this.header = titletext[0];\n",
       "}\n",
       "\n",
       "\n",
       "\n",
       "mpl.figure.prototype._canvas_extra_style = function(canvas_div) {\n",
       "\n",
       "}\n",
       "\n",
       "\n",
       "mpl.figure.prototype._root_extra_style = function(canvas_div) {\n",
       "\n",
       "}\n",
       "\n",
       "mpl.figure.prototype._init_canvas = function() {\n",
       "    var fig = this;\n",
       "\n",
       "    var canvas_div = $('<div/>');\n",
       "\n",
       "    canvas_div.attr('style', 'position: relative; clear: both; outline: 0');\n",
       "\n",
       "    function canvas_keyboard_event(event) {\n",
       "        return fig.key_event(event, event['data']);\n",
       "    }\n",
       "\n",
       "    canvas_div.keydown('key_press', canvas_keyboard_event);\n",
       "    canvas_div.keyup('key_release', canvas_keyboard_event);\n",
       "    this.canvas_div = canvas_div\n",
       "    this._canvas_extra_style(canvas_div)\n",
       "    this.root.append(canvas_div);\n",
       "\n",
       "    var canvas = $('<canvas/>');\n",
       "    canvas.addClass('mpl-canvas');\n",
       "    canvas.attr('style', \"left: 0; top: 0; z-index: 0; outline: 0\")\n",
       "\n",
       "    this.canvas = canvas[0];\n",
       "    this.context = canvas[0].getContext(\"2d\");\n",
       "\n",
       "    var rubberband = $('<canvas/>');\n",
       "    rubberband.attr('style', \"position: absolute; left: 0; top: 0; z-index: 1;\")\n",
       "\n",
       "    var pass_mouse_events = true;\n",
       "\n",
       "    canvas_div.resizable({\n",
       "        start: function(event, ui) {\n",
       "            pass_mouse_events = false;\n",
       "        },\n",
       "        resize: function(event, ui) {\n",
       "            fig.request_resize(ui.size.width, ui.size.height);\n",
       "        },\n",
       "        stop: function(event, ui) {\n",
       "            pass_mouse_events = true;\n",
       "            fig.request_resize(ui.size.width, ui.size.height);\n",
       "        },\n",
       "    });\n",
       "\n",
       "    function mouse_event_fn(event) {\n",
       "        if (pass_mouse_events)\n",
       "            return fig.mouse_event(event, event['data']);\n",
       "    }\n",
       "\n",
       "    rubberband.mousedown('button_press', mouse_event_fn);\n",
       "    rubberband.mouseup('button_release', mouse_event_fn);\n",
       "    // Throttle sequential mouse events to 1 every 20ms.\n",
       "    rubberband.mousemove('motion_notify', mouse_event_fn);\n",
       "\n",
       "    rubberband.mouseenter('figure_enter', mouse_event_fn);\n",
       "    rubberband.mouseleave('figure_leave', mouse_event_fn);\n",
       "\n",
       "    canvas_div.on(\"wheel\", function (event) {\n",
       "        event = event.originalEvent;\n",
       "        event['data'] = 'scroll'\n",
       "        if (event.deltaY < 0) {\n",
       "            event.step = 1;\n",
       "        } else {\n",
       "            event.step = -1;\n",
       "        }\n",
       "        mouse_event_fn(event);\n",
       "    });\n",
       "\n",
       "    canvas_div.append(canvas);\n",
       "    canvas_div.append(rubberband);\n",
       "\n",
       "    this.rubberband = rubberband;\n",
       "    this.rubberband_canvas = rubberband[0];\n",
       "    this.rubberband_context = rubberband[0].getContext(\"2d\");\n",
       "    this.rubberband_context.strokeStyle = \"#000000\";\n",
       "\n",
       "    this._resize_canvas = function(width, height) {\n",
       "        // Keep the size of the canvas, canvas container, and rubber band\n",
       "        // canvas in synch.\n",
       "        canvas_div.css('width', width)\n",
       "        canvas_div.css('height', height)\n",
       "\n",
       "        canvas.attr('width', width);\n",
       "        canvas.attr('height', height);\n",
       "\n",
       "        rubberband.attr('width', width);\n",
       "        rubberband.attr('height', height);\n",
       "    }\n",
       "\n",
       "    // Set the figure to an initial 600x600px, this will subsequently be updated\n",
       "    // upon first draw.\n",
       "    this._resize_canvas(600, 600);\n",
       "\n",
       "    // Disable right mouse context menu.\n",
       "    $(this.rubberband_canvas).bind(\"contextmenu\",function(e){\n",
       "        return false;\n",
       "    });\n",
       "\n",
       "    function set_focus () {\n",
       "        canvas.focus();\n",
       "        canvas_div.focus();\n",
       "    }\n",
       "\n",
       "    window.setTimeout(set_focus, 100);\n",
       "}\n",
       "\n",
       "mpl.figure.prototype._init_toolbar = function() {\n",
       "    var fig = this;\n",
       "\n",
       "    var nav_element = $('<div/>')\n",
       "    nav_element.attr('style', 'width: 100%');\n",
       "    this.root.append(nav_element);\n",
       "\n",
       "    // Define a callback function for later on.\n",
       "    function toolbar_event(event) {\n",
       "        return fig.toolbar_button_onclick(event['data']);\n",
       "    }\n",
       "    function toolbar_mouse_event(event) {\n",
       "        return fig.toolbar_button_onmouseover(event['data']);\n",
       "    }\n",
       "\n",
       "    for(var toolbar_ind in mpl.toolbar_items) {\n",
       "        var name = mpl.toolbar_items[toolbar_ind][0];\n",
       "        var tooltip = mpl.toolbar_items[toolbar_ind][1];\n",
       "        var image = mpl.toolbar_items[toolbar_ind][2];\n",
       "        var method_name = mpl.toolbar_items[toolbar_ind][3];\n",
       "\n",
       "        if (!name) {\n",
       "            // put a spacer in here.\n",
       "            continue;\n",
       "        }\n",
       "        var button = $('<button/>');\n",
       "        button.addClass('ui-button ui-widget ui-state-default ui-corner-all ' +\n",
       "                        'ui-button-icon-only');\n",
       "        button.attr('role', 'button');\n",
       "        button.attr('aria-disabled', 'false');\n",
       "        button.click(method_name, toolbar_event);\n",
       "        button.mouseover(tooltip, toolbar_mouse_event);\n",
       "\n",
       "        var icon_img = $('<span/>');\n",
       "        icon_img.addClass('ui-button-icon-primary ui-icon');\n",
       "        icon_img.addClass(image);\n",
       "        icon_img.addClass('ui-corner-all');\n",
       "\n",
       "        var tooltip_span = $('<span/>');\n",
       "        tooltip_span.addClass('ui-button-text');\n",
       "        tooltip_span.html(tooltip);\n",
       "\n",
       "        button.append(icon_img);\n",
       "        button.append(tooltip_span);\n",
       "\n",
       "        nav_element.append(button);\n",
       "    }\n",
       "\n",
       "    var fmt_picker_span = $('<span/>');\n",
       "\n",
       "    var fmt_picker = $('<select/>');\n",
       "    fmt_picker.addClass('mpl-toolbar-option ui-widget ui-widget-content');\n",
       "    fmt_picker_span.append(fmt_picker);\n",
       "    nav_element.append(fmt_picker_span);\n",
       "    this.format_dropdown = fmt_picker[0];\n",
       "\n",
       "    for (var ind in mpl.extensions) {\n",
       "        var fmt = mpl.extensions[ind];\n",
       "        var option = $(\n",
       "            '<option/>', {selected: fmt === mpl.default_extension}).html(fmt);\n",
       "        fmt_picker.append(option)\n",
       "    }\n",
       "\n",
       "    // Add hover states to the ui-buttons\n",
       "    $( \".ui-button\" ).hover(\n",
       "        function() { $(this).addClass(\"ui-state-hover\");},\n",
       "        function() { $(this).removeClass(\"ui-state-hover\");}\n",
       "    );\n",
       "\n",
       "    var status_bar = $('<span class=\"mpl-message\"/>');\n",
       "    nav_element.append(status_bar);\n",
       "    this.message = status_bar[0];\n",
       "}\n",
       "\n",
       "mpl.figure.prototype.request_resize = function(x_pixels, y_pixels) {\n",
       "    // Request matplotlib to resize the figure. Matplotlib will then trigger a resize in the client,\n",
       "    // which will in turn request a refresh of the image.\n",
       "    this.send_message('resize', {'width': x_pixels, 'height': y_pixels});\n",
       "}\n",
       "\n",
       "mpl.figure.prototype.send_message = function(type, properties) {\n",
       "    properties['type'] = type;\n",
       "    properties['figure_id'] = this.id;\n",
       "    this.ws.send(JSON.stringify(properties));\n",
       "}\n",
       "\n",
       "mpl.figure.prototype.send_draw_message = function() {\n",
       "    if (!this.waiting) {\n",
       "        this.waiting = true;\n",
       "        this.ws.send(JSON.stringify({type: \"draw\", figure_id: this.id}));\n",
       "    }\n",
       "}\n",
       "\n",
       "\n",
       "mpl.figure.prototype.handle_save = function(fig, msg) {\n",
       "    var format_dropdown = fig.format_dropdown;\n",
       "    var format = format_dropdown.options[format_dropdown.selectedIndex].value;\n",
       "    fig.ondownload(fig, format);\n",
       "}\n",
       "\n",
       "\n",
       "mpl.figure.prototype.handle_resize = function(fig, msg) {\n",
       "    var size = msg['size'];\n",
       "    if (size[0] != fig.canvas.width || size[1] != fig.canvas.height) {\n",
       "        fig._resize_canvas(size[0], size[1]);\n",
       "        fig.send_message(\"refresh\", {});\n",
       "    };\n",
       "}\n",
       "\n",
       "mpl.figure.prototype.handle_rubberband = function(fig, msg) {\n",
       "    var x0 = msg['x0'];\n",
       "    var y0 = fig.canvas.height - msg['y0'];\n",
       "    var x1 = msg['x1'];\n",
       "    var y1 = fig.canvas.height - msg['y1'];\n",
       "    x0 = Math.floor(x0) + 0.5;\n",
       "    y0 = Math.floor(y0) + 0.5;\n",
       "    x1 = Math.floor(x1) + 0.5;\n",
       "    y1 = Math.floor(y1) + 0.5;\n",
       "    var min_x = Math.min(x0, x1);\n",
       "    var min_y = Math.min(y0, y1);\n",
       "    var width = Math.abs(x1 - x0);\n",
       "    var height = Math.abs(y1 - y0);\n",
       "\n",
       "    fig.rubberband_context.clearRect(\n",
       "        0, 0, fig.canvas.width, fig.canvas.height);\n",
       "\n",
       "    fig.rubberband_context.strokeRect(min_x, min_y, width, height);\n",
       "}\n",
       "\n",
       "mpl.figure.prototype.handle_figure_label = function(fig, msg) {\n",
       "    // Updates the figure title.\n",
       "    fig.header.textContent = msg['label'];\n",
       "}\n",
       "\n",
       "mpl.figure.prototype.handle_cursor = function(fig, msg) {\n",
       "    var cursor = msg['cursor'];\n",
       "    switch(cursor)\n",
       "    {\n",
       "    case 0:\n",
       "        cursor = 'pointer';\n",
       "        break;\n",
       "    case 1:\n",
       "        cursor = 'default';\n",
       "        break;\n",
       "    case 2:\n",
       "        cursor = 'crosshair';\n",
       "        break;\n",
       "    case 3:\n",
       "        cursor = 'move';\n",
       "        break;\n",
       "    }\n",
       "    fig.rubberband_canvas.style.cursor = cursor;\n",
       "}\n",
       "\n",
       "mpl.figure.prototype.handle_message = function(fig, msg) {\n",
       "    fig.message.textContent = msg['message'];\n",
       "}\n",
       "\n",
       "mpl.figure.prototype.handle_draw = function(fig, msg) {\n",
       "    // Request the server to send over a new figure.\n",
       "    fig.send_draw_message();\n",
       "}\n",
       "\n",
       "mpl.figure.prototype.handle_image_mode = function(fig, msg) {\n",
       "    fig.image_mode = msg['mode'];\n",
       "}\n",
       "\n",
       "mpl.figure.prototype.updated_canvas_event = function() {\n",
       "    // Called whenever the canvas gets updated.\n",
       "    this.send_message(\"ack\", {});\n",
       "}\n",
       "\n",
       "// A function to construct a web socket function for onmessage handling.\n",
       "// Called in the figure constructor.\n",
       "mpl.figure.prototype._make_on_message_function = function(fig) {\n",
       "    return function socket_on_message(evt) {\n",
       "        if (evt.data instanceof Blob) {\n",
       "            /* FIXME: We get \"Resource interpreted as Image but\n",
       "             * transferred with MIME type text/plain:\" errors on\n",
       "             * Chrome.  But how to set the MIME type?  It doesn't seem\n",
       "             * to be part of the websocket stream */\n",
       "            evt.data.type = \"image/png\";\n",
       "\n",
       "            /* Free the memory for the previous frames */\n",
       "            if (fig.imageObj.src) {\n",
       "                (window.URL || window.webkitURL).revokeObjectURL(\n",
       "                    fig.imageObj.src);\n",
       "            }\n",
       "\n",
       "            fig.imageObj.src = (window.URL || window.webkitURL).createObjectURL(\n",
       "                evt.data);\n",
       "            fig.updated_canvas_event();\n",
       "            fig.waiting = false;\n",
       "            return;\n",
       "        }\n",
       "        else if (typeof evt.data === 'string' && evt.data.slice(0, 21) == \"data:image/png;base64\") {\n",
       "            fig.imageObj.src = evt.data;\n",
       "            fig.updated_canvas_event();\n",
       "            fig.waiting = false;\n",
       "            return;\n",
       "        }\n",
       "\n",
       "        var msg = JSON.parse(evt.data);\n",
       "        var msg_type = msg['type'];\n",
       "\n",
       "        // Call the  \"handle_{type}\" callback, which takes\n",
       "        // the figure and JSON message as its only arguments.\n",
       "        try {\n",
       "            var callback = fig[\"handle_\" + msg_type];\n",
       "        } catch (e) {\n",
       "            console.log(\"No handler for the '\" + msg_type + \"' message type: \", msg);\n",
       "            return;\n",
       "        }\n",
       "\n",
       "        if (callback) {\n",
       "            try {\n",
       "                // console.log(\"Handling '\" + msg_type + \"' message: \", msg);\n",
       "                callback(fig, msg);\n",
       "            } catch (e) {\n",
       "                console.log(\"Exception inside the 'handler_\" + msg_type + \"' callback:\", e, e.stack, msg);\n",
       "            }\n",
       "        }\n",
       "    };\n",
       "}\n",
       "\n",
       "// from http://stackoverflow.com/questions/1114465/getting-mouse-location-in-canvas\n",
       "mpl.findpos = function(e) {\n",
       "    //this section is from http://www.quirksmode.org/js/events_properties.html\n",
       "    var targ;\n",
       "    if (!e)\n",
       "        e = window.event;\n",
       "    if (e.target)\n",
       "        targ = e.target;\n",
       "    else if (e.srcElement)\n",
       "        targ = e.srcElement;\n",
       "    if (targ.nodeType == 3) // defeat Safari bug\n",
       "        targ = targ.parentNode;\n",
       "\n",
       "    // jQuery normalizes the pageX and pageY\n",
       "    // pageX,Y are the mouse positions relative to the document\n",
       "    // offset() returns the position of the element relative to the document\n",
       "    var x = e.pageX - $(targ).offset().left;\n",
       "    var y = e.pageY - $(targ).offset().top;\n",
       "\n",
       "    return {\"x\": x, \"y\": y};\n",
       "};\n",
       "\n",
       "/*\n",
       " * return a copy of an object with only non-object keys\n",
       " * we need this to avoid circular references\n",
       " * http://stackoverflow.com/a/24161582/3208463\n",
       " */\n",
       "function simpleKeys (original) {\n",
       "  return Object.keys(original).reduce(function (obj, key) {\n",
       "    if (typeof original[key] !== 'object')\n",
       "        obj[key] = original[key]\n",
       "    return obj;\n",
       "  }, {});\n",
       "}\n",
       "\n",
       "mpl.figure.prototype.mouse_event = function(event, name) {\n",
       "    var canvas_pos = mpl.findpos(event)\n",
       "\n",
       "    if (name === 'button_press')\n",
       "    {\n",
       "        this.canvas.focus();\n",
       "        this.canvas_div.focus();\n",
       "    }\n",
       "\n",
       "    var x = canvas_pos.x;\n",
       "    var y = canvas_pos.y;\n",
       "\n",
       "    this.send_message(name, {x: x, y: y, button: event.button,\n",
       "                             step: event.step,\n",
       "                             guiEvent: simpleKeys(event)});\n",
       "\n",
       "    /* This prevents the web browser from automatically changing to\n",
       "     * the text insertion cursor when the button is pressed.  We want\n",
       "     * to control all of the cursor setting manually through the\n",
       "     * 'cursor' event from matplotlib */\n",
       "    event.preventDefault();\n",
       "    return false;\n",
       "}\n",
       "\n",
       "mpl.figure.prototype._key_event_extra = function(event, name) {\n",
       "    // Handle any extra behaviour associated with a key event\n",
       "}\n",
       "\n",
       "mpl.figure.prototype.key_event = function(event, name) {\n",
       "\n",
       "    // Prevent repeat events\n",
       "    if (name == 'key_press')\n",
       "    {\n",
       "        if (event.which === this._key)\n",
       "            return;\n",
       "        else\n",
       "            this._key = event.which;\n",
       "    }\n",
       "    if (name == 'key_release')\n",
       "        this._key = null;\n",
       "\n",
       "    var value = '';\n",
       "    if (event.ctrlKey && event.which != 17)\n",
       "        value += \"ctrl+\";\n",
       "    if (event.altKey && event.which != 18)\n",
       "        value += \"alt+\";\n",
       "    if (event.shiftKey && event.which != 16)\n",
       "        value += \"shift+\";\n",
       "\n",
       "    value += 'k';\n",
       "    value += event.which.toString();\n",
       "\n",
       "    this._key_event_extra(event, name);\n",
       "\n",
       "    this.send_message(name, {key: value,\n",
       "                             guiEvent: simpleKeys(event)});\n",
       "    return false;\n",
       "}\n",
       "\n",
       "mpl.figure.prototype.toolbar_button_onclick = function(name) {\n",
       "    if (name == 'download') {\n",
       "        this.handle_save(this, null);\n",
       "    } else {\n",
       "        this.send_message(\"toolbar_button\", {name: name});\n",
       "    }\n",
       "};\n",
       "\n",
       "mpl.figure.prototype.toolbar_button_onmouseover = function(tooltip) {\n",
       "    this.message.textContent = tooltip;\n",
       "};\n",
       "mpl.toolbar_items = [[\"Home\", \"Reset original view\", \"fa fa-home icon-home\", \"home\"], [\"Back\", \"Back to  previous view\", \"fa fa-arrow-left icon-arrow-left\", \"back\"], [\"Forward\", \"Forward to next view\", \"fa fa-arrow-right icon-arrow-right\", \"forward\"], [\"\", \"\", \"\", \"\"], [\"Pan\", \"Pan axes with left mouse, zoom with right\", \"fa fa-arrows icon-move\", \"pan\"], [\"Zoom\", \"Zoom to rectangle\", \"fa fa-square-o icon-check-empty\", \"zoom\"], [\"\", \"\", \"\", \"\"], [\"Download\", \"Download plot\", \"fa fa-floppy-o icon-save\", \"download\"]];\n",
       "\n",
       "mpl.extensions = [\"eps\", \"jpeg\", \"pdf\", \"png\", \"ps\", \"raw\", \"svg\", \"tif\"];\n",
       "\n",
       "mpl.default_extension = \"png\";var comm_websocket_adapter = function(comm) {\n",
       "    // Create a \"websocket\"-like object which calls the given IPython comm\n",
       "    // object with the appropriate methods. Currently this is a non binary\n",
       "    // socket, so there is still some room for performance tuning.\n",
       "    var ws = {};\n",
       "\n",
       "    ws.close = function() {\n",
       "        comm.close()\n",
       "    };\n",
       "    ws.send = function(m) {\n",
       "        //console.log('sending', m);\n",
       "        comm.send(m);\n",
       "    };\n",
       "    // Register the callback with on_msg.\n",
       "    comm.on_msg(function(msg) {\n",
       "        //console.log('receiving', msg['content']['data'], msg);\n",
       "        // Pass the mpl event to the overriden (by mpl) onmessage function.\n",
       "        ws.onmessage(msg['content']['data'])\n",
       "    });\n",
       "    return ws;\n",
       "}\n",
       "\n",
       "mpl.mpl_figure_comm = function(comm, msg) {\n",
       "    // This is the function which gets called when the mpl process\n",
       "    // starts-up an IPython Comm through the \"matplotlib\" channel.\n",
       "\n",
       "    var id = msg.content.data.id;\n",
       "    // Get hold of the div created by the display call when the Comm\n",
       "    // socket was opened in Python.\n",
       "    var element = $(\"#\" + id);\n",
       "    var ws_proxy = comm_websocket_adapter(comm)\n",
       "\n",
       "    function ondownload(figure, format) {\n",
       "        window.open(figure.imageObj.src);\n",
       "    }\n",
       "\n",
       "    var fig = new mpl.figure(id, ws_proxy,\n",
       "                           ondownload,\n",
       "                           element.get(0));\n",
       "\n",
       "    // Call onopen now - mpl needs it, as it is assuming we've passed it a real\n",
       "    // web socket which is closed, not our websocket->open comm proxy.\n",
       "    ws_proxy.onopen();\n",
       "\n",
       "    fig.parent_element = element.get(0);\n",
       "    fig.cell_info = mpl.find_output_cell(\"<div id='\" + id + \"'></div>\");\n",
       "    if (!fig.cell_info) {\n",
       "        console.error(\"Failed to find cell for figure\", id, fig);\n",
       "        return;\n",
       "    }\n",
       "\n",
       "    var output_index = fig.cell_info[2]\n",
       "    var cell = fig.cell_info[0];\n",
       "\n",
       "};\n",
       "\n",
       "mpl.figure.prototype.handle_close = function(fig, msg) {\n",
       "    fig.root.unbind('remove')\n",
       "\n",
       "    // Update the output cell to use the data from the current canvas.\n",
       "    fig.push_to_output();\n",
       "    var dataURL = fig.canvas.toDataURL();\n",
       "    // Re-enable the keyboard manager in IPython - without this line, in FF,\n",
       "    // the notebook keyboard shortcuts fail.\n",
       "    IPython.keyboard_manager.enable()\n",
       "    $(fig.parent_element).html('<img src=\"' + dataURL + '\">');\n",
       "    fig.close_ws(fig, msg);\n",
       "}\n",
       "\n",
       "mpl.figure.prototype.close_ws = function(fig, msg){\n",
       "    fig.send_message('closing', msg);\n",
       "    // fig.ws.close()\n",
       "}\n",
       "\n",
       "mpl.figure.prototype.push_to_output = function(remove_interactive) {\n",
       "    // Turn the data on the canvas into data in the output cell.\n",
       "    var dataURL = this.canvas.toDataURL();\n",
       "    this.cell_info[1]['text/html'] = '<img src=\"' + dataURL + '\">';\n",
       "}\n",
       "\n",
       "mpl.figure.prototype.updated_canvas_event = function() {\n",
       "    // Tell IPython that the notebook contents must change.\n",
       "    IPython.notebook.set_dirty(true);\n",
       "    this.send_message(\"ack\", {});\n",
       "    var fig = this;\n",
       "    // Wait a second, then push the new image to the DOM so\n",
       "    // that it is saved nicely (might be nice to debounce this).\n",
       "    setTimeout(function () { fig.push_to_output() }, 1000);\n",
       "}\n",
       "\n",
       "mpl.figure.prototype._init_toolbar = function() {\n",
       "    var fig = this;\n",
       "\n",
       "    var nav_element = $('<div/>')\n",
       "    nav_element.attr('style', 'width: 100%');\n",
       "    this.root.append(nav_element);\n",
       "\n",
       "    // Define a callback function for later on.\n",
       "    function toolbar_event(event) {\n",
       "        return fig.toolbar_button_onclick(event['data']);\n",
       "    }\n",
       "    function toolbar_mouse_event(event) {\n",
       "        return fig.toolbar_button_onmouseover(event['data']);\n",
       "    }\n",
       "\n",
       "    for(var toolbar_ind in mpl.toolbar_items){\n",
       "        var name = mpl.toolbar_items[toolbar_ind][0];\n",
       "        var tooltip = mpl.toolbar_items[toolbar_ind][1];\n",
       "        var image = mpl.toolbar_items[toolbar_ind][2];\n",
       "        var method_name = mpl.toolbar_items[toolbar_ind][3];\n",
       "\n",
       "        if (!name) { continue; };\n",
       "\n",
       "        var button = $('<button class=\"btn btn-default\" href=\"#\" title=\"' + name + '\"><i class=\"fa ' + image + ' fa-lg\"></i></button>');\n",
       "        button.click(method_name, toolbar_event);\n",
       "        button.mouseover(tooltip, toolbar_mouse_event);\n",
       "        nav_element.append(button);\n",
       "    }\n",
       "\n",
       "    // Add the status bar.\n",
       "    var status_bar = $('<span class=\"mpl-message\" style=\"text-align:right; float: right;\"/>');\n",
       "    nav_element.append(status_bar);\n",
       "    this.message = status_bar[0];\n",
       "\n",
       "    // Add the close button to the window.\n",
       "    var buttongrp = $('<div class=\"btn-group inline pull-right\"></div>');\n",
       "    var button = $('<button class=\"btn btn-mini btn-primary\" href=\"#\" title=\"Stop Interaction\"><i class=\"fa fa-power-off icon-remove icon-large\"></i></button>');\n",
       "    button.click(function (evt) { fig.handle_close(fig, {}); } );\n",
       "    button.mouseover('Stop Interaction', toolbar_mouse_event);\n",
       "    buttongrp.append(button);\n",
       "    var titlebar = this.root.find($('.ui-dialog-titlebar'));\n",
       "    titlebar.prepend(buttongrp);\n",
       "}\n",
       "\n",
       "mpl.figure.prototype._root_extra_style = function(el){\n",
       "    var fig = this\n",
       "    el.on(\"remove\", function(){\n",
       "\tfig.close_ws(fig, {});\n",
       "    });\n",
       "}\n",
       "\n",
       "mpl.figure.prototype._canvas_extra_style = function(el){\n",
       "    // this is important to make the div 'focusable\n",
       "    el.attr('tabindex', 0)\n",
       "    // reach out to IPython and tell the keyboard manager to turn it's self\n",
       "    // off when our div gets focus\n",
       "\n",
       "    // location in version 3\n",
       "    if (IPython.notebook.keyboard_manager) {\n",
       "        IPython.notebook.keyboard_manager.register_events(el);\n",
       "    }\n",
       "    else {\n",
       "        // location in version 2\n",
       "        IPython.keyboard_manager.register_events(el);\n",
       "    }\n",
       "\n",
       "}\n",
       "\n",
       "mpl.figure.prototype._key_event_extra = function(event, name) {\n",
       "    var manager = IPython.notebook.keyboard_manager;\n",
       "    if (!manager)\n",
       "        manager = IPython.keyboard_manager;\n",
       "\n",
       "    // Check for shift+enter\n",
       "    if (event.shiftKey && event.which == 13) {\n",
       "        this.canvas_div.blur();\n",
       "        // select the cell after this one\n",
       "        var index = IPython.notebook.find_cell_index(this.cell_info[0]);\n",
       "        IPython.notebook.select(index + 1);\n",
       "    }\n",
       "}\n",
       "\n",
       "mpl.figure.prototype.handle_save = function(fig, msg) {\n",
       "    fig.ondownload(fig, null);\n",
       "}\n",
       "\n",
       "\n",
       "mpl.find_output_cell = function(html_output) {\n",
       "    // Return the cell and output element which can be found *uniquely* in the notebook.\n",
       "    // Note - this is a bit hacky, but it is done because the \"notebook_saving.Notebook\"\n",
       "    // IPython event is triggered only after the cells have been serialised, which for\n",
       "    // our purposes (turning an active figure into a static one), is too late.\n",
       "    var cells = IPython.notebook.get_cells();\n",
       "    var ncells = cells.length;\n",
       "    for (var i=0; i<ncells; i++) {\n",
       "        var cell = cells[i];\n",
       "        if (cell.cell_type === 'code'){\n",
       "            for (var j=0; j<cell.output_area.outputs.length; j++) {\n",
       "                var data = cell.output_area.outputs[j];\n",
       "                if (data.data) {\n",
       "                    // IPython >= 3 moved mimebundle to data attribute of output\n",
       "                    data = data.data;\n",
       "                }\n",
       "                if (data['text/html'] == html_output) {\n",
       "                    return [cell, data, j];\n",
       "                }\n",
       "            }\n",
       "        }\n",
       "    }\n",
       "}\n",
       "\n",
       "// Register the function which deals with the matplotlib target/channel.\n",
       "// The kernel may be null if the page has been refreshed.\n",
       "if (IPython.notebook.kernel != null) {\n",
       "    IPython.notebook.kernel.comm_manager.register_target('matplotlib', mpl.mpl_figure_comm);\n",
       "}\n"
      ],
      "text/plain": [
       "<IPython.core.display.Javascript object>"
      ]
     },
     "metadata": {},
     "output_type": "display_data"
    },
    {
     "data": {
      "text/html": [
       "<img src=\"data:image/png;base64,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\">"
      ],
      "text/plain": [
       "<IPython.core.display.HTML object>"
      ]
     },
     "metadata": {},
     "output_type": "display_data"
    }
   ],
   "source": [
    "def rdf(phival, shearrate, bins):\n",
    "    path = \"rhor1_phi\"+str(phival)+\"_yd\"+str(float(shearrate))+\"/\"\n",
    "    dataset = sp.reader.DataSet(path,particles=True, fluid=True)\n",
    "    dataset.load_state(dataset.tlist[-10])\n",
    "\n",
    "    positions = dataset.particles.r\n",
    "    fluid_velocity = dataset.fluid.u\n",
    "    L = dataset.L # Domain size\n",
    "    LEs = dataset.LEs  # Lees-Edwards shift at time dataset.t\n",
    "    LEu = dataset.LEu  # Lees-Edwards velocity\n",
    "\n",
    "    sim_chars = sp.susi.extract_sim_characteristics(dataset)\n",
    "    sim_chars['histogram'] = {'bins': bins, 'range': (0, 2.8376564979553224e-05)}\n",
    "\n",
    "    rdf = sp.spatial.radial_distribution_function(positions,**sim_chars)\n",
    "    plt.figure(figsize=[10,10])\n",
    "    plt.plot(rdf[0]/(2*np.min(sim_chars['radius'])),rdf[1],\"g\",label=\"rdf\")\n",
    "    plt.bar(rdf[0]/np.min(2*np.min(sim_chars['radius'])),rdf[1],width = 1.0/sim_chars['histogram']['bins'])\n",
    "    plt.axhline(1.0,color=\"r\",label=\"probability 1\")\n",
    "\n",
    "    # s = sim_chars['radius'].min()\n",
    "    # b = sim_chars['radius'].max()\n",
    "\n",
    "    s = 4\n",
    "    b = 11.2/2\n",
    "    import inspect, re\n",
    "\n",
    "    def plot_vline(loc, text):\n",
    "        plt.axvline(loc/float(2*s),color=\"k\")\n",
    "        plt.text(loc/float(2*s),3,text, ha = 'right',rotation=90)\n",
    "\n",
    "    plot_vline(s+s,\"s+s\")\n",
    "    plot_vline(s+b,\"s+b\")\n",
    "    plot_vline(b+b,\"b+b\")\n",
    "\n",
    "    # plot_vline(s+s+s,\"s+s+s\")\n",
    "    # plot_vline(s+s+b,\"s+s+b\")\n",
    "    # plot_vline(s+b+b,\"s+b+b\")\n",
    "    # plot_vline(b+b+b,\"b+b+b\")\n",
    "\n",
    "    # plot_vline(s+s+s+s,\"s+s+s+s\")\n",
    "    # plot_vline(s+s+s+b,\"s+s+s+b\")\n",
    "    # plot_vline(s+s+b+b,\"s+s+b+b\")\n",
    "    # plot_vline(s+b+b+b,\"s+b+b+b\")\n",
    "    # plot_vline(b+b+b+b,\"b+b+b+b\")\n",
    "\n",
    "    plt.legend()\n",
    "    props = dict(boxstyle='round', facecolor='white', alpha=0.5)\n",
    "    plt.text(2.85, 2.5, \"s = small particle \\nb = big particle \\nvertical lines represent the expected \\npeaks in RDF due to intersection of \\nthe particles\"\n",
    "             , fontsize=8, verticalalignment='top', bbox=props, wrap=True)\n",
    "    plt.xlabel(\"2Rmin\")\n",
    "    plt.ylabel(\"g(r)\")\n",
    "    plt.title(path)\n",
    "    #plt.savefig(\"radial_distribution_function\")\n",
    "\n",
    "\n",
    "v = interactive(rdf, \\\n",
    "                phival = widgets.ToggleButtons(options=[40,45,50,54,55,56,58],value=56,disabled=False), \\\n",
    "                shearrate= widgets.ToggleButtons(options=[1,10,11,11.5,12,12.5,13,14,15,16,18,20,30,50,70,100,200,300,1000],value = 12),\\\n",
    "                bins=(10,100), __manual=False)\n",
    "\n",
    "display(v)"
   ]
  },
  {
   "cell_type": "markdown",
   "metadata": {},
   "source": [
    "---------------------------------------"
   ]
  },
  {
   "cell_type": "markdown",
   "metadata": {},
   "source": [
    "---------------------------------------\n"
   ]
  },
  {
   "cell_type": "code",
   "execution_count": 5,
   "metadata": {
    "collapsed": false
   },
   "outputs": [],
   "source": [
    "# dataset = sp.reader.DataSet(path,particles=True, fluid=True)\n",
    "# sim_chars = sp.susi.extract_sim_characteristics(dataset)\n",
    "# sim_chars['histogram'] = {'bins': 100, 'range': (0, 2.8376564979553224e-05)}\n",
    "# sim_chars['histogramdd']={\"bins\":(20, 20, 20)}\n",
    "# pdf = sp.spatial.pair_distribution_function(positions,**sim_chars)\n",
    "\n"
   ]
  },
  {
   "cell_type": "code",
   "execution_count": 6,
   "metadata": {
    "collapsed": false,
    "scrolled": true
   },
   "outputs": [],
   "source": [
    "from matplotlib.patches import Circle  # $matplotlib/patches.py\n",
    "\n",
    "def circle( xy, radius, color=\"lightsteelblue\", facecolor=\"none\", alpha=1, ax=None ):\n",
    "    \"\"\" add a circle to ax= or current axes\n",
    "    \"\"\"\n",
    "        # from .../pylab_examples/ellipse_demo.py\n",
    "    e = Circle( xy=xy, radius=radius )\n",
    "    if ax is None:\n",
    "        ax = plt.gca()  # ax = subplot( 1,1,1 )\n",
    "    ax.add_artist(e)\n",
    "    e.set_clip_box(ax.bbox)\n",
    "    e.set_edgecolor( color )\n",
    "    e.set_facecolor( facecolor )  # \"none\" not None\n",
    "    e.set_alpha( alpha )\n",
    "    \n",
    "def plot_pdf(path):\n",
    "    dataset = sp.reader.DataSet(path,particles=True, fluid=True)\n",
    "    dataset.load_state(dataset.tlist[-1])\n",
    "    sim_chars['histogramdd']={\"bins\":(30,30,30)}\n",
    "    pdf2d = filter.PairDistributionFunction2D(dataset,**sim_chars)\n",
    "    X = pdf2d[0]/1e-6\n",
    "    Y = pdf2d[1]/1e-6\n",
    "    Z = pdf2d[2]\n",
    "    plt.figure()\n",
    "    im = plt.imshow(Z, extent=(X.min(), X.max(), Y.max(), Y.min()),interpolation='bicubic')\n",
    "\n",
    "\n",
    "    plt.title(path)\n",
    "    plt.colorbar(im)\n",
    "\n",
    "# print np.sort(get_folder_list())\n",
    "# s = 4\n",
    "# b = 11.2/2\n",
    "# for path in np.sort(get_folder_list()[:]):\n",
    "#     try:\n",
    "#         plot_pdf(path)\n",
    "#     except Exception as e:\n",
    "#         print e\n",
    "#         continue"
   ]
  },
  {
   "cell_type": "markdown",
   "metadata": {
    "collapsed": false
   },
   "source": [
    "## Plot the radial distribution function g(r) as a function of distance\n"
   ]
  },
  {
   "cell_type": "code",
   "execution_count": 7,
   "metadata": {
    "collapsed": false
   },
   "outputs": [
    {
     "data": {
      "application/javascript": [
       "/* Put everything inside the global mpl namespace */\n",
       "window.mpl = {};\n",
       "\n",
       "mpl.get_websocket_type = function() {\n",
       "    if (typeof(WebSocket) !== 'undefined') {\n",
       "        return WebSocket;\n",
       "    } else if (typeof(MozWebSocket) !== 'undefined') {\n",
       "        return MozWebSocket;\n",
       "    } else {\n",
       "        alert('Your browser does not have WebSocket support.' +\n",
       "              'Please try Chrome, Safari or Firefox ≥ 6. ' +\n",
       "              'Firefox 4 and 5 are also supported but you ' +\n",
       "              'have to enable WebSockets in about:config.');\n",
       "    };\n",
       "}\n",
       "\n",
       "mpl.figure = function(figure_id, websocket, ondownload, parent_element) {\n",
       "    this.id = figure_id;\n",
       "\n",
       "    this.ws = websocket;\n",
       "\n",
       "    this.supports_binary = (this.ws.binaryType != undefined);\n",
       "\n",
       "    if (!this.supports_binary) {\n",
       "        var warnings = document.getElementById(\"mpl-warnings\");\n",
       "        if (warnings) {\n",
       "            warnings.style.display = 'block';\n",
       "            warnings.textContent = (\n",
       "                \"This browser does not support binary websocket messages. \" +\n",
       "                    \"Performance may be slow.\");\n",
       "        }\n",
       "    }\n",
       "\n",
       "    this.imageObj = new Image();\n",
       "\n",
       "    this.context = undefined;\n",
       "    this.message = undefined;\n",
       "    this.canvas = undefined;\n",
       "    this.rubberband_canvas = undefined;\n",
       "    this.rubberband_context = undefined;\n",
       "    this.format_dropdown = undefined;\n",
       "\n",
       "    this.image_mode = 'full';\n",
       "\n",
       "    this.root = $('<div/>');\n",
       "    this._root_extra_style(this.root)\n",
       "    this.root.attr('style', 'display: inline-block');\n",
       "\n",
       "    $(parent_element).append(this.root);\n",
       "\n",
       "    this._init_header(this);\n",
       "    this._init_canvas(this);\n",
       "    this._init_toolbar(this);\n",
       "\n",
       "    var fig = this;\n",
       "\n",
       "    this.waiting = false;\n",
       "\n",
       "    this.ws.onopen =  function () {\n",
       "            fig.send_message(\"supports_binary\", {value: fig.supports_binary});\n",
       "            fig.send_message(\"send_image_mode\", {});\n",
       "            fig.send_message(\"refresh\", {});\n",
       "        }\n",
       "\n",
       "    this.imageObj.onload = function() {\n",
       "            if (fig.image_mode == 'full') {\n",
       "                // Full images could contain transparency (where diff images\n",
       "                // almost always do), so we need to clear the canvas so that\n",
       "                // there is no ghosting.\n",
       "                fig.context.clearRect(0, 0, fig.canvas.width, fig.canvas.height);\n",
       "            }\n",
       "            fig.context.drawImage(fig.imageObj, 0, 0);\n",
       "        };\n",
       "\n",
       "    this.imageObj.onunload = function() {\n",
       "        this.ws.close();\n",
       "    }\n",
       "\n",
       "    this.ws.onmessage = this._make_on_message_function(this);\n",
       "\n",
       "    this.ondownload = ondownload;\n",
       "}\n",
       "\n",
       "mpl.figure.prototype._init_header = function() {\n",
       "    var titlebar = $(\n",
       "        '<div class=\"ui-dialog-titlebar ui-widget-header ui-corner-all ' +\n",
       "        'ui-helper-clearfix\"/>');\n",
       "    var titletext = $(\n",
       "        '<div class=\"ui-dialog-title\" style=\"width: 100%; ' +\n",
       "        'text-align: center; padding: 3px;\"/>');\n",
       "    titlebar.append(titletext)\n",
       "    this.root.append(titlebar);\n",
       "    this.header = titletext[0];\n",
       "}\n",
       "\n",
       "\n",
       "\n",
       "mpl.figure.prototype._canvas_extra_style = function(canvas_div) {\n",
       "\n",
       "}\n",
       "\n",
       "\n",
       "mpl.figure.prototype._root_extra_style = function(canvas_div) {\n",
       "\n",
       "}\n",
       "\n",
       "mpl.figure.prototype._init_canvas = function() {\n",
       "    var fig = this;\n",
       "\n",
       "    var canvas_div = $('<div/>');\n",
       "\n",
       "    canvas_div.attr('style', 'position: relative; clear: both; outline: 0');\n",
       "\n",
       "    function canvas_keyboard_event(event) {\n",
       "        return fig.key_event(event, event['data']);\n",
       "    }\n",
       "\n",
       "    canvas_div.keydown('key_press', canvas_keyboard_event);\n",
       "    canvas_div.keyup('key_release', canvas_keyboard_event);\n",
       "    this.canvas_div = canvas_div\n",
       "    this._canvas_extra_style(canvas_div)\n",
       "    this.root.append(canvas_div);\n",
       "\n",
       "    var canvas = $('<canvas/>');\n",
       "    canvas.addClass('mpl-canvas');\n",
       "    canvas.attr('style', \"left: 0; top: 0; z-index: 0; outline: 0\")\n",
       "\n",
       "    this.canvas = canvas[0];\n",
       "    this.context = canvas[0].getContext(\"2d\");\n",
       "\n",
       "    var rubberband = $('<canvas/>');\n",
       "    rubberband.attr('style', \"position: absolute; left: 0; top: 0; z-index: 1;\")\n",
       "\n",
       "    var pass_mouse_events = true;\n",
       "\n",
       "    canvas_div.resizable({\n",
       "        start: function(event, ui) {\n",
       "            pass_mouse_events = false;\n",
       "        },\n",
       "        resize: function(event, ui) {\n",
       "            fig.request_resize(ui.size.width, ui.size.height);\n",
       "        },\n",
       "        stop: function(event, ui) {\n",
       "            pass_mouse_events = true;\n",
       "            fig.request_resize(ui.size.width, ui.size.height);\n",
       "        },\n",
       "    });\n",
       "\n",
       "    function mouse_event_fn(event) {\n",
       "        if (pass_mouse_events)\n",
       "            return fig.mouse_event(event, event['data']);\n",
       "    }\n",
       "\n",
       "    rubberband.mousedown('button_press', mouse_event_fn);\n",
       "    rubberband.mouseup('button_release', mouse_event_fn);\n",
       "    // Throttle sequential mouse events to 1 every 20ms.\n",
       "    rubberband.mousemove('motion_notify', mouse_event_fn);\n",
       "\n",
       "    rubberband.mouseenter('figure_enter', mouse_event_fn);\n",
       "    rubberband.mouseleave('figure_leave', mouse_event_fn);\n",
       "\n",
       "    canvas_div.on(\"wheel\", function (event) {\n",
       "        event = event.originalEvent;\n",
       "        event['data'] = 'scroll'\n",
       "        if (event.deltaY < 0) {\n",
       "            event.step = 1;\n",
       "        } else {\n",
       "            event.step = -1;\n",
       "        }\n",
       "        mouse_event_fn(event);\n",
       "    });\n",
       "\n",
       "    canvas_div.append(canvas);\n",
       "    canvas_div.append(rubberband);\n",
       "\n",
       "    this.rubberband = rubberband;\n",
       "    this.rubberband_canvas = rubberband[0];\n",
       "    this.rubberband_context = rubberband[0].getContext(\"2d\");\n",
       "    this.rubberband_context.strokeStyle = \"#000000\";\n",
       "\n",
       "    this._resize_canvas = function(width, height) {\n",
       "        // Keep the size of the canvas, canvas container, and rubber band\n",
       "        // canvas in synch.\n",
       "        canvas_div.css('width', width)\n",
       "        canvas_div.css('height', height)\n",
       "\n",
       "        canvas.attr('width', width);\n",
       "        canvas.attr('height', height);\n",
       "\n",
       "        rubberband.attr('width', width);\n",
       "        rubberband.attr('height', height);\n",
       "    }\n",
       "\n",
       "    // Set the figure to an initial 600x600px, this will subsequently be updated\n",
       "    // upon first draw.\n",
       "    this._resize_canvas(600, 600);\n",
       "\n",
       "    // Disable right mouse context menu.\n",
       "    $(this.rubberband_canvas).bind(\"contextmenu\",function(e){\n",
       "        return false;\n",
       "    });\n",
       "\n",
       "    function set_focus () {\n",
       "        canvas.focus();\n",
       "        canvas_div.focus();\n",
       "    }\n",
       "\n",
       "    window.setTimeout(set_focus, 100);\n",
       "}\n",
       "\n",
       "mpl.figure.prototype._init_toolbar = function() {\n",
       "    var fig = this;\n",
       "\n",
       "    var nav_element = $('<div/>')\n",
       "    nav_element.attr('style', 'width: 100%');\n",
       "    this.root.append(nav_element);\n",
       "\n",
       "    // Define a callback function for later on.\n",
       "    function toolbar_event(event) {\n",
       "        return fig.toolbar_button_onclick(event['data']);\n",
       "    }\n",
       "    function toolbar_mouse_event(event) {\n",
       "        return fig.toolbar_button_onmouseover(event['data']);\n",
       "    }\n",
       "\n",
       "    for(var toolbar_ind in mpl.toolbar_items) {\n",
       "        var name = mpl.toolbar_items[toolbar_ind][0];\n",
       "        var tooltip = mpl.toolbar_items[toolbar_ind][1];\n",
       "        var image = mpl.toolbar_items[toolbar_ind][2];\n",
       "        var method_name = mpl.toolbar_items[toolbar_ind][3];\n",
       "\n",
       "        if (!name) {\n",
       "            // put a spacer in here.\n",
       "            continue;\n",
       "        }\n",
       "        var button = $('<button/>');\n",
       "        button.addClass('ui-button ui-widget ui-state-default ui-corner-all ' +\n",
       "                        'ui-button-icon-only');\n",
       "        button.attr('role', 'button');\n",
       "        button.attr('aria-disabled', 'false');\n",
       "        button.click(method_name, toolbar_event);\n",
       "        button.mouseover(tooltip, toolbar_mouse_event);\n",
       "\n",
       "        var icon_img = $('<span/>');\n",
       "        icon_img.addClass('ui-button-icon-primary ui-icon');\n",
       "        icon_img.addClass(image);\n",
       "        icon_img.addClass('ui-corner-all');\n",
       "\n",
       "        var tooltip_span = $('<span/>');\n",
       "        tooltip_span.addClass('ui-button-text');\n",
       "        tooltip_span.html(tooltip);\n",
       "\n",
       "        button.append(icon_img);\n",
       "        button.append(tooltip_span);\n",
       "\n",
       "        nav_element.append(button);\n",
       "    }\n",
       "\n",
       "    var fmt_picker_span = $('<span/>');\n",
       "\n",
       "    var fmt_picker = $('<select/>');\n",
       "    fmt_picker.addClass('mpl-toolbar-option ui-widget ui-widget-content');\n",
       "    fmt_picker_span.append(fmt_picker);\n",
       "    nav_element.append(fmt_picker_span);\n",
       "    this.format_dropdown = fmt_picker[0];\n",
       "\n",
       "    for (var ind in mpl.extensions) {\n",
       "        var fmt = mpl.extensions[ind];\n",
       "        var option = $(\n",
       "            '<option/>', {selected: fmt === mpl.default_extension}).html(fmt);\n",
       "        fmt_picker.append(option)\n",
       "    }\n",
       "\n",
       "    // Add hover states to the ui-buttons\n",
       "    $( \".ui-button\" ).hover(\n",
       "        function() { $(this).addClass(\"ui-state-hover\");},\n",
       "        function() { $(this).removeClass(\"ui-state-hover\");}\n",
       "    );\n",
       "\n",
       "    var status_bar = $('<span class=\"mpl-message\"/>');\n",
       "    nav_element.append(status_bar);\n",
       "    this.message = status_bar[0];\n",
       "}\n",
       "\n",
       "mpl.figure.prototype.request_resize = function(x_pixels, y_pixels) {\n",
       "    // Request matplotlib to resize the figure. Matplotlib will then trigger a resize in the client,\n",
       "    // which will in turn request a refresh of the image.\n",
       "    this.send_message('resize', {'width': x_pixels, 'height': y_pixels});\n",
       "}\n",
       "\n",
       "mpl.figure.prototype.send_message = function(type, properties) {\n",
       "    properties['type'] = type;\n",
       "    properties['figure_id'] = this.id;\n",
       "    this.ws.send(JSON.stringify(properties));\n",
       "}\n",
       "\n",
       "mpl.figure.prototype.send_draw_message = function() {\n",
       "    if (!this.waiting) {\n",
       "        this.waiting = true;\n",
       "        this.ws.send(JSON.stringify({type: \"draw\", figure_id: this.id}));\n",
       "    }\n",
       "}\n",
       "\n",
       "\n",
       "mpl.figure.prototype.handle_save = function(fig, msg) {\n",
       "    var format_dropdown = fig.format_dropdown;\n",
       "    var format = format_dropdown.options[format_dropdown.selectedIndex].value;\n",
       "    fig.ondownload(fig, format);\n",
       "}\n",
       "\n",
       "\n",
       "mpl.figure.prototype.handle_resize = function(fig, msg) {\n",
       "    var size = msg['size'];\n",
       "    if (size[0] != fig.canvas.width || size[1] != fig.canvas.height) {\n",
       "        fig._resize_canvas(size[0], size[1]);\n",
       "        fig.send_message(\"refresh\", {});\n",
       "    };\n",
       "}\n",
       "\n",
       "mpl.figure.prototype.handle_rubberband = function(fig, msg) {\n",
       "    var x0 = msg['x0'];\n",
       "    var y0 = fig.canvas.height - msg['y0'];\n",
       "    var x1 = msg['x1'];\n",
       "    var y1 = fig.canvas.height - msg['y1'];\n",
       "    x0 = Math.floor(x0) + 0.5;\n",
       "    y0 = Math.floor(y0) + 0.5;\n",
       "    x1 = Math.floor(x1) + 0.5;\n",
       "    y1 = Math.floor(y1) + 0.5;\n",
       "    var min_x = Math.min(x0, x1);\n",
       "    var min_y = Math.min(y0, y1);\n",
       "    var width = Math.abs(x1 - x0);\n",
       "    var height = Math.abs(y1 - y0);\n",
       "\n",
       "    fig.rubberband_context.clearRect(\n",
       "        0, 0, fig.canvas.width, fig.canvas.height);\n",
       "\n",
       "    fig.rubberband_context.strokeRect(min_x, min_y, width, height);\n",
       "}\n",
       "\n",
       "mpl.figure.prototype.handle_figure_label = function(fig, msg) {\n",
       "    // Updates the figure title.\n",
       "    fig.header.textContent = msg['label'];\n",
       "}\n",
       "\n",
       "mpl.figure.prototype.handle_cursor = function(fig, msg) {\n",
       "    var cursor = msg['cursor'];\n",
       "    switch(cursor)\n",
       "    {\n",
       "    case 0:\n",
       "        cursor = 'pointer';\n",
       "        break;\n",
       "    case 1:\n",
       "        cursor = 'default';\n",
       "        break;\n",
       "    case 2:\n",
       "        cursor = 'crosshair';\n",
       "        break;\n",
       "    case 3:\n",
       "        cursor = 'move';\n",
       "        break;\n",
       "    }\n",
       "    fig.rubberband_canvas.style.cursor = cursor;\n",
       "}\n",
       "\n",
       "mpl.figure.prototype.handle_message = function(fig, msg) {\n",
       "    fig.message.textContent = msg['message'];\n",
       "}\n",
       "\n",
       "mpl.figure.prototype.handle_draw = function(fig, msg) {\n",
       "    // Request the server to send over a new figure.\n",
       "    fig.send_draw_message();\n",
       "}\n",
       "\n",
       "mpl.figure.prototype.handle_image_mode = function(fig, msg) {\n",
       "    fig.image_mode = msg['mode'];\n",
       "}\n",
       "\n",
       "mpl.figure.prototype.updated_canvas_event = function() {\n",
       "    // Called whenever the canvas gets updated.\n",
       "    this.send_message(\"ack\", {});\n",
       "}\n",
       "\n",
       "// A function to construct a web socket function for onmessage handling.\n",
       "// Called in the figure constructor.\n",
       "mpl.figure.prototype._make_on_message_function = function(fig) {\n",
       "    return function socket_on_message(evt) {\n",
       "        if (evt.data instanceof Blob) {\n",
       "            /* FIXME: We get \"Resource interpreted as Image but\n",
       "             * transferred with MIME type text/plain:\" errors on\n",
       "             * Chrome.  But how to set the MIME type?  It doesn't seem\n",
       "             * to be part of the websocket stream */\n",
       "            evt.data.type = \"image/png\";\n",
       "\n",
       "            /* Free the memory for the previous frames */\n",
       "            if (fig.imageObj.src) {\n",
       "                (window.URL || window.webkitURL).revokeObjectURL(\n",
       "                    fig.imageObj.src);\n",
       "            }\n",
       "\n",
       "            fig.imageObj.src = (window.URL || window.webkitURL).createObjectURL(\n",
       "                evt.data);\n",
       "            fig.updated_canvas_event();\n",
       "            fig.waiting = false;\n",
       "            return;\n",
       "        }\n",
       "        else if (typeof evt.data === 'string' && evt.data.slice(0, 21) == \"data:image/png;base64\") {\n",
       "            fig.imageObj.src = evt.data;\n",
       "            fig.updated_canvas_event();\n",
       "            fig.waiting = false;\n",
       "            return;\n",
       "        }\n",
       "\n",
       "        var msg = JSON.parse(evt.data);\n",
       "        var msg_type = msg['type'];\n",
       "\n",
       "        // Call the  \"handle_{type}\" callback, which takes\n",
       "        // the figure and JSON message as its only arguments.\n",
       "        try {\n",
       "            var callback = fig[\"handle_\" + msg_type];\n",
       "        } catch (e) {\n",
       "            console.log(\"No handler for the '\" + msg_type + \"' message type: \", msg);\n",
       "            return;\n",
       "        }\n",
       "\n",
       "        if (callback) {\n",
       "            try {\n",
       "                // console.log(\"Handling '\" + msg_type + \"' message: \", msg);\n",
       "                callback(fig, msg);\n",
       "            } catch (e) {\n",
       "                console.log(\"Exception inside the 'handler_\" + msg_type + \"' callback:\", e, e.stack, msg);\n",
       "            }\n",
       "        }\n",
       "    };\n",
       "}\n",
       "\n",
       "// from http://stackoverflow.com/questions/1114465/getting-mouse-location-in-canvas\n",
       "mpl.findpos = function(e) {\n",
       "    //this section is from http://www.quirksmode.org/js/events_properties.html\n",
       "    var targ;\n",
       "    if (!e)\n",
       "        e = window.event;\n",
       "    if (e.target)\n",
       "        targ = e.target;\n",
       "    else if (e.srcElement)\n",
       "        targ = e.srcElement;\n",
       "    if (targ.nodeType == 3) // defeat Safari bug\n",
       "        targ = targ.parentNode;\n",
       "\n",
       "    // jQuery normalizes the pageX and pageY\n",
       "    // pageX,Y are the mouse positions relative to the document\n",
       "    // offset() returns the position of the element relative to the document\n",
       "    var x = e.pageX - $(targ).offset().left;\n",
       "    var y = e.pageY - $(targ).offset().top;\n",
       "\n",
       "    return {\"x\": x, \"y\": y};\n",
       "};\n",
       "\n",
       "/*\n",
       " * return a copy of an object with only non-object keys\n",
       " * we need this to avoid circular references\n",
       " * http://stackoverflow.com/a/24161582/3208463\n",
       " */\n",
       "function simpleKeys (original) {\n",
       "  return Object.keys(original).reduce(function (obj, key) {\n",
       "    if (typeof original[key] !== 'object')\n",
       "        obj[key] = original[key]\n",
       "    return obj;\n",
       "  }, {});\n",
       "}\n",
       "\n",
       "mpl.figure.prototype.mouse_event = function(event, name) {\n",
       "    var canvas_pos = mpl.findpos(event)\n",
       "\n",
       "    if (name === 'button_press')\n",
       "    {\n",
       "        this.canvas.focus();\n",
       "        this.canvas_div.focus();\n",
       "    }\n",
       "\n",
       "    var x = canvas_pos.x;\n",
       "    var y = canvas_pos.y;\n",
       "\n",
       "    this.send_message(name, {x: x, y: y, button: event.button,\n",
       "                             step: event.step,\n",
       "                             guiEvent: simpleKeys(event)});\n",
       "\n",
       "    /* This prevents the web browser from automatically changing to\n",
       "     * the text insertion cursor when the button is pressed.  We want\n",
       "     * to control all of the cursor setting manually through the\n",
       "     * 'cursor' event from matplotlib */\n",
       "    event.preventDefault();\n",
       "    return false;\n",
       "}\n",
       "\n",
       "mpl.figure.prototype._key_event_extra = function(event, name) {\n",
       "    // Handle any extra behaviour associated with a key event\n",
       "}\n",
       "\n",
       "mpl.figure.prototype.key_event = function(event, name) {\n",
       "\n",
       "    // Prevent repeat events\n",
       "    if (name == 'key_press')\n",
       "    {\n",
       "        if (event.which === this._key)\n",
       "            return;\n",
       "        else\n",
       "            this._key = event.which;\n",
       "    }\n",
       "    if (name == 'key_release')\n",
       "        this._key = null;\n",
       "\n",
       "    var value = '';\n",
       "    if (event.ctrlKey && event.which != 17)\n",
       "        value += \"ctrl+\";\n",
       "    if (event.altKey && event.which != 18)\n",
       "        value += \"alt+\";\n",
       "    if (event.shiftKey && event.which != 16)\n",
       "        value += \"shift+\";\n",
       "\n",
       "    value += 'k';\n",
       "    value += event.which.toString();\n",
       "\n",
       "    this._key_event_extra(event, name);\n",
       "\n",
       "    this.send_message(name, {key: value,\n",
       "                             guiEvent: simpleKeys(event)});\n",
       "    return false;\n",
       "}\n",
       "\n",
       "mpl.figure.prototype.toolbar_button_onclick = function(name) {\n",
       "    if (name == 'download') {\n",
       "        this.handle_save(this, null);\n",
       "    } else {\n",
       "        this.send_message(\"toolbar_button\", {name: name});\n",
       "    }\n",
       "};\n",
       "\n",
       "mpl.figure.prototype.toolbar_button_onmouseover = function(tooltip) {\n",
       "    this.message.textContent = tooltip;\n",
       "};\n",
       "mpl.toolbar_items = [[\"Home\", \"Reset original view\", \"fa fa-home icon-home\", \"home\"], [\"Back\", \"Back to  previous view\", \"fa fa-arrow-left icon-arrow-left\", \"back\"], [\"Forward\", \"Forward to next view\", \"fa fa-arrow-right icon-arrow-right\", \"forward\"], [\"\", \"\", \"\", \"\"], [\"Pan\", \"Pan axes with left mouse, zoom with right\", \"fa fa-arrows icon-move\", \"pan\"], [\"Zoom\", \"Zoom to rectangle\", \"fa fa-square-o icon-check-empty\", \"zoom\"], [\"\", \"\", \"\", \"\"], [\"Download\", \"Download plot\", \"fa fa-floppy-o icon-save\", \"download\"]];\n",
       "\n",
       "mpl.extensions = [\"eps\", \"jpeg\", \"pdf\", \"png\", \"ps\", \"raw\", \"svg\", \"tif\"];\n",
       "\n",
       "mpl.default_extension = \"png\";var comm_websocket_adapter = function(comm) {\n",
       "    // Create a \"websocket\"-like object which calls the given IPython comm\n",
       "    // object with the appropriate methods. Currently this is a non binary\n",
       "    // socket, so there is still some room for performance tuning.\n",
       "    var ws = {};\n",
       "\n",
       "    ws.close = function() {\n",
       "        comm.close()\n",
       "    };\n",
       "    ws.send = function(m) {\n",
       "        //console.log('sending', m);\n",
       "        comm.send(m);\n",
       "    };\n",
       "    // Register the callback with on_msg.\n",
       "    comm.on_msg(function(msg) {\n",
       "        //console.log('receiving', msg['content']['data'], msg);\n",
       "        // Pass the mpl event to the overriden (by mpl) onmessage function.\n",
       "        ws.onmessage(msg['content']['data'])\n",
       "    });\n",
       "    return ws;\n",
       "}\n",
       "\n",
       "mpl.mpl_figure_comm = function(comm, msg) {\n",
       "    // This is the function which gets called when the mpl process\n",
       "    // starts-up an IPython Comm through the \"matplotlib\" channel.\n",
       "\n",
       "    var id = msg.content.data.id;\n",
       "    // Get hold of the div created by the display call when the Comm\n",
       "    // socket was opened in Python.\n",
       "    var element = $(\"#\" + id);\n",
       "    var ws_proxy = comm_websocket_adapter(comm)\n",
       "\n",
       "    function ondownload(figure, format) {\n",
       "        window.open(figure.imageObj.src);\n",
       "    }\n",
       "\n",
       "    var fig = new mpl.figure(id, ws_proxy,\n",
       "                           ondownload,\n",
       "                           element.get(0));\n",
       "\n",
       "    // Call onopen now - mpl needs it, as it is assuming we've passed it a real\n",
       "    // web socket which is closed, not our websocket->open comm proxy.\n",
       "    ws_proxy.onopen();\n",
       "\n",
       "    fig.parent_element = element.get(0);\n",
       "    fig.cell_info = mpl.find_output_cell(\"<div id='\" + id + \"'></div>\");\n",
       "    if (!fig.cell_info) {\n",
       "        console.error(\"Failed to find cell for figure\", id, fig);\n",
       "        return;\n",
       "    }\n",
       "\n",
       "    var output_index = fig.cell_info[2]\n",
       "    var cell = fig.cell_info[0];\n",
       "\n",
       "};\n",
       "\n",
       "mpl.figure.prototype.handle_close = function(fig, msg) {\n",
       "    fig.root.unbind('remove')\n",
       "\n",
       "    // Update the output cell to use the data from the current canvas.\n",
       "    fig.push_to_output();\n",
       "    var dataURL = fig.canvas.toDataURL();\n",
       "    // Re-enable the keyboard manager in IPython - without this line, in FF,\n",
       "    // the notebook keyboard shortcuts fail.\n",
       "    IPython.keyboard_manager.enable()\n",
       "    $(fig.parent_element).html('<img src=\"' + dataURL + '\">');\n",
       "    fig.close_ws(fig, msg);\n",
       "}\n",
       "\n",
       "mpl.figure.prototype.close_ws = function(fig, msg){\n",
       "    fig.send_message('closing', msg);\n",
       "    // fig.ws.close()\n",
       "}\n",
       "\n",
       "mpl.figure.prototype.push_to_output = function(remove_interactive) {\n",
       "    // Turn the data on the canvas into data in the output cell.\n",
       "    var dataURL = this.canvas.toDataURL();\n",
       "    this.cell_info[1]['text/html'] = '<img src=\"' + dataURL + '\">';\n",
       "}\n",
       "\n",
       "mpl.figure.prototype.updated_canvas_event = function() {\n",
       "    // Tell IPython that the notebook contents must change.\n",
       "    IPython.notebook.set_dirty(true);\n",
       "    this.send_message(\"ack\", {});\n",
       "    var fig = this;\n",
       "    // Wait a second, then push the new image to the DOM so\n",
       "    // that it is saved nicely (might be nice to debounce this).\n",
       "    setTimeout(function () { fig.push_to_output() }, 1000);\n",
       "}\n",
       "\n",
       "mpl.figure.prototype._init_toolbar = function() {\n",
       "    var fig = this;\n",
       "\n",
       "    var nav_element = $('<div/>')\n",
       "    nav_element.attr('style', 'width: 100%');\n",
       "    this.root.append(nav_element);\n",
       "\n",
       "    // Define a callback function for later on.\n",
       "    function toolbar_event(event) {\n",
       "        return fig.toolbar_button_onclick(event['data']);\n",
       "    }\n",
       "    function toolbar_mouse_event(event) {\n",
       "        return fig.toolbar_button_onmouseover(event['data']);\n",
       "    }\n",
       "\n",
       "    for(var toolbar_ind in mpl.toolbar_items){\n",
       "        var name = mpl.toolbar_items[toolbar_ind][0];\n",
       "        var tooltip = mpl.toolbar_items[toolbar_ind][1];\n",
       "        var image = mpl.toolbar_items[toolbar_ind][2];\n",
       "        var method_name = mpl.toolbar_items[toolbar_ind][3];\n",
       "\n",
       "        if (!name) { continue; };\n",
       "\n",
       "        var button = $('<button class=\"btn btn-default\" href=\"#\" title=\"' + name + '\"><i class=\"fa ' + image + ' fa-lg\"></i></button>');\n",
       "        button.click(method_name, toolbar_event);\n",
       "        button.mouseover(tooltip, toolbar_mouse_event);\n",
       "        nav_element.append(button);\n",
       "    }\n",
       "\n",
       "    // Add the status bar.\n",
       "    var status_bar = $('<span class=\"mpl-message\" style=\"text-align:right; float: right;\"/>');\n",
       "    nav_element.append(status_bar);\n",
       "    this.message = status_bar[0];\n",
       "\n",
       "    // Add the close button to the window.\n",
       "    var buttongrp = $('<div class=\"btn-group inline pull-right\"></div>');\n",
       "    var button = $('<button class=\"btn btn-mini btn-primary\" href=\"#\" title=\"Stop Interaction\"><i class=\"fa fa-power-off icon-remove icon-large\"></i></button>');\n",
       "    button.click(function (evt) { fig.handle_close(fig, {}); } );\n",
       "    button.mouseover('Stop Interaction', toolbar_mouse_event);\n",
       "    buttongrp.append(button);\n",
       "    var titlebar = this.root.find($('.ui-dialog-titlebar'));\n",
       "    titlebar.prepend(buttongrp);\n",
       "}\n",
       "\n",
       "mpl.figure.prototype._root_extra_style = function(el){\n",
       "    var fig = this\n",
       "    el.on(\"remove\", function(){\n",
       "\tfig.close_ws(fig, {});\n",
       "    });\n",
       "}\n",
       "\n",
       "mpl.figure.prototype._canvas_extra_style = function(el){\n",
       "    // this is important to make the div 'focusable\n",
       "    el.attr('tabindex', 0)\n",
       "    // reach out to IPython and tell the keyboard manager to turn it's self\n",
       "    // off when our div gets focus\n",
       "\n",
       "    // location in version 3\n",
       "    if (IPython.notebook.keyboard_manager) {\n",
       "        IPython.notebook.keyboard_manager.register_events(el);\n",
       "    }\n",
       "    else {\n",
       "        // location in version 2\n",
       "        IPython.keyboard_manager.register_events(el);\n",
       "    }\n",
       "\n",
       "}\n",
       "\n",
       "mpl.figure.prototype._key_event_extra = function(event, name) {\n",
       "    var manager = IPython.notebook.keyboard_manager;\n",
       "    if (!manager)\n",
       "        manager = IPython.keyboard_manager;\n",
       "\n",
       "    // Check for shift+enter\n",
       "    if (event.shiftKey && event.which == 13) {\n",
       "        this.canvas_div.blur();\n",
       "        // select the cell after this one\n",
       "        var index = IPython.notebook.find_cell_index(this.cell_info[0]);\n",
       "        IPython.notebook.select(index + 1);\n",
       "    }\n",
       "}\n",
       "\n",
       "mpl.figure.prototype.handle_save = function(fig, msg) {\n",
       "    fig.ondownload(fig, null);\n",
       "}\n",
       "\n",
       "\n",
       "mpl.find_output_cell = function(html_output) {\n",
       "    // Return the cell and output element which can be found *uniquely* in the notebook.\n",
       "    // Note - this is a bit hacky, but it is done because the \"notebook_saving.Notebook\"\n",
       "    // IPython event is triggered only after the cells have been serialised, which for\n",
       "    // our purposes (turning an active figure into a static one), is too late.\n",
       "    var cells = IPython.notebook.get_cells();\n",
       "    var ncells = cells.length;\n",
       "    for (var i=0; i<ncells; i++) {\n",
       "        var cell = cells[i];\n",
       "        if (cell.cell_type === 'code'){\n",
       "            for (var j=0; j<cell.output_area.outputs.length; j++) {\n",
       "                var data = cell.output_area.outputs[j];\n",
       "                if (data.data) {\n",
       "                    // IPython >= 3 moved mimebundle to data attribute of output\n",
       "                    data = data.data;\n",
       "                }\n",
       "                if (data['text/html'] == html_output) {\n",
       "                    return [cell, data, j];\n",
       "                }\n",
       "            }\n",
       "        }\n",
       "    }\n",
       "}\n",
       "\n",
       "// Register the function which deals with the matplotlib target/channel.\n",
       "// The kernel may be null if the page has been refreshed.\n",
       "if (IPython.notebook.kernel != null) {\n",
       "    IPython.notebook.kernel.comm_manager.register_target('matplotlib', mpl.mpl_figure_comm);\n",
       "}\n"
      ],
      "text/plain": [
       "<IPython.core.display.Javascript object>"
      ]
     },
     "metadata": {},
     "output_type": "display_data"
    },
    {
     "data": {
      "text/html": [
       "<img src=\"data:image/png;base64,iVBORw0KGgoAAAANSUhEUgAAAoAAAAHgCAYAAAA10dzkAAAgAElEQVR4XuydBdgc1dmGnyBpggUNJBDc3YpbseBOcCvaBop7cSvuVrxocIrmDwUKxd2LpASSAsGCRYBA/uvJzJbNZvf7dvesjNznunIR8s07c84973x775kjXUSBAAQgAAEIQAACEMgVgS65ai2NhQAEIAABCEAAAhAQAkgSQAACEIAABCAAgZwRQABzdsNpLgQgAAEIQAACEEAAyQEIQAACEIAABCCQMwIIYM5uOM2FAAQgAAEIQAACCCA5AAEIQAACEIAABHJGAAHM2Q2nuRCAAAQgAAEIQAABJAcgAAEIQAACEIBAzggggDm74TQXAhCAAAQgAAEIIIDkAAQgAAEIQAACEMgZAQQwZzec5kIAAhCAAAQgAAEEkByAAAQgAAEIQAACOSOAAObshtNcCEAAAhCAAAQggACSAxCAAAQgAAEIQCBnBBDAnN1wmgsBCEAAAhCAAAQQQHIAAhCAAAQgAAEI5IwAApizG05zIQABCEAAAhCAAAJIDkAAAhCAAAQgAIGcEUAAc3bDaS4EIAABCEAAAhBAAMkBCEAAAhCAAAQgkDMCCGDObjjNhQAEIAABCEAAAgggOQABCEAAAhCAAARyRgABzNkNp7kQgAAEIAABCEAAASQHIAABCEAAAhCAQM4IIIA5u+E0FwIQgAAEIAABCCCA5ECaCQyRNHtJA36U9LmkFyVdIen+FjewUKc5JX1UdO3HJK0maQ1JjzegTpWu09Gpj5PkP8XlB0nfSvpE0suSBkm6Q5L/vVzZRdI1kq6V9PsGtCP0FMdLOlaS/3ti0cmSVk9XbXVJj0pyLqwZ2vAmxc8h6YNOzj1O0lKSXmtSHdpx2nkkvSfpfUnzt6MCXBMCrSaAALaaONdrJAF/UFkAn4x/cfvcPeIPJwuYyzmSDmnkRTs5V6FOc5UIoD/4LYC/a5AAVrpONQL4qaSH4gMnjZktKGk+Sf6d8IWk/SQNKHMyi9XVsQDuHsC1krjVekoLrQXwhAQI4C+SLEdmWq5YAB+JBXCtWhvaouMLAuh2+IvA92Wu65+Z+7AW1akRl3Fde0uaTdLHZU5oAXw3/j2yQCMuyDkgkHQCCGDS7xD164hAQYJ2k/S3ogMnkXRuLDH+sFou7hFsBc1KYuYPniliKRzTgIqECGClHihLq8Vsx1gE/yjpspK6Ti2pl6RvJA0PaEclcav1lNNLmjGW1q+KgtvRA9iZAHaLv7CMSrA8FQtg6ZeYWu9Nko4fGgtgnwoCaGm3BPoNgnvXKRDIPAEEMPO3ONMNrCSAbvRvYkGxsJwUi00rYNQjZvXUq57rFF4Bd/YK8i+SDpP0kyT3hjTjA7FRPYCV2CVRAOu5z62OyasAtpoz14NA2wkggG2/BVQggEBHAujTPi9paUl/lfSHkuu412h7SX0lLSRpllh4/BroNknndzAOzsd7vJnH800paXD8StS9jv67X0uX9p5UGgNYbz2aKYCTxdLnnr6LJO1fZc/a2vGxv5Xknjm/PvTr5Gfje/BEfB73lFUqxWMLLZ7usTFLjzn7k6QlJU1XNJaymjGAHgLgLwEbSZpZkl+B3xnfw69LKtKZOBYEyXWbO44tiLV7m0t/p/rfCrnQ2RhAy/YR8TAB5+PIeFzm5XFOljIrXNcMLolfg28ct9G9s3dLOibura32MatHAG+InyX3HN9U5kIeKuDxuFdK2qvo58X/fmD8Kn/L+DXtCEkPSjo6Hp9arv6zSnKcn2EP+TD7/8ZDQszMeVe4Rrl743OuIumpuPevozGA7sH3vfG1/Hf34r8h6bp4SERpToe2rdr7xXEQqJsAAlg3OgITQKAzAXxH0rwVegB3kHR9/CrOA789CWImSctLcq+hPxQ8Xs+9YMXFHxj+YPLr3P9Iei5+BekP93slLVtBACuNAay3Hs0UQLf37PjD9d+SFq5CAAtjA/1BayYWpO7xh+USsUgeFJ/HYwgtcv7zSvyncIl/xR+o/v9CGy+WtG8s9P6Q9lgui43HfnY2BvDvkhaJhdQS7vpZ3C2obtuqkr6son2FQ8oJ4CaSNpO0a3x+S0Gh+HqHSvLr6Y4EcMNY8txz7bz1hJyecYyF/CpJe5bkYqHtnpSzriQfZyZ+1byypGnje+G//1zl81qPAPo58pepneoQQH8581hDf6nyF47Cl4QV4/b7C5Xlv3Qsott7a/ysWnafiZ9Vi6DzyvfAsun76yEi/eJ89Jc7v4J38b05Nf7S1tEkkBXiyWTm+WF8Lf/deWTWnmjm+1/M2AJYb9uqvFUcBoEwAghgGD+i20ugIwH0B4pnKXo8oHukXiqpqntbPGHEslJc/G+3xB+ofg1qESoUfzhbQNzz4N4+f7D7Q8Rl0XiAv3v0int9CrGVBLCeeviczRZAf6C7Z8dtmVxSoYejUg+ZZdjyYEF+uoSpmZjZq0X/Xtx7VTx7tzjUbfQ5x0ravMKM7krnKdTT57PMW7A8btFlGkkPSLJk+F5bwgulnh7AQmxnYwArCaBFzz3P/uLhHi+/gi8U92B7ZraFw0JjESyU4p5HS6B7uQtfWMzbUmRZ9r0sN6Gn5DaN/99WC6B7Bl0sUdsUyZnb+8/4uSp9Dt3D/rqkqSSdHPfkFsuXv8h5QpPve6F0NgawkgBa8ApfOtwb7h7HwrPgHmBP6nEvtXPYE5EKpdADWGvbyt0T/g0CTSGAADYFKydtEYFyAugPd39jPy8ev1bP+D9/eLgXxnLocxVKQYq8vIs/MEp7Vfyq1GJYiwB2hKpSPRzTbAF0D4tnCrstfm3qV7kulQTJPTQeQO+etWpKtQLoD3tLT/Grw+LzdyaArr97hCwMxcXCbiH1h7mlpzAztB0C+OdYIDxkwT3QpcU9p2fFkujZ2oVSaLvlxl8kSicXWZwsk+V6Dyvdo2IBrPT5ULrkTkgPoAXQyxA51718U3EpPG8DJa1f9IMLJfWPX+NvVU2ySapXAAv54GfebxP8ZaS4uGfRXyI8lMAiX/h5QQBrbVuVzeEwCIQTQADDGXKG9hEoSFC5PPYvYv/yvrmD6rl30K9xVopfP/mVpc/lPzvHPUYeb1YofqXjX+zuFfSHa2lxr4Vf9dUqgLXWw9dttgCuF/eSuS3+YCu8Jq0kSO4JcQ+Xew09ftKvMAu9o+VuQS0CuIEkS0At5ynU06+Y3YtWrrwQv150D6A/xF3aIYDu4fO6gB7j6NfdpcW90h4TZ57u2fMYRpcCw0prMno84D2xyJthNaWaZWA8ttCv1gslVAAfjnvcS+vnV79ez9Nj7RYv+qF7S/0FzFL4f9U0KkAA3bPq3wVnSDqywrXcs+zeSH9ZtMS7FASw1rZV2RwOg0A4AQQwnCFnaB+BcusA+vWPx/24J9Dfvtcp+qVcXFN/m/cHmce3lRMVPxula7r5taEHgXs82qUVmu0Pal+72nUA66mHL91sAfSAfi+t4x6yrlW8AnbPlMdA+rWY2X0Xc7cYWhDcA1NcahFA3yP3yJYrnfUA3iXJEwvKFY8H20LS4XEPm49phwC+FffgWdicY+WKe2D9ZcQ9hBZXl0Lb/frRvXKlpbNJJ+Wu045XwB4TukeZylR6LetFyj3esZZlaurtAbRges1Gv173F8ByxV8yFovzzL9TXAoCWGvbKlyCf4ZA4wkggI1nyhlbR6DSGECPpfIvYk/i8GQEC0Tp6zG//vNrQEuLv92/HQujX+t6zJs/ZFohgPXUw4SbLYBeQPsASZYTcyqUjgTJPZl+dezeLPeqekKM5dGvhr1rSPEM0VoEsKMP+kYIoGd3nhk3sDMBdF08MaF4FnCBTb1jAEMFsPSVbKE+SRFAT17xrNyOZgGXe8WfBQEsbXPh3rDzSOs+J7hSBQIIIKmRZgIdTQLxxAPP8nSviWeMerZfoXi8lIXPswf9Sq10CQcLo187lQqgxytZZDwey71GpaX4VV01PYD11qPZAli8DIzHUh5cpQCW8vBrMY9fs6B4SRO/Sh4dH9QqAezoFXBhmSD3dhaGCmwn6cZ4ZurWZe6xhwy4V7ORAlh4BewxpJ5oUFrco+wxZs5HL0HiGesunTFslQB6jKFnQHvhcIteafFEjaMaKICelOGe5la+AvYXBH9RKFc6egWMAKb5EybjdUcAM36DM968zpaBcQ+We7L84enlIfxK2MWzP71chsepLVOG0Wmx4JUKYOG1qJeC8Kvb0kkgHsNlYap2DGC99Wi2ALpH1GvnuefOg/OLX9921kNWLuU8LtJy7LF4hZnAHk91SjyL01u5lSvV9HJ21gNoufckEAt9cfHSMJ4l7p87N7x+nIu36/NyMW/Gr/VK62X5t9SWE8DCq8niWdPF8ZWEzDN/PVnJ4908Y720eOapx536NbhntxdKUgTQr6A9keWCuNe4uP7+jHG7vBRQ6WSeSusDFuIr9ZIVJoF4+Zhykl4ul9xr6/tcqTe50rUK+e5nwMeUTgLx9T3DutIkEASwwsPNP7efAALY/ntADeon0JkA+vWjB4x7mQb3QvgD02WGeCC9Rc1jBL3cRKF4HJbXF/OSL6UCWLwkhMXSE0GKl4H5R7wmoM9VTQ9gvfXw+auRo1Kyne0E4l6VwlZwblfpsiM+XzkB9OSZfeKxfoXZwoVrezym+fqD0+u8FSaTeM04r9XW0Ri9atrY2TqAboeXA/F9LSz6bBn1q3+vj+d77V6/QvE99iQLDyNwWz2ppVD8Ye//dw+pvwQUFoIu/LwgGeVmHfuYapaBsUj5C0iheCKEewjdk+1XqR5TViidbafXqh7AgjS7J8xjFP3MuZjT6fHSKb4PjRJAi5zl3YuwW5z9bBeLmXua/QWteBkY56CXKPJi4F7Hs7R0tAyM2+M3BZ6g4y+VhTcGjvEz798vpXtR1yu3ZarGP0GgOQQQwOZw5aytIdCZALoWfjXlD033/vmDoyABXq7FPXb+YPLis14GxK9k/YHrDxS/Ni4VQJ/PH3Zes6ywA4hfI1rk/GrQMyNrXQi63npUI0eld6EggH717SVeXDxuz0LkSRzu7XP5LJ7o4h6W0lJOAAuvvv3B6OVW/IrO69GZd2EZndIPSH9IW5i8oLY/qB3jHlX3zHpWq0s1beysB9CzYD2G0ffIazEWFoK2UPmD3YJaKq1+FWvB9+9Hr2no3kH3vPmPc8M9luV6AN1z6tfllly/JvZEGBd/UfDkoM4WgraMWkBLF4L2PrXO4XILQbv97R4D6DZaqD3T2K/4vZi3e0Pd4+vnxKJvpo0aA+jreZa6e948zMD57PtkCXTO+Rl2DhWPKyz0zvueWKh9P1ws217DsqMxeZZaT84pXgjaOe8xxv6i6N8HXqeydCHocrufFJ4nxgC25jOCq3RAAAEkPdJMwILgb98el+cZq+WKBce9Bf7w9ppoft1WKIVxSxY///K2vPj10u3xt3wLjXsxSovHCFpoClvB+QPEH3J+TWepcZ3cO+S1wwrF8mHZ8ASJx0tOWE89Cm0vvU5H97PQY1R8jF/zWo4twB4vZzF0r5z/vVwp7PjhD1j3crhYUHwPLDj+8HVPn3tffU6/Zvc2ZcW9rIXzugfOMuXX8P5A9b0yR5/LpZo2FtpkCXJvUKEU19MC5p95MWiLp4Wh0lZwhXi/7re0+F6bhUW/IAu+3xZAf4gXF7fZeeGZxV6/0P9v4SzcI/OxGPoVs2eWlhbnoceW+mdee9HjJr2AucfVOSdLS6W2F47r7Hrl7m9hFrBzv5bcclv9pWnbOP8tWBYt/5u3CPQMWgvg3kUXLeyWUfrvhUPM15LunXrMprT4ObNwe2a+eVsAnXN+vixfhdnSjnNuOQ+85I/bZdF28TNZ2Aquo2t57KXvjccdujfQguvfF34OLOelKwmEtq3cveHfINBQAghgQ3FyMghAAAIQgAAEIJB8AlkXQH9j97d+f6v1TgXuhfC3wGEd3Bp383ush+P8Ldjd+173rbCNVPLvKjWEAAQgAAEIQAACHRDIugB6lqFfnbir3mONvHivX+n4NVWlYuHzLD7vS2k+HmfiVzHe7JsCAQhAAAIQgAAEUk8g6wJYeoO8FIHH1Hi/0nI9eh5H4rE93naosGyE/+6xUf5ZRz2HqU8GGgABCEAAAhCAQD4I5E0A/frXy1WULt9QuNubxHuCurewuHgXCW86fl8+0oJWQgACEIAABCCQZQJ5EkDPRPPsRs/Q8+y0csUz/7ziu2cxFhevC+bFX4u3svLPza930XIPWc4V2gYBCEAAAhDIEgGv9+mZ4+X2g89SO8u2JS8C6MU/vSG9l4bwWm2VSq09gF4OgNfCmX9MaCAEIAABCGSUgJf4KewElNEmlm9WHgTQ6z55f02v4v9wJ3fX4/y89pjHChbGABbGDXomcanseY/Ob4YOHapppvFfKSEEjjrqKJ16avGWvSFny28sHBt372EJy8YRaMyZyMnGcPz222/Vp4+Xkhy/Bmlhm9DGnDwlZ8m6AHr5Fu9T6W2gvMNANcUr2nsWsMXRfLxJvJeQ8UrvpWW8AH7zzTcIYDVkOznmoIMO0jnneAMGSggBOIbQmzAWlrBsHIHGnImcbAxHC2CPHnY/BLAxRJN3Fq/j5y2pvGq7i4XO7/q9mruF0Pr/VrytUEEQvQ6gewz92tjHWggtkuW+ISCADbzn/GJrDEw4NoajzwJLWDaOQGPORE42hiMCGAkRpX4CCGD97CaKHDhwoPr29a5OlBACcAyhN2EsLGHZOAKNORM52RiOCCACGJpJCGAoQeIhAAEIQAACLSaAACKAoSmHAIYSJB4CEIAABCDQYgIIIAIYmnIIYChB4iEAAQhAAAItJoAAIoChKYcAhhIkHgIQgAAEINBiAgggAhiacghgKEHiIQABCEAAAi0mgAAigKEphwCGEiQeAhCAAAQg0GICCCACGJpyCGAoQeIhAAEIQAACLSaAACKAoSmHAIYSJB4CEIAABCDQYgIIIAIYmnIIYChB4iEAAQhAAAItJoAAIoChKYcAhhIkHgIQgAAEINBiAgggAhiacghgKEHiIQABCEAAAi0mgAAigKEphwCGEiQeAhCAAAQg0GICCCACGJpyCGAoQeIhAAEIQAACLSaAACKAoSmHAIYSJB4CEIAABCDQYgIIIAIYmnIIYChB4iEAAQhAAAItJoAAIoChKYcAhhIkHgIQgAAEINBiAgggAhiacghgKEHiIQABCEAAAi0mgAAigKEphwCGEiQeAhCAAAQg0GICCCACGJpyCGAoQeIhAAEIQAACLSaAACKAoSmHAIYSJB4CEIAABCDQYgIIIAIYmnIIYChB4iEAAQhAAAItJoAAIoChKYcAhhIkHgIQgAAEINBiAgggAhiacghgKEHiIQABCEAAAi0mgAAigKEphwCGEiQeAhCAAAQg0GICCCACGJpyCGAoQeIrEvjuO2nttaWHH5amnhpQEIAABCDQKAIIIAIYmksIYChB4isSePFFadllpVtvlbbeGlAQgAAEINAoAgggAhiaSwhgKEHiKxK47TapXz9p++2lG28EFAQgAAEINIoAAogAhuYSAhhKkPiKBE4/XbrySunzz6XPPpO6dgUWBCAAAQg0ggACiACG5hECGEqQ+IoE9t5bmn566frrpauukvr2BRYEIAABCDSCAAKIAIbmEQIYSpD4igTWWUfaZhvplVekn3+WLr0UWBCAAAQg0AgCCCACGJpHCGAoQeIrEphnHumKK6Rx46SddpKGDZMmmQRgEIAABCAQSgABRABDcwgBDCVIfFkCY8dK3bpJ770nzTabNPPM0gMPSCusADAIQAACEAglgAAigKE5hACGEiS+LIEPPpDmm08aM0aabDJp552lXr0kTwyhQAACEIBAGAEEEAEMyyAJAQwlSHxZAo88Iu25pzR4cPTjO++UjjhCeucdqUsXoEEAAhCAQAgBBBABDMkfxyKAoQSJL0vAy78MGCANGhT9eORIacYZJS8OvfDCQIMABCAAgRACCCACGJI/CGAoPeIrEjjqKOnLL6XLL//1kM02k5ZbTvLPKBCAAAQgUD8BBBABrD97okh6AEMJEl+WwLbbSkstJR1++K8/vvZa6eKLpeefBxoEIAABCIQQQAARwJD8QQBD6RFfkYB7+g49dMI9gN0j6NnAniDSpw/wIAABCECgXgIIIAJYb+4U4ugBDCVIfFkCHu83cKC0zDIT/vh3v5O23FLad1/AQQACEIBAvQQQQASw3txBAEPJEV+RwDffSNNOK331lTTddBMedsEF0j33SP/4BwAhAAEIQKBeAgggAlhv7iCAoeSIr0jAW7+5p2/EiIkP+fBDad55peHDo32CKRCAAAQgUDsBBBABrD1rJozgFXAoQeInIuA1/04+WXrppfJw/Fp4//2jxaEpEIAABCBQOwEEEAGsPWsQwFBmxHdC4KyzpGeekW6/vfyBBTm0KFIgAAEIQKB2AgggAlh71iCAocyI74RA//7SlFNKZ5xR/sA33ojWA/ziC2mKKcAJAQhAAAK1EkAAEcBac6b0eF4BhxIkfiIC668vbbqptM8+5eGMGyfNP7905pmSF4emQAACEIBAbQQQQASwtoyZ+GgEMJQg8RMRWGAB6cILpXXXrQzHawR+/rnkxaEpEIAABCBQGwEEEAGsLWMQwFBexHdC4Oefo9e6b74ZzfatVJ56Stp442g28GSTgRUCEIAABGohgAAigLXkS7lj6QEMJUj8BASGDpXmnFMaPVrq2rUynF9+kXr3lm6+OVoyhgIBCEAAAtUTQAARwOqzpfyRCGAoQeInIPDPf0q77CINGdI5mL33ln7zG8mLQ1MgAAEIQKB6AgggAlh9tiCAoayIr4LANddI118vPfJI5wc/+KBkCfTi0F26dH48R0AAAhCAQEQAAUQAQ58FegBDCRI/AYFjjpE+/li66qrOwfzwgzTTTNKjj068Z3Dn0RwBAQhAIL8EEEAEMDT7EcBQgsRPQGCHHaSFF5aOPro6MNttF00WOemk6o7nKAhAAAIQoAfQOcCLo7AnAQEM40d0CYGVVpL220+y2FVTBgyI5M+LQ1MgAAEIQKA6AvQAIoDVZUrloxDAUILET0Bgllmke+6Rll++OjDffhu9BrYAzjdfdTEcBQEIQCDvBBBABDD0GUAAQwkS/z8CI0dKU00lffZZJHXVlg02iJaC8eLQFAhAAAIQ6JwAAogAdp4lHR+BAIYSJP5/BNyLt+KKHptS26zeK66QPHvYi0NTIAABCECgcwIIIALYeZYggKGMiK+SwN//LnkW8KuvVhkQH+bdQGadVfIi0r161RbL0RCAAATySAABRABD854ewFCCxP+PwHnnSV4I+q67aoeyyirSTjtF6wJSIAABCECgYwIIIAIY+owggKEEif8fgT/9SZp8cunss2uH4piHH5a8ODQFAhCAAAQQwM5ygGVgOiPU8c8RwDB+RBcR2Ggjaf31pf79a8cyeLC00ELS559LPXrUHk8EBCAAgTwRoAeQHsDQfEcAQwkS/z8CXgD6rLMkz+qtpyy+uHTkkdWvIVjPNYiBAAQgkAUCCCACGJrHCGAoQeLHExg3TppiCunll6UFF6wPyrHHSu+8I3lxaAoEIAABCFQmgAAigKHPBwIYSpD48QQ++UTq3VsaPVrq1q0+KJbH1VaLXgPXe476rkwUBCAAgXQRQAARwNCMRQBDCRI/nsCTT0rbbCMNG1Y/EPcizjWXdMkl9b9Grv/qREIAAhBIDwEEEAEMzVYEMJQg8eMJXH+95AWdH388DMgBB0jeUcTnokAAAhCAQHkCCCACGPpsIIChBIkfT+CEE6QPPpCuvTYMyGOPRT2JH38sTTpp2LmIhgAEIJBVAgggAhia2whgKEHixxPYZRdpnnkkT+QIKWPHSrPMIt19t+TFoSkQgAAEIDAxAQQQAQx9LhDAUILEjyew6qrRLh477hgO5Pe/l6afPlpShgIBCEAAAghguRxgIeiwJwMBDONHdEzAe/nedpu00krhSLyn8IEHSu+/L3XhCQ8HyhkgAIHMEaAHkB7A0KRGAEMJEj9+6RevAehxe716hQPx+WacUXr6acmLQ1MgAAEIQGBCAgggAhj6TCCAoQSJ19tvS0svLY0a1bgeuy23lJZYInxMIbcHAhCAQBYJIIAIYGheI4ChBInXAw9Ihx4qvflm42DccIN09tnRziIUCEAAAhCgB7A0BxghFPZUIIBh/IiWdNFF0sCB0r33Ng7HiBFSz57Se+9Jc87ZuPNyJghAAAJZIEAPID2AoXmMAIYSJF4HHST9/LN0/vmNhbHOOtKGG0peHJoCAQhAAAK/EkAAEcDQ5wEBDCVIvDbbTPrd76T9928sDG8Jd+utkheHpkAAAhCAAAJYnAO8Ag57IhDAMH5EK5qpe8op0sYbNxbHf/8rzTGH9Mkn0kwzNfbcnA0CEIBAmgnQA0gPYGj+IoChBHMeP26cNPXU0rPPSoss0ngYyy8fLTDtxaEpEIAABCAQEUAAEcDQZwEBDCWY8/jPPpNmnlkaOTJaC7DR5bTTovUAvTg0BQIQgAAEEMBCDvAKOOxpQADD+OU++plnpM03j17TNqP8+9/SkktKX3whTTVVM67AOSEAAQikjwA9gPQAhmYtAhhKMOfxN90ULQPz1FPNA7HggtEYQy8OTYEABCAAAV4BOwfoAQx7EhDAMH65j7aYeScQL9zcrHLkkdLQoc29RrPqznkhAAEINIMAPYAIYGheIYChBHMev/vu0qyzSiee2DwQnmDSt6/0+efS5JM37zqcGQIQgEBaCCCACGBoriKAoQRzHu/1/3bZRdp11+aB+OUXqU8f6dprJS8OTYEABCCQdwIIIAIY+gwggKEEcx7vdfquv15abbXmgujfPzr/xRc39zqcHQIQgEAaCCCACGBoniKAoQRzHP/jj1K3btJHH0mzzdZcEIMGRb2MHgs4ySTNvRZnhwAEIJB0AgggAljoa/4AACAASURBVBiaowhgKMEcx7/3nrTootLo0c2Xsp9+inYDGThQ8uLQFAhAAAJ5JoAA5kMAt5HkF2BLSPJKaB4G/0sHie+dU1eU9EM8S3qcpMMkXVYmBgHM82+QwLZbxrz/r9fqa0XZccdoLKAXh6ZAAAIQyDMBBDAfAuhh79NL8j4LV1YhgI9KelzScVU8HAhgFZA4pDyBSy+V7r1XeuCB1hC64w7p6KNbJ5ytaRVXgQAEIFA7AQQwHwJYyIzVJT1SpQA+IenYKlIKAawCEoeUJ3DoodKoUa2bmPH999KMM0qvvCJ5cWgKBCAAgbwSQAARwHK57x7ARSV5qPxwSfdIOlnSyDIHI4B5/e3RgHZ7Z46VVpIOPrgBJ6vyFJtsIq24ouTFoSkQgAAE8koAAUQAy+X+CpI8KutrSYtJuk7SO5K2QwDz+quiOe1eemnpmGOivYBbVa65RrrsMsmLQ1MgAAEI5JUAAogAVpP7XqHtYUlTxxNDimPG9wD2799fXbt2Hf/vffv2Hf+HAoGOCIwbJ007rfT449ISnp7UouLdQHr1kj78MNqBhAIBCEAgLwQGDhwo/3H58ccfdXG0MGoPSd/mhUFxO/O0F3C1YwBL86AggJa9MSU/5BVwHp+aBrT5q6+kGWaQvvlGmsZZ1MKyxhpSv37SH//YwotyKQhAAAIJIkAPYD56AD2Wz0u/WAAfjHvyfvYXAEle4qW49JS0lCRPAhklaRFJ10oaImnrMrmLACbogU5TVV54QVp//Wh/3laX886T7r9f8uLQFAhAAAJ5JIAA5kMAd5F0TZHsudfT4vc7SR9IekvSepKelDS7pNskzS9pUkmfSrqDSSB5/PXQ3Dbfeqt09tntGYs3ZIg033zSZ59J003X3HZydghAAAJJJIAA5kMAm5l79AA2k26Gz/2Xv0ivvirdfHN7GrnUUtHsYy8OTYEABCCQNwIIIAIYmvMIYCjBnMbvtVe0Ndspp7QHwIknRgLqxaEpEIAABPJGAAFEAENzHgEMJZjT+LXXlrbbTtp99/YAeP11aYUVpC++kLp3b08duCoEIACBdhFAABHA0NxDAEMJ5jR+7rmlK6+U1lyzPQC8DM2880rnnit5cWgKBCAAgTwRQAARwNB8RwBDCeYwfuxYqVs36f33pTnnbB+AffeVJp1UOv/89tWBK0MAAhBoBwEEEAEMzTsEMJRgDuM/+ECaf35p9GhpssnaB+Daa6Wrr44Wo6ZAAAIQyBMBBBABDM13BDCUYA7j//EPae+9ox7AdpbXXpNWXjlajHoSr5ZJgQAEIJATAgggAhia6ghgKMEcxl9xhXTbbdL//V97G//TT9LUU0sWQfdIUiAAAQjkhQACiACG5joCGEowh/FHHimNGCFddln7G7/cctJBB0nbbtv+ulADCEAAAq0igAAigKG5hgCGEsxh/DbbSMssIx12WPsbv88+0V7EZ5zR/rpQAwhAAAKtIoAAIoChuYYAhhLMYfxvfysdfri01Vbtb/xf/yp5W7qHH25/XagBBCAAgVYRQAARwNBcQwBDCeYwfoYZpEGDpKWXbn/jX3hBWndd6csvpS7eJZsCAQhAIAcEEEAEMDTNEcBQgjmL//prabrppK++iv7b7jJmTDQR5L332rsmYbs5cH0IQCBfBBBABDA04xHAUII5i3/55Wj3D08CSUpZcknp2GOlLbZISo2oBwQgAIHmEkAAEcDQDEMAQwnmLP7OO6VTTpFefDE5Df/976XevaWTT05OnagJBCAAgWYSQAARwND8QgBDCeYs/qyzpGefjdYBTEq56CLpgQeiPxQIQAACeSCAACKAoXmOAIYSzFn8H/8Yjbk7/fTkNPypp6TNN5c+/ZSJIMm5K9QEAhBoJgEEEAEMzS8EMJRgzuLXWy+SLW8Fl5QycmQkpcOGRa+CKRCAAASyTgABRABDcxwBDCWYs3hvuXbxxdI66ySr4QsvHC0GvdFGyaoXtYEABCDQDAIIIAIYmlcIYCjBHMX//LPUvbv09tvSPPMkq+E77hjtB+zZwBQIQAACWSeAACKAoTmOAIYSzFH8Rx9Jc80lee29ySdPVsPPOUd6/HHp7ruTVS9qAwEIQKAZBBBABDA0rxDAUII5in/sMWm33aQPPkheo123nXeWLKkUCEAAAlkngAAigKE5jgCGEsxR/NVXSzfcID3ySPIaXdih5LPPpJlmSl79qBEEIACBRhJAABHA0HxCAEMJ5ij+mGOkTz6RrrwymY2ed17pkkuivYEpEIAABLJMAAFEAEPzGwEMJZij+B12kBZZRDrqqGQ2ul8/aemlpSOOSGb9qBUEIACBRhFAABHA0FxCAEMJ5ih+xRWl/feXtt02mY3+y1+kl16Sbr01mfWjVhCAAAQaRQABRABDcwkBDCWYo/iZZ5buvVdabrlkNvr//k/yTiXvv5/M+lErCEAAAo0igAAigKG5hACGEsxJ/PffR7ttfP65NOOMyWy069azpzRihDTttMmsI7WCAAQg0AgCCCACGJpHCGAowZzEv/66tPLK0jffJHu/3dlnl/72N2mNNXJyY2gmBCCQSwIIIAIYmvgIYCjBnMTfc4903HHSK68ku8GbbSattpp00EHJrie1gwAEIBBCAAFEAEPyx7EIYCjBnMSfe670xBPSnXcmu8Ennii9+260XiEFAhCAQFYJIIAIYGhuI4ChBHMSv99+Uteu0tlnJ7vB990nHXaY9NZbya4ntYMABCAQQgABRABD8ocewFB6OYrfaCNp/fWl/v2T3eiPP5Zmm0367jtpyimTXVdqBwEIQKBeAgggAlhv7hTi6AEMJZiT+IUXjnr/LIFJLuPGSb16Ra+qV1opyTWlbhCAAATqJ4AAIoD1Z08UiQCGEsxB/C+/RL1pngCywALJb/AGG0j+s+++ya8rNYQABCBQDwEEEAGsJ2+KYxDAUII5iC+8Vh01SurWLfkN/vOfJdf56quTX1dqCAEIQKAeAgggAlhP3iCAodRyFv+vf0nbbScNHZqOhvv1r2cDJ33JmnTQpJYQgEASCSCACGBoXtIDGEowB/FeWPmqq6R//jMdjR0yRJpvvmgiSBp6LNNBlVpCAAJJIoAAIoCh+YgAhhLMQfzxx0sffihdc006GuuJIDPMIHlv4GWXTUedqSUEIACBWggggAhgLflS7lgEMJRgDuJ33jnqUTvmmPQ0du21pX79pL32Sk+dqSkEIACBagkggAhgtblS6TgEMJRgDuJXWUX6wx+kHXZIT2O9GPS330qXXZaeOlNTCEAAAtUSQAARwGpzBQEMJZXj+N69pdtvT9e6erfcIp1zjvTcczm+cTQdAhDILAEEEAEMTW56AEMJZjx+9GhpiimkTz6RZpklPY31fsCLLx5NBJl88vTUm5pCAAIQqIYAAogAVpMnHR2DAIYSzHj8229LyywjjRwpdemSnsZ68eoePaQnn4xEkAIBCEAgSwQQQAQwNJ8RwFCCGY+//37p8MOlN95IX0NXW036/e+lXXdNX92pMQQgAIGOCCCACGDoE4IAhhLMePyFF0qDBkl//3v6GnrAAZJ7Ai+4IH11p8YQgAAEEMCOcyBFL6USmcwIYCJvS3IqdeCBktfVO++85NSp2pp4Aeu//lXyTiYUCEAAAlkiQA8gPYCh+YwAhhLMePymm0prrSX96U/pa6hfW6+wgvTNN9Kkk6av/tQYAhCAQCUCCCACGPp0IIChBDMev9hi0mmnSRttlL6Gjh0rTT219PLL0oILpq/+1BgCEIAAAlg5B3gFHPZ8IIBh/DId7Ve/U00lPf+8tPDC6WyqewDde7n99umsP7WGAAQgUI4APYD0AIY+GQhgKMEMxw8fHq395yVgvBZgGssf/xjV/ayz0lh76gwBCECgPAEEEAEMfTYQwFCCGY5/5hlp882jRaDTWq68UrrpJumRR9LaAuoNAQhAYGICCCACGPpcIIChBDMcb3G6+OJoMeW0lpdektZcUxoxIl0LWaeVN/WGAARaQwABRABDMw0BDCWY4fiTT5beeUe6/vr0NvKHH6KJIP/+tzT33OltBzWHAAQgUEwAAUQAQ58IBDCUYIbjvYtGnz7SCSeku5FLLy0ddZS01Vbpbge1hwAEIFAggAAigKFPAwIYSjDD8WusIe22m7TLLulu5B57SD17Sqeemu52UHsIQAACCOCvOcAyMGHPAwIYxi/T0bPPLt14o7Tqqulu5iWXRFvZPfRQuttB7SEAAQgggAhgo54CBLBRJDN2Ho+d695dGjpUmnXWdDfOs5k32UTysjZd+MqY7ptJ7SEAgfEEeAXMK+DQRwEBDCWY0fh335UWX1waNUqaZJJ0N9Jt8ESQDz+UZpst3W2h9hCAAAQQwCgH+D4f9iwggGH8Mhvt16UHHii9/XY2mrjootEYQPcEUiAAAQiknQA9gAhgaA4jgKEEMxrvcXP33Sc98EA2GrjzztEyMMcfn4320AoIQCDfBBBABDD0CUAAQwlmNP7QQ6XRo6WLLspGA887L9oNxJNBKBCAAATSTgABRABDcxgBDCWY0fgtt5RWXlk66KBsNPDxx6Xtt5eGDctGe2gFBCCQbwIIIAIY+gQggKEEMxq/1FLSccdJm22WjQZ++63Uo4f06afSzDNno020AgIQyC8BBBABDM1+BDCUYAbjx42Tpp1WeuKJaCZwVsr880sXXCCtt15WWkQ7IACBvBJAABHA0NxHAEMJZjD+yy+lGWf0OlPR8ilZKdtuGwmtt4WjQAACEEgzAQQQAQzNXwQwlGAG459/XtpwQ+mzz7LVuDPOkJ57Trr99my1i9ZAAAL5I4AAIoChWY8AhhLMYPyAAdK550reQSNL5eGHpb32kv7znyy1irZAAAJ5JIAAIoCheY8AhhLMYPxpp0mvvy7ddFO2Gld4tf3VV9J002WrbbQGAhDIFwEEEAEMzXgEMJRgBuP33FPq2VM65ZTsNW7OOaWrr5bWXDN7baNFEIBAfggggAhgaLYjgKEEMxi/9trSdttJu++evcZtsYW00krSIYdkr220qHMC7tn2AuezzBItB/Sb33QewxEQSCIBBBABDM1LBDCUYAbjvWXaVVdJv/td9hp38snSW29l7/V29u5U41t0/vnSkUdK00wTTXDyckceCmAZLPfHglj4d8+Kn3TSxteJM0KgXgIIIAJYb+4U4hDAUIIZi//pJ6l7d2nwYGmOOTLWOEV7Gx98sPT229lrGy0qT+CXX6J7fuON0f7Wyy0njR0rffFFtDB44c/w4RP+f+Hfv/5ammSSaFhEJVks/LuHGNCrSCa2ggACiACG5hkCGEowY/GeIbvAAtKYMdns8fCHeu/e0RqHU02VsZtHcyYi4Ne9O+0UTWp68EHJvdu1Fj8LleSwWCD9dwvgv/4lzTBDrVfheAjURgABRABry5iJj0YAQwlmLN5LpfzhD9J772WsYUXNsQDedlu01zEluwTcw7fpplH7/v735kvZzz9LW28dvV72c9StW3bZ0rL2E0AAEcDQLEQAQwlmLP6vf5XuuEMaODBjDStqzkYbSX37Svvtl9025r1lHsKw/vrSEktIf/tbNKyhFcU9jmutJc06q+T1NP3qmAKBZhBAABHA0LxCAEMJZiz+iCOkb76RLr00Yw0ras6xx0pDh0rXXJPdNua5Zc8+K1nyd9lF8u4vrZYw9zx6prnrcM45eb4TtL2ZBBBABDA0vxDAUIIZi+/XT/rtb6VDD81Yw4qac/fd0nHHSa++mt025rVlvrc77ih5MfN29vC6B3LFFaNZxwcemNe7QbubSQABRABD8wsBDCWYsfhll40+tLbcMmMNK2rORx9FkwG+/55xWlm6yxdeGOXuDTdIm23W/pZ5T20vOO6e5q22an99qEG2CCCACGBoRiOAoQQzFu/Zi4MGSUsvnbGGFTXH67/NNFM0K9S9nZR0E/AyL4cdJl13nXTvvdIKKySnPV52ZtttpYceklZZJTn1oibpJ4AAJksAp5C0jiTPLVxY0oySxkn6QpJXHXtS0sOSRiYo9RDABN2MdlfF6515YdwRI6Rpp213bZp7/XXXjXo59967udfh7M0l4CVadt5ZevnlSOjnnbe516vn7JdfHvVMPvWUtOCC9ZyBGAhMTAABTIYALibpYElbSPLKYqMlDZU0QlH9vO18H0leFMDyd4eksyW9noCkRgATcBOSUgV/iHoG41dfJaVGzauHJ7tYdP3hTEkngS+/jJZ5cQ+gl3nxbh1JLUcfHe0+8/TT0WLSFAiEEkAA2y+AAyR5tNQLkm6VNEjSW5J+Lrm53kTIvYLrSvJoEL94uk3SdqFJEBiPAAYCzFK4l3/x4PkXnM0ZL7feKp15puRxWpT0EfCC5V7mZZFFoh0+WrXMS72kPOzAPZXehvCf/2QR8no5EvcrAQSw/QJ4s6TTJb1SY2IuKelwBLBGahzeVAIFIbIcZb28/34kD54IMvnkWW9tttr33HPREis77CCddVZ6dqz58Udpgw2krl2jHsvJJsvWfaE1rSWAALZfAFt7xxt/NXoAG880tWf0DiA9ekh/+Utqm1B1xf3a0OMdH388WiyYkg4CFieL30knSQcckI46F9fSa2yuuqq0/PKSF13v4kFCFAjUQQABTJYAehLIDfEYvxvruJ/tCEEA20E9odf07hieGLHXXgmtYIOrtcYa0WLBu+3W4BNzuqYQuOSSX2f7pnmZomHDopnKnoB0zDFNQcVJc0AAAUyWADrlvo0nhFyRkvxDAFNyo1pRzfnmi3YAWXvtVlyt/dc46CDpp58krx9HSS4B99Z60s7VV0evTr3LRtrL669HPYHnnSftumvaW0P920EAAUyeAD4g6VNJv29gQmwjqb8kv6jyLGOPWPqlg/N7AY+LJW0YH3e/pH0lfVMmBgFs4I1K86m8kb03r3/nnWiR5DwULxhs4X3SCzRREknAy7xYkDwxycu8+EtKVsojj0gbbyzddZfkZYkoEKiFAAKYPAH0R+dASZ4dfJmkYbXc0ArHem3B6SX5FfOVVQighc+SaHH0CBPXxcvPlFsbHwFswA3Kwik+/DASP3/g5mVShGdkeiHob79Nz0SCLORatW3wckTe0cOTJ9zz17NntZHpOc4zmD321mNRl/TUQAoEqiSAACZPAL+T5LldXeN7OFbSDyX304tD96jyHhcftrqkRzoRwNklDZG0uKQ34mD/3bOU/bNSIUUA67gRWQx57LFoLNwHH2SxdeXb5F7PqaeWXnxRWmih/LQ7DS11HnqZFy+c7PXzpvDX34wWT7q64ALpmWek2f1bmgKBKggggMkTwGvj3T86u331DDuvRgA3kXRL3FtYXIcx8fqD95VUDAHs7E7l5OceX+XeiH/8IycNjpvp8WT9+0czSynJIODXvV7mZeutozFyk3oV1QwXrxHoHPT6gP/6VzQ7nQKBzggggMkTwM7uWcjPqxHAHSWdKalXyYU8LvEgSTchgCG3ILuxf/6zNHy4dEVapi816Fbsu6/0m99IZ3tvHkpbCIwdGy2Q7EW5/cdfRE44QTrwwPwsk2IGW2wRDUcYODDKSQoEOiKAACKApflRVw9g//791dWrk0rq27fv+D+UfBHYfntpscWiPUvzVNzzef310qOP5qnV7Wure7u8CHdB9vzfl16KevmWWSYak7nhhpKX6MlbGTlSWnPNaCyuJXiSSfJGgPZ2RmDgwIHyH5cff/xRF1/s+Z7jh5R5BZLclXYvo+mt3PzK1eP6aimu97aSvJNItaWaHkCPIPEoLs8YLowB9N9fkjQHYwCrRZ2/47wumXtctvHUoRyVV16RVl892heYD9zG3njLnte8K8ieX+36z6hR0YQHy17hzwILZP9VbzV0P/tMWnHFaD3OM86oJoJj8kqAHsD29wAOj83bL868t29nQ+jnldRP0u6SppRUzbbg/h7oWb0WwAclTR3vNfxjBfG8Nz7eo5osmpbM7yVtXuZBYQxgXn97lLTbMyzvvz/6QM5T8QxTTwTxK8h55slTyxvf1i++mLBnz+L3+efRlnvFsuee5viFQ+MrkYEzvvdeJIHHHy95iAIFAuUIIIDtF0BLnDck+pOkGeMZuO5tswiOiAXMQ3rnkrSspD6SvpR0gaRz4+VZOsvuXSRdUyR7ljr3OP4uvs5bktaTVFjNzOsAXiRpo/g4C6F/jZTrIkYAO6Ofg59/9500zTSSP8BnmCEHDS5p4rLLSocfHk06oFRHwDnj2dPFr3KHDJHmnXdC2VtqKWlK/5ak1ETAM4K9ILuHJ2xe7qt7TWfj4CwSQADbL4CFvPLSLxtL2lSS16l3X0Lh9bRlbbCkpyXdI8lC9lNCEhIBTMiNaGc1Xnst2pXg66/zM+i+mLe3vrP4nnZaO+9COq7tnVO8Np8XZe7de0LZs0gzg7Vx9/Huu6Udd5QGDYp6BCkQKCaAACZHAEsz0wsXePFml6/iV7ZJzF4EMIl3pcV18geNZ12+/HKLL5yQy112WbQbQzy2OiG1SmY1PEnovvukhx6SZp01mXXMUq08xv+446SnnpLmnz9LLaMtoQQQwOQKYOi9bVU8Atgq0gm+zrnnSk88Id15Z4Ir2cSqPfdcNPPUA/C7tHtaWRPbGXrqhx+Oev+efTYa10dpDYHDDpPuuEN6+uls7obSGorZuwoCmDwB9B69nc0I9qLM3pHDC094zT6/Hm5XQQDbRT5B191vv2jdsbPOSlClWliV0aOjiSDefaKPR+lSJiJgOV5iCenEE6U99wRQKwn88ku0UPm770o77RSNqZxqquhPub/73/w882WmlXep9ddCAJMngMfH4wD9/dgzdt+P08JbmHuihpdm8V4Lng28gSTL4GqSXm19+oy/IgLYJvBJuqx7v/znj39MUq1aW5fFF5dOOkna1KN4KRMQsIA4PyzJAwYgFu1Ijx9+kI46SvKe3d9/H/3xuoGlf/fSOy5eV7EjQSwnkF6ax0siIY7tuMO1XxMBTJ4A7iXpmHjJlv+U3FJL32OSLIlXSrIUemLIs5I2rP32NyQCAWwIxnSfxPvg+jXwev6KktOy667SHHNEYyEpExLwLikXXih5zcRpvcYAJZEELH/uzS4nhpWEsfDvntXt/cC99/Ixx0S/CxDBRN7m/1UKAUyeAL4n6SpJf6mQOt5n4fex/PmQkyX1l9Su3R8RwGQ/402vnXt3pphC8kzgPA8yv+CCaLblvZ6jT/kfAS/z4l4h7xHNTNRsJ4a3obvkkmhbxDnnlLw95Cab5FcEvYi5e7z9e8FrpCZtT2oEMHkCODruAaw0mupQSSdK6h7/KtkjXhNwijb9akEA2wQ+KZf973+jcW/uOcjz/qOeBLPttpJ5UCICFgKv47fHHvnbIjDPOeAexMsvl848M5p0YhH0ziR52Cnnq6+k22+XbrpJevLJaEtCb5PpMZhJW7wcAUyeAL4Q9+Z5LUDvElJcvOvHU/GyMF4U2uXUeEu4udv0CwcBbBP4pFzW4uNfbh99lJQatacefgXWo4f08cfSLNXsz9Oearbsqn6d6DXoPPnDy+Pk4cO/ZXBTciF/KbzqKun006OF4o8+OtoqMmk9YaE4Lbzu+bf0eXmjpZeWtttO6tdP6tUr9OzNi0cAkyeA3sLckz/GSrq7aBKIx/9tFm/R5pFWHgvYTZLHCfp4bw3XjoIAtoN6gq553XXSNddE43/yXrwf7XnnSeuvn3cS0rXXSl5+5NVXk/0hyJ1qPgFPQPHvCS+UPvnk0WQUf2n039NavKC5X+1a+rwOqt+CuE1+C+DdbNJQEMDkCaDzZilJHkq+VtGrXs/2fTieAOKt4pJSEMCk3Ik21cOLzLr3zxKY9+Jv/YsuGvV05Lm8847kXT1uuy3fE4PynAPl2m5puvFG6dRTJf/di4Lvskt6ho54vLMX1Lb03Xqr1L171NPnV7xe4ihtk14QwGQKYOHZmURSz/h/PpPkNQKTVhDApN2RFtfH64p58odn/uW9eMyT92D1ort5Le7tWWEFaa218rsuZF7vfbXtHjs2EqiTT5Y8dML7aHucaDe/00pY8VCG11+PpO/mm6Nlc7znt6VvlVXSPbQBAUy2ACbsUShbHQQwDXepiXX0L8E//CF6/ZH34pmu/iDzgtB5LfvvH/WSeAB80ga95/WeJLXd7lHz7kFeP9NjRQ89VNp772hx6nYXP8MWPouf/+71PS19666bnbxGABHA0OcMAQwlmPL43r2jHi+W+JA8A3CGGaQvv5SmL+zknfL7W0v1PRDeXwReeik946BqaR/HNoeARdC5YxH0cJKDDpL6948WDm9lGT48GrZg6XvhhUj2LH1eysYLX2etIIAIYGhOI4ChBFMcP2pU9G3900+lmWdOcUMaWPW55pKuvDJ6BZqn4jXPvBOE10P0hyYFArUS8OtWz6K1CP7739IBB0h/+lNjFg/3a+evv5ZGjPj1v/574c8///nrWpXO3622kmacsdYWpOt4BBABDM1YBDCUYIrj33pL+u1vo3ExaRsA3SzsXu/MY+D8Oisv5eefI+G1/DIZKC93vXnttAg+8kgkgi+/HEmgZdA9gpUErljmCqJX/G8ea+jimcfTTTfxH0/i8Aze2WdvXruSdmYEEAEMzUkEMJRgiuPvuy+ayedB0pSIwCmnSG+8EY0fyks58cRfX5tl8VVZXu5jEtvpdUYtgh5f61fFLp59a4nztoLlZK7Sv/tYx/JlNeKIACKAoc88AhhKMMXxft3nX8z33JPiRjS46g8+GPVWeCmUPBR/QHvfV0/68CtgCgSaQWDo0F977/K841Aj2SKACGBoPiGAoQRTHG/R8bfpc89NcSMaXHUPJPdOIN98E+1+kOXiSS+WvkMOiV7TUSAAgfQQQAARwNBsRQBDCaY43rPj1llH2m+/FDeiCVWfdVbpllukVVdtwskTckqP09piC8nj/9wDSun1lgAAIABJREFUzGu1hNwYqgGBKgkggAhglalS8TAEMJRgiuO964X3+dxwwxQ3oglV33hjae21Ja+Jl9VyySXRjg7e6s1L31AgAIF0EUAAEcDQjEUAQwmmNN49QB7w//zz0sILp7QRTaq2t8cbMiTa/zSL5bXXonUfH3hAWn31LLaQNkEg+wQQQAQwNMsRwFCCKY0vjHUbOVKaYoqUNqJJ1fYr0T//OZuzo32/vfSPt8M6wTuWUyAAgVQSQAARwNDERQBDCaY0/umnJa959/HHKW1AE6vtGYtzzhntc5o1OfZWd+++G63TNtlkTYTIqSEAgaYSQAARwNAEQwBDCaY0/sYbpUsvlf71r5Q2oInV9uvxnj0lr5O4/PJNvFCLTz1gQLTvs8f99enT4otzOQhAoKEEEEAEMDShEMBQgimN9+Ks770n/e1vKW1Ak6vdt6+02WaRMGWhfPCBtNRS0rXXRu2iQAAC6SaAACKAoRmMAIYSTGn8brtJc8whHX98ShvQ5Gp7h5QvvpCuuKLJF2rB6X/6KVrSZtllpYsuasEFuQQEINB0AgggAhiaZAhgKMGUxnv25+67SzvvnNIGNLnat90mHXusdPbZ0o8/Sj/80Nj/+pzet9SvmAt/ZpqpOY064gjJO5w8+6zUrVtzrsFZIQCB1hJAABHA0IxDAEMJpjTeY8C83+0qq6S0AU2u9iefSH4N7PGA3rqqa9fK/+3oZ6WxhWM9AWPw4EjK/Mdbz809968yuMIK0S4dodtmDRokbb55tNzPQgs1GRqnhwAEWkYAAUQAQ5MNAQwlmMJ492Z5U/Vhw6TevVPYgAxWecQI6bnnfhVCS6FnIVsC3UNoIfR/LYnV7trhpX6WWEI65ZSot5cCAQhkhwACiACGZjMCGEowhfFeBmTxxaVRo6RJJklhA3JQZfc8FvcQWghfflnq0UNabrlfhdB/n3baiYH88ou0wQbSdNNJN91UvTTmAC1NhEAmCCCACGBoIiOAoQRTGP/QQ9KBB0pvv53Cyue4ymPGSK+8MmEvoWf3zj//r0LoXsLFFpPOOy9a5qcgjTnGRtMhkEkCCCACGJrYCGAowRTGex/Y+++P/lDSTeDzzycUQvcUetavy2OPRb2FFAhAIHsEEEAEMDSrEcBQgimMP+SQaFbrhRemsPJUuUMCfvXrCSVjx0Y9gRQIQCCbBBBABDA0sxHAUIIpjN9ii2hdOL8GpkAAAhCAQPoIIIAIYGjWIoChBFMY75mlJ5wgbbppCitPlSEAAQhAQAggAhj6GCCAoQRTFu/ZpZ5J+uSTvCJM2a2juhCAAAT+RwABRABDHwcEMJRgyuK9vZl3nPAac1NNlbLKU10IQAACEBhPAAFEAEMfBQQwlGDK4r3Y8MYbS14kmAIBCEAAAukkgAAigKGZiwCGEkxZ/IAB0rnnSs88k7KKU10IQAACEOAVcFEOdCEfgggggEH40hd82mnS669Hu0NQIAABCEAgnQToAaQHMDRzEcBQgimL33NPaeaZpZNPTlnFqS4EIAABCNADSA9gw54CBLBhKNNxorXWknbYQfr979NRX2oJAQhAAAITE6AHkB7A0OcCAQwlmLL4ueaSrrlGWmONlFWc6kIAAhCAAD2A9AA27ClAABuGMvkn8h6x3bpJH3wgzT578utLDSEAAQhAoDwBegDpAQx9NhDAUIIpih88WFpoIWn0aGnSSVNUcaoKAQhAAAITEEAAEcDQRwIBDCWYovhBg6T+/aV3301RpakqBCAAAQhMRAABRABDHwsEMJRgiuIvv1y66y7poYdSVGmqCgEIQAACCGCZHGAdwLAHAwEM45eq6COO8PZB0iWXpKraVBYCEIAABEoI0ANID2DoQ4EAhhJMUXy/ftJvfysdemiKKk1VIQABCECAHkB6ABv+FCCADUea3BMuu6x05JHSllsmt47UDAIQgAAEOidADyA9gJ1nScdHIIChBFMUP/300j/+IS21VIoqTVUhAAEIQIAeQHoAG/4UIIANR5rME44YIVkAv/5a6tEjmXWkVhCAAAQgUB0BegDpAawuUyofhQCGEkxJ/EsvSeusI335ZUoqTDUhAAEIQKAiAQQQAQx9PBDAUIIpib/9dun006Xnn09JhakmBCAAAQgggB3kAMvAhD0gCGAYv9REn3GG9OKL0oABqakyFYUABCAAgQoE6AGkBzD04UAAQwmmJH6ffaTpppNOOy0lFaaaEIAABCBADyA9gE17ChDApqFN1onXXVfaemtpzz2TVS9qAwEIQAACtROgB5AewNqzZsIIBDCUYEri55tPuvRSae21U1JhqgkBCEAAAvQA0gPYtKcAAWwa2uSc+OefpW7dpHfekeaeOzn1oiYQgAAEIFAfAXoA6QGsL3N+jUIAQwmmIP7DD6V55pFGj5YmnzwFFaaKEIAABCDQIQEEEAEMfUQQwFCCKYh/9FFp992l//wnBZWlihCAAAQg0CkBBBAB7DRJOjkAAQwlmIL4q66Sbr5ZevjhFFSWKkIAAhCAQKcEEEAEsNMkQQBDEaU//uijpc8/l/761/S3hRZAAAIQgICEACKAoc8BPYChBFMQv9120hJLSEcckYLKUkUIQAACEOiUAAKIAHaaJPQAhiJKf/zyy0sHHyz165f+ttACCEAAAhCgB9A5wFZwYU8CPYBh/FIRPdNM0oMPSssum4rqUkkIQAACEOiEAD2ACGDoQ4IAhhJMePx330nTTCN98YU0wwwJryzVgwAEIACBqggggAhgVYnSwUEIYCjBhMe/9pq06qrS119LXegvT/jdonoQgAAEqiOAACKA1WVK5aMQwFCCCY+/+27phBOkl19OeEWpHgQgAAEIVE0AAUQAq06WCgcigKEEEx5/zjnSk09Kd9yR8IpSPQhAAAIQqJoAAogAVp0sCGAoqnTG77uv1L27dOaZ6aw/tYYABCAAgYkJIIAIYOhzQQ9gKMGEx2+wgbTxxtIf/pDwilI9CEAAAhComgACiABWnSz0AIaiSmf8ggtK558v9e2bzvpTawhAAAIQoAewXA4wrzHsyaAHMIxfoqN/+SV6/fvGG9J88yW6qlQOAhCAAARqIEAPID2ANaRL2UMRwFCCCY4fNkyafXZpzBipa9cEV5SqQQACEIBATQQQQASwpoQpczACGEowwfFPPCHtsIP00UcJriRVgwAEIACBmgkggAhgzUlTEoAAhhJMcPx110nXXCM99liCK0nVIAABCECgZgIIIAJYc9IggKHI0hN/3HHS0KHS1Venp87UFAIQgAAEOieAACKAnWdJx0fQAxhKMMHxO+0kLbCA9Oc/J7iSVA0CEIAABGomgAAigDUnDT2AocjSE7/yylL//tL226enztQUAhCAAAQ6J4AAIoCdZwk9gKGMUhvfq5d0113SCiuktglUHAIQgAAEyhBAABHA0AeDV8ChBBMaP2qUNOWU0vDhUs+eCa0k1YIABCAAgboIIIAIYF2JUxSEAIYSTGj8m29Kyy8vffed1IXl0hN6l6gWBCAAgfoIIIAIYH2Z82sUAhhKMKHx994rHX209NprCa0g1YIABCAAgboJIIAIYN3JEwcigKEEExp/wQXSI49Id9+d0ApSLQhAAAIQqJsAAogA1p08CGAoumTHH3BA9Or33HOTXU9qBwEIQAACtRNAAPMjgCdI2kOSe+xelNRf0psVUsb7Pqwo6QdFfMZJOkzSZWWOpwew9ucuFRGbbCKts460336pqC6VhAAEIACBGggggPkQwEMl7StpfUmDJR0naWdJ80saVSZfHpX0eHxcZ+mEAHZGKKU/X3RR6fTTpQ03TGkDqDYEIAABCFQkgADmQwD/I+kcSRfFmTCppI8lHSTpxgoC+ISkY6t4dhDAKiCl7ZBx46IlYF58UVpoobTVnvpCAAIQgEBnBBDA7AugBe3r+JXus0UJMVDS65IOqSCAi0qaRNJwSfdIOlnSyDLHIoCdPWUp/Pmnn0peBNprAXbvnsIGUGUIQAACEOiQAAKYfQGcTdJHktyP805RNtwi6VtJe5XJEO/78O9YHBeTdF0cux0CmI/fKE89JW29tfTf/+ajvbQSAhCAQN4IIIDZF8B6egBLn4PVJD0saep4Ykjxz8f3APbv319du3Yd/+99+/Yd/4eSXgI33CBdfrn0hAcCUCAAAQhAIBMEBg4cKP9x+fHHH3XxxRf7rz3iDqFMtLGWRuRhj4NyYwA/kXRghTGAlQTQsjem5Ie8Aq4l21Jy7IknSoMHS9e575cCAQhAAAKZI0APYPZ7AJ20HufnWcCez2kZ9OSOHSUtUGYWsHd9XUqS+348Q3gRSddKGiJp6zJPAAKYuV8L0m67SXPOKR3n+eIUCEAAAhDIHAEEMB8C6MQ9XtLe8WvcF4rWAewj6S1J60l6UtLskm6Ll4jxbOFPJd3BJJDMPfsdNmj11aXdd5d29mJBFAhAAAIQyBwBBDA/Atis5KUHsFlk23jePn2km2+WVlmljZXg0hCAAAQg0DQCCCACGJpcCGAowYTFjxkjTTGFNGyY1Lt3wipHdSAAAQhAoCEEEEAEMDSREMBQggmLf+cdacklpZEjpUm8EiQFAhCAAAQyRwABRABDkxoBDCWYsPgHH5QOPlh6yyNDKRCAAAQgkEkCCCACGJrYCGAowYTFe1koS+B99yWsYlQHAhCAAAQaRgABRABDkwkBDCWYsHj3/v30k3TBBQmrGNWBAAQgAIGGEUAAEcDQZEIAQwkmLH7zzSUvA3PAAQmrGNWBAAQgAIGGEUAAEcDQZEIAQwkmLH6JJaSTTpI22SRhFaM6EIAABCDQMAIIIAIYmkwIYCjBBMWPGyf16CE9+aS02GIJqhhVgQAEIACBhhJAABHA0IRCAEMJJij+iy+kmWaSvvtOmmqqBFWMqkAAAhCAQEMJIIAIYGhCIYChBBMU/9xz0sYbS8OHJ6hSVAUCEIAABBpOAAFEAEOTCgEMJZig+Ftukc4/X3r66QRViqpAAAIQgEDDCSCACGBoUiGAoQQTFH/qqdKbb0o33pigSlEVCEAAAhBoOAEEEAEMTSoEMJRgguL32EPq1SuaBUyBAAQgAIHsEkAAEcDQ7EYAQwkmKH7NNaWddpJ22y1BlaIqEIAABCDQcAIIIAIYmlQIYCjBBMXPOad03XXRQtAUCEAAAhDILgEEEAEMzW4EMJRgQuK9/Vu3btKQIVKfPgmpFNWAAAQgAIGmEEAAEcDQxEIAQwkmJH7wYGmhhaTRo6VJJ01IpagGBCAAAQg0hQACiACGJhYCGEowIfGDBkn9+0vvvpuQClENCEAAAhBoGgEEEAEMTS4EMJRgQuIvv1y66y7poYcSUiGqAQEIQAACTSOAACKAocmFAIYSTEj84YdHW8BdcklCKkQ1IAABCECgaQQQQAQwNLkQwFCCCYnfemtp+eWlQw5JSIWoBgQgAAEINI0AAogAhiYXAhhKMCHxyywjHX20tMUWCakQ1YAABCAAgaYRQAARwNDkQgBDCSYkfrrppEcflZZcMiEVohoQgAAEINA0AgggAhiaXAhgKMEExI8YIU0/vfT111KPHgmoEFWAAAQgAIGmEkAAEcDQBEMAQwkmIP7FF6W+faUvvkhAZagCBCAAAQg0nQACiACGJhkCGEowAfG33y6dcYb03HMJqAxVgAAEIACBphNAABHA0CRDAEMJJiDe8udewAEDElAZqgABCEAAAk0ngAAigKFJhgCGEkxA/D77SJ4EctppCagMVYAABCAAgaYTQAARwNAkQwBDCSYgft11Ja8DuOeeCagMVYAABCAAgaYTQAARwNAkQwBDCSYgft55JW8Ft9ZaCagMVYAABCAAgaYTQAARwNAkQwBDCbY5fuxYqXt36d13pbnmanNluDwEIAABCLSEAAKIAIYmGgIYSrDN8UOGSO4BHDNGmmyyNleGy0MAAhCAQEsIIIAIYGiiIYChBNsc/8gj0di/wYPbXBEuDwEIQAACLSOAACKAocmGAIYSbHP8lVdGy78MGtTminB5CEAAAhBoGQEEEAEMTTYEMJRgm+OPPjraAcSTQCgQgAAEIJAPAgggAhia6QhgKME2x2+3nbTEEtIRR7S5IlweAhCAAARaRgABRABDkw0BDCXY5vjll5cOPljq16/NFeHyEIAABCDQMgIIIAIYmmwIYCjBNsfPNJP04IPSssu2uSJcHgIQgAAEWkYAAUQAQ5MNAQwl2Mb4b7+VevSQvvxSmn76NlaES0MAAhCAQEsJIIAIYGjCIYChBNsY/+qr0uqrSyNGSF26tLEiXBoCEIAABFpKAAFEAEMTDgEMJdjG+Lvukk46SXrppTZWgktDAAIQgEDLCSCACGBo0iGAoQTbGH/22dLTT0u3397GSnBpCEAAAhBoOQEEEAEMTToEMJRgG+P795emnFI644w2VoJLQwACEIBAywkggAhgaNIhgKEE2xi//vrSpptK++zTxkpwaQhAAAIQaDkBBBABDE06BDCUYBvjF1xQOv98qW/fNlaCS0MAAhCAQMsJIIAIYGjSIYChBNsU/8svUvfu0htvSPPN16ZKcFkIQAACEGgLAQQQAQxNPAQwlGCb4ocNk2afXRozRuratU2V4LIQgAAEINAWAgggAhiaeAhgKME2xT/+uLTTTtKHH7apAlwWAhCAAATaRgABRABDkw8BDCXYpvhrr5Wuu0569NE2VYDLQgACEIBA2wgggAhgaPIhgKEE2xR/7LHSf/8rXXVVmyrAZSEAAQhAoG0EEEAEMDT5EMBQgm2K33FHaaGFpKOPblMFuCwEIAABCLSNAAKIAIYmHwIYSrBN8SutJO23n7Tddm2qAJeFAAQgAIG2EUAAEcDQ5EMAQwm2KX6WWaR77pGWX75NFeCyEIAABCDQNgIIIAIYmnwIYCjBNsSPGhVtATd8uNSzZxsqwCUhAAEIQKCtBBBABDA0ARHAUIJtiH/zzajn77vvpC5d2lABLgkBCEAAAm0lgAAigKEJiACGEmxD/L33RpM/XnutDRfnkhCAAAQg0HYCCCACGJqECGAowTbEe/9fr/93991tuDiXhAAEIACBthNAABHA0CREAEMJtiF+//2lSSeVzjmnDRfnkhCAAAQg0HYCCCACGJqECGAowTbEb7yx1LevtO++bbg4l4QABCAAgbYTQAARwNAkRABDCbYhfpFFpDPPlDbYoA0X55IQgAAEINB2AgggAhiahAhgKMEWx48bJ00xhfTyy9KCC7b44lwOAhCAAAQSQQABRABDExEBDCXY4vhPPpF695ZGj5a6dWvxxbkcBCAAAQgkggACiACGJiICGEqwxfFPPSX16ycNG9biC3M5CEAAAhBIDAEEEAEMTUYEMJRgi+NvuEG6/HLpiSdafGEuBwEIQAACiSGAACKAocmIAIYSbHH8iSdKgwdL113X4gtzOQhAAAIQSAwBBBABDE1GBDCUYIvjd91Vmmsu6bjjWnxhLgcBCEAAAokhgAAigKHJiACGEmxx/GqrSXvuKe20U4svzOUgAAEIQCAxBBBABDA0GRHAUIItjp9tNmnAAGnllVt8YS4HAQhAAAKJIYAAIoChyYgAhhJsYfyYMVL37tLHH0u9erXwwlwKAhCAAAQSRQABRABDExIBDCXYwvh//1taailp1CipS5cWXphLQQACEIBAoggggAhgaEIigKEEWxj/wAPSoYdKb77ZwotyKQhAAAIQSBwBBBABDE1KBDCUYAvjL75Yeugh6d57W3hRLgUBCEAAAokjgAAigKFJiQCGEmxh/MEHSz/9JF1wQQsvyqUgAAEIQCBxBBBABDA0KRHAUIItjN98c2n11aUDDmjhRbkUBCAAAQgkjgACiACGJiUCGEqwhfFLLCGddJK0ySYtvCiXggAEIACBxBFAABHA0KREAEMJtih+3Dhpmmmkp5+WFl20RRflMhCAAAQgkEgCCCACGJqYCGAowRbFf/651LOn9P330pRTtuiiXAYCEIAABBJJAAFEAEMTEwEMJdii+GeflTbdVPr00xZdkMtAAAIQgEBiCSCACGBociKAoQRbFH/zzdKFF0pPPdWiC3IZCEAAAhBILAEEEAEMTU4EMJRgi+JPOUV6+23phhtadEEuAwEIQAACiSWAACKAocmJAIYSbFH8HntIvXtLJ57YogtyGQhAAAIQSCwBBBABDE1OBDCUYIvi11xT2mknabfdWnRBLgMBCEAAAoklgAAigKHJiQCGEmxR/JxzStddFy0ETYEABCAAgXwTQAARwNAnAAEMJdiC+B9/lLp3l4YMkfr0acEFuQQEIAABCCSaAAKIAIYmKAIYSrAF8e+/Ly2yiDRqlDTppC24IJeAAAQgAIFEE0AAEcDQBEUAQwm2IP7//k/abz/pnXdacDEuAQEIQAACiSeAAOZHAE+QtIckC9uLkvpLerNChk4r6WJJG0r6RdL9kvaV9E2Z4xHAxD/m0mWXSffcIz34YAoqSxUhAAEIQKDpBBDAfAjgobHArS9psKTjJO0saX5Jo8pkmYVvcknbKOIzQNJISZshgM19JgcOHKi+ffs2/CKHHSaNHCldbK3PQWkWxxygm6iJsGzcXYdlY1jCsTEcEcB8COB/JJ0j6aI4bTwK7GNJB0m6sSSVZpc0RNLikt6If+a/vyLJPxtWcjw9gI15Fsef5aCDDtI55/hWNbZstZW04orSwQc39rxJPVuzOCa1vc2sFywbRxeWjWEJx8ZwRACzL4AWtK8lrSjp2aK0GSjpdUmHlKTSJpJukTRFyb+PkbSVpPsQwMY8fOXO0qxfbEsvLR1zjLT55s2re5LO3CyOSWpjq+oCy8aRhmVjWMKxMRwRwOwL4GySPpK0kKTiKQCWvG8l7VWSSjtKOlNSr5J//zTuMbypnAAOHTpU00xj1+y4nHeeNHx4Z0fl9+dPPnmUVl751IYDuOYayRNBFndfbg7KUUcdpVNPbTzHHKCbqImwbNxdh2VjWMKxMRwtgH2idcF6xD7QmBOn6Cwe45bl0uwewFnLvBbOMk/aBgEIQAACEMgSAXcU/TdLDaq2LVkXQHMoNwbwE0kHVhgD+IGkJYrGAPrvL0mao4zsmV9vSd9VC5zjIAABCEAAAhBIBIGp4zkB4xJRmxZXIg8C6HF+XsbFy7pYBo+V5Fe9C1SYBXxvPAt4h3gW8M2SvpeUkxFkLc5ALgcBCEAAAhCAQMsJ5EEADfV4SXtLsu2/ULQOoAcAvCVpPUlPxvS9DqBnDG8kyd8KLIQWSI8ZpEAAAhCAAAQgAIHUE8iLAKb+RtEACEAAAhCAAAQg0CgCCGAYyVp2GAm7UjajvSj3MfGreOdiocfVr98pHRPwQuXe0cZjVKeKhy1455pC8ZznCyUtEy+FdIUk5ytlYgKdsTRXLwU1Nh4W4jz10lKVdhPKK+PT4qE2Hi/tYTP/lHRYydhp8rK67KiGJXlZHUsP+/LmDzNK+jHeDewISa/m/fclAlhdApU7qtYdRuq/UnYjLYBrSVotu01sWsvWkTR9vGbllSUCaCF8V9LVkk6Md73xRnhnSTq/aTVK74k7YulW+YPWefpoepvYkpqfIun2eI1Vr6V6qaSFJS0VX528rP42dMaSvKye5XySPou3c51M0p/iLyZe7s1f5nKblwhg9UlUemQtO4zUf5VsRyKA4fd3dUmPlAjgLpJOj2eoF3oF/UtvP0n+ZUgpT6Acy8IH7doxZ9hVT6CwgoK/qHgvdfKyenalR5ayJC/rY/kbSX+QdLaknpK+zHNeIoD1JVGt6wvWd5XsR1kAPUvbezL7z1OSjo6348t+6xvTwnLS4v30vPi5978uFL+y/Fe86Klfz1EmJtCRAHoxeO8R/qGkyyS515XSMQG//t1H0tzxYeRl/RlTyrIggORldUw3iJd986LP/lJ8riS/xXPJbV4igNUlT+lRte4wUt9Vsh/l10NeQ3FovPuKd2FZId6L2UJI6ZxAOWmxnEwpabui8AXjMWue+e69sCnVC+Dv4i8nP0vy62LvIX6kpMuBWJGAe0zvkrSFpEHxUeRlfQlTjqXPRF7WztOrfLgnepikO/Kelwhg7QnkCHoA6+PWWVTX+FXRxpIe7uxgfj6eAD2AjUuESj2ApVfwoPJ1Ja3SuEtn6kxeQuv6+IP270Uty21PS8DdrcSy3CnJy+pA23tGSFo1Hq+a27xEAKtLmHJH1bLDSP1XyVdkQQA3Keo1yBeB2ltbTlo84+2MkjGA+8frWTIGsDLjWgSwr6SVa79dmY/wDH6vo7p1mS9x5GVtt78jlpUEkLzsnLEngnhM6k6S7oxnCOfy9yUC2HmyVDqi1h1G6r9SdiP9IeEJDB6IO7MkvwJ2r8pikkZmt9kNadkk8Zg0S4tn+HqRc7+i9DIHfv37TjwL2LMJLX33xwOfmQU8Mf6OWC4ZL/3yetFsYO8O5N6WixtyJ7NzEi+Y71nn7sEvLKxf3DrPtiQvq7vfnbH0zGp/fpOXnfP0BLhb4pnAM0ny78St4nHSw+NZwLnMSwSw8+Tp6IhKO4yEnTU/0ffEY/4sLO6SfzxeF9C9q5SOCXgcyzXxMgY+srCOoscFmeOiki6J1wH0t10vyXESUMsS6Iilh3u4d8Djfr0OoCeBmKvXVaRMSMCD63+S9EP8z4Wc9GSkghCSl9VlTWcs/WqYvKyOpXfzWjYWPe/o9Xz8ReWlovBc5iUCWF0CcRQEIAABCEAAAhDIDAEEMDO3koZAAAIQgAAEIACB6ggggNVx4igIQAACEIAABCCQGQIIYGZuJQ2BAAQgAAEIQAAC1RFAAKvjxFEQgAAEIAABCEAgMwQQwMzcShoCAQhAAAIQgAAEqiOAAFbHiaMgAAEIQAACEIBAZggggJm5lTQEAhCAAAQgAAEIVEcAAayOE0dBAAIQgAAEIACBzBBAADNzK2kIBCAAAQhAAAIQqI4AAlgdJ46CAAQgAAGENYvOAAAHk0lEQVQIQAACmSGAAGbmVtIQCKSawK6SrpY0p6SPUt0SKg8BCEAgBQQQwBTcJKoIgRQS2EXSNUX1/kHSV5Jel3R//LPvi37u4y2Ac9UogCtKWlfSuZK80TsFAhCAAASqIIAAVgGJQyAAgZoJFITuGElDJE0uaRZJa8TC5l6+TWIh9Mn9u8jH/FjjlQ6WdEYd4ljjZTgcAhCAQLYIIIDZup+0BgJJIVAQwN9KeqmkUpZA9wIOl7SQJPcO1lsOkXQ6AlgvPuIgAIG8EkAA83rnaTcEmkugIwH0lY+QdIqkvSRdJancGMCpJJ0saVNJvSR9I+lVSYdJekXScfGfcXEPos/rv/s1cuEaa0qaXdIoSY9IOlTSh0VNP17SsZLmk+TeSl/LvxfvlPRHSWNKMPWWdJKk9STNIOljSQ9J+pOksfGxPsb13kDStJLel3R2ySvx5tLn7BCAAAQ6IYAAkiIQgEAzCHQmgLNKGirpNknbSCo3BvBGSVtIulDS27FwrSJpgKSbJS0Wi+S2kg6Q9GXckLti+Tpa0j2ShsWTSyx0lsiFi8SuIJEvS/qPpIclLS1pj/jV8pFFcCyhL0iaRtLlkt6R5HZsJWmleAxiT0kvSvpZ0l8lfSFp/VgsXccLmgGbc0IAAhColQACWCsxjocABKoh0JkA+hwjJA2WtGwFAfTPr4971ypds9IYwN+UebW8nKRnJO0kyXLpUhDAK+PeyMJ17pC0qiQLXaFcJ2l7ST6PhbFc8XncO7iopK+LDrgp/ndLZEevvN3r+aakpeJJMz6FWXqyyz5F53Ovpa/xt3jc5OKSpouF1MdZdieNZdbHPFjNTeMYCEAgPwQQwPzca1oKgVYSqEYA3QPoV7MLVBDADyR9JmkzSZ9UqHw1k0Ami3vtJpH0bvwq1nEFAbRMWercc1co7q3za9sekjxb2b8rLaT/kLRlByA909k9lH8uOWbj+FW3ezCf7iDevYXuXfRr60JxL+bz8Wtl/5vHUHqyjHsq/Trcr5/vjg92L+j/xf/2uaSNJJ0gaZlW3nyuBQEIJJ8AApj8e0QNIZBGAtUIYGc9gFtLulaSe/MsZw/EPV4Ww0KpJIDdpP9v73xWb4jDOPzZshTZKGWlXAClWOACLMUGycaGpQuQslJCuQHJjo2V5E+xlOQGlBuQhY0eva+m0xnOb+p0muN5S2qa78x3njn06fP+mdys2kLStP1/HTWCjKchxTsUgHQoI5g6ev/MJUSo4gR+KxGGYFwW+6qxZViTODyP46S0EXRjcTvJwSTnBiewL9Lk1DASVyu9/KBqDEmBEzh+P5KcrSYbjnEdGmUUgHP8V+SeJbBGAgrANcL10hL4jwn8SwB2DeCTJAiYsTmA+0vQMOvvTIkcBM6LYjsmAEnFck3mA5L2pfYPAYY79yzJpVpPChhBh3jDvetY3M8qApC94lSStiZdvCw+Vl3g2E/jXRLSxffqBNxRZifSTIJbOgxSxTSbUA9JkEp/Xa5lj9O5nwQHlGYbQwISkMAfAgpAfwwSkMA6CPxLANJcgXi5XC7fKoOg91btHQ7gidr0jSR3loyBwV18muTK4OFwEknnItB2KgA7BYwLh4u3LEgxc18E5oUJUHdX3eCxweici0muLXHw9pRj2Q4ltyNtTXqa2sUOGmBY3yniCdtyiQQksI0EFIDb+FZ9JglsnsDfBCCjWRBJjFA5UvVsiwIQMUVDxOLXPd7Xox2tv0mH4nLRNIG71kH3LalWBGYHI2CYGUhaeacCkGuw7nwS7r0427DvwddMSLvixuHQDQMBy77GAoeTkTJdd8h5jMjB+btejR3dRUxNIS4h6eIOBC81jqS+CYQg8xZxN9kTbuuii7j5X4o7kIAENkJAAbgR7N5UAltPoD8FR3oVx440JClSxB9Ch2OIGMa7EIsCEBGEe4WoYfYfzh3rGLmC63e31iG0PlR94OMkP0tcIgoRa4ikz9VFeyrJriTPJwpA5vvRjMHeGPHC3jnGno4PxsCQciZl/KjujVtHDR7PjggcC+YLIt5YSzMHXb40dHD8S5Lv9ays5+snpNF5xg5qFHEMu+MXTqTOaSzBcb219b86H1ACEliZgAJwZVSeKAEJ7IBAC7peQk1afwsY9w83DUHTsSgA+SwcwgcBcygJjiADlR+W+BpuBdHE6BNGrHAeg6Cp+aOLF5FJQ8ibSpFSO/hy4AyuWgPY9ztQ+0JUMQ/wa4lPahF7EDQiD+HLp+5oLkHM4QYiUHEIx+JV1TgyjxAnDwHMH0a6fKpr9lrG2DCsmnE1BKKU0TSMg+lvLB+uGYrUFdJZjONqSEACEvhNQAHoD0ECEpDA5glQn8jcwNNJ3m5+O+5AAhLYdgIKwG1/wz6fBCQwBwInq2aRz8vxFRFDAhKQwFoJKADXiteLS0ACEliJAM0s1DMOu5ZXWuhJEpCABKYQUABOoeYaCUhAAhKQgAQkMGMCCsAZvzy3LgEJSEACEpCABKYQUABOoeYaCUhAAhKQgAQkMGMCCsAZvzy3LgEJSEACEpCABKYQUABOoeYaCUhAAhKQgAQkMGMCCsAZvzy3LgEJSEACEpCABKYQ+AWtr9myY1z8KgAAAABJRU5ErkJggg==\">"
      ],
      "text/plain": [
       "<IPython.core.display.HTML object>"
      ]
     },
     "metadata": {},
     "output_type": "display_data"
    }
   ],
   "source": [
    "path = 'rhor1_phi56_yd12.0/'\n",
    "dataset = sp.reader.DataSet(path,particles=True, fluid=True)\n",
    "dataset.load_state(dataset.tlist[-10])\n",
    "\n",
    "\n",
    "exp = dataset\n",
    "plt.figure();\n",
    "# print exp.keys()\n",
    "# sim_chars = sp.susi.extract_sim_characteristics(exp)\n",
    "# sim_chars['histogram'] = {'bins': 1000, 'range': (0, 2.8376564979553224e-05)}\n",
    "# exp['histogram'] = sim_chars['histogram']\n",
    "# exp['bin'] = 1000\n",
    "# print exp['bins']\n",
    "\n",
    "distance, rdf = exp['radial_distribution_function']\n",
    "plt.plot(distance * 1e6, rdf);\n",
    "plt.xlabel('Distance $\\mu{m}$',fontsize=15);\n",
    "plt.ylabel('g(r)', fontsize=15);\n",
    "plt.title('Radial Distribution Function', fontsize=20);"
   ]
  },
  {
   "cell_type": "markdown",
   "metadata": {},
   "source": [
    "---------------------------------------\n"
   ]
  },
  {
   "cell_type": "markdown",
   "metadata": {},
   "source": [
    "## Lampros standard code for PDF (pair distribution function) at one time step"
   ]
  },
  {
   "cell_type": "code",
   "execution_count": 8,
   "metadata": {
    "collapsed": false
   },
   "outputs": [
    {
     "name": "stderr",
     "output_type": "stream",
     "text": [
      "Widget Javascript not detected.  It may not be installed properly. Did you enable the widgetsnbextension? If not, then run \"jupyter nbextension enable --py --sys-prefix widgetsnbextension\"\n"
     ]
    }
   ],
   "source": [
    "def lampros_pdf(phival, shearrate, t):\n",
    "    path = \"rhor1_phi\"+str(phival)+\"_yd\"+str(float(shearrate))+\"/\"\n",
    "    dataset = sp.reader.DataSet(path,particles=True, fluid=True)\n",
    "    dataset.load_state(dataset.tlist[t])\n",
    "    exp = dataset\n",
    "\n",
    "    plt.figure();\n",
    "    distance, pdf = exp['pair_distribution_function']\n",
    "\n",
    "    XX, ZZ = np.meshgrid(distance[0], distance[2])\n",
    "    pdf = pdf[:, pdf.shape[1] / 2, :]\n",
    "\n",
    "    plt.pcolor(XX.T * 1e6, ZZ.T * 1e6, pdf)\n",
    "    plt.colorbar()\n",
    "    y_mum = 1e6 * distance[1][pdf.shape[1] / 2]\n",
    "\n",
    "    plt.xlabel('$\\Delta{x}$ $(\\mu{m})$', fontsize=15);\n",
    "    plt.ylabel('$\\Delta{z}$ $(\\mu{m})$', fontsize=15);\n",
    "    plt.title('PDF at t = '+str(t)+'$y={:.1f} \\mu{{m}}$'.format(y_mum), fontsize=20);\n",
    "\n",
    "v = interactive(lampros_pdf, \\\n",
    "                phival = widgets.ToggleButtons(options=[40,45,50,54,55,56,58],value=56,disabled=False), \\\n",
    "                shearrate= widgets.ToggleButtons(options=[1,10,11,11.5,12,12.5,13,14,15,16,18,20,30,50,70,100,200,300,1000],value = 12),\\\n",
    "                t=(-1000,-1,1), __manual=True)\n",
    "\n",
    "display(v)"
   ]
  },
  {
   "cell_type": "markdown",
   "metadata": {},
   "source": [
    "---------------------------------------\n"
   ]
  },
  {
   "cell_type": "markdown",
   "metadata": {},
   "source": [
    "# Lampros code averged over time range"
   ]
  },
  {
   "cell_type": "code",
   "execution_count": 9,
   "metadata": {
    "collapsed": false,
    "scrolled": false
   },
   "outputs": [
    {
     "name": "stderr",
     "output_type": "stream",
     "text": [
      "Widget Javascript not detected.  It may not be installed properly. Did you enable the widgetsnbextension? If not, then run \"jupyter nbextension enable --py --sys-prefix widgetsnbextension\"\n",
      "Widget Javascript not detected.  It may not be installed properly. Did you enable the widgetsnbextension? If not, then run \"jupyter nbextension enable --py --sys-prefix widgetsnbextension\"\n",
      "Widget Javascript not detected.  It may not be installed properly. Did you enable the widgetsnbextension? If not, then run \"jupyter nbextension enable --py --sys-prefix widgetsnbextension\"\n"
     ]
    }
   ],
   "source": [
    "f = FloatProgress(min=0, max=100)\n",
    "display(f)\n",
    "L = widgets.Label(\"\")\n",
    "display(L)\n",
    "def lampros_pdf(phival, shearrate, trange):\n",
    "    path = \"rhor1_phi\"+str(phival)+\"_yd\"+str(float(shearrate))+\"/\"\n",
    "    dataset = sp.reader.DataSet(path,particles=True, fluid=True)\n",
    "    dataset.load_state(dataset.tlist[-1])\n",
    "    exp = dataset\n",
    "    distance, pdf = exp['pair_distribution_function']\n",
    "    XX, ZZ = np.meshgrid(distance[0], distance[2])\n",
    "    pdf = pdf[:, pdf.shape[1] / 2, :]    \n",
    "    XX_tot, ZZ_tot, pdf_tot = np.zeros_like(XX),np.zeros_like(ZZ), np.zeros_like(pdf)\n",
    "    n = 0.0\n",
    "    for i,t in enumerate(range(trange[1],trange[0],-1)):\n",
    "        n+= 1.0\n",
    "        f.value = float(i+1)/len(range(trange[1],trange[0],-1))*100\n",
    "        L.value = \"snapshot at t =\"+str(dataset.tlist[t])\n",
    "        dataset.load_state(dataset.tlist[t])\n",
    "        exp = dataset\n",
    " \n",
    "        distance, pdf = exp['pair_distribution_function']\n",
    "        XX, ZZ = np.meshgrid(distance[0], distance[2])\n",
    "        pdf = pdf[:, pdf.shape[1] / 2, :]\n",
    "        XX_tot += XX\n",
    "        ZZ_tot += ZZ\n",
    "        pdf_tot += pdf\n",
    "    plt.figure();\n",
    "    XX_tot, ZZ_tot, pdf_tot = XX_tot/n, ZZ_tot/n, pdf_tot/n\n",
    "    plt.pcolor(XX_tot.T * 1e6, ZZ_tot.T * 1e6, pdf_tot)\n",
    "    plt.colorbar()\n",
    "    y_mum = 1e6 * distance[1][pdf_tot.shape[1] / 2]\n",
    "\n",
    "    plt.xlabel('$\\Delta{x}$ $(\\mu{m})$', fontsize=15);\n",
    "    plt.ylabel('$\\Delta{z}$ $(\\mu{m})$', fontsize=15);\n",
    "    plt.title('PDF at $y={:.1f} \\mu{{m}}$'.format(y_mum), fontsize=20);\n",
    "\n",
    "v = interactive(lampros_pdf, \\\n",
    "                phival = widgets.ToggleButtons(options=[40,45,50,54,55,56,58],value=56,disabled=False), \\\n",
    "                shearrate= widgets.ToggleButtons(options=[1,10,11,11.5,12,12.5,13,14,15,16,18,20,30,50,70,100,200,300,1000],value = 12),\\\n",
    "                trange=widgets.IntRangeSlider(value=[-10, -1], max=-1, min=-1000.0),__manual=True)\n",
    "                \n",
    "display(v)"
   ]
  },
  {
   "cell_type": "markdown",
   "metadata": {
    "collapsed": false
   },
   "source": [
    "---------------------------------------\n"
   ]
  },
  {
   "cell_type": "markdown",
   "metadata": {},
   "source": [
    "## Eric Code for PDF at one time step"
   ]
  },
  {
   "cell_type": "code",
   "execution_count": 10,
   "metadata": {
    "collapsed": false,
    "scrolled": false
   },
   "outputs": [
    {
     "name": "stderr",
     "output_type": "stream",
     "text": [
      "Widget Javascript not detected.  It may not be installed properly. Did you enable the widgetsnbextension? If not, then run \"jupyter nbextension enable --py --sys-prefix widgetsnbextension\"\n",
      "Widget Javascript not detected.  It may not be installed properly. Did you enable the widgetsnbextension? If not, then run \"jupyter nbextension enable --py --sys-prefix widgetsnbextension\"\n",
      "Widget Javascript not detected.  It may not be installed properly. Did you enable the widgetsnbextension? If not, then run \"jupyter nbextension enable --py --sys-prefix widgetsnbextension\"\n",
      "Widget Javascript not detected.  It may not be installed properly. Did you enable the widgetsnbextension? If not, then run \"jupyter nbextension enable --py --sys-prefix widgetsnbextension\"\n"
     ]
    }
   ],
   "source": [
    "# Eric's code for a PDF with higher resolution\n",
    "from matplotlib.colors import LogNorm\n",
    "\n",
    "path = 'rhor1_phi56_yd1.0/'\n",
    "type = \"xy\"\n",
    "\n",
    "def plot_pdf_one_timestep(phi,shearrate,time,bins):\n",
    "    try:\n",
    "        time = int(time)\n",
    "        path = \"rhor1_phi\"+str(phi)+\"_yd\"+str(float(shearrate))\n",
    "        dataset = sp.reader.DataSet(path,particles=True, fluid=True)\n",
    "        dataset.load_state(dataset.tlist[time])\n",
    "        exp = dataset\n",
    "\n",
    "        #Create the size of the area that you want to bin the distances in\n",
    "        limit = 5 * exp.particles.radius.max()\n",
    "#         print (exp.particles.radius.max())\n",
    "#         print (limit)\n",
    "    #     bins = 41\n",
    "        global edges\n",
    "        global pair_df\n",
    "        (edges, pair_df) = sp.spatial.correlations.pair_distribution_function(exp.particles.r,\n",
    "             L=exp.L, LEs=exp.LEs, histogramdd={\"bins\":(bins, bins, bins),\"range\":((-limit,limit),(-limit,limit),(-limit,limit))})\n",
    "    except:\n",
    "        print \"Unexpected error:\", sys.exc_info()[0]\n",
    "        raise\n",
    "\n",
    "\n",
    "def plot_plot_pdf_one_timestep(phi,shearrate,time ,xz_vmax,xy_vmax,yz_vmax,bins,analyze_,size,show=True):\n",
    "    if show:\n",
    "        plt.ion()\n",
    "    else:\n",
    "        plt.ioff()\n",
    "        \n",
    "    if analyze_:\n",
    "        plot_pdf_one_timestep(phi,shearrate,time,bins)\n",
    "\n",
    "    #Calculate the distances and bin them\n",
    "\n",
    "    #Plot them in a color mesh\n",
    "    #pcolor plots have a tendency to leave out one row/column of \"pixels\". It will not immediately plot the entire\n",
    "    #range. To compensate, the defined meshgrid needs to be 1 \"pont\" bigger  than the image that you want.\n",
    "\n",
    "    #Add a value to \"edges\" by first determining bin stepsize and then appending one step to edges\n",
    "\n",
    "    max=edges[0][bins-1]+(edges[0][1]-edges[0][0])\n",
    "    new0=np.append(edges[0],max)\n",
    "    new1=np.append(edges[1],max)\n",
    "    new2=np.append(edges[2],max)\n",
    "\n",
    "    # X-Z PLANE\n",
    "    #Create the mesh grid, but shift by half a bin to correctly center the image\n",
    "#     plt.figure(figsize=[17,5])\n",
    "#     plt.figure(figsize=[3.4*size,1*size])\n",
    "    plt.figure(figsize=[3*size,3*size])\n",
    "    plt.subplot(221)\n",
    "    XX, ZZ = np.meshgrid(new0-7.31208644e-07/2, new2-7.31208644e-07/2)\n",
    "    pairdf = pair_df[:, pair_df.shape[1] / 2, :]\n",
    "\n",
    "    plt.pcolor(XX.T * 1e6, ZZ.T * 1e6, pairdf,vmin=0,vmax = xz_vmax)#, vmin=0, vmax=10\n",
    "#     plt.pcolor(XX.T * 1e6, ZZ.T * 1e6, pairdf,norm=LogNorm(vmin=0.01,vmax = xz_vmax))#, vmin=0, vmax=10\n",
    "    plt.colorbar()\n",
    "#         y_mum = 1e6 * edges[1][pair_df.shape[1] / 2]\n",
    "    y_mum =  1e6 * ( edges[1][1] -edges[1][0] )    \n",
    "\n",
    "    plt.axis([-16,16,-16,16])\n",
    "    plt.xlabel('$\\Delta{x}$ $(\\mu{m})$');\n",
    "    plt.ylabel('$\\Delta{z}$ $(\\mu{m})$');\n",
    "    plt.title('PDF at t='+str(time)+'$y={:.2f} \\mu{{m}}$ for phi='.format(y_mum)+str(phi)+\" yd=\"+str(shearrate).format(y_mum));\n",
    "#     print \"ymum=\"+str(y_mum)\n",
    "\n",
    "#X-Y PLANE\n",
    "\n",
    "    plt.subplot(222)\n",
    "    XX, YY = np.meshgrid(new0-7.31208644e-07/2, new1-7.31208644e-07/2)\n",
    "    pairdf = pair_df[:,:, pair_df.shape[2] / 2]\n",
    "\n",
    "    plt.pcolor(XX.T * 1e6, YY.T * 1e6, pairdf,vmin=0,vmax = xy_vmax)\n",
    "    plt.colorbar()\n",
    "    z_mum = 1e6 * ( edges[2][1] -edges[2][0] )    \n",
    "\n",
    "    plt.axis([-16,16,-16,16])\n",
    "    plt.xlabel('$\\Delta{x}$ $(\\mu{m})$');\n",
    "    plt.ylabel('$\\Delta{y}$ $(\\mu{m})$');\n",
    "#         plt.title('PDF at t='+str(time)+'$z={:.2f} \\mu{{m}}$'.format(z_mum));\n",
    "    plt.title('PDF at t='+str(time)+'$z={:.2f} \\mu{{m}}$ for phi='.format(z_mum)+str(phi)+\" yd=\"+str(shearrate).format(z_mum));\n",
    "#Y-Z PLANE\n",
    "\n",
    "    plt.subplot(223)\n",
    "    YY, ZZ = np.meshgrid(new1-7.31208644e-07/2, new2-7.31208644e-07/2)\n",
    "    pairdf = pair_df[pair_df.shape[0] / 2,:,:]\n",
    "\n",
    "    plt.pcolor(YY.T * 1e6, ZZ.T * 1e6, pairdf,vmin=0,vmax = yz_vmax)\n",
    "    plt.colorbar()\n",
    "#         x_mum = 1e6 * edges[0][pair_df.shape[0] / 2]\n",
    "    x_mum = 1e6 * ( edges[0][1] -edges[0][0] )  \n",
    "    plt.axis([-16,16,-16,16])\n",
    "    plt.xlabel('$\\Delta{y}$ $(\\mu{m})$');\n",
    "    plt.ylabel('$\\Delta{z}$ $(\\mu{m})$');\n",
    "    plt.tight_layout()\n",
    "#         plt.title('PDF at t='+str(time)+'$x={:.2f} \\mu{{m}}$'.format(x_mum));\n",
    "    plt.title('PDF at t='+str(time)+'$x={:.2f} \\mu{{m}}$ for phi='.format(x_mum)+str(phi)+\" yd=\"+str(shearrate).format(x_mum));\n",
    "    \n",
    "    plt.subplot(224)\n",
    "    nufilepath = \"rhor1_phi\"+str(phi)+\"_yd\"+str(float(shearrate))+\"/result/nu_t.dat\"\n",
    "    db = pd.read_csv(nufilepath)\n",
    "    plt.plot(db[db.columns[2]])\n",
    "    plt.axvline(time)\n",
    "    plt.xlabel(\"timestep\")\n",
    "    plt.ylabel(\"Viscosity Pa.s\")\n",
    "    plt.yscale(\"log\")\n",
    "    \n",
    "    name = \"plots/cluster_analysis_phi\"+str(phi)+\"_yd\"+str(shearrate).replace('.','_')+\"_t\"+str(int(time))\n",
    "#     print name \n",
    "    plt.savefig(name)\n",
    "\n",
    "\n",
    "v = interactive(plot_plot_pdf_one_timestep, \\\n",
    "                phi = widgets.ToggleButtons(options=[40,45,50,54,55,56,58],value=56,disabled=False), \\\n",
    "                shearrate= widgets.ToggleButtons(options=[1,10,11,11.5,12,12.5,13,14,15,16,18,20,30,50,70,100,200,300,1000],\\\n",
    "                                                 value = 12),\\\n",
    "                #time = widgets.IntSlider(min= -1000, max= -1,value = -1, step = -1,orientation = \"vertical\"),\\\n",
    "                #time = widgets.IntSlider(max= 1000, min= 1,value = 1, step = 1,orientation = \"vertical\"),\\\n",
    "                time = widgets.FloatText(value=1),\\\n",
    "                bins = widgets.IntSlider(min = 11,max = 101,value = 31, step = 1,orientation = \"vertical\"),\\\n",
    "                size = widgets.FloatSlider(min = 1,max = 10,value = 3.75, step = 0.25,orientation = \"vertical\"),\\\n",
    "                xz_vmax = widgets.FloatSlider(min= 0, max= 15,value = 6, step = 0.25,orientation = \"vertical\",description = \"xz colorbax max\"),\\\n",
    "                xy_vmax = widgets.FloatSlider(min= 0, max= 15,value = 6, step = 0.25,orientation = \"vertical\",description = \"xy colorbax max\"),\\\n",
    "                yz_vmax = widgets.FloatSlider(min= 0, max= 15,value = 6, step = 0.25,orientation = \"vertical\",description = \"yz colorbax max\"),\\\n",
    "                analyze_ = widgets.widget_bool.Checkbox(value=True,description= \"Analyze?\"),\\\n",
    "                __manual=True)\n",
    "display(widgets.VBox(v.children[:2]))\n",
    "display(widgets.HBox(v.children[2:-1]))\n",
    "display(widgets.HBox(v.children[-1:]))\n",
    "display(widgets.Label(value = \"Run analyze every time you change the dataset. No need to analyze when changing plot charecteristics\"))"
   ]
  },
  {
   "cell_type": "markdown",
   "metadata": {},
   "source": [
    "## plot pdf of a range of snaphots and animate "
   ]
  },
  {
   "cell_type": "code",
   "execution_count": 11,
   "metadata": {
    "collapsed": false,
    "scrolled": true
   },
   "outputs": [
    {
     "name": "stderr",
     "output_type": "stream",
     "text": [
      "Widget Javascript not detected.  It may not be installed properly. Did you enable the widgetsnbextension? If not, then run \"jupyter nbextension enable --py --sys-prefix widgetsnbextension\"\n",
      "Widget Javascript not detected.  It may not be installed properly. Did you enable the widgetsnbextension? If not, then run \"jupyter nbextension enable --py --sys-prefix widgetsnbextension\"\n",
      "Widget Javascript not detected.  It may not be installed properly. Did you enable the widgetsnbextension? If not, then run \"jupyter nbextension enable --py --sys-prefix widgetsnbextension\"\n",
      "Widget Javascript not detected.  It may not be installed properly. Did you enable the widgetsnbextension? If not, then run \"jupyter nbextension enable --py --sys-prefix widgetsnbextension\"\n",
      "Widget Javascript not detected.  It may not be installed properly. Did you enable the widgetsnbextension? If not, then run \"jupyter nbextension enable --py --sys-prefix widgetsnbextension\"\n",
      "Widget Javascript not detected.  It may not be installed properly. Did you enable the widgetsnbextension? If not, then run \"jupyter nbextension enable --py --sys-prefix widgetsnbextension\"\n",
      "Widget Javascript not detected.  It may not be installed properly. Did you enable the widgetsnbextension? If not, then run \"jupyter nbextension enable --py --sys-prefix widgetsnbextension\"\n",
      "Widget Javascript not detected.  It may not be installed properly. Did you enable the widgetsnbextension? If not, then run \"jupyter nbextension enable --py --sys-prefix widgetsnbextension\"\n",
      "Widget Javascript not detected.  It may not be installed properly. Did you enable the widgetsnbextension? If not, then run \"jupyter nbextension enable --py --sys-prefix widgetsnbextension\"\n",
      "Widget Javascript not detected.  It may not be installed properly. Did you enable the widgetsnbextension? If not, then run \"jupyter nbextension enable --py --sys-prefix widgetsnbextension\"\n"
     ]
    }
   ],
   "source": [
    "progress = widgets.IntProgress(value=0)\n",
    "def plot_time_frames(phi,shearrate,tmin, tmax ,xz_vmax,xy_vmax,yz_vmax,bins,analyze_,size,show):\n",
    "    for plot_time_frames_progress,time in enumerate(range(tmin, tmax)):\n",
    "        progress.value = float(plot_time_frames_progress)/len(range(tmin, tmax))*100\n",
    "        plot_plot_pdf_one_timestep(phi,shearrate,time,xz_vmax,xy_vmax,yz_vmax,bins,analyze_,size,show)\n",
    "        \n",
    "\n",
    "v_plot_time_frames = interactive(plot_time_frames, \\\n",
    "                phi = widgets.ToggleButtons(options=[40,45,50,54,55,56,58],value=56,disabled=False), \\\n",
    "                shearrate= widgets.ToggleButtons(options=[1,10,11,11.5,12,12.5,13,14,15,16,18,20,30,50,70,100,200,300,1000],\\\n",
    "                                                 value = 12.5),\\\n",
    "                #time = widgets.IntSlider(min= -1000, max= -1,value = -1, step = -1,orientation = \"vertical\"),\\\n",
    "                #time = widgets.IntSlider(max= 1000, min= 1,value = 1, step = 1,orientation = \"vertical\"),\\\n",
    "                tmin = widgets.widget_int.BoundedIntText(value=730,min=1,max=10000),\\\n",
    "                tmax = widgets.widget_int.BoundedIntText(value=735, min=1,max=10000),\\\n",
    "                bins = widgets.IntSlider(min = 11,max = 101,value = 31, step = 1,orientation = \"vertical\"),\\\n",
    "                size = widgets.FloatSlider(min = 1,max = 10,value = 3.75, step = 0.25,orientation = \"vertical\"),\\\n",
    "                xz_vmax = widgets.FloatSlider(min= 0, max= 15,value = 6, step = 0.25,orientation = \"vertical\",description = \"xz colorbax max\"),\\\n",
    "                xy_vmax = widgets.FloatSlider(min= 0, max= 15,value = 6, step = 0.25,orientation = \"vertical\",description = \"xy colorbax max\"),\\\n",
    "                yz_vmax = widgets.FloatSlider(min= 0, max= 15,value = 6, step = 0.25,orientation = \"vertical\",description = \"yz colorbax max\"),\\\n",
    "                analyze_ = widgets.widget_bool.Checkbox(value=True,description= \"Analyze?\"),\\\n",
    "                show=widgets.Checkbox(value=False),\\\n",
    "                __manual=True)\n",
    "display(widgets.VBox(v_plot_time_frames.children[:2]))\n",
    "display(widgets.HBox(v_plot_time_frames.children[4:-1]))\n",
    "display(widgets.HBox(v_plot_time_frames.children[2:4]))\n",
    "display(widgets.HBox(v_plot_time_frames.children[-1:]))\n",
    "display(progress)\n",
    "display(widgets.Label(value = \"Run analyze every time you change the dataset. \\\n",
    "                            No need to analyze when changing plot charecteristics\"))\n",
    "play = widgets.Play(disabled=False)\n",
    "slider = widgets.IntSlider(min=v_plot_time_frames.children[2].value, max = v_plot_time_frames.children[3].value)\n",
    "widgets.jslink((play, 'value'), (slider, 'value'))\n",
    "widgets.jslink((slider, 'min'), (play, 'min'))\n",
    "widgets.jslink((slider, 'max'), (play, 'max'))\n",
    "display(widgets.HBox([play, slider]))\n",
    "\n",
    "link3 = widgets.jslink((v_plot_time_frames.children[3], 'value'), (v_plot_time_frames.children[2], 'max'))\n",
    "link4 = widgets.jslink((v_plot_time_frames.children[2], 'value'), (v_plot_time_frames.children[3], 'min'))\n",
    "link1 = widgets.jslink((v_plot_time_frames.children[2], 'value'), (slider, 'min'))\n",
    "link2 = widgets.jslink((v_plot_time_frames.children[3], 'value'), (slider, 'max'))\n",
    "\n",
    "\n",
    "philabel = widgets.Label(value = \"\")\n",
    "ydlabel = widgets.Label(value = \"\")\n",
    "tminlabel = widgets.Label(value = \"\")\n",
    "tmaxlabel = widgets.Label(value = \"\")\n",
    "tlabel = widgets.Label(value = \"\")\n",
    "\n",
    "# link5 = widgets.jslink((v.children[0], 'value'), (philabel, 'value'))\n",
    "# link6 = widgets.jslink((v.children[1], 'value'), (ydlabel, 'value'))\n",
    "# link7 = widgets.jslink((v.children[2], 'value'), (tminlabel, 'value'))\n",
    "# link8 = widgets.jslink((v.children[3], 'value'), (tmaxlabel, 'value'))\n",
    "# link9 = widgets.jslink((slider, 'value'), (tlabel, 'value'))\n",
    "# display(philabel,ydlabel,tminlabel,tmaxlabel,tlabel)\n",
    "\n",
    "\n",
    "\n",
    "filename = widgets.Label(value=\"\")\n",
    "def handle_data_change(change):\n",
    "    filename.value =  \"plots/cluster_analysis_phi\"+str(v_plot_time_frames.children[0].value)+\"_yd\"+\\\n",
    "                    str(v_plot_time_frames.children[1].value).replace('.','_')+\"_t\"+str(slider.value)+\".png\"\n",
    "for i in v_plot_time_frames.children:\n",
    "    i.observe(handle_data_change, names='value')\n",
    "    \n",
    "slider.observe(handle_data_change,names='value')\n",
    "display(filename)\n",
    "\n",
    "from IPython.display import Image\n",
    "# def handle_image_change(change):\n",
    "#     if os.path.exists(filename.value):\n",
    "#         pdf_figure = Image(filename.value)\n",
    "# display(pdf_figure)\n",
    "# slider.observe(handle_image_change,'value')\n",
    "\n",
    "image = widgets.Image(value = \"\",width=800, height=800)\n",
    "imagesize = widgets.IntText(value =400, description=\"image size\")\n",
    "widgets.jslink((imagesize,'value'),(image,'width'))\n",
    "widgets.jslink((imagesize,'value'),(image,'height'))\n",
    "display(imagesize)\n",
    "display(image)\n",
    "def handle_image_change(change):\n",
    "    if os.path.exists(filename.value):\n",
    "        image.value = open(filename.value).read()\n",
    "        \n",
    "slider.observe(handle_image_change,'value')"
   ]
  },
  {
   "cell_type": "markdown",
   "metadata": {},
   "source": [
    "---------------------------------------\n"
   ]
  },
  {
   "cell_type": "markdown",
   "metadata": {},
   "source": [
    "# Eric Code for average PDF over time"
   ]
  },
  {
   "cell_type": "markdown",
   "metadata": {},
   "source": [
    "## TimeSeries Information Between snapshots"
   ]
  },
  {
   "cell_type": "code",
   "execution_count": 12,
   "metadata": {
    "collapsed": false
   },
   "outputs": [
    {
     "data": {
      "application/javascript": [
       "/* Put everything inside the global mpl namespace */\n",
       "window.mpl = {};\n",
       "\n",
       "mpl.get_websocket_type = function() {\n",
       "    if (typeof(WebSocket) !== 'undefined') {\n",
       "        return WebSocket;\n",
       "    } else if (typeof(MozWebSocket) !== 'undefined') {\n",
       "        return MozWebSocket;\n",
       "    } else {\n",
       "        alert('Your browser does not have WebSocket support.' +\n",
       "              'Please try Chrome, Safari or Firefox ≥ 6. ' +\n",
       "              'Firefox 4 and 5 are also supported but you ' +\n",
       "              'have to enable WebSockets in about:config.');\n",
       "    };\n",
       "}\n",
       "\n",
       "mpl.figure = function(figure_id, websocket, ondownload, parent_element) {\n",
       "    this.id = figure_id;\n",
       "\n",
       "    this.ws = websocket;\n",
       "\n",
       "    this.supports_binary = (this.ws.binaryType != undefined);\n",
       "\n",
       "    if (!this.supports_binary) {\n",
       "        var warnings = document.getElementById(\"mpl-warnings\");\n",
       "        if (warnings) {\n",
       "            warnings.style.display = 'block';\n",
       "            warnings.textContent = (\n",
       "                \"This browser does not support binary websocket messages. \" +\n",
       "                    \"Performance may be slow.\");\n",
       "        }\n",
       "    }\n",
       "\n",
       "    this.imageObj = new Image();\n",
       "\n",
       "    this.context = undefined;\n",
       "    this.message = undefined;\n",
       "    this.canvas = undefined;\n",
       "    this.rubberband_canvas = undefined;\n",
       "    this.rubberband_context = undefined;\n",
       "    this.format_dropdown = undefined;\n",
       "\n",
       "    this.image_mode = 'full';\n",
       "\n",
       "    this.root = $('<div/>');\n",
       "    this._root_extra_style(this.root)\n",
       "    this.root.attr('style', 'display: inline-block');\n",
       "\n",
       "    $(parent_element).append(this.root);\n",
       "\n",
       "    this._init_header(this);\n",
       "    this._init_canvas(this);\n",
       "    this._init_toolbar(this);\n",
       "\n",
       "    var fig = this;\n",
       "\n",
       "    this.waiting = false;\n",
       "\n",
       "    this.ws.onopen =  function () {\n",
       "            fig.send_message(\"supports_binary\", {value: fig.supports_binary});\n",
       "            fig.send_message(\"send_image_mode\", {});\n",
       "            fig.send_message(\"refresh\", {});\n",
       "        }\n",
       "\n",
       "    this.imageObj.onload = function() {\n",
       "            if (fig.image_mode == 'full') {\n",
       "                // Full images could contain transparency (where diff images\n",
       "                // almost always do), so we need to clear the canvas so that\n",
       "                // there is no ghosting.\n",
       "                fig.context.clearRect(0, 0, fig.canvas.width, fig.canvas.height);\n",
       "            }\n",
       "            fig.context.drawImage(fig.imageObj, 0, 0);\n",
       "        };\n",
       "\n",
       "    this.imageObj.onunload = function() {\n",
       "        this.ws.close();\n",
       "    }\n",
       "\n",
       "    this.ws.onmessage = this._make_on_message_function(this);\n",
       "\n",
       "    this.ondownload = ondownload;\n",
       "}\n",
       "\n",
       "mpl.figure.prototype._init_header = function() {\n",
       "    var titlebar = $(\n",
       "        '<div class=\"ui-dialog-titlebar ui-widget-header ui-corner-all ' +\n",
       "        'ui-helper-clearfix\"/>');\n",
       "    var titletext = $(\n",
       "        '<div class=\"ui-dialog-title\" style=\"width: 100%; ' +\n",
       "        'text-align: center; padding: 3px;\"/>');\n",
       "    titlebar.append(titletext)\n",
       "    this.root.append(titlebar);\n",
       "    this.header = titletext[0];\n",
       "}\n",
       "\n",
       "\n",
       "\n",
       "mpl.figure.prototype._canvas_extra_style = function(canvas_div) {\n",
       "\n",
       "}\n",
       "\n",
       "\n",
       "mpl.figure.prototype._root_extra_style = function(canvas_div) {\n",
       "\n",
       "}\n",
       "\n",
       "mpl.figure.prototype._init_canvas = function() {\n",
       "    var fig = this;\n",
       "\n",
       "    var canvas_div = $('<div/>');\n",
       "\n",
       "    canvas_div.attr('style', 'position: relative; clear: both; outline: 0');\n",
       "\n",
       "    function canvas_keyboard_event(event) {\n",
       "        return fig.key_event(event, event['data']);\n",
       "    }\n",
       "\n",
       "    canvas_div.keydown('key_press', canvas_keyboard_event);\n",
       "    canvas_div.keyup('key_release', canvas_keyboard_event);\n",
       "    this.canvas_div = canvas_div\n",
       "    this._canvas_extra_style(canvas_div)\n",
       "    this.root.append(canvas_div);\n",
       "\n",
       "    var canvas = $('<canvas/>');\n",
       "    canvas.addClass('mpl-canvas');\n",
       "    canvas.attr('style', \"left: 0; top: 0; z-index: 0; outline: 0\")\n",
       "\n",
       "    this.canvas = canvas[0];\n",
       "    this.context = canvas[0].getContext(\"2d\");\n",
       "\n",
       "    var rubberband = $('<canvas/>');\n",
       "    rubberband.attr('style', \"position: absolute; left: 0; top: 0; z-index: 1;\")\n",
       "\n",
       "    var pass_mouse_events = true;\n",
       "\n",
       "    canvas_div.resizable({\n",
       "        start: function(event, ui) {\n",
       "            pass_mouse_events = false;\n",
       "        },\n",
       "        resize: function(event, ui) {\n",
       "            fig.request_resize(ui.size.width, ui.size.height);\n",
       "        },\n",
       "        stop: function(event, ui) {\n",
       "            pass_mouse_events = true;\n",
       "            fig.request_resize(ui.size.width, ui.size.height);\n",
       "        },\n",
       "    });\n",
       "\n",
       "    function mouse_event_fn(event) {\n",
       "        if (pass_mouse_events)\n",
       "            return fig.mouse_event(event, event['data']);\n",
       "    }\n",
       "\n",
       "    rubberband.mousedown('button_press', mouse_event_fn);\n",
       "    rubberband.mouseup('button_release', mouse_event_fn);\n",
       "    // Throttle sequential mouse events to 1 every 20ms.\n",
       "    rubberband.mousemove('motion_notify', mouse_event_fn);\n",
       "\n",
       "    rubberband.mouseenter('figure_enter', mouse_event_fn);\n",
       "    rubberband.mouseleave('figure_leave', mouse_event_fn);\n",
       "\n",
       "    canvas_div.on(\"wheel\", function (event) {\n",
       "        event = event.originalEvent;\n",
       "        event['data'] = 'scroll'\n",
       "        if (event.deltaY < 0) {\n",
       "            event.step = 1;\n",
       "        } else {\n",
       "            event.step = -1;\n",
       "        }\n",
       "        mouse_event_fn(event);\n",
       "    });\n",
       "\n",
       "    canvas_div.append(canvas);\n",
       "    canvas_div.append(rubberband);\n",
       "\n",
       "    this.rubberband = rubberband;\n",
       "    this.rubberband_canvas = rubberband[0];\n",
       "    this.rubberband_context = rubberband[0].getContext(\"2d\");\n",
       "    this.rubberband_context.strokeStyle = \"#000000\";\n",
       "\n",
       "    this._resize_canvas = function(width, height) {\n",
       "        // Keep the size of the canvas, canvas container, and rubber band\n",
       "        // canvas in synch.\n",
       "        canvas_div.css('width', width)\n",
       "        canvas_div.css('height', height)\n",
       "\n",
       "        canvas.attr('width', width);\n",
       "        canvas.attr('height', height);\n",
       "\n",
       "        rubberband.attr('width', width);\n",
       "        rubberband.attr('height', height);\n",
       "    }\n",
       "\n",
       "    // Set the figure to an initial 600x600px, this will subsequently be updated\n",
       "    // upon first draw.\n",
       "    this._resize_canvas(600, 600);\n",
       "\n",
       "    // Disable right mouse context menu.\n",
       "    $(this.rubberband_canvas).bind(\"contextmenu\",function(e){\n",
       "        return false;\n",
       "    });\n",
       "\n",
       "    function set_focus () {\n",
       "        canvas.focus();\n",
       "        canvas_div.focus();\n",
       "    }\n",
       "\n",
       "    window.setTimeout(set_focus, 100);\n",
       "}\n",
       "\n",
       "mpl.figure.prototype._init_toolbar = function() {\n",
       "    var fig = this;\n",
       "\n",
       "    var nav_element = $('<div/>')\n",
       "    nav_element.attr('style', 'width: 100%');\n",
       "    this.root.append(nav_element);\n",
       "\n",
       "    // Define a callback function for later on.\n",
       "    function toolbar_event(event) {\n",
       "        return fig.toolbar_button_onclick(event['data']);\n",
       "    }\n",
       "    function toolbar_mouse_event(event) {\n",
       "        return fig.toolbar_button_onmouseover(event['data']);\n",
       "    }\n",
       "\n",
       "    for(var toolbar_ind in mpl.toolbar_items) {\n",
       "        var name = mpl.toolbar_items[toolbar_ind][0];\n",
       "        var tooltip = mpl.toolbar_items[toolbar_ind][1];\n",
       "        var image = mpl.toolbar_items[toolbar_ind][2];\n",
       "        var method_name = mpl.toolbar_items[toolbar_ind][3];\n",
       "\n",
       "        if (!name) {\n",
       "            // put a spacer in here.\n",
       "            continue;\n",
       "        }\n",
       "        var button = $('<button/>');\n",
       "        button.addClass('ui-button ui-widget ui-state-default ui-corner-all ' +\n",
       "                        'ui-button-icon-only');\n",
       "        button.attr('role', 'button');\n",
       "        button.attr('aria-disabled', 'false');\n",
       "        button.click(method_name, toolbar_event);\n",
       "        button.mouseover(tooltip, toolbar_mouse_event);\n",
       "\n",
       "        var icon_img = $('<span/>');\n",
       "        icon_img.addClass('ui-button-icon-primary ui-icon');\n",
       "        icon_img.addClass(image);\n",
       "        icon_img.addClass('ui-corner-all');\n",
       "\n",
       "        var tooltip_span = $('<span/>');\n",
       "        tooltip_span.addClass('ui-button-text');\n",
       "        tooltip_span.html(tooltip);\n",
       "\n",
       "        button.append(icon_img);\n",
       "        button.append(tooltip_span);\n",
       "\n",
       "        nav_element.append(button);\n",
       "    }\n",
       "\n",
       "    var fmt_picker_span = $('<span/>');\n",
       "\n",
       "    var fmt_picker = $('<select/>');\n",
       "    fmt_picker.addClass('mpl-toolbar-option ui-widget ui-widget-content');\n",
       "    fmt_picker_span.append(fmt_picker);\n",
       "    nav_element.append(fmt_picker_span);\n",
       "    this.format_dropdown = fmt_picker[0];\n",
       "\n",
       "    for (var ind in mpl.extensions) {\n",
       "        var fmt = mpl.extensions[ind];\n",
       "        var option = $(\n",
       "            '<option/>', {selected: fmt === mpl.default_extension}).html(fmt);\n",
       "        fmt_picker.append(option)\n",
       "    }\n",
       "\n",
       "    // Add hover states to the ui-buttons\n",
       "    $( \".ui-button\" ).hover(\n",
       "        function() { $(this).addClass(\"ui-state-hover\");},\n",
       "        function() { $(this).removeClass(\"ui-state-hover\");}\n",
       "    );\n",
       "\n",
       "    var status_bar = $('<span class=\"mpl-message\"/>');\n",
       "    nav_element.append(status_bar);\n",
       "    this.message = status_bar[0];\n",
       "}\n",
       "\n",
       "mpl.figure.prototype.request_resize = function(x_pixels, y_pixels) {\n",
       "    // Request matplotlib to resize the figure. Matplotlib will then trigger a resize in the client,\n",
       "    // which will in turn request a refresh of the image.\n",
       "    this.send_message('resize', {'width': x_pixels, 'height': y_pixels});\n",
       "}\n",
       "\n",
       "mpl.figure.prototype.send_message = function(type, properties) {\n",
       "    properties['type'] = type;\n",
       "    properties['figure_id'] = this.id;\n",
       "    this.ws.send(JSON.stringify(properties));\n",
       "}\n",
       "\n",
       "mpl.figure.prototype.send_draw_message = function() {\n",
       "    if (!this.waiting) {\n",
       "        this.waiting = true;\n",
       "        this.ws.send(JSON.stringify({type: \"draw\", figure_id: this.id}));\n",
       "    }\n",
       "}\n",
       "\n",
       "\n",
       "mpl.figure.prototype.handle_save = function(fig, msg) {\n",
       "    var format_dropdown = fig.format_dropdown;\n",
       "    var format = format_dropdown.options[format_dropdown.selectedIndex].value;\n",
       "    fig.ondownload(fig, format);\n",
       "}\n",
       "\n",
       "\n",
       "mpl.figure.prototype.handle_resize = function(fig, msg) {\n",
       "    var size = msg['size'];\n",
       "    if (size[0] != fig.canvas.width || size[1] != fig.canvas.height) {\n",
       "        fig._resize_canvas(size[0], size[1]);\n",
       "        fig.send_message(\"refresh\", {});\n",
       "    };\n",
       "}\n",
       "\n",
       "mpl.figure.prototype.handle_rubberband = function(fig, msg) {\n",
       "    var x0 = msg['x0'];\n",
       "    var y0 = fig.canvas.height - msg['y0'];\n",
       "    var x1 = msg['x1'];\n",
       "    var y1 = fig.canvas.height - msg['y1'];\n",
       "    x0 = Math.floor(x0) + 0.5;\n",
       "    y0 = Math.floor(y0) + 0.5;\n",
       "    x1 = Math.floor(x1) + 0.5;\n",
       "    y1 = Math.floor(y1) + 0.5;\n",
       "    var min_x = Math.min(x0, x1);\n",
       "    var min_y = Math.min(y0, y1);\n",
       "    var width = Math.abs(x1 - x0);\n",
       "    var height = Math.abs(y1 - y0);\n",
       "\n",
       "    fig.rubberband_context.clearRect(\n",
       "        0, 0, fig.canvas.width, fig.canvas.height);\n",
       "\n",
       "    fig.rubberband_context.strokeRect(min_x, min_y, width, height);\n",
       "}\n",
       "\n",
       "mpl.figure.prototype.handle_figure_label = function(fig, msg) {\n",
       "    // Updates the figure title.\n",
       "    fig.header.textContent = msg['label'];\n",
       "}\n",
       "\n",
       "mpl.figure.prototype.handle_cursor = function(fig, msg) {\n",
       "    var cursor = msg['cursor'];\n",
       "    switch(cursor)\n",
       "    {\n",
       "    case 0:\n",
       "        cursor = 'pointer';\n",
       "        break;\n",
       "    case 1:\n",
       "        cursor = 'default';\n",
       "        break;\n",
       "    case 2:\n",
       "        cursor = 'crosshair';\n",
       "        break;\n",
       "    case 3:\n",
       "        cursor = 'move';\n",
       "        break;\n",
       "    }\n",
       "    fig.rubberband_canvas.style.cursor = cursor;\n",
       "}\n",
       "\n",
       "mpl.figure.prototype.handle_message = function(fig, msg) {\n",
       "    fig.message.textContent = msg['message'];\n",
       "}\n",
       "\n",
       "mpl.figure.prototype.handle_draw = function(fig, msg) {\n",
       "    // Request the server to send over a new figure.\n",
       "    fig.send_draw_message();\n",
       "}\n",
       "\n",
       "mpl.figure.prototype.handle_image_mode = function(fig, msg) {\n",
       "    fig.image_mode = msg['mode'];\n",
       "}\n",
       "\n",
       "mpl.figure.prototype.updated_canvas_event = function() {\n",
       "    // Called whenever the canvas gets updated.\n",
       "    this.send_message(\"ack\", {});\n",
       "}\n",
       "\n",
       "// A function to construct a web socket function for onmessage handling.\n",
       "// Called in the figure constructor.\n",
       "mpl.figure.prototype._make_on_message_function = function(fig) {\n",
       "    return function socket_on_message(evt) {\n",
       "        if (evt.data instanceof Blob) {\n",
       "            /* FIXME: We get \"Resource interpreted as Image but\n",
       "             * transferred with MIME type text/plain:\" errors on\n",
       "             * Chrome.  But how to set the MIME type?  It doesn't seem\n",
       "             * to be part of the websocket stream */\n",
       "            evt.data.type = \"image/png\";\n",
       "\n",
       "            /* Free the memory for the previous frames */\n",
       "            if (fig.imageObj.src) {\n",
       "                (window.URL || window.webkitURL).revokeObjectURL(\n",
       "                    fig.imageObj.src);\n",
       "            }\n",
       "\n",
       "            fig.imageObj.src = (window.URL || window.webkitURL).createObjectURL(\n",
       "                evt.data);\n",
       "            fig.updated_canvas_event();\n",
       "            fig.waiting = false;\n",
       "            return;\n",
       "        }\n",
       "        else if (typeof evt.data === 'string' && evt.data.slice(0, 21) == \"data:image/png;base64\") {\n",
       "            fig.imageObj.src = evt.data;\n",
       "            fig.updated_canvas_event();\n",
       "            fig.waiting = false;\n",
       "            return;\n",
       "        }\n",
       "\n",
       "        var msg = JSON.parse(evt.data);\n",
       "        var msg_type = msg['type'];\n",
       "\n",
       "        // Call the  \"handle_{type}\" callback, which takes\n",
       "        // the figure and JSON message as its only arguments.\n",
       "        try {\n",
       "            var callback = fig[\"handle_\" + msg_type];\n",
       "        } catch (e) {\n",
       "            console.log(\"No handler for the '\" + msg_type + \"' message type: \", msg);\n",
       "            return;\n",
       "        }\n",
       "\n",
       "        if (callback) {\n",
       "            try {\n",
       "                // console.log(\"Handling '\" + msg_type + \"' message: \", msg);\n",
       "                callback(fig, msg);\n",
       "            } catch (e) {\n",
       "                console.log(\"Exception inside the 'handler_\" + msg_type + \"' callback:\", e, e.stack, msg);\n",
       "            }\n",
       "        }\n",
       "    };\n",
       "}\n",
       "\n",
       "// from http://stackoverflow.com/questions/1114465/getting-mouse-location-in-canvas\n",
       "mpl.findpos = function(e) {\n",
       "    //this section is from http://www.quirksmode.org/js/events_properties.html\n",
       "    var targ;\n",
       "    if (!e)\n",
       "        e = window.event;\n",
       "    if (e.target)\n",
       "        targ = e.target;\n",
       "    else if (e.srcElement)\n",
       "        targ = e.srcElement;\n",
       "    if (targ.nodeType == 3) // defeat Safari bug\n",
       "        targ = targ.parentNode;\n",
       "\n",
       "    // jQuery normalizes the pageX and pageY\n",
       "    // pageX,Y are the mouse positions relative to the document\n",
       "    // offset() returns the position of the element relative to the document\n",
       "    var x = e.pageX - $(targ).offset().left;\n",
       "    var y = e.pageY - $(targ).offset().top;\n",
       "\n",
       "    return {\"x\": x, \"y\": y};\n",
       "};\n",
       "\n",
       "/*\n",
       " * return a copy of an object with only non-object keys\n",
       " * we need this to avoid circular references\n",
       " * http://stackoverflow.com/a/24161582/3208463\n",
       " */\n",
       "function simpleKeys (original) {\n",
       "  return Object.keys(original).reduce(function (obj, key) {\n",
       "    if (typeof original[key] !== 'object')\n",
       "        obj[key] = original[key]\n",
       "    return obj;\n",
       "  }, {});\n",
       "}\n",
       "\n",
       "mpl.figure.prototype.mouse_event = function(event, name) {\n",
       "    var canvas_pos = mpl.findpos(event)\n",
       "\n",
       "    if (name === 'button_press')\n",
       "    {\n",
       "        this.canvas.focus();\n",
       "        this.canvas_div.focus();\n",
       "    }\n",
       "\n",
       "    var x = canvas_pos.x;\n",
       "    var y = canvas_pos.y;\n",
       "\n",
       "    this.send_message(name, {x: x, y: y, button: event.button,\n",
       "                             step: event.step,\n",
       "                             guiEvent: simpleKeys(event)});\n",
       "\n",
       "    /* This prevents the web browser from automatically changing to\n",
       "     * the text insertion cursor when the button is pressed.  We want\n",
       "     * to control all of the cursor setting manually through the\n",
       "     * 'cursor' event from matplotlib */\n",
       "    event.preventDefault();\n",
       "    return false;\n",
       "}\n",
       "\n",
       "mpl.figure.prototype._key_event_extra = function(event, name) {\n",
       "    // Handle any extra behaviour associated with a key event\n",
       "}\n",
       "\n",
       "mpl.figure.prototype.key_event = function(event, name) {\n",
       "\n",
       "    // Prevent repeat events\n",
       "    if (name == 'key_press')\n",
       "    {\n",
       "        if (event.which === this._key)\n",
       "            return;\n",
       "        else\n",
       "            this._key = event.which;\n",
       "    }\n",
       "    if (name == 'key_release')\n",
       "        this._key = null;\n",
       "\n",
       "    var value = '';\n",
       "    if (event.ctrlKey && event.which != 17)\n",
       "        value += \"ctrl+\";\n",
       "    if (event.altKey && event.which != 18)\n",
       "        value += \"alt+\";\n",
       "    if (event.shiftKey && event.which != 16)\n",
       "        value += \"shift+\";\n",
       "\n",
       "    value += 'k';\n",
       "    value += event.which.toString();\n",
       "\n",
       "    this._key_event_extra(event, name);\n",
       "\n",
       "    this.send_message(name, {key: value,\n",
       "                             guiEvent: simpleKeys(event)});\n",
       "    return false;\n",
       "}\n",
       "\n",
       "mpl.figure.prototype.toolbar_button_onclick = function(name) {\n",
       "    if (name == 'download') {\n",
       "        this.handle_save(this, null);\n",
       "    } else {\n",
       "        this.send_message(\"toolbar_button\", {name: name});\n",
       "    }\n",
       "};\n",
       "\n",
       "mpl.figure.prototype.toolbar_button_onmouseover = function(tooltip) {\n",
       "    this.message.textContent = tooltip;\n",
       "};\n",
       "mpl.toolbar_items = [[\"Home\", \"Reset original view\", \"fa fa-home icon-home\", \"home\"], [\"Back\", \"Back to  previous view\", \"fa fa-arrow-left icon-arrow-left\", \"back\"], [\"Forward\", \"Forward to next view\", \"fa fa-arrow-right icon-arrow-right\", \"forward\"], [\"\", \"\", \"\", \"\"], [\"Pan\", \"Pan axes with left mouse, zoom with right\", \"fa fa-arrows icon-move\", \"pan\"], [\"Zoom\", \"Zoom to rectangle\", \"fa fa-square-o icon-check-empty\", \"zoom\"], [\"\", \"\", \"\", \"\"], [\"Download\", \"Download plot\", \"fa fa-floppy-o icon-save\", \"download\"]];\n",
       "\n",
       "mpl.extensions = [\"eps\", \"jpeg\", \"pdf\", \"png\", \"ps\", \"raw\", \"svg\", \"tif\"];\n",
       "\n",
       "mpl.default_extension = \"png\";var comm_websocket_adapter = function(comm) {\n",
       "    // Create a \"websocket\"-like object which calls the given IPython comm\n",
       "    // object with the appropriate methods. Currently this is a non binary\n",
       "    // socket, so there is still some room for performance tuning.\n",
       "    var ws = {};\n",
       "\n",
       "    ws.close = function() {\n",
       "        comm.close()\n",
       "    };\n",
       "    ws.send = function(m) {\n",
       "        //console.log('sending', m);\n",
       "        comm.send(m);\n",
       "    };\n",
       "    // Register the callback with on_msg.\n",
       "    comm.on_msg(function(msg) {\n",
       "        //console.log('receiving', msg['content']['data'], msg);\n",
       "        // Pass the mpl event to the overriden (by mpl) onmessage function.\n",
       "        ws.onmessage(msg['content']['data'])\n",
       "    });\n",
       "    return ws;\n",
       "}\n",
       "\n",
       "mpl.mpl_figure_comm = function(comm, msg) {\n",
       "    // This is the function which gets called when the mpl process\n",
       "    // starts-up an IPython Comm through the \"matplotlib\" channel.\n",
       "\n",
       "    var id = msg.content.data.id;\n",
       "    // Get hold of the div created by the display call when the Comm\n",
       "    // socket was opened in Python.\n",
       "    var element = $(\"#\" + id);\n",
       "    var ws_proxy = comm_websocket_adapter(comm)\n",
       "\n",
       "    function ondownload(figure, format) {\n",
       "        window.open(figure.imageObj.src);\n",
       "    }\n",
       "\n",
       "    var fig = new mpl.figure(id, ws_proxy,\n",
       "                           ondownload,\n",
       "                           element.get(0));\n",
       "\n",
       "    // Call onopen now - mpl needs it, as it is assuming we've passed it a real\n",
       "    // web socket which is closed, not our websocket->open comm proxy.\n",
       "    ws_proxy.onopen();\n",
       "\n",
       "    fig.parent_element = element.get(0);\n",
       "    fig.cell_info = mpl.find_output_cell(\"<div id='\" + id + \"'></div>\");\n",
       "    if (!fig.cell_info) {\n",
       "        console.error(\"Failed to find cell for figure\", id, fig);\n",
       "        return;\n",
       "    }\n",
       "\n",
       "    var output_index = fig.cell_info[2]\n",
       "    var cell = fig.cell_info[0];\n",
       "\n",
       "};\n",
       "\n",
       "mpl.figure.prototype.handle_close = function(fig, msg) {\n",
       "    fig.root.unbind('remove')\n",
       "\n",
       "    // Update the output cell to use the data from the current canvas.\n",
       "    fig.push_to_output();\n",
       "    var dataURL = fig.canvas.toDataURL();\n",
       "    // Re-enable the keyboard manager in IPython - without this line, in FF,\n",
       "    // the notebook keyboard shortcuts fail.\n",
       "    IPython.keyboard_manager.enable()\n",
       "    $(fig.parent_element).html('<img src=\"' + dataURL + '\">');\n",
       "    fig.close_ws(fig, msg);\n",
       "}\n",
       "\n",
       "mpl.figure.prototype.close_ws = function(fig, msg){\n",
       "    fig.send_message('closing', msg);\n",
       "    // fig.ws.close()\n",
       "}\n",
       "\n",
       "mpl.figure.prototype.push_to_output = function(remove_interactive) {\n",
       "    // Turn the data on the canvas into data in the output cell.\n",
       "    var dataURL = this.canvas.toDataURL();\n",
       "    this.cell_info[1]['text/html'] = '<img src=\"' + dataURL + '\">';\n",
       "}\n",
       "\n",
       "mpl.figure.prototype.updated_canvas_event = function() {\n",
       "    // Tell IPython that the notebook contents must change.\n",
       "    IPython.notebook.set_dirty(true);\n",
       "    this.send_message(\"ack\", {});\n",
       "    var fig = this;\n",
       "    // Wait a second, then push the new image to the DOM so\n",
       "    // that it is saved nicely (might be nice to debounce this).\n",
       "    setTimeout(function () { fig.push_to_output() }, 1000);\n",
       "}\n",
       "\n",
       "mpl.figure.prototype._init_toolbar = function() {\n",
       "    var fig = this;\n",
       "\n",
       "    var nav_element = $('<div/>')\n",
       "    nav_element.attr('style', 'width: 100%');\n",
       "    this.root.append(nav_element);\n",
       "\n",
       "    // Define a callback function for later on.\n",
       "    function toolbar_event(event) {\n",
       "        return fig.toolbar_button_onclick(event['data']);\n",
       "    }\n",
       "    function toolbar_mouse_event(event) {\n",
       "        return fig.toolbar_button_onmouseover(event['data']);\n",
       "    }\n",
       "\n",
       "    for(var toolbar_ind in mpl.toolbar_items){\n",
       "        var name = mpl.toolbar_items[toolbar_ind][0];\n",
       "        var tooltip = mpl.toolbar_items[toolbar_ind][1];\n",
       "        var image = mpl.toolbar_items[toolbar_ind][2];\n",
       "        var method_name = mpl.toolbar_items[toolbar_ind][3];\n",
       "\n",
       "        if (!name) { continue; };\n",
       "\n",
       "        var button = $('<button class=\"btn btn-default\" href=\"#\" title=\"' + name + '\"><i class=\"fa ' + image + ' fa-lg\"></i></button>');\n",
       "        button.click(method_name, toolbar_event);\n",
       "        button.mouseover(tooltip, toolbar_mouse_event);\n",
       "        nav_element.append(button);\n",
       "    }\n",
       "\n",
       "    // Add the status bar.\n",
       "    var status_bar = $('<span class=\"mpl-message\" style=\"text-align:right; float: right;\"/>');\n",
       "    nav_element.append(status_bar);\n",
       "    this.message = status_bar[0];\n",
       "\n",
       "    // Add the close button to the window.\n",
       "    var buttongrp = $('<div class=\"btn-group inline pull-right\"></div>');\n",
       "    var button = $('<button class=\"btn btn-mini btn-primary\" href=\"#\" title=\"Stop Interaction\"><i class=\"fa fa-power-off icon-remove icon-large\"></i></button>');\n",
       "    button.click(function (evt) { fig.handle_close(fig, {}); } );\n",
       "    button.mouseover('Stop Interaction', toolbar_mouse_event);\n",
       "    buttongrp.append(button);\n",
       "    var titlebar = this.root.find($('.ui-dialog-titlebar'));\n",
       "    titlebar.prepend(buttongrp);\n",
       "}\n",
       "\n",
       "mpl.figure.prototype._root_extra_style = function(el){\n",
       "    var fig = this\n",
       "    el.on(\"remove\", function(){\n",
       "\tfig.close_ws(fig, {});\n",
       "    });\n",
       "}\n",
       "\n",
       "mpl.figure.prototype._canvas_extra_style = function(el){\n",
       "    // this is important to make the div 'focusable\n",
       "    el.attr('tabindex', 0)\n",
       "    // reach out to IPython and tell the keyboard manager to turn it's self\n",
       "    // off when our div gets focus\n",
       "\n",
       "    // location in version 3\n",
       "    if (IPython.notebook.keyboard_manager) {\n",
       "        IPython.notebook.keyboard_manager.register_events(el);\n",
       "    }\n",
       "    else {\n",
       "        // location in version 2\n",
       "        IPython.keyboard_manager.register_events(el);\n",
       "    }\n",
       "\n",
       "}\n",
       "\n",
       "mpl.figure.prototype._key_event_extra = function(event, name) {\n",
       "    var manager = IPython.notebook.keyboard_manager;\n",
       "    if (!manager)\n",
       "        manager = IPython.keyboard_manager;\n",
       "\n",
       "    // Check for shift+enter\n",
       "    if (event.shiftKey && event.which == 13) {\n",
       "        this.canvas_div.blur();\n",
       "        // select the cell after this one\n",
       "        var index = IPython.notebook.find_cell_index(this.cell_info[0]);\n",
       "        IPython.notebook.select(index + 1);\n",
       "    }\n",
       "}\n",
       "\n",
       "mpl.figure.prototype.handle_save = function(fig, msg) {\n",
       "    fig.ondownload(fig, null);\n",
       "}\n",
       "\n",
       "\n",
       "mpl.find_output_cell = function(html_output) {\n",
       "    // Return the cell and output element which can be found *uniquely* in the notebook.\n",
       "    // Note - this is a bit hacky, but it is done because the \"notebook_saving.Notebook\"\n",
       "    // IPython event is triggered only after the cells have been serialised, which for\n",
       "    // our purposes (turning an active figure into a static one), is too late.\n",
       "    var cells = IPython.notebook.get_cells();\n",
       "    var ncells = cells.length;\n",
       "    for (var i=0; i<ncells; i++) {\n",
       "        var cell = cells[i];\n",
       "        if (cell.cell_type === 'code'){\n",
       "            for (var j=0; j<cell.output_area.outputs.length; j++) {\n",
       "                var data = cell.output_area.outputs[j];\n",
       "                if (data.data) {\n",
       "                    // IPython >= 3 moved mimebundle to data attribute of output\n",
       "                    data = data.data;\n",
       "                }\n",
       "                if (data['text/html'] == html_output) {\n",
       "                    return [cell, data, j];\n",
       "                }\n",
       "            }\n",
       "        }\n",
       "    }\n",
       "}\n",
       "\n",
       "// Register the function which deals with the matplotlib target/channel.\n",
       "// The kernel may be null if the page has been refreshed.\n",
       "if (IPython.notebook.kernel != null) {\n",
       "    IPython.notebook.kernel.comm_manager.register_target('matplotlib', mpl.mpl_figure_comm);\n",
       "}\n"
      ],
      "text/plain": [
       "<IPython.core.display.Javascript object>"
      ]
     },
     "metadata": {},
     "output_type": "display_data"
    },
    {
     "data": {
      "text/html": [
       "<img src=\"data:image/png;base64,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\">"
      ],
      "text/plain": [
       "<IPython.core.display.HTML object>"
      ]
     },
     "metadata": {},
     "output_type": "display_data"
    },
    {
     "name": "stdout",
     "output_type": "stream",
     "text": [
      "Total timesteps :894\n",
      "Available timesteps :794\n"
     ]
    }
   ],
   "source": [
    "\n",
    "def plot_timeseries(phival,ydvals,vrange):\n",
    "    plt.style.use('seaborn-deep')\n",
    "    l = []\n",
    "    phival = \"phi\"+str(phival)\n",
    "    for f in get_folder_list():\n",
    "        try:\n",
    "            if f.split(\"_\")[1] == phival:\n",
    "                l.append(f)\n",
    "        except:\n",
    "            continue\n",
    "    nufiles = [f+\"/result/nu_t.dat\" for f in l]\n",
    "    plt.figure(figsize=[12,5])\n",
    "    minshear = 100000\n",
    "    for f in np.sort(nufiles):\n",
    "        try:\n",
    "            db = pd.read_csv(f)\n",
    "            nu = db[db.columns[2]]\n",
    "            nu_rel = db[db.columns[4]]\n",
    "            t = db[db.columns[1]]\n",
    "            shearrate = float(f.split(\"_\")[2].split(\"/\")[0].split(\"yd\")[1])\n",
    "            if shearrate in ydvals: \n",
    "                shear = t*shearrate\n",
    "                if minshear > shear.max(): minshear = shear.max()\n",
    "                plt.plot(shear[vrange[0]: vrange[1]],nu_rel[vrange[0]: vrange[1]],label=\"yd=\"+str(shearrate))\n",
    "#                 print vrange[0]\n",
    "#                 plt.plot(shear,nu_rel,label=\"yd=\"+str(shearrate))\n",
    "                print \"Total timesteps :\"+str(len(shear))\n",
    "                print \"Available timesteps :\"+str(int(len(shear) - len(shear)/float(shear.max())))\n",
    "        except:\n",
    "            continue\n",
    "    plt.legend(loc=\"best\")\n",
    "    plt.title(\"$\\phi=$\"+str(phival))\n",
    "    plt.yscale(\"log\")\n",
    "    plt.xlabel(\"strain\")\n",
    "    plt.ylabel(\"Relative viscosity Pa.s\")\n",
    "\n",
    "#     plt.xlim([0,minshear])\n",
    "    name = \"comparison_viscosity_\" + str(phival)+ '_'.join([str(i) for i in ydvals])\n",
    "#     plt.savefig(name)\n",
    "\n",
    "time_series = interactive(plot_timeseries, \\\n",
    "                vrange = widgets.IntRangeSlider(min = 0, max = 1500,value = [0,1000]),\\\n",
    "                phival = widgets.ToggleButtons(options=[40,45,50,54,55,56,58],value=56,disabled=False), \\\n",
    "                ydvals= widgets.SelectMultiple(options=[1,10,11,11.5,12,12.5,13,14,15,16,18,20,30,50,70,100,200,300,1000],value=[12.0]),\\\n",
    "                __manual=False)\n",
    "\n",
    "display(time_series)"
   ]
  },
  {
   "cell_type": "markdown",
   "metadata": {},
   "source": [
    "## Plot averaged PDF"
   ]
  },
  {
   "cell_type": "markdown",
   "metadata": {},
   "source": [
    "### PDF averaged over a over a time range "
   ]
  },
  {
   "cell_type": "markdown",
   "metadata": {},
   "source": [
    "Averaged PDF over a specified time range is plotted here."
   ]
  },
  {
   "cell_type": "code",
   "execution_count": 13,
   "metadata": {
    "collapsed": false
   },
   "outputs": [
    {
     "name": "stderr",
     "output_type": "stream",
     "text": [
      "Widget Javascript not detected.  It may not be installed properly. Did you enable the widgetsnbextension? If not, then run \"jupyter nbextension enable --py --sys-prefix widgetsnbextension\"\n",
      "Widget Javascript not detected.  It may not be installed properly. Did you enable the widgetsnbextension? If not, then run \"jupyter nbextension enable --py --sys-prefix widgetsnbextension\"\n",
      "Widget Javascript not detected.  It may not be installed properly. Did you enable the widgetsnbextension? If not, then run \"jupyter nbextension enable --py --sys-prefix widgetsnbextension\"\n",
      "Widget Javascript not detected.  It may not be installed properly. Did you enable the widgetsnbextension? If not, then run \"jupyter nbextension enable --py --sys-prefix widgetsnbextension\"\n",
      "Widget Javascript not detected.  It may not be installed properly. Did you enable the widgetsnbextension? If not, then run \"jupyter nbextension enable --py --sys-prefix widgetsnbextension\"\n",
      "Widget Javascript not detected.  It may not be installed properly. Did you enable the widgetsnbextension? If not, then run \"jupyter nbextension enable --py --sys-prefix widgetsnbextension\"\n"
     ]
    }
   ],
   "source": [
    "# Eric's code for a PDF with higher resolution\n",
    "from susipop.susi.cache import SusiCache as cache\n",
    "\n",
    "\n",
    "f = FloatProgress(min=0, max=100)\n",
    "\n",
    "L = widgets.Label(\"\")\n",
    "\n",
    "display_cache_status = widgets.Label(\"\")\n",
    "\n",
    "\n",
    "def _plot_pdf_timerange(phi,time ,shearrate,bins = 41):\n",
    "    cachefilename = \"./cache/\" + \"phi_\"+str(phi)+\"_shearrate_\"+str(float(shearrate)).replace(\".\",\"_\")+\".h5\"\n",
    "    pdfcache = cache(cachefile=cachefilename)\n",
    "    path = \"rhor1_phi\"+str(phi)+\"_yd\"+str(float(shearrate))\n",
    "    dataset = sp.reader.DataSet(path,particles=True, fluid=True)\n",
    "    tmin, tmax = time[0], time[1]\n",
    "    if tmax > len(dataset.tlist):\n",
    "        tmax = len(dataset.tlist)\n",
    "    step = 1.0\n",
    "    global edges\n",
    "    global pair_df\n",
    "    \n",
    "    for t in range(tmin,tmax,1):\n",
    "        if not pdfcache.has_data(t,\"edges\") and not pdfcache.has_data(t,\"pair_df\"):\n",
    "            dataset.load_state(dataset.tlist[t])\n",
    "            exp = dataset\n",
    "            #Create the size of the area that you want to bin the distances in\n",
    "            limit = 5 * exp.particles.radius.max()\n",
    "    #         cachename = \"pdf_phi_\"+str(phi)+\"_shearrate_\"+str(shearrate).replace(\".\",\"_\")+\"_time\"+str(t)\n",
    "            #Calculate the distances and bin them\n",
    "            (edges, pair_df) = sp.spatial.correlations.pair_distribution_function(exp.particles.r,\n",
    "                 L=exp.L, LEs=exp.LEs, histogramdd={\"bins\":(bins, bins, bins),\"range\":((-limit,limit),(-limit,limit),(-limit,limit))})\n",
    "            datadict= dict()\n",
    "            datadict[\"edges\"] = edges\n",
    "            datadict[\"pair_df\"] = pair_df\n",
    "            pdfcache.save_data(t,{\"edges\":edges, \"pair_df\":pair_df})\n",
    "            display_cache_status.value =\"saving data to cache: \"+cachefilename+\" for timestep :\"+ str(t)\n",
    "        else:\n",
    "            edges = pdfcache.load_data(t,\"edges\")\n",
    "            pair_df = pdfcache.load_data(t,\"pair_df\")\n",
    "            display_cache_status.value = \" loading from cache :\"+cachefilename+\" for timestep\"+ str(t)\n",
    "        if step == 1: edges_tot, pair_df_tot = np.zeros_like(edges), np.zeros_like(pair_df)\n",
    "        edges_tot += edges\n",
    "        pair_df_tot += pair_df\n",
    "        step += 1.0\n",
    "        f.value = step/int(tmax-tmin+1)*100\n",
    "        L.value = str(int(step/int(tmax-tmin+1)*100))+\"% completed\"\n",
    "\n",
    "    edges = edges_tot/step\n",
    "    pair_df = pair_df_tot/step\n",
    "\n",
    "\n",
    "def plot_pdf_timerange(phi,time ,shearrate,bins, xz_vmax,xy_vmax,yz_vmax,analyze_,autorange,save_fig):\n",
    "    if analyze_:\n",
    "        _plot_pdf_timerange(phi,time ,shearrate,bins)\n",
    "    #Plot them in a color mesh\n",
    "    #pcolor plots have a tendency to leave out one row/column of \"pixels\". It will not immediately plot the entire\n",
    "    #range. To compensate, the defined meshgrid needs to be 1 \"pont\" bigger  than the image that you want.\n",
    "\n",
    "    #Add a value to \"edges\" by first determining bin stepsize and then appending one step to edges\n",
    "    max=edges[0][bins-1]+(edges[0][1]-edges[0][0])\n",
    "    new0=np.append(edges[0],max)\n",
    "    new1=np.append(edges[1],max)\n",
    "    new2=np.append(edges[2],max)\n",
    "\n",
    "    # X-Z PLANE\n",
    "    #Create the mesh grid, but shift by half a bin to correctly center the image\n",
    "    plt.figure(figsize=[10,10])\n",
    "\n",
    "    plt.subplot(221)\n",
    "    XX, ZZ = np.meshgrid(new0-7.31208644e-07/2, new2-7.31208644e-07/2)\n",
    "    pairdf = pair_df[:, pair_df.shape[1] / 2, :]\n",
    "\n",
    "    if autorange == True: plt.pcolor(XX.T * 1e6, ZZ.T * 1e6, pairdf,vmin=0,vmax=xz_vmax)\n",
    "    else: plt.pcolor(XX.T * 1e6, ZZ.T * 1e6, pairdf)\n",
    "        \n",
    "    plt.colorbar()\n",
    "#         y_mum = 1e6 * edges[1][pair_df.shape[1] / 2]\n",
    "    y_mum =  1e6 * ( edges[1][1] -edges[1][0] )    \n",
    "\n",
    "    plt.axis([-16,16,-16,16])\n",
    "    plt.xlabel('$\\Delta{x}$ $(\\mu{m})$', fontsize=15);\n",
    "    plt.ylabel('$\\Delta{z}$ $(\\mu{m})$', fontsize=15);\n",
    "    plt.title('PDF at $y={:.2f} \\mu{{m}}$ for phi='.format(y_mum)+str(phi)+\" yd=\"+str(shearrate).format(y_mum), fontsize=15);\n",
    "    print \"ymum=\"+str(y_mum)\n",
    "\n",
    "    #X-Y PLANE\n",
    "    plt.subplot(222)\n",
    "    XX, YY = np.meshgrid(new0-7.31208644e-07/2, new1-7.31208644e-07/2)\n",
    "    pairdf = pair_df[:,:, pair_df.shape[2] / 2]\n",
    "\n",
    "    if autorange== True: plt.pcolor(XX.T * 1e6, YY.T * 1e6, pairdf,vmin=0,vmax=xy_vmax)\n",
    "    else: plt.pcolor(XX.T * 1e6, YY.T * 1e6, pairdf)\n",
    "        \n",
    "    plt.colorbar()\n",
    "    z_mum = 1e6 * ( edges[2][1] -edges[2][0] )    \n",
    "\n",
    "    plt.axis([-16,16,-16,16])\n",
    "    plt.xlabel('$\\Delta{x}$ $(\\mu{m})$', fontsize=15);\n",
    "    plt.ylabel('$\\Delta{y}$ $(\\mu{m})$', fontsize=15);\n",
    "    plt.title('PDF at $z={:.2f} \\mu{{m}}$ for phi='.format(z_mum)+str(phi)+\" yd=\"+str(shearrate).format(z_mum), fontsize=15);\n",
    "\n",
    "    #Y-Z PLANE\n",
    "    plt.subplot(223)\n",
    "    YY, ZZ = np.meshgrid(new1-7.31208644e-07/2, new2-7.31208644e-07/2)\n",
    "    pairdf = pair_df[pair_df.shape[0] / 2,:,:]\n",
    "\n",
    "    if autorange== True: plt.pcolor(YY.T * 1e6, ZZ.T * 1e6, pairdf,vmin=0,vmax=yz_vmax)\n",
    "    else: plt.pcolor(YY.T * 1e6, ZZ.T * 1e6, pairdf)\n",
    "    plt.colorbar()\n",
    "    x_mum = 1e6 *( edges[0][1] -edges[0][0] )    \n",
    "\n",
    "    plt.axis([-16,16,-16,16])\n",
    "    plt.xlabel('$\\Delta{y}$ $(\\mu{m})$', fontsize=15);\n",
    "    plt.ylabel('$\\Delta{z}$ $(\\mu{m})$', fontsize=15);\n",
    "    plt.title('PDF at $x={:.2f} \\mu{{m}}$ for phi='.format(x_mum)+str(phi)+\" yd=\"+str(shearrate).format(x_mum), fontsize=15);\n",
    "    \n",
    "    plt.subplot(224)\n",
    "    tmin, tmax = time[0], time[1]\n",
    "    path = \"rhor1_phi\"+str(phi)+\"_yd\"+str(float(shearrate))\n",
    "    nupath = path + \"/result/nu_t.dat\"\n",
    "    db = pd.read_csv(nupath)\n",
    "    nu = db[db.columns[2]]\n",
    "    nu_rel = db[db.columns[4]]\n",
    "    t = db[db.columns[1]]\n",
    "#     dt = abs(t[2]-t[1])\n",
    "    shear = t*shearrate\n",
    "    shear_tmin = t[tmin-1]*shearrate\n",
    "    try:\n",
    "        shear_tmax =  t[tmax-1]*shearrate\n",
    "    except:\n",
    "        shear_tmax =  t[len(t)-1]*shearrate\n",
    "    print shear_tmin, shear_tmax\n",
    "    plt.plot(shear, nu)\n",
    "    \n",
    "    plt.axvline(shear_tmin)\n",
    "    plt.axvline(shear_tmax)\n",
    "    plt.yscale(\"log\")\n",
    "    plt.ylabel(\"viscosity\")\n",
    "    plt.xlabel(\"strain\")\n",
    "    if save_fig:\n",
    "        plt.savefig(\"pdf_phi_\"+str(phi)+\"_shearrate_\"+str(shearrate).replace(\".\",\"_\")+\"_trange\"+str(tmin)+\"_\"+str(tmax))\n",
    "        \n",
    "\n",
    "\n",
    "\n",
    "pdf_average_timerange = interactive(plot_pdf_timerange, \\\n",
    "                phi = widgets.ToggleButtons(options=[40,45,50,54,55,56,58],value=56,disabled=False), \\\n",
    "                shearrate= widgets.ToggleButtons(options=[1,10,11,11.5,12,12.5,13,14,15,16,18,20,30,50,70,100,200,300,1000],\\\n",
    "                                                 value = 12),\\\n",
    "                xz_vmax = widgets.FloatSlider(min= 0, max= 15,value = 3, step = 0.25,orientation = \"vertical\",description = \"xz colorbax max\"),\\\n",
    "                xy_vmax = widgets.FloatSlider(min= 0, max= 15,value = 3, step = 0.25,orientation = \"vertical\",description = \"xy colorbax max\"),\\\n",
    "                yz_vmax = widgets.FloatSlider(min= 0, max= 15,value = 3, step = 0.25,orientation = \"vertical\",description = \"yz colorbax max\"),\\\n",
    "                analyze_ = widgets.ToggleButtons(options=[True,False],value = True,description= \"Analyze?\"),\\\n",
    "                save_fig = widgets.ToggleButtons(options=[True,False],value = False,description=\"Save figure?\"),\\\n",
    "                autorange = widgets.ToggleButtons(options=[True,False],value = True,description=\"Manual color range?\"),\\\n",
    "                time = widgets.IntRangeSlider(min= 1, max= 1500,value = [0,1000], step = 1),\\\n",
    "                bins = widgets.IntSlider(options = [11,101],value = 41, step = 2,orientation = \"vertical\"),__manual=True)\n",
    "display(widgets.VBox(pdf_average_timerange.children[0:3]))\n",
    "display(widgets.HBox(pdf_average_timerange.children[3:-1]))\n",
    "# display(widgets.HBox(pdf_average_timerange.children[7:-1]))\n",
    "display(f)\n",
    "display(L)\n",
    "display(display_cache_status)\n",
    "display(pdf_average_timerange.children[-1])\n",
    "\n"
   ]
  },
  {
   "cell_type": "markdown",
   "metadata": {},
   "source": [
    "## PDF averaged over a timesteps with a specific viscosity range "
   ]
  },
  {
   "cell_type": "markdown",
   "metadata": {},
   "source": [
    "PDF is calculated over all the timesteps that have a viscosity in a specific range  "
   ]
  },
  {
   "cell_type": "code",
   "execution_count": 14,
   "metadata": {
    "collapsed": false
   },
   "outputs": [
    {
     "name": "stderr",
     "output_type": "stream",
     "text": [
      "Widget Javascript not detected.  It may not be installed properly. Did you enable the widgetsnbextension? If not, then run \"jupyter nbextension enable --py --sys-prefix widgetsnbextension\"\n",
      "Widget Javascript not detected.  It may not be installed properly. Did you enable the widgetsnbextension? If not, then run \"jupyter nbextension enable --py --sys-prefix widgetsnbextension\"\n",
      "Widget Javascript not detected.  It may not be installed properly. Did you enable the widgetsnbextension? If not, then run \"jupyter nbextension enable --py --sys-prefix widgetsnbextension\"\n",
      "Widget Javascript not detected.  It may not be installed properly. Did you enable the widgetsnbextension? If not, then run \"jupyter nbextension enable --py --sys-prefix widgetsnbextension\"\n",
      "Widget Javascript not detected.  It may not be installed properly. Did you enable the widgetsnbextension? If not, then run \"jupyter nbextension enable --py --sys-prefix widgetsnbextension\"\n",
      "Widget Javascript not detected.  It may not be installed properly. Did you enable the widgetsnbextension? If not, then run \"jupyter nbextension enable --py --sys-prefix widgetsnbextension\"\n"
     ]
    }
   ],
   "source": [
    "# Eric's code for a PDF with higher resolution\n",
    "from susipop.susi.cache import SusiCache as cache\n",
    "\n",
    "\n",
    "f = FloatProgress(min=0, max=100)\n",
    "L = widgets.Label(\"\")\n",
    "\n",
    "\n",
    "def _plot_pdf_timerange(phi,viscosity_range ,shearrate,bins = 41):\n",
    "    cachefilename = \"./cache/\" + \"phi_\"+str(phi)+\"_shearrate_\"+str(float(shearrate)).replace(\".\",\"_\")+\".h5\"\n",
    "    print cachefilename\n",
    "    pdfcache = cache(cachefile=cachefilename)\n",
    "    path = \"rhor1_phi\"+str(phi)+\"_yd\"+str(float(shearrate))\n",
    "    dataset = sp.reader.DataSet(path,particles=True, fluid=True)\n",
    "\n",
    "    min_viscosity = viscosity_range[0]\n",
    "    max_viscosity = viscosity_range[1]\n",
    "    \n",
    "    \n",
    "    nudata = pd.read_csv(path+\"/result/nu_t.dat\",names=[\"t\",\"time\", \"nu\",\"nu_var\",\"nur\",\"nur_var)\"])\n",
    "    idx_list = np.where((nudata[\"nur\"] < max_viscosity) & (nudata[\"nur\"] > min_viscosity) )[0]\n",
    "    t_list = nudata[\"t\"][idx_list]\n",
    "#     print t_list\n",
    "    \n",
    "    global edges\n",
    "    global pair_df\n",
    "    step = 1 \n",
    "    \n",
    "    for t in idx_list:\n",
    "        if not pdfcache.has_data(t,\"edges\") and not pdfcache.has_data(t,\"pair_df\"):\n",
    "            dataset.load_state(dataset.tlist[t])\n",
    "            exp = dataset\n",
    "            #Create the size of the area that you want to bin the distances in\n",
    "            limit = 5 * exp.particles.radius.max()\n",
    "    #         cachename = \"pdf_phi_\"+str(phi)+\"_shearrate_\"+str(shearrate).replace(\".\",\"_\")+\"_time\"+str(t)\n",
    "            #Calculate the distances and bin them\n",
    "            (edges, pair_df) = sp.spatial.correlations.pair_distribution_function(exp.particles.r,\n",
    "                 L=exp.L, LEs=exp.LEs, histogramdd={\"bins\":(bins, bins, bins),\"range\":((-limit,limit),(-limit,limit),(-limit,limit))})\n",
    "            datadict= dict()\n",
    "            datadict[\"edges\"] = edges\n",
    "            datadict[\"pair_df\"] = pair_df\n",
    "            pdfcache.save_data(t,{\"edges\":edges, \"pair_df\":pair_df})\n",
    "            display_cache_status.value =\"saving data to cache: \"+cachefilename+\" for timestep :\"+ str(t)\n",
    "        else:\n",
    "            edges = pdfcache.load_data(t,\"edges\")\n",
    "            pair_df = pdfcache.load_data(t,\"pair_df\")\n",
    "            display_cache_status.value = \" loading from cache :\"+cachefilename+\" for timestep\"+ str(t)\n",
    "        if step == 1: edges_tot, pair_df_tot = np.zeros_like(edges), np.zeros_like(pair_df)\n",
    "        edges_tot += edges\n",
    "        pair_df_tot += pair_df\n",
    "        step += 1.0\n",
    "        f.value = step/len(t_list)*100\n",
    "        L.value = str(int(step/len(t_list)*100))+\"% completed\"\n",
    "\n",
    "    edges = edges_tot/step\n",
    "    pair_df = pair_df_tot/step\n",
    "\n",
    "\n",
    "def plot_pdf_timerange(phi,viscosity_range ,shearrate,bins, xz_vmax,xy_vmax,yz_vmax,analyze_,autorange, save_fig):\n",
    "    \n",
    "    if analyze_:\n",
    "        _plot_pdf_timerange(phi,viscosity_range ,shearrate,bins)\n",
    "    #Plot them in a color mesh\n",
    "    #pcolor plots have a tendency to leave out one row/column of \"pixels\". It will not immediately plot the entire\n",
    "    #range. To compensate, the defined meshgrid needs to be 1 \"pont\" bigger  than the image that you want.\n",
    "\n",
    "    #Add a value to \"edges\" by first determining bin stepsize and then appending one step to edges\n",
    "    max=edges[0][bins-1]+(edges[0][1]-edges[0][0])\n",
    "    new0=np.append(edges[0],max)\n",
    "    new1=np.append(edges[1],max)\n",
    "    new2=np.append(edges[2],max)\n",
    "\n",
    "    # X-Z PLANE\n",
    "    #Create the mesh grid, but shift by half a bin to correctly center the image\n",
    "    plt.figure(figsize=[10,10])\n",
    "\n",
    "    plt.subplot(221)\n",
    "    XX, ZZ = np.meshgrid(new0-7.31208644e-07/2, new2-7.31208644e-07/2)\n",
    "    pairdf = pair_df[:, pair_df.shape[1] / 2, :]\n",
    "\n",
    "#     plt.pcolor(XX.T * 1e6, ZZ.T * 1e6, pairdf,vmin=0,vmax=xz_vmax)\n",
    "    if autorange == True: plt.pcolor(XX.T * 1e6, ZZ.T * 1e6, pairdf,vmin=0,vmax=xz_vmax)\n",
    "    else: plt.pcolor(XX.T * 1e6, ZZ.T * 1e6, pairdf)\n",
    "    plt.colorbar()\n",
    "#         y_mum = 1e6 * edges[1][pair_df.shape[1] / 2]\n",
    "    y_mum =  1e6 * ( edges[1][1] -edges[1][0] )    \n",
    "\n",
    "    plt.axis([-16,16,-16,16])\n",
    "    plt.xlabel('$\\Delta{x}$ $(\\mu{m})$', fontsize=15);\n",
    "    plt.ylabel('$\\Delta{z}$ $(\\mu{m})$', fontsize=15);\n",
    "    plt.title('PDF at $y={:.2f} \\mu{{m}}$ for phi='.format(y_mum)+str(phi)+\" yd=\"+str(shearrate).format(y_mum), fontsize=15);\n",
    "    print \"ymum=\"+str(y_mum)\n",
    "\n",
    "    #X-Y PLANE\n",
    "    plt.subplot(222)\n",
    "    XX, YY = np.meshgrid(new0-7.31208644e-07/2, new1-7.31208644e-07/2)\n",
    "    pairdf = pair_df[:,:, pair_df.shape[2] / 2]\n",
    "\n",
    "#     plt.pcolor(XX.T * 1e6, YY.T * 1e6, pairdf,vmin=0,vmax=xy_vmax)\n",
    "    if autorange == True: plt.pcolor(XX.T * 1e6, YY.T * 1e6, pairdf,vmin=0,vmax=xy_vmax)\n",
    "    else: plt.pcolor(XX.T * 1e6, YY.T * 1e6, pairdf)\n",
    "        \n",
    "    plt.colorbar()\n",
    "    z_mum = 1e6 * ( edges[2][1] -edges[2][0] )    \n",
    "\n",
    "    plt.axis([-16,16,-16,16])\n",
    "    plt.xlabel('$\\Delta{x}$ $(\\mu{m})$', fontsize=15);\n",
    "    plt.ylabel('$\\Delta{y}$ $(\\mu{m})$', fontsize=15);\n",
    "    plt.title('PDF at $z={:.2f} \\mu{{m}}$ for phi='.format(z_mum)+str(phi)+\" yd=\"+str(shearrate).format(z_mum), fontsize=15);\n",
    "\n",
    "    #Y-Z PLANE\n",
    "    plt.subplot(223)\n",
    "    YY, ZZ = np.meshgrid(new1-7.31208644e-07/2, new2-7.31208644e-07/2)\n",
    "    pairdf = pair_df[pair_df.shape[0] / 2,:,:]\n",
    "\n",
    "#     plt.pcolor(YY.T * 1e6, ZZ.T * 1e6, pairdf,vmin=0,vmax=yz_vmax)\n",
    "    if autorange == True: plt.pcolor(YY.T * 1e6, ZZ.T * 1e6, pairdf,vmin=0,vmax=yz_vmax)\n",
    "    else: plt.pcolor(YY.T * 1e6, ZZ.T * 1e6, pairdf)\n",
    "    plt.colorbar()\n",
    "    x_mum = 1e6 *( edges[0][1] -edges[0][0] )    \n",
    "\n",
    "    plt.axis([-16,16,-16,16])\n",
    "    plt.xlabel('$\\Delta{y}$ $(\\mu{m})$', fontsize=15);\n",
    "    plt.ylabel('$\\Delta{z}$ $(\\mu{m})$', fontsize=15);\n",
    "    plt.title('PDF at $x={:.2f} \\mu{{m}}$ for phi='.format(x_mum)+str(phi)+\" yd=\"+str(shearrate).format(x_mum), fontsize=15);\n",
    "    \n",
    "    plt.subplot(224)\n",
    "#     tmin, tmax = time[0], time[1]\n",
    "    min_viscosity = viscosity_range[0]\n",
    "    max_viscosity = viscosity_range[1]\n",
    "\n",
    "\n",
    "    path = \"rhor1_phi\"+str(phi)+\"_yd\"+str(float(shearrate))\n",
    "    nupath = path + \"/result/nu_t.dat\"\n",
    "    db = pd.read_csv(nupath,names=[\"t\",\"time\", \"nu\",\"nu_var\",\"nur\",\"nur_var)\"])\n",
    "    nu = db[\"nu\"]\n",
    "    nu_rel = db[\"nur\"]\n",
    "    t = db[\"time\"]\n",
    "    idx_list_valid = np.where((db[\"nur\"] < max_viscosity) & (db[\"nur\"] > min_viscosity) )[0]\n",
    "    idx_list_invalid = np.where((db[\"nur\"] > max_viscosity) | (db[\"nur\"] < min_viscosity) )[0]\n",
    "\n",
    "    \n",
    "    #     dt = abs(t[2]-t[1])\n",
    "    shear = t*shearrate\n",
    "#     shear_tmin = t[tmin-1]*shearrate\n",
    "    \n",
    "    plt.plot(shear[idx_list_valid], nu_rel[idx_list_valid],'r.',label=\"data points used \")\n",
    "    plt.plot(shear[idx_list_invalid], nu_rel[idx_list_invalid],'b.',label=\"data points not used\")\n",
    "    plt.legend(loc = 'best',prop={'size':8})\n",
    "#     try:\n",
    "#         shear_tmax =  t[tmax-1]*shearrate\n",
    "#     except:\n",
    "#         shear_tmax =  t[len(t)-1]*shearrate\n",
    "        \n",
    "#     print shear_tmin, shear_tmax\n",
    "#     plt.plot(shear, nu)\n",
    "    plt.yscale(\"log\")\n",
    "    plt.ylabel(\"relative viscosity\")\n",
    "    plt.xlabel(\"strain\")\n",
    "    if save_fig:\n",
    "        plt.savefig(\"pdf_phi_\"+str(phi)+\"_shearrate_\"+str(shearrate).replace(\".\",\"_\")+\"_viscosity_range\"+str(min_viscosity)+\"_\"+str(max_viscosity))\n",
    "        \n",
    "\n",
    "\n",
    "\n",
    "pdf_average_viscosity = interactive(plot_pdf_timerange, \\\n",
    "                phi = widgets.ToggleButtons(options=[40,45,50,54,55,56,58],value=56,disabled=False), \\\n",
    "                shearrate= widgets.ToggleButtons(options=[1,10,11,11.5,12,12.5,13,14,15,16,18,20,30,50,70,100,200,300,1000],\\\n",
    "                                                 value = 12),\\\n",
    "                xz_vmax = widgets.FloatSlider(min= 0, max= 15,value = 2.75, step = 0.05,orientation = \"vertical\",description = \"xz colorbax max\"),\\\n",
    "                xy_vmax = widgets.FloatSlider(min= 0, max= 15,value = 2.75, step = 0.05,orientation = \"vertical\",description = \"xy colorbax max\"),\\\n",
    "                yz_vmax = widgets.FloatSlider(min= 0, max= 15,value = 2.75, step = 0.05,orientation = \"vertical\",description = \"yz colorbax max\"),\\\n",
    "                analyze_ = widgets.ToggleButtons(options=[True,False],value = True,description= \"Analyze?\"),\\\n",
    "                save_fig = widgets.ToggleButtons(options=[True,False],value = False,description=\"Save figure?\"),\\\n",
    "                autorange = widgets.ToggleButtons(options=[True,False],value = True,description=\"Manual color range?\"),\\\n",
    "                viscosity_range = widgets.IntRangeSlider(min= 1, max= 1e5,value = [1,1000], step = 1, description= \"relative viscosity range\"),\\\n",
    "                bins = widgets.IntSlider(options = [11,101],value = 41, step = 2,orientation = \"vertical\"),__manual=True)\n",
    "display(widgets.VBox(pdf_average_viscosity.children[0:3]))\n",
    "display(widgets.HBox(pdf_average_viscosity.children[3:-1]))\n",
    "# display(widgets.HBox(pdf_average_viscosity.children[7:-1]))\n",
    "display(f)\n",
    "display(L)\n",
    "display(display_cache_status)\n",
    "display(pdf_average_viscosity.children[-1])"
   ]
  },
  {
   "cell_type": "markdown",
   "metadata": {
    "collapsed": false
   },
   "source": [
    "## PDF averaged over timesteps with a specific 1st normal stress difference range"
   ]
  },
  {
   "cell_type": "code",
   "execution_count": 15,
   "metadata": {
    "collapsed": false
   },
   "outputs": [
    {
     "name": "stderr",
     "output_type": "stream",
     "text": [
      "Widget Javascript not detected.  It may not be installed properly. Did you enable the widgetsnbextension? If not, then run \"jupyter nbextension enable --py --sys-prefix widgetsnbextension\"\n",
      "Widget Javascript not detected.  It may not be installed properly. Did you enable the widgetsnbextension? If not, then run \"jupyter nbextension enable --py --sys-prefix widgetsnbextension\"\n",
      "Widget Javascript not detected.  It may not be installed properly. Did you enable the widgetsnbextension? If not, then run \"jupyter nbextension enable --py --sys-prefix widgetsnbextension\"\n",
      "Widget Javascript not detected.  It may not be installed properly. Did you enable the widgetsnbextension? If not, then run \"jupyter nbextension enable --py --sys-prefix widgetsnbextension\"\n",
      "Widget Javascript not detected.  It may not be installed properly. Did you enable the widgetsnbextension? If not, then run \"jupyter nbextension enable --py --sys-prefix widgetsnbextension\"\n"
     ]
    }
   ],
   "source": [
    "\n",
    "# Eric's code for a PDF with higher resolution\n",
    "from susipop.susi.cache import SusiCache as cache\n",
    "\n",
    "\n",
    "f = FloatProgress(min=0, max=100)\n",
    "L = widgets.Label(\"\")\n",
    "display_cache_status = widgets.Label(\"\")\n",
    "\n",
    "def _plot_pdf_timerange(phi,N1_range ,shearrate,invert_range, bins = 41):\n",
    "    cachefilename = \"./cache/\" + \"phi_\"+str(phi)+\"_shearrate_\"+str(float(shearrate)).replace(\".\",\"_\")+\".h5\"\n",
    "    pdfcache = cache(cachefile=cachefilename)\n",
    "    path = \"rhor1_phi\"+str(phi)+\"_yd\"+str(float(shearrate))\n",
    "    dataset = sp.reader.DataSet(path,particles=True, fluid=True)\n",
    "\n",
    "    min_N1 = N1_range[0]\n",
    "    max_N1 = N1_range[1]\n",
    "    \n",
    "    \n",
    "    n1data = pd.read_csv(path+\"/result/part_stress_norm_tot_t.dat\")\n",
    "    s11 = np.asarray(n1data[n1data.columns[2]])\n",
    "    s22 = np.asarray(n1data[n1data.columns[3]])\n",
    "    s33 = np.asarray(n1data[n1data.columns[4]])\n",
    "    N1 = s11 - s33\n",
    "    N2 = s33 - s22\n",
    "    \n",
    "    if not invert_range: idx_list = np.where((N1 < max_N1) & (N1 > min_N1) )[0]\n",
    "    else: idx_list = np.where((N1 > max_N1) | (N1 < min_N1) )[0]\n",
    "#     print idx_list\n",
    "    global edges\n",
    "    global pair_df\n",
    "    step = 1 \n",
    "    \n",
    "    for t in idx_list:\n",
    "        if not pdfcache.has_data(t,\"edges\") and not pdfcache.has_data(t,\"pair_df\"):\n",
    "            dataset.load_state(dataset.tlist[t])\n",
    "            exp = dataset\n",
    "            #Create the size of the area that you want to bin the distances in\n",
    "            limit = 5 * exp.particles.radius.max()\n",
    "\n",
    "            (edges, pair_df) = sp.spatial.correlations.pair_distribution_function(exp.particles.r,\n",
    "                 L=exp.L, LEs=exp.LEs, histogramdd={\"bins\":(bins, bins, bins),\"range\":((-limit,limit),(-limit,limit),(-limit,limit))})\n",
    "            datadict= dict()\n",
    "            datadict[\"edges\"] = edges\n",
    "            datadict[\"pair_df\"] = pair_df\n",
    "            pdfcache.save_data(t,{\"edges\":edges, \"pair_df\":pair_df})\n",
    "            display_cache_status.value =\"saving data to cache: \"+cachefilename+\" for timestep :\"+ str(t)\n",
    "        else:\n",
    "            edges = pdfcache.load_data(t,\"edges\")\n",
    "            pair_df = pdfcache.load_data(t,\"pair_df\")\n",
    "            display_cache_status.value = \" loading from cache :\"+cachefilename+\" for timestep\"+ str(t)\n",
    "        if step == 1: edges_tot, pair_df_tot = np.zeros_like(edges), np.zeros_like(pair_df)\n",
    "        edges_tot += edges\n",
    "        pair_df_tot += pair_df\n",
    "        step += 1.0\n",
    "        f.value = step/len(idx_list)*100\n",
    "        L.value = str(int(step/len(idx_list)*100))+\"% completed\"\n",
    "\n",
    "    edges = edges_tot/step\n",
    "    pair_df = pair_df_tot/step\n",
    "\n",
    "\n",
    "def plot_pdf_timerange(phi,N1_range ,shearrate,bins, xz_vmax,xy_vmax,yz_vmax,analyze_,autorange, save_fig,invert_range):\n",
    "    \n",
    "    if analyze_:\n",
    "        _plot_pdf_timerange(phi,N1_range ,shearrate,invert_range,bins)\n",
    "    #Plot them in a color mesh\n",
    "    #pcolor plots have a tendency to leave out one row/column of \"pixels\". It will not immediately plot the entire\n",
    "    #range. To compensate, the defined meshgrid needs to be 1 \"pont\" bigger  than the image that you want.\n",
    "\n",
    "    #Add a value to \"edges\" by first determining bin stepsize and then appending one step to edges\n",
    "    max=edges[0][bins-1]+(edges[0][1]-edges[0][0])\n",
    "    new0=np.append(edges[0],max)\n",
    "    new1=np.append(edges[1],max)\n",
    "    new2=np.append(edges[2],max)\n",
    "\n",
    "    # X-Z PLANE\n",
    "    #Create the mesh grid, but shift by half a bin to correctly center the image\n",
    "    plt.figure(figsize=[10,10])\n",
    "\n",
    "    plt.subplot(221)\n",
    "    XX, ZZ = np.meshgrid(new0-7.31208644e-07/2, new2-7.31208644e-07/2)\n",
    "    pairdf = pair_df[:, pair_df.shape[1] / 2, :]\n",
    "\n",
    "    if autorange == True: plt.pcolor(XX.T * 1e6, ZZ.T * 1e6, pairdf,vmin=0,vmax=xz_vmax)\n",
    "    else: plt.pcolor(XX.T * 1e6, ZZ.T * 1e6, pairdf)\n",
    "    plt.colorbar()\n",
    "#         y_mum = 1e6 * edges[1][pair_df.shape[1] / 2]\n",
    "    y_mum =  1e6 * ( edges[1][1] -edges[1][0] )    \n",
    "\n",
    "    plt.axis([-16,16,-16,16])\n",
    "#     plt.axis([-26,26,-26,26])\n",
    "    plt.xlabel('$\\Delta{x}$ $(\\mu{m})$', fontsize=15,labelpad=-5);\n",
    "    plt.ylabel('$\\Delta{z}$ $(\\mu{m})$', fontsize=15,labelpad=-10);\n",
    "    plt.title('PDF at $y={:.2f} \\mu{{m}}$ for phi='.format(y_mum)+str(phi)+\" yd=\"+str(shearrate).format(y_mum), fontsize=15);\n",
    "    print \"ymum=\"+str(y_mum)\n",
    "\n",
    "    #X-Y PLANE\n",
    "    plt.subplot(222)\n",
    "    XX, YY = np.meshgrid(new0-7.31208644e-07/2, new1-7.31208644e-07/2)\n",
    "    pairdf = pair_df[:,:, pair_df.shape[2] / 2]\n",
    "\n",
    "    if autorange == True: plt.pcolor(XX.T * 1e6, YY.T * 1e6, pairdf,vmin=0,vmax=xy_vmax)\n",
    "    else: plt.pcolor(XX.T * 1e6, YY.T * 1e6, pairdf)\n",
    "        \n",
    "    plt.colorbar()\n",
    "    z_mum = 1e6 * ( edges[2][1] -edges[2][0] )    \n",
    "\n",
    "    plt.axis([-16,16,-16,16])\n",
    "#     plt.axis([-26,26,-26,26])\n",
    "    plt.xlabel('$\\Delta{x}$ $(\\mu{m})$', fontsize=15,labelpad=-5);\n",
    "    plt.ylabel('$\\Delta{y}$ $(\\mu{m})$', fontsize=15,labelpad=-10);\n",
    "    plt.title('PDF at $z={:.2f} \\mu{{m}}$ for phi='.format(z_mum)+str(phi)+\" yd=\"+str(shearrate).format(z_mum), fontsize=15);\n",
    "\n",
    "    #Y-Z PLANE\n",
    "    plt.subplot(223)\n",
    "    YY, ZZ = np.meshgrid(new1-7.31208644e-07/2, new2-7.31208644e-07/2)\n",
    "    pairdf = pair_df[pair_df.shape[0] / 2,:,:]\n",
    "\n",
    "    if autorange == True: plt.pcolor(YY.T * 1e6, ZZ.T * 1e6, pairdf,vmin=0,vmax=yz_vmax)\n",
    "    else: plt.pcolor(YY.T * 1e6, ZZ.T * 1e6, pairdf)\n",
    "    plt.colorbar()\n",
    "    x_mum = 1e6 *( edges[0][1] -edges[0][0] )    \n",
    "\n",
    "    plt.axis([-16,16,-16,16])\n",
    "#     plt.axis([-26,26,-26,26])\n",
    "    plt.xlabel('$\\Delta{y}$ $(\\mu{m})$', fontsize=15,labelpad=-5);\n",
    "    plt.ylabel('$\\Delta{z}$ $(\\mu{m})$', fontsize=15,labelpad=-10);\n",
    "    plt.title('PDF at $x={:.2f} \\mu{{m}}$ for phi='.format(x_mum)+str(phi)+\" yd=\"+str(shearrate).format(x_mum), fontsize=15);\n",
    "    \n",
    "    plt.subplot(224)\n",
    "\n",
    "    min_N1 = N1_range[0]\n",
    "    max_N1 = N1_range[1]\n",
    "    \n",
    "    path = \"rhor1_phi\"+str(phi)+\"_yd\"+str(float(shearrate))\n",
    "    n1data = pd.read_csv(path+\"/result/part_stress_norm_tot_t.dat\")\n",
    "    s11 = np.asarray(n1data[n1data.columns[2]])\n",
    "    s22 = np.asarray(n1data[n1data.columns[3]])\n",
    "    s33 = np.asarray(n1data[n1data.columns[4]])\n",
    "    t   = np.asarray(n1data[n1data.columns[1]])\n",
    "    shear = t*shearrate\n",
    "    N1 = s11 - s33\n",
    "    N2 = s33 - s22\n",
    "    plt.plot(shear,N1)\n",
    "    if not invert_range:\n",
    "        idx_list_valid = np.where((N1 < max_N1) & (N1 > min_N1) )[0]\n",
    "        idx_list_invalid = np.where((N1 > max_N1) | (N1 < min_N1) )[0]\n",
    "    else:\n",
    "        idx_list_valid = np.where((N1 > max_N1) | (N1 < min_N1) )[0]\n",
    "        idx_list_invalid = np.where((N1 < max_N1) & (N1 > min_N1) )[0]\n",
    "        \n",
    "    print len(N1)\n",
    "    print len(s11)\n",
    "    plt.ion()\n",
    "    plt.plot(shear[idx_list_valid],N1[idx_list_valid],'r.', label = \"data points used \")\n",
    "    plt.plot(shear[idx_list_invalid],N1[idx_list_invalid],'b.', label = \"data points not used \")\n",
    "    plt.legend(loc = 'best', prop={'size':8} )\n",
    "    plt.ylabel(\"N1(Pa)\",labelpad=-10)\n",
    "    plt.xlabel(\"strain\",labelpad=-5)\n",
    "    \n",
    "    if save_fig:\n",
    "        plt.savefig(\"pdf_phi_\"+str(phi)+\"_shearrate_\"+str(shearrate).replace(\".\",\"_\")+\"_N1_range\"+str(min_N1).replace(\".\",\"_\")+\"to\"+str(max_N1).replace(\".\",\"_\"))\n",
    "        \n",
    "\n",
    "\n",
    "\n",
    "pdf_average_N1 = interactive(plot_pdf_timerange, \\\n",
    "                phi = widgets.ToggleButtons(options=[40,45,50,54,55,56,58],value=56,disabled=False), \\\n",
    "                shearrate= widgets.ToggleButtons(options=[1,10,11,11.5,12,12.5,13,14,15,16,18,20,30,50,70,100,200,300,1000],\\\n",
    "                                                 value = 12),\\\n",
    "                xz_vmax = widgets.FloatSlider(min= 0, max= 15,value = 2.75, step = 0.25,orientation = \"vertical\",description = \"xz colorbax max\"),\\\n",
    "                xy_vmax = widgets.FloatSlider(min= 0, max= 15,value = 2.75, step = 0.25,orientation = \"vertical\",description = \"xy colorbax max\"),\\\n",
    "                yz_vmax = widgets.FloatSlider(min= 0, max= 15,value = 2.75, step = 0.25,orientation = \"vertical\",description = \"yz colorbax max\"),\\\n",
    "                analyze_ = widgets.ToggleButtons(options=[True,False],value = True,description= \"Analyze?\"),\\\n",
    "                save_fig = widgets.ToggleButtons(options=[True,False],value = False,description=\"Save figure?\"),\\\n",
    "                autorange = widgets.ToggleButtons(options=[True,False],value = True,description=\"Manual color range?\"),\\\n",
    "                invert_range = widgets.ToggleButtons(options=[True,False],value = False,description=\"Search inverse value range?\"),\\\n",
    "                N1_range = widgets.FloatRangeSlider(min= -1e5, max= 1e5,value = [-10000.00,-1.00],  description= \"N1 range\"),\\\n",
    "                bins = widgets.IntSlider(options = [11,101],value = 41, step = 2,orientation = \"vertical\"),__manual=True)\n",
    "#display(pdf_average )\n",
    "# for i,item in enumerate(pdf_average.children):\n",
    "#     print i, item.description \n",
    "display(widgets.VBox(pdf_average_N1.children[0:3]))\n",
    "display(widgets.HBox(pdf_average_N1.children[3:]))\n",
    "# display(widgets.HBox(pdf_average_N1.children[7:-1]))\n",
    "display(f)\n",
    "display(L)\n",
    "display(display_cache_status)\n",
    "# display(pdf_average_N1.children[-1])"
   ]
  },
  {
   "cell_type": "markdown",
   "metadata": {},
   "source": [
    "## Velocity autocorrelations"
   ]
  },
  {
   "cell_type": "code",
   "execution_count": 16,
   "metadata": {
    "collapsed": false
   },
   "outputs": [
    {
     "name": "stderr",
     "output_type": "stream",
     "text": [
      "Widget Javascript not detected.  It may not be installed properly. Did you enable the widgetsnbextension? If not, then run \"jupyter nbextension enable --py --sys-prefix widgetsnbextension\"\n",
      "Widget Javascript not detected.  It may not be installed properly. Did you enable the widgetsnbextension? If not, then run \"jupyter nbextension enable --py --sys-prefix widgetsnbextension\"\n",
      "Widget Javascript not detected.  It may not be installed properly. Did you enable the widgetsnbextension? If not, then run \"jupyter nbextension enable --py --sys-prefix widgetsnbextension\"\n"
     ]
    }
   ],
   "source": [
    "import matplotlib.cm as cmx\n",
    "from mpl_toolkits.mplot3d import Axes3D\n",
    "# def scatter3d(x,y,z, cs, colorsMap='jet'):\n",
    "#     cm = plt.get_cmap(colorsMap)\n",
    "#     cNorm = mpl.colors.Normalize(vmin=min(cs), vmax=max(cs))\n",
    "#     scalarMap = cmx.ScalarMappable(norm=cNorm, cmap=cm)\n",
    "#     fig = plt.figure()\n",
    "#     ax = Axes3D(fig)\n",
    "#     ax.scatter(x, y, z, c=scalarMap.to_rgba(cs))\n",
    "#     scalarMap.set_array(cs)\n",
    "#     fig.colorbar(scalarMap)\n",
    "#     plt.show()\n",
    "from scipy.interpolate import griddata\n",
    "def intp(x,y,z,bins):\n",
    "    H, xedges, yedges = np.histogram2d(x, y,bins=bins, weights=z)\n",
    "    H = H.T  # Let each row list bins with common y range.\n",
    "#     fig = plt.figure()\n",
    "#     ax = fig.add_subplot(131, title='imshow: square bins')\n",
    "    plt.imshow(H, interpolation='nearest', origin='low', extent = (min(x), max(x), min(y), max(y)))\n",
    "#     plt.xlim([40,60])\n",
    "#     plt.ylim([40,60])\n",
    "    \n",
    "f = FloatProgress(min=0, max=100)\n",
    "L = widgets.Label(\"\")\n",
    "def _plot_vaf(phi,shearrate,timerange,bins):\n",
    "    #cachefilename = \"./cache/\" + \"phi_\"+str(phi)+\"_shearrate_\"+str(float(shearrate)).replace(\".\",\"_\")+\".h5\"\n",
    "    #pdfcache = cache(cachefile=cachefilename)\n",
    "    path = \"rhor1_phi\"+str(phi)+\"_yd\"+str(float(shearrate))\n",
    "    dataset = sp.reader.DataSet(path,particles=True, fluid=True)\n",
    "    dataset.load_state(dataset.tlist[1])\n",
    "    positions = dataset.particles.r\n",
    "    velocities = dataset.particles.newton_velocity\n",
    "#     print positions\n",
    "#     print velocities\n",
    "    vaf_pos = []\n",
    "    vaf_val = []\n",
    "#     timerange = np.asarray(timerange)\n",
    "    timerange = list(timerange)\n",
    "    print timerange\n",
    "    tlist = dataset.tlist[timerange[0]:timerange[1]]\n",
    "        \n",
    "    for idx,t in enumerate(tlist):\n",
    "        dataset.load_state(t)\n",
    "        f.value = float(idx)/len(tlist)*100.0\n",
    "        L.value = str(float(idx)/len(tlist)*100.0)\n",
    "        for i,vi in enumerate(velocities):\n",
    "            for j,vj in enumerate(velocities):\n",
    "                if j!=i:\n",
    "                    if np.linalg.norm(positions[j] - positions[i]) < 30e-6:\n",
    "                        vaf_val.append(np.multiply(vi,vj))\n",
    "                        vaf_pos.append(positions[j] - positions[i])\n",
    "    vaf_pos = np.asanyarray(vaf_pos)\n",
    "    vaf_val = np.asanyarray(vaf_val)\n",
    "#     print vaf_pos.shape\n",
    "#     print vaf_val.shape\n",
    "    x = [i[0]*1e6 for i in vaf_pos]\n",
    "    y = [i[1]*1e6 for i in vaf_pos]\n",
    "    z = [i[2]*1e6 for i in vaf_pos]\n",
    "    val_norm = [np.linalg.norm(i) for i in vaf_val]\n",
    "    val_x = [i[0] for i in vaf_val]\n",
    "    val_y = [i[1] for i in vaf_val]\n",
    "    val_z = [i[2] for i in vaf_val]\n",
    "    #scatter3d(x,y,z,val)\n",
    "    plt.figure(figsize=[15,5])\n",
    "    plt.subplot(1,3,1)\n",
    "    intp(x,y,val_norm,bins)\n",
    "#     plt.scatter(x,y, c = val_z ,alpha=0.03)\n",
    "    plt.subplot(1,3,2)\n",
    "    intp(x,z,val_norm,bins)\n",
    "#     plt.scatter(x,z, c = val_y,alpha=0.03)\n",
    "    plt.subplot(1,3,3)\n",
    "    intp(y,z,val_norm,bins)\n",
    "#     plt.scatter(y,z, c = val_x,alpha=0.03)\n",
    "    plt.show()\n",
    "vaf_average = interactive(_plot_vaf, \\\n",
    "    phi = widgets.ToggleButtons(options=[40,45,50,54,55,56,58],value=56,disabled=False), \\\n",
    "    shearrate= widgets.ToggleButtons(options=[1,10,11,11.5,12,12.5,13,14,15,16,18,20,30,50,70,100,200,300,1000],\\\n",
    "                                 value = 12),\\\n",
    "    timerange = widgets.IntRangeSlider(value = [1,3], min = 1, max = 1500,step = 1),\\\n",
    "    bins = widgets.IntSlider(min=1,max=300,value=100),\\\n",
    "    __manual = True)\n",
    "\n",
    "#display(pdf_average )\n",
    "# for i,item in enumerate(pdf_average.children):\n",
    "#     print i, item.description \n",
    "display(vaf_average)\n",
    "display(f)\n",
    "display(L)\n",
    "\n"
   ]
  },
  {
   "cell_type": "markdown",
   "metadata": {
    "collapsed": false
   },
   "source": [
    "# Susi cluster analysis"
   ]
  },
  {
   "cell_type": "code",
   "execution_count": 17,
   "metadata": {
    "collapsed": false
   },
   "outputs": [],
   "source": [
    "import matplotlib.cm as cmx\n",
    "from mpl_toolkits.mplot3d import Axes3D\n",
    "\n",
    "from mpl_toolkits.mplot3d import *\n",
    "import matplotlib.pyplot as plt\n",
    "import numpy as np\n",
    "from random import random, seed\n",
    "from matplotlib import cm\n",
    "\n",
    "\n",
    "def scatter3d(fig, x,y,z,cs):\n",
    "#     cm = plt.get_cmap(colorsMap)\n",
    "#     cNorm = mpl.colors.Normalize(vmin=min(cs), vmax=max(cs))\n",
    "#     scalarMap = cmx.ScalarMappable(norm=cNorm, cmap=cm)\n",
    "#     fig = plt.figure()\n",
    "#     ax = Axes3D(fig)\n",
    "#     ax.scatter(x, y, z, color = cs)\n",
    "#     scalarMap.set_array(cs)\n",
    "#     fig.colorbar(scalarMap)\n",
    "#     plt.show()\n",
    "    ax = fig.gca(projection='3d')               # to work in 3d\n",
    "    plt.hold(True)\n",
    "    ax.scatter( x,y,z,color = cs)\n",
    "\n",
    "f = widgets.FloatProgress(min=0,max=100)\n",
    "progress_stat = widgets.Label(value = \"\")\n",
    "\n",
    "\n",
    "def susi_cluster_analysis(phi,shearrate,gap):\n",
    "    #cachefilename = \"./cache/\" + \"phi_\"+str(phi)+\"_shearrate_\"+str(float(shearrate)).replace(\".\",\"_\")+\".h5\"\n",
    "    #pdfcache = cache(cachefile=cachefilename)\n",
    "    path = \"rhor1_phi\"+str(phi)+\"_yd\"+str(float(shearrate))\n",
    "    cachefilename = \"./cache/\" + \"phi_\"+str(phi)+\"_shearrate_\"+str(float(shearrate)).replace(\".\",\"_\")+\".h5\"\n",
    "    clustercache = cache(cachefile=cachefilename)\n",
    "    dataset = sp.reader.DataSet(path,particles=True, fluid=True,cachefile=cachefilename)\n",
    "#     timerange[1] = min(len(dataset.tlist)-2, timerange[1])\n",
    "    viscosity_file = pd.read_csv(path+\"/result/nu_t.dat\")\n",
    "    strain = np.asarray(viscosity_file[viscosity_file.columns[1]][1:])*shearrate\n",
    "    viscosity = np.asarray(viscosity_file[viscosity_file.columns[4]][1:])\n",
    "    single_particle_percent = []\n",
    "    print \"max timestep =\", len(dataset.tlist)-2\n",
    "    for i,time_idx in enumerate(range(1, len(dataset.tlist))):\n",
    "        f.value = float(i)/len((range(1, len(dataset.tlist))))*100\n",
    "        progress_stat.value = str(float(i)/len((range(1, len(dataset.tlist))))*100)\n",
    "        try:\n",
    "            if not clustercache.has_data(dataset.tlist[time_idx],\"single_particle_percent_gap_\"+str(gap)):\n",
    "                dataset.load_state(dataset.tlist[time_idx])\n",
    "#                 sim_chars = sp.susi.extract_sim_characteristics(dataset)\n",
    "#                 sim_chars = sp.susi.extract_sim_characteristics(dataset, **sim_chars)\n",
    "#                 positions = dataset.particles.r\n",
    "#                 clusters = sp.spatial.create_cluster(positions, **sim_chars)\n",
    "#                 sim_chars[\"gap\"] = gap\n",
    "#                 clusters = sp.spatial.create_cluster(positions, **sim_chars)\n",
    "#                 cluster_d = sp.spatial.cluster_size_distribution(positions,**sim_chars)\n",
    "#                 particle_cluster_ids = sp.spatial.particleId_to_clusterId(positions, clusters=clusters)\n",
    "            #     print clusters\n",
    "        #         print map(len,clusters)\n",
    "#                 spp = sp.spatial.single_particle_percentage(positions, cluster_distribution=cluster_d)\n",
    "                spp = dataset.get_quantity(\"single_particle_percentage\",update=True, gap=gap)\n",
    "                single_particle_percent.append(spp)\n",
    "                clustercache.save_data(dataset.tlist[time_idx],{\"single_particle_percent_gap_\"+str(gap):spp})\n",
    "            else:\n",
    "                single_particle_percent.append(clustercache.load_data(dataset.tlist[time_idx],\"single_particle_percent_gap_\"+str(gap)))\n",
    "        except:\n",
    "            continue\n",
    "    min_size = min(len(viscosity),len(single_particle_percent))\n",
    "    print \"correlation between viscosity and percent single particles: \", np.corrcoef(single_particle_percent[:min_size], viscosity[:min_size])[0, 1]\n",
    "    plt.figure()\n",
    "    plt.plot(strain[:min_size],single_particle_percent[:min_size],label = \"single particle percent\")\n",
    "    plt.plot(strain[:min_size],viscosity[:min_size], label = \"viscosity\")\n",
    "    plt.legend()\n",
    "    plt.yscale(\"log\")\n",
    "    plt.xlabel(\"strain\")\n",
    "    plt.ylabel(\"viscosity Pa.s / Percent single particles\")\n",
    "    plt.title(\"Viscosity & single particle percent for min_gap = \" + str(gap*1e6) + \"$\\mu$m\" )\n",
    "#         cluster_size_distribution = sp.spatial.cluster_size_distribution( positions,clusters=clusters, **sim_chars)\n",
    "#     fig = plt.figure()\n",
    "#     plt.hold(True)\n",
    "#     for i in range(len(clusters)):\n",
    "# #         print i\n",
    "#         x = positions[list(clusters[i])].T[0]\n",
    "#         y = positions[list(clusters[i])].T[1]\n",
    "#         z = positions[list(clusters[i])].T[2]\n",
    "# #         print x,y,z\n",
    "#         if len(clusters[i]) == 1:\n",
    "#             scatter3d(fig,[x],[y],[z], 'g')\n",
    "#         else:\n",
    "#             scatter3d(fig,x,y,z,'r')\n",
    "\n",
    "    \n",
    "    \n",
    "    #positions[list(clusters[-1])].T[0]\n",
    "    #plt.plot(positions[list(clusters[-1])].T[0], positions[list(clusters[-1])].T[2],'r.')\n",
    "    #print cluster_size_distribution\n",
    "    \n",
    "    \n",
    "susi_cluster_analysis_widget = interactive(susi_cluster_analysis, \\\n",
    "    phi = widgets.ToggleButtons(options=[40,45,50,54,55,56,58],value=56,disabled=False), \\\n",
    "    shearrate= widgets.ToggleButtons(options=[1,10,11,11.5,12,12.5,13,14,15,16,18,20,30,50,70,100,200,300,1000],\\\n",
    "                                 value = 12),\\\n",
    "    timerange = widgets.IntRangeSlider(value = [100,800],min = 1, max =1000 ),\\\n",
    "    gap = widgets.FloatText(value=9e-8),\\\n",
    "    __manual = True)\n",
    "\n",
    "#display(pdf_average )\n",
    "# for i,item in enumerate(pdf_average.children):\n",
    "#     print i, item.description \n",
    "# display(susi_cluster_analysis_widget)\n",
    "# display(f)\n",
    "# display(progress_stat)"
   ]
  },
  {
   "cell_type": "code",
   "execution_count": 18,
   "metadata": {
    "collapsed": false
   },
   "outputs": [],
   "source": [
    "\n",
    "# dataset = reader.DataSet(\"rhor1_phi56_yd12.0/\", particles=True, fluid=True)\n",
    "# dataset.load_state(dataset.tlist[500])\n",
    "\n",
    "# cluster_size_distribution = dataset.get_quantity(\"cluster_size_distribution\",update=True, gap=2.5e-8)\n",
    "# particle_cluster_ids = dataset.get_quantity(\"particle_cluster_ids\",gap= 2e-8)\n",
    "# clusters = dataset.get_quantity(\"clusters\",gap= 2e-8)\n",
    "\n",
    "# print \"clusters\\n\" ,clusters\n",
    "# print \"cluster_size_distribution\\n\", cluster_size_distribution\n",
    "# print \"particle_cluster_ids\\n\",particle_cluster_ids, len(particle_cluster_ids)\n",
    "\n",
    "# fig = plt.figure()\n",
    "# ax = fig.add_subplot(111, projection='3d')\n",
    "# clrs = np.random.random((len(exp['clusters']), 3))\n",
    "# c = clrs[exp['particle_cluster_ids'], :]\n",
    "# pos = exp['positions'] * 1e6\n",
    "# x, y, z = pos[:, 0], pos[:, 1], pos[:, 2]\n",
    "# ax.scatter(x, y, z, c=c)\n",
    "\n",
    "# plt.title (\"Particles colored by cluster\",fontsize=20);\n",
    "# ax.set_xlabel('X ($\\mu m$)',fontsize=15);\n",
    "# ax.set_ylabel('Y ($\\mu m$)',fontsize=15);\n",
    "# ax.set_zlabel('Z ($\\mu m$)',fontsize=15);\n",
    "\n",
    "# ax.set_xlim(-(((exp.L[2]*1000000)/2)-((exp.L[0]*1000000)/2)),(((exp.L[2]*1000000)/2)+((exp.L[0]*1000000)/2)));\n",
    "# ax.set_ylim(-(((exp.L[2]*1000000)/2)-((exp.L[1]*1000000)/2)),(((exp.L[2]*1000000)/2)+((exp.L[1]*1000000)/2)));\n",
    "# ax.set_zlim(0, exp.L[2]*1000000);\n",
    "\n",
    "# print ('Cluster Analysis Gap: ', exp['gap'])\n",
    "# print ('Cluster Size Distribution: ', exp['cluster_size_distribution'])\n",
    "# print ('Mean Cluster Size: ', exp['mean_cluster_size'])\n",
    "# import plotly.plotly"
   ]
  },
  {
   "cell_type": "code",
   "execution_count": 19,
   "metadata": {
    "collapsed": false,
    "scrolled": false
   },
   "outputs": [
    {
     "data": {
      "text/html": [
       "<script>requirejs.config({paths: { 'plotly': ['https://cdn.plot.ly/plotly-latest.min']},});if(!window.Plotly) {{require(['plotly'],function(plotly) {window.Plotly=plotly;});}}</script>"
      ],
      "text/plain": [
       "<IPython.core.display.HTML object>"
      ]
     },
     "metadata": {},
     "output_type": "display_data"
    }
   ],
   "source": [
    "from plotly.offline import download_plotlyjs, init_notebook_mode, iplot\n",
    "from plotly.graph_objs import *\n",
    "import warnings\n",
    "init_notebook_mode(connected=True)\n",
    "\n",
    "# import plotly.plotly as py\n",
    "# import plotly.graph_objs as go\n",
    "\n",
    "def cluster_size_distribution_plotly(phi,shearrate,time,min_viscosity_state,max_viscosity_state, gap,minsize):\n",
    "    path = \"rhor1_phi\"+str(phi)+\"_yd\"+str(float(shearrate))\n",
    "    dataset = sp.reader.DataSet(path,particles=True, fluid=True)\n",
    "    viscosity_file = pd.read_csv(path+\"/result/nu_t.dat\")\n",
    "    viscosity = np.asarray(viscosity_file[viscosity_file.columns[4]][1:])\n",
    "    min_visc_time= np.where(viscosity == min(viscosity[50:]))[0][0] \n",
    "    max_visc_time = np.where(viscosity == max(viscosity[50:]))[0][0] \n",
    "    if min_viscosity_state: \n",
    "        time = min_visc_time\n",
    "    if max_viscosity_state:\n",
    "        time = max_visc_time\n",
    "    print \"time =\",time\n",
    "    dataset.load_state(dataset.tlist[time])\n",
    "#     gap = 4e-8\n",
    "    clusters = dataset.get_quantity(\"clusters\", gap = gap)\n",
    "    s,ns = dataset.get_quantity(\"cluster_size_distribution\",update=True, gap=gap)\n",
    "    pos = dataset['positions'] * 1e6\n",
    "    print len(dataset.tlist), \"steps available\"\n",
    "    data = []\n",
    "    for i in range(len(s)):\n",
    "        if ns[i] != 0:\n",
    "            print \"size=\",s[i],  \"clusters=\",ns[i]\n",
    "    if ns[-1] == dataset.npart: \n",
    "        print \"all individual particles\"\n",
    "    else:\n",
    "        import random\n",
    "        r = lambda: str(random.randint(0,255))\n",
    "    #     plt.figure()\n",
    "        col = []\n",
    "        for i in range(dataset.npart):\n",
    "            col.append(\"rgb(\" + r()+\",\"+r()+\",\"+r()+\")\")\n",
    "\n",
    "        for cluster in clusters:\n",
    "            if len(cluster) >= minsize:\n",
    "                x, y, z = pos[cluster, 0], pos[cluster, 1], pos[cluster, 2]\n",
    "                trace = Scatter3d(\n",
    "                    x=x, y=y, z=z,\n",
    "                    marker=dict(\n",
    "                        size=10,\n",
    "                        color=col[len(cluster)],\n",
    "                        colorscale='Viridis',\n",
    "                    ),\n",
    "                    line=dict(\n",
    "                        color=col[len(cluster)],\n",
    "                        width=0\n",
    "                    ),\n",
    "                    name = \"cluster size = \"+str(len(cluster))\n",
    "                )\n",
    "                data.append(trace)\n",
    "        # data = [trace]\n",
    "        try:\n",
    "            layout = dict(\n",
    "                width=800,\n",
    "                height=700,\n",
    "                autosize=True,\n",
    "            #     title='Iris dataset',\n",
    "                scene=dict(\n",
    "                    xaxis=dict(\n",
    "                        gridcolor='rgb(255, 255, 255)',\n",
    "                        zerolinecolor='rgb(255, 255, 255)',\n",
    "                        showbackground=True,\n",
    "                        backgroundcolor='rgb(230, 230,230)'\n",
    "                    ),\n",
    "                    yaxis=dict(\n",
    "                        gridcolor='rgb(255, 255, 255)',\n",
    "                        zerolinecolor='rgb(255, 255, 255)',\n",
    "                        showbackground=True,\n",
    "                        backgroundcolor='rgb(230, 230,230)'\n",
    "                    ),\n",
    "                    zaxis=dict(\n",
    "                        gridcolor='rgb(255, 255, 255)',\n",
    "                        zerolinecolor='rgb(255, 255, 255)',\n",
    "                        showbackground=True,\n",
    "                        backgroundcolor='rgb(230, 230,230)'\n",
    "                    ),\n",
    "                    camera=dict(\n",
    "                        up=dict(\n",
    "                            x=0,\n",
    "                            y=0,\n",
    "                            z=1\n",
    "                        ),\n",
    "                        eye=dict(\n",
    "                            x=-1.7428,\n",
    "                            y=1.0707,\n",
    "                            z=0.7100,\n",
    "                        )\n",
    "                    ),\n",
    "        #             aspectratio = dict( x=1, y=1, z=0.7 ),\n",
    "                    aspectmode = 'manual'\n",
    "                ),\n",
    "            )\n",
    "\n",
    "            fig = dict(data=data)\n",
    "\n",
    "            iplot(fig)\n",
    "        except Exception as e:\n",
    "            \n",
    "            print e\n",
    "\n",
    "widget_cluster_size_distribution_plotly = interactive(cluster_size_distribution_plotly, \\\n",
    "    phi = widgets.ToggleButtons(options=[40,45,50,54,55,56,58],value=56,disabled=False), \\\n",
    "    shearrate= widgets.ToggleButtons(options=[1,10,11,11.5,12,12.5,13,14,15,16,18,20,30,50,70,100,200,300,1000],\\\n",
    "                                 value = 12),\\\n",
    "    time = widgets.IntText(value = 100 ,min = 1, max =1000 ),\\\n",
    "    gap = widgets.FloatText(value=9e-8),\\\n",
    "    minsize = widgets.IntText(value = 3),\\\n",
    "    max_viscosity_state = widgets.ToggleButton(value= False),\\\n",
    "    min_viscosity_state = widgets.ToggleButton(value= False),\\\n",
    "    __manual = True)\n",
    "\n",
    "#display(pdf_average )\n",
    "# for i,item in enumerate(pdf_average.children):\n",
    "#     print i, item.description \n",
    "# display(widget_cluster_size_distribution_plotly)\n",
    "# display(widgets.HBox(cluster_size_distribution.children[4:]))"
   ]
  },
  {
   "cell_type": "code",
   "execution_count": 20,
   "metadata": {
    "collapsed": false
   },
   "outputs": [
    {
     "name": "stdout",
     "output_type": "stream",
     "text": [
      "1.12.9\n"
     ]
    }
   ],
   "source": [
    "# import plotly\n",
    "# import plotly.plotly as py\n",
    "# import plotly.graph_objs as go\n",
    "# plotly.tools.set_credentials_file(username='vishnusivadasan7', api_key='ZLBPHF6HXSroNtji8tec')\n",
    "# py.iplot([Scatter(x=[1,2,3], y=[5,8,9])])\n",
    "\n",
    "from plotly import __version__\n",
    "from plotly.offline import download_plotlyjs, init_notebook_mode, plot, iplot\n",
    "from plotly.graph_objs import Scatter, Figure, Layout\n",
    "\n",
    "from plotly.graph_objs import *\n",
    "import pandas as pd\n",
    "\n",
    "print plotly.__version__"
   ]
  },
  {
   "cell_type": "code",
   "execution_count": 21,
   "metadata": {
    "collapsed": false,
    "scrolled": false
   },
   "outputs": [],
   "source": [
    "def cluster_size_distribution_matplotlib(phi,shearrate,time,min_viscosity_state,max_viscosity_state, gap,minsize, connect):\n",
    "    path = \"rhor1_phi\"+str(phi)+\"_yd\"+str(float(shearrate))\n",
    "    dataset = sp.reader.DataSet(path,particles=True, fluid=True)\n",
    "    print len(dataset.tlist), \"steps available\"\n",
    "    viscosity_file = pd.read_csv(path+\"/result/nu_t.dat\")\n",
    "    viscosity = np.asarray(viscosity_file[viscosity_file.columns[4]][1:])\n",
    "    min_visc_time= np.where(viscosity == min(viscosity[50:]))[0][0] \n",
    "    max_visc_time = np.where(viscosity == max(viscosity[50:]))[0][0] \n",
    "    if min_viscosity_state: \n",
    "        time = min_visc_time\n",
    "        print \"viscosity = \",viscosity[min_visc_time]\n",
    "    if max_viscosity_state:\n",
    "        time = max_visc_time\n",
    "        print \"viscosity = \", viscosity[max_visc_time]\n",
    "    print \"time =\",time\n",
    "    print dataset.npart, \"particles used\"\n",
    "    dataset.load_state(dataset.tlist[time])\n",
    "#     gap = 4e-8\n",
    "    clusters = dataset.get_quantity(\"clusters\", gap = gap)\n",
    "    s,ns = dataset.get_quantity(\"cluster_size_distribution\",update=True, gap=gap)\n",
    "    pos = dataset['positions'] * 1e6\n",
    "    data = []\n",
    "    \n",
    "    for i in range(len(s)):\n",
    "        if ns[i] != 0:\n",
    "            print \"size=\",s[i],  \"clusters=\",ns[i]\n",
    "    print (1-ns[0]/float(dataset.npart))*100, \"% particles in cluster\"\n",
    "    if ns[-1] == dataset.npart: \n",
    "        print \"all individual particles\"\n",
    "    else:\n",
    "        fig = plt.figure(figsize=[10,10])\n",
    "        ax = fig.add_subplot(111, projection='3d')\n",
    "        import random\n",
    "        import matplotlib.cm as cm\n",
    "#          r = lambda: random.randint(0,255)\n",
    "    #     plt.figure()\n",
    "#         col = []\n",
    "#         for i in range(dataset.npart*2):\n",
    "#         color = cm.rainbow(np.linspace(0, 1, dataset.npart))\n",
    "        color = [np.random.rand(1,3) for i in range(dataset.npart)]\n",
    "#         color = random.shuffle(color)\n",
    "        for cluster in clusters:\n",
    "            if len(cluster) >= minsize:\n",
    "                x, y, z = pos[cluster, 0], pos[cluster, 1], pos[cluster, 2]\n",
    "                col = color[len(cluster)][0]\n",
    "                print col\n",
    "                ax.scatter(x, y, z, s = 400, c=col,depthshade=True)\n",
    "#                 ax.scatter(x, y, z, s = 400, c=[str(len(cluster)) for i in  x] ,depthshade=True)\n",
    "                if connect: ax.plot3D(x, y, z)\n",
    "                plt.xlabel('x axis $\\mu m $')\n",
    "                plt.ylabel('y axis $\\mu m $')\n",
    "                ax.set_zlabel('z axis $\\mu m $')\n",
    "                ax.view_init(azim=-90, elev=0)\n",
    "widget_cluster_size_distribution_matplotlib = interactive(cluster_size_distribution_matplotlib, \\\n",
    "    phi = widgets.ToggleButtons(options=[40,45,50,54,55,56,58],value=56,disabled=False), \\\n",
    "    shearrate= widgets.ToggleButtons(options=[1,10,11,11.5,12,12.5,13,14,15,16,18,20,30,50,70,100,200,300,1000],\\\n",
    "                                 value = 12),\\\n",
    "    time = widgets.IntText(value = 100 ,min = 1, max =1000 ),\\\n",
    "    gap = widgets.FloatText(value=9e-8),\\\n",
    "    minsize = widgets.IntText(value = 3),\\\n",
    "    max_viscosity_state = widgets.ToggleButton(value= False),\\\n",
    "    min_viscosity_state = widgets.ToggleButton(value= False),\\\n",
    "    connect = widgets.Checkbox(value= False, description = \"connect points?\"),\\\n",
    "    __manual = True)\n",
    "\n",
    "#display(pdf_average )\n",
    "# for i,item in enumerate(pdf_average.children):\n",
    "#     print i, item.description \n",
    "# display(widget_cluster_size_distribution_matplotlib)\n",
    "# display(widgets.HBox(cluster_size_distribution.children[4:]))"
   ]
  },
  {
   "cell_type": "code",
   "execution_count": 22,
   "metadata": {
    "collapsed": false,
    "scrolled": false
   },
   "outputs": [],
   "source": [
    "\n",
    "# def cluster_size_distribution(phi,shearrate,time, gap, single_particles_visibility, clusters_visibility):\n",
    "#     #cachefilename = \"./cache/\" + \"phi_\"+str(phi)+\"_shearrate_\"+str(float(shearrate)).replace(\".\",\"_\")+\".h5\"\n",
    "#     #pdfcache = cache(cachefile=cachefilename)\n",
    "#     path = \"rhor1_phi\"+str(phi)+\"_yd\"+str(float(shearrate))\n",
    "#     dataset = sp.reader.DataSet(path,particles=True, fluid=True)\n",
    "# #     timerange[1] = min(len(dataset.tlist)-2, timerange[1])\n",
    "#     dataset.load_state(dataset.tlist[time])\n",
    "#     s,ns = dataset.get_quantity(\"cluster_size_distribution\",update=True, gap=gap)\n",
    "# #     plt.subplot(122)\n",
    "\n",
    "#     fig = plt.figure(figsize=[12,6])\n",
    "#     ax = fig.add_subplot(121, projection='3d')\n",
    "#     clusters = dataset.get_quantity(\"clusters\",gap= gap)\n",
    "#     cluster_ids = dataset.get_quantity(\"particle_cluster_ids\",gap= gap)\n",
    "#     cluster_dbn = dataset.get_quantity(\"cluster_size_distribution\",update=False, gap=gap)\n",
    "#     clusters_meansize = dataset.get_quantity(\"mean_cluster_size\",update=True, gap=gap)\n",
    "    \n",
    "#     clrs = np.random.random((len(clusters), 3))\n",
    "#     c = clrs[cluster_ids, :]\n",
    "#     pos = dataset['positions'] * 1e6\n",
    "#     for cluster in clusters:\n",
    "#         if len(cluster) > 1 and clusters_visibility:\n",
    "#             x, y, z = pos[cluster, 0], pos[cluster, 1], pos[cluster, 2]\n",
    "#             col =np.random.random((1, 3))\n",
    "#             ax.scatter(x, y, z, c=col,depthshade=True)\n",
    "#             ax.plot3D(x, y, z)\n",
    "#         elif len(cluster) == 1 and single_particles_visibility:\n",
    "#             x, y, z = pos[cluster, 0], pos[cluster, 1], pos[cluster, 2]\n",
    "#             ax.scatter(x, y, z, c='k',depthshade=True)\n",
    "# #             ax.plot(x,y,z, '-b')\n",
    "#         else:\n",
    "#             continue\n",
    "# #     ax.plot(x, y, z)\n",
    "    \n",
    "#     plt.title (\"Particles colored by cluster\",fontsize=20);\n",
    "#     ax.set_xlabel('X ($\\mu m$)',fontsize=15);\n",
    "#     ax.set_ylabel('Y ($\\mu m$)',fontsize=15);\n",
    "#     ax.set_zlabel('Z ($\\mu m$)',fontsize=15);\n",
    "\n",
    "#     ax.set_xlim(-(((exp.L[2]*1000000)/2)-((exp.L[0]*1000000)/2)),(((exp.L[2]*1000000)/2)+((exp.L[0]*1000000)/2)));\n",
    "#     ax.set_ylim(-(((exp.L[2]*1000000)/2)-((exp.L[1]*1000000)/2)),(((exp.L[2]*1000000)/2)+((exp.L[1]*1000000)/2)));\n",
    "#     ax.set_zlim(0, exp.L[2]*1000000);\n",
    "    \n",
    "#     for i in range(len(s)):\n",
    "#         if ns[i] != 0:\n",
    "#             print \"size=\",s[i],  \"clusters=\",ns[i]\n",
    "#     print ('Cluster Analysis Gap: ', exp['gap'])\n",
    "# #     print ('Cluster Size Distribution: ', cluster_dbn)\n",
    "#     print ('Mean Cluster Size: ', clusters_meansize)\n",
    "    \n",
    "# #     plt.figure()\n",
    "#     ax = fig.add_subplot(122)\n",
    "#     plt.plot(s, ns, 'o-');\n",
    "#     plt.xlabel('size $s$ of cluster', fontsize=15);\n",
    "#     plt.ylabel('Frequency $n(s)$', fontsize=15);\n",
    "#     plt.title('Cluster size distribution', fontsize=15);\n",
    "\n",
    "    \n",
    "# cluster_size_distribution_widget = interactive(cluster_size_distribution, \\\n",
    "#     phi = widgets.ToggleButtons(options=[40,45,50,54,55,56,58],value=56,disabled=False), \\\n",
    "#     shearrate= widgets.ToggleButtons(options=[1,10,11,11.5,12,12.5,13,14,15,16,18,20,30,50,70,100,200,300,1000],\\\n",
    "#                                  value = 12),\\\n",
    "#     time = widgets.IntText(value = 100 ,min = 1, max =1000 ),\\\n",
    "#     gap = widgets.FloatText(value=6.8e-8),\\\n",
    "#     single_particles_visibility = widgets.ToggleButton(value= True),\\\n",
    "#     clusters_visibility = widgets.ToggleButton(value=True),\\\n",
    "#     __manual = True)\n",
    "\n",
    "# #display(pdf_average )\n",
    "# # for i,item in enumerate(pdf_average.children):\n",
    "# #     print i, item.description \n",
    "# map(display, cluster_size_distribution_widget.children[:4])\n",
    "# display(widgets.HBox(cluster_size_distribution_widget.children[4:]))"
   ]
  },
  {
   "cell_type": "code",
   "execution_count": 23,
   "metadata": {
    "collapsed": false,
    "scrolled": false
   },
   "outputs": [],
   "source": [
    "def cluster_size_distribution_pathinput_matplotlib(path,time,min_viscosity_state,max_viscosity_state, gap,minsize, connect,show_viscosity_timeseries):\n",
    "    path = path\n",
    "    dataset = sp.reader.DataSet(path,particles=True, fluid=True)\n",
    "    print len(dataset.tlist), \"steps available\"\n",
    "    print dataset.npart, \"particles used\"\n",
    "    viscosity_file = pd.read_csv(path+\"/result/nu_t.dat\")\n",
    "    viscosity = np.asarray(viscosity_file[viscosity_file.columns[4]][1:])\n",
    "    min_visc_time= np.where(viscosity == min(viscosity[50:]))[0][0] \n",
    "    max_visc_time = np.where(viscosity == max(viscosity[50:]))[0][0] \n",
    "    if min_viscosity_state: \n",
    "        time = min_visc_time\n",
    "        print \"viscosity = \",viscosity[min_visc_time]\n",
    "    if max_viscosity_state:\n",
    "        time = max_visc_time\n",
    "        print \"viscosity = \", viscosity[max_visc_time]\n",
    "    print \"time =\",time\n",
    "    dataset.load_state(dataset.tlist[time])\n",
    "#     gap = 4e-8\n",
    "    clusters = dataset.get_quantity(\"clusters\", gap = gap)\n",
    "    s,ns = dataset.get_quantity(\"cluster_size_distribution\",update=True, gap=gap)\n",
    "    pos = dataset['positions'] * 1e6\n",
    "    data = []\n",
    "    \n",
    "    for i in range(len(s)):\n",
    "        if ns[i] != 0:\n",
    "            print \"size=\",s[i],  \"clusters=\",ns[i]\n",
    "    print (1-ns[0]/float(dataset.npart))*100, \"% particles in cluster\"\n",
    "    if show_viscosity_timeseries:\n",
    "        plt.figure(figsize=[10,5])\n",
    "        plt.plot(viscosity)\n",
    "        plt.plot(time,viscosity[time],'ro')\n",
    "    if ns[-1] == dataset.npart: \n",
    "        print \"all individual particles\"\n",
    "    else:\n",
    "        fig = plt.figure(figsize=[10,10])\n",
    "        ax = fig.add_subplot(111, projection='3d')\n",
    "        import random\n",
    "        import matplotlib.cm as cm\n",
    "#         r = lambda: random.randint(0,255)\n",
    "    #     plt.figure()\n",
    "#         col = []\n",
    "#         for i in range(dataset.npart*2):\n",
    "#         color = cm.rainbow(np.linspace(0, 1, dataset.npart))\n",
    "        color = [np.random.rand(1,3) for i in range(dataset.npart)]\n",
    "#         color = random.shuffle(color)\n",
    "        for cluster in clusters:\n",
    "            if len(cluster) >= minsize:\n",
    "                x, y, z = pos[cluster, 0], pos[cluster, 1], pos[cluster, 2]\n",
    "                col = color[len(cluster)][0]\n",
    "#                 print col\n",
    "                ax.scatter(x, y, z, s = 400, c=col,depthshade=True)\n",
    "#                 ax.scatter(x, y, z, s = 400, c=[str(len(cluster)) for i in  x] ,depthshade=True)\n",
    "                if connect: ax.plot3D(x, y, z)\n",
    "                plt.xlabel('x axis $\\mu m $')\n",
    "                plt.ylabel('y axis $\\mu m $')\n",
    "                ax.set_zlabel('z axis $\\mu m $')\n",
    "                ax.view_init(azim=-90, elev=0)\n",
    "widget_cluster_size_distribution_pathinput_matplotlib = interactive(cluster_size_distribution_pathinput_matplotlib, \\\n",
    "    path = widgets.Text(value=\"larger_system_size/rhor1_phi56_yd12.0\"),\\\n",
    "    time = widgets.IntText(value = 100 ,min = 1, max =1000 ),\\\n",
    "    gap = widgets.FloatText(value=9e-8),\\\n",
    "    minsize = widgets.IntText(value = 3),\\\n",
    "    max_viscosity_state = widgets.ToggleButton(value= False),\\\n",
    "    min_viscosity_state = widgets.ToggleButton(value= False),\\\n",
    "    connect = widgets.Checkbox(value= False, description = \"connect points?\"),\\\n",
    "    show_viscosity_timeseries = widgets.Checkbox(value= True, description = \"show viscosity timeseries?\"),\\\n",
    "    __manual = True)\n",
    "\n",
    "#display(pdf_average )\n",
    "# for i,item in enumerate(pdf_average.children):\n",
    "#     print i, item.description \n",
    "# display(widget_cluster_size_distribution_pathinput_matplotlib)\n",
    "# display(widgets.HBox(cluster_size_distribution.children[4:]))"
   ]
  },
  {
   "cell_type": "code",
   "execution_count": 24,
   "metadata": {
    "collapsed": false
   },
   "outputs": [
    {
     "name": "stderr",
     "output_type": "stream",
     "text": [
      "Widget Javascript not detected.  It may not be installed properly. Did you enable the widgetsnbextension? If not, then run \"jupyter nbextension enable --py --sys-prefix widgetsnbextension\"\n",
      "Widget Javascript not detected.  It may not be installed properly. Did you enable the widgetsnbextension? If not, then run \"jupyter nbextension enable --py --sys-prefix widgetsnbextension\"\n",
      "Widget Javascript not detected.  It may not be installed properly. Did you enable the widgetsnbextension? If not, then run \"jupyter nbextension enable --py --sys-prefix widgetsnbextension\"\n"
     ]
    }
   ],
   "source": [
    "Tabs = widgets.Tab()\n",
    "container_list = []\n",
    "tab_items_input = [\n",
    "                  [susi_cluster_analysis_widget,\"single particle percent and viscosity vs time \"], \n",
    "                  [widget_cluster_size_distribution_plotly,\"custers at a timestep using plotly\"],\n",
    "                  [widget_cluster_size_distribution_matplotlib,\"custers at a timestep using matplotlib\"],\n",
    "                  [widget_cluster_size_distribution_pathinput_matplotlib,\"manual path input for custers at a timestep using matplotlib\" ]\n",
    "                    ]\n",
    "tab_items =  [i[0] for i in tab_items_input]\n",
    "tab_name  =  [i[1] for i in tab_items_input]\n",
    "for i, item in enumerate(tab_items_input): \n",
    "    container_list.append(widgets.Box())\n",
    "    container_list[i].children = item[0].children\n",
    "Tabs.children = tab_items\n",
    "for i,name in enumerate(tab_name):\n",
    "    Tabs.set_title(i,name)\n",
    "        \n",
    "display(Tabs)\n",
    "display(f)\n",
    "display(progress_stat)"
   ]
  },
  {
   "cell_type": "markdown",
   "metadata": {},
   "source": [
    "# Min Gap Calculations"
   ]
  },
  {
   "cell_type": "code",
   "execution_count": 25,
   "metadata": {
    "collapsed": false
   },
   "outputs": [
    {
     "name": "stdout",
     "output_type": "stream",
     "text": [
      "2.00000049022e-10 9.56267456267e-08\n"
     ]
    }
   ],
   "source": [
    "\n",
    "def f(gap):\n",
    "    gap = gap/1e-6\n",
    "    dmax = 1e-7\n",
    "    c0 = 1e-4\n",
    "    dm = 1e-15\n",
    "    dx = 1e-6\n",
    "    dt = 1.6633e-7\n",
    "    drep = dmax/dx\n",
    "    crep = c0/dm*dt**2/drep**2\n",
    "    force_lu =  crep/drep**2*(gap-drep)**2/gap\n",
    "    force = force_lu*dm*dx/dt**2\n",
    "    return force\n",
    "for x in np.linspace(1e-7,9e-8,1000000):\n",
    "    if f(x) > 2e-10:\n",
    "        print f(x), x\n",
    "        break"
   ]
  },
  {
   "cell_type": "markdown",
   "metadata": {
    "collapsed": false,
    "scrolled": false
   },
   "source": [
    "dataset = reader.DataSet(\"rhor1_phi54_yd10.0/\", particles=True, fluid=True)\n",
    "gap_data_list = []\n",
    "\n",
    "prog = widgets.FloatProgress()\n",
    "display(prog)\n",
    "\n",
    "for j,t in enumerate(dataset.tlist[1:10]):\n",
    "    prog.value = float(j)/len(dataset.tlist[1:])*100\n",
    "    try:\n",
    "        dataset.load_state(t)\n",
    "        dist = dataset.get_quantity(\"particle_particle_pair_distances\",update=False)\n",
    "        i = np.where(dist[1] == min(dist[1]))[0][0]\n",
    "        #i = np.where(dist[1] < 9e-8)[0][0]\n",
    "        #print i\n",
    "        idx_r1 = dist[2][i][0]\n",
    "        idx_r2 = dist[2][i][1]\n",
    "        r1 = dataset.particles.radius[idx_r1]\n",
    "        r2 = dataset.particles.radius[idx_r2]\n",
    "        rij = dist[1][i]\n",
    "        mingap = rij - r1 -r2\n",
    "        force_fric_1 = np.linalg.norm(dataset.particles.force_fric[idx_r1])\n",
    "        force_fric_2 = np.linalg.norm(dataset.particles.force_fric[idx_r2])\n",
    "        shear_fric_1 = np.linalg.norm(dataset.particles.sshear_fric[idx_r1])\n",
    "        shear_fric_2 = np.linalg.norm(dataset.particles.sshear_fric[idx_r2])\n",
    "        loc_part1 = dataset.particles.r[idx_r1]\n",
    "        loc_part2 = dataset.particles.r[idx_r2]\n",
    "        print j,t,idx_r1,idx_r2,loc_part1, loc_part2, mingap, force_fric_1, force_fric_2,shear_fric_1, shear_fric_2\n",
    "                \n",
    "        gap_data_list.append([loc_part1, loc_part2, mingap, force_fric_1, force_fric_2,shear_fric_1, shear_fric_2,idx_r1,idx_r2,t,j])\n",
    "    except Exception as e:\n",
    "        print e\n",
    "        continue"
   ]
  },
  {
   "cell_type": "markdown",
   "metadata": {},
   "source": [
    "dataset = reader.DataSet(\"rhor1_phi54_yd10.0/\", particles=True, fluid=True)\n",
    "dataset.load_state(dataset.tlist[-1])\n",
    "dataset[\"clusters\"]"
   ]
  },
  {
   "cell_type": "markdown",
   "metadata": {
    "collapsed": false,
    "scrolled": false
   },
   "source": [
    "gap_data_list_ = []\n",
    "len(gap_data_list_)\n",
    "for i in gap_data_list:\n",
    "    if sum(i[3:6]) == 0 :  \n",
    "        if i[2] < 9e-8:\n",
    "            gap_data_list_.append(i)\n",
    "\n",
    "plt.figure()\n",
    "x = range(len(gap_data_list_))\n",
    "t = [i[10] for i in gap_data_list_]\n",
    "timestep = [i[9] for i in gap_data_list_]\n",
    "x1 = [i[0][0] for i in gap_data_list_]\n",
    "x2 = [i[1][0] for i in gap_data_list_]\n",
    "z1 = [i[0][2] for i in gap_data_list_]\n",
    "z2 = [i[1][2] for i in gap_data_list_]\n",
    "B1 = [i[7] for i in gap_data_list_]\n",
    "B2 = [i[8] for i in gap_data_list_]\n",
    "print len(B1)\n",
    "print np.unique([B1])\n",
    "print np.unique([B2])\n",
    "cs1 = plt.scatter(x1,z1, c=B1,cmap=cm.jet,vmin=0.,vmax=dataset.npart)\n",
    "cs2 = plt.scatter(x2,z2, c=B2,cmap=cm.jet,vmin=0.,vmax=2.)\n",
    "plt.colorbar(cs1)\n",
    "plt.ylabel(\"z coord\")\n",
    "plt.ylim([0,6e-5])\n",
    "plt.xlim([0,10e-5])\n",
    "plt.ticklabel_format(style='sci', axis='y', scilimits=(0,0))\n",
    "plt.ticklabel_format(style='sci', axis='x', scilimits=(0,0))\n",
    "plt.xlabel(\"cases without friction with gap < 9e-8\")\n",
    "plt.xlabel(\"x coord\")\n",
    "plt.xlabel(\"timestep\")\n",
    "plt.show()"
   ]
  },
  {
   "cell_type": "code",
   "execution_count": null,
   "metadata": {
    "collapsed": false
   },
   "outputs": [],
   "source": []
  },
  {
   "cell_type": "markdown",
   "metadata": {},
   "source": [
    "Plotting the force vs friction using a manually created function,"
   ]
  },
  {
   "cell_type": "markdown",
   "metadata": {
    "collapsed": false
   },
   "source": [
    "def r(ri, rj, rad1, rad2):\n",
    "    return np.linalg.norm(ri - rj) - (rad1+rad2)\n",
    "dataset = reader.DataSet(\"rhor1_phi54_yd10.0/\", particles=True, fluid=True)\n",
    "\n",
    "particle_pairs = []\n",
    "gap_data_temp = []\n",
    "\n",
    "prog = widgets.FloatProgress()\n",
    "display(prog)\n",
    "for k,t in enumerate(dataset.tlist[1:]):\n",
    "    dataset.load_state(t)\n",
    "    prog.value = float(k)/len(dataset.tlist)*100\n",
    "    for i in range(dataset.npart):\n",
    "        for j in range(dataset.npart):\n",
    "            if j > 1:\n",
    "                particle_pairs.append([i,j])\n",
    "                ri = dataset.particles.r[i]\n",
    "                rj = dataset.particles.r[j]\n",
    "                rad1 = dataset.particles.radius[i]\n",
    "                rad2 = dataset.particles.radius[j]\n",
    "                F_fric = np.linalg.norm(dataset.particles.force_fric[i])\n",
    "                Shear_fric = np.linalg.norm(dataset.particles.sshear_fric[i])\n",
    "                gap_data_temp.append([t,i,j,ri,rj,r(ri, rj, rad1, rad2),F_fric, Shear_fric])"
   ]
  },
  {
   "cell_type": "markdown",
   "metadata": {
    "collapsed": false,
    "scrolled": false
   },
   "source": [
    "gap_data_1 = np.asarray([[i[0], i[1],i[2],i[5],i[6],i[7]] for i in gap_data_temp]  )\n",
    "gap_data_2 = np.asarray([[i[3][0],i[3][1],i[3][2],i[4][0],i[4][1],i[4][2]] for i in gap_data_temp])"
   ]
  },
  {
   "cell_type": "markdown",
   "metadata": {
    "collapsed": false
   },
   "source": [
    "neg_id = np.where(gap_data_1.T[3] < 0)[0]\n",
    "large_gap_id = np.where(gap_data_1.T[3] > 9e-8)[0]\n",
    "friction_id1 = np.where(gap_data_1.T[4] !=0)[0]\n",
    "friction_id2 = np.where(gap_data_1.T[5] !=0)[0]\n",
    "del_id = np.concatenate([neg_id,large_gap_id,friction_id1,friction_id2])\n",
    "del_id = np.unique(del_id)\n",
    "gap_data_1_corr = np.delete(gap_data_1 , (del_id),axis=0)\n",
    "gap_data_2_corr = np.delete(gap_data_2 , (del_id),axis=0)"
   ]
  },
  {
   "cell_type": "markdown",
   "metadata": {
    "collapsed": false
   },
   "source": [
    "plt.figure()\n",
    "plt.plot(gap_data_1_corr[:,3],gap_data_1_corr[:,4],'k.')\n",
    "plt.axvline(9e-8,label=\"friction cutoff\")\n",
    "plt.xscale(\"log\")\n",
    "plt.legend(loc=\"best\")\n",
    "plt.xlabel(\"gap\")\n",
    "plt.ylabel(\"Force\")\n",
    "plt.suptitle(\"gap vs force in particle pairs\")"
   ]
  },
  {
   "cell_type": "markdown",
   "metadata": {
    "collapsed": true
   },
   "source": [
    "dataset = reader.DataSet(\"rhor1_phi54_yd10.0/\", particles=True, fluid=True)\n",
    "gap_data_list = []\n",
    "\n",
    "prog = widgets.FloatProgress()\n",
    "display(prog)\n",
    "\n",
    "for j,t in enumerate(dataset.tlist[1:]):\n",
    "    prog.value = float(j)/len(dataset.tlist[1:])*100\n",
    "    try:\n",
    "        dataset.load_state(t)\n",
    "        dist = dataset.get_quantity(\"particle_particle_pair_distances\",update=True)\n",
    "        i = np.where(dist[1] == min(dist[1]))[0][0]\n",
    "#         i = np.where(dist[1] < 9e-8)[0][0]\n",
    "        #print i\n",
    "        idx_r1 = dist[2][i][0]\n",
    "        idx_r2 = dist[2][i][1]\n",
    "        r1 = dataset.particles.radius[idx_r1]\n",
    "        r2 = dataset.particles.radius[idx_r2]\n",
    "        rij = dist[1][i]\n",
    "        mingap = rij - r1 -r2\n",
    "        force_fric_1 = np.linalg.norm(dataset.particles.force_fric[idx_r1])\n",
    "        force_fric_2 = np.linalg.norm(dataset.particles.force_fric[idx_r2])\n",
    "        shear_fric_1 = np.linalg.norm(dataset.particles.sshear_fric[idx_r1])\n",
    "        shear_fric_2 = np.linalg.norm(dataset.particles.sshear_fric[idx_r2])\n",
    "        loc_part1 = dataset.particles.r[idx_r1]\n",
    "        loc_part2 = dataset.particles.r[idx_r2]\n",
    "        print j,t,idx_r1,idx_r2,loc_part1, loc_part2, mingap, force_fric_1, force_fric_2,shear_fric_1, shear_fric_2\n",
    "                \n",
    "        gap_data_list.append([loc_part1, loc_part2, mingap, force_fric_1, force_fric_2,shear_fric_1, shear_fric_2,idx_r1,idx_r2,t,j])\n",
    "    except Exception as e:\n",
    "        print e\n",
    "        continue"
   ]
  },
  {
   "cell_type": "markdown",
   "metadata": {},
   "source": [
    "# Cluster size vs number of clusters plot"
   ]
  },
  {
   "cell_type": "markdown",
   "metadata": {
    "collapsed": false,
    "scrolled": false
   },
   "source": [
    "label1 = widgets.Label(\"\")\n",
    "label_cache = widgets.Label(value = \"\")\n",
    "progress1 = widgets.IntProgress(min = 0, max = 100, value = 0)\n",
    "\n",
    "def cluster_size_vs_cluster_probability_matplotlib(phi,shearrate,time,plot_for_all_data,gap,alpha,viscosity_limits):\n",
    "    path = \"rhor1_phi\"+str(phi)+\"_yd\"+str(float(shearrate))\n",
    "    dataset = sp.reader.DataSet(path,particles=True, fluid=True)\n",
    "    print len(dataset.tlist), \"steps available\"\n",
    "    s_data = np.asarray([])\n",
    "    ns_data = np.asarray([])\n",
    "    cache_file = cache(cachefile=dataset.cachefile)\n",
    "    \n",
    "    viscosity_file = pd.read_csv(path+\"/result/nu_t.dat\")\n",
    "    viscosity = np.array(viscosity_file[viscosity_file.columns[4]][1:])\n",
    "    viscosity_limits_idx = np.where((viscosity<viscosity_limits[1]) & (viscosity>viscosity_limits[0]))[0]\n",
    "    time = viscosity_limits_idx \n",
    "    if plot_for_all_data : \n",
    "        time = np.asarray(range(1,len(dataset.tlist[1:])))\n",
    "        viscosity_text = \" for all timesteps\"\n",
    "    else:\n",
    "        viscosity_text = \" relative viscosity range=\"+ str(viscosity_limits)\n",
    "#     print time\n",
    "    for i,t in enumerate([dataset.tlist[i] for i in time]):\n",
    "        progress1.value = int(float(i)/len(time)*100)\n",
    "        try:\n",
    "            if cache_file.has_data(t,\"cluster_size_distribution_gap_\"+str(gap)):\n",
    "                label_cache.value = \"loading data for t=\"+str(t)\n",
    "                s, ns = cache_file.load_data(t,\"cluster_size_distribution_gap_\"+str(gap))\n",
    "                idx = np.where(ns != 0)[0]\n",
    "                s_data = np.concatenate([s_data , s[idx]])\n",
    "                ns_data = np.concatenate([ns_data , ns[idx]])\n",
    "                label1.value = str(s[idx])\n",
    "            else:\n",
    "                dataset.load_state(t)\n",
    "                s, ns = dataset.get_quantity(\"cluster_size_distribution\", gap = gap, update=True)\n",
    "                cache_file.save_data(t,{\"cluster_size_distribution_gap_\"+str(gap):[s, ns]})\n",
    "                idx = np.where(ns != 0)[0]\n",
    "                s_data = np.concatenate([s_data , s[idx]])\n",
    "                ns_data = np.concatenate([ns_data , ns[idx]])\n",
    "                label1.value = str(s[idx])\n",
    "        except Exception as e:\n",
    "            print e\n",
    "    uniq_sizes = np.unique(s_data)\n",
    "    ns_data_cumulative = np.zeros_like(uniq_sizes)\n",
    "    for i, item in enumerate(uniq_sizes):\n",
    "        idx_uniq = np.where(s_data == item)[0]\n",
    "        ns_data_cumulative[i] = sum(ns_data[idx_uniq])\n",
    "    x,y = uniq_sizes, ns_data_cumulative\n",
    "#     x_new = np.linspace(x[0], x[-1], num=len(x)*10)\n",
    "#     import numpy.polynomial.polynomial as poly\n",
    "#     coefs = poly.polyfit(x, y, 20)\n",
    "#     ffit = poly.polyval(x_new, coefs)\n",
    "    def zipfs(k,s,N):\n",
    "        denom = sum([1.0/i**s for i in range(1,int(N+1))])\n",
    "        num = 1.0/k**s\n",
    "        return num/denom\n",
    "    \n",
    "    plt.figure(figsize=[12,5])\n",
    "    plt.subplot(1,2,1)\n",
    "    plt.loglog(x,  y/float(max(y)),'k')\n",
    "    plt.loglog(x,  y/float(max(y)),'rx')\n",
    "    #uncomment to enable zipf's law visualization\n",
    "#     plt.loglog(range(1,int(max(x))),  [zipfs(i,alpha,max(x)) for i in range(1,int(max(x)))],label= \"zipfs law\")\n",
    "#     plt.plot(x_new, ffit, 'r')\n",
    "    plt.legend()\n",
    "    plt.xlim([0,1e3])\n",
    "    plt.ylim([1e-7,2])\n",
    "    plt.xlabel(\"N\")\n",
    "    plt.ylabel(\"P(N)\")\n",
    "    plt.suptitle(path+\" gap=\"+str(gap)+viscosity_text)\n",
    "    \n",
    "    plt.subplot(1,2,2)\n",
    "    plt.plot(range(len(viscosity)), viscosity, 'b.')\n",
    "    plt.plot(viscosity_limits_idx, viscosity[viscosity_limits_idx],'r.', label=\"used data points\")\n",
    "    plt.legend()\n",
    "    plt.xlabel(\"timesteps\")\n",
    "    plt.ylabel(\"relative viscosity\")\n",
    "    plt.yscale(\"log\")\n",
    "    \n",
    "    print uniq_sizes, ns_data_cumulative\n",
    "    \n",
    "widget_cluster_size_vs_cluster_probability_matplotlib = interactive(cluster_size_vs_cluster_probability_matplotlib, \\\n",
    "    phi = widgets.ToggleButtons(options=[40,45,50,54,55,56,58],value=56,disabled=False), \\\n",
    "    shearrate= widgets.ToggleButtons(options=[1,10,11,11.5,12,12.5,13,14,15,16,18,20,30,50,70,100,200,300,1000], value = 12),\\\n",
    "    time = widgets.IntRangeSlider(value = [1,1000] ,min = 1, max =1000 ),\\\n",
    "    plot_for_all_data = widgets.ToggleButtons(options = [True,False], value=False),\\\n",
    "    gap = widgets.ToggleButtons(options=[9e-8,6.7e-8,4e-8,1e-8], value = 9e-8),\\\n",
    "    alpha = widgets.FloatText(value = 2.5),\\\n",
    "    viscosity_limits = widgets.IntRangeSlider(value=[0,100], min = 0, max = 1000000),\\\n",
    "    __manual = True)\n",
    "display(widget_cluster_size_vs_cluster_probability_matplotlib)\n",
    "display(label1)\n",
    "display(progress1)\n",
    "display(label_cache)\n",
    "# for i,item in enumerate(pdf_average.children):\n",
    "#     print i, item.description \n",
    "# display(widget_cluster_size_distribution_matplotlib)\n",
    "# display(widgets.HBox(cluster_size_distribution.children[4:]))"
   ]
  },
  {
   "cell_type": "markdown",
   "metadata": {},
   "source": [
    "# Cluster Size vs cluster probability"
   ]
  },
  {
   "cell_type": "markdown",
   "metadata": {
    "collapsed": false
   },
   "source": [
    "label1 = widgets.Label(\"\")\n",
    "label_cache = widgets.Label(value = \"\")\n",
    "progress_1 = widgets.IntProgress(min = 0, max = 100, value = 0)\n",
    "\n",
    "def cluster_size_vs_cluster_probability_matplotlib(path_text_input,phi,shearrate,time,plot_for_all_data,gaps,alpha,viscosity_limits):\n",
    "    if len(path_text_input.strip())== 0:\n",
    "        path = \"rhor1_phi\"+str(phi)+\"_yd\"+str(float(shearrate))\n",
    "    else:\n",
    "        path = str(path_text_input)\n",
    "    dataset = sp.reader.DataSet(path,particles=True, fluid=True)\n",
    "    print len(dataset.tlist), \"steps available\"\n",
    "\n",
    "    cache_file = cache(cachefile=dataset.cachefile)\n",
    "    \n",
    "    viscosity_file = pd.read_csv(path+\"/result/nu_t.dat\")\n",
    "    friction_file = pd.read_csv(path+\"/result/part_stress_fric_t.dat\")\n",
    "    viscosity = np.array(viscosity_file[viscosity_file.columns[4]][1:])\n",
    "    friction = np.array(friction_file[friction_file.columns[2]][1:])\n",
    "    viscosity_limits_idx = np.where((viscosity<viscosity_limits[1]) & (viscosity>viscosity_limits[0]))[0]\n",
    "    time = viscosity_limits_idx \n",
    "    if plot_for_all_data : \n",
    "        time = np.asarray(range(1,len(dataset.tlist[1:])))\n",
    "        viscosity_text = \" for all timesteps\"\n",
    "    else:\n",
    "        viscosity_text = \" relative viscosity range=\"+ str(viscosity_limits)\n",
    "#     print time\n",
    "    plt.style.use(\"ggplot\")\n",
    "    plt.figure(figsize=[10,12])\n",
    "    for gap in gaps:\n",
    "        s_data = np.asarray([])\n",
    "        ns_data = np.asarray([])\n",
    "        for i,t in enumerate([dataset.tlist[i] for i in time]):\n",
    "            progress_1.value = int(float(i)/len(time)*100)\n",
    "            try:\n",
    "                if cache_file.has_data(t,\"cluster_size_distribution_gap_\"+str(gap)):\n",
    "                    label_cache.value = \"loading data for t=\"+str(t)\n",
    "                    s, ns = cache_file.load_data(t,\"cluster_size_distribution_gap_\"+str(gap))\n",
    "                    idx = np.where(ns != 0)[0]\n",
    "                    s_data = np.concatenate([s_data , s[idx]])\n",
    "                    ns_data = np.concatenate([ns_data , ns[idx]])\n",
    "                    label1.value = str(s[idx])\n",
    "                else:\n",
    "                    dataset.load_state(t)\n",
    "                    s, ns = dataset.get_quantity(\"cluster_size_distribution\", gap = gap, update=True)\n",
    "                    cache_file.save_data(t,{\"cluster_size_distribution_gap_\"+str(gap):[s, ns]})\n",
    "                    idx = np.where(ns != 0)[0]\n",
    "                    s_data = np.concatenate([s_data , s[idx]])\n",
    "                    ns_data = np.concatenate([ns_data , ns[idx]])\n",
    "                    label1.value = str(s[idx])\n",
    "            except Exception as e:\n",
    "                print e\n",
    "        uniq_sizes = np.unique(s_data)\n",
    "        ns_data_cumulative = np.zeros_like(uniq_sizes)\n",
    "        for i, item in enumerate(uniq_sizes):\n",
    "            idx_uniq = np.where(s_data == item)[0]\n",
    "            ns_data_cumulative[i] = sum(ns_data[idx_uniq])\n",
    "            \n",
    "        x,y = uniq_sizes, ns_data_cumulative\n",
    "    #     x_new = np.linspace(x[0], x[-1], num=len(x)*10)\n",
    "    #     import numpy.polynomial.polynomial as poly\n",
    "    #     coefs = poly.polyfit(x, y, 20)\n",
    "    #     ffit = poly.polyval(x_new, coefs)\n",
    "        def zipfs(k,s,N):\n",
    "            denom = sum([1.0/i**s for i in range(1,int(N+1))])\n",
    "            num = 1.0/k**s\n",
    "            return num/denom\n",
    "\n",
    "        \n",
    "        plt.subplot(3,1,1)\n",
    "        plt.loglog(x,  y/float(max(y)),'x')\n",
    "        plt.loglog(x,  y/float(max(y)), linewidth=1.0,label=\"gap=\"+str(gap))\n",
    "        #uncomment to enable zipf's law visualization\n",
    "    #     plt.loglog(range(1,int(max(x))),  [zipfs(i,alpha,max(x)) for i in range(1,int(max(x)))],label= \"zipfs law\")\n",
    "    #     plt.plot(x_new, ffit, 'r')\n",
    "        plt.legend(loc=\"best\")\n",
    "        plt.xlim([0,1e3])\n",
    "        plt.ylim([1e-5,2])\n",
    "        plt.xlabel(\"N\")\n",
    "        plt.ylabel(\"P(N)\")\n",
    "        plt.suptitle(path+\" gap=\"+str(gaps)+viscosity_text)\n",
    "    \n",
    "    plt.subplot(3,1,2)\n",
    "    plt.plot(range(len(viscosity)), viscosity, 'b')\n",
    "    if not plot_for_all_data:\n",
    "        plt.plot(viscosity_limits_idx, viscosity[viscosity_limits_idx],'rx', label=\"used data points\")\n",
    "    else:\n",
    "        plt.plot(range(len(viscosity)), viscosity,'rx', label=\"used data points\")\n",
    "    plt.legend(loc=\"best\")\n",
    "    plt.xlabel(\"timesteps\")\n",
    "    plt.ylabel(\"relative viscosity\")\n",
    "    plt.yscale(\"log\")\n",
    "    \n",
    "    plt.subplot(3,1,3)\n",
    "    plt.plot(range(len(friction)), friction, 'b')\n",
    "    plt.legend(loc=\"best\")\n",
    "    plt.xlabel(\"timesteps\")\n",
    "    plt.ylabel(\"frictional stress\")\n",
    "    plt.yscale(\"linear\")\n",
    "    \n",
    "    print uniq_sizes, ns_data_cumulative\n",
    "    \n",
    "widget_cluster_size_vs_cluster_probability_matplotlib = interactive(cluster_size_vs_cluster_probability_matplotlib, \\\n",
    "    path_text_input = widgets.Text(value=\"\"),\\\n",
    "    phi = widgets.ToggleButtons(options=[40,45,50,54,55,56,58],value=56,disabled=False), \\\n",
    "    shearrate= widgets.ToggleButtons(options=[1,10,11,11.5,12,12.5,13,14,15,16,18,20,30,50,70,100,200,300,1000], value = 12),\\\n",
    "    time = widgets.IntRangeSlider(value = [1,1000] ,min = 1, max =1000 ),\\\n",
    "    plot_for_all_data = widgets.ToggleButtons(options = [True,False], value=False),\\\n",
    "    gaps = widgets.SelectMultiple(options=[9e-8,6.7e-8,4e-8,1e-8], value = [9e-8,6.7e-8]),\\\n",
    "    alpha = widgets.FloatText(value = 2.5),\\\n",
    "    viscosity_limits = widgets.IntRangeSlider(value=[0,100], min = 0, max = 1000000),\\\n",
    "    __manual = True)\n",
    "display(widget_cluster_size_vs_cluster_probability_matplotlib)\n",
    "display(label1)\n",
    "display(progress_1)\n",
    "display(label_cache)\n",
    "# for i,item in enumerate(pdf_average.children):\n",
    "#     print i, item.description \n",
    "# display(widget_cluster_size_distribution_matplotlib)\n",
    "# display(widgets.HBox(cluster_size_distribution.children[4:]))"
   ]
  },
  {
   "cell_type": "markdown",
   "metadata": {
    "collapsed": false
   },
   "source": [
    "label1 = widgets.Label(\"\")\n",
    "label_cache = widgets.Label(value = \"\")\n",
    "progress1 = widgets.IntProgress(min = 0, max = 100, value = 0)\n",
    "\n",
    "def cluster_size_vs_cluster_probability_all_matplotlib(phi,shearrates,gap,alpha):\n",
    "    s_data = np.asarray([])\n",
    "    ns_data = np.asarray([])\n",
    "    for shearrate in shearrates:\n",
    "        try:\n",
    "            path = \"rhor1_phi\"+str(phi)+\"_yd\"+str(float(shearrate))\n",
    "            dataset = sp.reader.DataSet(path,particles=True, fluid=True)\n",
    "            print path\n",
    "            cache_file = cache(cachefile=dataset.cachefile)\n",
    "            for i,t in enumerate(dataset.tlist[1:]):\n",
    "                progress1.value = int(float(i)/len(dataset.tlist[1:])*100)\n",
    "                try:\n",
    "                    if cache_file.has_data(t,\"cluster_size_distribution_gap_\"+str(gap)):\n",
    "                        label_cache.value = \"loading data for t=\"+str(t)\n",
    "                        s, ns = cache_file.load_data(t,\"cluster_size_distribution_gap_\"+str(gap))\n",
    "                        idx = np.where(ns != 0)[0]\n",
    "                        s_data = np.concatenate([s_data , s[idx]])\n",
    "                        ns_data = np.concatenate([ns_data , ns[idx]])\n",
    "                        label1.value = path+\" \"+str(s[idx])\n",
    "                    else:\n",
    "                        dataset.load_state(t)\n",
    "                        label_cache.value = \"creating and saving data for t=\"+str(t)\n",
    "                        s, ns = dataset.get_quantity(\"cluster_size_distribution\", gap = gap, update=True)\n",
    "                        cache_file.save_data(t,{\"cluster_size_distribution_gap_\"+str(gap):[s, ns]})\n",
    "                        idx = np.where(ns != 0)[0]\n",
    "                        s_data = np.concatenate([s_data , s[idx]])\n",
    "                        ns_data = np.concatenate([ns_data , ns[idx]])\n",
    "                        label1.value = str(s[idx])\n",
    "                except Exception as e:\n",
    "                    print e\n",
    "        except Exception as e:\n",
    "            print e\n",
    "    \n",
    "    uniq_sizes = np.unique(s_data)\n",
    "    ns_data_cumulative = np.zeros_like(uniq_sizes)\n",
    "    for i, item in enumerate(uniq_sizes):\n",
    "        idx_uniq = np.where(s_data == item)[0]\n",
    "        ns_data_cumulative[i] = sum(ns_data[idx_uniq])\n",
    "\n",
    "    x,y = uniq_sizes, ns_data_cumulative\n",
    "#     x_new = np.linspace(x[0], x[-1], num=len(x)*10)\n",
    "#     import numpy.polynomial.polynomial as poly\n",
    "#     coefs = poly.polyfit(x, y, 20)\n",
    "#     ffit = poly.polyval(x_new, coefs)\n",
    "#     def zipfs(k,s,N):\n",
    "#         denom = sum([1.0/i**s for i in range(1,int(N+1))])\n",
    "#         num = 1.0/k**s\n",
    "#         return num/denom\n",
    "\n",
    "\n",
    "#     plt.subplot(3,1,1)\n",
    "    plt.style.use(\"ggplot\")\n",
    "    plt.figure()\n",
    "    plt.loglog(x,  y/float(max(y)),'x')\n",
    "    plt.loglog(x,  y/float(max(y)), linewidth=1.0,label=\"gap=\"+str(gap))\n",
    "    #uncomment to enable zipf's law visualization\n",
    "#     plt.loglog(range(1,int(max(x))),  [zipfs(i,alpha,max(x)) for i in range(1,int(max(x)))],label= \"zipfs law\")\n",
    "#     plt.plot(x_new, ffit, 'r')\n",
    "    plt.legend(loc=\"best\")\n",
    "    plt.xlim([0,1e3])\n",
    "    plt.ylim([1e-6,2])\n",
    "    plt.xlabel(\"N\")\n",
    "    plt.ylabel(\"P(N)\")\n",
    "    name = \"phi\"+str(phi)+\"_yd_\"\n",
    "    for j in shearrates: name += str(j).replace('.','_')+\"_\"\n",
    "    plt.suptitle(name+\"_gap=\"+str(gap))\n",
    "#     plt.savefig(name+str(gap))\n",
    "#     plt.suptitle(path+\" gap=\"+str(gap))\n",
    "    print uniq_sizes, ns_data_cumulative\n",
    "    \n",
    "widget_cluster_size_vs_cluster_probability_all_matplotlib = interactive(cluster_size_vs_cluster_probability_all_matplotlib, \\\n",
    "    phi = widgets.ToggleButtons(options=[40,45,50,54,55,56,58],value=56,disabled=False), \\\n",
    "    shearrates= widgets.SelectMultiple(options=[1,10,11,11.5,12,12.5,13,14,15,16,18,20,30,50,70,100,200,300,1000]),\\\n",
    "    time = widgets.IntRangeSlider(value = [1,1000] ,min = 1, max =1000 ),\\\n",
    "    plot_for_all_data = widgets.ToggleButtons(options = [True,False], value=False),\\\n",
    "    gap = widgets.RadioButtons(options=[9e-8,6.7e-8,4e-8,1e-8], value = 9e-8),\\\n",
    "    alpha = widgets.FloatText(value = 2.5),\\\n",
    "    viscosity_limits = widgets.IntRangeSlider(value=[0,100], min = 0, max = 1000000),\\\n",
    "    __manual = True)\n",
    "display(widget_cluster_size_vs_cluster_probability_all_matplotlib)\n",
    "display(label1)\n",
    "display(progress1)\n",
    "display(label_cache)\n",
    "# for i,item in enumerate(pdf_average.children):\n",
    "#     print i, item.description \n",
    "# display(widget_cluster_size_distribution_matplotlib)\n",
    "# display(widgets.HBox(cluster_size_distribution.children[4:]))"
   ]
  },
  {
   "cell_type": "markdown",
   "metadata": {},
   "source": [
    "# Viscosity vs Cluster Number"
   ]
  },
  {
   "cell_type": "code",
   "execution_count": 98,
   "metadata": {
    "collapsed": false,
    "scrolled": false
   },
   "outputs": [
    {
     "data": {
      "application/javascript": [
       "/* Put everything inside the global mpl namespace */\n",
       "window.mpl = {};\n",
       "\n",
       "mpl.get_websocket_type = function() {\n",
       "    if (typeof(WebSocket) !== 'undefined') {\n",
       "        return WebSocket;\n",
       "    } else if (typeof(MozWebSocket) !== 'undefined') {\n",
       "        return MozWebSocket;\n",
       "    } else {\n",
       "        alert('Your browser does not have WebSocket support.' +\n",
       "              'Please try Chrome, Safari or Firefox ≥ 6. ' +\n",
       "              'Firefox 4 and 5 are also supported but you ' +\n",
       "              'have to enable WebSockets in about:config.');\n",
       "    };\n",
       "}\n",
       "\n",
       "mpl.figure = function(figure_id, websocket, ondownload, parent_element) {\n",
       "    this.id = figure_id;\n",
       "\n",
       "    this.ws = websocket;\n",
       "\n",
       "    this.supports_binary = (this.ws.binaryType != undefined);\n",
       "\n",
       "    if (!this.supports_binary) {\n",
       "        var warnings = document.getElementById(\"mpl-warnings\");\n",
       "        if (warnings) {\n",
       "            warnings.style.display = 'block';\n",
       "            warnings.textContent = (\n",
       "                \"This browser does not support binary websocket messages. \" +\n",
       "                    \"Performance may be slow.\");\n",
       "        }\n",
       "    }\n",
       "\n",
       "    this.imageObj = new Image();\n",
       "\n",
       "    this.context = undefined;\n",
       "    this.message = undefined;\n",
       "    this.canvas = undefined;\n",
       "    this.rubberband_canvas = undefined;\n",
       "    this.rubberband_context = undefined;\n",
       "    this.format_dropdown = undefined;\n",
       "\n",
       "    this.image_mode = 'full';\n",
       "\n",
       "    this.root = $('<div/>');\n",
       "    this._root_extra_style(this.root)\n",
       "    this.root.attr('style', 'display: inline-block');\n",
       "\n",
       "    $(parent_element).append(this.root);\n",
       "\n",
       "    this._init_header(this);\n",
       "    this._init_canvas(this);\n",
       "    this._init_toolbar(this);\n",
       "\n",
       "    var fig = this;\n",
       "\n",
       "    this.waiting = false;\n",
       "\n",
       "    this.ws.onopen =  function () {\n",
       "            fig.send_message(\"supports_binary\", {value: fig.supports_binary});\n",
       "            fig.send_message(\"send_image_mode\", {});\n",
       "            fig.send_message(\"refresh\", {});\n",
       "        }\n",
       "\n",
       "    this.imageObj.onload = function() {\n",
       "            if (fig.image_mode == 'full') {\n",
       "                // Full images could contain transparency (where diff images\n",
       "                // almost always do), so we need to clear the canvas so that\n",
       "                // there is no ghosting.\n",
       "                fig.context.clearRect(0, 0, fig.canvas.width, fig.canvas.height);\n",
       "            }\n",
       "            fig.context.drawImage(fig.imageObj, 0, 0);\n",
       "        };\n",
       "\n",
       "    this.imageObj.onunload = function() {\n",
       "        this.ws.close();\n",
       "    }\n",
       "\n",
       "    this.ws.onmessage = this._make_on_message_function(this);\n",
       "\n",
       "    this.ondownload = ondownload;\n",
       "}\n",
       "\n",
       "mpl.figure.prototype._init_header = function() {\n",
       "    var titlebar = $(\n",
       "        '<div class=\"ui-dialog-titlebar ui-widget-header ui-corner-all ' +\n",
       "        'ui-helper-clearfix\"/>');\n",
       "    var titletext = $(\n",
       "        '<div class=\"ui-dialog-title\" style=\"width: 100%; ' +\n",
       "        'text-align: center; padding: 3px;\"/>');\n",
       "    titlebar.append(titletext)\n",
       "    this.root.append(titlebar);\n",
       "    this.header = titletext[0];\n",
       "}\n",
       "\n",
       "\n",
       "\n",
       "mpl.figure.prototype._canvas_extra_style = function(canvas_div) {\n",
       "\n",
       "}\n",
       "\n",
       "\n",
       "mpl.figure.prototype._root_extra_style = function(canvas_div) {\n",
       "\n",
       "}\n",
       "\n",
       "mpl.figure.prototype._init_canvas = function() {\n",
       "    var fig = this;\n",
       "\n",
       "    var canvas_div = $('<div/>');\n",
       "\n",
       "    canvas_div.attr('style', 'position: relative; clear: both; outline: 0');\n",
       "\n",
       "    function canvas_keyboard_event(event) {\n",
       "        return fig.key_event(event, event['data']);\n",
       "    }\n",
       "\n",
       "    canvas_div.keydown('key_press', canvas_keyboard_event);\n",
       "    canvas_div.keyup('key_release', canvas_keyboard_event);\n",
       "    this.canvas_div = canvas_div\n",
       "    this._canvas_extra_style(canvas_div)\n",
       "    this.root.append(canvas_div);\n",
       "\n",
       "    var canvas = $('<canvas/>');\n",
       "    canvas.addClass('mpl-canvas');\n",
       "    canvas.attr('style', \"left: 0; top: 0; z-index: 0; outline: 0\")\n",
       "\n",
       "    this.canvas = canvas[0];\n",
       "    this.context = canvas[0].getContext(\"2d\");\n",
       "\n",
       "    var rubberband = $('<canvas/>');\n",
       "    rubberband.attr('style', \"position: absolute; left: 0; top: 0; z-index: 1;\")\n",
       "\n",
       "    var pass_mouse_events = true;\n",
       "\n",
       "    canvas_div.resizable({\n",
       "        start: function(event, ui) {\n",
       "            pass_mouse_events = false;\n",
       "        },\n",
       "        resize: function(event, ui) {\n",
       "            fig.request_resize(ui.size.width, ui.size.height);\n",
       "        },\n",
       "        stop: function(event, ui) {\n",
       "            pass_mouse_events = true;\n",
       "            fig.request_resize(ui.size.width, ui.size.height);\n",
       "        },\n",
       "    });\n",
       "\n",
       "    function mouse_event_fn(event) {\n",
       "        if (pass_mouse_events)\n",
       "            return fig.mouse_event(event, event['data']);\n",
       "    }\n",
       "\n",
       "    rubberband.mousedown('button_press', mouse_event_fn);\n",
       "    rubberband.mouseup('button_release', mouse_event_fn);\n",
       "    // Throttle sequential mouse events to 1 every 20ms.\n",
       "    rubberband.mousemove('motion_notify', mouse_event_fn);\n",
       "\n",
       "    rubberband.mouseenter('figure_enter', mouse_event_fn);\n",
       "    rubberband.mouseleave('figure_leave', mouse_event_fn);\n",
       "\n",
       "    canvas_div.on(\"wheel\", function (event) {\n",
       "        event = event.originalEvent;\n",
       "        event['data'] = 'scroll'\n",
       "        if (event.deltaY < 0) {\n",
       "            event.step = 1;\n",
       "        } else {\n",
       "            event.step = -1;\n",
       "        }\n",
       "        mouse_event_fn(event);\n",
       "    });\n",
       "\n",
       "    canvas_div.append(canvas);\n",
       "    canvas_div.append(rubberband);\n",
       "\n",
       "    this.rubberband = rubberband;\n",
       "    this.rubberband_canvas = rubberband[0];\n",
       "    this.rubberband_context = rubberband[0].getContext(\"2d\");\n",
       "    this.rubberband_context.strokeStyle = \"#000000\";\n",
       "\n",
       "    this._resize_canvas = function(width, height) {\n",
       "        // Keep the size of the canvas, canvas container, and rubber band\n",
       "        // canvas in synch.\n",
       "        canvas_div.css('width', width)\n",
       "        canvas_div.css('height', height)\n",
       "\n",
       "        canvas.attr('width', width);\n",
       "        canvas.attr('height', height);\n",
       "\n",
       "        rubberband.attr('width', width);\n",
       "        rubberband.attr('height', height);\n",
       "    }\n",
       "\n",
       "    // Set the figure to an initial 600x600px, this will subsequently be updated\n",
       "    // upon first draw.\n",
       "    this._resize_canvas(600, 600);\n",
       "\n",
       "    // Disable right mouse context menu.\n",
       "    $(this.rubberband_canvas).bind(\"contextmenu\",function(e){\n",
       "        return false;\n",
       "    });\n",
       "\n",
       "    function set_focus () {\n",
       "        canvas.focus();\n",
       "        canvas_div.focus();\n",
       "    }\n",
       "\n",
       "    window.setTimeout(set_focus, 100);\n",
       "}\n",
       "\n",
       "mpl.figure.prototype._init_toolbar = function() {\n",
       "    var fig = this;\n",
       "\n",
       "    var nav_element = $('<div/>')\n",
       "    nav_element.attr('style', 'width: 100%');\n",
       "    this.root.append(nav_element);\n",
       "\n",
       "    // Define a callback function for later on.\n",
       "    function toolbar_event(event) {\n",
       "        return fig.toolbar_button_onclick(event['data']);\n",
       "    }\n",
       "    function toolbar_mouse_event(event) {\n",
       "        return fig.toolbar_button_onmouseover(event['data']);\n",
       "    }\n",
       "\n",
       "    for(var toolbar_ind in mpl.toolbar_items) {\n",
       "        var name = mpl.toolbar_items[toolbar_ind][0];\n",
       "        var tooltip = mpl.toolbar_items[toolbar_ind][1];\n",
       "        var image = mpl.toolbar_items[toolbar_ind][2];\n",
       "        var method_name = mpl.toolbar_items[toolbar_ind][3];\n",
       "\n",
       "        if (!name) {\n",
       "            // put a spacer in here.\n",
       "            continue;\n",
       "        }\n",
       "        var button = $('<button/>');\n",
       "        button.addClass('ui-button ui-widget ui-state-default ui-corner-all ' +\n",
       "                        'ui-button-icon-only');\n",
       "        button.attr('role', 'button');\n",
       "        button.attr('aria-disabled', 'false');\n",
       "        button.click(method_name, toolbar_event);\n",
       "        button.mouseover(tooltip, toolbar_mouse_event);\n",
       "\n",
       "        var icon_img = $('<span/>');\n",
       "        icon_img.addClass('ui-button-icon-primary ui-icon');\n",
       "        icon_img.addClass(image);\n",
       "        icon_img.addClass('ui-corner-all');\n",
       "\n",
       "        var tooltip_span = $('<span/>');\n",
       "        tooltip_span.addClass('ui-button-text');\n",
       "        tooltip_span.html(tooltip);\n",
       "\n",
       "        button.append(icon_img);\n",
       "        button.append(tooltip_span);\n",
       "\n",
       "        nav_element.append(button);\n",
       "    }\n",
       "\n",
       "    var fmt_picker_span = $('<span/>');\n",
       "\n",
       "    var fmt_picker = $('<select/>');\n",
       "    fmt_picker.addClass('mpl-toolbar-option ui-widget ui-widget-content');\n",
       "    fmt_picker_span.append(fmt_picker);\n",
       "    nav_element.append(fmt_picker_span);\n",
       "    this.format_dropdown = fmt_picker[0];\n",
       "\n",
       "    for (var ind in mpl.extensions) {\n",
       "        var fmt = mpl.extensions[ind];\n",
       "        var option = $(\n",
       "            '<option/>', {selected: fmt === mpl.default_extension}).html(fmt);\n",
       "        fmt_picker.append(option)\n",
       "    }\n",
       "\n",
       "    // Add hover states to the ui-buttons\n",
       "    $( \".ui-button\" ).hover(\n",
       "        function() { $(this).addClass(\"ui-state-hover\");},\n",
       "        function() { $(this).removeClass(\"ui-state-hover\");}\n",
       "    );\n",
       "\n",
       "    var status_bar = $('<span class=\"mpl-message\"/>');\n",
       "    nav_element.append(status_bar);\n",
       "    this.message = status_bar[0];\n",
       "}\n",
       "\n",
       "mpl.figure.prototype.request_resize = function(x_pixels, y_pixels) {\n",
       "    // Request matplotlib to resize the figure. Matplotlib will then trigger a resize in the client,\n",
       "    // which will in turn request a refresh of the image.\n",
       "    this.send_message('resize', {'width': x_pixels, 'height': y_pixels});\n",
       "}\n",
       "\n",
       "mpl.figure.prototype.send_message = function(type, properties) {\n",
       "    properties['type'] = type;\n",
       "    properties['figure_id'] = this.id;\n",
       "    this.ws.send(JSON.stringify(properties));\n",
       "}\n",
       "\n",
       "mpl.figure.prototype.send_draw_message = function() {\n",
       "    if (!this.waiting) {\n",
       "        this.waiting = true;\n",
       "        this.ws.send(JSON.stringify({type: \"draw\", figure_id: this.id}));\n",
       "    }\n",
       "}\n",
       "\n",
       "\n",
       "mpl.figure.prototype.handle_save = function(fig, msg) {\n",
       "    var format_dropdown = fig.format_dropdown;\n",
       "    var format = format_dropdown.options[format_dropdown.selectedIndex].value;\n",
       "    fig.ondownload(fig, format);\n",
       "}\n",
       "\n",
       "\n",
       "mpl.figure.prototype.handle_resize = function(fig, msg) {\n",
       "    var size = msg['size'];\n",
       "    if (size[0] != fig.canvas.width || size[1] != fig.canvas.height) {\n",
       "        fig._resize_canvas(size[0], size[1]);\n",
       "        fig.send_message(\"refresh\", {});\n",
       "    };\n",
       "}\n",
       "\n",
       "mpl.figure.prototype.handle_rubberband = function(fig, msg) {\n",
       "    var x0 = msg['x0'];\n",
       "    var y0 = fig.canvas.height - msg['y0'];\n",
       "    var x1 = msg['x1'];\n",
       "    var y1 = fig.canvas.height - msg['y1'];\n",
       "    x0 = Math.floor(x0) + 0.5;\n",
       "    y0 = Math.floor(y0) + 0.5;\n",
       "    x1 = Math.floor(x1) + 0.5;\n",
       "    y1 = Math.floor(y1) + 0.5;\n",
       "    var min_x = Math.min(x0, x1);\n",
       "    var min_y = Math.min(y0, y1);\n",
       "    var width = Math.abs(x1 - x0);\n",
       "    var height = Math.abs(y1 - y0);\n",
       "\n",
       "    fig.rubberband_context.clearRect(\n",
       "        0, 0, fig.canvas.width, fig.canvas.height);\n",
       "\n",
       "    fig.rubberband_context.strokeRect(min_x, min_y, width, height);\n",
       "}\n",
       "\n",
       "mpl.figure.prototype.handle_figure_label = function(fig, msg) {\n",
       "    // Updates the figure title.\n",
       "    fig.header.textContent = msg['label'];\n",
       "}\n",
       "\n",
       "mpl.figure.prototype.handle_cursor = function(fig, msg) {\n",
       "    var cursor = msg['cursor'];\n",
       "    switch(cursor)\n",
       "    {\n",
       "    case 0:\n",
       "        cursor = 'pointer';\n",
       "        break;\n",
       "    case 1:\n",
       "        cursor = 'default';\n",
       "        break;\n",
       "    case 2:\n",
       "        cursor = 'crosshair';\n",
       "        break;\n",
       "    case 3:\n",
       "        cursor = 'move';\n",
       "        break;\n",
       "    }\n",
       "    fig.rubberband_canvas.style.cursor = cursor;\n",
       "}\n",
       "\n",
       "mpl.figure.prototype.handle_message = function(fig, msg) {\n",
       "    fig.message.textContent = msg['message'];\n",
       "}\n",
       "\n",
       "mpl.figure.prototype.handle_draw = function(fig, msg) {\n",
       "    // Request the server to send over a new figure.\n",
       "    fig.send_draw_message();\n",
       "}\n",
       "\n",
       "mpl.figure.prototype.handle_image_mode = function(fig, msg) {\n",
       "    fig.image_mode = msg['mode'];\n",
       "}\n",
       "\n",
       "mpl.figure.prototype.updated_canvas_event = function() {\n",
       "    // Called whenever the canvas gets updated.\n",
       "    this.send_message(\"ack\", {});\n",
       "}\n",
       "\n",
       "// A function to construct a web socket function for onmessage handling.\n",
       "// Called in the figure constructor.\n",
       "mpl.figure.prototype._make_on_message_function = function(fig) {\n",
       "    return function socket_on_message(evt) {\n",
       "        if (evt.data instanceof Blob) {\n",
       "            /* FIXME: We get \"Resource interpreted as Image but\n",
       "             * transferred with MIME type text/plain:\" errors on\n",
       "             * Chrome.  But how to set the MIME type?  It doesn't seem\n",
       "             * to be part of the websocket stream */\n",
       "            evt.data.type = \"image/png\";\n",
       "\n",
       "            /* Free the memory for the previous frames */\n",
       "            if (fig.imageObj.src) {\n",
       "                (window.URL || window.webkitURL).revokeObjectURL(\n",
       "                    fig.imageObj.src);\n",
       "            }\n",
       "\n",
       "            fig.imageObj.src = (window.URL || window.webkitURL).createObjectURL(\n",
       "                evt.data);\n",
       "            fig.updated_canvas_event();\n",
       "            fig.waiting = false;\n",
       "            return;\n",
       "        }\n",
       "        else if (typeof evt.data === 'string' && evt.data.slice(0, 21) == \"data:image/png;base64\") {\n",
       "            fig.imageObj.src = evt.data;\n",
       "            fig.updated_canvas_event();\n",
       "            fig.waiting = false;\n",
       "            return;\n",
       "        }\n",
       "\n",
       "        var msg = JSON.parse(evt.data);\n",
       "        var msg_type = msg['type'];\n",
       "\n",
       "        // Call the  \"handle_{type}\" callback, which takes\n",
       "        // the figure and JSON message as its only arguments.\n",
       "        try {\n",
       "            var callback = fig[\"handle_\" + msg_type];\n",
       "        } catch (e) {\n",
       "            console.log(\"No handler for the '\" + msg_type + \"' message type: \", msg);\n",
       "            return;\n",
       "        }\n",
       "\n",
       "        if (callback) {\n",
       "            try {\n",
       "                // console.log(\"Handling '\" + msg_type + \"' message: \", msg);\n",
       "                callback(fig, msg);\n",
       "            } catch (e) {\n",
       "                console.log(\"Exception inside the 'handler_\" + msg_type + \"' callback:\", e, e.stack, msg);\n",
       "            }\n",
       "        }\n",
       "    };\n",
       "}\n",
       "\n",
       "// from http://stackoverflow.com/questions/1114465/getting-mouse-location-in-canvas\n",
       "mpl.findpos = function(e) {\n",
       "    //this section is from http://www.quirksmode.org/js/events_properties.html\n",
       "    var targ;\n",
       "    if (!e)\n",
       "        e = window.event;\n",
       "    if (e.target)\n",
       "        targ = e.target;\n",
       "    else if (e.srcElement)\n",
       "        targ = e.srcElement;\n",
       "    if (targ.nodeType == 3) // defeat Safari bug\n",
       "        targ = targ.parentNode;\n",
       "\n",
       "    // jQuery normalizes the pageX and pageY\n",
       "    // pageX,Y are the mouse positions relative to the document\n",
       "    // offset() returns the position of the element relative to the document\n",
       "    var x = e.pageX - $(targ).offset().left;\n",
       "    var y = e.pageY - $(targ).offset().top;\n",
       "\n",
       "    return {\"x\": x, \"y\": y};\n",
       "};\n",
       "\n",
       "/*\n",
       " * return a copy of an object with only non-object keys\n",
       " * we need this to avoid circular references\n",
       " * http://stackoverflow.com/a/24161582/3208463\n",
       " */\n",
       "function simpleKeys (original) {\n",
       "  return Object.keys(original).reduce(function (obj, key) {\n",
       "    if (typeof original[key] !== 'object')\n",
       "        obj[key] = original[key]\n",
       "    return obj;\n",
       "  }, {});\n",
       "}\n",
       "\n",
       "mpl.figure.prototype.mouse_event = function(event, name) {\n",
       "    var canvas_pos = mpl.findpos(event)\n",
       "\n",
       "    if (name === 'button_press')\n",
       "    {\n",
       "        this.canvas.focus();\n",
       "        this.canvas_div.focus();\n",
       "    }\n",
       "\n",
       "    var x = canvas_pos.x;\n",
       "    var y = canvas_pos.y;\n",
       "\n",
       "    this.send_message(name, {x: x, y: y, button: event.button,\n",
       "                             step: event.step,\n",
       "                             guiEvent: simpleKeys(event)});\n",
       "\n",
       "    /* This prevents the web browser from automatically changing to\n",
       "     * the text insertion cursor when the button is pressed.  We want\n",
       "     * to control all of the cursor setting manually through the\n",
       "     * 'cursor' event from matplotlib */\n",
       "    event.preventDefault();\n",
       "    return false;\n",
       "}\n",
       "\n",
       "mpl.figure.prototype._key_event_extra = function(event, name) {\n",
       "    // Handle any extra behaviour associated with a key event\n",
       "}\n",
       "\n",
       "mpl.figure.prototype.key_event = function(event, name) {\n",
       "\n",
       "    // Prevent repeat events\n",
       "    if (name == 'key_press')\n",
       "    {\n",
       "        if (event.which === this._key)\n",
       "            return;\n",
       "        else\n",
       "            this._key = event.which;\n",
       "    }\n",
       "    if (name == 'key_release')\n",
       "        this._key = null;\n",
       "\n",
       "    var value = '';\n",
       "    if (event.ctrlKey && event.which != 17)\n",
       "        value += \"ctrl+\";\n",
       "    if (event.altKey && event.which != 18)\n",
       "        value += \"alt+\";\n",
       "    if (event.shiftKey && event.which != 16)\n",
       "        value += \"shift+\";\n",
       "\n",
       "    value += 'k';\n",
       "    value += event.which.toString();\n",
       "\n",
       "    this._key_event_extra(event, name);\n",
       "\n",
       "    this.send_message(name, {key: value,\n",
       "                             guiEvent: simpleKeys(event)});\n",
       "    return false;\n",
       "}\n",
       "\n",
       "mpl.figure.prototype.toolbar_button_onclick = function(name) {\n",
       "    if (name == 'download') {\n",
       "        this.handle_save(this, null);\n",
       "    } else {\n",
       "        this.send_message(\"toolbar_button\", {name: name});\n",
       "    }\n",
       "};\n",
       "\n",
       "mpl.figure.prototype.toolbar_button_onmouseover = function(tooltip) {\n",
       "    this.message.textContent = tooltip;\n",
       "};\n",
       "mpl.toolbar_items = [[\"Home\", \"Reset original view\", \"fa fa-home icon-home\", \"home\"], [\"Back\", \"Back to  previous view\", \"fa fa-arrow-left icon-arrow-left\", \"back\"], [\"Forward\", \"Forward to next view\", \"fa fa-arrow-right icon-arrow-right\", \"forward\"], [\"\", \"\", \"\", \"\"], [\"Pan\", \"Pan axes with left mouse, zoom with right\", \"fa fa-arrows icon-move\", \"pan\"], [\"Zoom\", \"Zoom to rectangle\", \"fa fa-square-o icon-check-empty\", \"zoom\"], [\"\", \"\", \"\", \"\"], [\"Download\", \"Download plot\", \"fa fa-floppy-o icon-save\", \"download\"]];\n",
       "\n",
       "mpl.extensions = [\"eps\", \"jpeg\", \"pdf\", \"png\", \"ps\", \"raw\", \"svg\", \"tif\"];\n",
       "\n",
       "mpl.default_extension = \"png\";var comm_websocket_adapter = function(comm) {\n",
       "    // Create a \"websocket\"-like object which calls the given IPython comm\n",
       "    // object with the appropriate methods. Currently this is a non binary\n",
       "    // socket, so there is still some room for performance tuning.\n",
       "    var ws = {};\n",
       "\n",
       "    ws.close = function() {\n",
       "        comm.close()\n",
       "    };\n",
       "    ws.send = function(m) {\n",
       "        //console.log('sending', m);\n",
       "        comm.send(m);\n",
       "    };\n",
       "    // Register the callback with on_msg.\n",
       "    comm.on_msg(function(msg) {\n",
       "        //console.log('receiving', msg['content']['data'], msg);\n",
       "        // Pass the mpl event to the overriden (by mpl) onmessage function.\n",
       "        ws.onmessage(msg['content']['data'])\n",
       "    });\n",
       "    return ws;\n",
       "}\n",
       "\n",
       "mpl.mpl_figure_comm = function(comm, msg) {\n",
       "    // This is the function which gets called when the mpl process\n",
       "    // starts-up an IPython Comm through the \"matplotlib\" channel.\n",
       "\n",
       "    var id = msg.content.data.id;\n",
       "    // Get hold of the div created by the display call when the Comm\n",
       "    // socket was opened in Python.\n",
       "    var element = $(\"#\" + id);\n",
       "    var ws_proxy = comm_websocket_adapter(comm)\n",
       "\n",
       "    function ondownload(figure, format) {\n",
       "        window.open(figure.imageObj.src);\n",
       "    }\n",
       "\n",
       "    var fig = new mpl.figure(id, ws_proxy,\n",
       "                           ondownload,\n",
       "                           element.get(0));\n",
       "\n",
       "    // Call onopen now - mpl needs it, as it is assuming we've passed it a real\n",
       "    // web socket which is closed, not our websocket->open comm proxy.\n",
       "    ws_proxy.onopen();\n",
       "\n",
       "    fig.parent_element = element.get(0);\n",
       "    fig.cell_info = mpl.find_output_cell(\"<div id='\" + id + \"'></div>\");\n",
       "    if (!fig.cell_info) {\n",
       "        console.error(\"Failed to find cell for figure\", id, fig);\n",
       "        return;\n",
       "    }\n",
       "\n",
       "    var output_index = fig.cell_info[2]\n",
       "    var cell = fig.cell_info[0];\n",
       "\n",
       "};\n",
       "\n",
       "mpl.figure.prototype.handle_close = function(fig, msg) {\n",
       "    fig.root.unbind('remove')\n",
       "\n",
       "    // Update the output cell to use the data from the current canvas.\n",
       "    fig.push_to_output();\n",
       "    var dataURL = fig.canvas.toDataURL();\n",
       "    // Re-enable the keyboard manager in IPython - without this line, in FF,\n",
       "    // the notebook keyboard shortcuts fail.\n",
       "    IPython.keyboard_manager.enable()\n",
       "    $(fig.parent_element).html('<img src=\"' + dataURL + '\">');\n",
       "    fig.close_ws(fig, msg);\n",
       "}\n",
       "\n",
       "mpl.figure.prototype.close_ws = function(fig, msg){\n",
       "    fig.send_message('closing', msg);\n",
       "    // fig.ws.close()\n",
       "}\n",
       "\n",
       "mpl.figure.prototype.push_to_output = function(remove_interactive) {\n",
       "    // Turn the data on the canvas into data in the output cell.\n",
       "    var dataURL = this.canvas.toDataURL();\n",
       "    this.cell_info[1]['text/html'] = '<img src=\"' + dataURL + '\">';\n",
       "}\n",
       "\n",
       "mpl.figure.prototype.updated_canvas_event = function() {\n",
       "    // Tell IPython that the notebook contents must change.\n",
       "    IPython.notebook.set_dirty(true);\n",
       "    this.send_message(\"ack\", {});\n",
       "    var fig = this;\n",
       "    // Wait a second, then push the new image to the DOM so\n",
       "    // that it is saved nicely (might be nice to debounce this).\n",
       "    setTimeout(function () { fig.push_to_output() }, 1000);\n",
       "}\n",
       "\n",
       "mpl.figure.prototype._init_toolbar = function() {\n",
       "    var fig = this;\n",
       "\n",
       "    var nav_element = $('<div/>')\n",
       "    nav_element.attr('style', 'width: 100%');\n",
       "    this.root.append(nav_element);\n",
       "\n",
       "    // Define a callback function for later on.\n",
       "    function toolbar_event(event) {\n",
       "        return fig.toolbar_button_onclick(event['data']);\n",
       "    }\n",
       "    function toolbar_mouse_event(event) {\n",
       "        return fig.toolbar_button_onmouseover(event['data']);\n",
       "    }\n",
       "\n",
       "    for(var toolbar_ind in mpl.toolbar_items){\n",
       "        var name = mpl.toolbar_items[toolbar_ind][0];\n",
       "        var tooltip = mpl.toolbar_items[toolbar_ind][1];\n",
       "        var image = mpl.toolbar_items[toolbar_ind][2];\n",
       "        var method_name = mpl.toolbar_items[toolbar_ind][3];\n",
       "\n",
       "        if (!name) { continue; };\n",
       "\n",
       "        var button = $('<button class=\"btn btn-default\" href=\"#\" title=\"' + name + '\"><i class=\"fa ' + image + ' fa-lg\"></i></button>');\n",
       "        button.click(method_name, toolbar_event);\n",
       "        button.mouseover(tooltip, toolbar_mouse_event);\n",
       "        nav_element.append(button);\n",
       "    }\n",
       "\n",
       "    // Add the status bar.\n",
       "    var status_bar = $('<span class=\"mpl-message\" style=\"text-align:right; float: right;\"/>');\n",
       "    nav_element.append(status_bar);\n",
       "    this.message = status_bar[0];\n",
       "\n",
       "    // Add the close button to the window.\n",
       "    var buttongrp = $('<div class=\"btn-group inline pull-right\"></div>');\n",
       "    var button = $('<button class=\"btn btn-mini btn-primary\" href=\"#\" title=\"Stop Interaction\"><i class=\"fa fa-power-off icon-remove icon-large\"></i></button>');\n",
       "    button.click(function (evt) { fig.handle_close(fig, {}); } );\n",
       "    button.mouseover('Stop Interaction', toolbar_mouse_event);\n",
       "    buttongrp.append(button);\n",
       "    var titlebar = this.root.find($('.ui-dialog-titlebar'));\n",
       "    titlebar.prepend(buttongrp);\n",
       "}\n",
       "\n",
       "mpl.figure.prototype._root_extra_style = function(el){\n",
       "    var fig = this\n",
       "    el.on(\"remove\", function(){\n",
       "\tfig.close_ws(fig, {});\n",
       "    });\n",
       "}\n",
       "\n",
       "mpl.figure.prototype._canvas_extra_style = function(el){\n",
       "    // this is important to make the div 'focusable\n",
       "    el.attr('tabindex', 0)\n",
       "    // reach out to IPython and tell the keyboard manager to turn it's self\n",
       "    // off when our div gets focus\n",
       "\n",
       "    // location in version 3\n",
       "    if (IPython.notebook.keyboard_manager) {\n",
       "        IPython.notebook.keyboard_manager.register_events(el);\n",
       "    }\n",
       "    else {\n",
       "        // location in version 2\n",
       "        IPython.keyboard_manager.register_events(el);\n",
       "    }\n",
       "\n",
       "}\n",
       "\n",
       "mpl.figure.prototype._key_event_extra = function(event, name) {\n",
       "    var manager = IPython.notebook.keyboard_manager;\n",
       "    if (!manager)\n",
       "        manager = IPython.keyboard_manager;\n",
       "\n",
       "    // Check for shift+enter\n",
       "    if (event.shiftKey && event.which == 13) {\n",
       "        this.canvas_div.blur();\n",
       "        // select the cell after this one\n",
       "        var index = IPython.notebook.find_cell_index(this.cell_info[0]);\n",
       "        IPython.notebook.select(index + 1);\n",
       "    }\n",
       "}\n",
       "\n",
       "mpl.figure.prototype.handle_save = function(fig, msg) {\n",
       "    fig.ondownload(fig, null);\n",
       "}\n",
       "\n",
       "\n",
       "mpl.find_output_cell = function(html_output) {\n",
       "    // Return the cell and output element which can be found *uniquely* in the notebook.\n",
       "    // Note - this is a bit hacky, but it is done because the \"notebook_saving.Notebook\"\n",
       "    // IPython event is triggered only after the cells have been serialised, which for\n",
       "    // our purposes (turning an active figure into a static one), is too late.\n",
       "    var cells = IPython.notebook.get_cells();\n",
       "    var ncells = cells.length;\n",
       "    for (var i=0; i<ncells; i++) {\n",
       "        var cell = cells[i];\n",
       "        if (cell.cell_type === 'code'){\n",
       "            for (var j=0; j<cell.output_area.outputs.length; j++) {\n",
       "                var data = cell.output_area.outputs[j];\n",
       "                if (data.data) {\n",
       "                    // IPython >= 3 moved mimebundle to data attribute of output\n",
       "                    data = data.data;\n",
       "                }\n",
       "                if (data['text/html'] == html_output) {\n",
       "                    return [cell, data, j];\n",
       "                }\n",
       "            }\n",
       "        }\n",
       "    }\n",
       "}\n",
       "\n",
       "// Register the function which deals with the matplotlib target/channel.\n",
       "// The kernel may be null if the page has been refreshed.\n",
       "if (IPython.notebook.kernel != null) {\n",
       "    IPython.notebook.kernel.comm_manager.register_target('matplotlib', mpl.mpl_figure_comm);\n",
       "}\n"
      ],
      "text/plain": [
       "<IPython.core.display.Javascript object>"
      ]
     },
     "metadata": {},
     "output_type": "display_data"
    },
    {
     "data": {
      "text/html": [
       "<img src=\"data:image/png;base64,iVBORw0KGgoAAAANSUhEUgAACvAAAAGQCAYAAAByebX4AAAgAElEQVR4XuzdCZhcVZ3//+/tToKEJcAMhDUJ/JOqhLAMOCwzDIoCDoujIFZAAUFFiP5kEAiCIA4qBhECMsqwiCMCYelOBBVZxnEFWcQZf6BAqhpJ2EyAv2yRJenuur/nFOmk0+nqe29Vf27de+rdzzPPjPa937r39T3nM1WnT24Fxg8CCCCAAAIIIIAAAggggAACCCCAAAIIIIAAAggggAACCCCAAAIIIIAAAggggAACCCCAAAIIpCYQpPZKvBACCCCAAAIIIIAAAggggAACCCCAAAIIIIAAAggggAACCCCAAAIIIIAAAggggAACCCCAAAIIGBt4GQQIIIAAAggggAACCCCAAAIIIIAAAggggAACCCCAAAIIIIAAAggggAACCCCAAAIIIIAAAgikKMAG3hSxeSkEEEAAAQQQQAABBBBAAAEEEEAAAQQQQAABBBBAAAEEEEAAAQQQQAABBBBAAAEEEEAAAQTYwMsYQAABBBBAAAEEEEAAAQQQQAABBBBAAAEEEEAAAQQQQAABBBBAAAEEEEAAAQQQQAABBBBAIEUBNvCmiM1LIYAAAggggAACCCCAAAIIIIAAAggggAACCCCAAAIIIIAAAggggAACCCCAAAIIIIAAAgggwAZexgACCCCAAAIIIIAAAggggAACCCCAAAIIIIAAAggggAACCCCAAAIIIIAAAggggAACCCCAAAIpCrCBN0VsXgoBBBBAAAEEEEAAAQQQQAABBBBAAAEEEEAAAQQQQAABBBBAAAEEEEAAAQQQQAABBBBAAAE28DIGEEAAAQQQQAABBBBAAAEEEEAAAQQQQAABBBBAAAEEEEAAAQQQQAABBBBAAAEEEEAAAQQQSFGADbwpYvNSCCCAAAIIIIAAAggggAACCCCAAAIIIIAAAggggAACCCCAAAIIIIAAAggggAACCCCAAAIIsIGXMYAAAggggAACCCCAAAIIIIAAAggggAACCCCAAAIIIIAAAggggAACCCCAAAIIIIAAAggggECKAmzgTRGbl0IAAQQQQAABBBBAAAEEEEAAAQQQQAABBBBAAAEEEEAAAQQQQAABBBBAAAEEEEAAAQQQQIANvIwBBBBAAAEEEEAAAQQQQAABBBBAAAEEEEAAAQQQQAABBBBAAAEEEEAAAQQQQAABBBBAAAEEUhRgA2+K2LwUAggggAACCCCAAAIIIIAAAggggAACCCCAAAIIIIAAAggggAACCCCAAAIIIIAAAggggAACbOBlDCCAAAIIIIAAAggggAACCCCAAAIIIIAAAggggAACCCCAAAIIIIAAAggggAACCCCAAAIIIJCiABt4U8TmpRBAAAEEEEAAAQQQQAABBBBAAAEEEEAAAQQQQAABBBBAAAEEEEAAAQQQQAABBBBAAAEEEGADL2MAAQQQQAABBBBAAAEEEEAAAQQQQAABBBBAAAEEEEAAAQQQQAABBBBAAAEEEEAAAQQQQACBFAXYwJsiNi+FAAIIIIAAAggggAACCCCAAAIIIIAAAggggAACCCCAAAIIIIAAAggggAACCCCAAAIIIIAAG3gZAwgggAACCCCAAAIIIIAAAggggAACCCCAAAIIIIAAAggggAACCCCAAAIIIIAAAggggAACCKQowAbeFLF5KQQQQAABBBBAAAEEEEAAAQQQQAABBBBAAAEEEEAAAQQQQAABBBBAAAEEEEAAAQQQQAABBNjAyxhAAAEEEEAAAQQQQAABBBBAAAEEEEAAAQQQQAABBBBAAAEEEEAAAQQQQAABBBBAAAEEEEAgRQE28KaIzUshgAACCCCAAAIIIIAAAggggAACCCCAAAIIIIAAAggggAACCCCAAAIIIIAAAggggAACCCDABl7GAAIIIIAAAggggAACCCCAAAIIIIAAAggggAACCCCAAAIIIIAAAggggAACCCCAAAIIIIAAAikKsIE3RWxeCgEEEEAAAQQQQAABBBBAAAEEEEAAAQQQQAABBBBAAAEEEEAAAQQQQAABBBBAAAEEEEAAATbwMgYQQAABBBBAAAEEEEAAAQQQQAABBBBAAAEEEEAAAQQQQAABBBBAAAEEEEAAAQQQQAABBBBIUYANvCli81IIIIAAAggggAACCCCAAAIIIIAAAggggAACCCCAAAIIIIAAAggggAACCCCAAAIIIIAAAgiwgZcxgAACCCDQtgLFYrFarVY36enpeW0oQrFYvL2zs/PUxx57rCcO0LRp097d0dFxp5ktMjP3/1/DarX6Dz09PSvc+VOnTt2us7Pz8jAMC0EQ9JnZFeVy+fI4tesdUygUXuzr63vnk08++XScOtOnT//7arV6WRAEf2dmd5fL5Q8NnLfjjjtO7uvruzYIgt3M7Mlyubx7nJocgwAC+RIg99bk3vTp098ThuHXzWyDMAxDM/tJpVI5K18d5WoRQCBKgNxbk3tR71ejLPk9AghkX6DdMq9YLB5pZmeFYdjpuhMEwbXlcvmSgU4Vi8VPhmF4ZhAE7jP6z8vl8mfMrD/7neQKEUAgrkAb5t5hYRh+OQgCl2XjzOzWcrl8LrkXd8RwHAL5Fmi3zCsUCscFQXCZ+3uFe6sXhuFLlUplfzIv3+OYq0cAAQQQQAABBBBYV4ANvIwKBBBAAIG2FSgWi/3VanXT4TbwJkVZtSHi0nobXwuFwu/MbG6lUvmBqz1t2rTNe3p6Xkz6OoOPLxaLL/T29v59gg28W5vZ1tVqdbcgCA4evIF355133rS3t3dGGIYTzOxrbOBtpjOci0B2Bci9NRvZCoXCrh0dHa8uWrRoycyZM8f19vb+zMy+U6lUrstuB7kyBBBIKkDurbOBt+771aS2HI8AAtkTaLfMmzp16j+EYfinP/3pTy9MmzZt446Ojv8Jw/CTlUrl18VicfswDO8Nw/Dv3GfvQqHwwyAI7iqXy1dkr3NcEQIINCrQbrm36667bvDwww+/7rz222+/MUuXLv2NW28sl8s/JPcaHUWch0B+BNot81Zt4P3g4L9jDHRr+vTpU6rV6m94r5ef8cuVIoAAAggggAACCNQXYAMvowMBBBBAwGsB96/S3YZUMzs0DMPxYRh+paen50Z30+53YRieEwTBYWb2t2EYfrVSqVzrflcoFBYHQeAWhx6JA7RqA+83y+Wye4LtWj/FYnF/93SMSqXyTyPVmjFjxlbVavX3K1asmLJkyZK3Vl3j/DAMf12pVK6aPn36B1Y9LXJlGIZ3B0Hw8SQbeAdee6SFr6iNyHEsOAYBBForQO6t6z9S7g0cXSwWv2VmL5bL5a+0toO8OgIIJBUg9+Ll3kjvV5OaczwCCLROgMyrb18sFn8chmG3+wdZhUJhjpntUKlU3FN33ef/g83sC+Vy+V2t6x6vjAACjQiQe8OrrfqHC78KguDfFi1a9CNyr5HRxTkIZE+AzFvTE7eeZ2aHVSqVw4d2iszL3tjlihBAAAEEEEAAAQQaF2ADb+N2nIkAAgggkAOBVZt0v1KpVM5b9SSK3/X19e3mnlq7ajHstHK5/M3p06cXq9XqQ5VKZRMzqw7ewOsWg4Ig+Gid2/2ye8qF2xARBMGPgyB4wsx6zcx9dWftyT6FQuFkM9s/CII33d8NzWyxmc0pl8vuf6/1UygUrg+C4FflcvmaHXbYYeLYsWMffuONN7Z/xzvesWEQBI93dHTss2jRonKhUPhUEARX9vb2bu/upVAoXBIEwX51rvGkcrn80MDv2MCbg4HLJSLQhAC5V8OLnXvu4JkzZ27Z29v7+2q1eugTTzzxv03wcyoCCLRAgNyLl3sjvV9tQdt4SQQQaFCAzFs389x/M23atB3dZ+nOzs5dHn/88aXFYvHfzey5crl84arP5TPM7M5KpTKlQXpOQwCBFgmQe2vnnnv6eEdHx1VBEEwNw/CKSqVyujuC3GvRAOVlERhlATJvTeat2sB7cRAEz4Zh+HpHR8c3Fy1atIDMG+VBRzkEEEAAAQQQQACBlguwgbflLeACEEAAAQSUAm7Bq1qtTurp6Xl21R/tbg2CYGG5XL7B/a6vr29L93Wbq373l46Ojp0XLVr056RP4J05c+aG/f39waJFi5YXCoVtzOyOjo6Or7oFpWKxeKqZnWdme5XL5UWFQuEkMzuhUqnsMfTei8Wi+++udk/yLRQKXzSzv6lUKqdOmzbtX4Ig+FylUtl/1TkdxWLxjd7e3oLbwJvEkA28SbQ4FoH8CZB76/YsIvc2DoLgvzs6OuYvWrTosvx1nCtGAAFyL17ujfR+lVGEAAL5ESDz1u3VtGnTtg2C4OdmdlalUvmBO4KNbPkZ01wpAlEC5N7wQjNmzPibarXqMu+ccrl8L7kXNZL4PQL5ECDz1vRp5syZm73++utvuG8rLBaL083sv8Iw/HClUvktmZeP8cxVIoAAAggggAACCMQTYANvPCeOQgABBBDIqYBb8Orv75/8xBNPPONuoVAo3NrR0bFg0aJF81cthm3S09Pz2qrfvdjX1/fOVU+0XRwEwQfL5fIjq57Ae/QwBKGZ1Z7AO/R3xWLxLDPbqlwunzJt2rQjOjo6Ti6Xy7Un5G699dbjN9poo9fK5fJ6ZtY/9NxCofCbjo6Oc8Iw/H5/f//+TzzxxBNRG3hXPYH3PXWuMfaTKFd9tfKl5XJ595y2nMtGoO0FyD1z2Rwr99xmtt7e3rvN7PZKpXJB2w8eABDIqQC5Fz/3Brd48PvVnLaey0agLQXIvLUzb/r06VtXq9WfBUHwNfcPdQcGBV+r3JbTg5v2VIDcW/e93kCri8XimW6p0a0/knueTgBuq+0EyLwRM+9KMyuXy+VLyby2mxrcMAIIIIAAAggg4LUAG3i9bi83hwACSoEjjjhicmdn5/1hGC4ys6e7u7uPV74etRsTcAte7um35XL5K9OnT59SrVYfqlaru7sNvXE38MZ5Zff1648++ujzZhZOnz59o2q1eqeZXVOpVK5dtWH3kSAI3uWe7lssFkthGH6pUqnsPFztYrF4pJldFIbho5VK5WB3TLFY/NswDB/v7Ozc5/HHH68Ui8UTzOyq3t7e7Rt4Aq8bqx+sVCqHD3396dOn7xeGodvAu1uc++aY9hIg9/LRb3Jv3T4VCoV1cm/XXXfd4M033/yvVV+lfH4+ustVpilA5qWp3dxrkXvxcm+k96vNdYCzfREg9/LRSTJvTZ9mzJixldu8G4bhhZVK5fuDO1gsFrc3s3v6+vp2/9Of/vRioVC4LQiCu8vl8n/ko9NcpVqAzFMLj159cm+N5fTp04uLFi2qDKw/hmH4EzP7frlc/i65N3pjztdK5F4+OkvmrZV5W7u/p7j/Zocddpg4ZsyYezo6Ok5ctGjRL8m8fIxnrhIBBBBAAAEEEEAgngAbeOM5cRQCCCCwjoBb8HJPSe3u7j4RnuwKuAWvMAy/GgTBv4RhON5t5q1UKje7Ky4Wi/3VanXTgSfwFovFF3p7e/9+1RN4nwyC4DD3BN44d1csFv+PmX3azHrDMBwTBEFXuVz+6sC5hULhgCAILlr1n1/t7+//P0888cSjdWp3FgqFF83smEqlcsfAMe4pvB0dHRea2YowDO8KguCTA9cb5xpnzJhRWPXHzfWDIFjfzP5SrVbn9vT0XLnddtutP378ePcHgHFmNsHMXjCz68vl8jlxanNMewiQe/noM7m3pk8j5V6hUDjbzP4tCAKXxe5zURiGYTdP4s3HOE/jKsm8NJRH5zXIvXi5F/V+dXS6QZU8C5B7+egembemT8Vi8eowDD8SBEHPoPdzlw1s5i0Wi580sy+493lm9otyuew+s6/zLTj56DxXOdoCZN5oi+rqkXtr5d6XzMz9w/+VYRh2BkHQPXj9kdzTjUMfKpN7+egimbdW5n3NPYjEZZ6ZdYRheEWlUrlq4AgyLx9jmqtEAAEEEEAAAQQQiBZgA2+0EUcggAACwwqsWvC6x8wWuyehdnd33whV9gSGPmU3e1e47hVNnz7976vV6g2VSmV6Hq6Xa2wfAXIvH70m9/LRJ64y+wJkXvZ7NOiPdtVqtbrJwD/KysOV834vD11qv2sk9/LRc97r5aNPXGX2Bci87PeI93r56RFXmg8Bci8ffeK9Xj76xFUigAACCCCAAAIIIDCaAmzgHU1NaiGAQFsJnHTSSWNXrFjR6W769ddfv3vs2LGH3XjjjS+3FUIObnboU3azfsmFQuE7Znage7puuVz+Wdavl+trLwFyLx/9Jvfy0SeuMvsCZF72ezRwheRefnrFlWZbgNzLdn/IvHz0h6vMjwCZl59e8V4vP73iSrMtQO5luz+818tHf7hKBBBAAAEEEEAAAQQUAmzgVahSEwEE2k6gVCqdH4bhbQsWLPhd2908N4wAAm0pQO61Zdu5aQTaVoDMa9vWc+MItK0Aude2refGEWhLATKvLdvOTSPQ1gLkXlu3n5tHAAEEEEAAAQQQQACBjAmwgTdjDeFyEECgNQKlUukyM/tAEASTq9Xq3y1YsOCRgSsplUpTgyD4fhiGf2tmr3R2dh5/8803P37sscducP31179uZkGpVLpzzJgxx910003Pt+YOeFUEEEAgmQC5l8yLoxFAIN8CZF6++8fVI4BAcgFyL7kZZyCAQH4FyLz89o4rRwCBxgTIvcbcOAsBBBBAAAEEEEAAAQQQyKIAG3iz2BWuCQEEUhcolUr/NGbMmCf7+vruDcPwsCEbeH9mZtd2d3dff+SRRx5RrVbP7O7u3rNUKh0YBMFcM1tpZgu6urouTf3CeUEEEECgQQFyr0E4TkMAgVwKkHm5bBsXjQACTQiQe03gcSoCCOROgMzLXcu4YAQQaFKA3GsSkNMRQAABBBBAAAEEEEAAgQwJsIE3Q83gUhBAoPUCpVJpcRiGHxzYwFsqlTY3s56ZM2dudt5551XdFZZKpaXVanWfhQsXPpn0isMwdLm7tZktT3ouxyOAQNsIbGRmfw6CIEzjjsm9NJR5DQQQGEGAzGN4IIBAuwmQe+3Wce4XgfYWIPPau//cPQLtKEDutWPXuWcE2lcg1cxrX2buHAEEEEAAAQR8F2ADr+8d5v4QQCCRwNCNbEceeeTuYRjO7+rqmjFQqFQqPRiG4ZkLFiz4ZaLiZhaG4TZm9mzS8zgeAQTaTmDbIAieS+Ouyb00lHkNBBCIECDzGCIIINBuAuReu3Wc+0WgvQXIvPbuP3ePQDsKkHvt2HXuGYH2FUgt89qXmDtHAAEEEEAAAd8F2MDre4e5PwQQSCSQwka2jc3s1RdeeMGq1doDffkZRYEgCGzixIn2/PPPu83So1iZUk4AX/046OjosC222MK90IQgCF7Tv2LtqeJrPXlc8A8XyD1hI5mXQlxyT4trZmSenNi7FyDz9C3FWGtM7ml9fazOnNR2FV+tL5mn9fWxOnNS31WMtcbkntbXx+rMSW1X8dX6tiLztHdEdQQQQAABBBBAoHUCbOBtnT2vjAACGRRI4avkaxvZli1bxgZeQf/dgsxWW21lS5cuZQMvvgIBfUm36LXlllu6F2rZBt5SqbS5mfXMnDlzs/POO6/2Lw1KpdLSarW6z8KFC59MqhCGIbmXFC3B8eReAqwGDsW3AbQEp5B5CbA4tCbAnNQPBIy1xuSe1tfH6sxJbVfx1fqSeVpfH6szJ/VdxVhrTO5pfX2szpzUdhVfrW8rMk97R1RHAAEEEEAAAQRaJ8AG3tbZ88oIIJBBgaEbeN0llkqlnwdB8P2urq7vl0qlD5vZ57u7u/ds5PLZyNaIWvxzWJCJb9XIkfg2opbsnFYsepF7yXqUtaOZl9qO4Kv1JfO0vj5WZ07qu4qx1pjc0/r6WJ05qe0qvlpfMk/r62N15qS+qxhrjck9ra+P1ZmT2q7iq/VtReZp74jqCCCAAAIIIIBA6wTYwNs6e14ZAQQyJDBr1qwrzezQMAwnmtlfgiBY3tXVVXCXeNRRRxX6+/uvNbO/cU/PDcPw4wsWLHi0kctnA28javHPYUEmvlUjR+LbiFqyc9Jc9CL3kvUmq0czL7WdwVfrS+ZpfX2szpzUdxVjrTG5p/X1sTpzUttVfLW+ZJ7W18fqzEl9VzHWGpN7Wl8fqzMntV3FV+ubZuZp74TqCCCAAAIIIIBA6wXYwNv6HnAFCCDQRgJs4NU2mwUZfLUC+uo+LnqRe9pxQ+7hqxXQVifztL4+Vifz9F3FWGtM7ml9fazOnNR2FV+tL5mn9fWxOnNS31WMtcbkntbXx+rMSW1X8dX6+ph5WjGqI4AAAggggAAC9QXYwMvoQAABBFIUYCObFpsFGXy1AvrqPi56kXvacUPu4asV0FYn87S+PlYn8/RdxVhrTO5pfX2szpzUdhVfrS+Zp/X1sTpzUt9VjLXG5J7W18fqzEltV/HV+vqYeVoxqiOAAAIIIIAAAvUF2MDL6EAAAQRSFGAjmxabBRl8tQL66j4uepF72nFD7uGrFdBWJ/O0vj5WJ/P0XcVYa0zuaX19rM6c1HYVX60vmaf19bE6c1LfVYy1xuSe1tfH6sxJbVfx1fr6mHlaMaojgAACCCCAAAL1BdjAy+hAAAEEUhRgI5sWmwUZfLUC+uo+LnqRe9pxQ+7hqxXQVifztL4+Vifz9F3FWGtM7ml9fazOnNR2FV+tL5mn9fWxOnNS31WMtcbkntbXx+rMSW1X8dX6+ph5WjGqI4AAAggggAAC9QXYwMvoQAABBFIUYCObFpsFGXy1AvrqPi56kXvacUPu4asV0FYn87S+PlYn8/RdxVhrTO5pfX2szpzUdhVfrS+Zp/X1sTpzUt9VjLXG5J7W18fqzEltV/HV+vqYeVoxqiOAAAIIIIAAAvUF2MDL6EAAAQRSFGAjmxabBZn283355Zft0ksvteeee876+/vt/e9/v334wx9ODBGGoX3rW9+yBx980NzC04c+9CE7/PDDa3VWrlxp8+bNs56eHhsYY2eccYZNmDAh8etEneDjohe5F9X15n5P7jXnF3V21nzJvKiOtf73ZJ62B1mbk9q7bU31rBmTe60ZB0leldxLopX82KzNyeR3kO0zsujrU+7x+Tbb4z+LV5fFOZlFp2auKWvGPmWe6wu518zobM9zszYnfetCFn19yj0fM8+3OcD9IIAAAggggEB+BNjAm59ecaUIIOCBAH/c1DYxiwsy2jtOt3oWfb/2ta/ZVlttZZ/4xCfsrbfespNPPtnmzJljxWIxEc7dd99tP/3pT+3iiy+25cuX26c+9Sm78MILbfLkybZgwQL74x//aOedd16tpjtm4403thNPPDHRa8Q52MdFL3IvTucbPyaL87Lxu8nemVnzJfOyN0aGXhGZp+1R1uak9m5bUz1rxuRea8ZBklcl95JoJT82a3My+R1k+4ws+vqUe3y+zfb4z+LVZXFOZtGpmWvKmrFPmef6Qu41Mzrb89yszUnfupBFX59yz8fM820OcD8IIIAAAgggkB8BNvDmp1dcKQIIeCDAHze1Tczigoz2jpNXD597ysKeRy2YtpMF20xKVCDK995777VrrrnGxo4da3vssYfdcccddtVVV9mtt95qDz/8cO0JuePHj69tsN12221rr/3e977XjjnmGHvggQdqG3A/9rGP2QEHHBD7utzGXVdvxx13rJ3jnqLrrvOzn/1s7fX+8z//037/+99bX19f7TVPO+0023DDDdep/4UvfMHe97732Xve857a79x1u/tw9RcuXGi/+93v7Ktf/Wqt9ty5c22nnXZa/YTe2Bcb40AfF73IvRiNb+KQqHnZRGlvTlXlHpnX/BAh85o3bLcKZF50x5vJPFd9JGNyL9o/6ghyL0qI3w8VIPeix0QzuRflS+5F+490BJnXnF87nh01J9vRZLh7VuUemdf8CCP3mjdstwrkXnTHVZnnXpnci/Zvt/d6zYlwNgIIIIAAAggg0LgAG3gbt+NMBBBAILEAG9kSkyU6gQWvkbncYld17ulmK1eajRtnHWfPs2CbybGNR/J95ZVX7LjjjrPLL7+8tlH2rrvusosuushuvPFGe8c73mETJkyovc7Pf/5zc0+7dU+3dT9uA6/btHv88cfb0qVLbfbs2Xb11VfbxIkT7Stf+Yo9++yzw16f+5fqm2++ea3O+uuvX3vy7quvvmr/+q//apMmTbLzzz/f5s+fb2EY1jYIu5/rr7/eXnrpJTvllFPWqfnJT37STj/99NUbgX/4wx/a448/bmeddZatXLnSvv71r9tDDz1knZ2dNmPGDLvgggtiuyU5kIX+JFoc6wTIvdbkHpk3OvOPzBsdx3aqQuZpM2+k/79C7o3OTCP3RsexnaqQe9rc4zOu9jMumddOaTU690rmRTuq1vZ4rxdtH+cIci+OEscMFiD3eK+X579n+Jh5JBQCCCCAAAIIINAqATbwtkqe10UAgbYUYAOvtu0seI3sW/3lHRbOv3L1QcHRs61jv0NiN2Uk3/vuu88WLFhgl1xySa2e2zh70EEH2XXXXWd/+MMf7LbbbrM33njDqtWq/fWvf60d637cBt5bbrmlthnX/XzpS1+yfffd1w488MBY1/Xaa6/ZFVdcYT09Pbbpppva1ltvbe6PDl/+8pft05/+dO01x40bV6vlnsK75ZZbDrv5dqQNvL/5zW/sv//7v+2cc86pbZZ0m3fd67in8472j4+LXuTeaI+SteuRe63JPTJvdMY1mTc6ju1UhczTZp6rXs+Y3BudmUbujY5jO1Uh97S5x2dc7WdcMq+d0mp07pXMi3ZUre3xXi/aPs4R5F4cJY4ZLEDu8V4vz3/P8DHzSCgEEEAAAQQQQKBVAmzgbZU8r4sAAm0pwEY2bdtZ8BrZN3zuaavOPW3QE3gvsWCbSbGbkuSPm26j7sEHH1x7Cu+5555rV111VW3z7JNPPmmf+9zn7Ec/+lHtdd0G3ptvvtm22GKL2n92x77rXe+qbeB1T+B95pln1rk+d8XCw/cAACAASURBVB0DT+Ad+stLL73UNtlkE/v4xz9e28B7wgkn2Dvf+c61DnMbiE899dTaBhV3Te51vvCFL9j73vc+e8973lM71l3v2LFja5t0zz77bDvggANq1+p+HnjggdqThf/93/89tl3cA31c9CL34na/sePIvdbk3tA/bpJ5jY1fMq8xt3Y+i8zTZp6rHncDL7nX2Ewk9xpza+ezyD1t7vEZV/sZl8xr5/Rq7N7JvGg31doen3Gj7eMcQe7FUeKYwQLkHu/18vz3DB8zj4RCAAEEEEAAAQRaJcAG3lbJ87oIINCWAmxk07adBa9oX/dVe2HPoxZM2ynR5t2RNnS437mn3h5//PH27W9/27bddlu7++677Rvf+IZdc801NmfOHLvppptqG2LnzZtnv/71r9fawHvccceZ+59ly5bZ7Nmza5tnJ06cGH0zZuaewLvBBhtYZ2dn7Sm8biPud77zndrTeG+44Qb74x//WHsa73rrrWcrVqywpUuX2pQpU9apfdddd9Wesuuu2W3wPfHEE+3rX/967dhvfetbtSf5nnnmmbUnC1922WW1/+02AY/2j4+LXuTeaI+SteuRe9G+itwj86Ld4xxB5sVR4hj+uJlsDDSTeSO93yP3kvWh3tHk3ug4tlMV3utFd7uZ3BvJl9yLto86gsyLEuL3QwXIvHhjQpF7ZF48+6ijyL0oIX5P7iUfA4rM4+8Zyfsw3Bk+Zt7oyFAFAQQQQAABBBBILsAG3uRmnIEAAgg0LMBGtobpYp3IQn8spoYPivK99957axt2x40bZ7vvvrvdfvvtdsstt9j3vvc9c0/ymDBhgu2zzz7W1dW11gbeY4891u6//3576623apuAB550G+dCf/vb39Y22LoNvOPHj689dXfnnXeundrf32/XX3+93XPPPbX/7K7/Ix/5iO2///7rlHZPkXObjx988MHacUcccYQdfvjhteOWL19e23j81FNP1X43adIkO+2002zjjTeOc4mJjvFx0YvcSzQEEh8cNS8TF+SEtQRG8iXzmh8sZF7zhu1WgczTd5zc471e0lHGe72kYsmOJ/eSeSU9OsqX93tJRdc+nvd6zfm149lRc7IdTUb7nnmvx3u9pGOK93pJxZIdT+4l80p6dJQv7/WSivr/Xq85Ec5GAAEEEEAAAQQaF2ADb+N2nIkAAggkFmDBKzFZohOiFmQSFePgdQSifN98801bf/31a+cNLH5de+21I0q6zbo//vGPa0/R5ceMP3AyCpIKRM3LpPU4fm2BkXzJvOZHC5nXvGG7VSDz9B0n97TG5J7W18fq5J62q1G+vN9rzp/Ma86vHc+OmpPtaDLa98x7vdEWXbseuaf19bE6uaftapQv7/Wa8/cx85oT4WwEEEAAAQQQQKBxATbwNm7HmQgggEBiATbwJiZLdELUgkyiYhy8jkCU7/z58+0Xv/iFuafZug25p5xyik2dOnVESfc03B/96Eds4F2l5OOiF7mnDZOoeal9df+rj+RL5jXffzKvecN2q0Dm6TtO7mmNyT2tr4/VyT1tV6N8eb/XnD+Z15xfO54dNSfb0WS075n3eqMtunY9ck/r62N1ck/b1Shf3us15+9j5jUnwtkIIIAAAggggEDjAmzgbdyOMxFAAIHEAmxkS0yW6ISoBZlExTh4HQF89YPCx0Uvck87bpiX+GoFtNXJPK2vj9XJPH1XMdYak3taXx+rMye1XcVX60vmaX19rM6c1HcVY60xuaf19bE6c1LbVXy1vj5mnlaM6ggggAACCCCAQH0BNvAyOhBAAIEUBdjIpsVmQQZfrYC+uo+LXuSedtyQe/hqBbTVyTytr4/VyTx9VzHWGpN7Wl8fqzMntV3FV+tL5ml9fazOnNR3FWOtMbmn9fWxOnNS21V8tb4+Zp5WjOoIIIAAAggggEB9ATbwMjoQQACBFAXYyKbFZkEGX62AvrqPi17knnbckHv4agW01ck8ra+P1ck8fVcx1hqTe1pfH6szJ7VdxVfrS+ZpfX2szpzUdxVjrTG5p/X1sTpzUttVfLW+PmaeVozqCCCAAAIIIIBAfQE28DI6EEAAgRQF2MimxWZBBl+tgL66j4te5J523JB7+GoFtNXJPK2vj9XJPH1XMdYak3taXx+rMye1XcVX60vmaX19rM6c1HcVY60xuaf19bE6c1LbVXy1vj5mnlaM6ggggAACCCCAQH0BNvAyOhBAAIEUBdjIpsVmQQZfrYC+uo+LXuSedtyQe/hqBbTVyTytr4/VyTx9VzHWGpN7Wl8fqzMntV3FV+tL5ml9fazOnNR3FWOtMbmn9fWxOnNS21V8tb4+Zp5WjOoIIIAAAggggEB9ATbwMjoQQACBFAXYyKbFZkEGX62AvrqPi17knnbckHv4agW01ck8ra+P1ck8fVcx1hqTe1pfH6szJ7VdxVfrS+ZpfX2szpzUdxVjrTG5p/X1sTpzUttVfLW+PmaeVozqCCCAAAIIIIBAfQE28DI6EEAAgRQF2MimxWZBpj19f/WrX9l1111nYRiaGwNz5861iRMnroPxmc98xvr6+mr/vfvfS5Ysse9+97u2/fbbJ4J75ZVX7IILLrA///nPNm7cODvllFNsl112qdV47rnnbN68ebZ8+XLr7e21vffe22bPnh27vo+LXuRe7PY3dCC51xBb7JOy6EvmxW5fSw4k87TsWZyT2jtOv3oWjcm99MdBklck95JoJT82i3My+V1k94ys+vqSe3y+ze7Yz+qVZXVOZtWrkevKorEvmef6Qe41Mirb+5wszkmfOpJVX19yz8fM82n8cy8IIIAAAgggkC8BNvDmq19cLQII5FyAP25qG5jVBRntXadXPYu+PT099rWvfc0uueQS22yzzezNN9+0zs7O2sbakX4GFsncBt6kP9/4xjdqG4SPO+44K5fLdu6559pNN91Ue133f+++++52+OGH1zbwus27J510ku25556xXsbHRS9yL1brGz4oi/Oy4ZvJ4IlZ8yXzMjhIhlwSmaftUdbmpPZuW1M9a8bkXmvGQZJXJfeSaCU/NmtzMvkdZPuMLPr6lHt8vs32+M/i1WVxTmbRqZlrypqxT5nn+kLuNTM62/PcrM1J37qQRV+fcs/HzPNtDnA/CCCAAAIIIJAfATbw5qdXXCkCCHggwB83tU3M4oKM9o6TV3/qlRX22Atv2MwtxtukTdZLVCDK995777VrrrnGxo4da3vssYfdcccddtVVV9mtt95qDz/8sPX399v48eNtzpw5tu2229Ze+73vfa8dc8wx9sADD9hbb71lH/vYx+yAAw6IfV3uabu77rqrHXroobHPcQeeddZZtWs84ogjaue99NJL9q1vfcuef/55W7Fihe2zzz72iU98YtiahxxyiM2fP9823XTT2u/dk31POOGE2sbdL33pS1YoFGr35J7Ce/LJJ9sXv/hFmzp1aqzr83HRi9yL1fqGD4qalw0X9uhEVe6ReWTecNOEzNOGB5kX7dtM5rnqIxmTe+QeuRc9B0f7CHIvWrSZ3IvyJfeayz0+30aPX45YWyBqTuL1toAq98i85jLP9YbcY5YmFSD3osVUmedemdxrLvd8zLzoEckRCCCAAAIIIICARoANvBpXqiKAAALDCrCpQzswWPAa2dctds25a4mt7A9tXGdgFx80xSYn2MQ7ku8rr7xSeyLt5ZdfXtuce9ddd9lFF11kN954o73jHe+wCRMm1C7u5z//ud1999124YUX1v6z28DrNu0ef/zxtnTp0toTa6+++uraE26/8pWv2LPPPjvsTbmn7m6++eZ24okn2t57722PPPKIvfHGG7X/++Mf/3ht80m9nxdeeKF2rbfccottvPHGtcM+//nP1zbd7rLLLrWNxmeffba5jbrvfve71yrz2muvWalUqt3DwM+Xv/xl22uvveyggw6qbQB257rj/vrXv9qxxx5rH/3oR2MPfB8Xvci92O1v6EByrzW5R+aRefVGHpnXUJTFPonM02aeq17PmNwj98i92FE1qgeSe9rc4zOu1T67qj7j8vl2VOOgLYqRedFtVq3t8V6P93q814uef4ojyD3e6+X57xk+vtdTzHNqIoAAAggggAACcQTYwBtHiWMQQACBURJgU8coQdYpw4LXyL53Vl62Kx96fvVBs/eYaAcX3n6KbJyfkXzvu+8+W7BggV1yySW1UmEY1ja0XnfddfaHP/zBbrvtttoG22q1WtvY6o51P24Dr9tI6zbjuh/3BNt9993XDjzwwDiXZJ/85Cdrm33dJlq38facc86pnX/YYYfVPf/666+3xYsX117L/bgn/77//e+3HXbYoXbdA//dP//zP9c29Q7+ifrjpnvisNsU/JGPfMReffVV+9znPmef/exn7Z3vfGes+/Fx0Yvci9X6hg8i91qTe2Te23/cJPPWHX9kXsNxFutEMk+bea56PWNyj9yrN/rIvVjx1fBB5J429/iMG72Bt5n3e3y+bXjqt+2JZF5061Vre7zX470e7/Wi55/iCHKP93p5/nuGj+/1FPOcmggggAACCCCAQBwBNvDGUeIYBBBAYJQE+OPmKEHWKcOC18i+T7+ywk4f9ATeeQdNsUmj9ATeoQv9bqPuwQcfXHsK77nnnlvb5LXlllvak08+WdvU+qMf/ah2sW4D780332xbbLFF7T+7Y9/1rnfVNvC6J/A+88wz69yU6/PAE3jd027d8W4jmftxG4Ufe+yx2lNw6/0cffTRdtppp63eVPvmm2/aBz7wAbvzzjttzJgxa532P//zP3bllVfWNrO4p/G6c92TeefPn2+bbvr25udPf/rTtScB77bbbrXf3XDDDbbZZpvVfufOHTdunH3iE5+INfh9XPQi92K1vuGDyL3W5B6ZR+bVG3lkXsNxFutEMk+bea563A28vNfjvd7AaCT3YsVXwweRe9rcS7KBl9xLnnt8vm146rftiWRedOtVa3t8xuUzLp9xo+ef4ghyj/d6ef57ho/v9RTznJoIIIAAAggggEAcATbwxlHiGAQQQGCUBPjj5ihB1inDgle0r/uqvcdeeMNmbjE+0ebdkTZ0uN+5r9o7/vjj7dvf/rZtu+22dvfdd9s3vvENu+aaa2zOnDl200032dixY23evHn261//eq0NvMcdd5y5/1m2bJnNnj27ttnXPVU3zs/PfvYzc39k+OIXv1h7uu+//du/2S677GKzZs0a9nS3IddtKnabhgf/nHHGGbbTTjvVrsP9/OUvf6nVG3gy8OBjL7zwwtpmZHfsokWLak/ydffX2dlpJ5xwgn34wx+ubSh2G4NPPfXU2rW4jcpxfnxc9CL34nS+8WPIvWg7Re6ReWRevZFH5kXPyWaOIPOi9ZrJvJHe75F75B65Fz3/FEeQe9GqzeTeSL7kXvO5x+fb6PHLEWsLkHnxRoQi98i85jPPdY/cizeGOWqNALkXPRoUmcffM0bn7xk+Zl70iOQIBBBAAAEEEEBAI8AGXo0rVRFAAIFhBdjUoR0YLHi11vfee++tbdh1T5zdfffd7fbbb7dbbrnFvve979U22U6YMMH22Wcf6+rqWmsD77HHHmv333+/vfXWW7VNwHE3u7q7DcOwtuH3gQceqG2g3Xnnne3kk0+u/d/lctmuvfZau+CCC1bDnH/++bbddtut3qg78ItXX33VLr/8cnviiSdqT55bf/31a0/p3WGHHdZBffnll23u3Lm1DcduU/Ipp5xiu+66a+04d/5ll11Wu5fe3t7a/X7qU5+K3RgfF73Ivdjtb+hAcq8httgnjeRL5pF5ww0kMi/29GroQDKvIbZEJ5F7ZrzXSzRk3Pvxjc3sVffe2P0DOH5GV4DcG13PodWifHm/19z7PT7fasevj9Wj5qSP95z2PfFej/d6Sccc7/WSiiU7ntxL5pX06Chf3uvxXi/pmOJ4BBBAAAEEEEBAJcAGXpUsdRFAAIFhBFjw0g6LqAUZ7av7Xz3K1z1x1m18dT8Di19uA+1IP26z7o9//GPbYIMN/AeMcYf8gTMGEoesJRA1L+FqTmAkXzKvOVt3NpnXvGG7VSDz9B0n97TG5J7W18fq5J62q1G+vN9rzp/Ma86vHc+OmpPtaDLa98x7vdEWXbseuaf19bE6uaftapQv7/Wa8/cx85oT4WwEEEAAAQQQQKBxATbwNm7HmQgggEBiATbwJiZLdELUgkyiYhy8jkCU7/z58+0Xv/hF7clbbkOuezLt1KlTR5Tcf//9a0/jZQPv20w+LnqRe9owiZqX2lf3v/pIvmRe8/0n85o3bLcKZJ6+4+Se1pjc0/r6WJ3c03Y1ypf3e835k3nN+bXj2VFzsh1NRvueea832qJr1yP3tL4+Vif3tF2N8uW9XnP+PmZecyKcjQACCCCAAAIINC7ABt7G7TgTAQQQSCzARrbEZIlOiFqQSVSMg9cRwFc/KHxc9CL3tOOGeYmvVkBbnczT+vpYnczTdxVjrTG5p/X1sTpzUttVfLW+ZJ7W18fqzEl9VzHWGpN7Wl8fqzMntV3FV+vrY+ZpxaiOAAIIIIAAAgjUF2ADL6MDAQQQSFGAjWxabBZk8NUK6Kv7uOhF7mnHDbmHr1ZAW53M0/r6WJ3M03cVY60xuaf19bE6c1LbVXy1vmSe1tfH6sxJfVcx1hqTe1pfH6szJ7VdxVfr62PmacWojgACCCCAAAII1BdgAy+jAwEEEEhRgI1sWmwWZPDVCuir+7joRe5pxw25h69WQFudzNP6+lidzNN3FWOtMbmn9fWxOnNS21V8tb5kntbXx+rMSX1XMdYak3taXx+rMye1XcVX6+tj5mnFqI4AAggggAACCNQXYAMvowMBBBBIUYCNbFpsFmTw1Qroq/u46EXuaccNuYevVkBbnczT+vpYnczTdxVjrTG5p/X1sTpzUttVfLW+ZJ7W18fqzEl9VzHWGpN7Wl8fqzMntV3FV+vrY+ZpxaiOAAIIIIAAAgjUF2ADL6MDAQQQSFGAjWxabBZk8NUK6Kv7uOhF7mnHDbmHr1ZAW53M0/r6WJ3M03cVY60xuaf19bE6c1LbVXy1vmSe1tfH6sxJfVcx1hqTe1pfH6szJ7VdxVfr62PmacWojgACCCCAAAII1BdgAy+jAwEEEEhRgI1sWmwWZPDVCuir+7joRe5pxw25h69WQFudzNP6+lidzNN3FWOtMbmn9fWxOnNS21V8tb5kntbXx+rMSX1XMdYak3taXx+rMye1XcVX6+tj5mnFqI4AAggggAACCNQXYAMvowMBBBBIUYCNbFpsFmTw1Qroq/u46EXuaccNuYevVkBbnczT+vpYnczTdxVjrTG5p/X1sTpzUttVfLW+ZJ7W18fqzEl9VzHWGpN7Wl8fqzMntV3FV+vrY+ZpxaiOAAIIIIAAAgjUF2ADL6MDAQQQSFGAjWxabBZk8NUK6Kv7uOhF7mnHDbmHr1ZAW53M0/r6WJ3M03cVY60xuaf19bE6c1LbVXy1vmSe1tfH6sxJfVcx1hqTe1pfH6szJ7VdxVfr62PmacWojgACCCCAAAII1BdgAy+jAwEEEEhRgI1sWmwWZPDVCuir+7joRe5pxw25h69WQFudzNP6+lidzNN3FWOtMbmn9fWxOnNS21V8tb5kntbXx+rMSX1XMdYak3taXx+rMye1XcVX6+tj5mnFqI4AAggggAACCNQXYAMvowMBBBBIUYCNbFpsFmTw1Qroq/u46EXuaccNuYevVkBbnczT+vpYnczTdxVjrTG5p/X1sTpzUttVfLW+ZJ7W18fqzEl9VzHWGpN7Wl8fqzMntV3FV+vrY+ZpxaiOAAIIIIAAAgjUF2ADL6MDAQQQSFGAjWxabBZk8NUK6Kv7uOhF7mnHDbmHr1ZAW53M0/r6WJ3M03cVY60xuaf19bE6c1LbVXy1vmSe1tfH6sxJfVcx1hqTe1pfH6szJ7VdxVfr62PmacWojgACCCCAAAII1BdgAy+jAwEEEEhRgI1sWmwWZPDVCuir+7joRe5pxw25h69WQFudzNP6+lidzNN3FWOtMbmn9fWxOnNS21V8tb5kntbXx+rMSX1XMdYak3taXx+rMye1XcVX6+tj5mnFqI4AAggggAACCNQXYAMvowMBBBBIUYCNbFpsFmTw1Qroq/u46EXuaccNuYevVkBbnczT+vpYnczTdxVjrTG5p/X1sTpzUttVfLW+ZJ7W18fqzEl9VzHWGpN7Wl8fqzMntV3FV+vrY+ZpxaiOAAIIIIAAAgjUF2ADL6MDAQQQSFGAjWxabBZk8NUK6Kv7uOhF7mnHDbmHr1ZAW53M0/r6WJ3M03cVY60xuaf19bE6c1LbVXy1vmSe1tfH6sxJfVcx1hqTe1pfH6szJ7VdxVfr62PmacWojgACCCCAAAII1BdgAy+jAwEEEEhRgI1sWmwWZPDVCuir+7joRe5pxw25h69WQFudzNP6+lidzNN3FWOtMbmn9fWxOnNS21V8tb5kntbXx+rMSX1XMdYak3taXx+rMye1XcVX6+tj5mnFqI4AAggggAACCNQXYAMvowMBBBBIUYCNbFpsFmTw1Qroq/u46EXuaccNuYevVkBbnczT+vpYnczTdxVjrTG5p/X1sTpzUttVfLW+ZJ7W18fqzEl9VzHWGpN7Wl8fqzMntV3FV+vrY+ZpxaiOAAIIIIAAAgjUF2ADL6MDAQQQSFGAjWxabBZk8NUK6Kv7uOhF7mnHDbmHr1ZAW53M0/r6WJ3M03cVY60xuaf19bE6c1LbVXy1vmSe1tfH6sxJfVcx1hqTe1pfH6szJ7VdxVfr62PmacWojgACCCCAAAII1BdgAy+jAwEEEEhRgI1sWmwWZPDVCuir+7joRe5pxw25h69WQFudzNP6+lidzNN3FWOtMbmn9fWxOnNS21V8tb5kntbXx+rMSX1XMdYak3taXx+rMye1XcVX6+tj5mnFqI4AAggggAACCNQXYAMvowMBBBBIUYCNbFpsFmTw1Qroq/u46EXuaccNuYevVkBbnczT+vpYnczTdxVjrTG5p/X1sTpzUttVfLW+ZJ7W18fqzEl9VzHWGpN7Wl8fqzMntV3FV+vrY+ZpxaiOAAIIIIAAAgjUF2ADL6MDAQQQSFGAjWxabBZk8NUK6Kv7uOhF7mnHDbmHr1ZAW53M0/r6WJ3M03cVY60xuaf19bE6c1LbVXy1vmSe1tfH6sxJfVcx1hqTe1pfH6szJ7VdxVfr62PmacWojgACCCCAAAII1BdgAy+jAwEEEEhRgI1sWmwWZPDVCuir+7joRe5pxw25h69WQFudzNP6+lidzNN3FWOtMbmn9fWxOnNS21V8tb5kntbXx+rMSX1XMdYak3taXx+rMye1XcVX6+tj5mnFqI4AAggggAACCNQXYAMvowMBBBBIUYCNbFpsFmTw1Qroq/u46EXuaccNuYevVkBbnczT+vpYnczTdxVjrTG5p/X1sTpzUttVfLW+ZJ7W18fqzEl9VzHWGpN7Wl8fqzMntV3FV+vrY+ZpxaiOAAIIIIAAAgjUF2ADL6MDAQQQSFGAjWxabBZk8NUK6Kv7uOhF7mnHDbmHr1ZAW53M0/r6WJ3M03cVY60xuaf19bE6c1LbVXy1vmSe1tfH6sxJfVcx1hqTe1pfH6szJ7VdxVfr62PmacWojgACCCCAAAII1BdgAy+jAwEEEEhRgI1sWmwWZPDVCuir+7joRe5pxw25h69WQFudzNP6+lidzNN3FWOtMbmn9fWxOnNS21V8tb5kntbXx+rMSX1XMdYak3taXx+rMye1XcVX6+tj5mnFqI4AAggggAACCNQXYAMvowMBBBBIUYCNbFpsFmTw1Qroq/u46EXuaccNuYevVkBbnczT+vpYnczTdxVjrTG5p/X1sTpzUttVfLW+ZJ7W18fqzEl9VzHWGpN7Wl8fqzMntV3FV+vrY+ZpxaiOAAIIIIAAAgjUF2ADL6MDAQQQSFGAjWxabBZk8NUK6Kv7uOhF7mnHDbmHr1ZAW53M0/r6WJ3M03cVY60xuaf19bE6c1LbVXy1vmSe1tfH6sxJfVcx1hqTe1pfH6szJ7VdxVfr62PmacWojgACCCCAAAII1BdgAy+jAwEEEEhRgI1sWmwWZPDVCuir+7joRe5pxw25h69WQFudzNP6+lidzNN3FWOtMbmn9fWxOnNS21V8tb5kntbXx+rMSX1XMdYak3taXx+rMye1XcVX6+tj5mnFqI4AAggggAACCNQXYAMvowMBBBBIUYCNbFpsFmTw1Qroq/u46EXuaccNuYevVkBbnczT+vpYnczTdxVjrTG5p/X1sTpzUttVfLW+ZJ7W18fqzEl9VzHWGpN7Wl8fqzMntV3FV+vrY+ZpxaiOAAIIIIAAAgjUF2ADL6MDAQQQSFGAjWxabBZk8NUK6Kv7uOhF7mnHDbmHr1ZAW53M0/r6WJ3M03cVY60xuaf19bE6c1LbVXy1vmSe1tfH6sxJfVcx1hqTe1pfH6szJ7VdxVfr62PmacWojgACCCCAAAII1BdgAy+jAwEEEEhRgI1sWmwWZPDVCuir+7joRe5pxw25h69WQFudzNP6+lidzNN3FWOtMbmn9fWxOnNS21V8tb5kntbXx+rMSX1XMdYak3taXx+rMye1XcVX6+tj5mnFqI4AAggggAACCNQXYAMvowMBBBBIUYCNbFpsFmTw1Qroq/u46EXuaccNuYevVkBbnczT+vpYnczTdxVjrTG5p/X1sTpzUttVfLW+ZJ7W18fqzEl9VzHWGpN7Wl8fqzMntV3FV+vrY+ZpxaiOAAIIIIAAAgjUF2ADL6MDAQQQSFGAjWxabBZk8NUK6Kv7uOhF7mnHDbmHr1ZAW53M0/r6WJ3M03cVY60xuaf19bE6c1LbVXy1vmSe1tfH6sxJfVcx1hqTe1pfH6szJ7VdxVfr62PmacWojgACCCCAAAIIO2WNaQAAIABJREFU1BdgAy+jAwEEEEhRgI1sWmwWZPDVCuir+7joRe5pxw25h69WQFudzNP6+lidzNN3FWOtMbmn9fWxOnNS21V8tb5kntbXx+rMSX1XMdYak3taXx+rMye1XcVX6+tj5mnFqI4AAggggAACCNQXYAMvowMBBBBIUYCNbFpsFmTw1Qroq/u46EXuaccNuYevVkBbnczT+vpYnczTdxVjrTG5p/X1sTpzUttVfLW+ZJ7W18fqzEl9VzHWGpN7Wl8fqzMntV3FV+vrY+ZpxaiOAAIIIIAAAgjUF2ADL6MDAQQQSFGAjWxabBZk8NUK6Kv7uOhF7mnHDbmHr1ZAW53M0/r6WJ3M03cVY60xuaf19bE6c1LbVXy1vmSe1tfH6sxJfVcx1hqTe1pfH6szJ7VdxVfr62PmacWojgACCCCAAAII1BdgAy+jAwEEEEhRgI1sWmwWZPDVCuir+7joRe5pxw25h69WQFudzNP6+lidzNN3FWOtMbmn9fWxOnNS21V8tb5kntbXx+rMSX1XMdYak3taXx+rMye1XcVX6+tj5mnFqI4AAggggAACCNQXYAMvowMBBBBIUYCNbFpsFmTw1Qroq/u46EXuaccNuYevVkBbnczT+vpYnczTdxVjrTG5p/X1sTpzUttVfLW+ZJ7W18fqzEl9VzHWGpN7Wl8fqzMntV3FV+vrY+ZpxaiOAAIIIIAAAgjUF2ADL6MDAQQQSFGAjWxabBZk8NUK6Kv7uOhF7mnHDbmHr1ZAW53M0/r6WJ3M03cVY60xuaf19bE6c1LbVXy1vmSe1tfH6sxJfVcx1hqTe1pfH6szJ7VdxVfr62PmacWojgACCCCAAAII1BdgAy+jAwEEEEhRgI1sWmwWZPDVCuir+7joRe5pxw25h69WQFudzNP6+lidzNN3FWOtMbmn9fWxOnNS21V8tb5kntbXx+rMSX1XMdYak3taXx+rMye1XcVX6+tj5mnFqI4AAggggAACCNQXYAMvowMBBBBIUYCNbFpsFmTw1Qroq/u46EXuaccNuYevVkBbnczT+vpYnczTdxVjrTG5p/X1sTpzUttVfLW+ZJ7W18fqzEl9VzHWGpN7Wl8fqzMntV3FV+vrY+ZpxaiOAAIIIIAAAgjUF2ADL6MDAQQQSFGAjWxabBZk8NUK6Kv7uOhF7mnHDbmHr1ZAW53M0/r6WJ3M03cVY60xuaf19bE6c1LbVXy1vmSe1tfH6sxJfVcx1hqTe1pfH6szJ7VdxVfr62PmacWojgACCCCAAAII1BdgAy+jAwEEEEhRgI1sWmwWZPDVCuir+7joRe5pxw25h69WQFudzNP6+lidzNN3FWOtMbmn9fWxOnNS21V8tb5kntbXx+rMSX1XMdYak3taXx+rMye1XcVX6+tj5mnFqI4AAggggAACCNQXYAMvowMBBBBIUYCNbFpsFmTw1Qroq/u46EXuaccNuYevVkBbnczT+vpYnczTdxVjrTG5p/X1sTpzUttVfLW+ZJ7W18fqzEl9VzHWGpN7Wl8fqzMntV3FV+vrY+ZpxaiOAAIIIIAAAgjUF2ADL6MDAQQQSFGAjWxabBZk8NUK6Kv7uOhF7mnHDbmHr1ZAW53M0/r6WJ3M03cVY60xuaf19bE6c1LbVXy1vmSe1tfH6sxJfVcx1hrnJfdKpdLnzOzQ7u7uA6NEWNeLEmru98zJ5vyizsY3Sqi53+cl85q7S85GAAEEEEAAAQTSEWADbzrOvAoCCCBQE2DBSzsQWJDBVyugr+7johe5px035B6+WgFtdTJP6+tjdTJP31WMtcbkntbXx+rMSW1X8dX65iXz2MimHQdJqjMnk2g1dizGjbnFPSsPubfffvuN2Xzzzb9jZtt0d3e/L+reWNeLEmru98zJ5vyizsY3Sqi53+ch85q7Q85GAAEEEEAAAQTSE2ADb3rWvBICCCDABl7xGGBBRguMr9bXVfdx0YuFfu24YV7iqxXQVs9L5rGpQzsOklQn85JoNXYsxo25xT2L3IsrxXEDAsxJ7VjAV+ubh8xjI5t2DCStzpxMKpb8eIyTmyU5Iw+5VyqVPm5mz5rZGWzgTdJdzbHMSY0r76W1rgPV85B56UjwKggggAACCCCAQPMCbOBt3pAKCCDQ5gJs6sjOAGDBS9sLfLW+rnoeFr2SZJ67JzbwascN8xJfrYC2eh4yj00d2jGQtDqZl1Qs+fEYJzdLcga5l0SLY50Ac1I7DvDV+uYh89jIph0DSaszJ5OKJT8e4+RmSc7IQe4Fs2bNurGrq+sjpVLpp93d3QdG3R/relFCzf2eOdmcX9TZ+EYJNff7HGReczfI2QgggAACCCCAQIoCbOBNEZuXQgAB/wTY1JGtnrIgo+0HvlpfVz3ri15JM8/dEwv92nHDvMRXK6CtnvXMc3fPpg7tGEhancxLKpb8eIyTmyU5g9xLosWxToA5qR0H+Gp9c5B5bGTTDoHE1ZmTickSn4BxYrJEJ2Q994488sgjwjAc19XVdRMbeBO1VnYwc1JGWyuMr9Y365mnvXuqI4AAAggggAACoyvABt7R9aQaAgi0mQCbOrLVcBZktP3AV+vrqmd90Stp5rl7YgOvdtwwL/HVCmirZz3z3N96eDqRdgwkrU7mJRVLfjzGyc2SnEHuJdHiWCfAnNSOA3y1vlnPPDayafvfSHXmZCNqyc7BOJlX0qPTzL1SqXSZmX0gCILJ1Wr17xYsWPDIwPWWSqWpQRB8PwzDvzWzVzo7O4+/+eabH581a9bZZvbuMAyrZvbOIAjO6urq+s+R7pN1vaSjINnxzMlkXkmPxjepWLLj08y8ZFfG0QgggAACCCCAQP4E2MCbv55xxQggkB0BNnVkpxe1K2FBRtsQfLW+rnrGF70SZ567Jxb6teOGeYmvVkBbPeOZZ2zq0Pa/kepkXiNqyc7BOJlX0qPJvaRiHM+c1I4BfLW+aWYeG9m0vUyrOnNSL42x1jjl3PunMWPGPNnX13dvGIaHDdnA+zMzu7a7u/t697m2Wq2e2d3dvefguy+VSv/V3d39vigR1vWihJr7PXOyOb+os/GNEmru92lmXnNXytkIIIAAAggggED2BdjAm/0ecYUIIJBRATZ1ZK8xLMhoe4Kv1tdVz/KiVyOZ5+6JhX7tuGFe4qsV0FZPM/PY1KHtZVrVyTy9NMZaY3JP6+tjdeaktqv4an1Tzjw2smnbmUp15qSeGWOtcZq5N3AnpVJpcRiGHxzYwFsqlTY3s56ZM2dudt5557kn7VqpVFparVb3Wbhw4ZNJBQbW9Z5//nmrVmvl+BlFATcnt9xyS1u2bJlbQx3FypRyAvhqx4HLvIkTJ7oXmRAEwWvaV6M6AggggAACCCDgtwAbeP3uL3eHAAIxBdjUERMq44exCK1tEL5aX1c9rYX+tDLP3RMbeLXjhnmJr1ZAWz2tzHN3USqV2NShbWcq1ck8PTPGWmNyT+vrY3XmpLar+Gp908y8gTthI5u2p+rqbLRSC7OZTS3cis1sQ3PvyCOP3D0Mw/ldXV0zBmXjg2EYnrlgwYJfJjUYWNdLeh7HI4BAWwmwgbet2s3NIoAAAggggIBCgA28ClVqIoBA7gTY1JG7lg17wfzxTdtHfLW+rnpaf+BMK/PcPbGBVztumJf4agW01dPKvMF3kdamDvf0HJ5ONPrjh8wbfdOhFTHWGvucezyVTTN22MymcR2oiq/Wl41sWl+qI4BApgVS28yW1gZe3utpxhvvRTSuvNfTug5Ub8V7vXTujFdBAAEEEEAAAQTSF2ADb/rmvCICCGRYIK1NHSx4aQYBC14aVxa8tK6Dq6e96KXOPHdvfNWedvyQe/hqBbTV0848dzf8cVPbU3V1Mk8tzFPZ1MI+557ajvoIIJBrATay5bp96V087/X01hhrjbPwXq9UKm1uZj0zZ87c7Lzzzquu+hy8tFqt7rNw4cInkwrwD/OTiiU7nn9Amcwr6dH4JhVLdnwr/oFqsivkaAQQQAABBBBAID8CbODNT6+4UgQQSEEgrU0dKdwKL4EAAvkWSOUPnOrMcy3gq/byPRC5egRSEkgl89y9qHOPzEtpxPAyCORfwLvc4x+pagYlG600rgNV8dX6spFN6+tjdTZa6buKsda4FZvZhn7GXfW59+dBEHy/q6vr+6VS6cNm9vnu7u49G7l7NvA2ohb/HOZkfKtGjsS3EbX457Qi8+JfHUcigAACCCCAAAL5EmADb776xdUigIBYIK1NHfxxU9NI/vimceWPm1rXwdXT/gOnOvPcvfEEXu34Iffw1Qpoq6edee5u1E8eJ/O0Y4bM0/q66hhrjX3OvWXLllm1WnvIGz+jKMCmg1HEHKYUvlrfVmzqYCObtqfq6sxJtfDb7/W22morW7p0qVuv0b9gm71Cmrk3a9asK83s0DAMJ5rZX4IgWN7V1VVw5EcddVShv7//WjP7GzN7NQzDjy9YsODRRtrBBt5G1OKfw5yMb9XIkfg2ohb/nDQzL/5VcSQCCCCAAAIIIJBPATbw5rNvXDUCCIgE0trUwR83NQ1kQUbjOlAVX62vq572opc689w9sdCvHTfMS3y1AtrqaWeeuxs2dWh7qq5O5qmF2dShFib31ML+1Sf3tD3FV+ubZuaxkU3by7SqMyf10hhrjdPMPe2drKnOup5WmjmJr1ZAW93HzNOKUR0BBBBAAAEEEKgvwAZeRgcCCCAwSIBNHfkeDix4afuHr9bXVU970Uudee6eWOjXjhvmJb5aAW31NDOPTR3aXqZVnczTS2OsNSb3tL4+VmdOaruKr9Y3zczT3sma6ny+1UozJ7W+rjrGWmNyT+vrY3XmpLar+Gp9fcw8rRjVEUAAAQQQQACB+gJs4GV0IIAAAmbGpg4/hgELMto+4qv1ddXTWvRKK/PcPfEHTu24YV7iqxXQVk8r87R3sXZ1Mk+rTeZpfV11jLXG5J7W18fqzEltV/HV+pJ5Wl8fqzMn9V3FWGtM7ml9fazOnNR2FV+tr4+ZpxWjOgIIIIAAAgggUF+ADbyMDgQQQCBFATZ1aLFZkMFXK6Cv7uOiF7mnHTfkHr5aAW11Mk/r62N1Mk/fVYy1xuSe1tfH6sxJbVfx1fqSeVpfH6szJ/VdxVhrTO5pfX2szpzUdhVfra+PmacVozoCCCCAAAIIIFBfgA28jA4EEEAgRQE2smmxWZDBVyugr+7johe5px035B6+WgFtdTJP6+tjdTJP31WMtcbkntbXx+rMSW1X8dX6knlaXx+rMyf1XcVYa0zuaX19rM6c1HYVX62vj5mnFaM6AggggAACCCBQX4ANvIwOBBBAIEUBNrJpsVmQwVcroK/u46IXuacdN+QevloBbXUyT+vrY3UyT99VjLXG5J7W18fqzEltV/HV+pJ5Wl8fqzMn9V3FWGtM7ml9fazOnNR2FV+tr4+ZpxWjOgIIIIAAAgggUF+ADbyMDgQQQCBFATayabFZkMFXK6Cv7uOiF7mnHTfkHr5aAW11Mk/r62N1Mk/fVYy1xuSe1tfH6sxJbVfx1fqSeVpfH6szJ/VdxVhrTO5pfX2szpzUdhVfra+PmacVozoCCCCAAAIIIFBfgA28jA4EEEAgRQE2smmxWZDBVyugr+7johe5px035B6+WgFtdTJP6+tjdTJP31WMtcbkntbXx+rMSW1X8dX6knlaXx+rMyf1XcVYa0zuaX19rM6c1HYVX62vj5mnFaM6AggggAACCCBQX4ANvIwOBBBAIEUBNrJpsVmQwVcroK/u46IXuacdN+QevloBbXUyT+vrY3UyT99VjLXG5J7W18fqzEltV/HV+pJ5Wl8fqzMn9V3FWGtM7ml9fazOnNR2FV+tr4+ZpxWjOgIIIIAAAgggUF+ADbyMDgQQQCBFATayabFZkMFXK6Cv7uOiF7mnHTfkHr5aAW11Mk/r62N1Mk/fVYy1xuSe1tfH6sxJbVfx1fqSeVpfH6szJ/VdxVhrTO5pfX2szpzUdhVfra+PmacVozoCCCCAAAIIIFBfgA28jA4EEEAgRQE2smmxWZDBVyugr+7johe5px035B6+WgFtdTJP6+tjdTJP31WMtcbkntbXx+p5nJNPvbLCHnvhDZu5xXibtMl6mW7LcL6L73vQHlv0lM2csb1N+Yc9Mn39Wb84Mi/rHcre9eUx87KnOPIVYaztGLmn9fWxOnNS21V8tb4+Zp5WjOoIIIAAAggggEB9ATbwMjoQQACBFAXYyKbFZkEGX62AvrqPi17knnbckHv4agW01ck8ra+P1ck8fVcx1hqTe1pfH6vnbU66zbtz7lpiK/tDG9cZ2MUHTbHJGd7EO9TXbd79/BPr28rOcTauf6V9Y+qbtv0/7uXj0Erlnsi8VJi9epG8ZV4e8THWdo3c0/r6WJ05qe0qvlpfHzNPK0Z1BBBAAAEEEECgvgAbeBkdCCCAQIoCbGTTYrMgg69WQF/dx0Uvck87bsg9fLUC2upkntbXx+pknr6rGGuNyT2tr4/V8zYn76y8bFc+9PzqVszeY6IdXNg0s60Z6vuT/+yyq9fbZfX1nrjiETv0E7Mye/1ZvzAyL+sdyt715S3zlIJJnmYePveUhT2PWjBtJwu2mTTiZWGs7JoZuaf19bE6c1LbVXy1vj5mnlaM6ggggAACCCCAQH0BNvAyOhBAAIEUBdjIpsVmQQZfrYC+uo+LXuSedtyQe/hqBbTVyTytr4/VyTx9VzHWGpN7Wl8fq+dtTj79ygo7fdATeOcdNMUmteAJvHE3vg31XXL/Q3ZGz3qrn8B70bQVNuUf9vBxaKVyT2ReKsxevUjeMk+Fn+Rp5m7zbnXu6WYrV5qNG2cdZ8+zYJvJdS8NY1XX3q5L7ml9fazOnNR2FV+tr4+ZpxWjOgIIIIAAAgggUF+ADbyMDgQQQCBFATayabFZkMFXK6Cv7uOiF7mnHTfkHr5aAW11Mk/r62N1Mk/fVYy1xuSe1tfH6nmck3E3z6r6lWTj21BftxFu8bwL7PGNJtmOy5+yKaefPeJGONU9+FKXzPOlk+ndRx4zT6GT5Gnm1V/eYeH8K1dfRnD0bOvY75C6l4WxomNrapJ7Wl8fqzMntV3FV+vrY+ZpxaiOAAIIIIAAAgjUF2ADL6MDAQRyK1Aqlf4nCIIr11tvvRuvv/761/NwI2xk03aJBRl8tQL66lGLXuSevgd5ewVyT9sxfLW+ZJ7W18fqzEl9VzHWGpN7Wl8fqzMnk3c1yca3ob5JN8Ilv7r2OiMq85xG3j7jsq6nHcNk3tu+SZ5mHj73tFXnnjboCbyXWLDNpLqNwlg7hqNyL2+Z57TIPe2YYU7iqxXQVo/KPO2rUx0BBBBAAAEEEPBLgA28fvWTu0GgrQRmzZo1JwzDT5nZlmZ2YxiGVyxYsOCRLCOw4KXtDgte+GoF9NWjFr3IPX0P8vYK5J62Y/hqfck8ra+P1ZmT+q5irDUm97S+PlZnTibvapKNb+s+gTfZRrjkV9deZ0RlntPI22dc1vW0Y5jMW+Ob5Gnm7unhYc+jFkzbacTNu646xtoxHJV7ecs8p0XuaccMcxJfrYC2elTmaV+d6ggggAACCCCAgF8CbOD1q5/cDQJtKVAqld5rZiea2eFBEPzezK4YP378Lddee+1bWQNhwUvbERa88NUK6KvHXfQi9/S9yMsrkHvaTuGr9SXztL4+VmdO6ruKsdaY3NP6+li9XeZknI1qS8qL7bGeZ21mYTubXJgyYrvjHjucb5KNcD6OudG8p7iZ514zL59xWdcbzRGybi3fMi9Oto2GaJLc8s14NPxGs0bc3MtL5jkbcm80R4j/uafVSl6dzEtuluSMuJmXpCbHIoAAAggggAAC7SrABt527Tz3jYCHAqVSyX0/2A+CINg9DMNXgiC4MgzDud3d3X/Nyu2y4KXtRB4WZEZr8T7J4vxoqefBd7TutVV1ki56kXut6lR2Xpd5qe0FvlpfMk/r62P1rM3JZt/XteL9XNS4yJpx1PXm7ffkXt461vrrbYc56bJ0zl1LbGV/aOM6A7v4oCk2eZP11sJ3G3LPeHC5rewcZ+P6V9pFe21kU4rbD9sgl63VuacP+jr5eRZsM3nYY9vBt5WjOGnmuWvN+mdc1vW0I8qnORmVbc2+jxzoRC3zzj/NrK/XbMxY6/jiJXUzz53jk7F2NDZWPWnuZT3znAK519hYiHsWczKuVGPH4duYW9yzkmZe3LochwACCCCAAAIItKMAG3jbsevcMwKeCRx11FEz+vv7TzKzY83sz+4JvGb2pJl9PgiCaldX1wFZuWUWvLSdyPqCTNTi/VCdeov5SRfno9Tj/tGgnm8WN59E3XNWfx930Yvcy2oH07+urOde+iKj+4r4jq7n0GpkntbXx+pZmpNJ39cN7UeSDWZp9jJLxmned1qvRe6lJe3P67TDnLyz8rJd+dDzq5s2e4+JdnBh07WaeMft99hVr26++r87acKLdsj79x220dVf3mHh/CtX/y44erZ17HfIsMe2g28rZ0PczHPXmJfPuKzraUeUT3NypGxr9n3k4C5Ub7vBwp90rcm8Q2dZx2HH1G2UT8ba0dhY9bi5l5fMcwrkXmNjIe5ZzMm4Uo0dh29jbnHPipt5cetxHAIIIIAAAggg0M4CbOBt5+5z7wjkXKBUKrkNuyea2d+b2a1hGF6xYMGCewZu61/+5V/Gr7/++i92dXVtkJVbZcFL24msL8jUW7wf7us9R1rMT7o4P5J6kj8a1Pt60bhPN9J234/qUYte5J4ffR7Nu8h67o3mvbaiFr5adTJP6+tj9SzNyTgbzkbqQZINZmn2MkvGad53Wq9F7qUl7c/rtMOcfPqVFXb6oCfwzjtoik0a8gTe+371O7vwmQ3coyPdTiI7c7vX7R/f7ZaC1v0Jn3vaqnNPG/QEXvc0SveFTev+tINvK2dDVOa5a8vbZ1zW9bQjyqc5OVK2Nfs+cnAX+m+7wWzQBl47dJZ1soFXO1BHqB6Ve3nLPHer5J52OPmUe1qpxqrj25hb3LOiMi9uHY5DAAEEEEAAAQQQMGMDL6MAAQRyK1AqlRab2dX9/f3f/cEPfvDCcDcya9as2V1dXWsevdLiu2XBS9uArC/IDLd4X33+z8N+FehIi/lucf6pX/7KHp+wve34ymKb9J53j7g4P5J6kj8aDOeb1c0n2pGmqx616EXu6ezzWjnruZdX14HrxlfbQTJP6+tj9SzNyTgbzkbqQZINZmn2MkvGad53Wq9F7qUl7c/rtMucjPpWmCRP4HXdj/stMe3i26oZEZV57rry9hmXdT3taPJtTtbLtmbfRw7uQu095fmfM+vrMxszxjq++M26/2jBneebsXZEJq8elXt5y7za/08Nw43N7NVly5ZZtVpNjsIZIwowJ7UDBF+tb1TmaV+d6ggggAACCCCAgF8CbOD1q5/cDQJtJXDUUUdtd/PNNz8z9KY/9KEPbfuDH/zg2SxisOCl7UoeFmSGLt7X+0PkSIv5S8pLbM5vl1tvx1gbW+21i/fcyKYUpzSE+1Rlsc15YLmt7Bxn4/pX2sV7b2STC9sPW2v4J/DGf7pRQxfYZidFLXqRe202IGLcbtZyL2rzxUi3FHejRQyWUTska76jdmMZKUTmZaQRObqMrM3J4TJvuP+uXr6RezkafKN0qeTeKEG2UZms5V6r6JM8gTfJNeKbRCv5sVGZ5yrm7TMu63rJx0GSM9ppTjbz2Xmo6XDf7FXPvd63a4U9j1owbacRN/8m6WW7HhuVe3nLPNdHck87mtsp97SSw1fHV6selXnaV6c6AggggAACCCDglwAbeP3qJ3eDQFsJzJo167Wuri73L8DX+imVSi91d3dvlkUMFry0XcnjgsxTlSU254HXBm2g3dgmF97ejFtvMf+Ge56w7qf7VmOWJo2xY/ad2hCue4LukttuXf0038mHH24d+x0ybK16vlncfNIQRgZOilr0Ivcy0KSMXUKWcs9l1pxBX3988UFTbPKQrz+ux+dypDr39EFfdTzPgm0mt1w7S74txxBcAJknQPW8ZNbn5HA5OOn1ZZnMt3pDJevGeR/i5F7eO5j+9TMn3zZP+gTeuJ3CN65UY8dFZZ6rmrfPuKzrNTYW4p7FnIwrtea4pJ/Dhxpn9bN4colsnBGVe3nLPKdK7mnHFrmHr1ZAWz0q87SvTnUEEEAAAQQQQMAvATbw+tVP7gaBthIolUrLu7u7Nxp80+edd17Ho48++v+zgbethsLqm83rgleSJ2W4m73hh/dZ91/X7FEvbfiSHfPBf2yo6Um+vjmvvg3BtOikqEUvcq9Fjcnwy2ZpXt5ZedmufOj51Vqz95hoBxc2jaXn/jFBOP/KNXl+9Oy6/5ggVsFROihLvqN0S5kqQ+Zlqh25uJisz8nhcvCf/3x/JvOtXsOzbpyLgTrCRZJ7ee9g+tfPnHzbfKR/+NpMV/BtRi/63KjMcxXy9hmXjWzRfW/miHaak0nXAuu5Jv0cPtQ4q5/FmxlHrTw3KvfylnnOktzTjqh2yj2t5PDV8dWqR2We9tWpjgACCCCAAAII+CXABl6/+sndINAWAqVS6bpVN3qkmd0y+KaDIPj/3H/u6uraJ4sYLHhpu5KHBZkkX5FX71j3x8vTHlhufZ1jbUx/r12y90arn9o7IJzkqbhxj82Dr3aE6avXW/Qi9/T2eX2FLM3Lp19ZYacPegLvvIOm2KTYT+B92qpzTxv0BN5LMvHVnVnyzesYHem6yTwfu6q9p1bPyaj3cbUcvHOxrayajeswm3fw9rbd689nMt/qdarVxtoR1Prq5F7re5C3K/BpTkZlaFRvkmx24zNulGY6vx9pU0deP+OyrqcdOz5lnpOql3suz+b89q/W2zHWxlZ77eI9N7Qpxe3Xwq3+7/0W/u5eC/Z4l3Xstldd+KSfw9d9Am82P4trR5quOu/1dLa+Vvb2XYh+AAAgAElEQVQt97LWJ3y1HWEDr9aX6ggggAACCCDQXgJs4G2vfnO3CHghUCqVvrfqRo42s/mDbqpqZsuq1erVCxcufCqLN8tCv7YrWV+QSfK1diMd6/4YufiSr9vjG25nO/71GZty2llrfdW86uvvsu6rHV3pVB9hoZ/cS6cFuXuVrM3LZjZmxN1okWaTsuab5r2n8VpkXhrKfr1GK+eky7fT7lxsfVWzMR1mlxy8vU16fZmFPY9aMG2n2j86qL1H++aF9vj4bW3H15+1KaeeWXuPlsV8qzcyWmns12gd/m7IvXbo8ujeYx7n5HDvB2ufbwf9A4eLD97eJg/6h15xNufGfZ9Z+zx8/qlmfX1mY8ZYxxcvXevz8uAO5dF3dEeYtlrEBt5cfsZlXU87ZnyakyOt613/w/tswaBv1vrwhi/ZsYO+Wau2efeKC1ZjB5/+gnXs/g918e9/Zrn95qnXbN/JG9te2631ZXXrnDOccdzNwtru+1Gd93p+9DHNu/Ap99J0i/ta+MaVauw4NvA25sZZCCCAAAIIIIDAcAJs4GVcIIBAbgVKpdIXuru716xm5uBOWOjXNinrCzJJvtZupGOjvt4u6veNdiHrvo3eV5bOi1r0Ivey1K1sXAvzUtsHfLW+ZJ7W18fqrZyT8//vi9b16F9Ws5YmjbGP3HzWoCeHz6tt5g3nX7n6mODo2dax3yG5akUrjXMF1eDFknsNwrXxaXmbk/U2rN3x2z/ZVT29qzt50rSxdsietS9QMrd594wHl9vKznE2rn+lXbTXRus8idLVdU84762ajV31hPPBG4AHD5H+224w+0nXmv/q0FnWedgxw46ivPnmbSpEZZ67n7x9xmVdTzsKfZqTI63r3XDPE9b9dN9a7yuP2Xfq6v/cf/VFZg/dswZ7j32t88QzhsVP8rAAV2DdJ/A+ZdW5p6/1ntb9AzR+GhOIyr28ZZ5TIPcaGwtxz/Ip9+Lec5rH4avVjso87atTHQEEEEAAAQQQ8EuADbx+9ZO7QQCBjAuw4KVtUNYXZJJ8rd1Ix4bPPW2Lv/n1QU93c0/gnbQa1/3+7ScO9ZqNGbvqiUNrft9oF7Lu2+h9Zek8Hxe9yD3tCMv6vIz7pLQopVY9vTLrvlFuWf89mZf1DmXv+lo5J+c//KJ1/XHQBt4NX7KP3P711Uhus657Em917mmDNkBcstZ7tOyJrntFrTTOg0+z10juNSvYfufnbU7W27C25Kc/tdOXbml9nWNtTH+vzdtqmU058MBaQ++4/R676tXNVzf3pAkv2iHv33etZkdtdht8cPW2+Rb+5JY1+XzokdZxmPsCp3iZ16r3nT6ObjLPx65q7ylvmTeSxkjreu53p96x2PpCszGB2aWHbG+TBj2VvPr7By38j6+tybHPnGMdu+017MsleViAKzDUWPUQAO1IyW51ci+7vcnqlfmUe1k0xlfbFR8zTytGdQQQQAABBBBAoL4AG3gZHQggkCuBWbNmPd7V1TXDXfSsWbOeCcMwHO4Guru7m9+tKJBhI5sAdVDJPCzI1Ps60cdeeMNmbjF+rQX7ehvfor5+tPaVoV891ay/z6xzjHWcW/8rQ5N0JA++Se4ni8cOt+hF7mWxU9m5plbPy5E26CZ9ElA91SRfgzzanWm172jfT9bqkXlZ60j2r6eVc9JttDjtziXWWw1tbEdg8965nm172Zx1NuvmfeNXK42zPwKbv0Jyr3nDdquQtzlZb8PakvISm/Pb5dbbMdbGVnvt4j3dU3an1Nr5VGWJzXngtdVP4L14741tcuHt3w383PDD+6x70NfNlzZ8yY4Z9HXzg49N8g9aeRKldkbV29SR58+4rOtpx0zeMi9KI+rz8nBrgQM1n7zzLnu88oztWJxs2x/0vrovleRhAa7Iurn3dO7/AVpUH9L8Pe/10tT247V8y72sdQVfbUfYwKv1pToCCCCAAAIItJcAG3jbq9/cLQK5FyiVSh/t7u6+0d3IrFmzjqt3Q11dXd/P4s2y0K/tSh4XZBrZ4Bb1dI3qbTdYOOgrQ4NDZ1lHna8MTdKRPPomub8sHDvcohe5l4XOZPcaWjkvo/IrKqviqib5GuS4NeMe10rfuNeY5+PIvDx3rzXX3uo5OXQTRt436w7XxVYbt2Zkpfeq5F561r68Uh7n5HAb1qLeFy4pL7bHep61mYXt1tm863rpNvme9sDy1U/wvWTvjYY9bqDvcfOZJ1FqZ0q9TR15/ozLup52zOQx8xQiLhPPeHD56n/YcNFe7h89bF/3pZJ8881wxnEzU3GvvtXkvZ5vHdXfD7mnNcZX68sGXq0v1RFAAAEEEECgvQTYwNte/eZuEUCgxQIs9GsbkMcFmZH+kFlvAT7q6RqqzW559NWOuNGv7uOiF7k3+uNkcMVWzsuojRj1sirJHxfdvSb5GuTR1m6l72jfSxbrkXlZ7Eq2r4k5qe8Pxlpjck/r62N1X+Zk1GfYOL2L2uQbp8bQY3gSZSNq8c8h8+JbceTbAr5kXrP9vOP2e+yqVzdfXeakCS/aIe/ft9myGI+K4MhFyL0UkD17CXJP21B8tb4+Zp5WjOoIIIAAAggggEB9ATbwMjoQQCC3AkceeeQ+fX19zy5cuPCpD33oQ1t0dnbOC4Kgt7e394xbb731L1m8MTayabuSxwWZkTa4zblria3sD21cZ2AXHzTFJm+y3mrAkTbAVf/3AQuvmLv62ODTZ1vH7ns3jZ9H36ZvOuUCUYte5F7KDcnBy7VyXsbZiDE0q6Ke2jscefX3D1j4H4My7TNnW8duzWdanPa20jfO9eX9GDIv7x1M//qZk3pzjLXG5J7W18fqPs3JpP+IK41+8iRKrXJU5rlXz9tnXNb1tGPGp8xrRso9dXzOA6+tfgLvxXtvPOJTx5P8A4fhjJOc38x9tcO5UbmXt8xzPSP3tCOX3MNXK6CtHpV52lenOgIIIIAAAggg4JcAG3j96id3g0BbCZRKpUeq1eoRCxcu7CmVSt81M/ddYivM7OXu7u6PZhGDBS9tV/Kw4DXcHy0b+YrRkb7ervrLOyycf+Vq7ODo2dax3yFN4+fBt+mbbHGBqEUvcq/FDcrgy7d6XibdiBH11N7hiFWZFqedrfaNc415PobMy3P3WnPtzEm9O8ZaY3JP6+tjdeaktqv4an2jMs+9et4+47Kupx0zzMk1vvf93z/Zb/70ku079W9s7113qAvvNt+e8eDy1Zt9L9prI5tSdEvkw/8MNU56vnYE5L96VO7lLfNcR8g97bgk9/DVCmirR2We9tWpjgACCCCAAAII+CXABl6/+sndINBWAqVS6ZXu7u5NVi34L+vv799t/Pjxr69cubKnq6trYhYxWPDSdiXrC15Jnjw50pMt3ebd6tzTzVauNBs3zjrOnmf/j703j4+quv//X3eWgBB2ARFCEoQggRbRsi/aBdlsReUGWsBaa4Gq/VUSNv34+ZR+a5ElQduqBbRWBVrJRMUFUFGrLGFxQS2bgCRhDSAIhM3MzL2/xx3Incnkztx7Z+bcLe/5h8dkzvp8n/Pi3HPf53249pkyXPHwAQhz8iN+Xwiufcek4Vudb9IdtEABaptepHsWMJLFmmC3eaklam80YlaapsWUduOrpU9WSkOaZyVr2KMtNCfZ24kYs2VMuseWrxNLpznJ1qrEly1fNc27sp9nq7092tdjO2ZoTl7mq2f/cLXvHSyuDu8JTk6rwEh+WExDRTNe/dZ6LD7TWk4/udkJjLxtMFtDO7h0Nd2jfT0HGz/BrtUX3TMr0nd94Zvg8Es6m5rmJV0BFUAEiAARIAJEgAgQgXpEgBx465GxqatEwGkEeJ4/2bJly2tOnTrVBcCrPp/vegAcz/NnfT5fEyv2lzb62VrF6hsysSJPxopgGevvWqJRxovQm6gVrM430X5ZKZ/aphfpnpWsZY222HFe6o3aK5FmoWlaLGhHvlr6ZZU0pHlWsYR92kFzkr2tiDFbxqR7bPk6sXSak2ytSnzZ8lXTPKl2uz3j0r4e2zFDc/IyXz0315S9WoLp57rC7/bCG/RjQfpXyL5zTExDRTOu2FOOaZvPyhF8C/s1RWZOFltDO7h0Nd2zm+aF9mNEsSmAM5WVlRAEwcHWM6dr9UH3zIz0XR/4mjNyL9eqpnlmto3qJgJEgAgQASJABIiA3QiQA6/dLEbtJQJEQCbA8/wqAIcAXANgn8/nK7jrrrs6ud3uD4qLiy2500gbXmwHsNU3ZJQiT4oApr1djuqgiDQ3h8LhWchs3iAuKGHbZojPzJHTcPc/AlevfmzhSt7xHId27drh6NGj0uYt8/rqYwVqm16ke/VxVMTvM81LtmOC+LLlS5rHlq8TS7fDnEzkkEIitmJ1sMEOjBPhZZU8pHtWsYR92kFzkq2tiC9bvmqaJ9Vut2dc2tdjO2ZoTl7mq+fmmrLSrZi27yoE3F54gn4Udr6I7AF9YhpKiXFZ6Rbs3F2B7t2ykdW/N1sjO7x0Nd2zm+ZJ5iLdYzto64PumRnpuz7wZTtC45eupnlmto3qJgJEgAgQASJABIiA3QiQA6/dLEbtJQJEQCYwbty4DEEQHgdQ7fF4Cv71r399y/P8WI7jehYXFz9iRVS04cXWKnbYkIl26ogXVSPW1VJaIvCyIG0Hviz6bWSZaptepHtGWsMedVl9XqbKkY2Vo5qala3OV639Vv+dNM/qFrJe+6w+J/Vcd5wMXUkThTkFQHU1kJYG1yNF4NqHr05OpmyrM06mb1bIS7pnBSvYqw00J9nai/iy5aumeVLtdnvGpX09tmOG5mSYr9Zn6aWvl6LkXEs545j0U5h4+4CYhopmzHJdyXa0WLN0Nd2zm+ZJlEn32I61+qB7WiN9a9W90Lg8XAFx7w5wXXqAa99Rs+axtWb9K11N8+ofEeoxESACRIAIEAEiQAQSJ0AOvImzo5xEgAgQAd0EaMNLNzJdGey44RUrqka8q6XEwwcgzMmPcNpYGHejShfEOIntyDdVfTeqHCduepHusR09Vp6XqXJkM/OFopX5sh1ZxpROmmcMZyfVYvU5qee642TswvIwl9UZJ8PNCnlJ96xgBXu1wepzUsnRQqtDhRUsYXW+VmCUTBtI85KhVz/z0pzUb/dl6/fBdyAgZ+Q7ejBhcOeYBUUzZrmu1N8b++cg3bO/DY3ugdV0L3ptl6p1XennX2Pj16cwuHMr9OvZqQ5mqd6CNWXwC4DXBRSNyI55S2Fon/CxfCDgBzxeuB6V3o0oH2i1Gl+jxxfr+pyoeayZUflEgAgQASJABIgAEYhFgBx4aWwQASJgawI8z98AYBIA6ZjtAVEUny0pKdlm1U6RIxtby9h1Q0bppafa1VKp2jzTYxG78tXTR7PTatn0It0z20rWqt/K8zJVjmxmvlC0Ml9rjcTEWkOalxi3+pzL6nNSz3XHydiR5WEuqzNOhpsV8pLuWcEK9mqDEXMyXrSzeM+dSoe1Op6vZBYhnIXljODLot12KVOL5kl9sdMzLu3rsR19dp2TsXQ0mb07rZEoN33+NeZurwY4TgqVilk90tD/hutiGqpuBF5zggSwHUnmla5F9+ykeRJJ0j2248lKuhe9tlvQKw0Zf52e9M0vWg746zmMIKxcBnFVsWwYblQeXKMnKBrKSnzZjiRzSteieea0jGolAkSACBABIkAEiID9CJADr/1sRi0mAkTgCgGe54cDeJ3juDUA9omieB3HcSMEQbijpKRE+pvlPrThxdYkTtqQ0Xq1FFuitUt3El8juempS23Ti3RPD836kdbK8zJVjmwsHdXURomV+aq13Q6/k+bZwUrWaqMd5qRWZ4tkySbjEBKvbjswTpadmflJ98ykb8+6Wc/JeA4VarcgKB3WGnZkE8Tli2TY3PgpcN0y0rLwWfO1bMcNapia5knNsNszLu3rsR08dpyTko7mrylDQAA8LmDhlaiRlyNETgUCAcDjgevRJ2JGiIymqsXZrSbPat87WFwdjjw5Oa0CI/lhMQ2lxJjVupLtaLFm6Wq6ZzfNkyiT7rEda1bSvei13eRmJzDs9QVJr+u0HPB/+tUtePdiM7muW686gwfu7KsIP7j0aWDdO+HfhgyDe+IDimmtxJftSDKndDXNM6dVVCsRIAJEgAgQASJABOxJgBx47Wk3ajURIAKXN/m3Aijy+XwraoDk5eXlAZheXFzc24qQaMOLrVWM3pBh7aBRVroFO3dXoHu3bGT1N39IG82X7WixZulqm16ke9a0m5mtsvq8TJVOmvVC0ep8zRx7qaibNC8VFOtXGTQn2dubGLNlTLrHlq8TS2c9J+M5VKjdgqB0WCvj/DEIc/IjIrVJVxpLFyZZ88OarzV7bVyr1DRPaondnnFpX4/t+LHjnFz++QkU7zgpg8nr3grjb2iN4MplQESESIzKgzsiQmS8Z1wtzm41FZa9WoIZ53JQ7U5DWrAa89P3IPvOMTENZUfGbEddaktX0z27aZ5Eh3QvtWMkujQrzcnotV3hjQ0QfHY+djXqgNzzh5A1dVZoXRdLv2LtAWqJFL5swz74KgIyHj7TgwmDOivCF1Yuh7hKfiUIbtRYuEaPV0xrJb5sR5I5patpnjmtolqJABEgAkSACBABImBPAuTAa0+7UauJABEAkJeX921ubm6r2bNnCzVAeJ53Azjp8/maWxESbXixtYqRGzJ6omEk0mu1aEeJlJlsHiP5JttWu+ZX2/Qi3bOrZdm1m+YlO7ZSycSXLV/SPLZ8nVg6zUn2ViXGbBmT7rHl68TSWc/JeDcmaLkFQclRw6yDV4nYnzXfRNrkpDxqmif11W7PuLSvx3aE2nFOPrPlKN7Zd0YGM6xzM9zftx0kB7PyDz/ErmbZyD1dhswf3iI7mKlF59Vzm42k1WULH8eu9AzknjuArPxH4h6csCNjtqMutaWr6Z7dNE+iQ7qX2jESXZrV5mTk2k4EMG1NGaoFIM0FFI7IRsfzlRDmFEQc1ioKRReP965kle8dLImIFD4prQKjoiKFS7onRTP3C4D3SjTzjs0bKMIPrVFDEc79gMd7JcK58oExq/FlO5qML11N84xvEdVIBIgAESACRIAIEAH7EiAHXvvajlpOBOo9AZ7nv3K5XHkrVqz4ogbG2LFjewqCUOLz+bpYERBteLG1ipEbMnqiYSTSa7VoR4mUmWweI/km21a75lfb9CLds6tl2bXbjvMyVVF5k6Gq1bHEjnyT4WJ0XtI8o4nbvz6nzclk9FCrjum1utMY6+0/6/Ske6wJO698I+ZkPC1ipTVWsZQRfK3SVzPaoaZ5Upvs9oxL+3psR5Id5+TyL06geHtEBN4erTC+Z2uUf1WO6VvOypFxF/RtiqyuWSGAatF5pTR61ol6tNqOjNmOutSWrqZ7dtM8iQ7pXmrHSHRpVp6TSu8/hh3ZBHH5Irkb3PgpcN0yEvHelZS/+gqmn+sS1sP0vci68646YFnonpX5sh1ZxpSupnnGtIJqIQJEgAgQASJABIiAMwiQA68z7Ei9IAL1kgDP89MB/A7AfJfLtV8QhOukQ8EAnvb5fPOtCIU2vNhaxcgNGT3RMBLptZZoR4mUm0weI/km004751Xb9CLds7N12bTdbvOSdfRyLZT1RDi3G18t/bdSGtI8K1nDHm1x0pxMRg/16JheyzqJsd6+G5GedM8Iys6qw+g5Ge04occpzI7kjeZrR0bJtFlN86Sy7faMS/t6yYwI9bx2nJPS/uDUNWUICIDHBTwhRahs3iCuM5ue69/VqelLYUfG+npobmo13bOb5kk0SffYjikrz8lNn3+NudurpeuppIGAWT3S0K+1F8Kc/IgIvAtDUb8vR9Ath18Q4XVxWDgiK6SFoTF0+ABKn1mC0lbdMfDkf9H//ilxI4VrIa51jWplvlr6afU0appn9fZT+4gAESACRIAIEAEiYCUC5MBrJWtQW4gAEdBFYPbs2a4dO3ZMBfAbjuMyRFE8yHHcc7m5uQtnz54t6CrMoMS04cUWtNEbMnpOhSfSc60bUYmUnUgeo/km0ka751Hb9CLds7uFU99+u81L1tHLtRDWE+Hcbny19N9KaUjzrGQNe7TFSXMyGT3Uo2N6Leskxnr7bkR60j0jKDurDiPnZPTBggW90pDx1+l1rkh2EmEj+TqJm9a+qGmeVI7dnnFpX0+r9RNLZ9c5qbQ/GO/gv57r3xMjGTuXXRmnmgOr8tR0z26aJ3Ei3WM1Wi6Xa+U5ufqt9Vh8prUMYHKzExh522AovbOQdDA/4jDDwhHZyLziwFv+VRkKtp5DwOWFR/CjqE86srpmJww2dKD1sXwg4Ac8XrgelZyIMxXLszLfhAFYKKOa5lmoqdQUIkAEiAARIAJEgAhYngA58FreRNRAIkAEnESANrzYWpM2ZIgvWwLsS3fiphfpHttxYzfdYx29XAttPRHO7cZXS/+tlIY0z0rWsEdbnDQnk9FDPTqm17JOYqy370akJ90zgrKz6jByTkYfLJCcNIa9vkAGWnNFciRhqx061Wt9I/nqbZsT0pPmOcGKxvbBaXMy3sF/yaFt595D6J6TgcycrDqgWemr0xgbO0LVayPdU2dEKWoTsPKcrNhTjmmbz6LanYa0YDUK+zVV1CupR/EOqD61Yh3WBtrIHR/qOY4Hxw5JeCgIK5dBXFUcXqOOyoNr9ATF8qzMN2EAFsroRM2zEF5qChEgAkSACBABIlDPCJADbz0zOHWXCDiJAM/zQwVBOPjKK6/srunXXXfddb3H4+mwYsWK96zYV3JkY2sVszdknH7dqNl82Y4ea5SutulFumcNO1mpFXacl6yjl2uxj9aXoXbkq6X/VklDmmcVS9inHU6bk8nooVYd02tdpzHW23/W6Un3WBN2XvlGzsnNB6vw+LrDMsRZ3dPQ59kZda5IrkkQin42p8DWEXqN5Ou80aneIzXNk0qw2zMu7eup2z2ZFPVlTkZHPC8cniVHqpT4sdTX+sI4mXGYTF413bOb5oXGoyg2BXCmsrISgmDJSw+TMZnpea0+J5UOGyj9Ld4B1T/+ezM+E5rLrG90ncYfft4vYfbBlctQ8eFH2NUsG7mny9DxhzfDTQ68CfNMJqOa5iVTNuUlAkSACBABIkAEiEB9I0AOvPXN4tRfIuAgAjzP73S73SNffvnl8ppujRs3LksQhFXFxcXdrdhV2vBiaxUzN7zqw3WjZvJlO3KsU7raphfpnnVsZZWW0Lxkawniy5YvaR5bvk4sneYke6sSY7aMSffY8nVi6UbOSaXIad3E0zEjRAofroa4fJGMXSlCr9VtYiRfq7Ng0T41zZPqtNszLu3rsRgp4TLNmJPJHKhSoxHrwFW8SJVSmSz11QzGapyc9Lua7tlN8yTbkO6xHaF2m5OS8+70LVVyVN4FfZsgq2t2CFIsPX39vc/wfOVVAMdJAwr3XnMRt//kxoTBlpVuxYx9DeU2zO98CdkD+iiWZze+CUMxKaOa5pnULKqWCBABIkAEiAARIAK2JEAOvLY0GzWaCBABiUBeXt7Z4uJi6QR4rQ/P82d8Pl8zK1KiDS+2VjFzQyaR60bZ0kh96WbyTX1vrFmi2qYX6Z417WZmq2hesqVPfNnyJc1jy9eJpdOcZG9VYsyWMekeW75OLN3IORkdOa1g4LUo2ngE1UERaW4O0REihc82Q/z7HBk799tH4Lox8WhqZtjPSL5m9M/sOtU0z457e7Svx3ZUGT0n1SLhJtNbyXm37Ml52NWoA3LPH0LW1Jng2meGipT0durqMgREwMMBT4zMRsfmDeTqxMMHIDz2EBAIAB4PXI8+Ca59x2SaE9ZqjkO7du1w9OhRyTEzJWVSIWECarpH+3o0WqIJGK17yVpg9VvrsfhMa7mYyc1OYORtg+MWqzWPUmRfpYK1lifltRvfZO1jdH41zTO6PVQfESACRIAIEAEiQATsTIAceO1sPWo7EajnBHie3w9gsM/nk+945Hm+PYBNPp8vNbuaKWZMG/0pBhpVnJkbMtEvOwtvbIAOf5kW87pRtiTYlG4mXzY9sl6paptepHvWs5nZLbL6vExVNCNWV8Wr2c/qfNXab/XfSfOsbiHrtc/sOZkqTashm4y26WmLnnrMZmy9UZfaFpHupZZnfSjN6DkZqS07jl/Aoo+PyZin9G6LETkt5O8sI0QaZVuj+RrVL6vUo6Z5Ujvt9oxL+3psR5fRc1ItEq7W3iqty8rWrkXB0WsQdHvhDvpR1K4S2UOHhoqUnNSmbT0Hv8sLr+BHYZ90OYKl9Lu0dhP+9BAQDAJuN1z/KznwXnb+TfZjNONk22u3/Gq6ZzfNC41HUZQCqJyprKyEIAh2M4nl22u3OVmxpxzTNp+Vo98W9muKzJysuJylPFM3V8l6+ES/JnXyqOliZAV62qDEV8/zseUHkMkNVNM8k5tH1RMBIkAEiAARIAJEwFYEyIHXVuaixhIBIhBJgOf5ZwBIjrp3+3y+UzzPtwTwT47jjhYXF0+xIi3a8GJrFbM3vKI37J22GWQ2X7ajxxqlq216ke5Zw05WaoWV52WqohmFXl7OKYg4EFGUspeXara0Ml+1ttvhd9I8O1jJWm00c06mStNqiCajbXraorceMxlba7SxaQ3pHhuuTi7VzDkZfUi1aHhW3QiRc/JtfWjVTL5OHrc1fVPTPCmd3Z5xaV+P7cg1ek6q6ZyW3sZalz391ud490xDuYhbm13CA7fdEPquFj0yuPRpYN074eqHDIN74gNamqOaxmjGqg1yWAI13bOb5knmId1jO0jtOCe1RsqtIbfpYBXmrjskxcOVRhRmDemA/hlNaoFdWvwBSvzXyn8b4z2CiXk/UoQfinC+cC52pWcg99wBZOU/HHOfMJqv3udjtta3f+lqmmf/HlIPiAARIAJEgAgQASJgHAFy4DWONdVEBIhAign84he/aBEIBF4XRXEAgG8BtJumnHwAACAASURBVOA4rtTj8dz+r3/9S/puuQ9teLE1iR03vNgSSW3pxDe1PJVKU9v0It1jbwO71WDleZmqaEZmRnezMl+7jVXSPCdYzPw+mDknk9E0pahsyWibnrborcdMxuaPMPYtoLUee8ZOq8HsOakW7TtVh1Ylx46NFWcxOLMp+kY5dNTYtKx0C3burkD3btnI6t87rqm1tstsvk4br9H9UdM8Kb3dnnFpX4/tqDVjTqrpXHSPo9PHWpf9seRTfPZdYzn7jQ3O4w9jbgp93/T5fszd/p10t7vkHYlZPRqg/w2d5LTBeTOBfbvCVXfuBvfMeSmBbwbjlDTcJoWo6Z7dNE/CTrrHdvDVhzk565X/YtclrwyyW0M/5t71vVpg577wHjZ5O8h/6+8/hFn3/EQRvp5n3Gi+evKytbwzSlfTPGf0knpBBIgAESACRIAIEAFjCJADrzGcqRYiQAQYEhgzZswPOI7LEkWxvKSk5BOGVSVdNG14JY0wbgH1YcOLLcH4pRNf9vS1bnqR7rG3hV1qsPK8TEU0o9DLosMHIJgU3c3KfO0yRuO1kzTPCVY0tg9mzkklTRMB7Dx+Ad3bNKoVlTKSSqyobMloW6gta8pQLQBpLqBoRHbM+oXPNkP8+xy5SdxvH4Hrxn4xDWcmY2NHkzm1ke6Zw93OtdaHOXk5Ktth2UyzhrSvE5VNct6dtq8RAm4vPEE/CjtfQPaAvoqmDUVWeywfCPgBjxeuRxdqjspm57FixbZr1Typ7XZ5xqV9PbYjzeqap7SuO1pVjccjNOzhIe3RL6MJSt96H/NOXys76c5sfgQDbvtxCKDaYazg0meAdW+HYQ8ZDvfE+1MC3+qMU9JJEwvRqnt20bzQnowoNgVwprKyEoIgmEjXmVXXhzn50AubUOZtIRsw2/8tnrynfy2DzvznOuxOayP/7frq45j3qyGKRg++9waw4rnwb2Pvg/snP1NMWzcC7wEIjz0EBAKAxwPXo0+Cay9d8kmfRAho1bxEyqY8RIAIEAEiQASIABGobwTIgbe+WZz6SwQcTIDn+c4Agj6fr8yq3aQNL7aWqQ8bXmwJxi+d+LKnr3fTi3SPvU2sXoPV56XeaEaxeGuNopZqe1mdb6r7a3R5pHlGE7d/fWbPyUhNk5x3p71djuqgiDQ3h8LhWchs3qAO5HgOGolqm5SvdNGzKG3RHQNP7UD/3/4mpnOa3ghDZjO2/yiN3wPSPadbOPX9s9qc1LK206tthRsOY31FlQxvcGYTTBvUvhbMpf98HSVpXeW/jan+ChN/dbsicGHlMoiriuXfuFF5cI2eoJjWanxTP4LMLVGv5kmttfozLu3rsR1TVp+TSuu6UxcCKN5xUgaT170Vxt/QGvufXYTpDQch4PLAIwSw4NIGdPrNlFC6ij1lmLa5CtXuNKQFq1HYrwkyc7LlMvQewNJjFasz1tMXK6bVq3tW1zyJMeke25HmpDlZ/lUZdu49hO45GcjMyZLBzX3jS2yqSpO/929SjVk/+34tsHN9W7GpWvIVv/zpn3YWs/g+ivCDSxYAH68P/9Z7MNyTpmta6+k56MXW8s4oXa/mOaPX1AsiQASIABEgAkSACLAhQA68bLhSqUSACBhAIC8v73lRFJ/3+XwbeJ4fB2C5tKfEcdzE4uLifxvQBN1V0IaXbmS6Mjhpw0tXxw1KTHzZg1bb9CLdY28Du9VA85KtxYgvW76keWz5OrF0K81JtchpNfxTFY080p5la9dixtG2stPH/HbHkD10qKLJhW2bIT4TEYH3/kfg6kUReM2aH6R7ZpG3b71W0j2lyJMS2chI5CGniDkFQHU1kJYG1yNFMQ8Y1Fjlzd2n8Nynx2Uj3XdTG/z0+pa1jLZ05UaUnG8l/21M45OYOHqgomGDK5cBEQ68GJUHNznwmjIJ1DRPapTdnnFpX4/tULKS5in1VGldt77iLIq3Rzjw9miF8T1bY/X727C48iq5mMnXXMTIH/cKfZcOWJWvfA27mmUj93QZMu+4A65bRspp9R7A0mMVqzPW0xcrplXTPbtpnsSYdI/tSHPKnJScd6dvCR9MWNC3CbK6Xj6Y8PSWo3h33xkZ5K2dm+GBvu1qgX1q6XtY6+og/22ocAgPTvxJjGfcLSh/8bmwht5zH1y9lG9miOarpr9sre280tU0z3k9ph4RASJABIgAESACRIAdAXLgZceWSiYCRIAxAZ7nj166dOm6N9988wLP81tEUSx0u91nBUFY4PP5ah/hZdwWrcXThpdWUomlM3vDS0s0IqWe6Y1QlBid5HOZzTf5Hli/BLVNL9I969vQ6BbSvGRLnPiy5Uuax5avE0u30pzU45ib6Boxlg1Xb/0ai/f65Z8nd/FiZJ/rFJPrdQCxEmMnjmHSPSdalW2frDQnow8u8D1a4fVdp2pFIs/4/H2IyxfJULjxU2o5pSnR0nIgovzVEhSc64qA2wtP0I+i9K+QdecYRfji4QMQ/vR7IBgE3G64/vcvMa9GthJftiPJnNLVNE9qld2ecWlfj+1YssOcjF7XSWvC/DXl8AsivC4OC0dkoWPzBgitFVfvR7XIIY0TUTSyU+jv0iekU3PyIw47LKylU2q/J2MFOzBOpn9m51XTPbtpXmi8iqIUFvVMZWUlBEEwG7Hj6nfKnFz91nosPtM6/Iza7ARG3jY49H3u23uw6WR47PRv5cKs4Tm1bPnUc29i7VVd5L8NvbgXD973U0V7l5VuwYx9V4UPtHa+iOwB2hx497/9NmYev1bOO6/NEXQaPtxx48qoDqlpnlHtoHqIABEgAkSACBABIuAEAuTA6wQrUh+IQD0lwPP8GZ/P1+z2229v0qBBgwO5ubmtZs+eLfA8f9rn8zW3Ihba8GJrFTM3vJSiESldoxxNIJEIRWwpxi7dTL5m9dnoetU2vUj3jLaI9eujecnWRsSXLV/SPLZ8nVi61eZkqh1ztdos5BCypgzVApDmAopGZMsOIXXXmvEdRKLTW42xViZ2SUe6ZxdLWaedVpqT0QcXRndrWSvq5JTebTG8cVVcpzQlsloOROx/tQTTz18fvoq+8W50iunAWwHhsXwg4Ac8XrgelRzjMhWNaiW+1hl1qWuJmuZJNdntGZf29VI3PpRKsuuc3HSwChsrzmJwZlP0zWgidy3WdfJSgni/Sb/rOeyvJ61dGbMdeakrXU337KZ5obFIDrypGyAKJTllTlbsKUf+5ir5sNXCfk2QmZMV6vH9yz/DYTSSe98eF/DM+Btr0fi/1/6LLy545b/1bOTH/7vje4rsV81/Ckvah6PzTjr8HkbNeFDTWm/V88VY0iAc+2fSd19i1L15TG3s5MLVNM/Jfae+EQEiQASIABEgAkQg1QTIgTfVRKk8IkAEDCPA8/w+t9v900Ag0IPjuHt9Pt+IiRMnNv7uu+8OFRcXtzCsIToqog0vHbASSGrmhpeWqEFKXdIbFS0BLCnLYibflHXC4gWpbXqR7lncgCY0j+YlW+jEly1f0jy2fJ1YOs3JsFX1OA+TU4d1ZgPpnnVsYZeWWE33IrVHYljwdrkcgbdo+OWok3o0p8YOsZzfan5f+s42lHwTvop+zNUXMXHY5avooz96nrGtxtcu41JrO9U0TyrHbs+4tK+n1fqJpbPDnIxeg8U60B86sP/YVCAQADweuB59Qj5MkGgQACWqegMD2IFxYqPHGrnUdM9umidRJd1jO7acMielQwnTtp6D3+WFV/CjsE86srpmh+Ddu3QbTrrC67hWwkU8P7H2Om7SK7tx7FKYdduGwJK7rleEX/ro/2Le9b8AOE4aoJi5+18Y8NifFNNG8y17+x3MON4uHL23zVFkDx/G1sgOLl1N8xzcdeoaESACRIAIEAEiQARSToAceFOOlAokAkTAKAI8zz/Icdw8qT6O48atWLHizTFjxozgOO5/fD7fIKPaoace2vDSQ0t/WjM3vGJdmafWi3jX4iXy4lOtvmR+N5NvMu22U161TS/SPTtZ05i20rxky5n4suVLmseWrxNLN3pO6nGSTYS31dZ6V56r0K5dOxw9elR6WZ9ItyhPHAKkezQ89BIwWvf0ti8VOimVIUUV9wuA90pU8ejbbJau+AAlgWvl5o3xHMHEsT9SbK70jF325FzsatQBuecPIWvqrFpX00dmUuJrRW3WaxerpFfTPKmddnvGpX09tqPLDpo3LeLgQuHwLOw8fgGLPj4mg5GikY/IaYHgymXAquIwsFF5cI+eEPqeaBAAJfp6Di3QWo/t+JVKV9M9u2me1CfSPbbjxmq6l+jabvVb67H4TGsZ1uRmJzDytsGh7zOWluIrV0v5t67CKcyfOKAW2CkvbMFRbzP5b+38Z7Donr6K8J/6+2tY27Sb/NvQs7vw4G/vUEwbzVdYuQzlH36EXc2ykXu6DJk/vBmuK9rM1tLOLF1N85zZa+oVESACRIAIEAEiQATYECAHXjZcqVQiQAQMIsDzfGe32x14+eWXy6Uqx40blyOKYtqKFSu2G9QEXdXQhpcuXLoTm7nhJW1u5a8pQ0AAPC5g4YhsRL90jNUhpReEeiNo6IaVQAYz+SbQXFtm0bLpRbpnS9MyazTNS2ZoQwUTX7Z8SfPY8nVi6UbOyVRGRlOyhdpaT+3FKSsHMyMZO3GMqvWJdE+NEP0eTaA+zMll6/fBdyAgd53v6MGEwZ1roSh/9RUUnMuRr2UuSt+DrDvvUhwwIf1eU4ZqAUhzAYVxns2j+appM41QfQS0aJ5Uop2ecWlfT98Y0Jva6pqn5Hjb/MIpzN1eLUeCnNUjDf1vuA7CyuUQV62QEXCjxsI1enzouxQEQCmCuV5eUvp4gQGUyrM640QYWCmPFt2zk+aFxpgoNgVwprKyEoIgWAm3I9pipTl5+VBVOfyCCK+LQ9GILHQ8Xwlx7w5wXXrEPBAlGaJ801YU7L0qvFbrchFZ/fuEbPTQ0i0oc4Wdc7OFM3hyYm3n3LyXvsR37jTZpg2C1Si++/uKNn5o8fsoS28v/5Z97jCenPxjxbTRfIOL5gGfbgynvWkg3FNmOmIsmdEJLZpnRruoTiJABIgAESACRIAI2JEAOfDa0WrUZiJABGxLgDa82JrOzA2vVEbPkCjpjaDBluzl0s3ka0T/rFCHEze9SPfYjiyal8SXLQG2pZPmseXrxNKN1LxUr+2i7RFvracWjZKlg5mRjJ04RtX6RLqnRoh+jyZQH+bkstdL4TsXjsrGp5/ChNtrR2ULRdVd+Dh2pWcg99xBZOU/HNOJRI9+14nK9uFqiMsXyWbgxk+B65aRNDATJECalyC4epzN6pqn5Hi7fcNWxaiTId0qehy7mmQgt+oAsgoeqaVbmw5WYWPFWQzObIq+GU3qWL2sdAt27q5A927ZyOrfO+6o0HOwy+qM7T78SffsbkHj22+lObnsixPwbT8pQ5AOVQ1YWXRl/XXgyvorUxHS/ldLMONcV/jdXniDfsxP/wqd7hwTSjvzX1uxO+QHfvlzPXcW835x2bm35jNm+Q744Za/exFEyfjuinXNfHo1djfvFC7v9H7Me0B5vVbHgfcvfwS2fxout8dNcP/+D8Yb3iE1OlHzHGIa6gYRIAJEgAgQASJgQwLkwGtDo1GTiUB9JsDz/Ns+n2+4xIDn+fUcxyne61pcXDzEipzIkY2tVczc8Epl9AyJkt4IGmzJXi7dTL5G9M8KdShtepHuWcEy1m2D1eZl9EtIPS8Sk6XMoi6r8U2WkdXyk+ZZzSLWb4+RczLVa7touvHWemrRKFke9DKSsfVHXOpbSLqXeqZOL7E+zMmKPeXI31wlR2xb2K8JMnOy6pi2/Ksy7Nx7CN1zMhR/r8kQ0u+ICLxFI7LRsXkDxaFSNwLvAQhz8oHqaiAtDa5HFsaNNuf08Zds/2I5ddj5GZf29ZIdFfHzG6F5arccqPUwOr+kYdM2n0W1Ow1pwWoU9msa0ihJs6ZvqZL/vqBvE2R1zQ4Vr3bTg+S8O2PfVXLe+Z0vInuA8lXyau2N/t0Ixnrb5KT0tNZzkjWN6YvZczJS09ZXnEVxhAPvUPdx/Ke6hbxGW3DFKXf/mrexa89B5HbNRPbwW0OgVvveweLqsHPv5LQKjOSHhX7b/MV+PP7f7+RI5Q9/rwH69Qw74EppfvXKHpy6FI7w3LKhC/+8K0fRCKV//H+Ydx0vlzfzax8G/OH/NK31hG1bID7zZzktd///wNUrNfpqzIixVi3kwGste1BriAARIAJEgAgQAXsTIAdee9uPWk8E6h0Bnucf9vl8j0sd53k+5tFYn8/3RyvCoY1+tlax0oZXrBeEegiwcEbTU390WrP5JtN2u+SNsdFPumcXA5rQTivNS8l5d+66wzKFmd296PvszAgHiCJw7ZUjdSSLjlU0SivxTZaRFfOT5lnRKtZuk9FzMlkHDzWasdZ6atEoWR70MpqxGiOn/U665zSLsu+Pk+ZkPE1Vc85Vc3aLtISkrWUL52qKFqfE12rP4exHGbsa4jjw2vYZl/b12I0XqWTWmqdHS6T2aFkLhjSnaG5EpF0pQngmVr+1XjEyr1SuWqTwVc8XY0mD8NXxk777EqPuzUsJfNaMU9JIGxdCaz0bG8+kpps5J6M18e4bWuO5T4/LJPq7T2JTsJX8nfccwYCm1Zh54lr5gMG81kfQacRwxDrMIGWWdLL0mWdR2qo7Bp7cjv73T6qzPzjrnQrs+uaiXFe3q6/C3GExov0WzcX0Nrch4PLAIwSw4Phb6FQwS9GCdQ9rVUB4bCoQCAAeD1yPPsFsr9KkIWVoteTAayhuqowIEAEiQASIABFwOAFy4HW4gal7RIAIWIsAbfSztYeZG15se2aN0okvezs4cdOLdI/tuLHSvCzccBjrK6rkDg9qWIX8t/8kf2d5BTGraJRW4st2JJlTOmmeOdztXKvRc1KL00Y0z1Q4fmmJRpmKepTGgtGM7TweE2k76V4i1Op3HqfMSb1Oc9FWV3N2i0wfXLkMWFUc/tOoPLhHT1AcSE7ha9VZQppnVctYt12s56QeLYmlW9HrQ0lzKj78CLuaZSP3dBk6/vDmkOZI67mCLVXwu7zwCn4U9Q1HFw9FCl+9H9UihzRORNHITrUihZdv+hgFexvKUS+LulxCVv/eKTEcHVxICcaYhZDuseXrxNJZ6148ZtGaODizSa19vRtbuvDZqXBUXD7Tgxaf/gdLrh4sFzvpm/UY9fvfhL6Xfv41Nn59CoM7t6oVYVfas9v0zjqUtu6Jgce/QL/hQ+C6ZWStpm05WIU5EUEBHhnSHn0zmig2f/X727C48ir5t8nXXMTIH/fStNZjtX/oxLGppU9O1Dwt/aY0RIAIEAEiQASIABFgQYAceFlQpTKJABEwhEBeXt5KURSf9fl8q6WDvIZUmmQl5MiWJECV7GZueLHtmTVKJ77s7aC26UW6x94GdqvBSvMyerP94R5p6L1khiFXELOKRmklvnYbm1raS5qnhRKliSRg5JxMxNksldHA1aJRshoZRjJm1Qcrl0u6Z2XrWLNtTpmTak5zagcmQs5ua8pQLQBpLqBoRHYtZ7dI6wkrl0NctUL+EzdqLFyjxysa2Cl8rTl6ATXNk9ptt2dc2tdjO9pYz8mQlrxdjuqgiDQ3h6LhWaEN5Z3HL6B7m0a1dEVJt3LbNMK0iPyFw7MgfPAWpp/Lgd/thTfox4L0Pci+8y5Ia7mCLefCTrh905HVNTsEUPhsEzb5Xg87s+XdDteN/WW4kiZKDr5+kYP3ioNvZvMGKYGvGI1yToEhN+ekpAMWL0RN9+ymeRJu0j22g4617sVrfbQmTht4LQo3HpE1Uvq+YMNh+AXA6wIWjsjGto+24vmqq6WQ6dLgwL1NvsHttw8ORSzPX12GgAh4OGDhyGzU6NbGF17GfE9POc+MwBcYeM+4Wk2TNDN/6wUEXW64hSAW9mkka2Z0Hyr2lGHq5nMIur1wB/14ol86MnMu62v0p67mHYDwp98DwSDgdsP1v38B174jWyM7uHQ1zXNw16lrRIAIEAEiQASIABFIOQFy4E05UiqQCBABowjk5eX9VRRF6S2MdLfOCwD+4fP5yoyqP5F6aMMrEWra85i54aW9lfZNSXzZ205t04t0j70N7FaD1eblpoNV2FhxFoMzm4YiZbCKEKlkJxZ1WY2v3canWntJ89QI0e9qL99YElJzNlOq2wnRfEj3WI4qdWc2Wuux5W/H0p0yJ5Wc5jpecUbTcmAidEX9k/Owq1EH5J4/hKypM2Nedxw62BW6GtkPeLxXrkZWdsxwCl+rjm21tZ7UbrvpHu3rsR1tRszJyAMDkvNutENujcOZkm7tOH4Biz4+JkOY0rstvikrR8k34UiQY66+iInDemH1W+ux+ExrOe3kZicw8rbLUSv3Fz2Oma1Hha+gP7EKnQoeltMmsg7Vaploxk5Yv2rtuxHp1HTPbponMSPdYztyjNa9mvVXTa+iD1FFf4/e55v15lfYdTYcS6dbUw5zf9oVy9bvg+9AQIbFd/RgwuDOoe8L/vYKNrTsLv826NQOTP/dXbXAPv3aFrx7oZn8t1sbncEDd/RVhL/xpRWY7/p+2CFY+BID7x6rmLaO5qkcoGBrbeeVrqZ5zusx9YgIEAEiQASIABEgAuwIkAMvO7ZUMhEgAgYQGDFiRIP09PQxAH4NYAjHcR9eicobDrdiQDu0VkEbXlpJJZbOiA2vxFrmjFzEl70dtWx6ke6xt4OdajB7XqpFS1NiycLRlpXNzObLql9WKZc0zyqWsE87jJyT8ZzNYhFjFQ3cSAsZydjIflmlLtI9q1jCPu2w45yMtT6M9Xctjmp6Hcy0rjftyNc+o1f90EJNX+z0jEv7emxHoBFzMlKLoh1yJYezlmeOontOBjJzskJRdHfuPSR/V1ofrvvoU/jOtZTB8OmnMOH2AajYU45pm8/KTrqF/ZqGypQ+q556HktaDJDzTPq2FKMevFf+nsg6VKtlFKNRzsk35OYcrW20czpa69nZeua0nbXuaTkoFdnz6EMOBWvK4RdEeF0cikZk4Zk3P8VuV1jzrhdOYd7EAYjngPv6k0vw/NWDw1F7v1mP2x+aVAv47NVfYdu3YcfgXi04zB7ZVdEos59bi21XZci/9bp4ELPvG6qYNprvxr88hfmtfhx2/j35Pgb+/kFzjO+AWrVongO6SV0gAkSACBABIkAEiIAhBMiB1xDMVAkRIAJGEBg3btx1wWDwCQCjfD6f24g69dZBG/16ielLz3rDS19rnJea+LK3qd5NL9I99jaxeg1mzku9LwEklqm8Xt4I25jJ14j+mV0HaZ7ZFrBf/UbPSbVDCkq/Rzt6xKMcz8FMq/NZqq1oNONUt9/q5ZHuWd1C1muf3eZkIutDLY5qwrbNKH/xH9jVLBu5p8uQec+v4erVL6bBtGqo3fhab4TGb5FezZNKs/ozLu3rsR2FrOekpFGRzmjTBl2+Hj4gANJGskvww+/yIi1YjfmdL0J85QXsSs9A7rkDyMp/OBT5O3r9V/rRJ5h3sLHsDDYz4zwG3PyDEKhY68KNb32A+afbhR3Imh/FwNt+VAuu2jo0UUsoMdaqmYnWWZ/y6dU9q2teaB9HFJsCOFNZWQlBEOqTOQ3pK2vd03JQqqaj0eu4W7Kb4t19Z2QOfI9W6LTxNcxrGnbGnXl2PQbcPwlPvboZay82l9MOveo0Hrzz8lpt6d+WoaTlZV2UPmNOfYKJv5tQi+8bm/fhH/v8si7+urMXP+t3OYJv9Gfe0g9R6rpG/vMAoRIzJ96imDaa7+xFa7CtSbactldVGWZPGcHM1k7XV72axww0FUwEiAARIAJEgAgQAQcQIAdeBxiRukAE6jsBnufTOY77uSiK9wG4geO4t4qLi2vfwWMRSLThxdYQrDe82Lbe+qUTX/Y20rrpRbrH3hZ2qcHMean0EiC3TSPsPH4B3ds0gnQtX/RGtd7oaWbbwUy+ZvfdiPpJ84yg7Kw6zJ6TalcuS7SnrSlDtQCkuYDCEdmQrmFWcsAIHWgIXfEeADyeK1e8Z4YMZuZhB7MZO2vE1u0N6Z7TLZz6/tltTsZzEonnwKDmqFa2di1mHG0rR7Kc3+4YsocqR1rTo6F245v6Eca2RK2aJ7XCLs+4tK/HdsywnpPLvjgB3/aTcidu7dwM/9l/NhRd0g0RQYRfl425sB1vNMiRdWde+h50unNMnXXdqqUrscR1vVzmJGE3Rk0cHRfU6rfWY/GZ1nKayc1OYORtg2vlYeX0xZox2xFi/dK16p5dNC/0bEIOvEwHHus5qXZQKl5U8hvbNcJnRy/I/c/r0QoDLpSjYG9DBN1euIN+FHW5hOz+vbF0SQlKGveQ0445vx0TJ0kXZwJLn/k3Spr1Cv92Zhsm3v/zWly16GJNhrlv78Gmk2Fn8v6tXJg1PEfRTtF8Zyxei6/Sw9F7u547iPmTldeUyRpez5o02brMyq9V88xqH9VLBIgAESACRIAIEAE7ESAHXjtZi9pKBIhALQJjx44dKIrir0VR5AEcBvCPYDD44quvvnrcqqhow4utZVhveLFtvfVLJ77sbaS26UW6x94GdqvBzHkZ/RKgYOC1KNp4BNVBEWluDgt6pSHjr9MjruIsAsBBsNH1nGbytdtYTKS9pHmJUKvfecyck9HRiG7v1rKWA8iU3m0hnj6FxXv9spEmd/Gie04HTHu7XNbGwuFZIafe4MplwKrisEFH5cE9+nIUIjMPO5jJuD6MbtK9+mDl1PbRbnNy88EqPL5O2p65/Hl4SHv0y2iS9MGE1Vu/rqOvI/tcpwhbj4bajW9qRxf70tQ0T2qB3Z5xaV+P7bhhPSeXf3ECxREOvNHOaW4hgKDLE4rA+zPuMEpc4SiNk9Mq0H3oLXXWdYdffBbzIq5jn3nyfQy4ch176YcfY2P5GQzKboH+N98kw6vYU45pNqvxwQAAIABJREFUm8/KzsGF/ZoiMydL/p2l0xdrxmxHiPVLV9M9u2meRJx0j+24M2JOxjooFR2VvKCbBwu/PC9rU0HPxpi/3Y8gLkcpf3JUNnYcv4BFHx+ToUjPwSNyWqBs6YsoEG8MO/ZynyF74i9D6co3fRxy+g24vfBccfrN6t+7Flg1XYxMPOvdcuw6cUn+U7fWDTH31rCGRqaN5vvgsx/hYKO2cpKMC8fw1G9uZmJkPWtSJg0woFA1zTOgCVQFESACRIAIEAEiQAQcQ4AceB1jSuoIEah/BPLy8s6LougTRfEfJSUl6+1AgDa82FrJiA0vtj2wdunEl7191Da9SPfY28BuNZg9L+NF6pCiCA17fYGMlBs/Ba5bRtaJymtl5mbztTKbVLSNNC8VFOtXGazm5KaDVdhYcRaDM5uib0YTRajRUSWl6EMrd52SHXOLhmfh0KZNmHeybfgK5VbHcOa6noovOINLnwbWvROua8gwuCc+EPouHj5g2mEHVozr10iN3VvSPRoJegnYbU7GisCbrAND6OBYRITzohHZodselD56NNRufPWOH7PTq2me1D67PePSvh7bUcV6TkpaMnVNGQIC4HEBMwa1R2HEIdT86z349tARdM/JwOGj32DewcbhdV3GeZxpd12ddZ2wZR2WuLrKYCYJX2HUxNshOe/OO5Qezt/hHAbcEnZYK/+qDDv3HgrVFem8KxWUrGbGsxJrxmxHiPVLV9M9u2le6NmEIvAyHXhmzsnoqORj0k9h4H/+iV3NspF7ugy4eRimne+KgMsLj+BHUZ90cBwwbXNVxAGEJsjMyUbph59g3qEIzexwHgNu+cGV59sKlBXNxa4mGcitOoCsgofBtb98+0zkJ54uRqabv+4QNh48J/9pYEY6ZgzpoGinaL6v/+15PN+iv6zN9367Cbf/7l4mNtazJmXSAAMKVdM8A5pAVRABIkAEiAARIAJEwDEEyIHXMaakjhCB+kdgwoQJTZctW3bWTj2nDS+21jJzw4ttz6xROvFlbwe1TS/SPfY2sFsNZs/LSAdeiV1BZJTJGxugw1+mRUTgXQiufceYDrxqVyebYRslvqyuMjWjf2bXSZpntgXsVz8LzZOcd+dGRIucNaQ9+is48SpdPSoC2Hn8Arq3aRRyJFv9/mdYXNlIBjv5mgvontFC8QWnsHI5xFUr5LTcqLFwjR4vf1fTGlaaSbrHdl6Q7rHl68TSWegeS06xrmlOhQODHt1T09AaBnbjy9J2LMpW0zypTrs949K+HouREi7TiDkZrSWxtEXpOvceg/rUeuYNHeD6/L+KTmsLXngPG7xhh7JB/kOYfs9PNAFMhWbGqsgIxpo66dBEarpnN82TzES6x3awmjknn95yFO/uOyN3cGjzS/jtyv+Tv/9ryBSUuDrJ3/n0U/hFs9MoX/ma7OSbeccdocP6C17eiA3BVnLaQe6TmD5uYOi71kMJWh14o6OpS4drx/dsrWioaL7STThvfn4I69rehJsrP8VtvTrIN+GwsLTWNSmLuo0oU03zjGgD1UEEiAARIAJEgAgQAacQIAdep1iS+kEEiIAtCNCGF1szmbnhxbZn1iid+LK3gxM3vUj32I4bM+dl9FV7RSOyIB47UiuKUPRGdayrQKOvpq+5Yp4tPfXSo/myvMpUvTXOS0Ga5zybsu4RC80r3HAY6yuq5KYPzmyCaYPaK3ZFLVJv+dq1mH60rRyNaEG7Y+jo9Su+4Aw5Zjw2FQj4AY8XrkefCB1y0PJhqZmke1oskHga0r3E2dXXnCx0LxmW0Y5uSk4JsZzhrOjAYDW+ydjGinlJ86xoFWu3yUpzMtZ17tEat/T1UpScaymDlSJYTrx9AErf+gDzTrcLR+BtfhQDbvuRZgOw0kwrMdYMw0YJSfdsZCyLNNXMOfnMlqN4J9KB130cv32/UCbz9yH/H9a6wgcRbm3nxm+bn4T49zlyGu63j8B1Yz9sKnkLcy9dJ2verIZfo/+Y20LppGffsifnYlejDsg9fwhZU2fVefaVnHcLtp5HwOWBRwigqE9jZHXNVrRSdDT1J+LczFD3+fYAhD89BAQDgNsD1/8+qfk53CJDxlLNcKLmWQowNYYIEAEiQASIABGoVwTIgbdemZs6SwSIgNkEyJGNrQXM3PBi2zNrlE582dvBiZtepHtsx42Z8zL6qj2+owcD3lgYsSE/s86VeLGibsS6bpktPfXSo/lqjRqiXjKlkAiQ5tE40EuAheZtOViFOREReO+7qQ08Lk6OqlvTRiWn2Y7nKyHu3QGuS48rEcbrvpiUDjYoveC8/CKzolZ+rTxYaibpnlYrJJaOdC8xbvU5FwvdS5RntA4u6JWGjL9Oj7htoUjxOuRE6zMin5X4GtFfo+sgzTOauP3rs9qc1BINctn6ffAdCMjwpefiCYM7hyJObnpnHUpb98TA41+g3/AhoSiVZn+sxthsHqmu3+q6N3bs2N6CIDxxpd8f+Hy+cLjVGDBoXy/Vo6R2eWbOyehItrz3CH6+9km5gf8e+hB8/mvl71Kk259/+zHE5Yvkv3Hjp4S0TXLSfeGl1djQ+vsYfOJz/PLu22TH2NAacvV+VIsc0jgRhSM7IbN5g1ognlr6Xi1n4aHCITw4MXbUci36LFWgeEA1dJA2AHg8Vw7SZrI1soNLt7rmORg9dY0IEAEiQASIABFwIAFy4HWgUalLRIAIWJcAbXixtY2ZG15se2aN0okvezs4cdOLdI/tuGExL7VeTxx91V7/BlX4+EJDBNxeeIJ+FLarRFZuTi3ntOB7bwArngtDGXsf3D/5GWJdt8yWnnrpipE65uRHOKospEgd6hhjpiDNSwJePc3KQvMklDWRdbtefRVe+vwEqoMi0twcIqOBRzvNTu7ixbAXZ9ZxXIt2ymXh+M9SM0n32E4u0j22fJ1YOivdS4RVHR1sdgLDXl8gF1XjwJFI2WblsRJfsxiwrJc0jyVdZ5ZtxpyM9/yr5bBVKBLk6jIERMDDAU+MzEbH5g1UI06qOZ9pqTuRUWAG40Taadc8Vtc9nufdPp8vKPHNy8t7TxTF0T6f71w83rSvx3Y0mjkn39i8D//Y55ej5t57zUXc9sqf5VtiDt49E/n7GiPocsMtBPFE30bo2NiteJNM6edfY9726nDU8R5pGHDDdSF4q7d+jcV7/TJI6Vl6ZJ/Lv9V8Zv5zHXantZG/X199HPN+NUQRvqSPZQvnYld6BnLPHURWvhTRV9kJ1+wDqqy0nO2o1F661TVPe08oJREgAkSACBABIkAEzCdADrzm24BaQASIQD0iQBtebI1t5oYX255Zo3Tiy94OTtz0It1jO25SPS+VIkxKPdh5/EKdaJTRkTq6XeXHroteucNjGn2DX7z3ZC3nNmFVMfDx+jCU3oPhnjQ99F2r4zBborVLV+Lr9M13I/mS5hlJ2xl1pVrzoqnEi2wb7TS7oNUBZBT/TS4iluOaFIlIYOD4z0ozSffYzhXSPbZ8nVg6a93TwyxaBwtvbIAOf5lm64NNVuKrxxZ2SWt1zaNIlNYbSUbPSaXn35qokNJznzCnQFOUcaV1WajsNWWoFoA0F1A4IluOOBm6Kn7LOfnwa1Hf9FpXxeupW68Vaa2nl5i+9FbXvZreSI68HMc9n5ub+6vZs2cL8XpJ+3r6xoDe1GboXs0e34r3v8SGS03kJg9qWIVp/drIB/E3fbkf8062DTvltjqG/t/PvuLAWzuC7YJXPq5T1vS7eofKLn+1BNPP5aDanYa0YDUWpO9B1p1jaqGa+8aX2FSVJv+tf5NqzPrZ9xVxlr1aghkR5c1P34PsqPJqMpp5QJWllusdZ6zS20XzWPWfyiUCRIAIEAEiQASIQCoJkANvKmlSWUSACBhOQNpsEkWxL8dxGT6fb8U999zT8NixY+KaNWu+M7wxGiqkDS8NkJJIYvSGVxJNtWVW4svebFo2vUj32NvBTjWkel5GO6/xPVrh9V2nFKNRSk4cD60uQ1AE3BzwY/dxvBsIR8sYc347fvHxSzJOybkNzVpBfObP4b/d/z9w9eqrilyLoxoLx9pU81XtaD1LQJpXzwyegu6ynpNqkW0jtSjj/DHNjrks9CkFOBWLYM2YVbvtUi7pnl0sZZ12mj0no9dg0d+V9I00zzrjx+yWaNE8qY1mPeNSJEqzR0jd+o3WvHiHt5K9RSFe2cteL4XvXEsZAJ9+ChNuHyB/T7bueJat68ym3VHZeiPGei3SontmaV4Nrby8vJ+LojgbwNs+n+/3ahTpfYYaoeR+N1L3og8tTLj6PJ6vvEp20J2VcR79b/6B3KEF7+7BhhNh/+5BrV0oSNuH8pWvYVezbOSeLkPmHXfAdctIvLllH56TouxyHCCKuK+LFz/t2zlUVnDp06j49HM5T8cf3AD3xAdqgYsOEpDXoxXG92ytCHeV7x0sqQ5H3J2UVoFR/DDNz7dlpVuwc3cFunfLRlb/y07GLD4stZxFexMpU4vmJVIu5SECRIAIEAEiQASIQH0kQA689dHq1Gci4BACPM9ncxz3liiK0r9icXFx4zFjxtzJcZx09dPdVuwmbXixtYqRG15se2LN0okve7uobXqR7rG3gd1qSPW83HywCo+vOyxjGNa5Gd7Zd0b+PqV3W4zIaRH6Lm38F6wph18Q4XVxmOrdgycuZMHv9sIb9GPB6XfR8b8fhZGOvQ/un/wMwmebIH6yAVzvIZqdd6e9Xa7oRFxTOKuoFqnma7fxxbq9pHmsCTuvfCPmZKRzmhgVgTzaKc1OTmpaR4MRjLW2xYnprK57FI3SeqPOzDkZLzJlLFKs1mSsLGMmX1Z9slK5apontdUKz7gUidI6o8boORnv8FaytyjEK3vZhn3wVQRk8HymBxMGXXZ0kz7J1h3PomZfJ2+d0camJWq6ZwXNq+k5z/Mloij+oaSkZEc8GvQ+g81YqSnVSN2LPlgwudkJNNu4CqWte2Lg8S/Qb/iQkDNuzefN3afw3KfH5e/33dQG3+POYvqWs+Foun2bIqtrFlZv/RqLJQfeK5/JXbwY2ee60Ddh5XKIq1bIv3GjxsI1enwtsKUffYx5B9PD0X4zzmHAzcrOtRV7yjFtc7gNhf2aIjMnS9FQ0XylCOjTtp6D3+WFV/CjsE/tCOiptDZLLU9lO5MpS03zkimb8hIBIkAEiAARIAJEoL4RIAfe+mZx6i8RcBABnuffAvBfAI9yHPdNcXFxi1/84hctAoHAtuLiYuUndpP7TxtebA1g5IYX255Ys3Tiy94uaptepHvsbWC3GlI9L6M386WIFysjIvAWDc9Cx+YNQpjqbPx38eL6FYXYlZ6B3HMH0LFjO2D7p2GkvQfDPWm6bsTxIhfVFMYqqkWq+eruvMMzWF3zyJHNegPQyDkZ7bi2oFcaMv46XfUaZS0Rw1NBlpXzsJGMU8HBbmVYXfcoGqX1RpSZc1LLGiyaGKs1GSvLmMmXVZ+sVK6a5kltNfsZlyJRWmnESH5bHNq1a4ejR49CFKWjVOw/8dZuya63YpUtOffmrymDXwC8LmDhiGz5Obumx5KT2c69h9A9JyOmY1oidBSvk3/sISAQADweuB59Elz7jokUTXkAqOleKjWP5/m/APgZx3GZgiDcUFJS8mWNEXie78xx3IuiKF4N4LTb7b7n5Zdf3sXzfJrP56u+or//dLvdj7388stfxzMevc9gO7SN1L3ogwWFNzZAh79Mi3jGXVhr/iutBSUaiz4+JkOpOej/+pvr8fyZq2UH3HubfYPbfzo4lE74bDPEv8+R83C/fQSuG/vVArtq8TIsSQ9H/5107hOMmjwhJnytGhnNd2nxByjxXyuXO8Z7BBPzfsTMyMn+P8KsYSkqWE3zUlQNFUMEiAARIAJEgAgQgXpBgBx464WZqZNEwJkEeJ4/0bJly2sXL17s53n+lM/nC909xvP8GZ/P14x1r8mpgzVh/eUbueGlv3X2z0F82dtQbdOLdI+9DexWQ6rnpVKUoOgIlDWMlNJmnK+EuHcHuC49IB4/CvGZP4c36O//H00Rd6NtoHalvZSeVVSLVPO12/hi3V6rax45srEeAfrLN3JOKkUnGvb6grCmjZ9SKzqR9EMi0Sr1U5A0j91Vx0YyTqTvds9jdd2r4UvRKK0z0syck1rWYNGkWK3JWFnETL6s+mSlctU078oenql7exG6R5EoLTB4rDYnlRxwlZzGEnHQiuc4zHJNWdeBtwLCY/lAwA94vHA9Kjnwha+mt8CwsFUT1HQvlft6PM8P8ng8+wOBwAZRFEdHOfC+D+AFn8+3dOzYsXcJgjDT5/P14Xl+DMdxD4iiKL0bXufz+f5PDTA58KoRSu53o3UvWnuiNS1Szw42bouCiBuxpEP90if6b9JB/z+u/BKfnU+TYdzYuBp/GP390HctB7zKlr6IGWIvObLvfG4bsif+Mjm4qHswZOmKD1ASiHDg9RzBxLHsHHiT7oDFC1DTPIs3n5pHBIgAESACRIAIEAFLESAHXkuZgxpDBIiAHgJ5eXnloij29Pl8Z2oceHmebw1gi8/n66SnrETSklNHItTY5jF6w4ttb6xXOvFlbxO1TS/SPfY2sFsNLOalnuiRmw5WYWPFWQzObIq+GU3q4AuufQPY8h+g/4/h/vFtCePV0qZEXpqqNYgFX7U669PvVte8GluQI5t1RqWRc1JvdCKJUiLRKhOhq+UFaCLlSnmMZJxoG+2czw66R9EorTXCUjkntaynonuvNbpZZD4WazJWVkklX1ZttHO5apon9S1Vz7gUidLOIyXcdivNSSUnWvHYEUzfUhVxdXwTZKa7UPbkPOxq1AG55w8ha+pM2QE2UT1kuaaMZsxyXemMUamvF2q6lyrNi2wVz/NloijeXuPAe+X9yN7u3bu3nD17tiCl5Xn+qCAIA1955ZX9+noEKRp2UwBnKisrIQih4uiTQgJm6p6WW2c2Cy3r7PsprQ/nvrwRm4KtZDL93Scxa9zA0HctB7ykNKVPL0Hp1d0x8Jv/ov8DU+JGA9e6Ro3mW7GnHPmbqxBwe+EJ+rGwX5OURjlP4dCwRVFqmmeLTlAjiQARIAJEgAgQASJgEQLkwGsRQ1AziAAR0E+A5/m/A2h86dKlKQ0bNjwEoDXHcYtEUbzg8/l+r7/ExHKQU0di3FjkMnrDK5EXoIlu3rPgpbdMo/nqbZ8T0qttepHuOcHKqe2DEfMyltapRQWS9K5s4VzsSs9A7rmDyMqfFXqRaScdNIJvakeEvUqzg+aRI5u1xpTRc/KN3afwYdkZ/Ci7GW67viWEzzZB/GQDuN5DFCOKh5x+15ShWgDSXEDRleuQU71m1PICNFHLGc040XbaNZ8ddK+GLc/zFI3SAgMtVXNSbd2m1NXQWi6GU1pNeiV9i7XWs+IaMFV8LTBULNkENc2TGp2qZ1yKRGnJIaC7UVaak0pOtOKe7Vh8RoodcfkzudkJdGtwCTOOtg1HjWx3DNlDhyZ1Y0IiEdC1wq4bgfcAhDn5QHU1kJYG1yNSBN6OWoujdFEE1HQvVZoXWW20A+/YsWNvFEVxeXFxcbeIdd0WURRnlpSUfKjXaDUOvMeOHSMHXr3wNKSX5uQ111wDyUFaFKU7sIz7rN7zLRZtrYzQtG9w/XsvYlezbOSeLgN321hMP5mB6qCINDeHohFZ6Hj+GPYXPX5lr+8AsgseCe31LV3xPnz+cGRb3itFtv2xXHZoHbhnB7ic7opRvitOX0LB6ohn6ZHZyGzeUBGG5LxbsKUKfpcXXsGPor5NkNU1WzFtNF+pHRslR+FW3THw5H8xIOQoTFHHEx11kua1bdtWyt6M47iziZZD+YgAESACRIAIEAEiQAQAcuClUUAEiIBtCfA8Lz0UrgTQXxRFL4DvAGwHMFSKymtEx8ipwwjK2uswcqM/0RegwpyCiE3xIlttEBnJV7vVnZVSw0Y/6Z6zTJ50b5Kdl5FOF9Jrgp3HL6B7m0aQrr+TPvG0Ti0qUNmrJZhxLif8IjN9D7L69rbV9ZzJ8k3awA4vwA6aV2MCcmSzxmA0ck5KEcbnrjssd3xmdy/6Pjsz7jpOydntQONrMC3i2tHC4VnIvKKxsahK5aitGVk5whnJ2BqjythWGKl7FI3SWNuyqi1Vc1Jt3abU/rK1axWd0mrSKq0TO56vVNQvLbrGimG8clPF14y226FONc2T+pDqvT2jIlGSIxubEWimI1t0jyQn2nzpYNYVx7WFI7IhHj+Cgk1n5Wfcov5NseN0EIv2+OXsU3K8GNmnM4T/rEbZyldlR7isO+6E64cjNYOTnNl2HL+IHhHP55ozx0moxFjNsS4V9daXMtSc2VKteVd0tFYEXlYOvPXFhvWpn19/cw6/XPoJvgsIaOBxYXbflvjDuiOyxv28x9V4cVfYJ3PmT3KQ/VEx/r9LuXKavzbciZseysc7b3yAR3eL0pUuUthmPHY9h2E/+5FmnCXbDmHee3vCz98/ycGYXh0U8z/5TDGWn79a/m1842/w0P15mura9vxzePB4B7n9T7U5hF733qcpLyWKS4AceGmAEAEiQASIABEgAkQgSQLkwJskQMpOBIiA+QSubEp15jiuslu3bhtqroYysmXk1GEk7dh1GfnyTcsL0OhoRKm8lo6V00Y8SxrJ1xojyvhWaHnBKbWKdM9421i1xmTmZaTThdfFQYSIgBQ10s2hxsEsntZV7CnDtM3h60MLQ9fOhSNerPK9gyXV4SgWk9IqMMJ7AuUffiS/xMz84c1wjZ6QErwsdDEZvinplMMLMVLzyJHNGYPJyDlZuOEw1ldUyeAGNaxC/tt/kr9z46fAdUttJwyltd471/bHoo+Pyfmm9G6LETkt4hoklWtGqSI9+mgkY2eMSn29MFj3Bnk8nv2BQGCDKIqja65VllrM8/z7AF7w+XxLx44de5cgCDN9Pl8fnufHcBz3gCiK0n7hOp/P939qPaRrldUIJfd7quZkdDTHgoHX4tuLgdDBLaVDXFKrV2/9Gov3hp3SJneRnNKukzuktE4cdmQTxOWL6mhlqnUtOarh3Knim6r2OK0crZqXymdcoyJROs1W1B9lAvtOnMPnh06jV0ZzXHd1eijR7i924tMvv8YPenZG1+93Q8gB7qWP8V1QRAM3hxfv7h1Ku33tB/jNp375mvZnb/Kix1DtzmxkE9sTiOvMlsp9PTq4YO+xYvbBhcjDAtuPX6gVkffWdm68eyQgO+U+/L0GOLm5FEvSfyBDn3TuE9w2ZSKWvvw+fIGICLyeI5g4TnsEXqVDEzXBBaIt/LeX3sVaV4b856HCQfzu7lsVB0I031XFb2NxxF7l5LQKjMobbu9BZGLr1Q4tmNg0qpoIEAEiQASIABEgArYjQA68tjMZNZgIEIEaAmPHjh0tCMKbPp8vmCwVcupIlqA18hv58k3tOjvlaETHUnItnVnRi4zka40RZXwr1F5wku4ZbxOr15jMvIx2uojsa42DWTytkxwxyle+FnbGveOOWs5sFXvKMW1zODpRYb+mCG7/BDMjovLOS9+DTneOSRozK11Mhm/SnaoHBRiseeTI5oAxZeSc3HKwCnMiIvA+3CMNvZfMiHu9sHi47hXEW4QWeDyynCHt0S+jScga0tWfO/ceQvecDGTmZMkWUion0auM9eqjkYwdMCR1d8FI3atpHDl16DaTpTKk0qmjxkGj5VVuFG44EooqGX2IS7oauea64pAjxer9qJYOeLmAhSM7ybc0hDSsdAum7W0oRzAr7HIJmZnXIPjn8FXs7v+RrmLPDB0kUPo7K9iSvu7Ycwg9unaodcAsur5U8mXVFzuXq8WpI5XPuBIroxx4KQIvm5Fp1zm56cBZbKiowpCspuh7ZZ2n5szGhqB6qXZlrN4za6RQ071Ua56S7l352wccx71YXFz8onRAC8AM6bBWIpTosFYi1LTnMfv5S7p5ZmPFWQzObIp2TdJQEHF7zO1XnYTvXEu5M5ObnUBuq4Yo2NtQPpxQ1OUSsvr3xtMr1uHdQBs57a2e43hg7JDQd63PpNHBUGJRXFb8AXz+CGdh7xFMyFM+IBHNV2mvMvJZXLvlKKVEQO35ligRASJABIgAESACRIAIaCdADrzaWVFKIkAELEaA5/njHMcFRFF80e12P/fyyy9/nWgTeZ4np45E4Vkon9EbXvE2lWJFrYzlqKGEMVa0NLOiFxnN10JDy7CmqG16ke4ZZgrbVJTMvLwc3aIcfkGExyU9FoQj8BYNz5IdNGJpneRgVvbkXOxq1AG55w8ha+qsUBni3h3guvSA5GwWrXnxIrnpiRAZbSBWupgMX9sMIhMbaqTm1XSTHNlMNHgKqjba4SDaGSP6emGlq42j06ze822tKEZT+lyDkTktQvoYfcghq2s4irnw2SaIH68H12cIXL36JUxPur5ZWP53Ob9r/G/jXt9sNOOEO2bTjGpOHalc68XSPbpW2aaDJ4XNjr6iOLJo6WrkyOuKlaJP1qQ/Oe8R7Pr0C/kw1/U/6IlWM+egunwfqnd8jgY9esGbGY7YG+vvKexaqCgpOuav1xyQHYv/MaIjru+Zm+pqqDx9BGJGoky17hm11qusrIQgCPooUGpVAnZ8/lI6wJ/ZvAGWLl2DEld4bTdGKMPEiSNkBmqOask8H8cDbUfGqgPHQgmMfMbNy8uTQt6PEkWxLYCTHMdVFRcX50g4xo0blxMMBl8A0ArAGVEUf1VSUrIjEVTkwJsINe15zJyTkvPu3IjDprOGtMeJ8358WHYGP8puhpbH9mPewcZyBN6ZGefRzhvE9H2N4Hd74Q36saDzBWQP6Itl72yD75ur5I7zV1/EhGG9Qt9TvWcnOeEWbKmC3+WFV/CjqK90I1j4QGwkfSW+et7PaLdk/Uyppnn1kwr1mggQASJABIgAESACiREgB97EuFEuIkAELEBg8uTJ3lMG+Z2BAAAgAElEQVSnTt0J4NcApCO2GziOe66qqsq3Zs2a7xJpolEb/RSpIxHrqOcx2+Eg0olDam3+mrJQVCPpOvqFI7JD19MXrCmX/1YT3Sja0UPKGy9CkdHRi2rIm81XfQTYP4WaUwfpnv1tnOoeJDMvJc2auroMAQHwuIDpg9rj20tB9GjTqFZ0tVhtlvIXrC6To7IV3tQQHf4yTY5OWRNxLTJ/rEhuyepasvlj9TEZvqm2tRPLs4LmkSObE0eWMX2SnNruWfYJvgsIaOBx4YUJP0Dn1pevVo78/PuTA1j4n33yn/J/2Bk//0FHvPjEc3gq0En++4Oe/fjl1PtC3yUnt2MP3Q34qwFvGto++RLSsjon1DF/xdc4NvVuiN99B65BA7R94qVaDnUJFUqZUkFA0ZnNiLUeK92jZ9xUDIu6ZbBYi0ReURwdgVd6bo11XXF064Rtm1H2wnOyA2/Wr+4LHThQer5lQ0e51FVvrsfiM1fLP05u9g1G/XSwYmIWfI3sq9XrUlvrSe1Pte5F7+tJdfA8T5EorT5YrrTPTEc2qQnRTrVKTrahQ1afbADXWzpk1RexDvCXvVqC6ee6hp3c0r9C9pXbZ2I5/daYSWu0ykTMajbjRNpspzxqzmyp1jwj2JADL1vKZs7Jwg2Hsb6iSu5gt6sbYtc3l+Tvt151Bu9ebBaxpjoBsWwvlrQcIP9t0qlSjPrdvShfuxYFle0QcHngEQIouuYosoYODaUL3TDz2FQg4Ac8XrgefSJ06D+Zj1YnXDP5JtM/u+RV0zy79IPaSQSIABEgAkSACBABKxAgB14rWIHaQASIQNIExo0blxUMBu8FcA+Axj6fTzpdrvtj1FV7uhtGGSxJIDIakSiijhNH4MgBfPrl1/hBz87o+v1uiI50JEU3+lmLSzie/0vZqaLNwhdDDhrnVpXg22fmyv1ucf8spI8KXzNvVPQiS4KvH42KGaGopvuke/VjILDspZImRUZcU6s7Ov9D15zHkJf/GFO3an5QiuSmpnlqbZF+J13UQsmyaRyneeTIxmasWcnRKlZk3eiovAvWSy9Fz8pApKtJpw9ujw1PP4v5TQfK0YxmnN2IQQ/8JpQu+NoyiKtWyHm4UWPhvmNCLahK0X9jUdcTzddKjNmMInNL1eLMxnqtx/N8awB7u3fv3nL27Nmh8JE8zx8VBGHgK6+8sl8vIXLq0EtMX3pWTgeRTmkigJ3HL6C7xkNcNT0IOaCt3o9qkUMaJ6JwZCd0PF+JsifnRdzQMBNc+8xQFlbRJKOJ6rkamRVffVZ2bmq9Th3JPONSJEpnjCMz52S0U23+wGuxcOMR+RB+4fAsZOz/DOUvPS8fXMj85b3Y4mqDudur5TXdrB5p6H/DdSGHtbKiOdjVpCNyqyqQVfA/ssNaLKffGiumOlpl5Ogwk7EzRmn8XujRvWQ0z0iWtNZjS9vMObnlYBXmRETg7da6IXadCDvwdrvKj10XPLUi8OLzLZjX6kfhv538AAN+/wDKSrdi2r6rEHB74Qn6Udj5IrIH9JHXgJcdeAOAx3PFgffy+pD1x0y+rPtmhfL1aJ4V2kttIAJEgAgQASJABIiAlQmQA6+VrUNtIwJEQDOBCRMmNP3uu+8mcBwnvfXuVlxc3FBz5oiERjnwklNHItZRz2Okw0Eo8mRENN3R3VqiePtJuZFTcry49YWZtSJRHmx8TZ2ovB22va94rTGraJLqFGOnMJJvMu20c149Th2ke3a2dOransy8jIy+VhMpXC3iWrxI40U3NUD7JwoAvx/weuEORdSouyEf68r54J/z40bvVaPGItpbMnzV2ku/A1bQPHJks9dIZPXyTe0KYyVKkoYWvB1xs8LwLEhOcNOkGxgEIM0FFI7IRmVVda2Xoo8MaY++GU2w+v1tWFwZvmJ08jUXMfLHl68YDS59Glj3TrjaIcPgnviA/F0taltke/VGcGPF2F4jjV1r9bzgZLXWk3pH0SjZ2TjVJRsxJ/VoYKQT7tvnm2DRx8fCz8C92+L6ik8w42hbVLvTkBasxvx2x5A9dGjIeTeWY69UQKqdeykqW6pHYmLl6dE8qYZU6V5irdWWixzZtHFKNJURmherbdFOtYMzm9SKTDmld1t0/WgFpjccJEeYXHBpAzY2zUFJ4Fq52DGeI5g49kchXRMey4+IOLlQfj5WWkdGPouHolXOCT8fux6R8iYXrbKmgWYyTnRc2CmfHt2zg+aF/o8WxaYAzlRWVkIQQme/6JNCAmbPyU0Hq7Cx4iykg6bHz/vx3KfH5d715E7jC7F5LX1D85Yo+Sb86m3M1ZcwcdgNWLV0JZa4rpfTThJ2Y9TE0aHvLA8lqJnCbL5q7bP773o0z+59pfYTASJABIgAESACRIA1AXLgZU2YyicCRIApgbFjxw4RBOE+juPuEkVxP8dxz/v9/pdee+21sCeljhZEO/CSU4cOeBZIauSGTPTGfl6PVli565QcmWNBqwPIKP6bTIUbPwWuW0bWuY4v3qZ8ql9iJmsiI/km21a75tey6UW6Z1frsml3svMycqNeciiL9wk5jEU5pknpayK2ZZyvvHIlXuyIGvGczpLRPL0OalqtkSxfrfXU13RW0DyJPTmy2WcEspiTepxho0lFO72t3vo1Fu/1y8kmd/FiZJ/roKS1kuPG1FX7EQAHD0Q8MaqTfG29sHJ5nQi8rtHj5XLVorZFtlPvy1IWjO0zwti31Ejdo2iU7O1pRA2s56QeDYxebx36/QJM+6xafgYuGp6F7XsOKepg2dq1io69EkNW6zgt9mHNV0sbnJxGi+ZJ/U/1My5LpuTIxpKuFNCRQ7t27XD06FHJaZBtZVGlRzvV3n1D61qObA8PaY9Ptu7A2kthZ7ahDU+j2ZlKlDQIO62N+W43Jt47WtVhTe3wRDLPx/HAmcnYUIOaVJkW3bOT5oX+nyYHXqajyew5GalFO45fqHU460bXaXwmhDWP9x4B1/V7tYKYSO9ExvdsjbKnFmJG05+ED3GdfQ/ZD+aH2LE8lKBmHCW+Wg96qZVNv18+mH/NNddIKFRv1iJeRIAIEAEiQASIABEgAvEJkAMvjRAiQARsS4Dn+b0cx7UVRdEH4Dmfz7cp2c5EO/BK5ZFTR7JUjctv5IZXrKhrYUe2Y5qjZbDalE81eSP5prrtdilPbdOLdM8uljSuncnMSz0OG1KPYjmm1fRWi5OYHqczPRS11K2nvJq0yfBNpL76lsdIzSNHNmeMLhZzMpW6VL52LaZHRJ5c0O4YsoYOrXOAS7KGpMHSbQ5+QYTXxaFoRBYymzcIGSr0gjN0xagf8HivXDEajrqmFrUt0trCts0Qn5kj/4m7/xG4evWLOSBYMNY6+uyyJtbaH6V0RupeMu3Uk5ecOvTQ0p82lXNSyVksWgP5Hq3Q6ioPurdpJB8qiLfWO9CuG3buPYTuORnIzMlCSJ8iDnwVjcgOlRNvHclqHaeFdir5aqmvvqVR0zyJB4tnXJacSfNY0jXXgbdmfVazrxftyCZF4N3yxX5sq24sQ+iVdh6/PPYRpjcdCr/bC2/QjwVn14ac1qT1XOmiJSht0R0DT+1A/99OqhVFt6x0C3burkD3btnI6t87KbB61lCke0mhVs2spnt207zQswk58KraPZkEZs5JaW2Yv6YMAQHwuIBf9mqDf0RE4L2j1UW8JkXb5ThpIGBmxnm0b9cK+ZvPIeD2whP0Y2G/dGTmZCP43puoeOsN7GqWjdzTZej405/B/ZOfymj06FQyPKPzRvOVnHenb6mSHY0X9G2CrK7ZqayyXpWlpnn1CgZ1lggQASJABIgAESACSRIgB94kAVJ2IkAEzCOQl5f3G1EU/+3z+c4l2wpy6kiWoDXyG73hpRYtI9nT3GZtbMWyptF8rTGqjG2F2qYX6Z6x9rBDbcnMS71Oa7Ec02o4aYmoocfpTA9/LXXrKa8mbTJ8E6mvvuUxUvOMYksvN9mSZjEnU6lLkhaVPTkXuxp1QO75Q8iaOgsHGrdVdNRV02A1p47SDz/GxvIzGJTdAv1vvikmeMkxrnzla/KL1Mw77gjdCqFnvWfEmtTMCJxsR23t0kn3jKTtjLpSpXuxDm5FaqB0mECEGHLiSHNzKBwePlgg0Yw+EICx9wGvvQRUVwNpaXA9UhS6Hl7pOTmWY69ULqt1nJYRkCq+Wuqqj2nUNE9ikspnXCMY01qPLWUz5mSkZkm3yoh7d4Dr0gMHG7dFfsRhq4UjsnCk4jAe/+93sjPbw99rgD7CCWwqfg2lrXti4PEv0G/sHXD16hu6gWHuusMysFlD2qP/lVtvpHXetH2NZAe4ws4XkD2gb0Jw9a6hzGCcUMdsmklN9+ymeaH/p8mBl+loNHNOLv/8BIp3hC+yvLFdI3x29ILc30Huk9gQbCV/n5RWgRGtg4rPl2YeyIpnoGi+q99aj8VnWstZJjc7gZG3DWZqYycXrqZ5Tu479Y0IEAEiQASIABEgAqkmQA68qSZK5REBIkAE4hCgDS+2w8OIDS81p92aHv7/7L1/mF1Vefd9nzOTCQRCCAghDJmZCEQheV+EGgJFEGstSdAKyBlsA/bno4Fe1/tKEopE+1w+LUZakkDbtxqtz1NQ0uqcCNhKgrXWKL+NxR+VoImYmUBIQpQEQpBMZs5+r32Sc+bMyTln77X3vvfZe+3P/KOTWevea33udX/Z5z73WqvRVfOVU9X8UDBNwPuxGbZNHHzDjjHt/W1MeqF7uqsyTFzWF60tveR02fvrkYYnrpW/tGlQmCZumceRLzhz3T3lK5Brf280e786akrOz7NNbYbha/qsLLZH87Lo9XBz1orJKHWpfgPXfT/aI8WfjH0p6p5uef15pxw+pfLhwXFXz7unVLo/XqcCuUUft/x80thJby2KPgZ/Nii3PPVqzQlDJ0jfW/qaOqKecVzvpEn9wjfcij26N7oXNVH77UWle/WbBvpnnywnTTp80q57Sb174uTLvx4ZdyWye9rkgllTq5Dr41TmXiqy6ZHq33OLFrfcINBKazXe4/ysjqj4+nlWFtugeVn0erg5xx2T4zY35EX++um/k959L5Q3JTz//9wpS/7roIw6Ih05kbsWzizflvD4D5+Tx557WS4962S56Lw3l9/bln3vNTmUnyATSodk5YXHl09zXPnoDnlkaH8VyKW9k2XZO7rLv3/pM1+WdVPeVv3bta/8UG646YOB4Jm+Q8XNONCkUtwJ3Uux89o09HbG5Nof7Rn37nfFWVPk29terX5GXdK5VVa/3jP2WfL4rdI7b27DWwfbuSGrlevq+Q5tGZRlT459Pl550QnlWyT4CUbARs0LRoJeEIAABCAAAQhAIDwBCnjDM8QCBCAQI4FCofBwsVic7z6yUCg8ksvl3O+ajvoZGBi4LMZh+X4UhWy+UQVqqJ3wMrlu3uuqea8JmibgvexF8XdtvlGMMe02GiW90L20e1V3/GHjslJIMfXYTln56ItNrnIfK8qtLdh1/39pxdKjTl3TnXG81sPyjXe06Xsampc+n7V7xEmPyUbvio8OvTruS9H+OSfLovMOn/jjnsz22NCrcmnvCTLvyIls7r97nQr0pc9/VdYdN7vqjmsPPCM3fPgDDd1j+k5azziud9KkfuEb9ZpH96Imar+9qHSvdtOAe0VyTnLl977ak3a9TiSvj1O5+g9EvvKPVSfkblwu+QsuSpVTouKbqknHONhmRR1p/oxLXk93AcUdk/WbGz685X6Z/+KT5Un+y3s/JsXXTqpO2N34sOhtY6c2Vv7wpYH/lHWHTh97L5vwotzQ/1vy5I+ek0//93DNab1dctF5Z5bbRVnAa/oOFTdj3RWTPOu86yXPJ0kfUTtj0n33qz9pvLKxy93kNePAbnn8M5+Xx0+eLZf86r/l4psWS6vN++3akNXKx434hr01MelrKs7xUcAbJ22eBQEIQAACEICA7QQo4LXdw8wPApYRKBQKtxWLxU+70+rv7/+k4zgNC3iLxeL/SuLUSfTrekU74eV11XHt7Nyr5pftPK16MtrK6buk7z3v8XU6pWvHNAGvS/awdW2+ccwh6c9okuhH95LuuDaOL6q4rD8h8oLpx8kfXXCquFeI1hbpuqcQPZs7sXxa2xk//JY4a9dUZ+916lqlYRIT+s1cGBXfNi6RRD8azUu0exI5uKTHZKN3RVcvP7p+W/X0trsXzhT3pN1WG8MGn/ie3LL1mLGTjs5+Q/ouvrDqky99ab2sy7+5+vu1pV/IDTcsbOgz9530lp3TxmxN311+J/Wre3G+k6bpvw9BAwTdC0ouu/2i1L3Kxq1WJ+16nUheG6fO1p8EehdMkjej5JukeSVlLC0KeFP7GZe8nu7qijsmx21cyIv8zX/9nfS8cvgE3n/5vTukODRSnXDtJqxaCvd95T+lODJWwFvofFGuv+63xN0E9cQ3viuPn3KeXPLSj+Si+ZdVTykffGKTLNt6zFjOsPyuNzcwXJN3qLgZB55USjvyrpdSx7Vx2O2Oyfp3v9rfS7tflFue2l9zm8vk8gnjafppN980sQoyVgp4g1CjDwQgAAEIQAACEGhMgAJeVgYEIACBGAmQ6NeFrZ2Q8TqRqHZ27nXFS5/aLyMdE6Rz9JCsmjdZeo/PGZ1WaZKA1yV72Lo23zjmkPRn2Jj0Qvd0V11UcVl/bZ47avdEtr85ebv0DPx9eRJDx02TP597sxySvEzI5+TO3lek559ur06w0alr9ToW11XsUVGPim9U47HNDppnm0f155P0mGz0rujuNly6YfCoE85bbQwrPXifDG78jjw7Zaacu2+b9L7rnZK/6voqYPfazyVPjr1nrr5octNrP90C3G133yHPTjpDzj3wgvTd/LHyqUnNfhoxTto7qf5K03sCuqfH1lbLGrpn8rm2Fdc4C/y1/KvBV2usabSL5qXRa+0dcztisrZYzd3A6mx9RnJnz5Hnj5smN28YlJGSI535nNy1oK+8Cav+BoXye5mb/8tPkM7SIVnt5v9m9R3emH/7R0VGRkQ6OyX/ibvHvYNte/wp2fzTIZl9zsyGxbta71/tYNzeVRXv09G9eHnb8LQkxWT9JtPfze2QdTUbFD7cNSRXFq4IhL1dp94miW8gcAnvZKPmJRw5w4MABCAAAQhAwGICFPBa7FymBgHbCRQKhf8uFov/V/08C4XCD4vF4tuSOH8K2XS9opWQqU3m114j5Sbum/00Ksq44sUnUn1CkRZf3VWRLuteSS90L13+jGO0UcWlW8hx84ZtMlIaP+qPnD1Brrj3VpHhYfnnMxfIuhnvqja49viX5fe/fkf19/oTeBsV67pfhgY5tTcOlo2eERXfdo0/6c9F85LuoeSNLw0xWX+CUbNC3VYFdKMP3ify0MCYA67sl46aAl73DyZfgJoUgKSBcfJWpv8RoXv+WdHyMAGtmPQ6abcZ//p+JlrUyqd+dMpPG9N1o8XXdBy2tvfSPHfeafuMS15Pd7UmKSZdvVty5DNyZ15k9YKZ8uL+YbnjuzuqED52Wbec9vxmWfbzSdUN/CvPel1m/ua88g1cpduXiIwcEumcIPlPrJZcd2+1bysdPtz35pri37vG9Q3jhSQxDjOPpPb10r20aZ7LGd3TXW3tjslaLXrmpddlzabd1QkXJrwoX3vjTWMn8B6/Vfqu+YAxEPd9sV0n+babrzGslHXw0ryUTYfhQgACEIAABCAAgbYSoIC3rfh5OAQgEIZAoVDYXywWJ9fb6O/v3zswMDA1jG2tviS8tMgetquRkGl1vXGr2TQqyjhj2w/E+cyKarfcTcslf/5FulAitK7BN8LhWWHKK+mF7lnh5kgnEWVcunr36NCr8sDml8snRbon8K6a3yfulXmbt74g2yadJv++c7Q6/kJPp/zeP99a84Wk+6Xi2KmO7pWh9cW67klGpRVLygXB7rWk+eXul5jNT4KMFFYAY1HyDfB467ugeda7OPIJpjEmWxXqNivc8DqxLXKwNQbTyFiTR9S20b2oidpvL0kxWf/ZeMklp8vqx16U4dHD740r5/dJb4tNrs01b8jzphrTWxz8Fvsmia+Nq9lL89w5p+0zLnk93ZWapJhstAnLLW57ZGh/FcKlvZPlnC2Pyecn/t/Vf/vwwR/LlX/cL40+D+cvX1hu55Vr9LOZK6gnksQ46ByS3M9L99KmeS5rdE93xbUzJo96t3trp6z+8YGxgt2z35DSun+SZ4+fIee+9rz0LbktUA5v/dcfkc+9ckoV5Eem7JGF7730KLBRbQyrNdxOvrorJxnWvTQvGaNkFBCAAAQgAAEIQCAdBCjgTYefGCUEIFBDoL+//4+PJI/+PxH5s5z7KXzs5y2O47y/WCy+NYnQSHjpekUjIdPqemOv2dRfq9csee/3y0Wv52n/XYOv9pjTZr9Z0gvdS5sn4xuvRlzWnzq+7OHBcmGGe+qQ44iMOiKdOZHVb58oZ9y1tOmpQIcL0NxTgyonDh0u8E2L5rle1OAb3+pI/pPQvOT7KGkjTGtMBjnpsl1amVbGSVurzcaD7qXFU8kZZ5Jisv6zsVu4VlvItnjuNFkwa2rDd71ygciGbTJcEunKi6xcMLNa7NuqyK3iCT9tKm1Nin2TxDc5qy66kbQq6kjrZ1zyetGtj0aWkhSTjTZh7dw/LCtqTuBdflm3THvhp3LL1ok1BW8Hpe/iuVL+PNxk86pXrrH04FpxHvpKFVHuyuskf9WiSOAniXEkE0qYEd71EuaQFAynnTFZr0VuYe1b/+OL8uyUmXLuvm3Se/XVkjt7tri3abkb8oNuwB/aMijLnny1qpMrLzpBemf1jfOO6Sm9fot928k3Bcsv9BAp4A2NEAMQgAAEIAABCEBg7LM/LCAAAQikjUChUNh2ZMzukX3bK+PP5XLuxd+7crncX37lK1/5RhLnRaJf1ysaCZlWp6a1mk2j0zR6Duw+Knkv4nieNqRLzb91Db7+n56Nls2SXuheNvwfZJbacVmfzM+LiPsfW7eAd+Upz0vPwN+PfbBYtFgqJwq5/6h57WcQVkH6aPMNMiab+qB5NnkznrkQk2Oc/X5haeoZGJsSM2uP7pnxonU8m4n8bjL4t5++LF/4r5eqbrnm3JPk3366t3xzw4R8TlYv6JMZB3Y1vPZ9/feek89tPVTt+5GzJ8jCC88s/96qyK3SwU+bSluTYl80TzfKWhV1pPUzLnk93TWTtJhspI/1m/VdItsef0o2/3RIZp8zs1y8O6ZdQw0L37xyjc02w0ZBP2mMo5hTkmzwrpckb6RjLO2MySef3y+frtmUcOsZr8m8+/5yLM9343LZfty08q1cs2fNOKro1oSw1+dXv6f0us80KfZtJ18TPmltSwFvWj3HuCEAAQhAAAIQSCIBTuBNolcYEwQg4ItAf3//+oGBgcN3j6Xkh0S/rqO0EjJ+v9CsnV2z0zTqT1Mz+XJRl563dS2+3k/OTguvpBe6l5214Hem2nFZn8yvHddHTntdrrh/hcjwsEhXl+SXrx53Gkea9K0Zb22+fv1sazs0z1bP6s2LmDzM1uQLS1NvwNiUmFl7dM+MF631C3i9rnGv9cHKR3eMO3H3gunHyY93H5CRkpRvali9YKacsbEo8tDAWLcr+6Xjqutl8P51cstrs8ZOqDx+i/Rdc221nZ9Tx/20cQ2aFPuiebpR5qV57tPT9hmXvJ7umslSTHrlGv1qnqlHssTYlE0U7b10L22aV/7vquOcICKv7Nq1S0old0s3P1ESaGdMep3AK++8Qm458BY5lJ8gE0qHZOWFx0vfW2ZK6eknxPn+o5Kbe5nkz58XCQ4/p/RWHmRS7NuIr5f+RjKhI0a0tDzKMYax5aV5YWzTFwIQgAAEIAABCGSNAAW8WfM484UABNpKgISXLv52JrzqZ+Z1mkalvcmXi7r0vK0nia/3aNPZwsakF7qnuxa147I+md9RGpHRfKd0jQ7LndN3S++5s5pepZcmfWvmJW2+uqsj+dbRvOT7KGkjjCMmNb7MC/KlXatxmHxhaerDOBibjsmm9uieTd6MZy7aMel1jXvtLJ96fv+4q+OvOGuKfOPnr1SbLJ47Ta7YvL7hte+jD94nQxu/U72Suedd7ywX9mr9+NVdbb5a80uLXTQvLZ5KzjjTEJON3tH8ak4SSKeBcRI4BR0DuheUXHb7tTMm67+/WPLWCbL6x69VN1y9c+I++ebIqVXnXHv8y7JoRk6cz366+m+5G2+T/AUXR+JAr1N6Kw8xKfat5+tq+JIN28ZtQOs9cWIk4683YsPNZF5gbNQ8rznzdwhAAAIQgAAEIKBFgAJeLbLYhQAEYiFQKBTeIyK/k8vlTnUcp6ppxWLxQ7EMwPAhFLIZAjNsrpXw8lvIUd+u0bV6jaY0uu4ekU3fFZl3uXRck8ilWx62Fl9DN1vd3E/SC92zegkYT047Lscl8/MiH918n+zLT5JzD7wgfTd/7PBVei+9LrNPnSQ9DRLeGqdyGEMK0UGbb4ihWdEVzbPCjbFOQjsmTU6i9Dvx8pd2K5bWnFa+SnLdvS27e41j8InvyS1bjxk7yfLsN6Tv4gv9DqllO23GkQwyxUbQvRQ7r01D145Jr42n9Z9pa3+fPrlLbq4pgLhrwUyZcWC3lG7/qMjIiEhnp+Q/cXf5hobyxq6//H9FSqMi+Q7J/8+/HXdzQ5vw8hlXGbwfzXOHkKbPuOT1dBeNtuaFHX2jd7SeA7uM3/XCjiNM/6QzDjO3JPT1o3tp0jyXKbqnu7LaHZO132c889LrsmbT7uqEz5+akx/sdaq/F3o65feefUBk0yNjUOZeKh0fvqX8e5ybGR7fuEkeG3xF3jFzqlz8zt9o6qR6vmt/uEcGnvlVtX3/7JNl0dtOUXGyu4Gt0c0UKg9rk1E/mtemofFYCEAAAhCAAAQgkDoCFPCmzmUMGAIQqBAoFAo35RwRh0IAACAASURBVHK51SLysIjMd//XcZzfEZEHisXioiSSIuGl6xWNhJdXAUVlRm67pRsG5VDJkQn5nCx9x+my+rEXZXjUka6OnKyc3yeNdnOPfvNfRQa+MAam/0+l4z2/G3vSy49nNPj6eW6W2nglvdC9LK0Gf3ONIy5rk/ml3S/K5q0vyOxZM0ROnS7LHh5sqnOHT5pYIjJySKRzguQ/sdqzaM3frONrFQff+GaTvCehecnzSdJHpB2TJidR+mVV2rhenLVrqs1zixZL/vKFLbt7jcO1OfjgA9WTLHuvvtrTpt/xajP2Ow5b26F7tnpWb15xxGSzDatuse4d391RndzHLuuWi2dMrv5e/xl41YI+KRey3X5zTQHvXeX3v/KmLqXT2sLQj4NvmPGlva+X5rnzS9tnXPJ6uquy3THptYG/0TvaFS8+Yfyup0uxtfV2M27n3ON4tpfupU3zXGbonu7KSVJM1m/s+tDbTpEv/NdLVQC3XdYtF/5yszif+dTY59ubPi758+eVi3dNN64GJeue1HvLU/vHNrTOmyx9b5nZ0NxRBbw/2iMDP6kp4J1zsiw6T6eAt/Tg2oY3UwSddxL7eWleEsfMmCAAAQhAAAIQgEBSCVDAm1TPMC4IQMCTQH9//7OlUmnJunXrNvT39+8dGBiYeu211xZyudy7isXiTZ4G2tCAhJcudI2El1cBRWVG9/1ojxRrkj8XTD9Ont55oDph9zrRBbOmHgVg1P1yc+i5sX/vPVM6PnFXrEkvv17R4Ov32Vlp55X0QveyshL8zzPOuKzf0PD+c04ap3v1Old68D5xHhoYS+pf2S95xauS/VPz3zJOvv5HZU9LNM8eX8Y1E+2Y9DqJMsg8y6dOrlhScwKvu5mhp6Upr3EEsel37NqM/Y7D1nbonq2e1ZtXO2Ny5aM75JGh/dXJXdo7WZa9o7v6u0kh2+jn72x6WpsePW/L7eTrPbr0t/DSPHeGafuMS15Pd122Myb9bOB339GW1GzeX72gT87Y9gNxPrNi7HPvTcslf/5FuqBCWG8n4xDDTk1XL91Lm+a54NE93eWXtJhsdSJvJe/X6LatIBtXg5Jd//VH5HOvjBXdfmTKHln43ksbmqvn20jHG90oFnRstf3Kn9vLG9sqBxu4G9ta5wKieG6cNrw0L86x8CwIQAACEIAABCCQdgIU8Kbdg4wfAhkm0N/f/+rAwMAJLoJCobCvWCyeWCgUOkRkR7FYPC2JaEh46XpFI+HlVUBRmdHaut3bV5w1Rb697dXqyZSr5vc1vF5+9FtfF/ny58fAfPDD0vHu90qcSS+/XtHg6/fZWWnnlfRC97KyEvzPM864rC/S6J9zsjz47MtNdc6Gq+Li5Ovf6/a0RPPs8WVcM4kjJr1OXgsy1yBXiXqNI4hNP2OPg7GfcdjaBt2z1bN682pnTD71/H5ZUXMC7/LLumVezQm8jT4rzziwu+GmhdIPnmp4WpseOX+W28nX3wjT3cpL89zZpe0zLnk93TXZzphstCnh3FMnyeaXXpfZp04q5/Tc97MlG7bJSEmkMy+yesFMOWNjMVVXpLeTse7qSYZ1L91Lm+a5VNE93bWV5Jj0+71IeZ14bFz1+nxrQnloy6Ase/LV6gm8Ky86QXpn9TU00Yjv4z98Th577mW59KyT5aLz3mzyaOO2Wp/bjQei1MFL85Qei1kIQAACEIAABCBgJQEKeK10K5OCQDYIFAqFF4aHh8/52te+tr9QKPxMRK6cMGHCr0ZGRoYqhb1JI0HCS9cjWgkvPwkmN6F1c00S/64FM8URGZfobzb70W/+q8hT3xa5+N3l4l0/SS9dko2ta/Ftx1yS+kyvpBe6l1TPtW9cccRlRQNPOrZTVj724riC3Xqdq01Mu1RKt3+05grlu1N30kQcfNu3etr/ZDSv/T5I2wiISX2PwViXMbqny9dG63HEZLPPu+6/37x+m4w6Ih05kbsWzpSeA7vE2fqM5M6eU36va9S3UaFC+Vrlv/qoyOioSEeH5P/CfS/sbbvL4uDb9km2cQBemucOLW2fccnr6S6odsZkfaHa0ktOlzsf3TGuWNct5l2zaXcVgnsa5e88+c8ij3xjDMylV0jHh/5MF1QI6+1kHGLYqenqpXtp07xyjtpx3ANUXtm1a5eUSqXU+CItA016TPr5XqTCulmxqp8Tzk385T5n2+o75NnjZ8i5r22XviW3NX2vrOc7+LNtcstT+6vFv3fOmyx9b5lp8nja1hDw0jxgQQACEIAABCAAAQj4J0ABr39WtIQABBJGoL+/372X+6GBgYF7+/v7V7oFvI7jHBSRF4rF4uEqyIT9kPDSdUiUCS+T5FRlVlHv3g6zQztM32ZeipKv7kpIr3WvpBe6l17fao1cOy7rk+xLLjld9v16pHoCUe28yoUZK5bWXBO/qvzn2iIPLQ5adrX5ao07LXbRvLR4KjnjJCb1fQFjXcboni5fG61rx2Srgor60yg/cvYEueLeW8e96/ktwk3iDTPuetHma+OaNJmTl+a5ttL2GZe8nskKMG/b7piszQU+MviqDDzzq+ok+mefLJf2nSBLHx4ct6m1+9++IPLdmgLey66Qjhso4DX3vh09vHQvbZpXzulQwKu6ONute1FOrtn3KY1OOF8wa+pRj/b7fYzJe2U93/Vff0Q+98op1Wd/ZMoeWfjeS6PEkClbXpqXKRhMFgIQgAAEIAABCIQkQAFvSIB0hwAE2kdgwYIFE6dNm5a755573igUCl0islREThgZGVn5wAMPjGVY2zfEo55MwkvXGWETXpUk0dRjO2VVzSmTK+f3Se+JE8uDb5ZI8rt7u/T0E+J8/1HJzb1M8ufPUwHSqIjO7xerrQYUlq/KZC0z6pX0Qvcsc3gE09GOS79JdncqJgn0CKYeiwltvrFMIsEPQfMS7JyEDo2Y1HcMjHUZo3u6fG20rh2Trd716k+jvPPk7TJj4O+rmHOLFkv+8oW+sHtdq+zLiEIjbb4KQ06VSS/NcyeTts+45PV0l2C7Y3JcAe/QqzLwk5oC3jkny6LzTjkqL1h6cK04D31lTBuvvE7yVy0q/66xuT6sB9rNOOz4k97fS/fSpnnldUwBr+qysyUmW20Ke+KHz8kdPxl2d065C0o+NqdLLn7bmeO4mpzSW3r6SXE+u2JMd29cLvkLLmrop6NO4H3ie3LL1mPGTuA9+w3pu/hCVR/bbNxL82yeO3ODAAQgAAEIQAACUROggDdqotiDAAQg0IIACS/d5REm4VWbJHKvB3WvCa38uFfiubvC3TZLNmwbd31epbDXz+5tt3h38Iv/R56dMlPO3bdNev/gjyV/wcUSdVGvVhFdGL66nrfHuo1JL3RPd31qx2V94caq+X3Sc2RDQ/3MklqYEcYD2nzDjM2GvmieDV6Mdw5RxqTf031MZ5jEQg2TOUTJ2OS5WWmL7mXF09HNUzsmvd71arVyxoHdsu3uO+TZSWfIuQdekL6bPya57h7fk22lj+3STm2+vuFY2hDNs9SxitNqZ0zWF48tveR0Wfnoi3Ko5MiEfE5WL2j8Wbj8Ofj2m0VGDol0TpD8J+4qa6PW5vqw+NvJOOzY09Af3UuDl5I1RltistWmsPu+9rgUXzupCr5w/Mty/ft/c5wjTA8QGHzwgbHvWK6+uummsnq+ow/eJ0Mbv1Pt2/Oud0rHVdcna1GkaDQ2al6K8DNUCEAAAhCAAAQsI0ABr2UOZToQsJ1Af3//H/uZ48DAwP/x0y7uNhSy6RIPk/CqTxJ15qVcqNvVkZNKwdraH+4Zd33eFWdOkZknHVO+St55aacse/LV6u7tlRedIL2z+sZN+Bf/uEZunfib1TZ/ffBx6fuN88T57Ker7XI33lYu6g3zo1VEF4ZvmPlkqW+jpBe6l6UVYD7XOOLSpMitXcUX5uT89YiDr7+R2NkKzbPTr5qziiomTU73MZlPUgs1TOYQFWOTZ2apLbqXJW9HM9c4YtLvu15ZOzdsk2H3c3JeZOWCmdWbasLMtp3aGQffMGzS3rdZUUeaP+OS19Ndle2MyUbFY+eeOkk2v/R6Oe/XbCOrS6TR52CtzfVhPdBOxmHHnob+vOulwUvJGqMtMdlqU9h9j/5cikMjVfCF3k65/h1njXPEk8/vl09/d0f13267rFsumjG5obO2PfE9+fOaU3T/5uw3ZGaTU3SPKuD90j+IfPcbY3Yvu0I6bvizZC2KFI2GAt4UOYuhQgACEIAABCCQeAIU8CbeRQwQAhCoJVAoFLb5IOIUi8U3+2gXexMS/brIwyS86pNM7kkbe389Uk7S79g/LI8NvSolx5HHtr9WnUQ+J1JyDhf53nl+l5Q+/zfy7PEz5NzXtkvfktsk1907bsLrv/UD+dyuY6v/9pHTfi1XPPcfIpseGWs391Lp+PAt5d/DFMKF6dvMS2H46nreHuuNkl7onj3+1ZgJcalBdcwmfHX5onm6fG20HlVMmpzuY8IxqYUaJnOIirHJM7PUFt3LkrejmWuSYtJG7UwS32hWTLKsNCvqSPNnXPJ6umusnTHpdSK56cy1NtebjqO+fTsZhx17GvrzrpcGLyVrjDbFZLNNYa6+urcaHiqJTMiLrF4w86hNESbvmX5uQqx4udEJvPLQwNgiuLKfE3hDhAQFvCHg0RUCEIAABCAAAQjUEaCAlyUBAQhAIEYCJPp1YYdNeDVKMj3x/H65o2b3d0dOZNQRqfxvZUYfmbJHrvjandUJ5hYtPurqpvKXAet/IcNOTrpyjqxa+Gbp/q9/F/nyP46B+eD/kI53vy+RV+2F5avrfTus25j0Qvd01yZxCV9dArrW0TxdvjZaj0rzoi7QqLBOaqGGyVqIirHJM7PUFt3LkrejmWuSYtJG7UwS32hWTLKsoHnJ8kcaRtPumPR7Irlflhqb6/0+u1m7djMOO/6k90f3ku6h5I0vjTHZTCtbaZ6XvpqcwDv4xPfklpoTeO88+w3p83kCb/kz++0fFRkZEenslPwn7pZcd0/yFkZKRmSj5qUEPcOEAAQgAAEIQMBCAhTwWuhUpgSBDBLIXXPNNafdf//9O5M+dwrZdD2kkfBa+egOeWRof3XgF0yfJBeeMVlOOrZTVj72ogyPOuUTeFdeMFHO+NtlIsPDIl1dkl++umHypz5Z1eyktiSe4KbBV3dFpM+6QdIL3Uufe1VGrBGX7sYF99TxS3tPkHlNrqtrNhmvhLzbr/T0E+J8/1HJzb1M8ufPq5riy02VJZJoo2heot2TyMFFqXl+9CoIhCRqmck8omRs8tystEX3suLp6OaZtJi0TTuTxje6lZMMSwaa5w44FZ9xyevpri1iUpdvOdByOZk+fbrs3LlTHMfRf2DGnmCge6nQPNd96J7uIk5bTLrvgsseHhz7TmR+n/SeODH0YST3/WiPFH/yqyrswpyT5frzTmkIv/TgfTK48Tvy7JSZcu6+bdL7rndK/qrrG7ZtxHfb40/J5p8OyexzZkrfxXN1HWy5dQPNs5wE04MABCAAAQhAAALhCVDAG54hFiAAgTYReN/73jfpmGOOuTuXy31IREYHBgaOu/baa9+fy+XmFIvFT7VpWC0fS8JL1ysaCa+nnt8vK2pO4F1+WXe1oK3+y8sgBRvNTmpL4gluGnx1V0T6rHslvdC99PlUe8RRx2X9qeMfu6xbLvZZxNssiV/LoFy8+9lPV/8pd+Ntkr/g4tCJfi3OUfPVGmda7aJ5afVc+8bd7pgMWrgW5B2xXZTbzbhd847rueheXKTteU67Y7Je94LqoOuRZpu42umtdvNt59zjeLaX5rljSNtnXPJ6uiuHmNTl61qHsS5jL91Lm+a5tNA93TWTtpjcsGWvrNm0uwpl8dxpsmDWVAl7GMnaH+2RgZoC3v45J8uiJgW8ow/eJ/LQwJhjruyXDp8FvIM/2ya3PLVfhju6pGt0WO6cN1n63jJT18kWW/fSPIunztQgAAEIQAACEIBA5AQo4I0cKQYhAIG4CPT39/+D4zhn5/P5/1UqlR4qFosnfvCDH5xRKpU2DAwMzIlrHCbPIeFlQsu8rVbC619/+rJs3PaK/NbMKfLet55UHVj9KZV+Tq1sVMAxuu4ekU3fFZl3uXRc49ajH/5J2hecWnzNPW1vD6+kF7pnr++DzizquKw/dfzS3smy7B3dTYdXW8TxzEuvN0zi13Ye/fydIpseGfunuZdKx4dvCZ3oD8rPq1/UfL2el7W/o3lZ83j4+cYdk7Ua555P1uikIa9Zue9+pRVLa25pWCW57t5ytyQW9sbN2IufbX9H92zzqP582hmT9ZuzllxyuqyuvYXmyIlrfig028Tlp69mm3by1ZxXUmx7aZ47zrR9xiWvp7u6iEldvq51GOsy9tK9tGle+TOL45wgIq/s2rVLSqWSLsAMWk9bTG7fd1CW1pzAu2p+n/SUT+DdLqUVSzxvJ2zmYtfuzRu2yUhJpDMvcteCmWW7jX7Kz7r9oyIjIyKdnZL/xN0Nb0JspHnrv/6IfO6VsZN9PzJljyx876UZXHnRTNlL86J5ClYgAAEIQAACEIBANghQwJsNPzNLCFhJoL+//3nHcc4rFosvFwqFl4vFYrmysr+/f+/AwMDUJE6ahJeuVzQSXs1OlKw/pfLqc0+SBza/XJ1go1MrGxVwlDb/SGTgC2Ng+v9UOt7zu4k8jVKDr+6KSJ91r6QXupc+n2qPOOq4bHXqeP1c6vVx6SWny6qaoo5KEr+2X+kHT4nzmbFD8nM3fVzy58+T0tNPivPZFdWmuRuXS/6Ci7TxedqPmq/nAzPWAM3LmMMjmG4cMVkp2p16bOc4TbvqrSfJwDNjV3pWThqqn1b9BqxmJxG1KuyNAFVgE3EwDjw4CzqiexY4MeYptDMm609Yczd2PTK0v0qgmQ42QtRsE1fMOI96XDv5tnvucTzfS/OO5PBSldsjr6e7cohJXb6udRjrMvbSPfJ6uvzTaD2NMdnsRoawG1RNbnrw+6x6vkNbBmXZk69WT+BdedEJ0jurL41LJxFj9tK8RAySQUAAAhCAAAQgAIGUEKCANyWOYpgQgMDRBAqFwq49e/acsXHjxpFKAW+hUDg2l8s9NzAwcHoSmZHo1/WKRsKr2bVQ9adUvmlSp/zy9ZHqBBudWtmogMN59JsiQ8+Ngek9Uzo+cVciT6PU4Ku7ItJn3Svphe6lz6faI9aISz+nibvzaqSP5546STa/9LrMPnVS05MyGp0uHvaqPS3OGny1xppGu2heGr3W3jFrx2TtxoSOnMioe+zukZ8rzpoi3/j5K9Xfb7usWy6aMXkckEYnTOamdTc8iQjda+9aatfT0b12kU/vc7V1r55MbeHEi/uH5dPf3VFt8qe/cap88Yd7ZHjUka6OnLibtWYc2CXO1mckd/ac6slnDW+d+da/iXz5H8ce98H/IR3vfl/bHRM337ZPOOYBeGmeO5y0fcYlr6e7iNIQkxoFZrpUx1tPA+M4eUT9LC/dS5vmuXzQvahXCTGpS9Sb7+DPtsnmrS/I7FkzKN4N6QwvzQtpnu4QgAAEIAABCEAgUwQo4M2Uu5ksBOwi0N/f/28i8s2BgYG/qyngvVFE3lMsFq9J4mxJeOl6RSMJ3exaqPpTKt/z5hPkm794tTpB98vN9721fCh09afRCZPO3l+KfPnzY40++GHpePd7Q187pUFag6/GONNs0yvphe6l2bs6Y48jLuuvkK8U6LozanRtntdMGxV1HL7+7maRkUMinRMk/4m7ml5/52U/yr/HwTfK8abNFpqXNo+1f7zaMVm/MaFSxOte4XnNuSfLwE9an8Db7ITJ5rrn79rPOMlrM45zLkl8FrqXRK8ke0xxxmT97QqXzzxB/r1m40L/7JPlHX0nVDdrucW7pRVLa65KXlWGWf9vue7eRG5QdccaJ99krzSd0XlpnvvUtH3GJa+ns1YqVtsdk17Fuc1u6WpEpXzbwu1Laj7jrhZXD9v9027G7Z6/9vO9dC9tmufyQvd0Vw0xCV9dArrWvTRP9+lYhwAEIAABCEAAAnYRoIDXLn8yGwhkisAHPvCBt+bz+e/mcrmtjuO8PZfLPeI4zvkdHR0Xf/nLX96SRBgkvHS9opXwala8tmP/sDw29Kpc2nuC/PxXb4y7Vtn9cvP3T3l93GlEow/eJ/LQwBiEK/ul46rrZfSb/yry1LdFLn53uXi38uP3KihdqmPWtfjGNf40PMcr6YXupcGL8Y5ROy5d/Vu6YVAOlRzpzB0ucnD/v3vq2sr5feKezFbRwXl1J1GWv+jZMTROB5tdGV/+97+6WWR0RKSjU/J/4Rbw8uVmvKsp/qehefEzT/sTtTSv8q530rGdcuejL1Y1T3I5GSk5MiGfk2XvOF1WHvmb+/vqBUefPFn6wVPifOZTVcy5mz4u+fPnNcR+uKjD3bgwItLZeWTjArqX9jXqNX50z4sQf68noKV7jUjXb2K4YPpx8vTOA9Wm/XNOlkXnnVL9vdFJ4uX3v7VrxnRw0WLJX76wvEF12913yLOTzpBzD7wgfTd/bNxmrXZ99o2TbxZXt5fmuUzS9hmXvJ7uSm5nTNZ+9nXf9VYt6JPeEyeOm3CzW7oaUSk9eJ84NTnA3JX9kr/qel2APqy3k7GP4aW+iZfupU3zyv9dd5wTROSVXbt2SalUSr2PkjaBNMZkmk6wTSPfpK3RVuPx0rw0zYWxQgACEIAABCAAgXYToIC33R7g+RCAQCgCV1999ckTJkz4kOM4Z4vIro6Ojn/68pe//Hwoo4qdSXgpwo3h9JxWJ22s/dGecaeyFXo75ff+5WPjTiNyNj0qzkNfqULIXXmd5K9apAslQuskvCKE2cSUn6QXuqfvhzQ9QTsu7/vRHinWnDhZy6Yw52T52rMvV69Rdgt6a7/gbFSs616x3Kiogy8307Tqohsrmhcdy6xY0tC82vc7t1ij5Dgy6ojkcyIlZ4ysq3kPbP6VjJRE3BN5V10wUWb83S1Hnzz5Vx8VGR0V6eiQ/F/c3XQzArqXlVU7fp7oXjb9HmbWGrpXP57aTQwrH3ux+m637JLTq5saGm1ccO2UViyp0cHVZdP1/5br7pFyYdz6X8ghJycTco6sWvjm6ntjsw1eYbj57RsHX79jsbGdH81z552mz7jk9XRXajtjsv6zr/vud33NpgV35kNbtsmyJ/fLcEeXdI0Oy8qLJkvvrJkNoTTbxK9L0Nt6Oxl7jy79LfzoXpo0z/UIuqe7LtMWk27x7i1PjengnfMmS99bGuugLjl/1tPG19+sktPKj+YlZ7SMBAIQgAAEIAABCCSbAAW8yfYPo4MABJoQKBQKXSJy93HHHbfknnvueSMtoEh46XpKOyHT6qSN7fsOypIjp1S6X26ufNN2mTHw99UJ5xYtltzZcxJ5Rbxfr2jz9TsOm9u1SnqhezZ7PvjctOOyfnNC5Tp59wTeq845qeV18o1OZSvrYF2hh1vUwZebwddAmnuieWn2XnvGrqF59e93zWZ2xVlT5Bs1V8l/ZMoeueJrd45713N/abRJoZHN0S/9g8h3vzH2p8uukI4b/qw9YGueqsG47ZNK0ADQvQQ5IyVD0Y7J+k2qSy45Xfb9ekRmnzpJek6cWC683fzS6+XfZxzYJaUVS4/auOBu0HLf8dx3urIO1t3A4P7bfY/8XIrbR6rUCz2dcv2lZ5V/b/TO6J7aG8ePNt845pDkZ3gVdaTxMy55Pd0V186YrP/sW3/qeEWvBh98QJ6dMlPO3bdNeq++unzKeKMf9+Tx0u0frbltwd3YdVgn2/nTTsbtnHdcz+ZdLy7S9jwnbTG5/uuPyOdeGbuRwf1cvPC9lybWIWnjm1iQTQbm9a6XtvkwXghAAAIQgAAEINBOAhTwtpM+z4YABEIRKBQKLxeLxZNCGYm5M4l+XeDaCRm3SHfpw4PVE4lWze8rf6lZ+Rn/5ebuhkVq7boaNAry2nyjGGPabXglvdC9tHs4+vFrx6Wrezdv2FY9cfIPzz9VfvbLX8ulvSfI9MldLTWx2ReWjXSQLzejXxtpsIjmpcFLyRqjhubVvt+5m7AcccqaV9mwUCHgFnE8WHvq+AUT5Yy/Xebr5MlGFEsPrk3kzQwajJO1ito7GnSvvfzT+HTtmDS6Dn7jet+bFOpZ3/e1x6X42lj6pnD8y3L9+3+z3Kz8Hthgg1cc/tLmG8cckvwML81zx562z7jk9XRXXDtjsv6z710LZo7L+QXRqyTmANvJWHf1JMO6l+6lTfPK695xThCRV3bt2iWlUikZoC0aRdJjsvb7jvLmri2DsuzJV2tOIj9Bemf1JdYjSeebWHA+B+aleT7N0AwCEIAABCAAAQhAwL1tHAoQgAAE0kqgv7//X3K53D1f+cpXao6uSvZsSHjp+ieOhEx90qrVjJKYqA/jgTj4hhmfDX29kl7ong1ejnYOccRlRfemHtspq2quVV45/3CCvnIqW+2GhvKXPDuGpHT7EpGRQyKdEyT/idVNr5KvtK8/wS1aWubW4uBrPip7eqB59vgyrploxWTt+51zRNdOOrZTaq+Sdzdu7dg/LI8NvVrexDBvxuSGp0w23qQwJEefUOmeynZzjUbexalscS2kNj4H3Wsj/JQ+Wkv3Kji8NqnWYgtTaOsWeyx5cr+MdEyQztFDsrp87fxYsUe7Pjtr803psots2F6a5z4obZ9xyetFtjwaGgoakya5ulYz8GOn9PQT4nz/UcnNvUzy58/TBaJgPShjhaFYadJL99KmeeVcDQW8qms1yTFZf1ODmwfsObBLtq2+Q549foac+9p26VtyW8tcnyo8H8aTzNfH8BPfxEvzEj8BBggBCEAAAhCAAAQSRIAC3gQ5g6FAAAJmBAqFwt+LyB+KyL+KyDb35sWKhWKx+D/NrMXTmoSXLuegCRk/CfpGI2/Xl4y6FJtbD8q3XeNN43O997VG0AAAIABJREFUkl7oXhq9qjvmsHFpon8mJ7S5s27ndchRUQ/LN6px2GoHzbPVs3rzijsm6wt7l9XcxOB+edlbcxNDs1mXNzPUXTmf6+4tN0/iu2TcjPVWSzIto3vJ9EuSRxVHTJq8D4bRrcGfbZPNW1+Q2bNmJOaktjj4Jnl9aY/NS/Pc56ftMy55Pd1VEyQmGxWY+XlHCzKTVu91Qey1o08Qxu0YZ1qf6aV7adO88mcWCnhVl2PcMWny3tcoD3jFi08EvpFBFWQT43Hzbccc2/lML81r59h4NgQgAAEIQAACEEgbAQp40+YxxgsBCFQJ9Pf3f7sRDsdxnGKx+FtJREXCS9crQRIyQRP9NiTtTb0RhK/pM7Le3ivphe5lfYUcPf8wcWmqf0NbtsmyJ/fXXJPnnpw2s6lTwpzSlhRPh+GblDkkeRxoXpK9k8yxBY1Jky8pm83cdBNDxU7aNjMEZZzMFZO8UaF7yfNJ0kdETOp6CL66fL00z3162j7jktfTXTNBYjLoO1qQmaTtva7RHIMwDsIqq328dC9tmuf6Ed3TXc1xxqRpHrDRTQ1nbPuBOJ9ZUYWSu2m55M+/SBdSCOtx8g0xzNR29dK81E6MgUMAAhCAAAQgAIE2EKCAtw3QeSQEIJBdAiS8dH0fJCETNNFvQ9Le1BtB+Jo+I+vtbUx6oXu6qzpMXJrqn6t7gw8+IM9OmSnn7tsmvVdfLfnLF7acYJhT2nTJ+bMehq+/J2S7FZqXbf8HmX2QmDT9krLZuEw3MVTspG0zQxDGQXyZ1T7oXlY9H3zeJjEZxWaFtL+7mZI24Wtqm/YiaB6rwJRAkJhsVGDW4+OWBNOxue3T9l7XaI5BGAdhldU+6F5WPR983nHGpGke0J1V/ftl2r4TiZNv8FWQ3p42al56vcHIIQABCEAAAhBIOwEKeNPuQcYPAQikigCFbLruCpKQCZrotyFpb+qNIHxNn5H19jYmvdA93VUdJi5N9Q/dc3SdmUHraF4GnR5yykE0L8iXlI2GGWQTQ8VOmgrigjAO6dZMdUf3MuXuSCbrNyaj2KzALTO860WyaGuMoHlRE7Xfnl/NqycRxQYGv3TT9F7XaE5BGfvlk/V26F7WV4D5/OOMSdM8YKPZpC03GCdfc++nv4eNmpd+rzADCEAAAhCAAATSSoAC3rR6jnFDAAKpJEAhm67bgiZkgib60560N/VGUL6mz8lyexuTXuie7ooOG5em+ofu6foza9bRvKx5PPx8g2heFF9SuiNP2xeVQWkHYRz0WVnsh+5l0evh5uw3JqPYrJC2E9XCkT3c2y/fKJ6VRRtoXha9Hm7OxGQ4fn56w9gPpeBt0L3g7LLaM+6YNM0DNvJLmnKDcfPN2jq2UfOy5kPmCwEIQAACEIBAcghQwJscXzASCEAgAwQoZNN1MgkZ+OoS0LduY9IL3dNdN+gefHUJ6FpH83T52mg9qOZF8SWlyzNNX1QG9X9QxkGfl7V+6F7WPB5+vn5jMorNClnZqFDrFb98w3symxbQvGz6PcysTWMyyDteFt7nWvnAlHEYf2axL7qXRa+Hm3PYmAyig61GbJtGhuUbzrv297ZR8+z3GjOEAAQgAAEIQCCpBCjgTapnGBcEIGAlAQrZdN3aKiETVTLLtiSWiUdIeJnQCtbWxqQXuhdsLfjthe75JRWsHboXjJvfXmieX1K0qxBoFpNRvee5z8nyu547f3RPN97QPV2+NlpvFJPNNM9EC5tpXdY0EM3TjRo0T5evjdZNYtLVvGUPD8rwqCNdHTlZOb9Pek+c2BKLq3GlFUtFhodFurokv3yV5Lp7bUTZdE4mjDMFJqLJonsRgcyQmTAxGUQHW6G1USPD8M3QMgw8VRs1LzAMOkIAAhCAAAQgAIGQBCjgDQmQ7hCAAARMCFDIZkLLvG2rog7TpH6jp9uYxDKhTMLLhFawtjYmvdC9YGvBby90zy+pYO3QvWDc/PZC8/ySol2FQLNCtije89xnZP1dz2WA7unGG7qny9dG6/UxGUWhBlo3tlLQPN2oQfN0+dpo3SQmN2zZK2s27a5iWDx3miyYNbUlltLG9eKsXVNtk1u0WPKXL7QRZdM5mTDOFJiIJovuRQQyQ2bCxGQQHWyF1kaNDMM3Q8sw8FRt1LzAMOgIAQhAAAIQgAAEQhKggDckQLpDAAIQMCFAIZsJLfO2zRIyUSWzbEximVAm4WVCK1hbG5Ne6F6wteC3F7rnl1SwduheMG5+e6F5fknRrkKgUUxG9Z7nPiPr73ouA3RPN97QPV2+Nlqvj8koNA+tG1spaJ5u1KB5unxttO4Vk7UnjbvzX1pzAu+q+X3S0+QE3srp4jLlZHG+cGfNCbyrJdfdYyPKpnPyYpwpGAqTRfcUoFpuMkxMbt930LcO+sHo7NgupRVLrNLIMHz9MMt6Gxs1L+s+Zf4QgAAEIAABCLSPAAW87WPPkyEAgQwSoJBN1+nbXzkoL7wxQWYcMyIzpnRVHxY2mUWi/zBKEl6669e1bmPSC93TXTcauld7dbI7etuS9yYeQfdMaJm3RfPMmWW9R6OTKB8delUe2PyyHCodvj65VfFGLb9G18Tb+IWl6ZpB90yJmbVH98x40froz2BhP9u6TNG6sZWF5ulGGZqny9dG661istEJ5C6DzS+9LrNPndSyeLe0Ymm1IC33J0tFXt0rubPnZK54l9yeftSge/qMbXuCl+4107jKhoapx3bK3l+PHKWDpaefEOf7j0pu7mWSP3+eb2yNPif77pzAhrzr6TrFRs3TJYZ1CEAAAhCAAAQg0JwABbysDghAAAIxEqCQTQ+211Witad0NDuRo9Ho6q8XzXKin4SX3vqtWLYx6YXu6a0bDd1rdKWyOwNn6zOZ/IIT3dNbv65lNE+Xr43Wa2NycO8bsuzIqWudeZGrzz1ZLus9oWnxRi2PVtfH2/aFpek6QPdMiZm1R/fMeNH6cAHvgc7J8p3N22X2KceWNS7MZ9vKO52Ik9n3u9p1hebpRhmap8vXRuutYjLoCeScOj5+paB7upGD7unytdF6s5hslfPzygeWi3c/++kqrtyNt0n+gottxOc5JzTPE1GoBjZqXiggdIYABCAAAQhAAAIhCFDAGwIeXSEAAQiYEqCQzZSY//ZBE/leTyDRP0aIhJfXagn/dxuTXuhe+HXRzIKG7qF542mje3rr17WM5unytdF6bUyu/9nLsmbT7uo0F8+dJgtmTfU1bbSuOSZ0z9cSCtwI3QuMLrMd3dsWlj08JAdHSuVTxlfO75PeJlfEt4LUauNCZuFyy4y669E8dcTWPaDVe0jQE8g5dZzPuHEGCroXJ207ntVM91rl/LzygaOfv1Nk0yNjgOZeKh0fvsUOYIaz4POtITDD5jZqniECmkMAAhCAAAQgAIHICFDAGxlKDEEAAhDwJkAhmzejoC2CJvK9nkeif4wQCS+v1RL+7zYmvdC98OuimQUN3UPzxtNG9/TWr2sZzdPla6P12pgc2vuGLD1yAq9b1LZqfp+v03ddLmhd89WB7ulGDrqny9dG6xu27pM139tVnZrJZoVaHmxcaLw60DzdqEHzdPnaaL3VSZTuNfLNroqvZdHoNoWs37BQywfd040cdE+Xr43Wm8Vkq5yfVz6w9IOnxPnMp6q4cjd9XPLnz7MRn+ec0DxPRKEa2Kh5oYDQGQIQgAAEIAABCIQgQAFvCHh0hQAEIGBKgEI2U2Jm7d3TiV54Y4LMOGZEZkzpMuvcojWJ/sNwSHhFtqSaGrIx6YXu6a4bDd1D88Z8hu7prl80T5evjdbrYzLoNfIuG7Su8QpB93QjB93T5Wuj9edfGS5vVqicwGuyWaGWBxsX0Lx2xAea1w7q6X5mo/cQr6vix2vdkJRWLBUZHhbp6pL88lWS6+5NN5SIR8+7XsRA68yhe7p8bbTeKiZbfd71+ixcevoJcb7/qOTmXpbZ4l2+z9CPGBs1T58aT4AABCAAAQhAAAJN8pSAgQAEIACB+AhQyBYd60ZJqrBJaAo5WvsnLN/ovG+vJRuTXuieznqtaOCcacfJvHP6ZOfOneI4jvHD0D10z3jRRNgBzYsQZkZM8S6i72gY6zJG93T52mjdjckDnZPlO5u3y+xTjvV90ngjFrz3HU0FzdONGjRPl6+N1hvFpNdV8bUcOG3ce1Wge96MwrRA98LQy2ZfYlLX7/DV5Wuj5ukSwzoEIAABCEAAAhBoToATeFkdEIAABGIkQCFbNLCbnb4RJiHjfpnJKR2t/ROGbzSet9+KjUkvdC/6dVuvgffeMFeOG9lvXMCL7nn7Bt3zZhSmBZoXhl42+0Zx6jgFbLzvtTN60L120k/ns3kX0fUbfHX5onm6fG203igmva6Kr+XAaePeqwLd82YUpgW6F4ZeNvs2O3l880uvy+xTJxlt3uKz7tFrCM3TjSsbNU+XGNYhAAEIQAACEIBAcwIU8LI6IAABCMRIgEK2aGA3O30jTEKGUzq8fROGr7d1WrgEbEx6oXvRr+16Dbz1t2fJJad1GBfwonvevkH3vBmFaYHmhaGXvb4m1yc3o8PGBe91g+55MwrTAt0LQy9bfbltIR5/o3m6nNE8Xb42Wm8Wk15XxdeyoICt9cpA93QjB93T5Wuj9fqYDPq5l8+6jVcHmqcbNTZqni4xrEMAAhCAAAQgAIHmBCjgZXVAAAIQiJEAhWzRwG52+kaYhAyndHj7Jgxfb+u0cAnYmPRC96Jf2/Ua+MUPzZVJh4KcwLtdSiuWiAwPi3R1SX75asl190Q/4BRbRPd0nYfm6fK1zbrJ9cnN5s7GBe9Vge55MwrTAt0LQy87fbltIT5fo3m6rNE8Xb42Wicm9b0KY13G6J4uXxut18dk0M+9fNZtvDrQPN2osVHzdIlhHQIQgAAEIAABCDQnQAEvqwMCEIBAjAQoZIsOdqPTN8ImZDilo7V/wvKNzvv2WrIx6YXu6axXTmXT4VpvFd3T5Yzm6fK1zbrJ9cnN5s6GLe9Vge55MwrTAt0LQy87fbltIT5fo3m6rNE8Xb42Wt/+ykF54Y0JMuOYEZkxpSvUFMnxNcaH7oVaVp6d0T1PRDSoI1Afk0E/9/JZF81rR3DZqHnt4MgzIQABCEAAAhCAgEuAAl7WAQQgAIEYCVDIpgubJDR8dQnoW7cx6YXu6a4bdA++ugR0raN5unxttB5FUQfFHK1XBv9d0Y0cdE+Xry3WuW0hPk+iebqs0TxdvrZZD3ptfCMOXCXffHWge7qRg+7p8rXReqOYbHRwiZ+581n3aEponp+VE7yNjZoXnAY9IQABCEAAAhCAQDgCFPCG40dvCEAAAkYEKGQzwmXcmISMMTKjDvA1whWosY1JL3Qv0FLw3Ym49I0qUEP4BsLmuxOa5xsVDY8QICb1lwKMdRmje7p8bbLObQvxeBPN0+WM5unytc160GvjG3HgKvnmqwPd040cdE+Xr43Wa2NycO8bsvml12X2qZOk58SJxtOlgPdoZGie8TIy6mCj5hkBoDEEIAABCEAAAhCIkAAFvBHCxBQEIAABLwIUsnkRCvd3EjLh+Hn1hq8XofB/tzHphe6FXxetLBCX8NUloGsdzdPla6N1NE/fqzDWZYzu6fK10ToxqetV+OryRfN0+dpmPei18Y04cJV889WB7ulGDrqny9dG65WYfPLZbbJ0w6AMjzrS1ZGTlfP7pNegiJeTxxuvDjRPN2ps1DxdYliHAAQgAAEIQAACLT6vAwcCEIAABOIjQCGbLmsSMvDVJaBv3cakF7qnu27QPfjqEtC1jubp8rXROpqn71UY6zJG93T52midmNT1Knx1+aJ5unxttL79lYPywhsTZMYxIzJjSleoKXISZWN86F6oZeXZGd3zRESDOgKVmPzf39ksa763q/rXxXOnyYJZU33z4uRxNM/3YomwoY2aFyEeTEEAAhCAAAQgAAEjApzAa4SLxhCAAATCEaCQzZxf5epQP1dHhU1Ck9xv7Z+wfM29n70eNia90D2zdWyiea7loHGJ3vnzS1C+/qzTCs1jDTQj0EwLTWMSrTNfY6aMzZ+Q7R7oXrb932r2Uele5Rnon7+1hub54xS0FZoXlFx2+xGT+r6HsS5jdE+Xr43WKzH51LODsmTDtuoJvKvm90mP0Qm826W0YonI8LBIV5fkl6+WXHePjciM5oTmGeEybmyj5hlDoAMEIAABCEAAAhCIiAAFvBGBxAwEIAABPwQoZPNDaayN+yXmsof9Xx0VJiHDNVPevgnD19s6LVwCNia90D3/a9tU81zLQeISvfPvkyB8/VunJZrHGmhEoJUWmsQkWhdsfZkwDvaEbPdC97Lt/2azj0r3KvbRP//rDM3zzypISzQvCLXs9andwNA79RiZPn267Ny5UxzH8Q2DTQu+UQXKIfi3Tkt0jzVgSqD2XWRw7xuy+aXXxc9BJo2egxYeTYV3PdMVadbeRs0zI0BrCEAAAhCAAAQgEB0BCnijY4klCEAAAp4EKGTzRDSuwYYte2XNpt3Vf/O6OipMQoZrprx9E4avt3VauARsTHqhe/7XtqnmuZaDxCV6598nQfj6t05LNI810IhAKy00iUm0Ltj6MmEc7AnZ7oXuZdv/zWYfle5V7KN//tcZmuefVZCWaF4QatnqU7+BYdWCPrnonJlGBbxsWjBbM+ieGS/T1uieKTHaE5O6awC+unxt1DxdYliHAAQgAAEIQAACzQlQwMvqgAAEIBAjAQrZzGBv33dQltacwOt1dVSYhIyzg2umvLwThq+Xbf5+mICNSS90z//qNtU813KQuETv/PskCF//1mmJ5rEGGhFopYUmMYnWBVtfJoyDPSHbvdC9bPu/2eyj0r2KffTP/zpD8/yzCtISzQtCLVt9jtrAcOFp8ifvPNeogJdNC2ZrBt0z42XaGt0zJUZ7YlJ3DcBXl6+NmqdLDOsQgAAEIAABCECgOQEKeFkdEIAABGIkQCGbOezaq/R6TpzY0kDYhAzXTLX2T1i+5t7PXg8bk17ontk6NtE813LQuETv/PklKF9/1mmF5rEGmhFopoWmMYnWma8xU8bmT8h2D3Qv2/5vNfuodK/yDPTP31pD8/xxCtoKzQtKLjv96jcwrF4wU+ad02dUwMumBbP1gu6Z8TJtje6ZEstu+8q735xpx/nWPd7vzNcLmmfOzKSHjZpnMn/aQgACEIAABCAAgSgJUMAbJU1sQQACEPAgQCGb7hIhIQNfXQL61m1MeqF7uusG3YOvLgFd62ieLl8braN5+l6FsS5jdE+Xr43WiUldr8JXly+ap8vXFuu1Gxh6px4j06dPNyrgdTlQ1OZ/NaB7/lkFaYnuBaGWvT6u7i2ruXXw3hvmynEj+8VxnKYwXJ0rrVgqMjws0tUl+eWrJNfdmz14hjNG8wyBGTa3UfMMEdAcAhCAAAQgAAEIREaAAt7IUGIIAhCAgDcBCtm8GYVpQUImDD3vvvD1ZhS2hY1JL3Qv7Kpo3Z+4hK8uAV3raJ4uXxuto3n6XoWxLmN0T5evjdaJSV2vwleXL5qny9dG68SkvldhrMsY3dPla4v1DVv2yppNu6vTufW3Z8klp3W0LOAtbVwvzto11T65RYslf/lCW5CozQPNU0NbNmyj5ukSwzoEIAABCEAAAhBoToACXlYHBCAAgRgJUMimC5uEDHx1CehbtzHphe7prht0D766BHSto3m6fG20jubpexXGuozRPV2+NlonJnW9Cl9dvmieLl8brROT+l6FsS5jdE+Xry3Wt+87KEtrTuD94ofmyqRDXifwbpfSiiU1J/Cullx3jy1I1OaB5qmhLRu2UfN0iWEdAhCAAAQgAAEINCdAAS+rAwIQgECMBChkaw279tq8nhMnGnsmaEKGq/b8oQ7K1591Wtma9EL3vNd2GO0ziUu0ztsX9S1M+Jpbp4eNiX40z9+6Dqp7pjGJ7vnzR20rU8bmT8h2D3Qv2/4PMntiMgg1/33g659VkJZoXhBq2e5DTOr7H8a6jNE9Xb42Wa98Jp4z7TiZd06f7Ny5s+UJvO7c+XxrvgLQPHNmJj1s1DyT+dMWAhCAAAQgAAEIREmAAt4oaWILAhCAgAcBijqaA3KTVstqdp6vnN8nvYZFvEESMm7iq7Riac3u9VWS6+5lLTcgEIQvIM0I2Jj0Qvdar4Gw2uc3LtE6s1istPbLN5h1eqF52VwDYXTPJCbRvWDry4RxsCdkuxe6l13/a25coJgj+LpC84Kz89MTzfNDiTa1BIhJ/fUAY13G6J4uXxutE5O6XoWvLl8bNU+XGNYhAAEIQAACEIBAcwIU8LI6IAABCMRIgEK25rA3bNkrazbtrjZYPHeaLJg11cg7QRIypY3rxVm7pvqc3KLFkr98odFzs9I4CN+ssIlqnjYmvdC91qsjrPb5jUu0LliU+uUbzDq90LxsroEwumcSk+hesPVlwjjYE7LdC93Lpv81Ny6wWSHcmkLzwvHz6o3meRGy/++mmxf8xiQbF4KvHb+Mgz8h2z3RvWz7P8jsickg1Pz3ga9/VkFa2qh5QTjQBwIQgAAEIAABCERBgALeKChiAwIQgIBPAhSyNQe1fd9BWVpzAu+q+X3SE8sJvNultGJJzQm8qyXX3ePTo9lqRsJL3982Jr3QvdbrJqz2+Y1LZwdaFySC/fINYps+ImheNldBGN0ziUl0L9j6MmEc7AnZ7oXuZdP/mhsX2KwQbk2heeH4efVG87wI2f33IJsX/MQkGxfCrRs/jMM9Idu90b1s+z/I7InJINT894Gvf1ZBWtqoeUE40AcCEIAABCAAAQhEQYAC3igoYgMCEICATwIUsrUGZXoyR721oAkZTu7wt4CD8vVnnVYuARuTXuie99oOo30mcYnWefsiqv+umD8pmz3QvGz63Z11UN0z0Tz3Oeie+RozZWz+hGz3QPey6X/NjQtsVgi3ptC8cPy8eqN5XoTs/nuQzQt+YpKNC+HWjR/G4Z6Q7d7oXrb9H2T2xGQQav77wNc/qyAtbdS8IBzoAwEIQAACEIAABKIgQAFvFBSxAQEIQMAnAQrZfIIK2IyETEBwPrvB1yeoEM1sTHqheyEWhI+uxKUPSCGawDcEPB9d0TwfkGgyjgAxqb8gYKzLGN3T5Ztk65obF9isENzzaF5wdn56onl+KNnbJsjmBT8xycaFcGvGD+NwT8h2b3Qv2/53Z2/6zucnJnnXC76u/PANbp2eNmoeXoUABCAAAQhAAALtIkABb7vI81wIQCCTBChk03U7CRn46hLQt25j0gvd01036B58dQnoWkfzdPnaaB3N0/cqjHUZo3u6fG20TkzqehW+unzRPF2+abCuUcjmzptituDeR/eCs/PTM+m6d911111SKpVWishoLpf76sDAwF1e8yKv50Vo7O+u5i17eFCGRx3p6sjJyvl90nvixJYGvGLS1bvSiqUiw8MiXV2SX75Kct29/geV8ZZefDOOJ/T0k655oSeIAQhAAAIQgAAEIBAjAQp4Y4TNoyAAAQiQ8NJdAyRk4KtLQN+6jUkvdE933aB78NUloGsdzdPla6N1NE/fqzDWZYzu6fK10ToxqetV+OryRfN0+dponZjU9yqMdRknXfcKhcJpe/bs+eXGjRtHCoXCfx533HEL77nnnjdaUSGv53/NbNiyV9Zs2l3tsHjuNFkwa2pLA14xWdq4Xpy1a6o2cosWS/7yhf4HlfGWXnwzjif09JOueaEniAEIQAACEIAABCAQIwEKeGOEzaMgAAEIkPDSXQMkZOCrS0Dfuo1JL3RPd92ge/DVJaBrHc3T5WujdTRP36sw1mWM7unytdE6ManrVfjq8k2D5pmeRsnnW901Q0zq8nWtw1iXcRp0r0KgUCj8u4i8t1gsDreigu75XzPb9x2UpTUn8K6a3yc9oU/g3S6lFUtqTuBdLbnuHv+DynhLNE93AaRJ83RJYB0CEIAABCAAAQiEJ0ABb3iGWIAABCDgmwAJr8OoTK/Q8wvYNCHDlXt+yR5uZ8rXzDqtXQI2Jr3QPT3NaxaXaFt0eoLuRceykSU0T5evjdaJSX2vwliXMbqny9dG68Skrlfhq8s3DZpneholn2911wwxqcuX3J4+3zTonkuhUCi8R0SuKRaLN3pRQfe8CI3/u+n3Hn50jzyfmQ9qW/vhG9w6PdOieXgKAhCAAAQgAAEIpIEABbxp8BJjhAAErCFAwutwIduymp3oK+f3Sa/HTnS/C8AkIeMmvkorltbsXl8lue5ev4/KZDsTvpkEFMGkbUx6ZV33NDWv0ZdvaFsEgVhjAt2Llme9NTRPl28SrJt+eek15vqY5ItML2Lmf0f3zJmZ9ED3TGjRttG7HlSiJYDmRcsz7e96fk6jzPrnW90Vw8Zxbb78d0WfcBre9a655pozOjs773Ec533FYvHXXlTQPS9C4f7Ou0g4fl694etFKNzf06B54WZIbwhAAAIQgAAEIBAfAQp442PNkyAAAQgICS+RDVv2yppNu6urYfHcabJg1tRIVodJQqa0cb04a9dUn5tbtFjyly+MZBy2GjHhaysD7XnZmPTKuu5pal6jL9/QtmijFN2Llme9NTRPl2+7rWtsYKiNydILg2zGUnAyuqcAtcZk0nXP9Cp5d2pZf9drtmKi2sBQr3vO1mckd/Ycrk6OKFTRvIhANjGTdM2rHbbf0yjRPN01Q0zq8m2UQ9B/YraeEKfuFQqFvxWR383lcr2lUult69at+3GFdqFQOCuXy93rOM6bRGSfiPxRsVjcXCgUukTkoVKpdNNXv/rVrX68g+75oRS8DboXnJ2fnvD1Qyl4mzg1L/go6QkBCEAAAhCAAATSQYAC3nT4iVFCAAKWECDhJbJ930FZWnMC76r5fdLTlhN4t0tpxZKaE3hX8yWoR5yR8NIXIhuTXlnXPU3Na/Tlm7MDbYsyUtG9KGkebSvpmkfs8ChdAAAgAElEQVQhWzj/a2xgqI3J0W8/xGascC5q2BvdU4BaYzLpumd6lbw7tay/6zVaMVFuYKjE5Ivff1JGP1X7+ZUbZKKIVjQvCorNbSRd8yojNzmNEs3TXTPEpC7fRjkE/Sdm6wlx6l6hUHhHZ2fnL0ZGRh51HOequgLeb4nIPcVi8UvXXXfdB0ql0q3FYvHCQqHwhyJyu4hscT0zOjq66P7779/Zykvonu4aRvfgq0tA13qcmqc7E6xDAAIQgAAEIACB9hOggLf9PmAEEIBAhgiQ8Drs7KhOI6pfOqYJL65dNgs+U75m1mntErAx6YXu6Wlesy/f0Lbo9ATdi45lI0tJ1zwK2cL5X2MDw/iTKIfYjBXORQ17o3sKUGtMJl33amfv5yp5tz3vekevmSg3MFRicsc//28prf1s9WHcIBNNrKJ50XBsZiVuzYvjNEo072hvR5njq49JPttGH6PoXvRMay3GrXvuswuFwjbHcd5fKeAtFAqniMjW2bNnn/TJT36ydKTNzlKpdMlXv/rVX5gSqOje7t27pVQqm+MnQgJuTJ522mmya9cu9706QsuYquRN4au3FlzNmzZtmvuAKblc7lW9J2EZAhCAAAQgAAEI2E+AAl77fcwMIQABJQKcyqYENoRZktAh4PnoCl8fkEI2aUei32TI6J4JrXjaEpe6nOGryzfpmlc7ewrZgq2FKAs6Kl++TZ8+XXbu3Fn+cpOijmB+adUL3Yueaa3FtOie36vk3blRzHb0molyA0PzE3i5QSaKaEXzoqDY3EbcmhfHaZRo3nh/R3nieP27XumFQSmtWFpzcxYnj0cRseheFBSTo3vuSOoLeK+77roLHMdZOzAwcE5lpIVC4SnHcW5dt27dRlMCFd0z7Ud7CEAgUwQo4M2Uu5ksBCAAAQhAAAIaBCjg1aCKTQhAIBMEOJUteW4mCa3rE/jq8nWtx/0Fp+mM0D1TYvrtiUtdxvDV5Zt0zav5svM9InJNsVi80YsIRR1ehML9nZgMx89Pbxj7oRS8TRp0z+QqeZcEutd4PUS1gWH8yeOD4mx9RnJnz5Fcd0/whUjPKgE0T3cxtEvzNE+jRPPGr5koTxx3LdfG5Oi3HxJn7ZqxeF20WPKXL9RdtBmwju7pOrkduhdXAS8n8OqsHU7g1eFasQpfXb6cwKvLF+sQgAAEIAABCGSLAAW82fI3s4UABJQIcCqbElhDsyShDYEZNoevIbAAzduR6A8wzHIXdC8ouWj7EZfR8qy3Bl9dvmnQPArZdNeAqXVi0pSYeXsYmzMz6RGn7sVxlbw7d4rZTFaAeVti0pyZSQ/4mtAybxun5tWOTrOYjavkx68D98TxJRu2yfCoI10dOVm9YKb0nDjRfLEc6VFbaOWewDv6qSXVE3g7Pu6ePN4b2DYdDxOgmE13JbSjmE1z0wLveo3XS1QbtSox6d4y8+L3n5TSlp+wUSviEOVdL2Kgdeba9a6nOyusQwACEIAABCAAgfYQoIC3Pdx5KgQgYBEBrhdNjjNJyOj6Ar66fF3raUl6oXv6a8HvE4hLv6SCtYNvMG5+e8WpeRSy+fVKstsRk/r+gbEu45h17x2dnZ2/GBkZedRxnKvWrVv348rsCoXCt0TknmKx+KXrrrvuA6VS6dZisXhhoVD4QxG5XUS2uG1HR0cX3X///TtbUaGAV3fNEJPw1SWgaz1OzaudSRwFvLrk0mX953tekx++sE/On3GinPmm4yMd/PDgz2X4mR/KxDnny4TeMyO1jTEIKBOI7Tr5es1z51UoFP4zl8vdOzAwcG+hULhWRP7cfdcLMmfe9cZTc4t3lz08WN24sHJ+n/SG3Lhw8sEDsvvmD1U3LOSXr2LDQpDF2qAP79IRgWxipl3verqzwjoEIAABCEAAAhBoDwEKeNvDnadCAAKWEOBUtmQ5koSMrj/gq8vXtZ6GpBe6p78OTJ5AXJrQMm8LX3NmJj3i1LxCoUAhm4lzEtqWmNR3DIx1Gcepe5WZxHUqG9cq66wdTkrU4VqxCl9dvu04idKdkabucQKv7pohJnX5utZhrMs4Tt3r7+9fIyJXOo4zTUR+lcvl9g8MDMxyZ/jBD35w1ujo6D0icrKIvOI4zh+tW7fumSCzp4B3PLUNW/bKmk27q/+4eO40WTBrahC05T5uTE5++jHZ+5k7qjZyixZL/vKFgW3ScYwAn291V0M7Pt/qzgjrEIAABCAAAQhAoH0EKOBtH3ueDAEIJIgAp7IlyBkhhkJCJgQ8H13h6wNSyCZxJr3QvZDOSkh34lLXEfDV5Run5lVmolnQ4T6DLzd11wwxqcvXtQ5jXcZJ0L3rrrvuAsdx1g4MDJxTo41POY5z67p16zaaEqjonmk/2kMAApkiENtJlC5VzdMoedfTXbe8h+jy5V1Pn2873vW0Z4XujSe8fd9BWVpzAu+q+X3SE/IE3jcNvy67PnpDzQm8qyXX3aPt2kzY578rum62UfN0iWEdAhCAAAQgAAEINCdAAS+rAwIQgMDh5D6nsoVcCe71UZtfel1mnzopVNIq1DBe3C4n7H5BXp12hsjpJLlCsWzQmYRX1ESPthdn0gvdC+fPdmues2NInK3PSH7WHDn97RfJzp073cLBcJOi91EE0D3dRRGn5lVmonmlsvsMm09lG9r3hjzz0q9lTpve9Q7r3mY59TffKb+aeByapxSenMqmBPaI2ThPZUP3dH0Zl3ViUpc0fHX5xq15cZxGSSGb7prh85cuX9c6jHUZt+Mzru6M2KTaiG+UOcFKTL74/SeltOUnkjt7DsW7ES5qNC9CmA1M2ah5usSwDgEIQAACEIAABJoToICX1QEBCECghgCnsgVbDm7SalnNzvOV8/ukN8TO8yCjcIs6SiuW1uxUXyW57t4gpujThAAJL/2l0Y6kV1y6Z9O1ym4R29INgzI86khXR05WLXA17xj9BXLkCa7ejX5qyRG9myjT7rpXXj7meIrZFDxAUYcC1BqTcRd1uI+Oq4BXl1z81n++5zX5w/u+LwdHSjKxMy/3XP92OeuU42MbyPDgz+WlJX8gzsGDkps4UU5dfa909Z0V2/N5EAQUCMR2GmVc73q7du2SUqmkgKr9JqMs0vA7GzZr+SUVrh2fccPx8+rdjs+3XmMK+3cKeMMSbN2fmNTl61qHsS5jdE+Xr43WiUldr8JXl6+NmqdLDOsQgAAEIAABCECgOQEKeFkdEIAABGoIxFXUYVMhm4tv/Za9suZ7u6okF194miycNTXWtVX69noprf1s9Zn5RTdK/l0LYx2D7Q+jkE3fwxSz6TOO4gnrfvCC/PV/bKmauvW3Z8m1558RhWlfNl57aJ3s/cwd1bZTb/qYHH/ltb760ggCCSVgXSEb73rRrrSj3vOuv0nyly+I9iFYKxPgfU93ISThXc+dYaFQ+M9cLnfvwMDAvYVCwX2J+PNisXhhkNnbXszWjs2q9ZtTp931RU4eD7I4ffShqMMHpBBNbCzqsF3zQrg7kq7EZCQYWxqBsS5jdE+Xr43WiUldr8JXl6+NmqdLDOsQgAAEIAABCECgOQEKeFkdEIAABGoIxFXAaxv05375mvzBl8ZOZbv3hrfLmW+K71Q2l+ehoedk980fqp7M5n7JOaH3TNtQM5/sEGhbMdt11113geM4awcGBs6p4C4UCk85jnPrunXrNpq6wMbr5LfvOyhLNmyrnsC7esFM6Ynx1PH6E3hPu5uiDtN16bc9hWx+SQVrRyFbMG7t6OXq3tKa2xZWze+LWfe2S2nF4ZPH3RN488tXiZze0w4U1j+TLzh1XRznF5xxXCXv0rK9mG2Du1l10+7qwlg8d5osUN6sWtq4Xpy1a6rPdDdr7b/gEm5bUAhPNE8Bao3JODVPdyZj1m3XvMpM4zx5vHLiuHttfP6MXpk+fbrs3LkTzVNa1OieEtgjZtE9Xb42Wicmdb0KX12+NmqeLjGsQwACEIAABCAAgeYEKOBldUAAAhCoIRDX9aK2ncrmInSvlH/mpV/LnFMnxVrQMW4B7xiSybtfkP2nzaCoQyGyKWRTgFpnMgnFbIVC4RQR2Tp79uyTPvnJT5bvQS4UCjtLpdIlX/3qV39hSsHWLzjj/EKzEXOuVTZdicHak+gPxs1vrzgT/RSy+fVK83ZJ0D3ZullOveRy+WXXJIo6wru0oQV0TwnsEbNx6p7uTMas2/quV5lhOzYwODvGNi1IV5ecdveX0D2lBY3mKYFF83TBKluP8+Tx+hPHOz6+Wk5/+0UU8Cr6GN1ThCsivOvp8rXROjGp61X46vK1UfN0iWEdAhCAAAQgAAEINCdAAS+rAwIQgEANgfoCXvdPXC+aniVCQkbXV/DV5etab0fSC93T96vmE4hLTbqHr5LnBCg9xu3QPL3ZHLZseyGbNj8v+8SkF6Hwf4dxeIatLKB7uny1rLdjAwObtbS8Od4umqfLGc3T5atlPc6Tx+tPHM8vulG6f/9PKODVcq7wGVcRbdk0uqdNWMe+5rte7Snjue6jb5HhXUTHpxWr8NXla6Pm6RLDOgQgAAEIQAACEGhOgAJeVgcEIAABEeFUNjuWAQkZXT/CV5dv3Il+dE/fn3E8gbjUpQxfXb42Jvop4NVdM8SkLl/XOox1GaN7unxttE5M6noVvrp80TxdvlrW4zx5vP7EcU7g1fLqmF10T5cxuqfLV8O65qnj9aeM55evklx377hpEJMaXkXzdKmOWbdR8+Jix3MgAAEIQAACEIBAPQEKeFkTEIAABGIkQFGHLmwSXvDVJaBv3cakF7qnu27QPfjqEtC1jubp8rXROpqn71UY6zJG93T52midmNT1Knx1+aJ5unw1rWueRlk/7trTKfNn9HIDiqZj2aylTJcTeNUBKzxA89Tx+lPGc4sWS/7yheNmwbuIglNrTMJXl6+N73q6xLAOAQhAAAIQgAAEmhOggJfVAQEIQCBGAhSy6cImIQNfXQL61m1MeqF7uusG3YOvLgFd62ieLl8braN5+l6FsS5jdE+Xr43WiUldr8JXly+ap8vXRuvEpL5XYazLGN3T5athXfPU8fpTxvPLV0uuu2fcNIhJDa+O2YSvLl8bNU+XGNYhAAEIQAACEIBAcwIU8LI6IAABCMRIgEI2XdgkZOCrS0Dfuo1JL3RPd92ge/DVJaBrHc3T5WujdTRP36sw1mWM7unytdE6ManrVfjq8kXzdPnaaJ2Y1PcqjHUZo3u6fLWsa546XnvKeH3xrjsfYlLLq4ftwleXr42ap0sM6xCAAAQgAAEIQKA5AQp4WR0QgAAEYiRAIZsubBIy8NUloG/dxqQXuqe7btA9+OoS0LWO5unytdE6mqfvVRjrMkb3dPnaaJ2Y1PUqfHX5onm6fG20TkzqexXGuozRPV2+NlonJnW9Cl9dvjZqni4xrEMAAhCAAAQgAIHmBCjgZXVAAAIQiJEAhWy6sEnIwFeXgL51G5Ne6J7uukH34KtLQNc6mqfL10braJ6+V2Gsyxjd0+Vro3ViUter8NXli+bp8rXROjGp71UY6zJG93T52midmNT1Knx1+dqoebrEsA4BCEAAAhCAAASaE6CAl9UBAQhAIEYCaS5k07xKqpELvK6XatSHhIzuYoavLl/Xuo1JL3TP37oJonmuZeLSH9+greAblJy/fmieP060GiNATOqvBhjrMkb3dPnaaJ2Y1PUqfHX5onm6fG20TkzqexXGuozRPV2+NlonJnW9Cl9dvjZqni4xrEMAAhCAAAQgAIHmBCjgZXVAAAIQiJFAWgvZ3OLdZQ8PyvCoI10dOVk5v096T5yoRs4tZCutWCoyPCzS1SX55ask193r+TwSMp6IQjWAbyh8vjrbmPRC97xdH1TzXMvEpTffMC3gG4aed180z5tR3C3i2rDFpoW4Pev/eeief1ZBWqJ7Qajp9YlL89wZoHt6fgxjGc0LQ8+7L5rnzYgW4wkQk/orAsa6jNE9Xb42Wicmdb0KX12+NmqeLjGsQwACEIAABCAAgeYEKOBldUAAAhCIkUBaC9k2bNkrazbtrpJaPHeaLJg1VY1caeN6cdauqdrPLVos+csXej6PhIwnolAN4BsKn6/ONia90D1v1wfVPNcycenNN0wL+Iah590XzfNmFGeLuDZssWkhTq+aPwvdM2dm0gPdM6Gl2zYuzXNnge7p+jKMdTQvDD3vvmieNyNajCdATOqvCBjrMkb3dPnaaJ2Y1PUqfHX52qh5usSwDgEIQAACEIAABJoToICX1QEBCEAgRgJpLWTbvu+gLK05gXfV/D7pUT2Bd7uUViypOYF3teS6ezw9RULGE1GoBvANhc9XZxuTXuiet+udHcE0z7VMXHrzDdMCvmHoefdF87wZxdkirg1bbFqI06vmz0L3zJmZ9ED3TGjpto1L89xZoHu6vgxjHc0LQ8+7L5rnzSjOFnGdOh70xHE+38azGtA9Xc7oni5fG60Tk7peha8uXxs1T5cY1iEAAQhAAAIQgEBzAhTwsjogAAEIxEggrYVsLqK4Ev0VdwRJ+JOQ0V3M8NXl61q3MemF7vlbN0E0jy84/bEN0wrdC0PPuy+a580ozhZxbdhi00KcXjV/FrpnzsykB7pnQku3bVya584C3dP1ZRjraF4Yet590TxvRnG1iOvU8TAnjvP5Np7VgO7pckb3dPmaWo/r+4ygOT10z9Sj5u3RPHNmJj1s1DyT+dMWAhCAAAQgAAEIREmAAt4oaWILAhCAgAeBNBeypcG5JGR0vQRfXb6udRuTXuie7rohLuGrS0DXOpqnyzeI9aR/wYnmBfGqWR8Ym/EybY3umRLTbR+X5rmzCFrYQUzqrgH46vJF83T5mliP69TxMCeOu/MhJk28GqwtjINx89sL3fNLSr8dGxf0GafhCWierpds1DxdYliHAAQgAAEIQAACzQlQwMvqgAAEIBAjAQrZdGGTkIGvLgF96zYmvdA93XWD7sFXl4CudTRPl6+N1tE8fa/CWJcxuqfL10brxKSuV+GryxfN0+VrYj2uU8fDnDjuzoeYNPFqsLYwDsbNby90zy8p/XZsXNBnnIYnoHm6XrJR83SJYR0CEIAABCAAAQg0J0ABL6sDAhCAQIwEKGTThU1CBr66BPSt25j0Qvd01w26B19dArrW0TxdvjZaR/P0vQpjXcboni5fG60Tk7peha8uXzRPl6+p9bhOHQ964rg7H2LS1Kvm7WFszsykB7pnQku3LRsXdPmmxTqap+spGzVPlxjWIQABCEAAAhCAQHMCFPCyOiAAAQjESIBCNl3YJGTgq0tA37qNSS90T3fdoHvw1SWgax3N0+Vro3U0T9+rMNZljO7p8rXROjGp61X46vJF83T52midmNT3Kox1GaN7unxNrbNxwZSYfe3RPF2f2qh5usSwDgEIQAACEIAABJoToICX1QEBCEAgRgIUsunCJiEDX10C+tZtTHqhe7rrBt2Dry4BXetoni5fG62jefpehbEuY3RPl6+N1olJXa/CV5cvmqfL10brxKS+V2Gsyxjd0+Vro3ViUter8NXla6Pm6RLDOgQgAAEIQAACEGhOgAJeVgcEIACBGAlQyKYLm4QMfHUJ6Fu3MemF7umuG3QPvroEdK2jebp8bbSO5ul7Fca6jNE9Xb42Wicmdb0KX12+aJ4uXxutE5P6XoWxLmN0T5evjdaJSV2vwleXr42ap0sM6xCAAAQgAAEIQKA5AQp4WR0QgAAEYiRAIZsubBIy8NUloG/dxqQXuqe7btA9+OoS0LWO5unytdE6mqfvVRjrMkb3dPnaaJ2Y1PUqfHX5onm6fG20TkzqexXGuozRPV2+NlonJnW9Cl9dvjZqni4xrEMAAhCAAAQgAIHmBCjgZXVAAAIQiJEAhWy6sEnIwFeXgL51G5Ne6J7uukH34KtLQNc6mqfL10braJ6+V2Gsyxjd0+Vro3ViUter8NXli+bp8rXROjGp71UY6zJG93T52midmNT1Knx1+dqoebrEsA4BCEAAAhCAAASaE6CAl9UBAQhAIEYC7ShkG9p3UDa/9LrMPnWS9Jw4McbZtn6Us2NInK3PSO7sOZLr7olkXCRkIsHY1Ah8dfm61m1MeqF7h9eNhua5dolL3biEry5fNC86vkl839PQPWIyujXTzBKMdRmje9HxRfeiY5llS2iervfRPF2+NlonJvW9CmNdxuieLl8brROTul6Fry5fGzVPlxjWIQABCEAAAhCAQHMCFPCyOiAAAQjESCDuQjb3S81lDw/K8KgjXR05WTm/T3oTUMTrFnSUViwVGR4W6eqS/PJVkuvuDe0JEjKhEbY0AF9dvq51G5Ne6N7h4l0NzXPXDHGpG5fw1eWL5kXDN4nve1q6R0xGs2ZaWYGxLmN0Lxq+6F40HLHCu7T2GkDzoiWctI0LbNaK1r9xWeNdT5c0uqfL10brxKSuV+Gry9dGzdMlhnUIQAACEIAABCDQnAAFvKwOCEAAAjESiLuQbcOWvbJm0+7qDBfPnSYLZk2NccaNH1XauF6ctWuqf8wtWiz5yxeGHhcJmdAIWxqAry5f17qNSS90T0RL89w1Q1zqxiV8dfmiedHwTeL7npbuEZPRrJlWVmCsyxjdi4YvuhcNR6zwLq29BtC86AgnbeMCm7Wi823clnjX0yWO7kXLl40L0fLMojU0T9frNmqeLjGsQwACEIAABCAAgeYEKOBldUAAAhCIkUDchWzb9x2UpTUn8K6a3yc9iTiBd7uUViypOYF3teS6e0J7goRMaIQtDcBXl69r3cakF7rnnsCro3numiEudeMSvrp80bxo+CbxfU9L94jJaNZMKysw1mWM7kXDF92LhiNWeJfWXgNoXnSEk7Zxgc1a0fk2bku86+kSR/ei48vGhehYZtkSmqfrfRs1T5cY1iEAAQhAAAIQgEBzAhTwsjogAAEIxEgg7kI2d2pJ26lewc1VezEuvIgeRcIrIpAtzNiY9EL3DjtcQ/Ncu8SlblzCV5cvmhcd3yS+72noHjEZ3ZppZgnGuozRvej4onvRscyyJTRP1/toXnR8k7Zxgc1a0fk2bkvoni5xdC86vmxciI5lli2hebret1HzdIlhHQIQgAAEIAABCDQnQAEvqwMCEIBAjATaUcgW4/Ta/igSMrougK8uX9e6jUkvdE933RCX8NUloGsdzdPla6N1NE/fqzDWZYzu6fK10ToxqetV+OryRfOi5Zu0jQts1orWv3FZQ/d0SaN70fFl40J0LLNsCc3T9b6NmqdLDOsQgAAEIAABCECgOQEKeFkdEIAABGIkQCGbLmwSMvDVJaBv3cakF7qnu27QPfjqEtC1jubp8rXROpqn71UY6zJG93T52midmNT1Knx1+aJ5unxttE5M6nsVxrqM0b1o+bJxIVqeWbSG5ul63UbN0yWGdQhAAAIQgAAEINCcAAW8rA4IQAACMRKgkE0XNgkZ+OoS0LduY9IL3dNdN+gefHUJ6FpH83T52mgdzdP3Kox1GaN7unxttE5M6noVvrp80TxdvjZaJyb1vQpjXcboni5fG60Tk7peha8uXxs1T5cY1iEAAQhAAAIQgEBzAhTwsjogAAEIxEiAQjZd2CRk4KtLQN+6jUkvdE933aB78NUloGsdzdPla6N1NE/fqzDWZYzu6fK10ToxqetV+OryRfN0+dponZjU9yqMdRmje7p8bbROTOp6Fb66fG3UPF1iWIcABCAAAQhAAALNCVDAy+qAAAQgECMBCtl0YZOQga8uAX3rNia90D3ddYPuwVeXgK51NE+Xr43W0Tx9r8JYlzG6p8vXRuvEpK5X4avLF83T5WujdWJS36sw1mWM7unytdE6ManrVfjq8rVR83SJYR0CEIAABCAAAQg0J0ABL6sDAhCAQIwEKGTThU1CBr66BPSt25j0Qvd01w26B19dArrW0TxdvjZaR/P0vQpjXcboni5fG60Tk7peha8uXzRPl6+N1olJfa/CWJcxuqfL10brxKSuV+Gry9dGzdMlhnUIQAACEIAABCDQnAAFvKwOCEAAAjESCFrINrTvoGx+6XWZfeok6TlxYowjbv0oZ8eQOFufkdzZcyTX3dP2cZGQ0XUBfHX5utZtTHqhe7rrhriEry4BXetoni5fG62jefpehbEuY3RPl6+N1olJXa/CV5cvmqfL10brxKS+V2Gsyxjd0+Vro3ViUter8NXla6Pm6RLDOgQgAAEIQAACEGhOgAJeVgcEIACBGAkEKWRzi3eXPTwow6OOdHXkZOX8PulNQBGvW7xbWrFUZHhYpKtL8stXSa67N0aaRz+KhIwufvjq8nWt25j0Qvd01w1xCV9dArrW0bwxvkncrJW0jVouLTRPNyZhrM8X3UP3TFcZumdKzKw9fM14mbZG88YTS9r7Hu96pivajvbonq4f0T1dvv9/e/ceZMlV3wf89MwOeqwwRjZIIKQQAkpl19iOjV1JKQb5EdvCkRHS9J1l/RJ2VWzjZ4XYTgkCExtTJAE7diUx/gcvSBbDPbNUYQpDIoNVBj8okrJxaQ1IgAKEhyMLY2NJWLt7T6rRjDRadpnbd/fXc+fMR/8hnf6d7s/59Xd6es691FjdPRm7qnxjfWvMvFgx1QkQIECAAAECZxawgVd3ECBAYECBWTayvf3Ov06vfd9fPnyWP/ZNl6Rrrnz8gGd9+qkmt/9uKr/92of/Y/N9P5YWrn7ujp6XFzKx/HxjfbvqNb70knuxfeO+5BsrEFtd5j3kO48f1prHD2p1VjIv9p5kHO8r9+Re3y6Te33F+o3n28+r72iZ94jYvD3vedbr2831jJd7sWsp9x7tO08fXJjHDy34/Sv2fuQb71tj5sWrmYEAAQIECBAgcHoBG3h1BgECBAYUmGUj28c/9/fpxVu+gfc13/3UdMVcfAPvx9Pklf9myzfw/kpqLrtiQM0vncpL6Fh+vrG+XfUaX3rJvRjXMCcAABxnSURBVNi+cV/yjRWIrS7zHvKdxw9rzeMHtfzxLfZ+3Kzu50qss9yTe307zD3ZV6zfeL79vPqOlnmPiM3b855nvb7dXM94uRe7lnLvEd95+uDCvH5owe+4sfcj33jfGjMvXs0MBAgQIECAAIHTC9jAqzMIECAwoMAsG9m605unT6tv5Zq3T657CR3bzHxjfbvqNb70knuxfeO+5BsrEFtd5j3kO48f1iqfnL8PavnjW+z9uFndz5VYZ7kn9/p2mHuyr1i/8Xz7efUdLfMeEZu35z3Pen27uZ7xci92LeXeI77z9MGFef3Qgt9xY+9HvvG+NWZevJoZCBAgQIAAAQKnF7CBV2cQIEBgQIFZN7INeIq7eiovoWOXj2+sb1e9xpdeci+2b9yXfGMFYqvLvEd85/HDWvP2QS1/fIu9Hzer+7kS6yz35F7fDnNP9hXrN55vP6++o2Xeo8Xm7XnPs17fjq5jvNyLXUe594jvPH1wYV4/tOB33Nj7kW+8b42ZF69mBgIECBAgQIDA6QVs4NUZBAgQGFDARrZYbC+h+cYKxFev8aWX3IvtG7nHN1YgtrrMi/WtsbrMi19VxrHGci/Wt8bq7snYVeUb6yvzYn1rrO6ejF9VxrHGcu/RvvP0wYV5/NBCp+WejL0n+cb61ph5sWKqEyBAgAABAgTOLGADr+4gQIDAgAI2ssVieyHDN1YgvnqNL73kXmzfyD2+sQKx1WVerG+N1WVe/KoyjjWWe7G+NVZ3T8auKt9YX5kX61tjdfdk/KoyjjWWe7G+NVZ3T8auKt9Y3xozL1ZMdQIECBAgQIDAmQVs4NUdBAgQGFDARrZYbC9k+MYKxFev8aWX3IvtG7nHN1YgtrrMi/WtsbrMi19VxrHGci/Wt8bq7snYVeUb6yvzYn1rrO6ejF9VxrHGci/Wt8bq7snYVeUb61tj5sWKqU6AAAECBAgQOLOADby6gwABAgMK2MgWi+2FDN9YgfjqNb70knuxfSP3+MYKxFaXebG+NVaXefGryjjWWO7F+tZY3T0Zu6p8Y31lXqxvjdXdk/GryjjWWO7F+tZY3T0Zu6p8Y31rzLxYMdUJECBAgAABAmcWsIFXdxAgQGBAARvZYrG9kOEbKxBfvcaXXnIvtm/kHt9YgdjqMi/Wt8bqMi9+VRnHGsu9WN8aq7snY1eVb6yvzIv1rbG6ezJ+VRnHGsu9WN8aq7snY1eVb6xvjZkXK6Y6AQIECBAgQODMAjbw6g4CBAgMKGAjWyy2FzJ8YwXiq9f40kvuxfaN3OMbKxBbXebF+tZYXebFryrjWGO5F+tbY3X3ZOyq8o31lXmxvjVWd0/GryrjWGO5F+tbY3X3ZOyq8o31rTHzYsVUJ0CAAAECBAicWcAGXt1BgACBAQVsZIvF9kKGb6xAfPUaX3rJvdi+kXt8YwViq8u8WN8aq8u8+FVlHGss92J9a6zunoxdVb6xvjIv1rfG6u7J+FVlHGss92J9a6zunoxdVb6xvjVmXqyY6gQIECBAgACBMwvYwKs7CBAgMKCAjWyx2F7I8I0ViK9e40svuRfbN3KPb6xAbHWZF+tbY3WZF7+qjGON5V6sb43V3ZOxq8o31lfmxfrWWN09Gb+qjGON5V6sb43V3ZOxq8o31rfGzIsVU50AAQIECBAgcGYBG3h1BwECBAYU2NzI9ob3fDBdefF56YqvPC9k9vLJj6Vy17HUPONrUnPZFSFzzGNRL2RiV4VvrG9XvcaXXpu5978+9LH05McuhSDu1czrMN2XIS31cFG+sb41Z55nvZjecU/GuG6tyjjWuObc86wX0zvuyRjXzap8Y31rzjzPejG9456McfWsF++6OUPNuedZL6aP5F6Mq2e9WNeaM28YObMQIECAAAECBL5UwAZeXUGAAIEBBTY3sj33N96Tjp+cpF/+jivS5Y87t5t4y6c+kSavuSmlB4+n9JiltPDiV6bmyZcPeJU7N1X3wuvSSy9Nn/nMZ1IpZedOpNKZ+cYvbPei/5JLLukmelzTNH8bP2P8DJu597zf/MP0kudcJvPOMbn78hyDnlKOb6xvzZnnWS+md9yTMa5bqzKONa459zzrxfSOezLGdbMq31jfmjPPs15M77gnY1w968W7bs5Qc+551ovpI7kX4+pZL9a15swbRs4sBAgQIECAAIEvFbCBV1cQIEBgQIFSymUppf874JSmIkBgdwo8pWmaT+7OU3/0Wcu9GlbRNRAIF5B54cQmIEBgzgTk3pwtiNMhQCBUQOaF8ipOgMAcCsi9OVwUp0SAQJhANZkXJqQwAQIECBAgQGAbARt4tQgBAgQGFCildLn75JTS5wec1lQECOwugcemlD7VNE0VXyMt93ZX8zlbAjsgIPN2AN2UBAjsqIDc21F+kxMgMLCAzBsY3HQECOy4gNzb8SVwAgQIDChQVeYN6GYqAgQIECBAgMCjBGzg1RAECBAgQIAAAQIECBAgQIAAAQIECBAgQIAAAQIECBAgQIAAAQIECBAgQIAAAQIEBhSwgXdAbFMRIECAAAECBAgQIECAAAECBAgQIECAAAECBAgQIECAAAECBAgQIECAAAECBAgQsIFXDxAgQIAAAQIECBAgQIAAAQIECBAgQIAAAQIECBAgQIAAAQIECBAgQIAAAQIECBAYUMAG3gGxTUWAAAECBAgQIECAAAECBAgQIECAAAECBAgQIECAAAECBAgQIECAAAECBAgQIEDABl49QIAAAQIECBAgQIAAAQIECBAgQIAAAQIECBAgQIAAAQIECBAgQIAAAQIECBAgQGBAARt4B8Q2FQECBAgQIECAAAECBAgQIECAAAECBAgQIECAAAECBAgQIECAAAECBAgQIECAAAEbePUAAQIE5kBgNBr9einl61JKb885v2oOTqmqUzh8+PDjjx8/flvTNFeOx+OvqOri5uBiVlZWrppMJq9OKZ1smuboeDz+1Tk4rWpOYWVl5Zsmk8mm6btyzi+r4eLkXtwqyrw4283Kci/WWO7F+tZYXe7FrqrMC/f1rBdLXF11mRe/pHIv1tizXqxvjdXlXuyqyrxwX896scRVVpd7scsq98J9q8y9WDXVCRAgQIAAgb0uYAPvXu8A10+AwI4LtG37jSmlwznnF7dtm1NKL8o537PjJ1bRCbRtu3j8+PHHLi0tjXPO31nRpc3FpbRte+k999zzV7fffvuJtm3ftX///uceOXLkC3NxchWcRNe/OeeT3aWMRqPfK6Vcl3P+u918aXIvdvVkXqxvV13uxRrLvVjfGqvLvdhVlXnhvp71Yomrqy7z4pdU7sUae9aL9a2xutyLXVWZF+7rWS+WuMrqci92WeVeuG91uRcrpjoBAgQIECBAICUbeHUBAQIEdligbdsXpZQ+lnN+W9u2P5lS+nDO+R07fFpVTt+27W05539Z5cXNyUW1bfs/U0r/Kuf84JycUjWn0b24bZrmdQcOHHjh6urqZDdfmNwbZvVk3mDOci+IWu4FwVZcVu7FL65nvThjmRdnW2tlmTfMysq9OGe5F2dba2W5F7+yMi/OWObF2dZcWe7Fr67cizOuKffilFQmQIAAAQIECDwkYAOvTiBAgMAOC4xGo5smk8m719fX3z0ajX6olPL3Oee1HT6tKqfvXsb4Bt64pW3bttscfX3O+cfjZtmblUej0QtKKasppXfknH9mtyvIvWFWUObFO8u9OGO5F2dbc2W5F7u6Mi/OV+bF2dZcWebFr67cizOWe3G2NVeWe7GrK/PifGVenG3tleVe7ArLvTjf2nIvTkplAgQIECBAgMBDAjbw6gQCBAjssIBvohxuAbzwirO+/vrrn7Jv374jpZRrc84PxM20tyu3bbteSnn5+vr6sd0sIfeGWT2ZF+ss92J9N6vLvWGca5lF7sWtpMyLs91aWeYN41zLLDIvdiXlXqyvZ71hfGubRe7FrajMi7P1rDeMba2zyL24lZV7cbY15t4wWmYhQIAAAQIE9rKADbx7efVdOwEC51ygbdtfSyl9b9M0/2AymXz9+vr6n2/5o8TTm6Z5fSnlq1NKn1tcXLxxbW3tA8vLy89aWFg4NB6P/+1oNBqXUn4i53zPOT+5SgrOYrxlDW7LOXffEuufMwj08U0pvTDn/Bdt2z4mpfS2yWTyoqNHj94F98wCfXw3M6LzzTk/2FVt2/a3FhcXX7G2tvaReXGe5Zrk3vSrN4uvzJved+O+mvpnt9zrZ9vXV+71963xCLkXu6p9fGVe/7Xo4yvz+vvWeMQsPeNZr18n9DGWe/1sPet5t9e/Y774XmPq3782f1bKveml+/jKvOldt/Rg7/71Xq+/c21H9Lkv5V7/1e/jK/difXfL77j9FRxBgAABAgQIEIgXsIE33tgMBAjsIYG2bf/Fvn37PnrixIn3lFKuO2UD7ztTSkdyzjevrKzcMJlMfiHn/M0bf/D4rymlZzZN8z/G4/Er9xBZ70s9C+PbUkpfn1L605TSz3YbT3tPvgcOmMW3bdsbU0qvSCnd2RGdPHny+9785jd/eg9w9b7EGX2Xm6b5iVJK99z2Bznnl/WeOPCAWa5J7k2/IGfhK/OmZJ7FWO5NifvQBw96Pxu1bSv3pieubuQsPbPxc0XuTdENs/jKvClgN4bM6CvzpieubuQsPSPz+rXBLMZyb3rjGX3l3vTE1Y2cpWfk3vRtMIuvzAv3lXnTE1c5cpb7Uu5N3wqz+Mq9cN+5zr3pr95IAgQIECBAgMBwAjbwDmdtJgIE9pBA27Z3l1Ket7mBt23bJ6SU7jp48ODFq6urk40XMJ+eTCZXHT169KN7iOacXSrjc0Z52kJ8+fYV0DN9xfqN59vPa5bRjGdRm/6YGn1rvKbpVzR+JN9YY758+wromb5i/cbz7ec1y2jGs6hNf0yNvjVe0/QrGj+Sb6wxX759BfRMX7H+4xn3N+tzBN8+Wv3H8u1v5ggCBAgQIECAQB8BG3j7aBlLgACBKQVO/WV2ZWXlG0opvz0ej//JZom2bd9bSvmF9fX126csa9gWAcax7cCXb18BPdNXrN94vv28ZhnNeBa16Y+p0bfGa5p+ReNH8o015su3r4Ce6SvWbzzffl6zjGY8i9r0x9ToW+M1Tb+i8SP5xhrz5dtXQM/0Fes/nnF/sz5H8O2j1X8s3/5mjiBAgAABAgQI9BGwgbePlrEECBCYUsAvs1NCncUwxmeBN8WhfKdAOoshNfrWeE1nscTn/FC+55z0SwoyjjWu0bfGa4rtgn7V+fbz6juab1+xfuNr9K3xmvqtauxovrG+XXXGscY1+tZ4TbFd0K86335efUfz7SvWb3yNvjVeU79VjR/NONaYL99YAdUJECBAgAABArECNvDG+qpOgMAeFTj1ZUHbtk9IKd118ODBi1dXVycbfzz69GQyuero0aMf3aNMZ3XZjM+Kb9uD+W5LdFYDavSt8ZrOapHP8cF8zzHoacoxjjWu0bfGa4rtgn7V+fbz6juab1+xfuNr9K3xmvqtauxovrG+G+9g7i6lPG99ff3PN/639zTnkL3GHq7xms7hkp91Kb5nTfhlC/Dl21dAz/QV6z+ecX+zPkfw7aPVfyzf/maOIECAAAECBAj0EbCBt4+WsQQIEJhS4NRfZjf+OPSupmlePx6PX9+27XJK6edzzt88ZUnDThFgHNsSfPn2FdAzfcX6jefbz2uW0YxnUZv+mBp9a7ym6Vc0fiTfWGO+fPsK6Jm+Yv3G8+3nNctoxrOoTX9Mjb41XtP0Kxo/km+sMV++fQX0TF+x/uMZ9zfrcwTfPlr9x/Ltb+YIAgQIECBAgEAfARt4+2gZS4AAgW0ERqPRa1NK31NKuSSldG/TNJ8fj8dXdocdOnToypMnTx5JKX1VSulvSikvXF9fPwa1nwDjfl59R/PtK9ZvfI2+NV5Tv1WNHc031rerzjjWuEbfGq8ptgv6Vefbz6vvaL59xfqNr9G3xmvqt6qxo/nG+nrW4zuLgPtyFrXpj+E7vdUsI/nOojb9MTX61nhN06/oMCMZxzrz5RsroDoBAgQIECBAYBgBG3iHcTYLAQIECBAgQIAAAQIECBAgQIAAAQIECBAgQIAAAQIECBAgQIAAAQIECBAgQIAAgS8K2MCrEQgQIECAAAECBAgQIECAAAECBAgQIECAAAECBAgQIECAAAECBAgQIECAAAECBAgMKGAD74DYpiJAgAABAgQIECBAgAABAgQIECBAgAABAgQIECBAgAABAgQIECBAgAABAgQIECBgA68eIECAAAECBAgQIECAAAECBAgQIECAAAECBAgQIECAAAECBAgQIECAAAECBAgQIDCggA28A2KbigABAgQIECBAgAABAgQIECBAgAABAgQIECBAgAABAgQIECBAgAABAgQIECBAgIANvHqAAAECBAgQIECAAAECBAgQIECAAAECBAgQIECAAAECBAgQIECAAAECBAgQIECAwIACNvAOiG0qAgQIECBAgAABAgQIECBAgAABAgQIECBAgAABAgQIECBAgAABAgQIECBAgAABAjbw6gECBAgQIECAAAECBAgQIECAAAECBAgQIECAAAECBAgQIECAAAECBAgQIECAAAECAwrYwDsgtqkIECBAgAABAgQIECBAgAABAgQIECBAgAABAgQIECBAgAABAgQIECBAgAABAgQI2MCrBwgQIECAAAECBAgQIECAAAECBAgQIECAAAECBAgQIECAAAECBAgQIECAAAECBAgMKGAD74DYpiJAgACBnRUYjUY/lFJ6xXg8vnxnz+TsZh+NRneUUv5jzvnms6vkaAIEaheQe7WvsOsjQGCrgMzTDwQI7DUBubfXVtz1EtjbAjJvb6+/qyewFwXk3l5cdddMgAABAgQIECCwFwVs4N2Lq+6aCRAgsEcFuhdepZRfyjlfcbYEbds+p2ma3z9w4MC+1dXVydnWm5fj27Z9edM0Ly+lvCbn/HOb59W27Y+klF6ac/6H83KuzoMAge0F5N72RnJveyMjCOwWAZm3/UrJvO2NjCCwmwTk3varJfe2NzKCwG4RkHnbr5TM297ICAK7SUDubb9acm97IyMIECBAgAABAgTmX8AG3vlfI2dIgAABAudI4Fy+8FpeXr66aZp3ppQek3M+Oesptm3bHf/grMef6+O6F14ppZ9MKV2UUnpmzvnD3RwbG3hfknN+2rmeUz0CBOIE5N72tnJveyMjCOwWAZm3/UrJvO2NjCCwmwTk3varJfe2NzKCwG4RkHnbr5TM297ICAK7SUDubb9acm97IyMIECBAgAABAgTmX8AG3vlfI2dIgAABAj0EbrzxxvPvu+++l3Z7TpumeVIp5f+llP5DzvnmU194jUaj3y+lvDvn/LLNKdq2vbtpml8aj8eva9v2cU3TvLaU8h3dRt2U0qdLKTft27fvfSdPnvxQSum8lNL9TdOUUsorc86v6o5JKb2qaZprSin7U0rvTSn9VM757m6Otm1/K6V0YUrp3pTSckrpfTnn7zn1Etu27TbR/mxK6Qkbc7x9PB7/8EaNh89xNBq9upTyo905dP+tlLKvaZrzSylPzTl//AUveMGTT5w48Z9TSs9JKe1LKb1zaWnpZ2699da/Oh3rxifWv72U8n+apnn8eDy+dmPO7ht4beDt0YuGEhhKQO7JvaF6zTwE5kFA5sm8eehD50BgSAG5J/eG7DdzEdhpAZkn83a6B81PYGgBuSf3hu458xEgQIAAAQIECMyfgA2887cmzogAAQIEzkJgNBrdklJ6+sLCwg+ura3d2bbtpSmlS3POfzbDBt5XNE3zdQ888MDKW9/61vsPHTp0+fHjx/cfPXr0g23bdhti35Vz7jbFfnHzbPfPxqbgT3Sbdi+++OL7P/vZz/5i0zTfW0r52u6bejc28B5umuZfl1Ju2b9//9KRI0e+sPWS27Z9etM0719YWHjW2traB6699toLzz///G/IOb+nG7d1k/Epxy2mlH6n+3cHDx689tixY91m3vd3/+7CCy98+b333rtwwQUX/EYp5Uk55+88HfPmBt4TJ06sLC4u3plSuj7nfJtv4D2LpnQogWABuSf3gltMeQJzJSDzZN5cNaSTITCAgNyTewO0mSkIzI2AzJN5c9OMToTAQAJyT+4N1GqmIUCAAAECBAgQmGMBG3jneHGcGgECBAj0E3j+85//VUtLS/dMJpNvXF9f/9NTj55hA2/3zbzfXUr56fX19f+9daPu5gbegwcPLq2urk66uZaXl//pwsLCHz/wwAMXdxt+u3/Xtm23qfbz3bf4rq+v/1G3gbdpmivH4/FVZ7q6Q4cOPXUymRybTCY3Hj9+/B1vectbPr917JfZwPuGlNIzUkrflnN+oG3b5zdN8+vj8fjyzePbtr2saZpPLC4uPuWNb3zjp049h80NvOPx+Nlt2760aZpDBw4c+Npjx4690Dfw9utHowkMISD3Wrk3RKOZg8CcCMg8mTcnreg0CAwmIPfk3mDNZiICcyAg82TeHLShUyAwqIDck3uDNpzJCBAgQIAAAQIE5lbABt65XRonRoAAAQJ9BZaXl5/VNM17zz///K+4+eab7zv1+L4beLv/+6r777//35VSrkspdZtgf29xcfGmtbW1j5xuA+9oNBqVUt6YUvqbzbmbpul+1j6mlPLDOec3bWzgXRqPx9//5a5vZWXl2slk8qKmaf5ZKaX7JtxfzTmvdcecbgPvaDR6dSnluUtLS1fdeuutf70x7uebpvnlUsrDG4A3z6dpmm9/05ve9CennsPWDbzXXHPNeRdddNEHmqb5L6WUzvMlOeen9V0X4wkQiBOQe3IvrrtUJjB/AjJP5s1fVzojArECck/uxXaY6gTmS0Dmybz56khnQyBeQO7JvfguMwMBAgQIECBAgMBuELCBdzesknMkQIAAgakEDh8+/NXHjx//y1LKs6b5Bt62bX8npXRXzvnF3QRXX331vic+8Ynd5tufGo/Hr9s66XXXXfeVS0tL/73byJtz/pbl5eVvaZrm9q3fwLuysvLsyWTyjpTSY3POJ0930t0G3pTSYs75B6e5qNXV1YU77rjjhqZpus27/zjn/OFTN/C2bftz3TmnlP55zvmTm3Xbtu3m+Pc55+5beaf6Z+sG3u6Atm2XU0q/2TTNfyql/KgNvFMxGkRgMAG5J/cGazYTEZgDAZkn8+agDZ0CgUEF5J7cG7ThTEZghwVknszb4RY0PYHBBeSe3Bu86UxIgAABAgQIECAwlwI28M7lsjgpAgQIEJhVYDQa3VJKedri4uKNa2trd7Zte2kp5Undht5Tv4G3bduXpZR+4OTJk89eXFz8XErpF1NKP900zY93G3g3vgX3IymlD+3fv3/pvvvu+29N0zxtPB5/6w033PCMhYWFD6aUnplz/ovufLvNtseOHfuTpmneX0q5Ked8z+HDhx//4IMPfutFF130u0eOHPnCNBt4Dx06dOWJEyf+0QUXXPAH3TcJr6ysfNdkMnlbSukZOee7t27g7TbpNk3zK6WUZ2+ex6Zd27YXNU1zRynlDeedd96rb7nllr+9/vrrn7hv376rx+Px+HTGp27g7ca0bXt7SulASunvbOCdtTMdRyBOQO49Yiv34vpMZQLzIiDzZN689KLzIDCUgNyTe0P1mnkIzIOAzJN589CHzoHAkAJyT+4N2W/mIkCAAAECBAgQmE+B/w+BjibkpxW3eAAAAABJRU5ErkJggg==\">"
      ],
      "text/plain": [
       "<IPython.core.display.HTML object>"
      ]
     },
     "metadata": {},
     "output_type": "display_data"
    },
    {
     "name": "stdout",
     "output_type": "stream",
     "text": [
      "65 steps available\n",
      "1\n",
      "69 steps available\n",
      "2\n",
      "79 steps available\n",
      "3\n",
      "88 steps available\n",
      "4\n",
      "122 steps available\n",
      "5\n",
      "220 steps available\n",
      "6\n",
      "259 steps available\n",
      "File larger_viscosity/from_cartesius/rhor1_phi56_yd70.0/result/nu_t.dat does not exist\n",
      "65 steps available\n",
      "1\n",
      "69 steps available\n",
      "2\n",
      "79 steps available\n",
      "3\n",
      "88 steps available\n",
      "4\n",
      "122 steps available\n",
      "5\n",
      "220 steps available\n",
      "6\n",
      "259 steps available\n",
      "File larger_viscosity/from_cartesius/rhor1_phi56_yd70.0/result/nu_t.dat does not exist\n"
     ]
    }
   ],
   "source": [
    "import seaborn as sns\n",
    "\n",
    "label1 = widgets.Label(\"\")\n",
    "label_cache = widgets.Label(value = \"\")\n",
    "progress_1 = widgets.IntProgress(min = 0, max = 100, value = 0)\n",
    "progress_2 = widgets.IntProgress(min = 0, max = 100, value = 0)\n",
    "\n",
    "def cluster_size_vs_viscosity_matplotlib(path_text_input,phis,shearrates,gaps, loglog,Individual_plots):    \n",
    "    plt.style.use(\"ggplot\")\n",
    "    if not Individual_plots:\n",
    "        plt.figure(figsize=[10,5])\n",
    "    else:\n",
    "#         matplotlib.rcParams.update({'font.size': 8})\n",
    "        plt.figure(figsize=[5*len(shearrates),5*len(phis)])\n",
    "    for g,gap in enumerate(gaps):\n",
    "        n_fig = 0\n",
    "        s_data = np.asarray([])\n",
    "        ns_data = np.asarray([])\n",
    "        viscosity_temp = np.asarray([])\n",
    "        N_typical = np.asarray([])\n",
    "        for p,phi in enumerate(phis):\n",
    "            for k,shearrate in enumerate(shearrates):\n",
    "                n_fig += 1\n",
    "                progress_2.value = int(float(n_fig)*(g+1)/(len(shearrates)*len(phis)*len(gaps))*100)\n",
    "                if Individual_plots: N_typical, viscosity_temp = np.asarray([]),np.asarray([])\n",
    "                try:\n",
    "                    if len(path_text_input.strip())== 0:\n",
    "                        path = \"rhor1_phi\"+str(phi)+\"_yd\"+str(float(shearrate))\n",
    "                    else:\n",
    "                        path = str(path_text_input)+\"/rhor1_phi\"+str(phi)+\"_yd\"+str(float(shearrate))\n",
    "\n",
    "                    dataset = sp.reader.DataSet(path,particles=True, fluid=False)\n",
    "                    print len(dataset.tlist), \"steps available\"\n",
    "\n",
    "                    cache_file = cache(cachefile=dataset.cachefile)\n",
    "                    viscosity_file = pd.read_csv(path+\"/result/nu_t.dat\")\n",
    "                    viscosity = np.array(viscosity_file[viscosity_file.columns[4]][1:])\n",
    "                    for i,t in enumerate(dataset.tlist[1:len(viscosity)]):\n",
    "                        progress_1.value = int(float(i)/len(dataset.tlist[1:len(viscosity)])*100)\n",
    "                        try:\n",
    "                            if cache_file.has_data(t,\"cluster_size_distribution_gap_\"+str(gap)):\n",
    "                                label_cache.value = \"loading data for t=\"+str(t)\n",
    "                                s, ns = cache_file.load_data(t,\"cluster_size_distribution_gap_\"+str(gap))\n",
    "                                idx = np.where(ns != 0)[0]\n",
    "                                s_data = np.concatenate([s_data , s[idx]])\n",
    "                                ns_data = np.concatenate([ns_data , ns[idx]])\n",
    "                                N_typical_temp = np.asarray([sum(np.multiply(s,ns))/float(sum(ns))])\n",
    "                                N_typical = np.concatenate([N_typical, N_typical_temp]) \n",
    "                                viscosity_temp = np.concatenate([viscosity_temp, [viscosity[i]]])\n",
    "                                label1.value = str(s[idx])\n",
    "                            else:\n",
    "                                dataset.load_state(t)\n",
    "                                s, ns = dataset.get_quantity(\"cluster_size_distribution\", gap = gap, update=True)\n",
    "                                cache_file.save_data(t,{\"cluster_size_distribution_gap_\"+str(gap):[s, ns]})\n",
    "                                idx = np.where(ns != 0)[0]\n",
    "                                s_data = np.concatenate([s_data , s[idx]])\n",
    "                                ns_data = np.concatenate([ns_data , ns[idx]])\n",
    "                                N_typical_temp = np.asarray([sum(np.multiply(s,ns))/float(sum(ns))])\n",
    "                                N_typical = np.concatenate([N_typical, N_typical_temp]) \n",
    "                                viscosity_temp = np.concatenate([viscosity_temp, [viscosity[i]]])\n",
    "                                label1.value = str(s[idx])\n",
    "                        except Exception as e:\n",
    "                            print e\n",
    "                    try:\n",
    "                        if Individual_plots:\n",
    "                            nx_plots = len(phis)\n",
    "                            ny_plots = len(shearrates)\n",
    "                            plt.subplot(nx_plots, ny_plots,n_fig)\n",
    "                            print (p+1)*(k+1)\n",
    "                            x_val = N_typical\n",
    "                            y_val = viscosity_temp\n",
    "                            plt.xlabel(\"cluster size N\")\n",
    "                            plt.ylabel(\"relative viscosity \")\n",
    "                            plt.xlim([1,1e3])\n",
    "                            plt.ylim([0,1e5])\n",
    "                            if loglog:\n",
    "                                plt.loglog(x_val,y_val,'.',label=\"gap=\"+str(gap))\n",
    "                            else:\n",
    "                                plt.plot(x_val,y_val,'.',label=\"gap=\"+str(gap))\n",
    "                            \n",
    "                            \n",
    "                            plt.legend(loc=\"best\")\n",
    "                            plt.title(\"phi=\"+str(phi)+\" yd=\"+str(shearrate),fontsize=10)\n",
    "                    except Exception as e:\n",
    "                        continue\n",
    "                        \n",
    "                except Exception as e:\n",
    "                    print e\n",
    "#         uniq_sizes = np.unique(s_data)\n",
    "#         ns_data_cumulative = np.zeros_like(uniq_sizes)\n",
    "#         for i, item in enumerate(uniq_sizes):\n",
    "#             idx_uniq = np.where(s_data == item)[0]\n",
    "#             ns_data_cumulative[i] = sum(ns_data[idx_uniq])\n",
    "            \n",
    "#         x,y = uniq_sizes, ns_data_cumulative\n",
    "        if not Individual_plots:\n",
    "            x,y = N_typical, viscosity_temp\n",
    "            plt.xlabel(\"cluster size N\")\n",
    "            plt.ylabel(\"relative viscosity \")\n",
    "                \n",
    "            plt.subplot(121)\n",
    "            if loglog:\n",
    "                plt.loglog(x,  y,'.',label=\"gap=\"+str(gap))\n",
    "            else:\n",
    "                plt.plot(x,  y,'.',label=\"gap=\"+str(gap))\n",
    "            \n",
    "            plt.legend()\n",
    "\n",
    "            plt.subplot(122)\n",
    "            N_uniq = np.unique(N_typical)\n",
    "            viscosity_temp_mean = []\n",
    "            viscosity_temp_var = []\n",
    "            for N in N_uniq:\n",
    "                N_idx = np.where(x==N)[0]\n",
    "                print N_idx\n",
    "                viscosity_temp_mean.append(np.mean(y[N_idx]))\n",
    "                viscosity_temp_var.append(np.var(y[N_idx]))\n",
    "            print N_uniq\n",
    "            print viscosity_temp_mean\n",
    "            print viscosity_temp_var\n",
    "            plt.errorbar(N_uniq,viscosity_temp_mean,yerr=viscosity_temp_var,label=\"gap=\"+str(gap))\n",
    "    #         sns.regplot(x=x, y=y, x_bins=30, fit_reg=None)\n",
    "            if loglog:\n",
    "                plt.xscale(\"log\")\n",
    "                plt.yscale(\"log\")\n",
    "            plt.legend()\n",
    "            plt.xlabel(\"cluster size N\")\n",
    "            plt.ylabel(\"relative viscosity \")\n",
    "#         plt.loglog(x,  y/float(max(y)), linewidth=1.0,label=\"gap=\"+str(gap))\n",
    "#     plt.legend(loc=\"best\")\n",
    "#     plt.xlabel(\"N_typical\")\n",
    "#     plt.ylabel(\"relative viscosity\")\n",
    "#     plt.suptitle(\"cluster size vs rel. viscosity for phi \"+str(phi)+\" yd\"+str(shearrates)+\" gap=\"+str(gaps))\n",
    "    \n",
    "    \n",
    "widget_cluster_size_vs_viscosity_matplotlib = interactive(cluster_size_vs_viscosity_matplotlib, \\\n",
    "    path_text_input = widgets.Text(value=\"\"),\\\n",
    "    phis = widgets.SelectMultiple(options=[40,45,50,54,55,56,58]), \\\n",
    "    shearrates= widgets.SelectMultiple(options=[1,10,11,11.5,12,12.5,13,14,15,16,18,20,30,50,70,100,200,300,1000]),\\\n",
    "    gaps = widgets.SelectMultiple(options=[9e-8,6.7e-8,4e-8,1e-8], value = [9e-8,6.7e-8]),\\\n",
    "    loglog = widgets.RadioButtons(options=[True,False],value = True),\\\n",
    "    Individual_plots = widgets.RadioButtons(options=[True,False],value = True),\\\n",
    "    __manual = True)\n",
    "# display(widget_cluster_size_vs_viscosity_matplotlib)\n",
    "display(widget_cluster_size_vs_viscosity_matplotlib.children[0])\n",
    "display(widgets.HBox(widget_cluster_size_vs_viscosity_matplotlib.children[1:4]))\n",
    "display(widgets.HBox(widget_cluster_size_vs_viscosity_matplotlib.children[4:]))\n",
    "display(label1)\n",
    "display(progress_2)\n",
    "display(progress_1)\n",
    "display(label_cache)\n",
    "# for i,item in enumerate(pdf_average.children):\n",
    "#     print i, item.description \n",
    "# display(widget_cluster_size_distribution_matplotlib)\n",
    "# display(widgets.HBox(cluster_size_distribution.children[4:]))"
   ]
  },
  {
   "cell_type": "markdown",
   "metadata": {},
   "source": [
    "# Cluster size vs Cluster Probability "
   ]
  },
  {
   "cell_type": "code",
   "execution_count": 99,
   "metadata": {
    "collapsed": false,
    "scrolled": false
   },
   "outputs": [
    {
     "data": {
      "application/javascript": [
       "/* Put everything inside the global mpl namespace */\n",
       "window.mpl = {};\n",
       "\n",
       "mpl.get_websocket_type = function() {\n",
       "    if (typeof(WebSocket) !== 'undefined') {\n",
       "        return WebSocket;\n",
       "    } else if (typeof(MozWebSocket) !== 'undefined') {\n",
       "        return MozWebSocket;\n",
       "    } else {\n",
       "        alert('Your browser does not have WebSocket support.' +\n",
       "              'Please try Chrome, Safari or Firefox ≥ 6. ' +\n",
       "              'Firefox 4 and 5 are also supported but you ' +\n",
       "              'have to enable WebSockets in about:config.');\n",
       "    };\n",
       "}\n",
       "\n",
       "mpl.figure = function(figure_id, websocket, ondownload, parent_element) {\n",
       "    this.id = figure_id;\n",
       "\n",
       "    this.ws = websocket;\n",
       "\n",
       "    this.supports_binary = (this.ws.binaryType != undefined);\n",
       "\n",
       "    if (!this.supports_binary) {\n",
       "        var warnings = document.getElementById(\"mpl-warnings\");\n",
       "        if (warnings) {\n",
       "            warnings.style.display = 'block';\n",
       "            warnings.textContent = (\n",
       "                \"This browser does not support binary websocket messages. \" +\n",
       "                    \"Performance may be slow.\");\n",
       "        }\n",
       "    }\n",
       "\n",
       "    this.imageObj = new Image();\n",
       "\n",
       "    this.context = undefined;\n",
       "    this.message = undefined;\n",
       "    this.canvas = undefined;\n",
       "    this.rubberband_canvas = undefined;\n",
       "    this.rubberband_context = undefined;\n",
       "    this.format_dropdown = undefined;\n",
       "\n",
       "    this.image_mode = 'full';\n",
       "\n",
       "    this.root = $('<div/>');\n",
       "    this._root_extra_style(this.root)\n",
       "    this.root.attr('style', 'display: inline-block');\n",
       "\n",
       "    $(parent_element).append(this.root);\n",
       "\n",
       "    this._init_header(this);\n",
       "    this._init_canvas(this);\n",
       "    this._init_toolbar(this);\n",
       "\n",
       "    var fig = this;\n",
       "\n",
       "    this.waiting = false;\n",
       "\n",
       "    this.ws.onopen =  function () {\n",
       "            fig.send_message(\"supports_binary\", {value: fig.supports_binary});\n",
       "            fig.send_message(\"send_image_mode\", {});\n",
       "            fig.send_message(\"refresh\", {});\n",
       "        }\n",
       "\n",
       "    this.imageObj.onload = function() {\n",
       "            if (fig.image_mode == 'full') {\n",
       "                // Full images could contain transparency (where diff images\n",
       "                // almost always do), so we need to clear the canvas so that\n",
       "                // there is no ghosting.\n",
       "                fig.context.clearRect(0, 0, fig.canvas.width, fig.canvas.height);\n",
       "            }\n",
       "            fig.context.drawImage(fig.imageObj, 0, 0);\n",
       "        };\n",
       "\n",
       "    this.imageObj.onunload = function() {\n",
       "        this.ws.close();\n",
       "    }\n",
       "\n",
       "    this.ws.onmessage = this._make_on_message_function(this);\n",
       "\n",
       "    this.ondownload = ondownload;\n",
       "}\n",
       "\n",
       "mpl.figure.prototype._init_header = function() {\n",
       "    var titlebar = $(\n",
       "        '<div class=\"ui-dialog-titlebar ui-widget-header ui-corner-all ' +\n",
       "        'ui-helper-clearfix\"/>');\n",
       "    var titletext = $(\n",
       "        '<div class=\"ui-dialog-title\" style=\"width: 100%; ' +\n",
       "        'text-align: center; padding: 3px;\"/>');\n",
       "    titlebar.append(titletext)\n",
       "    this.root.append(titlebar);\n",
       "    this.header = titletext[0];\n",
       "}\n",
       "\n",
       "\n",
       "\n",
       "mpl.figure.prototype._canvas_extra_style = function(canvas_div) {\n",
       "\n",
       "}\n",
       "\n",
       "\n",
       "mpl.figure.prototype._root_extra_style = function(canvas_div) {\n",
       "\n",
       "}\n",
       "\n",
       "mpl.figure.prototype._init_canvas = function() {\n",
       "    var fig = this;\n",
       "\n",
       "    var canvas_div = $('<div/>');\n",
       "\n",
       "    canvas_div.attr('style', 'position: relative; clear: both; outline: 0');\n",
       "\n",
       "    function canvas_keyboard_event(event) {\n",
       "        return fig.key_event(event, event['data']);\n",
       "    }\n",
       "\n",
       "    canvas_div.keydown('key_press', canvas_keyboard_event);\n",
       "    canvas_div.keyup('key_release', canvas_keyboard_event);\n",
       "    this.canvas_div = canvas_div\n",
       "    this._canvas_extra_style(canvas_div)\n",
       "    this.root.append(canvas_div);\n",
       "\n",
       "    var canvas = $('<canvas/>');\n",
       "    canvas.addClass('mpl-canvas');\n",
       "    canvas.attr('style', \"left: 0; top: 0; z-index: 0; outline: 0\")\n",
       "\n",
       "    this.canvas = canvas[0];\n",
       "    this.context = canvas[0].getContext(\"2d\");\n",
       "\n",
       "    var rubberband = $('<canvas/>');\n",
       "    rubberband.attr('style', \"position: absolute; left: 0; top: 0; z-index: 1;\")\n",
       "\n",
       "    var pass_mouse_events = true;\n",
       "\n",
       "    canvas_div.resizable({\n",
       "        start: function(event, ui) {\n",
       "            pass_mouse_events = false;\n",
       "        },\n",
       "        resize: function(event, ui) {\n",
       "            fig.request_resize(ui.size.width, ui.size.height);\n",
       "        },\n",
       "        stop: function(event, ui) {\n",
       "            pass_mouse_events = true;\n",
       "            fig.request_resize(ui.size.width, ui.size.height);\n",
       "        },\n",
       "    });\n",
       "\n",
       "    function mouse_event_fn(event) {\n",
       "        if (pass_mouse_events)\n",
       "            return fig.mouse_event(event, event['data']);\n",
       "    }\n",
       "\n",
       "    rubberband.mousedown('button_press', mouse_event_fn);\n",
       "    rubberband.mouseup('button_release', mouse_event_fn);\n",
       "    // Throttle sequential mouse events to 1 every 20ms.\n",
       "    rubberband.mousemove('motion_notify', mouse_event_fn);\n",
       "\n",
       "    rubberband.mouseenter('figure_enter', mouse_event_fn);\n",
       "    rubberband.mouseleave('figure_leave', mouse_event_fn);\n",
       "\n",
       "    canvas_div.on(\"wheel\", function (event) {\n",
       "        event = event.originalEvent;\n",
       "        event['data'] = 'scroll'\n",
       "        if (event.deltaY < 0) {\n",
       "            event.step = 1;\n",
       "        } else {\n",
       "            event.step = -1;\n",
       "        }\n",
       "        mouse_event_fn(event);\n",
       "    });\n",
       "\n",
       "    canvas_div.append(canvas);\n",
       "    canvas_div.append(rubberband);\n",
       "\n",
       "    this.rubberband = rubberband;\n",
       "    this.rubberband_canvas = rubberband[0];\n",
       "    this.rubberband_context = rubberband[0].getContext(\"2d\");\n",
       "    this.rubberband_context.strokeStyle = \"#000000\";\n",
       "\n",
       "    this._resize_canvas = function(width, height) {\n",
       "        // Keep the size of the canvas, canvas container, and rubber band\n",
       "        // canvas in synch.\n",
       "        canvas_div.css('width', width)\n",
       "        canvas_div.css('height', height)\n",
       "\n",
       "        canvas.attr('width', width);\n",
       "        canvas.attr('height', height);\n",
       "\n",
       "        rubberband.attr('width', width);\n",
       "        rubberband.attr('height', height);\n",
       "    }\n",
       "\n",
       "    // Set the figure to an initial 600x600px, this will subsequently be updated\n",
       "    // upon first draw.\n",
       "    this._resize_canvas(600, 600);\n",
       "\n",
       "    // Disable right mouse context menu.\n",
       "    $(this.rubberband_canvas).bind(\"contextmenu\",function(e){\n",
       "        return false;\n",
       "    });\n",
       "\n",
       "    function set_focus () {\n",
       "        canvas.focus();\n",
       "        canvas_div.focus();\n",
       "    }\n",
       "\n",
       "    window.setTimeout(set_focus, 100);\n",
       "}\n",
       "\n",
       "mpl.figure.prototype._init_toolbar = function() {\n",
       "    var fig = this;\n",
       "\n",
       "    var nav_element = $('<div/>')\n",
       "    nav_element.attr('style', 'width: 100%');\n",
       "    this.root.append(nav_element);\n",
       "\n",
       "    // Define a callback function for later on.\n",
       "    function toolbar_event(event) {\n",
       "        return fig.toolbar_button_onclick(event['data']);\n",
       "    }\n",
       "    function toolbar_mouse_event(event) {\n",
       "        return fig.toolbar_button_onmouseover(event['data']);\n",
       "    }\n",
       "\n",
       "    for(var toolbar_ind in mpl.toolbar_items) {\n",
       "        var name = mpl.toolbar_items[toolbar_ind][0];\n",
       "        var tooltip = mpl.toolbar_items[toolbar_ind][1];\n",
       "        var image = mpl.toolbar_items[toolbar_ind][2];\n",
       "        var method_name = mpl.toolbar_items[toolbar_ind][3];\n",
       "\n",
       "        if (!name) {\n",
       "            // put a spacer in here.\n",
       "            continue;\n",
       "        }\n",
       "        var button = $('<button/>');\n",
       "        button.addClass('ui-button ui-widget ui-state-default ui-corner-all ' +\n",
       "                        'ui-button-icon-only');\n",
       "        button.attr('role', 'button');\n",
       "        button.attr('aria-disabled', 'false');\n",
       "        button.click(method_name, toolbar_event);\n",
       "        button.mouseover(tooltip, toolbar_mouse_event);\n",
       "\n",
       "        var icon_img = $('<span/>');\n",
       "        icon_img.addClass('ui-button-icon-primary ui-icon');\n",
       "        icon_img.addClass(image);\n",
       "        icon_img.addClass('ui-corner-all');\n",
       "\n",
       "        var tooltip_span = $('<span/>');\n",
       "        tooltip_span.addClass('ui-button-text');\n",
       "        tooltip_span.html(tooltip);\n",
       "\n",
       "        button.append(icon_img);\n",
       "        button.append(tooltip_span);\n",
       "\n",
       "        nav_element.append(button);\n",
       "    }\n",
       "\n",
       "    var fmt_picker_span = $('<span/>');\n",
       "\n",
       "    var fmt_picker = $('<select/>');\n",
       "    fmt_picker.addClass('mpl-toolbar-option ui-widget ui-widget-content');\n",
       "    fmt_picker_span.append(fmt_picker);\n",
       "    nav_element.append(fmt_picker_span);\n",
       "    this.format_dropdown = fmt_picker[0];\n",
       "\n",
       "    for (var ind in mpl.extensions) {\n",
       "        var fmt = mpl.extensions[ind];\n",
       "        var option = $(\n",
       "            '<option/>', {selected: fmt === mpl.default_extension}).html(fmt);\n",
       "        fmt_picker.append(option)\n",
       "    }\n",
       "\n",
       "    // Add hover states to the ui-buttons\n",
       "    $( \".ui-button\" ).hover(\n",
       "        function() { $(this).addClass(\"ui-state-hover\");},\n",
       "        function() { $(this).removeClass(\"ui-state-hover\");}\n",
       "    );\n",
       "\n",
       "    var status_bar = $('<span class=\"mpl-message\"/>');\n",
       "    nav_element.append(status_bar);\n",
       "    this.message = status_bar[0];\n",
       "}\n",
       "\n",
       "mpl.figure.prototype.request_resize = function(x_pixels, y_pixels) {\n",
       "    // Request matplotlib to resize the figure. Matplotlib will then trigger a resize in the client,\n",
       "    // which will in turn request a refresh of the image.\n",
       "    this.send_message('resize', {'width': x_pixels, 'height': y_pixels});\n",
       "}\n",
       "\n",
       "mpl.figure.prototype.send_message = function(type, properties) {\n",
       "    properties['type'] = type;\n",
       "    properties['figure_id'] = this.id;\n",
       "    this.ws.send(JSON.stringify(properties));\n",
       "}\n",
       "\n",
       "mpl.figure.prototype.send_draw_message = function() {\n",
       "    if (!this.waiting) {\n",
       "        this.waiting = true;\n",
       "        this.ws.send(JSON.stringify({type: \"draw\", figure_id: this.id}));\n",
       "    }\n",
       "}\n",
       "\n",
       "\n",
       "mpl.figure.prototype.handle_save = function(fig, msg) {\n",
       "    var format_dropdown = fig.format_dropdown;\n",
       "    var format = format_dropdown.options[format_dropdown.selectedIndex].value;\n",
       "    fig.ondownload(fig, format);\n",
       "}\n",
       "\n",
       "\n",
       "mpl.figure.prototype.handle_resize = function(fig, msg) {\n",
       "    var size = msg['size'];\n",
       "    if (size[0] != fig.canvas.width || size[1] != fig.canvas.height) {\n",
       "        fig._resize_canvas(size[0], size[1]);\n",
       "        fig.send_message(\"refresh\", {});\n",
       "    };\n",
       "}\n",
       "\n",
       "mpl.figure.prototype.handle_rubberband = function(fig, msg) {\n",
       "    var x0 = msg['x0'];\n",
       "    var y0 = fig.canvas.height - msg['y0'];\n",
       "    var x1 = msg['x1'];\n",
       "    var y1 = fig.canvas.height - msg['y1'];\n",
       "    x0 = Math.floor(x0) + 0.5;\n",
       "    y0 = Math.floor(y0) + 0.5;\n",
       "    x1 = Math.floor(x1) + 0.5;\n",
       "    y1 = Math.floor(y1) + 0.5;\n",
       "    var min_x = Math.min(x0, x1);\n",
       "    var min_y = Math.min(y0, y1);\n",
       "    var width = Math.abs(x1 - x0);\n",
       "    var height = Math.abs(y1 - y0);\n",
       "\n",
       "    fig.rubberband_context.clearRect(\n",
       "        0, 0, fig.canvas.width, fig.canvas.height);\n",
       "\n",
       "    fig.rubberband_context.strokeRect(min_x, min_y, width, height);\n",
       "}\n",
       "\n",
       "mpl.figure.prototype.handle_figure_label = function(fig, msg) {\n",
       "    // Updates the figure title.\n",
       "    fig.header.textContent = msg['label'];\n",
       "}\n",
       "\n",
       "mpl.figure.prototype.handle_cursor = function(fig, msg) {\n",
       "    var cursor = msg['cursor'];\n",
       "    switch(cursor)\n",
       "    {\n",
       "    case 0:\n",
       "        cursor = 'pointer';\n",
       "        break;\n",
       "    case 1:\n",
       "        cursor = 'default';\n",
       "        break;\n",
       "    case 2:\n",
       "        cursor = 'crosshair';\n",
       "        break;\n",
       "    case 3:\n",
       "        cursor = 'move';\n",
       "        break;\n",
       "    }\n",
       "    fig.rubberband_canvas.style.cursor = cursor;\n",
       "}\n",
       "\n",
       "mpl.figure.prototype.handle_message = function(fig, msg) {\n",
       "    fig.message.textContent = msg['message'];\n",
       "}\n",
       "\n",
       "mpl.figure.prototype.handle_draw = function(fig, msg) {\n",
       "    // Request the server to send over a new figure.\n",
       "    fig.send_draw_message();\n",
       "}\n",
       "\n",
       "mpl.figure.prototype.handle_image_mode = function(fig, msg) {\n",
       "    fig.image_mode = msg['mode'];\n",
       "}\n",
       "\n",
       "mpl.figure.prototype.updated_canvas_event = function() {\n",
       "    // Called whenever the canvas gets updated.\n",
       "    this.send_message(\"ack\", {});\n",
       "}\n",
       "\n",
       "// A function to construct a web socket function for onmessage handling.\n",
       "// Called in the figure constructor.\n",
       "mpl.figure.prototype._make_on_message_function = function(fig) {\n",
       "    return function socket_on_message(evt) {\n",
       "        if (evt.data instanceof Blob) {\n",
       "            /* FIXME: We get \"Resource interpreted as Image but\n",
       "             * transferred with MIME type text/plain:\" errors on\n",
       "             * Chrome.  But how to set the MIME type?  It doesn't seem\n",
       "             * to be part of the websocket stream */\n",
       "            evt.data.type = \"image/png\";\n",
       "\n",
       "            /* Free the memory for the previous frames */\n",
       "            if (fig.imageObj.src) {\n",
       "                (window.URL || window.webkitURL).revokeObjectURL(\n",
       "                    fig.imageObj.src);\n",
       "            }\n",
       "\n",
       "            fig.imageObj.src = (window.URL || window.webkitURL).createObjectURL(\n",
       "                evt.data);\n",
       "            fig.updated_canvas_event();\n",
       "            fig.waiting = false;\n",
       "            return;\n",
       "        }\n",
       "        else if (typeof evt.data === 'string' && evt.data.slice(0, 21) == \"data:image/png;base64\") {\n",
       "            fig.imageObj.src = evt.data;\n",
       "            fig.updated_canvas_event();\n",
       "            fig.waiting = false;\n",
       "            return;\n",
       "        }\n",
       "\n",
       "        var msg = JSON.parse(evt.data);\n",
       "        var msg_type = msg['type'];\n",
       "\n",
       "        // Call the  \"handle_{type}\" callback, which takes\n",
       "        // the figure and JSON message as its only arguments.\n",
       "        try {\n",
       "            var callback = fig[\"handle_\" + msg_type];\n",
       "        } catch (e) {\n",
       "            console.log(\"No handler for the '\" + msg_type + \"' message type: \", msg);\n",
       "            return;\n",
       "        }\n",
       "\n",
       "        if (callback) {\n",
       "            try {\n",
       "                // console.log(\"Handling '\" + msg_type + \"' message: \", msg);\n",
       "                callback(fig, msg);\n",
       "            } catch (e) {\n",
       "                console.log(\"Exception inside the 'handler_\" + msg_type + \"' callback:\", e, e.stack, msg);\n",
       "            }\n",
       "        }\n",
       "    };\n",
       "}\n",
       "\n",
       "// from http://stackoverflow.com/questions/1114465/getting-mouse-location-in-canvas\n",
       "mpl.findpos = function(e) {\n",
       "    //this section is from http://www.quirksmode.org/js/events_properties.html\n",
       "    var targ;\n",
       "    if (!e)\n",
       "        e = window.event;\n",
       "    if (e.target)\n",
       "        targ = e.target;\n",
       "    else if (e.srcElement)\n",
       "        targ = e.srcElement;\n",
       "    if (targ.nodeType == 3) // defeat Safari bug\n",
       "        targ = targ.parentNode;\n",
       "\n",
       "    // jQuery normalizes the pageX and pageY\n",
       "    // pageX,Y are the mouse positions relative to the document\n",
       "    // offset() returns the position of the element relative to the document\n",
       "    var x = e.pageX - $(targ).offset().left;\n",
       "    var y = e.pageY - $(targ).offset().top;\n",
       "\n",
       "    return {\"x\": x, \"y\": y};\n",
       "};\n",
       "\n",
       "/*\n",
       " * return a copy of an object with only non-object keys\n",
       " * we need this to avoid circular references\n",
       " * http://stackoverflow.com/a/24161582/3208463\n",
       " */\n",
       "function simpleKeys (original) {\n",
       "  return Object.keys(original).reduce(function (obj, key) {\n",
       "    if (typeof original[key] !== 'object')\n",
       "        obj[key] = original[key]\n",
       "    return obj;\n",
       "  }, {});\n",
       "}\n",
       "\n",
       "mpl.figure.prototype.mouse_event = function(event, name) {\n",
       "    var canvas_pos = mpl.findpos(event)\n",
       "\n",
       "    if (name === 'button_press')\n",
       "    {\n",
       "        this.canvas.focus();\n",
       "        this.canvas_div.focus();\n",
       "    }\n",
       "\n",
       "    var x = canvas_pos.x;\n",
       "    var y = canvas_pos.y;\n",
       "\n",
       "    this.send_message(name, {x: x, y: y, button: event.button,\n",
       "                             step: event.step,\n",
       "                             guiEvent: simpleKeys(event)});\n",
       "\n",
       "    /* This prevents the web browser from automatically changing to\n",
       "     * the text insertion cursor when the button is pressed.  We want\n",
       "     * to control all of the cursor setting manually through the\n",
       "     * 'cursor' event from matplotlib */\n",
       "    event.preventDefault();\n",
       "    return false;\n",
       "}\n",
       "\n",
       "mpl.figure.prototype._key_event_extra = function(event, name) {\n",
       "    // Handle any extra behaviour associated with a key event\n",
       "}\n",
       "\n",
       "mpl.figure.prototype.key_event = function(event, name) {\n",
       "\n",
       "    // Prevent repeat events\n",
       "    if (name == 'key_press')\n",
       "    {\n",
       "        if (event.which === this._key)\n",
       "            return;\n",
       "        else\n",
       "            this._key = event.which;\n",
       "    }\n",
       "    if (name == 'key_release')\n",
       "        this._key = null;\n",
       "\n",
       "    var value = '';\n",
       "    if (event.ctrlKey && event.which != 17)\n",
       "        value += \"ctrl+\";\n",
       "    if (event.altKey && event.which != 18)\n",
       "        value += \"alt+\";\n",
       "    if (event.shiftKey && event.which != 16)\n",
       "        value += \"shift+\";\n",
       "\n",
       "    value += 'k';\n",
       "    value += event.which.toString();\n",
       "\n",
       "    this._key_event_extra(event, name);\n",
       "\n",
       "    this.send_message(name, {key: value,\n",
       "                             guiEvent: simpleKeys(event)});\n",
       "    return false;\n",
       "}\n",
       "\n",
       "mpl.figure.prototype.toolbar_button_onclick = function(name) {\n",
       "    if (name == 'download') {\n",
       "        this.handle_save(this, null);\n",
       "    } else {\n",
       "        this.send_message(\"toolbar_button\", {name: name});\n",
       "    }\n",
       "};\n",
       "\n",
       "mpl.figure.prototype.toolbar_button_onmouseover = function(tooltip) {\n",
       "    this.message.textContent = tooltip;\n",
       "};\n",
       "mpl.toolbar_items = [[\"Home\", \"Reset original view\", \"fa fa-home icon-home\", \"home\"], [\"Back\", \"Back to  previous view\", \"fa fa-arrow-left icon-arrow-left\", \"back\"], [\"Forward\", \"Forward to next view\", \"fa fa-arrow-right icon-arrow-right\", \"forward\"], [\"\", \"\", \"\", \"\"], [\"Pan\", \"Pan axes with left mouse, zoom with right\", \"fa fa-arrows icon-move\", \"pan\"], [\"Zoom\", \"Zoom to rectangle\", \"fa fa-square-o icon-check-empty\", \"zoom\"], [\"\", \"\", \"\", \"\"], [\"Download\", \"Download plot\", \"fa fa-floppy-o icon-save\", \"download\"]];\n",
       "\n",
       "mpl.extensions = [\"eps\", \"jpeg\", \"pdf\", \"png\", \"ps\", \"raw\", \"svg\", \"tif\"];\n",
       "\n",
       "mpl.default_extension = \"png\";var comm_websocket_adapter = function(comm) {\n",
       "    // Create a \"websocket\"-like object which calls the given IPython comm\n",
       "    // object with the appropriate methods. Currently this is a non binary\n",
       "    // socket, so there is still some room for performance tuning.\n",
       "    var ws = {};\n",
       "\n",
       "    ws.close = function() {\n",
       "        comm.close()\n",
       "    };\n",
       "    ws.send = function(m) {\n",
       "        //console.log('sending', m);\n",
       "        comm.send(m);\n",
       "    };\n",
       "    // Register the callback with on_msg.\n",
       "    comm.on_msg(function(msg) {\n",
       "        //console.log('receiving', msg['content']['data'], msg);\n",
       "        // Pass the mpl event to the overriden (by mpl) onmessage function.\n",
       "        ws.onmessage(msg['content']['data'])\n",
       "    });\n",
       "    return ws;\n",
       "}\n",
       "\n",
       "mpl.mpl_figure_comm = function(comm, msg) {\n",
       "    // This is the function which gets called when the mpl process\n",
       "    // starts-up an IPython Comm through the \"matplotlib\" channel.\n",
       "\n",
       "    var id = msg.content.data.id;\n",
       "    // Get hold of the div created by the display call when the Comm\n",
       "    // socket was opened in Python.\n",
       "    var element = $(\"#\" + id);\n",
       "    var ws_proxy = comm_websocket_adapter(comm)\n",
       "\n",
       "    function ondownload(figure, format) {\n",
       "        window.open(figure.imageObj.src);\n",
       "    }\n",
       "\n",
       "    var fig = new mpl.figure(id, ws_proxy,\n",
       "                           ondownload,\n",
       "                           element.get(0));\n",
       "\n",
       "    // Call onopen now - mpl needs it, as it is assuming we've passed it a real\n",
       "    // web socket which is closed, not our websocket->open comm proxy.\n",
       "    ws_proxy.onopen();\n",
       "\n",
       "    fig.parent_element = element.get(0);\n",
       "    fig.cell_info = mpl.find_output_cell(\"<div id='\" + id + \"'></div>\");\n",
       "    if (!fig.cell_info) {\n",
       "        console.error(\"Failed to find cell for figure\", id, fig);\n",
       "        return;\n",
       "    }\n",
       "\n",
       "    var output_index = fig.cell_info[2]\n",
       "    var cell = fig.cell_info[0];\n",
       "\n",
       "};\n",
       "\n",
       "mpl.figure.prototype.handle_close = function(fig, msg) {\n",
       "    fig.root.unbind('remove')\n",
       "\n",
       "    // Update the output cell to use the data from the current canvas.\n",
       "    fig.push_to_output();\n",
       "    var dataURL = fig.canvas.toDataURL();\n",
       "    // Re-enable the keyboard manager in IPython - without this line, in FF,\n",
       "    // the notebook keyboard shortcuts fail.\n",
       "    IPython.keyboard_manager.enable()\n",
       "    $(fig.parent_element).html('<img src=\"' + dataURL + '\">');\n",
       "    fig.close_ws(fig, msg);\n",
       "}\n",
       "\n",
       "mpl.figure.prototype.close_ws = function(fig, msg){\n",
       "    fig.send_message('closing', msg);\n",
       "    // fig.ws.close()\n",
       "}\n",
       "\n",
       "mpl.figure.prototype.push_to_output = function(remove_interactive) {\n",
       "    // Turn the data on the canvas into data in the output cell.\n",
       "    var dataURL = this.canvas.toDataURL();\n",
       "    this.cell_info[1]['text/html'] = '<img src=\"' + dataURL + '\">';\n",
       "}\n",
       "\n",
       "mpl.figure.prototype.updated_canvas_event = function() {\n",
       "    // Tell IPython that the notebook contents must change.\n",
       "    IPython.notebook.set_dirty(true);\n",
       "    this.send_message(\"ack\", {});\n",
       "    var fig = this;\n",
       "    // Wait a second, then push the new image to the DOM so\n",
       "    // that it is saved nicely (might be nice to debounce this).\n",
       "    setTimeout(function () { fig.push_to_output() }, 1000);\n",
       "}\n",
       "\n",
       "mpl.figure.prototype._init_toolbar = function() {\n",
       "    var fig = this;\n",
       "\n",
       "    var nav_element = $('<div/>')\n",
       "    nav_element.attr('style', 'width: 100%');\n",
       "    this.root.append(nav_element);\n",
       "\n",
       "    // Define a callback function for later on.\n",
       "    function toolbar_event(event) {\n",
       "        return fig.toolbar_button_onclick(event['data']);\n",
       "    }\n",
       "    function toolbar_mouse_event(event) {\n",
       "        return fig.toolbar_button_onmouseover(event['data']);\n",
       "    }\n",
       "\n",
       "    for(var toolbar_ind in mpl.toolbar_items){\n",
       "        var name = mpl.toolbar_items[toolbar_ind][0];\n",
       "        var tooltip = mpl.toolbar_items[toolbar_ind][1];\n",
       "        var image = mpl.toolbar_items[toolbar_ind][2];\n",
       "        var method_name = mpl.toolbar_items[toolbar_ind][3];\n",
       "\n",
       "        if (!name) { continue; };\n",
       "\n",
       "        var button = $('<button class=\"btn btn-default\" href=\"#\" title=\"' + name + '\"><i class=\"fa ' + image + ' fa-lg\"></i></button>');\n",
       "        button.click(method_name, toolbar_event);\n",
       "        button.mouseover(tooltip, toolbar_mouse_event);\n",
       "        nav_element.append(button);\n",
       "    }\n",
       "\n",
       "    // Add the status bar.\n",
       "    var status_bar = $('<span class=\"mpl-message\" style=\"text-align:right; float: right;\"/>');\n",
       "    nav_element.append(status_bar);\n",
       "    this.message = status_bar[0];\n",
       "\n",
       "    // Add the close button to the window.\n",
       "    var buttongrp = $('<div class=\"btn-group inline pull-right\"></div>');\n",
       "    var button = $('<button class=\"btn btn-mini btn-primary\" href=\"#\" title=\"Stop Interaction\"><i class=\"fa fa-power-off icon-remove icon-large\"></i></button>');\n",
       "    button.click(function (evt) { fig.handle_close(fig, {}); } );\n",
       "    button.mouseover('Stop Interaction', toolbar_mouse_event);\n",
       "    buttongrp.append(button);\n",
       "    var titlebar = this.root.find($('.ui-dialog-titlebar'));\n",
       "    titlebar.prepend(buttongrp);\n",
       "}\n",
       "\n",
       "mpl.figure.prototype._root_extra_style = function(el){\n",
       "    var fig = this\n",
       "    el.on(\"remove\", function(){\n",
       "\tfig.close_ws(fig, {});\n",
       "    });\n",
       "}\n",
       "\n",
       "mpl.figure.prototype._canvas_extra_style = function(el){\n",
       "    // this is important to make the div 'focusable\n",
       "    el.attr('tabindex', 0)\n",
       "    // reach out to IPython and tell the keyboard manager to turn it's self\n",
       "    // off when our div gets focus\n",
       "\n",
       "    // location in version 3\n",
       "    if (IPython.notebook.keyboard_manager) {\n",
       "        IPython.notebook.keyboard_manager.register_events(el);\n",
       "    }\n",
       "    else {\n",
       "        // location in version 2\n",
       "        IPython.keyboard_manager.register_events(el);\n",
       "    }\n",
       "\n",
       "}\n",
       "\n",
       "mpl.figure.prototype._key_event_extra = function(event, name) {\n",
       "    var manager = IPython.notebook.keyboard_manager;\n",
       "    if (!manager)\n",
       "        manager = IPython.keyboard_manager;\n",
       "\n",
       "    // Check for shift+enter\n",
       "    if (event.shiftKey && event.which == 13) {\n",
       "        this.canvas_div.blur();\n",
       "        // select the cell after this one\n",
       "        var index = IPython.notebook.find_cell_index(this.cell_info[0]);\n",
       "        IPython.notebook.select(index + 1);\n",
       "    }\n",
       "}\n",
       "\n",
       "mpl.figure.prototype.handle_save = function(fig, msg) {\n",
       "    fig.ondownload(fig, null);\n",
       "}\n",
       "\n",
       "\n",
       "mpl.find_output_cell = function(html_output) {\n",
       "    // Return the cell and output element which can be found *uniquely* in the notebook.\n",
       "    // Note - this is a bit hacky, but it is done because the \"notebook_saving.Notebook\"\n",
       "    // IPython event is triggered only after the cells have been serialised, which for\n",
       "    // our purposes (turning an active figure into a static one), is too late.\n",
       "    var cells = IPython.notebook.get_cells();\n",
       "    var ncells = cells.length;\n",
       "    for (var i=0; i<ncells; i++) {\n",
       "        var cell = cells[i];\n",
       "        if (cell.cell_type === 'code'){\n",
       "            for (var j=0; j<cell.output_area.outputs.length; j++) {\n",
       "                var data = cell.output_area.outputs[j];\n",
       "                if (data.data) {\n",
       "                    // IPython >= 3 moved mimebundle to data attribute of output\n",
       "                    data = data.data;\n",
       "                }\n",
       "                if (data['text/html'] == html_output) {\n",
       "                    return [cell, data, j];\n",
       "                }\n",
       "            }\n",
       "        }\n",
       "    }\n",
       "}\n",
       "\n",
       "// Register the function which deals with the matplotlib target/channel.\n",
       "// The kernel may be null if the page has been refreshed.\n",
       "if (IPython.notebook.kernel != null) {\n",
       "    IPython.notebook.kernel.comm_manager.register_target('matplotlib', mpl.mpl_figure_comm);\n",
       "}\n"
      ],
      "text/plain": [
       "<IPython.core.display.Javascript object>"
      ]
     },
     "metadata": {},
     "output_type": "display_data"
    },
    {
     "data": {
      "text/html": [
       "<img src=\"data:image/png;base64,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\">"
      ],
      "text/plain": [
       "<IPython.core.display.HTML object>"
      ]
     },
     "metadata": {},
     "output_type": "display_data"
    },
    {
     "name": "stdout",
     "output_type": "stream",
     "text": [
      "65 steps available\n",
      "1\n",
      "69 steps available\n",
      "2\n",
      "79 steps available\n",
      "3\n",
      "88 steps available\n",
      "4\n",
      "122 steps available\n",
      "5\n",
      "65 steps available\n",
      "1\n",
      "69 steps available\n",
      "2\n",
      "79 steps available\n",
      "3\n",
      "88 steps available\n",
      "4\n",
      "122 steps available\n",
      "5\n"
     ]
    }
   ],
   "source": [
    "import seaborn as sns\n",
    "\n",
    "label1 = widgets.Label(\"\")\n",
    "label_cache = widgets.Label(value = \"\")\n",
    "progress_1 = widgets.IntProgress(min = 0, max = 100, value = 0)\n",
    "progress_2 = widgets.IntProgress(min = 0, max = 100, value = 0)\n",
    "\n",
    "def cluster_size_vs_probability_matplotlib(path_text_input,phis,shearrates,gaps, loglog,Individual_plots):    \n",
    "    plt.style.use(\"ggplot\")\n",
    "    if not Individual_plots:\n",
    "        plt.figure(figsize=[10,5])\n",
    "    else:\n",
    "#         matplotlib.rcParams.update({'font.size': 8})\n",
    "        plt.figure(figsize=[5*len(shearrates),5*len(phis)])\n",
    "    for g,gap in enumerate(gaps):\n",
    "        n_fig = 0\n",
    "        s_data = np.asarray([])\n",
    "        ns_data = np.asarray([])\n",
    "        for p,phi in enumerate(phis):\n",
    "            for k,shearrate in enumerate(shearrates):\n",
    "                n_fig += 1\n",
    "                progress_2.value = int(float(n_fig)*(g+1)/(len(shearrates)*len(phis)*len(gaps))*100)\n",
    "                if Individual_plots: s_data, ns_data = np.asarray([]), np.asarray([])\n",
    "                try:\n",
    "                    if len(path_text_input.strip())== 0:\n",
    "                        path = \"rhor1_phi\"+str(phi)+\"_yd\"+str(float(shearrate))\n",
    "                    else:\n",
    "                        path = str(path_text_input)+\"/rhor1_phi\"+str(phi)+\"_yd\"+str(float(shearrate))\n",
    "\n",
    "                    dataset = sp.reader.DataSet(path,particles=True, fluid=False)\n",
    "                    print len(dataset.tlist), \"steps available\"\n",
    "\n",
    "                    cache_file = cache(cachefile=dataset.cachefile)\n",
    "                    for i,t in enumerate(dataset.tlist[1:]):\n",
    "                        progress_1.value = int(float(i)/len(dataset.tlist[1:])*100)\n",
    "                        try:\n",
    "                            if cache_file.has_data(t,\"cluster_size_distribution_gap_\"+str(gap)):\n",
    "                                label_cache.value = \"loading data for t=\"+str(t)\n",
    "                                s, ns = cache_file.load_data(t,\"cluster_size_distribution_gap_\"+str(gap))\n",
    "                                idx = np.where(ns != 0)[0]\n",
    "                                s_data = np.concatenate([s_data , s[idx]])\n",
    "                                ns_data = np.concatenate([ns_data , ns[idx]])\n",
    "                                label1.value = str(s[idx])\n",
    "                            else:\n",
    "                                dataset.load_state(t)\n",
    "                                s, ns = dataset.get_quantity(\"cluster_size_distribution\", gap = gap, update=True)\n",
    "                                cache_file.save_data(t,{\"cluster_size_distribution_gap_\"+str(gap):[s, ns]})\n",
    "                                idx = np.where(ns != 0)[0]\n",
    "                                s_data = np.concatenate([s_data , s[idx]])\n",
    "                                ns_data = np.concatenate([ns_data , ns[idx]])\n",
    "                                label1.value = str(s[idx])\n",
    "                        except Exception as e:\n",
    "                            print e \n",
    "                            continue\n",
    "                    \n",
    "                    try:\n",
    "                        if Individual_plots:\n",
    "                            uniq_sizes = np.unique(s_data)\n",
    "                            ns_data_cumulative = np.zeros_like(uniq_sizes)\n",
    "                            for i, item in enumerate(uniq_sizes):\n",
    "                                idx_uniq = np.where(s_data == item)[0]\n",
    "                                ns_data_cumulative[i] = sum(ns_data[idx_uniq])\n",
    "                            ns_temp_tot = ns_data_cumulative\n",
    "                            nx_plots = len(phis)\n",
    "                            ny_plots = len(shearrates)\n",
    "                            \n",
    "                            plt.subplot(nx_plots, ny_plots,n_fig)\n",
    "                            print (p+1)*(k+1)\n",
    "                            if loglog:\n",
    "                                plt.loglog(uniq_sizes,ns_data_cumulative/float(max(ns_data_cumulative)),'x')\n",
    "                                plt.loglog(uniq_sizes,ns_data_cumulative/float(max(ns_data_cumulative)),label=\"gap=\"+str(gap))\n",
    "                            else:\n",
    "                                plt.plot(uniq_sizes,ns_data_cumulative/float(max(ns_data_cumulative)),'x')\n",
    "                                plt.plot(uniq_sizes,ns_data_cumulative/float(max(ns_data_cumulative)),label=\"gap=\"+str(gap))\n",
    "                            plt.xlabel(\"cluster size N\")\n",
    "                            plt.ylabel(\"cluster probability \")\n",
    "                            plt.xlim([1,1e3])\n",
    "                            plt.ylim([1e-7,1])\n",
    "                            plt.legend(loc=\"best\")\n",
    "                            plt.title(\"phi=\"+str(phi)+\" yd=\"+str(shearrate),fontsize=10)\n",
    "        \n",
    "                    except Exception as e:\n",
    "                        continue\n",
    "                        \n",
    "                except Exception as e:\n",
    "                    print e\n",
    "\n",
    "        if not Individual_plots:\n",
    "            uniq_sizes = np.unique(s_data)\n",
    "            ns_data_cumulative = np.zeros_like(uniq_sizes)\n",
    "            for i, item in enumerate(uniq_sizes):\n",
    "                idx_uniq = np.where(s_data == item)[0]\n",
    "                ns_data_cumulative[i] = sum(ns_data[idx_uniq])\n",
    "            x,y = uniq_sizes, ns_data_cumulative\n",
    "            \n",
    "            if loglog:\n",
    "                plt.loglog(x,  y/float(max(y)),'x')\n",
    "                plt.loglog(x,  y/float(max(y)),label=\"gap=\"+str(gap))\n",
    "            else:\n",
    "                plt.plot(x,  y/float(max(y)),'x')\n",
    "                plt.plot(x,  y/float(max(y)),label=\"gap=\"+str(gap))\n",
    "            plt.xlabel(\"cluster size N\")\n",
    "            plt.ylabel(\"cluster probability \")\n",
    "            plt.legend(loc=\"best\")\n",
    "\n",
    "    \n",
    "    \n",
    "widget_cluster_size_vs_probability_matplotlib = interactive(cluster_size_vs_probability_matplotlib, \\\n",
    "    path_text_input = widgets.Text(value=\"\"),\\\n",
    "    phis = widgets.SelectMultiple(options=[40,45,50,54,55,56,58]), \\\n",
    "    shearrates= widgets.SelectMultiple(options=[1,10,11,11.5,12,12.5,13,14,15,16,18,20,30,50,70,100,200,300,1000]),\\\n",
    "    gaps = widgets.SelectMultiple(options=[9e-8,6.7e-8,4e-8,1e-8], value = [9e-8,6.7e-8]),\\\n",
    "    loglog = widgets.RadioButtons(options=[True,False],value = True),\\\n",
    "    Individual_plots = widgets.RadioButtons(options=[True,False],value = True),\\\n",
    "    __manual = True)\n",
    "# display(widget_cluster_size_vs_viscosity_matplotlib)\n",
    "display(widget_cluster_size_vs_probability_matplotlib.children[0])\n",
    "display(widgets.HBox(widget_cluster_size_vs_probability_matplotlib.children[1:4]))\n",
    "display(widgets.HBox(widget_cluster_size_vs_probability_matplotlib.children[4:]))\n",
    "display(label1)\n",
    "display(progress_2)\n",
    "display(progress_1)\n",
    "display(label_cache)\n",
    "# for i,item in enumerate(pdf_average.children):\n",
    "#     print i, item.description \n",
    "# display(widget_cluster_size_distribution_matplotlib)\n",
    "# display(widgets.HBox(cluster_size_distribution.children[4:]))"
   ]
  }
 ],
 "metadata": {
  "anaconda-cloud": {},
  "kernelspec": {
   "display_name": "Python [default]",
   "language": "python",
   "name": "python2"
  },
  "language_info": {
   "codemirror_mode": {
    "name": "ipython",
    "version": 2
   },
   "file_extension": ".py",
   "mimetype": "text/x-python",
   "name": "python",
   "nbconvert_exporter": "python",
   "pygments_lexer": "ipython2",
   "version": "2.7.13"
  },
  "widgets": {
   "state": {
    "0000356f1cef4d7ba8bbad4ffb50dfd1": {
     "views": [
      {
       "cell_index": 67
      }
     ]
    },
    "00a0fa6a7ce846de93f9bdc668ca79db": {
     "views": [
      {
       "cell_index": 62
      }
     ]
    },
    "00cc674e9c1047c3bac69716c5e48ef4": {
     "views": [
      {
       "cell_index": 36
      }
     ]
    },
    "00d46d04b5264399a8fa3d2998896dd7": {
     "views": [
      {
       "cell_index": 61
      }
     ]
    },
    "0107d7dec01546bdafc4883fa8377fda": {
     "views": [
      {
       "cell_index": 63
      }
     ]
    },
    "0135153bb62c488d959a4c767194af92": {
     "views": [
      {
       "cell_index": 64
      }
     ]
    },
    "014a7ed11dea4d1eb3522c77ddd1d450": {
     "views": [
      {
       "cell_index": 64
      }
     ]
    },
    "017bba2f41f349689708c93964c0a6d8": {
     "views": [
      {
       "cell_index": 64
      }
     ]
    },
    "0190ede0974d456abb5d3a91a55c2654": {
     "views": [
      {
       "cell_index": 21
      }
     ]
    },
    "0196f3f87c9a4979ad64b3cc9903b920": {
     "views": [
      {
       "cell_index": 18
      }
     ]
    },
    "02216d88dc86422b9f06b90e7344e26d": {
     "views": [
      {
       "cell_index": 61
      }
     ]
    },
    "027cb6993d3248798d5c7cdff33315cd": {
     "views": [
      {
       "cell_index": 34
      }
     ]
    },
    "02b2beab04f048a2bd895a78a7c8eda8": {
     "views": [
      {
       "cell_index": 61
      }
     ]
    },
    "02d434fa08284cceb0e302716adf650d": {
     "views": [
      {
       "cell_index": 62
      }
     ]
    },
    "02e08b6ec1c042cf92a7bc725fee0ec8": {
     "views": [
      {
       "cell_index": 64
      }
     ]
    },
    "0392c290d60a4391a56e16000e408322": {
     "views": [
      {
       "cell_index": 64
      }
     ]
    },
    "040902cd2472420bb6cec8ed6d1cf269": {
     "views": [
      {
       "cell_index": 61
      }
     ]
    },
    "0473a90d60824cd7b5d4e12e9e3ccb90": {
     "views": [
      {
       "cell_index": 23
      }
     ]
    },
    "049a457faf1a426197201c3330009f43": {
     "views": [
      {
       "cell_index": 62
      }
     ]
    },
    "065f2701b88a4e22ab94f64b556372c5": {
     "views": [
      {
       "cell_index": 62
      }
     ]
    },
    "06eb32d749a74bc18a4ae452d2d916cb": {
     "views": [
      {
       "cell_index": 64
      }
     ]
    },
    "06f49233a5354e299884eb7b9123ab10": {
     "views": [
      {
       "cell_index": 62
      }
     ]
    },
    "0732cc6b0b974b1fa43925f9d38e24b9": {
     "views": [
      {
       "cell_index": 23
      }
     ]
    },
    "074d19d54d8b4250bf2b8144bddfa769": {
     "views": [
      {
       "cell_index": 34
      }
     ]
    },
    "07c5aeddb41742bfb3fb2e3aab7c6f3f": {
     "views": [
      {
       "cell_index": 66
      }
     ]
    },
    "07e49249b03a4b67a6c5cffb58c21298": {
     "views": [
      {
       "cell_index": 63
      }
     ]
    },
    "0833990f915343acb313a77687b8df04": {
     "views": [
      {
       "cell_index": 23
      }
     ]
    },
    "08fb8e02937045ffa5dd84fe15253e30": {
     "views": [
      {
       "cell_index": 64
      }
     ]
    },
    "090e625202c849e790b7c23a3667fdee": {
     "views": [
      {
       "cell_index": 61
      }
     ]
    },
    "0925e25ed55d48899c57d42f882044d5": {
     "views": [
      {
       "cell_index": 64
      }
     ]
    },
    "0970471ae0c845719e36553cecd55240": {
     "views": [
      {
       "cell_index": 18
      }
     ]
    },
    "0978bde8d2c24534918c9391383acf2a": {
     "views": [
      {
       "cell_index": 23
      }
     ]
    },
    "09a1e10a9c2a417eb004510220933243": {
     "views": [
      {
       "cell_index": 64
      }
     ]
    },
    "09bf9f9b08bd4060b769f3888ae571f5": {
     "views": [
      {
       "cell_index": 62
      }
     ]
    },
    "09d7c98f6df64aa182d0bc1af1cea218": {
     "views": [
      {
       "cell_index": 36
      }
     ]
    },
    "09e3bb4e58d041aaadc028b4c83566fa": {
     "views": [
      {
       "cell_index": 18
      }
     ]
    },
    "0a4748bb92b34584aefc6841e6fb7bea": {
     "views": [
      {
       "cell_index": 23
      }
     ]
    },
    "0af2a522cc8649889f0583cc411e5b0e": {
     "views": [
      {
       "cell_index": 64
      }
     ]
    },
    "0b0c4cd6610a40868782ef68385147ac": {
     "views": [
      {
       "cell_index": 64
      }
     ]
    },
    "0b176ae538a3496d85f5af55158b0ec1": {
     "views": [
      {
       "cell_index": 31
      }
     ]
    },
    "0b8cbb25a228454c848cdc7858966e53": {
     "views": [
      {
       "cell_index": 62
      }
     ]
    },
    "0bb4cf4847b9487c8fcac2096b704f0b": {
     "views": [
      {
       "cell_index": 21
      }
     ]
    },
    "0bb96bd7c1ee49989195712b86f68366": {
     "views": [
      {
       "cell_index": 61
      }
     ]
    },
    "0bedbda904d74f95a36bb5e33dec32d6": {
     "views": [
      {
       "cell_index": 64
      }
     ]
    },
    "0c16ef900fcf41489330991d5e8f3213": {
     "views": [
      {
       "cell_index": 61
      }
     ]
    },
    "0c6fa20a0e0d46539683c06a5c31b59b": {
     "views": [
      {
       "cell_index": 23
      }
     ]
    },
    "0cb31fb2886c4bb29b7bec4e49f06d57": {
     "views": [
      {
       "cell_index": 67
      }
     ]
    },
    "0d5412cc09604868b2f34d3cca8403f6": {
     "views": [
      {
       "cell_index": 61
      }
     ]
    },
    "0db39f27392d451eba64f85a7cd452ec": {
     "views": [
      {
       "cell_index": 34
      }
     ]
    },
    "0e2e3b8d66534222920682f70db38f9f": {
     "views": [
      {
       "cell_index": 31
      }
     ]
    },
    "0e3124af6dca480e94a0037a53bb7767": {
     "views": [
      {
       "cell_index": 23
      }
     ]
    },
    "0e3d65f5db1e4a189f486c0c471dccda": {
     "views": [
      {
       "cell_index": 34
      }
     ]
    },
    "0e720afb218f416f9c8375d8fcb8d214": {
     "views": [
      {
       "cell_index": 61
      }
     ]
    },
    "0eb089e1492c4465b8f733b352697a3a": {
     "views": [
      {
       "cell_index": 23
      }
     ]
    },
    "0ebbda9f398048e0a25867c90168b2d0": {
     "views": [
      {
       "cell_index": 38
      }
     ]
    },
    "0f0280e3e21f45378a18bedbafe37b37": {
     "views": [
      {
       "cell_index": 64
      }
     ]
    },
    "0f3c6a67593541639244514bc9fed2b7": {
     "views": [
      {
       "cell_index": 61
      }
     ]
    },
    "0f409399fd4b41d2aec7041936fa60a6": {
     "views": [
      {
       "cell_index": 31
      },
      {
       "cell_index": 34
      }
     ]
    },
    "0f85b3d7bd4244bdb7cbb3fb17601070": {
     "views": [
      {
       "cell_index": 21
      }
     ]
    },
    "0f8dd5388da04b89994b8139cce65b44": {
     "views": [
      {
       "cell_index": 67
      }
     ]
    },
    "0fda11dbb00246d2930e40844f1bbf17": {
     "views": [
      {
       "cell_index": 67
      }
     ]
    },
    "1030187bf77049acbf7d474b6976f336": {
     "views": [
      {
       "cell_index": 34
      }
     ]
    },
    "10a78e253bd4446d93ee137492a82332": {
     "views": [
      {
       "cell_index": 36
      }
     ]
    },
    "10b93d8b943f41ed9db50a8c04070861": {
     "views": [
      {
       "cell_index": 64
      }
     ]
    },
    "116625f34d8c4bec96bd4890054331ca": {
     "views": [
      {
       "cell_index": 63
      }
     ]
    },
    "116c8cfe7b8b46f7941c156314b512cd": {
     "views": [
      {
       "cell_index": 61
      }
     ]
    },
    "1172555e933d4564b3b3e26e27c0df3d": {
     "views": [
      {
       "cell_index": 21
      }
     ]
    },
    "11abd7bb55f7412fbc6fd41c2c451b01": {
     "views": [
      {
       "cell_index": 66
      }
     ]
    },
    "11b02c590e004c3e919f2d40aac00af7": {
     "views": [
      {
       "cell_index": 47
      }
     ]
    },
    "11d9647522914dc989803e6c6b0d3c2b": {
     "views": [
      {
       "cell_index": 38
      }
     ]
    },
    "128104d2408f4407ba07ee37f1b2221e": {
     "views": [
      {
       "cell_index": 47
      }
     ]
    },
    "13e4045b79504061934b012d611b017c": {
     "views": [
      {
       "cell_index": 67
      }
     ]
    },
    "14180fc62a034fc2a0d8fb4a52b40012": {
     "views": [
      {
       "cell_index": 18
      }
     ]
    },
    "14f8f98e72be4d1289b0dc7a914844e9": {
     "views": [
      {
       "cell_index": 67
      }
     ]
    },
    "153c9b15d45a461dbe5038b372c58e89": {
     "views": [
      {
       "cell_index": 64
      }
     ]
    },
    "154ca2b6470a49248767a30884451def": {
     "views": [
      {
       "cell_index": 61
      }
     ]
    },
    "157c30263d6b4e5d948ff1725eb2125f": {
     "views": [
      {
       "cell_index": 47
      }
     ]
    },
    "158a6f0f49994305979ff37d5e4cbb5c": {
     "views": [
      {
       "cell_index": 23
      }
     ]
    },
    "15adff62800a44abae0aabe9e0797dd6": {
     "views": [
      {
       "cell_index": 67
      }
     ]
    },
    "16602ef1cc324e24843c8f99af08f4e0": {
     "views": [
      {
       "cell_index": 63
      }
     ]
    },
    "1665895f07d64cd8b4d0e0975f87f0b6": {
     "views": [
      {
       "cell_index": 6
      }
     ]
    },
    "166b0ed40d2e4016a8fcd331d5928289": {
     "views": [
      {
       "cell_index": 64
      }
     ]
    },
    "16d1b646cc6d42bab815e47fe282b479": {
     "views": [
      {
       "cell_index": 64
      }
     ]
    },
    "173e2a20592b46319c212dd87bed698c": {
     "views": [
      {
       "cell_index": 64
      }
     ]
    },
    "17649504d8cd44d99535ceb5c68f53cb": {
     "views": [
      {
       "cell_index": 64
      }
     ]
    },
    "177ec7e24b6f41dc881007136248ec52": {
     "views": [
      {
       "cell_index": 67
      }
     ]
    },
    "17f48f25acb04f5bb922b979923648be": {
     "views": [
      {
       "cell_index": 62
      }
     ]
    },
    "185d666b23f4434d8eb490bb9c1e9c8a": {
     "views": [
      {
       "cell_index": 31
      }
     ]
    },
    "1863dc9b063247d991479852f726fb6b": {
     "views": [
      {
       "cell_index": 67
      }
     ]
    },
    "1865d4cf15474813b91002ce021f70c1": {
     "views": [
      {
       "cell_index": 23
      }
     ]
    },
    "18b374c9b56d48a5b84d44ed1754638f": {
     "views": [
      {
       "cell_index": 62
      }
     ]
    },
    "19047c40e8c04dce9825bac29088d751": {
     "views": [
      {
       "cell_index": 63
      }
     ]
    },
    "19287e809cd44ac8a37ecb0d1c0123a0": {
     "views": [
      {
       "cell_index": 64
      }
     ]
    },
    "19453249fa144ee5a43f3a747a9cae3f": {
     "views": [
      {
       "cell_index": 61
      }
     ]
    },
    "1994bc5ca4334d27b399320842e77d2d": {
     "views": [
      {
       "cell_index": 62
      }
     ]
    },
    "19b770087474410aa8e4c9a5bf03a163": {
     "views": [
      {
       "cell_index": 64
      }
     ]
    },
    "1a815fdbaa6440078844dc3d93e28414": {
     "views": [
      {
       "cell_index": 67
      }
     ]
    },
    "1ae2733e30314465b823f0e6b36f3fec": {
     "views": [
      {
       "cell_index": 34
      }
     ]
    },
    "1ae568e762db4fb28002be72df38aa6a": {
     "views": [
      {
       "cell_index": 21
      }
     ]
    },
    "1bd8db65884a4e5183b1cd196b3e3682": {
     "views": [
      {
       "cell_index": 61
      }
     ]
    },
    "1c00a9c05ad74b19bbbbcf219c4b151c": {
     "views": [
      {
       "cell_index": 62
      }
     ]
    },
    "1c83d93aa22a4228bacc0bcd7e578911": {
     "views": [
      {
       "cell_index": 61
      }
     ]
    },
    "1cb188ddcaf646008dbce08cd46114b8": {
     "views": [
      {
       "cell_index": 67
      }
     ]
    },
    "1de2a3cf9385428791021b905fe614b9": {
     "views": [
      {
       "cell_index": 61
      }
     ]
    },
    "1e75c24d085645fa92a5b8e535f4a6c2": {
     "views": [
      {
       "cell_index": 18
      }
     ]
    },
    "1eaac8ccf78a4b9c98b4ea03bd07bcf1": {
     "views": [
      {
       "cell_index": 67
      }
     ]
    },
    "1eee212a192a49deae059d1fe57928fb": {
     "views": [
      {
       "cell_index": 62
      }
     ]
    },
    "1f390e93251140c58f6067677e03f386": {
     "views": [
      {
       "cell_index": 21
      }
     ]
    },
    "1fd34d4094634c6ab67488204647672c": {
     "views": [
      {
       "cell_index": 34
      }
     ]
    },
    "1fe883013938405aacf0efd68332ffd0": {
     "views": [
      {
       "cell_index": 34
      }
     ]
    },
    "20b7fa9dd32344658f864e4eb899a0cf": {
     "views": [
      {
       "cell_index": 64
      }
     ]
    },
    "20f06c2b609e4c45b4de6b8b3d03edbf": {
     "views": [
      {
       "cell_index": 67
      }
     ]
    },
    "212dde43be7f4793adcdeb8b7c8c483d": {
     "views": [
      {
       "cell_index": 64
      }
     ]
    },
    "2177a5b88f2046e098823c7840e864f0": {
     "views": [
      {
       "cell_index": 64
      }
     ]
    },
    "21ed49bfecd8440c9f6b07a8652bff2d": {
     "views": [
      {
       "cell_index": 23
      }
     ]
    },
    "21efc753fa6d4219ac31c83a4c16fe25": {
     "views": [
      {
       "cell_index": 61
      }
     ]
    },
    "22d76af029144c479308259feae11c01": {
     "views": [
      {
       "cell_index": 64
      }
     ]
    },
    "22ef0e57a22344148ddff6f9af415324": {
     "views": [
      {
       "cell_index": 64
      }
     ]
    },
    "24c315e61981428687a63704810545ff": {
     "views": [
      {
       "cell_index": 67
      }
     ]
    },
    "24d50a8433a4449988da9529d823ecdc": {
     "views": [
      {
       "cell_index": 38
      }
     ]
    },
    "24e6d92da3634a9fbdf4b8e825847252": {
     "views": [
      {
       "cell_index": 68
      }
     ]
    },
    "24ed737bbb344c6889aef1d21da5c332": {
     "views": [
      {
       "cell_index": 62
      }
     ]
    },
    "251b677f14ae4001b78c44a0d402f192": {
     "views": [
      {
       "cell_index": 62
      }
     ]
    },
    "26685aa790bf44c58686772d8e4c15f4": {
     "views": [
      {
       "cell_index": 47
      }
     ]
    },
    "276cc31343084223bd163827d6f0ed3c": {
     "views": [
      {
       "cell_index": 64
      }
     ]
    },
    "28709f2607d446c596d6448abd7b86f2": {
     "views": [
      {
       "cell_index": 36
      }
     ]
    },
    "28affc7c0d824c0f9befb5106ad9feaa": {
     "views": [
      {
       "cell_index": 64
      }
     ]
    },
    "28b28afafcf2452f801ce9e8f08f3f35": {
     "views": [
      {
       "cell_index": 34
      }
     ]
    },
    "28f60fdebde04e09854b9f3041c4813f": {
     "views": [
      {
       "cell_index": 64
      }
     ]
    },
    "290698f4a60b4a1fbf80207027d4dc3c": {
     "views": [
      {
       "cell_index": 64
      }
     ]
    },
    "2929f7c3800541279e457026f0315a88": {
     "views": [
      {
       "cell_index": 63
      }
     ]
    },
    "29c7f7c0f7c547838b4c933958a11110": {
     "views": [
      {
       "cell_index": 64
      }
     ]
    },
    "2a33069249f24882ab447bee67d43fba": {
     "views": [
      {
       "cell_index": 64
      }
     ]
    },
    "2a84e92626054f00b41bde8339c746bf": {
     "views": [
      {
       "cell_index": 64
      }
     ]
    },
    "2a87a425702a4de784b72038ea994ec5": {
     "views": [
      {
       "cell_index": 62
      }
     ]
    },
    "2a8ca70901cc417fa220bd8aea05825a": {
     "views": [
      {
       "cell_index": 63
      }
     ]
    },
    "2b5e695ef2674fceaf8c94a83fc91444": {
     "views": [
      {
       "cell_index": 61
      }
     ]
    },
    "2b962ffe23314865b2763f6d7fd62aa7": {
     "views": [
      {
       "cell_index": 62
      }
     ]
    },
    "2c5577f0fb354fdc822bc0fa3d857180": {
     "views": [
      {
       "cell_index": 64
      }
     ]
    },
    "2c696220651a46f49aa3ec6efb57e684": {
     "views": [
      {
       "cell_index": 18
      }
     ]
    },
    "2c924129d3b74ca5bb532a7ceb8674ca": {
     "views": [
      {
       "cell_index": 31
      }
     ]
    },
    "2cc6047a69f54e7aa9a9218157d3d0ec": {
     "views": [
      {
       "cell_index": 64
      }
     ]
    },
    "2d2ffd80db0d43caba36ebc2253adeca": {
     "views": [
      {
       "cell_index": 64
      }
     ]
    },
    "2d52c4d9cf2d491caf6570274cd7863c": {
     "views": [
      {
       "cell_index": 62
      }
     ]
    },
    "2d5461181af644d6a83279ccbe202e4b": {
     "views": [
      {
       "cell_index": 62
      }
     ]
    },
    "2d6150c17ae64c3590f6d7f96d251d26": {
     "views": [
      {
       "cell_index": 64
      }
     ]
    },
    "2d6b671408b6428e9881a92ed0820e37": {
     "views": [
      {
       "cell_index": 64
      }
     ]
    },
    "2e08ab76bd2a4f5ba3f8bac4d0eecb30": {
     "views": [
      {
       "cell_index": 64
      }
     ]
    },
    "2e36e9695f304d41a4eba42bba0386a2": {
     "views": [
      {
       "cell_index": 36
      }
     ]
    },
    "2f034b7d30774b88b56acb91f66bcd08": {
     "views": [
      {
       "cell_index": 64
      }
     ]
    },
    "2f187489f1f04dad9ee9ecb07bad5a7f": {
     "views": [
      {
       "cell_index": 63
      }
     ]
    },
    "2f352a3536e64160a15c08999a7cbac5": {
     "views": [
      {
       "cell_index": 67
      }
     ]
    },
    "2f48b03dff8941afa5d27e0827d7dab7": {
     "views": [
      {
       "cell_index": 62
      }
     ]
    },
    "2f99318d2ec04aa3aef2a0bd00914389": {
     "views": [
      {
       "cell_index": 64
      }
     ]
    },
    "2fff0ce85d6742e9abca5b0266a5aab6": {
     "views": [
      {
       "cell_index": 62
      }
     ]
    },
    "3011e44806ed4ac490db6e858bbbbba4": {
     "views": [
      {
       "cell_index": 31
      }
     ]
    },
    "3063ea13755f4a86a7f62373abb100a9": {
     "views": [
      {
       "cell_index": 23
      }
     ]
    },
    "30ad7b8393664790af5bfa6120301c1a": {
     "views": [
      {
       "cell_index": 64
      }
     ]
    },
    "30d206202ba04c44a255db5be1f7dc26": {
     "views": [
      {
       "cell_index": 62
      }
     ]
    },
    "30e03c173f6445e6acf340ecde5a2086": {
     "views": [
      {
       "cell_index": 64
      }
     ]
    },
    "30f0058e9cca4dc5b2a3efa02199121a": {
     "views": [
      {
       "cell_index": 23
      }
     ]
    },
    "313b4e156ff9498fa33f2e50752f5ed9": {
     "views": [
      {
       "cell_index": 23
      }
     ]
    },
    "3185d5ab49674b519edadb76f69acde0": {
     "views": [
      {
       "cell_index": 64
      }
     ]
    },
    "319402c2d27f40bea2a4c7705fd26311": {
     "views": [
      {
       "cell_index": 36
      }
     ]
    },
    "320543bf1d9847988e2ce4b6c62e7da3": {
     "views": [
      {
       "cell_index": 23
      }
     ]
    },
    "320c337d574f4b43b565b20ab7edbf71": {
     "views": [
      {
       "cell_index": 21
      }
     ]
    },
    "3237bffd4a44493784cfa2ded9728e9a": {
     "views": [
      {
       "cell_index": 23
      }
     ]
    },
    "327569345c344b39984b341ea5f7677e": {
     "views": [
      {
       "cell_index": 62
      }
     ]
    },
    "337899b340664e6cbcf920b925896dc3": {
     "views": [
      {
       "cell_index": 34
      }
     ]
    },
    "3419e7eceb0d47e08ffb9c3a53506ad3": {
     "views": [
      {
       "cell_index": 68
      }
     ]
    },
    "3441aa078be5407a868106841cb2c306": {
     "views": [
      {
       "cell_index": 63
      }
     ]
    },
    "348508e1cb4c4dd69fbd71db6e4c4bda": {
     "views": [
      {
       "cell_index": 62
      }
     ]
    },
    "34f7dea37c534079849670d57b7e51f5": {
     "views": [
      {
       "cell_index": 64
      }
     ]
    },
    "3504a989734b40e7b19bf1123349d696": {
     "views": [
      {
       "cell_index": 62
      }
     ]
    },
    "35aeea11dfc545648d2db69f8b118bd0": {
     "views": [
      {
       "cell_index": 67
      }
     ]
    },
    "35e975cd6d474226a1a6ef608ff28543": {
     "views": [
      {
       "cell_index": 64
      }
     ]
    },
    "35fa516addf64485900466bd05f9b1f1": {
     "views": [
      {
       "cell_index": 18
      }
     ]
    },
    "362bd09bcacd4dbd8d67621d8932563e": {
     "views": [
      {
       "cell_index": 47
      }
     ]
    },
    "365826de42db4f22a1f9a06c61fe26d2": {
     "views": [
      {
       "cell_index": 31
      }
     ]
    },
    "369a2a1405f64cdabe4127738fd6a882": {
     "views": [
      {
       "cell_index": 64
      }
     ]
    },
    "3773f17df6a8455b8331a1abf2c1aa3c": {
     "views": [
      {
       "cell_index": 63
      }
     ]
    },
    "378d2fa6196e4836858605801a853216": {
     "views": [
      {
       "cell_index": 61
      }
     ]
    },
    "3794397a5d3f4e339975e57807366569": {
     "views": [
      {
       "cell_index": 18
      }
     ]
    },
    "37f4694af2af427a8f60a9b92e58ff3e": {
     "views": [
      {
       "cell_index": 64
      }
     ]
    },
    "39642141299f43e09b75f8fbb837a439": {
     "views": [
      {
       "cell_index": 23
      }
     ]
    },
    "397d2270929c45ce99e1abe775a65934": {
     "views": [
      {
       "cell_index": 64
      }
     ]
    },
    "39acea29f68d4acaab0828c03aba0a08": {
     "views": [
      {
       "cell_index": 64
      }
     ]
    },
    "39e2db448a024c788f59514f4a87f926": {
     "views": [
      {
       "cell_index": 62
      }
     ]
    },
    "3a2cb4a5cbfe4c03b22084c078b81419": {
     "views": [
      {
       "cell_index": 67
      }
     ]
    },
    "3a5f5f75479d4008948b92a103530efe": {
     "views": [
      {
       "cell_index": 61
      }
     ]
    },
    "3a645f0b705343419c5cb314341f42d8": {
     "views": [
      {
       "cell_index": 64
      }
     ]
    },
    "3aec50d5bf58498ea3f88c0e90f60adc": {
     "views": [
      {
       "cell_index": 62
      }
     ]
    },
    "3b20a22b8191438f8c761e1bbb2ba6da": {
     "views": [
      {
       "cell_index": 68
      }
     ]
    },
    "3baaaed6660d4c2c9f469059ebc9490f": {
     "views": [
      {
       "cell_index": 34
      }
     ]
    },
    "3be8d28167cb4f30822f053319411a26": {
     "views": [
      {
       "cell_index": 64
      }
     ]
    },
    "3c323736448244109f32573159c45691": {
     "views": [
      {
       "cell_index": 23
      }
     ]
    },
    "3c5dabde19a24711a00918e2acf9b132": {
     "views": [
      {
       "cell_index": 34
      }
     ]
    },
    "3c6baa4add5f499db38372643c03a0da": {
     "views": [
      {
       "cell_index": 64
      }
     ]
    },
    "3c871df505294a29a2b2a78ceefdd601": {
     "views": [
      {
       "cell_index": 64
      }
     ]
    },
    "3ca10f0e7b81402e80857f0cb8c6ac3e": {
     "views": [
      {
       "cell_index": 64
      }
     ]
    },
    "3ccfdc5d93684307bdea06b7873c0f12": {
     "views": [
      {
       "cell_index": 36
      }
     ]
    },
    "3cf2c2b306cb4062a8fd32f761b8a626": {
     "views": [
      {
       "cell_index": 31
      }
     ]
    },
    "3d8743cd3678405d92a714e33edd0ba4": {
     "views": [
      {
       "cell_index": 31
      }
     ]
    },
    "3db9232f6a68486abd677d9e6e1dc419": {
     "views": [
      {
       "cell_index": 31
      }
     ]
    },
    "3e0f3df3772f4829ba6bc436f13dba3c": {
     "views": [
      {
       "cell_index": 21
      }
     ]
    },
    "3e108eabe67649a5a3687b62b6e15523": {
     "views": [
      {
       "cell_index": 23
      }
     ]
    },
    "3e1e18ede3d1414294f22707d4c993ed": {
     "views": [
      {
       "cell_index": 34
      }
     ]
    },
    "3e2e310291314188af7138b09d62df70": {
     "views": [
      {
       "cell_index": 36
      }
     ]
    },
    "3e8913a7156644759bdcd431f5c0e4eb": {
     "views": [
      {
       "cell_index": 21
      }
     ]
    },
    "3ee1fd78a3804abeab479deabab61745": {
     "views": [
      {
       "cell_index": 64
      }
     ]
    },
    "3f5c2d7a7a5c45f7b7f602634349b5b4": {
     "views": [
      {
       "cell_index": 61
      }
     ]
    },
    "3f7ae39624e84b348d40d8c436adbb62": {
     "views": [
      {
       "cell_index": 67
      }
     ]
    },
    "3fd093be852f4ac581eb39c38a6a3d33": {
     "views": [
      {
       "cell_index": 34
      }
     ]
    },
    "3fd440e0ea0a4edb9f4f9c900fc35a05": {
     "views": [
      {
       "cell_index": 63
      }
     ]
    },
    "413549e81ac34569b80fc2566e65613f": {
     "views": [
      {
       "cell_index": 67
      }
     ]
    },
    "41b12f2988b54d7c843bd923929c4fe2": {
     "views": [
      {
       "cell_index": 23
      }
     ]
    },
    "4256b7f244f14c80b58235e929967a41": {
     "views": [
      {
       "cell_index": 64
      }
     ]
    },
    "432c3c2232534193acde44073f471ed5": {
     "views": [
      {
       "cell_index": 62
      }
     ]
    },
    "4379ee429f2a427eb9a8421a5b6db19b": {
     "views": [
      {
       "cell_index": 23
      }
     ]
    },
    "43917fa6dd4f4921880607766aa02fc9": {
     "views": [
      {
       "cell_index": 36
      }
     ]
    },
    "441f10efd5734bca9f5a39c03352970c": {
     "views": [
      {
       "cell_index": 64
      }
     ]
    },
    "44a9bc02e2584c5b95c9695df293e408": {
     "views": [
      {
       "cell_index": 47
      }
     ]
    },
    "451a8d3a87b644a3a640ef778f7a9265": {
     "views": [
      {
       "cell_index": 67
      }
     ]
    },
    "453de88a64fd492fb6875f2a49955886": {
     "views": [
      {
       "cell_index": 23
      }
     ]
    },
    "459537bdd9aa418393427d1828c239e7": {
     "views": [
      {
       "cell_index": 67
      }
     ]
    },
    "45bda089dc7b4aaba3984a6ebd836cf4": {
     "views": [
      {
       "cell_index": 34
      }
     ]
    },
    "469a752790114366b33bb4e96f61de65": {
     "views": [
      {
       "cell_index": 63
      }
     ]
    },
    "46abf1f1fa9440faa023d65fbf711318": {
     "views": [
      {
       "cell_index": 63
      }
     ]
    },
    "46afbaac41a84f5fba5316d47c1d6e50": {
     "views": [
      {
       "cell_index": 38
      }
     ]
    },
    "4736ef87dc2748cea8164c083a9333d4": {
     "views": [
      {
       "cell_index": 62
      }
     ]
    },
    "4738d9b516f140a3b68d6baf2df6df1d": {
     "views": [
      {
       "cell_index": 23
      }
     ]
    },
    "4749c418ac284fcfa46bc58c7d2569eb": {
     "views": [
      {
       "cell_index": 64
      }
     ]
    },
    "475f2d16efae46dbbab896bcda8d1e84": {
     "views": [
      {
       "cell_index": 47
      }
     ]
    },
    "47795d99e2af442f9131ef394bf762e1": {
     "views": [
      {
       "cell_index": 64
      }
     ]
    },
    "47bda1d7f431471b867eec404ff7d6e5": {
     "views": [
      {
       "cell_index": 61
      }
     ]
    },
    "47c65016a3844be69f0a5db88b1e6c46": {
     "views": [
      {
       "cell_index": 62
      }
     ]
    },
    "47cbe9e900b84140b7b3e02d7c22a718": {
     "views": [
      {
       "cell_index": 31
      }
     ]
    },
    "47d9a7e77b1d42f89d80ce9944b22e46": {
     "views": [
      {
       "cell_index": 64
      }
     ]
    },
    "480e694b42f64b269f8216ca219688fe": {
     "views": [
      {
       "cell_index": 64
      }
     ]
    },
    "4823b13d49894f2daf445208bfd4e293": {
     "views": [
      {
       "cell_index": 61
      }
     ]
    },
    "488cbe4186534671886a658c0d6e5b02": {
     "views": [
      {
       "cell_index": 64
      }
     ]
    },
    "489f3da4f12d44df9b98d1f30df4a026": {
     "views": [
      {
       "cell_index": 23
      }
     ]
    },
    "497efa55b5ab4e71ad90ec65432d580e": {
     "views": [
      {
       "cell_index": 64
      }
     ]
    },
    "497fb01626dc4f6a86eac073468b32ad": {
     "views": [
      {
       "cell_index": 64
      }
     ]
    },
    "49b088001cd14ab2b22b1e1f6da80ce9": {
     "views": [
      {
       "cell_index": 64
      }
     ]
    },
    "49b1de5cac834f3999e9c42d95e52386": {
     "views": [
      {
       "cell_index": 23
      }
     ]
    },
    "4a27940c5f0b41feae921dc5c788b422": {
     "views": [
      {
       "cell_index": 23
      }
     ]
    },
    "4a2dd57621e5401aa4c945ba052a974e": {
     "views": [
      {
       "cell_index": 62
      }
     ]
    },
    "4aa831b7eaab449dbfa4690962920585": {
     "views": [
      {
       "cell_index": 64
      }
     ]
    },
    "4aef1f0ad86a4c1a958843bd436dd1b6": {
     "views": [
      {
       "cell_index": 63
      }
     ]
    },
    "4af341027f7841e4b67942e8ddfe838f": {
     "views": [
      {
       "cell_index": 64
      }
     ]
    },
    "4af610e91b4744119e94e903c96bde94": {
     "views": [
      {
       "cell_index": 23
      }
     ]
    },
    "4b2567c537564e119666e22d041c02aa": {
     "views": [
      {
       "cell_index": 64
      }
     ]
    },
    "4b5dd4a8a4d14623a1931ba57e1b0dff": {
     "views": [
      {
       "cell_index": 21
      }
     ]
    },
    "4bac9ee00fb6452fa1ed06f7c5825200": {
     "views": [
      {
       "cell_index": 62
      }
     ]
    },
    "4bd692fcadca40138a32736a2007221a": {
     "views": [
      {
       "cell_index": 47
      }
     ]
    },
    "4c6b07b41efc43148d3ea0b6651c9038": {
     "views": [
      {
       "cell_index": 64
      }
     ]
    },
    "4cb91c0c31b548fb9d65ddec84644a63": {
     "views": [
      {
       "cell_index": 62
      }
     ]
    },
    "4ccd35b36b4d43c99d8f1755a57fb391": {
     "views": [
      {
       "cell_index": 61
      }
     ]
    },
    "4db41b7d794c4798ae8537a2956858e8": {
     "views": [
      {
       "cell_index": 31
      }
     ]
    },
    "4e26a095087844a58da53349b5c248c6": {
     "views": [
      {
       "cell_index": 64
      }
     ]
    },
    "4e525db64cda4bff9b149b9ca93d0fd2": {
     "views": [
      {
       "cell_index": 64
      }
     ]
    },
    "4e5dd06efa9748d2b45bf7a0f079ce4b": {
     "views": [
      {
       "cell_index": 67
      }
     ]
    },
    "4e6b392839384942ab9dedabe4c41315": {
     "views": [
      {
       "cell_index": 62
      }
     ]
    },
    "4ee7d1b2b9a141ac97aa12e445e439b5": {
     "views": [
      {
       "cell_index": 62
      }
     ]
    },
    "4f2f989380a24ea6a7a5885d37419047": {
     "views": [
      {
       "cell_index": 61
      }
     ]
    },
    "4f76746a35d841d890be38811f90d542": {
     "views": [
      {
       "cell_index": 38
      }
     ]
    },
    "4fabde2d38d947ceaa7252ebc06ba594": {
     "views": [
      {
       "cell_index": 64
      }
     ]
    },
    "4fb13c3d940f4206b411ed59e266f89b": {
     "views": [
      {
       "cell_index": 67
      }
     ]
    },
    "4fd900a710e24977931b61a7b153ec95": {
     "views": [
      {
       "cell_index": 64
      }
     ]
    },
    "4fded621ff224df4bbd68383e36c3048": {
     "views": [
      {
       "cell_index": 64
      }
     ]
    },
    "5030b84a63ac437284646de18e6d91cf": {
     "views": [
      {
       "cell_index": 67
      }
     ]
    },
    "5124597f8cc343fd9eb2c6ab7413ad6f": {
     "views": [
      {
       "cell_index": 38
      }
     ]
    },
    "515bdbc61000424f9b8969cc773122cf": {
     "views": [
      {
       "cell_index": 61
      }
     ]
    },
    "51dbb7e210fe4293a4c901f82a4795c9": {
     "views": [
      {
       "cell_index": 23
      }
     ]
    },
    "520e27292b324f62a3da1f3b94f301cf": {
     "views": [
      {
       "cell_index": 67
      }
     ]
    },
    "528a33ebd46d4b8bb468d8a3fbb943b4": {
     "views": [
      {
       "cell_index": 21
      }
     ]
    },
    "5293e1e4271047cca8f8db805d67e6bf": {
     "views": [
      {
       "cell_index": 64
      }
     ]
    },
    "52d9742ffdff442e8b01f41c5239685a": {
     "views": [
      {
       "cell_index": 31
      }
     ]
    },
    "532f5e337ab144778684504a1d7dad83": {
     "views": [
      {
       "cell_index": 62
      }
     ]
    },
    "5378386f5b604b2dbc976e0173d4c4d5": {
     "views": [
      {
       "cell_index": 63
      }
     ]
    },
    "539536d9f8fb4442bc05492b4aad8068": {
     "views": [
      {
       "cell_index": 34
      }
     ]
    },
    "53ad73c29861455d859ab292800d4b60": {
     "views": [
      {
       "cell_index": 68
      }
     ]
    },
    "541968de34e04b5ebc6744bc5a57eafe": {
     "views": [
      {
       "cell_index": 64
      }
     ]
    },
    "545be8512c22441aa21fda38f362480b": {
     "views": [
      {
       "cell_index": 31
      }
     ]
    },
    "54b1f51a3bf74bea88380c4e5f290882": {
     "views": [
      {
       "cell_index": 61
      }
     ]
    },
    "54d5a9a7189749e48c67a2d8f75cd6d2": {
     "views": [
      {
       "cell_index": 64
      }
     ]
    },
    "550ae20ce9f64876a358b01f041f76e1": {
     "views": [
      {
       "cell_index": 21
      }
     ]
    },
    "555135ed16bc4779ae988b265d6c037e": {
     "views": [
      {
       "cell_index": 23
      }
     ]
    },
    "5553d5bd3aaa4b97b8e18f4ad8eeea96": {
     "views": [
      {
       "cell_index": 61
      }
     ]
    },
    "5639c42098a84e7bb8e06c80331d77ce": {
     "views": [
      {
       "cell_index": 62
      }
     ]
    },
    "5649d9318c484affa50790ea5dc25b0d": {
     "views": [
      {
       "cell_index": 64
      }
     ]
    },
    "5665d688eeaf401e8b13cc80b1449db2": {
     "views": [
      {
       "cell_index": 61
      }
     ]
    },
    "56c1f6d469384f678e214f46c0b6733d": {
     "views": [
      {
       "cell_index": 31
      }
     ]
    },
    "56db5b3bc7cc403f9fde1e69318318e9": {
     "views": [
      {
       "cell_index": 64
      }
     ]
    },
    "571509d3b07f4e999fdf0d9239acc90c": {
     "views": [
      {
       "cell_index": 68
      }
     ]
    },
    "574eb8a83664410981aeb76df9180f47": {
     "views": [
      {
       "cell_index": 62
      }
     ]
    },
    "57611d7c1d374d33b2e97304eb684183": {
     "views": [
      {
       "cell_index": 64
      }
     ]
    },
    "57e8d1859ba649749076fa03b5ef550f": {
     "views": [
      {
       "cell_index": 23
      }
     ]
    },
    "58173c0ea17a46b58f9e0d57ad53e1c0": {
     "views": [
      {
       "cell_index": 36
      }
     ]
    },
    "59475edd7a624c2cb57d535b9200e780": {
     "views": [
      {
       "cell_index": 31
      }
     ]
    },
    "5999d3fb22b740bf8bf4840f943eb929": {
     "views": [
      {
       "cell_index": 64
      }
     ]
    },
    "5a004cf6b79b4d299f9bd1d24fc753af": {
     "views": [
      {
       "cell_index": 64
      }
     ]
    },
    "5a04d779877b4a3fbd503d36fc3dc316": {
     "views": [
      {
       "cell_index": 64
      }
     ]
    },
    "5a056c71b62644388e86a35bc650cafe": {
     "views": [
      {
       "cell_index": 64
      }
     ]
    },
    "5a0c579fce0a4003916976ab07a86d97": {
     "views": [
      {
       "cell_index": 67
      }
     ]
    },
    "5a2706fde7a94c1199f3fb56f4fbc9f1": {
     "views": [
      {
       "cell_index": 62
      }
     ]
    },
    "5a4a4911686b454eaa5c913787650bdc": {
     "views": [
      {
       "cell_index": 62
      }
     ]
    },
    "5a6763feb55948b6926aba9840404169": {
     "views": [
      {
       "cell_index": 61
      }
     ]
    },
    "5c25832ea0b44952a05e3fc111fdc76f": {
     "views": [
      {
       "cell_index": 23
      }
     ]
    },
    "5c4b4159943a4e7f84c86fb6adee3a3f": {
     "views": [
      {
       "cell_index": 64
      }
     ]
    },
    "5d51e12a5c664418b22274021d19561d": {
     "views": [
      {
       "cell_index": 62
      }
     ]
    },
    "5d916d239174472ab025498d30c5d346": {
     "views": [
      {
       "cell_index": 34
      }
     ]
    },
    "5d920411df6a444988adfa6fce491fd2": {
     "views": [
      {
       "cell_index": 64
      }
     ]
    },
    "5dce738eec07457586e3a02cd82eacf3": {
     "views": [
      {
       "cell_index": 61
      }
     ]
    },
    "5dd31037f4944ee7ae23e5c218d1f493": {
     "views": [
      {
       "cell_index": 64
      }
     ]
    },
    "5f10c5448d5149058d8ca5fa0e601346": {
     "views": [
      {
       "cell_index": 23
      }
     ]
    },
    "5f3a0adce7624f028c946cf6c89a81ba": {
     "views": [
      {
       "cell_index": 62
      }
     ]
    },
    "5f5bc230867e4eab928757bdaf6fb3b0": {
     "views": [
      {
       "cell_index": 64
      }
     ]
    },
    "5fa33a4d228a4b0d94b51670c44bb17e": {
     "views": [
      {
       "cell_index": 64
      }
     ]
    },
    "5fb51deb66c64c1380a2f640f4330b55": {
     "views": [
      {
       "cell_index": 34
      }
     ]
    },
    "5fbcbed7323e4f40909945327cbae0f8": {
     "views": [
      {
       "cell_index": 62
      }
     ]
    },
    "5fc46e49f57346368a97cadaad91a3e6": {
     "views": [
      {
       "cell_index": 64
      }
     ]
    },
    "606538b988c54d36af8be89a4246022f": {
     "views": [
      {
       "cell_index": 31
      }
     ]
    },
    "6087d1bf36544359accc4cd446d96763": {
     "views": [
      {
       "cell_index": 62
      }
     ]
    },
    "60d15425d88f4507a270c9861797aae3": {
     "views": [
      {
       "cell_index": 61
      }
     ]
    },
    "61435940565b4f9fbb2ab009102be6ec": {
     "views": [
      {
       "cell_index": 34
      }
     ]
    },
    "614da343eb2245b598be3031ba885ff0": {
     "views": [
      {
       "cell_index": 62
      }
     ]
    },
    "615099af5a4a466194eb7dbb7624d4aa": {
     "views": [
      {
       "cell_index": 23
      }
     ]
    },
    "61d72d1ead6f46159417c15e5b1741d3": {
     "views": [
      {
       "cell_index": 23
      }
     ]
    },
    "61ec83393689462b955be9ffa67579e0": {
     "views": [
      {
       "cell_index": 64
      }
     ]
    },
    "6203d791fdf940efb74fae63da9afd02": {
     "views": [
      {
       "cell_index": 61
      }
     ]
    },
    "62194a8de86e471aacc30d73bb45ce17": {
     "views": [
      {
       "cell_index": 21
      }
     ]
    },
    "624a814104e0490f98ec5d0967f1c7c7": {
     "views": [
      {
       "cell_index": 62
      }
     ]
    },
    "6273e9def6034bd9bc3813267223ecf6": {
     "views": [
      {
       "cell_index": 34
      }
     ]
    },
    "62bb0e515f2a41b9a77fcb13fa70e516": {
     "views": [
      {
       "cell_index": 67
      }
     ]
    },
    "62cd43330ff64a0ba6845f1ae7ae83c9": {
     "views": [
      {
       "cell_index": 63
      }
     ]
    },
    "62f5b9e618db498ba1ea54ab1dafe664": {
     "views": [
      {
       "cell_index": 62
      }
     ]
    },
    "630d55b938cf464b9835a16bb75bbf80": {
     "views": [
      {
       "cell_index": 64
      }
     ]
    },
    "632e6807ec82420e8a4f7c4fc7c35ac3": {
     "views": [
      {
       "cell_index": 34
      }
     ]
    },
    "64bbc33d76ac49feb85000df98d0136a": {
     "views": [
      {
       "cell_index": 67
      }
     ]
    },
    "64cdde4bf51c48c6b7f5489b47b6fe9f": {
     "views": [
      {
       "cell_index": 61
      }
     ]
    },
    "64eb03b2b86143d0bc46dc41de7d5f5a": {
     "views": [
      {
       "cell_index": 64
      }
     ]
    },
    "656079e4f09a4d1b8915acf7e51f9dbd": {
     "views": [
      {
       "cell_index": 21
      }
     ]
    },
    "65e00726026048bda939cc0f483bb3bc": {
     "views": [
      {
       "cell_index": 61
      }
     ]
    },
    "65ea5518505143c8abf41014ea8cdf6a": {
     "views": [
      {
       "cell_index": 62
      }
     ]
    },
    "6667a10a75a84da1b83250f059591aa2": {
     "views": [
      {
       "cell_index": 31
      }
     ]
    },
    "66f9241a812a4f3fb3624ea6d612a94b": {
     "views": [
      {
       "cell_index": 64
      }
     ]
    },
    "66fc569da02c48ca8e8329d612074bed": {
     "views": [
      {
       "cell_index": 64
      }
     ]
    },
    "6747d2de53ac40bab35e59e9278ca34c": {
     "views": [
      {
       "cell_index": 31
      }
     ]
    },
    "678d2b554efb431cb93a2ed6cdbc0a3c": {
     "views": [
      {
       "cell_index": 64
      }
     ]
    },
    "67c23d6b941b475ba53441f787e3ee4d": {
     "views": [
      {
       "cell_index": 67
      }
     ]
    },
    "67cbb58a81ba436f8431c71af209036e": {
     "views": [
      {
       "cell_index": 31
      }
     ]
    },
    "68397d8ce5b54372b301e552b62ec868": {
     "views": [
      {
       "cell_index": 64
      }
     ]
    },
    "684e0cbc0c6d49f3a475d1322cb99cba": {
     "views": [
      {
       "cell_index": 62
      }
     ]
    },
    "684ef2124115478ebbe20b8440cc6112": {
     "views": [
      {
       "cell_index": 64
      }
     ]
    },
    "685d735e6e1c48b989f4087ba0494f11": {
     "views": [
      {
       "cell_index": 61
      }
     ]
    },
    "68ce74e169f94853ba7ae739c27cdfb2": {
     "views": [
      {
       "cell_index": 66
      }
     ]
    },
    "68d1ee3a68854a9d9eb18f1796288c76": {
     "views": [
      {
       "cell_index": 62
      }
     ]
    },
    "68eca26882494161848f45aeb919fa46": {
     "views": [
      {
       "cell_index": 67
      }
     ]
    },
    "69208304b5714d8aadbd2ed01e4afd41": {
     "views": [
      {
       "cell_index": 34
      }
     ]
    },
    "69aebd4c5aca4818b1f2c8e157f8a183": {
     "views": [
      {
       "cell_index": 23
      }
     ]
    },
    "6a4b5ef930a445038bb066654baf9b25": {
     "views": [
      {
       "cell_index": 36
      }
     ]
    },
    "6af323e4bbca460aa16aed1b3f0f37c4": {
     "views": [
      {
       "cell_index": 64
      }
     ]
    },
    "6b014f4a11574fd3b4a5ee93cd8fe76a": {
     "views": [
      {
       "cell_index": 64
      }
     ]
    },
    "6b03a9849a224489b051ba1c9a1ef136": {
     "views": [
      {
       "cell_index": 64
      }
     ]
    },
    "6b10dc9712f14de38b790a6fddf6114d": {
     "views": [
      {
       "cell_index": 62
      }
     ]
    },
    "6b7a3fc38a7d46ffa224128c011cf43c": {
     "views": [
      {
       "cell_index": 61
      }
     ]
    },
    "6ba2f4490e2f4ef9993f12173eb25d70": {
     "views": [
      {
       "cell_index": 31
      }
     ]
    },
    "6c060f663a684ef8b506acf17782f23b": {
     "views": [
      {
       "cell_index": 63
      }
     ]
    },
    "6c38ca4405bb49ecb20dd2fe185e8cd0": {
     "views": [
      {
       "cell_index": 18
      }
     ]
    },
    "6cc3ce1da4f049a497bbb715fec15069": {
     "views": [
      {
       "cell_index": 67
      }
     ]
    },
    "6ceeaea1edce46ea9fadc1466b447012": {
     "views": [
      {
       "cell_index": 64
      }
     ]
    },
    "6cf454de7e3340669de05b40971bb9ce": {
     "views": [
      {
       "cell_index": 23
      }
     ]
    },
    "6db5aaaa71434ba68974f6bb8d51e9d8": {
     "views": [
      {
       "cell_index": 62
      }
     ]
    },
    "6dc995d2974a4ffcbc69d8f294a9781f": {
     "views": [
      {
       "cell_index": 64
      }
     ]
    },
    "6dcba60615a845568f2fafba2a5d0dcb": {
     "views": [
      {
       "cell_index": 64
      }
     ]
    },
    "6dcccb5a4ff643518984096e1201b15d": {
     "views": [
      {
       "cell_index": 18
      }
     ]
    },
    "6eb03bb4b622409487cda9662fbb03bb": {
     "views": [
      {
       "cell_index": 64
      }
     ]
    },
    "6ee320623a4c44588f3d4fefd9ffb0bf": {
     "views": [
      {
       "cell_index": 23
      }
     ]
    },
    "6ef5b6b150624207b28042d115123794": {
     "views": [
      {
       "cell_index": 23
      }
     ]
    },
    "6f53245e50b24a328d383fb5e738accb": {
     "views": [
      {
       "cell_index": 23
      }
     ]
    },
    "6f83adb841b84804af4c3bc0fcd71ae4": {
     "views": [
      {
       "cell_index": 34
      }
     ]
    },
    "6f99b7e96abc4666acb2b3f92e12dcaa": {
     "views": [
      {
       "cell_index": 64
      }
     ]
    },
    "70650ba7d4894c6088dcaa96738e60e7": {
     "views": [
      {
       "cell_index": 21
      }
     ]
    },
    "709b2939c97f44c08e5d72dc84f20224": {
     "views": [
      {
       "cell_index": 21
      }
     ]
    },
    "70c82e8d375f44c1a4b3f6a8726a56b5": {
     "views": [
      {
       "cell_index": 31
      }
     ]
    },
    "7105cc070af44d2e8c94097c2665d756": {
     "views": [
      {
       "cell_index": 31
      }
     ]
    },
    "71092e6f671d4cde8239c70cb67ba4f0": {
     "views": [
      {
       "cell_index": 36
      }
     ]
    },
    "7122f647ee6f43ebbfc53ffbb2323c01": {
     "views": [
      {
       "cell_index": 64
      }
     ]
    },
    "72c67c95288445f7a177a11e8e11f2a8": {
     "views": [
      {
       "cell_index": 67
      }
     ]
    },
    "72fe3cbbf3e24e3e8ea658d427206b50": {
     "views": [
      {
       "cell_index": 67
      }
     ]
    },
    "73b187b554494afba506e82cb606fbb6": {
     "views": [
      {
       "cell_index": 67
      }
     ]
    },
    "7430418ee0e947a28b33d1a3774f7790": {
     "views": [
      {
       "cell_index": 23
      }
     ]
    },
    "74920e5f6aed43d0adcb90b42117f93b": {
     "views": [
      {
       "cell_index": 62
      }
     ]
    },
    "74f7f192aaf04effb8e522bbbd803aab": {
     "views": [
      {
       "cell_index": 62
      }
     ]
    },
    "7555859e663f4ed9a7c4ae01e58b5191": {
     "views": [
      {
       "cell_index": 62
      }
     ]
    },
    "75fc5f3e154449b8acf72b67446b7913": {
     "views": [
      {
       "cell_index": 67
      }
     ]
    },
    "7607229ffa274ec79a8117c5014dbad5": {
     "views": [
      {
       "cell_index": 64
      }
     ]
    },
    "7612d268b4344d46928859fc6c3f6c95": {
     "views": [
      {
       "cell_index": 63
      }
     ]
    },
    "76d438e58a994e48adb59061f78de9f7": {
     "views": [
      {
       "cell_index": 61
      }
     ]
    },
    "7706327208cc4614a78cb4b506eaf4ed": {
     "views": [
      {
       "cell_index": 64
      }
     ]
    },
    "7739f517603e4c2cb5a551b6126ea1b1": {
     "views": [
      {
       "cell_index": 62
      }
     ]
    },
    "777c0eb4d1d84f4f902550915b2d85e7": {
     "views": [
      {
       "cell_index": 64
      }
     ]
    },
    "77f6ee71a0c44d6ca1fe3515a4919086": {
     "views": [
      {
       "cell_index": 31
      }
     ]
    },
    "782bbda4016e493aa0a509abf7a06ae5": {
     "views": [
      {
       "cell_index": 34
      }
     ]
    },
    "78350fae2c0846c79f69179241e2771b": {
     "views": [
      {
       "cell_index": 64
      }
     ]
    },
    "7848215641ef4dfdbf4b4fde05246bc7": {
     "views": [
      {
       "cell_index": 34
      }
     ]
    },
    "7897e9b64ab343afaf02d88f53a3b4c4": {
     "views": [
      {
       "cell_index": 61
      }
     ]
    },
    "78ad4ab4cd2c45f2b81fd35239ed8102": {
     "views": [
      {
       "cell_index": 63
      }
     ]
    },
    "78e355c29a264f9e9a4587626a96ef46": {
     "views": [
      {
       "cell_index": 61
      }
     ]
    },
    "78ff6a38f0934735a566e83b6ee22828": {
     "views": [
      {
       "cell_index": 31
      }
     ]
    },
    "791c8b5943d848bdae5469c0be845308": {
     "views": [
      {
       "cell_index": 64
      }
     ]
    },
    "793ff3100ef54bc8871a95d73bda1a71": {
     "views": [
      {
       "cell_index": 34
      }
     ]
    },
    "794202c85a944d66bda4d56f2d912eb7": {
     "views": [
      {
       "cell_index": 31
      }
     ]
    },
    "7a058f1c4a9c4ae8b8a7aecc206d0e61": {
     "views": [
      {
       "cell_index": 64
      }
     ]
    },
    "7ae01ca2c3c14091a51a4ab96ef20dff": {
     "views": [
      {
       "cell_index": 64
      }
     ]
    },
    "7b27588eed554e3f8bf57ab52add7bde": {
     "views": [
      {
       "cell_index": 64
      }
     ]
    },
    "7b833b5510aa468e88fd7d009b471d7f": {
     "views": [
      {
       "cell_index": 23
      }
     ]
    },
    "7ba3eb7357424595853c31f3143f2c21": {
     "views": [
      {
       "cell_index": 67
      }
     ]
    },
    "7ca3579ccbd74b8fba9960d925e7aa31": {
     "views": [
      {
       "cell_index": 38
      }
     ]
    },
    "7cfc26390da8428aa40abb928100d900": {
     "views": [
      {
       "cell_index": 38
      }
     ]
    },
    "7d8275b3a8bd4e039d9dc60310cb7a55": {
     "views": [
      {
       "cell_index": 62
      }
     ]
    },
    "7dc5860e324649278fad14e8b64b56d5": {
     "views": [
      {
       "cell_index": 31
      }
     ]
    },
    "7dee1c0ec8224a91b9ad24d4d210521a": {
     "views": [
      {
       "cell_index": 64
      }
     ]
    },
    "7e361cd015b949daa01537fa8253b4e5": {
     "views": [
      {
       "cell_index": 61
      }
     ]
    },
    "7e6db8d5560442c39c804bb949678756": {
     "views": [
      {
       "cell_index": 62
      }
     ]
    },
    "7e89062c1d324bca997b3e7268ff99c4": {
     "views": [
      {
       "cell_index": 23
      }
     ]
    },
    "7e969c9d49784dd78a84778804912662": {
     "views": [
      {
       "cell_index": 64
      }
     ]
    },
    "7ea4c359bf744f898eedc7839883e06f": {
     "views": [
      {
       "cell_index": 23
      }
     ]
    },
    "7ef2d42f61cb48568c30b59c503e393b": {
     "views": [
      {
       "cell_index": 18
      }
     ]
    },
    "7f1a6013d7de4a28a900ef0880ddcaca": {
     "views": [
      {
       "cell_index": 62
      }
     ]
    },
    "7f47442cf69d4022849f61d50ce29952": {
     "views": [
      {
       "cell_index": 64
      }
     ]
    },
    "80822634edb148278dcc6551950b9e7f": {
     "views": [
      {
       "cell_index": 36
      }
     ]
    },
    "8092d8ceff644dd196c1fce9f1671315": {
     "views": [
      {
       "cell_index": 62
      }
     ]
    },
    "80b79dc0c7914e16b8a276188847b339": {
     "views": [
      {
       "cell_index": 64
      }
     ]
    },
    "8108d1b31bd84513bcc36361034b1f77": {
     "views": [
      {
       "cell_index": 64
      }
     ]
    },
    "815f3d56044647cd9d2c7e4725405337": {
     "views": [
      {
       "cell_index": 61
      }
     ]
    },
    "816306c46c4a4caf9c8fc96c0e77ed26": {
     "views": [
      {
       "cell_index": 61
      }
     ]
    },
    "81a9d688f925405487ad50776264e44e": {
     "views": [
      {
       "cell_index": 36
      }
     ]
    },
    "823baa5cb89a4c0f9b60a69c6b759037": {
     "views": [
      {
       "cell_index": 64
      }
     ]
    },
    "82c62a65e2774c0b9c9c916df53a659b": {
     "views": [
      {
       "cell_index": 34
      }
     ]
    },
    "82d066e9454942e393190af182477fd1": {
     "views": [
      {
       "cell_index": 63
      }
     ]
    },
    "8326313507604cca9ad184907836b992": {
     "views": [
      {
       "cell_index": 67
      }
     ]
    },
    "8371d59a143b457e8903e88d9626df3d": {
     "views": [
      {
       "cell_index": 67
      }
     ]
    },
    "83c26cc670cd49a4a08122904879c0a9": {
     "views": [
      {
       "cell_index": 63
      }
     ]
    },
    "844b0af231574293bb7a2b6c06abe168": {
     "views": [
      {
       "cell_index": 31
      }
     ]
    },
    "845e24db3a1142b3b07857f34dcf9b04": {
     "views": [
      {
       "cell_index": 62
      }
     ]
    },
    "8473f9660788469490f47d494cadebf8": {
     "views": [
      {
       "cell_index": 62
      }
     ]
    },
    "84b645b254ed40ec9f8acccb2a8a5110": {
     "views": [
      {
       "cell_index": 21
      }
     ]
    },
    "84e3d522add14e6b93477600b6eb86ad": {
     "views": [
      {
       "cell_index": 23
      }
     ]
    },
    "850ee3d455a44e418c3b7d4f101e1ac2": {
     "views": [
      {
       "cell_index": 36
      }
     ]
    },
    "865ada4ef68e43df9778632cbd8c290f": {
     "views": [
      {
       "cell_index": 63
      }
     ]
    },
    "86aaffde1e92409da05ee025c7a6b06c": {
     "views": [
      {
       "cell_index": 38
      }
     ]
    },
    "86d85c8b3c334a44b5707fed4d532904": {
     "views": [
      {
       "cell_index": 64
      }
     ]
    },
    "86e0c0edced24d9db800e791aeadac7a": {
     "views": [
      {
       "cell_index": 64
      }
     ]
    },
    "8725bcedf3e7456d8f829fe817aa6c0d": {
     "views": [
      {
       "cell_index": 64
      }
     ]
    },
    "878db54d013f4a949255a6d801293437": {
     "views": [
      {
       "cell_index": 61
      }
     ]
    },
    "87ba80f29c5c4bacaef9041333c7ac76": {
     "views": [
      {
       "cell_index": 23
      }
     ]
    },
    "88135d8107d74158b967ed83991f77e1": {
     "views": [
      {
       "cell_index": 34
      }
     ]
    },
    "883fb00ecfb94e469036e2639b572f42": {
     "views": [
      {
       "cell_index": 61
      }
     ]
    },
    "885d02a3f6184fedb017aef0c40c8b0f": {
     "views": [
      {
       "cell_index": 64
      }
     ]
    },
    "88ba31423af74dc2bf1d3dc2284a0870": {
     "views": [
      {
       "cell_index": 21
      }
     ]
    },
    "88e4e26ab02845b590e09545b9353b43": {
     "views": [
      {
       "cell_index": 64
      }
     ]
    },
    "88f37211f9cb4891a7980385448a1c17": {
     "views": [
      {
       "cell_index": 64
      }
     ]
    },
    "895049c55f5c49d4bffcbd0e5d0e3ee4": {
     "views": [
      {
       "cell_index": 63
      }
     ]
    },
    "89729edc36504725befc579aad14639c": {
     "views": [
      {
       "cell_index": 64
      }
     ]
    },
    "89b47d2e03f34636a58b9858339024a3": {
     "views": [
      {
       "cell_index": 67
      }
     ]
    },
    "89d5ec50d4844c8f91c377ceb2eb40cf": {
     "views": [
      {
       "cell_index": 64
      }
     ]
    },
    "89e9d4cab0a14b3b8d9a4451f72544b2": {
     "views": [
      {
       "cell_index": 34
      }
     ]
    },
    "89fa10b863164f52bc9ab274553b23fe": {
     "views": [
      {
       "cell_index": 61
      }
     ]
    },
    "89fcdd7fe70949079b19c24ef7bf50a9": {
     "views": [
      {
       "cell_index": 27
      }
     ]
    },
    "8a6103aef1f141fa894329d18c229959": {
     "views": [
      {
       "cell_index": 62
      }
     ]
    },
    "8abaf91cb42b420194cbfe7c6e4403bd": {
     "views": [
      {
       "cell_index": 38
      }
     ]
    },
    "8ae36ffe2a7342138df2c947aea4a5de": {
     "views": [
      {
       "cell_index": 62
      }
     ]
    },
    "8b10589b602b4e118dbbc31155a81113": {
     "views": [
      {
       "cell_index": 61
      }
     ]
    },
    "8b3995523b654b0bbc98470fdf8faec0": {
     "views": [
      {
       "cell_index": 62
      }
     ]
    },
    "8b945a40b88941e59f8014f584de4b1a": {
     "views": [
      {
       "cell_index": 62
      }
     ]
    },
    "8c09703361db4252be9b3f2c26fb658b": {
     "views": [
      {
       "cell_index": 36
      }
     ]
    },
    "8c325e16db5e416797456b73b5d4cdc0": {
     "views": [
      {
       "cell_index": 61
      }
     ]
    },
    "8c41dd333bf746e19db49e8f8c1d77dd": {
     "views": [
      {
       "cell_index": 64
      }
     ]
    },
    "8c63004c42bd4975bdb25db3973adbe1": {
     "views": [
      {
       "cell_index": 61
      }
     ]
    },
    "8c82efd94aea4d1fbf185888ed23dfea": {
     "views": [
      {
       "cell_index": 64
      }
     ]
    },
    "8cd7d14e021f42eebdce02cfac62ae20": {
     "views": [
      {
       "cell_index": 64
      }
     ]
    },
    "8d1dd4996d294c64a6a034f5e8079224": {
     "views": [
      {
       "cell_index": 38
      }
     ]
    },
    "8d3d3b1bddef4e09b413cb1c51e50290": {
     "views": [
      {
       "cell_index": 62
      }
     ]
    },
    "8d51d3f45e7e47a48c67d032fbc27975": {
     "views": [
      {
       "cell_index": 23
      }
     ]
    },
    "8d702c3e64ed4a24867e6c5b99748833": {
     "views": [
      {
       "cell_index": 47
      }
     ]
    },
    "8deebe41ad304b99b7b6a18edd6dc5d5": {
     "views": [
      {
       "cell_index": 62
      }
     ]
    },
    "8e2715f6a6104a5a9709347fa5789a15": {
     "views": [
      {
       "cell_index": 18
      }
     ]
    },
    "8e2a9a4b20f54a85ae9379b77f11d418": {
     "views": [
      {
       "cell_index": 21
      }
     ]
    },
    "8e6a3f3d3d0c47019f88361cfea8068f": {
     "views": [
      {
       "cell_index": 67
      }
     ]
    },
    "8e79096615fb479c959b907d14cd53cd": {
     "views": [
      {
       "cell_index": 62
      }
     ]
    },
    "8fa40f8fd90d4920837936ebeb978b76": {
     "views": [
      {
       "cell_index": 31
      },
      {
       "cell_index": 34
      }
     ]
    },
    "8fe8d16707894584b1708a54ae8b980b": {
     "views": [
      {
       "cell_index": 62
      }
     ]
    },
    "8ff9268523164623a393a309bbbe2ef3": {
     "views": [
      {
       "cell_index": 61
      }
     ]
    },
    "9000eeeb3c334dbba6e11a4c914a51fb": {
     "views": [
      {
       "cell_index": 64
      }
     ]
    },
    "90289a8dfa3840948bdb1db8b7a2b1d7": {
     "views": [
      {
       "cell_index": 64
      }
     ]
    },
    "906872d82f04429aac024a03a1636b9a": {
     "views": [
      {
       "cell_index": 61
      }
     ]
    },
    "9082dc8ab4514b9abf5c1d698953d6b1": {
     "views": [
      {
       "cell_index": 64
      }
     ]
    },
    "908c049294b049719bf4b8d2cb63c894": {
     "views": [
      {
       "cell_index": 62
      }
     ]
    },
    "90c1113900eb444b91a5107bec9d8cb4": {
     "views": [
      {
       "cell_index": 62
      }
     ]
    },
    "90e6192a99f7479ca9beecd9b0c8fdf9": {
     "views": [
      {
       "cell_index": 47
      }
     ]
    },
    "912c782d6c0b4f529346fea813e1915c": {
     "views": [
      {
       "cell_index": 34
      }
     ]
    },
    "913805db653d4d859f09d6b6465caf32": {
     "views": [
      {
       "cell_index": 67
      }
     ]
    },
    "927ec4602913489eb7d2eaef54e0dbd4": {
     "views": [
      {
       "cell_index": 64
      }
     ]
    },
    "93138f097c3c486db02b2ab5351b1ab9": {
     "views": [
      {
       "cell_index": 47
      }
     ]
    },
    "93148b6179834a77b88cbc3798f894b8": {
     "views": [
      {
       "cell_index": 64
      }
     ]
    },
    "934b42eeba5b4de4a9a2620a69d416d3": {
     "views": [
      {
       "cell_index": 38
      }
     ]
    },
    "937db6afe43d4bf2a98fccd21d044d71": {
     "views": [
      {
       "cell_index": 67
      }
     ]
    },
    "93a13bfd46f242409cf16aed8bd960fd": {
     "views": [
      {
       "cell_index": 31
      }
     ]
    },
    "93d9b0bf5f6a43ec9dd0cf4de36e292f": {
     "views": [
      {
       "cell_index": 62
      }
     ]
    },
    "940c137eddb1499598510ed22eb11267": {
     "views": [
      {
       "cell_index": 61
      }
     ]
    },
    "94661bd91c274f178b96149a8d9a2302": {
     "views": [
      {
       "cell_index": 34
      }
     ]
    },
    "9468df4ba2d44ca18a9364f39fc24d36": {
     "views": [
      {
       "cell_index": 23
      }
     ]
    },
    "948b126e141f44719469e6242fee0714": {
     "views": [
      {
       "cell_index": 62
      }
     ]
    },
    "948f9d5ad74b4d2f928bfa2cde40500b": {
     "views": [
      {
       "cell_index": 67
      }
     ]
    },
    "959652522ae1491ab44d51e1ebfd61b6": {
     "views": [
      {
       "cell_index": 64
      }
     ]
    },
    "95cf30090a064c22a9a68c4fc1189fd7": {
     "views": [
      {
       "cell_index": 67
      }
     ]
    },
    "964379afaa5b46778056836769ae725b": {
     "views": [
      {
       "cell_index": 67
      }
     ]
    },
    "968a88fd4cd447b79e39f5f30f218f05": {
     "views": [
      {
       "cell_index": 64
      }
     ]
    },
    "96f3235c7ceb4cedb1bae4f2218abc35": {
     "views": [
      {
       "cell_index": 64
      }
     ]
    },
    "970ebc4456ae451abc65534c57a440a1": {
     "views": [
      {
       "cell_index": 66
      }
     ]
    },
    "9715ca3fcee341a7b201fd680dbcab17": {
     "views": [
      {
       "cell_index": 34
      }
     ]
    },
    "972ac948e512468fa0308ad444b07ecf": {
     "views": [
      {
       "cell_index": 67
      }
     ]
    },
    "972f8791f93a4a808183a951ac638acf": {
     "views": [
      {
       "cell_index": 21
      }
     ]
    },
    "97395334184f47539904800b6833fb61": {
     "views": [
      {
       "cell_index": 61
      }
     ]
    },
    "974b6f9959754ad487653a275f11bb2e": {
     "views": [
      {
       "cell_index": 31
      }
     ]
    },
    "978081bd219f4081ae580ec2f78d25fc": {
     "views": [
      {
       "cell_index": 64
      }
     ]
    },
    "980485bacd294d689de1910370893052": {
     "views": [
      {
       "cell_index": 31
      }
     ]
    },
    "9820b03cda264e17824f7ee3c5467a87": {
     "views": [
      {
       "cell_index": 31
      }
     ]
    },
    "98a318c17cd9435893d2a4955299ef43": {
     "views": [
      {
       "cell_index": 64
      }
     ]
    },
    "98bea5b6679d465898e79464cbd25f2d": {
     "views": [
      {
       "cell_index": 21
      }
     ]
    },
    "98e20ea0665442b382acd7187068b054": {
     "views": [
      {
       "cell_index": 34
      }
     ]
    },
    "98e9c0a5a6e642e1a20ed6e1255059a7": {
     "views": [
      {
       "cell_index": 61
      }
     ]
    },
    "992ebff82ea34fb1b21d663b4447e094": {
     "views": [
      {
       "cell_index": 38
      }
     ]
    },
    "9968e4f78df1433da82337c8a738f266": {
     "views": [
      {
       "cell_index": 62
      }
     ]
    },
    "99c77ac54ef04e34a03b8b1b07f80305": {
     "views": [
      {
       "cell_index": 63
      }
     ]
    },
    "99d208b83aef4e07b0304661c3a5c51b": {
     "views": [
      {
       "cell_index": 64
      }
     ]
    },
    "99e0a1fee76f4573b491a3c36ec1b638": {
     "views": [
      {
       "cell_index": 64
      }
     ]
    },
    "99e87e0a69c4451f99964c873b8a2ece": {
     "views": [
      {
       "cell_index": 63
      }
     ]
    },
    "9a82d447c68548c2a2535c5de535eb08": {
     "views": [
      {
       "cell_index": 66
      }
     ]
    },
    "9a8fedc6da22434c992a966754a15fb0": {
     "views": [
      {
       "cell_index": 67
      }
     ]
    },
    "9abe5c9d21bd441389b5e131c4b1c298": {
     "views": [
      {
       "cell_index": 21
      }
     ]
    },
    "9adda659b4c649e8b7466ce7b6d1023e": {
     "views": [
      {
       "cell_index": 23
      }
     ]
    },
    "9af1e88c49224f2a854bd61bc44a61fe": {
     "views": [
      {
       "cell_index": 18
      }
     ]
    },
    "9afff8e05f8d4071ae35a1edbecba65b": {
     "views": [
      {
       "cell_index": 18
      }
     ]
    },
    "9b1ce1ea94c749f1869d61a564710874": {
     "views": [
      {
       "cell_index": 64
      }
     ]
    },
    "9b573ddd28b24fcf8f2c6db43e98807f": {
     "views": [
      {
       "cell_index": 64
      }
     ]
    },
    "9b84e919e8de430fb87ae94d7799a73d": {
     "views": [
      {
       "cell_index": 36
      }
     ]
    },
    "9b8bfedff32a4385a8ee8ad686f236df": {
     "views": [
      {
       "cell_index": 64
      }
     ]
    },
    "9bb6145b5754495dae5dbf08e2111f7e": {
     "views": [
      {
       "cell_index": 64
      }
     ]
    },
    "9c381a3181714a84843396f8fa8abe4e": {
     "views": [
      {
       "cell_index": 21
      }
     ]
    },
    "9c3908a47898487e8d0e75b26885e587": {
     "views": [
      {
       "cell_index": 64
      }
     ]
    },
    "9c4292f6496a41fa9d9c058e12a3cb5b": {
     "views": [
      {
       "cell_index": 36
      }
     ]
    },
    "9ce3307c79ff429ba2daf0f2f177db9e": {
     "views": [
      {
       "cell_index": 62
      }
     ]
    },
    "9d661a4c26f6450580c5cbebd3673aac": {
     "views": [
      {
       "cell_index": 62
      }
     ]
    },
    "9da958c58aec46d88d25cdacb7d27ca1": {
     "views": [
      {
       "cell_index": 62
      }
     ]
    },
    "9dc2368e637048b298c84e6877f3c083": {
     "views": [
      {
       "cell_index": 61
      }
     ]
    },
    "9dd4bda689a24f26a85477506cfb4fe3": {
     "views": [
      {
       "cell_index": 67
      }
     ]
    },
    "9de16c178c864b55936bfcf409eb0c2a": {
     "views": [
      {
       "cell_index": 36
      }
     ]
    },
    "9e880c9ccd5140ea95659810f48f4de4": {
     "views": [
      {
       "cell_index": 21
      }
     ]
    },
    "9fb79b0e13494b0aa9981505162bc456": {
     "views": [
      {
       "cell_index": 23
      }
     ]
    },
    "9fbbdf1033f04593a9624948c4f08ee2": {
     "views": [
      {
       "cell_index": 31
      }
     ]
    },
    "9fc0e17c14f94845a11ca3a734fb062d": {
     "views": [
      {
       "cell_index": 34
      }
     ]
    },
    "a0276583e3c9432a85bd76d9c69230e7": {
     "views": [
      {
       "cell_index": 38
      }
     ]
    },
    "a0832cbb8aab4ae8803e05612e3a4239": {
     "views": [
      {
       "cell_index": 63
      }
     ]
    },
    "a0b135f31a7b45df8ece587a72a6fd32": {
     "views": [
      {
       "cell_index": 63
      }
     ]
    },
    "a16158e761144b22932af3546f16c798": {
     "views": [
      {
       "cell_index": 64
      }
     ]
    },
    "a1b7aaef69d745638eb7b0316018501d": {
     "views": [
      {
       "cell_index": 21
      }
     ]
    },
    "a26e8f88f1dd419081eea0fe6cc96f96": {
     "views": [
      {
       "cell_index": 67
      }
     ]
    },
    "a283f973a8a2437abcd64f7787488b45": {
     "views": [
      {
       "cell_index": 64
      }
     ]
    },
    "a2e4220095bc46dbae869a584f6e6baf": {
     "views": [
      {
       "cell_index": 64
      }
     ]
    },
    "a399594059fb4308bde03a126329ea0c": {
     "views": [
      {
       "cell_index": 34
      }
     ]
    },
    "a3cd0c511b9e4c2288bf45ca304ecad9": {
     "views": [
      {
       "cell_index": 63
      }
     ]
    },
    "a3fefb3ad5d142e0bb9e1fc7ebe8bd3d": {
     "views": [
      {
       "cell_index": 61
      }
     ]
    },
    "a42dabca7d4d4eaa9dc87b8b12489bac": {
     "views": [
      {
       "cell_index": 34
      }
     ]
    },
    "a4676f3fd28047e0b6bf6a1a82155b38": {
     "views": [
      {
       "cell_index": 63
      }
     ]
    },
    "a474d4d3882846268aef79d51ebc3636": {
     "views": [
      {
       "cell_index": 31
      }
     ]
    },
    "a4dcbfaa37f9415c87262b966b8bd38b": {
     "views": [
      {
       "cell_index": 61
      }
     ]
    },
    "a4e5daefbba043ae9d2a35c67e3aead2": {
     "views": [
      {
       "cell_index": 63
      }
     ]
    },
    "a517f72401324092b3abba7c401251ba": {
     "views": [
      {
       "cell_index": 64
      }
     ]
    },
    "a567abb60dea44eab87db28c686563ca": {
     "views": [
      {
       "cell_index": 64
      }
     ]
    },
    "a5aa5cf9b3804984b65e4f163388408c": {
     "views": [
      {
       "cell_index": 61
      }
     ]
    },
    "a5b322a2ec254b20b8f2f5f6d18ef4e6": {
     "views": [
      {
       "cell_index": 64
      }
     ]
    },
    "a6021a4283184519ae203672691991c7": {
     "views": [
      {
       "cell_index": 23
      }
     ]
    },
    "a615ecbca65d4ad7a10a7829b7a10380": {
     "views": [
      {
       "cell_index": 67
      }
     ]
    },
    "a61da038eee04e9295880144b07e40e8": {
     "views": [
      {
       "cell_index": 23
      }
     ]
    },
    "a63d2a4899784ca3a6ac6388274deb2f": {
     "views": [
      {
       "cell_index": 34
      }
     ]
    },
    "a63e72dd30d6457a833175f31796d99e": {
     "views": [
      {
       "cell_index": 64
      }
     ]
    },
    "a658b3f8bcf8453fb42cb2a4dc59a0bb": {
     "views": [
      {
       "cell_index": 64
      }
     ]
    },
    "a68a4fa683fa4f41b2f2bb0f337ad7cc": {
     "views": [
      {
       "cell_index": 63
      }
     ]
    },
    "a6cc2b0aef864628be1183f071ba529e": {
     "views": [
      {
       "cell_index": 64
      }
     ]
    },
    "a72755b4e0ca449ca060507de0db9592": {
     "views": [
      {
       "cell_index": 36
      }
     ]
    },
    "a822091da4b447659e53d402b2cc7df2": {
     "views": [
      {
       "cell_index": 61
      }
     ]
    },
    "a89c344d25b543358e2efb70e80e6345": {
     "views": [
      {
       "cell_index": 64
      }
     ]
    },
    "a8f8c044d3434620ac154e553a2aa19b": {
     "views": [
      {
       "cell_index": 64
      }
     ]
    },
    "a927f8a37a42481c829ef5711d985249": {
     "views": [
      {
       "cell_index": 21
      }
     ]
    },
    "a99e6dba6efe401db836acb74753a461": {
     "views": [
      {
       "cell_index": 67
      }
     ]
    },
    "a9fde2bd9d334a7da5fec92b9fb2c4e3": {
     "views": [
      {
       "cell_index": 21
      }
     ]
    },
    "aa464bac32bb440bad40cabcdfd08a4b": {
     "views": [
      {
       "cell_index": 61
      }
     ]
    },
    "aaaf4219efd84a42a1b1113d64ee64ab": {
     "views": [
      {
       "cell_index": 64
      }
     ]
    },
    "aae0d1a0573346399a9de0c2a427edc6": {
     "views": [
      {
       "cell_index": 67
      }
     ]
    },
    "ab5643e84f964180802b43497b631f93": {
     "views": [
      {
       "cell_index": 31
      }
     ]
    },
    "ac23a6f482624eca9de680f80e5a10d9": {
     "views": [
      {
       "cell_index": 63
      }
     ]
    },
    "ac7e0a0380984c82948ff813eec8e130": {
     "views": [
      {
       "cell_index": 61
      }
     ]
    },
    "ad22b2e1a5a440f394099dd6e2f92044": {
     "views": [
      {
       "cell_index": 62
      }
     ]
    },
    "ad8c4a102d22434fb82750e39c76e5fe": {
     "views": [
      {
       "cell_index": 62
      }
     ]
    },
    "adbe6655331d4a7b8abecac8dae71e3e": {
     "views": [
      {
       "cell_index": 62
      }
     ]
    },
    "add6a57e9aa643239e75b3632bd2798d": {
     "views": [
      {
       "cell_index": 34
      }
     ]
    },
    "ae19af06fdad47d1b5eadcb12be3d494": {
     "views": [
      {
       "cell_index": 63
      }
     ]
    },
    "ae827c463e0f4fd98661e867fba3912b": {
     "views": [
      {
       "cell_index": 64
      }
     ]
    },
    "aead2a2e31fa437ab931e8c927580799": {
     "views": [
      {
       "cell_index": 31
      }
     ]
    },
    "aedfe0f0049547ba9b6fcc578b334e90": {
     "views": [
      {
       "cell_index": 64
      }
     ]
    },
    "aef83e6d8df7474ea6ebf7c0be285a59": {
     "views": [
      {
       "cell_index": 62
      }
     ]
    },
    "af1a09267a1743d0965a15a0fa508fe2": {
     "views": [
      {
       "cell_index": 64
      }
     ]
    },
    "af1a344b631f416784ba17af1998d754": {
     "views": [
      {
       "cell_index": 63
      }
     ]
    },
    "af2140a4a94c467188af6a95e4fdb262": {
     "views": [
      {
       "cell_index": 47
      }
     ]
    },
    "af87b62978dc443a950629d60df66f5d": {
     "views": [
      {
       "cell_index": 34
      }
     ]
    },
    "af8937c4e3af455caa112f725acf99d5": {
     "views": [
      {
       "cell_index": 66
      }
     ]
    },
    "b0cc5825913642c7b0894bc8b6515674": {
     "views": [
      {
       "cell_index": 31
      }
     ]
    },
    "b0e12156e2584306b51f12dc3e90e0d9": {
     "views": [
      {
       "cell_index": 31
      }
     ]
    },
    "b1402ce0e4a34e38a1ed07ee5cc7fb8c": {
     "views": [
      {
       "cell_index": 23
      }
     ]
    },
    "b1dd87e170454a689a1869c408bc3d48": {
     "views": [
      {
       "cell_index": 34
      }
     ]
    },
    "b24fbde8b8ce4491a9d60e90874999ba": {
     "views": [
      {
       "cell_index": 64
      }
     ]
    },
    "b252fa037b7747ab95bb6a4b65971d26": {
     "views": [
      {
       "cell_index": 64
      }
     ]
    },
    "b2f3c7160178448dbed254193648a7e4": {
     "views": [
      {
       "cell_index": 36
      }
     ]
    },
    "b2fcd764d80945888f31dbbf7745122a": {
     "views": [
      {
       "cell_index": 31
      }
     ]
    },
    "b32a2b5bcc0743fbaf999d606b750287": {
     "views": [
      {
       "cell_index": 47
      }
     ]
    },
    "b37b3d76596d46f0913965a4e7eaf80a": {
     "views": [
      {
       "cell_index": 21
      }
     ]
    },
    "b42c47699f9942708f0e04407b08fa5b": {
     "views": [
      {
       "cell_index": 18
      }
     ]
    },
    "b4532478c26c40ababcb9ae87e28fc79": {
     "views": [
      {
       "cell_index": 67
      }
     ]
    },
    "b4a298dda1844397b1c73e6889ebed86": {
     "views": [
      {
       "cell_index": 34
      }
     ]
    },
    "b4ca0c444e3745768018c1868a41fe70": {
     "views": [
      {
       "cell_index": 62
      }
     ]
    },
    "b4d178a82c9f4b248661d7ef13b3a33b": {
     "views": [
      {
       "cell_index": 64
      }
     ]
    },
    "b551170bbf334137830e1893b44aa3e1": {
     "views": [
      {
       "cell_index": 23
      }
     ]
    },
    "b588e1b4f31b402f8e7db903b113997d": {
     "views": [
      {
       "cell_index": 62
      }
     ]
    },
    "b58bd3e8329047189e719c7c7880d5e0": {
     "views": [
      {
       "cell_index": 64
      }
     ]
    },
    "b598b5a953f34a0a8fab8e1b71694c38": {
     "views": [
      {
       "cell_index": 61
      }
     ]
    },
    "b6186d2adc954f38ac479c2d1052d8a7": {
     "views": [
      {
       "cell_index": 62
      }
     ]
    },
    "b62a317e279d4ba6b42a8e10d75f5930": {
     "views": [
      {
       "cell_index": 34
      }
     ]
    },
    "b63a140631ef4f3f96fb91ee3a9d0638": {
     "views": [
      {
       "cell_index": 62
      }
     ]
    },
    "b69a67d5ad6f489a8ce904187ab21531": {
     "views": [
      {
       "cell_index": 23
      }
     ]
    },
    "b731281990ba4858bad2198d406badee": {
     "views": [
      {
       "cell_index": 23
      }
     ]
    },
    "b7c639af2ab84747b6adf51e60f52ba9": {
     "views": [
      {
       "cell_index": 64
      }
     ]
    },
    "b7f3a73179e74bc6900866729d479914": {
     "views": [
      {
       "cell_index": 67
      }
     ]
    },
    "b81d32484e7e449ab117097c6679cc8e": {
     "views": [
      {
       "cell_index": 64
      }
     ]
    },
    "b83366210c2c416e8b2fb6751de9b130": {
     "views": [
      {
       "cell_index": 36
      }
     ]
    },
    "b905756bbcbd499a928b52bc9d72e55d": {
     "views": [
      {
       "cell_index": 31
      }
     ]
    },
    "b92e092f31304f8f98e17f54e5d38b48": {
     "views": [
      {
       "cell_index": 62
      }
     ]
    },
    "b9e4815eb9954f2a8da5d6f4d96fd7f2": {
     "views": [
      {
       "cell_index": 68
      }
     ]
    },
    "b9f8560976814bca87e5a856de8a29e0": {
     "views": [
      {
       "cell_index": 34
      }
     ]
    },
    "ba072b72045c4170bf243d45f75f1ff3": {
     "views": [
      {
       "cell_index": 64
      }
     ]
    },
    "ba1fb501014640928186aea5eee56305": {
     "views": [
      {
       "cell_index": 23
      }
     ]
    },
    "ba625ae4634e4d53b031a4ba6c0fe27e": {
     "views": [
      {
       "cell_index": 64
      }
     ]
    },
    "bafe4876c75844d68f4551e01e70ff60": {
     "views": [
      {
       "cell_index": 21
      }
     ]
    },
    "bb4646bf186a480e85beb0bf9567fd14": {
     "views": [
      {
       "cell_index": 63
      }
     ]
    },
    "bb6463ae4864410c8cdfadd240d33507": {
     "views": [
      {
       "cell_index": 66
      }
     ]
    },
    "bb963025a14a4968a8eda52137709721": {
     "views": [
      {
       "cell_index": 64
      }
     ]
    },
    "bc09fed1fbda45a1b1e1b6b8fa55f99a": {
     "views": [
      {
       "cell_index": 63
      }
     ]
    },
    "bc1595d817994f90a9f270b0d41c4166": {
     "views": [
      {
       "cell_index": 63
      }
     ]
    },
    "bca8e0bdf29f46b7810bad814d4e6abb": {
     "views": [
      {
       "cell_index": 67
      }
     ]
    },
    "bd86d6cfb8d04d60a485dd4a0c6f7811": {
     "views": [
      {
       "cell_index": 15
      }
     ]
    },
    "be1247a2968c4dfe8bb00fddae464870": {
     "views": [
      {
       "cell_index": 62
      }
     ]
    },
    "be60ddeb13564401996fdf5677e37257": {
     "views": [
      {
       "cell_index": 36
      }
     ]
    },
    "bf744f7753484958aad6b0e6d7b8134e": {
     "views": [
      {
       "cell_index": 62
      }
     ]
    },
    "bf95e06470ce449f933232dbbcd9f5a2": {
     "views": [
      {
       "cell_index": 64
      }
     ]
    },
    "bfa5076cb4f4498ba9ee18d80fe283b8": {
     "views": [
      {
       "cell_index": 23
      }
     ]
    },
    "bfe6084b21a647c28e57362513e2ab69": {
     "views": [
      {
       "cell_index": 67
      }
     ]
    },
    "c039d45aca8242b4829f6ef8473c202d": {
     "views": [
      {
       "cell_index": 62
      }
     ]
    },
    "c0596ce2a21846a2b6466eef42b18499": {
     "views": [
      {
       "cell_index": 64
      }
     ]
    },
    "c0af43e629b44e5e85fa857e58dd4cbf": {
     "views": [
      {
       "cell_index": 61
      }
     ]
    },
    "c14171e3a501402b91b431192ce30512": {
     "views": [
      {
       "cell_index": 62
      }
     ]
    },
    "c1749ae14c4248e1a6260d5ae108b6f7": {
     "views": [
      {
       "cell_index": 47
      }
     ]
    },
    "c1bd1c73add242bbbaa788cf2784baeb": {
     "views": [
      {
       "cell_index": 23
      }
     ]
    },
    "c1dacafebdca42b8a2517e0f617fc0f8": {
     "views": [
      {
       "cell_index": 36
      }
     ]
    },
    "c23e7706010a4d5e8f523084f5ac1167": {
     "views": [
      {
       "cell_index": 66
      }
     ]
    },
    "c251242a8a6c4142a182697935bf2b32": {
     "views": [
      {
       "cell_index": 64
      }
     ]
    },
    "c277cc312a72444fb6344d76fa7f3e54": {
     "views": [
      {
       "cell_index": 62
      }
     ]
    },
    "c29c14f74c65464db6a244129904ee8a": {
     "views": [
      {
       "cell_index": 31
      }
     ]
    },
    "c2ce264d26a04b6b90a2f4a6ea1fd5ea": {
     "views": [
      {
       "cell_index": 23
      }
     ]
    },
    "c3b3cd847e0e48c1977aa9e143bdad1c": {
     "views": [
      {
       "cell_index": 23
      }
     ]
    },
    "c3e9a5481d86404ab4095bcfedc3fa21": {
     "views": [
      {
       "cell_index": 64
      }
     ]
    },
    "c3fed13684394676a13a5818e4f1f5f3": {
     "views": [
      {
       "cell_index": 23
      }
     ]
    },
    "c4515c3c64084b708f35e6e8079d7118": {
     "views": [
      {
       "cell_index": 64
      }
     ]
    },
    "c476f66e4e3443eaaae35c5e5c3b04e1": {
     "views": [
      {
       "cell_index": 64
      }
     ]
    },
    "c4b4e5af683343368428d1279cbd6473": {
     "views": [
      {
       "cell_index": 23
      }
     ]
    },
    "c4e6a97dc8b84f8fa716453a54252165": {
     "views": [
      {
       "cell_index": 67
      }
     ]
    },
    "c5b0ccfb8f594d50bff58650120bbbe4": {
     "views": [
      {
       "cell_index": 36
      }
     ]
    },
    "c6516973681e482a8716a9711f7c322f": {
     "views": [
      {
       "cell_index": 36
      }
     ]
    },
    "c6bf6a86a785447cb04bde4254fef3f8": {
     "views": [
      {
       "cell_index": 64
      }
     ]
    },
    "c6ed4559f82a4af5ace1cdf2e562c437": {
     "views": [
      {
       "cell_index": 64
      }
     ]
    },
    "c76da655773a4a9e926ff8697e9438c7": {
     "views": [
      {
       "cell_index": 64
      }
     ]
    },
    "c7b59c7b529849aeb9d2383407a55506": {
     "views": [
      {
       "cell_index": 31
      }
     ]
    },
    "c7cba2a38db842a5b72790643da9514e": {
     "views": [
      {
       "cell_index": 63
      }
     ]
    },
    "c7f47782a32b4acb9e23d5f2f71e6097": {
     "views": [
      {
       "cell_index": 62
      }
     ]
    },
    "c80252aab20b4ca594fc8aefbbcf32ca": {
     "views": [
      {
       "cell_index": 63
      }
     ]
    },
    "c81e9fe499104eaba71ee6455b3f57ed": {
     "views": [
      {
       "cell_index": 64
      }
     ]
    },
    "c85ebc34d215423f975a64c5e239e88d": {
     "views": [
      {
       "cell_index": 31
      }
     ]
    },
    "c87b61f7098446f184a2bf560e8aff2c": {
     "views": [
      {
       "cell_index": 64
      }
     ]
    },
    "c963730cbead492eb5acd18cc51a98bf": {
     "views": [
      {
       "cell_index": 64
      }
     ]
    },
    "c9b84065eacd4ce58f1a38c4c3fddac2": {
     "views": [
      {
       "cell_index": 67
      }
     ]
    },
    "c9b9b7a1417b43e59eb7c82959a201fd": {
     "views": [
      {
       "cell_index": 21
      }
     ]
    },
    "cb0fe3d891d948d6bdf1c5b306101d48": {
     "views": [
      {
       "cell_index": 64
      }
     ]
    },
    "cb163049405642458908ad3b4c38d50a": {
     "views": [
      {
       "cell_index": 31
      }
     ]
    },
    "cbfd12cdfad3422489a29f3132d33d68": {
     "views": [
      {
       "cell_index": 62
      }
     ]
    },
    "cdbdad9d99734d92a647debf4589d3b1": {
     "views": [
      {
       "cell_index": 67
      }
     ]
    },
    "ce392ab384474c08998b20d2865aef15": {
     "views": [
      {
       "cell_index": 61
      }
     ]
    },
    "ce66d0b259364e72b1745c3e6fd5a81f": {
     "views": [
      {
       "cell_index": 23
      }
     ]
    },
    "d0541f36c1af45a3921f8b581a224f99": {
     "views": [
      {
       "cell_index": 62
      }
     ]
    },
    "d07e0f984a134fb09ebac525c9697277": {
     "views": [
      {
       "cell_index": 23
      }
     ]
    },
    "d0bcc58399c449bf921f43a35e709dab": {
     "views": [
      {
       "cell_index": 61
      }
     ]
    },
    "d0d4f2375fe94a17afe8763d0a95e8df": {
     "views": [
      {
       "cell_index": 23
      }
     ]
    },
    "d0dc785a5aec4f9c9f7ff89b0f87903e": {
     "views": [
      {
       "cell_index": 64
      }
     ]
    },
    "d155e42e4d8c42b19a490ea7f6ebb75d": {
     "views": [
      {
       "cell_index": 23
      }
     ]
    },
    "d17725c6212a41d181200091c3dfbbdb": {
     "views": [
      {
       "cell_index": 31
      }
     ]
    },
    "d1f401cf28484461a87838b1d98e7305": {
     "views": [
      {
       "cell_index": 67
      }
     ]
    },
    "d28c98ae5fae44d2beace463cbb06f6d": {
     "views": [
      {
       "cell_index": 64
      }
     ]
    },
    "d2eb05ab17684163a4353578b07aeeb8": {
     "views": [
      {
       "cell_index": 64
      }
     ]
    },
    "d31a26455ac84d76bb2ebe555c28fe0c": {
     "views": [
      {
       "cell_index": 64
      }
     ]
    },
    "d31cff8899644f228ed3ecfa55e0c071": {
     "views": [
      {
       "cell_index": 64
      }
     ]
    },
    "d32da28e5e6c4a22930706a4f321adf3": {
     "views": [
      {
       "cell_index": 47
      }
     ]
    },
    "d3d9444510be41b6a4813b56b71720d0": {
     "views": [
      {
       "cell_index": 61
      }
     ]
    },
    "d558f174c46245f1996b5fdbf61b64ba": {
     "views": [
      {
       "cell_index": 64
      }
     ]
    },
    "d612a343e3624e1ca84dc1b276fce7af": {
     "views": [
      {
       "cell_index": 34
      }
     ]
    },
    "d6143c4ddd404bff9be51c80ddd5fa24": {
     "views": [
      {
       "cell_index": 64
      }
     ]
    },
    "d6dd158644e7491e8f8d8a29f003b67a": {
     "views": [
      {
       "cell_index": 23
      }
     ]
    },
    "d7086ea7eaa6421bb175e87312337eaa": {
     "views": [
      {
       "cell_index": 31
      }
     ]
    },
    "d74ff25583e64372a54cc2741afcde6d": {
     "views": [
      {
       "cell_index": 36
      }
     ]
    },
    "d75e6ef91a1140ab8ce1ff2056a29a9c": {
     "views": [
      {
       "cell_index": 61
      }
     ]
    },
    "d785f044544345538ca516977943cfcf": {
     "views": [
      {
       "cell_index": 31
      }
     ]
    },
    "d7978d79bbda48e1a21a91a2b070b276": {
     "views": [
      {
       "cell_index": 66
      }
     ]
    },
    "d7b09850b9a64f8481d4567fca9e1fdf": {
     "views": [
      {
       "cell_index": 64
      }
     ]
    },
    "d8184f7f3f5a4e7daf39d0205d8c73e7": {
     "views": [
      {
       "cell_index": 36
      }
     ]
    },
    "d834c13b48ad40f7a810495cbf670189": {
     "views": [
      {
       "cell_index": 23
      }
     ]
    },
    "d87e222c41204583980459a3e2ac1cf3": {
     "views": [
      {
       "cell_index": 67
      }
     ]
    },
    "d8e496538e83413892e0170c4130d224": {
     "views": [
      {
       "cell_index": 64
      }
     ]
    },
    "d97a6702596040e5abe381f9583d18c0": {
     "views": [
      {
       "cell_index": 23
      }
     ]
    },
    "d9d189a53e6149a0923df4cd93b10d0c": {
     "views": [
      {
       "cell_index": 23
      }
     ]
    },
    "da2ff89fa05840f797f97170fede6b21": {
     "views": [
      {
       "cell_index": 38
      }
     ]
    },
    "da77151962c34e9b91ceb76438546c5d": {
     "views": [
      {
       "cell_index": 18
      }
     ]
    },
    "da7fec42366e46ae801067f0b6acc277": {
     "views": [
      {
       "cell_index": 63
      }
     ]
    },
    "db3af2e453d24b9fb735aabf19fc0731": {
     "views": [
      {
       "cell_index": 23
      }
     ]
    },
    "db842e9eeb9946b98155179b0b152756": {
     "views": [
      {
       "cell_index": 61
      }
     ]
    },
    "db8dd552dac84a208f180f21012cd432": {
     "views": [
      {
       "cell_index": 64
      }
     ]
    },
    "db8f4a8a061a433cad98d5d8585f15d6": {
     "views": [
      {
       "cell_index": 64
      }
     ]
    },
    "dbdbdae6243f484a9c899ee9236541b1": {
     "views": [
      {
       "cell_index": 67
      }
     ]
    },
    "dbe7ee19699d47429b7b6501c3da0a84": {
     "views": [
      {
       "cell_index": 64
      }
     ]
    },
    "dc252936a0364df4a23c9e628e69bc3a": {
     "views": [
      {
       "cell_index": 61
      }
     ]
    },
    "dda785a62f5d4c4db5b448ea345a8c5b": {
     "views": [
      {
       "cell_index": 64
      }
     ]
    },
    "ddce4e8112354cb69bf80584ccf75bc0": {
     "views": [
      {
       "cell_index": 62
      }
     ]
    },
    "ded9ccecc8b84751892d5c3f5cf4f523": {
     "views": [
      {
       "cell_index": 36
      }
     ]
    },
    "deddc0d87c194b9698d25ea7654a9ef9": {
     "views": [
      {
       "cell_index": 64
      }
     ]
    },
    "def67c0f316640c9a88ee8d4a302c671": {
     "views": [
      {
       "cell_index": 21
      }
     ]
    },
    "df0ecdbaef6845a8bb6c53bd08f9ec1e": {
     "views": [
      {
       "cell_index": 64
      }
     ]
    },
    "df6bfb80ead04ade89ca2ec4990d52da": {
     "views": [
      {
       "cell_index": 62
      }
     ]
    },
    "dfc2270af55f4fc7b2fb48eb3f312a0a": {
     "views": [
      {
       "cell_index": 64
      }
     ]
    },
    "dfc66dde3d9345958c37f7256e80466a": {
     "views": [
      {
       "cell_index": 38
      }
     ]
    },
    "e0953427aa6b4d8e83c01d5d9cad80e9": {
     "views": [
      {
       "cell_index": 64
      }
     ]
    },
    "e100825b2c7b48a0933cdc8534b2b7f2": {
     "views": [
      {
       "cell_index": 23
      }
     ]
    },
    "e1127d2eab594cdc81a48363662f0b6f": {
     "views": [
      {
       "cell_index": 67
      }
     ]
    },
    "e3307ba767a74974ac2025e1b0e83b89": {
     "views": [
      {
       "cell_index": 64
      }
     ]
    },
    "e37c699c000246b397cbadef845edaee": {
     "views": [
      {
       "cell_index": 21
      }
     ]
    },
    "e3d46f2521b447f39e8d19ba27483580": {
     "views": [
      {
       "cell_index": 64
      }
     ]
    },
    "e498a44864bf4498a1b5e1c0e1dfd483": {
     "views": [
      {
       "cell_index": 64
      }
     ]
    },
    "e4c471ab7e23400586aa19bf0c83e402": {
     "views": [
      {
       "cell_index": 61
      }
     ]
    },
    "e4d555bdce1c438e86734bb76e7bbdc0": {
     "views": [
      {
       "cell_index": 23
      }
     ]
    },
    "e525c5e9f9eb4144b8c6e5fdc72c8676": {
     "views": [
      {
       "cell_index": 61
      }
     ]
    },
    "e534f7bcc2ce485189b1b07f31168b5a": {
     "views": [
      {
       "cell_index": 23
      }
     ]
    },
    "e54e3b1e4ae649ef97d1a1771e4afce0": {
     "views": [
      {
       "cell_index": 23
      }
     ]
    },
    "e57fb3d7ee3d4b05a7ecabf8f8fdc7fd": {
     "views": [
      {
       "cell_index": 64
      }
     ]
    },
    "e58d3dc522d74d3dbd97c18d98be7244": {
     "views": [
      {
       "cell_index": 38
      }
     ]
    },
    "e613a4c6af744802a7fbb4014eb1527d": {
     "views": [
      {
       "cell_index": 66
      }
     ]
    },
    "e760f7f0f3384f02891041ef6655ffc4": {
     "views": [
      {
       "cell_index": 62
      }
     ]
    },
    "e78ad304b4184b9a85c1b4cd9a8232e4": {
     "views": [
      {
       "cell_index": 64
      }
     ]
    },
    "e821c0a42393473993816eabcd4f62b9": {
     "views": [
      {
       "cell_index": 64
      }
     ]
    },
    "e84cb37835fd4e89b415fa4c8f2fe745": {
     "views": [
      {
       "cell_index": 31
      }
     ]
    },
    "e86cc26c4f0147a1b50aa500f1ca7e88": {
     "views": [
      {
       "cell_index": 62
      }
     ]
    },
    "e8a062713ad34746ab208beb57d4fdbc": {
     "views": [
      {
       "cell_index": 23
      }
     ]
    },
    "e8ac8c12be64421f9eac92315b31692c": {
     "views": [
      {
       "cell_index": 18
      }
     ]
    },
    "e9009d1031114cc99bce2c240c1c3223": {
     "views": [
      {
       "cell_index": 64
      }
     ]
    },
    "e9aa04cc00504659a5fb55ebac0af821": {
     "views": [
      {
       "cell_index": 67
      }
     ]
    },
    "e9ae7628c3064f4ab24873f8daca9b0c": {
     "views": [
      {
       "cell_index": 36
      }
     ]
    },
    "ea59b913d17f41718f640ac65fa8aa8e": {
     "views": [
      {
       "cell_index": 62
      }
     ]
    },
    "ea5baf6278c94cd784a21507e24b8f41": {
     "views": [
      {
       "cell_index": 64
      }
     ]
    },
    "eae50e9bf1514eea8881a0932f4a2ed7": {
     "views": [
      {
       "cell_index": 23
      }
     ]
    },
    "eb3500de06e844048b1fe749c36c02b8": {
     "views": [
      {
       "cell_index": 36
      }
     ]
    },
    "eb545bd25c044b62a3d9e820c92fea33": {
     "views": [
      {
       "cell_index": 64
      }
     ]
    },
    "eb79d5562ea147a68a0f04a1e4a8f6ea": {
     "views": [
      {
       "cell_index": 47
      }
     ]
    },
    "ebb7ac1617d74c62be43269315289410": {
     "views": [
      {
       "cell_index": 63
      }
     ]
    },
    "ebce3e1cb0a543ff9e073a2b16d2e7b8": {
     "views": [
      {
       "cell_index": 67
      }
     ]
    },
    "ec27ede052804d6cbb0d0d0912878a8f": {
     "views": [
      {
       "cell_index": 23
      }
     ]
    },
    "eca0da5a06d345a7a042584d389bbf65": {
     "views": [
      {
       "cell_index": 34
      }
     ]
    },
    "ecc1513c27e241cb85d2dbf09493422a": {
     "views": [
      {
       "cell_index": 64
      }
     ]
    },
    "ed03184ae4b341a6aa271de310aef19c": {
     "views": [
      {
       "cell_index": 63
      }
     ]
    },
    "ed626b7f393246abaa7ab4caef597f1f": {
     "views": [
      {
       "cell_index": 36
      }
     ]
    },
    "ee905599bcf24f33a2f62d20dd837890": {
     "views": [
      {
       "cell_index": 64
      }
     ]
    },
    "eeabb35adae9484fab3da6de09a3ae5b": {
     "views": [
      {
       "cell_index": 62
      }
     ]
    },
    "eeea6d8bd8a14b088baf2ab3b66c44a2": {
     "views": [
      {
       "cell_index": 62
      }
     ]
    },
    "efa1c6a2505641978a10a69163449e7e": {
     "views": [
      {
       "cell_index": 23
      }
     ]
    },
    "efc43d2f3cd249bda993cd5238b142b1": {
     "views": [
      {
       "cell_index": 63
      }
     ]
    },
    "f0215691b35c4d91b54b7c8adff0d35d": {
     "views": [
      {
       "cell_index": 68
      }
     ]
    },
    "f02a841805fa40588314f900c42f864a": {
     "views": [
      {
       "cell_index": 23
      }
     ]
    },
    "f0bc2256d7a44e8b85fd0fda48fbc45f": {
     "views": [
      {
       "cell_index": 64
      }
     ]
    },
    "f11e9e2b9e9347c4a166cb0b1f8ebdfc": {
     "views": [
      {
       "cell_index": 47
      }
     ]
    },
    "f1ae10d97cf74552817e425b66aca181": {
     "views": [
      {
       "cell_index": 23
      }
     ]
    },
    "f1b76843724f44fab21b86b7d84dd317": {
     "views": [
      {
       "cell_index": 67
      }
     ]
    },
    "f1f0d03bdf5949cdaa7e06a59d7bf01b": {
     "views": [
      {
       "cell_index": 64
      }
     ]
    },
    "f3150ced1f7a4a4389ece8f2af3e3dc0": {
     "views": [
      {
       "cell_index": 64
      }
     ]
    },
    "f318ee6427bb4f1db198ac553b90fa1f": {
     "views": [
      {
       "cell_index": 64
      }
     ]
    },
    "f36ea5ce252042a1b96ad2ffbf1bfb48": {
     "views": [
      {
       "cell_index": 64
      }
     ]
    },
    "f3b3c994871e44098bd0d53a46b6aebe": {
     "views": [
      {
       "cell_index": 36
      }
     ]
    },
    "f3d5fc70137a4c75b82a58a9ab072fdd": {
     "views": [
      {
       "cell_index": 64
      }
     ]
    },
    "f3e39173abbc42b6be4aba9fa8d0b6f9": {
     "views": [
      {
       "cell_index": 62
      }
     ]
    },
    "f4197cf19e1147ed873519e4d7909e61": {
     "views": [
      {
       "cell_index": 21
      }
     ]
    },
    "f422dab2b5f641b8ac26d20d21c748af": {
     "views": [
      {
       "cell_index": 38
      }
     ]
    },
    "f427d135c85246d89cc37b6957d5c6c3": {
     "views": [
      {
       "cell_index": 47
      }
     ]
    },
    "f42fd00abe46455ba0c786aa738fbfed": {
     "views": [
      {
       "cell_index": 61
      }
     ]
    },
    "f433ed232154428fbb9719fc97d5b597": {
     "views": [
      {
       "cell_index": 31
      }
     ]
    },
    "f43f269679f54b9da4da790528da15d8": {
     "views": [
      {
       "cell_index": 62
      }
     ]
    },
    "f4b16537d48d4ff38124973800977061": {
     "views": [
      {
       "cell_index": 62
      }
     ]
    },
    "f4cb59bb938d4bbca25d078616e09d07": {
     "views": [
      {
       "cell_index": 63
      }
     ]
    },
    "f4cf4f789795406bb45b8509b23ef688": {
     "views": [
      {
       "cell_index": 64
      }
     ]
    },
    "f5a05c545d6f46808488e5f757bbfba8": {
     "views": [
      {
       "cell_index": 64
      }
     ]
    },
    "f5aaf12caeb142d79028f29c5c5b7ac3": {
     "views": [
      {
       "cell_index": 64
      }
     ]
    },
    "f5c96cfb5c954abc93523180266f31ec": {
     "views": [
      {
       "cell_index": 67
      }
     ]
    },
    "f5fa177ed7e84861a64db55e1e3619b5": {
     "views": [
      {
       "cell_index": 64
      }
     ]
    },
    "f60af8c790c14a3eb86812d35d587dcc": {
     "views": [
      {
       "cell_index": 67
      }
     ]
    },
    "f64627376cc64999bad2cff8fb10e3ac": {
     "views": [
      {
       "cell_index": 34
      }
     ]
    },
    "f64dbdb18f8e4e38a4c23d5e4ac3f61c": {
     "views": [
      {
       "cell_index": 64
      }
     ]
    },
    "f69f419b49914ab59ae2095732bc0447": {
     "views": [
      {
       "cell_index": 36
      }
     ]
    },
    "f6a6befb27434c749a4949a0d60640ef": {
     "views": [
      {
       "cell_index": 23
      }
     ]
    },
    "f6d0580a654b4dea9a1af959a2514ce9": {
     "views": [
      {
       "cell_index": 34
      }
     ]
    },
    "f700c8c4f5ac4bc79fa3605771b19f36": {
     "views": [
      {
       "cell_index": 64
      }
     ]
    },
    "f757962730264501a345630b85d10214": {
     "views": [
      {
       "cell_index": 18
      }
     ]
    },
    "f7d2f30fdc804747b7ddaf96a0a632db": {
     "views": [
      {
       "cell_index": 61
      }
     ]
    },
    "f846c24598c249dd8ce8a5f4f43c9057": {
     "views": [
      {
       "cell_index": 62
      }
     ]
    },
    "f903df5b31cb42cb83215b87531c4e8b": {
     "views": [
      {
       "cell_index": 64
      }
     ]
    },
    "f98a2cc79a4e432f9c4a2bea308ccbae": {
     "views": [
      {
       "cell_index": 64
      }
     ]
    },
    "f9dbfc27a5854ba8b9ffcd41fffad184": {
     "views": [
      {
       "cell_index": 62
      }
     ]
    },
    "fa2e82e67b044429a1ab48d575e0fb4b": {
     "views": [
      {
       "cell_index": 64
      }
     ]
    },
    "fa47742c00234fc4a5e9636885b0ec3b": {
     "views": [
      {
       "cell_index": 64
      }
     ]
    },
    "fb7f6827138f4d53917bb442b4b7237d": {
     "views": [
      {
       "cell_index": 64
      }
     ]
    },
    "fb9523d202234804935309d65529fe43": {
     "views": [
      {
       "cell_index": 34
      }
     ]
    },
    "fbc4dab143a349b798aa64d418fd8c5f": {
     "views": [
      {
       "cell_index": 31
      }
     ]
    },
    "fc1609128c734e26939ec94ce5508a73": {
     "views": [
      {
       "cell_index": 21
      }
     ]
    },
    "fc2c75fa960d4521aa29a00a16cd40cb": {
     "views": [
      {
       "cell_index": 23
      }
     ]
    },
    "fc54daba091044b4a51c2a576a7b6dd4": {
     "views": [
      {
       "cell_index": 36
      }
     ]
    },
    "fd648525af0e48e0846e00d380a1f55e": {
     "views": [
      {
       "cell_index": 64
      }
     ]
    },
    "fd69be1b1dfe41b3af13d86d66473230": {
     "views": [
      {
       "cell_index": 64
      }
     ]
    },
    "fda9e6db640e4386a92602e073d822fb": {
     "views": [
      {
       "cell_index": 64
      }
     ]
    },
    "fe0240e811ef41888057d4e37a2f1204": {
     "views": [
      {
       "cell_index": 34
      }
     ]
    },
    "fe4354612759413fa3743df9b57c3a81": {
     "views": [
      {
       "cell_index": 61
      }
     ]
    },
    "fe947b76db5741e0bc2546304b0be3a8": {
     "views": [
      {
       "cell_index": 23
      }
     ]
    },
    "fed91545c79e4e81b07d96d0e54d683f": {
     "views": [
      {
       "cell_index": 23
      }
     ]
    },
    "ffe79c0db35d43939e3f42a832d55f27": {
     "views": [
      {
       "cell_index": 67
      }
     ]
    }
   },
   "version": "1.2.0"
  }
 },
 "nbformat": 4,
 "nbformat_minor": 2
}
