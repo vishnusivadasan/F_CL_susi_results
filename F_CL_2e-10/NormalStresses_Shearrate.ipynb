{
 "cells": [
  {
   "cell_type": "code",
   "execution_count": 27,
   "metadata": {
    "collapsed": false
   },
   "outputs": [
    {
     "data": {
      "text/html": [
       "<script>\n",
       "code_show=false; \n",
       "function code_toggle() {\n",
       " if (code_show){\n",
       " $('div.input').show();\n",
       " } else {\n",
       " $('div.input').hide();\n",
       " }\n",
       " code_show = !code_show\n",
       "} \n",
       "$( document ).ready(code_toggle);\n",
       "</script>\n",
       "The raw code for\n",
       "this IPython notebook is by default hidden for easier reading.\n",
       "To toggle on/off the raw code, click <a href=\"javascript:code_toggle()\">here</a>."
      ],
      "text/plain": [
       "<IPython.core.display.HTML object>"
      ]
     },
     "execution_count": 27,
     "metadata": {},
     "output_type": "execute_result"
    }
   ],
   "source": [
    "from IPython.display import HTML\n",
    "\n",
    "HTML('''<script>\n",
    "code_show=false; \n",
    "function code_toggle() {\n",
    " if (code_show){\n",
    " $('div.input').show();\n",
    " } else {\n",
    " $('div.input').hide();\n",
    " }\n",
    " code_show = !code_show\n",
    "} \n",
    "$( document ).ready(code_toggle);\n",
    "</script>\n",
    "The raw code for\n",
    "this IPython notebook is by default hidden for easier reading.\n",
    "To toggle on/off the raw code, click <a href=\"javascript:code_toggle()\">here</a>.''')"
   ]
  },
  {
   "cell_type": "code",
   "execution_count": 28,
   "metadata": {
    "collapsed": false
   },
   "outputs": [],
   "source": [
    "import os\n",
    "import sys\n",
    "import numpy as np\n",
    "import pandas as pd\n",
    "import math\n",
    "import subprocess\n",
    "import matplotlib as mpl\n",
    "mpl.use('Agg')\n",
    "import matplotlib.pyplot as plt\n",
    "from matplotlib.legend_handler import HandlerLine2D\n",
    "import itertools\n",
    "from susipop import filter\n",
    "from susipop import reader\n",
    "from IPython.html.widgets import FloatProgress\n",
    "from IPython.display import display\n",
    "from ipywidgets import interactive, interact_manual\n",
    "import ipywidgets as widgets\n",
    "import scipy.stats as ss\n",
    "\n",
    "%matplotlib notebook\n",
    "\n",
    "import plotly\n",
    "import susipop as sp\n",
    "import pylab\n",
    "\n",
    "import warnings\n",
    "warnings.filterwarnings('ignore')"
   ]
  },
  {
   "cell_type": "code",
   "execution_count": 29,
   "metadata": {
    "collapsed": true
   },
   "outputs": [],
   "source": [
    "def get_folder_list():\n",
    "    f = next(os.walk('.'))[1]\n",
    "    return f\n",
    "def sort_data(x,y):\n",
    "    lists = sorted(itertools.izip(*[x, y]))\n",
    "    new_x, new_y = list(itertools.izip(*lists))\n",
    "    return new_x, new_y"
   ]
  },
  {
   "cell_type": "markdown",
   "metadata": {},
   "source": [
    "# Plot Normal Stress Differences as a function of phi"
   ]
  },
  {
   "cell_type": "code",
   "execution_count": 30,
   "metadata": {
    "collapsed": false,
    "scrolled": true
   },
   "outputs": [],
   "source": [
    "# #phivals = [float(i)/100.0 for i in sys.argv[1:]]\n",
    "\n",
    "# phivals = [40.,45.,50.,54.,55.,56.,58.]\n",
    "# #solid part\n",
    "# ialist = ['tot','hd','lub','rep','fric']\n",
    "\n",
    "# folders = get_folder_list()\n",
    "# db = dict()\n",
    "# for p in phivals:\n",
    "#     db[p] = dict()\n",
    "#     db[p]['shearrate'] = []\n",
    "#     db[p]['shearstress'] = []\n",
    "#     for ia in ialist:\n",
    "#         db[p][ia] = [[],[],[]]\n",
    "\n",
    "# def num_points(max_strain):\n",
    "#     if max_strain < 1.0: return -5\n",
    "#     elif (max_strain >= 1.0) and (max_strain <=2.0): return -10\n",
    "\n",
    "# f = FloatProgress(min=0, max=100)\n",
    "# display(f)\n",
    "# L = widgets.Label(\"\")\n",
    "# display(L)\n",
    "# progress = widgets.Label(\"\")\n",
    "# display(progress)\n",
    "\n",
    "\n",
    "# for num,folder in enumerate(np.sort(folders[:])):\n",
    "#     try:\n",
    "#         path = folder+\"/result/part_stress_norm_tot_t.dat\"\n",
    "#         if os.path.exists(path):\n",
    "#             exp = reader.DataSet(folder, fluid=False, particles=True)\n",
    "#             exp.load_state(exp.tlist[-1])\n",
    "            \n",
    "#             max_strain = float(exp.t)*exp.shearrate*exp.dt\n",
    "#             n = len(exp.tlist[1:])\n",
    "#             if max_strain >= 2:\n",
    "#                 n_last_strain = int(float(n)/max_strain*(max_strain - 1))\n",
    "#             else:\n",
    "#                 n_last_strain = -10\n",
    "                \n",
    "#             f.value = float(num+1)/len(folders[:])*100\n",
    "#             L.value = folder\n",
    "#             p = round(exp.phi*100)\n",
    "#             db_visc = pd.read_csv(folder+\"/result/nu_t.dat\")\n",
    "#             visc = db_visc[db_visc.columns[2]]\n",
    "#             time = db_visc[db_visc.columns[0]]\n",
    "#             shearstress = np.multiply(visc,exp.shearrate)\n",
    "            \n",
    "#             type = 'mean'  #type is 'mean' or 'all' or 'half' or 'laststrain'\n",
    "            \n",
    "#             if type == 'mean':\n",
    "#                 shearstress = np.mean(shearstress[n_last_strain:])\n",
    "#                 db[p]['shearstress'].append(shearstress)\n",
    "#                 db[p]['shearrate'].append(exp.shearrate)\n",
    "#             if type == 'last':\n",
    "#                 shearstress = shearstress[-20:]\n",
    "#                 db[p]['shearstress'].extend(list(shearstress))\n",
    "#                 db[p]['shearrate'].extend(list(np.ones_like(shearstress)*exp.shearrate))\n",
    "#             if type == 'half':\n",
    "#                 shearstress = shearstress[int(len(shearstress)/2):]\n",
    "#                 db[p]['shearstress'].extend(list(shearstress))\n",
    "#                 db[p]['shearrate'].extend(list(np.ones_like(shearstress)*exp.shearrate))\n",
    "#             if type == 'laststrain':\n",
    "#                 shearstress = shearstress[n_last_strain:]\n",
    "#                 db[p]['shearstress'].extend(list(shearstress))\n",
    "#                 db[p]['shearrate'].extend(list(np.ones_like(shearstress)*exp.shearrate))\n",
    "                \n",
    "#             for ia in ialist:\n",
    "#                 path = folder+\"/result/part_stress_norm_\"+ia+\"_t.dat\"\n",
    "#                 df = pd.read_csv(path)\n",
    "#                 s11 = np.asarray(df[df.columns[2]])\n",
    "#                 s22 = np.asarray(df[df.columns[3]])\n",
    "#                 s33 = np.asarray(df[df.columns[4]])\n",
    "#                 if type == 'last':\n",
    "#                     s11 = s11[-20:]\n",
    "#                     s22 = s22[-20:]\n",
    "#                     s33 = s33[-20:]\n",
    "#                     db[p][ia][0].extend(s11)\n",
    "#                     db[p][ia][1].extend(s22)\n",
    "#                     db[p][ia][2].extend(s33)\n",
    "#                 if type == 'laststrain':\n",
    "#                     s11 = s11[n_last_strain:]\n",
    "#                     s22 = s22[n_last_strain:]\n",
    "#                     s33 = s33[n_last_strain:]\n",
    "#                     db[p][ia][0].extend(s11)\n",
    "#                     db[p][ia][1].extend(s22)\n",
    "#                     db[p][ia][2].extend(s33)                \n",
    "#                 if type == 'half':\n",
    "#                     s11 = s11[int(len(s11)/2):]\n",
    "#                     s22 = s22[int(len(s22)/2):]\n",
    "#                     s33 = s33[int(len(s33)/2):]\n",
    "#                     db[p][ia][0].extend(s11)\n",
    "#                     db[p][ia][1].extend(s22)\n",
    "#                     db[p][ia][2].extend(s33)                    \n",
    "#                 if type == 'mean':\n",
    "#                     s11 = np.mean(s11[n_last_strain:])\n",
    "#                     s22 = np.mean(s22[n_last_strain:])\n",
    "#                     s33 = np.mean(s33[n_last_strain:])\n",
    "#                     db[p][ia][0].append(s11)\n",
    "#                     db[p][ia][1].append(s22)\n",
    "#                     db[p][ia][2].append(s33)\n",
    "\n",
    "#     except Exception as e: \n",
    "#         print folder,str(e)\n",
    "#         continue\n",
    "\n",
    "# for p in db.keys():\n",
    "#     for q in db[p].keys():\n",
    "#         db[p][q] = np.asarray(db[p][q])"
   ]
  },
  {
   "cell_type": "code",
   "execution_count": 31,
   "metadata": {
    "collapsed": false
   },
   "outputs": [],
   "source": [
    "# philist = [ 54.,55., 56.]\n",
    "# # for ia in ialist:\n",
    "# for ia in ['tot']:\n",
    "# #     plt.figure(figsize=[10,15])\n",
    "#     plt.subplot(211)\n",
    "#     plt.title(\"First Normal Stress Difference \"+ia)\n",
    "#     for p in philist:\n",
    "#         plt.xscale('log')\n",
    "        \n",
    "# #         plt.yscale('symlog')\n",
    "#         try:\n",
    "# #             X,Y = sort_data(db[p]['shearstress'], np.asarray(db[p][ia][0])- np.asarray(db[p][ia][2]))\n",
    "#             X,Y = sort_data(db[p]['shearrate'], np.asarray(db[p][ia][0])- np.asarray(db[p][ia][2]))\n",
    "# #             X,Y = sort_data(db[p]['shearstress'], np.asarray(db[p][ia][0])- np.asarray(db[p][ia][2]))\n",
    "# #             plt.plot(X,Y,'--o',label=\"phi=\"+str(p))\n",
    "#             plt.legend(loc=\"top left\")\n",
    "# #             plt.xlabel('Shear Stress (Pa)')\n",
    "#             plt.xlabel('Shear rate (1/s)')\n",
    "#             plt.ylabel('First Normal Stress Difference Sxx-Szz (Pa)')\n",
    "#             plt.show()\n",
    "#         except Exception as e: \n",
    "#             print str(e)\n",
    "#             continue\n",
    "#     plt.subplot(212)\n",
    "#     plt.title(\"Second Normal Stress Difference \"+ia)\n",
    "#     for p in philist:\n",
    "#         plt.xscale('log')\n",
    "# #         plt.yscale('symlog')\n",
    "#         try:\n",
    "# #             X, Y = sort_data(db[p]['shearstress'], np.asarray(db[p][ia][2])- np.asarray(db[p][ia][1]))\n",
    "#             X, Y = sort_data(db[p]['shearrate'], np.asarray(db[p][ia][2])- np.asarray(db[p][ia][1]))\n",
    "# #             plt.plot(X, Y ,'--o',label=\"phi=\"+str(p))\n",
    "#             plt.legend(loc=\"upper left\")\n",
    "# #             plt.xlabel('Shear Stress (Pa)')\n",
    "#             plt.xlabel('Shear rate (1/s)')\n",
    "#             plt.ylabel('Second Normal Stress Difference Szz - Syy (Pa)')\n",
    "# #             plt.show()\n",
    "#         except Exception as e: \n",
    "#             print str(e)\n",
    "#             continue\n",
    "#     plt.savefig('NormalStressDifference_vs_shearrate_'+ia+'.png')"
   ]
  },
  {
   "cell_type": "code",
   "execution_count": 32,
   "metadata": {
    "collapsed": false,
    "scrolled": false
   },
   "outputs": [],
   "source": [
    "#phivals = [float(i)/100.0 for i in sys.argv[1:]]\n",
    "f1 = FloatProgress(min=0, max=100)\n",
    "display(f1)\n",
    "L1 = widgets.Label(\"\")\n",
    "display(L1)\n",
    "progress1 = widgets.Label(\"\")\n",
    "display(progress1)\n",
    "\n",
    "\n",
    "def num_points(max_strain):\n",
    "    if max_strain < 1.0: return -5\n",
    "    elif (max_strain >= 1.0) and (max_strain <=2.0): return -10\n",
    "\n",
    "db = dict()\n",
    "def analyze_normal_stress_difference_vs_phi(type): \n",
    "    phivals = [40.,45.,50.,54.,55.,56.]\n",
    "    #solid part\n",
    "    ialist = ['tot','hd','lub','rep','fric']\n",
    "\n",
    "    folders = get_folder_list()\n",
    "#     db = dict()\n",
    "    for p in phivals:\n",
    "        db[p] = dict()\n",
    "        db[p]['shearrate'] = []\n",
    "        db[p]['shearstress'] = []\n",
    "        for ia in ialist:\n",
    "            db[p][ia] = [[],[],[]]\n",
    "\n",
    "\n",
    "\n",
    "\n",
    "    for num,folder in enumerate(np.sort(folders[:])):\n",
    "        try:\n",
    "            path = folder+\"/result/part_stress_norm_\"+ia+\"_t.dat\"\n",
    "            if os.path.exists(path):\n",
    "                exp = reader.DataSet(folder, fluid=False, particles=True)\n",
    "                exp.load_state(exp.tlist[-1])\n",
    "\n",
    "                max_strain = float(exp.t)*exp.shearrate*exp.dt\n",
    "                n = len(exp.tlist[1:])\n",
    "                if max_strain >= 2:\n",
    "                    n_last_strain = int(float(n)/max_strain*(max_strain - 1))\n",
    "                    n_first_strain = int(float(n)/max_strain)\n",
    "                else:\n",
    "                    n_last_strain = -10\n",
    "                    n_first_strain = -10\n",
    "\n",
    "                f1.value = float(num+1)/len(folders[:])*100\n",
    "                L1.value = folder\n",
    "                p = round(exp.phi*100)\n",
    "                db_visc = pd.read_csv(folder+\"/result/nu_t.dat\")\n",
    "                visc = db_visc[db_visc.columns[2]]\n",
    "                time = db_visc[db_visc.columns[0]]\n",
    "                shearstress = np.multiply(visc,exp.shearrate)\n",
    "\n",
    "                #type is 'mean' or 'all' or 'half' or 'laststrain'\n",
    "\n",
    "                if type == 'mean':\n",
    "                    shearstress = np.mean(shearstress[n_first_strain:])\n",
    "                    db[p]['shearstress'].append(shearstress)\n",
    "                    db[p]['shearrate'].append(exp.shearrate)\n",
    "                if type == 'last':\n",
    "                    shearstress = shearstress[-20:]\n",
    "                    db[p]['shearstress'].extend(list(shearstress))\n",
    "                    db[p]['shearrate'].extend(list(np.ones_like(shearstress)*exp.shearrate))\n",
    "                if type == 'half':\n",
    "                    shearstress = shearstress[int(len(shearstress)/2):]\n",
    "                    db[p]['shearstress'].extend(list(shearstress))\n",
    "                    db[p]['shearrate'].extend(list(np.ones_like(shearstress)*exp.shearrate))\n",
    "                if type == 'laststrain':\n",
    "                    shearstress = shearstress[n_last_strain:]\n",
    "                    db[p]['shearstress'].extend(list(shearstress))\n",
    "                    db[p]['shearrate'].extend(list(np.ones_like(shearstress)*exp.shearrate))\n",
    "\n",
    "                for ia in ialist:\n",
    "                    path = folder+\"/result/part_stress_norm_\"+ia+\"_t.dat\"\n",
    "                    df = pd.read_csv(path)\n",
    "                    s11 = np.asarray(df[df.columns[2]])\n",
    "                    s22 = np.asarray(df[df.columns[3]])\n",
    "                    s33 = np.asarray(df[df.columns[4]])\n",
    "                    if type == 'last20':\n",
    "                        s11 = s11[-20:]\n",
    "                        s22 = s22[-20:]\n",
    "                        s33 = s33[-20:]\n",
    "                        db[p][ia][0].extend(s11)\n",
    "                        db[p][ia][1].extend(s22)\n",
    "                        db[p][ia][2].extend(s33)\n",
    "                    if type == 'laststrain':\n",
    "                        s11 = s11[n_last_strain:]\n",
    "                        s22 = s22[n_last_strain:]\n",
    "                        s33 = s33[n_last_strain:]\n",
    "                        db[p][ia][0].extend(s11)\n",
    "                        db[p][ia][1].extend(s22)\n",
    "                        db[p][ia][2].extend(s33)                \n",
    "                    if type == 'half':\n",
    "                        s11 = s11[int(len(s11)/2):]\n",
    "                        s22 = s22[int(len(s22)/2):]\n",
    "                        s33 = s33[int(len(s33)/2):]\n",
    "                        db[p][ia][0].extend(s11)\n",
    "                        db[p][ia][1].extend(s22)\n",
    "                        db[p][ia][2].extend(s33)                    \n",
    "                    if type == 'mean':\n",
    "                        s11 = np.mean(s11[n_first_strain:])\n",
    "                        s22 = np.mean(s22[n_first_strain:])\n",
    "                        s33 = np.mean(s33[n_first_strain:])\n",
    "                        db[p][ia][0].append(s11)\n",
    "                        db[p][ia][1].append(s22)\n",
    "                        db[p][ia][2].append(s33)\n",
    "\n",
    "        except Exception as e: \n",
    "            print folder,str(e)\n",
    "            continue\n",
    "\n",
    "\n",
    "    \n",
    "\n",
    "\n",
    "\n",
    "def plot_N1N2(analyze,phivals,ia,type,x_axis):\n",
    "    if analyze == \"True\":\n",
    "        analyze_normal_stress_difference_vs_phi(type)\n",
    "    for p in db.keys():\n",
    "        for q in db[p].keys():\n",
    "            db[p][q] = np.asarray(db[p][q])\n",
    "    \n",
    "    philist = phivals\n",
    "    # for ia in ialist:\n",
    "\n",
    "    plt.figure(figsize=[10,5])\n",
    "    plt.subplot(121)\n",
    "    plt.title(\"First Normal Stress Difference \"+ia)\n",
    "    for p in philist:\n",
    "        plt.xscale('log')\n",
    "\n",
    "#         plt.yscale('symlog')\n",
    "        try:\n",
    "            if x_axis == 'shearstress':\n",
    "                X,Y = sort_data(db[p]['shearstress'], np.asarray(db[p][ia][0])- np.asarray(db[p][ia][2]))\n",
    "                plt.plot(X,Y,'--.',label=\"phi=\"+str(p))\n",
    "                plt.xlabel('Shear Stress (Pa)')\n",
    "            if x_axis == 'shearrate':\n",
    "                X,Y = sort_data(db[p]['shearrate'], np.asarray(db[p][ia][0])- np.asarray(db[p][ia][2]))\n",
    "                plt.plot(X,Y,'--.',label=\"phi=\"+str(p))\n",
    "                plt.xlabel('Shear rate (1/s)')\n",
    "            plt.legend(loc=\"top left\")\n",
    "            plt.ylabel('First Normal Stress Difference Sxx-Szz (Pa)')\n",
    "            plt.show()\n",
    "        except Exception as e: \n",
    "            print str(e)\n",
    "            continue\n",
    "    plt.subplot(122)\n",
    "    plt.title(\"Second Normal Stress Difference \"+ia)\n",
    "    for p in philist:\n",
    "        plt.xscale('log')\n",
    "#         plt.yscale('symlog')\n",
    "        try:\n",
    "#             X, Y = sort_data(db[p]['shearstress'], np.asarray(db[p][ia][2])- np.asarray(db[p][ia][1]))\n",
    "#             X, Y = sort_data(db[p]['shearrate'], np.asarray(db[p][ia][2])- np.asarray(db[p][ia][1]))\n",
    "#             plt.plot(X, Y ,'--o',label=\"phi=\"+str(p))\n",
    "            if x_axis == 'shearstress':\n",
    "                X,Y = sort_data(db[p]['shearstress'], np.asarray(db[p][ia][2])- np.asarray(db[p][ia][1]))\n",
    "                plt.plot(X,Y,'--.',label=\"phi=\"+str(p))\n",
    "                plt.xlabel('Shear Stress (Pa)')\n",
    "            if x_axis == 'shearrate':\n",
    "                X,Y = sort_data(db[p]['shearrate'], np.asarray(db[p][ia][2])- np.asarray(db[p][ia][1]))\n",
    "                plt.plot(X,Y,'--.',label=\"phi=\"+str(p))\n",
    "                plt.xlabel('Shear rate (1/s)')\n",
    "            plt.legend(loc=\"upper left\")\n",
    "#             plt.xlabel('Shear Stress (Pa)')\n",
    "#             plt.xlabel('Shear rate (1/s)')\n",
    "            plt.ylabel('Second Normal Stress Difference Szz - Syy (Pa)')\n",
    "            plt.show()\n",
    "        except Exception as e: \n",
    "            print str(e)\n",
    "            continue\n",
    "    plt.savefig('NormalStressDifference_vs_shearrate_'+ia+'.png')\n",
    "\n",
    "\n",
    "v1 = interactive(plot_N1N2, \\\n",
    "                 analyze = widgets.ToggleButtons(options = [\"True\",\"False\"]),\\\n",
    "                 type = widgets.ToggleButtons(options = ['mean', 'last20','half','laststrain'], value = 'mean'),\\\n",
    "                phivals = widgets.SelectMultiple(options=[40,45,50,54,55,56,58],value=[56],disabled=False), \\\n",
    "                ia= widgets.ToggleButtons(options=['tot','lub','hd','rep','fric'], value= 'tot'),\\\n",
    "                x_axis = widgets.ToggleButtons(options = ['shearstress','shearrate']),\\\n",
    "                __manual=True)\n",
    "\n",
    "display(v1)"
   ]
  },
  {
   "cell_type": "markdown",
   "metadata": {},
   "source": [
    "# Plotting the timeseries of viscosity, N, N2, Sxx, Syy, Szz "
   ]
  },
  {
   "cell_type": "code",
   "execution_count": 33,
   "metadata": {
    "collapsed": false
   },
   "outputs": [
    {
     "name": "stdout",
     "output_type": "stream",
     "text": [
      "no data found, check location\n"
     ]
    }
   ],
   "source": [
    "# max_n1 = widgets.Label(\"N1 Values are normalized by absolute value of :\")\n",
    "# display(max_n1)\n",
    "# max_n2 = widgets.Label(\"N2 Values are normalized by absolute value of :\")\n",
    "# display(max_n2)\n",
    "def plot_timeseries(phival,ydval,ia,viscosity,n1,n2,s1,s2,s3):\n",
    "\n",
    "    plt.style.use('seaborn-deep')\n",
    "    path = \"rhor1_phi\"+str(phival)+\"_yd\"+str(float(ydval))\n",
    "\n",
    "    nufile = path+\"/result/nu_t.dat\" \n",
    "    stressfile = path+\"/result/part_stress_norm_\"+ia+\"_t.dat\" \n",
    "    \n",
    "    \n",
    "    \n",
    "    if os.path.exists(nufile):\n",
    "        plt.figure(figsize=[12,5])\n",
    "\n",
    "        minshear = 100000\n",
    "        db = pd.read_csv(nufile)\n",
    "        nu = db[db.columns[2]]\n",
    "        nu_rel = db[db.columns[4]]\n",
    "        t = db[db.columns[1]]\n",
    "        shearrate = float(nufile.split(\"_\")[2].split(\"/\")[0].split(\"yd\")[1])\n",
    "\n",
    "        shear = t*shearrate\n",
    "        if minshear > shear.max(): minshear = shear.max()\n",
    "#         nu = nu_rel*1.002e-3\n",
    "        nu = nu_rel\n",
    "#         plt.plot(shear,np.log10(nu_rel),label=\"log10 Viscosity\")\n",
    "        if viscosity:\n",
    "            print \"Viscosity Values are normalized by absolute value of :\" + str(max(abs(nu[:len(shear)])))\n",
    "            plt.plot(shear[:len(shear)],nu[:len(shear)]/max(abs(nu[:len(shear)])),label=\"Normalized Viscosity\")\n",
    "        \n",
    "        df = pd.read_csv(stressfile)\n",
    "        s11 = np.asarray(df[df.columns[2]])\n",
    "        s22 = np.asarray(df[df.columns[3]])\n",
    "        s33 = np.asarray(df[df.columns[4]])\n",
    "        N1 = s11 - s33\n",
    "        N2 = s33 - s22\n",
    "\n",
    "        if s1: \n",
    "            print \"Sxx Values are normalized by absolute value of :\" + str(max(abs(s11[:len(shear)])))\n",
    "            plt.plot(shear,s11[:len(shear)]/max(abs(s11[:len(shear)])),label = \"Sxx\")\n",
    "        if s2: \n",
    "            print \"Syy Values are normalized by absolute value of :\" + str(max(abs(s22[:len(shear)])))\n",
    "            plt.plot(shear,s22[:len(shear)][:len(shear)]/max(abs(s22[:len(shear)])),label = \"Syy\")\n",
    "        if s3: \n",
    "            print \"Szz Values are normalized by absolute value of :\" + str(max(abs(s33[:len(shear)])))\n",
    "            plt.plot(shear,s33[:len(shear)]/max(abs(s33[:len(shear)])),label = \"Szz\")\n",
    "            \n",
    "        if n1:\n",
    "#             max_n1.value = \"N1 Values are normalized by absolute value of :\" + str(max(abs(N1[:len(shear)])))\n",
    "            print \"N1 Values are normalized by absolute value of :\" + str(max(abs(N1[:len(shear)])))\n",
    "            plt.plot(shear,N1[:len(shear)]/max(abs(N1[:len(shear)])),label=\"normalized N1\")\n",
    "            idx_min = np.where(N1 == N1.min())[0]\n",
    "            idx_max = np.where(N1 == N1.max())[0]\n",
    "            print \"min and max N1 at timesteps :\",idx_min, idx_max, \" or\", idx_min - len(N1)-2, idx_max- len(N1)-2, len(N1)\n",
    "        if n2:\n",
    "#             max_n2.value = \"N2 Values are normalized by absolute value of :\" + str(max(abs(N2[:len(shear)])))\n",
    "            print \"N2 Values are normalized by absolute value of :\" + str(max(abs(N2[:len(shear)])))\n",
    "            plt.plot(shear,N2[:len(shear)]/max(abs(N2[:len(shear)])),label=\"normalized N2\")\n",
    "        \n",
    "        plt.legend(loc=\"best\")\n",
    "        plt.title(path)\n",
    "#         plt.yscale(\"symlog\")\n",
    "        plt.xlabel(\"strain\")\n",
    "#         plt.ylabel(\" viscosity Pa.s\")\n",
    "        plt.axhline(0,color = 'k',ls = '--')\n",
    "    #     plt.xlim([0,minshear])\n",
    "        name = \"comparison_viscosity_\" + str(phival)+ '_'+str(ydval)\n",
    "    #     plt.savefig(name)\n",
    "    else:\n",
    "        print \"no data found, check location\"\n",
    "v = interactive(plot_timeseries, \\\n",
    "                phival = widgets.ToggleButtons(options=[40,45,50,54,55,56,58],value=56,disabled=False), \\\n",
    "                ydval= widgets.ToggleButtons(options=[1,10,11,11.5,12,12.5,13,14,15,16,18,20,30,50,70,100,200,300,1000], value= 10),\\\n",
    "                ia = widgets.ToggleButtons(options = ['tot','fric','rep','lub'],value = 'tot'),\\\n",
    "                viscosity=widgets.widget_bool.Checkbox(value = True, description = \"Viscosity\"),\\\n",
    "                n1=widgets.widget_bool.Checkbox(value = True, description = \"N1\"),\\\n",
    "                n2=widgets.widget_bool.Checkbox(value = False,description = \"N2\"),\\\n",
    "                 s1=widgets.widget_bool.Checkbox(value = False,description = \"Sxx\"),\\\n",
    "                 s2=widgets.widget_bool.Checkbox(value = False,description = \"Syy\"),\\\n",
    "                 s3=widgets.widget_bool.Checkbox(value = False,description = \"Szz\"),\\\n",
    "                \n",
    "                __manual=False)\n",
    "\n",
    "# display(v)\n",
    "display(widgets.VBox(v.children[:3]))\n",
    "display(widgets.HBox(v.children[3:9]))\n"
   ]
  },
  {
   "cell_type": "code",
   "execution_count": null,
   "metadata": {
    "collapsed": false
   },
   "outputs": [],
   "source": []
  },
  {
   "cell_type": "code",
   "execution_count": null,
   "metadata": {
    "collapsed": false
   },
   "outputs": [],
   "source": []
  }
 ],
 "metadata": {
  "anaconda-cloud": {},
  "kernelspec": {
   "display_name": "Python [default]",
   "language": "python",
   "name": "python2"
  },
  "language_info": {
   "codemirror_mode": {
    "name": "ipython",
    "version": 2
   },
   "file_extension": ".py",
   "mimetype": "text/x-python",
   "name": "python",
   "nbconvert_exporter": "python",
   "pygments_lexer": "ipython2",
   "version": "2.7.13"
  },
  "widgets": {
   "state": {
    "082a9a71843141898f224bfb797471e3": {
     "views": [
      {
       "cell_index": 6
      }
     ]
    },
    "21ac3e4c3301444fadc34c8014cc75b8": {
     "views": [
      {
       "cell_index": 6
      }
     ]
    },
    "25a8e1f1c78a486a9af65f0a2dd326b0": {
     "views": [
      {
       "cell_index": 6
      }
     ]
    },
    "36a44564758f410bbc1a7ebc4408c2a2": {
     "views": [
      {
       "cell_index": 6
      }
     ]
    },
    "54b8774294d949cc8a030a128a027cfe": {
     "views": [
      {
       "cell_index": 6
      }
     ]
    },
    "560c29460a9d4edab074836192698adc": {
     "views": [
      {
       "cell_index": 6
      }
     ]
    },
    "5e2d914b62944b569501d791ee2b9bb2": {
     "views": [
      {
       "cell_index": 8
      }
     ]
    },
    "5ffe1c14dfc2461ab083f3c74f3aee78": {
     "views": [
      {
       "cell_index": 6
      }
     ]
    },
    "9c71a783ae4f458c83c9012f6b9de642": {
     "views": [
      {
       "cell_index": 8
      }
     ]
    },
    "b57a800d11644413b91cdc6fa3ddbfef": {
     "views": [
      {
       "cell_index": 8
      }
     ]
    },
    "c87fb2c582264a6b985fb62e04d949e0": {
     "views": [
      {
       "cell_index": 6
      }
     ]
    },
    "c9cd91e2beea4484940716754c344860": {
     "views": [
      {
       "cell_index": 8
      }
     ]
    }
   },
   "version": "1.2.0"
  }
 },
 "nbformat": 4,
 "nbformat_minor": 2
}
