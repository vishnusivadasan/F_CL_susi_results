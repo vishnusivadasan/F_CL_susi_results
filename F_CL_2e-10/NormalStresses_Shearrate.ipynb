{
 "cells": [
  {
   "cell_type": "code",
   "execution_count": 2,
   "metadata": {
    "collapsed": false
   },
   "outputs": [
    {
     "data": {
      "text/html": [
       "<script>\n",
       "code_show=false; \n",
       "function code_toggle() {\n",
       " if (code_show){\n",
       " $('div.input').show();\n",
       " } else {\n",
       " $('div.input').hide();\n",
       " }\n",
       " code_show = !code_show\n",
       "} \n",
       "$( document ).ready(code_toggle);\n",
       "</script>\n",
       "The raw code for this IPython notebook is by default hidden for easier reading.\n",
       "To toggle on/off the raw code, click <a href=\"javascript:code_toggle()\">here</a>."
      ],
      "text/plain": [
       "<IPython.core.display.HTML object>"
      ]
     },
     "execution_count": 2,
     "metadata": {},
     "output_type": "execute_result"
    }
   ],
   "source": [
    "from IPython.display import HTML\n",
    "\n",
    "HTML('''<script>\n",
    "code_show=false; \n",
    "function code_toggle() {\n",
    " if (code_show){\n",
    " $('div.input').show();\n",
    " } else {\n",
    " $('div.input').hide();\n",
    " }\n",
    " code_show = !code_show\n",
    "} \n",
    "$( document ).ready(code_toggle);\n",
    "</script>\n",
    "The raw code for this IPython notebook is by default hidden for easier reading.\n",
    "To toggle on/off the raw code, click <a href=\"javascript:code_toggle()\">here</a>.''')"
   ]
  },
  {
   "cell_type": "code",
   "execution_count": 57,
   "metadata": {
    "collapsed": false
   },
   "outputs": [],
   "source": [
    "import os\n",
    "import sys\n",
    "import numpy as np\n",
    "import pandas as pd\n",
    "import math\n",
    "import subprocess\n",
    "import matplotlib as mpl\n",
    "mpl.use('Agg')\n",
    "import matplotlib.pyplot as plt\n",
    "from matplotlib.legend_handler import HandlerLine2D\n",
    "import itertools\n",
    "from susipop import filter\n",
    "from susipop import reader\n",
    "from IPython.html.widgets import FloatProgress\n",
    "from IPython.display import display\n",
    "from ipywidgets import interactive, interact_manual\n",
    "import ipywidgets as widgets\n",
    "import scipy.stats as ss\n",
    "\n",
    "%matplotlib notebook\n",
    "\n",
    "import plotly\n",
    "import susipop as sp\n",
    "import pylab\n",
    "\n",
    "import warnings\n",
    "warnings.filterwarnings('ignore')"
   ]
  },
  {
   "cell_type": "code",
   "execution_count": 4,
   "metadata": {
    "collapsed": true
   },
   "outputs": [],
   "source": [
    "def get_folder_list():\n",
    "    f = next(os.walk('.'))[1]\n",
    "    return f\n",
    "def sort_data(x,y):\n",
    "    lists = sorted(itertools.izip(*[x, y]))\n",
    "    new_x, new_y = list(itertools.izip(*lists))\n",
    "    return new_x, new_y"
   ]
  },
  {
   "cell_type": "markdown",
   "metadata": {},
   "source": [
    "# Plot Normal Stress Differences as a function of phi"
   ]
  },
  {
   "cell_type": "code",
   "execution_count": 26,
   "metadata": {
    "collapsed": false,
    "scrolled": false
   },
   "outputs": [
    {
     "name": "stdout",
     "output_type": "stream",
     "text": [
      "rhor1_phi45_yd70.0 File rhor1_phi45_yd70.0/result/nu_t.dat does not exist\n"
     ]
    }
   ],
   "source": [
    "#phivals = [float(i)/100.0 for i in sys.argv[1:]]\n",
    "\n",
    "phivals = [40.,45.,50.,54.,55.,56.,58.]\n",
    "#solid part\n",
    "ialist = ['tot','hd','lub','rep','fric']\n",
    "\n",
    "folders = get_folder_list()\n",
    "db = dict()\n",
    "for p in phivals:\n",
    "    db[p] = dict()\n",
    "    db[p]['shearrate'] = []\n",
    "    db[p]['shearstress'] = []\n",
    "    for ia in ialist:\n",
    "        db[p][ia] = [[],[],[]]\n",
    "\n",
    "def num_points(max_strain):\n",
    "    if max_strain < 1.0: return -5\n",
    "    elif (max_strain >= 1.0) and (max_strain <=2.0): return -10\n",
    "\n",
    "f = FloatProgress(min=0, max=100)\n",
    "display(f)\n",
    "L = widgets.Label(\"\")\n",
    "display(L)\n",
    "progress = widgets.Label(\"\")\n",
    "display(progress)\n",
    "\n",
    "\n",
    "for num,folder in enumerate(np.sort(folders[:])):\n",
    "    try:\n",
    "        path = folder+\"/result/part_stress_norm_tot_t.dat\"\n",
    "        if os.path.exists(path):\n",
    "            exp = reader.DataSet(folder, fluid=False, particles=True)\n",
    "            exp.load_state(exp.tlist[-1])\n",
    "            \n",
    "            max_strain = float(exp.t)*exp.shearrate*exp.dt\n",
    "            n = len(exp.tlist[1:])\n",
    "            if max_strain >= 2:\n",
    "                n_last_strain = int(float(n)/max_strain*(max_strain - 1))\n",
    "            else:\n",
    "                n_last_strain = -10\n",
    "                \n",
    "            f.value = float(num+1)/len(folders[:])*100\n",
    "            L.value = folder\n",
    "            p = round(exp.phi*100)\n",
    "            db_visc = pd.read_csv(folder+\"/result/nu_t.dat\")\n",
    "            visc = db_visc[db_visc.columns[2]]\n",
    "            time = db_visc[db_visc.columns[0]]\n",
    "            shearstress = np.multiply(visc,exp.shearrate)\n",
    "            \n",
    "            type = 'mean'  #type is 'mean' or 'all' or 'half' or 'laststrain'\n",
    "            \n",
    "            if type == 'mean':\n",
    "                shearstress = np.mean(shearstress[n_last_strain:])\n",
    "                db[p]['shearstress'].append(shearstress)\n",
    "                db[p]['shearrate'].append(exp.shearrate)\n",
    "            if type == 'last':\n",
    "                shearstress = shearstress[-20:]\n",
    "                db[p]['shearstress'].extend(list(shearstress))\n",
    "                db[p]['shearrate'].extend(list(np.ones_like(shearstress)*exp.shearrate))\n",
    "            if type == 'half':\n",
    "                shearstress = shearstress[int(len(shearstress)/2):]\n",
    "                db[p]['shearstress'].extend(list(shearstress))\n",
    "                db[p]['shearrate'].extend(list(np.ones_like(shearstress)*exp.shearrate))\n",
    "            if type == 'laststrain':\n",
    "                shearstress = shearstress[n_last_strain:]\n",
    "                db[p]['shearstress'].extend(list(shearstress))\n",
    "                db[p]['shearrate'].extend(list(np.ones_like(shearstress)*exp.shearrate))\n",
    "                \n",
    "            for ia in ialist:\n",
    "                path = folder+\"/result/part_stress_norm_\"+ia+\"_t.dat\"\n",
    "                df = pd.read_csv(path)\n",
    "                s11 = np.asarray(df[df.columns[2]])\n",
    "                s22 = np.asarray(df[df.columns[3]])\n",
    "                s33 = np.asarray(df[df.columns[4]])\n",
    "                if type == 'last':\n",
    "                    s11 = s11[-20:]\n",
    "                    s22 = s22[-20:]\n",
    "                    s33 = s33[-20:]\n",
    "                    db[p][ia][0].extend(s11)\n",
    "                    db[p][ia][1].extend(s22)\n",
    "                    db[p][ia][2].extend(s33)\n",
    "                if type == 'laststrain':\n",
    "                    s11 = s11[n_last_strain:]\n",
    "                    s22 = s22[n_last_strain:]\n",
    "                    s33 = s33[n_last_strain:]\n",
    "                    db[p][ia][0].extend(s11)\n",
    "                    db[p][ia][1].extend(s22)\n",
    "                    db[p][ia][2].extend(s33)                \n",
    "                if type == 'half':\n",
    "                    s11 = s11[int(len(s11)/2):]\n",
    "                    s22 = s22[int(len(s22)/2):]\n",
    "                    s33 = s33[int(len(s33)/2):]\n",
    "                    db[p][ia][0].extend(s11)\n",
    "                    db[p][ia][1].extend(s22)\n",
    "                    db[p][ia][2].extend(s33)                    \n",
    "                if type == 'mean':\n",
    "                    s11 = np.mean(s11[n_last_strain:])\n",
    "                    s22 = np.mean(s22[n_last_strain:])\n",
    "                    s33 = np.mean(s33[n_last_strain:])\n",
    "                    db[p][ia][0].append(s11)\n",
    "                    db[p][ia][1].append(s22)\n",
    "                    db[p][ia][2].append(s33)\n",
    "\n",
    "    except Exception as e: \n",
    "        print folder,str(e)\n",
    "        continue\n",
    "\n",
    "for p in db.keys():\n",
    "    for q in db[p].keys():\n",
    "        db[p][q] = np.asarray(db[p][q])"
   ]
  },
  {
   "cell_type": "code",
   "execution_count": 28,
   "metadata": {
    "collapsed": false,
    "scrolled": false
   },
   "outputs": [],
   "source": [
    "philist = [ 54.,55., 56.]\n",
    "# for ia in ialist:\n",
    "for ia in ['tot']:\n",
    "#     plt.figure(figsize=[10,15])\n",
    "    plt.subplot(211)\n",
    "    plt.title(\"First Normal Stress Difference \"+ia)\n",
    "    for p in philist:\n",
    "        plt.xscale('log')\n",
    "        \n",
    "#         plt.yscale('symlog')\n",
    "        try:\n",
    "#             X,Y = sort_data(db[p]['shearstress'], np.asarray(db[p][ia][0])- np.asarray(db[p][ia][2]))\n",
    "            X,Y = sort_data(db[p]['shearrate'], np.asarray(db[p][ia][0])- np.asarray(db[p][ia][2]))\n",
    "#             X,Y = sort_data(db[p]['shearstress'], np.asarray(db[p][ia][0])- np.asarray(db[p][ia][2]))\n",
    "#             plt.plot(X,Y,'--o',label=\"phi=\"+str(p))\n",
    "            plt.legend(loc=\"top left\")\n",
    "#             plt.xlabel('Shear Stress (Pa)')\n",
    "            plt.xlabel('Shear rate (1/s)')\n",
    "            plt.ylabel('First Normal Stress Difference Sxx-Szz (Pa)')\n",
    "            plt.show()\n",
    "        except Exception as e: \n",
    "            print str(e)\n",
    "            continue\n",
    "    plt.subplot(212)\n",
    "    plt.title(\"Second Normal Stress Difference \"+ia)\n",
    "    for p in philist:\n",
    "        plt.xscale('log')\n",
    "#         plt.yscale('symlog')\n",
    "        try:\n",
    "#             X, Y = sort_data(db[p]['shearstress'], np.asarray(db[p][ia][2])- np.asarray(db[p][ia][1]))\n",
    "            X, Y = sort_data(db[p]['shearrate'], np.asarray(db[p][ia][2])- np.asarray(db[p][ia][1]))\n",
    "#             plt.plot(X, Y ,'--o',label=\"phi=\"+str(p))\n",
    "            plt.legend(loc=\"upper left\")\n",
    "#             plt.xlabel('Shear Stress (Pa)')\n",
    "            plt.xlabel('Shear rate (1/s)')\n",
    "            plt.ylabel('Second Normal Stress Difference Szz - Syy (Pa)')\n",
    "            plt.show()\n",
    "        except Exception as e: \n",
    "            print str(e)\n",
    "            continue\n",
    "    plt.savefig('NormalStressDifference_vs_shearrate_'+ia+'.png')"
   ]
  },
  {
   "cell_type": "code",
   "execution_count": 37,
   "metadata": {
    "collapsed": false,
    "scrolled": false
   },
   "outputs": [
    {
     "name": "stdout",
     "output_type": "stream",
     "text": [
      "rhor1_phi45_yd70.0 File rhor1_phi45_yd70.0/result/nu_t.dat does not exist\n",
      "rhor1_phi58_yd1.0 File rhor1_phi58_yd1.0/result/nu_t.dat does not exist\n",
      "rhor1_phi58_yd10.0 File rhor1_phi58_yd10.0/result/nu_t.dat does not exist\n",
      "rhor1_phi58_yd12.0 File rhor1_phi58_yd12.0/result/nu_t.dat does not exist\n",
      "rhor1_phi58_yd20.0 File rhor1_phi58_yd20.0/result/nu_t.dat does not exist\n"
     ]
    },
    {
     "data": {
      "application/javascript": [
       "/* Put everything inside the global mpl namespace */\n",
       "window.mpl = {};\n",
       "\n",
       "mpl.get_websocket_type = function() {\n",
       "    if (typeof(WebSocket) !== 'undefined') {\n",
       "        return WebSocket;\n",
       "    } else if (typeof(MozWebSocket) !== 'undefined') {\n",
       "        return MozWebSocket;\n",
       "    } else {\n",
       "        alert('Your browser does not have WebSocket support.' +\n",
       "              'Please try Chrome, Safari or Firefox ≥ 6. ' +\n",
       "              'Firefox 4 and 5 are also supported but you ' +\n",
       "              'have to enable WebSockets in about:config.');\n",
       "    };\n",
       "}\n",
       "\n",
       "mpl.figure = function(figure_id, websocket, ondownload, parent_element) {\n",
       "    this.id = figure_id;\n",
       "\n",
       "    this.ws = websocket;\n",
       "\n",
       "    this.supports_binary = (this.ws.binaryType != undefined);\n",
       "\n",
       "    if (!this.supports_binary) {\n",
       "        var warnings = document.getElementById(\"mpl-warnings\");\n",
       "        if (warnings) {\n",
       "            warnings.style.display = 'block';\n",
       "            warnings.textContent = (\n",
       "                \"This browser does not support binary websocket messages. \" +\n",
       "                    \"Performance may be slow.\");\n",
       "        }\n",
       "    }\n",
       "\n",
       "    this.imageObj = new Image();\n",
       "\n",
       "    this.context = undefined;\n",
       "    this.message = undefined;\n",
       "    this.canvas = undefined;\n",
       "    this.rubberband_canvas = undefined;\n",
       "    this.rubberband_context = undefined;\n",
       "    this.format_dropdown = undefined;\n",
       "\n",
       "    this.image_mode = 'full';\n",
       "\n",
       "    this.root = $('<div/>');\n",
       "    this._root_extra_style(this.root)\n",
       "    this.root.attr('style', 'display: inline-block');\n",
       "\n",
       "    $(parent_element).append(this.root);\n",
       "\n",
       "    this._init_header(this);\n",
       "    this._init_canvas(this);\n",
       "    this._init_toolbar(this);\n",
       "\n",
       "    var fig = this;\n",
       "\n",
       "    this.waiting = false;\n",
       "\n",
       "    this.ws.onopen =  function () {\n",
       "            fig.send_message(\"supports_binary\", {value: fig.supports_binary});\n",
       "            fig.send_message(\"send_image_mode\", {});\n",
       "            fig.send_message(\"refresh\", {});\n",
       "        }\n",
       "\n",
       "    this.imageObj.onload = function() {\n",
       "            if (fig.image_mode == 'full') {\n",
       "                // Full images could contain transparency (where diff images\n",
       "                // almost always do), so we need to clear the canvas so that\n",
       "                // there is no ghosting.\n",
       "                fig.context.clearRect(0, 0, fig.canvas.width, fig.canvas.height);\n",
       "            }\n",
       "            fig.context.drawImage(fig.imageObj, 0, 0);\n",
       "        };\n",
       "\n",
       "    this.imageObj.onunload = function() {\n",
       "        this.ws.close();\n",
       "    }\n",
       "\n",
       "    this.ws.onmessage = this._make_on_message_function(this);\n",
       "\n",
       "    this.ondownload = ondownload;\n",
       "}\n",
       "\n",
       "mpl.figure.prototype._init_header = function() {\n",
       "    var titlebar = $(\n",
       "        '<div class=\"ui-dialog-titlebar ui-widget-header ui-corner-all ' +\n",
       "        'ui-helper-clearfix\"/>');\n",
       "    var titletext = $(\n",
       "        '<div class=\"ui-dialog-title\" style=\"width: 100%; ' +\n",
       "        'text-align: center; padding: 3px;\"/>');\n",
       "    titlebar.append(titletext)\n",
       "    this.root.append(titlebar);\n",
       "    this.header = titletext[0];\n",
       "}\n",
       "\n",
       "\n",
       "\n",
       "mpl.figure.prototype._canvas_extra_style = function(canvas_div) {\n",
       "\n",
       "}\n",
       "\n",
       "\n",
       "mpl.figure.prototype._root_extra_style = function(canvas_div) {\n",
       "\n",
       "}\n",
       "\n",
       "mpl.figure.prototype._init_canvas = function() {\n",
       "    var fig = this;\n",
       "\n",
       "    var canvas_div = $('<div/>');\n",
       "\n",
       "    canvas_div.attr('style', 'position: relative; clear: both; outline: 0');\n",
       "\n",
       "    function canvas_keyboard_event(event) {\n",
       "        return fig.key_event(event, event['data']);\n",
       "    }\n",
       "\n",
       "    canvas_div.keydown('key_press', canvas_keyboard_event);\n",
       "    canvas_div.keyup('key_release', canvas_keyboard_event);\n",
       "    this.canvas_div = canvas_div\n",
       "    this._canvas_extra_style(canvas_div)\n",
       "    this.root.append(canvas_div);\n",
       "\n",
       "    var canvas = $('<canvas/>');\n",
       "    canvas.addClass('mpl-canvas');\n",
       "    canvas.attr('style', \"left: 0; top: 0; z-index: 0; outline: 0\")\n",
       "\n",
       "    this.canvas = canvas[0];\n",
       "    this.context = canvas[0].getContext(\"2d\");\n",
       "\n",
       "    var rubberband = $('<canvas/>');\n",
       "    rubberband.attr('style', \"position: absolute; left: 0; top: 0; z-index: 1;\")\n",
       "\n",
       "    var pass_mouse_events = true;\n",
       "\n",
       "    canvas_div.resizable({\n",
       "        start: function(event, ui) {\n",
       "            pass_mouse_events = false;\n",
       "        },\n",
       "        resize: function(event, ui) {\n",
       "            fig.request_resize(ui.size.width, ui.size.height);\n",
       "        },\n",
       "        stop: function(event, ui) {\n",
       "            pass_mouse_events = true;\n",
       "            fig.request_resize(ui.size.width, ui.size.height);\n",
       "        },\n",
       "    });\n",
       "\n",
       "    function mouse_event_fn(event) {\n",
       "        if (pass_mouse_events)\n",
       "            return fig.mouse_event(event, event['data']);\n",
       "    }\n",
       "\n",
       "    rubberband.mousedown('button_press', mouse_event_fn);\n",
       "    rubberband.mouseup('button_release', mouse_event_fn);\n",
       "    // Throttle sequential mouse events to 1 every 20ms.\n",
       "    rubberband.mousemove('motion_notify', mouse_event_fn);\n",
       "\n",
       "    rubberband.mouseenter('figure_enter', mouse_event_fn);\n",
       "    rubberband.mouseleave('figure_leave', mouse_event_fn);\n",
       "\n",
       "    canvas_div.on(\"wheel\", function (event) {\n",
       "        event = event.originalEvent;\n",
       "        event['data'] = 'scroll'\n",
       "        if (event.deltaY < 0) {\n",
       "            event.step = 1;\n",
       "        } else {\n",
       "            event.step = -1;\n",
       "        }\n",
       "        mouse_event_fn(event);\n",
       "    });\n",
       "\n",
       "    canvas_div.append(canvas);\n",
       "    canvas_div.append(rubberband);\n",
       "\n",
       "    this.rubberband = rubberband;\n",
       "    this.rubberband_canvas = rubberband[0];\n",
       "    this.rubberband_context = rubberband[0].getContext(\"2d\");\n",
       "    this.rubberband_context.strokeStyle = \"#000000\";\n",
       "\n",
       "    this._resize_canvas = function(width, height) {\n",
       "        // Keep the size of the canvas, canvas container, and rubber band\n",
       "        // canvas in synch.\n",
       "        canvas_div.css('width', width)\n",
       "        canvas_div.css('height', height)\n",
       "\n",
       "        canvas.attr('width', width);\n",
       "        canvas.attr('height', height);\n",
       "\n",
       "        rubberband.attr('width', width);\n",
       "        rubberband.attr('height', height);\n",
       "    }\n",
       "\n",
       "    // Set the figure to an initial 600x600px, this will subsequently be updated\n",
       "    // upon first draw.\n",
       "    this._resize_canvas(600, 600);\n",
       "\n",
       "    // Disable right mouse context menu.\n",
       "    $(this.rubberband_canvas).bind(\"contextmenu\",function(e){\n",
       "        return false;\n",
       "    });\n",
       "\n",
       "    function set_focus () {\n",
       "        canvas.focus();\n",
       "        canvas_div.focus();\n",
       "    }\n",
       "\n",
       "    window.setTimeout(set_focus, 100);\n",
       "}\n",
       "\n",
       "mpl.figure.prototype._init_toolbar = function() {\n",
       "    var fig = this;\n",
       "\n",
       "    var nav_element = $('<div/>')\n",
       "    nav_element.attr('style', 'width: 100%');\n",
       "    this.root.append(nav_element);\n",
       "\n",
       "    // Define a callback function for later on.\n",
       "    function toolbar_event(event) {\n",
       "        return fig.toolbar_button_onclick(event['data']);\n",
       "    }\n",
       "    function toolbar_mouse_event(event) {\n",
       "        return fig.toolbar_button_onmouseover(event['data']);\n",
       "    }\n",
       "\n",
       "    for(var toolbar_ind in mpl.toolbar_items) {\n",
       "        var name = mpl.toolbar_items[toolbar_ind][0];\n",
       "        var tooltip = mpl.toolbar_items[toolbar_ind][1];\n",
       "        var image = mpl.toolbar_items[toolbar_ind][2];\n",
       "        var method_name = mpl.toolbar_items[toolbar_ind][3];\n",
       "\n",
       "        if (!name) {\n",
       "            // put a spacer in here.\n",
       "            continue;\n",
       "        }\n",
       "        var button = $('<button/>');\n",
       "        button.addClass('ui-button ui-widget ui-state-default ui-corner-all ' +\n",
       "                        'ui-button-icon-only');\n",
       "        button.attr('role', 'button');\n",
       "        button.attr('aria-disabled', 'false');\n",
       "        button.click(method_name, toolbar_event);\n",
       "        button.mouseover(tooltip, toolbar_mouse_event);\n",
       "\n",
       "        var icon_img = $('<span/>');\n",
       "        icon_img.addClass('ui-button-icon-primary ui-icon');\n",
       "        icon_img.addClass(image);\n",
       "        icon_img.addClass('ui-corner-all');\n",
       "\n",
       "        var tooltip_span = $('<span/>');\n",
       "        tooltip_span.addClass('ui-button-text');\n",
       "        tooltip_span.html(tooltip);\n",
       "\n",
       "        button.append(icon_img);\n",
       "        button.append(tooltip_span);\n",
       "\n",
       "        nav_element.append(button);\n",
       "    }\n",
       "\n",
       "    var fmt_picker_span = $('<span/>');\n",
       "\n",
       "    var fmt_picker = $('<select/>');\n",
       "    fmt_picker.addClass('mpl-toolbar-option ui-widget ui-widget-content');\n",
       "    fmt_picker_span.append(fmt_picker);\n",
       "    nav_element.append(fmt_picker_span);\n",
       "    this.format_dropdown = fmt_picker[0];\n",
       "\n",
       "    for (var ind in mpl.extensions) {\n",
       "        var fmt = mpl.extensions[ind];\n",
       "        var option = $(\n",
       "            '<option/>', {selected: fmt === mpl.default_extension}).html(fmt);\n",
       "        fmt_picker.append(option)\n",
       "    }\n",
       "\n",
       "    // Add hover states to the ui-buttons\n",
       "    $( \".ui-button\" ).hover(\n",
       "        function() { $(this).addClass(\"ui-state-hover\");},\n",
       "        function() { $(this).removeClass(\"ui-state-hover\");}\n",
       "    );\n",
       "\n",
       "    var status_bar = $('<span class=\"mpl-message\"/>');\n",
       "    nav_element.append(status_bar);\n",
       "    this.message = status_bar[0];\n",
       "}\n",
       "\n",
       "mpl.figure.prototype.request_resize = function(x_pixels, y_pixels) {\n",
       "    // Request matplotlib to resize the figure. Matplotlib will then trigger a resize in the client,\n",
       "    // which will in turn request a refresh of the image.\n",
       "    this.send_message('resize', {'width': x_pixels, 'height': y_pixels});\n",
       "}\n",
       "\n",
       "mpl.figure.prototype.send_message = function(type, properties) {\n",
       "    properties['type'] = type;\n",
       "    properties['figure_id'] = this.id;\n",
       "    this.ws.send(JSON.stringify(properties));\n",
       "}\n",
       "\n",
       "mpl.figure.prototype.send_draw_message = function() {\n",
       "    if (!this.waiting) {\n",
       "        this.waiting = true;\n",
       "        this.ws.send(JSON.stringify({type: \"draw\", figure_id: this.id}));\n",
       "    }\n",
       "}\n",
       "\n",
       "\n",
       "mpl.figure.prototype.handle_save = function(fig, msg) {\n",
       "    var format_dropdown = fig.format_dropdown;\n",
       "    var format = format_dropdown.options[format_dropdown.selectedIndex].value;\n",
       "    fig.ondownload(fig, format);\n",
       "}\n",
       "\n",
       "\n",
       "mpl.figure.prototype.handle_resize = function(fig, msg) {\n",
       "    var size = msg['size'];\n",
       "    if (size[0] != fig.canvas.width || size[1] != fig.canvas.height) {\n",
       "        fig._resize_canvas(size[0], size[1]);\n",
       "        fig.send_message(\"refresh\", {});\n",
       "    };\n",
       "}\n",
       "\n",
       "mpl.figure.prototype.handle_rubberband = function(fig, msg) {\n",
       "    var x0 = msg['x0'];\n",
       "    var y0 = fig.canvas.height - msg['y0'];\n",
       "    var x1 = msg['x1'];\n",
       "    var y1 = fig.canvas.height - msg['y1'];\n",
       "    x0 = Math.floor(x0) + 0.5;\n",
       "    y0 = Math.floor(y0) + 0.5;\n",
       "    x1 = Math.floor(x1) + 0.5;\n",
       "    y1 = Math.floor(y1) + 0.5;\n",
       "    var min_x = Math.min(x0, x1);\n",
       "    var min_y = Math.min(y0, y1);\n",
       "    var width = Math.abs(x1 - x0);\n",
       "    var height = Math.abs(y1 - y0);\n",
       "\n",
       "    fig.rubberband_context.clearRect(\n",
       "        0, 0, fig.canvas.width, fig.canvas.height);\n",
       "\n",
       "    fig.rubberband_context.strokeRect(min_x, min_y, width, height);\n",
       "}\n",
       "\n",
       "mpl.figure.prototype.handle_figure_label = function(fig, msg) {\n",
       "    // Updates the figure title.\n",
       "    fig.header.textContent = msg['label'];\n",
       "}\n",
       "\n",
       "mpl.figure.prototype.handle_cursor = function(fig, msg) {\n",
       "    var cursor = msg['cursor'];\n",
       "    switch(cursor)\n",
       "    {\n",
       "    case 0:\n",
       "        cursor = 'pointer';\n",
       "        break;\n",
       "    case 1:\n",
       "        cursor = 'default';\n",
       "        break;\n",
       "    case 2:\n",
       "        cursor = 'crosshair';\n",
       "        break;\n",
       "    case 3:\n",
       "        cursor = 'move';\n",
       "        break;\n",
       "    }\n",
       "    fig.rubberband_canvas.style.cursor = cursor;\n",
       "}\n",
       "\n",
       "mpl.figure.prototype.handle_message = function(fig, msg) {\n",
       "    fig.message.textContent = msg['message'];\n",
       "}\n",
       "\n",
       "mpl.figure.prototype.handle_draw = function(fig, msg) {\n",
       "    // Request the server to send over a new figure.\n",
       "    fig.send_draw_message();\n",
       "}\n",
       "\n",
       "mpl.figure.prototype.handle_image_mode = function(fig, msg) {\n",
       "    fig.image_mode = msg['mode'];\n",
       "}\n",
       "\n",
       "mpl.figure.prototype.updated_canvas_event = function() {\n",
       "    // Called whenever the canvas gets updated.\n",
       "    this.send_message(\"ack\", {});\n",
       "}\n",
       "\n",
       "// A function to construct a web socket function for onmessage handling.\n",
       "// Called in the figure constructor.\n",
       "mpl.figure.prototype._make_on_message_function = function(fig) {\n",
       "    return function socket_on_message(evt) {\n",
       "        if (evt.data instanceof Blob) {\n",
       "            /* FIXME: We get \"Resource interpreted as Image but\n",
       "             * transferred with MIME type text/plain:\" errors on\n",
       "             * Chrome.  But how to set the MIME type?  It doesn't seem\n",
       "             * to be part of the websocket stream */\n",
       "            evt.data.type = \"image/png\";\n",
       "\n",
       "            /* Free the memory for the previous frames */\n",
       "            if (fig.imageObj.src) {\n",
       "                (window.URL || window.webkitURL).revokeObjectURL(\n",
       "                    fig.imageObj.src);\n",
       "            }\n",
       "\n",
       "            fig.imageObj.src = (window.URL || window.webkitURL).createObjectURL(\n",
       "                evt.data);\n",
       "            fig.updated_canvas_event();\n",
       "            fig.waiting = false;\n",
       "            return;\n",
       "        }\n",
       "        else if (typeof evt.data === 'string' && evt.data.slice(0, 21) == \"data:image/png;base64\") {\n",
       "            fig.imageObj.src = evt.data;\n",
       "            fig.updated_canvas_event();\n",
       "            fig.waiting = false;\n",
       "            return;\n",
       "        }\n",
       "\n",
       "        var msg = JSON.parse(evt.data);\n",
       "        var msg_type = msg['type'];\n",
       "\n",
       "        // Call the  \"handle_{type}\" callback, which takes\n",
       "        // the figure and JSON message as its only arguments.\n",
       "        try {\n",
       "            var callback = fig[\"handle_\" + msg_type];\n",
       "        } catch (e) {\n",
       "            console.log(\"No handler for the '\" + msg_type + \"' message type: \", msg);\n",
       "            return;\n",
       "        }\n",
       "\n",
       "        if (callback) {\n",
       "            try {\n",
       "                // console.log(\"Handling '\" + msg_type + \"' message: \", msg);\n",
       "                callback(fig, msg);\n",
       "            } catch (e) {\n",
       "                console.log(\"Exception inside the 'handler_\" + msg_type + \"' callback:\", e, e.stack, msg);\n",
       "            }\n",
       "        }\n",
       "    };\n",
       "}\n",
       "\n",
       "// from http://stackoverflow.com/questions/1114465/getting-mouse-location-in-canvas\n",
       "mpl.findpos = function(e) {\n",
       "    //this section is from http://www.quirksmode.org/js/events_properties.html\n",
       "    var targ;\n",
       "    if (!e)\n",
       "        e = window.event;\n",
       "    if (e.target)\n",
       "        targ = e.target;\n",
       "    else if (e.srcElement)\n",
       "        targ = e.srcElement;\n",
       "    if (targ.nodeType == 3) // defeat Safari bug\n",
       "        targ = targ.parentNode;\n",
       "\n",
       "    // jQuery normalizes the pageX and pageY\n",
       "    // pageX,Y are the mouse positions relative to the document\n",
       "    // offset() returns the position of the element relative to the document\n",
       "    var x = e.pageX - $(targ).offset().left;\n",
       "    var y = e.pageY - $(targ).offset().top;\n",
       "\n",
       "    return {\"x\": x, \"y\": y};\n",
       "};\n",
       "\n",
       "/*\n",
       " * return a copy of an object with only non-object keys\n",
       " * we need this to avoid circular references\n",
       " * http://stackoverflow.com/a/24161582/3208463\n",
       " */\n",
       "function simpleKeys (original) {\n",
       "  return Object.keys(original).reduce(function (obj, key) {\n",
       "    if (typeof original[key] !== 'object')\n",
       "        obj[key] = original[key]\n",
       "    return obj;\n",
       "  }, {});\n",
       "}\n",
       "\n",
       "mpl.figure.prototype.mouse_event = function(event, name) {\n",
       "    var canvas_pos = mpl.findpos(event)\n",
       "\n",
       "    if (name === 'button_press')\n",
       "    {\n",
       "        this.canvas.focus();\n",
       "        this.canvas_div.focus();\n",
       "    }\n",
       "\n",
       "    var x = canvas_pos.x;\n",
       "    var y = canvas_pos.y;\n",
       "\n",
       "    this.send_message(name, {x: x, y: y, button: event.button,\n",
       "                             step: event.step,\n",
       "                             guiEvent: simpleKeys(event)});\n",
       "\n",
       "    /* This prevents the web browser from automatically changing to\n",
       "     * the text insertion cursor when the button is pressed.  We want\n",
       "     * to control all of the cursor setting manually through the\n",
       "     * 'cursor' event from matplotlib */\n",
       "    event.preventDefault();\n",
       "    return false;\n",
       "}\n",
       "\n",
       "mpl.figure.prototype._key_event_extra = function(event, name) {\n",
       "    // Handle any extra behaviour associated with a key event\n",
       "}\n",
       "\n",
       "mpl.figure.prototype.key_event = function(event, name) {\n",
       "\n",
       "    // Prevent repeat events\n",
       "    if (name == 'key_press')\n",
       "    {\n",
       "        if (event.which === this._key)\n",
       "            return;\n",
       "        else\n",
       "            this._key = event.which;\n",
       "    }\n",
       "    if (name == 'key_release')\n",
       "        this._key = null;\n",
       "\n",
       "    var value = '';\n",
       "    if (event.ctrlKey && event.which != 17)\n",
       "        value += \"ctrl+\";\n",
       "    if (event.altKey && event.which != 18)\n",
       "        value += \"alt+\";\n",
       "    if (event.shiftKey && event.which != 16)\n",
       "        value += \"shift+\";\n",
       "\n",
       "    value += 'k';\n",
       "    value += event.which.toString();\n",
       "\n",
       "    this._key_event_extra(event, name);\n",
       "\n",
       "    this.send_message(name, {key: value,\n",
       "                             guiEvent: simpleKeys(event)});\n",
       "    return false;\n",
       "}\n",
       "\n",
       "mpl.figure.prototype.toolbar_button_onclick = function(name) {\n",
       "    if (name == 'download') {\n",
       "        this.handle_save(this, null);\n",
       "    } else {\n",
       "        this.send_message(\"toolbar_button\", {name: name});\n",
       "    }\n",
       "};\n",
       "\n",
       "mpl.figure.prototype.toolbar_button_onmouseover = function(tooltip) {\n",
       "    this.message.textContent = tooltip;\n",
       "};\n",
       "mpl.toolbar_items = [[\"Home\", \"Reset original view\", \"fa fa-home icon-home\", \"home\"], [\"Back\", \"Back to  previous view\", \"fa fa-arrow-left icon-arrow-left\", \"back\"], [\"Forward\", \"Forward to next view\", \"fa fa-arrow-right icon-arrow-right\", \"forward\"], [\"\", \"\", \"\", \"\"], [\"Pan\", \"Pan axes with left mouse, zoom with right\", \"fa fa-arrows icon-move\", \"pan\"], [\"Zoom\", \"Zoom to rectangle\", \"fa fa-square-o icon-check-empty\", \"zoom\"], [\"\", \"\", \"\", \"\"], [\"Download\", \"Download plot\", \"fa fa-floppy-o icon-save\", \"download\"]];\n",
       "\n",
       "mpl.extensions = [\"eps\", \"jpeg\", \"pdf\", \"png\", \"ps\", \"raw\", \"svg\", \"tif\"];\n",
       "\n",
       "mpl.default_extension = \"png\";var comm_websocket_adapter = function(comm) {\n",
       "    // Create a \"websocket\"-like object which calls the given IPython comm\n",
       "    // object with the appropriate methods. Currently this is a non binary\n",
       "    // socket, so there is still some room for performance tuning.\n",
       "    var ws = {};\n",
       "\n",
       "    ws.close = function() {\n",
       "        comm.close()\n",
       "    };\n",
       "    ws.send = function(m) {\n",
       "        //console.log('sending', m);\n",
       "        comm.send(m);\n",
       "    };\n",
       "    // Register the callback with on_msg.\n",
       "    comm.on_msg(function(msg) {\n",
       "        //console.log('receiving', msg['content']['data'], msg);\n",
       "        // Pass the mpl event to the overriden (by mpl) onmessage function.\n",
       "        ws.onmessage(msg['content']['data'])\n",
       "    });\n",
       "    return ws;\n",
       "}\n",
       "\n",
       "mpl.mpl_figure_comm = function(comm, msg) {\n",
       "    // This is the function which gets called when the mpl process\n",
       "    // starts-up an IPython Comm through the \"matplotlib\" channel.\n",
       "\n",
       "    var id = msg.content.data.id;\n",
       "    // Get hold of the div created by the display call when the Comm\n",
       "    // socket was opened in Python.\n",
       "    var element = $(\"#\" + id);\n",
       "    var ws_proxy = comm_websocket_adapter(comm)\n",
       "\n",
       "    function ondownload(figure, format) {\n",
       "        window.open(figure.imageObj.src);\n",
       "    }\n",
       "\n",
       "    var fig = new mpl.figure(id, ws_proxy,\n",
       "                           ondownload,\n",
       "                           element.get(0));\n",
       "\n",
       "    // Call onopen now - mpl needs it, as it is assuming we've passed it a real\n",
       "    // web socket which is closed, not our websocket->open comm proxy.\n",
       "    ws_proxy.onopen();\n",
       "\n",
       "    fig.parent_element = element.get(0);\n",
       "    fig.cell_info = mpl.find_output_cell(\"<div id='\" + id + \"'></div>\");\n",
       "    if (!fig.cell_info) {\n",
       "        console.error(\"Failed to find cell for figure\", id, fig);\n",
       "        return;\n",
       "    }\n",
       "\n",
       "    var output_index = fig.cell_info[2]\n",
       "    var cell = fig.cell_info[0];\n",
       "\n",
       "};\n",
       "\n",
       "mpl.figure.prototype.handle_close = function(fig, msg) {\n",
       "    fig.root.unbind('remove')\n",
       "\n",
       "    // Update the output cell to use the data from the current canvas.\n",
       "    fig.push_to_output();\n",
       "    var dataURL = fig.canvas.toDataURL();\n",
       "    // Re-enable the keyboard manager in IPython - without this line, in FF,\n",
       "    // the notebook keyboard shortcuts fail.\n",
       "    IPython.keyboard_manager.enable()\n",
       "    $(fig.parent_element).html('<img src=\"' + dataURL + '\">');\n",
       "    fig.close_ws(fig, msg);\n",
       "}\n",
       "\n",
       "mpl.figure.prototype.close_ws = function(fig, msg){\n",
       "    fig.send_message('closing', msg);\n",
       "    // fig.ws.close()\n",
       "}\n",
       "\n",
       "mpl.figure.prototype.push_to_output = function(remove_interactive) {\n",
       "    // Turn the data on the canvas into data in the output cell.\n",
       "    var dataURL = this.canvas.toDataURL();\n",
       "    this.cell_info[1]['text/html'] = '<img src=\"' + dataURL + '\">';\n",
       "}\n",
       "\n",
       "mpl.figure.prototype.updated_canvas_event = function() {\n",
       "    // Tell IPython that the notebook contents must change.\n",
       "    IPython.notebook.set_dirty(true);\n",
       "    this.send_message(\"ack\", {});\n",
       "    var fig = this;\n",
       "    // Wait a second, then push the new image to the DOM so\n",
       "    // that it is saved nicely (might be nice to debounce this).\n",
       "    setTimeout(function () { fig.push_to_output() }, 1000);\n",
       "}\n",
       "\n",
       "mpl.figure.prototype._init_toolbar = function() {\n",
       "    var fig = this;\n",
       "\n",
       "    var nav_element = $('<div/>')\n",
       "    nav_element.attr('style', 'width: 100%');\n",
       "    this.root.append(nav_element);\n",
       "\n",
       "    // Define a callback function for later on.\n",
       "    function toolbar_event(event) {\n",
       "        return fig.toolbar_button_onclick(event['data']);\n",
       "    }\n",
       "    function toolbar_mouse_event(event) {\n",
       "        return fig.toolbar_button_onmouseover(event['data']);\n",
       "    }\n",
       "\n",
       "    for(var toolbar_ind in mpl.toolbar_items){\n",
       "        var name = mpl.toolbar_items[toolbar_ind][0];\n",
       "        var tooltip = mpl.toolbar_items[toolbar_ind][1];\n",
       "        var image = mpl.toolbar_items[toolbar_ind][2];\n",
       "        var method_name = mpl.toolbar_items[toolbar_ind][3];\n",
       "\n",
       "        if (!name) { continue; };\n",
       "\n",
       "        var button = $('<button class=\"btn btn-default\" href=\"#\" title=\"' + name + '\"><i class=\"fa ' + image + ' fa-lg\"></i></button>');\n",
       "        button.click(method_name, toolbar_event);\n",
       "        button.mouseover(tooltip, toolbar_mouse_event);\n",
       "        nav_element.append(button);\n",
       "    }\n",
       "\n",
       "    // Add the status bar.\n",
       "    var status_bar = $('<span class=\"mpl-message\" style=\"text-align:right; float: right;\"/>');\n",
       "    nav_element.append(status_bar);\n",
       "    this.message = status_bar[0];\n",
       "\n",
       "    // Add the close button to the window.\n",
       "    var buttongrp = $('<div class=\"btn-group inline pull-right\"></div>');\n",
       "    var button = $('<button class=\"btn btn-mini btn-primary\" href=\"#\" title=\"Stop Interaction\"><i class=\"fa fa-power-off icon-remove icon-large\"></i></button>');\n",
       "    button.click(function (evt) { fig.handle_close(fig, {}); } );\n",
       "    button.mouseover('Stop Interaction', toolbar_mouse_event);\n",
       "    buttongrp.append(button);\n",
       "    var titlebar = this.root.find($('.ui-dialog-titlebar'));\n",
       "    titlebar.prepend(buttongrp);\n",
       "}\n",
       "\n",
       "mpl.figure.prototype._root_extra_style = function(el){\n",
       "    var fig = this\n",
       "    el.on(\"remove\", function(){\n",
       "\tfig.close_ws(fig, {});\n",
       "    });\n",
       "}\n",
       "\n",
       "mpl.figure.prototype._canvas_extra_style = function(el){\n",
       "    // this is important to make the div 'focusable\n",
       "    el.attr('tabindex', 0)\n",
       "    // reach out to IPython and tell the keyboard manager to turn it's self\n",
       "    // off when our div gets focus\n",
       "\n",
       "    // location in version 3\n",
       "    if (IPython.notebook.keyboard_manager) {\n",
       "        IPython.notebook.keyboard_manager.register_events(el);\n",
       "    }\n",
       "    else {\n",
       "        // location in version 2\n",
       "        IPython.keyboard_manager.register_events(el);\n",
       "    }\n",
       "\n",
       "}\n",
       "\n",
       "mpl.figure.prototype._key_event_extra = function(event, name) {\n",
       "    var manager = IPython.notebook.keyboard_manager;\n",
       "    if (!manager)\n",
       "        manager = IPython.keyboard_manager;\n",
       "\n",
       "    // Check for shift+enter\n",
       "    if (event.shiftKey && event.which == 13) {\n",
       "        this.canvas_div.blur();\n",
       "        // select the cell after this one\n",
       "        var index = IPython.notebook.find_cell_index(this.cell_info[0]);\n",
       "        IPython.notebook.select(index + 1);\n",
       "    }\n",
       "}\n",
       "\n",
       "mpl.figure.prototype.handle_save = function(fig, msg) {\n",
       "    fig.ondownload(fig, null);\n",
       "}\n",
       "\n",
       "\n",
       "mpl.find_output_cell = function(html_output) {\n",
       "    // Return the cell and output element which can be found *uniquely* in the notebook.\n",
       "    // Note - this is a bit hacky, but it is done because the \"notebook_saving.Notebook\"\n",
       "    // IPython event is triggered only after the cells have been serialised, which for\n",
       "    // our purposes (turning an active figure into a static one), is too late.\n",
       "    var cells = IPython.notebook.get_cells();\n",
       "    var ncells = cells.length;\n",
       "    for (var i=0; i<ncells; i++) {\n",
       "        var cell = cells[i];\n",
       "        if (cell.cell_type === 'code'){\n",
       "            for (var j=0; j<cell.output_area.outputs.length; j++) {\n",
       "                var data = cell.output_area.outputs[j];\n",
       "                if (data.data) {\n",
       "                    // IPython >= 3 moved mimebundle to data attribute of output\n",
       "                    data = data.data;\n",
       "                }\n",
       "                if (data['text/html'] == html_output) {\n",
       "                    return [cell, data, j];\n",
       "                }\n",
       "            }\n",
       "        }\n",
       "    }\n",
       "}\n",
       "\n",
       "// Register the function which deals with the matplotlib target/channel.\n",
       "// The kernel may be null if the page has been refreshed.\n",
       "if (IPython.notebook.kernel != null) {\n",
       "    IPython.notebook.kernel.comm_manager.register_target('matplotlib', mpl.mpl_figure_comm);\n",
       "}\n"
      ],
      "text/plain": [
       "<IPython.core.display.Javascript object>"
      ]
     },
     "metadata": {},
     "output_type": "display_data"
    },
    {
     "data": {
      "text/html": [
       "<img src=\"data:image/png;base64,iVBORw0KGgoAAAANSUhEUgAABLAAAAJYCAYAAABy5h8aAAAgAElEQVR4XuydB7gUVbaFFzmDgiAiiBgQVMQIomNWUEQdMTsGzGPCnFBQkpgwYxazIyroUxAwgIGBQVEEFAVBJImSLzlcuO9bd+owZdO3u7q7qqtO9Trf53ujt+qcff59qveudUKVg4oIiIAIiIAIiIAIiIAIiIAIiIAIiIAIiIAIRJhAuQjbJtNEQAREQAREQAREQAREQAREQAREQAREQAREABKwNAhEQAREQAREQAREQAREQAREQAREQAREQAQiTUACVqTdI+NEQAREQAREQAREQAREQAREQAREQAREQAQkYGkMiIAIiIAIiIAIiIAIiIAIiIAIiIAIiIAIRJqABKxIu0fGiYAIiIAIiIAIiIAIiIAIiIAIiIAIiIAISMDSGBABERABERABERABERABERABERABERABEYg0AQlYkXaPjBMBERABERABERABERABERABERABERABEZCApTEgAiIgAiIgAiIgAiIgAiIgAiIgAiIgAiIQaQISsCLtHhknAiIgAiIgAiIgAiIgAiIgAiIgAiIgAiIgAUtjQAREQAREQAREQAREQAREQAREQAREQAREINIEJGBF2j0yTgREQAREQAREQAREQAREQAREQAREQAREQAKWxoAIiIAIiIAIiIAIiIAIiIAIiIAIiIAIiECkCUjAirR7ZJwIiIAIiIAIiIAIiIAIiIAIiIAIiIAIiIAELI0BERABERABERABERABERABERABERABERCBSBOQgBVp98g4ERABERABERABERABERABERABERABERABCVgaAyIgAiIgAiIgAiIgAiIgAiIgAiIgAiIgApEmIAEr0u6RcSIgAiIgAiIgAiIgAiIgAiIgAiIgAiIgAhKwNAZEQAREQAREQAREQAREQAREQAREQAREQAQiTUACVqTdI+NEQAREQAREQAREQAREQAREQAREQAREQAQkYGkMiIAIiIAIiIAIiIAIiIAIiIAIiIAIiIAIRJqABKxIu0fGiYAIiIAIiIAIiIAIiIAIiIAIiIAIiIAISMDSGBABERABERABERABERABERABERABERABEYg0AQlYkXaPjBMBERABERABERABERABERABERABERABEZCApTEgAiIgAiIgAiIgAiIgAiIgAiIgAiIgAiIQaQISsCLtHhknAiIgAiIgAiIgAiIgAiIgAiIgAiIgAiIgAUtjQAREQAREQAREQAREQAREQAREQAREQAREINIEJGBF2j0yTgREQAREQAREQAREQAREQAREQAREQAREQAKWxoAIiIAIiIAIiIAIiIAIiIAIiIAIiIAIiECkCUjAirR7ZJwIiIAIiIAIiIAIiIAIiIAIiIAIiIAIiIAELI0BERABERABERABERABERABERABERABERCBSBOQgBVp98g4ERABERABERABERABERABERABERABERABCVgaAyIgAiIgAiIgAiIgAiIgAiIgAiIgAiIgApEmIAEr0u6RcSIgAiIgAiIgAiIgAiIgAiIgAiIgAiIgAhKwNAZEQAREQAREQAREQAREQAREQAREQAREQAQiTUACVqTdI+NEQAREQAREQAREQAREQAREQAREQAREQAQkYGkMiIAIiIAIiIAIiIAIiIAIiIAIiIAIiIAIRJqABKxIu0fGiYAIiIAIiIAIiIAIiIAIiIAIiIAIiIAISMDSGBABERABERABERABERABERABERABERABEYg0AQlYkXaPjBMBERABERABERABERABERABERABERABEZCApTEgAiIgAiIgAiIgAiIgAiIgAiIgAiIgAiIQaQISsCLtHhknAiIgAiIgAiIgAiIgAiIgAiIgAiIgAiIgAUtjQASiReBCAC8lMakEwHEARgE4BsAnAP4GYKwP5t8A4FcA/+ehLtN2MYA9AMxKuOcPAB8AuNxDXVG6xCtT/mZeDOAKALsBqASAff4GwEMAvnM6dSqAnQA8FqVOprFlHoBGzjWbABQBmOGMuacBzE24/zUAbQE0d/33lgB47X4AagI4CcBHAC4DcCuApgCWA2hgERe/TD0KwOEAemZZYa73Z9msbhMBEfBI4O8AGE9bAKgFYCGAiQCeATDSYx1RvGwzgHsA9Eph3BEARgNg7GAcYOxwF8aXj534GcU+lmWT6deRAL5MYThzgy4A/glgdwCVXblBfwATnHtPAbALgEcsgvCbk8/QZHduQH9zbM9O6AtzWHJjP01hvsjc4AAnN2COxFyR+dTtTm6wGkBdi7j4ZSpZcXxlmxvker9f/VA9IpA3AhKw8oZaDYmAJwIUsAYCOB3A/IQ7pgJY5QT/PQH8CIABP9dCYYKCGBOJdMUIPRTU3gBwQcINCwB8aKmAxeT6sDSi4ONOgsqE9HMnmaOAw2RssJPMEQnFnUMTErh0bMP+O8fB985LSnkA2wLY3xGf6gE4F8BQl5HNnJe0ya7/Rob871c5AtjPAGoDYALMpJZje53zUhd2f/Pdfm8A3QBUyLLhXO/PslndJgIi4IFAVwCPAnjBmQxibN4VwIkApjsv6R6qieQlmQhYzA0GOfHC3ZlM8owoQaA4wIlDTiCkErAeBnAtAP5/Cjsbnckd5gacHBzgdIpxkHkUJ7hsKZyo/AnA3QCYG2zjyg3qAzgvYQKUOQDj/iRXBzmRRWGXk3+cHJsGoDqAOU6+9DyA9a5JQFvY+GEnufZwJkT5rGVacr0/0/Z0vQiETkACVugukAEi8BcCRsDiDB5XReVSOAO4wUMFmSSWRsDibPKxAPZxEhvTjJ8Cllf7PXQx7SXsVzoBqwaApc7MKWcMU5VMBKx89jOVzWWNA/abAmcrZ2aZK87KKkxGyfFS1wWGLV8ExqT1RPoLmEAzdnEm2KbSB8AdOQhYud5vEyvZKgK2EeAqFK7E5eRT3EomAhZzA64W5yrcKS4QmeQZ6fjlM2Z6EbCqOiuLnwRwcxrjMxGw8tnPVGZTwPoqyYQlBSjG+30dse73FJUwn6UAyFVqphi2zBE4IZhrsTU34OrG7s6qvWzymlzvz5W77heBvBOQgJV35GpQBFIS8CJgJdvuRmGAM36cAWYw40wXEynO+t3oCAo7O6tfuLSfWwG4moZJJbeNuX8LOINc1hZAI0ZwVpmJGLcwnubqUTIBi7bc7ywpZ0LGVT6cMaIoYgpfzrk6ZS9n2107ACMAnOGIHuzbAwD6OYkSV6NxqT7r6uskVqz7fQBXO/00dXPlCu3lbDgFPc4KUkjgy4YpXgSs7QGwfzelWf5P8eofADgTbbiSOVdqUfRjwsdZ2ZOdf3id2VLHpJ++4fbQKgC+BXBbwqqwgwGwT1wdxcSZNg0DcJ3TmR0cVkcD4MqpJc72BSaOy1KMvlQvGGyLWyDoN7bN8rqzhZBiq3tlnukzt5lyJj6RhXt80YdXOmxWOv67xZmhZRtcrUTfkwlnZzkuGzsJM1cgcvaXY6cTgO0AzHS2cnKllykU054D0MZ5FjgWuJLxbWdbI+s3hWId+9jZaYe8mLjTRnJk4ezyvU6fuU2IY5HPHFcellXI7M6EMUE+HLMsfAY5vjs4Kyw5O81n5l/O39Pdn6Jp/UkERCAPBPj79aoTf9I1x1jMuEWhhytVuLqF24cYv9yltfPbwpXBZrUK4y5/G0zhlkWuauHvEn+juBKYsZT2mEIBir+Ti5wtjvyt5HZ3rpTl75cpFAD4W8vV2HUAjAdwDYAfPG4h5EolxrVnndjF7XKmJIsvjInsC7dPMd4xNvO31L3dkv/O1SmcQOHKZ65s/tSJoRQ9GCPYt/ucYw246pdxhbGTv5uMe6yb29XY37Uum1g3t7nzOADmBlxNTHbstyleBCzGWbJlrH4whfPpO+Z47tyAq5O51Y4MyI/51AkAuB21omtLHccC+8PcgHGf/uNEmntS6CBnXDFec7wwNxju+JBmMYdhnGEeQps5Ice4Tn8vTmF3WQIWb+EkJvMw2sbYyfKyk+9xTJotmO4+83/zWUlkwfvMTgDGevqLWw8Zr7mKjbmBO4fhuGYs5ljnM9AEwIHOOOIYd+cG7ANXx3GllykcG8wVmG9y9RzHAtt612nLPQFMnhyHFKiZg9AOsqeN9D2L1+fajZrM+E8iH7NSu6HjM44J5hvMDehD7oBgSXd/CrfqTyJgLwEJWPb6TpbHk4ARsCj6uFdgMbiZpcXJxBa+ZFNIYPBlAsqkiMkszxugYMAgR7GpGgAmQlxF84rzvymofO0SJnhuB+9PVkzbXE7PxIVnPFEYYLLIkihg7egkhbSFwZ+JBrdaUFw5HsBnzn3mBZ1Cz4sA/uP0l/3iPxSfaBcTEiagPG+KiT9FLs5YveOIX0wemRDf5TKe9XFJPxNoChRkzCSbYhGTXRYvAhavIxcyZP1MDHmuR2Jh0vaUw4dJKH9nuW2OybERerg9lKITXzaYjFL8YPLJhJzCGrcqsp8U43gPz5ri/WY73r+dNrhNhUkTRS0mUizsKxNVvhCxHf5vvihxXKSaIU03Q07f8gWDfmNxn4HF8664rZXbBOgvCo0cs0yKyZqJIxNSzsib8UUfcizwb3whYVLIZJTjnkk6ixGwaDe34ZDLGme8UQBi8s1rOH64AqKj84JGFnyJYrnESVp5/5tO0smXIPNixBdJFopJtJ39oB18ieFWCSaOfDmiOMYzvOgf2sP/xnHNrZXcSksRjWMiWaFAxbHLsUdfcUyQD+siO74A8P/z5Yk+Y33nOMk8k/pU95fRpP6zCIhAHgkwlvHZZqzly/YvZbTN3zmKD4zB/J3kb+RZAC4CQMHHbNNmXOVvOethXOPvAmM84y5ftln4O0UR4wnnPv528XeG9VM4MIW5A2MXX345qcXfOv7+8jeUuYbJLcw2Zf6NE0wUAzgBwJjGeJLuDCwKMIw1FKbYDoUB5hYsifGFEy2MadxOxtUnK5x4196ZcDIilnlB5++vOzfgah7yof0mN2A8JCuKMxSsGBvecs7kYp8Ya9yrpylmsB6uHGZuwK1wnLxg3sQJEhYvAhavo30UGNgXxsHEMyN5DTnSV+RKsYRxgBMzjKtG6KGfGUcoojA3YD8oSNFO+pWTlIyBnFThhAcZ85w12s9+MHcie+aCzA0OcQQ9tk+fUuRh7GPuwtyA+QVjGe8tq6QSsHgP62IuRWGMxX0GlskNmOO480yKPpxMYg7JeM0+8L+xLdrDiVf2lfkp80jGaTJlfxg7WThuGYvJntfS/6yH+RZzAwqXJh8mK04+cqLPbOc0Z87yGeNkERmTJ8c6nwVzJhXPOv3CEVH5zDI3oMDLOimqMrfw+lwnMmZsZzsU7piXmGeRrCiaMTdgW8wNyJljlJOCzKeY26e6P4VL9ScRsJuABCy7/Sfr40egrEPcOdPDA6BZyhKwGHiZ3LpnVM2B2kysyyrphAv3fW4Ba5wTuJkUG1EjUcBiUsFEi4m3SZCYVDLZ4cu/scskzhRseCiou1BUoLjDWVIjGJkzpyhgUbQwhS8OTGg5a5escIaZ/7D995xZtrKYJrufyRNnvnh+BX8/mWzSBtpsRDzeV9YWQiNgcfXP2QkNMEGiYEJhzSQxtJWz80xwz3SELAqRXKlmxLdEO5ncMvlL5JjuaUk3DphQMSGkAGr6mHiIe7IVeEzymNC7zxfjjDOTPq5Kcq8m4DXkQDGI9xgBi7ZRxOQLlylM+rjKkCzcgitnVCk6MbFjomsELIqOfOEzhS8JTOb3dv4DE0I+LxxPZR24TNGXL2gcY3zhMoUvbkzU+dJZVinrDKvrnSSYoh2fKVP4csYXQSbvLDoDK90I1t9FIDwCjHGcSOFKIcYGxjcKBnyZd682pgjD3zfGKH7QwhS+qHPVCMUKFr5MUzDnbwBFjsTCMwr5e8t4xN84U/hyy/jDiQMjhjGe8CWdApfZosSVPoxDfGmm6MHYw9/ZxFVk/PgGBQWvh7hTxKDtjE8UI/h7yZIYX8wEhvtjMIx35qxPijws5nwfCg/coucu/I1kTCYjc5A4hSHmAZwUoRhmCieLuNWNcSRZMdvPKFwxNnBlG4tXAYuxkCIIfUb/U1hhbsCJFPdq77K2EBoBa0iSbagURyk2MfYa/7EN2krORnRjjOY1XDGXrHACkavPEzmWcfmW/5xOwGJOQpGFsZgl2SHuyfILdz5pzhcjPwpS9LuZXGKdzG85ccdJQYp6LEbAYj7hXi1FEZH9ZGx3TwRzJTbv56om3mvy7cSxTbGNzzPjPAvFJYqdfKY48ZiseH2uk91b1hlWXP1IgY+r85gHm2KOdKAIzBxHZ2ClG8H6e+wISMCKnUvVIcsJmBVYDLLuQ9yZeJgZ3bIELG6nMgHXYGDgZQLFGScGfb4gu5fQ87p0woUbaWLCwSXYDNwmwCYKGBR1OMPKFVfuwpdxJhh86edsmXk558t64hlLDNy8jsKOKfzKEZM3JpnuL/1RDOHsNGeuTGESy7b4YmG+cMOgz0SECQmL1xVYvJazcewP72HyTNGCv6VcNWO2fKUTsLhqhzPDptBeCiJMpDjDZwrr5aojJqhMuviSwWSSfecqL4o9iYf9MxGkMMOZQSb4ZiY53aORbhwwCWff+RLAkuwrhF4FLG7x4JjkDLF7VRj7y5c6JticKTcCFhNP3uMufOnic2HEU/M3bjvlS50R+fhyx/s5q87ZTFO4DJ91clUbC18++RKS6nBdjk0mt25baDOFNK584Ax84vNl2itLgOKLFce2+4tNvMfYzZdOisQSsNKNYP1dBMIlwN8CCkKMOZycMdu9+EJtXsY5CcMXUPc5gbyPQjbjF4UAihT8beO/U+RPVijSU6AyXyc21/A3k79BjIvccsXCl3XGC74Qm0LRh+IHJ1IoZHHygCuAE88j4u8hJwgyEbAo6HOlCMUwClr898T4wlUsFObMxJyxiy/j5MVYx1VE5uWcwkbiimfGN4p+jO2mUHjg7yX7zhhoCvnzd5qTMKbQNq5s4cSfOzfgBIaZGPMqYLFOxkeuTme9FFwYTyiMMU/ilnuWdAIW8whzLa/nKiyOBdpvtu/zv3PMcEUZcwkyYBxjbmBW2TE3SORFP1DAIxf+77KErsTxlk7AYl7J2Gcmg3IRsPhcMGflhKV7VZgRhSkkmXPGOK45YeV+lmi7OVLDrAgz/eHEJ8c6/c2+m3ybfjJfieS1nOji82jySOZ1HKdmMimRD//dy3PN8ZyslCVA8QgGjqPEnMTYzX4wv5OAVQZY/ef4EpCAFV/fqmd2EvB6BlbigeMUebg6hclTYuHZABSy+ALPWSqubKHwY5a4pxMu3PUlClhMzpgIcLaZCXCigMHEh7NznBV2F660ojDDZde8J9XLOfvGc4rcIhiTMAp6TAyZJJuSWA9XbnHWjok+kyoKEHw54LYs/m8zQ5uJgJXIly8C5gBSrvphSSVg0XfsCxNMU8xLgvscBPM3/jfabM5LooDE1UR8cWHSSP5M+DnrzEIhkwkNRVDO0JEvX17cq4+SPR3pxgF5cXk+X5xMH7NdgcXtpHwhSlbYXyall7kELK62SvzENGdWzWx3Yj2sgwknfW+EIG7fcCfEHCs8s8RwZULPlwWKkmUV9+x34jVMpmlPoqBY1tg0/50vYbSBL77uwu0VFJ3NyiwJWCkcoz+JQAQJcNKBYggnlnjOISdzGIMpMiXLv/kbwtjGeMcXYgpO/O1OVhhTGfsoGnCVrrvwN59x3qzMMmdg8XfXFP5WMT6bGMoVvnxRT6yPgg8FsUwFLPaPWwQpvvA3NTG+MH5zSxy3T7oL8xX2mZMbvMe8nPM3MvGAa/52kqVbBDP9oqjhPgsx8SWfkwacBOFqK15HZqyfE3I838jkG5kIWIl+ogjD3IC2m3Mu0wlYjOvmaAXWx5yCYyFZbsC/07c8K4uFggZzAXO2mhE3uKqLhUKXyQ1YL2M6V2q7hbFkYy2dgEX7OAbNartcBCwKipwMSlbM2Vncbmv6TmGPfXYXru7mc5TsGWMdJv8qK982Y8WcQ8WcjYJqqhXWXp5rs0owsW9lCVAUuilMMs9yF7Oq3UwcS8AqY8DoP8eXgASs+PpWPbOTQC4CVqLIk0iAAZiBj7N2fPmn4MSSTrhw15NsyTcPteRMEZfuM/njChVzCDxXYHFFDe9zFyYoXGGTuALLJAzua3MRsLj1gVsY2XdzbgLrZsLFrQp+CFisj7PdfNng2RvsbzoBK/GT3BSieB+3XHL2NdlvM5N9d6F4SIGOM/RchcQXDyZu7kJxjckehRoKQvRPWSXVOOB2Dm5PcG/Dy2UFlhEwmUi6Dxs2tvFcGIpNZgVWspcnrgjjmRcUY5Px4kw0/+5VwOLMLBNFvgCVVXhGB5NKnrOSrE2+sLm3ObrrSbUCK9nWFq3AsvM3XFaLgJsAVwTzd92s8qBQwlWyjE3JfkN4TiAFCS8rsLiKmLGVQo4pZa3AYsxNJWCZ7dv8TXZ/ES7bFVi0h5MoXGHKlS9cccvfTnNIN1dgcfW1+6wu3sPfesaZxBVYXN1kttabvuYiYFH44LZECgTuernajPmRHwIW7eRqJ67m4RZAxrV0ApZZsWb6aFZnc1Uyt7B7zQ0Ys7nynNtVua3QfbQE6+ZKNeabFIyYI5kzI5M9vakELMYu5ibuGJ2LgGUETIph7i22xi5OlhohKJkwy+u4IoxxmGdspsoNvApYPDuT4zTVCiwvz7X7gzFuzqlWYHElZ2JOohVYijEFT0ACVsEPAQGIGIEgBSzTVYotXKbOMzRYeHA6xQAeGp2uJBOweA+XX1NQ4Yoft4BFsYzJEWcizcoUcwYVkzmz2iWoFVhc5cWZas48GgGLohXPpnCfkeFlBRYTaApuyb7kxxk6JhpkyllcHq7JFTTk4S5l8eM1FOqY0JtZzHS+MH/nTDKFQr4kmFVYifdy5p+zzOZcj2R1lyVgUVzjiwe3bTLp5YG5LLkIWKyHM7YU11hPWSWVgMUxQ6GUdvFrSmUVrwKW2bqQ6gws2sozasjcfeaGF1/xpYyryPhC4j7Thkn2I874cZ+VwhVhPB/GJM1l3e+lbV0jAiIQLAGutkrc/s4WuZqIL+VmCxxf7hkr+OKf7GwrYyVFJK4aTXcGFkUN1m+KWZnlPq/Hywosbl3kxA5/48wHQVgnJz+4rd3LCixziDv/vykUqriylZM7jJNGwOIWbgpI7vMxmRtw1RDFO7PaJdXqklwELOYmjA2M2UbAomjFvIDsMxGwKDhSCEsWh7gSjivE2A4FDK544vljXCntLmalV+KWUF5jBMpkK+xTjWpureT5mdxWTyExWaEgRIHGfBgg2TVlCVjMh7jCkCu/6Ecz/nMRsLiVnpNPjO2sJ1UpS8DimOGEInODVF9X9CpgmaMyUp2B5fW5TtYfTuZSUOUY4qSbKXwOeeh/4vmYfI7oW3POZ1n3B/uLp9pFIEQCErBChK+mRSAJAa8CFgUFBjVuz2NJtkqJ/51CCgUXzkhx9Qi3MnArGZeom0PEuU3JfG3oT+e6sr5IYw4h59Jlc+gm2+EKICZqFIm4yseswOLLN88dYpLEBJhnADBRYiLGe0yiG5SARTGCghpXNTHRZ0LDFUsUmSiguFdgJTJNdA9nULntgavNmORSkKMwxjMomJAyATEz3DxEnat0eFYSt91xCwYT87L4sS36gIkqt71RbGIyyPr535moUcBgAsUXAH5unTPFFJc4u0tRhX2jqMItETwDiuebcBaSttEOCmoU7soqFLDoK87UMzZwBpzbTrlyi8k3t3q4789EwKJN7vFKG3i+C1diMUHjWOLLHGf7mcDzpY8cUglYfOHiFhCOOQpAXH1GHhzjFEZ5bhiLVwGLAiWfI3Lk6gjzpSGOU9pqtizyv5M9VxRwJphsmEzy3DH3i2QiZ9rDc7aYXDMBpW84c82XAI4RClvcCsEzwc53nk/6muOWpaz79UMqAiIQPgG+KDMuMA7yhZ8vo/zN5W8CYwbjBAt/J/gbQrGIq2r4W8LfEK6gpWBlzvPh7z6FFMYcruLh9Xy5p/BF0ZuFMYcvr5yoYbs8L4+xlL8rjNGmeBGweC2/2MYVORR3+BvFFb78/fT6FULGr8QVRPx31sXCrftGwOLkDuMNV9kwN6BoxRd2/v4zbpuD74MSsBj7GZco3lB84GQBYyxzA07quQUs9isx53GPOIpz9KPJDegr/jdOClI8YvwgVxYzYcHYx4k/TlrxGABziHsiP97DCRMeOcB4x/yKq33Mgf8U/Vg3xxrzLuYGHH+MK2yLQiDHBXMvjk+TG1BM4wo52uH++mWyJ4n1MV/iBAxzA8Ze5hzMDWgH++k+3DwTAYt+TmTLcc28hs8H+01GzA3IhmdgmeMXyhKw+Owx52X+wNyAghi/0sjcgCsN2W8WrwIWBUrzFUKTG7ANjiGTe3h9rpPxZV7Hjwrx+eOY5BjkpCRzAuYGbItj03yFkL8l9LVZUV/W/eH/KsoCEQiIgASsgMCqWhHIkoBXASvZGVgULxK36rE+zh4xgeHLPV+OeR4CExEz08MXdi4fZ0JSLUGASuxGqhVEFCF4jg9FM/eLPBNDJnBM0HieBgMyhR73OQ/mUHdzloO7XYoKiX3j+QYULLiCJ/EMLC6bd9fDJM4s4ef2DM4osz2KStxSyeJlBRbPsWBdTLDJjGdaMLGiMMU+u2cLmTwy0WKCQyGIX9XhTHoqfrSD9TJhp8DHJJGCIhMZztrS50zAmOzzxYIvADz4nat2eA9fWjjTze0q9ANn/JkIMXnjCxDFk1SFApY5w4v3sW4m8kx62X7igbAUsJgcu7/4yPFFwdDt/2RfITR2UKjhSwsFILZJGzguOONPAY8JKH3PPic7p4Ns2Xcm4LSdL0MU7thX86nsVAIWv7DlPtSXSS7b4rZY8qXwyvFHG83sOs9t4zXsF2fR+eLKFxC+nLkP5k9kzb5QrKOgyJcbJt/m/C22xWeE54tx7Cm+LBoAACAASURBVLAPTJT5QmRKqvuz/LnRbSIgAj4R4AslhRdu1+JkB3/PGKMokHDVs3trMX+r+BvC552/Ifyd4W8IxWpebwrr4kstX7r5O0XBnHGGkyOmcBUTJygoMrEerrShoOE+MJq2cGKCv5WmMD5QlHfHUIohtIsimpkgoMDBGFfWb7CpL9UKIk5U8e/8jXR/MZGrdvi7x3jH/lHQoo3urzaaQ935W5lsCyFtdm9DNP2iuJJ4BhYnCNz1sG+cbOLqOfJn7kChgJMiJpfycgYWJz9MbsBcy50b0Ab31n2KEswNODHC+EWfUphMxY+MGWfJgsIafcMJScZ8xmZOLDG/YF7HmMx4QkGQuQH/G/8/+81xyIkkMiJL5gYUK91xJtnjQAHLHCTO+xJzA3OeqrmXY5SrztxffOSkKP3q9n+qfIgrCekf5gb0h8kNGBfNh1+SjWtjAxkxz6RYxYlU5gbsL58PCr4sqQQsjhV3Hkm/kT/PijO5ASfZmBuYVV5en+tExhzD9A3FTgqCfDc3x2nwt4SrFflbwRyefeAzYz4YxLpS3e/Tz5uqEYFoEZCAFS1/yBoREAEREAEREAEREAEREAEREAEREAEREIEEAhKwCmNImBmsNY6yz9kMrpIwX4bj/nWuDOB2Ic5ScHYo8Ytf/HfOynEpK1eEmFm5wiCoXoqACIiACIhAPAhwhQhXanI1B1dmcHsQV5+YbeFecoJ4kFAvREAEREAEREAErCIgAcsqd2VtLAUsLtV1f2rYVMbtKlzmzmXOXKrOZcjcg/2Qs6SV193iHIjIJazcCsX6eAg4r6UopiICIiACIiACImAHAW6j4VYVfviBZyTy4w7cIsZtQtzqli4nsKOXslIEREAEREAERCB2BCRgxc6lSTuUSsDiHnDup+bebXO+APfy86Btnk/AwnMSuE+eByqycG8296Dz7AAeCKkiAiIgAiIgAiJgBwGeNcRzebjymoVnv/HMnLbOOXw8cyVVTmBHL2WlCIiACIiACIhA7AhIwIqdS5N2iALWzc5qKa6Y4pfr+CU2fjWFwhQPjubqKlPaARjjHBTJwwG5rZD/jV/OMYWfzuWB2KxXRQREQAREQAREwA4C/GoYD7nm16x48Dcno/h1OG4d5AcUUuUE7sPB7eitrBQBERABERABEYgNAQlYsXFlyo7wqyicXeVXPPj1DH7BhjOt/MINv8bB2VcmtKbwS2f86gw/C0sBi18PYULLr1+Ywq9t8Usk/PJOYuG44uwt21QRAREQAREQgagQMF9j5VmQhVq4VZBfL+OX0LhlkF/Y5HZCfnqeX1RNlROYL4CRnWJ9oY4g9VsEREAEok1AsT7a/snJOglYOeGz9mYe2loE4CTns89+r8DiJ2vnWUtHhouACIiACMSZQGMA8+PcwRR9Y943A8DnzsorTjR1AvCqc05mlwxWYCnWF+ggUrdFQAREwAIChRzrLXBP9iZKwMqenc13GgHrZGdFVuJ5F9c5h7anOgNrgXPwa7IzsPilwqK5c+eidm3+z+iWbt264d577w3UQL/ayKaeTO/xcn26a1L9Pdu/BeqgDCtP1/8Mq0t6uV9tZFNPpvd4uT7dNdmOi3T1+uELP+rIh51+tZFNPZnc4/XadNdlM2ZWrFiBJk24sBh1nBXEfrjXtjrqAlgMYD8Ak1zG8+vCXFn9J4B0OYG5zZpYT4PTjSk/HOlHG9nWkcl9Xq7N9Zqy7vdSrx++8KOOoG31q/5s68nkPi/Xprsm27+nu88PX/tVR9C2+lV/tvVkcp+Xa9Ndk83fFev9Gs3RrUcCVnR946dlZwAY5Zx1sb2zhfBvAFo5WwC4NZBfIezrHNw+DEB/11cIec7VNQBOdA507wHgPAB7lPEVwtKktqioKPIC1siRI9GhQwc/WW9Vl19tZFNPpvd4uT7dNan+nupvN954Ix5+mEeyRbuk678f1vvVRjb1ZHqPl+vTXaMxk/uoScfYawvZ1JPJPV6vTXddNmOGSW2dOtSuClrAYv9/cM7CvAkAz7RibH/HWZH9jXNcQKqc4C8Clg2xnganG1Nen5FU1/nRRrZ1ZHKfl2tzvaas+22J9UGPmQ0bNmDw4ME47bTTULky55WzL158laz2TO7zcm26a7L9u8bM/7yXjqHXUZRtPZnc5+XadNdk83fFeq+jwN7rJGDZ67tMLP8/AAc751rwk9lfAujuiFGsZ28ATwE4wNla+DSA3gkN8BPbVwDgnuIJAK52zslKZoc1AlYmEHVtsARsSlCCJaHavRLQmPFKSteRgJLaLeNgVwAPATgEQBXnfMxHnS8Tes0JeJ1ivR6tjAkU+u/25s2bcefdffHV+B9QUmkblNu4HIe13Rt9e96J8uV57KxKIoFCHzMaEZkRUKzPjJeNV0vAstFr0bdZSW30fRQ5C9PNskTOYBkUOgGNmdBdYJUBSmp9d5dive9I419hof9u39G9N8bOrIjaO/D7Sv8tKxZMxSG7FqNfb84tqyQSKPQxoxGRGQHF+sx42Xi1BCwbvRZ9m5XURt9HslAEREAECoqAklrf3a1Y7ztSVRhnAtw2eHSn87Ftq3O36ubSKW9g9NDXc95OGBY/9m3JkiWoV6+etX0Ii53a9ZeAYr2/PKNYmwSsKHrFfpuU1NrvQ/VABERABGJFQEmt7+5UrPcdqSqMM4EFCxbg9EvvQd0WHbcWsH4ehsEv9kLDhg2tQqAtkVa5qyCMVayPv5slYMXfx2H0UEltGNTVpgiIQEYE1q1bB84aq8SHAA9Drlq1atIOKan13c9pY72eMd+Zh15hqmcsdOMibkCqFVjLpryJUUNfs271krZERnzQFaB5ivXxd7oErPj7OIwepk1qwzBKbYqACIiAIcAX62bNmuGPP/4QlBgR4OqFWbNmJRWxlNT67uiUsV7PmO+8I1FhqmcsEgZG3Ig4CT5x3hIZ8WEk81IQUKyP//CQgBV/H4fRQwlYYVBXmyIgAp4JmARn7ty5qF2bP1kqthOgT5s0aYKioqKkPlVS67uHU8Z6PWO+8w69wnTPWOgGWmCA2XI3bNS3KF9lW9SsuMbarxCm2hL523fv4fzzL8DeLZqhyfa1sNP2tVCnJj96mlnR2VqZ8dLV+uJwIYwBCViF4OX891ECVv6Zq0UREIEMCJiX67LEjgyq0qURIZDOpxKwfHeUJwFLz5jv3EOrMN0zFpphFjb8xFsTsHnjalx5Vjvrtg0a3KlWYM375hVc0bU7Fixdh7kLV2LRsrVo2rAWnrzlaE/e0tlanjDpoiQEFOvjPywkYMXfx2H0UAJWGNTVpgiIgGcCehHzjMqaC9P5VEmt766UgOU70mhXmO4Zi7b10bJuyszFqFq5AnZvsm20DMvQGq9bIteuL8aSorVo3KBW0hZG/uc3TJ21tHSlVpOGtfD6wKcw6fdqqL3DnluuX7FgKg7ZtRj9enfP0EpdXkgEFOvj720JWPH3cRg9lIAVBnW1KQIi4JmAXsQ8o7LmwnQ+VVLruyslYPmONNoVpnvGom29rAuCgFkp9eX4KUClbVBuY1FWWyKnzlqCidMWYe6fKzFr/lJ8/M7j2Pvoy7cyeemUNzB66OvWrloLwgeq868EFOvjPyIkYMXfx2H0UAJWGNTVpgiIgGcCehHzjMqaC9P5VEmt766UgOU70mhXmO4Zi7b10bPu90WrMHNeEQ7bb8foGZehRUuXr8LKlUXYYfv6OYtLqc7WWvrzMAx+sRf4MQEVEUhGQLE+/uNCAlb8fRxGDyVghUFdbYqACHgmUMgvYl988QWOOuoofPrppzj66NTnkZQvXx733HMPevTo4ZltsguPPPJIfPnll3/5U7ly5fDII4+ga9euf/nv/HrdfffdhzfffBNz5szBNttsgzZt2mDIkCGoWLFimXak86mS2pxcmOxmCVhlIC3UZ8z3ERbzCr+e+gdeHTbV87lQUcbR/81v0bhBTZx17B45m5nqbK1lU97EqKGv5SyS5WykKogsAcX6yLrGN8MkYPmGUhW5CEjA0nAQARGINIF0Ykekjc/ROL5cU7j65JNP0gpYX3/9NRo3boxGjRrl1CoFs+XLl+O5555DSUnJlrp23nlnNGjQYMu/FxcX49hjj8Xs2bPRrVs3tGzZEosWLSq1lWJXlSplf8UqnU+V1ObkQglYGeAr1GcsA0S6FMCMecvR49lxeLP3Cdbz6PnCf3Bgy+1x4qHNfOmL17O1fGlMlcSKgGJ9rNyZtDMSsOLv4zB6KAErDOpqUwREwDOBdGKH54osvDCT1SF+dY8C1qZNm7ZahZVYP1de8Z+pU6dmLJql86mSWr+8uaUercAqA2mhPmO+j7CYV7h0xTpc2HMkhtzfCZUqVrC6t7c+8VWpeHXE/o196YdfZ2v5YowqsYqAYr1V7srKWAlYWWHTTWkISMDSEBEBEYg0gXRiR6Lx3NKwZMkS1KtXz9etC37Xy+1+vXr1wuTJk0u35o0fPx516tTBZZddhp49e5Z2y6wOef/99/Hxxx/jrbfeKv3vxx9/PAYMGIDatfkT/t/i1xZCrwJW06ZN0aFDh9KVWpmWdD5VUpsp0bTX+yZg+f0cuC33u249Y3VQVFT0l9+JtCNFF/yFAFehcgv1ps0l6HzrB3i+23FoULe61ZSueuAzXHLy3jigxfa+9oPP79KlS1G3bl1fY6+vRqqySBFQrI+UOwIxRgJWIFgLvlIJWAU/BARABKJNIJ3YYaw3s8Bfjf8BJaVfWFqe1ReWEmkEVS9FKv6z66674uKLL8ZBBx2EkSNHon///lvOsjKrQ5o1a4ZOnTrhpJNOwrRp03DLLbfgrLPOwksvvZRSwOJKqnSFL2cUv0yhgDVhwgRUqFABa9asKd0aeN1115XaaMrcuXNBAatv376YNWsWBg0aBL68HHrooaX2t27dOmWz6XyqpDad1zL+e84CVlDPAXsSVN16xiRgZfykJNwwZtJ8DPv3LPS76m+4sOcI3NGlDVo0rZtrtaHef8E9I3DnRW2wR4D9WLNuY6noV6t65VD7qsajTUCxPtr+8cM6CVh+UFQdiQQkYGlMiIAIRJpAOrHDGB/UORxB1cuXa67A4jY8ClKmXH755aWCEEWiiRMnlh7i3qVLFwwcOHDLNddeey1efPHFUoHJlMQVWEb8SudcHto+atSoLZdx1UqTJk3QvHnz0rOwXn31VQwePBh9+vQpPeuKhavF2rVrh1q1apUe2n7zzTeDB7rzAHnazVVlPI+rrJLOp0pq03kt47/nLGAF9RywJ0HVrWdMAlbGT0rCDR9+9Su+n74I3S9pi+sf+RxnHdsc7Vrlds5grjblen/n2z7EEzcfhR3r18y1qjLvf/C1Cai/bTV06bRXYG2oYvsJKNbb78N0PZCAlY6Q/p4NAQlY2VDTPSIgAnkjkE7soCGpvoS0ZNIb+GjIS1u2NFSpXBEVym8dUjlbvH5D8V/6xXo7nnYR6u3zj636u3TKGxg99PWst0qYl+uZM2eCB6SbQjHpuOOOw1dffYWNGzeWClhvv/02Tj/99C3XcNvelVdeCX7C3BysnihgrV69unS1VrpCEWr33XdPeVnnzp1LtzAuXLgQ1atXx7hx40pXW/Hz6FyBZQ5snzdvHnbbbTfccMMN6NevX5l1pvOpktp0Xsv47zkJWEE9X+bZPfG0i1BXz1hen7GMR1CB3vDa8J9QtGo9rjljX8z+YwXq1a6KmhavKmKcG/jBDzi3QwvUqFYpMK9OnrEI973yDV7q0QFVKtl9ZlhgkFQxFOvjPwgkYMXfx2H0UAJWGNTVpgiIgGcC6cQOVkQh5/RL70HdFh23qnfG10PQeK+jULXGtqV/e/KWo9C04f/OjjI38OXkmgdH/+X+dauWYt5Pn2O3gzpvLWD9PAyDX+xVKuJkU4yAtWrVKlSrVm1LFT/++CNatWpVugqL4hQFrE8//fQvXyF85ZVXSrf0UTzaaaedSu9NdgZWNlsIk/XlnXfewdlnn42xY8eibdu2mD59Olq0aIHTTjsN/Ju77Lvvvthhhx0wfPhwCVjZDIxg7slJwArq+WJX+YwtmTkGO7Y+Wc9YHp+xYIZZ/Gp9fNBE1K1TFecd3zJ+nQuwRzw77NqHRuOUw3fFcW2bBtiSqraZgAQsm73nzXYJWN446arMCEjAyoyXrhYBEcgzAS8CVsoVIpPfwEeD/V+BtWzKmxg19LW8rMDKRsDKdguhFwGruLi49MD5jh07SsDK8/OQZXM5CVhBPV/sC+suawWWnrHgnrEsx1HB3dbzhf/gwJbbl361TyUzAsPH/YYRY3/DozceUXoQvooIJBKQgBX/MaEnP/4+DqOHErDCoK42RUAEPBPwImCxsqDO0QmqXrMCi1vtbr311i08+BVCbhnkdrzvvvuudOXVJ598kvEKLD+3EJ5yyin47LPPtmwhpLFnnnlm6TbHX3/9dcsKsjlz5pSenXXbbbdt+ZJiMken86mSWs+Ph9cLcxKwgny+gqxbz5jOwPL6gJR13Q2PfI4zjmmOQ/ax+9yrXDlkc/+69cXo0vtjdL+4LfbapV42VeiemBNQrI+5gwFIwIq/j8PooQSsMKirTREQAc8E0okdpiLzJbMvx08BSr9CWOTrVwj9rjfZF9JGjBiBRx55pFT8ueuuu2BWUWWzAsszYNeFY8aMwYMPPgieecWtiTzE/eWXX8bQoUNx//33lx7WbspPP/1Uup3wgAMOwE033YS1a9eWHkq/ZMkSTJo0CfXr1y/ThHQ+VVKbjfdS3pOzgBXU80Wrg6pbz5gErFyfpGeGTMbx7XbGzjtsve0817oL4f4XP/gBK1ZvwA3n7F8I3VUfMySgWJ8hMAsvl4BlodMsMFkClgVOkokiUMgE0okdiWy4JWnp0qWoW7du1tv7kvH2u16zOmTKlCm45pprSr/sx215/AohvwTIQgHL6wqsChUqlN7XvXv3rIcLD5Tv2rVr6VcEFy9ejEqVKmGfffYp/W9ccZVYJkyYULrairbzWtpKAWyXXXZJaUM6nyqpzdqFZd2Ys4BlKvb7OXAb7HfdesYkYPn+JKnCjAisWrMBFSuUR9UqFTO6TxcXBgHF+vj7WQJW/H0cRg8lYIVBXW2KgAh4JpBO7PBcUcQuNC/X/NIgD2AvpJLOp0pqfR8NvglYvlsWYIV6xiRg+Tm8Nm8uwbyFK7Fjg1pJv2TrZ1uqSwQKgYBiffy9LAEr/j4Oo4cSsMKgrjZFQAQ8E0gndniuKGIX6uW67JdrJbW+D1YJWBKJfR9UhVZh8abNOPXWD/Fyj/aoV+d/X461iQMPVl+5egPOPLa5TWbL1pgSUKyPqWNd3ZKAFX8fh9FDCVhhUFebIiACngnEWcDq3bt36VfYtALrr8NBSa3nx8PrhQUrYOkZK0Lt2jq/yeuDku668+4ejrsvPRi7N9k23aWR/Pvz/zel1K7LTmkVSftkVGERUKyPv78lYMXfx2H0UAJWGNTVpgiIgGcCcRWwPAOI4YXpfKqk1nenF6SA5TtFiypM94xZ1JVImXrtQ6Nx3vEt0HbvHSJll1djHvnXd2hYrwbOab+H11t0nQgERkCxPjC0kalYAlZkXBErQyRgxcqd6owIxI+AXsQKz6dKan33uQQs35FGu0L9bgbjn7ufG4eDW+2AE9rtHEwDAdfaZ+B4tN69Pk46LPWHNoIyo6SkBOXK6ZU2KL621atYb5vHMrdXT3vmzHRHegISsNIz0hUiIAIhEtCLWIjwA2o6nU+V1PoOXgKW70ijXWG6Zyza1kfDuhHjfkOliuVxzEE7bTHosbcmov621XBuhxbRMDJDK24fMAYdDm6Kow5okuGduV8++tu5mPTLIlx/9v65V6YaYkFAsT4WbkzZCQlY8fdxGD2UgBUGdbUpAiLgmYBexDyjsubCdD5VUuu7KyVg+Y402hWme8aibX00rOv/5rdo0qDWXw48f/WjqVixegOuOWPfaBiZoRXcAnl+x5Zos2fDDO/M/fLfF63C1Q+Oxot3HYe6tavmXqFqsJ6AYr31LkzbAQlYaRHpgiwISMDKAppuEQERyB8BvYjlj3W+WkrnUyW1vntCApbvSKNdYbpnLNrWR8O67s+MxeH77Yjj2jbdYtBPs5Zixer11p6BdduTX+GSk/dG853COYT+nufHlbZt6wq2aIzM+FihWB8fX5bVEwlY8fdxGD2UgBUGdbUpAiLgmYBexDyjsubCdD5VUuu7KyVg+Y402hWme8aibX00rLvmwVHo0mkvHNhy+2gYFAMrJvz0Jx4fNBEv3tW+dHumSmETUKyPv/8lYMXfx2H0UAJWGNTVpgiIgGcCJsGZO3euPgfvmVq0L6RPmzRpgqKioqQ+VVLru/88CVh6xnznHlqF6Z6x0AyzqOF/9BiOnpe3w26Nt7HI6mibunlzCa68/zOc06EFjty/cbSNlXWBE1CsDxxx6A1IwArdBbE0QAJWLN2qTolAfAisW7cOzZo1wx9//BGfTqknaNiwIWbNmoWqVbc+C0VJre8DJGWs1zPmO+9IVJjqGYuEgRE2onjTZpx664d4uUd71KtTLcKW2mfaB1/OxJcT5+Oh6w63z3hZ7CsBxXpfcUayMglYkXSL9UZJwLLeheqACMSfAF+wN2zYEP+OFlAPK1eunFS8IgIltb4PhLSxXs+Y78xDrzDVMxa6cRE3YNmKdbi836f4V5+OqFhBW938dNfqtRvx3bSF+FvrRihXTq+3frK1rS7Fets8lrm9esIzZ6Y70hNIm9Smr0JXiIAIiIAIiIB/BJTU+sfSqUmx3nekqlAEREAERCAXAor1udCz414JWHb4yTYrldTa5jHZKwIiIAIxJ6Ck1ncHK9b7jlQVioAIiIAI5EJAsT4XenbcKwHLDj/ZZqWSWts8JntFQAREIOYElNT67mDFet+RqsJCJfDwm99i3+b1cfSBO1mFYNbvRZi9YAWOPKCJVXbL2PgSUKyPr29NzyRgxd/HYfRQSW0Y1NWmCIiACIhAmQSU1Po+OBTrfUeqCguVAAWsRvVr4uzj9rAKwUdjZ+GbqX/i7ksPtspuGRtfAor18fWtBKz4+zbMHiqpDZO+2hYBERABEdiKgJJa3weFYr3vSFVhoRJ4eeiPWLO+GFed1toqBG9/Oh1zF67ETeceYJXdMja+BBTr4+tbCVjx922YPVRSGyZ9tS0CIiACIiABK/gxoFgfPGO1UCAEPvhyJibPWIy7Lm5rVY8HfvgjNhZvwhWn7hMZu/9Yshojxv2GLp32ioxNMiR/BCRg5Y91WC1pC2FY5OPdrpLaePtXvRMBERAB6wgoqfXdZYr1viNVhXEm8NXE+WjedFtsX7f6Vt386vv5eP+LGeh/3RFWIXh80ETUrVMV5x3fMjJ2r1q7EV16jcT9V/8NuzbeJjJ2yZD8EFCszw/nMFuRgBUm/fi2raQ2vr5Vz0RABETASgJKan13m2K970hVYZwJXN7vU1x9Wmu0bl5/q27++OsSPPTGt3ipe3urEPR75Wu03Lke/n7ErpGye8C7k1BcvBnXnb1fpOySMcETUKwPnnHYLUjACtsD8WxfSW08/apeiYAIiIC1BJTU+u46xXrfkarCOBM4s9tQPNj1cDRtyEfnr2XhsjWg6NLzsnZWIbjz6X/jqAOa4Ng20fp64uw/VuDGR77AwO7tUadmFauYytjcCCjW58bPhrslYNngJftsVFJrn89ksQiIgAjEmoCSWt/dq1jvO1JVGFcCa9cX48xuw/B6z+NjJajwvKka1SqhVvXKkXMdxbV9m9fHGcc0j5xtMig4Aor1wbGNSs0SsKLiiXjZoaQ2Xv5Ub0RABETAegJKan13oWK970hVYVwJLFi8Glfe/xmG3H8SypfX61c+/DxuygI89/4UvNDtWFSoUD4fTaqNCBBQrI+AEwI2Qb+gAQMu0OqV1Bao49VtERABEYgqASW1vntGsd53pKowrgR+mrUU97/2DV7u0SGuXYxcvzZtLsGAd77HBR33xDa1tI0wcg4KyCDF+oDARqhaCVgRckaMTFFSGyNnqisiIAIiEAcCSmp996Jive9IVWFcCYyd/Dve+Ww6HrnhyLh2Uf0SgUgQUKyPhBsCNUICVqB4C7ZyJbUF63p1XAREQASiSUBJre9+Uaz3HakqjCuBFas3YEnRWjRrVCeuXVS/RCASBBTrI+GGQI2QgBUo3oKtXEltwbpeHRcBERCBaBJQUuu7XxTrfUeqCkVABERABHIhoFifCz077pWAZYefbLNSSa1tHpO9IiACIhBzAkpqfXewYr3vSFVhIROYMmMxZsxbjlOP3M0KDPyyIleVNW5Qywp7ZWRhEFCsj7+fJWDF38dh9FBJbRjU1aYIiIAIiECZBJTU+j44FOt9R6oKC5nAF9/Nw9Axv+LBrodbgeH76Qvx9ODJePaOY62wV0YWBgHF+vj7WQJW/H0cRg+V1IZBXW2KgAiIgAhIwEo9Bn4AsJPrkgoAqgE4FcD/AdgHwBMADgCwHMDzAHqWUaVivZ43EfCRAFdgPTpoIl688zgfaw2uqjGT5uO9z2eg/3VHBNeITzVv2rQZX0/9A2322gEVyuv11yeskaxGAlYk3eKrUXqCfcWpyhwCSmo1FERABERABCJFQEltUndcC6A7gMYAKgOYDmAggF4AmgMYDuAhAI8luVuxPlIjXMbYTmDewpXo2v9zDL6vE8qVi/4r2ohxv4FfV+x1xSGRR08B69K+n+CKzvvg4L13iLy9MjB7Aor12bOz5c7o/zraQlJ2ugkoqdV4EAEREAERiBQBJbVJ3TEVwPsAugG4EMD9ABoB2Oxc3RUARa7dJWBFajjLGIsIlJSUYMHi1di+Xo2Uq3/WrNuIs+78CP/qfQJqVqeeHO0yeNQvmDm/CLeef2C0DXWse/vT6Zg8YxH6/PNQK+yVkdkRUKzPjptNd0nAsslb9tgqIVYtEQAAIABJREFUAcseX8lSERABESgIAkpqt3Lz0QBGAtgVwBwADwNoCeAE15XtAIwBUAfAqoQaFOsL4slRJ3MlsHLNBpzbfTjevvdEVKtSsczqKHSd2W0Y+l93OHZqyMcr2uWVYVOxeu1GXHV662gb6lhXtGo9Lu79MR654Qgr+FoBNYJGKtZH0Ck+myQBy2egqq6UgJJaDQQREAERyBOBDRs2YMmSJahXrx4qV47+rH2esGzVjJLarZC8A6AqgJOcv7wAoAaAc1xXtgDwI4AmAH6XgBXW6FW7NhOY88cK3PjYl3i3X6e03bi836e45ozW2Ge3+mmvDfuCAe9OQq3qlXBBxz3DNsVz+4++9R0qV6xgjejmuWO6cAsBxfr4DwYJWPH3cRg9lIAVBnW1KQIiUFAENm/ejDvv7ouvxv+AkkrboNzG5Tis7d7o2/NOlC9fvqBYeOmsktq/UOIhMLMBnAxghPOXrFZgXX311VuE0w4dOoD/qIiACPyPwKRfFuHJd77H893SH86+sXgzKlW04/ebh6LXqFoJe+1Szxp3z5i3HLcPGIOXe3RAzWqVrLFbhqYmMHLkSPAfFk7qDRgwgP+TK4dXiF38CEjAip9Po9AjCVhR8IJsEAERiDWBO7r3xtiZFVF7h//Nfq9YMBWH7FqMfr15LreKm4AErL+Mh3sAnAdgN9d/vQDAAwlnYF0H4BqdgaVnSQSyJ/DFd/Mw7N+z8MC1h2Vfie70jcCdT/8bpx65Gw5sub1vdaqi6BBQrI+OL4KyRAJWUGQLu14JWIXtf/VeBEQgYAKcYTy60/nYttW5W7W0dMobGD30dW0nTCCjpHYLkArO6qtHnS8Mmj/UBDDN+QphX0e0Ggagv75CGPADrepjTeD9L2Zi6qwl6NalTaz7aUvnNm8uQfnyegW2xV+Z2qlYnykx+67X02ufz2ywWAKWDV6SjSIgAtYSWLBgAU6/9B7UbdFxawHr52EY/GIvNGzY0Nr+BWG4ktotVDsDeB1AYwBLE1jvDeApAAcAKALwNIDeZfhDsT6Igao6Y0fg5aE/Yu36Ylx5mh2HncfOAepQQRFQrI+/uyVgxd/HYfRQSW0Y1NWmCIhAwRBItQJr2ZQ3MWroa1qBlTAalNT6/ngo1vuOVBXGkcCEn/5EhfLlsN8eDeLYPfVJBCJFQLE+Uu4IxBgJWIFgLfhKldQW/BAQABEQgaAJ6AyszAgrqc2Ml4erFes9QNIlIiACIiAC+SOgWJ8/1mG1JAErLPLxbldJbbz9q96JgAhEgID5CuGX46cApV8hLNJXCFP4RUmt74NWsd53pKqw0Ams21CM/0xZgCP2b4xy5fSaVujjQf3PnIBifebMbLtDv4y2ecwOe5XU2uEnWSkCIhADAtxOuHTpUtStW1fbBiVg5XNEK9bnk7baKggCq9ZswDndh2NQ346oXrVSZPu8aNla8Gt+z95xjNVC27r1xUA5oGrlipFlLcMyIyABKzNeNl4tActGr0XfZiW10feRLBQBEYgBgckzFqFOzSpo2pA/uyqpCCip9X18KNb7jlQVFjqBkpISnHb7UDx+05Fo3KBWZHH8Or+oVMD6V5+tPyQSWaOTGNb92bFos2dDnHTYLjaZLVs1WVXQY0ACVkG7P7DOK6kNDK0qFgEREIH/Eej+zFgc0roRTmi3s7CkISABy/choljvO1JVKALApX0/wXVn7YdWu20XWRxTZizGY4Mm4oU7j4usjV4M+/zbuXjrk2l46tZjUL68Xou9MIv6NYr1UfdQ7vbpSc2doWrYmoCSWo0KERABEcgDgfPvHoE7L26DFk3r5qE1u5tQUuu7/xTrfUeqCkUAuPWJr9Dx0GY4cv/GkcUxbsrvGPTpdDx6w5GRtdGLYRuLN+PiPh/j+rP3wwEttvdyi66JOAHF+og7yAfzJGD5AFFVbEVASa0GhQiIgAgETGDZinW4sNdIDOp7IqpV0fkd6XArqU1HKOO/K9ZnjEw3FBqBSdMX4f0vZ+LuSw/23PV+r3xdOilx6pG7eb4n3xd+Mn42vpg4D33+eWi+m/a9vTdG/IwZ85Zn5CPfjVCFvhFQrPcNZWQrkoAVWddYbZiSWqvdJ+NFQARsIPDdtIV4ZshkPHfHsTaYG7qNSmp9d4Five9IVWHcCHz69RyM/nYu+l7pXeh5dshkVKxYHpecvHdkcbz3+QxMm70Mt194UGRt9GrYkqK1uLTvpxhw61FotF1Nr7fpuogSUKyPqGN8NEsClo8wVdUWAkpqNRhEQAREIGACQ0b/gp9nL0O3Lm0Cbike1Sup9d2PivW+I1WFcSPwzmfTMXvBStx83gGeuzb3z5Wl1zbZPrqHuH88fjaWrliHs4/bw3O/onzhg69NQN06VSMtGkaZX5RsU6yPkjeCsUUCVjBcC71WJbWFPgLUfxEQgcAJ9H/z29LZ4nPax+MFImhgSmp9J6xY7ztSVRg3As+/P6X0cPAor6aKG/Ns+sNVWNyKX71qpWxu1z0RIqBYHyFnBGSKBKyAwEa82vcAnAKA+05GObbuA+AJAJwiWg7geQA9E/rBf78UAJPWbwFcDeDHJH1VUhvxASDzREAE7CewcNkaVKxQHnVrV7W/M3nogZJa3yEr1vuOVBXGjcADr03Abo3roPNRu8eta+qPCESSgGJ9JN3iq1ESsHzFaUVlFwA4FwC/e8t/KGBxw/d0AAMB9ALQHMBwAA8BeMzp1S0ArgFwAoCZAO4GwLp47ZqEniuptWIoyEgREAERKBwCSmp997Vive9IVWHcCNzx1Bgc16Ypjj6wSdy6pv6IQCQJKNZH0i2+GiUBy1ecka+M3+MdA+BvAOa4VmBdCOB+AI0AbHZ60RXAtQDMlNGvAB4G8KTz9woAfgdwI4A3JGBF3vcyUAREQAQKmoCSWt/dLwHLd6SqMG4EuNX7hHY7Y89m9eLWNfVHBCJJQLE+km7x1SgJWL7ijHxlIwG8DeBFR6gyWwgpTLV0VleZTrRzxK46AMo72wr538a7esn6pgC4WQJW5H0vA0VABESgoAkoqfXd/RKwfEeqCkVABERABHIhoFifCz077pWAZYef/LDyKufcqw5OZVxpZQSsFwDUAHCOq6EWzvlWXPNMAYsrtihyTXNd8xaAFQAul4Dlh4tUhwiIgAiIQFAElNT6TlYClu9IVaEI/JfAqrUbUbFCOVStXFFIREAEMiCgWJ8BLEsvlYBlqeMyNHsXZzVVWwBzkwhYgazAuvrqq1G5cuXS5jp06FD6j4oIiIAIiIAI5IvAyJEjwX9YNmzYgAEDBvB/cmUxJ19UciMgASs3frpbBMokcPNjX+KUI3bFYfvuGDlKJSUleP7/fij9Am6t6v/N8+NUho/7Dfwq4XnHc95exTYCErBs81jm9krAypyZjXfwjKtnnYTd+Jyb8YsADAIwFsCDAHZwnYF1nXNoe6ozsBYAuEFnYNk4JGSzCIiAzQQmTV+EPXepi0oVeRyhihcCSmq9UMroGglYGeHSxSLgnUDfl8aj1a7b4eTDd/V+U56uXLehGGfcMQyv9zwedWpWyVOr+Wvmx1+XoPfA8Xi5e3tUraIVcPkj709LivX+cIxyLRKwouwd/2zjN9brJlQ3D8BZAD4BUOxsDeRXCPs6B7cPA9Df9RVCnnPFrxCeCIAHuvcAcB6APfQVQv8cpZpEQAREIB2BZSvW4cJeIzGo74mopuQ6Ha4tf1dS6xmV1wslYHklpetEIEMCTw2ehOpVKqJLp70yvDP4y7k6qUuvj/H+AyehQgWeMhKvwhVm1z38OToe0gzHt9s5Xp0rgN4o1sffyRKw4u/jsnq4CcBxAEY5F+wN4CkABzgrs54G0Dvh5nsAXAGgFoAJAK52zslKbENJbeGOK/VcBEQgYALfTVuIZ4ZMxnN38BhDFa8ELE5qjwHQGcBBzmTUUicGDwHwqdf+B3CdYn0AUFWlCJDAoE+mYf6iVbjxXKbl0SqzF6zALU98hbfv5Zx2PMvH42fjgy9n4ombj0K5cnpdtsnLFsd6mzCHaqueyFDxx7ZxJbWxda06JgIiEDaBIaN/wbQ5y3DHhW3CNsWq9i1Mag8H8ASA7RyharIzwcQzvFo5H2JZAqArgC9CcIZifQjQ1aQ9BMZO/h2bNpXgsP0yP8eKAspXE+ej9z8PiVyHucWu/5vfYuBd7SNnm18Grd+4CRf1GlkaZ1vtxp9gFVsIWBjrbUEbGTslYEXGFbEyREltrNypzoiACESJAF8cGm1Xs/QAXRXvBCxMaicCuBvAUNf5lO4Oc+9OJ+eaMJZpKNZ7H366sgAJDHh3EmpVr4QLOu6Zce8n/PQnBn74I5669eiM7w36hvE/LMAbI3/G4zcdFXRTodb/8tAf8fvi1ejWRZNFoToiw8YtjPUZ9lCXS8DSGAiCgJLaIKiqThEQAREAcO1Do/GP41vg4L353Q0VrwQsTGqZo5V46J/X6zxUldElivUZ4dLFhUagz8Dx2Gf37XDyYZkfxP7n0jUYNWFuJCcqPvtmDj77Zi7uverQWLt04bI1+GnWUhyxf+NY9zNunbMw1sfNBYH3RwJW4IgLsgEltQXpdnVaBEQgaAIbizeVfv3pmduPQcN6NYJuLlb1K6n13Z2K9b4jVYVxInDzY1/ilCN2xWH7Zr6FMMocGIfWrt+E2jUqR9lM2VagBBTr4+94CVjx93EYPVRSGwZ1tSkCIhB7Anxx+Gbqn2jXagcdLJuht2OQ1PLDKzx0pgEAd/52QYYo/Lpcsd4vkqonlgQu6fMxrj9nf7TaVWcoxdLB6lQkCcQg1keSa5SMkoAVJW/ExxYltfHxpXoiAiIgArEgYHlSexWAhwGMAHC88/8pZr0H4B8hOUixPiTwajb6BEpKSnDa7UPx+E1HonEDfrxbRQREIB8ELI/1+UBkfRsSsKx3YSQ7oKQ2km6RUSIgAiJQuAQsT2p/AnAjgOEAlgHYFsAZAHiKMsWtMIpifRjU1aYVBFat3Yhz7voIb/XpiBrVKllhs4wUgTgQsDzWx8EFgfdBAlbgiAuyASW1Bel2dVoEREAEokvA8qR2BQDGVpblALYBUAHAfAANQ6KuWB8SeDUbfQJcgbV2fTGqVamo7d7Rd5csjBEBy2N9jDwRXFckYAXHtpBrVlJbyN5X30VABEQgggQsT2rnAWgJYCWAaQBOBLAEwGyXsJVv6or1+Sau9kRABEIhMH/RqtLzJ/9+ROZflAzF4AJu1PJYX8Ce8951CVjeWelK7wSU1HpnpStFQAREQATyQMDypPZtAMMAvALgIUfAWg+AwlanPOBL1oRifUjg1WxhEPh4/Gz8vmgVunTaK1IdnjprCXZqWBs1C2hr5B9LVuPK+0fh+W7HYrttqkXKHzLmrwQsj/VypwcCErA8QNIlGRNQUpsxMt0gAiIgAqkJrFyzAZs3l6BOzSpClQUBy5NaOp052zoA/Hb9Tc7KK4pZXIkVRlGsD4O62iwYAsPH/Yb/TFmAnpe3i1SfL+w5EndceBBa7Fw3UnYFbUzvF8dj50a1cf4JXAyrElUClsf6qGKNlF0SsCLljtgYo6Q2Nq5UR0RABKJCYMjoX/Dz7GXo1qVNVEyyyg7Lk1oe2s7D26NUFOuj5A3ZEjsC439YgNdH/Iwnbua3GqJT+HXFR284Ak22L6yvK06cthD93/wWA+9qj8qVeAShShQJWB7ro4g0cjZJwIqcS2JhkJLaWLhRnRABEYgSgf5vfItG9WvinPZ7RMksa2yxNKndE8CHAHYGMBPASc4ZWFHgrlgfBS/IhtgS+GXuMvR84T94vecJkenjxuJN6HzbULx6TwdsW6tqZOzKhyE8mP+qB0bhjGN2x9EH7pSPJtVGFgQsjfVZ9LRwb5GAlX/fk/nuALjudimAXwCU5N+MQFtUUhsoXlUuAiJQiASufWg0zu3QAu1a7VCI3c+5z5YmtTz3ai2AlwBc4kDonDMMfypQrPeHo2qJIYEpMxej0XY1UK9O9uclLSlaiy69PsZ7D5yEihXKR4LSshXrcEHPkRhy/0moVDEaNuUTzLAxv+LTb+bg4euP0Ncl8wk+g7YsjfUZ9FCXSsDK3xjYB8CNzuwptwKYws9hc3b1YQCT8mdOoC0pqQ0UryoXAREoNAKc9T7jjmF45vZj0LBejULrvi/9tTSp/RNAcwBFAOoBmAggKlP/ivW+jExVEkcC1z38eelq2YP3zn7CYdOmzTj1tg/x4p3tUX/b7IUwP/nO/XMlbnj0C7zbL6xvR/jZm8zrWrNuIx7513e44Zz9Ub1qpcwr0B2BE7A01gfOJU4NSMDKjzefd74S9CaAEQAmO8loHQCtABwP4B8AhgK4LD8mBdqKktpA8apyERCBQiPw6/wi3D5gDAb17ahZ3yydb2lSu8I5rN30mge2U8iKQlGsj4IXZEMkCVzYc0TpeYV7NM3toPPbnvwK15yxb2TOm/pp1lLc9+o3eOXuDpHkLqNEwNJYL8dlQEACVgawcrj0VgCPAeAnr8sq3Eh+LYAHc2gnKrcqqY2KJ2SHCIhALAiMmjAHI8bNxgPXHhaL/oTRCUuT2pUAuILb5GvfAdjP9e9E+WsYPB1hraioqAi1azPsq4iACJDAps0l6Hzbh3j+jmPRoG71WEFZumIdfpy5BIftt2Os+qXOxIeApbE+Pg7IQ08kYOUBcgE2IQGrAJ2uLouACARHgCuwFi9fizZ7NQyukZjXbGlSuznhnEzmbebcTPO/w/oclmJ9zJ8ZdS87AstXrsf594zA4Ps66Wt12SHUXSKQNQFLY33W/S3EGyVgFaLXg++zktrgGasFERABERCBDAhYmtQ29dDF2R6uCeISxfogqKpO6wnM+r0IdwwYg7f6nmh9X9QBEbCNgKWx3jbModorASv/+LkZ/hEA7QE0SGg+rFlUvykoqfWbqOoTAREQARHIiYCS2pzwJbtZsd53pKowDgS+m7YQz703pfSjGyoiIAL5JaBYn1/eYbQmASv/1F8GsCeAB5zPYl8E4HYArwJ4PP/mBNKiktpAsKpSERABERCBbAlYmNQeCGCCh/56vc5DVRldolifES5dXCgEeE7U7AUrsN8eifPUhUKgMPrJs85+mLEYrZvXL4wOW9JLC2O9JWSjY6YErPz7Yj6AdgDmAFgOYBvnE9kvADg8/+YE0qKS2kCwqlIREAEREIFsCViY1PKLxTMAPAvg84QPwVQGcBSAfwLY1TnoPVs02d6nWJ8tOd0nAiJgPYE16zaiS6+R6PPPQ9F8p22t709cOmBhrI8L+rz1QwJW3lBvaagIQB3n3xYC4Gc8NgJw//f8W+Vvi0pq/eWp2kRABERABHIkYGFSWxHAVQCuB7CD87VBkyvsAmCB84XjAQCKc8STze2K9dlQ0z0ikAEBruYa9u9ZOP+ElhncpUvzReCZIZNBIevGcw/IV5NqJw0BC2O9fJohAQlYGQLz4fIfAJzsJKJjAfQHsBjAW06C6kMToVehpDZ0F8gAERCBuBBYt6EYVStTy1DJhYDFSS1zNb4d8R+eo7kUwLfOP+aLhLmgyfZexfpsyek+EfBIYOHSNbjs3k8w5IGTUaF8+K9t3Z8di/ZtmuKw/Tj/rjL3z5W47uHPMfCu9timVhUBiQABi2N9BOjZYUL4v4R2cPLTymsB/A5gMIAzAPwLAP1wF4B+fjYUYl1KakOEr6ZFQATiReDah0bjgo4tcdCeDePVsTz3Rkmt78AV631HqgpF4K8ENhZvQufbhuKVuzugbu2qoeNhPOJqsDZ7KR4ZZ1DU23uXejjruD1C948MABTr4z8KJGCF7+OdANQC8GP4pvhmgZJa31CqIhEQgUImwJeXM+4YVvo1q4b1ahQyipz7rqQ2Z4SJFSjW+45UFYrA1gTO7T4cva5oh90a89jccMvFfT7GTecegL12qReuIRFq/esf/8CAdyfhxbuOQ8UK5SNkWWGaolgff79LwMqvjw8FsD+ArwGMz2/TeW1NSW1ecasxERCBuBKY9XsRbntyDAb17Yhy5RSyc/Gzktpc6CW9V7Hed6SqMA4E1q0vRtUq/m37vubBUbjgxD3RJgKrcM/sNgwPdj0MTRvy8VchAX6N8OoHPkPXs/bDns0k7IU9KhTrw/ZA8O0rGw6esWnhQgAvOYe1c8XV+c72wfxZkL+WlNTmj7VaEgERiDGBURPmYMS42Xjg2sNi3Mv8dE1Jre+cFet9R6oKbSdgtvy9encHbOvTlr8ez47Foa0bocPBO4eKZ9Omzfj7rR/i5R7tUa9OtVBtiVrjG4s3o1JFrb6Kgl8U66PghWBtkIAVLF937ZOcA9tfBXARgCsBtMlf83ltSUltXnGrMREQgbgSePGDH7Bh4yZceVrruHYxb/1SUus7asV635GqQtsJLFy2Bpf19ffQ9Uf+9V3pFvJz2od7xtKK1Rvwjx7D8U6/E/VhEdsHaoztV6yPsXOdrknAyp+PlzlfD+IXgyo4B7lvn7/m89qSktq84lZjIiACcSXQ/ZmxOKR1I5zQLtyZ9zjwtTypfRjA0wB+iZAvFOsj5AyZEg0C0+csQ++B4/HaPcf7ZtCqNRtQqVIFVKnE14fwyvKV6/HkO9/jzovaaEt7eG5Qy2kIWB7r5V8PBCRgeYDk0yUrALg3jPMz2PwcdhyLkto4elV9EgERyDuBIaN/Kf36YJPtufNcJRcClie1QwF0APAVgGcADAFQnAsPH+5VrPcBoqqIFwEe6P36iJ/w+E1Hxatj6o0IWELA8lhvCeVwzZSAlT/+6wH0dTV3O4D7EprvlT9zAm1JSW2geFW5CIiACIhApgRikNTyq8WXArgYAE+IfhnAswBmZcoCQDsAfQAcxDOInS8h/82pZx8ATwA4AMByAM8D6JmkDcX6LMDrlngTGPmf3zB28gL0vJyPmIoIiEC+CcQg1ucbmXXtScDKn8vGAOD2wbIK/3Z4/swJtCUltYHiVeUiIAIiIAKZEohRUst9RJ0A3A2AYtNnzhmbH3tkwjfrjwBcA+BdABsdseobADUBTAcwEAAn1ZoDGA7gIQCPJdSvWO8RuC4rHAJvfTINCxavxg3n8KPjKoVIgOdWVihfDhUq6FD3MPwfo1gfBj4r2pSAZYWbrDNSSa11LpPBIiACIhBvAjFJavlGdDKAKwBwj9IHAH4FcAmA1wHc4MGLXwIYD+CWJNfyi8n3A2gEYLPz964ArgWwuwQsD3R1SUET+Pfk31FcvBlH7N+4oDkUcudvePQLnH707jh0H/6MquSbQExifb6xWdWeBCyr3GWNsRKwrHGVDBUBERCBwiBgeVLL7YOXOV8xprDEbX385w/He/z7DwlnbSZzbDUAK50VW0cC2NXZgtjPOVeLh8W3BHCC62au2OIq8joAVrn+u2J9YTw66qUIiEAGBAaP+gUTfv4T/a4yu7IzuFmX5kzA8lifc/8LoQIJWPnx8iPOUnx+ibCswgPdu3ucPc2P1dm3oqQ2e3a6UwREQAREIAAClie13ObHrYI8wJ2rrszqKDcprsA6Lw26HQHMBfAngBMBfA/gFABvATjCOWOrBoBzXPW0cM7IauJ8Qdn8SbE+gHGqKkUgGYEfZi7GTg1ro3aNygIUcQIrVm/ARb0/xkNdD0OzRtT9VfJJwPJYn09U1rYlASs/rusB4HrnzImRzixpkTObuZfzZaGOAB4F0Ds/JgXaipLaQPGqchEQAREQgUwJWJ7UcqXUzEz7nOR6xmcezM6PyHRz/X0EgIkAqmS6Auvqq69G5cr/fanu0KFD6T8qIiAC/hK46oHPcPFJe+PAltv7W3EGtX00dha2qVkFh2hrXFpqjw+aiPLly+GaM/ZNe60uyJ3AyJEjwX9YNmzYgAEDBvB/Uj1ckXvtqiFqBCRg5c8jnPW8EsBpAPZwDnQnfx6Wys9h80mbnz9zAm1JAlageFW5CIhA3An8Or8ID73xLZ669ei4dzVv/bNcwGKe8DSAT3wA9guAd8oQsH4C8EDCGVjXOQe+6wwsH+CrChHIhsCdT/8bR+7fGMe1bZrN7b7cc98r36DFztvi70fs5kt9ca5k1u9FuPnxr/Byj/aoVV2r5vLpa8tjfT5RWduWBKxwXMfl+dwyuBTA6nBMCLRVCViB4lXlIiACcScwasIcjPzPbNx/zWFx72re+md5UvskgH8AWALgOQAvAViUJTweyn67c87VZAAnOVsI+SXknwFMc75C2Nc5uH2Yc2aWvkKYJXDdJgK5Euj/5rdo3KAmzjqWc+DhlLue+TeO2C9cES2cnmfX6u0DxqDNntuj81GJ2n929ekubwQsj/XeOlngV0nAKvABEFD3JWAFBFbVioAIFAaBFz/4AfwU95WntS6MDuehlzFIankAO8+muhwA96W876zK+iILfLcBuNrZYsEVWfcAGOrUszeApwAcAIDHHXDlV7LjDRTrswCvW0QgGwIvffgj1m/chH923ieb23255/pHPsdZxzZHu1b6up4XoPMWrizdcllTK7C84PLtmhjEet9YxLUiCVhx9Wy4/VJSGy5/tS4CImA5ge7PjMWhrRvh+HY7W96T6Jgfs6SWAtYLAPYDQAGKXw/kvyc73D0oJyjWB0VW9VpJYMbc5Rjy+Qzcev6Bvtv//hczMXXWEnTr0sb3ur1WeNm9n6Drmfuh1W7beb1F14lA3gnELNbnnZ8NDUrAssFL9tmopNY+n8liERCBiBAoKSnB+feMwF0Xt0WLptxtruIHgZgktdsCuBDAZQAaOFsJfwXAc6omATjbD1Ye61Cs9whKlxUGgTGT5mPI6Bl4+Hp+0NPf8uXEefjgq1/xUFfu9A2nnHPXR7j3qkP1Zb1w8KtVjwRiEus99rYwL5OAVZh+D7rXSmqDJqz6RUAEYktg2Yp1uLDXSAzqeyKqVakY237mu2OWJ7U8DI1bB/khGH4t8BkAbwNY73Ck0jkXAM/YzFeAycbIAAAgAElEQVRRrM8XabVjBYEPv/oV309fhO6XtPXd3sXL1+K3BStC+wrh5s0l6Hzbh3jujmPRoG513/unCkXALwKWx3q/MMS6HglYsXZvaJ1TUhsaejUsAiJgO4HfF6/Cu5/9gq5ncXeYil8ELE9qVwJ4wxGuvi+Dyb0JXxb0C11Z9SjWB01Y9VtF4NWPpmLF6g245gzu8I1foYhVrhxQjv9HRQQiSsDyWB9RqtEyS79A+ffHdADPA3gwoWnOqMblbUVJbf7HlVoUAREQARFIQcDypLYWAIpYUSqK9VHyhmwJncDjgyaibp2qOO/4lqHbIgNEoFAJWB7rC9VtGfVbAlZGuHy5mMv9FwAYDOAmV41MTJmgxqEoqY2DF9UHERABEYgRAUuTWu4hZa620eWKCwDsD4BfH3wvRBcp1ocIX01Hj0DPF/5TusXvxEObRc84WRQqgQ++nIlKFcvjhEM0NoJ2hKWxPmgssapfAlb+3bkCAKdmRjrnWPAwVn41iP+dyWAcipLaOHhRfRABERCBGBGwNKl9F8AnAJ51XHE7gF4AJgPYC8BVzkHuYXhKsT4M6mozsgT6DByP9m2bos1eDSNrowwLhwAP4X99+M945vZjUL68Xr+D9IKlsT5IJLGrW09Q/l1qhCoeuDoUQJFzKOufWoGVf2eoRREQAREQgcIgYGlS+xuAQwHMd7zEFdwUsV4BcCaAWwAcFJIHJWCFBF7NioAI2EWgeNNmXNLn49Lz0Q7aUwJnkN6zNNYHiSR2dUvAyr9L3SutqjlfEaoPYB8Acfmsh5La/I8rtSgCIiACIpCCgKVJLSe56jjdag5gCoBtAKwFwO2FnPyqF5LjFetDAq9mC5NASUkJijeVlG5FU7GPwFufTMNPs5ai5+Xt7DPeIostjfUWEQ7fVAlY+ffBBAAHupqtAOBFADzTIi4RSUlt/seVWhQBERABEYifgEWBioemrAFwDoBbXR98Yf6wLMTjBxTr9cSJQB4JDPzwR3Alz+V/b5XHVv/b1G8LVmD9hmLs0ZQbSFSyIbBs5Tpc0ucTPH7TkWjcIC7HHmdDIth7JGAFyzcKtUvAioIX/msDE9FN0TEnJ0uU1OaETzeLgAgUKoF3PpuO6lUr6RDgAAaApUnthwC+BvCEs2KbZ1/d7ODhiqyPAOwWAC4vVSrWe6Gka0TAJwJDRs/A9LnLcPsF+d81/OpHU7FyzUZcfXprn3pTmNX0f/Nb1KxaCVd05sYblSAIWBrrg0AR2zolYOXftR87K64GJTT9fwBOyb85gbSopDYQrKpUBEQg7gS6PzMWh7RuhBPa7Rz3rua9f5YmtXzL+dTZJsjzr9q6zsO6E0ALAOfnHeZ/G1SsDwm8mi1MAp9/OxfDx/2G+685LO8Annp3EmpUq4QLT9wz723HqcFZvxdh9h8rceT+jePUrUj1xdJYHymGUTdGAlb+PbTB+eJgT2dG1VigrxDm3xdqUQREQAQiQ4Dnm5x/zwjcdXFbtNA2Dd/9YnFSy/MxKVRNA7DaBWYPACsB/O47LG8VSsDyxklXiYAvBCb9sghPvvM9nu92nC/1ZVLJg69NQLMd6+D0o3fP5DZdKwJ5J2BxrM87K1sblICVf89RqOIXhUYAeBkAZ1BZJGDl3xdqUQREQAQiQ2DZinW4sNdIDOp7IqpV4fncKn4SUFLrJ83SuiRg+Y5UFdpKYMrMxVi7rhht9gruC3Nz/1yJ6x/5Au/2OxHlyuX3Fe7u58ahXasdcLxWB9s6RAvGbsX6+Ls6v79+8efppYdGqOKhrBSxvgTwTwDLAcTlRD8ltV5Ggq4RAREQAReB735eiGfem4zn7jhWXAIgoKTWd6iK9b4jVYW2EuAB6xuLN+GKU4M722jV2o04566P8FafjqXb+fJZbnrsC5x65G74W+sd89ms2hKBjAko1meMzLobJGDl32XulVb1nQNY5wPgG0vN/JsTSItKagPBqkpFQATiTGDwqF9KD+i948I2ce5maH1TUus7esV635GqQlsJ8HDuJg1q4cxj+W2FYAq3mT82aCIu6rQX6tSsEkwjZdR6Rb9PceVp+2Df5g3y2q4aE4FMCSjWZ0rMvuslYOXfZ4sAULgypQaA9wEc7XyJMP8W+d+iklr/mapGERCBmBOggFW5UgWcdNguMe9pON1TUus7d8V635GqQlsJ8AMch++3I45r29TWLqS0+/vpC7HLjtugdo3KseyfOhUfAor18fFlWT2RgBUNH/OwE0a8mdEwJ2crlNTmjFAViIAIiIAI+ElASa2fNEvrUqz3HakqtJXANQ+OQpdOe+HAltvb2gXZnWcCPNNsxrzlOOqAJnluOd7NKdbH27/snQSscH3Mw9z3AzAGwPfhmuJr60pqfcWpykRABERABHIlEKOkNioffVGsz3VQ6v7YEPhHj+HoeXk77NZ4m9j0SR0JlsDPvy3F3c+Pw8s9OujDLT6ijlGs95FKvKqSgJU/fz4N4FsALzhNXuB8hZCJKD+RfSqAYfkzJ9CWlNQGileVi4AIiIAIZEogRkntyoh89EWxPtNBqOtjSaB402aceuuHeLlHe9SrUy2WfVSn/CfAM81ufPSL0m2nHQ/ht71U/CAQo1jvB45Y1iEBK39unQ7gBNc2QW4XfB7AfQCuA9AZwBH5MyfQlpTUBopXlYuACIiACGRKIEZJrQSsTJ2v60UgQAKbN5dg/qJVaFS/JiqU16tVgKhjV/Vn38zB4NG/YMAtR6NcOY0dPxwco1jvB45Y1qEnJX9uXQ5gWwAlrvOu6gEoAlAVwBwAcfm0hwSs/I2r/2fvPKCsqJI//JFRQQUUMIGKiihGFAyYdRFQd8UcEHNC16wgKkgQFHVXXUwY1hzWLKggYgIVBBMGEJAoCEoYQMLAzPxPsT37H8eBeaH7dt/3fvccDmG6q+p+9Ziqqb5dJU0iIAIiIAIpEMihpLY70D+FLUd9iWJ91IQlXwREIKcJFK4u4pw+w7nuzFaa8BiSp3Mo1odEJPfEqIDlzqe/AY2BNcFpq35Ai0C9+cEKWZYM5sJSUpsLXtQeREAERCCHCCipDd2ZivWhI5VAEVg/gWlzCnjpvclc13kfZ6hWryle+/y9RvVqznTmk6In3/qemb8s5aZz2+TTtiPbq2J9ZGgTI1gFLHeu+AB4HHgCeDYoWF0SqG8CfByczHJnUXSalNRGx1aSRUAEcoyA9cG4+9kvOPuYXdQ/JULfKqkNHa5ifehIJVAE1k9gxtwlXHffR7x42zHOUI0YO4P3x8+m3yU2e0orbAK/LV7BPS98Sc/z96N6taphi887eYr1ue9yFbDc+fhwYAiwHKgFtAZ+CNRfHvS/OtGdOZFqUlIbKV4JFwERyCUCi5aspEvvYbzQr6MmEUXoWCW1ocNVrA8dqQSKwPoJLPm9EJt4+OJt7uLFax9O5ftpC7jxbPvRRUsEkk1AsT7Z/gnDOhWwwqCYuoztATvzOxaYXua2g4FFwITURSX6SiW1iXaPjBMBEUgSgS8mzufBV7/h4e5HJsmsnLNFSW3oLlWsDx2pBIrA+gnYid1ONwxh0HWHrW0a72I9/c4PLCxYyd9P2cuFOukQgawIKNZnhc+Lm1XAitdN1hPrl3hNiES7ktpIsEqoCIhALhJ45f3JTJq5iO5d9HQ7Sv8qqQ2drmJ96Egl0EcCM39ZwqZ1a7PxRjWdmH9u3+Fcddre7NZsMyf6HnrlG2rUqMa5x+7qRJ+UiEA2BBTrs6Hnx70qYMXrpyU51Li9LEkltfF+rqRdBETAIwJ3PTOerRrW4dSjmntktX+mep7UFgGPABcH04xLHRBnHqFY799/A1kcAYEb/vUx7ffflkNbbROB9D+LvPbejzjuoO05eK+tneizGLVNo7qcfOROTvRJiQhkQ8DzWJ/N1vPmXhWw4nX1UqBuvCZEol1JbSRYJVQERCAXCVx+5/uccfTO7Ndyi1zcXmL25HlSuwL4DpgJnAoUBmDjzCMU6xPz6ZYhcRK4sP8Iup6wB3vstLkTM/7x3Bfs1qwBR7Zu6kTfrY98xr67NKLDAds50SclIpANAc9jfTZbz5t7VcCK19VxJp5R7lxJbZR0JVsERCBnCBQVl3DBbe/S/9K2NKq/Yc7sK4kb8TyptZNWWwKvA9UBG0FmOYROYCXxwyab8orAyTcOYeDfD6ZpY0t/c2+98v4UWmxbnxbb1c+9zSVsR8XFJfz0cwE7bLNpwizzxxzPY70/oGO0VAWsGOEDZwFPxmtCJNpVwIoEq4SKgAiIgAhkSsDzpLa0UFUDeAbYEWgP/BhjKwLF+kw/jLovZwisWLWGk28cyjO92zvrgZUz8LSRPxGYv2g5F/V/j4e6H0HDenqolclHxPNYn8mW8+4eFbDcu9zO+86oQG0bYExE5twSFMus26O9djAe6AZ8XUbf7sB9QCtgMTAYuLWcPfb384Nk2WR0DV5pKG+2ktqIHCmxIiACIiACmRHwPKkte2LbcjeL1x0Be++0dmZEsr5LsT5rhBLgO4G5v/3OpXe8x8sDjqVqVf1Y5bs/k2D/bf8ey5abbcTZx6hpfib+8DzWZ7LlvLtH32ndu3wBcAbwThnVlwO3RdgPy57UzgcKglcP/g5cHyS+JYDN4bWnuI8BvQHr0vg2cCdwT2DndcBlwRPfqUDPoChm1y4vh1FJrfvPlTSKgAiIgAish4DnSe2LwMnltnczcC4QV2MaxXr9j8t7Aj9MW8gdT33O47e0y3sWAhAOgW+m/MqAJ/77mapVo1o4QvNIiuexPo88lflWVcDKnF2md1rx6gHg7qBA9DBwUNCUdXSmQtO4rxZwCXAX0BCwgloX4Pagv0ZxIMuKXFZYs+KXrZ8Cm/8V/N2+o84Brg5eZyhrgpLaNByiS0VABERABKInoKQ2dMaK9aEjlUDfCNgrX99O/Y3D92nim+myN6EESkpKsOEufz24GUe1cdOoP6EoMjJLsT4jbF7dpAJWPO5qCbwKNAI+B04LTkhFaU2HoNC0CWBFqn8AdqrKlhXTWgSnq0pt2B8YBdj1VYPXCu3fyr7mOAyYAFxbznAltVF6UrJFQAREQATSJuB5UmsPkezV/v7lNm4xeLe0YYRzg2J9OBwlRQREQAT+QODtT6fzzifT+efVh1Clin5cT+fj4XmsT2ereXut/kfE4/q/Av8Oila/A52A6Y5MsbEWduJqNvByoPMRYKOgkFZqxs5Bf6ttggKWje62ItekMnY+H0xAulAFLEfekxoREAEREIGMCHie1K4KTj2/AVxRBkCc04xVwMrok6ibRCB7Aq9+MIXD99mGTerYixVauUZg5ao1nNv3XQZ0PZAmOTrdMiqfeR7ro8KSU3JVwHLvzjuAC4BzgDeBgUFBqTPwliNzzO+LglcX7eltJCewunbtSs2aNdduqV27dmt/aYmACIiACPyXwJTZi5k4fSHHtN1eSCIiMGzYMOyXrcLCQgYNGmR/tJPFNtXPp2X2NgdsM98BZwJFwT6skBTHUgErDurSKQLA2b2HcX3nfdhluwaR8pg2p4CXR07h2jNtxpOWSwLLV65mw9o2eFYrHQIqYKVDy89rVcBy77dvgxNX1jS9dJ0EWC+seo7MqR40dLei2StBM3YrrG0ZvF5oZtgTXmvavr4eWHOBq9QDy5HXpEYERCCnCLw8cjI/zlpE9y6tc2pfSd2M50mtFbCsYGSnqO3hlw1PsdPbv0Q4AKYyV6qAVRkhfV0EIiJw9T8/5ITDduTAPSx1j26N/f4XnnrrB+679rDolEiyCIRIwPNYHyKJ3BWlApZ7325YwdQ+s8Je2ZsYkTnWkN1e97NJhJsD/YATg1cC5wVTCO3VQJtCaF+zotXQoNF76RRC63NlBS0b2229OG4JngDbE2FNIYzIcRIrAiKQuwTuemY8WzWsw6lH2bdRragJeJ7UlhawDFPtIKZvBdicdcsr4lgqYMVBXTpFAOj72Bj22HFzjj0o2hO8I8fNYviYGQzo2lbcRcALAp7Hei8Yx22kCljuPbBv0Li9vGZ7kmqnoaJY9rR2n6BQZUmwNY7vDXxRRpk1lr8fsDPCBcGkxD7ljOkFXBQ87R0HdA1eZShvs5LaKLwomSIgAjlF4LKBIzmzfQv2a7lFTu0rqZvxPKm1ASptyrC14SrW1N3aEdif41iK9XFQl04RAAa99DV1NqhBl467RMrjjY+n8s3k37jp3LLffiJVKeEikBUBz2N9VnvPl5tVwHLv6WXANcBDgWpLPK0PliWh9d2bE4lGJbWRYJVQERCBXCGwek0RJ3UfykPdj6RR/bgO0OQKzdT2oaQ2NU5pXKVYnwYsXZp7BEpKSjjjlnf4x1WHOP8+/tzwSfyy4HeuOm3vSME+N2wi8xYt58pTo9UT6SYkPK8IKNbnvrtVwHLv40OCo//WiNVOQdk0QksC7ZW+Ke7NiUSjktpIsEqoCIhArhD46ecCut8/iuf7dtCIbEdO9TSptZ6VlqutLoPpLMB+mvwQeNURvorUKNbHCF+q4yewdHkhp9/8Ni/e1pENatl/VXdr2GfTGf31HHpfdECkSge/NmFtjDr/r/aihlZcBNYUFVOtahXlCyk4wNNYn8LOdEkpARWw4vksNAaGA3bu114b7AKsiMeUSLQqqY0Eq4SKgAjkCoEPv5jNW59M4/bLDsqVLSV+H54mtS8B75Y5td0tePj1TdD/6lLg8ZjgK9bHBF5qk0Fg5i9LuOaej/hP/2OcG2TFsxWr1tCwXrQneAe/PoH6dWtzwuGlM52cbzXvFRYXl9B14Egu6bQrm9cpoUGDBv+b8p73cCoA4GmslyvTIKACVhqwQrzUJvz1BcYGDdNPWEdfrBBVOhWlpNYpbikTARHwkcDKwjXUrun2qb2PnMKy2dOkdjpwIPBzwMGm/1oR6wngZOA6wHprxrEU6+OgLp2JIfD15F/513++YvCNRyXGJhmSewSKi4s57oyr+GnadOo1aEyV1Ys5qE1L+t3ag6pV42qBmFzOnsb65AJNoGUqYLl3ygvAfsErg9ZM3SYEWjHreuBB9+ZEolFJbSRYJVQEREAERCBTAp4mtTZUZZNgzzsBE4BNg1PbVv20ScINMmWS5X2K9VkC1O1+E7CTtENHT+OOy3WS1m9PJtv67jf34ZOp1dl4i/9v2L9k7vcc0GwN/fvcnGzjY7DO01gfAyl/VaqA5d53I4BTgd/KqLYX2F8EtnZvTiQaldRGglVCRUAEREAEMiXgaVJrBartgOXAacHDrr0CBtWARUEfzUyxZHOfYn029HSv9wRe+3Aq309bwI1nt/Z+L9pAMgkUFhZy+DGdqbfb6X8ycOGEZ3h/yNN6nbAcGU9jfTI/gAm1SgUs946xs57FFahtCMx3b04kGpXURoJVQkVABERABDIl4GlS+2bQbuC+4EGX9b66NmBgJ7LeAnbIlEmW9ynWZwlQt/tN4IMvZlOwbBV/PbiZ3xuR9YklMHfuXE48vxf1d+7w5wLWxKG8/GhvGje21spapQQ8jfVyYBoEVMBKA1YEl1pfC3uSOhr4MgL5cYlUUhsXeekVAREQARGokICnSe3ugJ3cttcErf9VmzL9sHoAOwOdY3K5Yn1M4KVWBEQgPwis7wTWognPMnLIUzqBVe6j4Gmsz48PdEi7VAErJJApiHkAGA88ElxrY7D/DSwBbITI8cDQFOT4cImSWh+8JBtFQAREII8IeJzUWo5ghapJwO9lXNYcWArMicmNivUxgZdaETAC8xcup2rVKmy26QYCksME1AMrPed6HOvT22geX60Cljvn/wi0B6YGKu33wcAAwKYSdgIOcWdOpJqU1EaKV8JFQAR8JjD6mzk0aVSXbRrV9Xkb3tmupDZ0lynWh45UAkUgdQL3vfgV9erW4sz2LVK/KY0rl69czYixMzmm7fZrC2Va8RCwKYQ9evbjozEToMamVFldoCmE63GFYn08n1OXWvXdyB3txUA9oARoGhSy7JUAmzBUG5gJWB+sXFhKanPBi9qDCIhAJAQuGziSzu1b0KblFpHIl9CKCSipDf2ToVgfOlIJFIHUCTz9zg8sLFjJ308pneuQ+r2pXDl7/lKuuOsDXr792FQu1zURE7DXCRcuXEj9+vX12qAKWBF/2pItXgUsd/6xqYPWZW9NcNqqH1D6yMT8YIUsSwZzYSmpzQUvag8iIAKhE1i9poiTug/loe5H0qi+vRmm5YqAClhrSfcEbO66TTW03MMeqlmj+DMCP1jPLWsY3wqwB292UvzWdfhIsd7Vh1d6RKACAm99Mo2x3/1Crwv2j4TPxBkL6f/vsTzR8+hI5EuoCERBQLE+CqrJkqkCljt/fAA8DjwBPBsUrC4J1DcBPg5OZrmzKDpNSmqjYyvJIiACHhP46ecCut8/iuf7dqBKFYVgl65UUvu/AtYRwMEVsK8DWLuDx4DegE05fBu4E7ingusV611+gKVLBMoR+OzbuTw3bBL3XHNoJGzG/TCPx978jvuvPzwS+RIqAlEQUKyPgmqyZCp7ducP++4/JHjqWQtoDfwQqL886H91ojtzItWkpDZSvBIuAiLgK4H3Pp/J8DEzuP2yg3zdgrd2K6mttIDVBbgd2BIoDhz9d8BylB1VwPL2oy/DIyAw59dlvPrhVLqeuEcE0lMT+ePMRfR5bAxP9YrmhNQHX8zmrdHTuONyxavUPKKrkkBAsT4JXojWBhWwouVbXvr2wD7AWGB6mS/ak9BFwAS35kSmTQWsyNBKsAiIgM8EHn3jW1avKebiTvamlpZLAjmQ1J4GnAs0AuwDZD9VWi/N19LgaK8QXhs8TLPXCD8BegQ5yd1BawMbOFO67N2kUcAmwLJyehTr0wCvS3OLQBJOJ/26aAXn9RvOq7cfS7VqVUMHPHTUT4yfNJ9bztsvdNkSKAJREciBWB8VmpyRqwJWzrgyURtRUpsod8gYERCBpBC46cHRtN1jK47ef9ukmJQ3dnie1NopKCs8PQTcEBSUdg16VB2QhhN3AZYCswCbIjAQaAPYMZJ7gY0AK5SVrp2B74BtgDkqYKVBWpfmNAGbzvf++Fn0u+TA2Pa5pqiYoaOn0X7/balZo1rodrwwYhKz5y/jmtOtJZ6WCPhBwPNY7wfkmK1UAStmB+SoehWwctSx2pYIiEB2BBYtWUmNGtWos0GN7ATp7rQJeJ7UTgKOB74PTmzbVGP7iXUesFnaMP7/hppBT04bM9YhkxNYXbt2/d9ErHbt2mG/tEQg1wn8570fmTF3KdeembvFnQUFK1i1uogtN7P2eFoikFwCw4YNw37ZsmmNgwYNsj/ayeElybValmVKQAWsTMnpvvURUAFLnw8REAEREIFEEfC8gLUQqB8ALf2zFbDmB68RZsq6tIB1XHAi645yPbCuAC5TD6xM8eq+XCUw+LUJVK1ahfOOa5mrW9S+RMBLAp7Hei+ZuzZaBSzXxPNDnwpY+eFn7VIEREAEvCHgeVL7GdANsInGpQUsGw5j0wLbpuGEk4CRwIKgl5a9Qmj37wZYTmgnvWwKYb+gaDUUuEtTCNMgrEvzgsAdT41jh603odNhFc03yAsE2qQIJJKA57E+kUyTZpQKWEnzSG7YowJWbvhRuxABERCBnCHgeVJrr/c9A9wP2KmoAcF0wM7A8DSc9DpgHZmt15UNj/kIuBn4KZBhx0lMh70XVQA8APRZh3zF+jTA69LcInDLQ59waKttOHwfaw+nJQIikBQCnsf6pGBMtB0qYMXjntbA2cFxfetpsSewAfBpPOaErlVJbehIJVAEREAERCAbAjmQ1B4GXBmcjPolOBVlBam4lmJ9XOSlNxEEiotL1r5GqCUCIpAcAjkQ65MDM6GW6Luue8ecGBzPfwmwP1sCuG/wNPUI9+ZEolFJbSRYJVQEREAERCBTAkpqMyW3zvsU60NHKoEiIAIiIALZEFCsz4aeH/eqgOXeT98AlwKjykwSqhWMtG7o3pxINCqpjQSrhIqACPhKYPWaYsb98Autd2lMtWpVfd2G13Z7ntTaq4ITgK/KOGEvYJfg1cI4fKNYHwd16RSBMgTG/TAPm4h4+2UHhc7llwW/s/mmGyhmhU5WAqMk4HmsjxJNzshWAcu9KxcDmwZqSxuxmh+soWrphCH3VoWrUUltuDwlTQREwHMCP/1cQPf7R/F83w5UqaLQG4c7PU9qpwTN1u3VwdLVOHgYtkMcPIMT5AUFBQVsvLGFfS0REAHXBH6YtpABT37OEz3bhaq6qLiEv133Bo/f/Bc229S6nGiJgB8EPI/1fkCO2Upl0e4d8DVwFmC/lxawrFnqw0HTVPcWha9RBazwmUqiCIiAxwTe+3wmw8fMiOQpucdYnJrueVK7JCgYlWe2FKjrFOT/K1Osjwm81IpAKQE7JXVR/xG8csdxVAuxH9fS5YWcfvPb/Oe2jtSuVV3ARcAbAp7Hem84x2moClju6Z8TTPyxqT73ABcCPYOR1U+7NycSjUpqI8EqoSIgAr4SePSNbylcXcQlJ+zh6xa8t9vzpHYScCzwYxlH7AS8DTSLyTmK9TGBl1oRKCVgceWEbkN4smc76m1cOzQwc3/7nUtuf49X7zhWp4ZDoypBLgh4HutdIPJehwpY8bjwfOAqwI79l04SujseUyLRqqQ2EqwSKgIi4CuBmx4cTds9tuLo/bf1dQve2+15UtsXOBK4JChiWfFqEPAh0D0m5yjWxwReauMlMG1OAcuWr2a3HTaL15BA+2k3vUXfiw+g2dalHUqyN2vyrEXc+shnPH1r++yFSYIIOCTgeax3SMpfVSpg+eu7JFuupDbJ3pFtIiACTgmUlJRwZs93uOW8NjRvmiutDp0iDEWZ50mtHa14BDgdKAmAPAdcAKwIBVD6QhTr02emO3KAwLPDJvLrohVccarNUYh/XXrHSM49dlf2adEoNGO++nE+D77yDQ92s7q5lgj4Q3Y6b5IAACAASURBVMDzWO8P6BgtVQHLPfwjgomDZV8DaA5sCbzv3pxINCqpjQSrhIqACPhIYOGSlZzdexgv9lMvkTj9lyNJrR35sGN804Hf4uSpJu4x05f62AgMeulr6m5Yg7M62BDQ+Ne/h3xHq50bhXoibNTXP/PqB1O464pD4t+gLBCBNAjkSKxPY8f5d6kKWO59/h1wDDCtjOrtgDeBlu7NiUSjCliRYJVQERABHwmsLFzD5JmLQ/3hwkcOcduspDZ0DyjWh45UAn0g0PexMey+42Ycd1Bc7eeipzR19mKmzF5Mu/302nv0tKUhTAKK9WHSTKYsFbDc+2Vdk4QKgE3cmxOJRiW1kWCVUBEQAREQgUwJeJ7UbgHcBrSuYOpgk0yZZHmfYn2WAHW7nwSuvecj/npIMw7acys/NyCrRSCHCXge63PYM+FtTQWs8FimKslOXh0AzC1zg70++BkQVxKaqu2pXqekNlVSuk4EREAERMAJAc+T2uHAhsCzwO/lgD3hBOCflSjWxwReauMlcF7f4Vx52t7s1iwZTdzjpSHtIpAsAp7H+mTBTKg1KmC5d8yDgD1JPQsoPXX1OPArcJF7cyLRqKQ2EqwSKgIiIAIikCkBz5Nayxe2BpZmuv8I7lOsjwCqRCabgA3lOKHbEO695lC2blg32cbKOhHIQwKex/o89Fj6W1YBK31m2d5hI6is35W9BmANWO3xzVjgOGBBtsITcr+S2oQ4QmaIgAiIgAj8l4DnSe0koBWwLEH+VKxPkDNkihsCxcUlfPvTb+zctD41a1Rzo1RaREAEUibgeaxPeZ/5fKEKWPF437i3KTNJaEyZsdjxWBSuViW14fKUNBEQAREQgSwJeJ7UngD8DehWrgWBUSnOEk2mtyvWZ0pO94mACIiACERCwPNYHwmTXBOqAlaueTQZ+1FSmww/yAoREIGYCfy2eAVVqkCDTTaI2RKp9zypLS1SlVTgybiOgSjW67+VCCSAQFFxCQOfGkfXk/ag7oY1E2CRTBCB+Ah4HuvjA+eRZhWw3DtrI+DKdUwSOty9OZFoVFIbCVYJFQER8I3Ao298S+HqIi45YQ/fTM85ez1Pag9Zj0M+jMlZivUxgZdaEShP4JQeQxnQtS3bbRnOQPNbHvqEzh1asOM29QRbBLwi4Hms94p1XMaqgOWe/PPAvsDrFUwSutm9OZFoVFIbCVYJFQER8I3ATQ+Opu0eW3H0/tv6ZnrO2aukNnSXKtaHjlQCRSAzAhcPeI8L/7Ybe+/cMDMB5e46/ea36HPRATTbetNQ5EmICLgioFjvinR8elTAcs9+EdAC+MW9amcaldQ6Qy1FIiACSSVg06rO7PkOt5zXhuZNbX6HVpwEciCpPQA4O5hkfCywN7AhMComror1MYGXWhEoT+DG+0dz+D7bcGTrJlnDsUb1x1//Bg/feBSN6tu3GC0R8IdADsR6f2DHZKkKWO7BTwd2Agrdq3amUUmtM9RSJAIikFQCC5es5Ozew3ixX0dq16qeVDPzxi7Pk9pTgIeBF4BTAYuz+wB3AHG1H1Csz5v/PdpoKYFFS1eyQa3q1K6ZrO/pdz49nqZb1OWkI+xHjOzW8pWrOaXHWzzXtwN1NqiRnTDdLQKOCXge6x3T8lOdClju/XYJsF0wSSiuyUFR71pJbdSEJV8ERCDxBL6YOJ+HXv2Gh7ofmXhb88FAz5PaCcBFwCeAneS2xjS1gFlAOO8Mpf8hUKxPn5nu8JxAz8Gfsl/LLWifsNfCrd/imqJiLjp+96wJz1+4nPNve5fX7jiOqlX1o2LWQCXAKQHPY71TVr4q03cl956bBmwVnMCaX0799u7NiUSjktpIsEqoCIiATwReHjmZH2ctonuX1j6ZnbO2ep7ULgZKm9EsBOydVMvhFgR/jsNvivVxUJfOWAlccdcHnNau+doiVpLWqx9MYdqcAq4+vVXWZv30cwE9Hhi99gSWlgj4RsDzWO8b7ljsVQHLPfbz1qPyUffmRKJRSW0kWCVUBETAJwJTZy9mZWERu27fwCezc9ZWz5Par4BzgC+B0gKWvUL4YPAqYRx+U6yPg7p0xkrgrF7v0OOc1onra2g9F6tUCefHuimzFvPEW9+vbeKuJQK+EfA81vuGOxZ7w/lOF4vpUppgAkpqE+wcmSYCIiAC+UjA86T2LKA30A+4C7gUsMnFvYDnYvKnYn1M4KU2HgJFxSV0uv4NBt94FA3V3DweJ0irCFRCwPNYL/+mQEAFrBQgRXCJjQixJqxbAlcCzQDrBjkpAl1xiFRSGwd16RQBERABEVgngRxIam0C4VXAjsBc4B7g3hhdrlgfI3ypdk9g8dJVdO71Di8POIaaNaq5N0AaRUAEKiWQA7G+0j3m+wUqYLn/BBwCDAE+B/YF6gIHA9cDx7g3JxKNSmojwSqhIiACIiACmRLwOKm1n5StsY29Prg60/1HcJ9ifQRQJTK5BKzHVPf7R/O8ekMl10myLO8JeBzr8953qQJQAStVUuFdNwa4HXilzCShDYGpQLI6Qma+ZyW1mbPTnSIgAiIgAhEQ8DiptVxtGVAHKIkATaYiFeszJaf7vCQwb+FyPvpyNicdsZOX9stoEcgHAh7H+nxwTyh7VAErFIxpCalokpAJKPvvaQlM4MVKahPoFJkkAiIgAvlMwPOk1pq420iwOQnyoWJ9gpwhU0RABERABMDzWC8XpkBABawUIIV8yQ9AR+CnMpOEmgMvAy1D1hWXOCW1cZGXXhEQgUQQKFi2io03qhnaVKhEbMpzIzxPas8NphDeCkwHisu4w/KJOJZifRzUpVME1kHgi0nzabBxbZpuYf81tUQgPwl4Huvz02lp7loFrDSBhXD5dcApgP3+KnA0MBB4KWjIGoKK2EUoqY3dBTJABEQgLgI2zvzMnu9wy3ltEjdqPS4mSdDreVJbtmBV+hqh5XD257i6SSvWJ+GDLRtEICBw+5Ofs8PWm3LC4TbnIfM17LMZNNt6k7WytETANwKex3rfcMdirwpY7rFXDUZhXwFsBKwCHg4mC5VNUN1bFp5GJbXhsZQkERABzwgsXLKSs3sP48V+HaldywbMaiWBgOdJbdP1MJwRE1/F+pjAS60IVERg8GsToApc8NfdsgJ07T0f8ddDmnHQnltlJUc3i0AcBDyP9XEg806nCljuXVY/6Hdlxaotg0buK9ybEalGJbWR4pVwERCBJBMYP3EeD786gYe6H5lkM/PONiW1obtcsT50pBIoApkTeHnkZKb+XMD1nffJXAhw8YARXHj87uzdvGFWcnSzCMRBQLE+DupudaqA5Za3PYpfCljSl6RR2GFTUFIbNlHJEwER8IaA/RAxedZiunXZ1xub88HQHEhqTwOsF1YjYHfgIKAB8FpM/lOsjwm81IpARQRGjpvF8DEzGNC1bVaAOvd8h5vPa8NOTeplJUc3i0AcBHIg1seBzSudKmC5d9ePQOvgFJZ77W40Kql1w1laREAEEkjgzqfHs3WjOpx6lM3n0EoKAc+T2suBa4GHgBuATYBdgcHAATExVqyPCbzUxkPgqn9+yHVntGLLzevEY0AlWr/6cT73v/wND2dx+td6OHa64U0GXX84W26WzH0mEr6MSgwBz2N9Yjgm2RAVsNx752TgROD6YJKQewui16ikNnrG0iACIpBQApcNHEnn9i1o03KLhFqYn2Z5ntROAo4Hvg9aD9jRCGvePg/YLCaPKtbHBF5q3RNYvaaITjcM4cme7ai3cW33BqSgccYvS7D+Vf/pf0wKV1d8ycpVazjpxqE807v92km6WiLgGwHPY71vuGOxVwUs99hLG7WXThEqa0Fck4TCpqCkNmyikicCIuANAXuF8LB9tqF+Qn/I8QZkyIZ6ntQuBKyHpq3SP1vOMD94jTBkWimJU6xPCZMuygUC8xct54J+7/LKHcdRrWoyf3wqXF209vX1XbarT5Uqmdn42+IVnNNnOK8NTO4+c+HzpD1ER8DzWB8dmBySnNl3txwCEMNWjliPzvdisCcKlUpqo6AqmSIgAiIgAhkT8Dyp/QzoBnxQpoB1eDDVOLuGNxkTXdvPs6CgoICNN7Y/aolA7hL4ceYi+jw2hqd6HZ27mwSKior5dfEKGjewQelaIuAfAc9jvX/AY7BYBawYoOeBSiW1eeBkbVEEREAEfCLgeVLbAXgGuB+4AhgAWF+szsDwmPygWB8TeKl1T2DMt3N5ZthE7r3mMPfKpVEERCBlAp7H+pT3mc8XqoAVj/etifvZgDVIsZ4WewIbAJ/GY07oWpXUho5UAkVABERABLIhkANJrf3kfCWwI/ALcA/wejZMsrxXsT5LgLrdHwLDPpvOJ9/M5dYL9/fHaFkqAnlIIAdifR56Lb0tq4CVHq8wrrYG7o8BLwXN3C0BtFnr9jR1fa8XhqHblQwlta5IS48IiIAIiEBKBDxMavsD3YPNHQiMTmmj7i5SrHfHWppiJjBi7Ex+/nUZXTruErMlUi8CIrA+Ah7Gejk0TQIqYKUJLITLvwEuBUaVmSRUC5gFNAxBfhJEKKlNghdkgwiIgAiIwP8IeJjUFgCbBBtYAmt7TiVpKdYnyRuyRQREQAREAA9jvbyWJgEVsNIEFsLli4FNAzmlk4TMDwvKTBgKQU2sIpTUxopfykVABOIgUFxcgg1+ynT6Uxw255NOD5PaicDDwFfAEKAjUFHeNjImPyrWxwReakVgXQRWrlrD7ytX02AT60yiJQL5R8DDWJ9/TspyxypgZQkwg9u/Bs4C7PfSAlarIEm133NhKanNBS9qDyIgAmkRGD9xHs+8M5G7rzwkrft0sRsCHia1RwH3Ac2AqusoXpUA1dwQ/JMWxfqYwEutCKyLgL3q+P74WfS7xN46Tn/N+W0ZtWpUUwEsfXS6IyEEPIz1CSHnjxkqYLn31TnAzUCfoAHrhUBPoB/wtHtzItGopDYSrBIqAiKQZAIvj5zM5FmL6dbF2hpqJY2A50ntUqBuwpgq1ifMITJHBL6YOJ/Br0/ggRsya6t717Pj2bphHU45srlgioCXBDyP9V4yd220Cliuif9X3/nAVcAOZSYJ3R2PKZFoVVIbCVYJFQERSDKBO58ezzaN6nDKUUr8k+gnD5PaZ4AzApalD76ShFaxPknekC0iAEybU0C3QaN4oZ+9cZz+6v3oZ7Rq3pCObbdP/2bdIQIJIOBhrE8ANb9MUAHLjb+sYPVIoKpxULRyozkeLUpq4+EurSIgAjESuGzgSDq3b0GbllvEaIVUr4uAh0mtmrjr4ywCIpAWgYJlqziz5zv8p39Hatesnta9dvH1931MhwO349C9t077Xt0gAkkg4GGsTwI2r2xQAcuNu8pOD0riJKGwKaiAFTZRyRMBEUg0gdVrijip+1Ae7n4kDetvmGhb89U4D5PaL4CPg56Zg4IJxhXlbY/F5FPF+pjAS61bAgsKVjBk1DS6dNzFreIMtJWUlNDphje5//oj2GKzjdKWcOkdIzn32F3Zp0WjtO/VDSKQBAIexvokYPPKBhWw3LhrBnB5MEnoe6DFOpqxznRjTuRalNRGjlgKREAEkkRg6uzF9HhgNM/17aAphElyTBlbPExq9wQGBE3ctwNmVYDWmrjH9a6PYn1CP+syK1wC3/20AOsN9dhNfwlXcETSzukznGvPaMWu2zdIW0OXW9+h+9mt2blp/bTv1Q0ikAQCHsb6JGDzygYVsNy4y6YOPgDUXoc680Ock4TCpqCkNmyikicCIpBoAtZ3ZPQ3czjzaHs+oZVEAp4ntWrinsQPlWzKCwKjvv6ZVz+Ywl1X+DFhdsion9ireUO22rxO2v454YY3ueeaQ9m6YdJmRqS9Fd2QpwQ8j/V56rX0tq0CVnq8srm6BrAV8C2wxzoETc1GQYLuVQErQc6QKSIgAiIgAuB5UlsTKEyYHxXrE+YQmRMNgTc//omvJ//KTee2iUZBQqTa64e21yNbN2HD2vZji5YI+EfA81jvH/AYLFYByw30PoBNELJ1A3C7G7WxaVFSGxt6KRYBERABEaiIgIdJbWfgqWAv567Hq+qBpY+8CERI4Mm3vmfJ74VcdpK91aslAiKQZAIexvok40ykbSpguXFL3E3c+wM2T7cpsAz40AaNALPLbH934D6gFbAYGAzcWg6P/d0mKlqBajzQFfiuAoQqYLn5XEmLCIiACIhAigQ8TGrtxHbLYHvT1rHNbHpgvQr8FTgSGBnITyUXKDVFsT7Fz54u85vAvS98SYNNNuCMo3f2eyOyXgTygICHsT4PvBLuFlXACpfnuqRNAmyC0FfAO0C7dTRx/ygic/oBLwETABuPZf24bJTKXoE+e0n+R8Ce4vYGdgLeBu4E7gmuuQ64DGgP2KuOPQHr7WXXLi9nt5LaiBwpsSIgAiIgApkRUFL7B24Wv08Hjgp+WQErlVygrBDF+sw+irrLMwK3PvLZ2ql8HQ+0WQpaIiACSSagWJ9k74RjmwpY4XCsTMrRwL+A0shXEXeXTdytB5eN57YRIwVAl+C1xi2B4mAzfw8mJ+4Y/P0n4O5gH/ZP1YA5wNXAMypgVfYR0NdFQAREQATiJJADSW0toB6wCFiVBcutgVFAW8CmH5eewEolF1ABKwvwutVPAstXrqZqlSrUrlXdzw3IahHIIwI5EOvzyFuZbVUFrMy4ZXpX1aBgtOk6BBRlKjjN++z1wYvLjN62wpSNzrLTVaVr/yDB3QQwu+21Qvu3MWWuGRac6rpWBaw0PaDLRUAEREAEnBLwOKm109L/AA4M4rE9aLIClD1A+jIDiBa7XwQeDR5alRawKssFrAWBClgZANctIiACIiACbgh4HOvdAMoBLSpguXeivUA/0b3a/2m0RNX6XnQC3g3+9RFgI+C0MnaZndbfapsgYbantFbkstchS9fzgPX3ulBJbYwelWoREIFYCTz4yjfs1GRTDt+nSax2SPn6CXia1NqHyl7/t0LVs8GJKetnaa//WUdp61k1Iw3fXxr0vbJWBrasGFZawKosF7BT12WXXiFMA7wuFQFXBJYuL+Sqf3zI/dcfTs0a9sKElgjkDwFPY33+OCiEnaqAFQLEFETYU9PRwXUHr+f6qHpglao8JphoZK8JvFHGjsqeumZ0Aqtr167UrGmTv6Fdu3Zrf2mJgAiIQK4RuGzgSDq3b0Gbllvk2ta838+wYcOwX7YKCwsZNMjaUWIni+3hiw/rn0ADwCYSll//Dk51X5HiRrYPTm61AWYF95QtYFWWC1R4AkuxPkX6ukwEHBEoKi6h0/Vv8PCNR9GovrW+TW298v5kFhSs5IK/7ZbaDbpKBBJCIAdifUJI+mGGClhu/LQUqFsmWaxIa9Q9sM4I+ledBIwoZ4A1c70DKNsDyxJia9q+vh5Yc4Gr1APLzYdIWkRABJJHYPWaIk7qPpSHuh+Z1g8KydtJ7lvk6VPZr4PTVhVN/N0VsJPQqf60aQ+vHgqKd6X5nxXHrBfmC8AnwEDAKrGl/TDL5wJlPyg6gZX7/220Q08JdLn1Hbp3ac3O21q729TWI69/S0lJiQpYqeHSVQkl4GmsTyjNZJqlApYbv9gJptJkcH1neaPqgWWFKJsueGyZk2Bld26Th+zVQJtCaBMLrWg1FLirzBRC63NlcjoC1tD9FuBMoLmmELr5EEmLCIhA8gj89HMBN94/iuf6dqBKFYXU5Hno/y3yNKm1hu3WuL2iZR+4hev5evl7agfDW8r++2zglKClwJoUcgEVsJL8IZdtIhAQuOofH3DSETtxwO72bDq19c/nv6BRvQ05rZ11EdESAT8JeBrr/YQdk9XKtmMC71itFc9Wl5laZH63E1/WtL301caWwP1Aq+Bp7ANAn3J29gIuCk6TjQO6Bn2yym9HT2UdO1jqREAE4iHw3uczeXfsTAZ0tYFuWkkm4GlSa6ej7JXHda3Kvl6ZS+zB2VHAyODCVHKBUpmK9ZXR1de9JzBv4XKsp9QOW69r/lIyt9j70c/Yu3lDjmlrbw6ntvo+Nobdd9yM4w5qltoNukoEEkjA01ifQJLJNUkFLLe+2Qq4NUgW7dj+AmB48G/2FDRXlpLaXPGk9iECIrBeAo++8S2r1xRzcSfrpa2VZAKeJrXWgsA+XOvK1+wVw9IWBa7xK9a7Ji59zgm8+sEUJs1cRLez9nWuOxuF//rPV2y8UU3O6rBLymK6DRrFX9o05fB9bH6Tlgj4ScDTWO8n7JisVgHLHXh7Cd0SzZXBFECb6mfThY4HNggSVHsVIBeWktpc8KL2IAIiUCmB54ZPYptGdWi7hz2f0EoyAU+TWjtBbSemK1qlp6njGjOmWJ/kD7xsC4XAY29+h/U6vOh4vx5SDB09jVWFa+h0WGkr28pxXH7n+3Tu0ILWuzSu/GJdIQIJJeBprE8ozWSapQKWO7/Y63itgb8BK8qoteLVy8AXwE3uzIlUk5LaSPFKuAiIgAiIQLoEPE1qm6awzxkpXBPFJYr1UVCVzEQRuOvZ8WzTsC4nH7lTouyKwpg7nx5Pp8N2YPut1vfWchSaJVMEwiPgaawPD0AeSFIBy52TPw96Ro2tQKUVtqz/1D7uzIlUk5LaSPFKuAiIgAiIQLoElNSmS6zS6xXrK0WkC3wncPODn3DwXltxVJtUasm+71b2i4D/BBTr/fdhZTtQAasyQuF93fpdNQQqmjRox/9/rWA6UHja3UpSUuuWt7SJgAiIgAhUQkBJbegfEcX60JFKYNIIXDZwJGcfsyv7tGiUNNNkjwiIQAUEFOtz/2OhApY7H1c2Kaiyr7uzNHtNSmqzZygJIiACIiACIRJQUhsizP+KUqwPHakEJo3AGbe8za0X7u/dFMKkcZQ9IuCKgGK9K9Lx6VEByx37JUGyty6NlX3dnaXZa1JSmz1DSRABERABEQiRgJLaEGGqgBU6TAlMJoEPv5jNvrs0YsPaNZJpoKwSARH4AwHF+tz/QKiA5c7H65skVGpFXJOEwqagAlbYRCVPBERABEQgKwJKarPCV9HNivWhI5VAERABERCBbAgo1mdDz497VcBy56cjUlD1XgrX+HCJklofvCQbRUAEMiZgY9V7PzqGbmfty0Yb6Ml8xiAd3uh5UnsgMBuwiYPWT/MuYA1wLWA9NuNYivVxUJdOEUiRwCvvT6Zls83YqUm9FO/QZSLgPwHPY73/DnCwAxWwHEDOQxVKavPQ6dqyCOQTgamzF9PjgdE817cDVaoolPrge8+T2m+AE4DJwKPAdsAqYBFwekz8FetjAi+1IpAKgZ6DP2W/XRvT/gD7drH+NXH6Qr6ftpBOh+1Q2aX6uggkmoDnsT7RbJNinLLupHgit+xQUptb/tRuREAEyhF47/OZvDt2JgO6thUbTwh4ntQuBjYNUP8C7AX8HhS04hqPpljvyWdfZuYngXtf+JIGm2zAGUfvXCmAtz+Zxtjv59Hz/P0qvVYXiECSCXge65OMNjG2qYCVGFfklCFKanPKndqMCIhAeQKPvP4ta4qKubjT7oLjCQHPk1p7TbAxsCPwCmA/kVoOZwNg6sbkAsX6mMBLrQikQuCpt3+gYNkqLjtpz0ov/897PzLzl6Vcc0arSq/VBSKQZAKex/oko02MbSpgJcYVOWWIktqccqc2IwIiUJ7ATQ+O5qA9t6LdftsKjicEPE9qhwY9sKyINQW4BtgeGAnE9SFUrPfksy8zMyNgDymqV6ua2c0JuGvoqJ8YN3F+SqeqHn/zOwpXF3GRHsokwHMyIRsCnsf6bLaeN/eqgJU3rna6USW1TnFLmQiIgEsCJSUlnNnzHW45rw3Nm9Z3qVq6siDgeVK7DdAfKAyKV9b76hRgD+DGLLBkc6tifTb0dG/iCQx44nN23rY+fzukWeJtrcjATyfM4YURP/LPqw6t1P77XvyKehvX4syjW1R6rS4QgSQT8DzWJxltYmxTAcu9K+yJaUEwNWhD4LpgktCdQUNW9xaFr1FJbfhMJVEERCAhBH5fsZqr/vkh9159KLVrVU+IVTKjMgJKaisjlPbXFevTRqYbfCJww78+pv3+23JoK6sf+7cmzljIbY+P5cleR1dq/H+LdfX42yFq4l4pLF2QaAKK9Yl2TyjGqYAVCsa0hIwFLgC+Bu4G2gcFrA+By9KSlNyLldQm1zeyTAREQATykoDnSW0n4HtgImDHQf4d5A7nAT/F5FDF+pjAS60bAhf2H0HXE/Zgj502d6MwZC1FRcWsLiqmds3KH7TYa/GH7r01R7ZuGrIVEicCbgl4HuvdwvJUmwpY7h23ENgMKAZmAEcAS4EvgK3cmxOJRiW1kWCVUBEQAREQgUwJeJ7UWuHqKGAW8AJQBKwAGgLHZsoky/sU67MEqNuTTeDkG4cw8O8H07SxfdRze61eY99SoEb1arm9Ue0u5wl4Hutz3j9hbFAFrDAopifD+lbUA7YDPgBKH3VYESuuSULp7aDyq5XUVs5IV4iACIiACDgk4HlSa60HNgkmD/4WnMJaGRS04joeoljv8PMrVW4JrFi1hpNvHMozvduz8UY13SqXNhEQgYwJeB7rM953Pt2oApZ7b38EvA00sQcdwPnAlsDnOoHl3hnSKAIiIAIikB8EPE9qfw0eeO0CPALsCdhRCXsoFtfxEBWw8uO/Tl7ucu5vv3PpHe/x8oBjqVpVPy7l5YdAm/aSgOex3kvmro3Wd2TXxP+bdD4YNGzvDMwEzg5eJbS/58JSUpsLXtQeREAERCCHCHie1D4H1AEaAMOBXoAVs14DdorJTYr1MYGX2ugJzFu4nFfen8wlJ9igTy0REAFfCHge633BHKudKmDFij9nlSupzVnXamMiIAIi4CcBz5Nae33QphYXAgOD/lfW+8raEdwbk0cU62MCL7UiIAIiIAIVE/A81sutKRBQASsFSCFfsh8wJzh5Zc3cLRFdDdwQvAoQsrpYxCmpjQW7lIqACERNRhWqHwAAIABJREFU4MtJ8/llwe+0P8DqBlo+EVBSG7q3FOtDRyqBIhAugTm/LmPJ8kJ2blo/XMGSJgIJJaBYn1DHhGiWClghwkxR1NfAScCPwODg6L89UZ0HnJmijKRfpqQ26R6SfSIgAhkReOT1b7HR5Bd12j2j+3VTfARyIKk9DTgHaAzYB/Cg4JVCe40wjqVYHwd16RSBNAi88fFUvpn8Gzed22addy35vZCffl7MnjvZUFMtEfCbQA7Eer8d4MB6FbAcQC6nYjGwafBvvwB7A78Dk4Kk1L1F4WtUUhs+U0kUARFIAIEeD4zm4L22ot1+2ybAGpmQDgHPk9rLg1cIrYemndi2Vwp3DR6EHZAOhxCvVawPEaZEJYtAYWEhCxYsoEGDBtSs6e8UwlFf/8wr70/h7isPWSfgr3/8lUEvf83D3Y9MlhNkjQhkQMDzWJ/BjvPvFhWw3Pt8IWCPOHYMmq82D8ZiLwHqujcnEo1KaiPBKqEiIAJxEigpKeGMW96h1wX7sVOTenGaIt0ZEPA8qbWHXMcD3wftBuwDaFMI7fS2tSOIYynWx0FdOiMlUFxcTI+e/fh4zLeU1NiUKqsXc1CblvS7tQdVq1aNVHcUwr/7aQF3Pj2Ox29pt07xo7+ew8vvT15vkSsK2yRTBKIg4HmsjwJJzslUAcu9S98CpgFbADOAq4ImrO8DufJIX0mt+8+VNIqACERMYEHBCs7pM5wX+3Wkdq3qEWuT+LAJeJ7U2sOv0iY2pX+2Atb84DXCsHGlIk+xPhVKusYrAt1v7sMnU6uz8RY25PO/a8nc7zmg2Rr697nZq72Ysdaz8eIB7/HK7cdStWrFP/YN+2w6VsTqfVFchzm9wyqDE0zA81ifYLLJMU0FLPe+aArcHkwSsuLVAuBUYK/gtQD3FoWvUUlt+EwlUQREIGYC4yfOY/BrE3iwm16ziNkVGan3PKn9DOgGfACUFrAOB3oDbTMCkv1NivXZM5SEBBGw1wYPP6Yz9XY7/U9WLZzwDO8Pedq71wlXrS7ixG5DeKrX0Wxat1aFtF8eOZkpsxdzw1n7JsgbMkUEMiPgeazPbNN5dpcKWHnmcEfbVVLrCLTUiIAIuCMwdPQ0Jkz9jW5K8t1BD1GT50ltB+AZ4H7gCmAAYH2xOgPDQ8SUjijF+nRo6drEE5g7dy4nnt+L+jvbf7c/roUTh/Lyo71p3NhmKPi1Tu0xlP5d27LdltY678/rybe+Z+ny1XQ9cQ+/NiZrRaACAp7Hevk0BQIqYKUAKYJLWgNnB68RWk+LPYENgE8j0BWHSCW1cVCXThEQgcgJFBWXUG0dr2FErlwKsiKQA0ntYcCVQQ9NGwJzD/B6VlCyu1mxPjt+ujthBNZ3AmvRhGcZOeQp705gGeJxP8yjedN61N2w4mb097/0NRttUIMuHf//tcmEuUbmiEDKBHIg1qe813y9UAUs954/EXgMeAmwP1sCaGd27WnqEe7NiUSjktpIsEqoCIiACIhApgQ8TmprBA3crVi1KtP9R3CfYn0EUCUyXgK51gMrFZqTZiykZo1q6zyhlYoMXSMCSSHgcaxPCsLE26EClnsXfQNcCowqM0nIXkqfFUwndG9R+BqV1IbPVBJFQAREQASyIOB5Urs0gZOKFeuz+Dzq1mQSsCmEF11xEyM/+YbGjbekyuoCr6cQJpOyrBKB6Ah4HuujA5NDklXAcu/MxcCmgdrSRqzmB2vmXjphyL1V4WpUUhsuT0kTAREQARHIkoDnSe1o4FxgUpYYwrxdsT5MmpKVGAKjvv6Z/7z7A93PbEn9+vW9fG0wMTBliAg4JuB5rHdMy091KmC599vXwFmA/V5awGoFPAzY77mwlNTmghe1BxEQARHIIQKeJ7XW++pC4G5gOlBcxjUjY3KTYn1M4KU2WgIjx81k3A/zub7zPtEqknQREIHQCXge60PnkYsCVcBy79VzgJuBPkEDVktIewL9gKfdmxOJRiW1kWCVUBEQAREQgUwJeJ7Uli1YlUVQAlTLlEmW9ynWZwlQt4uACIiACIRLwPNYHy6MHJWmAlY8jj0fuArYASidJGRPVXNlKanNFU9qHyIgAmsJvP3pdPbYYTO23LyOiHhKQElt6I5TrA8dqQSKQPgESkpKWL5yzdpJg1oikOsEFOtz3cOgApZbH9tT0j2Ab4FCt6qdalNS6xS3lImACERJwJL/M3u+wy3ntaF501xpVRglsWTK9jypPQ14rgKypwLPx0RcsT4m8FIrAukQmPPrMroOfJ9Xbj+GKlX++KOfxbeSEqhaVT8SpsNU1yaXgOexPrlgE2SZvlu5dYbxXgbYI3w79p+rS0ltrnpW+xKBPCSwoGAF5/QZzov9OlK7VvU8JJAbW/Y8qV0CWGwtv0p7acbhJMX6OKhLpwikSWDFqjWcfONQnu3Tnrob1vzD3fMXLeeC20bw6u3HqoiVJlddnkwCnsf6ZEJNmFUqYLl3iDVvPxqY6161M41Kap2hliIREIGoCYyfOI+HX53AQ92PjFqV5EdIwPOkdilQtxweOw74I7BZhNjWJ1qxPibwUisC6RI4+cYhDLz8YJpu8cc6+LQ5BXS/fzTP9+2QrkhdLwKJJOB5rE8k06QZpQKWe49YE/cuQK8KJgnNdG9OJBqV1EaCVUJFQATiIPDSyMlMmbWYbl32jUO9dIZEwNOkdlZwYntLYE45FFa4eh2w1wvjWIr1cVCXThHIgMBF/Udwcafd2at5wz/cPWHKb9zzwpc80uOoDKTqFhFIHgFPY33yQCbYIhWw3Dun7CSh0tcIzQ9xThIKm4KS2rCJSp4IiEBsBAY+PY4mjepyylHNY7NBirMn4GlSaw+8LEd4ALi4DAXLJWwIzEigKHs6GUlQrM8Im25KMoHC1UUMGTWNYw/anhrVqybZ1LRs6zZoFH9p04TD92nyh/s+nTCX59+dxD1XH5qWPF0sAkkl4GmsTyrORNqlApZ7tzRbj8qp7s2JRKOS2kiwSqgIiEAcBLoOHMlZ7VvQpuUWcaiXzpAIeJ7UtgVGhYQiLDGK9WGRlJzEEPhlwe9cNOC9nOsJdcdT49h+q0048fAd/8B6xNgZvD9+Nv0uOTAxPpAhIpANAc9jfTZbz5t7VcBy7+o2wJgK1LYGxro3JxKNSmojwSqhIiACcRD4fcVqqlevSq0aNkhWy1cCnia1NjXAcrXVZbifBewNfAi8GqM/FOtjhC/V0RCYNGMh/R4fy5O9rF1t7qwPvpjNhrWq03rXxn/Y1GsfTuGH6Qvp3sV+DNESAf8JeBrr/QfvcAcqYDmEHahK4iShsCkoqQ2bqOSJgAiIgAhkRcDTpPYl4F3goWDz3YDewDfArsClwONZgcn8ZsX6zNnpzoQSGPPtXJ4ZNpF7rzksoRaGa9anE+awcMkqOh64XbiCJU0EYiLgaayPiZafalXAcu+3iiYJ2Uxbm0rYwL05kWhUUhsJVgkVAREQARHIlICnSe10wN7t+TnYt+UKVsR6AjgZuA6Ia7qAYn2mH0bdl1gCwz6bzuiv59D7ogMSa6MMEwERWDcBT2O9XJoGARWw0oCV5aXvB43aDwI+LierKWD9r/6SpY6k3K6kNimekB0iIAIiIAJrCXia1BYAmwQu3AmYAGwKrADs9cJ5MT78UqzX/62cI/DCiEn8PH8ZV5/eKuf2pg2JQD4Q8DTW54NrQtujClihoaxUUJ/giuuBO8pcXTpJ6DlgcaVS/LhASa0ffpKVIiACIpA3BDxNaq1AZe/2LAdOAyyH2CtwmjVlWwRYzI1jKdbHQV06IyXw0KvfUL1aVc47rmWkeiRcBEQgGgKexvpoYOSoVBWw3DvWmq8+6V6tU41Kap3iljIREAEREIHKCHia1L4ZDHi5D3gx6H11bbBXO5H1FrBDZXuP6OuK9RGBldj4CPy22A43wmabbhCfEdIsAiKQMQFPY33G+83HG1XAitfr1tfCnqTaaOyv4jUlVO1KakPFKWEiIAJxEFi6vJAvJ83n4L22jkO9dIZMwNOkdndgRPCaoPW/sknGpf2wegA7A51DRpWqOMX6VEnpOhEQAREQAScEPI31TtjkihIVsNx58gFgPPBIoNJOYv3b2nIAGwLHA0PdmROpJiW1keKVcBEQARcExk+cx+DXJvBgtyNdqJOOiAl4nNRajmCFqknA72UwNQdsMMyciNGtS7xifUzgpVYEMiFwx1PjOO7g7dm5af1Mbtc9IuAFAY9jvRd8k2CkCljuvPAj0D5o1m5arWn7YGAAcAXQCTjEnTmRalJSGyleCRcBEXBB4KWRk5kyazHdusQ15M3FLvNHh5La0H2tWB86UgkUgegIXH/fx3Q4YFsObbXNWiUlJSXc9u+xXHriHtSrWzs6xZIsAg4JKNY7hB2TKhWw3IG3Bu31gkmEpVMHGwA2YciixkygoTtzItWkpDZSvBIuAiLggsCdT49nm0Z1OOUoO+ii5TsBJbWhe1CxPnSkEigC0REY8MTn7NSkHp0O+2/bvJWFazip+1CevvVoNqlTKzrFkiwCDgko1juEHZMqFbDcgf8NaAysCU5b9QNaBOrND1bIimuSUNgUlNSGTVTyREAEnBPoOnAkZ7VvQZuWWzjXLYXhE1BSu5bpLYC1MNgMKAxaG3QDvi5D3PpuWdP4VsF0ZDstfmsFHlGsD/9jKokiEBmB8hMWFxSs4Ozew3n1jmPXTl7UEoFcIKBYnwteXP8eVMBy5+MPgMeBJ4Bng4LVJYH6JsDHgJ3MyoWlpDYXvKg9iEAeE1i9pogTuw9lcPcjaVjfWhBp+U5ASe1aD+4IzA9ykOrA34HrAavSlgB1AGt58BjQG7BJh28DdwL3lPsMKNb7/p9C9v+BwIpVa1i0dCVbbmb/DXJv/ee9H5k+ZwnXdd5n7eZm/LKE6+79iBdvOyb3Nqsd5S0Bxfrcd70KWO58fDgwBFgO2Dnd1sAPgfrLg/5XJ7ozJ1JNSmojxSvhIiACUROYOnsxPR4YzXN9O1ClikJl1LxdyFdS+yfKlovYg7S7ghYGC4AuwO3AlkBxcIcVuSxPseJX2aVY7+KDKx3OCNjgjkff+Jb7rz/CmU6Xit77fCYjPp9J/0vbrlX73U8LuPOZ8Tx+819cmiFdIhApAcX6SPEmQriycrdu2B6wxx5jgellVB8MLAImuDUnMm1KaiNDK8EiIAIuCFhvkJ/nL6PZ1pu6UCcdDgh4mNSemyIWOy2VzuoAPANsEhSp/gFcFwi4O2hvYENnStf+wKjg+mVl/l2xPh3qujbxBKzA897ns7jt0gMTb2smBk6Y8huvfDCFnufvt/b2sd/9wlNv/8B91x6WiTjdIwKJJOBhrE8kxyQbpQJWkr3jr21Kav31nSwXAREQgZwk4GFSOy0FR9hrf/ZwLJNl1Vk7cTUbeDkQ8AiwEXBaGYE722ENwEaXzVEBKxPUuscHAi/b5NnZi7nhrPyYPPvxlz8zfMwM+lx8gA/ukY0ikBIBD2N9SvvSRf9PQAUsfRqiIKACVhRUJVMEREAERCBjAkpqK0RneaCdAD8oOAWe9gmsrl27UrNmzbXC27Vrt/aXlgj4SMBeH1xTVMxFx9scAy0REAFfCAwbNgz7ZauwsJBBgwbZH+2U8RJf9iA7UyegAlbqrHRl6gRUwEqdla4UAREQARFwQEAFrAohWyN3m4LcGXglmFB4R7keWFcAl6kHloMPqVTESuCuZ8ez9eZ1OOWo5rHaIeUiIAKZE1Csz5ydL3eqgOWLp/yyUwUsv/wla0VABEQg5wnkQFJ7FGDdlhsCZfO3s9JwnjVkfz6YRLg50A+wATItgHnBFMJJwRRC+5o1bh8aNHrXFMI0QOtS/wjc/NAntN1jS9rtt61/xstiERCBtQRyINbLk5UQUAFLH5EoCKiAFQVVyRQBERABEciYgOdJ7aWAvd73DnB08LsVs14FzkgDypvBMJk6wasVnwO9gS/KyGgJ3A+0Ck5nPQD0qUCHYn0a4HVp8gmMHDdz7eCOpo3to60lAiLgIwHPY72PyJ3brAKWG+Q2ZTCV9VEqF3lwjZJaD5wkE0VABComMGveUmrVrEbDehsKUQ4R8Dyp/QG4Gng76FlVDzgJsPFhVtyKYynWx0FdOkVABERABNZJwPNYL8+mQEAFrBQghXBJcQoybJJQtRSu8+ESJbU+eEk2ioAIVEhg4NPjaNKorvqg5Njnw/Ok1hrRlh4LWQzYBEHLGX4GGsfkKsX6mMBLrQhkSuDLSfMpXF1Em5ZbZCpC94lAogl4HusTzTYpxqmA5cYTqRamityYE7kWJbWRI5YCERCBqAh0HTiSLh12ofWucdUFotpZfsv1PKmdHfSpWgpYj6qOwAJgRpnClmsHK9a7Ji59IpAlgRfencTsX5dxzemt+Pirn9l1+wbU37h2llJ1uwgkh4DnsT45IBNsiQpYCXaOx6YpqfXYeTJdBPKZgD2ZPunGoQzufiQN6+sVwlz6LHie1L4YNFN/ArgzKGCtAqywdUxMflKsjwm81IpApgTeHTODD7+cTd+LD+Ts3sO4ofO+tNiufqbidJ8IJI6A57E+cTyTaJAKWPF4Zaegb0X5SULWSDUXlpLaXPCi9iACeUhg6uzF9HhgNM/17UCVKgqRufQR8DyprRVMHlwJ1ASuCU5eWTHLTmLFsRTr46AunSKQBYFxP8zjsTe/5f7rj+DE7kP4x5WHsE2jullI1K0ikCwCnsf6ZMFMqDXKzt07phPwHDAZsELWj0Bz4FMg1Wbv7q1OT6OS2vR46WoREIGEEBgxdiYjPp/JgK5tE2KRzAiLgJLasEj+T45ifehIJVAEoiXw088F3PjAaJ7qdTSdbniTJ3u2o55eIYwWuqQ7JaBY7xR3LMpUwHKP/ctgPPXgMpOErgQ2AW51b04kGpXURoJVQkVABKIm8Mjr31JUVMxFnXaPWpXkOyaQA0ltG6A1UP64xG2OUZaqU6yPCbzUhk/g7U+nM+3nAi49cY/whSdI4uKlq+jc6x0e7XEU5/V7l1duP4Ya1VNt1ZugjcgUEVgHgRyI9fJtJQRUwHL/ESkA7GVza9heOknIXg2YAmzj3pxINCqpjQSrhIqACERNwJ5OV6tahaZblA58i1qj5Lsi4HlS2wvoAfwA/F6GmU0wPsAVw3J6FOtjAi+14RN48q3vWbp8NV1zvIBVXFyy9uTVTee2of8Tn/PygLha6IXvQ0kUASPgeayXE1MgoAJWCpBCvuQXYDtgBfATYO+pLAJ+BeqErCsucUpq4yIvvSIgAiIgAhUS8DypnQ8cC4xJkHsV6xPkDJmSHYF7X/iS+pvU5syjW2QnyIO75y9czq+LV3DHU+N4omc7DyyWiSKQOgHPY33qG83jK1XAcu/8IYC9Pvg68AiwPbA8aMaqHlju/SGNIiACIiACeUDA86R2DrA1UJwgV6mAlSBnyJTsCPR+9DNaNW9Ix7aWluf+WrZiNTPmLmHX7Rvk/ma1w7wi4HmszytfZbpZFbAyJZf5fVsBVYFZQL1gHLYlgTcGjd0zl5ycO5XUJscXskQEREAERMD/1wpsSrGd4L4/Qc5UrE+QM2RKdgSu/ueHnHDYjhy4x5bZCdLdIiACsRJQAStW/E6Uq4DlBHPsSk4BugLWmdJeU6xR7imudSu+D2gV9OWyE2LlG8rb388PToqND+R9t46dKamN3eUyQAREQAREoCwBz5NaG/Rirw9az6u55Tx7eEyeVqyPCbzUhk/gvL7Dueq0vWnZbLPwhUuiCIiAMwKex3pnnHxWpAJWPN7bAtizgklCL0ZkzlFB4/gNg9cWyxawrKD1I/AYYE94dwLeDk6G3RPYcx1wGdAemAr0BM4KrrXXH8svJbUROVJiRUAEREAEMiPgeVJrbQd2BoaWa+JuMG7OjEjWdynWZ41QApJCoOfgT7mk0+40brBRUkySHSIgAhkQ8DzWZ7Dj/LtFBSz3Pj8veAVgTdD7qtQCe6raMGJzDgFGljuB1QW4HbAz06W9Nf4OXA7sGNhjzebvBv4V/N3m7Vo/jquBZ1TAithrEi8CIuCEwC8LfmfzehuunUKolXsEPE9qlwHbAr8lyDMqYCXIGTJFBERABERAUwjz4TOgLN29l2cHhZ+oTlutb0cVFbCsMGUjV+x0VenaHxgF2CsL1q9rMWD/Vnb60TBgAnCtCljuP0TSKAIiEC6BwtVFnHTjUAbfeCQN69lhVa1cI+B5AWsSsFe5B19xu0gFrLg9IP0ikAGB5StXM/OXpey8bf0M7tYtIpBsAp7H+mTDTYh1KmC5d8QCIK6RHxUVsGwSop2XPq0MCntNwfpbbRMUsGYGRS5LoEvX89YTF7hQBSz3HyJpFAERCJfA1NmL6fHgJzzXpz1Vqig0hks3GdI8T2pPBjoEA1+smXvZFddkQhWwkvHRlhUikBaBKbMWc9XdIxh09X40btSQmjVrpnW/LhaBJBPwPNYnGW1ibFOW7t4VDwJDgl+utTs9gdW1a9f/BcV27dphv7REQAREIIkERoydyYjPZzKga9skmiebMiQwbNgw7JetwsJCBg0aZH+008X2AManVVqksnYD5Ze91h/HUgErDurSKQJZECguLuaabrfy2rvjaLD5FtRmKQe1aUm/W3tQtaq9dKElAn4TUAHLb/+lYr0KWKlQCvcaa5r+KTC9gklCFZ1mClN7RQUsa8Z+R7keWFcETdvX1wPLpiBdpR5YYbpHskRABOIiMPj1CRQXlXBRJxvKqpWLBDxPai1+r2t9GJO/VMCKCbzUikCmBLrf3IdPplZn4y12+Z+IJXO/54Bma+jfJ655EJnuRveJwJ8JeB7r5dIUCKiAlQKkkC8ZDJwIfFzBJKGyr/GFqdYeqdjkQUuAbcJgXaDIHkgHrw/aq4E2hbBf0LjdphzdBZROIbQ+VzaFsCNgDd1vAc4Emq+jH4eS2jC9J1kiIAKRE+jxwGgO3mtr2u3XNHJdUhAPAY+TWovf9sDoXmBlPPQq1KpYnyBnyBQRqIyAnUI9/JjO1Nvt9D9dunDCM7w/5Gm9TlgZRH098QQ8jvWJZ5sUA1XAcu+JpcAeQSHIlXabNPg4UPrqgfnd/nwY8BHQMpiM2AooAB4A+pQzrhdwUVD8Ggd0DfpkVbQHJbWuPCs9IiACWRMoKSnhjFveodcF+7FTk3pZy5OAZBLwPKm12GyvPiZpKdYnyRuyJWMCI8bOYOONatF618YZy/Dhxrlz53Li+b2ov7O10/vjWjhxKC8/2pvGjXObgQ9+ko3ZEfA81me3+Ty5WwUs946eAewArHav2plGJbXOUEuRCIhAtgSKiooZMnra2tNXtWtWz1ac7k8oAc+TWjs93RMYmyC8ivUJcoZMyZzAbf8eyy7b1edvh1h6nrtrfSewFk14lpFDntIJrNx1f97szPNYnzd+ymajKmBlQy+ze+1VvC2BHmVORGUmKbl3KalNrm9kmQiIgAjkJQHPk1o7BW19Mu11f+uhWXbyoP1bHEuxPg7q0hk6gRv+9THt99+WQ1vZ8O3cXuqBldv+1e7A81gvF6ZAQAWsFCCFfMk0YCtgFfBrOdnbh6wrLnFKauMiL70iIAIiIAIVEvA8qbXcoaJl7QDiyh0U6/V/LScIXNR/BJecsDt77tQwJ/azvk3YFMIePfvx0ZgJUGNTqqwu0BTCnPd6fm3Q81ifX87KcLcqYGUILovbzlvPvY9mITdJtyqpTZI3ZIsIiIAIiICeyob/GVCsD5+pJMZA4JQeQxnQtS3bbZm0NnPRwbDXCRcuXEj9+vX12mB0mCU5BgIqYMUA3bFKFbDcArfmKscBNuXPTmDl6lJSm6ue1b5EQAREwFMCOZTUbgb8lgA3KNYnwAkyITsChauLOKHbEJ7s1Y56dWtnJ0x3i4AIxE4gh2J97CyTaoAKWO49Y1MI67pX61SjklqnuKVMBERABESgMgKeJ7U1gQFBH6wNgBXAYOAGoLCyvUf0dcX6iMBKrDsCvy5awfn9hvPKHcdRrap+LHJHXppEIBoCnsf6aKDkmFR9p3bv0E+ALsBk96qdaVRS6wy1FImACGRDYPWaYqpWraIfXLKB6Mm9nie1/YFjgZuAKcE0497Bie7uMblAsT4m8FIbLoGVq9ZQu5Ym0IZLVdJEIB4Cnsf6eKB5plUFLPcO+3vwBPXOCiYJfeTenEg0KqmNBKuEioAIhE1gxNiZfPDFLPpefGDYoiUvYQQ8T2qnAn8B7PfS1QwYAWwXE2rF+pjAS60IiIAIiEDFBDyP9XJrCgRUwEoBUsiXlB19XVa0TRKqFrKuuMQpqY2LvPSKgAikReCR17+lqKiYizrtntZ9utg/Ap4ntQsBG5G2pgz5GsA8oH5M3lCsjwm81IqACIiACKiAla+fARWw3Ht+fUWqIvfmRKJRSW0kWCVUBEQgbAI9HhjNwXttRbv9tg1btOQljIDnBSw7of0f4L4yWLsCpwIHxYRasT4m8FIrAiIgAiKgAla+fgZUwMpXz0e7byW10fKVdBEQgRAIlJSUcMYt79Drgv3YqUm9ECRKRJIJeF7A2h94F5gUvEa4PdA8eK3w05i4K9bHBF5qRUAEREAEVMDK18+ACljuPW/MLwEuBpoAM4GHgEHuTYlMo5LayNBKsAiIQFgEFhSs4Jw+w3nxto7UrqkGvmFxTaoczwtYhnUb4Izg91nAs0EOERdyxfq4yEuvCIiACIhAhQRyINbLs5UQUAHL/UfkymDs9V1lJgldBVhT93+4NycSjUpqI8EqoSIgAmESGD9xHoNfm8CD3Y4MU6xkJZSAktrQHaNYHzpSCXRN4Osff2XrRnVosMkGrlVLnwiIQAQEFOsjgJowkSpguXfID0BnYFwZ1a2CJ6n2OkAuLCW1ueBF7UEEcpzAjzMXMXnmIjq2tbextHKdgKdJ7cEp+CWuCcaK9Sk4R5ckm0DXgSM555hd2adFo2SgLn/zAAAgAElEQVQbKutEQARSIuBprE9pb7rovwRUwHL/SVgcTAwqO42wKmAThjZ1b04kGpXURoJVQkVABERABDIl4GlSu77JxYbCJhjH9f6rYn2mH0bdlxgCZ/Z8m57n78eO26gPYmKcIkNEIAsCnsb6LHacf7eqgOXe5+OBvsCrZVT/FegJ7O3enEg0KqmNBKuEioAIiIAIZErA06S2osnF9tDrnCCXmAHsmymTLO9TrM8SoG6Pl0BRUTHH3/Amj/b4C5vX0yuE8XpD2kUgHAKexvpwNp8nUlTAcu/o44JR2K8Fk4SaAVbAOgV43b05kWhUUhsJVgkVAREQARHIlECOJLUHAPcAWwE3Av/OlEcI9ynWhwBRIuIjMO+3JZzZ42VevftU6mykAlZ8npBmEQiPQI7E+vCA5KAkFbDicep+wPllJgk9CsQ1BjsKAkpqo6AqmSIgAiIgAhkT8DyptYKVDXv5W1DAspPcyzKGEc6NivXhcJQUxwSKi4vp0bMf743+hmVrNqR+7ZUc1KYl/W7tQdWqdsBRSwREwFcCnsd6X7E7tVsFLKe480aZktq8cbU2KgIiIAJ+EPA0qa0NdAOuA4YFv09NCHHF+oQ4QmakR6D7zX34ZGp1Nt5il//duGTu9xzQbA39+9ycnjBdLQIikCgCnsb6RDFMujEqYLnz0JYpqJqTwjU+XKKk1gcvyUYREAERyCMCnia11uPKilj2U/WIdbjrp5jcqFgfE3ipzZxAYWEhhx/TmXq7nf4nIQsnPMP7Q56mZs2amSvQnSIgArES8DTWx8rMN+UqYLnzmE0SsmlBZZfxL/23OCcJhU1BSW3YRCVPBEQgVAJ9HxvDEftuw/67pfJsIVTVEhYTAU+T2rJTCEvzhdLcofT3ihq9u6CsWO+CsnSESmDu3LmceH4v6u/c4c8FrIlDefnR3jRu3DhUnRImAiLgjoCnsd4doBzQpAKWOyc2X4eqQ4JJQoXA1u7MiVSTktpI8Uq4CIhANgRKSko445Z36HXBfuzURKPTs2Hp072eJrVNU2Bsp7TiWIr1cVCXzqwIrO8E1qIJzzJyyFM6gZUVYd0sAvES8DTWxwvNM+0qYMXnsCbAQOAY4B9Af+D3+MwJVbOS2lBxSpgIiECYBBYUrOCcPsN58baO1K5ZPUzRkpVgAkpqQ3eOYn3oSCXQBQH1wHJBWTpEIB4CivXxcHepVQUsl7T/q8vm9HYHrgWGBg1Zp7s3I1KNSmojxSvhIiAC2RAY98M8Hnl9Ag92OzIbMbrXMwJKakN3mGJ96Egl0AWB0imEH42ZADU2pcrqAk0hdAFeOkTAAQHFegeQY1ahApZbB5wB3A78BlwJfOBWvTNtSmqdoZYiERCBdAm8NHIyU2YvpttZ+/5fe+cBXVWV/eEvgQCitIAICIiCihSxAXYBUQZlHJ3Rccaxj2UU29gFUQHBrmPXP7ZRsIzjWAZUHGkWFMUKYkVA0SCYQAApCST/tcMNhuQluS/vvnfb767FMuads8/e3z4ve7/9Tkm2q9qHmICSWs+dp1jvOVIJzCQB205YUFBAbm6utg1mErzGEoE0ElCsTyPcgIhWAStzjpgJdHZuEhqX4ED3zGmS/pGU1KafsUYQARGoI4Fbxs+m43ZNOP6w6o4mrKNgdQs0ASW1nrtHsd5zpBKYSQJr12+gUYN6ZGXp41AmuWssEUgnAcX6dNINhmz9xc6cH8pvEqp8E2FFDfy6SchrCkpqvSYqeSIgAp4RePzleey5a2t6dm7lmUwJCj4BJbWe+0ix3nOkEpgpAnaZx7FXTuTOS/rRvnWTTA2rcURABNJMQLE+zYADIF4FrMw54VAXQ01x0SYMTZTUhsFL0lEEREAEYkQghEmtXfbi5vnOTaM0tFGsTwNUicwMgTXrijl++Ms8NXow2zRukJlBNYoIiEDaCYQw1qedSdQGUAErah4Nhj1KaoPhB2khAiIgAiLgEAhhUmsrt2tatV3uW79WbyvW690VWgJ5P//CuTdP4T83/VZbCEPrRSkuAlUJhDDWy41JElABK0lgau6KgJJaV5jUSAREQAREIFMEQpjU2rmZ5U9/4ExgNLAA2BEYDjwEPJwphpXGUaz3CbyGTZ3AFwsLuPHx93nsmkGpC5MEERCBwBAIYawPDLuwKKICVlg8FS49ldSGy1/SVgREQAQiTyDkSe1nwGHAjxUctT3wGtDdJ+cp1vsEXsOmTuDduXk89dqX3Hlxv9SFSYIIiEBgCIQ81geGY5AVUQEryN4Jr25KasPrO2kuAiIgApEkEPKkthDYDlhXwTmNgTygWRIOuwE4EtgBWA3MAC4HFleQsTtwN7A3sAKwm5NHJhhDsT4J8GoaLAKT313IzE/zGHnWfsFSTNqIgAikRCDksT4l2+PSWQWsuHg6s3Yqqc0sb40mAiIgAiJQC4GQJ7WvAwuBi5zCk12bdjuwE+DmkphyOmOAfwNzACuA3Q90A/Z0GmwDfAU8AowCdgFeAW4F7qyEWLFe77rQEvj4q6Xk5a9h8H6dQmuDFBcBEahKIOSxXi51QUAFLBeQPG7yUYVEsaLo2cA+Ho/llzgltX6R17giIALVEsgvXMvNT8xm7LkHUi9b4S9uUyXkSa0Vqv7rFJSWAy2Ar4HfAvNT8GUv4EMgF7BVXqcANwHtADtE3p4LgPOBnVXASoG0uoqACIiACKSdQMhjfdr5RGEAZfCZ9+IqwL45rfyUJ6SZ18j7EVXA8p6pJIqACKRIYPbnP/HQi3N54MpkFqykOKi6B4ZABJLabMD2O9nZV7blbxawMUXAtn3wb85KLhNlq7p2AwZXkGtjvuVsVbRth+WPYn2K8NVdBERABETAWwIRiPXeAomgNBWwMufUk52hHgDOBiqy3xU4FrD/RuFRUhsFL8oGEYgYgWenfMX8Hwq58uTeEbNM5rghoKS2CqWBwPPA74H/Oa/arYZbA3+u0LorYIfId6h0iLxivZuJpzYiIAIiIAIZI6BYnzHUvg2kAlbm0H/vDGXL8iveImRL9JcA1znnTGROo/SNpKQ2fWwlWQREoI4Ebhk/m45tmnD8wKh8V1BHEDHtFvKk1s6mugTok2AV98F1cOkQ4Alny+BLFfonvQJr6NChNGjQoEzEoEGDyv7pEQEREAEREIFMEZg8eTL2z56ioiLuvfde+9EuOFmZKR00TuYIqICVOdblI9m7K+rZnQpYmZ9XGlEERKAWAufePJVTj+xGn+5txCqGBEJewPoXsAfwAvBLJfcluiGwJg//BbgHOA6ww+ErPrZa/OZKZ2BdCJynM7Bi+KaRySIgAiIQMgIhj/Uho+2Puipg+cO94qg7AhuA8hVa/muUugYqYKXOUBJEQAQ8JFBUvJHjhk1i3LCBtG5hl6/piRuBkCe1dk6mbeX7KUW/WSHKbhe0w9/fTiDLVnp96dxCaDcW2sHtk4DbdAthiuTVXQREQAREIO0EQh7r084nCgOogJV5L44D/ukciGrffj7lqHACYN+wRuFRASsKXpQNIhAhAksL1mBbCG8+/yCyshT6IuRa16aEPKld4JyTWeTa4MQN7diCYmC987K9GUqdQ9vLC1o9gPuAvZ2bCe8HRicQp1ifojPU3R8ChavXM/ax9xh7zgHUq2d3I+gRARGICoGQx/qouCGtdiiLTyvehMLt/Cv7RtO2ALwD3OUkiDcAdp11FB4ltVHwomwQAREQgQgRCHlSe5ZTwLoMsCJUEB7F+iB4QTokTWBh3kquuOdNnhlzZNJ91UEERCDYBEIe64MNNyDaqYCVeUcUOofK2TJ9uwY710lGVwDNM69OWkZUUpsWrBIqAiIgAiJQVwIhT2rtmAE7vM1WT/1ciUHHujJJsZ9ifYoA1d0fAh9/tZT7nvuU/7vKLuLUIwIiECUCIY/1UXJF2mxRASttaKsVPB84AugJnAH8BrADWX4AWmRenbSMqKQ2LVglVAREQAREoK4EQp7UnlKD3XYsgR+PYr0f1DVmygSmf7iYl99eULalXI8IiEC0CIQ81kfLGWmyRgWsNIGtQazd5nM9YOxPdG4UslsJrwEOyLw6aRlRSW1asEqoCIiACIhAXQkoqa0ruWr7KdZ7jlQCM0HgxTfm89m3+Qw7tU8mhtMYIiACGSSgWJ9B2D4NpQKWP+DtJiG7efAbZ3j7/4bAJ/6o4/moSmo9RyqBIiACIiACqRCIQFLbzvniy7YMfgdMcFZvp4Illb6K9anQU1/fCDz+8jxWrSlm6LFROXrWN5QaWAQCRyACsT5wTIOmkApYmfVIA2AJYEnouswOndHRlNRmFLcGEwEREAERqI1AyJNaWyryOvCt8+VXZ8D+2SE+79Vme5peV6xPE1iJTS8BK2Bt1bA+xx26S3oHknQREIGMEwh5rM84rzAOqAJW5r22ENgNWJv5oTM2opLajKHWQCIgArURsPNOioo3cnjfHWprqtcjTCDkSe0M4EXg9gou+jtwDHCwT25TrPcJvIYVAREQARFITCDksV5udUFABSwXkDxucr5zFbYlnnabUBQfJbVR9KpsEoGQErhl/Gw6bteE4w/bNaQWSG0vCIQ8qc0HtnOOHyjHkQP85Nxm7AWiZGUo1idLTO09J1BUVER+fj4tW7akQQPb6KBHBEQgzgRCHuvj7DrXtquA5RqVZw0XAO2Bjc52wpIKknfybBR/BSmp9Ze/RhcBEahA4Nybp3Lqkd3o072NuMSYQMiTWts6eChgOUT5syMwDejkk1sV630Cr2GhpKSE4deO4c1ZcynNaU5W8QoO6tuDMSOHk52dLUQiIAIxJRDyWB9TryVntgpYyfHyovVfaxDysBcDBECGktoAOEEqiIAIULZ18Lhhkxg3bCCtWzQWkhgTCHlSexPwG2C4cw6WnX81CngNuMIntyrW+wRew8JVI0Yzc359mrbtthnHyrx57N95AzeMHiFEIiACMSUQ8lgfU68lZ7YKWMnxUmt3BJTUuuOkViIgAmkm8M3iFVz9wEyeGj2YrCyFvDTjDrT4kCe1dlPxrcDpwFbORTCPAJf6eCmMYn2gZ3x0lbNtgwOGnESLnidUMbJgzgSmTRyv7YTRdb8sE4EaCYQ81su7Lggom3cByYMmtmVwsSPHrr+u7rFrsaPwKKmNghdlgwhEgMDr7y3i9fe/58ahB0bAGpmQCoGIJLWWt7UCfgZKU+HhQV/Feg8gSkTyBPLy8jj2jOvI7XpE1QLWF5N47uFRtGmjLePJk1UPEQg/gYjE+vA7Io0WqICVRrgVRK8ELNGzx868qpx0mh/sd/Uyo07aR1FSm3bEGkAERMANgWenfEXh6iLO+F0PN83VJsIEQp7U7gHYQe7fV3BRB+cA9098cptivU/g4z5sTSuwls95kqkTn6h2BdbSgjXM/uInjtjfjpDTIwIiEDUCIY/1UXNHWuxRASstWKsItShZfvCqnVtR3TM/M+qkfRQltWlHrAFEQATcEigtLdX2QbewItwu5Enth4Dtl/qigot2A8YDe/vkNsV6n8Br2LqfgfXeZ0sY/+rn3HVJf2EUARGIIIGQx/oIesR7k1TA8p6pJG5abVZYWFhI06blC8+ERQREQAREQAT8IxDypHYF0DwBvep+nwnQivWZoKwxEhKwWwiHXXM9T0+cRdt27ai3YSV999qNW8ZeU+MthK/NWsSbH//A6LP3F1kREIEIEgh5rI+gR7w3SQUs75lWJ3E60K/Ci38BJmRu+IyOpKQ2o7g1mAiIgAiIQG0EQp7U2tbB3YHlFexsCcwB2tVme5peV6xPE1iJdUdg9Zoijh/2Endf1JeV6+pzxzOfcs+lB7N65QpatmyZcBuhbSv/bskqLvmLXwsX3dmmViIgAnUjEPJYXzejY9ZLBazMObziOVg2aoFzdkXmNMjcSEpqM8daI4mACIiACLggEPKk1rYKrgP+BmwA6gP3Ads4WwtdEPC8iWK950glMBkCPxWs4ayx/+OFW45i48YSDjrqHNasXMY2zVqTVbyCg/r2YMzI4VusyBr3wpyyLeU6FzEZ0morAuEhEPJYHx7QPmqqAlbm4FcuYNm3qC0yN3xGR1JSm1HcGkwEREAERKA2AiFParcHpjpffC0EOjmrsQZUuOW4NgRev65Y7zVRyUuKwIIfC7nqvrd5+vojuGrEaN7+ph7N2nXfLGNl3jz277yBG0aP2Py7W8bPplPbphx36C5JjaXGIiAC4SAQ8lgfDsg+a6kCVuYcoBVYmWOtkURABERABERgCwIRSGobAUOc4pUVsSY6q7L88rQKWH6R17hlBObO/5k7nvqQ+y/vx4AhJ9Gip91zsOVTMGcC0yaO37yd8OoH3qbfXu0Z2GcHURQBEYgggQjE+gh6xVuTVMDylmdN0tYDN1VocBlwS6UO12ROnbSOpKQ2rXglXAREwA2Bp//3JQP26UDrFo3dNFebiBNQUuu5gxXrPUcqgckQWLt+A8uWryGn9BeOPeM6crseUbWA9cUknnt4FG3atCl7bWnBGho3qs82jRskM5TaioAIhISAYn1IHJWCmipgpQAvya52iHtpDX3sNdsKEIVHSW0UvBhxG4qKisjPz6/2oNeImx9584qKN3LcsEmMGzZQBazIe9udgSFParOBK4DTgdZAM2AQ0BEY546A560U6z1HKoF1IWDxvLoVWMvnPMnUiU8kPNC9LmOpjwiIQLAJhDzWBxtuQLRTASsgjoiYGkpqI+bQKJljV28Pv3YMb86aS2lO82oPeo2SzX7a4leh8JvFK7j6gZk8NXpw2YG9ekQg5EntKOC3zsptO7y9OdAZeBbYyyfvKtb7BF7DViVgZ2DNnF+fpm27bX4x0RlYYicCIhBtAiGP9dF2jkfWKav3CKTEbEFASa0mRGAJKMnNjGv8LhS+/t53vP7+d9w49MDMGKxRAk8g5EntAuBg4PsKtxjbqqyffbzRWLE+8LM+PgqWx5w3Zs2Bsi+nChPeQhgfIrJUBOJJIOSxPp5OS9JqFbCSBKbmrggoqXWFSY0yTaCmbQaVD3rNtG5RG8/vQuG4F+dQsrGUs3+/e9TQyp46Egh5UmuFqm2dowgKnKJVDvCDs6WwjlRS6qZYnxI+dU4HAYvzBQUF5ObmattgOgBLpggEnEDIY33A6QZDPRWwguGHqGmhpDZqHo2IPXl5ea4Peo2Iyb6YEYRC4fD73+bgPdszaF/dNOXLJAjgoCFPaqcBtnXQtgyWF7COBc50zsLyg7hivR/UNaYIiIAIiEC1BEIe6+VZFwRUwHIBSU2SJqCkNmlk6pAJAjroNROUIQiFwpOue5URp/dll44tMmO0Rgk8gZAntX2B14GXgGOAJwErYB0GvO8TfMV6n8Br2E0Eym4U3CqHbbayxYi1PytWrWdd0QbatNy69sZqIQIiEEoCIY/1oWSeaaVVwMo08XiMp6Q2Hn4OpZV+b20LJbQklQ5CodBuIayXnUW9enZMkB4RgAgktbsC5wI7A0ucFVmzffStYr2P8DU0XDfuHfp2b8Pg/Xd0heO/b37LJ18v4+rTrR6sRwREIIoEIhDro+gWT21SActTnBLmEFBSq6kQWAJ20Otvjr+AFT8vIadxLsVrCjj0wF6MGTmc7GwVO7xynAqFXpGUHK8IKKn1iuRmOYr1niOVwGQIXH73mxx5wI4cslf7LbotW76Whg3q0XTrBlv8fvwrn7Ni9XrOO26PZIZRWxEQgRARUKwPkbPqqKoKWHUEp241ElBSqwkSWAIrfynCtpc9eEU/VhYu54oHPuS2iwaw0/bNAqtz0BUrLS2laEMJDXPqbVa18o1Qy5bm0av7zjzzyK0qFAbdoRHVL6RJ7XbOwe1LHbfYXqmrgL2AGcAdPrpLsd5H+Boaht4yldOGdGef3ext8usz6uF32XvX1hx54E5b/P6eZz+m2TYNOWnwbsInAiIQUQIhjfUR9UZ6zFIBKz1c4y5VSW3cZ0CA7Z/x4WL+M+0b7rykX5mWD/znU1b9UsRlJ+0TYK2Dq9rPK9Zy1zMf0aFNE878Xc8qipbfCLVo6QY+/66QU4d0D64x0izSBEKa1E4EngGecJxzi3Nwu52H1R+4AbjVJ8cp1vsEXsNuInDqqMlccVJvdtsxdwskFpNymzXixN9sWaga8+gsenZpxVEHdRZCERCBiBIIaayPqDfSY5YKWOnhGnepSmrjPgN8tt+KJvn5+bRs2bLKNdq3P/kBrZpvxclHdCvTckn+L5xz01Tuu3wAbVvpYFe3rrNVVzM++qGsAGhnkJx1dE+2dnmQrtsx1E4EvCQQ0qR2MbAnsAywnO1n4DTnMPdDnRVYu3vJKQlZivVJwFJT7wn8cdhEbrngYHZoY1Px1+fxl+dhq60rbxW0LYdDDtyx7IZaPSIgAtEkENJYH01npMkqFbDSBDbCYkcCZwCWLXwADAU+q2SvktoIT4Agm1a+be3NWXMpzWlOVvEKDurbY/P5ViUlpZw88lWuOqUP3XdqudmU2yZ8wFYN63Pusb2CbF5gdCtcvZ77//Mpc775mfOO68V+PdsFRjcpIgLVEQhpUrvSibdmli1xnAXYfudiwA7ts4LWlstPMjcFFOszx1ojVSKwsaSUoy97iUdHHF72pVTF56U35jNn/s8MP23Lw9rPGvs6Q4/rRa+dtxVPERCBiBIIaayPqDfSY5YKWOnhGlWplwHnAYOB+cC1wMnALsCaCkaXJbXLli2jVatWUWUhuzwkUNOKKRumutfLf9+kSRNWrVrFHXc/yKyFDWnadtPqKntW5s1j/84buGH0CL7+fjkjHpjJhFGDt7idbmHeSi75xwweGn4YLZo28tCy6IlaunwNl975Brt0bFH2QaBFk2DxsmvV5y0soF+lQ32j5wlZlCyBkCa1PwD2B63QdkwBfwP2dWy3E6ptZZZfB/ipgJXsJFR7zwgUbyjh31O/5vf9u2xx/qIN8MZHi7EbB211VsXn5ZkL2LdHW3IV5z3zgwSJQNAIhDTWBw1joPVRASvQ7gmcct8CtwP3OJrZic0/AhcDEyoXsPr2P4b+B+yp290C58bgKFTbiql169Zx+bDr+GDOt9CgRdmKqv336cr555zB3fc/zNvvzyMv7yc2lJTSNLctKwvy6DX4kioGFsyZwLSJ4/l8YSEffbU04TlM1z8yiwN7taPf3h2CAyiAmtjWwQ+/XMpeu7YmKyt4IeT19xbx+vvfc+PQAwNITyr5SSCkSe2TTvHqQcD+vQJc53C0FVn/Avw6kVoFLD8ntMaulsAnXy/DDmwfN+wwURIBEYgZgZDG+ph5KTVzg/fpIzV71Dt9BCxRXQHs52xhKB9pMjAHuLRyAWvQ0CdZW7Bw8+qX9KkmyWElcNWI0cycX7/Kiqn9dioiKyubZ56bxHbdBtNqhz0oLS3h29kv8svyH9i4fjUddv8NhUsX0KxNF1p16Mm61QUs/nw6XXr/vmoB64tJPHX/1eTk5CQ8F8s6bNxYssWqrLAyjbve416cg20VPfsYv44FirsHgmt/SJPaTsDLQFfgU+fg9uUOZTvA3ZY5n+kTdRWwfAKvYWsmULByHW99/ANHHazD2jVXRCBuBEIa6+PmppTsVQErJXyx6mwnXn7nfNP7ZQXLn7ZdWsBZiQpYOQ0bs+CdRznv4mupn5PDju2acmjvjgnBvf7edyzIs10SVZ9Et5tZq29/KGTKbFOr6nPoPh3ZafvEOyvGvWA1t6qP6Tewzw7V6LeIBT+aqQn0O7rq7WvWav7iFUyZ/X01+nWgc/vmCV978Hn7nFL12aldMw7rm1i//81axLc/JuZX3Yd508+4J3oG9ulYvX7/Sazfjts34/Bq9HvN9PvhV/02FBfzwD9Gs+P+dh7xls9nr4xl+55DWPzVu/QYsGlqzX//+bJiVW67rsyb8SjdDjmt7L/lr5dsLN7i/8slWuFr3qs30Xb7jptXcVU8Fyuh8TH9ZW1bOb3CYsXCV95ZyMDeHWnUsL5XYsvkDL//7bIDegftm/h94ulgEhYqAiFPau2cq4JKwC2AFFXawp9Jn6iAlUnaGksEREAERKBWAiGP9bXapwabbrTRIwJuCCS9AmuHXoPJrpfD6mXzOfq4k+lz8BE1FrCmvP9dtQWiM37XI6GOC34sZGo1BaIB+3Rgx3aJC1gPvzQ3obxObasvsE2dXb1+fz2qev2mfWCXSFV9+u/dvlr9Hvlv5XPxN/U3/cyuRI9xWJSXuMB22m+7V8tvejX69atBv8cmJtZvh7ZN6V/NFrxpH2yp34qCZfzz8cdp3+t3W+hmhag5/7uHXQ88ZfOKqorFqfKVVu1361dlxVV5kctWZJU/c6eOo02XPrTq+OsB7RXPxUoEJlOFHDdvvEy0SbSVc/fuO3PO0Avp2cX7w25tG+LFd77BwXtszzH9unhmosn9yzWvct2Z+5ad0aVHBCZPnoz9s8fe1/fee6/9aIEh8R9LIUuGgApYydBSWxEQAREQgbQTUAEr7Yh9H0AFLN9dECoFEp2BlQf8PdEZWLaF0FZgLZ/zJFMnPkGDBnberB4R2ETAPkwOGHISLXqesAUSK1B99+krdOn7x80rqipuDywvZlVegWVCyrcZWtG0/U5dYf1yfs5fwa4Dzq+CvfxcrIrzsrYzuaLqu0RbOX/+fg4dtlnOvx65LS1mvz9vCXc98zHjhg+kUQNvVmHlF67l9NGv8czYIz2TmRbjJdQXAkpqPceuApbnSCVQBERABEQgFQKK9anQC0dfFbDC4aegaGnnXNkthEfa7j3gGuBEYNdEtxDqDKyguC24eiQqnKxY/ClLv57BLv3Pr7JtsPJ2wsIl32w+A6vcSltd1bfTOi6+4BzWr1/PCeeOJbfrEVULWF9M4rmHR9GmTZvNr1V3Jlf5LYZRXJlVXSHRoCQq8nk1m8pXYR2y5/YcfYg3q7Bmf/4TD704lweuPNQrNSUnQgSU1HruTBWwPHR/L1cAACAASURBVEcqgSIgAiIgAqkQUKxPhV44+qqAFQ4/BUlLu/3obKAJMBsYClTeT1aW1OoWwiC5LZi6lK94emPWHMhpTlZxIXY+lRU33vk2hyZtupYd3L5m5TLW/VJAp90HsW2nPTevtFpV8D0lRWuoV68+zbbtQLNGG8v6jxk5nOzs7GpXeRmNyisDayrk5H86ngN7d2fm7M8pLdNzxRbjBJOuO63y8vI49ozrXBf53El11+q9eUu428NVWEXFG8kvXEfbVlu7U0CtYkVASa3n7lYBy3OkEuiWwKS3vmXZirUJbxVOJOPxl+eRUy+bPw+y+xD0iIAIRJWAYn1UPfurXSpgRd/HflhYltQuW7aMVq3sgiQ9IlAzASseFRQUkJubW7bVtHJhq3R9AXv12JHGWzXm7Q8+31zs2n+frlx03tk0bdqU1atXb+5fcbTaVlWVt62pkPPRpFvotMdgWmz/61lntZ2jFRaf11S4S/f237JVWP+YwSF7tfdsFVZYuEvPzBNQUus5cxWwPEcqgW4J2Fmca9dv4Jw//Hq+ZU19b5vwAR22a8IfB+7idgi1EwERCCEBxfoQOi1JlVXAShKYmrsioKTWFSY1qo1A5cKWtU/0u5rkVLfKq3yVVnnf6go5dubWJ6/+gz2PvKzKMOncYlcbGy9ftyLf2/Pr0aztr4f9Z6pA9+EXS1m0ZKWnh7l7yUayokNASa3nvlSs9xypBLolcN+/P2GbxjmcfES3hF2enfJVWYGr/PURD87kwF7b64Zat4DVTgRCSkCxPqSOS0JtFbCSgKWmrgkoqXWNSg0zRcBN4SvRaq1l377LmvxF7ND7+KoFrATnaGXKHi/HcVvk83JMyRKBTBNQUus5ccV6z5FKoFsCt4yfXXYz83GHJl5R9dzUr5n/QyGXn7RPmcgLbpvGXwZ1pW+Ptm6HUDsREIEQElCsD6HTklRZBawkgam5KwJKal1hUqOgEUhUyLFtim/P/oLcSrclmu7p3mKXaT5uinyZ1knjiYBXBJTUekVysxzFes+RSqBbAiMfepfe3bbjiP13TNhlyvvfMeX97xl77gFlr58y8lWuOrUPXXfIdTuE2omACISQgGJ9CJ2WpMoqYCUJTM1dEVBS6wqTGgWVQOVCjttztIJqj/QSAREAJbWezwLFes+RSqBbApff/SZHHLAj/fZqn7DLB1/8xMMvfcZ9lw+gpKSU31/x37Ibatu01CUfbhmrnQiEkYBifRi9lpzOKmAlx0ut3RFQUuuOk1qFhIC22AXfUV8uKqB5k0Zsl9s4+MpKQ18IKKn1HLtivedIJdAtgVuemM1v9u9Ez86JLwv6ZvEKrnnwHZ4cPZh16zdw/aOzGH5aX7ZqWN/tEGonAiIQQgKK9SF0WpIqq4CVJDA1d0VASa0rTGoUNgJR2mL34ZdL6bXzttTLjkYYGH7/22W3GR7ed4ewTSvpmyECSmo9B61Y7zlSCfSKQH7hWk4d9RrP3/xb6tfL9kqs5IiACAScgGJ9wB3kgXrR+OTiAQiJ8JSAklpPcUpYUAm8N28JRcUby242CtNjWytuenw291zWn9YtgrNiqXjDRp6d8jW/79+FRg3cf0teWlrKX655levO3JddOrYIkyukawYJKKn1HLZivedIJdArAsUbSrj6gbcZ8dd92WarHK/ESo4IiEDACSjWB9xBHqinApYHECWiCgEltZoUsSAw89Mfue+5T3jgyoGhSZALV6/n/FuncfIRuzGwT7BWK1kh6qI7ZjBgnw787uDOrueQfdN++ujXeGbskUkVvlwPoIaRIKCk1nM3KtZ7jlQCRUAEREAEUiGgWJ8KvXD0VQErHH4Km5ZKasPmMelbJwJWcLnm/96hw3ZNOOvonnWSkclOpu/Yx94jKyuLq07pXfbfoD2z5uZx778/Ydzww2iYU8+VerM//4mHXpxbdkCvHhGojoCSWs/nhmK950glUAREQAREIBUCivWp0AtH3+B9egkHN2lZMwEltZohsSGweOkqLrx9BrdecBA7tmsWaLv/N2sRT7zyOXdf2p9m2zQMpK51WYX17JSv+PaHQq44uXcgbZJSwSCgpNZzPyjWe45UAkVABERABFIhoFifCr1w9FUBKxx+CpuWSmrD5jHpmxKBxyZ+xheLlnPDuQcEclWTGbck/xcuuG06V57cm726tk7J3nR3fnduHvclsQrLbqPq2LYJxw/cNd2qSX6ICSipLXPe8cBQoBewDWCHA5VUcOvuwN3A3sAKYBwwshq3K9aH+P0g1UVABEQgigQU66Po1S1tUgEr+j72w0IltX5Q15i+EVi7fgN/u3EKpw3pRr+9O/imR00Dry/eiG21O2D3doHUr6JSZauwbp/Bob07cJSLs7AW/FjI1o1yaJ0bnAPpAw85hgoqqS1z+mFALmBvlocqFbCsoPUV8AgwCtgFeAW4FbgzwZRRrI/h+ygIJv/482pmfprHsQN2dqXOCzO+Yaftm7F7l21dtVcjERCB8BJQrA+v79xqrgKWW1JqlwwBJbXJ0FLbSBD4fEEBbVo2pkXTRpGwx28jPvxyKctXruPQ3h39VkXjR4SAktotHHkIMLVSAesU4CbAqtzlq7IuAM4HElUKFOsj8t4Imxnvz1vCPyfN457LBrhS/Yp73mTw/jvSb6/2rtqrkQiIQHgJKNaH13duNVcByy0ptUuGgJLaZGiprQiIgAiIQNoJKKmttYB1O7AbMLhCy/2AtwA74G91JScp1qd91mqARASmf7iYl99ewM3nH1QjoC8WFfDZ/Hxem7WIc/6wO3vsEuzt8/K2CIhA6gQU61NnGHQJKmAF3UPh1E9JbTj9Jq1FQAREILIElNTWWsCyLYVbA3+u0LIr8Blge6N/VAErsm+PUBn28swFvD/vJ649Y98a9X5nTh5Pv/YlPxX8wg1DDwz8RSuhcoKUFYGAElCsD6hjPFRLBSwPYUrUZgIqYGkyiIAIiIAIBIqAktpaC1h1WoE1dOhQGjRoUCZ80KBBZf/0iEA6CdjNswvzVnLZifvUOMwXCwsY9fAsVq0p4vHrBtGiibb4p9Mvki0CfhGYPHky9s+eoqIi7r33XvvRVg6v9EsnjZs+AipgpY9tnCWrgBVn78v2QBCY883PtGzWiHbb2rnMekRABFTAqrWAdTJwc6UzsC4EztMZWHr/BImAnX/1y9pizj3WLtOs/rHbd88c+3pZgxdu/i316mUHyQzpIgIikAYCivVpgBowkSpgBcwhEVFHBayIOFJm1J2AfeObUy+bRg3r111IHXsuX7WO82+dxl+P6kH/gN6KWEfTtuhmtxV++0Mhndo1o162wpkXTKMsQ0ltmXftE3wOYIe42w2DTYCN9qW1s33wS+cWwjFO0WoScJtuIYzyOyN8tt333Cc0blifU4d0r1F5uyH4j8MmkZUFL936u/AZKo1FQASSJqBYnzSy0HVQxh86l4VCYRWwQuEmKZlOAqMefpdObZty8hHd0jlMFdlW1LEtE1s1rM9lJ+5NlmXuIX/sQ8jjL8/jtCHdaZBTb7M1+YVrOX30azwz9kgaNch8oTDkWGOnvpLaMpfbTYOPAqXOBLA/EPZzf+ANoAdwH7A3UAjcD4yuZrIo1sfuXRQMg1evLYbSUrZpvGnrak3P7y9/nsv/1I29euy4eatrbX30ugiIQHgJKNaH13duNQ//Jxu3lqpdJgkoqc0kbY0VSALzF6/g8nve4u5L+mV0G98rMxfwr9e/4u5L+7tK7gMJr5JSJSWlXHTHdA7rswO/PWinza/O/vwnHnpxLg9ceWgYzJCOPhNQUuu5AxTrPUcqgV4RKCkpYfi1Y3j25ffI3bYNDUpWclDfHowZOZzsbG0l9Iqz5IhA0Ago1gfNI97rowKW90wlEZTUahaIgC1jeO4TlhasKbspKRMroRYvXcXf75jB1af3pdfO20bKBzM//ZEHn/+UccMO27wKyw7ynf9DIVee3DtStsqY9BBQUus5V8V6z5FKoFcErhoxmpnz69O07a+roFfmzWP/zhu4YfQIr4aRHBEQgYARUKwPmEPSoI4KWGmAKpEqYGkOiIARsHOwzr5hChcevwd9e7RNKxTbOnjZXW+y2465ZWdfRe2xVVgX3j6dw/v+ugrrlvGz6dimCccP3DVq5sqeNBBQUus5VBWwPEcqgV4QsFvIBgw5iRY9T6girmDOBKZNHK/thF6AlgwRCCABxfoAOsVjlVTA8hioxJURUFKriSACDoHJ7y7k2Slfc+/lA2hY4fymdAD6fEEBXTo0I6f+r+dEpWMcv2RuWoU1h3HDBpatwjr35qmcOqQbfbq18UsljRsiAkpqPXeWYr3nSCXQCwJ5eXkce8Z15HY9omoB64tJPPfwKNq0UdzwgrVkiEDQCCjWB80j3uujApb3TCVRBSzNARHYTGBjSSmjH36XEwfvRpf2zUUmBQLlq7AG7btD2Uqs44ZNKitmtW7ROAWp6hoXAkpqPfe0ClieI5XAcgK2iio/P5+WLVsmvVqqphVYy+c8ydSJTyQtU54RAREIBwHF+nD4KRUtVcBKhZ76VkdASa3mhgiIQFoIfPzVUoo3lLBrx6ZMnP4Zfzhsdxo2bJiWsSQ0WgSU1HruT8V6z5FKYPnh62/OmktpTnOyildscfi6fZHx+cICdt2hBfXrVX8Yu87A0lwSgXgSUKyPvt9VwIq+j/2wUEmtH9Q1pgjEgEBtH25igEAm1pGAkto6gqu+m2K950glsLbC05p1xRw//GWeuv4Ittkqp1pg5bHijVlzoKwQVqhbCDW9RCAGBBTro+9kFbCi72M/LFRS6wd1jSkCMSBQ24ebGCCQiXUkoKS2juBUwPIcnAQmJuDm8PXCXzby1zGv8cLNR5GdXfvHGJNZUFBAbm6utg1q4olADAgo1kffybX/5Y8+A1noPQEVsLxnKokisAWB/MK1zPpsCYP360RWVjz+lLv5cNOgQQPNFBFISEBJrecTQ7Hec6TxFujm8PX1pY25/J43eWbMkfGGJetFQAQU62M6B+LxqSemzvXRbCW1PsLX0NEnYGeAXDfuHZo3acjFJ+wdfYMdC918uNHNUrGZDkkbqgJW0shq66BYXxshvZ4UATeHr3+9eBW3TviAR0ccnpRsNRYBEYgHAcX66PtZBazo+9gPC5XU+kFdY4aCwMaNJdzz7CecMKgr27bYqk46//fNb3lhxjfcdUl/tq7hDJA6CQ9wJzcfbrQCK8AO9Fk1JbWeO0Cx3nOkEljbNvH35y3hn5Pmcc9lAwRLBERABKoQUKyP/qRQASv6PvbDQiW1flDXmKEhcNuED9hYUsrlJ+2TtM6Llqzkkjvf4Loz9qVH51ZJ9w97h9o+3ITdPumfPgJKaj1nq1jvOVIJrHj4enF2U7KLC+m//+6MGTmc7Oxspn+4mJffXsDN5x8kWCIgAiKgAlYM54AKWDF0egZMVlKbAcgaIrwEClau4283TuHq0/uwe5dtXRtSvKGES+98g726tuaUI7u57helhrpZKkrezKwtKmB5zlux3nOkElhOoLrD17//aRWLl65iv57tBEsEREAEVMCK4RxQASuGTs+AyUpqMwBZQ4SbwPPTv+F/733HXZf0o369bFfGPDvlK9765EduveBgcuq76+NKcAgb6WapEDrNZ5VVwPLcAYr1niOVQBEQAREQgVQIKNanQi8cfVXACoefwqalktqweUz6ZpzAho0lXHDbNA7v24mjD+nsavw164pZtaaY7XIbu2qvRiIgAr8SUFLr+WxQrPccqQSKgAiIgAikQkCxPhV64eirAlY4/BQ2LZXUhs1j0tcXAp98vYyxj73H/101kGbbNPRFBw0qAnEhoKTWc08r1nuOVAJFQAREQARSIaBYnwq9cPRVASscfgqblkpqw+Yx6esbgc8XFNC1UwuysvTn2DcnaOBYEFBS67mbFes9RyqBK1b+wtcLfqDXbp3QrbKaDyIgAskSUKxPllj42usTU/h8FgaNldSGwUvSUQREQARiREBJrefOVqz3HGl8BZZf0PHaGx+zPqsJzRus5aC+PRh1zVVsLIFGDevHF44sFwERcE1Asd41qtA2VAErtK4LtOJKagPtHiknAiIgAvEjoKTWc58r1nuONL4Crxoxmpnz69O07a837K7Mm0fjjT/y51PO4eQj4nnzbnxnhCwXgboRUKyvG7cw9VIBK0zeCo+uSmrD4ytpGjACdrtefn4+LVrk8vTr3/C7gzvTommjgGkpdUQgfASU1HruM8V6z5HGU6DFvQFDTqJFzxOqAPhu1mMce9qljPjrAWWvXXHPm/z58F3ZY5fW8YQlq0VABGokoFgf/QmiAlb0feyHhUpq/aCuMUNNoHz7xJuz5lKa05zVhcvIaZzL9BfuZZvGOuA91M6V8oEgoKTWczco1nuONJ4C8/LyOPaM68jtekQVAEvm/pdu+wzkxvMOoWXLlvzt5ulccsLedN+pZTxhyWoREAEVsGI+B1TAivkESJP5SmrTBFZio0sg0faJwrzPOKDzRm4YPSK6hssyEcgQARWwPAetWO850ngKrG4FVmlpCXNeuZHsRi1p164DWcUrWLVha/7z+G10bt8inrBktQiIgApYMZ8DKmDFfAKkyXwltWkCK7HRJFDT9omCOROYNnG8bmOKputlVQYJqIDlOWzFes+RxlegfYkz46ssWrbvuRnCvOkPsV3n3rTs0Gvz737+fg59OhZx562j4gtLlouACFRLQLE++pNDBazo+9gPC5XU+kFdY4aWQE3bJwq+mMRzD4+iTZs2obVPiotAEAgoqfXcC4r1niONp0D7EmfZsmWMuvke5nw2n6yGzSldX0B+wQp26X9+FSg/fzKBGS/ri514zhZZLQI1E1Csj/4MUQEr+j72w0IltX5Q15ihJVDTCqzlc55k6sQntAIrtN6V4kEhoKTWc08o1nuONF4CK5/9aFsE99+nKxeddzbFxcWccO7YLc7FKtlYTNHaVaz67i1eeHSMvtiJ13SRtSLgioBivStMoW6kAlao3RdY5ZXUBtY1UiyoBKq7Qnz/zht0BlZQnSa9QkVASa3n7lKs9xxpvATWFPdGjrhi882EdhbWt7NfZO2qZTRq0opffl7An44ewI3XX0N2dna8oMlaERCBGgko1kd/gqiAFX0f+2Ghklo/qGvMUBMo/yb6jVlzIKc5WcWFHNS3B2NGDleCHmrPSvmgEFBS67knFOs9RxofgW7Ofrx29E3MnF+fZYu/pFmbLrTq8Ov5WCvz5qEveOIzX2SpCLgloFjvllR426mAFV7fBVlzJbVB9o50CzQBS+oLCgrIzc3VtsFAe0rKhY2AklrPPaZY7znS+Ah0c/Zj69atufLqkTz9wlR6Db60ChxdchKf+SJLRcAtAcV6t6TC204FrPD6LsiaK6kNsnekmwiIgAjEkICSWs+drljvOdL4CHR79qMVuv5wxrW07Hpk1QKWLjmJz4SRpSLgkoBivUtQIW6mAlaInRdg1ZXUBtg5Uk0EREAE4khASa3nXles9xxpvAS6OfvRbaErXuRkrQiIQHUEFOujPzdUwIq+j/2wUEmtH9Q1pgiIgAiIQLUElNR6PjkU6z1HGi+Bdvbj2RdezdSZn9CmzfbVnv3optAVL3KyVgREQAWs+M4BFbDi6/t0Wq6kNp10JVsEREAERCBpAipgJY2stg6K9bUR0uu1EvjPtK+ZO38pZw3pXO3Zj7rkpFaMaiACIuAQUKyP/lRQASv6PvbDQiW1flDXmCIgAiIgAtUSUFLr+eRQrPccafwE3vDP9+jSvjnHHbpLrcbrkpNaEamBCMSegGJ99KeACljR97EfFiqp9YO6xhQBERABEVABK3NzQLE+c6wjO9Jpo1/joj/tSa+dt42sjTJMBEQgcwRUwMoca79GUgHLL/LRHldJbbT9K+tEQAREIHQElNR67jLFes+Rxktgwcp1nDpqMk9ffwSNG+XEy3hZKwIikBYCivVpwRoooSpgBcodkVFGSW1kXClDREAERCAaBJTUeu5HxXrPkcZL4HvzlvDYxHncd/mAeBkua0VABNJGQLE+bWgDI1gFrMC4IlKKKKmNlDtljAiIgAiEn4CSWs99qFjvOdJ4CSwtLWX12mKaNG4QL8NlrQiIQNoIKNanDW1gBKuAFRhXREoRJbWRcqeMEQEREIHwE1BS67kPFes9RyqBIiACIiACqRBQrE+FXjj6qoAVDj+FTUsltWHzmPQVAREQgYgTUFLruYMV6z1HKoEiIAIiIAKpEFCsT4VeOPqqgBUOP4VNSyW1YfOY9BUBERCBiBNQUuu5gxXrPUcqgSIgAiIgAqkQUKxPhV44+qqAFQ4/hU1LJbVh85j0FQEREIGIE1BS67mDFes9RyqBIiACIiACqRBQrE+FXjj6qoAVDj+FTUsltWHzmPQVAREQgYgTUFLruYMV6z1HKoEiIAIiIAKpEFCsT4VeOPqqgBUOP4VNSyW1YfOY9BUBERCBiBNQUuu5gxXrPUcaH4GT311I725tyG3aKD5Gy1IREIG0E1CsTzti3wdQAct3F0RSASW1kXSrjBIBERCB8BJQUuu57xTrPUcaD4FFxRs5fvgk7r/iUNq03DoeRstKERCBjBBQrM8IZl8HUQHLV/yRHVxJbWRdK8NEQAREIJwElNR67jfFes+RxkPgF4sKGP3wLMaP/A1ZWfooEg+vy0oRyAwBxfrMcPZzFEUNP+lHd2wltdH1rSwTAREQgVASUFLrudsU6z1HGg+BL705n4++XMa1Z+wbD4NlpQiIQMYIKNZnDLVvA6mA5Rv6SA+spDbS7pVxIiACIhA+AkpqPfeZYr3nSOMh8NbxH7D9tlvz50Fd42GwrBQBEcgYAcX6jKH2bSAVsHxDH+mBldRG2r0yTgREQATCR0BJrec+U6z3HGk8BJ51w+ucfUxP9u66XTwMlpUiIAIZI6BYnzHUvg2kApZv6CM9sJLaSLtXxomACIhA+AgoqfXcZ4r1niONvsBVa4o4YcQrTBg1mKZbN4i+wbJQBEQgowQU6zOK25fBVMDyBXvkB1VSG3kXy0AREAERCBcBJbWe+0ux3nOk0RdYWlpKfuE6WjXfKvrGykIREIGME1CszzjyjA+oAlbGkcdiQCW1sXCzjBQBERCB8BBQUuu5rxTrPUcqgSIgAiIgAqkQUKxPhV44+qqAFQ4/paLl7sCNwJ6AHTYwEJhaSWBz4F7gSKAEmAScBxRWaHcsMBroCCwErgaer0YxJbWpeEx9RUAEREAEPCegpDYppCOBMwCL5x8AQ4HPKklQrE8KqRoXFRWRn59Py5YtadBA2wc1I0RABLwnoFjvPdOgSVQBK2ge8V4fu+LlAOAj4H3gsAQFLCtY5QDHAzYnngF+AY521OkLTAf+DPwX+B0wHjgQ+DCBykpqvfdj5CVOnjyZQYMGRd5OGegdAc0Z71jGQZKSWtdevsz5EmswMB+4FjgZ2AVYU0FKWaxftmwZrVq1ci1cDeNHoKSkhOHXjuHNWXMpWLGK3OZNOKhvD8aMHE52dnb8gMjipAgo1ieFK/aNFeujPwVUwIq+jytaaKurKq/AKl9RZSu15jqN7eePndVWi4FHgGbAHyoI+w+QD5ypAla8JlG6rL344ou5/fbb0yVeciNIQHMmgk5No0lKal3D/RawP8b3OD3qAT8CFwMTKhew+vY/hv4H7KlihGu88Wt41YjRzJxfn6Ztu/HZ9Efo3u90VubNY//OG7hh9Ij4AZHFSRFQrE8KV+wbK9ZHfwqogBV9H9dWwDoKeBpoXAnFOsC2DU50VlnZqqybKrS5yilo7RPmAlYmvtXxaoy6yEm2j5v2tbWp6fWaXgtLglKb/V78SfFqjLrISbaPm/a1tdGcSX3W1MbY7Qh1kZNMH7dta2tXlzmjpNbVLLBVVSuA/YBZFXpMBuYAl1YuYA0a+iRrCxYGvhhRcc7YQeJZWYlT4KLijaxdv4HSUrB2JfavZNPPzZo0pGGO1fO2fDZuLGFh3kremD6FAw4eUNantISy/7Zo0pB2226TEP7nCwpYsXr9pvZOn3ffnsZ+B/XnwF7bJ+yzKG8ln3yz7Ff9nHE+eu8Nzj/zT7RpuXWVfuuKNvDk5C832zPng7fotscBZeN265RLv707VOljvFZkd2JB3kpKShz9SjfZZAyuOLk3id6H787N499Tv2bBvFl07NqHDcVFvPqvu+h6sO1IZXMBy34umDOBaRPHB3Y7YW1/h1y9o2po5JX8uspJpp+btrW1qevrYckPzdW12ag5syWB2njV5XXF+lRnWfD7q4AVfB9Vp+GjwClAqbPtr3I72/I3oNIvE63AOhG4BWhbqe0S59vWJ4FvnDYPVmjzN+d121JQ+SnbVvD999/TtKn9GNxn2LBhjB07Nq0KejVGXeQk28dN+9ra1PR6XV9Lq4OSFF6b/UmKS9jcqzHqIifZPm7a19amrvOiNrle+MILGZnQ06sx6iInmT5u29bWri5zxpLaDh3KPqjbiuKVXvg2gjLaA98BuwFfVrDPvugyZmdV+F1ZrD/0zIeo36AxC959ghPOuITsevVoUK8e5xzbKyGeD79cystvLXCKNpsKImUFEko59chudOnQokq/NeuKGXbf25uKPKWwcXPBp5T9e23PSYNN3arPjY+/z9z5+WXyP3vjcXY78ERKSmHrRvV59JrEW9b/994ixr1QviD9V5nZWTDstD7s3mXbKgP9sraYC2+fzidTH2PPgaeSRRbZ2VlYnwN6bc8Jg+w0h6rPuBfmMP+HFWXFtLL2ZPHmxP9j0HFDueqU3gn7fPzVMl6btQjbeZedlYXV4ey/rz57Hw/eezsd21TNuzYVsL5w2mfx/Pg7Oe6Ui8rG7dK+GX26V04Bwd5jQ/50HvmFax39ysfLIqd+NgP26VjWpnIOtST/F779oZBx99zIghtH7QAAEZVJREFUORdeRUH+Mm68Yxytd/tNmT1fvPUEXQ88qezn5V9NZvy9w9luOzuiNXhPbX+HUtXYK/l1lZNMPzdta2tT19dr65eqH7zsn25dvZJfVznJ9HPTtrY2dXldsd7LGR1MWSpgBdMvbrSyFVONamhYDKyq9HqiAlZNK7Bsy6Cdj2XnXCWzAsu+NrSth3pEQAREQAREIGgErEjzQ9CUCog+yazAUqwPiNOkhgiIgAiIQBUCivURnRQqYEXUsdWYVd0ZWAsA+6q0/CtH+9mKVjs4hSg7A8uSWttSWP7UdAaWzat2CQpo8aIta0VABERABIJGoIlznpOtXtaTmECiM7DygL9XOgNLsV4zSAREQAREIIgEFOuD6BWPdFIByyOQARfT0NlmaLcH2a1Ctr1wA7DR0dtuFrRbCP/itHsKWA0c47xutxBOc24htBVZdgvh48BB1dxCGHAcUk8EREAEREAERKAaAnbO1XnAkYAVs64B7LiBXSvdQiiAIiACIiACIiACIpBRAipgZRS3L4PZKipbYVX52+aRwChHo+bObUNDnHZW0LLkteIZIbad8HpnVdZCYBjwgi8WaVAREAEREAEREIF0ErgOOBuwb7FnA0Pt/O10DijZIiACIiACIiACIlAbARWwaiOk10VABERABERABERABERABERABERABERABHwloAKWr/g1uAiIgAiIgAiIgAiIgAiIgAiIgAiIgAiIQG0EVMCqjZBe95rA8cBFgB0ofyfwL68HkLzIEbC/UzOca93vd85jiZyRMsgzAnsBdznn/NUDLgHe80y6BEWRgG2jt/Mdi4Ctndg0IYqGZtgmxfsMAw/5cIr1IXegD+or3vsAPeRDKt6H3IGmvgpYEXBiiEywmwzfAfZx5t77wL66rTBEHvRPVbuu/VCgiwpY/jkhJCNvB/ziXETRHbBbVO0iCj0iUBOBbOeLFYtTnwP2N0dP3Qko3tedXZx7KtbH2fvJ2654nzwz9QDF+5DPAhWwQu7AkKl/GHCsczCsqf4g8CzwesjskLr+EDgF6KwClj/wQzrqLsBjwP4h1V9qZ56AfYB+yLmxN/OjR2dExfvo+DLTlijWZ5p4NMZTvI+GHzNpheJ9Jml7OJYKWB7ClKhaCfwJ2N25wdAa3wh8BDxTa081EAFQUqtZkAyBHGdb2B3AK8l0VNtYEmgFPAd0A65yilixBOGR0Yr3HoGMoRjF+hg6PUWTFe9TBBiz7or3IXe4Clghd2CG1bfzLOwq7V7ANoAFDDvLquIzEjgDsO0DH1S6evtw4PfA35wOWoGVYQf6NFyq86ZcbSW1Pjkww8N6MV9sefhTwGRnC2GGTdBwGSbgxZwpV9kSW4tdFudWZNiOIA2XKlPF+yB5MzO6pDpnFOsz46cgjeLFnFG8D5JH06+LF3NG8T79fkrrCCpgpRVv5ITbloBcoLHz7XTlAtZlwHnO1ov5wLXAyYAt613jFLXeBnqzaf/xLGdrz6rIkZJBFQmkOm8qJrV2BtYI4Y00gVTni8W1J5wihK2+0hN9AqnOmQbOAe5GyuKbrQy21cLro4+uWgtTZWpfYinex2sCpTpnFOvjNV/M2lTnjOK95kyyn0UV7yMwZ1TAioATfTDhEGBqghVY3wK3A/c4OtkNYD8CFwPlNzrpViIfHBaQIVOZN08CPZ0Pl1YcHQxsDIhdUiM9BOo6X+xvzMPOzYMW42wVzTHpUVFSA0agrnPGvlS51bm5sqFzC6Gdz6gH6srU2Cnex3MGpTJnFOs1Zyru7Kjtc4XifTzni1ld178zivcRmDMqYEXAiT6YkOiPhn3bah8U93NWVpWrZVt45gCX+qCnhgwWAc2bYPkj6NpovgTdQ8HTT3PGe5+IqfdMoy5RcybqHvbePs0Z75lGXaLmTNQ9XIN9KmDF2PkpmJ7oj0Z74DtgN+DLCrKfBlYCZ6UwnrpGg4DmTTT8mCkrNF8yRTo642jOeO9LMfWeadQlas5E3cPe26c54z3TqEvUnIm6h1XAirGH02O6qt7p4Rp1qZo3Ufewt/ZpvnjLMw7SNGe897KYes806hI1Z6LuYe/t05zxnmnUJWrORN3DKmDF2MPpMT2Zfcd5wN8rnIGVHo0kNQwENG/C4KXg6Kj5EhxfhEUTzRnvPSWm3jONukTNmah72Hv7NGe8Zxp1iZozUfewClgx9rC3ptvNgXbbg/3ReAVo4hykXQSUOudc2S2ERwJ28OI1wInArs4thN5qI2lhIaB5ExZPBUNPzZdg+CFMWmjOeO8tMfWeadQlas5E3cPe26c54z3TqEvUnIm6h13YpzOwXEBSk80ETgEedYpV9kubP1a46g+84bS6DjjbKW7NBoYCn4lhrAlo3sTa/Ukbr/mSNLLYd9Cc8X4KiKn3TKMuUXMm6h723j7NGe+ZRl2i5kzUPezCPhWwXEBSExEQAREQAREQAREQAREQAREQAREQAREQAf8IqIDlH3uNLAIiIAIiIAIiIAIiIAIiIAIiIAIiIAIi4IKAClguIKmJCIiACIiACIiACIiACIiACIiACIiACIiAfwRUwPKPvUYWAREQAREQAREQAREQAREQAREQAREQARFwQUAFLBeQ1EQEREAEREAEREAEREAEREAEREAEREAERMA/Aipg+cdeI4uACIiACIiACIiACIiACIiACIiACIiACLggoAKWC0hqIgIiIAIiIAIiIAIiIAIiIAIiIAIiIAIi4B8BFbD8Y6+RRUAEREAEREAEREAEREAEREAEREAEREAEXBBQAcsFJDURAREQAREQAREQAREQAREQAREQAREQARHwj4AKWP6x18giIAIiIAIiIAIiIAIiIAIiIAIiIAIiIAIuCKiA5QKSmoiACESOwCHANKA+UBI565I3qDPwP6AHsCb57rX2uBjoCZxWa0s1EAEREAEREAFvCCjWb8lRsd6beSUpIiACPhJQActH+BpaBEQgbQQ6AWMBS16bACuBj4G/Aj85v58K5IS4gHUtMBA4yAOKzwHTgbsdWe2A+4A9gI7AGcAj1YzzPXAMMLsGPRoAC4DfAh96oK9EiIAIiIAIiIBifXJzQLE+OV5qLQIiEEACKmAF0ClSSQREIGUC84AZwJVAIbAt8BtgMrDUpwJWPadYVlqLdVbsKXJBwApYhwIHu2hbUxP7RvYTYHuHlbVt4xSlrOj3NDCymgJWX+AZwD5E1Pbc5IxxYm0N9boIiIAIiIAIuCCgWO8CktNEsd49K7UUAREIMAEVsALsHKkmAiJQJwK5wM/AXs6qq0RCbGWWrcD6o7NSywo2s4BTgDynQ0PAikTWpgUwB7iogkyTYau8dgXsb6kVe2yrnBWD7CnfuvBnYJSzkmkHp4BWUScb83rgBuAywPRvBpwLnOP0+wV43Rm/ADgBeBTIBtYBVhQbDLwNdAVuAXoDxcBLjtzqtgZeAhzl6JuIla2cGl1NAetmZxXb34HdgbuAXo4+8x09v3aE9geed+zTts06TW11EgEREAERcAgo1ivW680gAiIQQwIqYMXQ6TJZBGJAwIpJ64H7gQ+AuU5Rpdz08uLSBKdIZH8LXwGs2FJ+TtNjgG2lswKTbTv8m1PQ2tnZkrifI/N9oBFwm7PKqwuwoUIBy4o2tgVvtfP7yiuwTP5DwMNOAcyKO1aUsm15VjT7BugA/Av4FviLY0SiFVgtgc+dgphtAWzqrKCyItTZ1fj9KcCKYkOreb2mApbpZvpb4ewt4FVgjFPQs/O0rBi4zJFrutnP9nv71lyPCIiACIiACKRCQLF+03Z/xfpUZpH6ioAIhIqAClihcpeUFQERcEnAVkxd6BSUbGXQWmcF0TBnVVL5Ciw73+kHR6ateLIiTnegvNhiq6vKVxBZs6+A64AnE+hhY+Y7h5V/VmGbosmwQk91jxWAxjlndVnRrbrnaKedbYe0J1EBy1ZCHQscUEGI/TwF2KpSEa+8iW2rtCKfsUn0VFfAspVWVvSzIp89NoaturrRKbRVlmUH5tvWSNvyaMUuPSIgAiIgAiKQCgHF+l/pKdanMpPUVwREIDQEVMAKjaukqAiIQB0J2EHttr3uceB2ZztfeQGr4iHuVkiyrXJW1OoDvAusqDCm/b209rYd0LbOWWHMtv7ZVsVtnOKQfQtqB6vbDYflY9hWRFuRVd1j49qqpfaVGvwesO19tqLLZNgZWo2dmxNtFVeiApZ9E2sH1duWw/LHthma3ianfHtkxaHqugLLOFgxzbY52mOrxEYAhztbG+2w2Ksr6KIVWHWcwOomAiIgAiJQKwHFesX6WieJGoiACISfgApY4fehLBABEXBH4N9O8cdWMtVWwLIilq08sjOrFlcj/gvgZWdFlt1y2NzZimcFLDtfK9EYiURVLJyVv24Hqi9yzpCyLYh2lpXpbUWh8qKbFYsOq3SI+zXO/5sObp9LgSFAv2o6VLcCy7Zl2plgdjZX5Wcn5+wt0930tMfkv+icJ6YzsNx6R+1EQAREQASSIaBYn5iWYn0ys0htRUAEAktABazAukaKiYAI1JGAFZKucLb5femsfrIDxO0MKVsxdYeLApYNbcUi2/Z2PvCds8XPluh/5JyJZauZHnRu6LNtDLc650FZUSnVApZtO7Rzomw1k23Ns3O3xgP7VChgnQkMdw6RL996aKug7EwQW/lkZ3jZ1kn7na0Ss+JRosdWZlkf2wpohbjyx1Z9WYywQp0dVv9PYKPD0/Szc6+2c35nfawQZ8Us25LZGnjNObTdbjC0x7YWmi7lZ3jV0b3qJgIiIAIiIAJlXxop1ivW660gAiIQMwIqYMXM4TJXBGJAwLbZ3Qkc6BRlrOhiq6hsC6EVmeypbQWWtbECjiXHVnCxWwpXOdsKzwOWOOdr2ZZEW61l8q2YZEUyLwpYNv7lzgqnrZ3D3J927CpfgWXbFZ91ilr2t9xWUc0EdnGKRfs6515ZQcm2Cdo2xeqe/wAzHPnlbWyVVOUD562IdbpzXpYV1coPvLc+VjAz200vK4S94GyBtAPpGzgr2n4LfBiDOSgTRUAEREAE0ktAsX7TF0OK9emdZ5IuAiIQMAIqYAXMIVJHBERABHwgYFv+bPWU3RC4xsX4s52tkxNdtLUmdri8nRlWseDlsquaiYAIiIAIiIAIeEBAsd4DiBIhAiLgLwEVsPzlr9FFQAREIGwEbAXYlcBNzq2CYdNf+oqACIiACIiACNRMQLFeM0QERCCQBFTACqRbpJQIiIAIiIAIiIAIiIAIiIAIiIAIiIAIiEA5ARWwNBdEQAREQAREQAREQAREQAREQAREQAREQAQCTUAFrEC7R8qJgAiIgAiIgAiIgAiIgAiIgAiIgAiIgAiogKU5IAIiIAIiIAIiIAIiIAIiIAIiIAIiIAIiEGgCKmAF2j1STgREQAREQAREQAREQAREQAREQAREQAREQAUszQEREAEREAEREAEREAEREAEREAEREAEREIFAE1ABK9DukXIiIAIiIAIiIAIiIAIiIAIiIAIiIAIiIAIqYGkOiIAIiIAIiIAIiIAIiIAIiIAIiIAIiIAIBJqACliBdo+UEwEREAEREAEREAEREAEREAEREAEREAERUAFLc0AEREAEREAEREAEREAEREAEREAEREAERCDQBFTACrR7pJwIiIAIiIAIiIAIiIAIiIAIiIAIiIAIiIAKWJoDIiACIiACIiACIiACIiACIiACIiACIiACgSagAlag3SPlREAEREAEREAEREAEREAEREAEREAEREAEVMDSHBABERABERABERABERABERABERABERABEQg0ARWwAu0eKScCIiACIiACIiACIiACIiACIiACIiACIqACluaACIiACIiACIiACIiACIiACIiACIiACIhAoAmogBVo90g5ERABERABERABERABERABERABERABERABFbA0B0RABERABERABERABERABERABERABERABAJNQAWsQLtHyomACIiACIiACIiACIiACIiACIiACIiACPw/je8SzMvHlh0AAAAASUVORK5CYII=\">"
      ],
      "text/plain": [
       "<IPython.core.display.HTML object>"
      ]
     },
     "metadata": {},
     "output_type": "display_data"
    }
   ],
   "source": [
    "#phivals = [float(i)/100.0 for i in sys.argv[1:]]\n",
    "\n",
    "\n",
    "\n",
    "def num_points(max_strain):\n",
    "    if max_strain < 1.0: return -5\n",
    "    elif (max_strain >= 1.0) and (max_strain <=2.0): return -10\n",
    "\n",
    "db = dict()\n",
    "def analyze_normal_stress_difference_vs_phi(type): \n",
    "    phivals = [40.,45.,50.,54.,55.,56.]\n",
    "    #solid part\n",
    "    ialist = ['tot','hd','lub','rep','fric']\n",
    "\n",
    "    folders = get_folder_list()\n",
    "#     db = dict()\n",
    "    for p in phivals:\n",
    "        db[p] = dict()\n",
    "        db[p]['shearrate'] = []\n",
    "        db[p]['shearstress'] = []\n",
    "        for ia in ialist:\n",
    "            db[p][ia] = [[],[],[]]\n",
    "\n",
    "    f1 = FloatProgress(min=0, max=100)\n",
    "    display(f1)\n",
    "    L1 = widgets.Label(\"\")\n",
    "    display(L1)\n",
    "    progress1 = widgets.Label(\"\")\n",
    "    display(progress1)\n",
    "\n",
    "\n",
    "    for num,folder in enumerate(np.sort(folders[:])):\n",
    "        try:\n",
    "            path = folder+\"/result/part_stress_norm_\"+ia+\"_t.dat\"\n",
    "            if os.path.exists(path):\n",
    "                exp = reader.DataSet(folder, fluid=False, particles=True)\n",
    "                exp.load_state(exp.tlist[-1])\n",
    "\n",
    "                max_strain = float(exp.t)*exp.shearrate*exp.dt\n",
    "                n = len(exp.tlist[1:])\n",
    "                if max_strain >= 2:\n",
    "                    n_last_strain = int(float(n)/max_strain*(max_strain - 1))\n",
    "                    n_first_strain = int(float(n)/max_strain)\n",
    "                else:\n",
    "                    n_last_strain = -10\n",
    "                    n_first_strain = -10\n",
    "\n",
    "                f1.value = float(num+1)/len(folders[:])*100\n",
    "                L1.value = folder\n",
    "                p = round(exp.phi*100)\n",
    "                db_visc = pd.read_csv(folder+\"/result/nu_t.dat\")\n",
    "                visc = db_visc[db_visc.columns[2]]\n",
    "                time = db_visc[db_visc.columns[0]]\n",
    "                shearstress = np.multiply(visc,exp.shearrate)\n",
    "\n",
    "                #type is 'mean' or 'all' or 'half' or 'laststrain'\n",
    "\n",
    "                if type == 'mean':\n",
    "                    shearstress = np.mean(shearstress[n_first_strain:])\n",
    "                    db[p]['shearstress'].append(shearstress)\n",
    "                    db[p]['shearrate'].append(exp.shearrate)\n",
    "                if type == 'last':\n",
    "                    shearstress = shearstress[-20:]\n",
    "                    db[p]['shearstress'].extend(list(shearstress))\n",
    "                    db[p]['shearrate'].extend(list(np.ones_like(shearstress)*exp.shearrate))\n",
    "                if type == 'half':\n",
    "                    shearstress = shearstress[int(len(shearstress)/2):]\n",
    "                    db[p]['shearstress'].extend(list(shearstress))\n",
    "                    db[p]['shearrate'].extend(list(np.ones_like(shearstress)*exp.shearrate))\n",
    "                if type == 'laststrain':\n",
    "                    shearstress = shearstress[n_last_strain:]\n",
    "                    db[p]['shearstress'].extend(list(shearstress))\n",
    "                    db[p]['shearrate'].extend(list(np.ones_like(shearstress)*exp.shearrate))\n",
    "\n",
    "                for ia in ialist:\n",
    "                    path = folder+\"/result/part_stress_norm_\"+ia+\"_t.dat\"\n",
    "                    df = pd.read_csv(path)\n",
    "                    s11 = np.asarray(df[df.columns[2]])\n",
    "                    s22 = np.asarray(df[df.columns[3]])\n",
    "                    s33 = np.asarray(df[df.columns[4]])\n",
    "                    if type == 'last20':\n",
    "                        s11 = s11[-20:]\n",
    "                        s22 = s22[-20:]\n",
    "                        s33 = s33[-20:]\n",
    "                        db[p][ia][0].extend(s11)\n",
    "                        db[p][ia][1].extend(s22)\n",
    "                        db[p][ia][2].extend(s33)\n",
    "                    if type == 'laststrain':\n",
    "                        s11 = s11[n_last_strain:]\n",
    "                        s22 = s22[n_last_strain:]\n",
    "                        s33 = s33[n_last_strain:]\n",
    "                        db[p][ia][0].extend(s11)\n",
    "                        db[p][ia][1].extend(s22)\n",
    "                        db[p][ia][2].extend(s33)                \n",
    "                    if type == 'half':\n",
    "                        s11 = s11[int(len(s11)/2):]\n",
    "                        s22 = s22[int(len(s22)/2):]\n",
    "                        s33 = s33[int(len(s33)/2):]\n",
    "                        db[p][ia][0].extend(s11)\n",
    "                        db[p][ia][1].extend(s22)\n",
    "                        db[p][ia][2].extend(s33)                    \n",
    "                    if type == 'mean':\n",
    "                        s11 = np.mean(s11[n_first_strain:])\n",
    "                        s22 = np.mean(s22[n_first_strain:])\n",
    "                        s33 = np.mean(s33[n_first_strain:])\n",
    "                        db[p][ia][0].append(s11)\n",
    "                        db[p][ia][1].append(s22)\n",
    "                        db[p][ia][2].append(s33)\n",
    "\n",
    "        except Exception as e: \n",
    "            print folder,str(e)\n",
    "            continue\n",
    "\n",
    "\n",
    "    \n",
    "\n",
    "\n",
    "\n",
    "def plot_N1N2(analyze,phivals,ia,type,x_axis):\n",
    "    if analyze == \"True\":\n",
    "        analyze_normal_stress_difference_vs_phi(type)\n",
    "    for p in db.keys():\n",
    "        for q in db[p].keys():\n",
    "            db[p][q] = np.asarray(db[p][q])\n",
    "    \n",
    "    philist = phivals\n",
    "    # for ia in ialist:\n",
    "\n",
    "    plt.figure(figsize=[15,7.5])\n",
    "    plt.subplot(121)\n",
    "    plt.title(\"First Normal Stress Difference \"+ia)\n",
    "    for p in philist:\n",
    "        plt.xscale('log')\n",
    "\n",
    "#         plt.yscale('symlog')\n",
    "        try:\n",
    "            if x_axis == 'shearstress':\n",
    "                X,Y = sort_data(db[p]['shearstress'], np.asarray(db[p][ia][0])- np.asarray(db[p][ia][2]))\n",
    "                plt.plot(X,Y,'--o',label=\"phi=\"+str(p))\n",
    "                plt.xlabel('Shear Stress (Pa)')\n",
    "            if x_axis == 'shearrate':\n",
    "                X,Y = sort_data(db[p]['shearrate'], np.asarray(db[p][ia][0])- np.asarray(db[p][ia][2]))\n",
    "                plt.plot(X,Y,'--o',label=\"phi=\"+str(p))\n",
    "                plt.xlabel('Shear rate (1/s)')\n",
    "            plt.legend(loc=\"top left\")\n",
    "            plt.ylabel('First Normal Stress Difference Sxx-Szz (Pa)')\n",
    "            plt.show()\n",
    "        except Exception as e: \n",
    "            print str(e)\n",
    "            continue\n",
    "    plt.subplot(122)\n",
    "    plt.title(\"Second Normal Stress Difference \"+ia)\n",
    "    for p in philist:\n",
    "        plt.xscale('log')\n",
    "#         plt.yscale('symlog')\n",
    "        try:\n",
    "#             X, Y = sort_data(db[p]['shearstress'], np.asarray(db[p][ia][2])- np.asarray(db[p][ia][1]))\n",
    "#             X, Y = sort_data(db[p]['shearrate'], np.asarray(db[p][ia][2])- np.asarray(db[p][ia][1]))\n",
    "#             plt.plot(X, Y ,'--o',label=\"phi=\"+str(p))\n",
    "            if x_axis == 'shearstress':\n",
    "                X,Y = sort_data(db[p]['shearstress'], np.asarray(db[p][ia][2])- np.asarray(db[p][ia][1]))\n",
    "                plt.plot(X,Y,'--o',label=\"phi=\"+str(p))\n",
    "                plt.xlabel('Shear Stress (Pa)')\n",
    "            if x_axis == 'shearrate':\n",
    "                X,Y = sort_data(db[p]['shearrate'], np.asarray(db[p][ia][2])- np.asarray(db[p][ia][1]))\n",
    "                plt.plot(X,Y,'--o',label=\"phi=\"+str(p))\n",
    "                plt.xlabel('Shear rate (1/s)')\n",
    "            plt.legend(loc=\"upper left\")\n",
    "#             plt.xlabel('Shear Stress (Pa)')\n",
    "#             plt.xlabel('Shear rate (1/s)')\n",
    "            plt.ylabel('Second Normal Stress Difference Szz - Syy (Pa)')\n",
    "            plt.show()\n",
    "        except Exception as e: \n",
    "            print str(e)\n",
    "            continue\n",
    "    plt.savefig('NormalStressDifference_vs_shearrate_'+ia+'.png')\n",
    "\n",
    "\n",
    "v1 = interactive(plot_N1N2, \\\n",
    "                 analyze = widgets.ToggleButtons(options = [\"True\",\"False\"]),\\\n",
    "                 type = widgets.ToggleButtons(options = ['mean', 'last20','half','laststrain'], value = 'mean'),\\\n",
    "                phivals = widgets.SelectMultiple(options=[40,45,50,54,55,56,58],value=[56],disabled=False), \\\n",
    "                ia= widgets.ToggleButtons(options=['tot','lub','hd','rep','fric'], value= 'tot'),\\\n",
    "                x_axis = widgets.ToggleButtons(options = ['shearstress','shearrate']),\\\n",
    "                __manual=True)\n",
    "\n",
    "display(v1)"
   ]
  },
  {
   "cell_type": "markdown",
   "metadata": {},
   "source": [
    "# Plotting the timeseries of viscosity, N, N2, Sxx, Syy, Szz "
   ]
  },
  {
   "cell_type": "code",
   "execution_count": 69,
   "metadata": {
    "collapsed": false
   },
   "outputs": [
    {
     "data": {
      "application/javascript": [
       "/* Put everything inside the global mpl namespace */\n",
       "window.mpl = {};\n",
       "\n",
       "mpl.get_websocket_type = function() {\n",
       "    if (typeof(WebSocket) !== 'undefined') {\n",
       "        return WebSocket;\n",
       "    } else if (typeof(MozWebSocket) !== 'undefined') {\n",
       "        return MozWebSocket;\n",
       "    } else {\n",
       "        alert('Your browser does not have WebSocket support.' +\n",
       "              'Please try Chrome, Safari or Firefox ≥ 6. ' +\n",
       "              'Firefox 4 and 5 are also supported but you ' +\n",
       "              'have to enable WebSockets in about:config.');\n",
       "    };\n",
       "}\n",
       "\n",
       "mpl.figure = function(figure_id, websocket, ondownload, parent_element) {\n",
       "    this.id = figure_id;\n",
       "\n",
       "    this.ws = websocket;\n",
       "\n",
       "    this.supports_binary = (this.ws.binaryType != undefined);\n",
       "\n",
       "    if (!this.supports_binary) {\n",
       "        var warnings = document.getElementById(\"mpl-warnings\");\n",
       "        if (warnings) {\n",
       "            warnings.style.display = 'block';\n",
       "            warnings.textContent = (\n",
       "                \"This browser does not support binary websocket messages. \" +\n",
       "                    \"Performance may be slow.\");\n",
       "        }\n",
       "    }\n",
       "\n",
       "    this.imageObj = new Image();\n",
       "\n",
       "    this.context = undefined;\n",
       "    this.message = undefined;\n",
       "    this.canvas = undefined;\n",
       "    this.rubberband_canvas = undefined;\n",
       "    this.rubberband_context = undefined;\n",
       "    this.format_dropdown = undefined;\n",
       "\n",
       "    this.image_mode = 'full';\n",
       "\n",
       "    this.root = $('<div/>');\n",
       "    this._root_extra_style(this.root)\n",
       "    this.root.attr('style', 'display: inline-block');\n",
       "\n",
       "    $(parent_element).append(this.root);\n",
       "\n",
       "    this._init_header(this);\n",
       "    this._init_canvas(this);\n",
       "    this._init_toolbar(this);\n",
       "\n",
       "    var fig = this;\n",
       "\n",
       "    this.waiting = false;\n",
       "\n",
       "    this.ws.onopen =  function () {\n",
       "            fig.send_message(\"supports_binary\", {value: fig.supports_binary});\n",
       "            fig.send_message(\"send_image_mode\", {});\n",
       "            fig.send_message(\"refresh\", {});\n",
       "        }\n",
       "\n",
       "    this.imageObj.onload = function() {\n",
       "            if (fig.image_mode == 'full') {\n",
       "                // Full images could contain transparency (where diff images\n",
       "                // almost always do), so we need to clear the canvas so that\n",
       "                // there is no ghosting.\n",
       "                fig.context.clearRect(0, 0, fig.canvas.width, fig.canvas.height);\n",
       "            }\n",
       "            fig.context.drawImage(fig.imageObj, 0, 0);\n",
       "        };\n",
       "\n",
       "    this.imageObj.onunload = function() {\n",
       "        this.ws.close();\n",
       "    }\n",
       "\n",
       "    this.ws.onmessage = this._make_on_message_function(this);\n",
       "\n",
       "    this.ondownload = ondownload;\n",
       "}\n",
       "\n",
       "mpl.figure.prototype._init_header = function() {\n",
       "    var titlebar = $(\n",
       "        '<div class=\"ui-dialog-titlebar ui-widget-header ui-corner-all ' +\n",
       "        'ui-helper-clearfix\"/>');\n",
       "    var titletext = $(\n",
       "        '<div class=\"ui-dialog-title\" style=\"width: 100%; ' +\n",
       "        'text-align: center; padding: 3px;\"/>');\n",
       "    titlebar.append(titletext)\n",
       "    this.root.append(titlebar);\n",
       "    this.header = titletext[0];\n",
       "}\n",
       "\n",
       "\n",
       "\n",
       "mpl.figure.prototype._canvas_extra_style = function(canvas_div) {\n",
       "\n",
       "}\n",
       "\n",
       "\n",
       "mpl.figure.prototype._root_extra_style = function(canvas_div) {\n",
       "\n",
       "}\n",
       "\n",
       "mpl.figure.prototype._init_canvas = function() {\n",
       "    var fig = this;\n",
       "\n",
       "    var canvas_div = $('<div/>');\n",
       "\n",
       "    canvas_div.attr('style', 'position: relative; clear: both; outline: 0');\n",
       "\n",
       "    function canvas_keyboard_event(event) {\n",
       "        return fig.key_event(event, event['data']);\n",
       "    }\n",
       "\n",
       "    canvas_div.keydown('key_press', canvas_keyboard_event);\n",
       "    canvas_div.keyup('key_release', canvas_keyboard_event);\n",
       "    this.canvas_div = canvas_div\n",
       "    this._canvas_extra_style(canvas_div)\n",
       "    this.root.append(canvas_div);\n",
       "\n",
       "    var canvas = $('<canvas/>');\n",
       "    canvas.addClass('mpl-canvas');\n",
       "    canvas.attr('style', \"left: 0; top: 0; z-index: 0; outline: 0\")\n",
       "\n",
       "    this.canvas = canvas[0];\n",
       "    this.context = canvas[0].getContext(\"2d\");\n",
       "\n",
       "    var rubberband = $('<canvas/>');\n",
       "    rubberband.attr('style', \"position: absolute; left: 0; top: 0; z-index: 1;\")\n",
       "\n",
       "    var pass_mouse_events = true;\n",
       "\n",
       "    canvas_div.resizable({\n",
       "        start: function(event, ui) {\n",
       "            pass_mouse_events = false;\n",
       "        },\n",
       "        resize: function(event, ui) {\n",
       "            fig.request_resize(ui.size.width, ui.size.height);\n",
       "        },\n",
       "        stop: function(event, ui) {\n",
       "            pass_mouse_events = true;\n",
       "            fig.request_resize(ui.size.width, ui.size.height);\n",
       "        },\n",
       "    });\n",
       "\n",
       "    function mouse_event_fn(event) {\n",
       "        if (pass_mouse_events)\n",
       "            return fig.mouse_event(event, event['data']);\n",
       "    }\n",
       "\n",
       "    rubberband.mousedown('button_press', mouse_event_fn);\n",
       "    rubberband.mouseup('button_release', mouse_event_fn);\n",
       "    // Throttle sequential mouse events to 1 every 20ms.\n",
       "    rubberband.mousemove('motion_notify', mouse_event_fn);\n",
       "\n",
       "    rubberband.mouseenter('figure_enter', mouse_event_fn);\n",
       "    rubberband.mouseleave('figure_leave', mouse_event_fn);\n",
       "\n",
       "    canvas_div.on(\"wheel\", function (event) {\n",
       "        event = event.originalEvent;\n",
       "        event['data'] = 'scroll'\n",
       "        if (event.deltaY < 0) {\n",
       "            event.step = 1;\n",
       "        } else {\n",
       "            event.step = -1;\n",
       "        }\n",
       "        mouse_event_fn(event);\n",
       "    });\n",
       "\n",
       "    canvas_div.append(canvas);\n",
       "    canvas_div.append(rubberband);\n",
       "\n",
       "    this.rubberband = rubberband;\n",
       "    this.rubberband_canvas = rubberband[0];\n",
       "    this.rubberband_context = rubberband[0].getContext(\"2d\");\n",
       "    this.rubberband_context.strokeStyle = \"#000000\";\n",
       "\n",
       "    this._resize_canvas = function(width, height) {\n",
       "        // Keep the size of the canvas, canvas container, and rubber band\n",
       "        // canvas in synch.\n",
       "        canvas_div.css('width', width)\n",
       "        canvas_div.css('height', height)\n",
       "\n",
       "        canvas.attr('width', width);\n",
       "        canvas.attr('height', height);\n",
       "\n",
       "        rubberband.attr('width', width);\n",
       "        rubberband.attr('height', height);\n",
       "    }\n",
       "\n",
       "    // Set the figure to an initial 600x600px, this will subsequently be updated\n",
       "    // upon first draw.\n",
       "    this._resize_canvas(600, 600);\n",
       "\n",
       "    // Disable right mouse context menu.\n",
       "    $(this.rubberband_canvas).bind(\"contextmenu\",function(e){\n",
       "        return false;\n",
       "    });\n",
       "\n",
       "    function set_focus () {\n",
       "        canvas.focus();\n",
       "        canvas_div.focus();\n",
       "    }\n",
       "\n",
       "    window.setTimeout(set_focus, 100);\n",
       "}\n",
       "\n",
       "mpl.figure.prototype._init_toolbar = function() {\n",
       "    var fig = this;\n",
       "\n",
       "    var nav_element = $('<div/>')\n",
       "    nav_element.attr('style', 'width: 100%');\n",
       "    this.root.append(nav_element);\n",
       "\n",
       "    // Define a callback function for later on.\n",
       "    function toolbar_event(event) {\n",
       "        return fig.toolbar_button_onclick(event['data']);\n",
       "    }\n",
       "    function toolbar_mouse_event(event) {\n",
       "        return fig.toolbar_button_onmouseover(event['data']);\n",
       "    }\n",
       "\n",
       "    for(var toolbar_ind in mpl.toolbar_items) {\n",
       "        var name = mpl.toolbar_items[toolbar_ind][0];\n",
       "        var tooltip = mpl.toolbar_items[toolbar_ind][1];\n",
       "        var image = mpl.toolbar_items[toolbar_ind][2];\n",
       "        var method_name = mpl.toolbar_items[toolbar_ind][3];\n",
       "\n",
       "        if (!name) {\n",
       "            // put a spacer in here.\n",
       "            continue;\n",
       "        }\n",
       "        var button = $('<button/>');\n",
       "        button.addClass('ui-button ui-widget ui-state-default ui-corner-all ' +\n",
       "                        'ui-button-icon-only');\n",
       "        button.attr('role', 'button');\n",
       "        button.attr('aria-disabled', 'false');\n",
       "        button.click(method_name, toolbar_event);\n",
       "        button.mouseover(tooltip, toolbar_mouse_event);\n",
       "\n",
       "        var icon_img = $('<span/>');\n",
       "        icon_img.addClass('ui-button-icon-primary ui-icon');\n",
       "        icon_img.addClass(image);\n",
       "        icon_img.addClass('ui-corner-all');\n",
       "\n",
       "        var tooltip_span = $('<span/>');\n",
       "        tooltip_span.addClass('ui-button-text');\n",
       "        tooltip_span.html(tooltip);\n",
       "\n",
       "        button.append(icon_img);\n",
       "        button.append(tooltip_span);\n",
       "\n",
       "        nav_element.append(button);\n",
       "    }\n",
       "\n",
       "    var fmt_picker_span = $('<span/>');\n",
       "\n",
       "    var fmt_picker = $('<select/>');\n",
       "    fmt_picker.addClass('mpl-toolbar-option ui-widget ui-widget-content');\n",
       "    fmt_picker_span.append(fmt_picker);\n",
       "    nav_element.append(fmt_picker_span);\n",
       "    this.format_dropdown = fmt_picker[0];\n",
       "\n",
       "    for (var ind in mpl.extensions) {\n",
       "        var fmt = mpl.extensions[ind];\n",
       "        var option = $(\n",
       "            '<option/>', {selected: fmt === mpl.default_extension}).html(fmt);\n",
       "        fmt_picker.append(option)\n",
       "    }\n",
       "\n",
       "    // Add hover states to the ui-buttons\n",
       "    $( \".ui-button\" ).hover(\n",
       "        function() { $(this).addClass(\"ui-state-hover\");},\n",
       "        function() { $(this).removeClass(\"ui-state-hover\");}\n",
       "    );\n",
       "\n",
       "    var status_bar = $('<span class=\"mpl-message\"/>');\n",
       "    nav_element.append(status_bar);\n",
       "    this.message = status_bar[0];\n",
       "}\n",
       "\n",
       "mpl.figure.prototype.request_resize = function(x_pixels, y_pixels) {\n",
       "    // Request matplotlib to resize the figure. Matplotlib will then trigger a resize in the client,\n",
       "    // which will in turn request a refresh of the image.\n",
       "    this.send_message('resize', {'width': x_pixels, 'height': y_pixels});\n",
       "}\n",
       "\n",
       "mpl.figure.prototype.send_message = function(type, properties) {\n",
       "    properties['type'] = type;\n",
       "    properties['figure_id'] = this.id;\n",
       "    this.ws.send(JSON.stringify(properties));\n",
       "}\n",
       "\n",
       "mpl.figure.prototype.send_draw_message = function() {\n",
       "    if (!this.waiting) {\n",
       "        this.waiting = true;\n",
       "        this.ws.send(JSON.stringify({type: \"draw\", figure_id: this.id}));\n",
       "    }\n",
       "}\n",
       "\n",
       "\n",
       "mpl.figure.prototype.handle_save = function(fig, msg) {\n",
       "    var format_dropdown = fig.format_dropdown;\n",
       "    var format = format_dropdown.options[format_dropdown.selectedIndex].value;\n",
       "    fig.ondownload(fig, format);\n",
       "}\n",
       "\n",
       "\n",
       "mpl.figure.prototype.handle_resize = function(fig, msg) {\n",
       "    var size = msg['size'];\n",
       "    if (size[0] != fig.canvas.width || size[1] != fig.canvas.height) {\n",
       "        fig._resize_canvas(size[0], size[1]);\n",
       "        fig.send_message(\"refresh\", {});\n",
       "    };\n",
       "}\n",
       "\n",
       "mpl.figure.prototype.handle_rubberband = function(fig, msg) {\n",
       "    var x0 = msg['x0'];\n",
       "    var y0 = fig.canvas.height - msg['y0'];\n",
       "    var x1 = msg['x1'];\n",
       "    var y1 = fig.canvas.height - msg['y1'];\n",
       "    x0 = Math.floor(x0) + 0.5;\n",
       "    y0 = Math.floor(y0) + 0.5;\n",
       "    x1 = Math.floor(x1) + 0.5;\n",
       "    y1 = Math.floor(y1) + 0.5;\n",
       "    var min_x = Math.min(x0, x1);\n",
       "    var min_y = Math.min(y0, y1);\n",
       "    var width = Math.abs(x1 - x0);\n",
       "    var height = Math.abs(y1 - y0);\n",
       "\n",
       "    fig.rubberband_context.clearRect(\n",
       "        0, 0, fig.canvas.width, fig.canvas.height);\n",
       "\n",
       "    fig.rubberband_context.strokeRect(min_x, min_y, width, height);\n",
       "}\n",
       "\n",
       "mpl.figure.prototype.handle_figure_label = function(fig, msg) {\n",
       "    // Updates the figure title.\n",
       "    fig.header.textContent = msg['label'];\n",
       "}\n",
       "\n",
       "mpl.figure.prototype.handle_cursor = function(fig, msg) {\n",
       "    var cursor = msg['cursor'];\n",
       "    switch(cursor)\n",
       "    {\n",
       "    case 0:\n",
       "        cursor = 'pointer';\n",
       "        break;\n",
       "    case 1:\n",
       "        cursor = 'default';\n",
       "        break;\n",
       "    case 2:\n",
       "        cursor = 'crosshair';\n",
       "        break;\n",
       "    case 3:\n",
       "        cursor = 'move';\n",
       "        break;\n",
       "    }\n",
       "    fig.rubberband_canvas.style.cursor = cursor;\n",
       "}\n",
       "\n",
       "mpl.figure.prototype.handle_message = function(fig, msg) {\n",
       "    fig.message.textContent = msg['message'];\n",
       "}\n",
       "\n",
       "mpl.figure.prototype.handle_draw = function(fig, msg) {\n",
       "    // Request the server to send over a new figure.\n",
       "    fig.send_draw_message();\n",
       "}\n",
       "\n",
       "mpl.figure.prototype.handle_image_mode = function(fig, msg) {\n",
       "    fig.image_mode = msg['mode'];\n",
       "}\n",
       "\n",
       "mpl.figure.prototype.updated_canvas_event = function() {\n",
       "    // Called whenever the canvas gets updated.\n",
       "    this.send_message(\"ack\", {});\n",
       "}\n",
       "\n",
       "// A function to construct a web socket function for onmessage handling.\n",
       "// Called in the figure constructor.\n",
       "mpl.figure.prototype._make_on_message_function = function(fig) {\n",
       "    return function socket_on_message(evt) {\n",
       "        if (evt.data instanceof Blob) {\n",
       "            /* FIXME: We get \"Resource interpreted as Image but\n",
       "             * transferred with MIME type text/plain:\" errors on\n",
       "             * Chrome.  But how to set the MIME type?  It doesn't seem\n",
       "             * to be part of the websocket stream */\n",
       "            evt.data.type = \"image/png\";\n",
       "\n",
       "            /* Free the memory for the previous frames */\n",
       "            if (fig.imageObj.src) {\n",
       "                (window.URL || window.webkitURL).revokeObjectURL(\n",
       "                    fig.imageObj.src);\n",
       "            }\n",
       "\n",
       "            fig.imageObj.src = (window.URL || window.webkitURL).createObjectURL(\n",
       "                evt.data);\n",
       "            fig.updated_canvas_event();\n",
       "            fig.waiting = false;\n",
       "            return;\n",
       "        }\n",
       "        else if (typeof evt.data === 'string' && evt.data.slice(0, 21) == \"data:image/png;base64\") {\n",
       "            fig.imageObj.src = evt.data;\n",
       "            fig.updated_canvas_event();\n",
       "            fig.waiting = false;\n",
       "            return;\n",
       "        }\n",
       "\n",
       "        var msg = JSON.parse(evt.data);\n",
       "        var msg_type = msg['type'];\n",
       "\n",
       "        // Call the  \"handle_{type}\" callback, which takes\n",
       "        // the figure and JSON message as its only arguments.\n",
       "        try {\n",
       "            var callback = fig[\"handle_\" + msg_type];\n",
       "        } catch (e) {\n",
       "            console.log(\"No handler for the '\" + msg_type + \"' message type: \", msg);\n",
       "            return;\n",
       "        }\n",
       "\n",
       "        if (callback) {\n",
       "            try {\n",
       "                // console.log(\"Handling '\" + msg_type + \"' message: \", msg);\n",
       "                callback(fig, msg);\n",
       "            } catch (e) {\n",
       "                console.log(\"Exception inside the 'handler_\" + msg_type + \"' callback:\", e, e.stack, msg);\n",
       "            }\n",
       "        }\n",
       "    };\n",
       "}\n",
       "\n",
       "// from http://stackoverflow.com/questions/1114465/getting-mouse-location-in-canvas\n",
       "mpl.findpos = function(e) {\n",
       "    //this section is from http://www.quirksmode.org/js/events_properties.html\n",
       "    var targ;\n",
       "    if (!e)\n",
       "        e = window.event;\n",
       "    if (e.target)\n",
       "        targ = e.target;\n",
       "    else if (e.srcElement)\n",
       "        targ = e.srcElement;\n",
       "    if (targ.nodeType == 3) // defeat Safari bug\n",
       "        targ = targ.parentNode;\n",
       "\n",
       "    // jQuery normalizes the pageX and pageY\n",
       "    // pageX,Y are the mouse positions relative to the document\n",
       "    // offset() returns the position of the element relative to the document\n",
       "    var x = e.pageX - $(targ).offset().left;\n",
       "    var y = e.pageY - $(targ).offset().top;\n",
       "\n",
       "    return {\"x\": x, \"y\": y};\n",
       "};\n",
       "\n",
       "/*\n",
       " * return a copy of an object with only non-object keys\n",
       " * we need this to avoid circular references\n",
       " * http://stackoverflow.com/a/24161582/3208463\n",
       " */\n",
       "function simpleKeys (original) {\n",
       "  return Object.keys(original).reduce(function (obj, key) {\n",
       "    if (typeof original[key] !== 'object')\n",
       "        obj[key] = original[key]\n",
       "    return obj;\n",
       "  }, {});\n",
       "}\n",
       "\n",
       "mpl.figure.prototype.mouse_event = function(event, name) {\n",
       "    var canvas_pos = mpl.findpos(event)\n",
       "\n",
       "    if (name === 'button_press')\n",
       "    {\n",
       "        this.canvas.focus();\n",
       "        this.canvas_div.focus();\n",
       "    }\n",
       "\n",
       "    var x = canvas_pos.x;\n",
       "    var y = canvas_pos.y;\n",
       "\n",
       "    this.send_message(name, {x: x, y: y, button: event.button,\n",
       "                             step: event.step,\n",
       "                             guiEvent: simpleKeys(event)});\n",
       "\n",
       "    /* This prevents the web browser from automatically changing to\n",
       "     * the text insertion cursor when the button is pressed.  We want\n",
       "     * to control all of the cursor setting manually through the\n",
       "     * 'cursor' event from matplotlib */\n",
       "    event.preventDefault();\n",
       "    return false;\n",
       "}\n",
       "\n",
       "mpl.figure.prototype._key_event_extra = function(event, name) {\n",
       "    // Handle any extra behaviour associated with a key event\n",
       "}\n",
       "\n",
       "mpl.figure.prototype.key_event = function(event, name) {\n",
       "\n",
       "    // Prevent repeat events\n",
       "    if (name == 'key_press')\n",
       "    {\n",
       "        if (event.which === this._key)\n",
       "            return;\n",
       "        else\n",
       "            this._key = event.which;\n",
       "    }\n",
       "    if (name == 'key_release')\n",
       "        this._key = null;\n",
       "\n",
       "    var value = '';\n",
       "    if (event.ctrlKey && event.which != 17)\n",
       "        value += \"ctrl+\";\n",
       "    if (event.altKey && event.which != 18)\n",
       "        value += \"alt+\";\n",
       "    if (event.shiftKey && event.which != 16)\n",
       "        value += \"shift+\";\n",
       "\n",
       "    value += 'k';\n",
       "    value += event.which.toString();\n",
       "\n",
       "    this._key_event_extra(event, name);\n",
       "\n",
       "    this.send_message(name, {key: value,\n",
       "                             guiEvent: simpleKeys(event)});\n",
       "    return false;\n",
       "}\n",
       "\n",
       "mpl.figure.prototype.toolbar_button_onclick = function(name) {\n",
       "    if (name == 'download') {\n",
       "        this.handle_save(this, null);\n",
       "    } else {\n",
       "        this.send_message(\"toolbar_button\", {name: name});\n",
       "    }\n",
       "};\n",
       "\n",
       "mpl.figure.prototype.toolbar_button_onmouseover = function(tooltip) {\n",
       "    this.message.textContent = tooltip;\n",
       "};\n",
       "mpl.toolbar_items = [[\"Home\", \"Reset original view\", \"fa fa-home icon-home\", \"home\"], [\"Back\", \"Back to  previous view\", \"fa fa-arrow-left icon-arrow-left\", \"back\"], [\"Forward\", \"Forward to next view\", \"fa fa-arrow-right icon-arrow-right\", \"forward\"], [\"\", \"\", \"\", \"\"], [\"Pan\", \"Pan axes with left mouse, zoom with right\", \"fa fa-arrows icon-move\", \"pan\"], [\"Zoom\", \"Zoom to rectangle\", \"fa fa-square-o icon-check-empty\", \"zoom\"], [\"\", \"\", \"\", \"\"], [\"Download\", \"Download plot\", \"fa fa-floppy-o icon-save\", \"download\"]];\n",
       "\n",
       "mpl.extensions = [\"eps\", \"jpeg\", \"pdf\", \"png\", \"ps\", \"raw\", \"svg\", \"tif\"];\n",
       "\n",
       "mpl.default_extension = \"png\";var comm_websocket_adapter = function(comm) {\n",
       "    // Create a \"websocket\"-like object which calls the given IPython comm\n",
       "    // object with the appropriate methods. Currently this is a non binary\n",
       "    // socket, so there is still some room for performance tuning.\n",
       "    var ws = {};\n",
       "\n",
       "    ws.close = function() {\n",
       "        comm.close()\n",
       "    };\n",
       "    ws.send = function(m) {\n",
       "        //console.log('sending', m);\n",
       "        comm.send(m);\n",
       "    };\n",
       "    // Register the callback with on_msg.\n",
       "    comm.on_msg(function(msg) {\n",
       "        //console.log('receiving', msg['content']['data'], msg);\n",
       "        // Pass the mpl event to the overriden (by mpl) onmessage function.\n",
       "        ws.onmessage(msg['content']['data'])\n",
       "    });\n",
       "    return ws;\n",
       "}\n",
       "\n",
       "mpl.mpl_figure_comm = function(comm, msg) {\n",
       "    // This is the function which gets called when the mpl process\n",
       "    // starts-up an IPython Comm through the \"matplotlib\" channel.\n",
       "\n",
       "    var id = msg.content.data.id;\n",
       "    // Get hold of the div created by the display call when the Comm\n",
       "    // socket was opened in Python.\n",
       "    var element = $(\"#\" + id);\n",
       "    var ws_proxy = comm_websocket_adapter(comm)\n",
       "\n",
       "    function ondownload(figure, format) {\n",
       "        window.open(figure.imageObj.src);\n",
       "    }\n",
       "\n",
       "    var fig = new mpl.figure(id, ws_proxy,\n",
       "                           ondownload,\n",
       "                           element.get(0));\n",
       "\n",
       "    // Call onopen now - mpl needs it, as it is assuming we've passed it a real\n",
       "    // web socket which is closed, not our websocket->open comm proxy.\n",
       "    ws_proxy.onopen();\n",
       "\n",
       "    fig.parent_element = element.get(0);\n",
       "    fig.cell_info = mpl.find_output_cell(\"<div id='\" + id + \"'></div>\");\n",
       "    if (!fig.cell_info) {\n",
       "        console.error(\"Failed to find cell for figure\", id, fig);\n",
       "        return;\n",
       "    }\n",
       "\n",
       "    var output_index = fig.cell_info[2]\n",
       "    var cell = fig.cell_info[0];\n",
       "\n",
       "};\n",
       "\n",
       "mpl.figure.prototype.handle_close = function(fig, msg) {\n",
       "    fig.root.unbind('remove')\n",
       "\n",
       "    // Update the output cell to use the data from the current canvas.\n",
       "    fig.push_to_output();\n",
       "    var dataURL = fig.canvas.toDataURL();\n",
       "    // Re-enable the keyboard manager in IPython - without this line, in FF,\n",
       "    // the notebook keyboard shortcuts fail.\n",
       "    IPython.keyboard_manager.enable()\n",
       "    $(fig.parent_element).html('<img src=\"' + dataURL + '\">');\n",
       "    fig.close_ws(fig, msg);\n",
       "}\n",
       "\n",
       "mpl.figure.prototype.close_ws = function(fig, msg){\n",
       "    fig.send_message('closing', msg);\n",
       "    // fig.ws.close()\n",
       "}\n",
       "\n",
       "mpl.figure.prototype.push_to_output = function(remove_interactive) {\n",
       "    // Turn the data on the canvas into data in the output cell.\n",
       "    var dataURL = this.canvas.toDataURL();\n",
       "    this.cell_info[1]['text/html'] = '<img src=\"' + dataURL + '\">';\n",
       "}\n",
       "\n",
       "mpl.figure.prototype.updated_canvas_event = function() {\n",
       "    // Tell IPython that the notebook contents must change.\n",
       "    IPython.notebook.set_dirty(true);\n",
       "    this.send_message(\"ack\", {});\n",
       "    var fig = this;\n",
       "    // Wait a second, then push the new image to the DOM so\n",
       "    // that it is saved nicely (might be nice to debounce this).\n",
       "    setTimeout(function () { fig.push_to_output() }, 1000);\n",
       "}\n",
       "\n",
       "mpl.figure.prototype._init_toolbar = function() {\n",
       "    var fig = this;\n",
       "\n",
       "    var nav_element = $('<div/>')\n",
       "    nav_element.attr('style', 'width: 100%');\n",
       "    this.root.append(nav_element);\n",
       "\n",
       "    // Define a callback function for later on.\n",
       "    function toolbar_event(event) {\n",
       "        return fig.toolbar_button_onclick(event['data']);\n",
       "    }\n",
       "    function toolbar_mouse_event(event) {\n",
       "        return fig.toolbar_button_onmouseover(event['data']);\n",
       "    }\n",
       "\n",
       "    for(var toolbar_ind in mpl.toolbar_items){\n",
       "        var name = mpl.toolbar_items[toolbar_ind][0];\n",
       "        var tooltip = mpl.toolbar_items[toolbar_ind][1];\n",
       "        var image = mpl.toolbar_items[toolbar_ind][2];\n",
       "        var method_name = mpl.toolbar_items[toolbar_ind][3];\n",
       "\n",
       "        if (!name) { continue; };\n",
       "\n",
       "        var button = $('<button class=\"btn btn-default\" href=\"#\" title=\"' + name + '\"><i class=\"fa ' + image + ' fa-lg\"></i></button>');\n",
       "        button.click(method_name, toolbar_event);\n",
       "        button.mouseover(tooltip, toolbar_mouse_event);\n",
       "        nav_element.append(button);\n",
       "    }\n",
       "\n",
       "    // Add the status bar.\n",
       "    var status_bar = $('<span class=\"mpl-message\" style=\"text-align:right; float: right;\"/>');\n",
       "    nav_element.append(status_bar);\n",
       "    this.message = status_bar[0];\n",
       "\n",
       "    // Add the close button to the window.\n",
       "    var buttongrp = $('<div class=\"btn-group inline pull-right\"></div>');\n",
       "    var button = $('<button class=\"btn btn-mini btn-primary\" href=\"#\" title=\"Stop Interaction\"><i class=\"fa fa-power-off icon-remove icon-large\"></i></button>');\n",
       "    button.click(function (evt) { fig.handle_close(fig, {}); } );\n",
       "    button.mouseover('Stop Interaction', toolbar_mouse_event);\n",
       "    buttongrp.append(button);\n",
       "    var titlebar = this.root.find($('.ui-dialog-titlebar'));\n",
       "    titlebar.prepend(buttongrp);\n",
       "}\n",
       "\n",
       "mpl.figure.prototype._root_extra_style = function(el){\n",
       "    var fig = this\n",
       "    el.on(\"remove\", function(){\n",
       "\tfig.close_ws(fig, {});\n",
       "    });\n",
       "}\n",
       "\n",
       "mpl.figure.prototype._canvas_extra_style = function(el){\n",
       "    // this is important to make the div 'focusable\n",
       "    el.attr('tabindex', 0)\n",
       "    // reach out to IPython and tell the keyboard manager to turn it's self\n",
       "    // off when our div gets focus\n",
       "\n",
       "    // location in version 3\n",
       "    if (IPython.notebook.keyboard_manager) {\n",
       "        IPython.notebook.keyboard_manager.register_events(el);\n",
       "    }\n",
       "    else {\n",
       "        // location in version 2\n",
       "        IPython.keyboard_manager.register_events(el);\n",
       "    }\n",
       "\n",
       "}\n",
       "\n",
       "mpl.figure.prototype._key_event_extra = function(event, name) {\n",
       "    var manager = IPython.notebook.keyboard_manager;\n",
       "    if (!manager)\n",
       "        manager = IPython.keyboard_manager;\n",
       "\n",
       "    // Check for shift+enter\n",
       "    if (event.shiftKey && event.which == 13) {\n",
       "        this.canvas_div.blur();\n",
       "        // select the cell after this one\n",
       "        var index = IPython.notebook.find_cell_index(this.cell_info[0]);\n",
       "        IPython.notebook.select(index + 1);\n",
       "    }\n",
       "}\n",
       "\n",
       "mpl.figure.prototype.handle_save = function(fig, msg) {\n",
       "    fig.ondownload(fig, null);\n",
       "}\n",
       "\n",
       "\n",
       "mpl.find_output_cell = function(html_output) {\n",
       "    // Return the cell and output element which can be found *uniquely* in the notebook.\n",
       "    // Note - this is a bit hacky, but it is done because the \"notebook_saving.Notebook\"\n",
       "    // IPython event is triggered only after the cells have been serialised, which for\n",
       "    // our purposes (turning an active figure into a static one), is too late.\n",
       "    var cells = IPython.notebook.get_cells();\n",
       "    var ncells = cells.length;\n",
       "    for (var i=0; i<ncells; i++) {\n",
       "        var cell = cells[i];\n",
       "        if (cell.cell_type === 'code'){\n",
       "            for (var j=0; j<cell.output_area.outputs.length; j++) {\n",
       "                var data = cell.output_area.outputs[j];\n",
       "                if (data.data) {\n",
       "                    // IPython >= 3 moved mimebundle to data attribute of output\n",
       "                    data = data.data;\n",
       "                }\n",
       "                if (data['text/html'] == html_output) {\n",
       "                    return [cell, data, j];\n",
       "                }\n",
       "            }\n",
       "        }\n",
       "    }\n",
       "}\n",
       "\n",
       "// Register the function which deals with the matplotlib target/channel.\n",
       "// The kernel may be null if the page has been refreshed.\n",
       "if (IPython.notebook.kernel != null) {\n",
       "    IPython.notebook.kernel.comm_manager.register_target('matplotlib', mpl.mpl_figure_comm);\n",
       "}\n"
      ],
      "text/plain": [
       "<IPython.core.display.Javascript object>"
      ]
     },
     "metadata": {},
     "output_type": "display_data"
    },
    {
     "data": {
      "text/html": [
       "<img src=\"data:image/png;base64,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\">"
      ],
      "text/plain": [
       "<IPython.core.display.HTML object>"
      ]
     },
     "metadata": {},
     "output_type": "display_data"
    }
   ],
   "source": [
    "max_n1 = widgets.Label(\"N1 Values are normalized by absolute value of :\")\n",
    "display(max_n1)\n",
    "max_n2 = widgets.Label(\"N2 Values are normalized by absolute value of :\")\n",
    "display(max_n2)\n",
    "def plot_timeseries(phival,ydval,ia,viscosity,n1,n2,s1,s2,s3):\n",
    "\n",
    "    plt.style.use('seaborn-deep')\n",
    "    path = \"rhor1_phi\"+str(phival)+\"_yd\"+str(float(ydval))\n",
    "\n",
    "    nufile = path+\"/result/nu_t.dat\" \n",
    "    stressfile = path+\"/result/part_stress_norm_\"+ia+\"_t.dat\" \n",
    "    \n",
    "    \n",
    "    \n",
    "    if os.path.exists(nufile):\n",
    "        plt.figure(figsize=[12,5])\n",
    "\n",
    "        minshear = 100000\n",
    "        db = pd.read_csv(nufile)\n",
    "        nu = db[db.columns[2]]\n",
    "        nu_rel = db[db.columns[4]]\n",
    "        t = db[db.columns[1]]\n",
    "        shearrate = float(nufile.split(\"_\")[2].split(\"/\")[0].split(\"yd\")[1])\n",
    "\n",
    "        shear = t*shearrate\n",
    "        if minshear > shear.max(): minshear = shear.max()\n",
    "        nu = nu_rel*1.002e-3\n",
    "#         plt.plot(shear,np.log10(nu_rel),label=\"log10 Viscosity\")\n",
    "        if viscosity:plt.plot(shear,nu/max(nu),label=\"Normalized Viscosity\")\n",
    "        \n",
    "        df = pd.read_csv(stressfile)\n",
    "        s11 = np.asarray(df[df.columns[2]])\n",
    "        s22 = np.asarray(df[df.columns[3]])\n",
    "        s33 = np.asarray(df[df.columns[4]])\n",
    "        N1 = s11 - s33\n",
    "        N2 = s33 - s22\n",
    "        if s1: plt.plot(shear,s11[:len(shear)]/max(abs(s11[:len(shear)])),label = \"Sxx\")\n",
    "        if s2: plt.plot(shear,s22[:len(shear)][:len(shear)]/max(abs(s22[:len(shear)])),label = \"Syy\")\n",
    "        if s3: plt.plot(shear,s33[:len(shear)]/max(abs(s33[:len(shear)])),label = \"Szz\")\n",
    "            \n",
    "        if n1:\n",
    "            max_n1.value = \"N1 Values are normalized by absolute value of :\" + str(max(abs(N1[:len(shear)])))\n",
    "            plt.plot(shear,N1[:len(shear)]/max(abs(N1[:len(shear)])),label=\"normalized N1\")\n",
    "        if n2:\n",
    "            max_n2.value = \"N2 Values are normalized by absolute value of :\" + str(max(abs(N2[:len(shear)])))\n",
    "            plt.plot(shear,N2[:len(shear)]/max(abs(N2[:len(shear)])),label=\"normalized N2\")\n",
    "        \n",
    "        plt.legend(loc=\"best\")\n",
    "        plt.title(path)\n",
    "#         plt.yscale(\"symlog\")\n",
    "        plt.xlabel(\"strain\")\n",
    "        plt.ylabel(\" viscosity Pa.s\")\n",
    "        plt.axhline(0,color = 'k',ls = '--')\n",
    "    #     plt.xlim([0,minshear])\n",
    "        name = \"comparison_viscosity_\" + str(phival)+ '_'+str(ydval)\n",
    "    #     plt.savefig(name)\n",
    "    else:\n",
    "        print \"no data found, check location\"\n",
    "v = interactive(plot_timeseries, \\\n",
    "                phival = widgets.ToggleButtons(options=[40,45,50,54,55,56,58],value=56,disabled=False), \\\n",
    "                ydval= widgets.ToggleButtons(options=[1,10,11,11.5,12,12.5,13,14,15,16,18,20,30,50,70,100,200,300,1000], value= 10),\\\n",
    "                ia = widgets.ToggleButtons(options = ['tot','fric','rep','lub'],value = 'tot'),\\\n",
    "                viscosity=widgets.widget_bool.Checkbox(value = True, description = \"Viscosity\"),\\\n",
    "                n1=widgets.widget_bool.Checkbox(value = True, description = \"N1\"),\\\n",
    "                n2=widgets.widget_bool.Checkbox(value = False,description = \"N2\"),\\\n",
    "                 s1=widgets.widget_bool.Checkbox(value = False,description = \"Sxx\"),\\\n",
    "                 s2=widgets.widget_bool.Checkbox(value = False,description = \"Syy\"),\\\n",
    "                 s3=widgets.widget_bool.Checkbox(value = False,description = \"Szz\"),\\\n",
    "                \n",
    "                __manual=False)\n",
    "\n",
    "display(v)"
   ]
  },
  {
   "cell_type": "code",
   "execution_count": null,
   "metadata": {
    "collapsed": true
   },
   "outputs": [],
   "source": []
  },
  {
   "cell_type": "code",
   "execution_count": null,
   "metadata": {
    "collapsed": true
   },
   "outputs": [],
   "source": []
  }
 ],
 "metadata": {
  "anaconda-cloud": {},
  "kernelspec": {
   "display_name": "Python [default]",
   "language": "python",
   "name": "python2"
  },
  "language_info": {
   "codemirror_mode": {
    "name": "ipython",
    "version": 2
   },
   "file_extension": ".py",
   "mimetype": "text/x-python",
   "name": "python",
   "nbconvert_exporter": "python",
   "pygments_lexer": "ipython2",
   "version": "2.7.13"
  },
  "widgets": {
   "state": {
    "0536a5a0cc0e423babe645fa2a303deb": {
     "views": [
      {
       "cell_index": 6
      }
     ]
    },
    "0c8c2b3ae63749b19686968ad5abbbd2": {
     "views": [
      {
       "cell_index": 6
      }
     ]
    },
    "0daa9388e40b4273a0ec98d1b107bbb0": {
     "views": [
      {
       "cell_index": 6
      }
     ]
    },
    "11631791fdef45168542602195aab742": {
     "views": [
      {
       "cell_index": 4
      }
     ]
    },
    "11a5ae58d81a4a8a968df818b0ee470b": {
     "views": [
      {
       "cell_index": 6
      }
     ]
    },
    "122a32c744d34a10b93cdd80cd7fc6d4": {
     "views": [
      {
       "cell_index": 6
      }
     ]
    },
    "1618d64523a041599a8c14ca0a22e729": {
     "views": [
      {
       "cell_index": 6
      }
     ]
    },
    "17243e2442254eb38426c4aecc542d34": {
     "views": [
      {
       "cell_index": 8
      }
     ]
    },
    "17d23f0fc5ac4eebb99febaa97010e15": {
     "views": [
      {
       "cell_index": 6
      }
     ]
    },
    "19ffc8a769974c6ba7c6a331672d8d81": {
     "views": [
      {
       "cell_index": 6
      }
     ]
    },
    "20398d8a10db4f0db8154a2d7aa4a1c7": {
     "views": [
      {
       "cell_index": 6
      }
     ]
    },
    "2652bb32b8e64d6b96db4902ddf281a1": {
     "views": [
      {
       "cell_index": 6
      }
     ]
    },
    "26bf1903b8e94cdda1926c7edcf2d5d3": {
     "views": [
      {
       "cell_index": 6
      }
     ]
    },
    "2b1b7cbe11f442abb4eb55f75a6e8a81": {
     "views": [
      {
       "cell_index": 6
      }
     ]
    },
    "2bbd9352fd09498b84f00dd18410811a": {
     "views": [
      {
       "cell_index": 6
      }
     ]
    },
    "366fc42fb26b44a5ac23ca3dc17ad55b": {
     "views": [
      {
       "cell_index": 6
      }
     ]
    },
    "399c7a2155d246089b44f61cde77da86": {
     "views": [
      {
       "cell_index": 6
      }
     ]
    },
    "3e2a056c27994668a7e572bfaf9cc1de": {
     "views": [
      {
       "cell_index": 6
      }
     ]
    },
    "3e9f97c5fb7a47099854f1a8251c4284": {
     "views": [
      {
       "cell_index": 6
      }
     ]
    },
    "40bb2772bc73454b970e741ef1634479": {
     "views": [
      {
       "cell_index": 8
      }
     ]
    },
    "4514b8b51faa412dba7320a948d401ba": {
     "views": [
      {
       "cell_index": 6
      }
     ]
    },
    "493c2ed7155243ccb528c124d5698d60": {
     "views": [
      {
       "cell_index": 6
      }
     ]
    },
    "528c0840989c4ea491ef0933858d76a9": {
     "views": [
      {
       "cell_index": 6
      }
     ]
    },
    "53f37b23ead84c988da9afa802c8d13e": {
     "views": [
      {
       "cell_index": 8
      }
     ]
    },
    "5512ceb1ed444980bc708a25d5ffd51b": {
     "views": [
      {
       "cell_index": 4
      }
     ]
    },
    "566a67ed29d546ff991b640733186dc1": {
     "views": [
      {
       "cell_index": 6
      }
     ]
    },
    "60080c98ca2946a0b00faf9cd95f0433": {
     "views": [
      {
       "cell_index": 6
      }
     ]
    },
    "6029c0364d9f43b9a4fd5a5829fc0666": {
     "views": [
      {
       "cell_index": 8
      }
     ]
    },
    "605d2a5e88674aaca1a41148fe46faec": {
     "views": [
      {
       "cell_index": 6
      }
     ]
    },
    "6651269509684dd79cd6899fbdd06d2b": {
     "views": [
      {
       "cell_index": 6
      }
     ]
    },
    "670eb9fcc5004d47a68acd786f7817fb": {
     "views": [
      {
       "cell_index": 6
      }
     ]
    },
    "7048f4c70da34f3f8aec5a25b039da04": {
     "views": [
      {
       "cell_index": 6
      }
     ]
    },
    "70544183e1824dc48c5430c66b3a407e": {
     "views": [
      {
       "cell_index": 8
      }
     ]
    },
    "706b607982db4bba80c730078194e4ae": {
     "views": [
      {
       "cell_index": 6
      }
     ]
    },
    "71f38bdf22ff463aa0777abc1c0651dd": {
     "views": [
      {
       "cell_index": 8
      }
     ]
    },
    "721f3e0c6f30412cb77b064fa8e87bbf": {
     "views": [
      {
       "cell_index": 6
      }
     ]
    },
    "73714baf36e84b3eb3394f57364d3058": {
     "views": [
      {
       "cell_index": 6
      }
     ]
    },
    "785cb93d9ff74abbbdf62fda02e4c5fd": {
     "views": [
      {
       "cell_index": 6
      }
     ]
    },
    "7a1b85c121ee4679885eaaf09e7513ed": {
     "views": [
      {
       "cell_index": 8
      }
     ]
    },
    "7db2373d9bd4453f944bde187f93c2d4": {
     "views": [
      {
       "cell_index": 6
      }
     ]
    },
    "88f97c8e291b43c9b73d0e762895300c": {
     "views": [
      {
       "cell_index": 8
      }
     ]
    },
    "8b2c5eeab088410281e96da6d0fec5be": {
     "views": [
      {
       "cell_index": 8
      }
     ]
    },
    "8b803cd9c6404c0aa3bf31a4c6651794": {
     "views": [
      {
       "cell_index": 6
      }
     ]
    },
    "8b95b9a44842462b87f1e65f33593dfa": {
     "views": [
      {
       "cell_index": 6
      }
     ]
    },
    "921b60bfc42c4572a793a36c60e8af4a": {
     "views": [
      {
       "cell_index": 6
      }
     ]
    },
    "95d6c79a08ed453db9fa7cee2bcac5d0": {
     "views": [
      {
       "cell_index": 6
      }
     ]
    },
    "9c3de06cf1ec42d6bc6c0c654ecb87f6": {
     "views": [
      {
       "cell_index": 8
      }
     ]
    },
    "a62fba85a0804aaba937caabc6691eb8": {
     "views": [
      {
       "cell_index": 8
      }
     ]
    },
    "ae877b7b68fc4af38f3ee45686607e69": {
     "views": [
      {
       "cell_index": 6
      }
     ]
    },
    "b12e2f3b53ec4b51b2c8a52ed3728a1d": {
     "views": [
      {
       "cell_index": 8
      }
     ]
    },
    "b32df202e95a4dc78c20dcfe5bc610cb": {
     "views": [
      {
       "cell_index": 4
      }
     ]
    },
    "b3ca754002fc40b99961f19f75855838": {
     "views": [
      {
       "cell_index": 8
      }
     ]
    },
    "b6cadd1a8c55434ea9ed16dc0016d101": {
     "views": [
      {
       "cell_index": 4
      }
     ]
    },
    "bb45c2803ff341428aa1b86f8df6abd5": {
     "views": [
      {
       "cell_index": 6
      }
     ]
    },
    "bb57e640d4f447d28777d745a0279fef": {
     "views": [
      {
       "cell_index": 6
      }
     ]
    },
    "bc7970e83d7d417d9481430c8df9186e": {
     "views": [
      {
       "cell_index": 6
      }
     ]
    },
    "bd059e3bc6654526bcb621a03a1d9679": {
     "views": [
      {
       "cell_index": 8
      }
     ]
    },
    "bd271814f91049ca9e64f9df3eca9248": {
     "views": [
      {
       "cell_index": 8
      }
     ]
    },
    "c1bc2d83e4e34ba2a88be27edd7efbef": {
     "views": [
      {
       "cell_index": 8
      }
     ]
    },
    "cb287d6b413f4a7a9f2b2be0d5c4d6cb": {
     "views": [
      {
       "cell_index": 6
      }
     ]
    },
    "cc0cf613b34a4b9ba7785cc06b1bf916": {
     "views": [
      {
       "cell_index": 8
      }
     ]
    },
    "cdb8a290c64646f88df03efe7464f12a": {
     "views": [
      {
       "cell_index": 6
      }
     ]
    },
    "d1543f22fd9146f492aed60563c36c3f": {
     "views": [
      {
       "cell_index": 8
      }
     ]
    },
    "d248ac9b74ce4df48eca3c3631f5e2ce": {
     "views": [
      {
       "cell_index": 6
      }
     ]
    },
    "d8747f65aa8249f684e7631597a9c99e": {
     "views": [
      {
       "cell_index": 6
      }
     ]
    },
    "d997abd158cf40f0971079fe9665a337": {
     "views": [
      {
       "cell_index": 6
      }
     ]
    },
    "debbd574652c4d93a9d5389ee9d50cfc": {
     "views": [
      {
       "cell_index": 6
      }
     ]
    },
    "e187745c2f214505a66668988df78b99": {
     "views": [
      {
       "cell_index": 6
      }
     ]
    },
    "e24a30871e9c44c2808566213ac9be31": {
     "views": [
      {
       "cell_index": 6
      }
     ]
    },
    "e5531f845e6a41e2ac464d6e7cef90bf": {
     "views": [
      {
       "cell_index": 6
      }
     ]
    },
    "e6f6885d67794440b007b48b5cf22c5b": {
     "views": [
      {
       "cell_index": 6
      }
     ]
    },
    "e8cb5920c3dc42cc9b0bd2cc3ab6dc9b": {
     "views": [
      {
       "cell_index": 6
      }
     ]
    },
    "e93883c3aaf94023ba16aeef641bc1a6": {
     "views": [
      {
       "cell_index": 6
      }
     ]
    },
    "e9f26b2ce07b4805838d48fd8b27b835": {
     "views": [
      {
       "cell_index": 8
      }
     ]
    },
    "ed534ac82ac54cdd81386201bd2a888e": {
     "views": [
      {
       "cell_index": 6
      }
     ]
    },
    "ff0e095385c046fcbb3fde1a3796cc80": {
     "views": [
      {
       "cell_index": 6
      }
     ]
    },
    "ffa915efb79745e8b7f1026cb06a5fdb": {
     "views": [
      {
       "cell_index": 8
      }
     ]
    },
    "ffce38f32fa84648b9f2c494fed8ab54": {
     "views": [
      {
       "cell_index": 6
      }
     ]
    }
   },
   "version": "1.2.0"
  }
 },
 "nbformat": 4,
 "nbformat_minor": 2
}
