{
 "cells": [
  {
   "cell_type": "code",
   "execution_count": 1,
   "metadata": {
    "collapsed": false
   },
   "outputs": [
    {
     "data": {
      "text/html": [
       "<script>\n",
       "code_show=false; \n",
       "function code_toggle() {\n",
       " if (code_show){\n",
       " $('div.input').show();\n",
       " } else {\n",
       " $('div.input').hide();\n",
       " }\n",
       " code_show = !code_show\n",
       "} \n",
       "$( document ).ready(code_toggle);\n",
       "</script>\n",
       "The raw code for\n",
       "this IPython notebook is by default hidden for easier reading.\n",
       "To toggle on/off the raw code, click <a href=\"javascript:code_toggle()\">here</a>."
      ],
      "text/plain": [
       "<IPython.core.display.HTML object>"
      ]
     },
     "execution_count": 1,
     "metadata": {},
     "output_type": "execute_result"
    }
   ],
   "source": [
    "from IPython.display import HTML\n",
    "\n",
    "HTML('''<script>\n",
    "code_show=false; \n",
    "function code_toggle() {\n",
    " if (code_show){\n",
    " $('div.input').show();\n",
    " } else {\n",
    " $('div.input').hide();\n",
    " }\n",
    " code_show = !code_show\n",
    "} \n",
    "$( document ).ready(code_toggle);\n",
    "</script>\n",
    "The raw code for\n",
    "this IPython notebook is by default hidden for easier reading.\n",
    "To toggle on/off the raw code, click <a href=\"javascript:code_toggle()\">here</a>.''')"
   ]
  },
  {
   "cell_type": "code",
   "execution_count": 1,
   "metadata": {
    "collapsed": false
   },
   "outputs": [
    {
     "name": "stderr",
     "output_type": "stream",
     "text": [
      "/home/vsivadas/.local/lib/python2.7/site-packages/IPython/html.py:14: ShimWarning: The `IPython.html` package has been deprecated. You should import from `notebook` instead. `IPython.html.widgets` has moved to `ipywidgets`.\n",
      "  \"`IPython.html.widgets` has moved to `ipywidgets`.\", ShimWarning)\n"
     ]
    }
   ],
   "source": [
    "import os\n",
    "import sys\n",
    "import numpy as np\n",
    "import pandas as pd\n",
    "import math\n",
    "import subprocess\n",
    "import matplotlib as mpl\n",
    "mpl.use('Agg')\n",
    "import matplotlib.pyplot as plt\n",
    "from matplotlib.legend_handler import HandlerLine2D\n",
    "import itertools\n",
    "from susipop import filter\n",
    "from susipop import reader\n",
    "from IPython.html.widgets import FloatProgress\n",
    "from IPython.display import display\n",
    "from ipywidgets import interactive, interact_manual\n",
    "import ipywidgets as widgets\n",
    "import scipy.stats as ss\n",
    "\n",
    "%matplotlib notebook\n",
    "\n",
    "import plotly\n",
    "import susipop as sp\n",
    "import pylab\n",
    "\n",
    "import warnings\n",
    "warnings.filterwarnings('ignore')"
   ]
  },
  {
   "cell_type": "code",
   "execution_count": 2,
   "metadata": {
    "collapsed": true
   },
   "outputs": [],
   "source": [
    "def get_folder_list(path=\".\"):\n",
    "    f = next(os.walk(path))[1]\n",
    "    return f\n",
    "def sort_data(x,y):\n",
    "    lists = sorted(itertools.izip(*[x, y]))\n",
    "    new_x, new_y = list(itertools.izip(*lists))\n",
    "    return new_x, new_y"
   ]
  },
  {
   "cell_type": "markdown",
   "metadata": {},
   "source": [
    "# Plot Normal Stress Differences as a function of phi"
   ]
  },
  {
   "cell_type": "code",
   "execution_count": 4,
   "metadata": {
    "collapsed": false,
    "scrolled": true
   },
   "outputs": [],
   "source": [
    "# #phivals = [float(i)/100.0 for i in sys.argv[1:]]\n",
    "\n",
    "# phivals = [40.,45.,50.,54.,55.,56.,58.]\n",
    "# #solid part\n",
    "# ialist = ['tot','hd','lub','rep','fric']\n",
    "\n",
    "# folders = get_folder_list()\n",
    "# db = dict()\n",
    "# for p in phivals:\n",
    "#     db[p] = dict()\n",
    "#     db[p]['shearrate'] = []\n",
    "#     db[p]['shearstress'] = []\n",
    "#     for ia in ialist:\n",
    "#         db[p][ia] = [[],[],[]]\n",
    "\n",
    "# def num_points(max_strain):\n",
    "#     if max_strain < 1.0: return -5\n",
    "#     elif (max_strain >= 1.0) and (max_strain <=2.0): return -10\n",
    "\n",
    "# f = FloatProgress(min=0, max=100)\n",
    "# display(f)\n",
    "# L = widgets.Label(\"\")\n",
    "# display(L)\n",
    "# progress = widgets.Label(\"\")\n",
    "# display(progress)\n",
    "\n",
    "\n",
    "# for num,folder in enumerate(np.sort(folders[:])):\n",
    "#     try:\n",
    "#         path = folder+\"/result/part_stress_norm_tot_t.dat\"\n",
    "#         if os.path.exists(path):\n",
    "#             exp = reader.DataSet(folder, fluid=False, particles=True)\n",
    "#             exp.load_state(exp.tlist[-1])\n",
    "            \n",
    "#             max_strain = float(exp.t)*exp.shearrate*exp.dt\n",
    "#             n = len(exp.tlist[1:])\n",
    "#             if max_strain >= 2:\n",
    "#                 n_last_strain = int(float(n)/max_strain*(max_strain - 1))\n",
    "#             else:\n",
    "#                 n_last_strain = -10\n",
    "                \n",
    "#             f.value = float(num+1)/len(folders[:])*100\n",
    "#             L.value = folder\n",
    "#             p = round(exp.phi*100)\n",
    "#             db_visc = pd.read_csv(folder+\"/result/nu_t.dat\")\n",
    "#             visc = db_visc[db_visc.columns[2]]\n",
    "#             time = db_visc[db_visc.columns[0]]\n",
    "#             shearstress = np.multiply(visc,exp.shearrate)\n",
    "            \n",
    "#             type = 'mean'  #type is 'mean' or 'all' or 'half' or 'laststrain'\n",
    "            \n",
    "#             if type == 'mean':\n",
    "#                 shearstress = np.mean(shearstress[n_last_strain:])\n",
    "#                 db[p]['shearstress'].append(shearstress)\n",
    "#                 db[p]['shearrate'].append(exp.shearrate)\n",
    "#             if type == 'last':\n",
    "#                 shearstress = shearstress[-20:]\n",
    "#                 db[p]['shearstress'].extend(list(shearstress))\n",
    "#                 db[p]['shearrate'].extend(list(np.ones_like(shearstress)*exp.shearrate))\n",
    "#             if type == 'half':\n",
    "#                 shearstress = shearstress[int(len(shearstress)/2):]\n",
    "#                 db[p]['shearstress'].extend(list(shearstress))\n",
    "#                 db[p]['shearrate'].extend(list(np.ones_like(shearstress)*exp.shearrate))\n",
    "#             if type == 'laststrain':\n",
    "#                 shearstress = shearstress[n_last_strain:]\n",
    "#                 db[p]['shearstress'].extend(list(shearstress))\n",
    "#                 db[p]['shearrate'].extend(list(np.ones_like(shearstress)*exp.shearrate))\n",
    "                \n",
    "#             for ia in ialist:\n",
    "#                 path = folder+\"/result/part_stress_norm_\"+ia+\"_t.dat\"\n",
    "#                 df = pd.read_csv(path)\n",
    "#                 s11 = np.asarray(df[df.columns[2]])\n",
    "#                 s22 = np.asarray(df[df.columns[3]])\n",
    "#                 s33 = np.asarray(df[df.columns[4]])\n",
    "#                 if type == 'last':\n",
    "#                     s11 = s11[-20:]\n",
    "#                     s22 = s22[-20:]\n",
    "#                     s33 = s33[-20:]\n",
    "#                     db[p][ia][0].extend(s11)\n",
    "#                     db[p][ia][1].extend(s22)\n",
    "#                     db[p][ia][2].extend(s33)\n",
    "#                 if type == 'laststrain':\n",
    "#                     s11 = s11[n_last_strain:]\n",
    "#                     s22 = s22[n_last_strain:]\n",
    "#                     s33 = s33[n_last_strain:]\n",
    "#                     db[p][ia][0].extend(s11)\n",
    "#                     db[p][ia][1].extend(s22)\n",
    "#                     db[p][ia][2].extend(s33)                \n",
    "#                 if type == 'half':\n",
    "#                     s11 = s11[int(len(s11)/2):]\n",
    "#                     s22 = s22[int(len(s22)/2):]\n",
    "#                     s33 = s33[int(len(s33)/2):]\n",
    "#                     db[p][ia][0].extend(s11)\n",
    "#                     db[p][ia][1].extend(s22)\n",
    "#                     db[p][ia][2].extend(s33)                    \n",
    "#                 if type == 'mean':\n",
    "#                     s11 = np.mean(s11[n_last_strain:])\n",
    "#                     s22 = np.mean(s22[n_last_strain:])\n",
    "#                     s33 = np.mean(s33[n_last_strain:])\n",
    "#                     db[p][ia][0].append(s11)\n",
    "#                     db[p][ia][1].append(s22)\n",
    "#                     db[p][ia][2].append(s33)\n",
    "\n",
    "#     except Exception as e: \n",
    "#         print folder,str(e)\n",
    "#         continue\n",
    "\n",
    "# for p in db.keys():\n",
    "#     for q in db[p].keys():\n",
    "#         db[p][q] = np.asarray(db[p][q])"
   ]
  },
  {
   "cell_type": "code",
   "execution_count": 5,
   "metadata": {
    "collapsed": false
   },
   "outputs": [],
   "source": [
    "# philist = [ 54.,55., 56.]\n",
    "# # for ia in ialist:\n",
    "# for ia in ['tot']:\n",
    "# #     plt.figure(figsize=[10,15])\n",
    "#     plt.subplot(211)\n",
    "#     plt.title(\"First Normal Stress Difference \"+ia)\n",
    "#     for p in philist:\n",
    "#         plt.xscale('log')\n",
    "        \n",
    "# #         plt.yscale('symlog')\n",
    "#         try:\n",
    "# #             X,Y = sort_data(db[p]['shearstress'], np.asarray(db[p][ia][0])- np.asarray(db[p][ia][2]))\n",
    "#             X,Y = sort_data(db[p]['shearrate'], np.asarray(db[p][ia][0])- np.asarray(db[p][ia][2]))\n",
    "# #             X,Y = sort_data(db[p]['shearstress'], np.asarray(db[p][ia][0])- np.asarray(db[p][ia][2]))\n",
    "# #             plt.plot(X,Y,'--o',label=\"phi=\"+str(p))\n",
    "#             plt.legend(loc=\"top left\")\n",
    "# #             plt.xlabel('Shear Stress (Pa)')\n",
    "#             plt.xlabel('Shear rate (1/s)')\n",
    "#             plt.ylabel('First Normal Stress Difference Sxx-Szz (Pa)')\n",
    "#             plt.show()\n",
    "#         except Exception as e: \n",
    "#             print str(e)\n",
    "#             continue\n",
    "#     plt.subplot(212)\n",
    "#     plt.title(\"Second Normal Stress Difference \"+ia)\n",
    "#     for p in philist:\n",
    "#         plt.xscale('log')\n",
    "# #         plt.yscale('symlog')\n",
    "#         try:\n",
    "# #             X, Y = sort_data(db[p]['shearstress'], np.asarray(db[p][ia][2])- np.asarray(db[p][ia][1]))\n",
    "#             X, Y = sort_data(db[p]['shearrate'], np.asarray(db[p][ia][2])- np.asarray(db[p][ia][1]))\n",
    "# #             plt.plot(X, Y ,'--o',label=\"phi=\"+str(p))\n",
    "#             plt.legend(loc=\"upper left\")\n",
    "# #             plt.xlabel('Shear Stress (Pa)')\n",
    "#             plt.xlabel('Shear rate (1/s)')\n",
    "#             plt.ylabel('Second Normal Stress Difference Szz - Syy (Pa)')\n",
    "# #             plt.show()\n",
    "#         except Exception as e: \n",
    "#             print str(e)\n",
    "#             continue\n",
    "#     plt.savefig('NormalStressDifference_vs_shearrate_'+ia+'.png')"
   ]
  },
  {
   "cell_type": "code",
   "execution_count": 6,
   "metadata": {
    "collapsed": false,
    "scrolled": false
   },
   "outputs": [
    {
     "name": "stdout",
     "output_type": "stream",
     "text": [
      "rhor1_phi56_yd16.0 File rhor1_phi56_yd16.0/result/part_stress_norm_tot_t.dat does not exist\n",
      "rhor1_phi56_yd30.0 File rhor1_phi56_yd30.0/result/part_stress_norm_tot_t.dat does not exist\n"
     ]
    },
    {
     "data": {
      "application/javascript": [
       "/* Put everything inside the global mpl namespace */\n",
       "window.mpl = {};\n",
       "\n",
       "mpl.get_websocket_type = function() {\n",
       "    if (typeof(WebSocket) !== 'undefined') {\n",
       "        return WebSocket;\n",
       "    } else if (typeof(MozWebSocket) !== 'undefined') {\n",
       "        return MozWebSocket;\n",
       "    } else {\n",
       "        alert('Your browser does not have WebSocket support.' +\n",
       "              'Please try Chrome, Safari or Firefox ≥ 6. ' +\n",
       "              'Firefox 4 and 5 are also supported but you ' +\n",
       "              'have to enable WebSockets in about:config.');\n",
       "    };\n",
       "}\n",
       "\n",
       "mpl.figure = function(figure_id, websocket, ondownload, parent_element) {\n",
       "    this.id = figure_id;\n",
       "\n",
       "    this.ws = websocket;\n",
       "\n",
       "    this.supports_binary = (this.ws.binaryType != undefined);\n",
       "\n",
       "    if (!this.supports_binary) {\n",
       "        var warnings = document.getElementById(\"mpl-warnings\");\n",
       "        if (warnings) {\n",
       "            warnings.style.display = 'block';\n",
       "            warnings.textContent = (\n",
       "                \"This browser does not support binary websocket messages. \" +\n",
       "                    \"Performance may be slow.\");\n",
       "        }\n",
       "    }\n",
       "\n",
       "    this.imageObj = new Image();\n",
       "\n",
       "    this.context = undefined;\n",
       "    this.message = undefined;\n",
       "    this.canvas = undefined;\n",
       "    this.rubberband_canvas = undefined;\n",
       "    this.rubberband_context = undefined;\n",
       "    this.format_dropdown = undefined;\n",
       "\n",
       "    this.image_mode = 'full';\n",
       "\n",
       "    this.root = $('<div/>');\n",
       "    this._root_extra_style(this.root)\n",
       "    this.root.attr('style', 'display: inline-block');\n",
       "\n",
       "    $(parent_element).append(this.root);\n",
       "\n",
       "    this._init_header(this);\n",
       "    this._init_canvas(this);\n",
       "    this._init_toolbar(this);\n",
       "\n",
       "    var fig = this;\n",
       "\n",
       "    this.waiting = false;\n",
       "\n",
       "    this.ws.onopen =  function () {\n",
       "            fig.send_message(\"supports_binary\", {value: fig.supports_binary});\n",
       "            fig.send_message(\"send_image_mode\", {});\n",
       "            fig.send_message(\"refresh\", {});\n",
       "        }\n",
       "\n",
       "    this.imageObj.onload = function() {\n",
       "            if (fig.image_mode == 'full') {\n",
       "                // Full images could contain transparency (where diff images\n",
       "                // almost always do), so we need to clear the canvas so that\n",
       "                // there is no ghosting.\n",
       "                fig.context.clearRect(0, 0, fig.canvas.width, fig.canvas.height);\n",
       "            }\n",
       "            fig.context.drawImage(fig.imageObj, 0, 0);\n",
       "        };\n",
       "\n",
       "    this.imageObj.onunload = function() {\n",
       "        this.ws.close();\n",
       "    }\n",
       "\n",
       "    this.ws.onmessage = this._make_on_message_function(this);\n",
       "\n",
       "    this.ondownload = ondownload;\n",
       "}\n",
       "\n",
       "mpl.figure.prototype._init_header = function() {\n",
       "    var titlebar = $(\n",
       "        '<div class=\"ui-dialog-titlebar ui-widget-header ui-corner-all ' +\n",
       "        'ui-helper-clearfix\"/>');\n",
       "    var titletext = $(\n",
       "        '<div class=\"ui-dialog-title\" style=\"width: 100%; ' +\n",
       "        'text-align: center; padding: 3px;\"/>');\n",
       "    titlebar.append(titletext)\n",
       "    this.root.append(titlebar);\n",
       "    this.header = titletext[0];\n",
       "}\n",
       "\n",
       "\n",
       "\n",
       "mpl.figure.prototype._canvas_extra_style = function(canvas_div) {\n",
       "\n",
       "}\n",
       "\n",
       "\n",
       "mpl.figure.prototype._root_extra_style = function(canvas_div) {\n",
       "\n",
       "}\n",
       "\n",
       "mpl.figure.prototype._init_canvas = function() {\n",
       "    var fig = this;\n",
       "\n",
       "    var canvas_div = $('<div/>');\n",
       "\n",
       "    canvas_div.attr('style', 'position: relative; clear: both; outline: 0');\n",
       "\n",
       "    function canvas_keyboard_event(event) {\n",
       "        return fig.key_event(event, event['data']);\n",
       "    }\n",
       "\n",
       "    canvas_div.keydown('key_press', canvas_keyboard_event);\n",
       "    canvas_div.keyup('key_release', canvas_keyboard_event);\n",
       "    this.canvas_div = canvas_div\n",
       "    this._canvas_extra_style(canvas_div)\n",
       "    this.root.append(canvas_div);\n",
       "\n",
       "    var canvas = $('<canvas/>');\n",
       "    canvas.addClass('mpl-canvas');\n",
       "    canvas.attr('style', \"left: 0; top: 0; z-index: 0; outline: 0\")\n",
       "\n",
       "    this.canvas = canvas[0];\n",
       "    this.context = canvas[0].getContext(\"2d\");\n",
       "\n",
       "    var rubberband = $('<canvas/>');\n",
       "    rubberband.attr('style', \"position: absolute; left: 0; top: 0; z-index: 1;\")\n",
       "\n",
       "    var pass_mouse_events = true;\n",
       "\n",
       "    canvas_div.resizable({\n",
       "        start: function(event, ui) {\n",
       "            pass_mouse_events = false;\n",
       "        },\n",
       "        resize: function(event, ui) {\n",
       "            fig.request_resize(ui.size.width, ui.size.height);\n",
       "        },\n",
       "        stop: function(event, ui) {\n",
       "            pass_mouse_events = true;\n",
       "            fig.request_resize(ui.size.width, ui.size.height);\n",
       "        },\n",
       "    });\n",
       "\n",
       "    function mouse_event_fn(event) {\n",
       "        if (pass_mouse_events)\n",
       "            return fig.mouse_event(event, event['data']);\n",
       "    }\n",
       "\n",
       "    rubberband.mousedown('button_press', mouse_event_fn);\n",
       "    rubberband.mouseup('button_release', mouse_event_fn);\n",
       "    // Throttle sequential mouse events to 1 every 20ms.\n",
       "    rubberband.mousemove('motion_notify', mouse_event_fn);\n",
       "\n",
       "    rubberband.mouseenter('figure_enter', mouse_event_fn);\n",
       "    rubberband.mouseleave('figure_leave', mouse_event_fn);\n",
       "\n",
       "    canvas_div.on(\"wheel\", function (event) {\n",
       "        event = event.originalEvent;\n",
       "        event['data'] = 'scroll'\n",
       "        if (event.deltaY < 0) {\n",
       "            event.step = 1;\n",
       "        } else {\n",
       "            event.step = -1;\n",
       "        }\n",
       "        mouse_event_fn(event);\n",
       "    });\n",
       "\n",
       "    canvas_div.append(canvas);\n",
       "    canvas_div.append(rubberband);\n",
       "\n",
       "    this.rubberband = rubberband;\n",
       "    this.rubberband_canvas = rubberband[0];\n",
       "    this.rubberband_context = rubberband[0].getContext(\"2d\");\n",
       "    this.rubberband_context.strokeStyle = \"#000000\";\n",
       "\n",
       "    this._resize_canvas = function(width, height) {\n",
       "        // Keep the size of the canvas, canvas container, and rubber band\n",
       "        // canvas in synch.\n",
       "        canvas_div.css('width', width)\n",
       "        canvas_div.css('height', height)\n",
       "\n",
       "        canvas.attr('width', width);\n",
       "        canvas.attr('height', height);\n",
       "\n",
       "        rubberband.attr('width', width);\n",
       "        rubberband.attr('height', height);\n",
       "    }\n",
       "\n",
       "    // Set the figure to an initial 600x600px, this will subsequently be updated\n",
       "    // upon first draw.\n",
       "    this._resize_canvas(600, 600);\n",
       "\n",
       "    // Disable right mouse context menu.\n",
       "    $(this.rubberband_canvas).bind(\"contextmenu\",function(e){\n",
       "        return false;\n",
       "    });\n",
       "\n",
       "    function set_focus () {\n",
       "        canvas.focus();\n",
       "        canvas_div.focus();\n",
       "    }\n",
       "\n",
       "    window.setTimeout(set_focus, 100);\n",
       "}\n",
       "\n",
       "mpl.figure.prototype._init_toolbar = function() {\n",
       "    var fig = this;\n",
       "\n",
       "    var nav_element = $('<div/>')\n",
       "    nav_element.attr('style', 'width: 100%');\n",
       "    this.root.append(nav_element);\n",
       "\n",
       "    // Define a callback function for later on.\n",
       "    function toolbar_event(event) {\n",
       "        return fig.toolbar_button_onclick(event['data']);\n",
       "    }\n",
       "    function toolbar_mouse_event(event) {\n",
       "        return fig.toolbar_button_onmouseover(event['data']);\n",
       "    }\n",
       "\n",
       "    for(var toolbar_ind in mpl.toolbar_items) {\n",
       "        var name = mpl.toolbar_items[toolbar_ind][0];\n",
       "        var tooltip = mpl.toolbar_items[toolbar_ind][1];\n",
       "        var image = mpl.toolbar_items[toolbar_ind][2];\n",
       "        var method_name = mpl.toolbar_items[toolbar_ind][3];\n",
       "\n",
       "        if (!name) {\n",
       "            // put a spacer in here.\n",
       "            continue;\n",
       "        }\n",
       "        var button = $('<button/>');\n",
       "        button.addClass('ui-button ui-widget ui-state-default ui-corner-all ' +\n",
       "                        'ui-button-icon-only');\n",
       "        button.attr('role', 'button');\n",
       "        button.attr('aria-disabled', 'false');\n",
       "        button.click(method_name, toolbar_event);\n",
       "        button.mouseover(tooltip, toolbar_mouse_event);\n",
       "\n",
       "        var icon_img = $('<span/>');\n",
       "        icon_img.addClass('ui-button-icon-primary ui-icon');\n",
       "        icon_img.addClass(image);\n",
       "        icon_img.addClass('ui-corner-all');\n",
       "\n",
       "        var tooltip_span = $('<span/>');\n",
       "        tooltip_span.addClass('ui-button-text');\n",
       "        tooltip_span.html(tooltip);\n",
       "\n",
       "        button.append(icon_img);\n",
       "        button.append(tooltip_span);\n",
       "\n",
       "        nav_element.append(button);\n",
       "    }\n",
       "\n",
       "    var fmt_picker_span = $('<span/>');\n",
       "\n",
       "    var fmt_picker = $('<select/>');\n",
       "    fmt_picker.addClass('mpl-toolbar-option ui-widget ui-widget-content');\n",
       "    fmt_picker_span.append(fmt_picker);\n",
       "    nav_element.append(fmt_picker_span);\n",
       "    this.format_dropdown = fmt_picker[0];\n",
       "\n",
       "    for (var ind in mpl.extensions) {\n",
       "        var fmt = mpl.extensions[ind];\n",
       "        var option = $(\n",
       "            '<option/>', {selected: fmt === mpl.default_extension}).html(fmt);\n",
       "        fmt_picker.append(option)\n",
       "    }\n",
       "\n",
       "    // Add hover states to the ui-buttons\n",
       "    $( \".ui-button\" ).hover(\n",
       "        function() { $(this).addClass(\"ui-state-hover\");},\n",
       "        function() { $(this).removeClass(\"ui-state-hover\");}\n",
       "    );\n",
       "\n",
       "    var status_bar = $('<span class=\"mpl-message\"/>');\n",
       "    nav_element.append(status_bar);\n",
       "    this.message = status_bar[0];\n",
       "}\n",
       "\n",
       "mpl.figure.prototype.request_resize = function(x_pixels, y_pixels) {\n",
       "    // Request matplotlib to resize the figure. Matplotlib will then trigger a resize in the client,\n",
       "    // which will in turn request a refresh of the image.\n",
       "    this.send_message('resize', {'width': x_pixels, 'height': y_pixels});\n",
       "}\n",
       "\n",
       "mpl.figure.prototype.send_message = function(type, properties) {\n",
       "    properties['type'] = type;\n",
       "    properties['figure_id'] = this.id;\n",
       "    this.ws.send(JSON.stringify(properties));\n",
       "}\n",
       "\n",
       "mpl.figure.prototype.send_draw_message = function() {\n",
       "    if (!this.waiting) {\n",
       "        this.waiting = true;\n",
       "        this.ws.send(JSON.stringify({type: \"draw\", figure_id: this.id}));\n",
       "    }\n",
       "}\n",
       "\n",
       "\n",
       "mpl.figure.prototype.handle_save = function(fig, msg) {\n",
       "    var format_dropdown = fig.format_dropdown;\n",
       "    var format = format_dropdown.options[format_dropdown.selectedIndex].value;\n",
       "    fig.ondownload(fig, format);\n",
       "}\n",
       "\n",
       "\n",
       "mpl.figure.prototype.handle_resize = function(fig, msg) {\n",
       "    var size = msg['size'];\n",
       "    if (size[0] != fig.canvas.width || size[1] != fig.canvas.height) {\n",
       "        fig._resize_canvas(size[0], size[1]);\n",
       "        fig.send_message(\"refresh\", {});\n",
       "    };\n",
       "}\n",
       "\n",
       "mpl.figure.prototype.handle_rubberband = function(fig, msg) {\n",
       "    var x0 = msg['x0'];\n",
       "    var y0 = fig.canvas.height - msg['y0'];\n",
       "    var x1 = msg['x1'];\n",
       "    var y1 = fig.canvas.height - msg['y1'];\n",
       "    x0 = Math.floor(x0) + 0.5;\n",
       "    y0 = Math.floor(y0) + 0.5;\n",
       "    x1 = Math.floor(x1) + 0.5;\n",
       "    y1 = Math.floor(y1) + 0.5;\n",
       "    var min_x = Math.min(x0, x1);\n",
       "    var min_y = Math.min(y0, y1);\n",
       "    var width = Math.abs(x1 - x0);\n",
       "    var height = Math.abs(y1 - y0);\n",
       "\n",
       "    fig.rubberband_context.clearRect(\n",
       "        0, 0, fig.canvas.width, fig.canvas.height);\n",
       "\n",
       "    fig.rubberband_context.strokeRect(min_x, min_y, width, height);\n",
       "}\n",
       "\n",
       "mpl.figure.prototype.handle_figure_label = function(fig, msg) {\n",
       "    // Updates the figure title.\n",
       "    fig.header.textContent = msg['label'];\n",
       "}\n",
       "\n",
       "mpl.figure.prototype.handle_cursor = function(fig, msg) {\n",
       "    var cursor = msg['cursor'];\n",
       "    switch(cursor)\n",
       "    {\n",
       "    case 0:\n",
       "        cursor = 'pointer';\n",
       "        break;\n",
       "    case 1:\n",
       "        cursor = 'default';\n",
       "        break;\n",
       "    case 2:\n",
       "        cursor = 'crosshair';\n",
       "        break;\n",
       "    case 3:\n",
       "        cursor = 'move';\n",
       "        break;\n",
       "    }\n",
       "    fig.rubberband_canvas.style.cursor = cursor;\n",
       "}\n",
       "\n",
       "mpl.figure.prototype.handle_message = function(fig, msg) {\n",
       "    fig.message.textContent = msg['message'];\n",
       "}\n",
       "\n",
       "mpl.figure.prototype.handle_draw = function(fig, msg) {\n",
       "    // Request the server to send over a new figure.\n",
       "    fig.send_draw_message();\n",
       "}\n",
       "\n",
       "mpl.figure.prototype.handle_image_mode = function(fig, msg) {\n",
       "    fig.image_mode = msg['mode'];\n",
       "}\n",
       "\n",
       "mpl.figure.prototype.updated_canvas_event = function() {\n",
       "    // Called whenever the canvas gets updated.\n",
       "    this.send_message(\"ack\", {});\n",
       "}\n",
       "\n",
       "// A function to construct a web socket function for onmessage handling.\n",
       "// Called in the figure constructor.\n",
       "mpl.figure.prototype._make_on_message_function = function(fig) {\n",
       "    return function socket_on_message(evt) {\n",
       "        if (evt.data instanceof Blob) {\n",
       "            /* FIXME: We get \"Resource interpreted as Image but\n",
       "             * transferred with MIME type text/plain:\" errors on\n",
       "             * Chrome.  But how to set the MIME type?  It doesn't seem\n",
       "             * to be part of the websocket stream */\n",
       "            evt.data.type = \"image/png\";\n",
       "\n",
       "            /* Free the memory for the previous frames */\n",
       "            if (fig.imageObj.src) {\n",
       "                (window.URL || window.webkitURL).revokeObjectURL(\n",
       "                    fig.imageObj.src);\n",
       "            }\n",
       "\n",
       "            fig.imageObj.src = (window.URL || window.webkitURL).createObjectURL(\n",
       "                evt.data);\n",
       "            fig.updated_canvas_event();\n",
       "            fig.waiting = false;\n",
       "            return;\n",
       "        }\n",
       "        else if (typeof evt.data === 'string' && evt.data.slice(0, 21) == \"data:image/png;base64\") {\n",
       "            fig.imageObj.src = evt.data;\n",
       "            fig.updated_canvas_event();\n",
       "            fig.waiting = false;\n",
       "            return;\n",
       "        }\n",
       "\n",
       "        var msg = JSON.parse(evt.data);\n",
       "        var msg_type = msg['type'];\n",
       "\n",
       "        // Call the  \"handle_{type}\" callback, which takes\n",
       "        // the figure and JSON message as its only arguments.\n",
       "        try {\n",
       "            var callback = fig[\"handle_\" + msg_type];\n",
       "        } catch (e) {\n",
       "            console.log(\"No handler for the '\" + msg_type + \"' message type: \", msg);\n",
       "            return;\n",
       "        }\n",
       "\n",
       "        if (callback) {\n",
       "            try {\n",
       "                // console.log(\"Handling '\" + msg_type + \"' message: \", msg);\n",
       "                callback(fig, msg);\n",
       "            } catch (e) {\n",
       "                console.log(\"Exception inside the 'handler_\" + msg_type + \"' callback:\", e, e.stack, msg);\n",
       "            }\n",
       "        }\n",
       "    };\n",
       "}\n",
       "\n",
       "// from http://stackoverflow.com/questions/1114465/getting-mouse-location-in-canvas\n",
       "mpl.findpos = function(e) {\n",
       "    //this section is from http://www.quirksmode.org/js/events_properties.html\n",
       "    var targ;\n",
       "    if (!e)\n",
       "        e = window.event;\n",
       "    if (e.target)\n",
       "        targ = e.target;\n",
       "    else if (e.srcElement)\n",
       "        targ = e.srcElement;\n",
       "    if (targ.nodeType == 3) // defeat Safari bug\n",
       "        targ = targ.parentNode;\n",
       "\n",
       "    // jQuery normalizes the pageX and pageY\n",
       "    // pageX,Y are the mouse positions relative to the document\n",
       "    // offset() returns the position of the element relative to the document\n",
       "    var x = e.pageX - $(targ).offset().left;\n",
       "    var y = e.pageY - $(targ).offset().top;\n",
       "\n",
       "    return {\"x\": x, \"y\": y};\n",
       "};\n",
       "\n",
       "/*\n",
       " * return a copy of an object with only non-object keys\n",
       " * we need this to avoid circular references\n",
       " * http://stackoverflow.com/a/24161582/3208463\n",
       " */\n",
       "function simpleKeys (original) {\n",
       "  return Object.keys(original).reduce(function (obj, key) {\n",
       "    if (typeof original[key] !== 'object')\n",
       "        obj[key] = original[key]\n",
       "    return obj;\n",
       "  }, {});\n",
       "}\n",
       "\n",
       "mpl.figure.prototype.mouse_event = function(event, name) {\n",
       "    var canvas_pos = mpl.findpos(event)\n",
       "\n",
       "    if (name === 'button_press')\n",
       "    {\n",
       "        this.canvas.focus();\n",
       "        this.canvas_div.focus();\n",
       "    }\n",
       "\n",
       "    var x = canvas_pos.x;\n",
       "    var y = canvas_pos.y;\n",
       "\n",
       "    this.send_message(name, {x: x, y: y, button: event.button,\n",
       "                             step: event.step,\n",
       "                             guiEvent: simpleKeys(event)});\n",
       "\n",
       "    /* This prevents the web browser from automatically changing to\n",
       "     * the text insertion cursor when the button is pressed.  We want\n",
       "     * to control all of the cursor setting manually through the\n",
       "     * 'cursor' event from matplotlib */\n",
       "    event.preventDefault();\n",
       "    return false;\n",
       "}\n",
       "\n",
       "mpl.figure.prototype._key_event_extra = function(event, name) {\n",
       "    // Handle any extra behaviour associated with a key event\n",
       "}\n",
       "\n",
       "mpl.figure.prototype.key_event = function(event, name) {\n",
       "\n",
       "    // Prevent repeat events\n",
       "    if (name == 'key_press')\n",
       "    {\n",
       "        if (event.which === this._key)\n",
       "            return;\n",
       "        else\n",
       "            this._key = event.which;\n",
       "    }\n",
       "    if (name == 'key_release')\n",
       "        this._key = null;\n",
       "\n",
       "    var value = '';\n",
       "    if (event.ctrlKey && event.which != 17)\n",
       "        value += \"ctrl+\";\n",
       "    if (event.altKey && event.which != 18)\n",
       "        value += \"alt+\";\n",
       "    if (event.shiftKey && event.which != 16)\n",
       "        value += \"shift+\";\n",
       "\n",
       "    value += 'k';\n",
       "    value += event.which.toString();\n",
       "\n",
       "    this._key_event_extra(event, name);\n",
       "\n",
       "    this.send_message(name, {key: value,\n",
       "                             guiEvent: simpleKeys(event)});\n",
       "    return false;\n",
       "}\n",
       "\n",
       "mpl.figure.prototype.toolbar_button_onclick = function(name) {\n",
       "    if (name == 'download') {\n",
       "        this.handle_save(this, null);\n",
       "    } else {\n",
       "        this.send_message(\"toolbar_button\", {name: name});\n",
       "    }\n",
       "};\n",
       "\n",
       "mpl.figure.prototype.toolbar_button_onmouseover = function(tooltip) {\n",
       "    this.message.textContent = tooltip;\n",
       "};\n",
       "mpl.toolbar_items = [[\"Home\", \"Reset original view\", \"fa fa-home icon-home\", \"home\"], [\"Back\", \"Back to  previous view\", \"fa fa-arrow-left icon-arrow-left\", \"back\"], [\"Forward\", \"Forward to next view\", \"fa fa-arrow-right icon-arrow-right\", \"forward\"], [\"\", \"\", \"\", \"\"], [\"Pan\", \"Pan axes with left mouse, zoom with right\", \"fa fa-arrows icon-move\", \"pan\"], [\"Zoom\", \"Zoom to rectangle\", \"fa fa-square-o icon-check-empty\", \"zoom\"], [\"\", \"\", \"\", \"\"], [\"Download\", \"Download plot\", \"fa fa-floppy-o icon-save\", \"download\"]];\n",
       "\n",
       "mpl.extensions = [\"eps\", \"jpeg\", \"pdf\", \"png\", \"ps\", \"raw\", \"svg\", \"tif\"];\n",
       "\n",
       "mpl.default_extension = \"png\";var comm_websocket_adapter = function(comm) {\n",
       "    // Create a \"websocket\"-like object which calls the given IPython comm\n",
       "    // object with the appropriate methods. Currently this is a non binary\n",
       "    // socket, so there is still some room for performance tuning.\n",
       "    var ws = {};\n",
       "\n",
       "    ws.close = function() {\n",
       "        comm.close()\n",
       "    };\n",
       "    ws.send = function(m) {\n",
       "        //console.log('sending', m);\n",
       "        comm.send(m);\n",
       "    };\n",
       "    // Register the callback with on_msg.\n",
       "    comm.on_msg(function(msg) {\n",
       "        //console.log('receiving', msg['content']['data'], msg);\n",
       "        // Pass the mpl event to the overriden (by mpl) onmessage function.\n",
       "        ws.onmessage(msg['content']['data'])\n",
       "    });\n",
       "    return ws;\n",
       "}\n",
       "\n",
       "mpl.mpl_figure_comm = function(comm, msg) {\n",
       "    // This is the function which gets called when the mpl process\n",
       "    // starts-up an IPython Comm through the \"matplotlib\" channel.\n",
       "\n",
       "    var id = msg.content.data.id;\n",
       "    // Get hold of the div created by the display call when the Comm\n",
       "    // socket was opened in Python.\n",
       "    var element = $(\"#\" + id);\n",
       "    var ws_proxy = comm_websocket_adapter(comm)\n",
       "\n",
       "    function ondownload(figure, format) {\n",
       "        window.open(figure.imageObj.src);\n",
       "    }\n",
       "\n",
       "    var fig = new mpl.figure(id, ws_proxy,\n",
       "                           ondownload,\n",
       "                           element.get(0));\n",
       "\n",
       "    // Call onopen now - mpl needs it, as it is assuming we've passed it a real\n",
       "    // web socket which is closed, not our websocket->open comm proxy.\n",
       "    ws_proxy.onopen();\n",
       "\n",
       "    fig.parent_element = element.get(0);\n",
       "    fig.cell_info = mpl.find_output_cell(\"<div id='\" + id + \"'></div>\");\n",
       "    if (!fig.cell_info) {\n",
       "        console.error(\"Failed to find cell for figure\", id, fig);\n",
       "        return;\n",
       "    }\n",
       "\n",
       "    var output_index = fig.cell_info[2]\n",
       "    var cell = fig.cell_info[0];\n",
       "\n",
       "};\n",
       "\n",
       "mpl.figure.prototype.handle_close = function(fig, msg) {\n",
       "    fig.root.unbind('remove')\n",
       "\n",
       "    // Update the output cell to use the data from the current canvas.\n",
       "    fig.push_to_output();\n",
       "    var dataURL = fig.canvas.toDataURL();\n",
       "    // Re-enable the keyboard manager in IPython - without this line, in FF,\n",
       "    // the notebook keyboard shortcuts fail.\n",
       "    IPython.keyboard_manager.enable()\n",
       "    $(fig.parent_element).html('<img src=\"' + dataURL + '\">');\n",
       "    fig.close_ws(fig, msg);\n",
       "}\n",
       "\n",
       "mpl.figure.prototype.close_ws = function(fig, msg){\n",
       "    fig.send_message('closing', msg);\n",
       "    // fig.ws.close()\n",
       "}\n",
       "\n",
       "mpl.figure.prototype.push_to_output = function(remove_interactive) {\n",
       "    // Turn the data on the canvas into data in the output cell.\n",
       "    var dataURL = this.canvas.toDataURL();\n",
       "    this.cell_info[1]['text/html'] = '<img src=\"' + dataURL + '\">';\n",
       "}\n",
       "\n",
       "mpl.figure.prototype.updated_canvas_event = function() {\n",
       "    // Tell IPython that the notebook contents must change.\n",
       "    IPython.notebook.set_dirty(true);\n",
       "    this.send_message(\"ack\", {});\n",
       "    var fig = this;\n",
       "    // Wait a second, then push the new image to the DOM so\n",
       "    // that it is saved nicely (might be nice to debounce this).\n",
       "    setTimeout(function () { fig.push_to_output() }, 1000);\n",
       "}\n",
       "\n",
       "mpl.figure.prototype._init_toolbar = function() {\n",
       "    var fig = this;\n",
       "\n",
       "    var nav_element = $('<div/>')\n",
       "    nav_element.attr('style', 'width: 100%');\n",
       "    this.root.append(nav_element);\n",
       "\n",
       "    // Define a callback function for later on.\n",
       "    function toolbar_event(event) {\n",
       "        return fig.toolbar_button_onclick(event['data']);\n",
       "    }\n",
       "    function toolbar_mouse_event(event) {\n",
       "        return fig.toolbar_button_onmouseover(event['data']);\n",
       "    }\n",
       "\n",
       "    for(var toolbar_ind in mpl.toolbar_items){\n",
       "        var name = mpl.toolbar_items[toolbar_ind][0];\n",
       "        var tooltip = mpl.toolbar_items[toolbar_ind][1];\n",
       "        var image = mpl.toolbar_items[toolbar_ind][2];\n",
       "        var method_name = mpl.toolbar_items[toolbar_ind][3];\n",
       "\n",
       "        if (!name) { continue; };\n",
       "\n",
       "        var button = $('<button class=\"btn btn-default\" href=\"#\" title=\"' + name + '\"><i class=\"fa ' + image + ' fa-lg\"></i></button>');\n",
       "        button.click(method_name, toolbar_event);\n",
       "        button.mouseover(tooltip, toolbar_mouse_event);\n",
       "        nav_element.append(button);\n",
       "    }\n",
       "\n",
       "    // Add the status bar.\n",
       "    var status_bar = $('<span class=\"mpl-message\" style=\"text-align:right; float: right;\"/>');\n",
       "    nav_element.append(status_bar);\n",
       "    this.message = status_bar[0];\n",
       "\n",
       "    // Add the close button to the window.\n",
       "    var buttongrp = $('<div class=\"btn-group inline pull-right\"></div>');\n",
       "    var button = $('<button class=\"btn btn-mini btn-primary\" href=\"#\" title=\"Stop Interaction\"><i class=\"fa fa-power-off icon-remove icon-large\"></i></button>');\n",
       "    button.click(function (evt) { fig.handle_close(fig, {}); } );\n",
       "    button.mouseover('Stop Interaction', toolbar_mouse_event);\n",
       "    buttongrp.append(button);\n",
       "    var titlebar = this.root.find($('.ui-dialog-titlebar'));\n",
       "    titlebar.prepend(buttongrp);\n",
       "}\n",
       "\n",
       "mpl.figure.prototype._root_extra_style = function(el){\n",
       "    var fig = this\n",
       "    el.on(\"remove\", function(){\n",
       "\tfig.close_ws(fig, {});\n",
       "    });\n",
       "}\n",
       "\n",
       "mpl.figure.prototype._canvas_extra_style = function(el){\n",
       "    // this is important to make the div 'focusable\n",
       "    el.attr('tabindex', 0)\n",
       "    // reach out to IPython and tell the keyboard manager to turn it's self\n",
       "    // off when our div gets focus\n",
       "\n",
       "    // location in version 3\n",
       "    if (IPython.notebook.keyboard_manager) {\n",
       "        IPython.notebook.keyboard_manager.register_events(el);\n",
       "    }\n",
       "    else {\n",
       "        // location in version 2\n",
       "        IPython.keyboard_manager.register_events(el);\n",
       "    }\n",
       "\n",
       "}\n",
       "\n",
       "mpl.figure.prototype._key_event_extra = function(event, name) {\n",
       "    var manager = IPython.notebook.keyboard_manager;\n",
       "    if (!manager)\n",
       "        manager = IPython.keyboard_manager;\n",
       "\n",
       "    // Check for shift+enter\n",
       "    if (event.shiftKey && event.which == 13) {\n",
       "        this.canvas_div.blur();\n",
       "        // select the cell after this one\n",
       "        var index = IPython.notebook.find_cell_index(this.cell_info[0]);\n",
       "        IPython.notebook.select(index + 1);\n",
       "    }\n",
       "}\n",
       "\n",
       "mpl.figure.prototype.handle_save = function(fig, msg) {\n",
       "    fig.ondownload(fig, null);\n",
       "}\n",
       "\n",
       "\n",
       "mpl.find_output_cell = function(html_output) {\n",
       "    // Return the cell and output element which can be found *uniquely* in the notebook.\n",
       "    // Note - this is a bit hacky, but it is done because the \"notebook_saving.Notebook\"\n",
       "    // IPython event is triggered only after the cells have been serialised, which for\n",
       "    // our purposes (turning an active figure into a static one), is too late.\n",
       "    var cells = IPython.notebook.get_cells();\n",
       "    var ncells = cells.length;\n",
       "    for (var i=0; i<ncells; i++) {\n",
       "        var cell = cells[i];\n",
       "        if (cell.cell_type === 'code'){\n",
       "            for (var j=0; j<cell.output_area.outputs.length; j++) {\n",
       "                var data = cell.output_area.outputs[j];\n",
       "                if (data.data) {\n",
       "                    // IPython >= 3 moved mimebundle to data attribute of output\n",
       "                    data = data.data;\n",
       "                }\n",
       "                if (data['text/html'] == html_output) {\n",
       "                    return [cell, data, j];\n",
       "                }\n",
       "            }\n",
       "        }\n",
       "    }\n",
       "}\n",
       "\n",
       "// Register the function which deals with the matplotlib target/channel.\n",
       "// The kernel may be null if the page has been refreshed.\n",
       "if (IPython.notebook.kernel != null) {\n",
       "    IPython.notebook.kernel.comm_manager.register_target('matplotlib', mpl.mpl_figure_comm);\n",
       "}\n"
      ],
      "text/plain": [
       "<IPython.core.display.Javascript object>"
      ]
     },
     "metadata": {},
     "output_type": "display_data"
    },
    {
     "data": {
      "text/html": [
       "<img src=\"data:image/png;base64,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\">"
      ],
      "text/plain": [
       "<IPython.core.display.HTML object>"
      ]
     },
     "metadata": {},
     "output_type": "display_data"
    },
    {
     "name": "stdout",
     "output_type": "stream",
     "text": [
      "operands could not be broadcast together with shapes (2,189) (609,) \n"
     ]
    }
   ],
   "source": [
    "#phivals = [float(i)/100.0 for i in sys.argv[1:]]\n",
    "f1 = FloatProgress(min=0, max=100)\n",
    "display(f1)\n",
    "L1 = widgets.Label(\"\")\n",
    "display(L1)\n",
    "progress1 = widgets.Label(\"\")\n",
    "display(progress1)\n",
    "\n",
    "\n",
    "def num_points(max_strain):\n",
    "    if max_strain < 1.0: return -5\n",
    "    elif (max_strain >= 1.0) and (max_strain <=2.0): return -10\n",
    "\n",
    "db = dict()\n",
    "def analyze_normal_stress_difference_vs_phi(path_addition,type): \n",
    "    phivals = [40.,45.,50.,54.,55.,56.]\n",
    "    #solid part\n",
    "    ialist = ['tot','hd','lub','rep','fric']\n",
    "\n",
    "    folders = get_folder_list(path_addition)\n",
    "#     db = dict()\n",
    "    for p in phivals:\n",
    "        db[p] = dict()\n",
    "        db[p]['shearrate'] = []\n",
    "        db[p]['shearstress'] = []\n",
    "        for ia in ialist:\n",
    "            db[p][ia] = [[],[],[]]\n",
    "\n",
    "    for num,folder in enumerate(np.sort(folders[:])):\n",
    "        try:\n",
    "            path = folder+\"/result/part_stress_norm_\"+ia+\"_t.dat\"\n",
    "            if os.path.exists(path):\n",
    "                exp = reader.DataSet(folder, fluid=False, particles=True)\n",
    "                exp.load_state(exp.tlist[-1])\n",
    "\n",
    "                max_strain = float(exp.t)*exp.shearrate*exp.dt\n",
    "                n = len(exp.tlist[1:])\n",
    "                if max_strain >= 2:\n",
    "                    n_last_strain = int(float(n)/max_strain*(max_strain - 1))\n",
    "                    n_first_strain = int(float(n)/max_strain)\n",
    "                else:\n",
    "                    n_last_strain = -10\n",
    "                    n_first_strain = -10\n",
    "\n",
    "                f1.value = float(num+1)/len(folders[:])*100\n",
    "                L1.value = folder\n",
    "                p = round(exp.phi*100)\n",
    "                db_visc = pd.read_csv(folder+\"/result/nu_t.dat\")\n",
    "                visc = db_visc[db_visc.columns[2]]\n",
    "                time = db_visc[db_visc.columns[0]]\n",
    "                shearstress = np.multiply(visc,exp.shearrate)\n",
    "\n",
    "                #type is 'mean' or 'all' or 'half' or 'laststrain'\n",
    "\n",
    "                if type == 'mean':\n",
    "                    shearstress = np.mean(shearstress[n_first_strain:])\n",
    "                    db[p]['shearstress'].append(shearstress)\n",
    "                    db[p]['shearrate'].append(exp.shearrate)\n",
    "                if type == 'last':\n",
    "                    shearstress = shearstress[-20:]\n",
    "                    db[p]['shearstress'].extend(list(shearstress))\n",
    "                    db[p]['shearrate'].extend(list(np.ones_like(shearstress)*exp.shearrate))\n",
    "                if type == 'half':\n",
    "                    shearstress = shearstress[int(len(shearstress)/2):]\n",
    "                    db[p]['shearstress'].extend(list(shearstress))\n",
    "                    db[p]['shearrate'].extend(list(np.ones_like(shearstress)*exp.shearrate))\n",
    "                if type == 'laststrain':\n",
    "                    shearstress = shearstress[n_last_strain:]\n",
    "                    db[p]['shearstress'].extend(list(shearstress))\n",
    "                    db[p]['shearrate'].extend(list(np.ones_like(shearstress)*exp.shearrate))\n",
    "\n",
    "                for ia in ialist:\n",
    "                    path = folder+\"/result/part_stress_norm_\"+ia+\"_t.dat\"\n",
    "                    df = pd.read_csv(path)\n",
    "                    s11 = np.asarray(df[df.columns[2]])\n",
    "                    s22 = np.asarray(df[df.columns[3]])\n",
    "                    s33 = np.asarray(df[df.columns[4]])\n",
    "                    if type == 'last20':\n",
    "                        s11 = s11[-20:]\n",
    "                        s22 = s22[-20:]\n",
    "                        s33 = s33[-20:]\n",
    "                        db[p][ia][0].extend(s11)\n",
    "                        db[p][ia][1].extend(s22)\n",
    "                        db[p][ia][2].extend(s33)\n",
    "                    if type == 'laststrain':\n",
    "                        s11 = s11[n_last_strain:]\n",
    "                        s22 = s22[n_last_strain:]\n",
    "                        s33 = s33[n_last_strain:]\n",
    "                        db[p][ia][0].extend(s11)\n",
    "                        db[p][ia][1].extend(s22)\n",
    "                        db[p][ia][2].extend(s33)                \n",
    "                    if type == 'half':\n",
    "                        s11 = s11[int(len(s11)/2):]\n",
    "                        s22 = s22[int(len(s22)/2):]\n",
    "                        s33 = s33[int(len(s33)/2):]\n",
    "                        db[p][ia][0].extend(s11)\n",
    "                        db[p][ia][1].extend(s22)\n",
    "                        db[p][ia][2].extend(s33)                    \n",
    "                    if type == 'mean':\n",
    "                        s11 = np.mean(s11[n_first_strain:])\n",
    "                        s22 = np.mean(s22[n_first_strain:])\n",
    "                        s33 = np.mean(s33[n_first_strain:])\n",
    "                        db[p][ia][0].append(s11)\n",
    "                        db[p][ia][1].append(s22)\n",
    "                        db[p][ia][2].append(s33)\n",
    "\n",
    "        except Exception as e: \n",
    "            print folder,str(e)\n",
    "            continue\n",
    "\n",
    "\n",
    "    \n",
    "\n",
    "\n",
    "\n",
    "def plot_N1N2(path_addition,analyze,phivals,ia,type,x_axis,marker,xlog,ylog,norm):\n",
    "    if analyze == \"True\":\n",
    "        analyze_normal_stress_difference_vs_phi(path_addition,type)\n",
    "    for p in db.keys():\n",
    "        for q in db[p].keys():\n",
    "            db[p][q] = np.asarray(db[p][q])\n",
    "    \n",
    "    philist = phivals\n",
    "    # for ia in ialist:\n",
    "\n",
    "    plt.figure(figsize=[15,5])\n",
    "    plt.subplot(131)\n",
    "    plt.title(\"First Normal Stress Difference \"+ia)\n",
    "    for p in philist:\n",
    "        if xlog:\n",
    "            plt.xscale('log')\n",
    "        if ylog:\n",
    "            plt.yscale('symlog')\n",
    "        try:\n",
    "            if x_axis == 'shearstress':\n",
    "                X,Y = sort_data(db[p]['shearstress'], np.asarray(db[p][ia][0])- np.asarray(db[p][ia][2]))\n",
    "#                 X,Y = sort_data(db[p]['shearstress'], np.asarray(db[p][ia][0])- 2*np.asarray(db[p][ia][2]))+ np.asarray(db[p][ia][1])\n",
    "                plt.plot(X,Y,marker,label=\"phi=\"+str(p))\n",
    "                plt.xlabel('Shear Stress (Pa)')\n",
    "            if x_axis == 'shearrate':\n",
    "                X,Y = sort_data(db[p]['shearrate'], np.asarray(db[p][ia][0])- np.asarray(db[p][ia][2]))\n",
    "#                 X,Y = sort_data(db[p]['shearstress'], np.asarray(db[p][ia][0])- 2*np.asarray(db[p][ia][2]))+ np.asarray(db[p][ia][1])\n",
    "                plt.plot(X,Y,marker,label=\"phi=\"+str(p))\n",
    "                plt.xlabel('Shear rate (1/s)')\n",
    "            plt.legend(loc=\"top left\")\n",
    "            plt.ylabel('N1 (Pa)')\n",
    "            plt.show()\n",
    "        except Exception as e: \n",
    "            print str(e)\n",
    "            continue\n",
    "    plt.subplot(132)\n",
    "    plt.title(\"N1-N2 \"+ia)\n",
    "    for p in philist:\n",
    "        if xlog:\n",
    "            plt.xscale('log')\n",
    "        if ylog:\n",
    "            plt.yscale('symlog')\n",
    "        try:\n",
    "            if x_axis == 'shearstress':\n",
    "#                 X,Y = sort_data(db[p]['shearstress'], np.asarray(db[p][ia][0])- np.asarray(db[p][ia][2]))\n",
    "                X,Y = sort_data(db[p]['shearstress'], np.asarray(db[p][ia][0])- 2*np.asarray(db[p][ia][2]))+ np.asarray(db[p][ia][1])\n",
    "                if norm: X, Y = np.abs(X),np.abs(Y)\n",
    "                plt.plot(X,Y,marker,label=\"phi=\"+str(p))\n",
    "                plt.xlabel('Shear Stress (Pa)')\n",
    "            if x_axis == 'shearrate':\n",
    "#                 X,Y = sort_data(db[p]['shearrate'], np.asarray(db[p][ia][0])- np.asarray(db[p][ia][2]))\n",
    "                X,Y = sort_data(db[p]['shearstress'], np.asarray(db[p][ia][0])- 2*np.asarray(db[p][ia][2]))+ np.asarray(db[p][ia][1])\n",
    "                plt.plot(X,Y,marker,label=\"phi=\"+str(p))\n",
    "                if norm: X, Y = np.abs(X),np.abs(Y)\n",
    "                plt.xlabel('Shear rate (1/s)')\n",
    "            plt.legend(loc=\"top left\")\n",
    "            plt.ylabel('N1-N2 (Pa)')\n",
    "            plt.show()\n",
    "        except Exception as e: \n",
    "            print str(e)\n",
    "            continue\n",
    "    plt.subplot(133)\n",
    "    plt.title(\"Second Normal Stress Difference \"+ia)\n",
    "    for p in philist:\n",
    "        if xlog:\n",
    "            plt.xscale('log')\n",
    "        if ylog:\n",
    "            plt.yscale('symlog')\n",
    "        try:\n",
    "#             X, Y = sort_data(db[p]['shearstress'], np.asarray(db[p][ia][2])- np.asarray(db[p][ia][1]))\n",
    "#             X, Y = sort_data(db[p]['shearrate'], np.asarray(db[p][ia][2])- np.asarray(db[p][ia][1]))\n",
    "#             plt.plot(X, Y ,'--o',label=\"phi=\"+str(p))\n",
    "            if x_axis == 'shearstress':\n",
    "                X,Y = sort_data(db[p]['shearstress'], np.asarray(db[p][ia][2])- np.asarray(db[p][ia][1]))\n",
    "                plt.plot(X,Y,marker,label=\"phi=\"+str(p))\n",
    "                plt.xlabel('Shear Stress (Pa)')\n",
    "            if x_axis == 'shearrate':\n",
    "                X,Y = sort_data(db[p]['shearrate'], np.asarray(db[p][ia][2])- np.asarray(db[p][ia][1]))\n",
    "                plt.plot(X,Y,marker,label=\"phi=\"+str(p))\n",
    "                plt.xlabel('Shear rate (1/s)')\n",
    "            plt.legend(loc=\"upper left\")\n",
    "#             plt.xlabel('Shear Stress (Pa)')\n",
    "#             plt.xlabel('Shear rate (1/s)')\n",
    "            plt.ylabel('N2 (Pa)')\n",
    "            plt.show()\n",
    "        except Exception as e: \n",
    "            print str(e)\n",
    "            continue\n",
    "    plt.savefig('NormalStressDifference_vs_shearrate_'+ia+'.png')\n",
    "\n",
    "\n",
    "v1 = interactive(plot_N1N2, \\\n",
    "                 path_addition = widgets.Text(value=\"./\"),\\\n",
    "                 analyze = widgets.ToggleButtons(options = [\"True\",\"False\"]),\\\n",
    "                 type = widgets.ToggleButtons(options = ['mean', 'last20','half','laststrain'], value = 'mean'),\\\n",
    "                phivals = widgets.SelectMultiple(options=[40,45,50,54,55,56,58],value=[56],disabled=False), \\\n",
    "                ia= widgets.ToggleButtons(options=['tot','lub','hd','rep','fric'], value= 'tot'),\\\n",
    "                x_axis = widgets.ToggleButtons(options = ['shearstress','shearrate']),\\\n",
    "                 marker = widgets.Text(value=\"o\"),\\\n",
    "                xlog = widgets.ToggleButtons(options = [\"True\",\"False\"]),\\\n",
    "                 ylog = widgets.ToggleButtons(options = [\"True\",\"False\"]),\\\n",
    "                  norm = widgets.ToggleButtons(description = \"use absolute value of stresses?\", options = [\"True\",\"False\"]),\\\n",
    "                __manual=True)\n",
    "\n",
    "display(v1)"
   ]
  },
  {
   "cell_type": "markdown",
   "metadata": {},
   "source": [
    "# Plotting the timeseries of viscosity, N, N2, Sxx, Syy, Szz "
   ]
  },
  {
   "cell_type": "code",
   "execution_count": 30,
   "metadata": {
    "collapsed": false
   },
   "outputs": [
    {
     "data": {
      "application/javascript": [
       "/* Put everything inside the global mpl namespace */\n",
       "window.mpl = {};\n",
       "\n",
       "mpl.get_websocket_type = function() {\n",
       "    if (typeof(WebSocket) !== 'undefined') {\n",
       "        return WebSocket;\n",
       "    } else if (typeof(MozWebSocket) !== 'undefined') {\n",
       "        return MozWebSocket;\n",
       "    } else {\n",
       "        alert('Your browser does not have WebSocket support.' +\n",
       "              'Please try Chrome, Safari or Firefox ≥ 6. ' +\n",
       "              'Firefox 4 and 5 are also supported but you ' +\n",
       "              'have to enable WebSockets in about:config.');\n",
       "    };\n",
       "}\n",
       "\n",
       "mpl.figure = function(figure_id, websocket, ondownload, parent_element) {\n",
       "    this.id = figure_id;\n",
       "\n",
       "    this.ws = websocket;\n",
       "\n",
       "    this.supports_binary = (this.ws.binaryType != undefined);\n",
       "\n",
       "    if (!this.supports_binary) {\n",
       "        var warnings = document.getElementById(\"mpl-warnings\");\n",
       "        if (warnings) {\n",
       "            warnings.style.display = 'block';\n",
       "            warnings.textContent = (\n",
       "                \"This browser does not support binary websocket messages. \" +\n",
       "                    \"Performance may be slow.\");\n",
       "        }\n",
       "    }\n",
       "\n",
       "    this.imageObj = new Image();\n",
       "\n",
       "    this.context = undefined;\n",
       "    this.message = undefined;\n",
       "    this.canvas = undefined;\n",
       "    this.rubberband_canvas = undefined;\n",
       "    this.rubberband_context = undefined;\n",
       "    this.format_dropdown = undefined;\n",
       "\n",
       "    this.image_mode = 'full';\n",
       "\n",
       "    this.root = $('<div/>');\n",
       "    this._root_extra_style(this.root)\n",
       "    this.root.attr('style', 'display: inline-block');\n",
       "\n",
       "    $(parent_element).append(this.root);\n",
       "\n",
       "    this._init_header(this);\n",
       "    this._init_canvas(this);\n",
       "    this._init_toolbar(this);\n",
       "\n",
       "    var fig = this;\n",
       "\n",
       "    this.waiting = false;\n",
       "\n",
       "    this.ws.onopen =  function () {\n",
       "            fig.send_message(\"supports_binary\", {value: fig.supports_binary});\n",
       "            fig.send_message(\"send_image_mode\", {});\n",
       "            fig.send_message(\"refresh\", {});\n",
       "        }\n",
       "\n",
       "    this.imageObj.onload = function() {\n",
       "            if (fig.image_mode == 'full') {\n",
       "                // Full images could contain transparency (where diff images\n",
       "                // almost always do), so we need to clear the canvas so that\n",
       "                // there is no ghosting.\n",
       "                fig.context.clearRect(0, 0, fig.canvas.width, fig.canvas.height);\n",
       "            }\n",
       "            fig.context.drawImage(fig.imageObj, 0, 0);\n",
       "        };\n",
       "\n",
       "    this.imageObj.onunload = function() {\n",
       "        this.ws.close();\n",
       "    }\n",
       "\n",
       "    this.ws.onmessage = this._make_on_message_function(this);\n",
       "\n",
       "    this.ondownload = ondownload;\n",
       "}\n",
       "\n",
       "mpl.figure.prototype._init_header = function() {\n",
       "    var titlebar = $(\n",
       "        '<div class=\"ui-dialog-titlebar ui-widget-header ui-corner-all ' +\n",
       "        'ui-helper-clearfix\"/>');\n",
       "    var titletext = $(\n",
       "        '<div class=\"ui-dialog-title\" style=\"width: 100%; ' +\n",
       "        'text-align: center; padding: 3px;\"/>');\n",
       "    titlebar.append(titletext)\n",
       "    this.root.append(titlebar);\n",
       "    this.header = titletext[0];\n",
       "}\n",
       "\n",
       "\n",
       "\n",
       "mpl.figure.prototype._canvas_extra_style = function(canvas_div) {\n",
       "\n",
       "}\n",
       "\n",
       "\n",
       "mpl.figure.prototype._root_extra_style = function(canvas_div) {\n",
       "\n",
       "}\n",
       "\n",
       "mpl.figure.prototype._init_canvas = function() {\n",
       "    var fig = this;\n",
       "\n",
       "    var canvas_div = $('<div/>');\n",
       "\n",
       "    canvas_div.attr('style', 'position: relative; clear: both; outline: 0');\n",
       "\n",
       "    function canvas_keyboard_event(event) {\n",
       "        return fig.key_event(event, event['data']);\n",
       "    }\n",
       "\n",
       "    canvas_div.keydown('key_press', canvas_keyboard_event);\n",
       "    canvas_div.keyup('key_release', canvas_keyboard_event);\n",
       "    this.canvas_div = canvas_div\n",
       "    this._canvas_extra_style(canvas_div)\n",
       "    this.root.append(canvas_div);\n",
       "\n",
       "    var canvas = $('<canvas/>');\n",
       "    canvas.addClass('mpl-canvas');\n",
       "    canvas.attr('style', \"left: 0; top: 0; z-index: 0; outline: 0\")\n",
       "\n",
       "    this.canvas = canvas[0];\n",
       "    this.context = canvas[0].getContext(\"2d\");\n",
       "\n",
       "    var rubberband = $('<canvas/>');\n",
       "    rubberband.attr('style', \"position: absolute; left: 0; top: 0; z-index: 1;\")\n",
       "\n",
       "    var pass_mouse_events = true;\n",
       "\n",
       "    canvas_div.resizable({\n",
       "        start: function(event, ui) {\n",
       "            pass_mouse_events = false;\n",
       "        },\n",
       "        resize: function(event, ui) {\n",
       "            fig.request_resize(ui.size.width, ui.size.height);\n",
       "        },\n",
       "        stop: function(event, ui) {\n",
       "            pass_mouse_events = true;\n",
       "            fig.request_resize(ui.size.width, ui.size.height);\n",
       "        },\n",
       "    });\n",
       "\n",
       "    function mouse_event_fn(event) {\n",
       "        if (pass_mouse_events)\n",
       "            return fig.mouse_event(event, event['data']);\n",
       "    }\n",
       "\n",
       "    rubberband.mousedown('button_press', mouse_event_fn);\n",
       "    rubberband.mouseup('button_release', mouse_event_fn);\n",
       "    // Throttle sequential mouse events to 1 every 20ms.\n",
       "    rubberband.mousemove('motion_notify', mouse_event_fn);\n",
       "\n",
       "    rubberband.mouseenter('figure_enter', mouse_event_fn);\n",
       "    rubberband.mouseleave('figure_leave', mouse_event_fn);\n",
       "\n",
       "    canvas_div.on(\"wheel\", function (event) {\n",
       "        event = event.originalEvent;\n",
       "        event['data'] = 'scroll'\n",
       "        if (event.deltaY < 0) {\n",
       "            event.step = 1;\n",
       "        } else {\n",
       "            event.step = -1;\n",
       "        }\n",
       "        mouse_event_fn(event);\n",
       "    });\n",
       "\n",
       "    canvas_div.append(canvas);\n",
       "    canvas_div.append(rubberband);\n",
       "\n",
       "    this.rubberband = rubberband;\n",
       "    this.rubberband_canvas = rubberband[0];\n",
       "    this.rubberband_context = rubberband[0].getContext(\"2d\");\n",
       "    this.rubberband_context.strokeStyle = \"#000000\";\n",
       "\n",
       "    this._resize_canvas = function(width, height) {\n",
       "        // Keep the size of the canvas, canvas container, and rubber band\n",
       "        // canvas in synch.\n",
       "        canvas_div.css('width', width)\n",
       "        canvas_div.css('height', height)\n",
       "\n",
       "        canvas.attr('width', width);\n",
       "        canvas.attr('height', height);\n",
       "\n",
       "        rubberband.attr('width', width);\n",
       "        rubberband.attr('height', height);\n",
       "    }\n",
       "\n",
       "    // Set the figure to an initial 600x600px, this will subsequently be updated\n",
       "    // upon first draw.\n",
       "    this._resize_canvas(600, 600);\n",
       "\n",
       "    // Disable right mouse context menu.\n",
       "    $(this.rubberband_canvas).bind(\"contextmenu\",function(e){\n",
       "        return false;\n",
       "    });\n",
       "\n",
       "    function set_focus () {\n",
       "        canvas.focus();\n",
       "        canvas_div.focus();\n",
       "    }\n",
       "\n",
       "    window.setTimeout(set_focus, 100);\n",
       "}\n",
       "\n",
       "mpl.figure.prototype._init_toolbar = function() {\n",
       "    var fig = this;\n",
       "\n",
       "    var nav_element = $('<div/>')\n",
       "    nav_element.attr('style', 'width: 100%');\n",
       "    this.root.append(nav_element);\n",
       "\n",
       "    // Define a callback function for later on.\n",
       "    function toolbar_event(event) {\n",
       "        return fig.toolbar_button_onclick(event['data']);\n",
       "    }\n",
       "    function toolbar_mouse_event(event) {\n",
       "        return fig.toolbar_button_onmouseover(event['data']);\n",
       "    }\n",
       "\n",
       "    for(var toolbar_ind in mpl.toolbar_items) {\n",
       "        var name = mpl.toolbar_items[toolbar_ind][0];\n",
       "        var tooltip = mpl.toolbar_items[toolbar_ind][1];\n",
       "        var image = mpl.toolbar_items[toolbar_ind][2];\n",
       "        var method_name = mpl.toolbar_items[toolbar_ind][3];\n",
       "\n",
       "        if (!name) {\n",
       "            // put a spacer in here.\n",
       "            continue;\n",
       "        }\n",
       "        var button = $('<button/>');\n",
       "        button.addClass('ui-button ui-widget ui-state-default ui-corner-all ' +\n",
       "                        'ui-button-icon-only');\n",
       "        button.attr('role', 'button');\n",
       "        button.attr('aria-disabled', 'false');\n",
       "        button.click(method_name, toolbar_event);\n",
       "        button.mouseover(tooltip, toolbar_mouse_event);\n",
       "\n",
       "        var icon_img = $('<span/>');\n",
       "        icon_img.addClass('ui-button-icon-primary ui-icon');\n",
       "        icon_img.addClass(image);\n",
       "        icon_img.addClass('ui-corner-all');\n",
       "\n",
       "        var tooltip_span = $('<span/>');\n",
       "        tooltip_span.addClass('ui-button-text');\n",
       "        tooltip_span.html(tooltip);\n",
       "\n",
       "        button.append(icon_img);\n",
       "        button.append(tooltip_span);\n",
       "\n",
       "        nav_element.append(button);\n",
       "    }\n",
       "\n",
       "    var fmt_picker_span = $('<span/>');\n",
       "\n",
       "    var fmt_picker = $('<select/>');\n",
       "    fmt_picker.addClass('mpl-toolbar-option ui-widget ui-widget-content');\n",
       "    fmt_picker_span.append(fmt_picker);\n",
       "    nav_element.append(fmt_picker_span);\n",
       "    this.format_dropdown = fmt_picker[0];\n",
       "\n",
       "    for (var ind in mpl.extensions) {\n",
       "        var fmt = mpl.extensions[ind];\n",
       "        var option = $(\n",
       "            '<option/>', {selected: fmt === mpl.default_extension}).html(fmt);\n",
       "        fmt_picker.append(option)\n",
       "    }\n",
       "\n",
       "    // Add hover states to the ui-buttons\n",
       "    $( \".ui-button\" ).hover(\n",
       "        function() { $(this).addClass(\"ui-state-hover\");},\n",
       "        function() { $(this).removeClass(\"ui-state-hover\");}\n",
       "    );\n",
       "\n",
       "    var status_bar = $('<span class=\"mpl-message\"/>');\n",
       "    nav_element.append(status_bar);\n",
       "    this.message = status_bar[0];\n",
       "}\n",
       "\n",
       "mpl.figure.prototype.request_resize = function(x_pixels, y_pixels) {\n",
       "    // Request matplotlib to resize the figure. Matplotlib will then trigger a resize in the client,\n",
       "    // which will in turn request a refresh of the image.\n",
       "    this.send_message('resize', {'width': x_pixels, 'height': y_pixels});\n",
       "}\n",
       "\n",
       "mpl.figure.prototype.send_message = function(type, properties) {\n",
       "    properties['type'] = type;\n",
       "    properties['figure_id'] = this.id;\n",
       "    this.ws.send(JSON.stringify(properties));\n",
       "}\n",
       "\n",
       "mpl.figure.prototype.send_draw_message = function() {\n",
       "    if (!this.waiting) {\n",
       "        this.waiting = true;\n",
       "        this.ws.send(JSON.stringify({type: \"draw\", figure_id: this.id}));\n",
       "    }\n",
       "}\n",
       "\n",
       "\n",
       "mpl.figure.prototype.handle_save = function(fig, msg) {\n",
       "    var format_dropdown = fig.format_dropdown;\n",
       "    var format = format_dropdown.options[format_dropdown.selectedIndex].value;\n",
       "    fig.ondownload(fig, format);\n",
       "}\n",
       "\n",
       "\n",
       "mpl.figure.prototype.handle_resize = function(fig, msg) {\n",
       "    var size = msg['size'];\n",
       "    if (size[0] != fig.canvas.width || size[1] != fig.canvas.height) {\n",
       "        fig._resize_canvas(size[0], size[1]);\n",
       "        fig.send_message(\"refresh\", {});\n",
       "    };\n",
       "}\n",
       "\n",
       "mpl.figure.prototype.handle_rubberband = function(fig, msg) {\n",
       "    var x0 = msg['x0'];\n",
       "    var y0 = fig.canvas.height - msg['y0'];\n",
       "    var x1 = msg['x1'];\n",
       "    var y1 = fig.canvas.height - msg['y1'];\n",
       "    x0 = Math.floor(x0) + 0.5;\n",
       "    y0 = Math.floor(y0) + 0.5;\n",
       "    x1 = Math.floor(x1) + 0.5;\n",
       "    y1 = Math.floor(y1) + 0.5;\n",
       "    var min_x = Math.min(x0, x1);\n",
       "    var min_y = Math.min(y0, y1);\n",
       "    var width = Math.abs(x1 - x0);\n",
       "    var height = Math.abs(y1 - y0);\n",
       "\n",
       "    fig.rubberband_context.clearRect(\n",
       "        0, 0, fig.canvas.width, fig.canvas.height);\n",
       "\n",
       "    fig.rubberband_context.strokeRect(min_x, min_y, width, height);\n",
       "}\n",
       "\n",
       "mpl.figure.prototype.handle_figure_label = function(fig, msg) {\n",
       "    // Updates the figure title.\n",
       "    fig.header.textContent = msg['label'];\n",
       "}\n",
       "\n",
       "mpl.figure.prototype.handle_cursor = function(fig, msg) {\n",
       "    var cursor = msg['cursor'];\n",
       "    switch(cursor)\n",
       "    {\n",
       "    case 0:\n",
       "        cursor = 'pointer';\n",
       "        break;\n",
       "    case 1:\n",
       "        cursor = 'default';\n",
       "        break;\n",
       "    case 2:\n",
       "        cursor = 'crosshair';\n",
       "        break;\n",
       "    case 3:\n",
       "        cursor = 'move';\n",
       "        break;\n",
       "    }\n",
       "    fig.rubberband_canvas.style.cursor = cursor;\n",
       "}\n",
       "\n",
       "mpl.figure.prototype.handle_message = function(fig, msg) {\n",
       "    fig.message.textContent = msg['message'];\n",
       "}\n",
       "\n",
       "mpl.figure.prototype.handle_draw = function(fig, msg) {\n",
       "    // Request the server to send over a new figure.\n",
       "    fig.send_draw_message();\n",
       "}\n",
       "\n",
       "mpl.figure.prototype.handle_image_mode = function(fig, msg) {\n",
       "    fig.image_mode = msg['mode'];\n",
       "}\n",
       "\n",
       "mpl.figure.prototype.updated_canvas_event = function() {\n",
       "    // Called whenever the canvas gets updated.\n",
       "    this.send_message(\"ack\", {});\n",
       "}\n",
       "\n",
       "// A function to construct a web socket function for onmessage handling.\n",
       "// Called in the figure constructor.\n",
       "mpl.figure.prototype._make_on_message_function = function(fig) {\n",
       "    return function socket_on_message(evt) {\n",
       "        if (evt.data instanceof Blob) {\n",
       "            /* FIXME: We get \"Resource interpreted as Image but\n",
       "             * transferred with MIME type text/plain:\" errors on\n",
       "             * Chrome.  But how to set the MIME type?  It doesn't seem\n",
       "             * to be part of the websocket stream */\n",
       "            evt.data.type = \"image/png\";\n",
       "\n",
       "            /* Free the memory for the previous frames */\n",
       "            if (fig.imageObj.src) {\n",
       "                (window.URL || window.webkitURL).revokeObjectURL(\n",
       "                    fig.imageObj.src);\n",
       "            }\n",
       "\n",
       "            fig.imageObj.src = (window.URL || window.webkitURL).createObjectURL(\n",
       "                evt.data);\n",
       "            fig.updated_canvas_event();\n",
       "            fig.waiting = false;\n",
       "            return;\n",
       "        }\n",
       "        else if (typeof evt.data === 'string' && evt.data.slice(0, 21) == \"data:image/png;base64\") {\n",
       "            fig.imageObj.src = evt.data;\n",
       "            fig.updated_canvas_event();\n",
       "            fig.waiting = false;\n",
       "            return;\n",
       "        }\n",
       "\n",
       "        var msg = JSON.parse(evt.data);\n",
       "        var msg_type = msg['type'];\n",
       "\n",
       "        // Call the  \"handle_{type}\" callback, which takes\n",
       "        // the figure and JSON message as its only arguments.\n",
       "        try {\n",
       "            var callback = fig[\"handle_\" + msg_type];\n",
       "        } catch (e) {\n",
       "            console.log(\"No handler for the '\" + msg_type + \"' message type: \", msg);\n",
       "            return;\n",
       "        }\n",
       "\n",
       "        if (callback) {\n",
       "            try {\n",
       "                // console.log(\"Handling '\" + msg_type + \"' message: \", msg);\n",
       "                callback(fig, msg);\n",
       "            } catch (e) {\n",
       "                console.log(\"Exception inside the 'handler_\" + msg_type + \"' callback:\", e, e.stack, msg);\n",
       "            }\n",
       "        }\n",
       "    };\n",
       "}\n",
       "\n",
       "// from http://stackoverflow.com/questions/1114465/getting-mouse-location-in-canvas\n",
       "mpl.findpos = function(e) {\n",
       "    //this section is from http://www.quirksmode.org/js/events_properties.html\n",
       "    var targ;\n",
       "    if (!e)\n",
       "        e = window.event;\n",
       "    if (e.target)\n",
       "        targ = e.target;\n",
       "    else if (e.srcElement)\n",
       "        targ = e.srcElement;\n",
       "    if (targ.nodeType == 3) // defeat Safari bug\n",
       "        targ = targ.parentNode;\n",
       "\n",
       "    // jQuery normalizes the pageX and pageY\n",
       "    // pageX,Y are the mouse positions relative to the document\n",
       "    // offset() returns the position of the element relative to the document\n",
       "    var x = e.pageX - $(targ).offset().left;\n",
       "    var y = e.pageY - $(targ).offset().top;\n",
       "\n",
       "    return {\"x\": x, \"y\": y};\n",
       "};\n",
       "\n",
       "/*\n",
       " * return a copy of an object with only non-object keys\n",
       " * we need this to avoid circular references\n",
       " * http://stackoverflow.com/a/24161582/3208463\n",
       " */\n",
       "function simpleKeys (original) {\n",
       "  return Object.keys(original).reduce(function (obj, key) {\n",
       "    if (typeof original[key] !== 'object')\n",
       "        obj[key] = original[key]\n",
       "    return obj;\n",
       "  }, {});\n",
       "}\n",
       "\n",
       "mpl.figure.prototype.mouse_event = function(event, name) {\n",
       "    var canvas_pos = mpl.findpos(event)\n",
       "\n",
       "    if (name === 'button_press')\n",
       "    {\n",
       "        this.canvas.focus();\n",
       "        this.canvas_div.focus();\n",
       "    }\n",
       "\n",
       "    var x = canvas_pos.x;\n",
       "    var y = canvas_pos.y;\n",
       "\n",
       "    this.send_message(name, {x: x, y: y, button: event.button,\n",
       "                             step: event.step,\n",
       "                             guiEvent: simpleKeys(event)});\n",
       "\n",
       "    /* This prevents the web browser from automatically changing to\n",
       "     * the text insertion cursor when the button is pressed.  We want\n",
       "     * to control all of the cursor setting manually through the\n",
       "     * 'cursor' event from matplotlib */\n",
       "    event.preventDefault();\n",
       "    return false;\n",
       "}\n",
       "\n",
       "mpl.figure.prototype._key_event_extra = function(event, name) {\n",
       "    // Handle any extra behaviour associated with a key event\n",
       "}\n",
       "\n",
       "mpl.figure.prototype.key_event = function(event, name) {\n",
       "\n",
       "    // Prevent repeat events\n",
       "    if (name == 'key_press')\n",
       "    {\n",
       "        if (event.which === this._key)\n",
       "            return;\n",
       "        else\n",
       "            this._key = event.which;\n",
       "    }\n",
       "    if (name == 'key_release')\n",
       "        this._key = null;\n",
       "\n",
       "    var value = '';\n",
       "    if (event.ctrlKey && event.which != 17)\n",
       "        value += \"ctrl+\";\n",
       "    if (event.altKey && event.which != 18)\n",
       "        value += \"alt+\";\n",
       "    if (event.shiftKey && event.which != 16)\n",
       "        value += \"shift+\";\n",
       "\n",
       "    value += 'k';\n",
       "    value += event.which.toString();\n",
       "\n",
       "    this._key_event_extra(event, name);\n",
       "\n",
       "    this.send_message(name, {key: value,\n",
       "                             guiEvent: simpleKeys(event)});\n",
       "    return false;\n",
       "}\n",
       "\n",
       "mpl.figure.prototype.toolbar_button_onclick = function(name) {\n",
       "    if (name == 'download') {\n",
       "        this.handle_save(this, null);\n",
       "    } else {\n",
       "        this.send_message(\"toolbar_button\", {name: name});\n",
       "    }\n",
       "};\n",
       "\n",
       "mpl.figure.prototype.toolbar_button_onmouseover = function(tooltip) {\n",
       "    this.message.textContent = tooltip;\n",
       "};\n",
       "mpl.toolbar_items = [[\"Home\", \"Reset original view\", \"fa fa-home icon-home\", \"home\"], [\"Back\", \"Back to  previous view\", \"fa fa-arrow-left icon-arrow-left\", \"back\"], [\"Forward\", \"Forward to next view\", \"fa fa-arrow-right icon-arrow-right\", \"forward\"], [\"\", \"\", \"\", \"\"], [\"Pan\", \"Pan axes with left mouse, zoom with right\", \"fa fa-arrows icon-move\", \"pan\"], [\"Zoom\", \"Zoom to rectangle\", \"fa fa-square-o icon-check-empty\", \"zoom\"], [\"\", \"\", \"\", \"\"], [\"Download\", \"Download plot\", \"fa fa-floppy-o icon-save\", \"download\"]];\n",
       "\n",
       "mpl.extensions = [\"eps\", \"jpeg\", \"pdf\", \"png\", \"ps\", \"raw\", \"svg\", \"tif\"];\n",
       "\n",
       "mpl.default_extension = \"png\";var comm_websocket_adapter = function(comm) {\n",
       "    // Create a \"websocket\"-like object which calls the given IPython comm\n",
       "    // object with the appropriate methods. Currently this is a non binary\n",
       "    // socket, so there is still some room for performance tuning.\n",
       "    var ws = {};\n",
       "\n",
       "    ws.close = function() {\n",
       "        comm.close()\n",
       "    };\n",
       "    ws.send = function(m) {\n",
       "        //console.log('sending', m);\n",
       "        comm.send(m);\n",
       "    };\n",
       "    // Register the callback with on_msg.\n",
       "    comm.on_msg(function(msg) {\n",
       "        //console.log('receiving', msg['content']['data'], msg);\n",
       "        // Pass the mpl event to the overriden (by mpl) onmessage function.\n",
       "        ws.onmessage(msg['content']['data'])\n",
       "    });\n",
       "    return ws;\n",
       "}\n",
       "\n",
       "mpl.mpl_figure_comm = function(comm, msg) {\n",
       "    // This is the function which gets called when the mpl process\n",
       "    // starts-up an IPython Comm through the \"matplotlib\" channel.\n",
       "\n",
       "    var id = msg.content.data.id;\n",
       "    // Get hold of the div created by the display call when the Comm\n",
       "    // socket was opened in Python.\n",
       "    var element = $(\"#\" + id);\n",
       "    var ws_proxy = comm_websocket_adapter(comm)\n",
       "\n",
       "    function ondownload(figure, format) {\n",
       "        window.open(figure.imageObj.src);\n",
       "    }\n",
       "\n",
       "    var fig = new mpl.figure(id, ws_proxy,\n",
       "                           ondownload,\n",
       "                           element.get(0));\n",
       "\n",
       "    // Call onopen now - mpl needs it, as it is assuming we've passed it a real\n",
       "    // web socket which is closed, not our websocket->open comm proxy.\n",
       "    ws_proxy.onopen();\n",
       "\n",
       "    fig.parent_element = element.get(0);\n",
       "    fig.cell_info = mpl.find_output_cell(\"<div id='\" + id + \"'></div>\");\n",
       "    if (!fig.cell_info) {\n",
       "        console.error(\"Failed to find cell for figure\", id, fig);\n",
       "        return;\n",
       "    }\n",
       "\n",
       "    var output_index = fig.cell_info[2]\n",
       "    var cell = fig.cell_info[0];\n",
       "\n",
       "};\n",
       "\n",
       "mpl.figure.prototype.handle_close = function(fig, msg) {\n",
       "    fig.root.unbind('remove')\n",
       "\n",
       "    // Update the output cell to use the data from the current canvas.\n",
       "    fig.push_to_output();\n",
       "    var dataURL = fig.canvas.toDataURL();\n",
       "    // Re-enable the keyboard manager in IPython - without this line, in FF,\n",
       "    // the notebook keyboard shortcuts fail.\n",
       "    IPython.keyboard_manager.enable()\n",
       "    $(fig.parent_element).html('<img src=\"' + dataURL + '\">');\n",
       "    fig.close_ws(fig, msg);\n",
       "}\n",
       "\n",
       "mpl.figure.prototype.close_ws = function(fig, msg){\n",
       "    fig.send_message('closing', msg);\n",
       "    // fig.ws.close()\n",
       "}\n",
       "\n",
       "mpl.figure.prototype.push_to_output = function(remove_interactive) {\n",
       "    // Turn the data on the canvas into data in the output cell.\n",
       "    var dataURL = this.canvas.toDataURL();\n",
       "    this.cell_info[1]['text/html'] = '<img src=\"' + dataURL + '\">';\n",
       "}\n",
       "\n",
       "mpl.figure.prototype.updated_canvas_event = function() {\n",
       "    // Tell IPython that the notebook contents must change.\n",
       "    IPython.notebook.set_dirty(true);\n",
       "    this.send_message(\"ack\", {});\n",
       "    var fig = this;\n",
       "    // Wait a second, then push the new image to the DOM so\n",
       "    // that it is saved nicely (might be nice to debounce this).\n",
       "    setTimeout(function () { fig.push_to_output() }, 1000);\n",
       "}\n",
       "\n",
       "mpl.figure.prototype._init_toolbar = function() {\n",
       "    var fig = this;\n",
       "\n",
       "    var nav_element = $('<div/>')\n",
       "    nav_element.attr('style', 'width: 100%');\n",
       "    this.root.append(nav_element);\n",
       "\n",
       "    // Define a callback function for later on.\n",
       "    function toolbar_event(event) {\n",
       "        return fig.toolbar_button_onclick(event['data']);\n",
       "    }\n",
       "    function toolbar_mouse_event(event) {\n",
       "        return fig.toolbar_button_onmouseover(event['data']);\n",
       "    }\n",
       "\n",
       "    for(var toolbar_ind in mpl.toolbar_items){\n",
       "        var name = mpl.toolbar_items[toolbar_ind][0];\n",
       "        var tooltip = mpl.toolbar_items[toolbar_ind][1];\n",
       "        var image = mpl.toolbar_items[toolbar_ind][2];\n",
       "        var method_name = mpl.toolbar_items[toolbar_ind][3];\n",
       "\n",
       "        if (!name) { continue; };\n",
       "\n",
       "        var button = $('<button class=\"btn btn-default\" href=\"#\" title=\"' + name + '\"><i class=\"fa ' + image + ' fa-lg\"></i></button>');\n",
       "        button.click(method_name, toolbar_event);\n",
       "        button.mouseover(tooltip, toolbar_mouse_event);\n",
       "        nav_element.append(button);\n",
       "    }\n",
       "\n",
       "    // Add the status bar.\n",
       "    var status_bar = $('<span class=\"mpl-message\" style=\"text-align:right; float: right;\"/>');\n",
       "    nav_element.append(status_bar);\n",
       "    this.message = status_bar[0];\n",
       "\n",
       "    // Add the close button to the window.\n",
       "    var buttongrp = $('<div class=\"btn-group inline pull-right\"></div>');\n",
       "    var button = $('<button class=\"btn btn-mini btn-primary\" href=\"#\" title=\"Stop Interaction\"><i class=\"fa fa-power-off icon-remove icon-large\"></i></button>');\n",
       "    button.click(function (evt) { fig.handle_close(fig, {}); } );\n",
       "    button.mouseover('Stop Interaction', toolbar_mouse_event);\n",
       "    buttongrp.append(button);\n",
       "    var titlebar = this.root.find($('.ui-dialog-titlebar'));\n",
       "    titlebar.prepend(buttongrp);\n",
       "}\n",
       "\n",
       "mpl.figure.prototype._root_extra_style = function(el){\n",
       "    var fig = this\n",
       "    el.on(\"remove\", function(){\n",
       "\tfig.close_ws(fig, {});\n",
       "    });\n",
       "}\n",
       "\n",
       "mpl.figure.prototype._canvas_extra_style = function(el){\n",
       "    // this is important to make the div 'focusable\n",
       "    el.attr('tabindex', 0)\n",
       "    // reach out to IPython and tell the keyboard manager to turn it's self\n",
       "    // off when our div gets focus\n",
       "\n",
       "    // location in version 3\n",
       "    if (IPython.notebook.keyboard_manager) {\n",
       "        IPython.notebook.keyboard_manager.register_events(el);\n",
       "    }\n",
       "    else {\n",
       "        // location in version 2\n",
       "        IPython.keyboard_manager.register_events(el);\n",
       "    }\n",
       "\n",
       "}\n",
       "\n",
       "mpl.figure.prototype._key_event_extra = function(event, name) {\n",
       "    var manager = IPython.notebook.keyboard_manager;\n",
       "    if (!manager)\n",
       "        manager = IPython.keyboard_manager;\n",
       "\n",
       "    // Check for shift+enter\n",
       "    if (event.shiftKey && event.which == 13) {\n",
       "        this.canvas_div.blur();\n",
       "        // select the cell after this one\n",
       "        var index = IPython.notebook.find_cell_index(this.cell_info[0]);\n",
       "        IPython.notebook.select(index + 1);\n",
       "    }\n",
       "}\n",
       "\n",
       "mpl.figure.prototype.handle_save = function(fig, msg) {\n",
       "    fig.ondownload(fig, null);\n",
       "}\n",
       "\n",
       "\n",
       "mpl.find_output_cell = function(html_output) {\n",
       "    // Return the cell and output element which can be found *uniquely* in the notebook.\n",
       "    // Note - this is a bit hacky, but it is done because the \"notebook_saving.Notebook\"\n",
       "    // IPython event is triggered only after the cells have been serialised, which for\n",
       "    // our purposes (turning an active figure into a static one), is too late.\n",
       "    var cells = IPython.notebook.get_cells();\n",
       "    var ncells = cells.length;\n",
       "    for (var i=0; i<ncells; i++) {\n",
       "        var cell = cells[i];\n",
       "        if (cell.cell_type === 'code'){\n",
       "            for (var j=0; j<cell.output_area.outputs.length; j++) {\n",
       "                var data = cell.output_area.outputs[j];\n",
       "                if (data.data) {\n",
       "                    // IPython >= 3 moved mimebundle to data attribute of output\n",
       "                    data = data.data;\n",
       "                }\n",
       "                if (data['text/html'] == html_output) {\n",
       "                    return [cell, data, j];\n",
       "                }\n",
       "            }\n",
       "        }\n",
       "    }\n",
       "}\n",
       "\n",
       "// Register the function which deals with the matplotlib target/channel.\n",
       "// The kernel may be null if the page has been refreshed.\n",
       "if (IPython.notebook.kernel != null) {\n",
       "    IPython.notebook.kernel.comm_manager.register_target('matplotlib', mpl.mpl_figure_comm);\n",
       "}\n"
      ],
      "text/plain": [
       "<IPython.core.display.Javascript object>"
      ]
     },
     "metadata": {},
     "output_type": "display_data"
    },
    {
     "data": {
      "text/html": [
       "<img src=\"data:image/png;base64,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\">"
      ],
      "text/plain": [
       "<IPython.core.display.HTML object>"
      ]
     },
     "metadata": {},
     "output_type": "display_data"
    },
    {
     "name": "stdout",
     "output_type": "stream",
     "text": [
      "Viscosity Values are normalized by absolute value of :5.29957496878\n",
      "N1 Values are normalized by absolute value of :0.111351895807\n",
      "min and max N1 at timesteps : [262] [324]  or [-740] [-678] 1000\n"
     ]
    }
   ],
   "source": [
    "# max_n1 = widgets.Label(\"N1 Values are normalized by absolute value of :\")\n",
    "# display(max_n1)\n",
    "# max_n2 = widgets.Label(\"N2 Values are normalized by absolute value of :\")\n",
    "# display(max_n2)\n",
    "def plot_timeseries(path_addition,phival,ydval,ia,viscosity,n1,n2,s1,s2,s3,sN):\n",
    "\n",
    "    plt.style.use('seaborn-deep')\n",
    "    \n",
    "    path = path_addition+\"rhor1_phi\"+str(phival)+\"_yd\"+str(float(ydval))\n",
    "\n",
    "    nufile = path+\"/result/nu_t.dat\" \n",
    "    stressfile = path+\"/result/part_stress_norm_\"+ia+\"_t.dat\" \n",
    "    \n",
    "    \n",
    "    \n",
    "    if os.path.exists(nufile):\n",
    "        plt.figure(figsize=[12,5])\n",
    "\n",
    "        minshear = 100000\n",
    "        db = pd.read_csv(nufile)\n",
    "        nu = db[db.columns[2]]\n",
    "        nu_rel = db[db.columns[4]]\n",
    "        t = db[db.columns[1]]\n",
    "#         shearrate = float(nufile.split(\"_\")[2].split(\"/\")[0].split(\"yd\")[1])\n",
    "        shearrate = ydval\n",
    "        shear = t*shearrate\n",
    "        if minshear > shear.max(): minshear = shear.max()\n",
    "#         nu = nu_rel*1.002e-3\n",
    "        nu = nu_rel\n",
    "#         plt.plot(shear,np.log10(nu_rel),label=\"log10 Viscosity\")\n",
    "        if viscosity:\n",
    "            print \"Viscosity Values are normalized by absolute value of :\" + str(max(abs(nu[:len(shear)])))\n",
    "            plt.plot(shear[:len(shear)],nu[:len(shear)]/max(abs(nu[:len(shear)])),label=\"Normalized Viscosity\")\n",
    "        \n",
    "        df = pd.read_csv(stressfile)\n",
    "        s11 = np.asarray(df[df.columns[2]])\n",
    "        s22 = np.asarray(df[df.columns[3]])\n",
    "        s33 = np.asarray(df[df.columns[4]])\n",
    "        N1 = s11 - s33\n",
    "        N2 = s33 - s22\n",
    "\n",
    "        if s1: \n",
    "            print \"Sxx Values are normalized by absolute value of :\" + str(max(abs(s11[:len(shear)])))\n",
    "            plt.plot(shear,s11[:len(shear)]/max(abs(s11[:len(shear)])),label = \"Sxx\")\n",
    "        if s2: \n",
    "            print \"Syy Values are normalized by absolute value of :\" + str(max(abs(s22[:len(shear)])))\n",
    "            plt.plot(shear,s22[:len(shear)][:len(shear)]/max(abs(s22[:len(shear)])),label = \"Syy\")\n",
    "        if s3: \n",
    "            print \"Szz Values are normalized by absolute value of :\" + str(max(abs(s33[:len(shear)])))\n",
    "            plt.plot(shear,s33[:len(shear)]/max(abs(s33[:len(shear)])),label = \"Szz\")\n",
    "            \n",
    "        if n1:\n",
    "#             max_n1.value = \"N1 Values are normalized by absolute value of :\" + str(max(abs(N1[:len(shear)])))\n",
    "            print \"N1 Values are normalized by absolute value of :\" + str(max(abs(N1[:len(shear)])))\n",
    "            plt.plot(shear,N1[:len(shear)]/max(abs(N1[:len(shear)])),label=\"normalized N1\")\n",
    "            idx_min = np.where(N1 == N1.min())[0]\n",
    "            idx_max = np.where(N1 == N1.max())[0]\n",
    "            print \"min and max N1 at timesteps :\",idx_min, idx_max, \" or\", idx_min - len(N1)-2, idx_max- len(N1)-2, len(N1)\n",
    "        if n2:\n",
    "#             max_n2.value = \"N2 Values are normalized by absolute value of :\" + str(max(abs(N2[:len(shear)])))\n",
    "            print \"N2 Values are normalized by absolute value of :\" + str(max(abs(N2[:len(shear)])))\n",
    "            plt.plot(shear,N2[:len(shear)]/max(abs(N2[:len(shear)])),label=\"normalized N2\")\n",
    "        if sN:\n",
    "#             max_n2.value = \"N2 Values are normalized by absolute value of :\" + str(max(abs(N2[:len(shear)])))\n",
    "            print \"N1-N2 Values are normalized by absolute value of :\" + str(max(abs(N2[:len(shear)])))\n",
    "            plt.plot(shear,N2[:len(shear)]/max(abs(N2[:len(shear)]))-N1[:len(shear)]/max(abs(N2[:len(shear)])),label=\"normalized N1-N2\")\n",
    "        plt.legend(loc=\"best\")\n",
    "        plt.title(path)\n",
    "#         plt.yscale(\"symlog\")\n",
    "        plt.xlabel(\"strain\")\n",
    "#         plt.ylabel(\" viscosity Pa.s\")\n",
    "        plt.axhline(0,color = 'k',ls = '--')\n",
    "    #     plt.xlim([0,minshear])\n",
    "        name = \"comparison_viscosity_\" + str(phival)+ '_'+str(ydval)\n",
    "    #     plt.savefig(name)\n",
    "    else:\n",
    "        print \"no data found, check location\"\n",
    "v = interactive(plot_timeseries, \\\n",
    "                path_addition = widgets.Text(value=\"larger_system_size/from_cartesius/F_CL_2e-10/\"),\\\n",
    "                phival = widgets.ToggleButtons(options=[40,45,50,54,55,56,58],value=56,disabled=False), \\\n",
    "                ydval= widgets.ToggleButtons(options=[1,10,11,11.5,12,12.5,13,14,15,16,18,20,30,50,70,100,100,200,300,1000], value= 10),\\\n",
    "                ia = widgets.ToggleButtons(options = ['tot','fric','rep','lub'],value = 'tot'),\\\n",
    "                viscosity=widgets.widget_bool.Checkbox(value = True, description = \"Viscosity\"),\\\n",
    "                n1=widgets.widget_bool.Checkbox(value = True, description = \"N1\"),\\\n",
    "                n2=widgets.widget_bool.Checkbox(value = False,description = \"N2\"),\\\n",
    "                 s1=widgets.widget_bool.Checkbox(value = False,description = \"Sxx\"),\\\n",
    "                 s2=widgets.widget_bool.Checkbox(value = False,description = \"Syy\"),\\\n",
    "                 s3=widgets.widget_bool.Checkbox(value = False,description = \"Szz\"),\\\n",
    "                 sN=widgets.widget_bool.Checkbox(value = False,description = \"SN\"),\\\n",
    "                __manual=False)\n",
    "\n",
    "# display(v)\n",
    "display(widgets.VBox(v.children[:3]))\n",
    "display(widgets.HBox(v.children[3:8]))\n",
    "display(widgets.HBox(v.children[8:]))"
   ]
  },
  {
   "cell_type": "code",
   "execution_count": 8,
   "metadata": {
    "collapsed": true
   },
   "outputs": [],
   "source": [
    "# Normal Stress Measurements"
   ]
  },
  {
   "cell_type": "markdown",
   "metadata": {},
   "source": [
    "# plot normal stresses and shear stresses "
   ]
  },
  {
   "cell_type": "code",
   "execution_count": 46,
   "metadata": {
    "collapsed": false,
    "scrolled": false
   },
   "outputs": [
    {
     "name": "stdout",
     "output_type": "stream",
     "text": [
      "phi=56 yd=1usable points=334\n",
      "phi=56 yd=10usable points=412\n",
      "phi=56 yd=11usable points=950\n",
      "phi=56 yd=11.5usable points=949\n",
      "phi=56 yd=12usable points=844\n",
      "phi=56 yd=12.5usable points=915\n",
      "phi=56 yd=13usable points=913\n",
      "phi=56 yd=14usable points=950\n",
      "phi=56 yd=15usable points=262\n",
      "File ./rhor1_phi56_yd16.0/result/part_stress_norm_tot_t.dat does not exist\n",
      "phi=56 yd=18usable points=950\n",
      "phi=56 yd=20usable points=449\n",
      "File ./rhor1_phi56_yd30.0/result/part_stress_norm_tot_t.dat does not exist\n",
      "phi=56 yd=50usable points=703\n",
      "phi=56 yd=70usable points=392\n",
      "phi=56 yd=100usable points=656\n",
      "phi=56 yd=100usable points=656\n",
      "File ./rhor1_phi56_yd200.0/result/part_stress_norm_tot_t.dat does not exist\n",
      "phi=56 yd=300usable points=524\n",
      "File ./rhor1_phi56_yd1000.0/result/part_stress_norm_tot_t.dat does not exist\n"
     ]
    },
    {
     "data": {
      "application/javascript": [
       "/* Put everything inside the global mpl namespace */\n",
       "window.mpl = {};\n",
       "\n",
       "mpl.get_websocket_type = function() {\n",
       "    if (typeof(WebSocket) !== 'undefined') {\n",
       "        return WebSocket;\n",
       "    } else if (typeof(MozWebSocket) !== 'undefined') {\n",
       "        return MozWebSocket;\n",
       "    } else {\n",
       "        alert('Your browser does not have WebSocket support.' +\n",
       "              'Please try Chrome, Safari or Firefox ≥ 6. ' +\n",
       "              'Firefox 4 and 5 are also supported but you ' +\n",
       "              'have to enable WebSockets in about:config.');\n",
       "    };\n",
       "}\n",
       "\n",
       "mpl.figure = function(figure_id, websocket, ondownload, parent_element) {\n",
       "    this.id = figure_id;\n",
       "\n",
       "    this.ws = websocket;\n",
       "\n",
       "    this.supports_binary = (this.ws.binaryType != undefined);\n",
       "\n",
       "    if (!this.supports_binary) {\n",
       "        var warnings = document.getElementById(\"mpl-warnings\");\n",
       "        if (warnings) {\n",
       "            warnings.style.display = 'block';\n",
       "            warnings.textContent = (\n",
       "                \"This browser does not support binary websocket messages. \" +\n",
       "                    \"Performance may be slow.\");\n",
       "        }\n",
       "    }\n",
       "\n",
       "    this.imageObj = new Image();\n",
       "\n",
       "    this.context = undefined;\n",
       "    this.message = undefined;\n",
       "    this.canvas = undefined;\n",
       "    this.rubberband_canvas = undefined;\n",
       "    this.rubberband_context = undefined;\n",
       "    this.format_dropdown = undefined;\n",
       "\n",
       "    this.image_mode = 'full';\n",
       "\n",
       "    this.root = $('<div/>');\n",
       "    this._root_extra_style(this.root)\n",
       "    this.root.attr('style', 'display: inline-block');\n",
       "\n",
       "    $(parent_element).append(this.root);\n",
       "\n",
       "    this._init_header(this);\n",
       "    this._init_canvas(this);\n",
       "    this._init_toolbar(this);\n",
       "\n",
       "    var fig = this;\n",
       "\n",
       "    this.waiting = false;\n",
       "\n",
       "    this.ws.onopen =  function () {\n",
       "            fig.send_message(\"supports_binary\", {value: fig.supports_binary});\n",
       "            fig.send_message(\"send_image_mode\", {});\n",
       "            fig.send_message(\"refresh\", {});\n",
       "        }\n",
       "\n",
       "    this.imageObj.onload = function() {\n",
       "            if (fig.image_mode == 'full') {\n",
       "                // Full images could contain transparency (where diff images\n",
       "                // almost always do), so we need to clear the canvas so that\n",
       "                // there is no ghosting.\n",
       "                fig.context.clearRect(0, 0, fig.canvas.width, fig.canvas.height);\n",
       "            }\n",
       "            fig.context.drawImage(fig.imageObj, 0, 0);\n",
       "        };\n",
       "\n",
       "    this.imageObj.onunload = function() {\n",
       "        this.ws.close();\n",
       "    }\n",
       "\n",
       "    this.ws.onmessage = this._make_on_message_function(this);\n",
       "\n",
       "    this.ondownload = ondownload;\n",
       "}\n",
       "\n",
       "mpl.figure.prototype._init_header = function() {\n",
       "    var titlebar = $(\n",
       "        '<div class=\"ui-dialog-titlebar ui-widget-header ui-corner-all ' +\n",
       "        'ui-helper-clearfix\"/>');\n",
       "    var titletext = $(\n",
       "        '<div class=\"ui-dialog-title\" style=\"width: 100%; ' +\n",
       "        'text-align: center; padding: 3px;\"/>');\n",
       "    titlebar.append(titletext)\n",
       "    this.root.append(titlebar);\n",
       "    this.header = titletext[0];\n",
       "}\n",
       "\n",
       "\n",
       "\n",
       "mpl.figure.prototype._canvas_extra_style = function(canvas_div) {\n",
       "\n",
       "}\n",
       "\n",
       "\n",
       "mpl.figure.prototype._root_extra_style = function(canvas_div) {\n",
       "\n",
       "}\n",
       "\n",
       "mpl.figure.prototype._init_canvas = function() {\n",
       "    var fig = this;\n",
       "\n",
       "    var canvas_div = $('<div/>');\n",
       "\n",
       "    canvas_div.attr('style', 'position: relative; clear: both; outline: 0');\n",
       "\n",
       "    function canvas_keyboard_event(event) {\n",
       "        return fig.key_event(event, event['data']);\n",
       "    }\n",
       "\n",
       "    canvas_div.keydown('key_press', canvas_keyboard_event);\n",
       "    canvas_div.keyup('key_release', canvas_keyboard_event);\n",
       "    this.canvas_div = canvas_div\n",
       "    this._canvas_extra_style(canvas_div)\n",
       "    this.root.append(canvas_div);\n",
       "\n",
       "    var canvas = $('<canvas/>');\n",
       "    canvas.addClass('mpl-canvas');\n",
       "    canvas.attr('style', \"left: 0; top: 0; z-index: 0; outline: 0\")\n",
       "\n",
       "    this.canvas = canvas[0];\n",
       "    this.context = canvas[0].getContext(\"2d\");\n",
       "\n",
       "    var rubberband = $('<canvas/>');\n",
       "    rubberband.attr('style', \"position: absolute; left: 0; top: 0; z-index: 1;\")\n",
       "\n",
       "    var pass_mouse_events = true;\n",
       "\n",
       "    canvas_div.resizable({\n",
       "        start: function(event, ui) {\n",
       "            pass_mouse_events = false;\n",
       "        },\n",
       "        resize: function(event, ui) {\n",
       "            fig.request_resize(ui.size.width, ui.size.height);\n",
       "        },\n",
       "        stop: function(event, ui) {\n",
       "            pass_mouse_events = true;\n",
       "            fig.request_resize(ui.size.width, ui.size.height);\n",
       "        },\n",
       "    });\n",
       "\n",
       "    function mouse_event_fn(event) {\n",
       "        if (pass_mouse_events)\n",
       "            return fig.mouse_event(event, event['data']);\n",
       "    }\n",
       "\n",
       "    rubberband.mousedown('button_press', mouse_event_fn);\n",
       "    rubberband.mouseup('button_release', mouse_event_fn);\n",
       "    // Throttle sequential mouse events to 1 every 20ms.\n",
       "    rubberband.mousemove('motion_notify', mouse_event_fn);\n",
       "\n",
       "    rubberband.mouseenter('figure_enter', mouse_event_fn);\n",
       "    rubberband.mouseleave('figure_leave', mouse_event_fn);\n",
       "\n",
       "    canvas_div.on(\"wheel\", function (event) {\n",
       "        event = event.originalEvent;\n",
       "        event['data'] = 'scroll'\n",
       "        if (event.deltaY < 0) {\n",
       "            event.step = 1;\n",
       "        } else {\n",
       "            event.step = -1;\n",
       "        }\n",
       "        mouse_event_fn(event);\n",
       "    });\n",
       "\n",
       "    canvas_div.append(canvas);\n",
       "    canvas_div.append(rubberband);\n",
       "\n",
       "    this.rubberband = rubberband;\n",
       "    this.rubberband_canvas = rubberband[0];\n",
       "    this.rubberband_context = rubberband[0].getContext(\"2d\");\n",
       "    this.rubberband_context.strokeStyle = \"#000000\";\n",
       "\n",
       "    this._resize_canvas = function(width, height) {\n",
       "        // Keep the size of the canvas, canvas container, and rubber band\n",
       "        // canvas in synch.\n",
       "        canvas_div.css('width', width)\n",
       "        canvas_div.css('height', height)\n",
       "\n",
       "        canvas.attr('width', width);\n",
       "        canvas.attr('height', height);\n",
       "\n",
       "        rubberband.attr('width', width);\n",
       "        rubberband.attr('height', height);\n",
       "    }\n",
       "\n",
       "    // Set the figure to an initial 600x600px, this will subsequently be updated\n",
       "    // upon first draw.\n",
       "    this._resize_canvas(600, 600);\n",
       "\n",
       "    // Disable right mouse context menu.\n",
       "    $(this.rubberband_canvas).bind(\"contextmenu\",function(e){\n",
       "        return false;\n",
       "    });\n",
       "\n",
       "    function set_focus () {\n",
       "        canvas.focus();\n",
       "        canvas_div.focus();\n",
       "    }\n",
       "\n",
       "    window.setTimeout(set_focus, 100);\n",
       "}\n",
       "\n",
       "mpl.figure.prototype._init_toolbar = function() {\n",
       "    var fig = this;\n",
       "\n",
       "    var nav_element = $('<div/>')\n",
       "    nav_element.attr('style', 'width: 100%');\n",
       "    this.root.append(nav_element);\n",
       "\n",
       "    // Define a callback function for later on.\n",
       "    function toolbar_event(event) {\n",
       "        return fig.toolbar_button_onclick(event['data']);\n",
       "    }\n",
       "    function toolbar_mouse_event(event) {\n",
       "        return fig.toolbar_button_onmouseover(event['data']);\n",
       "    }\n",
       "\n",
       "    for(var toolbar_ind in mpl.toolbar_items) {\n",
       "        var name = mpl.toolbar_items[toolbar_ind][0];\n",
       "        var tooltip = mpl.toolbar_items[toolbar_ind][1];\n",
       "        var image = mpl.toolbar_items[toolbar_ind][2];\n",
       "        var method_name = mpl.toolbar_items[toolbar_ind][3];\n",
       "\n",
       "        if (!name) {\n",
       "            // put a spacer in here.\n",
       "            continue;\n",
       "        }\n",
       "        var button = $('<button/>');\n",
       "        button.addClass('ui-button ui-widget ui-state-default ui-corner-all ' +\n",
       "                        'ui-button-icon-only');\n",
       "        button.attr('role', 'button');\n",
       "        button.attr('aria-disabled', 'false');\n",
       "        button.click(method_name, toolbar_event);\n",
       "        button.mouseover(tooltip, toolbar_mouse_event);\n",
       "\n",
       "        var icon_img = $('<span/>');\n",
       "        icon_img.addClass('ui-button-icon-primary ui-icon');\n",
       "        icon_img.addClass(image);\n",
       "        icon_img.addClass('ui-corner-all');\n",
       "\n",
       "        var tooltip_span = $('<span/>');\n",
       "        tooltip_span.addClass('ui-button-text');\n",
       "        tooltip_span.html(tooltip);\n",
       "\n",
       "        button.append(icon_img);\n",
       "        button.append(tooltip_span);\n",
       "\n",
       "        nav_element.append(button);\n",
       "    }\n",
       "\n",
       "    var fmt_picker_span = $('<span/>');\n",
       "\n",
       "    var fmt_picker = $('<select/>');\n",
       "    fmt_picker.addClass('mpl-toolbar-option ui-widget ui-widget-content');\n",
       "    fmt_picker_span.append(fmt_picker);\n",
       "    nav_element.append(fmt_picker_span);\n",
       "    this.format_dropdown = fmt_picker[0];\n",
       "\n",
       "    for (var ind in mpl.extensions) {\n",
       "        var fmt = mpl.extensions[ind];\n",
       "        var option = $(\n",
       "            '<option/>', {selected: fmt === mpl.default_extension}).html(fmt);\n",
       "        fmt_picker.append(option)\n",
       "    }\n",
       "\n",
       "    // Add hover states to the ui-buttons\n",
       "    $( \".ui-button\" ).hover(\n",
       "        function() { $(this).addClass(\"ui-state-hover\");},\n",
       "        function() { $(this).removeClass(\"ui-state-hover\");}\n",
       "    );\n",
       "\n",
       "    var status_bar = $('<span class=\"mpl-message\"/>');\n",
       "    nav_element.append(status_bar);\n",
       "    this.message = status_bar[0];\n",
       "}\n",
       "\n",
       "mpl.figure.prototype.request_resize = function(x_pixels, y_pixels) {\n",
       "    // Request matplotlib to resize the figure. Matplotlib will then trigger a resize in the client,\n",
       "    // which will in turn request a refresh of the image.\n",
       "    this.send_message('resize', {'width': x_pixels, 'height': y_pixels});\n",
       "}\n",
       "\n",
       "mpl.figure.prototype.send_message = function(type, properties) {\n",
       "    properties['type'] = type;\n",
       "    properties['figure_id'] = this.id;\n",
       "    this.ws.send(JSON.stringify(properties));\n",
       "}\n",
       "\n",
       "mpl.figure.prototype.send_draw_message = function() {\n",
       "    if (!this.waiting) {\n",
       "        this.waiting = true;\n",
       "        this.ws.send(JSON.stringify({type: \"draw\", figure_id: this.id}));\n",
       "    }\n",
       "}\n",
       "\n",
       "\n",
       "mpl.figure.prototype.handle_save = function(fig, msg) {\n",
       "    var format_dropdown = fig.format_dropdown;\n",
       "    var format = format_dropdown.options[format_dropdown.selectedIndex].value;\n",
       "    fig.ondownload(fig, format);\n",
       "}\n",
       "\n",
       "\n",
       "mpl.figure.prototype.handle_resize = function(fig, msg) {\n",
       "    var size = msg['size'];\n",
       "    if (size[0] != fig.canvas.width || size[1] != fig.canvas.height) {\n",
       "        fig._resize_canvas(size[0], size[1]);\n",
       "        fig.send_message(\"refresh\", {});\n",
       "    };\n",
       "}\n",
       "\n",
       "mpl.figure.prototype.handle_rubberband = function(fig, msg) {\n",
       "    var x0 = msg['x0'];\n",
       "    var y0 = fig.canvas.height - msg['y0'];\n",
       "    var x1 = msg['x1'];\n",
       "    var y1 = fig.canvas.height - msg['y1'];\n",
       "    x0 = Math.floor(x0) + 0.5;\n",
       "    y0 = Math.floor(y0) + 0.5;\n",
       "    x1 = Math.floor(x1) + 0.5;\n",
       "    y1 = Math.floor(y1) + 0.5;\n",
       "    var min_x = Math.min(x0, x1);\n",
       "    var min_y = Math.min(y0, y1);\n",
       "    var width = Math.abs(x1 - x0);\n",
       "    var height = Math.abs(y1 - y0);\n",
       "\n",
       "    fig.rubberband_context.clearRect(\n",
       "        0, 0, fig.canvas.width, fig.canvas.height);\n",
       "\n",
       "    fig.rubberband_context.strokeRect(min_x, min_y, width, height);\n",
       "}\n",
       "\n",
       "mpl.figure.prototype.handle_figure_label = function(fig, msg) {\n",
       "    // Updates the figure title.\n",
       "    fig.header.textContent = msg['label'];\n",
       "}\n",
       "\n",
       "mpl.figure.prototype.handle_cursor = function(fig, msg) {\n",
       "    var cursor = msg['cursor'];\n",
       "    switch(cursor)\n",
       "    {\n",
       "    case 0:\n",
       "        cursor = 'pointer';\n",
       "        break;\n",
       "    case 1:\n",
       "        cursor = 'default';\n",
       "        break;\n",
       "    case 2:\n",
       "        cursor = 'crosshair';\n",
       "        break;\n",
       "    case 3:\n",
       "        cursor = 'move';\n",
       "        break;\n",
       "    }\n",
       "    fig.rubberband_canvas.style.cursor = cursor;\n",
       "}\n",
       "\n",
       "mpl.figure.prototype.handle_message = function(fig, msg) {\n",
       "    fig.message.textContent = msg['message'];\n",
       "}\n",
       "\n",
       "mpl.figure.prototype.handle_draw = function(fig, msg) {\n",
       "    // Request the server to send over a new figure.\n",
       "    fig.send_draw_message();\n",
       "}\n",
       "\n",
       "mpl.figure.prototype.handle_image_mode = function(fig, msg) {\n",
       "    fig.image_mode = msg['mode'];\n",
       "}\n",
       "\n",
       "mpl.figure.prototype.updated_canvas_event = function() {\n",
       "    // Called whenever the canvas gets updated.\n",
       "    this.send_message(\"ack\", {});\n",
       "}\n",
       "\n",
       "// A function to construct a web socket function for onmessage handling.\n",
       "// Called in the figure constructor.\n",
       "mpl.figure.prototype._make_on_message_function = function(fig) {\n",
       "    return function socket_on_message(evt) {\n",
       "        if (evt.data instanceof Blob) {\n",
       "            /* FIXME: We get \"Resource interpreted as Image but\n",
       "             * transferred with MIME type text/plain:\" errors on\n",
       "             * Chrome.  But how to set the MIME type?  It doesn't seem\n",
       "             * to be part of the websocket stream */\n",
       "            evt.data.type = \"image/png\";\n",
       "\n",
       "            /* Free the memory for the previous frames */\n",
       "            if (fig.imageObj.src) {\n",
       "                (window.URL || window.webkitURL).revokeObjectURL(\n",
       "                    fig.imageObj.src);\n",
       "            }\n",
       "\n",
       "            fig.imageObj.src = (window.URL || window.webkitURL).createObjectURL(\n",
       "                evt.data);\n",
       "            fig.updated_canvas_event();\n",
       "            fig.waiting = false;\n",
       "            return;\n",
       "        }\n",
       "        else if (typeof evt.data === 'string' && evt.data.slice(0, 21) == \"data:image/png;base64\") {\n",
       "            fig.imageObj.src = evt.data;\n",
       "            fig.updated_canvas_event();\n",
       "            fig.waiting = false;\n",
       "            return;\n",
       "        }\n",
       "\n",
       "        var msg = JSON.parse(evt.data);\n",
       "        var msg_type = msg['type'];\n",
       "\n",
       "        // Call the  \"handle_{type}\" callback, which takes\n",
       "        // the figure and JSON message as its only arguments.\n",
       "        try {\n",
       "            var callback = fig[\"handle_\" + msg_type];\n",
       "        } catch (e) {\n",
       "            console.log(\"No handler for the '\" + msg_type + \"' message type: \", msg);\n",
       "            return;\n",
       "        }\n",
       "\n",
       "        if (callback) {\n",
       "            try {\n",
       "                // console.log(\"Handling '\" + msg_type + \"' message: \", msg);\n",
       "                callback(fig, msg);\n",
       "            } catch (e) {\n",
       "                console.log(\"Exception inside the 'handler_\" + msg_type + \"' callback:\", e, e.stack, msg);\n",
       "            }\n",
       "        }\n",
       "    };\n",
       "}\n",
       "\n",
       "// from http://stackoverflow.com/questions/1114465/getting-mouse-location-in-canvas\n",
       "mpl.findpos = function(e) {\n",
       "    //this section is from http://www.quirksmode.org/js/events_properties.html\n",
       "    var targ;\n",
       "    if (!e)\n",
       "        e = window.event;\n",
       "    if (e.target)\n",
       "        targ = e.target;\n",
       "    else if (e.srcElement)\n",
       "        targ = e.srcElement;\n",
       "    if (targ.nodeType == 3) // defeat Safari bug\n",
       "        targ = targ.parentNode;\n",
       "\n",
       "    // jQuery normalizes the pageX and pageY\n",
       "    // pageX,Y are the mouse positions relative to the document\n",
       "    // offset() returns the position of the element relative to the document\n",
       "    var x = e.pageX - $(targ).offset().left;\n",
       "    var y = e.pageY - $(targ).offset().top;\n",
       "\n",
       "    return {\"x\": x, \"y\": y};\n",
       "};\n",
       "\n",
       "/*\n",
       " * return a copy of an object with only non-object keys\n",
       " * we need this to avoid circular references\n",
       " * http://stackoverflow.com/a/24161582/3208463\n",
       " */\n",
       "function simpleKeys (original) {\n",
       "  return Object.keys(original).reduce(function (obj, key) {\n",
       "    if (typeof original[key] !== 'object')\n",
       "        obj[key] = original[key]\n",
       "    return obj;\n",
       "  }, {});\n",
       "}\n",
       "\n",
       "mpl.figure.prototype.mouse_event = function(event, name) {\n",
       "    var canvas_pos = mpl.findpos(event)\n",
       "\n",
       "    if (name === 'button_press')\n",
       "    {\n",
       "        this.canvas.focus();\n",
       "        this.canvas_div.focus();\n",
       "    }\n",
       "\n",
       "    var x = canvas_pos.x;\n",
       "    var y = canvas_pos.y;\n",
       "\n",
       "    this.send_message(name, {x: x, y: y, button: event.button,\n",
       "                             step: event.step,\n",
       "                             guiEvent: simpleKeys(event)});\n",
       "\n",
       "    /* This prevents the web browser from automatically changing to\n",
       "     * the text insertion cursor when the button is pressed.  We want\n",
       "     * to control all of the cursor setting manually through the\n",
       "     * 'cursor' event from matplotlib */\n",
       "    event.preventDefault();\n",
       "    return false;\n",
       "}\n",
       "\n",
       "mpl.figure.prototype._key_event_extra = function(event, name) {\n",
       "    // Handle any extra behaviour associated with a key event\n",
       "}\n",
       "\n",
       "mpl.figure.prototype.key_event = function(event, name) {\n",
       "\n",
       "    // Prevent repeat events\n",
       "    if (name == 'key_press')\n",
       "    {\n",
       "        if (event.which === this._key)\n",
       "            return;\n",
       "        else\n",
       "            this._key = event.which;\n",
       "    }\n",
       "    if (name == 'key_release')\n",
       "        this._key = null;\n",
       "\n",
       "    var value = '';\n",
       "    if (event.ctrlKey && event.which != 17)\n",
       "        value += \"ctrl+\";\n",
       "    if (event.altKey && event.which != 18)\n",
       "        value += \"alt+\";\n",
       "    if (event.shiftKey && event.which != 16)\n",
       "        value += \"shift+\";\n",
       "\n",
       "    value += 'k';\n",
       "    value += event.which.toString();\n",
       "\n",
       "    this._key_event_extra(event, name);\n",
       "\n",
       "    this.send_message(name, {key: value,\n",
       "                             guiEvent: simpleKeys(event)});\n",
       "    return false;\n",
       "}\n",
       "\n",
       "mpl.figure.prototype.toolbar_button_onclick = function(name) {\n",
       "    if (name == 'download') {\n",
       "        this.handle_save(this, null);\n",
       "    } else {\n",
       "        this.send_message(\"toolbar_button\", {name: name});\n",
       "    }\n",
       "};\n",
       "\n",
       "mpl.figure.prototype.toolbar_button_onmouseover = function(tooltip) {\n",
       "    this.message.textContent = tooltip;\n",
       "};\n",
       "mpl.toolbar_items = [[\"Home\", \"Reset original view\", \"fa fa-home icon-home\", \"home\"], [\"Back\", \"Back to  previous view\", \"fa fa-arrow-left icon-arrow-left\", \"back\"], [\"Forward\", \"Forward to next view\", \"fa fa-arrow-right icon-arrow-right\", \"forward\"], [\"\", \"\", \"\", \"\"], [\"Pan\", \"Pan axes with left mouse, zoom with right\", \"fa fa-arrows icon-move\", \"pan\"], [\"Zoom\", \"Zoom to rectangle\", \"fa fa-square-o icon-check-empty\", \"zoom\"], [\"\", \"\", \"\", \"\"], [\"Download\", \"Download plot\", \"fa fa-floppy-o icon-save\", \"download\"]];\n",
       "\n",
       "mpl.extensions = [\"eps\", \"jpeg\", \"pdf\", \"png\", \"ps\", \"raw\", \"svg\", \"tif\"];\n",
       "\n",
       "mpl.default_extension = \"png\";var comm_websocket_adapter = function(comm) {\n",
       "    // Create a \"websocket\"-like object which calls the given IPython comm\n",
       "    // object with the appropriate methods. Currently this is a non binary\n",
       "    // socket, so there is still some room for performance tuning.\n",
       "    var ws = {};\n",
       "\n",
       "    ws.close = function() {\n",
       "        comm.close()\n",
       "    };\n",
       "    ws.send = function(m) {\n",
       "        //console.log('sending', m);\n",
       "        comm.send(m);\n",
       "    };\n",
       "    // Register the callback with on_msg.\n",
       "    comm.on_msg(function(msg) {\n",
       "        //console.log('receiving', msg['content']['data'], msg);\n",
       "        // Pass the mpl event to the overriden (by mpl) onmessage function.\n",
       "        ws.onmessage(msg['content']['data'])\n",
       "    });\n",
       "    return ws;\n",
       "}\n",
       "\n",
       "mpl.mpl_figure_comm = function(comm, msg) {\n",
       "    // This is the function which gets called when the mpl process\n",
       "    // starts-up an IPython Comm through the \"matplotlib\" channel.\n",
       "\n",
       "    var id = msg.content.data.id;\n",
       "    // Get hold of the div created by the display call when the Comm\n",
       "    // socket was opened in Python.\n",
       "    var element = $(\"#\" + id);\n",
       "    var ws_proxy = comm_websocket_adapter(comm)\n",
       "\n",
       "    function ondownload(figure, format) {\n",
       "        window.open(figure.imageObj.src);\n",
       "    }\n",
       "\n",
       "    var fig = new mpl.figure(id, ws_proxy,\n",
       "                           ondownload,\n",
       "                           element.get(0));\n",
       "\n",
       "    // Call onopen now - mpl needs it, as it is assuming we've passed it a real\n",
       "    // web socket which is closed, not our websocket->open comm proxy.\n",
       "    ws_proxy.onopen();\n",
       "\n",
       "    fig.parent_element = element.get(0);\n",
       "    fig.cell_info = mpl.find_output_cell(\"<div id='\" + id + \"'></div>\");\n",
       "    if (!fig.cell_info) {\n",
       "        console.error(\"Failed to find cell for figure\", id, fig);\n",
       "        return;\n",
       "    }\n",
       "\n",
       "    var output_index = fig.cell_info[2]\n",
       "    var cell = fig.cell_info[0];\n",
       "\n",
       "};\n",
       "\n",
       "mpl.figure.prototype.handle_close = function(fig, msg) {\n",
       "    fig.root.unbind('remove')\n",
       "\n",
       "    // Update the output cell to use the data from the current canvas.\n",
       "    fig.push_to_output();\n",
       "    var dataURL = fig.canvas.toDataURL();\n",
       "    // Re-enable the keyboard manager in IPython - without this line, in FF,\n",
       "    // the notebook keyboard shortcuts fail.\n",
       "    IPython.keyboard_manager.enable()\n",
       "    $(fig.parent_element).html('<img src=\"' + dataURL + '\">');\n",
       "    fig.close_ws(fig, msg);\n",
       "}\n",
       "\n",
       "mpl.figure.prototype.close_ws = function(fig, msg){\n",
       "    fig.send_message('closing', msg);\n",
       "    // fig.ws.close()\n",
       "}\n",
       "\n",
       "mpl.figure.prototype.push_to_output = function(remove_interactive) {\n",
       "    // Turn the data on the canvas into data in the output cell.\n",
       "    var dataURL = this.canvas.toDataURL();\n",
       "    this.cell_info[1]['text/html'] = '<img src=\"' + dataURL + '\">';\n",
       "}\n",
       "\n",
       "mpl.figure.prototype.updated_canvas_event = function() {\n",
       "    // Tell IPython that the notebook contents must change.\n",
       "    IPython.notebook.set_dirty(true);\n",
       "    this.send_message(\"ack\", {});\n",
       "    var fig = this;\n",
       "    // Wait a second, then push the new image to the DOM so\n",
       "    // that it is saved nicely (might be nice to debounce this).\n",
       "    setTimeout(function () { fig.push_to_output() }, 1000);\n",
       "}\n",
       "\n",
       "mpl.figure.prototype._init_toolbar = function() {\n",
       "    var fig = this;\n",
       "\n",
       "    var nav_element = $('<div/>')\n",
       "    nav_element.attr('style', 'width: 100%');\n",
       "    this.root.append(nav_element);\n",
       "\n",
       "    // Define a callback function for later on.\n",
       "    function toolbar_event(event) {\n",
       "        return fig.toolbar_button_onclick(event['data']);\n",
       "    }\n",
       "    function toolbar_mouse_event(event) {\n",
       "        return fig.toolbar_button_onmouseover(event['data']);\n",
       "    }\n",
       "\n",
       "    for(var toolbar_ind in mpl.toolbar_items){\n",
       "        var name = mpl.toolbar_items[toolbar_ind][0];\n",
       "        var tooltip = mpl.toolbar_items[toolbar_ind][1];\n",
       "        var image = mpl.toolbar_items[toolbar_ind][2];\n",
       "        var method_name = mpl.toolbar_items[toolbar_ind][3];\n",
       "\n",
       "        if (!name) { continue; };\n",
       "\n",
       "        var button = $('<button class=\"btn btn-default\" href=\"#\" title=\"' + name + '\"><i class=\"fa ' + image + ' fa-lg\"></i></button>');\n",
       "        button.click(method_name, toolbar_event);\n",
       "        button.mouseover(tooltip, toolbar_mouse_event);\n",
       "        nav_element.append(button);\n",
       "    }\n",
       "\n",
       "    // Add the status bar.\n",
       "    var status_bar = $('<span class=\"mpl-message\" style=\"text-align:right; float: right;\"/>');\n",
       "    nav_element.append(status_bar);\n",
       "    this.message = status_bar[0];\n",
       "\n",
       "    // Add the close button to the window.\n",
       "    var buttongrp = $('<div class=\"btn-group inline pull-right\"></div>');\n",
       "    var button = $('<button class=\"btn btn-mini btn-primary\" href=\"#\" title=\"Stop Interaction\"><i class=\"fa fa-power-off icon-remove icon-large\"></i></button>');\n",
       "    button.click(function (evt) { fig.handle_close(fig, {}); } );\n",
       "    button.mouseover('Stop Interaction', toolbar_mouse_event);\n",
       "    buttongrp.append(button);\n",
       "    var titlebar = this.root.find($('.ui-dialog-titlebar'));\n",
       "    titlebar.prepend(buttongrp);\n",
       "}\n",
       "\n",
       "mpl.figure.prototype._root_extra_style = function(el){\n",
       "    var fig = this\n",
       "    el.on(\"remove\", function(){\n",
       "\tfig.close_ws(fig, {});\n",
       "    });\n",
       "}\n",
       "\n",
       "mpl.figure.prototype._canvas_extra_style = function(el){\n",
       "    // this is important to make the div 'focusable\n",
       "    el.attr('tabindex', 0)\n",
       "    // reach out to IPython and tell the keyboard manager to turn it's self\n",
       "    // off when our div gets focus\n",
       "\n",
       "    // location in version 3\n",
       "    if (IPython.notebook.keyboard_manager) {\n",
       "        IPython.notebook.keyboard_manager.register_events(el);\n",
       "    }\n",
       "    else {\n",
       "        // location in version 2\n",
       "        IPython.keyboard_manager.register_events(el);\n",
       "    }\n",
       "\n",
       "}\n",
       "\n",
       "mpl.figure.prototype._key_event_extra = function(event, name) {\n",
       "    var manager = IPython.notebook.keyboard_manager;\n",
       "    if (!manager)\n",
       "        manager = IPython.keyboard_manager;\n",
       "\n",
       "    // Check for shift+enter\n",
       "    if (event.shiftKey && event.which == 13) {\n",
       "        this.canvas_div.blur();\n",
       "        // select the cell after this one\n",
       "        var index = IPython.notebook.find_cell_index(this.cell_info[0]);\n",
       "        IPython.notebook.select(index + 1);\n",
       "    }\n",
       "}\n",
       "\n",
       "mpl.figure.prototype.handle_save = function(fig, msg) {\n",
       "    fig.ondownload(fig, null);\n",
       "}\n",
       "\n",
       "\n",
       "mpl.find_output_cell = function(html_output) {\n",
       "    // Return the cell and output element which can be found *uniquely* in the notebook.\n",
       "    // Note - this is a bit hacky, but it is done because the \"notebook_saving.Notebook\"\n",
       "    // IPython event is triggered only after the cells have been serialised, which for\n",
       "    // our purposes (turning an active figure into a static one), is too late.\n",
       "    var cells = IPython.notebook.get_cells();\n",
       "    var ncells = cells.length;\n",
       "    for (var i=0; i<ncells; i++) {\n",
       "        var cell = cells[i];\n",
       "        if (cell.cell_type === 'code'){\n",
       "            for (var j=0; j<cell.output_area.outputs.length; j++) {\n",
       "                var data = cell.output_area.outputs[j];\n",
       "                if (data.data) {\n",
       "                    // IPython >= 3 moved mimebundle to data attribute of output\n",
       "                    data = data.data;\n",
       "                }\n",
       "                if (data['text/html'] == html_output) {\n",
       "                    return [cell, data, j];\n",
       "                }\n",
       "            }\n",
       "        }\n",
       "    }\n",
       "}\n",
       "\n",
       "// Register the function which deals with the matplotlib target/channel.\n",
       "// The kernel may be null if the page has been refreshed.\n",
       "if (IPython.notebook.kernel != null) {\n",
       "    IPython.notebook.kernel.comm_manager.register_target('matplotlib', mpl.mpl_figure_comm);\n",
       "}\n"
      ],
      "text/plain": [
       "<IPython.core.display.Javascript object>"
      ]
     },
     "metadata": {},
     "output_type": "display_data"
    },
    {
     "data": {
      "text/html": [
       "<img src=\"data:image/png;base64,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\">"
      ],
      "text/plain": [
       "<IPython.core.display.HTML object>"
      ]
     },
     "metadata": {},
     "output_type": "display_data"
    }
   ],
   "source": [
    "f1 = FloatProgress(min=0, max=100)\n",
    "display(f1)\n",
    "L1 = widgets.Label(\"\")\n",
    "display(L1)\n",
    "progress1 = widgets.Label(\"\")\n",
    "display(progress1)\n",
    "    \n",
    "def plot_(x,y,plot_all,interpolation_degree,slope):\n",
    "    if \"all_data\" in plot_all: \n",
    "        plt.plot(x,y,'k.',label=\"data\")\n",
    "    if \"fit\" in plot_all:\n",
    "        fit  = np.poly1d(np.polyfit(x, y, interpolation_degree))\n",
    "        plt.plot(x,fit(x),\"r.\",linewidth=1,label=\"fit\")\n",
    "    if \"average\" in plot_all:\n",
    "        N = interpolation_degree\n",
    "        new_y = [yi for (xi,yi) in sorted(zip(x,y))]\n",
    "        new_x = np.sort(x)\n",
    "        y_mean = np.convolve(new_y, np.ones((N,))/N, mode='valid')\n",
    "        x_mean= np.convolve(new_x, np.ones((N,))/N, mode='valid')\n",
    "        plt.plot(x_mean,y_mean,'g',linewidth=4,label=\"moving average\")\n",
    "    if \"slope_line\" in plot_all:\n",
    "        xs= np.linspace(min(x),max(x),50)\n",
    "        plt.plot(xs,[i*slope for i in xs],'m',label=\"slope=\"+str(slope))\n",
    "        plt.plot(xs,[-i*slope for i in xs],'m')\n",
    "def get_normal_stress_differences(path_addition,phivals, ydvals,ia,scale,plot_all,interpolation_degree,dpi=80,slope=1):\n",
    "    N1_list = []\n",
    "    N2_list = []\n",
    "    Ndiff_list = []\n",
    "    nu_list = []\n",
    "    shearstress_list = []\n",
    "    normal_stress_z_list = []\n",
    "    \n",
    "    for phival in phivals:\n",
    "        for ydval in ydvals:\n",
    "            try:\n",
    "                stress_path = path_addition+\"rhor1_phi\"+str(phival)+\"_yd\"+str(float(ydval))+\"/result/part_stress_norm_\"+ia+\"_t.dat\"\n",
    "                nu_path = path_addition+\"rhor1_phi\"+str(phival)+\"_yd\"+str(float(ydval))+\"/result/nu_t.dat\"\n",
    "                #define paths to datafile here\n",
    "                df_stress = pd.read_csv(stress_path)\n",
    "                s11 = np.asarray(df_stress[df_stress.columns[2]])[50:]\n",
    "                s22 = np.asarray(df_stress[df_stress.columns[3]])[50:]\n",
    "                s33 = np.asarray(df_stress[df_stress.columns[4]])[50:]\n",
    "                #calculate N1,N1,N1-N2 \n",
    "                N1 = s11-s33\n",
    "                N2 = s33-s22\n",
    "                Ndiff =  N1 - N2\n",
    "                #get viscosity and calculate shear stress from viscosity\n",
    "                nu = pd.read_csv(nu_path)\n",
    "                nu = nu[nu.columns[2]][50:]\n",
    "                shearstress = np.multiply(nu,ydval)\n",
    "                #appending the N1,N2 and shear stress vals to the the main lists\n",
    "                usable_idx = min(len(nu),len(N1))\n",
    "                print \"phi=\"+str(phival)+ \" yd=\"+str(ydval)+ \"usable points=\"+str(usable_idx)\n",
    "                N1_list.extend(N1[:usable_idx])\n",
    "                N2_list.extend(N2[:usable_idx])\n",
    "                Ndiff_list.extend(Ndiff[:usable_idx])\n",
    "                shearstress_list.extend(shearstress[:usable_idx])\n",
    "                normal_stress_z_list.extend(s33[:usable_idx])\n",
    "            except Exception as e:\n",
    "                print e \n",
    "                continue\n",
    "                \n",
    "    plt.figure(figsize=[12,3.5],dpi=dpi)\n",
    "    plt.suptitle(\"$\\phi$ =\"+ str(phivals))\n",
    "    \n",
    "    plt.subplot(131)\n",
    "    plot_(shearstress_list,N1_list,plot_all,interpolation_degree,slope)\n",
    "    plt.xscale(scale);plt.yscale(scale)\n",
    "    plt.xlabel(\"shear stress (Pa)\"); plt.ylabel(\"N1 (Pa)\")\n",
    "    plt.xlim([0,10000])\n",
    "    plt.ylim([-10000,10000])\n",
    "    \n",
    "    plt.subplot(132)\n",
    "    plot_(shearstress_list,N2_list,plot_all,interpolation_degree,slope)\n",
    "    plt.xscale(scale);plt.yscale(scale)\n",
    "    plt.xlabel(\"shear stress (Pa)\"); plt.ylabel(\"N2 (Pa)\")\n",
    "    plt.xlim([0,10000])\n",
    "    plt.ylim([-10000,10000])\n",
    "    \n",
    "    plt.subplot(133)\n",
    "    plot_(shearstress_list,Ndiff_list,plot_all,interpolation_degree,slope)\n",
    "#     plot_(shearstress_list,normal_stress_z_list,plot_all,interpolation_degree,slope)\n",
    "    plt.xscale(scale);plt.yscale(scale)\n",
    "    plt.xlabel(\"shear stress (Pa)\"); plt.ylabel(\"N1-N2 (Pa)\")\n",
    "#     plt.xlabel(\"shear stress (Pa)\"); plt.ylabel(\"normal stress s33 (Pa)\")\n",
    "    plt.xlim([0,10000])\n",
    "    plt.ylim([-10000,10000])\n",
    "    \n",
    "    plt.legend(loc=\"best\",fontsize=8)\n",
    "    plt.tight_layout()\n",
    "    \n",
    "widget_get_normal_stress_differences = interactive(get_normal_stress_differences, \\\n",
    "    path_addition = widgets.Text(value=\"./\"),\\\n",
    "    phivals = widgets.SelectMultiple(options=[40,45,50,54,55,56,58],value=[56],disabled=False), \\\n",
    "    ydvals= widgets.SelectMultiple(options=[1,10,11,11.5,12,12.5,13,14,15,16,18,20,30,50,70,100,100,200,300,1000],\n",
    "                                   value=[1,10,11,11.5,12,12.5,13,14,15,16,18,20,30,50,70,100,100,200,300,1000]),\\\n",
    "    ia= widgets.ToggleButtons(options=['tot','lub','hd','rep','fric'], value= 'tot'),\\\n",
    "#     x_axis = widgets.ToggleButtons(options = ['shearstress','shearrate']),\\\n",
    "#      marker = widgets.Text(value=\"o\"),\\\n",
    "    scale = widgets.ToggleButtons(options = [\"log\",\"linear\",\"symlog\"], value= \"symlog\"),\\\n",
    "#       norm = widgets.ToggleButtons(description = \"use absolute value of stresses?\", options = [\"True\",\"False\"]),\\\n",
    "    plot_all = widgets.SelectMultiple(options= [\"fit\",\"all_data\",\"average\",\"slope_line\"], value = [\"fit\",\"all_data\",\"average\",\"slope_line\"]),\\\n",
    "    interpolation_degree = widgets.IntText(value=30,max=300,min=1),\\\n",
    "    __manual=True)\n",
    "\n",
    "display(widgets.HBox(widget_get_normal_stress_differences.children[:3]))\n",
    "display(widgets.HBox(widget_get_normal_stress_differences.children[3:6]))\n",
    "display(widgets.HBox(widget_get_normal_stress_differences.children[6:]))"
   ]
  },
  {
   "cell_type": "code",
   "execution_count": null,
   "metadata": {
    "collapsed": true
   },
   "outputs": [],
   "source": []
  }
 ],
 "metadata": {
  "anaconda-cloud": {},
  "kernelspec": {
   "display_name": "Python [default]",
   "language": "python",
   "name": "python2"
  },
  "language_info": {
   "codemirror_mode": {
    "name": "ipython",
    "version": 2
   },
   "file_extension": ".py",
   "mimetype": "text/x-python",
   "name": "python",
   "nbconvert_exporter": "python",
   "pygments_lexer": "ipython2",
   "version": "2.7.13"
  },
  "widgets": {
   "state": {
    "0374054f10f84948adfbac59e55abcb3": {
     "views": [
      {
       "cell_index": 11
      }
     ]
    },
    "038753d2f3cf4744bd4a179fb79324ac": {
     "views": [
      {
       "cell_index": 11
      }
     ]
    },
    "04395cba1f3d4b52935d5a0cbbdb47d2": {
     "views": [
      {
       "cell_index": 11
      }
     ]
    },
    "04b3109909c44e298af2086860a5f0be": {
     "views": [
      {
       "cell_index": 11
      }
     ]
    },
    "05561fb8bc964bc8aaea924afb89b70d": {
     "views": [
      {
       "cell_index": 11
      }
     ]
    },
    "0c5910d0caae4f6183b317a1afd4d8c9": {
     "views": [
      {
       "cell_index": 11
      }
     ]
    },
    "0d7827ad38dc4e2996888c4298e672ce": {
     "views": [
      {
       "cell_index": 11
      }
     ]
    },
    "11d121baf0664a5c8686f02fd8aa6f81": {
     "views": [
      {
       "cell_index": 11
      }
     ]
    },
    "136a0477d8af40fdb6e7cdd289822476": {
     "views": [
      {
       "cell_index": 11
      }
     ]
    },
    "15c751c65abe41d38a46cb007adf7cc9": {
     "views": [
      {
       "cell_index": 11
      }
     ]
    },
    "1733b93d022942e6938cf4b79e10d41f": {
     "views": [
      {
       "cell_index": 11
      }
     ]
    },
    "1a7f2eac11fe4066a8cce4387ceb9ffd": {
     "views": [
      {
       "cell_index": 11
      }
     ]
    },
    "1abd2ccfacd145e8bfd1bcfadc9edb79": {
     "views": [
      {
       "cell_index": 6
      }
     ]
    },
    "1b04c2e15ee14897970412ca70b31350": {
     "views": [
      {
       "cell_index": 11
      }
     ]
    },
    "1d03e62cd2ec4951843cbb687caf72f3": {
     "views": [
      {
       "cell_index": 8
      }
     ]
    },
    "26da9f9816ba48a0b773e1da0539edd0": {
     "views": [
      {
       "cell_index": 11
      }
     ]
    },
    "27eb499ae19249df8d0d41d5b36109d7": {
     "views": [
      {
       "cell_index": 11
      }
     ]
    },
    "2971b5253e7e43f8b05c3598861886e4": {
     "views": [
      {
       "cell_index": 11
      }
     ]
    },
    "29b5a43d652442f2b9c78e78afba9850": {
     "views": [
      {
       "cell_index": 11
      }
     ]
    },
    "2b08045f2b67426db112277d978854a0": {
     "views": [
      {
       "cell_index": 11
      }
     ]
    },
    "2e9bb90ac66e42d890837f0a510d40c1": {
     "views": [
      {
       "cell_index": 11
      }
     ]
    },
    "2f9eebb5791040be9f0549e6c14e1ffe": {
     "views": [
      {
       "cell_index": 11
      }
     ]
    },
    "308646ebf87c4675bb77cc0f4a00558f": {
     "views": [
      {
       "cell_index": 11
      }
     ]
    },
    "32cb177c915a490ead0b613d9bb0fe65": {
     "views": [
      {
       "cell_index": 11
      }
     ]
    },
    "33080b93a53c417b936451f65d0c1965": {
     "views": [
      {
       "cell_index": 11
      }
     ]
    },
    "33f39cc2cf1e442fabbd06cb28891e37": {
     "views": [
      {
       "cell_index": 6
      }
     ]
    },
    "361b2278d3824ec7ab4984d93b8aed11": {
     "views": [
      {
       "cell_index": 11
      }
     ]
    },
    "371504b191da47ed94cda3694a1ac5a5": {
     "views": [
      {
       "cell_index": 11
      }
     ]
    },
    "3b681c7f38174576a305e0074ea73e3c": {
     "views": [
      {
       "cell_index": 11
      }
     ]
    },
    "3d6a90ea41f64df3be9435bfe0b0c2a1": {
     "views": [
      {
       "cell_index": 11
      }
     ]
    },
    "3f16e6d23c0b4c0094e90ca1cb43233b": {
     "views": [
      {
       "cell_index": 11
      }
     ]
    },
    "3fac099cd9c74667aa7be9460cf9d023": {
     "views": [
      {
       "cell_index": 11
      }
     ]
    },
    "453909a64a3945d2ae7da45be1a71620": {
     "views": [
      {
       "cell_index": 11
      }
     ]
    },
    "46487b7b110944dc8fea1b749b27859a": {
     "views": [
      {
       "cell_index": 11
      }
     ]
    },
    "469c113e19fb4af3808b40fb8eaf61ff": {
     "views": [
      {
       "cell_index": 11
      }
     ]
    },
    "4a1a796878ac48e080d2529b8dec35f0": {
     "views": [
      {
       "cell_index": 11
      }
     ]
    },
    "4a476389755a4fed9b2bf5f837e4b000": {
     "views": [
      {
       "cell_index": 11
      }
     ]
    },
    "4bdfdd79a5454674a451d870ea9d0d7f": {
     "views": [
      {
       "cell_index": 11
      }
     ]
    },
    "4f7cb536360b49f0b1fd405a953603a9": {
     "views": [
      {
       "cell_index": 11
      }
     ]
    },
    "50a3f1c7289143128386c7fb901de5ad": {
     "views": [
      {
       "cell_index": 6
      }
     ]
    },
    "51d3d4f68fb4438a8e25c4f0029f75c5": {
     "views": [
      {
       "cell_index": 11
      }
     ]
    },
    "54196eed6cce48a690acb0831724ff94": {
     "views": [
      {
       "cell_index": 11
      }
     ]
    },
    "58645d34d9fd4d0983a42f410a814e26": {
     "views": [
      {
       "cell_index": 11
      }
     ]
    },
    "5b2f0a9c4c0941b59f1a7d074c750d97": {
     "views": [
      {
       "cell_index": 11
      }
     ]
    },
    "5c1501e5cc2947488b0adde41f9625fc": {
     "views": [
      {
       "cell_index": 11
      }
     ]
    },
    "5c2fee2b39ef4e97b3d540a515e3a5f8": {
     "views": [
      {
       "cell_index": 11
      }
     ]
    },
    "5ce7c27ec78d4a658645bdfd5be2ff56": {
     "views": [
      {
       "cell_index": 11
      }
     ]
    },
    "5f014dff56324a60ba5d3fe08edf9016": {
     "views": [
      {
       "cell_index": 6
      }
     ]
    },
    "627b090931a54bcca180a997c9717953": {
     "views": [
      {
       "cell_index": 11
      }
     ]
    },
    "63a825408bbc43a9933080ccdefd7a04": {
     "views": [
      {
       "cell_index": 11
      }
     ]
    },
    "658f9e2c9a1345b480368cbf837b3bf1": {
     "views": [
      {
       "cell_index": 11
      }
     ]
    },
    "666e576be89c4bef89f512de6893c7b4": {
     "views": [
      {
       "cell_index": 11
      }
     ]
    },
    "669bcab6c7cb4724bce6d1cd608b6a1e": {
     "views": [
      {
       "cell_index": 11
      }
     ]
    },
    "6c6434376bc1461f9eb9420eee729343": {
     "views": [
      {
       "cell_index": 11
      }
     ]
    },
    "7374376e4cec4a5cb3301479e36c5935": {
     "views": [
      {
       "cell_index": 11
      }
     ]
    },
    "7590966cee78458c82aa757711fe7d17": {
     "views": [
      {
       "cell_index": 11
      }
     ]
    },
    "7634f589b83846b9a613fa6d3a2892e6": {
     "views": [
      {
       "cell_index": 11
      }
     ]
    },
    "76d17f167d5b4145afbb31326fba804c": {
     "views": [
      {
       "cell_index": 11
      }
     ]
    },
    "774a0c266d32431284b14fdbde5f94a0": {
     "views": [
      {
       "cell_index": 11
      }
     ]
    },
    "78c52baf64c841348ccae2dc42e7198f": {
     "views": [
      {
       "cell_index": 11
      }
     ]
    },
    "7a88d40b411347f0952a5eda51652eae": {
     "views": [
      {
       "cell_index": 11
      }
     ]
    },
    "7dca6b64a5a241d291b3615bc3eefe7e": {
     "views": [
      {
       "cell_index": 11
      }
     ]
    },
    "832c4d588649497f983e649779dee2c7": {
     "views": [
      {
       "cell_index": 11
      }
     ]
    },
    "85bf683166534535b0c9cd0e5cfc343a": {
     "views": [
      {
       "cell_index": 11
      }
     ]
    },
    "8b4fe14e9d8a43309c4ddfaefa0206d1": {
     "views": [
      {
       "cell_index": 11
      }
     ]
    },
    "8bf5fdaeb2f0406d9fb291fc5426792f": {
     "views": [
      {
       "cell_index": 11
      }
     ]
    },
    "8ec7d0afe840431b8f39d4e9a1c5ea7c": {
     "views": [
      {
       "cell_index": 11
      }
     ]
    },
    "8f9e1d865a1347b4b5f114fafe80e8f7": {
     "views": [
      {
       "cell_index": 11
      }
     ]
    },
    "902fa0b710784966bbc8728fe366906f": {
     "views": [
      {
       "cell_index": 11
      }
     ]
    },
    "9f0df036b0184c208697c691cf590887": {
     "views": [
      {
       "cell_index": 11
      }
     ]
    },
    "9f4d2f32ac4344d78d7f36e3e9423bbc": {
     "views": [
      {
       "cell_index": 11
      }
     ]
    },
    "9f546082da4a49869f59f7382c8baf79": {
     "views": [
      {
       "cell_index": 11
      }
     ]
    },
    "9fe12ecc072b4956a995463c93ff3dfa": {
     "views": [
      {
       "cell_index": 11
      }
     ]
    },
    "a43834bc363248deb3433665c3f7471f": {
     "views": [
      {
       "cell_index": 11
      }
     ]
    },
    "a55f6c5ae2c54c80a9f4e22b0398cf0b": {
     "views": [
      {
       "cell_index": 6
      }
     ]
    },
    "a5a9188600da4817b6fc6dcc8f98d4ef": {
     "views": [
      {
       "cell_index": 11
      }
     ]
    },
    "a68a0f468d8c4688a618ba5011bf283b": {
     "views": [
      {
       "cell_index": 11
      }
     ]
    },
    "a6e1e08c070a462ab0454a6c509211db": {
     "views": [
      {
       "cell_index": 11
      }
     ]
    },
    "a9fe32234de241cea5ae527de3901bea": {
     "views": [
      {
       "cell_index": 11
      }
     ]
    },
    "aab4f1d278724bc1802c48eba344d535": {
     "views": [
      {
       "cell_index": 11
      }
     ]
    },
    "adf345b4e72f43f19d2671d8550dd713": {
     "views": [
      {
       "cell_index": 6
      }
     ]
    },
    "ae0421a7c6634f54b224b352956f6849": {
     "views": [
      {
       "cell_index": 8
      }
     ]
    },
    "b134cb47798d46f5a610ad00a914ed09": {
     "views": [
      {
       "cell_index": 8
      }
     ]
    },
    "b2808343abf84112a40e213a92c30eca": {
     "views": [
      {
       "cell_index": 11
      }
     ]
    },
    "b2df63c643e94862ac40ddabdcf35b46": {
     "views": [
      {
       "cell_index": 11
      }
     ]
    },
    "b7c3edf5bdb14919a63abfb15f658add": {
     "views": [
      {
       "cell_index": 11
      }
     ]
    },
    "baee4f1e30a94c9db5cebfa1f758c848": {
     "views": [
      {
       "cell_index": 11
      }
     ]
    },
    "bd8e04c260ff4606b7ebdc97de2402ce": {
     "views": [
      {
       "cell_index": 8
      }
     ]
    },
    "c2bf92c8301f4cc99312bbb1c39afd24": {
     "views": [
      {
       "cell_index": 6
      }
     ]
    },
    "c45d6d1a8b5a45caa1ab7016cc284ac5": {
     "views": [
      {
       "cell_index": 11
      }
     ]
    },
    "c627a73fea814817be2a401ccb72054d": {
     "views": [
      {
       "cell_index": 11
      }
     ]
    },
    "cb9a8b2aef664ec2bf0a6e36fd95fab3": {
     "views": [
      {
       "cell_index": 11
      }
     ]
    },
    "cc1d16f4f3884afd8945502e46398ff6": {
     "views": [
      {
       "cell_index": 6
      }
     ]
    },
    "d0e8744b403d4cd7b31b914da1306276": {
     "views": [
      {
       "cell_index": 11
      }
     ]
    },
    "d2090010da6a4fcface5b66945bb086c": {
     "views": [
      {
       "cell_index": 11
      }
     ]
    },
    "d25436aeacb2452f91e8bde0bb9608ed": {
     "views": [
      {
       "cell_index": 11
      }
     ]
    },
    "d54534879da847acb7cece0ceec4cf90": {
     "views": [
      {
       "cell_index": 11
      }
     ]
    },
    "d555344c55a541ca89091731757c191d": {
     "views": [
      {
       "cell_index": 11
      }
     ]
    },
    "d57a377996284345aa0595f92bd29a4a": {
     "views": [
      {
       "cell_index": 11
      }
     ]
    },
    "d7df329ff8904b1d9c3eb77fcbcc709a": {
     "views": [
      {
       "cell_index": 11
      }
     ]
    },
    "d8257fe1f0984bbc87aabf57b36a4020": {
     "views": [
      {
       "cell_index": 11
      }
     ]
    },
    "d88adcccd8c24c09b3b9f5f844bb6fdb": {
     "views": [
      {
       "cell_index": 11
      }
     ]
    },
    "d955e91b96f44b1b95400a73d5244e73": {
     "views": [
      {
       "cell_index": 11
      }
     ]
    },
    "dc7dca035a104103ae646b119cb3d868": {
     "views": [
      {
       "cell_index": 11
      }
     ]
    },
    "dd661ccddf1a4de68f6de94478147e43": {
     "views": [
      {
       "cell_index": 11
      }
     ]
    },
    "dfd62bace2a246cba6dd358dbf42b2e7": {
     "views": [
      {
       "cell_index": 11
      }
     ]
    },
    "e13934be4e99403ca36321bcd589dc12": {
     "views": [
      {
       "cell_index": 11
      }
     ]
    },
    "e1d3b85046f44d4a927285ac827806ec": {
     "views": [
      {
       "cell_index": 6
      }
     ]
    },
    "e21bcffca316487abb2a44ae29a3e9c7": {
     "views": [
      {
       "cell_index": 11
      }
     ]
    },
    "e51e49783acc4301a4c85cbe30a45877": {
     "views": [
      {
       "cell_index": 11
      }
     ]
    },
    "e887aba997934eee80ba5c7447bd7f03": {
     "views": [
      {
       "cell_index": 11
      }
     ]
    },
    "e8d2211673744f31953d1089418de076": {
     "views": [
      {
       "cell_index": 11
      }
     ]
    },
    "e9f57d0b4a7e4c8e9adb16f9b816ad04": {
     "views": [
      {
       "cell_index": 11
      }
     ]
    },
    "f350565f062543a99b385313c3f0a93c": {
     "views": [
      {
       "cell_index": 6
      }
     ]
    },
    "f447b84d2e844a79b32b8cd15437835a": {
     "views": [
      {
       "cell_index": 11
      }
     ]
    },
    "f522efd3af6c4d95a3387a5b8b954428": {
     "views": [
      {
       "cell_index": 11
      }
     ]
    },
    "f773471d69364523bdc9f60042df418f": {
     "views": [
      {
       "cell_index": 8
      }
     ]
    },
    "f9dc200d237a495391b68403949adce4": {
     "views": [
      {
       "cell_index": 11
      }
     ]
    },
    "fb5cafc69940433fa6a02e662a9df7b5": {
     "views": [
      {
       "cell_index": 11
      }
     ]
    },
    "fcf682f40bdc487dbb9679317a024907": {
     "views": [
      {
       "cell_index": 11
      }
     ]
    },
    "fec234cec5a54aaba5b1e3e379b18133": {
     "views": [
      {
       "cell_index": 11
      }
     ]
    },
    "fee6cf7a8a9b48e6a4252bda1815df76": {
     "views": [
      {
       "cell_index": 11
      }
     ]
    },
    "ff16a0f3c1f6486489069dfcc8867e93": {
     "views": [
      {
       "cell_index": 11
      }
     ]
    }
   },
   "version": "1.2.0"
  }
 },
 "nbformat": 4,
 "nbformat_minor": 2
}
