{
 "cells": [
  {
   "cell_type": "markdown",
   "metadata": {},
   "source": [
    "# Shear Stress time series histograms"
   ]
  },
  {
   "cell_type": "code",
   "execution_count": 113,
   "metadata": {
    "collapsed": false
   },
   "outputs": [
    {
     "data": {
      "text/html": [
       "<script>\n",
       "code_show=false; \n",
       "function code_toggle() {\n",
       " if (code_show){\n",
       " $('div.input').show();\n",
       " } else {\n",
       " $('div.input').hide();\n",
       " }\n",
       " code_show = !code_show\n",
       "} \n",
       "$( document ).ready(code_toggle);\n",
       "</script>\n",
       "The raw code for this IPython notebook is by default hidden for easier reading.\n",
       "To toggle on/off the raw code, click <a href=\"javascript:code_toggle()\">here</a>."
      ],
      "text/plain": [
       "<IPython.core.display.HTML object>"
      ]
     },
     "execution_count": 113,
     "metadata": {},
     "output_type": "execute_result"
    }
   ],
   "source": [
    "from IPython.display import HTML\n",
    "\n",
    "HTML('''<script>\n",
    "code_show=false; \n",
    "function code_toggle() {\n",
    " if (code_show){\n",
    " $('div.input').show();\n",
    " } else {\n",
    " $('div.input').hide();\n",
    " }\n",
    " code_show = !code_show\n",
    "} \n",
    "$( document ).ready(code_toggle);\n",
    "</script>\n",
    "The raw code for this IPython notebook is by default hidden for easier reading.\n",
    "To toggle on/off the raw code, click <a href=\"javascript:code_toggle()\">here</a>.''')"
   ]
  },
  {
   "cell_type": "code",
   "execution_count": 114,
   "metadata": {
    "collapsed": false
   },
   "outputs": [],
   "source": [
    "import os\n",
    "import sys\n",
    "import numpy as np\n",
    "import pandas as pd\n",
    "import math\n",
    "import subprocess\n",
    "import matplotlib as mpl\n",
    "mpl.use('Agg')\n",
    "import matplotlib.pyplot as plt\n",
    "from matplotlib.legend_handler import HandlerLine2D\n",
    "import itertools\n",
    "from susipop import filter\n",
    "from susipop import reader\n",
    "from IPython.html.widgets import FloatProgress\n",
    "from IPython.display import display\n",
    "from ipywidgets import interactive\n",
    "import ipywidgets as widgets\n",
    "import scipy.stats as ss\n",
    "\n",
    "%matplotlib notebook\n",
    "\n",
    "import plotly\n",
    "import susipop as sp\n",
    "import pylab\n",
    "\n",
    "import warnings\n",
    "warnings.filterwarnings('ignore')"
   ]
  },
  {
   "cell_type": "code",
   "execution_count": 115,
   "metadata": {
    "collapsed": false
   },
   "outputs": [],
   "source": [
    "class Stress_distribution_Analysis():\n",
    "    def __init__(self,path,):\n",
    "        self.path = path\n",
    "        self.y = []\n",
    "        self.exp = reader.DataSet(self.path, fluid=False, particles=True)\n",
    "        self.exp.load_state(self.exp.tlist[-1])\n",
    "        self.strain = self.exp.tlist[-1]*self.exp.shearrate*self.exp.dt\n",
    "        self.range = int(len(self.exp.tlist)/float(self.strain))\n",
    "    def analyze(self,trange='None'):\n",
    "        if (trange == 'None') and (self.strain > 1):\n",
    "            trange =  self.range\n",
    "        if (self.strain < 1):\n",
    "            trange = 10\n",
    "            print \"less than one strain\"\n",
    "            \n",
    "        for t in self.exp.tlist[trange:]:\n",
    "            self.exp.load_state(t)\n",
    "            x  = self.exp.particles.sshear_tot\n",
    "            x = [np.linalg.norm(i) for i in x]\n",
    "            self.y.extend(x)\n",
    "    def plot(self,xlim , ylim, bins='fd',scale=\"linear\"):\n",
    "#         plt.figure()\n",
    "        hist, bin_edges = np.histogram(np.log10(self.y),bins)\n",
    "        bin_centers = (bin_edges[:-1] + bin_edges[1:]) / 2.\n",
    "        hist = hist/float(len(self.y))*100\n",
    "        plt.step(bin_centers, hist)\n",
    "        plt.xscale(scale)\n",
    "        plt.xlim(xlim)\n",
    "        plt.ylim(ylim)\n",
    "        plt.xlabel(\"log10 Shear Stresses in particles (Pa)\")\n",
    "        plt.ylabel(\"Percent of the system in the corresponding State\")\n",
    "        plt.title(\"Histogram of stresses in \"+self.path+\" \\nover multiple time steps\")\n",
    "        plt.show()\n"
   ]
  },
  {
   "cell_type": "markdown",
   "metadata": {},
   "source": [
    "# Plot Stress Distribution in Experiments"
   ]
  },
  {
   "cell_type": "code",
   "execution_count": 116,
   "metadata": {
    "collapsed": false,
    "scrolled": false
   },
   "outputs": [],
   "source": [
    "def delete_nan_inf(x):\n",
    "    nans = len(x) - len(x[~np.isnan(x)])\n",
    "    x = x[~np.isnan(x)]\n",
    "    positive_infs = len(x) - len(x[x < 1E308])\n",
    "    x = x[x < 1E308]\n",
    "    negative_infs = len(x) - len(x[x > -1E308])\n",
    "    x = x[x > -1E308]\n",
    "    print \"removed\",nans,\"nans\",  positive_infs,\"positive_infs\", negative_infs,\"negative_infs\"\n",
    "    return x  \n",
    "def plot_step(x,bins,col,label):\n",
    "    x = delete_nan_inf(np.log10(x))\n",
    "    hist, bin_edges = np.histogram((x),bins=bins)\n",
    "    bin_centers = (bin_edges[:-1] + bin_edges[1:]) / 2.\n",
    "    #         histtot = histtot/float(len(sheartot))*100\n",
    "    plt.plot(bin_centers, hist,color=col,label=label)\n",
    "def  Stress_distribution_Analysis(phival, shearrate,\n",
    "                                  sheartot_show, shearlub_show, shearfric_show, shearhd_show,shearrep_show,\n",
    "                                  xlim, ylim,bins, trange):\n",
    "    path = \"rhor1_phi\"+str(phival)+\"_yd\"+str(float(shearrate))+\"/\"\n",
    "    sheartot = []\n",
    "    shearfric = []\n",
    "    shearlub = []\n",
    "    shearhd = []\n",
    "    shearrep = []\n",
    "    exp = reader.DataSet(path, fluid=False, particles=True)\n",
    "    exp.load_state(exp.tlist[-1])\n",
    "    strain = exp.tlist[-1]*exp.shearrate*exp.dt\n",
    "    if -1*trange < len(exp.tlist)-1 :\n",
    "        trange = trange\n",
    "    else:\n",
    "        print \"trange should be\", -1*len(exp.tlist)+1\n",
    "        trange = -1*len(exp.tlist)+1\n",
    "    total_datapoints = exp.npart*trange\n",
    "    for t in exp.tlist[trange:]:\n",
    "        exp.load_state(t)\n",
    "        if sheartot_show:\n",
    "            x  = exp.particles.sshear_tot\n",
    "            x = [np.linalg.norm(i) for i in x]\n",
    "            sheartot.extend(x)\n",
    "        if shearfric_show:\n",
    "            x  = exp.particles.sshear_fric\n",
    "            x = [np.linalg.norm(i) for i in x]\n",
    "            shearfric.extend(x)\n",
    "        if shearlub_show:\n",
    "            x  = exp.particles.sshear_lub\n",
    "            x = [np.linalg.norm(i) for i in x]\n",
    "            shearlub.extend(x)\n",
    "        if shearhd_show:\n",
    "            x  = exp.particles.sshear_hd\n",
    "            x = [np.linalg.norm(i) for i in x]\n",
    "            shearhd.extend(x)\n",
    "        if shearrep_show:\n",
    "            x  = exp.particles.sshear_rep\n",
    "            x = [np.linalg.norm(i) for i in x]\n",
    "            shearrep.extend(x)\n",
    "    plt.figure()\n",
    "    num = len(sheartot)\n",
    "    if sheartot_show:\n",
    "        print \"sheartot\"\n",
    "        plot_step(sheartot,bins,'k',\"tot\")\n",
    "    if shearfric_show:\n",
    "        print \"shearfric\"\n",
    "        plot_step(shearfric,bins,'r',\"fric\")\n",
    "\n",
    "    if shearlub_show:\n",
    "        print \"shearlub\"\n",
    "        plot_step(shearlub,bins,'b',\"lub\")\n",
    "\n",
    "    if shearhd_show:\n",
    "        print \"shearhd\"\n",
    "        plot_step(shearhd,bins,'g',\"hd\")\n",
    "\n",
    "    if shearrep_show:\n",
    "        print \"shearrep\"\n",
    "        plot_step(shearrep,bins,'c',\"rep\")\n",
    "\n",
    "\n",
    "    plt.xscale(\"linear\")\n",
    "    plt.xlim(xlim)\n",
    "#     plt.ylim(ylim)\n",
    "    plt.xlabel(\"log10 Shear Stresses in particles (Pa)\")\n",
    "    plt.ylabel(\"Percent of the system in the corresponding State\")\n",
    "    plt.title(\"Histogram of stresses in \"+path+\" \\nover multiple time steps\")\n",
    "    plt.legend()\n",
    "    plt.show()\n",
    "\n",
    "\n",
    "\n",
    "v = interactive(Stress_distribution_Analysis, \\\n",
    "                phival = widgets.ToggleButtons(options=[40,45,50,54,55,56,58],value=56,disabled=False), \\\n",
    "                shearrate= widgets.ToggleButtons(options=[1,10,11,11.5,12,12.5,13,14,15,16,18,20,30,50,70,100,200,300,1000],value = 12),\\\n",
    "                xlim = widgets.FloatRangeSlider(min = -10, max = 10,step=1, value = [-3,5]),\n",
    "                ylim = widgets.FloatRangeSlider(min = 0, max = 20, value = [0,15]),\n",
    "                sheartot_show = widgets.ToggleButton(value=True),\n",
    "                shearlub_show = widgets.ToggleButton(value=False),\n",
    "                shearfric_show = widgets.ToggleButton(value=False),\n",
    "                shearhd_show = widgets.ToggleButton(value=False),\n",
    "                shearrep_show = widgets.ToggleButton(value=False),\n",
    "                bins=widgets.IntSlider(min=10,max = 150, value = 80),\n",
    "                trange = widgets.IntSlider(min = -1000, max = -1,step=-1, value = -50), __manual=True)\n",
    "\n",
    "display(v)"
   ]
  },
  {
   "cell_type": "markdown",
   "metadata": {},
   "source": [
    "# Compare Stress Distribution"
   ]
  },
  {
   "cell_type": "code",
   "execution_count": 117,
   "metadata": {
    "collapsed": false
   },
   "outputs": [],
   "source": [
    "\n",
    "def  Stress_distribution_Analysis(phival, ydvals, xlim, ylim,bins, trange):\n",
    "    plt.figure(figsize=[13,6*(len(ydvals)+len(ydvals)%2)/2])\n",
    "    plt.title(\"phival = \"+str(phival))\n",
    "    j = len(ydvals)\n",
    "    for i,shearrate in enumerate(ydvals):\n",
    "        try:\n",
    "            plt.subplot(int(j/2.0)+1,2,i+1)\n",
    "            path = \"rhor1_phi\"+str(phival)+\"_yd\"+str(float(shearrate))+\"/\"\n",
    "            exp = reader.DataSet(\"rhor1_phi\"+str(phival)+\"_yd\"+str(float(shearrate)))\n",
    "            if -1*trange < len(exp.tlist)-1 :\n",
    "                trange = trange\n",
    "            else:\n",
    "                trange = -1*(len(exp.tlist)-1)\n",
    "            print \"trange should be\", -1*len(exp.tlist)+1 , \". Trange reset to maximum value\"\n",
    "            sheartot = []\n",
    "            exp.load_state(exp.tlist[-1])\n",
    "            strain = exp.tlist[-1]*exp.shearrate*exp.dt\n",
    "        #     srange = int(len(exp.tlist)/float(strain))\n",
    "        #     if (trange == 'None') and (self.strain > 1):\n",
    "        #         trange =  srange\n",
    "        #     if (strain < 1):\n",
    "        #         trange = 10\n",
    "        #         print \"less than one strain\"\n",
    "            if -1*trange < len(exp.tlist)-1 :\n",
    "                for t in exp.tlist[trange:]:\n",
    "                    exp.load_state(t)\n",
    "                    x  = exp.particles.sshear_tot\n",
    "                    x = [np.linalg.norm(i) for i in x]\n",
    "                    sheartot.extend(x)\n",
    "                hist, bin_edges = np.histogram(np.log10(sheartot),bins=bins)\n",
    "                bin_centers = (bin_edges[:-1] + bin_edges[1:]) / 2.\n",
    "                hist = hist/float(len(sheartot))*100\n",
    "                plt.step(bin_centers, hist)\n",
    "                plt.xscale(\"linear\")\n",
    "                plt.xlim(xlim)\n",
    "                plt.ylim(ylim)\n",
    "                plt.xlabel(\"log10 Shear Stresses in particles (Pa)\")\n",
    "                plt.ylabel(\"Percent of the system in the corresponding State\")\n",
    "                plt.title(\"Histogram of stresses in \"+path+\" \\nover multiple time steps\")\n",
    "                plt.show()\n",
    "            \n",
    "        except Exception as e:\n",
    "            print e\n",
    "            continue\n",
    "\n",
    "        \n",
    "\n",
    "\n",
    "v = interactive(Stress_distribution_Analysis, \\\n",
    "                phival = widgets.ToggleButtons(options=[40,45,50,54,55,56,58],value=56,disabled=False), \\\n",
    "                ydvals= widgets.SelectMultiple(options=[1,10,11,11.5,12,12.5,13,14,15,16,18,20,30,50,70,100,200,300,1000]),\\\n",
    "                xlim = widgets.FloatRangeSlider(min = -10, max = 10,step=1, value = [-3,5]),\n",
    "                ylim = widgets.FloatRangeSlider(min = 0, max = 20, value = [0,15]),\n",
    "                bins=(10,100),\n",
    "                trange = widgets.IntSlider(min = -1000, max = -1,step=-1, value = -1), __manual=True)\n",
    "\n",
    "display(v)"
   ]
  },
  {
   "cell_type": "raw",
   "metadata": {
    "collapsed": false,
    "scrolled": false
   },
   "source": [
    "path_list = [ 'rhor1_phi56_yd1.0','rhor1_phi56_yd10.0','rhor1_phi56_yd12.0',\\\n",
    "              'rhor1_phi56_yd14.0','rhor1_phi56_yd15.0','rhor1_phi56_yd16.0',\\\n",
    "              'rhor1_phi56_yd18.0','rhor1_phi56_yd20.0','rhor1_phi56_yd30.0',\\\n",
    "              'rhor1_phi56_yd50.0']\n",
    "plt.figure(figsize=[13,5*(1+len(path_list)/2)])\n",
    "for i,path in enumerate(path_list):\n",
    "    plt.subplot(int(len(path_list)/2.0)+1,2,i+1)\n",
    "    StressAnalysis_56 = Stress_distribution_Analysis(path)\n",
    "    StressAnalysis_56.analyze()\n",
    "    StressAnalysis_56.plot(xlim = [-3,5], ylim = [0,6], bins=80)\n",
    "    print i/float(len(path_list))*100 , \"% complete\""
   ]
  },
  {
   "cell_type": "raw",
   "metadata": {
    "collapsed": false,
    "scrolled": false
   },
   "source": [
    "path_list = [ 'rhor1_phi56_yd10.0','rhor1_phi56_yd11.0','rhor1_phi56_yd11.5',\\\n",
    "              'rhor1_phi56_yd12.0','rhor1_phi56_yd12.5','rhor1_phi56_yd13.0']\n",
    "plt.figure(figsize=[13,5*(1+len(path_list)/2)])\n",
    "for i,path in enumerate(path_list):\n",
    "    plt.subplot(int(len(path_list)/2.0)+1,2,i+1)\n",
    "    StressAnalysis_56 = Stress_distribution_Analysis(path)\n",
    "    StressAnalysis_56.analyze()\n",
    "    StressAnalysis_56.plot(xlim = [-3,5], ylim = [0,6], bins=80)\n",
    "    print i/float(len(path_list))*100 , \"% complete\""
   ]
  },
  {
   "cell_type": "raw",
   "metadata": {
    "collapsed": false,
    "scrolled": false
   },
   "source": [
    "path_list = [ 'rhor1_phi55_yd1.0','rhor1_phi55_yd10.0','rhor1_phi55_yd15.0',\\\n",
    "              'rhor1_phi55_yd20.0','rhor1_phi55_yd30.0','rhor1_phi55_yd50.0',\\\n",
    "              'rhor1_phi55_yd70.0']\n",
    "plt.figure(figsize=[13,5*(1+len(path_list)/2)])\n",
    "for i,path in enumerate(path_list):\n",
    "    plt.subplot(int(len(path_list)/2.0)+1,2,i+1)\n",
    "    StressAnalysis_55 = Stress_distribution_Analysis(path)\n",
    "    StressAnalysis_55.analyze()\n",
    "    StressAnalysis_55.plot(xlim = [-3,5], ylim = [0,6],bins=80)\n",
    "    print i/float(len(path_list))*100 , \"% complete\""
   ]
  },
  {
   "cell_type": "raw",
   "metadata": {
    "collapsed": false,
    "scrolled": false
   },
   "source": [
    "path_list = [ 'rhor1_phi54_yd1.0','rhor1_phi54_yd10.0','rhor1_phi54_yd15.0',\\\n",
    "              'rhor1_phi54_yd20.0','rhor1_phi54_yd30.0','rhor1_phi54_yd50.0',\\\n",
    "              'rhor1_phi54_yd70.0']\n",
    "plt.figure(figsize=[13,5*(1+len(path_list)/2)])\n",
    "for i,path in enumerate(path_list):\n",
    "    plt.subplot(int(len(path_list)/2.0)+1,2,i+1)\n",
    "    StressAnalysis_54 = Stress_distribution_Analysis(path)\n",
    "    StressAnalysis_54.analyze()\n",
    "    StressAnalysis_54.plot(xlim = [-3,5], ylim = [0,6],bins=80)\n",
    "    print i/float(len(path_list))*100 , \"% complete\""
   ]
  },
  {
   "cell_type": "raw",
   "metadata": {
    "collapsed": false,
    "scrolled": false
   },
   "source": [
    "path_list = [ 'rhor1_phi50_yd1.0','rhor1_phi50_yd10.0','rhor1_phi50_yd20.0',\\\n",
    "              'rhor1_phi50_yd30.0','rhor1_phi50_yd50.0','rhor1_phi50_yd70.0',\\\n",
    "              'rhor1_phi50_yd100.0','rhor1_phi50_yd300.0','rhor1_phi50_yd1000.0',]\n",
    "plt.figure(figsize=[13,5*(1+len(path_list)/2)])\n",
    "for i,path in enumerate(path_list):\n",
    "    plt.subplot(int(len(path_list)/2.0)+1,2,i+1)\n",
    "    StressAnalysis_50 = Stress_distribution_Analysis(path)\n",
    "    StressAnalysis_50.analyze()\n",
    "    StressAnalysis_50.plot(xlim = [-3,5], ylim = [0,20],bins=80)\n",
    "    print i/float(len(path_list))*100 , \"% complete\""
   ]
  },
  {
   "cell_type": "code",
   "execution_count": 118,
   "metadata": {
    "collapsed": false
   },
   "outputs": [],
   "source": [
    "caption = widgets.Label(value='The values of range1 and range2 are synchronized')\n",
    "slider = widgets.IntSlider(min=-5, max=5, value=1, description='Slider')\n",
    "\n",
    "def handle_slider_change(change):\n",
    "    caption.value = 'The slider value is ' + (\n",
    "        'negative' if change.new < 0 else 'nonnegative'\n",
    "    )\n",
    "\n",
    "slider.observe(handle_slider_change, names='value')\n",
    "\n",
    "display(caption, slider)"
   ]
  }
 ],
 "metadata": {
  "anaconda-cloud": {},
  "kernelspec": {
   "display_name": "Python [default]",
   "language": "python",
   "name": "python2"
  },
  "language_info": {
   "codemirror_mode": {
    "name": "ipython",
    "version": 2
   },
   "file_extension": ".py",
   "mimetype": "text/x-python",
   "name": "python",
   "nbconvert_exporter": "python",
   "pygments_lexer": "ipython2",
   "version": "2.7.13"
  },
  "widgets": {
   "state": {
    "350a3b247ae34cec925800278d886c77": {
     "views": [
      {
       "cell_index": 13
      }
     ]
    },
    "90f2105aef3b422984f0759d72827a6a": {
     "views": [
      {
       "cell_index": 7
      }
     ]
    },
    "a0a45a34e56f4ef494d2b2c8555bd0eb": {
     "views": [
      {
       "cell_index": 13
      }
     ]
    },
    "b8a5c6f980c44fad86cd9457c98d2b73": {
     "views": [
      {
       "cell_index": 13
      }
     ]
    },
    "b9db71d24a85422680ed0441730c783a": {
     "views": [
      {
       "cell_index": 5
      }
     ]
    }
   },
   "version": "1.2.0"
  }
 },
 "nbformat": 4,
 "nbformat_minor": 2
}
