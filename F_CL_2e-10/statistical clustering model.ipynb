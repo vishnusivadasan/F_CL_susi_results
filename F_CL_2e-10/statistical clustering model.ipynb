{
 "cells": [
  {
   "cell_type": "code",
   "execution_count": 1,
   "metadata": {
    "collapsed": false
   },
   "outputs": [
    {
     "name": "stderr",
     "output_type": "stream",
     "text": [
      "/home/vsivadas/.local/lib/python2.7/site-packages/matplotlib/font_manager.py:273: UserWarning: Matplotlib is building the font cache using fc-list. This may take a moment.\n",
      "  warnings.warn('Matplotlib is building the font cache using fc-list. This may take a moment.')\n",
      "/home/vsivadas/.local/lib/python2.7/site-packages/IPython/html.py:14: ShimWarning: The `IPython.html` package has been deprecated. You should import from `notebook` instead. `IPython.html.widgets` has moved to `ipywidgets`.\n",
      "  \"`IPython.html.widgets` has moved to `ipywidgets`.\", ShimWarning)\n"
     ]
    }
   ],
   "source": [
    "import os\n",
    "import sys\n",
    "import numpy as np\n",
    "import pandas as pd\n",
    "import subprocess\n",
    "import matplotlib as mpl\n",
    "mpl.use('Agg')\n",
    "import matplotlib.pyplot as plt\n",
    "from matplotlib.legend_handler import HandlerLine2D\n",
    "\n",
    "import itertools\n",
    "from susipop import filter\n",
    "from susipop import reader\n",
    "from IPython.html.widgets import FloatProgress\n",
    "from IPython.display import display\n",
    "from ipywidgets import interactive\n",
    "import ipywidgets as widgets\n",
    "%matplotlib notebook\n",
    "\n",
    "import plotly\n",
    "import susipop as sp\n",
    "\n",
    "from multiprocessing import Pool\n"
   ]
  },
  {
   "cell_type": "code",
   "execution_count": 22,
   "metadata": {
    "collapsed": false
   },
   "outputs": [
    {
     "name": "stdout",
     "output_type": "stream",
     "text": [
      "17.3913043478\n",
      "0.0\n",
      "0.0\n"
     ]
    }
   ],
   "source": [
    "yd=1.0\n",
    "b=1\n",
    "C=1\n",
    "D=1.15\n",
    "M=1\n",
    "def p_stick(N): \n",
    "    return (C*yd*M)**b*N*(1.0/D)\n",
    "N_max = 100\n",
    "P = np.zeros(100);P[0]=1\n",
    "def P_merge(P,N):\n",
    "    sum_p = 0\n",
    "    for i in range(N-1):\n",
    "        sum_p += P[i]*P[-i]*p_stick(N)\n",
    "    return sum_p\n",
    "\n",
    "def P_split(P,N):\n",
    "    sum_p = 0\n",
    "    for i,N0 in enumerate(range(N+1,N_max)):\n",
    "        sum_p+=yd*N0**(1.0/D-1)*P[N+i]\n",
    "    return sum_p\n",
    "\n",
    "def P_absorb(P,N):\n",
    "    sum_p=0\n",
    "    for i,Ni in enumerate(range(N+1,N_max)):\n",
    "        sum_p += P[N]*P[N_max-Ni]*p_stick(Ni)\n",
    "    return sum_p\n",
    "\n",
    "def P_dissolve(P,N):\n",
    "    sum_p = 0\n",
    "    for i,N in enumerate(range(N+1,N_max)):\n",
    "        sum_p+=yd*N0**(1.0/D-1)*P[N+i]    \n",
    "print P_merge(P,20)\n",
    "print P_split(P,10)\n",
    "print P_absorb(P,10)\n"
   ]
  }
 ],
 "metadata": {
  "kernelspec": {
   "display_name": "Python [default]",
   "language": "python",
   "name": "python2"
  },
  "language_info": {
   "codemirror_mode": {
    "name": "ipython",
    "version": 2
   },
   "file_extension": ".py",
   "mimetype": "text/x-python",
   "name": "python",
   "nbconvert_exporter": "python",
   "pygments_lexer": "ipython2",
   "version": "2.7.13"
  }
 },
 "nbformat": 4,
 "nbformat_minor": 2
}
